{
  "nbformat": 4,
  "nbformat_minor": 0,
  "metadata": {
    "colab": {
      "name": "Basic_evaluation_and_translation_with_Transformers.ipynb",
      "provenance": [],
      "collapsed_sections": [],
      "toc_visible": true
    },
    "kernelspec": {
      "name": "python3",
      "display_name": "Python 3"
    },
    "language_info": {
      "name": "python"
    },
    "widgets": {
      "application/vnd.jupyter.widget-state+json": {
        "946d6e7934774054b04f1f5a49ef08be": {
          "model_module": "@jupyter-widgets/controls",
          "model_name": "HBoxModel",
          "state": {
            "_view_name": "HBoxView",
            "_dom_classes": [],
            "_model_name": "HBoxModel",
            "_view_module": "@jupyter-widgets/controls",
            "_model_module_version": "1.5.0",
            "_view_count": null,
            "_view_module_version": "1.5.0",
            "box_style": "",
            "layout": "IPY_MODEL_9238d31c21034f69953344c913f99e00",
            "_model_module": "@jupyter-widgets/controls",
            "children": [
              "IPY_MODEL_d6e38809c6ae400982f8c38c7bfd4d0d",
              "IPY_MODEL_5a06bece6c944b0fb793617f8fc016f9"
            ]
          }
        },
        "9238d31c21034f69953344c913f99e00": {
          "model_module": "@jupyter-widgets/base",
          "model_name": "LayoutModel",
          "state": {
            "_view_name": "LayoutView",
            "grid_template_rows": null,
            "right": null,
            "justify_content": null,
            "_view_module": "@jupyter-widgets/base",
            "overflow": null,
            "_model_module_version": "1.2.0",
            "_view_count": null,
            "flex_flow": null,
            "width": null,
            "min_width": null,
            "border": null,
            "align_items": null,
            "bottom": null,
            "_model_module": "@jupyter-widgets/base",
            "top": null,
            "grid_column": null,
            "overflow_y": null,
            "overflow_x": null,
            "grid_auto_flow": null,
            "grid_area": null,
            "grid_template_columns": null,
            "flex": null,
            "_model_name": "LayoutModel",
            "justify_items": null,
            "grid_row": null,
            "max_height": null,
            "align_content": null,
            "visibility": null,
            "align_self": null,
            "height": null,
            "min_height": null,
            "padding": null,
            "grid_auto_rows": null,
            "grid_gap": null,
            "max_width": null,
            "order": null,
            "_view_module_version": "1.2.0",
            "grid_template_areas": null,
            "object_position": null,
            "object_fit": null,
            "grid_auto_columns": null,
            "margin": null,
            "display": null,
            "left": null
          }
        },
        "d6e38809c6ae400982f8c38c7bfd4d0d": {
          "model_module": "@jupyter-widgets/controls",
          "model_name": "FloatProgressModel",
          "state": {
            "_view_name": "ProgressView",
            "style": "IPY_MODEL_03257ca2e1d44ee1b23f7b20e09cd991",
            "_dom_classes": [],
            "description": "",
            "_model_name": "FloatProgressModel",
            "bar_style": "success",
            "max": 1,
            "_view_module": "@jupyter-widgets/controls",
            "_model_module_version": "1.5.0",
            "value": 1,
            "_view_count": null,
            "_view_module_version": "1.5.0",
            "orientation": "horizontal",
            "min": 0,
            "description_tooltip": null,
            "_model_module": "@jupyter-widgets/controls",
            "layout": "IPY_MODEL_73389f608cdb4a5abcfd3c2670e6bed1"
          }
        },
        "5a06bece6c944b0fb793617f8fc016f9": {
          "model_module": "@jupyter-widgets/controls",
          "model_name": "HTMLModel",
          "state": {
            "_view_name": "HTMLView",
            "style": "IPY_MODEL_42662e8f7b1c449b9a7be862d3cef813",
            "_dom_classes": [],
            "description": "",
            "_model_name": "HTMLModel",
            "placeholder": "​",
            "_view_module": "@jupyter-widgets/controls",
            "_model_module_version": "1.5.0",
            "value": " 235/? [32:49&lt;00:00,  8.38s/it]",
            "_view_count": null,
            "_view_module_version": "1.5.0",
            "description_tooltip": null,
            "_model_module": "@jupyter-widgets/controls",
            "layout": "IPY_MODEL_cbfb2d37ee524918bb5a627499fea3a8"
          }
        },
        "03257ca2e1d44ee1b23f7b20e09cd991": {
          "model_module": "@jupyter-widgets/controls",
          "model_name": "ProgressStyleModel",
          "state": {
            "_view_name": "StyleView",
            "_model_name": "ProgressStyleModel",
            "description_width": "initial",
            "_view_module": "@jupyter-widgets/base",
            "_model_module_version": "1.5.0",
            "_view_count": null,
            "_view_module_version": "1.2.0",
            "bar_color": null,
            "_model_module": "@jupyter-widgets/controls"
          }
        },
        "73389f608cdb4a5abcfd3c2670e6bed1": {
          "model_module": "@jupyter-widgets/base",
          "model_name": "LayoutModel",
          "state": {
            "_view_name": "LayoutView",
            "grid_template_rows": null,
            "right": null,
            "justify_content": null,
            "_view_module": "@jupyter-widgets/base",
            "overflow": null,
            "_model_module_version": "1.2.0",
            "_view_count": null,
            "flex_flow": null,
            "width": null,
            "min_width": null,
            "border": null,
            "align_items": null,
            "bottom": null,
            "_model_module": "@jupyter-widgets/base",
            "top": null,
            "grid_column": null,
            "overflow_y": null,
            "overflow_x": null,
            "grid_auto_flow": null,
            "grid_area": null,
            "grid_template_columns": null,
            "flex": null,
            "_model_name": "LayoutModel",
            "justify_items": null,
            "grid_row": null,
            "max_height": null,
            "align_content": null,
            "visibility": null,
            "align_self": null,
            "height": null,
            "min_height": null,
            "padding": null,
            "grid_auto_rows": null,
            "grid_gap": null,
            "max_width": null,
            "order": null,
            "_view_module_version": "1.2.0",
            "grid_template_areas": null,
            "object_position": null,
            "object_fit": null,
            "grid_auto_columns": null,
            "margin": null,
            "display": null,
            "left": null
          }
        },
        "42662e8f7b1c449b9a7be862d3cef813": {
          "model_module": "@jupyter-widgets/controls",
          "model_name": "DescriptionStyleModel",
          "state": {
            "_view_name": "StyleView",
            "_model_name": "DescriptionStyleModel",
            "description_width": "",
            "_view_module": "@jupyter-widgets/base",
            "_model_module_version": "1.5.0",
            "_view_count": null,
            "_view_module_version": "1.2.0",
            "_model_module": "@jupyter-widgets/controls"
          }
        },
        "cbfb2d37ee524918bb5a627499fea3a8": {
          "model_module": "@jupyter-widgets/base",
          "model_name": "LayoutModel",
          "state": {
            "_view_name": "LayoutView",
            "grid_template_rows": null,
            "right": null,
            "justify_content": null,
            "_view_module": "@jupyter-widgets/base",
            "overflow": null,
            "_model_module_version": "1.2.0",
            "_view_count": null,
            "flex_flow": null,
            "width": null,
            "min_width": null,
            "border": null,
            "align_items": null,
            "bottom": null,
            "_model_module": "@jupyter-widgets/base",
            "top": null,
            "grid_column": null,
            "overflow_y": null,
            "overflow_x": null,
            "grid_auto_flow": null,
            "grid_area": null,
            "grid_template_columns": null,
            "flex": null,
            "_model_name": "LayoutModel",
            "justify_items": null,
            "grid_row": null,
            "max_height": null,
            "align_content": null,
            "visibility": null,
            "align_self": null,
            "height": null,
            "min_height": null,
            "padding": null,
            "grid_auto_rows": null,
            "grid_gap": null,
            "max_width": null,
            "order": null,
            "_view_module_version": "1.2.0",
            "grid_template_areas": null,
            "object_position": null,
            "object_fit": null,
            "grid_auto_columns": null,
            "margin": null,
            "display": null,
            "left": null
          }
        },
        "8b6bcac50beb491681282a4415a0ab22": {
          "model_module": "@jupyter-widgets/controls",
          "model_name": "HBoxModel",
          "state": {
            "_view_name": "HBoxView",
            "_dom_classes": [],
            "_model_name": "HBoxModel",
            "_view_module": "@jupyter-widgets/controls",
            "_model_module_version": "1.5.0",
            "_view_count": null,
            "_view_module_version": "1.5.0",
            "box_style": "",
            "layout": "IPY_MODEL_dc6878553fcd48f2bd645d1f41098b7c",
            "_model_module": "@jupyter-widgets/controls",
            "children": [
              "IPY_MODEL_245e124d587c414b94babcd96540b91a",
              "IPY_MODEL_a242573c969f4672a846b49c88886cf1"
            ]
          }
        },
        "dc6878553fcd48f2bd645d1f41098b7c": {
          "model_module": "@jupyter-widgets/base",
          "model_name": "LayoutModel",
          "state": {
            "_view_name": "LayoutView",
            "grid_template_rows": null,
            "right": null,
            "justify_content": null,
            "_view_module": "@jupyter-widgets/base",
            "overflow": null,
            "_model_module_version": "1.2.0",
            "_view_count": null,
            "flex_flow": null,
            "width": null,
            "min_width": null,
            "border": null,
            "align_items": null,
            "bottom": null,
            "_model_module": "@jupyter-widgets/base",
            "top": null,
            "grid_column": null,
            "overflow_y": null,
            "overflow_x": null,
            "grid_auto_flow": null,
            "grid_area": null,
            "grid_template_columns": null,
            "flex": null,
            "_model_name": "LayoutModel",
            "justify_items": null,
            "grid_row": null,
            "max_height": null,
            "align_content": null,
            "visibility": null,
            "align_self": null,
            "height": null,
            "min_height": null,
            "padding": null,
            "grid_auto_rows": null,
            "grid_gap": null,
            "max_width": null,
            "order": null,
            "_view_module_version": "1.2.0",
            "grid_template_areas": null,
            "object_position": null,
            "object_fit": null,
            "grid_auto_columns": null,
            "margin": null,
            "display": null,
            "left": null
          }
        },
        "245e124d587c414b94babcd96540b91a": {
          "model_module": "@jupyter-widgets/controls",
          "model_name": "FloatProgressModel",
          "state": {
            "_view_name": "ProgressView",
            "style": "IPY_MODEL_49d8a0a0b1d54613afd582325657551a",
            "_dom_classes": [],
            "description": "",
            "_model_name": "FloatProgressModel",
            "bar_style": "success",
            "max": 1,
            "_view_module": "@jupyter-widgets/controls",
            "_model_module_version": "1.5.0",
            "value": 1,
            "_view_count": null,
            "_view_module_version": "1.5.0",
            "orientation": "horizontal",
            "min": 0,
            "description_tooltip": null,
            "_model_module": "@jupyter-widgets/controls",
            "layout": "IPY_MODEL_bc90007f4bdf44dfbb2d718903cfe8c5"
          }
        },
        "a242573c969f4672a846b49c88886cf1": {
          "model_module": "@jupyter-widgets/controls",
          "model_name": "HTMLModel",
          "state": {
            "_view_name": "HTMLView",
            "style": "IPY_MODEL_a0538d115f1747ab89fdeb9447e2aeaa",
            "_dom_classes": [],
            "description": "",
            "_model_name": "HTMLModel",
            "placeholder": "​",
            "_view_module": "@jupyter-widgets/controls",
            "_model_module_version": "1.5.0",
            "value": " 235/? [17:28&lt;00:00,  4.46s/it]",
            "_view_count": null,
            "_view_module_version": "1.5.0",
            "description_tooltip": null,
            "_model_module": "@jupyter-widgets/controls",
            "layout": "IPY_MODEL_e0cc9b7abef941daaea0608d55e69fab"
          }
        },
        "49d8a0a0b1d54613afd582325657551a": {
          "model_module": "@jupyter-widgets/controls",
          "model_name": "ProgressStyleModel",
          "state": {
            "_view_name": "StyleView",
            "_model_name": "ProgressStyleModel",
            "description_width": "initial",
            "_view_module": "@jupyter-widgets/base",
            "_model_module_version": "1.5.0",
            "_view_count": null,
            "_view_module_version": "1.2.0",
            "bar_color": null,
            "_model_module": "@jupyter-widgets/controls"
          }
        },
        "bc90007f4bdf44dfbb2d718903cfe8c5": {
          "model_module": "@jupyter-widgets/base",
          "model_name": "LayoutModel",
          "state": {
            "_view_name": "LayoutView",
            "grid_template_rows": null,
            "right": null,
            "justify_content": null,
            "_view_module": "@jupyter-widgets/base",
            "overflow": null,
            "_model_module_version": "1.2.0",
            "_view_count": null,
            "flex_flow": null,
            "width": null,
            "min_width": null,
            "border": null,
            "align_items": null,
            "bottom": null,
            "_model_module": "@jupyter-widgets/base",
            "top": null,
            "grid_column": null,
            "overflow_y": null,
            "overflow_x": null,
            "grid_auto_flow": null,
            "grid_area": null,
            "grid_template_columns": null,
            "flex": null,
            "_model_name": "LayoutModel",
            "justify_items": null,
            "grid_row": null,
            "max_height": null,
            "align_content": null,
            "visibility": null,
            "align_self": null,
            "height": null,
            "min_height": null,
            "padding": null,
            "grid_auto_rows": null,
            "grid_gap": null,
            "max_width": null,
            "order": null,
            "_view_module_version": "1.2.0",
            "grid_template_areas": null,
            "object_position": null,
            "object_fit": null,
            "grid_auto_columns": null,
            "margin": null,
            "display": null,
            "left": null
          }
        },
        "a0538d115f1747ab89fdeb9447e2aeaa": {
          "model_module": "@jupyter-widgets/controls",
          "model_name": "DescriptionStyleModel",
          "state": {
            "_view_name": "StyleView",
            "_model_name": "DescriptionStyleModel",
            "description_width": "",
            "_view_module": "@jupyter-widgets/base",
            "_model_module_version": "1.5.0",
            "_view_count": null,
            "_view_module_version": "1.2.0",
            "_model_module": "@jupyter-widgets/controls"
          }
        },
        "e0cc9b7abef941daaea0608d55e69fab": {
          "model_module": "@jupyter-widgets/base",
          "model_name": "LayoutModel",
          "state": {
            "_view_name": "LayoutView",
            "grid_template_rows": null,
            "right": null,
            "justify_content": null,
            "_view_module": "@jupyter-widgets/base",
            "overflow": null,
            "_model_module_version": "1.2.0",
            "_view_count": null,
            "flex_flow": null,
            "width": null,
            "min_width": null,
            "border": null,
            "align_items": null,
            "bottom": null,
            "_model_module": "@jupyter-widgets/base",
            "top": null,
            "grid_column": null,
            "overflow_y": null,
            "overflow_x": null,
            "grid_auto_flow": null,
            "grid_area": null,
            "grid_template_columns": null,
            "flex": null,
            "_model_name": "LayoutModel",
            "justify_items": null,
            "grid_row": null,
            "max_height": null,
            "align_content": null,
            "visibility": null,
            "align_self": null,
            "height": null,
            "min_height": null,
            "padding": null,
            "grid_auto_rows": null,
            "grid_gap": null,
            "max_width": null,
            "order": null,
            "_view_module_version": "1.2.0",
            "grid_template_areas": null,
            "object_position": null,
            "object_fit": null,
            "grid_auto_columns": null,
            "margin": null,
            "display": null,
            "left": null
          }
        }
      }
    }
  },
  "cells": [
    {
      "cell_type": "markdown",
      "metadata": {
        "id": "DcMAr0qUM50j"
      },
      "source": [
        "In this notebook English dataset Wikilarge collected from Wikipedia will be explored and translated to Russian with a MT model from Hugging Face. Also, a translated via Google translate API data will be considered. All the data will be evaluated\n"
      ]
    },
    {
      "cell_type": "markdown",
      "metadata": {
        "id": "oi419VpvAtIg"
      },
      "source": [
        "# Libraries and dependencies"
      ]
    },
    {
      "cell_type": "code",
      "metadata": {
        "id": "wiitTEva_9sO"
      },
      "source": [
        "! pip install googletrans\n",
        "! pip install transformers\n",
        "! pip install laserembeddings\n",
        "! pip install sentence_transformers\n",
        "! pip install language_tool_python\n",
        "! pip install textstat"
      ],
      "execution_count": null,
      "outputs": []
    },
    {
      "cell_type": "code",
      "metadata": {
        "id": "V2nZffkUAXHk",
        "colab": {
          "base_uri": "https://localhost:8080/"
        },
        "outputId": "d7a06902-1a64-4005-9548-dd28b7a28c49"
      },
      "source": [
        "! python -m laserembeddings download-models"
      ],
      "execution_count": null,
      "outputs": [
        {
          "output_type": "stream",
          "text": [
            "Downloading models into /usr/local/lib/python3.7/dist-packages/laserembeddings/data\n",
            "\n",
            "✅   Downloaded https://dl.fbaipublicfiles.com/laser/models/93langs.fcodes    \n",
            "✅   Downloaded https://dl.fbaipublicfiles.com/laser/models/93langs.fvocab    \n",
            "✅   Downloaded https://dl.fbaipublicfiles.com/laser/models/bilstm.93langs.2018-12-26.pt    \n",
            "\n",
            "✨ You're all set!\n"
          ],
          "name": "stdout"
        }
      ]
    },
    {
      "cell_type": "code",
      "metadata": {
        "id": "5zm9sz1jARob"
      },
      "source": [
        "import pandas as pd\n",
        "import numpy as np\n",
        "import torch\n",
        "import language_tool_python\n",
        "import re\n",
        "import textstat\n",
        "from laserembeddings import Laser\n",
        "from sklearn.metrics.pairwise import cosine_similarity\n",
        "from sentence_transformers import SentenceTransformer\n",
        "from transformers import MarianMTModel, MarianTokenizer\n",
        "from transformers.hf_api import HfApi\n",
        "from googletrans import Translator\n",
        "from tqdm import tqdm_notebook\n",
        "\n",
        "pd.set_option('display.max_rows', None)\n",
        "pd.set_option('display.max_columns', 500)\n",
        "pd.set_option('display.width', 1000)\n",
        "pd.set_option('display.max_colwidth', None)"
      ],
      "execution_count": null,
      "outputs": []
    },
    {
      "cell_type": "markdown",
      "metadata": {
        "id": "fOlOi27HM-nb"
      },
      "source": [
        "# Data loading..."
      ]
    },
    {
      "cell_type": "code",
      "metadata": {
        "id": "HE2spt1q6qQQ",
        "colab": {
          "base_uri": "https://localhost:8080/"
        },
        "outputId": "5e802d81-546a-4380-8462-53b23fa720af"
      },
      "source": [
        "from google.colab import drive\n",
        "drive.mount('/content/drive')"
      ],
      "execution_count": null,
      "outputs": [
        {
          "output_type": "stream",
          "text": [
            "Mounted at /content/drive\n"
          ],
          "name": "stdout"
        }
      ]
    },
    {
      "cell_type": "code",
      "metadata": {
        "id": "0LkL-r4nxYgD"
      },
      "source": [
        "# ! tar -xf /content/drive/MyDrive/MT_sentence_simpl/data-simplification.tar.bz2\n",
        "! gdown https://drive.google.com/uc?id=0B6-YKFW-MnbOYWxUMTBEZ1FBam8\n",
        "! tar -xf /content/data-simplification.tar.bz2"
      ],
      "execution_count": null,
      "outputs": []
    },
    {
      "cell_type": "code",
      "metadata": {
        "id": "yGKBmzWGBQgR"
      },
      "source": [
        "# train-------------------------------------------------------------\n",
        "with open('/content/data-simplification/wikilarge/wiki.full.aner.ori.train.src') as f:\n",
        " data_train =  f.readlines()\n",
        "data_train = [i.strip('\\n') for i in data_train]\n",
        "\n",
        "with open('/content/data-simplification/wikilarge/wiki.full.aner.ori.train.dst') as f:\n",
        " data_train_dst =  f.readlines()\n",
        "data_train_dst = [i.strip('\\n') for i in data_train_dst]\n",
        "\n",
        "df_train = pd.DataFrame.from_records(zip(data_train, data_train_dst), columns=['src', 'dst'])\n",
        "\n",
        "# valid-------------------------------------------------------------\n",
        "with open('/content/data-simplification/wikilarge/wiki.full.aner.ori.valid.src') as f:\n",
        " data_valid =  f.readlines()\n",
        "data_valid = [i.strip('\\n') for i in data_valid]\n",
        "\n",
        "with open('/content/data-simplification/wikilarge/wiki.full.aner.ori.valid.dst') as f:\n",
        " data_valid_dst =  f.readlines()\n",
        "data_valid_dst = [i.strip('\\n') for i in data_valid_dst]\n",
        "\n",
        "df_val = pd.DataFrame.from_records(zip(data_valid, data_valid_dst), columns=['src', 'dst'])\n",
        "\n",
        "# test-------------------------------------------------------------\n",
        "with open('/content/data-simplification/wikilarge/wiki.full.aner.ori.test.src') as f:\n",
        " data_test =  f.readlines()\n",
        "data_test = [i.strip('\\n') for i in data_test]\n",
        "\n",
        "with open('/content/data-simplification/wikilarge/wiki.full.aner.ori.test.dst') as f:\n",
        " data_test_dst =  f.readlines()\n",
        "data_test_dst = [i.strip('\\n') for i in data_test_dst]\n",
        "\n",
        "df_test = pd.DataFrame.from_records(zip(data_test, data_test_dst), columns=['src', 'dst'])"
      ],
      "execution_count": null,
      "outputs": []
    },
    {
      "cell_type": "markdown",
      "metadata": {
        "id": "P2wcWK6YBY6s"
      },
      "source": [
        "### First look at the data:"
      ]
    },
    {
      "cell_type": "code",
      "metadata": {
        "colab": {
          "base_uri": "https://localhost:8080/",
          "height": 340
        },
        "id": "p4pGu_huB7ON",
        "outputId": "751bb810-7288-4f0a-9781-3cf5eaa2821a"
      },
      "source": [
        "df_train.sample(5)"
      ],
      "execution_count": null,
      "outputs": [
        {
          "output_type": "execute_result",
          "data": {
            "text/html": [
              "<div>\n",
              "<style scoped>\n",
              "    .dataframe tbody tr th:only-of-type {\n",
              "        vertical-align: middle;\n",
              "    }\n",
              "\n",
              "    .dataframe tbody tr th {\n",
              "        vertical-align: top;\n",
              "    }\n",
              "\n",
              "    .dataframe thead th {\n",
              "        text-align: right;\n",
              "    }\n",
              "</style>\n",
              "<table border=\"1\" class=\"dataframe\">\n",
              "  <thead>\n",
              "    <tr style=\"text-align: right;\">\n",
              "      <th></th>\n",
              "      <th>src</th>\n",
              "      <th>dst</th>\n",
              "    </tr>\n",
              "  </thead>\n",
              "  <tbody>\n",
              "    <tr>\n",
              "      <th>96347</th>\n",
              "      <td>Daintree National Park and Cape Tribulation , about 130 k north of Cairns , are popular areas for experiencing a tropical rainforest .</td>\n",
              "      <td>The Daintree National Park and Cape Tribulation , about 130km north of Cairns , are popular areas for experiencing a tropical rainforest .</td>\n",
              "    </tr>\n",
              "    <tr>\n",
              "      <th>65533</th>\n",
              "      <td>YÅ kai are a class of preternatural creatures in Japanese folklore ranging from the evil oni -LRB- ogre -RRB- to the mischievous kitsune -LRB- fox -RRB- or snow woman Yuki-onna . Some possess part animal and part human features -LRB- e.g. Kappa and Tengu -RRB- .</td>\n",
              "      <td>YÅ kai are a type of creatures appeared in Japanese old stories , such as oni -LRB- the evil -RRB- , kappa , or tengu .</td>\n",
              "    </tr>\n",
              "    <tr>\n",
              "      <th>239</th>\n",
              "      <td>Photography is the process , activity and art of creating still or moving pictures by recording radiation on a radiation-sensitive medium , such as a photographic film , or an electronic sensor .</td>\n",
              "      <td>The picture the lens makes is recorded on photographic film .</td>\n",
              "    </tr>\n",
              "    <tr>\n",
              "      <th>200665</th>\n",
              "      <td>Qalandarabad is major town in Baldheri Union Council and is famous throughout Hazara for its Chapal Kebabs .</td>\n",
              "      <td>Qalandarabad</td>\n",
              "    </tr>\n",
              "    <tr>\n",
              "      <th>232250</th>\n",
              "      <td>Negros Oriental -LRB- Filipino : Silangang Negros -RRB- -LRB- also called Oriental Negros , '' Eastern Negros '' -RRB- is a province of the Philippines located in the Central Visayas region .</td>\n",
              "      <td>Negros Oriental , sometimes called Oriental Negros -LRB- East Negros -RRB- , is a province in the Philippines .</td>\n",
              "    </tr>\n",
              "  </tbody>\n",
              "</table>\n",
              "</div>"
            ],
            "text/plain": [
              "                                                                                                                                                                                                                                                                           src                                                                                                                                         dst\n",
              "96347                                                                                                                                   Daintree National Park and Cape Tribulation , about 130 k north of Cairns , are popular areas for experiencing a tropical rainforest .  The Daintree National Park and Cape Tribulation , about 130km north of Cairns , are popular areas for experiencing a tropical rainforest .\n",
              "65533   YÅ kai are a class of preternatural creatures in Japanese folklore ranging from the evil oni -LRB- ogre -RRB- to the mischievous kitsune -LRB- fox -RRB- or snow woman Yuki-onna . Some possess part animal and part human features -LRB- e.g. Kappa and Tengu -RRB- .                     YÅ kai are a type of creatures appeared in Japanese old stories , such as oni -LRB- the evil -RRB- , kappa , or tengu .\n",
              "239                                                                        Photography is the process , activity and art of creating still or moving pictures by recording radiation on a radiation-sensitive medium , such as a photographic film , or an electronic sensor .                                                                               The picture the lens makes is recorded on photographic film .\n",
              "200665                                                                                                                                                            Qalandarabad is major town in Baldheri Union Council and is famous throughout Hazara for its Chapal Kebabs .                                                                                                                                Qalandarabad\n",
              "232250                                                                         Negros Oriental -LRB- Filipino : Silangang Negros -RRB- -LRB- also called Oriental Negros , '' Eastern Negros '' -RRB- is a province of the Philippines located in the Central Visayas region .                             Negros Oriental , sometimes called Oriental Negros -LRB- East Negros -RRB- , is a province in the Philippines ."
            ]
          },
          "metadata": {
            "tags": []
          },
          "execution_count": 6
        }
      ]
    },
    {
      "cell_type": "code",
      "metadata": {
        "colab": {
          "base_uri": "https://localhost:8080/",
          "height": 374
        },
        "id": "mRZVRT4NB7RM",
        "outputId": "1e57b49e-7e4a-4c4b-9617-42f4e07a2166"
      },
      "source": [
        "df_test.sample(5)"
      ],
      "execution_count": null,
      "outputs": [
        {
          "output_type": "execute_result",
          "data": {
            "text/html": [
              "<div>\n",
              "<style scoped>\n",
              "    .dataframe tbody tr th:only-of-type {\n",
              "        vertical-align: middle;\n",
              "    }\n",
              "\n",
              "    .dataframe tbody tr th {\n",
              "        vertical-align: top;\n",
              "    }\n",
              "\n",
              "    .dataframe thead th {\n",
              "        text-align: right;\n",
              "    }\n",
              "</style>\n",
              "<table border=\"1\" class=\"dataframe\">\n",
              "  <thead>\n",
              "    <tr style=\"text-align: right;\">\n",
              "      <th></th>\n",
              "      <th>src</th>\n",
              "      <th>dst</th>\n",
              "    </tr>\n",
              "  </thead>\n",
              "  <tbody>\n",
              "    <tr>\n",
              "      <th>345</th>\n",
              "      <td>On 15 April 1989 , the ground was the scene of one of the worst sporting tragedies of all time when 94 Liverpool fans -LRB- the final death toll was 96 -RRB- were crushed to death in an FA Cup semi-final in the infamous Hillsborough disaster .</td>\n",
              "      <td>The device can be designed for use in less exact environments .</td>\n",
              "    </tr>\n",
              "    <tr>\n",
              "      <th>192</th>\n",
              "      <td>The park , which receives approximately thirty-five million visitors annually , is the most visited urban park in the United States .</td>\n",
              "      <td>The lawyer Brandon -LRB- Waise Lee -RRB- was his idol as MK Sun grew up to be a lawyer .</td>\n",
              "    </tr>\n",
              "    <tr>\n",
              "      <th>147</th>\n",
              "      <td>It was founded in 1440 by King Henry VI as '' The King 's College of Our Lady of Eton besides Wyndsor '' .</td>\n",
              "      <td>Later , Esperanto speakers started to see the language and culture that had grown up around it as ends in themselves , though Esperanto is never accepted by the United Nations of other international organizations .</td>\n",
              "    </tr>\n",
              "    <tr>\n",
              "      <th>66</th>\n",
              "      <td>Etymology The Portuguese Man O ' War -LRB- named caravela-portuguesa in Portuguese -RRB- is named for its air bladder , which looks similar to the triangular sails of the Portuguese ship -LRB- man-of-war -RRB- Caravela latina -LRB- two - or three-masted lateen-rigged ship caravel -RRB- , of the 15th and 16th centuries .</td>\n",
              "      <td>Rollo swore fealty to Charles , changed to Christianity , and undertook to standby the northern region of France against the incursions of other Viking groups .</td>\n",
              "    </tr>\n",
              "    <tr>\n",
              "      <th>41</th>\n",
              "      <td>Sudan is situated in northern Africa , bordering the Red Sea and it has a coastline of 853 km along the Red Sea .</td>\n",
              "      <td>Working Group I : makes note of climate system and climate change</td>\n",
              "    </tr>\n",
              "  </tbody>\n",
              "</table>\n",
              "</div>"
            ],
            "text/plain": [
              "                                                                                                                                                                                                                                                                                                                                   src                                                                                                                                                                                                                     dst\n",
              "345                                                                                On 15 April 1989 , the ground was the scene of one of the worst sporting tragedies of all time when 94 Liverpool fans -LRB- the final death toll was 96 -RRB- were crushed to death in an FA Cup semi-final in the infamous Hillsborough disaster .                                                                                                                                                         The device can be designed for use in less exact environments .\n",
              "192                                                                                                                                                                                              The park , which receives approximately thirty-five million visitors annually , is the most visited urban park in the United States .                                                                                                                                The lawyer Brandon -LRB- Waise Lee -RRB- was his idol as MK Sun grew up to be a lawyer .\n",
              "147                                                                                                                                                                                                                         It was founded in 1440 by King Henry VI as '' The King 's College of Our Lady of Eton besides Wyndsor '' .  Later , Esperanto speakers started to see the language and culture that had grown up around it as ends in themselves , though Esperanto is never accepted by the United Nations of other international organizations .\n",
              "66   Etymology The Portuguese Man O ' War -LRB- named caravela-portuguesa in Portuguese -RRB- is named for its air bladder , which looks similar to the triangular sails of the Portuguese ship -LRB- man-of-war -RRB- Caravela latina -LRB- two - or three-masted lateen-rigged ship caravel -RRB- , of the 15th and 16th centuries .                                                        Rollo swore fealty to Charles , changed to Christianity , and undertook to standby the northern region of France against the incursions of other Viking groups .\n",
              "41                                                                                                                                                                                                                   Sudan is situated in northern Africa , bordering the Red Sea and it has a coastline of 853 km along the Red Sea .                                                                                                                                                       Working Group I : makes note of climate system and climate change"
            ]
          },
          "metadata": {
            "tags": []
          },
          "execution_count": 7
        }
      ]
    },
    {
      "cell_type": "markdown",
      "metadata": {
        "id": "HqGUs2gJBhg6"
      },
      "source": [
        "Initial sizes are:\n",
        "\n",
        "* train: 296402\n",
        "* dev: 992\n",
        "* test: 359\n",
        "\n",
        " However, some of the sentences are of a very bad quality. So, they will be removed before translation"
      ]
    },
    {
      "cell_type": "code",
      "metadata": {
        "colab": {
          "base_uri": "https://localhost:8080/"
        },
        "id": "T3Y011K6B7Uz",
        "outputId": "d42f625d-b274-4269-96e9-d74099f9c7cf"
      },
      "source": [
        "# dataset sizes\n",
        "\n",
        "df_train.shape[0], df_val.shape[0], df_test.shape[0]"
      ],
      "execution_count": null,
      "outputs": [
        {
          "output_type": "execute_result",
          "data": {
            "text/plain": [
              "(296402, 992, 359)"
            ]
          },
          "metadata": {
            "tags": []
          },
          "execution_count": 6
        }
      ]
    },
    {
      "cell_type": "markdown",
      "metadata": {
        "id": "XV3WHGVKNER6"
      },
      "source": [
        "# Basic cleaning"
      ]
    },
    {
      "cell_type": "code",
      "metadata": {
        "id": "F2RKB28iC_Xq"
      },
      "source": [
        "# preprocessing to clean the texts\n",
        "\n",
        "# train-------------------------------------------------------------\n",
        "for i, obj  in enumerate(data_train):\n",
        "  data_train[i] = data_train[i].replace('-LRB-', '(')\n",
        "  data_train[i] = data_train[i].replace('-RRB-', ')')\n",
        "\n",
        "for i, obj in enumerate(data_train_dst):\n",
        "  data_train_dst[i] = data_train_dst[i].replace('-LRB-', '(')\n",
        "  data_train_dst[i] = data_train_dst[i].replace('-RRB-', ')')\n",
        "\n",
        "# valid-------------------------------------------------------------\n",
        "for i, obj  in enumerate(data_valid):\n",
        "  data_valid[i] = data_valid[i].replace('-LRB-', '(')\n",
        "  data_valid[i] = data_valid[i].replace('-RRB-', ')')\n",
        "\n",
        "for i, obj in enumerate(data_valid_dst):\n",
        "  data_valid_dst[i] = data_valid_dst[i].replace('-LRB-', '(')\n",
        "  data_valid_dst[i] = data_valid_dst[i].replace('-RRB-', ')')\n",
        "\n",
        "# test-------------------------------------------------------------\n",
        "for i, obj  in enumerate(data_test):\n",
        "  data_test[i] = data_test[i].replace('-LRB-', '(')\n",
        "  data_test[i] = data_test[i].replace('-RRB-', ')')\n",
        "\n",
        "for i, obj in enumerate(data_test_dst):\n",
        "  data_test_dst[i] = data_test_dst[i].replace('-LRB-', '(')\n",
        "  data_test_dst[i] = data_test_dst[i].replace('-RRB-', ')')\n"
      ],
      "execution_count": null,
      "outputs": []
    },
    {
      "cell_type": "markdown",
      "metadata": {
        "id": "quzQ03i8EJbd"
      },
      "source": [
        "Extra preprocessing to get rid of the bad punctuation"
      ]
    },
    {
      "cell_type": "code",
      "metadata": {
        "colab": {
          "base_uri": "https://localhost:8080/"
        },
        "id": "QdapCdQdEZJy",
        "outputId": "91c591cb-b8e4-4de2-8624-2aa354a0337d"
      },
      "source": [
        "deleted = []\n",
        "for i, j in enumerate(data_train):\n",
        "  if len(j.split()) == 1 or len(j.strip('.?\"').split()) == 2 or len(j.split()) == 3 or j[-1] not in ('?.\\'') or not re.match(r'[A-ZÉ0-9\"\\']', j[0]) or re.match('[\\W\\w]+ = [\\W\\w]+[\\d]* .', j) or ',.' in j:\n",
        "    deleted.append(j)\n",
        "    data_train.pop(i)\n",
        "    data_train_dst.pop(i)\n",
        "  else:\n",
        "    if '()' in data_train[i]:\n",
        "       data_train[i] = data_train[i].replace('()', '')\n",
        "    \n",
        "    if '( )' in data_train[i]:\n",
        "       data_train[i] = data_train[i].replace('( )', '')\n",
        "    if ',,' in data_train[i]:\n",
        "      data_train[i] = data_train[i].replace(',,', '')\n",
        "    if ';)' in data_train[i]:\n",
        "      data_train[i] = data_train[i].replace(';)', ')')\n",
        "    if ':)' in data_train[i]:\n",
        "      data_train[i] = data_train[i].replace(':)', ')')\n",
        "    if '(:' in data_train[i]:\n",
        "      data_train[i] = data_train[i].replace('(:', '(')\n",
        "    if '(;' in data_train[i]:\n",
        "      data_train[i] = data_train[i].replace('(:', '(')\n",
        "    if \"& ndash ;\" in data_train[i]: \n",
        "      data_train[i] = data_train[i].replace(\"& ndash ;\", '')\n",
        "    if \"& minus ;\" in data_train[i]: \n",
        "      data_train[i] = data_train[i].replace(\"& minus ;\", '')\n",
        "    if \"( , ; ; ; )\" in data_train[i]: \n",
        "      data_train[i] = data_train[i].replace(\"( , ; ; ; )\", '')\n",
        "    if \"( , ; , ; , ; ; )\" in data_train[i]: \n",
        "      data_train[i] = data_train[i].replace(\"( , ; , ; , ; ; )\", '')\n",
        "    if \"( á 1\\/4 Î '' Î Î 1\\/2 Î Ï )\" in data_train[i]: \n",
        "      data_train[i] = data_train[i].replace(\"( á 1\\/4 Î '' Î Î 1\\/2 Î Ï )\", '')\n",
        "\n",
        "len(deleted)"
      ],
      "execution_count": null,
      "outputs": [
        {
          "output_type": "execute_result",
          "data": {
            "text/plain": [
              "19493"
            ]
          },
          "metadata": {
            "tags": []
          },
          "execution_count": 8
        }
      ]
    },
    {
      "cell_type": "code",
      "metadata": {
        "colab": {
          "base_uri": "https://localhost:8080/"
        },
        "id": "Bh1ntCNHRqGK",
        "outputId": "9cdb14d0-8834-49dc-c7b1-9eaafd549042"
      },
      "source": [
        "deleted[:10]"
      ],
      "execution_count": null,
      "outputs": [
        {
          "output_type": "execute_result",
          "data": {
            "text/plain": [
              "[\"Many still refer to 25 , 50 and 75 paise as 4 , 8 and 12 annas respectively , not unlike the usage of '' bit '' in American English for â\",\n",
              " 'Chronic obstructive pulmonary disease ( COPD ) , interstitial lung disease ( ILD )',\n",
              " '1810 & ndash ; Ernst Kummer , German mathematician ( d. 1893 )',\n",
              " 'That same year , Mattel also introduced Fashion Polly !',\n",
              " \"They have appeared on the cover of that company 's free magazine , V !\",\n",
              " \"She won two matches against Sonja Graf for the Women 's World Champion title ; ( +3 -- 1 = 0 ) at Rotterdam 1934 , and ( +9 -- 2 = 5 ) at Semmering 1937 .\",\n",
              " 'Walter Kogler',\n",
              " 'a family of',\n",
              " \"Poanes benito Freeman , 1979 -- Benito 's Skipper\",\n",
              " \", Prutky 's Travels in Ethiopia and other Countries with notes by Richard Pankhurst ( London : Hakluyt Society , 1991 ) In the South Asian subcontinent , food is traditionally always eaten without utensils .\"]"
            ]
          },
          "metadata": {
            "tags": []
          },
          "execution_count": 9
        }
      ]
    },
    {
      "cell_type": "code",
      "metadata": {
        "id": "F9xw4WABEan2"
      },
      "source": [
        "deleted = []\n",
        "for i, j in enumerate(data_train_dst):\n",
        "  if len(j.split()) == 1 or len(j.strip('.?\"').split()) == 2  or j[-1] not in ('?.\\'') or not re.match(r'[A-ZÉ0-9\"\\']', j[0]) or re.match('[\\W\\w]+ = [\\W\\w]+[\\d]* .', j) or ',.' in j:\n",
        "    deleted.append(j)\n",
        "    data_train_dst.pop(i)\n",
        "    data_train.pop(i)\n",
        "  else:\n",
        "    if '()' in data_train_dst[i]:\n",
        "       data_train_dst[i] = data_train_dst[i].replace('()', '')\n",
        "    \n",
        "    if '( )' in data_train_dst[i]:\n",
        "       data_train_dst[i] = data_train_dst[i].replace('( )', '')\n",
        "    if ',,' in data_train_dst[i]:\n",
        "      data_train_dst[i] = data_train_dst[i].replace(',,', '')\n",
        "    if ';)' in data_train_dst[i]:\n",
        "      data_train_dst[i] = data_train_dst[i].replace(';)', ')')\n",
        "    if ':)' in data_train_dst[i]:\n",
        "      data_train_dst[i] = data_train_dst[i].replace(':)', ')')\n",
        "    if '(:' in data_train_dst[i]:\n",
        "      data_train_dst[i] = data_train_dst[i].replace('(:', '(')\n",
        "    if '(;' in data_train_dst[i]:\n",
        "      data_train_dst[i] = data_train_dst[i].replace('(:', '(')\n",
        "    if \"& ndash ;\" in data_train_dst[i]: \n",
        "      data_train_dst[i] = data_train_dst[i].replace(\"& ndash ;\", '')\n",
        "    if \"& minus ;\" in data_train_dst[i]: \n",
        "      data_train_dst[i] = data_train_dst[i].replace(\"& minus ;\", '')\n",
        "    if \"( , ; ; ; )\" in data_train_dst[i]: \n",
        "      data_train_dst[i] = data_train_dst[i].replace(\"( , ; ; ; )\", '')\n",
        "    if \"( , ; , ; , ; ; )\" in data_train_dst[i]: \n",
        "      data_train_dst[i] = data_train_dst[i].replace(\"( , ; , ; , ; ; )\", '')\n",
        "    if \"( á 1\\/4 Î '' Î Î 1\\/2 Î Ï )\" in data_train_dst[i]: \n",
        "      data_train_dst[i] = data_train_dst[i].replace(\"( á 1\\/4 Î '' Î Î 1\\/2 Î Ï )\", '')\n",
        "\n",
        "  len(deleted)"
      ],
      "execution_count": null,
      "outputs": []
    },
    {
      "cell_type": "code",
      "metadata": {
        "colab": {
          "base_uri": "https://localhost:8080/"
        },
        "id": "K-xVVKmIEsU8",
        "outputId": "194fd6b0-001a-4c75-a942-5c1e0225403c"
      },
      "source": [
        "df_train = pd.DataFrame.from_records(list(zip(data_train, data_train_dst)), columns=['src', 'dst'])\n",
        "df_train.shape[0]"
      ],
      "execution_count": null,
      "outputs": [
        {
          "output_type": "execute_result",
          "data": {
            "text/plain": [
              "246993"
            ]
          },
          "metadata": {
            "tags": []
          },
          "execution_count": 11
        }
      ]
    },
    {
      "cell_type": "code",
      "metadata": {
        "colab": {
          "base_uri": "https://localhost:8080/"
        },
        "id": "qOA0S2VXE2Sm",
        "outputId": "bcb7a3fa-7cea-4f2d-d9ab-06db3c95bcc8"
      },
      "source": [
        "deleted = []\n",
        "for i, j in enumerate(data_valid):\n",
        "    if len(j.split()) == 1 or len(j.strip('.?\"').split()) == 2 or len(j.split()) == 3 or j[-1] not in (\n",
        "    '?.\\'') or not re.match(r'[A-ZÉ0-9\"\\']', j[0]) or re.match('[\\W\\w]+ = [\\W\\w]+[\\d]* .', j) or ',.' in j:\n",
        "        deleted.append(j)\n",
        "        data_valid.pop(i)\n",
        "        data_valid_dst.pop(i)\n",
        "    else:\n",
        "        if '()' in data_valid[i]:\n",
        "            data_valid[i] = data_valid[i].replace('()', '')\n",
        "\n",
        "        if '( )' in data_valid[i]:\n",
        "            data_valid[i] = data_valid[i].replace('( )', '')\n",
        "        if ',,' in data_valid[i]:\n",
        "            data_valid[i] = data_valid[i].replace(',,', '')\n",
        "        if ';)' in data_valid[i]:\n",
        "            data_valid[i] = data_valid[i].replace(';)', ')')\n",
        "        if ':)' in data_valid[i]:\n",
        "            data_valid[i] = data_valid[i].replace(':)', ')')\n",
        "        if '(:' in data_valid[i]:\n",
        "            data_valid[i] = data_valid[i].replace('(:', '(')\n",
        "        if '(;' in data_valid[i]:\n",
        "            data_valid[i] = data_valid[i].replace('(:', '(')\n",
        "        if \"& ndash ;\" in data_valid[i]:\n",
        "            data_valid[i] = data_valid[i].replace(\"& ndash ;\", '')\n",
        "        if \"& minus ;\" in data_valid[i]:\n",
        "            data_valid[i] = data_valid[i].replace(\"& minus ;\", '')\n",
        "        if \"( , ; ; ; )\" in data_valid[i]:\n",
        "            data_valid[i] = data_valid[i].replace(\"( , ; ; ; )\", '')\n",
        "        if \"( , ; , ; , ; ; )\" in data_valid[i]:\n",
        "            data_valid[i] = data_valid[i].replace(\"( , ; , ; , ; ; )\", '')\n",
        "        if \"( á 1\\/4 Î '' Î Î 1\\/2 Î Ï )\" in data_valid[i]:\n",
        "            data_valid[i] = data_valid[i].replace(\"( á 1\\/4 Î '' Î Î 1\\/2 Î Ï )\", '')\n",
        "\n",
        "len(deleted)"
      ],
      "execution_count": null,
      "outputs": [
        {
          "output_type": "execute_result",
          "data": {
            "text/plain": [
              "62"
            ]
          },
          "metadata": {
            "tags": []
          },
          "execution_count": 12
        }
      ]
    },
    {
      "cell_type": "code",
      "metadata": {
        "id": "uA1VvktLGYB7"
      },
      "source": [
        "deleted = []\n",
        "for i, j in enumerate(data_valid_dst):\n",
        "    if len(j.split()) == 1 or len(j.strip('.?\"').split()) == 2 or j[-1] not in ('?.\\'') or not re.match(r'[A-ZÉ0-9\"\\']',\n",
        "                                                                                                        j[\n",
        "                                                                                                            0]) or re.match(\n",
        "            '[\\W\\w]+ = [\\W\\w]+[\\d]* .', j) or ',.' in j:\n",
        "        deleted.append(j)\n",
        "        data_valid_dst.pop(i)\n",
        "        data_valid.pop(i)\n",
        "    else:\n",
        "        if '()' in data_valid_dst[i]:\n",
        "            data_valid_dst[i] = data_valid_dst[i].replace('()', '')\n",
        "\n",
        "        if '( )' in data_valid_dst[i]:\n",
        "            data_valid_dst[i] = data_valid_dst[i].replace('( )', '')\n",
        "        if ',,' in data_valid_dst[i]:\n",
        "            data_valid_dst[i] = data_valid_dst[i].replace(',,', '')\n",
        "        if ';)' in data_valid_dst[i]:\n",
        "            data_valid_dst[i] = data_valid_dst[i].replace(';)', ')')\n",
        "        if ':)' in data_valid_dst[i]:\n",
        "            data_valid_dst[i] = data_valid_dst[i].replace(':)', ')')\n",
        "        if '(:' in data_valid_dst[i]:\n",
        "            data_valid_dst[i] = data_valid_dst[i].replace('(:', '(')\n",
        "        if '(;' in data_valid_dst[i]:\n",
        "            data_valid_dst[i] = data_valid_dst[i].replace('(:', '(')\n",
        "        if \"& ndash ;\" in data_valid_dst[i]:\n",
        "            data_valid_dst[i] = data_valid_dst[i].replace(\"& ndash ;\", '')\n",
        "        if \"& minus ;\" in data_valid_dst[i]:\n",
        "            data_valid_dst[i] = data_valid_dst[i].replace(\"& minus ;\", '')\n",
        "        if \"( , ; ; ; )\" in data_valid_dst[i]:\n",
        "            data_valid_dst[i] = data_valid_dst[i].replace(\"( , ; ; ; )\", '')\n",
        "        if \"( , ; , ; , ; ; )\" in data_valid_dst[i]:\n",
        "            data_valid_dst[i] = data_valid_dst[i].replace(\"( , ; , ; , ; ; )\", '')\n",
        "        if \"( á 1\\/4 Î '' Î Î 1\\/2 Î Ï )\" in data_valid_dst[i]:\n",
        "            data_valid_dst[i] = data_valid_dst[i].replace(\"( á 1\\/4 Î '' Î Î 1\\/2 Î Ï )\", '')\n",
        "\n",
        "    len(deleted)"
      ],
      "execution_count": null,
      "outputs": []
    },
    {
      "cell_type": "code",
      "metadata": {
        "colab": {
          "base_uri": "https://localhost:8080/"
        },
        "id": "Uz2FC75dGyaz",
        "outputId": "46d0ebbb-a817-40f9-e6b6-ef61830f9adc"
      },
      "source": [
        "df_val = pd.DataFrame.from_records(list(zip(data_valid, data_valid_dst)), columns=['src', 'dst'])\n",
        "df_val.shape[0]"
      ],
      "execution_count": null,
      "outputs": [
        {
          "output_type": "execute_result",
          "data": {
            "text/plain": [
              "818"
            ]
          },
          "metadata": {
            "tags": []
          },
          "execution_count": 14
        }
      ]
    },
    {
      "cell_type": "code",
      "metadata": {
        "colab": {
          "base_uri": "https://localhost:8080/"
        },
        "id": "acYD9NhuGYbP",
        "outputId": "35fb629c-441b-4bb4-e61a-25d3cc056bba"
      },
      "source": [
        "deleted = []\n",
        "for i, j in enumerate(data_test):\n",
        "    if len(j.split()) == 1 or len(j.strip('.?\"').split()) == 2 or len(j.split()) == 3 or j[-1] not in (\n",
        "    '?.\\'') or not re.match(r'[A-ZÉ0-9\"\\']', j[0]) or re.match('[\\W\\w]+ = [\\W\\w]+[\\d]* .', j) or ',.' in j:\n",
        "        deleted.append(j)\n",
        "        data_test.pop(i)\n",
        "        data_test_dst.pop(i)\n",
        "    else:\n",
        "        if '()' in data_test[i]:\n",
        "            data_test[i] = data_test[i].replace('()', '')\n",
        "\n",
        "        if '( )' in data_test[i]:\n",
        "            data_test[i] = data_test[i].replace('( )', '')\n",
        "        if ',,' in data_test[i]:\n",
        "            data_test[i] = data_test[i].replace(',,', '')\n",
        "        if ';)' in data_test[i]:\n",
        "            data_test[i] = data_test[i].replace(';)', ')')\n",
        "        if ':)' in data_test[i]:\n",
        "            data_test[i] = data_test[i].replace(':)', ')')\n",
        "        if '(:' in data_test[i]:\n",
        "            data_test[i] = data_test[i].replace('(:', '(')\n",
        "        if '(;' in data_test[i]:\n",
        "            data_test[i] = data_test[i].replace('(:', '(')\n",
        "        if \"& ndash ;\" in data_test[i]:\n",
        "            data_test[i] = data_test[i].replace(\"& ndash ;\", '')\n",
        "        if \"& minus ;\" in data_test[i]:\n",
        "            data_test[i] = data_test[i].replace(\"& minus ;\", '')\n",
        "        if \"( , ; ; ; )\" in data_test[i]:\n",
        "            data_test[i] = data_test[i].replace(\"( , ; ; ; )\", '')\n",
        "        if \"( , ; , ; , ; ; )\" in data_test[i]:\n",
        "            data_test[i] = data_test[i].replace(\"( , ; , ; , ; ; )\", '')\n",
        "        if \"( á 1\\/4 Î '' Î Î 1\\/2 Î Ï )\" in data_test[i]:\n",
        "            data_test[i] = data_test[i].replace(\"( á 1\\/4 Î '' Î Î 1\\/2 Î Ï )\", '')\n",
        "\n",
        "len(deleted)"
      ],
      "execution_count": null,
      "outputs": [
        {
          "output_type": "execute_result",
          "data": {
            "text/plain": [
              "0"
            ]
          },
          "metadata": {
            "tags": []
          },
          "execution_count": 15
        }
      ]
    },
    {
      "cell_type": "code",
      "metadata": {
        "id": "h8ZoS4_sGm33"
      },
      "source": [
        "deleted = []\n",
        "for i, j in enumerate(data_test_dst):\n",
        "    if len(j.split()) == 1 or len(j.strip('.?\"').split()) == 2 or j[-1] not in ('?.\\'') or not re.match(r'[A-ZÉ0-9\"\\']',\n",
        "                                                                                                        j[\n",
        "                                                                                                            0]) or re.match(\n",
        "            '[\\W\\w]+ = [\\W\\w]+[\\d]* .', j) or ',.' in j:\n",
        "        deleted.append(j)\n",
        "        data_test_dst.pop(i)\n",
        "        data_test.pop(i)\n",
        "    else:\n",
        "        if '()' in data_test_dst[i]:\n",
        "            data_test_dst[i] = data_test_dst[i].replace('()', '')\n",
        "\n",
        "        if '( )' in data_test_dst[i]:\n",
        "            data_test_dst[i] = data_test_dst[i].replace('( )', '')\n",
        "        if ',,' in data_test_dst[i]:\n",
        "            data_test_dst[i] = data_test_dst[i].replace(',,', '')\n",
        "        if ';)' in data_test_dst[i]:\n",
        "            data_test_dst[i] = data_test_dst[i].replace(';)', ')')\n",
        "        if ':)' in data_test_dst[i]:\n",
        "            data_test_dst[i] = data_test_dst[i].replace(':)', ')')\n",
        "        if '(:' in data_test_dst[i]:\n",
        "            data_test_dst[i] = data_test_dst[i].replace('(:', '(')\n",
        "        if '(;' in data_test_dst[i]:\n",
        "            data_test_dst[i] = data_test_dst[i].replace('(:', '(')\n",
        "        if \"& ndash ;\" in data_test_dst[i]:\n",
        "            data_test_dst[i] = data_test_dst[i].replace(\"& ndash ;\", '')\n",
        "        if \"& minus ;\" in data_test_dst[i]:\n",
        "            data_test_dst[i] = data_test_dst[i].replace(\"& minus ;\", '')\n",
        "        if \"( , ; ; ; )\" in data_test_dst[i]:\n",
        "            data_test_dst[i] = data_test_dst[i].replace(\"( , ; ; ; )\", '')\n",
        "        if \"( , ; , ; , ; ; )\" in data_test_dst[i]:\n",
        "            data_test_dst[i] = data_test_dst[i].replace(\"( , ; , ; , ; ; )\", '')\n",
        "        if \"( á 1\\/4 Î '' Î Î 1\\/2 Î Ï )\" in data_test_dst[i]:\n",
        "            data_test_dst[i] = data_test_dst[i].replace(\"( á 1\\/4 Î '' Î Î 1\\/2 Î Ï )\", '')\n",
        "\n",
        "    len(deleted)"
      ],
      "execution_count": null,
      "outputs": []
    },
    {
      "cell_type": "code",
      "metadata": {
        "colab": {
          "base_uri": "https://localhost:8080/"
        },
        "id": "UUT_dDiTIGUp",
        "outputId": "0fbcb4c3-5fdd-4033-afd6-8391277d39d1"
      },
      "source": [
        "df_test = pd.DataFrame.from_records(list(zip(data_test, data_test_dst)), columns=['src', 'dst'])\n",
        "df_test.shape[0]"
      ],
      "execution_count": null,
      "outputs": [
        {
          "output_type": "execute_result",
          "data": {
            "text/plain": [
              "326"
            ]
          },
          "metadata": {
            "tags": []
          },
          "execution_count": 17
        }
      ]
    },
    {
      "cell_type": "code",
      "metadata": {
        "colab": {
          "base_uri": "https://localhost:8080/"
        },
        "id": "ebh36DR1UCcm",
        "outputId": "1e1990b4-a18e-462a-f7d1-233804a78f9b"
      },
      "source": [
        " sum(df_train.src == df_train.dst)"
      ],
      "execution_count": null,
      "outputs": [
        {
          "output_type": "execute_result",
          "data": {
            "text/plain": [
              "11"
            ]
          },
          "metadata": {
            "tags": []
          },
          "execution_count": 19
        }
      ]
    },
    {
      "cell_type": "code",
      "metadata": {
        "colab": {
          "base_uri": "https://localhost:8080/"
        },
        "id": "HezIWkSCU7U0",
        "outputId": "2269a901-7cba-4557-9230-f42898a6cd79"
      },
      "source": [
        "sum(df_train['src'].apply(lambda x: len(x.split(' ')))<df_train['dst'].apply(lambda x: len(x.split(' '))))"
      ],
      "execution_count": null,
      "outputs": [
        {
          "output_type": "execute_result",
          "data": {
            "text/plain": [
              "70489"
            ]
          },
          "metadata": {
            "tags": []
          },
          "execution_count": 22
        }
      ]
    },
    {
      "cell_type": "code",
      "metadata": {
        "colab": {
          "base_uri": "https://localhost:8080/"
        },
        "id": "FP10hm-_WWNc",
        "outputId": "204dd8b5-50e1-40db-bd55-b7505ec7e194"
      },
      "source": [
        "70489/df_train.shape[0]"
      ],
      "execution_count": null,
      "outputs": [
        {
          "output_type": "execute_result",
          "data": {
            "text/plain": [
              "0.28538865473920316"
            ]
          },
          "metadata": {
            "tags": []
          },
          "execution_count": 25
        }
      ]
    },
    {
      "cell_type": "code",
      "metadata": {
        "colab": {
          "base_uri": "https://localhost:8080/"
        },
        "id": "BEgSSHmVWCMs",
        "outputId": "f1316a30-3129-4617-8736-0c5261747be3"
      },
      "source": [
        "sum(df_val['src'].apply(lambda x: len(x.split(' ')))<df_val['dst'].apply(lambda x: len(x.split(' '))))"
      ],
      "execution_count": null,
      "outputs": [
        {
          "output_type": "execute_result",
          "data": {
            "text/plain": [
              "230"
            ]
          },
          "metadata": {
            "tags": []
          },
          "execution_count": 23
        }
      ]
    },
    {
      "cell_type": "code",
      "metadata": {
        "colab": {
          "base_uri": "https://localhost:8080/"
        },
        "id": "2HbwFK2zWv97",
        "outputId": "9f0e7836-bf42-4f67-d346-9ec10f261662"
      },
      "source": [
        "230/df_val.shape[0]"
      ],
      "execution_count": null,
      "outputs": [
        {
          "output_type": "execute_result",
          "data": {
            "text/plain": [
              "0.28117359413202936"
            ]
          },
          "metadata": {
            "tags": []
          },
          "execution_count": 26
        }
      ]
    },
    {
      "cell_type": "code",
      "metadata": {
        "colab": {
          "base_uri": "https://localhost:8080/"
        },
        "id": "M0YPSMHNWOXW",
        "outputId": "79c79cd2-79c5-46f1-f3f1-a878bcb70c66"
      },
      "source": [
        "sum(df_test['src'].apply(lambda x: len(x.split(' ')))<df_test['dst'].apply(lambda x: len(x.split(' '))))"
      ],
      "execution_count": null,
      "outputs": [
        {
          "output_type": "execute_result",
          "data": {
            "text/plain": [
              "82"
            ]
          },
          "metadata": {
            "tags": []
          },
          "execution_count": 24
        }
      ]
    },
    {
      "cell_type": "code",
      "metadata": {
        "colab": {
          "base_uri": "https://localhost:8080/"
        },
        "id": "scZtj2ZdW2_d",
        "outputId": "8b98d4ba-9fd0-44ac-8df7-4c7ed6f51cab"
      },
      "source": [
        "82/df_test.shape[0]"
      ],
      "execution_count": null,
      "outputs": [
        {
          "output_type": "execute_result",
          "data": {
            "text/plain": [
              "0.25153374233128833"
            ]
          },
          "metadata": {
            "tags": []
          },
          "execution_count": 27
        }
      ]
    },
    {
      "cell_type": "markdown",
      "metadata": {
        "id": "PhRFXbSYCRV8"
      },
      "source": [
        "After cleaning the lengths are:\n",
        "\n",
        "* train: 243466\n",
        "* dev: 930\n",
        "* test: 326\n",
        "\n",
        "So, a significant number of sentences has been removed from the test set"
      ]
    },
    {
      "cell_type": "markdown",
      "metadata": {
        "id": "mvSz2qawIYCq"
      },
      "source": [
        "# Translation\n",
        "There are 2 types of translation:\n",
        "* Machine translation with 'Helsinki-NLP/opus-mt' model from  transformers library\n",
        "* Machine translation with Google API (the data translated with the latter one will be downloaded as the api is for charge)\n",
        "\n"
      ]
    },
    {
      "cell_type": "markdown",
      "metadata": {
        "id": "p-gumnfmLutv"
      },
      "source": [
        "/usr/local/lib/python3.7/dist-packages/torch/tensor.py \\\n",
        "https://github.com/simple-ai-pixel/gpt3_ru/blob/main/gpt.ipynb"
      ]
    },
    {
      "cell_type": "code",
      "metadata": {
        "id": "5_rqqvp1Jczc"
      },
      "source": [
        "# helper functions\n",
        "\n",
        "def batch_generator(\n",
        "        list_of_sentences,\n",
        "        size=64\n",
        "):\n",
        "    num_batch = len(list_of_sentences)//size\n",
        "    for index in range(num_batch):\n",
        "        yield list_of_sentences[index*size:(index+1)*size]\n",
        "    yield list_of_sentences[num_batch*size:]\n",
        "\n",
        "\n",
        "def translate_to_russin(model, tok, src, dst):\n",
        "\n",
        "  translations_src = []\n",
        "  for i in tqdm_notebook(batch_generator(src)):\n",
        "    l = tok(i, return_tensors=\"pt\", padding=True).to(device)\n",
        "    translated = model.generate(**l)\n",
        "    translations_src.extend([tok.decode(t, skip_special_tokens=True) for t in translated])\n",
        "\n",
        "  translations_dst = []\n",
        "  for i in tqdm_notebook(batch_generator(dst)):\n",
        "    l = tok(i, return_tensors=\"pt\", padding=True).to(device)\n",
        "    translated = model.generate(**l)\n",
        "    translations_dst.extend([tok.decode(t, skip_special_tokens=True) for t in translated])\n",
        "\n",
        "  return translations_src, translations_dst\n"
      ],
      "execution_count": null,
      "outputs": []
    },
    {
      "cell_type": "code",
      "metadata": {
        "id": "pouZAnK4IM7o"
      },
      "source": [
        "# import en-ru model from transformers\n",
        "model_name = 'Helsinki-NLP/opus-mt-en-ru'\n",
        "tokenizer = MarianTokenizer.from_pretrained(model_name)\n",
        "model = MarianMTModel.from_pretrained(model_name)\n",
        "device = torch.device('cuda' if torch.cuda.is_available() else 'cpu')\n",
        "device\n",
        "model.to(device)"
      ],
      "execution_count": null,
      "outputs": []
    },
    {
      "cell_type": "markdown",
      "metadata": {
        "id": "wzo29pY3DzUL"
      },
      "source": [
        "### Translation by parts because of GPU limitations:("
      ]
    },
    {
      "cell_type": "code",
      "metadata": {
        "id": "9eYjJ619QzVm"
      },
      "source": [
        "# val--------------------------------------------------\n",
        "src, dst = translate_to_russin(model, tokenizer, data_valid, data_valid_dst)\n",
        "\n",
        "for i, obj  in enumerate(src):\n",
        "  src[i] = src[i].replace('&gt;', '')\n",
        "  #src[i] = re.sub(r'[&gt;{1,}]', \" \", src[i])\n",
        "  src[i] = src[i].replace('&lt;', '')\n",
        "  src[i] = src[i].replace('()', '')\n",
        "  src[i] = src[i].replace('&quot;', '')\n",
        "for i, obj in enumerate(dst):\n",
        "  dst[i] = dst[i].replace('&gt;', '')\n",
        "  dst[i] = dst[i].replace('&lt;', '')\n",
        "  dst[i] = dst[i].replace('()', '')\n",
        "  dst[i] = dst[i].replace('&quot;', '')\n",
        "df_val['target_x'] = src\n",
        "df_val['target_y'] = dst\n",
        "df_val.to_csv('/content/drive/MyDrive/MT_sentence_simpl/wiki_val_mtt.csv')"
      ],
      "execution_count": null,
      "outputs": []
    },
    {
      "cell_type": "code",
      "metadata": {
        "id": "A-v8ngVDXHdb"
      },
      "source": [
        "# test--------------------------------------------------\n",
        "src, dst = translate_to_russin(model, tokenizer, data_test, data_test_dst)\n",
        "for i, obj  in enumerate(src):\n",
        "  src[i] = src[i].replace('&gt;', '')\n",
        "  #src[i] = re.sub(r'[&gt;{1,}]', \" \", src[i])\n",
        "  src[i] = src[i].replace('&lt;', '')\n",
        "  src[i] = src[i].replace('()', '')\n",
        "  src[i] = src[i].replace('&quot;', '')\n",
        "for i, obj in enumerate(dst):\n",
        "  dst[i] = dst[i].replace('&gt;', '')\n",
        "  dst[i] = dst[i].replace('&lt;', '')\n",
        "  dst[i] = dst[i].replace('()', '')\n",
        "  dst[i] = dst[i].replace('&quot;', '')\n",
        "df_test['target_x'] = src\n",
        "df_test['target_y'] = dst\n",
        "df_test.to_csv('/content/drive/MyDrive/MT_sentence_simpl/wiki_test_mtt.csv')"
      ],
      "execution_count": null,
      "outputs": []
    },
    {
      "cell_type": "code",
      "metadata": {
        "colab": {
          "base_uri": "https://localhost:8080/",
          "height": 220,
          "referenced_widgets": [
            "946d6e7934774054b04f1f5a49ef08be",
            "9238d31c21034f69953344c913f99e00",
            "d6e38809c6ae400982f8c38c7bfd4d0d",
            "5a06bece6c944b0fb793617f8fc016f9",
            "03257ca2e1d44ee1b23f7b20e09cd991",
            "73389f608cdb4a5abcfd3c2670e6bed1",
            "42662e8f7b1c449b9a7be862d3cef813",
            "cbfb2d37ee524918bb5a627499fea3a8",
            "8b6bcac50beb491681282a4415a0ab22",
            "dc6878553fcd48f2bd645d1f41098b7c",
            "245e124d587c414b94babcd96540b91a",
            "a242573c969f4672a846b49c88886cf1",
            "49d8a0a0b1d54613afd582325657551a",
            "bc90007f4bdf44dfbb2d718903cfe8c5",
            "a0538d115f1747ab89fdeb9447e2aeaa",
            "e0cc9b7abef941daaea0608d55e69fab"
          ]
        },
        "id": "8j9wsXNRXakX",
        "outputId": "c06d2fea-3380-405b-bfae-0c0af773f54b"
      },
      "source": [
        "# train--------------------------------------------------\n",
        "src, dst = translate_to_russin(model, tokenizer, data_train[232000:], data_train_dst[232000:])\n",
        "\n",
        "for i, obj  in enumerate(src):\n",
        "  src[i] = src[i].replace('&gt;', '')\n",
        "  #src[i] = re.sub(r'[&gt;{1,}]', \" \", src[i])\n",
        "  src[i] = src[i].replace('&lt;', '')\n",
        "  src[i] = src[i].replace('()', '')\n",
        "  src[i] = src[i].replace('&quot;', '')\n",
        "for i, obj in enumerate(dst):\n",
        "  dst[i] = dst[i].replace('&gt;', '')\n",
        "  dst[i] = dst[i].replace('&lt;', '')\n",
        "  dst[i] = dst[i].replace('()', '')\n",
        "  dst[i] = dst[i].replace('&quot;', '')\n",
        "df_train_22000 = pd.DataFrame(list(zip(data_train[232000:], data_train_dst[232000:], src, dst)), columns=['src', 'dst', 'target_x', 'target_y'])\n",
        "df_train_22000.to_csv('/content/drive/MyDrive/MT_sentence_simpl/wiki_train_mtt_232-246k.csv')"
      ],
      "execution_count": null,
      "outputs": [
        {
          "output_type": "stream",
          "text": [
            "/usr/local/lib/python3.7/dist-packages/ipykernel_launcher.py:4: TqdmDeprecationWarning: This function will be removed in tqdm==5.0.0\n",
            "Please use `tqdm.notebook.tqdm` instead of `tqdm.tqdm_notebook`\n",
            "  after removing the cwd from sys.path.\n"
          ],
          "name": "stderr"
        },
        {
          "output_type": "display_data",
          "data": {
            "application/vnd.jupyter.widget-view+json": {
              "model_id": "946d6e7934774054b04f1f5a49ef08be",
              "version_minor": 0,
              "version_major": 2
            },
            "text/plain": [
              "HBox(children=(FloatProgress(value=1.0, bar_style='info', max=1.0), HTML(value='')))"
            ]
          },
          "metadata": {
            "tags": []
          }
        },
        {
          "output_type": "stream",
          "text": [
            "\n"
          ],
          "name": "stdout"
        },
        {
          "output_type": "stream",
          "text": [
            "/usr/local/lib/python3.7/dist-packages/ipykernel_launcher.py:18: TqdmDeprecationWarning: This function will be removed in tqdm==5.0.0\n",
            "Please use `tqdm.notebook.tqdm` instead of `tqdm.tqdm_notebook`\n"
          ],
          "name": "stderr"
        },
        {
          "output_type": "display_data",
          "data": {
            "application/vnd.jupyter.widget-view+json": {
              "model_id": "8b6bcac50beb491681282a4415a0ab22",
              "version_minor": 0,
              "version_major": 2
            },
            "text/plain": [
              "HBox(children=(FloatProgress(value=1.0, bar_style='info', max=1.0), HTML(value='')))"
            ]
          },
          "metadata": {
            "tags": []
          }
        },
        {
          "output_type": "stream",
          "text": [
            "\n"
          ],
          "name": "stdout"
        }
      ]
    },
    {
      "cell_type": "markdown",
      "metadata": {
        "id": "FiiwrqzYEDFV"
      },
      "source": [
        "### Normal code for the whole dataset\n",
        "\n",
        "Some cleaning to remove common translation artifacts is applied"
      ]
    },
    {
      "cell_type": "code",
      "metadata": {
        "id": "xzOHVrkcLeVY"
      },
      "source": [
        "# train--------------------------------------------------\n",
        "src, dst = translate_to_russin(model, tokenizer, data_train[:1000], data_train_dst[:1000])\n",
        "\n",
        "for i, obj  in enumerate(src):\n",
        "  src[i] = src[i].replace('&gt;', '')\n",
        "  #src[i] = re.sub(r'[&gt;{1,}]', \" \", src[i])\n",
        "  src[i] = src[i].replace('&lt;', '')\n",
        "  src[i] = src[i].replace('()', '')\n",
        "  src[i] = src[i].replace('&quot;', '')\n",
        "for i, obj in enumerate(dst):\n",
        "  dst[i] = dst[i].replace('&gt;', '')\n",
        "  dst[i] = dst[i].replace('&lt;', '')\n",
        "  dst[i] = dst[i].replace('()', '')\n",
        "  dst[i] = dst[i].replace('&quot;', '')\n",
        "df_train['target_x'] = src\n",
        "df_train['target_y'] = dst\n",
        "\n",
        "# val--------------------------------------------------\n",
        "src, dst = translate_to_russin(model, tokenizer, data_valid, data_valid_dst)\n",
        "\n",
        "for i, obj  in enumerate(src):\n",
        "  src[i] = src[i].replace('&gt;', '')\n",
        "  #src[i] = re.sub(r'[&gt;{1,}]', \" \", src[i])\n",
        "  src[i] = src[i].replace('&lt;', '')\n",
        "  src[i] = src[i].replace('()', '')\n",
        "  src[i] = src[i].replace('&quot;', '')\n",
        "for i, obj in enumerate(dst):\n",
        "  dst[i] = dst[i].replace('&gt;', '')\n",
        "  dst[i] = dst[i].replace('&lt;', '')\n",
        "  dst[i] = dst[i].replace('()', '')\n",
        "  dst[i] = dst[i].replace('&quot;', '')\n",
        "df_val['target_x'] = src\n",
        "df_val['target_y'] = dst\n",
        "\n",
        "# test--------------------------------------------------\n",
        "src, dst = translate_to_russin(model, tokenizer, data_test, data_test_dst)\n",
        "for i, obj  in enumerate(src):\n",
        "  src[i] = src[i].replace('&gt;', '')\n",
        "  #src[i] = re.sub(r'[&gt;{1,}]', \" \", src[i])\n",
        "  src[i] = src[i].replace('&lt;', '')\n",
        "  src[i] = src[i].replace('()', '')\n",
        "  src[i] = src[i].replace('&quot;', '')\n",
        "for i, obj in enumerate(dst):\n",
        "  dst[i] = dst[i].replace('&gt;', '')\n",
        "  dst[i] = dst[i].replace('&lt;', '')\n",
        "  dst[i] = dst[i].replace('()', '')\n",
        "  dst[i] = dst[i].replace('&quot;', '')\n",
        "df_test['target_x'] = src\n",
        "df_test['target_y'] = dst\n",
        "\n",
        "df_train.to_csv('/content/drive/MyDrive/MT_sentence_simpl/wiki_train_mtt.csv')\n",
        "df_val.to_csv('/content/drive/MyDrive/MT_sentence_simpl/wiki_val_mtt.csv')\n",
        "df_test.to_csv('/content/drive/MyDrive/MT_sentence_simpl/wiki_test_mtt.csv')"
      ],
      "execution_count": null,
      "outputs": []
    },
    {
      "cell_type": "markdown",
      "metadata": {
        "id": "PPUUaT9ex7uq"
      },
      "source": [
        "### Making the whole dataset from pieces"
      ]
    },
    {
      "cell_type": "code",
      "metadata": {
        "id": "dRErL1DCatCd"
      },
      "source": [
        "# 1-2\n",
        "! gdown https://drive.google.com/uc?id=1-0oww8dmt7jRiE4uMVVd1GqrU51rpWNm\n",
        "#https://drive.google.com/file/d/1-0oww8dmt7jRiE4uMVVd1GqrU51rpWNm/view?usp=sharing\n",
        "\n",
        "# 2 - 22\n",
        "! gdown https://drive.google.com/uc?id=1-2CTWEuaCaTeOSWVHWVD9hytmnsT-xov\n",
        "# https://drive.google.com/file/d/1-2CTWEuaCaTeOSWVHWVD9hytmnsT-xov/view?usp=sharing\n",
        "\n",
        "# 22-42\n",
        "! gdown https://drive.google.com/uc?id=1-4tocDbuVFdcEfWnGsXJYl6UNUigT2O6\n",
        "# https://drive.google.com/file/d/1-4tocDbuVFdcEfWnGsXJYl6UNUigT2O6/view?usp=sharing\n",
        "\n",
        "# 42-62\n",
        "! gdown https://drive.google.com/uc?id=1-9Yxy9dIQT_jtih9cgkAIyQibeZ1iPAF\n",
        "# https://drive.google.com/file/d/1-9Yxy9dIQT_jtih9cgkAIyQibeZ1iPAF/view?usp=sharing\n",
        "\n",
        "# 62-82\n",
        "! gdown https://drive.google.com/uc?id=15HE_G_1iRvLsfUHKOOa0bvuYYtAJ503P\n",
        "# https://drive.google.com/file/d/15HE_G_1iRvLsfUHKOOa0bvuYYtAJ503P/view?usp=sharing\n",
        "\n",
        "# 82 - 112\n",
        "! gdown https://drive.google.com/uc?id=1-1zRK3DO25xazojKj31he1U9cUmtqovg\n",
        "# https://drive.google.com/file/d/1-1zRK3DO25xazojKj31he1U9cUmtqovg/view?usp=sharing\n",
        "\n",
        "# 112-132\n",
        "! gdown https://drive.google.com/uc?id=1-2o-bgldNJWYvEtY6uN0w5fae6KbajdR\n",
        "# https://drive.google.com/file/d/1-2o-bgldNJWYvEtY6uN0w5fae6KbajdR/view?usp=sharing\n",
        "\n",
        "# 132 -152\n",
        "! gdown https://drive.google.com/uc?id=1e7sPM2AL03EBlJuNzCQgKHL_Zq8Tc5UP\n",
        "#https://drive.google.com/file/d/1e7sPM2AL03EBlJuNzCQgKHL_Zq8Tc5UP/view?usp=sharing\n",
        "\n",
        "# 152 - 182\n",
        "! gdown https://drive.google.com/uc?id=1--lcK4KBaK_hkK4lVBbf-ze7lSdxSt2k\n",
        "# https://drive.google.com/file/d/1--lcK4KBaK_hkK4lVBbf-ze7lSdxSt2k/view?usp=sharing\n",
        "\n",
        "# 182 - 212\n",
        "! gdown https://drive.google.com/uc?id=1-0loBcmLIYdxtMIBWxyyAHQyPCp1mJF9\n",
        "# https://drive.google.com/file/d/1-0loBcmLIYdxtMIBWxyyAHQyPCp1mJF9/view?usp=sharing\n",
        "\n",
        "# 212 - 232\n",
        "! gdown https://drive.google.com/uc?id=1-4qPowP66ximyi7Q6lqsit9BKmqAinzz\n",
        "# https://drive.google.com/file/d/1-4qPowP66ximyi7Q6lqsit9BKmqAinzz/view?usp=sharing\n",
        "\n",
        "# 232 - 246 \n",
        "! gdown https://drive.google.com/uc?id=1-63gYL7NMFB4Tvh0y24CkDd370ZOsbTV\n",
        "# https://drive.google.com/file/d/1-63gYL7NMFB4Tvh0y24CkDd370ZOsbTV/view?usp=sharing"
      ],
      "execution_count": null,
      "outputs": []
    },
    {
      "cell_type": "code",
      "metadata": {
        "id": "xVeDHf2PyePV"
      },
      "source": [
        "# from pathlib import Path\n",
        "# for i in p.glob('./wiki_train_mtt*.csv'):\n",
        "#   print(p.cwd().joinpath(i))"
      ],
      "execution_count": null,
      "outputs": []
    },
    {
      "cell_type": "code",
      "metadata": {
        "id": "iWImOcKhzEUs"
      },
      "source": [
        "paths = ['/content/wiki_train_mtt_1-2k.csv',\n",
        "         '/content/wiki_train_mtt_2-22k.csv',\n",
        "         '/content/wiki_train_mtt_22-42k.csv',\n",
        "         '/content/wiki_train_mtt_42-62k.csv',\n",
        "         '/content/wiki_train_mtt_62-82k.csv',\n",
        "         '/content/wiki_train_mtt_82-112k.csv',\n",
        "         '/content/wiki_train_mtt_112-132k.csv',\n",
        "         '/content/wiki_train_mtt_132-152k.csv',\n",
        "         '/content/wiki_train_mtt_152-182k.csv',\n",
        "         '/content/wiki_train_mtt_182-212k.csv', \n",
        "         '/content/wiki_train_mtt_212-232k.csv',\n",
        "         '/content/wiki_train_mtt_232-246k.csv'\n",
        "         ]\n",
        "train_full = pd.read_csv(paths[0])\n",
        "for i in paths[1:]:\n",
        "    train_full = pd.concat((train_full, pd.read_csv(i)))\n",
        "\n",
        "train_full.to_csv('/content/drive/MyDrive/MT_sentence_simpl/wiki_train_mtt.csv', index=False)"
      ],
      "execution_count": null,
      "outputs": []
    },
    {
      "cell_type": "markdown",
      "metadata": {
        "id": "erGzvb3tjlRL"
      },
      "source": [
        "Upload the transformer translation"
      ]
    },
    {
      "cell_type": "code",
      "metadata": {
        "id": "mGGMVG10i5qu",
        "colab": {
          "base_uri": "https://localhost:8080/"
        },
        "outputId": "58fc9bed-0d58-4532-8461-9a2988e6c79f"
      },
      "source": [
        "! gdown https://drive.google.com/uc?id=1--3BHQFq5hKy5RiI4G1nfFG6Erj9iN4s\n",
        "! gdown https://drive.google.com/uc?id=17dwqCJc7hWpG39LrJMFmsqbTMiFt7KtD\n",
        "! gdown https://drive.google.com/uc?id=1URMCB5ocu_Xeco_df3ol4XnfY1k6LpmU\n",
        "\n",
        "df_train_mt = pd.read_csv('/content/wiki_train_mtt.csv')\n",
        "df_val_mt = pd.read_csv('/content/wiki_val_mtt.csv')\n",
        "df_test_mt = pd.read_csv('/content/wiki_test_mtt.csv')"
      ],
      "execution_count": null,
      "outputs": [
        {
          "output_type": "stream",
          "text": [
            "Downloading...\n",
            "From: https://drive.google.com/uc?id=1--3BHQFq5hKy5RiI4G1nfFG6Erj9iN4s\n",
            "To: /content/wiki_test_mtt.csv\n",
            "100% 220k/220k [00:00<00:00, 28.3MB/s]\n",
            "Downloading...\n",
            "From: https://drive.google.com/uc?id=17dwqCJc7hWpG39LrJMFmsqbTMiFt7KtD\n",
            "To: /content/wiki_val_mtt.csv\n",
            "100% 563k/563k [00:00<00:00, 30.8MB/s]\n",
            "Downloading...\n",
            "From: https://drive.google.com/uc?id=1URMCB5ocu_Xeco_df3ol4XnfY1k6LpmU\n",
            "To: /content/wiki_train_mtt.csv\n",
            "167MB [00:01, 114MB/s]\n"
          ],
          "name": "stdout"
        }
      ]
    },
    {
      "cell_type": "markdown",
      "metadata": {
        "id": "gXPNUnidZ5yi"
      },
      "source": [
        "A better translation obtained via Google translate API"
      ]
    },
    {
      "cell_type": "code",
      "metadata": {
        "id": "jjtjZQenbzC1",
        "colab": {
          "base_uri": "https://localhost:8080/"
        },
        "outputId": "0e62aadd-a9ca-4cee-c404-7f7eceff097f"
      },
      "source": [
        "! gdown https://drive.google.com/uc?id=1dB3X-Wx8qU_5nDG_pxAmLvo5H_sgnHrE\n",
        "! gdown https://drive.google.com/uc?id=1bJo8TagTGKa0uyppQRqsHrKHyYO5tcZc\n",
        "! gdown https://drive.google.com/uc?id=11lqipq6ggrgCk8bVxQ4-uuPVMCKN5ebU\n",
        "\n",
        "df_val_gl = pd.read_csv('/content/wiki_dev_cleaned_translated_sd.csv')\n",
        "df_test_gl = pd.read_csv('/content/wiki_test_cleaned_translated_sd.csv')\n",
        "df_train_gl = pd.read_csv('/content/wiki_train_cleaned_translated_sd.csv')"
      ],
      "execution_count": null,
      "outputs": [
        {
          "output_type": "stream",
          "text": [
            "Downloading...\n",
            "From: https://drive.google.com/uc?id=1dB3X-Wx8qU_5nDG_pxAmLvo5H_sgnHrE\n",
            "To: /content/wiki_train_cleaned_translated_sd.csv\n",
            "172MB [00:01, 130MB/s]\n",
            "Downloading...\n",
            "From: https://drive.google.com/uc?id=1bJo8TagTGKa0uyppQRqsHrKHyYO5tcZc\n",
            "To: /content/wiki_dev_cleaned_translated_sd.csv\n",
            "100% 545k/545k [00:00<00:00, 81.6MB/s]\n",
            "Downloading...\n",
            "From: https://drive.google.com/uc?id=11lqipq6ggrgCk8bVxQ4-uuPVMCKN5ebU\n",
            "To: /content/wiki_test_cleaned_translated_sd.csv\n",
            "100% 254k/254k [00:00<00:00, 37.1MB/s]\n"
          ],
          "name": "stdout"
        }
      ]
    },
    {
      "cell_type": "code",
      "metadata": {
        "colab": {
          "base_uri": "https://localhost:8080/",
          "height": 482
        },
        "id": "dvPdxwRmGiOh",
        "outputId": "3c5d2a74-500a-41d9-849e-5a43563e2397"
      },
      "source": [
        "df_dev_google.sample(3)"
      ],
      "execution_count": null,
      "outputs": [
        {
          "output_type": "execute_result",
          "data": {
            "text/html": [
              "<div>\n",
              "<style scoped>\n",
              "    .dataframe tbody tr th:only-of-type {\n",
              "        vertical-align: middle;\n",
              "    }\n",
              "\n",
              "    .dataframe tbody tr th {\n",
              "        vertical-align: top;\n",
              "    }\n",
              "\n",
              "    .dataframe thead th {\n",
              "        text-align: right;\n",
              "    }\n",
              "</style>\n",
              "<table border=\"1\" class=\"dataframe\">\n",
              "  <thead>\n",
              "    <tr style=\"text-align: right;\">\n",
              "      <th></th>\n",
              "      <th>Unnamed: 0</th>\n",
              "      <th>src</th>\n",
              "      <th>dst</th>\n",
              "      <th>target_x</th>\n",
              "      <th>target_y</th>\n",
              "    </tr>\n",
              "  </thead>\n",
              "  <tbody>\n",
              "    <tr>\n",
              "      <th>208</th>\n",
              "      <td>208</td>\n",
              "      <td>Additionally , since this AO system provides an excellent and stable correction ( angular resolution of 0.060 arcsec in K band ) , a 15-km moonlet at 1000 km of Hektor 's primary was detected .</td>\n",
              "      <td>Additionally , since this AO system provides an excellent and stable correction ( angular resolution of 0.060 arcsec in K band ) , a 15-km moon at 1000 km from Hektor was found .</td>\n",
              "      <td>Кроме того, поскольку эта система AO обеспечивает отличную и стабильную коррекцию (угловое разрешение 0,060 угловой секунды в диапазоне K), была обнаружена луна длиной 15 км на 1000 км от главной звезды Гектора.</td>\n",
              "      <td>Кроме того, поскольку эта система AO обеспечивает отличную и стабильную коррекцию (угловое разрешение 0,060 угловой секунды в диапазоне K), была обнаружена 15-километровая луна в 1000 км от Гектора.</td>\n",
              "    </tr>\n",
              "    <tr>\n",
              "      <th>29</th>\n",
              "      <td>29</td>\n",
              "      <td>Class 316 and Class 457 were TOPS classifications assigned to a single electric multiple unit ( EMU ) at different stages of its use as a prototype for the Networker series .</td>\n",
              "      <td>Class 316 and Class 457 were two suggested TOPS classifications . They were given to a single electric multiple unit ( EMU ) at different stages of its use as a prototype for the Networker series .</td>\n",
              "      <td>Классы 316 и 457 были классификациями TOPS, присвоенными одиночному электрическому блоку (EMU) на разных этапах его использования в качестве прототипа для серии Networker.</td>\n",
              "      <td>Класс 316 и класс 457 были двумя предложенными классификациями TOPS. Они были переданы в единый электрический многоканальный блок (EMU) на разных этапах его использования в качестве прототипа для серии Networker.</td>\n",
              "    </tr>\n",
              "    <tr>\n",
              "      <th>51</th>\n",
              "      <td>51</td>\n",
              "      <td>Mount Batur ( Gunung Batur ) is an active volcano located at the center of two concentric calderas north west of Mount Agung , Bali , Indonesia .</td>\n",
              "      <td>Mount Batur or Gunung Batur is a volcano on Bali .</td>\n",
              "      <td>Гора Батур (Гунунг Батур) - действующий вулкан, расположенный в центре двух концентрических кальдер к северо-западу от горы Агунг, Бали, Индонезия.</td>\n",
              "      <td>Гора Батур или Гунунг Батур - вулкан на Бали.</td>\n",
              "    </tr>\n",
              "  </tbody>\n",
              "</table>\n",
              "</div>"
            ],
            "text/plain": [
              "     Unnamed: 0                                                                                                                                                                                                src                                                                                                                                                                                                    dst                                                                                                                                                                                                             target_x                                                                                                                                                                                                              target_y\n",
              "208         208  Additionally , since this AO system provides an excellent and stable correction ( angular resolution of 0.060 arcsec in K band ) , a 15-km moonlet at 1000 km of Hektor 's primary was detected .                     Additionally , since this AO system provides an excellent and stable correction ( angular resolution of 0.060 arcsec in K band ) , a 15-km moon at 1000 km from Hektor was found .  Кроме того, поскольку эта система AO обеспечивает отличную и стабильную коррекцию (угловое разрешение 0,060 угловой секунды в диапазоне K), была обнаружена луна длиной 15 км на 1000 км от главной звезды Гектора.                Кроме того, поскольку эта система AO обеспечивает отличную и стабильную коррекцию (угловое разрешение 0,060 угловой секунды в диапазоне K), была обнаружена 15-километровая луна в 1000 км от Гектора.\n",
              "29           29                     Class 316 and Class 457 were TOPS classifications assigned to a single electric multiple unit ( EMU ) at different stages of its use as a prototype for the Networker series .  Class 316 and Class 457 were two suggested TOPS classifications . They were given to a single electric multiple unit ( EMU ) at different stages of its use as a prototype for the Networker series .                                          Классы 316 и 457 были классификациями TOPS, присвоенными одиночному электрическому блоку (EMU) на разных этапах его использования в качестве прототипа для серии Networker.  Класс 316 и класс 457 были двумя предложенными классификациями TOPS. Они были переданы в единый электрический многоканальный блок (EMU) на разных этапах его использования в качестве прототипа для серии Networker.\n",
              "51           51                                                  Mount Batur ( Gunung Batur ) is an active volcano located at the center of two concentric calderas north west of Mount Agung , Bali , Indonesia .                                                                                                                                                     Mount Batur or Gunung Batur is a volcano on Bali .                                                                  Гора Батур (Гунунг Батур) - действующий вулкан, расположенный в центре двух концентрических кальдер к северо-западу от горы Агунг, Бали, Индонезия.                                                                                                                                                                         Гора Батур или Гунунг Батур - вулкан на Бали."
            ]
          },
          "metadata": {
            "tags": []
          },
          "execution_count": 33
        }
      ]
    },
    {
      "cell_type": "markdown",
      "metadata": {
        "id": "TegTwaJVQWuy"
      },
      "source": [
        "# Evaluation of all the data\n",
        "\n",
        "### WikiLarge\n",
        "\n",
        "* Cosine Similarity between original/simple sentences\n",
        "* Flesch Kincaid Grade Level\n",
        "* Grammar Check\n",
        "\n",
        "### WikiLarge MT Helsinki opus and GOogle Api translations + Original dataset (dev+ test parts) collected via Toloka\n",
        "\n",
        "* Cosine Similarity between original/simple sentences\n",
        "* Cosine Similarity between original sentences and their translation, simple sentences and their translations\n",
        "* Flesch Kincaid Grade Level\n",
        "* Grammar Check\n",
        "\n"
      ]
    },
    {
      "cell_type": "markdown",
      "metadata": {
        "id": "QvmF2KTTvcoz"
      },
      "source": [
        "# Evaluation of WikiLarge"
      ]
    },
    {
      "cell_type": "markdown",
      "metadata": {
        "id": "e9ED8wb5vp_O"
      },
      "source": [
        "### Cosine Similarity between original/simple sentences"
      ]
    },
    {
      "cell_type": "code",
      "metadata": {
        "id": "uuaE7DPFwD-6"
      },
      "source": [
        "from transformers import RobertaTokenizer, RobertaModel, AutoConfig, AutoTokenizer, AutoModelForMaskedLM\n",
        "device = \"cuda\" if torch.cuda.is_available() else \"cpu\"\n",
        "config = AutoConfig.from_pretrained(\"roberta-base\") # \"roberta-base\" 'xlm-mlm-100-1280' 'xlm-roberta-base' 'bert-base-multilingual-cased'\n",
        "config.output_hidden_states = True\n",
        "\n",
        "tok = AutoTokenizer.from_pretrained(\"roberta-base\")\n",
        "model = AutoModelForMaskedLM.from_pretrained(\"roberta-base\", config=config)\n",
        "model.to(device)\n",
        "\n",
        "# from sklearn.metrics.pairwise import cosine_similarity\n",
        "\n",
        "# shape should be [1, something (768, ex)]\n",
        "\n",
        "# import numpy as np\n",
        "# def cs(a, b):\n",
        "#   return (a @ b.T)/(np.linalg.norm(a)*np.linalg.norm(b))\n",
        "\n",
        "def calc_cos_sim(df, model,tok, x, y, column_name):\n",
        "    Cos_sim= []\n",
        "    for index, row in df.iterrows():\n",
        "        \n",
        "        # original\n",
        "          sentence_A = tok.encode(row[x], padding='max_length', max_length=50, truncation=True, return_tensors='pt')\n",
        "          sentence_A = sentence_A.to(device)\n",
        "          output = model(sentence_A)\n",
        "          sent_emb = output[-1][0]\n",
        "          emb_source = sent_emb.mean(axis=1)\n",
        "          emb_source = emb_source.cpu().detach().numpy()\n",
        "\n",
        "          sentence_B = tok.encode(row[y], padding='max_length', max_length=50, truncation=True, return_tensors='pt')\n",
        "          sentence_B = sentence_B.to(device)\n",
        "          output = model(sentence_B)\n",
        "          sent_emb = output[-1][0]\n",
        "          emb_target= sent_emb.mean(axis=1)\n",
        "          emb_target = emb_target.cpu().detach().numpy()\n",
        "\n",
        "          cos_val = cosine_similarity(emb_source.reshape(emb_source.shape[0], -1), emb_target.reshape(emb_target.shape[0], -1))[0][0]\n",
        "          Cos_sim.append(cos_val)\n",
        "    df[column_name] = Cos_sim"
      ],
      "execution_count": null,
      "outputs": []
    },
    {
      "cell_type": "code",
      "metadata": {
        "id": "NzwERcKVwx_H"
      },
      "source": [
        "calc_cos_sim(df_test, model, tok, 'src', 'dst', 'cos_sim_src_dst')\n",
        "calc_cos_sim(df_val, model, tok, 'src', 'dst', 'cos_sim_src_dst')\n",
        "calc_cos_sim(df_train, model, tok, 'src', 'dst', 'cos_sim_src_dst')"
      ],
      "execution_count": null,
      "outputs": []
    },
    {
      "cell_type": "code",
      "metadata": {
        "colab": {
          "base_uri": "https://localhost:8080/"
        },
        "id": "ZX84houNGkgq",
        "outputId": "7e3c611f-b6e4-459f-fa72-5da16643caf4"
      },
      "source": [
        "df_train.cos_sim_src_dst.mean(), df_val.cos_sim_src_dst.mean(), df_test.cos_sim_src_dst.mean()"
      ],
      "execution_count": null,
      "outputs": [
        {
          "output_type": "execute_result",
          "data": {
            "text/plain": [
              "(0.8546753056345266, 0.8547325381886187, 0.9688304633450654)"
            ]
          },
          "metadata": {
            "tags": []
          },
          "execution_count": 37
        }
      ]
    },
    {
      "cell_type": "markdown",
      "metadata": {
        "id": "MeZe6kiC8SzI"
      },
      "source": [
        "### Flesch Kincaid Grade Level"
      ]
    },
    {
      "cell_type": "code",
      "metadata": {
        "id": "5vlTbld78YIR"
      },
      "source": [
        "textstat.set_lang('en')"
      ],
      "execution_count": null,
      "outputs": []
    },
    {
      "cell_type": "markdown",
      "metadata": {
        "id": "tsMmG-ASGjep"
      },
      "source": [
        " Путем объединения"
      ]
    },
    {
      "cell_type": "code",
      "metadata": {
        "colab": {
          "base_uri": "https://localhost:8080/"
        },
        "id": "81ZqY9H2_r9j",
        "outputId": "a64f4c72-c435-4176-dd23-126d877d7a3b"
      },
      "source": [
        "a, b = ' '.join(list(df_train['src'].values)), ' '.join(list(df_train['dst'].values))\n",
        "fk_src = textstat.flesch_kincaid_grade(a)\n",
        "fk_dst = textstat.flesch_kincaid_grade(b)\n",
        "asl_src = textstat.syllable_count(a)\n",
        "asl_dst = textstat.syllable_count(b)\n",
        "aws_src = textstat.lexicon_count(a)\n",
        "aws_dst = textstat.lexicon_count(b)\n",
        "ease_src = textstat.flesch_reading_ease(a)\n",
        "ease_dst = textstat.flesch_reading_ease(b)\n",
        "fk_src, fk_dst, asl_src, asl_dst, aws_src, aws_dst, ease_src, ease_dst"
      ],
      "execution_count": null,
      "outputs": [
        {
          "output_type": "execute_result",
          "data": {
            "text/plain": [
              "(7.1, 5.0, 6415755, 5114582, 5546816, 4426502, 106.25, 113.27)"
            ]
          },
          "metadata": {
            "tags": []
          },
          "execution_count": 36
        }
      ]
    },
    {
      "cell_type": "code",
      "metadata": {
        "colab": {
          "base_uri": "https://localhost:8080/"
        },
        "id": "TGAe2w6aE5i1",
        "outputId": "4c6adb8f-e40c-469f-e550-4f9cd2aeba9c"
      },
      "source": [
        "a, b = ' '.join(list(df_val['src'].values)), ' '.join(list(df_val['dst'].values))\n",
        "fk_src = textstat.flesch_kincaid_grade(a)\n",
        "fk_dst = textstat.flesch_kincaid_grade(b)\n",
        "asl_src = textstat.syllable_count(a)\n",
        "asl_dst = textstat.syllable_count(b)\n",
        "aws_src = textstat.lexicon_count(a)\n",
        "aws_dst = textstat.lexicon_count(b)\n",
        "ease_src = textstat.flesch_reading_ease(a)\n",
        "ease_dst = textstat.flesch_reading_ease(b)\n",
        "fk_src, fk_dst, asl_src, asl_dst, aws_src, aws_dst, ease_src, ease_dst"
      ],
      "execution_count": null,
      "outputs": [
        {
          "output_type": "execute_result",
          "data": {
            "text/plain": [
              "(7.3, 5.2, 21474, 17343, 18633, 15033, 105.73, 112.62)"
            ]
          },
          "metadata": {
            "tags": []
          },
          "execution_count": 42
        }
      ]
    },
    {
      "cell_type": "code",
      "metadata": {
        "colab": {
          "base_uri": "https://localhost:8080/"
        },
        "id": "GbCA1ULaGcPW",
        "outputId": "4d2e49f7-28d0-4685-906f-1f12b0fb9178"
      },
      "source": [
        "a, b = ' '.join(list(df_test['src'].values)), ' '.join(list(df_test['dst'].values))\n",
        "fk_src = textstat.flesch_kincaid_grade(a)\n",
        "fk_dst = textstat.flesch_kincaid_grade(b)\n",
        "asl_src = textstat.syllable_count(a)\n",
        "asl_dst = textstat.syllable_count(b)\n",
        "aws_src = textstat.lexicon_count(a)\n",
        "aws_dst = textstat.lexicon_count(b)\n",
        "ease_src = textstat.flesch_reading_ease(a)\n",
        "ease_dst = textstat.flesch_reading_ease(b)\n",
        "fk_src, fk_dst, asl_src, asl_dst, aws_src, aws_dst, ease_src, ease_dst"
      ],
      "execution_count": null,
      "outputs": [
        {
          "output_type": "execute_result",
          "data": {
            "text/plain": [
              "(4.9, 4.3, 7359, 7101, 6465, 6307, 115.64, 117.72)"
            ]
          },
          "metadata": {
            "tags": []
          },
          "execution_count": 43
        }
      ]
    },
    {
      "cell_type": "markdown",
      "metadata": {
        "id": "mEjrS3zXGoe-"
      },
      "source": [
        "Среднее значение по предложениям"
      ]
    },
    {
      "cell_type": "code",
      "metadata": {
        "id": "mk7figXR8YS9"
      },
      "source": [
        "df_train['fkg_src'] = df_train['src'].apply(lambda x: textstat.flesch_kincaid_grade(x))\n",
        "df_train['fkg_dst'] = df_train['dst'].apply(lambda x: textstat.flesch_kincaid_grade(x))\n",
        "\n",
        "df_val['fkg_src'] = df_val['src'].apply(lambda x: textstat.flesch_kincaid_grade(x))\n",
        "df_val['fkg_dst'] = df_val['dst'].apply(lambda x: textstat.flesch_kincaid_grade(x))\n",
        "\n",
        "df_test['fkg_src'] = df_test['src'].apply(lambda x: textstat.flesch_kincaid_grade(x))\n",
        "df_test['fkg_dst'] = df_test['dst'].apply(lambda x: textstat.flesch_kincaid_grade(x))"
      ],
      "execution_count": null,
      "outputs": []
    },
    {
      "cell_type": "code",
      "metadata": {
        "id": "ejAMUpXBrEDP"
      },
      "source": [
        "df_train['asl_src'] = df_train['src'].apply(lambda x: textstat.syllable_count(x))\n",
        "df_train['asl_dst'] = df_train['dst'].apply(lambda x: textstat.syllable_count(x))\n",
        "\n",
        "df_val['asl_src'] = df_val['src'].apply(lambda x: textstat.syllable_count(x))\n",
        "df_val['asl_dst'] = df_val['dst'].apply(lambda x: textstat.syllable_count(x))\n",
        "\n",
        "df_test['asl_src'] = df_test['src'].apply(lambda x: textstat.syllable_count(x))\n",
        "df_test['asl_dst'] = df_test['dst'].apply(lambda x: textstat.syllable_count(x))\n",
        "\n",
        "\n",
        "\n",
        "df_train['aws_src'] = df_train['src'].apply(lambda x: textstat.lexicon_count(x))\n",
        "df_train['aws_dst'] = df_train['dst'].apply(lambda x: textstat.lexicon_count(x))\n",
        "\n",
        "df_val['aws_src'] = df_val['src'].apply(lambda x: textstat.lexicon_count(x))\n",
        "df_val['aws_dst'] = df_val['dst'].apply(lambda x: textstat.lexicon_count(x))\n",
        "\n",
        "df_test['aws_src'] = df_test['src'].apply(lambda x: textstat.lexicon_count(x))\n",
        "df_test['aws_dst'] = df_test['dst'].apply(lambda x: textstat.lexicon_count(x))\n",
        "\n",
        "df_train['ease_src'] = df_train['src'].apply(lambda x: textstat.flesch_reading_ease(x))\n",
        "df_train['ease_dst'] = df_train['dst'].apply(lambda x: textstat.flesch_reading_ease(x))\n",
        "\n",
        "df_val['ease_src'] = df_val['src'].apply(lambda x: textstat.flesch_reading_ease(x))\n",
        "df_val['ease_dst'] = df_val['dst'].apply(lambda x: textstat.flesch_reading_ease(x))\n",
        "\n",
        "df_test['ease_src'] = df_test['src'].apply(lambda x: textstat.flesch_reading_ease(x))\n",
        "df_test['ease_dst'] = df_test['dst'].apply(lambda x: textstat.flesch_reading_ease(x))"
      ],
      "execution_count": null,
      "outputs": []
    },
    {
      "cell_type": "code",
      "metadata": {
        "id": "2WloALN0GwZ2"
      },
      "source": [
        "df_train['ease_src'] = df_train['src'].apply(lambda x: textstat.flesch_reading_ease(x))\n",
        "df_train['ease_dst'] = df_train['dst'].apply(lambda x: textstat.flesch_reading_ease(x))\n",
        "\n",
        "df_val['ease_src'] = df_val['src'].apply(lambda x: textstat.flesch_reading_ease(x))\n",
        "df_val['ease_dst'] = df_val['dst'].apply(lambda x: textstat.flesch_reading_ease(x))\n",
        "\n",
        "df_test['ease_src'] = df_test['src'].apply(lambda x: textstat.flesch_reading_ease(x))\n",
        "df_test['ease_dst'] = df_test['dst'].apply(lambda x: textstat.flesch_reading_ease(x))"
      ],
      "execution_count": null,
      "outputs": []
    },
    {
      "cell_type": "code",
      "metadata": {
        "colab": {
          "base_uri": "https://localhost:8080/"
        },
        "id": "b37Q3x9KHgsG",
        "outputId": "6b86fb55-8baa-4d54-a112-a2d86f32ed23"
      },
      "source": [
        "df_train.fkg_src.mean(), df_train.fkg_dst.mean(), df_train.fkg_src.mean() - df_train.fkg_dst.mean()"
      ],
      "execution_count": null,
      "outputs": [
        {
          "output_type": "execute_result",
          "data": {
            "text/plain": [
              "(11.971624297044338, 9.28312057426604, 2.6885037227782984)"
            ]
          },
          "metadata": {
            "tags": []
          },
          "execution_count": 45
        }
      ]
    },
    {
      "cell_type": "code",
      "metadata": {
        "colab": {
          "base_uri": "https://localhost:8080/"
        },
        "id": "qL7yN-ejIVLm",
        "outputId": "d705e6d8-d6c9-4180-a9a9-60fac036ce25"
      },
      "source": [
        "df_val.fkg_src.mean(), df_val.fkg_dst.mean(), df_val.fkg_src.mean() - df_val.fkg_dst.mean()"
      ],
      "execution_count": null,
      "outputs": [
        {
          "output_type": "execute_result",
          "data": {
            "text/plain": [
              "(12.096454767726172, 9.439119804400974, 2.657334963325198)"
            ]
          },
          "metadata": {
            "tags": []
          },
          "execution_count": 46
        }
      ]
    },
    {
      "cell_type": "code",
      "metadata": {
        "colab": {
          "base_uri": "https://localhost:8080/"
        },
        "id": "p9qSMkVCIePi",
        "outputId": "cd42ef90-0e8f-4094-c1d5-8f299e69fe86"
      },
      "source": [
        "df_test.fkg_src.mean(), df_test.fkg_dst.mean(), df_test.fkg_src.mean() - df_test.fkg_dst.mean()"
      ],
      "execution_count": null,
      "outputs": [
        {
          "output_type": "execute_result",
          "data": {
            "text/plain": [
              "(11.017484662576688, 9.821779141104283, 1.195705521472405)"
            ]
          },
          "metadata": {
            "tags": []
          },
          "execution_count": 47
        }
      ]
    },
    {
      "cell_type": "code",
      "metadata": {
        "colab": {
          "base_uri": "https://localhost:8080/"
        },
        "id": "Jx8R_5HPHKk3",
        "outputId": "988cfaf8-25d1-4061-b974-216db6647f40"
      },
      "source": [
        "df_train.ease_src.mean(), df_train.ease_dst.mean(), df_train.ease_src.mean() - df_train.ease_dst.mean()"
      ],
      "execution_count": null,
      "outputs": [
        {
          "output_type": "execute_result",
          "data": {
            "text/plain": [
              "(108.62351200250956, 115.37726150150199, -6.753749498992434)"
            ]
          },
          "metadata": {
            "tags": []
          },
          "execution_count": 45
        }
      ]
    },
    {
      "cell_type": "code",
      "metadata": {
        "colab": {
          "base_uri": "https://localhost:8080/"
        },
        "id": "t6WTGO7oGvFk",
        "outputId": "c3c60cd1-8636-48b7-aa13-c756ad42b445"
      },
      "source": [
        "df_val.ease_src.mean(), df_val.ease_dst.mean(), df_val.ease_src.mean() - df_val.ease_dst.mean()"
      ],
      "execution_count": null,
      "outputs": [
        {
          "output_type": "execute_result",
          "data": {
            "text/plain": [
              "(108.42540342298297, 114.76784841075778, -6.342444987774812)"
            ]
          },
          "metadata": {
            "tags": []
          },
          "execution_count": 46
        }
      ]
    },
    {
      "cell_type": "code",
      "metadata": {
        "colab": {
          "base_uri": "https://localhost:8080/"
        },
        "id": "yymo9vJpHUXH",
        "outputId": "3b624af6-d054-425b-f7a5-4e7ed2997ae2"
      },
      "source": [
        "df_test.ease_src.mean(), df_test.ease_dst.mean(), df_test.ease_src.mean() - df_test.ease_dst.mean()"
      ],
      "execution_count": null,
      "outputs": [
        {
          "output_type": "execute_result",
          "data": {
            "text/plain": [
              "(112.74450920245376, 115.11917177914093, -2.3746625766871716)"
            ]
          },
          "metadata": {
            "tags": []
          },
          "execution_count": 47
        }
      ]
    },
    {
      "cell_type": "code",
      "metadata": {
        "id": "tYnXzjGYIi_X"
      },
      "source": [
        "df_train.to_csv('/content/drive/MyDrive/MT_sentence_simpl/WikiLarge_train_CosSImFKG.csv')\n",
        "df_val.to_csv('/content/drive/MyDrive/MT_sentence_simpl/WikiLarge_val_CosSImFKG.csv')\n",
        "df_test.to_csv('/content/drive/MyDrive/MT_sentence_simpl/WikiLarge_test_CosSImFKG.csv')\n",
        "\n",
        "#Alex.waters"
      ],
      "execution_count": null,
      "outputs": []
    },
    {
      "cell_type": "markdown",
      "metadata": {
        "id": "wW21UVGAJY5M"
      },
      "source": [
        "### Grammar Checker"
      ]
    },
    {
      "cell_type": "code",
      "metadata": {
        "id": "SswWjdzPJbRu",
        "colab": {
          "base_uri": "https://localhost:8080/"
        },
        "outputId": "3c547e6e-cf82-4612-cf07-b1afa3a01ca5"
      },
      "source": [
        "tool = language_tool_python.LanguageTool('en')"
      ],
      "execution_count": null,
      "outputs": [
        {
          "output_type": "stream",
          "text": [
            "Downloading LanguageTool: 100%|██████████| 190M/190M [00:15<00:00, 12.0MB/s]\n",
            "Unzipping /tmp/tmpz7h9vuh4.zip to /root/.cache/language_tool_python.\n",
            "Downloaded https://www.languagetool.org/download/LanguageTool-5.2.zip to /root/.cache/language_tool_python.\n"
          ],
          "name": "stderr"
        }
      ]
    },
    {
      "cell_type": "code",
      "metadata": {
        "id": "7tGvnGzTJbW-"
      },
      "source": [
        "def get_mistakes_summary(df_test):\n",
        "    src_test = list(df_test['src'].values)\n",
        "    dst_test =list(df_test['dst'].values)\n",
        "    matches_src = []\n",
        "    for i in src_test:\n",
        "      matches_src.extend(tool.check(i))\n",
        "    matches_src\n",
        "\n",
        "    matches_dst = []\n",
        "    for i in dst_test:\n",
        "      matches_dst.extend(tool.check(i))\n",
        "    matches_dst\n",
        "\n",
        "    categories = set([i.category for i in matches_src+matches_dst])\n",
        "\n",
        "    categories_src = {i:0 for i in categories}\n",
        "    categories_dst = {i:0 for i in categories}\n",
        "\n",
        "    for i in matches_src:\n",
        "      categories_src[i.category]+=1\n",
        "\n",
        "    for i in matches_dst:\n",
        "      categories_dst[i.category]+=1\n",
        "      \n",
        "    return categories_src, categories_dst"
      ],
      "execution_count": null,
      "outputs": []
    },
    {
      "cell_type": "code",
      "metadata": {
        "id": "otcPeH5GRVtk"
      },
      "source": [
        "src_errors, dst_errors = get_mistakes_summary(df_test)"
      ],
      "execution_count": null,
      "outputs": []
    },
    {
      "cell_type": "code",
      "metadata": {
        "colab": {
          "base_uri": "https://localhost:8080/"
        },
        "id": "gTvFfp0lRhaY",
        "outputId": "73990435-074f-4533-c8d0-e878cbdea220"
      },
      "source": [
        "src_errors"
      ],
      "execution_count": null,
      "outputs": [
        {
          "output_type": "execute_result",
          "data": {
            "text/plain": [
              "{'CASING': 3,\n",
              " 'COLLOCATIONS': 1,\n",
              " 'GRAMMAR': 3,\n",
              " 'MISC': 2,\n",
              " 'PUNCTUATION': 13,\n",
              " 'REDUNDANCY': 0,\n",
              " 'TYPOGRAPHY': 826,\n",
              " 'TYPOS': 2}"
            ]
          },
          "metadata": {
            "tags": []
          },
          "execution_count": 65
        }
      ]
    },
    {
      "cell_type": "code",
      "metadata": {
        "colab": {
          "base_uri": "https://localhost:8080/"
        },
        "id": "SS5LT-GqRjPJ",
        "outputId": "45676ce6-ce4f-460e-fc46-d8d6ed5cd70b"
      },
      "source": [
        "dst_errors"
      ],
      "execution_count": null,
      "outputs": [
        {
          "output_type": "execute_result",
          "data": {
            "text/plain": [
              "{'CASING': 4,\n",
              " 'COLLOCATIONS': 0,\n",
              " 'GRAMMAR': 11,\n",
              " 'MISC': 2,\n",
              " 'PUNCTUATION': 14,\n",
              " 'REDUNDANCY': 1,\n",
              " 'TYPOGRAPHY': 744,\n",
              " 'TYPOS': 4}"
            ]
          },
          "metadata": {
            "tags": []
          },
          "execution_count": 66
        }
      ]
    },
    {
      "cell_type": "code",
      "metadata": {
        "id": "3gpfMNpQRmyD"
      },
      "source": [
        "src_errors, dst_errors = get_mistakes_summary(df_val)"
      ],
      "execution_count": null,
      "outputs": []
    },
    {
      "cell_type": "code",
      "metadata": {
        "colab": {
          "base_uri": "https://localhost:8080/"
        },
        "id": "lSuxchixRrmV",
        "outputId": "619c201a-dc3f-435f-ba43-596c2d14dc93"
      },
      "source": [
        "src_errors"
      ],
      "execution_count": null,
      "outputs": [
        {
          "output_type": "execute_result",
          "data": {
            "text/plain": [
              "{'CASING': 1,\n",
              " 'COLLOCATIONS': 3,\n",
              " 'CONFUSED_WORDS': 1,\n",
              " 'GRAMMAR': 12,\n",
              " 'MISC': 7,\n",
              " 'NONSTANDARD_PHRASES': 0,\n",
              " 'PUNCTUATION': 21,\n",
              " 'REDUNDANCY': 2,\n",
              " 'SEMANTICS': 3,\n",
              " 'STYLE': 3,\n",
              " 'TYPOGRAPHY': 2476,\n",
              " 'TYPOS': 6}"
            ]
          },
          "metadata": {
            "tags": []
          },
          "execution_count": 68
        }
      ]
    },
    {
      "cell_type": "code",
      "metadata": {
        "colab": {
          "base_uri": "https://localhost:8080/"
        },
        "id": "W5__OMO6Rswa",
        "outputId": "b3eb0917-1f60-459e-f920-3a32de40bcd7"
      },
      "source": [
        "dst_errors"
      ],
      "execution_count": null,
      "outputs": [
        {
          "output_type": "execute_result",
          "data": {
            "text/plain": [
              "{'CASING': 2,\n",
              " 'COLLOCATIONS': 2,\n",
              " 'CONFUSED_WORDS': 2,\n",
              " 'GRAMMAR': 12,\n",
              " 'MISC': 15,\n",
              " 'NONSTANDARD_PHRASES': 2,\n",
              " 'PUNCTUATION': 43,\n",
              " 'REDUNDANCY': 3,\n",
              " 'SEMANTICS': 1,\n",
              " 'STYLE': 4,\n",
              " 'TYPOGRAPHY': 2019,\n",
              " 'TYPOS': 9}"
            ]
          },
          "metadata": {
            "tags": []
          },
          "execution_count": 69
        }
      ]
    },
    {
      "cell_type": "code",
      "metadata": {
        "id": "wWAEsPA0RzVy"
      },
      "source": [
        "src_errors, dst_errors = get_mistakes_summary(df_train)"
      ],
      "execution_count": null,
      "outputs": []
    },
    {
      "cell_type": "code",
      "metadata": {
        "colab": {
          "base_uri": "https://localhost:8080/"
        },
        "id": "nr9mloC0R2tB",
        "outputId": "26ad4c63-1ad9-4e8b-eeb2-01b7a64f994b"
      },
      "source": [
        "src_errors"
      ],
      "execution_count": null,
      "outputs": [
        {
          "output_type": "execute_result",
          "data": {
            "text/plain": [
              "{'CASING': 1069,\n",
              " 'COLLOCATIONS': 230,\n",
              " 'COMPOUNDING': 20,\n",
              " 'CONFUSED_WORDS': 222,\n",
              " 'GRAMMAR': 3288,\n",
              " 'MISC': 2755,\n",
              " 'NONSTANDARD_PHRASES': 57,\n",
              " 'PUNCTUATION': 9216,\n",
              " 'REDUNDANCY': 1495,\n",
              " 'SEMANTICS': 127,\n",
              " 'STYLE': 539,\n",
              " 'TYPOGRAPHY': 763452,\n",
              " 'TYPOS': 2092}"
            ]
          },
          "metadata": {
            "tags": []
          },
          "execution_count": 71
        }
      ]
    },
    {
      "cell_type": "code",
      "metadata": {
        "colab": {
          "base_uri": "https://localhost:8080/"
        },
        "id": "BtD7F3QCR4et",
        "outputId": "6d05ea5c-781d-4aa5-e7a7-b3887244c4cf"
      },
      "source": [
        "dst_errors"
      ],
      "execution_count": null,
      "outputs": [
        {
          "output_type": "execute_result",
          "data": {
            "text/plain": [
              "{'CASING': 1113,\n",
              " 'COLLOCATIONS': 231,\n",
              " 'COMPOUNDING': 17,\n",
              " 'CONFUSED_WORDS': 238,\n",
              " 'GRAMMAR': 4364,\n",
              " 'MISC': 3319,\n",
              " 'NONSTANDARD_PHRASES': 182,\n",
              " 'PUNCTUATION': 14757,\n",
              " 'REDUNDANCY': 1418,\n",
              " 'SEMANTICS': 98,\n",
              " 'STYLE': 524,\n",
              " 'TYPOGRAPHY': 609128,\n",
              " 'TYPOS': 2513}"
            ]
          },
          "metadata": {
            "tags": []
          },
          "execution_count": 72
        }
      ]
    },
    {
      "cell_type": "markdown",
      "metadata": {
        "id": "S3yVv-uBVhOj"
      },
      "source": [
        "# WikiLarge translated with Mt Helsinki from transformers"
      ]
    },
    {
      "cell_type": "markdown",
      "metadata": {
        "id": "UeyCXGoCVhWg"
      },
      "source": [
        "### Cosine Similarity between original/simple sentences"
      ]
    },
    {
      "cell_type": "code",
      "metadata": {
        "id": "GGoLUyFyVsG4"
      },
      "source": [
        "# device = \"cuda\" if torch.cuda.is_available() else \"cpu\"\n",
        "# config = AutoConfig.from_pretrained(\"DeepPavlov/rubert-base-cased\") # \"roberta-base\" 'xlm-mlm-100-1280' 'xlm-roberta-base' 'bert-base-multilingual-cased'\n",
        "# config.output_hidden_states = True\n",
        "\n",
        "# tok = AutoTokenizer.from_pretrained(\"DeepPavlov/rubert-base-cased\")\n",
        "# model = AutoModelForMaskedLM.from_pretrained(\"DeepPavlov/rubert-base-cased\", config=config)\n",
        "# model.to(device)"
      ],
      "execution_count": null,
      "outputs": []
    },
    {
      "cell_type": "code",
      "metadata": {
        "id": "IwHeg3rbVsK6"
      },
      "source": [
        "calc_cos_sim(df_test_mt, model, tok, 'target_x', 'target_y', 'cos_sim_x_y')\n",
        "calc_cos_sim(df_val_mt, model, tok, 'target_x', 'target_y', 'cos_sim_x_y')\n",
        "calc_cos_sim(df_train_mt, model, tok, 'target_x', 'target_y', 'cos_sim_x_y')\n"
      ],
      "execution_count": null,
      "outputs": []
    },
    {
      "cell_type": "code",
      "metadata": {
        "colab": {
          "base_uri": "https://localhost:8080/"
        },
        "id": "CkD2NptQ_AdH",
        "outputId": "b9556e3f-e0dd-4d9a-a3b9-79083c560b93"
      },
      "source": [
        "df_train_mt.cos_sim_x_y.mean(), df_val_mt.cos_sim_x_y.mean(), df_test_mt.cos_sim_x_y.mean()"
      ],
      "execution_count": null,
      "outputs": [
        {
          "output_type": "stream",
          "text": [
            "0.9468623274033268 0.9478329893174264 0.9841433672085862\n"
          ],
          "name": "stdout"
        }
      ]
    },
    {
      "cell_type": "code",
      "metadata": {
        "id": "JULbZR6QHyq_"
      },
      "source": [
        "device = torch.device('cuda' if torch.cuda.is_available() else 'cpu')\n",
        "model = SentenceTransformer('LaBSE')\n",
        "model.to(device)\n",
        "\n",
        "def calc_cos_sim_(df, model):\n",
        "    LABSE_orig = []\n",
        "    LABSE_simpl = []\n",
        "    for index, row in df.iterrows():\n",
        "\n",
        "        # original\n",
        "          emb_source = model.encode(row['src'])\n",
        "          emb_target = model.encode(row['target_x'])\n",
        "\n",
        "          cos_val = cosine_similarity(emb_source.reshape(-1, emb_source.shape[0]), emb_target.reshape(-1, emb_target.shape[0]))[0][0]\n",
        "          LABSE_orig.append(cos_val)\n",
        "          \n",
        "        # simplified\n",
        "          emb_source = model.encode(row['dst'])\n",
        "          emb_target = model.encode(row['target_y'])\n",
        "\n",
        "          cos_val = cosine_similarity(emb_source.reshape(-1, emb_source.shape[0]), emb_target.reshape(-1, emb_target.shape[0]))[0][0]\n",
        "          LABSE_simpl.append(cos_val)\n",
        "\n",
        "    df['LABSE_orig'] = LABSE_orig\n",
        "    df['LABSE_simpl'] = LABSE_simpl\n",
        "\n",
        "calc_cos_sim_(df_test_mt, model)\n",
        "calc_cos_sim_(df_val_mt, model)\n",
        "calc_cos_sim_(df_train_mt, model)"
      ],
      "execution_count": null,
      "outputs": []
    },
    {
      "cell_type": "code",
      "metadata": {
        "id": "ej0aDrUAH7d8",
        "colab": {
          "base_uri": "https://localhost:8080/"
        },
        "outputId": "c122905c-974f-43f7-92f3-a8191f929d8c"
      },
      "source": [
        "df_train_mt.LABSE_orig.mean(), df_val_mt.LABSE_orig.mean(), df_test_mt.LABSE_orig.mean()"
      ],
      "execution_count": null,
      "outputs": [
        {
          "output_type": "execute_result",
          "data": {
            "text/plain": [
              "(0.8862167089812055, 0.8850720814067169, 0.8860442356829263)"
            ]
          },
          "metadata": {
            "tags": []
          },
          "execution_count": 8
        }
      ]
    },
    {
      "cell_type": "code",
      "metadata": {
        "id": "Pb71Aa2WIJwJ",
        "colab": {
          "base_uri": "https://localhost:8080/"
        },
        "outputId": "9f8c2761-d39f-48ba-aa09-3409ef9f7cd0"
      },
      "source": [
        "df_train_mt.LABSE_simpl.mean(), df_val_mt.LABSE_simpl.mean(), df_test_mt.LABSE_simpl.mean()"
      ],
      "execution_count": null,
      "outputs": [
        {
          "output_type": "execute_result",
          "data": {
            "text/plain": [
              "(0.8818510114127176, 0.8806601700653074, 0.8815181845901934)"
            ]
          },
          "metadata": {
            "tags": []
          },
          "execution_count": 9
        }
      ]
    },
    {
      "cell_type": "markdown",
      "metadata": {
        "id": "8fvk4z7aYeH0"
      },
      "source": [
        "### Flesch Kincaid Grade Level"
      ]
    },
    {
      "cell_type": "code",
      "metadata": {
        "id": "QrRQqoKTAwzv"
      },
      "source": [
        "#plainrussian\n",
        "#!/usr/bin/env python\n",
        "# -*- coding: utf-8 -*-\n",
        "\n",
        "from math import sqrt\n",
        "import csv\n",
        "\n",
        "\n",
        "from numpy import mean, arange\n",
        "\n",
        "\n",
        "# Russian sounds and characters\n",
        "RU_CONSONANTS_LOW = [u'к', u'п', u'с', u'т', u'ф', u'х', u'ц', u'ч', u'ш', u'щ']\n",
        "RU_CONSONANTS_HIGH = [u'б', u'в', u'г', u'д', u'ж', u'з']\n",
        "RU_CONSONANTS_SONOR = [u'л', u'м', u'н', u'р']\n",
        "RU_CONSONANTS_YET = [u'й']\n",
        "\n",
        "RU_CONSONANTS = RU_CONSONANTS_HIGH + RU_CONSONANTS_LOW + RU_CONSONANTS_SONOR + RU_CONSONANTS_YET\n",
        "RU_VOWELS = [u'а', u'е', u'и', u'у', u'о', u'я', u'ё', u'э', u'ю', u'я', u'ы']\n",
        "RU_MARKS = [u'ь', u'ъ']\n",
        "SENTENCE_SPLITTERS = [u'.', u'?', u'!']\n",
        "RU_LETTERS = RU_CONSONANTS + RU_MARKS + RU_VOWELS\n",
        "SPACES = [u' ', u'\\t']\n",
        "\n",
        "# List of prepared texts\n",
        "\n",
        "GRADE_TEXT = {\n",
        "    1: u'1 - 3-й класс (возраст примерно: 6-8 лет)',\n",
        "    2: u'1 - 3-й класс (возраст примерно: 6-8 лет)',\n",
        "    3: u'1 - 3-й класс (возраст примерно: 6-8 лет)',\n",
        "    4: u'4 - 6-й класс (возраст примерно: 9-11 лет)',\n",
        "    5: u'4 - 6-й класс (возраст примерно: 9-11 лет)',\n",
        "    6: u'4 - 6-й класс (возраст примерно: 9-11 лет)',\n",
        "    7: u'7 - 9-й класс (возраст примерно: 12-14 лет)',\n",
        "    8: u'7 - 9-й класс (возраст примерно: 12-14 лет)',\n",
        "    9: u'7 - 9-й класс (возраст примерно: 12-14 лет)',\n",
        "    10: u'10 - 11-й класс (возраст примерно: 15-16 лет)',\n",
        "    11: u'10 - 11-й класс (возраст примерно: 15-16 лет)',\n",
        "    12: u'1 - 3 курсы ВУЗа (возраст примерно: 17-19 лет)',\n",
        "    13: u'1 - 3 курсы ВУЗа (возраст примерно: 17-19 лет)',\n",
        "    14: u'1 - 3 курсы ВУЗа (возраст примерно: 17-19 лет)',\n",
        "    15: u'4 - 6 курсы ВУЗа (возраст примерно: 20-22 лет)',\n",
        "    16: u'4 - 6 курсы ВУЗа (возраст примерно: 20-22 лет)',\n",
        "    17: u'4 - 6 курсы ВУЗа (возраст примерно: 20-22 лет)',\n",
        "}\n",
        "\n",
        "POST_GRADE_TEXT_18_24 = u'Аспирантура, второе высшее образование, phD'\n",
        "\n",
        "\n",
        "def calc_SMOG(n_psyl, n_sent):\n",
        "    \"\"\"Метрика SMOG для английского языка\"\"\"\n",
        "    n = 1.0430 * sqrt((float(30.0) / n_sent) * n_psyl) + 3.1291\n",
        "    return n\n",
        "\n",
        "def calc_Gunning_fog(n_psyl, n_words, n_sent):\n",
        "    \"\"\"Метрика Gunning fog для английского языка\"\"\"\n",
        "    n = 0.4 * ((float(n_words)/ n_sent) + 100 * (float(n_psyl) / n_words))\n",
        "    return n\n",
        "\n",
        "def calc_Dale_Chale(n_psyl, n_words, n_sent):\n",
        "    \"\"\"Метрика Dale Chale для английского языка\"\"\"\n",
        "    n = 0.1579 * (100.0 * n_psyl / n_words) + 0.0496 * (float(n_words) / n_sent)\n",
        "    return n\n",
        "\n",
        "def calc_Flesh_Kincaid(n_syllabes, n_words, n_sent):\n",
        "    \"\"\"Метрика Flesh Kincaid для английского языка\"\"\"\n",
        "    n = 206.835 - 1.015 * (float(n_words) / n_sent) - 84.6 * (float(n_syllabes) / n_words)\n",
        "    return n\n",
        "\n",
        "\n",
        "def calc_Flesh_Kincaid_rus(n_syllabes, n_words, n_sent):\n",
        "    \"\"\"Метрика Flesh Kincaid для русского языка\"\"\"\n",
        "    n = 220.755 - 1.315 * (float(n_words) / n_sent) - 50.1 * (float(n_syllabes) / n_words)\n",
        "    return n\n",
        "\n",
        "def calc_Flesh_Kincaid_Grade_rus(n_syllabes, n_words, n_sent):\n",
        "    \"\"\"Метрика Flesh Kincaid Grade для русского языка\"\"\"\n",
        "#    n = 0.59 * (float(n_words) / n_sent) + 6.2 * (float(n_syllabes) / n_words) - 16.59\n",
        "    n = 0.49 * (float(n_words) / n_sent) + 7.3 * (float(n_syllabes) / n_words) - 16.59\n",
        "    return n\n",
        "\n",
        "\n",
        "\n",
        "def calc_Flesh_Kincaid_Grade_rus_adapted(n_syllabes, n_words, n_sent, X, Y, Z):\n",
        "    \"\"\"Метрика Flesh Kincaid Grade для русского языка с параметрами\"\"\"\n",
        "#    n = 0.59 * (float(n_words) / n_sent) + 6.2 * (float(n_syllabes) / n_words) - 16.59\n",
        "    if n_words == 0 or n_sent == 0: return 0\n",
        "    n = X * (float(n_words) / n_sent) + Y * (float(n_syllabes) / n_words) - Z\n",
        "    return n\n",
        "\n",
        "\n",
        "#X_GRADE = 0.186\n",
        "#Y_GRADE = 7.21\n",
        "#Z_GRADE = 15.443\n",
        "\n",
        "# Flesh Kinkaid Grade константы. Подробнее http://en.wikipedia.org/wiki/Flesch%E2%80%93Kincaid_readability_tests\n",
        "FLG_X_GRADE = 0.318\n",
        "FLG_Y_GRADE = 14.2\n",
        "FLG_Z_GRADE = 30.5\n",
        "\n",
        "def calc_Flesh_Kincaid_Grade_rus_flex(n_syllabes, n_words, n_sent):\n",
        "    \"\"\"Метрика Flesh Kincaid Grade для русского языка с константными параметрами\"\"\"\n",
        "    if n_words == 0 or n_sent == 0: return 0\n",
        "    n = FLG_X_GRADE * (float(n_words) / n_sent) + FLG_Y_GRADE * (float(n_syllabes) / n_words) - FLG_Z_GRADE\n",
        "    return n\n",
        "\n",
        "\n",
        "# Coleman Liau константы. Подробнее http://en.wikipedia.org/wiki/Coleman%E2%80%93Liau_index\n",
        "\n",
        "CLI_X_GRADE = 0.055\n",
        "CLI_Y_GRADE = 0.35\n",
        "CLI_Z_GRADE = 20.33\n",
        "\n",
        "\n",
        "def calc_Coleman_Liau_index_adapted(n_letters, n_words, n_sent, x, y, z):\n",
        "    \"\"\" Метрика Coleman Liau для русского языка с адаптированными параметрами \"\"\"\n",
        "    if n_words == 0: return 0\n",
        "    n = x * (n_letters * (100.0 / n_words)) - y * (n_sent * (100.0 / n_words)) - z\n",
        "    return n\n",
        "\n",
        "def calc_Coleman_Liau_index(n_letters, n_words, n_sent):\n",
        "    \"\"\" Метрика Coleman Liau для русского языка с константными параметрами \"\"\"\n",
        "    if n_words == 0: return 0\n",
        "    n = CLI_X_GRADE * (n_letters * (100.0 / n_words)) - CLI_Y_GRADE * (n_sent * (100.0 / n_words)) - CLI_Z_GRADE\n",
        "    return n\n",
        "\n",
        "\n",
        "# Константы SMOG Index http://en.wikipedia.org/wiki/SMOG\n",
        "SMOG_X_GRADE = 1.1\n",
        "SMOG_Y_GRADE = 64.6\n",
        "SMOG_Z_GRADE = 0.05\n",
        "\n",
        "def calc_SMOG_index(n_psyl, n_sent):\n",
        "    \"\"\"Метрика SMOG для русского языка с константными параментрами\"\"\"\n",
        "    n = SMOG_X_GRADE * sqrt((float(SMOG_Y_GRADE) / n_sent) * n_psyl) + SMOG_Z_GRADE\n",
        "    return n\n",
        "\n",
        "def calc_SMOG_index_adapted(n_psyl, n_sent, x, y, z):\n",
        "    \"\"\"Метрика SMOG для русского языка адаптированная с коэффициентами\"\"\"\n",
        "    n = x * sqrt((float(y) / n_sent) * n_psyl) + z\n",
        "    return n\n",
        "\n",
        "DC_X_GRADE = 0.552\n",
        "DC_Y_GRADE = 0.273\n",
        "\n",
        "def calc_Dale_Chale_index(n_psyl, n_words, n_sent):\n",
        "    \"\"\"Метрика Dale Chale для русского языка с константным параметрами\"\"\"\n",
        "    n = DC_X_GRADE * (100.0 * n_psyl / n_words) + DC_Y_GRADE * (float(n_words) / n_sent)\n",
        "    return n\n",
        "\n",
        "\n",
        "def calc_Dale_Chale_adapted(n_psyl, n_words, n_sent, x, y):\n",
        "    \"\"\"Метрика Dale Chale для русского языка с адаптированными параметрами\"\"\"\n",
        "    n = x * (100.0 * n_psyl / n_words) + y * (float(n_words) / n_sent)\n",
        "    return n\n",
        "\n",
        "ARI_X_GRADE = 6.26\n",
        "ARI_Y_GRADE = 0.2805\n",
        "ARI_Z_GRADE = 31.04\n",
        "\n",
        "\n",
        "def calc_ARI_index_adapted(n_letters, n_words, n_sent, x, y, z):\n",
        "    \"\"\" Метрика Automated Readability Index (ARI) для русского языка с адаптированными параметрами \"\"\"\n",
        "    if n_words == 0 or n_sent == 0: return 0\n",
        "    n = x * (float(n_letters) / n_words) + y * (float(n_words) / n_sent) - z\n",
        "    return n\n",
        "\n",
        "def calc_ARI_index(n_letters, n_words, n_sent):\n",
        "    \"\"\" Метрика Automated Readability Index (ARI) для русского языка с константными параметрами \"\"\"\n",
        "    if n_words == 0 or n_sent == 0: return 0\n",
        "    n = ARI_X_GRADE * (float(n_letters) / n_words) + ARI_Y_GRADE * (float(n_words) / n_sent) - ARI_Z_GRADE\n",
        "    return n\n",
        "\n",
        "\n",
        "def load_words(filename):\n",
        "    \"\"\"Load words from filename\"\"\"\n",
        "    words = []\n",
        "    f = open(filename, 'r')\n",
        "    for l in f:\n",
        "        words.append(l.strip().decode('utf8'))\n",
        "    f.close()\n",
        "    return words\n",
        "\n",
        "#FAM_WORDS = load_words('1norm50000.txt')\n",
        "\n",
        "bad_chars = '(){}<>\"\\'!?,.:;'\n",
        "\n",
        "\n",
        "def calc_text_metrics(filename, verbose=True):\n",
        "    \"\"\"Расчет метрик\"\"\"\n",
        "    f = open(filename, 'r')\n",
        "    text = f.read().decode('utf8')    \n",
        "    f.close()\n",
        "    return calc_readability_metrics(text, verbose)\n",
        "\n",
        "\n",
        "# Number of syllabes for long words\n",
        "COMPLEX_SYL_FACTOR = 4\n",
        "\n",
        "def calc_readability_metrics(text, verbose=True):\n",
        "    sentences = 0\n",
        "    chars = 0\n",
        "    spaces = 0\n",
        "    letters = 0\n",
        "    syllabes = 0\n",
        "    words = 0\n",
        "    complex_words = 0\n",
        "    simple_words = 0\n",
        "    wsyllabes = {}\n",
        "\n",
        "    wordStart = False\n",
        "    for l in text.splitlines():\n",
        "        chars += len(l)\n",
        "#        l = l.decode('utf8')\n",
        "        for ch in l:\n",
        "            if ch in SENTENCE_SPLITTERS:\n",
        "                sentences += 1\n",
        "            if ch in SPACES:\n",
        "                spaces += 1\n",
        "\n",
        "        for w in l.split():\n",
        "            has_syl = False\n",
        "            wsyl = 0\n",
        "#            if len(w) > 1: words += 1\n",
        "            for ch in w:\n",
        "                if ch in RU_LETTERS:\n",
        "                    letters += 1\n",
        "                if ch in RU_VOWELS:\n",
        "                    syllabes += 1\n",
        "                    has_syl = True\n",
        "                    wsyl += 1\n",
        "            if wsyl > COMPLEX_SYL_FACTOR:\n",
        "                complex_words += 1\n",
        "            elif wsyl < COMPLEX_SYL_FACTOR+1 and wsyl > 0:\n",
        "                simple_words += 1\n",
        "            if has_syl:\n",
        "                words += 1\n",
        "                v = wsyllabes.get(str(wsyl), 0)\n",
        "                wsyllabes[str(wsyl)] = v + 1\n",
        "    metrics = {'c_share': float(complex_words) * 100 / words if words > 0 else 0,\n",
        "               'avg_slen' : float(words) / sentences if sentences > 0 else 0,\n",
        "               'avg_syl' : float(syllabes) / words if words > 0 else 0,\n",
        "               'n_syllabes': syllabes,\n",
        "               'n_words' : words,\n",
        "               'n_sentences': sentences,\n",
        "               'n_complex_words': complex_words,\n",
        "               'n_simple_words' : simple_words,\n",
        "               'chars': chars,\n",
        "               'letters' : letters,\n",
        "               'spaces' : spaces,\n",
        "               'index_fk_rus': calc_Flesh_Kincaid_Grade_rus_flex(syllabes, words, sentences),\n",
        "               'index_cl_rus' : calc_Coleman_Liau_index(letters, words, sentences),\n",
        "               'index_dc_rus' : calc_Dale_Chale_index(complex_words, words, sentences),\n",
        "               'index_SMOG_rus' : calc_SMOG_index(complex_words, sentences),\n",
        "               'index_ari_rus' : calc_ARI_index(letters, words, sentences),\n",
        "#               'index_fk_rus': calc_Flesh_Kincaid_Grade_rus(syllabes, words, sentences),\n",
        "               'wsyllabes' : wsyllabes\n",
        "    }\n",
        "    del text\n",
        "    return metrics"
      ],
      "execution_count": null,
      "outputs": []
    },
    {
      "cell_type": "code",
      "metadata": {
        "colab": {
          "base_uri": "https://localhost:8080/"
        },
        "id": "z5VfXG-lNh98",
        "outputId": "8d053bb9-0a36-4905-8b0c-983a1a79b664"
      },
      "source": [
        "a,b = '\\n'.join(list(df_test_mt['target_x'].values)), '\\n'.join(list(df_test_mt['target_y'].values))\n",
        "src, dst = calc_readability_metrics(a), calc_readability_metrics(b)\n",
        "src, dst"
      ],
      "execution_count": null,
      "outputs": [
        {
          "output_type": "execute_result",
          "data": {
            "text/plain": [
              "({'avg_slen': 13.623906705539358,\n",
              "  'avg_syl': 2.789000641985876,\n",
              "  'c_share': 12.261930237534774,\n",
              "  'chars': 39562,\n",
              "  'index_SMOG_rus': 11.47718333406957,\n",
              "  'index_ari_rus': 13.508345120439422,\n",
              "  'index_cl_rus': 12.883353306227264,\n",
              "  'index_dc_rus': 10.487912021731441,\n",
              "  'index_fk_rus': 13.436211448560961,\n",
              "  'letters': 30402,\n",
              "  'n_complex_words': 573,\n",
              "  'n_sentences': 343,\n",
              "  'n_simple_words': 4100,\n",
              "  'n_syllabes': 13033,\n",
              "  'n_words': 4673,\n",
              "  'spaces': 5260,\n",
              "  'wsyllabes': {'1': 973,\n",
              "   '10': 1,\n",
              "   '2': 1230,\n",
              "   '3': 1149,\n",
              "   '4': 748,\n",
              "   '5': 355,\n",
              "   '6': 154,\n",
              "   '7': 52,\n",
              "   '8': 11}},\n",
              " {'avg_slen': 12.621468926553673,\n",
              "  'avg_syl': 2.7309758281110117,\n",
              "  'c_share': 11.078782452999105,\n",
              "  'chars': 37032,\n",
              "  'index_SMOG_rus': 10.50465997793507,\n",
              "  'index_ari_rus': 12.355281747416662,\n",
              "  'index_cl_rus': 11.91328558639212,\n",
              "  'index_dc_rus': 9.56114893100466,\n",
              "  'index_fk_rus': 12.293483877820428,\n",
              "  'letters': 28446,\n",
              "  'n_complex_words': 495,\n",
              "  'n_sentences': 354,\n",
              "  'n_simple_words': 3973,\n",
              "  'n_syllabes': 12202,\n",
              "  'n_words': 4468,\n",
              "  'spaces': 4968,\n",
              "  'wsyllabes': {'1': 954,\n",
              "   '10': 2,\n",
              "   '2': 1232,\n",
              "   '3': 1092,\n",
              "   '4': 695,\n",
              "   '5': 316,\n",
              "   '6': 121,\n",
              "   '7': 47,\n",
              "   '8': 8,\n",
              "   '9': 1}})"
            ]
          },
          "metadata": {
            "tags": []
          },
          "execution_count": 39
        }
      ]
    },
    {
      "cell_type": "code",
      "metadata": {
        "colab": {
          "base_uri": "https://localhost:8080/"
        },
        "id": "_s-8RbYxNxq7",
        "outputId": "11645993-5087-41ce-ed7a-b1d4690538ea"
      },
      "source": [
        "a,b = '\\n'.join(list(df_val_mt['target_x'].values)), '\\n'.join(list(df_val_mt['target_y'].values))\n",
        "src, dst = calc_readability_metrics(a), calc_readability_metrics(b)\n",
        "src, dst"
      ],
      "execution_count": null,
      "outputs": [
        {
          "output_type": "execute_result",
          "data": {
            "text/plain": [
              "({'avg_slen': 14.151111111111112,\n",
              "  'avg_syl': 2.7993875628140703,\n",
              "  'c_share': 12.821922110552764,\n",
              "  'chars': 110547,\n",
              "  'index_SMOG_rus': 11.959150450155732,\n",
              "  'index_ari_rus': 13.796333902847572,\n",
              "  'index_cl_rus': 13.102160804020102,\n",
              "  'index_dc_rus': 10.940954338358459,\n",
              "  'index_fk_rus': 13.751356725293128,\n",
              "  'letters': 83144,\n",
              "  'n_complex_words': 1633,\n",
              "  'n_sentences': 900,\n",
              "  'n_simple_words': 11103,\n",
              "  'n_syllabes': 35653,\n",
              "  'n_words': 12736,\n",
              "  'spaces': 14878,\n",
              "  'wsyllabes': {'1': 2542,\n",
              "   '10': 4,\n",
              "   '11': 2,\n",
              "   '2': 3477,\n",
              "   '3': 3202,\n",
              "   '4': 1882,\n",
              "   '5': 1013,\n",
              "   '6': 460,\n",
              "   '7': 110,\n",
              "   '8': 30,\n",
              "   '9': 14}},\n",
              " {'avg_slen': 10.148261758691207,\n",
              "  'avg_syl': 2.7216120906801007,\n",
              "  'c_share': 10.780856423173804,\n",
              "  'chars': 84154,\n",
              "  'index_SMOG_rus': 9.297650450509348,\n",
              "  'index_ari_rus': 11.335727977469055,\n",
              "  'index_cl_rus': 10.951209068010083,\n",
              "  'index_dc_rus': 8.72150820571464,\n",
              "  'index_fk_rus': 11.37403892692123,\n",
              "  'letters': 62672,\n",
              "  'n_complex_words': 1070,\n",
              "  'n_sentences': 978,\n",
              "  'n_simple_words': 8855,\n",
              "  'n_syllabes': 27012,\n",
              "  'n_words': 9925,\n",
              "  'spaces': 11502,\n",
              "  'wsyllabes': {'1': 2001,\n",
              "   '10': 2,\n",
              "   '11': 1,\n",
              "   '2': 2867,\n",
              "   '3': 2535,\n",
              "   '4': 1452,\n",
              "   '5': 669,\n",
              "   '6': 322,\n",
              "   '7': 56,\n",
              "   '8': 16,\n",
              "   '9': 4}})"
            ]
          },
          "metadata": {
            "tags": []
          },
          "execution_count": 40
        }
      ]
    },
    {
      "cell_type": "code",
      "metadata": {
        "colab": {
          "base_uri": "https://localhost:8080/"
        },
        "id": "vW5XMsZpN0U1",
        "outputId": "d82aa83c-d3d2-4072-98a5-5f3eaef12f8e"
      },
      "source": [
        "a,b = '\\n'.join(list(df_train_mt['target_x'].values)), '\\n'.join(list(df_train_mt['target_y'].values))\n",
        "src, dst = calc_readability_metrics(a), calc_readability_metrics(b)\n",
        "src, dst"
      ],
      "execution_count": null,
      "outputs": [
        {
          "output_type": "execute_result",
          "data": {
            "text/plain": [
              "({'avg_slen': 13.049542555561745,\n",
              "  'avg_syl': 2.7694332731752147,\n",
              "  'c_share': 12.116218548708735,\n",
              "  'chars': 32549775,\n",
              "  'index_SMOG_rus': 11.167064806039756,\n",
              "  'index_ari_rus': 13.080458957824057,\n",
              "  'index_cl_rus': 12.535891680705788,\n",
              "  'index_dc_rus': 10.250677756555579,\n",
              "  'index_fk_rus': 12.975707011756683,\n",
              "  'letters': 24227272,\n",
              "  'n_complex_words': 454171,\n",
              "  'n_sentences': 287248,\n",
              "  'n_simple_words': 3294284,\n",
              "  'n_syllabes': 10381096,\n",
              "  'n_words': 3748455,\n",
              "  'spaces': 4426893,\n",
              "  'wsyllabes': {'1': 761801,\n",
              "   '10': 591,\n",
              "   '11': 170,\n",
              "   '12': 86,\n",
              "   '13': 17,\n",
              "   '14': 11,\n",
              "   '15': 2,\n",
              "   '2': 1025158,\n",
              "   '3': 952200,\n",
              "   '4': 555125,\n",
              "   '43': 1,\n",
              "   '5': 290202,\n",
              "   '6': 121861,\n",
              "   '7': 31819,\n",
              "   '8': 6989,\n",
              "   '9': 2422}},\n",
              " {'avg_slen': 10.103324336138884,\n",
              "  'avg_syl': 2.7021020808595124,\n",
              "  'c_share': 10.662112890697701,\n",
              "  'chars': 24845256,\n",
              "  'index_SMOG_rus': 9.226197025142815,\n",
              "  'index_ari_rus': 11.21290988485832,\n",
              "  'index_cl_rus': 10.839036612660973,\n",
              "  'index_dc_rus': 8.643693859431046,\n",
              "  'index_fk_rus': 11.082706687097243,\n",
              "  'letters': 18337748,\n",
              "  'n_complex_words': 310498,\n",
              "  'n_sentences': 288238,\n",
              "  'n_simple_words': 2601664,\n",
              "  'n_syllabes': 7868959,\n",
              "  'n_words': 2912162,\n",
              "  'spaces': 3402524,\n",
              "  'wsyllabes': {'1': 602545,\n",
              "   '10': 359,\n",
              "   '11': 113,\n",
              "   '12': 52,\n",
              "   '13': 9,\n",
              "   '14': 6,\n",
              "   '15': 5,\n",
              "   '18': 1,\n",
              "   '2': 842260,\n",
              "   '22': 2,\n",
              "   '3': 741520,\n",
              "   '4': 415339,\n",
              "   '5': 202202,\n",
              "   '6': 81952,\n",
              "   '7': 20285,\n",
              "   '8': 4142,\n",
              "   '9': 1370}})"
            ]
          },
          "metadata": {
            "tags": []
          },
          "execution_count": 41
        }
      ]
    },
    {
      "cell_type": "code",
      "metadata": {
        "id": "FnDmty2HYrOE"
      },
      "source": [
        "df_train_mt.to_csv('/content/drive/MyDrive/MT_sentence_simpl/MT_WikiLarge_train_CosSImFKG.csv')\n",
        "df_val_mt.to_csv('/content/drive/MyDrive/MT_sentence_simpl/MT_WikiLarge_val_CosSImFKG.csv')\n",
        "df_test_mt.to_csv('/content/drive/MyDrive/MT_sentence_simpl/T_WikiLarge_test_CosSImFKG.csv')\n"
      ],
      "execution_count": null,
      "outputs": []
    },
    {
      "cell_type": "markdown",
      "metadata": {
        "id": "OqouzP1QY5WU"
      },
      "source": [
        "### Grammar Checker"
      ]
    },
    {
      "cell_type": "code",
      "metadata": {
        "id": "sh8oHMrHY5ij",
        "colab": {
          "base_uri": "https://localhost:8080/"
        },
        "outputId": "d069e0eb-5eac-40cc-c5af-76a41f1eb1b5"
      },
      "source": [
        "tool = language_tool_python.LanguageTool('ru')"
      ],
      "execution_count": null,
      "outputs": [
        {
          "output_type": "stream",
          "text": [
            "Downloading LanguageTool: 100%|██████████| 190M/190M [00:10<00:00, 18.8MB/s]\n",
            "Unzipping /tmp/tmpytc6_ady.zip to /root/.cache/language_tool_python.\n",
            "Downloaded https://www.languagetool.org/download/LanguageTool-5.2.zip to /root/.cache/language_tool_python.\n"
          ],
          "name": "stderr"
        }
      ]
    },
    {
      "cell_type": "code",
      "metadata": {
        "id": "pWFTD0MVY5sX"
      },
      "source": [
        "def get_mistakes_summary(df_test):\n",
        "    src_test = list(df_test['target_x'].values)\n",
        "    dst_test =list(df_test['target_y'].values)\n",
        "    matches_src = []\n",
        "    for i in src_test:\n",
        "      matches_src.extend(tool.check(i))\n",
        "    matches_src\n",
        "\n",
        "    matches_dst = []\n",
        "    for i in dst_test:\n",
        "      matches_dst.extend(tool.check(i))\n",
        "    matches_dst\n",
        "\n",
        "    categories = set([i.category for i in matches_src+matches_dst])\n",
        "\n",
        "    categories_src = {i:0 for i in categories}\n",
        "    categories_dst = {i:0 for i in categories}\n",
        "\n",
        "    for i in matches_src:\n",
        "      categories_src[i.category]+=1\n",
        "\n",
        "    for i in matches_dst:\n",
        "      categories_dst[i.category]+=1\n",
        "      \n",
        "    return categories_src, categories_dst"
      ],
      "execution_count": null,
      "outputs": []
    },
    {
      "cell_type": "code",
      "metadata": {
        "id": "aNBdX9T6ZH9I"
      },
      "source": [
        "src_errors, dst_errors = get_mistakes_summary(df_test_mt)"
      ],
      "execution_count": null,
      "outputs": []
    },
    {
      "cell_type": "code",
      "metadata": {
        "id": "4d9IzUlgZNJV",
        "colab": {
          "base_uri": "https://localhost:8080/"
        },
        "outputId": "49df2cce-680b-4ed5-8e25-517e2e628f68"
      },
      "source": [
        "src_errors"
      ],
      "execution_count": null,
      "outputs": [
        {
          "output_type": "execute_result",
          "data": {
            "text/plain": [
              "{'CASING': 1,\n",
              " 'GRAMMAR': 2,\n",
              " 'LOGIC': 1,\n",
              " 'PUNCTUATION': 11,\n",
              " 'STYLE': 6,\n",
              " 'TYPOGRAPHY': 62,\n",
              " 'TYPOS': 237}"
            ]
          },
          "metadata": {
            "tags": []
          },
          "execution_count": 14
        }
      ]
    },
    {
      "cell_type": "code",
      "metadata": {
        "id": "mvY8oMXgZOSY",
        "colab": {
          "base_uri": "https://localhost:8080/"
        },
        "outputId": "a0ea3c98-59c6-4145-9387-d2f19a132bdf"
      },
      "source": [
        "dst_errors"
      ],
      "execution_count": null,
      "outputs": [
        {
          "output_type": "execute_result",
          "data": {
            "text/plain": [
              "{'CASING': 1,\n",
              " 'GRAMMAR': 3,\n",
              " 'LOGIC': 0,\n",
              " 'PUNCTUATION': 10,\n",
              " 'STYLE': 6,\n",
              " 'TYPOGRAPHY': 49,\n",
              " 'TYPOS': 242}"
            ]
          },
          "metadata": {
            "tags": []
          },
          "execution_count": 15
        }
      ]
    },
    {
      "cell_type": "code",
      "metadata": {
        "id": "NuJOuFjkZI_t"
      },
      "source": [
        "src_errors, dst_errors = get_mistakes_summary(df_val_mt)"
      ],
      "execution_count": null,
      "outputs": []
    },
    {
      "cell_type": "code",
      "metadata": {
        "id": "5sN1tleSZQLm",
        "colab": {
          "base_uri": "https://localhost:8080/"
        },
        "outputId": "46c7ef8b-c101-4a15-a52e-efe306e04999"
      },
      "source": [
        "src_errors"
      ],
      "execution_count": null,
      "outputs": [
        {
          "output_type": "execute_result",
          "data": {
            "text/plain": [
              "{'CASING': 4,\n",
              " 'GRAMMAR': 28,\n",
              " 'LOGIC': 1,\n",
              " 'MISC': 4,\n",
              " 'PUNCTUATION': 37,\n",
              " 'STYLE': 10,\n",
              " 'TYPOGRAPHY': 141,\n",
              " 'TYPOS': 797}"
            ]
          },
          "metadata": {
            "tags": []
          },
          "execution_count": 17
        }
      ]
    },
    {
      "cell_type": "code",
      "metadata": {
        "id": "3aznvpOtZQpW",
        "colab": {
          "base_uri": "https://localhost:8080/"
        },
        "outputId": "a5889f12-9175-4c7c-beae-fbbfab5e5b93"
      },
      "source": [
        "dst_errors"
      ],
      "execution_count": null,
      "outputs": [
        {
          "output_type": "execute_result",
          "data": {
            "text/plain": [
              "{'CASING': 4,\n",
              " 'GRAMMAR': 17,\n",
              " 'LOGIC': 0,\n",
              " 'MISC': 6,\n",
              " 'PUNCTUATION': 13,\n",
              " 'STYLE': 7,\n",
              " 'TYPOGRAPHY': 120,\n",
              " 'TYPOS': 631}"
            ]
          },
          "metadata": {
            "tags": []
          },
          "execution_count": 18
        }
      ]
    },
    {
      "cell_type": "code",
      "metadata": {
        "id": "diyY2yVsZKdC"
      },
      "source": [
        "src_errors, dst_errors = get_mistakes_summary(df_train_mt)"
      ],
      "execution_count": null,
      "outputs": []
    },
    {
      "cell_type": "code",
      "metadata": {
        "id": "4BgttK9_ZRZL",
        "colab": {
          "base_uri": "https://localhost:8080/"
        },
        "outputId": "cc77ca8e-bfff-48ac-d0e6-453f6c796224"
      },
      "source": [
        "src_errors"
      ],
      "execution_count": null,
      "outputs": [
        {
          "output_type": "execute_result",
          "data": {
            "text/plain": [
              "{'CASING': 1297,\n",
              " 'EXTEND': 62,\n",
              " 'GRAMMAR': 6611,\n",
              " 'LOGIC': 362,\n",
              " 'MISC': 2384,\n",
              " 'PUNCTUATION': 10517,\n",
              " 'STYLE': 3211,\n",
              " 'TYPOGRAPHY': 46870,\n",
              " 'TYPOS': 235762}"
            ]
          },
          "metadata": {
            "tags": []
          },
          "execution_count": 12
        }
      ]
    },
    {
      "cell_type": "code",
      "metadata": {
        "id": "ogpKLDOXZTfI",
        "colab": {
          "base_uri": "https://localhost:8080/"
        },
        "outputId": "1eed0998-703c-43d3-86f4-0953df3f9948"
      },
      "source": [
        "dst_errors"
      ],
      "execution_count": null,
      "outputs": [
        {
          "output_type": "execute_result",
          "data": {
            "text/plain": [
              "{'CASING': 1019,\n",
              " 'EXTEND': 25,\n",
              " 'GRAMMAR': 4987,\n",
              " 'LOGIC': 252,\n",
              " 'MISC': 1779,\n",
              " 'PUNCTUATION': 6954,\n",
              " 'STYLE': 1981,\n",
              " 'TYPOGRAPHY': 38058,\n",
              " 'TYPOS': 184223}"
            ]
          },
          "metadata": {
            "tags": []
          },
          "execution_count": 13
        }
      ]
    },
    {
      "cell_type": "markdown",
      "metadata": {
        "id": "w7csTJ1FZ_2d"
      },
      "source": [
        "# WikiLarge translated with Google API\n"
      ]
    },
    {
      "cell_type": "markdown",
      "metadata": {
        "id": "R3yEp2F4dHpd"
      },
      "source": [
        "### Cosine Similarity between original/simple sentences\n"
      ]
    },
    {
      "cell_type": "code",
      "metadata": {
        "id": "7FaTjddNaADk"
      },
      "source": [
        "df_train_gl, df_val_gl, df_test_gl"
      ],
      "execution_count": null,
      "outputs": []
    },
    {
      "cell_type": "code",
      "metadata": {
        "id": "71ucR4z4aAHF"
      },
      "source": [
        "device = \"cuda\" if torch.cuda.is_available() else \"cpu\"\n",
        "config = AutoConfig.from_pretrained(\"DeepPavlov/rubert-base-cased\") # \"roberta-base\" 'xlm-mlm-100-1280' 'xlm-roberta-base' 'bert-base-multilingual-cased'\n",
        "config.output_hidden_states = True\n",
        "\n",
        "tok = AutoTokenizer.from_pretrained(\"DeepPavlov/rubert-base-cased\")\n",
        "model = AutoModelForMaskedLM.from_pretrained(\"DeepPavlov/rubert-base-cased\", config=config)\n",
        "model.to(device)"
      ],
      "execution_count": null,
      "outputs": []
    },
    {
      "cell_type": "code",
      "metadata": {
        "id": "yiKoLlcFaALK"
      },
      "source": [
        "calc_cos_sim(df_test_gl, model, tok, 'target_x', 'target_y', 'cos_sim_x_y')\n",
        "calc_cos_sim(df_val_gl, model, tok, 'target_x', 'target_y', 'cos_sim_x_y')\n",
        "calc_cos_sim(df_train_gl, model, tok, 'target_x', 'target_y', 'cos_sim_x_y')"
      ],
      "execution_count": null,
      "outputs": []
    },
    {
      "cell_type": "code",
      "metadata": {
        "colab": {
          "base_uri": "https://localhost:8080/"
        },
        "id": "Yvs50k_cc_fi",
        "outputId": "4282e513-1994-437c-d608-484001d1d6da"
      },
      "source": [
        "df_train_gl.cos_sim_x_y.mean(), df_val_gl.cos_sim_x_y.mean(), df_test_gl.cos_sim_x_y.mean()"
      ],
      "execution_count": null,
      "outputs": [
        {
          "output_type": "execute_result",
          "data": {
            "text/plain": [
              "(0.8626444426285484, 0.8616611667481872, 0.9632613898956612)"
            ]
          },
          "metadata": {
            "tags": []
          },
          "execution_count": 18
        }
      ]
    },
    {
      "cell_type": "markdown",
      "metadata": {
        "id": "qosN5589GdhH"
      },
      "source": [
        "### Cosine Similarity between English sentences and their translations"
      ]
    },
    {
      "cell_type": "code",
      "metadata": {
        "id": "jffbXXiPGcO3"
      },
      "source": [
        "df_test_gl.src = df_test_gl.src.astype(str)\n",
        "df_test_gl.dst = df_test_gl.dst.astype(str)\n",
        "df_test_gl.target_x = df_test_gl.target_x.astype(str)\n",
        "df_test_gl.target_y = df_test_gl.target_y.astype(str)\n",
        "\n",
        "df_train_gl.src = df_train_gl.src.astype(str)\n",
        "df_train_gl.dst = df_train_gl.dst.astype(str)\n",
        "df_train_gl.target_x = df_train_gl.target_x.astype(str)\n",
        "df_train_gl.target_y = df_train_gl.target_y.astype(str)\n",
        "\n",
        "df_val_gl.src = df_val_gl.src.astype(str)\n",
        "df_val_gl.dst = df_val_gl.dst.astype(str)\n",
        "df_val_gl.target_x = df_val_gl.target_x.astype(str)\n",
        "df_val_gl.target_y = df_val_gl.target_y.astype(str)\n",
        "\n",
        "# device = torch.device('cuda' if torch.cuda.is_available() else 'cpu')\n",
        "# model = SentenceTransformer('LaBSE')\n",
        "# model.to(device)\n",
        "\n",
        "calc_cos_sim_(df_test_gl, model)\n",
        "calc_cos_sim_(df_val_gl, model)\n",
        "calc_cos_sim_(df_train_gl, model)"
      ],
      "execution_count": null,
      "outputs": []
    },
    {
      "cell_type": "code",
      "metadata": {
        "id": "RvJa_JOuIVC_",
        "colab": {
          "base_uri": "https://localhost:8080/"
        },
        "outputId": "7170db34-450b-4b13-aafd-824ed64fb842"
      },
      "source": [
        "df_train_gl.LABSE_orig.mean(), df_val_gl.LABSE_orig.mean(), df_test_gl.LABSE_orig.mean()"
      ],
      "execution_count": null,
      "outputs": [
        {
          "output_type": "execute_result",
          "data": {
            "text/plain": [
              "(0.8977616297411125, 0.8965500514023006, 0.8895553515382009)"
            ]
          },
          "metadata": {
            "tags": []
          },
          "execution_count": 15
        }
      ]
    },
    {
      "cell_type": "code",
      "metadata": {
        "id": "GOMpf6-VIZNv",
        "colab": {
          "base_uri": "https://localhost:8080/"
        },
        "outputId": "a8ad0c23-5fc3-479d-ff41-989dd4d2a96c"
      },
      "source": [
        "df_train_gl.LABSE_simpl.mean(), df_val_gl.LABSE_simpl.mean(), df_test_gl.LABSE_simpl.mean()"
      ],
      "execution_count": null,
      "outputs": [
        {
          "output_type": "execute_result",
          "data": {
            "text/plain": [
              "(0.8960233570680219, 0.8958086021399746, 0.8843331897095458)"
            ]
          },
          "metadata": {
            "tags": []
          },
          "execution_count": 17
        }
      ]
    },
    {
      "cell_type": "markdown",
      "metadata": {
        "id": "NnZ62CRedRVv"
      },
      "source": [
        "### Flesch Kincaid Grade Level\n"
      ]
    },
    {
      "cell_type": "code",
      "metadata": {
        "colab": {
          "base_uri": "https://localhost:8080/"
        },
        "id": "a0i1oTleVBJ0",
        "outputId": "6eae6eb0-06fe-49af-8120-b70e4427767b"
      },
      "source": [
        "a,b = '\\n'.join(list(df_train_gl['target_x'].values)), '\\n'.join(list(df_train_gl['target_y'].values))\n",
        "src, dst = calc_readability_metrics(a), calc_readability_metrics(b)\n",
        "src, dst"
      ],
      "execution_count": null,
      "outputs": [
        {
          "output_type": "execute_result",
          "data": {
            "text/plain": [
              "({'avg_slen': 13.511591525677904,\n",
              "  'avg_syl': 2.784873958058751,\n",
              "  'c_share': 12.364810921322636,\n",
              "  'chars': 34122843,\n",
              "  'index_SMOG_rus': 11.477623874423962,\n",
              "  'index_ari_rus': 13.366235887323278,\n",
              "  'index_cl_rus': 12.76482160401882,\n",
              "  'index_dc_rus': 10.514040115080164,\n",
              "  'index_fk_rus': 13.341896309599832,\n",
              "  'letters': 25721593,\n",
              "  'n_complex_words': 490185,\n",
              "  'n_sentences': 293404,\n",
              "  'n_simple_words': 3474170,\n",
              "  'n_syllabes': 11040229,\n",
              "  'n_words': 3964355,\n",
              "  'spaces': 4587774,\n",
              "  'wsyllabes': {'1': 789445,\n",
              "   '10': 608,\n",
              "   '11': 221,\n",
              "   '12': 65,\n",
              "   '13': 18,\n",
              "   '14': 9,\n",
              "   '15': 5,\n",
              "   '16': 1,\n",
              "   '2': 1084592,\n",
              "   '24': 1,\n",
              "   '26': 2,\n",
              "   '3': 1005366,\n",
              "   '4': 594767,\n",
              "   '5': 314475,\n",
              "   '6': 131371,\n",
              "   '7': 33599,\n",
              "   '8': 7468,\n",
              "   '9': 2342}},\n",
              " {'avg_slen': 10.390097483991022,\n",
              "  'avg_syl': 2.7183118297190982,\n",
              "  'c_share': 10.749788353653758,\n",
              "  'chars': 26185118,\n",
              "  'index_SMOG_rus': 9.393696260156942,\n",
              "  'index_ari_rus': 11.47905559530929,\n",
              "  'index_cl_rus': 11.097810945241413,\n",
              "  'index_dc_rus': 8.770379784346424,\n",
              "  'index_fk_rus': 11.404078981920335,\n",
              "  'letters': 19534688,\n",
              "  'n_complex_words': 331921,\n",
              "  'n_sentences': 297177,\n",
              "  'n_simple_words': 2755777,\n",
              "  'n_syllabes': 8393326,\n",
              "  'n_words': 3087698,\n",
              "  'spaces': 3556999,\n",
              "  'wsyllabes': {'1': 623794,\n",
              "   '10': 385,\n",
              "   '109': 1,\n",
              "   '11': 140,\n",
              "   '12': 50,\n",
              "   '13': 12,\n",
              "   '14': 6,\n",
              "   '17': 1,\n",
              "   '2': 893178,\n",
              "   '22': 2,\n",
              "   '24': 1,\n",
              "   '26': 1,\n",
              "   '3': 782754,\n",
              "   '4': 456051,\n",
              "   '5': 217922,\n",
              "   '6': 86478,\n",
              "   '7': 21006,\n",
              "   '8': 4504,\n",
              "   '9': 1412}})"
            ]
          },
          "metadata": {
            "tags": []
          },
          "execution_count": 42
        }
      ]
    },
    {
      "cell_type": "code",
      "metadata": {
        "colab": {
          "base_uri": "https://localhost:8080/"
        },
        "id": "igiZGHX8VFvQ",
        "outputId": "72eb65b0-fff4-4094-8c42-f3e5ac10318d"
      },
      "source": [
        "a,b = '\\n'.join(list(df_val_gl['target_x'].values)), '\\n'.join(list(df_val_gl['target_y'].values))\n",
        "src, dst = calc_readability_metrics(a), calc_readability_metrics(b)\n",
        "src, dst"
      ],
      "execution_count": null,
      "outputs": [
        {
          "output_type": "execute_result",
          "data": {
            "text/plain": [
              "({'avg_slen': 13.996651785714286,\n",
              "  'avg_syl': 2.811019854876007,\n",
              "  'c_share': 12.965473247747388,\n",
              "  'chars': 107527,\n",
              "  'index_SMOG_rus': 11.960094570513345,\n",
              "  'index_ari_rus': 13.790950388128728,\n",
              "  'index_cl_rus': 13.108202695159882,\n",
              "  'index_dc_rus': 10.97802717025656,\n",
              "  'index_fk_rus': 13.867417207096437,\n",
              "  'letters': 81947,\n",
              "  'n_complex_words': 1626,\n",
              "  'n_sentences': 896,\n",
              "  'n_simple_words': 10915,\n",
              "  'n_syllabes': 35253,\n",
              "  'n_words': 12541,\n",
              "  'spaces': 14359,\n",
              "  'wsyllabes': {'1': 2455,\n",
              "   '11': 2,\n",
              "   '2': 3420,\n",
              "   '3': 3124,\n",
              "   '4': 1916,\n",
              "   '5': 1046,\n",
              "   '6': 423,\n",
              "   '7': 120,\n",
              "   '8': 23,\n",
              "   '9': 12}},\n",
              " {'avg_slen': 10.470899470899472,\n",
              "  'avg_syl': 2.7488630621526022,\n",
              "  'c_share': 11.177362304194038,\n",
              "  'chars': 83869,\n",
              "  'index_SMOG_rus': 9.614683495566927,\n",
              "  'index_ari_rus': 11.798498115129497,\n",
              "  'index_cl_rus': 11.384552804446688,\n",
              "  'index_dc_rus': 9.028459547470664,\n",
              "  'index_fk_rus': 11.863601514312982,\n",
              "  'letters': 63071,\n",
              "  'n_complex_words': 1106,\n",
              "  'n_sentences': 945,\n",
              "  'n_simple_words': 8789,\n",
              "  'n_syllabes': 27200,\n",
              "  'n_words': 9895,\n",
              "  'spaces': 11328,\n",
              "  'wsyllabes': {'1': 1951,\n",
              "   '11': 1,\n",
              "   '2': 2835,\n",
              "   '3': 2493,\n",
              "   '4': 1510,\n",
              "   '5': 698,\n",
              "   '6': 313,\n",
              "   '7': 76,\n",
              "   '8': 13,\n",
              "   '9': 5}})"
            ]
          },
          "metadata": {
            "tags": []
          },
          "execution_count": 43
        }
      ]
    },
    {
      "cell_type": "code",
      "metadata": {
        "colab": {
          "base_uri": "https://localhost:8080/"
        },
        "id": "5vzt9m89VJJ4",
        "outputId": "490ec947-b984-4bd0-b4ba-97b17c7fcde5"
      },
      "source": [
        "a,b = '\\n'.join(list(df_test_gl['target_x'].values)), '\\n'.join(list(df_test_gl['target_y'].values))\n",
        "src, dst = calc_readability_metrics(a), calc_readability_metrics(b)\n",
        "src, dst"
      ],
      "execution_count": null,
      "outputs": [
        {
          "output_type": "execute_result",
          "data": {
            "text/plain": [
              "({'avg_slen': 13.751898734177216,\n",
              "  'avg_syl': 2.809646539027982,\n",
              "  'c_share': 12.794550810014728,\n",
              "  'chars': 45668,\n",
              "  'index_SMOG_rus': 11.777428630287249,\n",
              "  'index_ari_rus': 13.800124826159092,\n",
              "  'index_cl_rus': 13.132076583210605,\n",
              "  'index_dc_rus': 10.816860401558511,\n",
              "  'index_fk_rus': 13.770084651665698,\n",
              "  'letters': 35562,\n",
              "  'n_complex_words': 695,\n",
              "  'n_sentences': 395,\n",
              "  'n_simple_words': 4737,\n",
              "  'n_syllabes': 15262,\n",
              "  'n_words': 5432,\n",
              "  'spaces': 5972,\n",
              "  'wsyllabes': {'1': 1105,\n",
              "   '10': 2,\n",
              "   '11': 2,\n",
              "   '2': 1430,\n",
              "   '3': 1369,\n",
              "   '4': 833,\n",
              "   '5': 430,\n",
              "   '6': 177,\n",
              "   '7': 71,\n",
              "   '8': 10,\n",
              "   '9': 3}},\n",
              " {'avg_slen': 12.649880095923262,\n",
              "  'avg_syl': 2.7438862559241706,\n",
              "  'c_share': 11.639810426540285,\n",
              "  'chars': 43377,\n",
              "  'index_SMOG_rus': 10.77815654833856,\n",
              "  'index_ari_rus': 12.67672359439463,\n",
              "  'index_cl_rus': 12.194928909952608,\n",
              "  'index_dc_rus': 9.878592621637289,\n",
              "  'index_fk_rus': 12.485846704626816,\n",
              "  'letters': 33848,\n",
              "  'n_complex_words': 614,\n",
              "  'n_sentences': 417,\n",
              "  'n_simple_words': 4661,\n",
              "  'n_syllabes': 14474,\n",
              "  'n_words': 5275,\n",
              "  'spaces': 5741,\n",
              "  'wsyllabes': {'1': 1111,\n",
              "   '10': 2,\n",
              "   '11': 2,\n",
              "   '2': 1486,\n",
              "   '3': 1260,\n",
              "   '4': 804,\n",
              "   '5': 388,\n",
              "   '6': 157,\n",
              "   '7': 51,\n",
              "   '8': 12,\n",
              "   '9': 2}})"
            ]
          },
          "metadata": {
            "tags": []
          },
          "execution_count": 44
        }
      ]
    },
    {
      "cell_type": "code",
      "metadata": {
        "id": "RKqag3YveF4I"
      },
      "source": [
        "df_train_gl.to_csv('/content/drive/MyDrive/MT_sentence_simpl/Google_WikiLarge_train_CosSImFKG.csv')\n",
        "df_val_gl.to_csv('/content/drive/MyDrive/MT_sentence_simpl/Google_WikiLarge_val_CosSImFKG.csv')\n",
        "df_test_gl.to_csv('/content/drive/MyDrive/MT_sentence_simpl/Google_WikiLarge_test_CosSImFKG.csv')"
      ],
      "execution_count": null,
      "outputs": []
    },
    {
      "cell_type": "markdown",
      "metadata": {
        "id": "1A9NNm3aeSEG"
      },
      "source": [
        "### Grammar Checker"
      ]
    },
    {
      "cell_type": "code",
      "metadata": {
        "id": "Uvw4CrsHeTqG"
      },
      "source": [
        "tool = language_tool_python.LanguageTool('ru')"
      ],
      "execution_count": null,
      "outputs": []
    },
    {
      "cell_type": "code",
      "metadata": {
        "id": "Yv5jVOkQeTtp"
      },
      "source": [
        "# def get_mistakes_summary(df_test):\n",
        "#     src_test = list(df_test['target_x'].values)\n",
        "#     dst_test =list(df_test['target_y'].values)\n",
        "#     matches_src = []\n",
        "#     for i in src_test:\n",
        "#       matches_src.extend(tool.check(i))\n",
        "#     matches_src\n",
        "\n",
        "#     matches_dst = []\n",
        "#     for i in dst_test:\n",
        "#       matches_dst.extend(tool.check(i))\n",
        "#     matches_dst\n",
        "\n",
        "#     categories = set([i.category for i in matches_src+matches_dst])\n",
        "\n",
        "#     categories_src = {i:0 for i in categories}\n",
        "#     categories_dst = {i:0 for i in categories}\n",
        "\n",
        "#     for i in matches_src:\n",
        "#       categories_src[i.category]+=1\n",
        "\n",
        "#     for i in matches_dst:\n",
        "#       categories_dst[i.category]+=1\n",
        "      \n",
        "#     return categories_src, categories_dst"
      ],
      "execution_count": null,
      "outputs": []
    },
    {
      "cell_type": "code",
      "metadata": {
        "id": "mUhVy0xdeTxh"
      },
      "source": [
        "src_errors, dst_errors = get_mistakes_summary(df_test_gl)\n"
      ],
      "execution_count": null,
      "outputs": []
    },
    {
      "cell_type": "code",
      "metadata": {
        "id": "75TmVtFMeT0a",
        "colab": {
          "base_uri": "https://localhost:8080/"
        },
        "outputId": "f1c7270c-7785-43d8-a7db-dc6a6b9bacd5"
      },
      "source": [
        "src_errors"
      ],
      "execution_count": null,
      "outputs": [
        {
          "output_type": "execute_result",
          "data": {
            "text/plain": [
              "{'CASING': 2,\n",
              " 'GRAMMAR': 2,\n",
              " 'MISC': 1,\n",
              " 'PUNCTUATION': 2,\n",
              " 'STYLE': 6,\n",
              " 'TYPOGRAPHY': 37,\n",
              " 'TYPOS': 227}"
            ]
          },
          "metadata": {
            "tags": []
          },
          "execution_count": 33
        }
      ]
    },
    {
      "cell_type": "code",
      "metadata": {
        "id": "wIAQKQXbejT5",
        "colab": {
          "base_uri": "https://localhost:8080/"
        },
        "outputId": "8c4c5f1c-35c2-4fb1-e48a-3ddde0375bd5"
      },
      "source": [
        "dst_errors"
      ],
      "execution_count": null,
      "outputs": [
        {
          "output_type": "execute_result",
          "data": {
            "text/plain": [
              "{'CASING': 1,\n",
              " 'GRAMMAR': 1,\n",
              " 'MISC': 1,\n",
              " 'PUNCTUATION': 5,\n",
              " 'STYLE': 5,\n",
              " 'TYPOGRAPHY': 44,\n",
              " 'TYPOS': 234}"
            ]
          },
          "metadata": {
            "tags": []
          },
          "execution_count": 34
        }
      ]
    },
    {
      "cell_type": "code",
      "metadata": {
        "id": "x3vED9qdejX5"
      },
      "source": [
        "src_errors, dst_errors = get_mistakes_summary(df_val_gl)\n"
      ],
      "execution_count": null,
      "outputs": []
    },
    {
      "cell_type": "code",
      "metadata": {
        "id": "dXVTYRMMelPE",
        "colab": {
          "base_uri": "https://localhost:8080/"
        },
        "outputId": "8fea46b0-d213-4943-e341-b6aa5fa4b033"
      },
      "source": [
        "src_errors"
      ],
      "execution_count": null,
      "outputs": [
        {
          "output_type": "execute_result",
          "data": {
            "text/plain": [
              "{'CASING': 9,\n",
              " 'EXTEND': 1,\n",
              " 'GRAMMAR': 5,\n",
              " 'LOGIC': 2,\n",
              " 'MISC': 4,\n",
              " 'PUNCTUATION': 18,\n",
              " 'STYLE': 8,\n",
              " 'TYPOGRAPHY': 144,\n",
              " 'TYPOS': 716}"
            ]
          },
          "metadata": {
            "tags": []
          },
          "execution_count": 36
        }
      ]
    },
    {
      "cell_type": "code",
      "metadata": {
        "id": "WdgO4Rg4elXg",
        "colab": {
          "base_uri": "https://localhost:8080/"
        },
        "outputId": "66367c44-839c-4df6-858a-3a32b90d1499"
      },
      "source": [
        "dst_errors"
      ],
      "execution_count": null,
      "outputs": [
        {
          "output_type": "execute_result",
          "data": {
            "text/plain": [
              "{'CASING': 10,\n",
              " 'EXTEND': 0,\n",
              " 'GRAMMAR': 7,\n",
              " 'LOGIC': 0,\n",
              " 'MISC': 8,\n",
              " 'PUNCTUATION': 10,\n",
              " 'STYLE': 10,\n",
              " 'TYPOGRAPHY': 140,\n",
              " 'TYPOS': 568}"
            ]
          },
          "metadata": {
            "tags": []
          },
          "execution_count": 37
        }
      ]
    },
    {
      "cell_type": "code",
      "metadata": {
        "id": "iAtFIW2-elf7"
      },
      "source": [
        "src_errors, dst_errors = get_mistakes_summary(df_train_gl)"
      ],
      "execution_count": null,
      "outputs": []
    },
    {
      "cell_type": "code",
      "metadata": {
        "id": "OQ0Ya34eetUn",
        "colab": {
          "base_uri": "https://localhost:8080/"
        },
        "outputId": "94e8fa34-a699-47aa-99d8-86e83f9540b4"
      },
      "source": [
        "src_errors"
      ],
      "execution_count": null,
      "outputs": [
        {
          "output_type": "execute_result",
          "data": {
            "text/plain": [
              "{'CASING': 3605,\n",
              " 'EXTEND': 33,\n",
              " 'GRAMMAR': 3296,\n",
              " 'LOGIC': 305,\n",
              " 'MISC': 1921,\n",
              " 'PUNCTUATION': 4863,\n",
              " 'STYLE': 3391,\n",
              " 'TYPOGRAPHY': 41504,\n",
              " 'TYPOS': 221050}"
            ]
          },
          "metadata": {
            "tags": []
          },
          "execution_count": 9
        }
      ]
    },
    {
      "cell_type": "code",
      "metadata": {
        "id": "r39Rq-7AetYj",
        "colab": {
          "base_uri": "https://localhost:8080/"
        },
        "outputId": "2838d1b7-f9b8-4f6c-91a8-0aabef915e47"
      },
      "source": [
        "dst_errors"
      ],
      "execution_count": null,
      "outputs": [
        {
          "output_type": "execute_result",
          "data": {
            "text/plain": [
              "{'CASING': 1663,\n",
              " 'EXTEND': 19,\n",
              " 'GRAMMAR': 2328,\n",
              " 'LOGIC': 244,\n",
              " 'MISC': 1711,\n",
              " 'PUNCTUATION': 3447,\n",
              " 'STYLE': 1959,\n",
              " 'TYPOGRAPHY': 38674,\n",
              " 'TYPOS': 173040}"
            ]
          },
          "metadata": {
            "tags": []
          },
          "execution_count": 10
        }
      ]
    },
    {
      "cell_type": "code",
      "metadata": {
        "id": "tyaY55TGIklm"
      },
      "source": [
        "# lexical diversity\n",
        "# https://shravan-kuchkula.github.io/Lexical-Diversity/#normalizing-text-to-understand-vocabulary\n",
        "# https://github.com/facebookresearch/asset\n",
        "# https://github.com/ddhruvkr/Edit-Unsup-TS\n",
        "# https://newtechaudit.ru/trenirovka-nlp-zadachi/\n",
        "# https://github.com/king-menin/mipt-nlp2021/blob/master/seminars/sem10/Summarization.ipynb"
      ],
      "execution_count": null,
      "outputs": []
    }
  ]
}