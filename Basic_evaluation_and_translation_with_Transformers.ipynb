{
  "nbformat": 4,
  "nbformat_minor": 0,
  "metadata": {
    "accelerator": "GPU",
    "colab": {
      "name": "Basic_evaluation_and_translation_with_Transformers.ipynb",
      "provenance": [],
      "collapsed_sections": []
    },
    "kernelspec": {
      "display_name": "Python 3",
      "name": "python3"
    },
    "language_info": {
      "name": "python"
    },
    "widgets": {
      "application/vnd.jupyter.widget-state+json": {
        "946d6e7934774054b04f1f5a49ef08be": {
          "model_module": "@jupyter-widgets/controls",
          "model_name": "HBoxModel",
          "state": {
            "_dom_classes": [],
            "_model_module": "@jupyter-widgets/controls",
            "_model_module_version": "1.5.0",
            "_model_name": "HBoxModel",
            "_view_count": null,
            "_view_module": "@jupyter-widgets/controls",
            "_view_module_version": "1.5.0",
            "_view_name": "HBoxView",
            "box_style": "",
            "children": [
              "IPY_MODEL_d6e38809c6ae400982f8c38c7bfd4d0d",
              "IPY_MODEL_5a06bece6c944b0fb793617f8fc016f9"
            ],
            "layout": "IPY_MODEL_9238d31c21034f69953344c913f99e00"
          }
        },
        "d6e38809c6ae400982f8c38c7bfd4d0d": {
          "model_module": "@jupyter-widgets/controls",
          "model_name": "FloatProgressModel",
          "state": {
            "_dom_classes": [],
            "_model_module": "@jupyter-widgets/controls",
            "_model_module_version": "1.5.0",
            "_model_name": "FloatProgressModel",
            "_view_count": null,
            "_view_module": "@jupyter-widgets/controls",
            "_view_module_version": "1.5.0",
            "_view_name": "ProgressView",
            "bar_style": "success",
            "description": "",
            "description_tooltip": null,
            "layout": "IPY_MODEL_73389f608cdb4a5abcfd3c2670e6bed1",
            "max": 1,
            "min": 0,
            "orientation": "horizontal",
            "style": "IPY_MODEL_03257ca2e1d44ee1b23f7b20e09cd991",
            "value": 1
          }
        },
        "5a06bece6c944b0fb793617f8fc016f9": {
          "model_module": "@jupyter-widgets/controls",
          "model_name": "HTMLModel",
          "state": {
            "_dom_classes": [],
            "_model_module": "@jupyter-widgets/controls",
            "_model_module_version": "1.5.0",
            "_model_name": "HTMLModel",
            "_view_count": null,
            "_view_module": "@jupyter-widgets/controls",
            "_view_module_version": "1.5.0",
            "_view_name": "HTMLView",
            "description": "",
            "description_tooltip": null,
            "layout": "IPY_MODEL_cbfb2d37ee524918bb5a627499fea3a8",
            "placeholder": "​",
            "style": "IPY_MODEL_42662e8f7b1c449b9a7be862d3cef813",
            "value": " 235/? [32:49&lt;00:00,  8.38s/it]"
          }
        },
        "9238d31c21034f69953344c913f99e00": {
          "model_module": "@jupyter-widgets/base",
          "model_name": "LayoutModel",
          "state": {
            "_model_module": "@jupyter-widgets/base",
            "_model_module_version": "1.2.0",
            "_model_name": "LayoutModel",
            "_view_count": null,
            "_view_module": "@jupyter-widgets/base",
            "_view_module_version": "1.2.0",
            "_view_name": "LayoutView",
            "align_content": null,
            "align_items": null,
            "align_self": null,
            "border": null,
            "bottom": null,
            "display": null,
            "flex": null,
            "flex_flow": null,
            "grid_area": null,
            "grid_auto_columns": null,
            "grid_auto_flow": null,
            "grid_auto_rows": null,
            "grid_column": null,
            "grid_gap": null,
            "grid_row": null,
            "grid_template_areas": null,
            "grid_template_columns": null,
            "grid_template_rows": null,
            "height": null,
            "justify_content": null,
            "justify_items": null,
            "left": null,
            "margin": null,
            "max_height": null,
            "max_width": null,
            "min_height": null,
            "min_width": null,
            "object_fit": null,
            "object_position": null,
            "order": null,
            "overflow": null,
            "overflow_x": null,
            "overflow_y": null,
            "padding": null,
            "right": null,
            "top": null,
            "visibility": null,
            "width": null
          }
        },
        "73389f608cdb4a5abcfd3c2670e6bed1": {
          "model_module": "@jupyter-widgets/base",
          "model_name": "LayoutModel",
          "state": {
            "_model_module": "@jupyter-widgets/base",
            "_model_module_version": "1.2.0",
            "_model_name": "LayoutModel",
            "_view_count": null,
            "_view_module": "@jupyter-widgets/base",
            "_view_module_version": "1.2.0",
            "_view_name": "LayoutView",
            "align_content": null,
            "align_items": null,
            "align_self": null,
            "border": null,
            "bottom": null,
            "display": null,
            "flex": null,
            "flex_flow": null,
            "grid_area": null,
            "grid_auto_columns": null,
            "grid_auto_flow": null,
            "grid_auto_rows": null,
            "grid_column": null,
            "grid_gap": null,
            "grid_row": null,
            "grid_template_areas": null,
            "grid_template_columns": null,
            "grid_template_rows": null,
            "height": null,
            "justify_content": null,
            "justify_items": null,
            "left": null,
            "margin": null,
            "max_height": null,
            "max_width": null,
            "min_height": null,
            "min_width": null,
            "object_fit": null,
            "object_position": null,
            "order": null,
            "overflow": null,
            "overflow_x": null,
            "overflow_y": null,
            "padding": null,
            "right": null,
            "top": null,
            "visibility": null,
            "width": null
          }
        },
        "03257ca2e1d44ee1b23f7b20e09cd991": {
          "model_module": "@jupyter-widgets/controls",
          "model_name": "ProgressStyleModel",
          "state": {
            "_model_module": "@jupyter-widgets/controls",
            "_model_module_version": "1.5.0",
            "_model_name": "ProgressStyleModel",
            "_view_count": null,
            "_view_module": "@jupyter-widgets/base",
            "_view_module_version": "1.2.0",
            "_view_name": "StyleView",
            "bar_color": null,
            "description_width": "initial"
          }
        },
        "cbfb2d37ee524918bb5a627499fea3a8": {
          "model_module": "@jupyter-widgets/base",
          "model_name": "LayoutModel",
          "state": {
            "_model_module": "@jupyter-widgets/base",
            "_model_module_version": "1.2.0",
            "_model_name": "LayoutModel",
            "_view_count": null,
            "_view_module": "@jupyter-widgets/base",
            "_view_module_version": "1.2.0",
            "_view_name": "LayoutView",
            "align_content": null,
            "align_items": null,
            "align_self": null,
            "border": null,
            "bottom": null,
            "display": null,
            "flex": null,
            "flex_flow": null,
            "grid_area": null,
            "grid_auto_columns": null,
            "grid_auto_flow": null,
            "grid_auto_rows": null,
            "grid_column": null,
            "grid_gap": null,
            "grid_row": null,
            "grid_template_areas": null,
            "grid_template_columns": null,
            "grid_template_rows": null,
            "height": null,
            "justify_content": null,
            "justify_items": null,
            "left": null,
            "margin": null,
            "max_height": null,
            "max_width": null,
            "min_height": null,
            "min_width": null,
            "object_fit": null,
            "object_position": null,
            "order": null,
            "overflow": null,
            "overflow_x": null,
            "overflow_y": null,
            "padding": null,
            "right": null,
            "top": null,
            "visibility": null,
            "width": null
          }
        },
        "42662e8f7b1c449b9a7be862d3cef813": {
          "model_module": "@jupyter-widgets/controls",
          "model_name": "DescriptionStyleModel",
          "state": {
            "_model_module": "@jupyter-widgets/controls",
            "_model_module_version": "1.5.0",
            "_model_name": "DescriptionStyleModel",
            "_view_count": null,
            "_view_module": "@jupyter-widgets/base",
            "_view_module_version": "1.2.0",
            "_view_name": "StyleView",
            "description_width": ""
          }
        },
        "8b6bcac50beb491681282a4415a0ab22": {
          "model_module": "@jupyter-widgets/controls",
          "model_name": "HBoxModel",
          "state": {
            "_dom_classes": [],
            "_model_module": "@jupyter-widgets/controls",
            "_model_module_version": "1.5.0",
            "_model_name": "HBoxModel",
            "_view_count": null,
            "_view_module": "@jupyter-widgets/controls",
            "_view_module_version": "1.5.0",
            "_view_name": "HBoxView",
            "box_style": "",
            "children": [
              "IPY_MODEL_245e124d587c414b94babcd96540b91a",
              "IPY_MODEL_a242573c969f4672a846b49c88886cf1"
            ],
            "layout": "IPY_MODEL_dc6878553fcd48f2bd645d1f41098b7c"
          }
        },
        "245e124d587c414b94babcd96540b91a": {
          "model_module": "@jupyter-widgets/controls",
          "model_name": "FloatProgressModel",
          "state": {
            "_dom_classes": [],
            "_model_module": "@jupyter-widgets/controls",
            "_model_module_version": "1.5.0",
            "_model_name": "FloatProgressModel",
            "_view_count": null,
            "_view_module": "@jupyter-widgets/controls",
            "_view_module_version": "1.5.0",
            "_view_name": "ProgressView",
            "bar_style": "success",
            "description": "",
            "description_tooltip": null,
            "layout": "IPY_MODEL_bc90007f4bdf44dfbb2d718903cfe8c5",
            "max": 1,
            "min": 0,
            "orientation": "horizontal",
            "style": "IPY_MODEL_49d8a0a0b1d54613afd582325657551a",
            "value": 1
          }
        },
        "a242573c969f4672a846b49c88886cf1": {
          "model_module": "@jupyter-widgets/controls",
          "model_name": "HTMLModel",
          "state": {
            "_dom_classes": [],
            "_model_module": "@jupyter-widgets/controls",
            "_model_module_version": "1.5.0",
            "_model_name": "HTMLModel",
            "_view_count": null,
            "_view_module": "@jupyter-widgets/controls",
            "_view_module_version": "1.5.0",
            "_view_name": "HTMLView",
            "description": "",
            "description_tooltip": null,
            "layout": "IPY_MODEL_e0cc9b7abef941daaea0608d55e69fab",
            "placeholder": "​",
            "style": "IPY_MODEL_a0538d115f1747ab89fdeb9447e2aeaa",
            "value": " 235/? [17:28&lt;00:00,  4.46s/it]"
          }
        },
        "dc6878553fcd48f2bd645d1f41098b7c": {
          "model_module": "@jupyter-widgets/base",
          "model_name": "LayoutModel",
          "state": {
            "_model_module": "@jupyter-widgets/base",
            "_model_module_version": "1.2.0",
            "_model_name": "LayoutModel",
            "_view_count": null,
            "_view_module": "@jupyter-widgets/base",
            "_view_module_version": "1.2.0",
            "_view_name": "LayoutView",
            "align_content": null,
            "align_items": null,
            "align_self": null,
            "border": null,
            "bottom": null,
            "display": null,
            "flex": null,
            "flex_flow": null,
            "grid_area": null,
            "grid_auto_columns": null,
            "grid_auto_flow": null,
            "grid_auto_rows": null,
            "grid_column": null,
            "grid_gap": null,
            "grid_row": null,
            "grid_template_areas": null,
            "grid_template_columns": null,
            "grid_template_rows": null,
            "height": null,
            "justify_content": null,
            "justify_items": null,
            "left": null,
            "margin": null,
            "max_height": null,
            "max_width": null,
            "min_height": null,
            "min_width": null,
            "object_fit": null,
            "object_position": null,
            "order": null,
            "overflow": null,
            "overflow_x": null,
            "overflow_y": null,
            "padding": null,
            "right": null,
            "top": null,
            "visibility": null,
            "width": null
          }
        },
        "bc90007f4bdf44dfbb2d718903cfe8c5": {
          "model_module": "@jupyter-widgets/base",
          "model_name": "LayoutModel",
          "state": {
            "_model_module": "@jupyter-widgets/base",
            "_model_module_version": "1.2.0",
            "_model_name": "LayoutModel",
            "_view_count": null,
            "_view_module": "@jupyter-widgets/base",
            "_view_module_version": "1.2.0",
            "_view_name": "LayoutView",
            "align_content": null,
            "align_items": null,
            "align_self": null,
            "border": null,
            "bottom": null,
            "display": null,
            "flex": null,
            "flex_flow": null,
            "grid_area": null,
            "grid_auto_columns": null,
            "grid_auto_flow": null,
            "grid_auto_rows": null,
            "grid_column": null,
            "grid_gap": null,
            "grid_row": null,
            "grid_template_areas": null,
            "grid_template_columns": null,
            "grid_template_rows": null,
            "height": null,
            "justify_content": null,
            "justify_items": null,
            "left": null,
            "margin": null,
            "max_height": null,
            "max_width": null,
            "min_height": null,
            "min_width": null,
            "object_fit": null,
            "object_position": null,
            "order": null,
            "overflow": null,
            "overflow_x": null,
            "overflow_y": null,
            "padding": null,
            "right": null,
            "top": null,
            "visibility": null,
            "width": null
          }
        },
        "49d8a0a0b1d54613afd582325657551a": {
          "model_module": "@jupyter-widgets/controls",
          "model_name": "ProgressStyleModel",
          "state": {
            "_model_module": "@jupyter-widgets/controls",
            "_model_module_version": "1.5.0",
            "_model_name": "ProgressStyleModel",
            "_view_count": null,
            "_view_module": "@jupyter-widgets/base",
            "_view_module_version": "1.2.0",
            "_view_name": "StyleView",
            "bar_color": null,
            "description_width": "initial"
          }
        },
        "e0cc9b7abef941daaea0608d55e69fab": {
          "model_module": "@jupyter-widgets/base",
          "model_name": "LayoutModel",
          "state": {
            "_model_module": "@jupyter-widgets/base",
            "_model_module_version": "1.2.0",
            "_model_name": "LayoutModel",
            "_view_count": null,
            "_view_module": "@jupyter-widgets/base",
            "_view_module_version": "1.2.0",
            "_view_name": "LayoutView",
            "align_content": null,
            "align_items": null,
            "align_self": null,
            "border": null,
            "bottom": null,
            "display": null,
            "flex": null,
            "flex_flow": null,
            "grid_area": null,
            "grid_auto_columns": null,
            "grid_auto_flow": null,
            "grid_auto_rows": null,
            "grid_column": null,
            "grid_gap": null,
            "grid_row": null,
            "grid_template_areas": null,
            "grid_template_columns": null,
            "grid_template_rows": null,
            "height": null,
            "justify_content": null,
            "justify_items": null,
            "left": null,
            "margin": null,
            "max_height": null,
            "max_width": null,
            "min_height": null,
            "min_width": null,
            "object_fit": null,
            "object_position": null,
            "order": null,
            "overflow": null,
            "overflow_x": null,
            "overflow_y": null,
            "padding": null,
            "right": null,
            "top": null,
            "visibility": null,
            "width": null
          }
        },
        "a0538d115f1747ab89fdeb9447e2aeaa": {
          "model_module": "@jupyter-widgets/controls",
          "model_name": "DescriptionStyleModel",
          "state": {
            "_model_module": "@jupyter-widgets/controls",
            "_model_module_version": "1.5.0",
            "_model_name": "DescriptionStyleModel",
            "_view_count": null,
            "_view_module": "@jupyter-widgets/base",
            "_view_module_version": "1.2.0",
            "_view_name": "StyleView",
            "description_width": ""
          }
        }
      }
    }
  },
  "cells": [
    {
      "cell_type": "markdown",
      "metadata": {
        "id": "DcMAr0qUM50j"
      },
      "source": [
        "In this notebook English dataset Wikilarge collected from Wikipedia will be explored and translated to Russian with a MT model from Hugging Face. Also, a translated via Google translate API data will be considered. All the data will be evaluated\n"
      ]
    },
    {
      "cell_type": "markdown",
      "metadata": {
        "id": "oi419VpvAtIg"
      },
      "source": [
        "# Libraries and dependencies"
      ]
    },
    {
      "cell_type": "code",
      "metadata": {
        "id": "wiitTEva_9sO"
      },
      "source": [
        "! pip install googletrans\n",
        "! pip install transformers\n",
        "! pip install laserembeddings\n",
        "! pip install sentence_transformers\n",
        "! pip install language_tool_python\n",
        "! pip install textstat"
      ],
      "execution_count": null,
      "outputs": []
    },
    {
      "cell_type": "code",
      "metadata": {
        "colab": {
          "base_uri": "https://localhost:8080/"
        },
        "id": "V2nZffkUAXHk",
        "outputId": "96f9524d-00f3-463a-b8d6-8b52d61a7dba"
      },
      "source": [
        "! python -m laserembeddings download-models"
      ],
      "execution_count": null,
      "outputs": [
        {
          "output_type": "stream",
          "text": [
            "Downloading models into /usr/local/lib/python3.7/dist-packages/laserembeddings/data\n",
            "\n",
            "✅   Downloaded https://dl.fbaipublicfiles.com/laser/models/93langs.fcodes    \n",
            "✅   Downloaded https://dl.fbaipublicfiles.com/laser/models/93langs.fvocab    \n",
            "✅   Downloaded https://dl.fbaipublicfiles.com/laser/models/bilstm.93langs.2018-12-26.pt    \n",
            "\n",
            "✨ You're all set!\n"
          ],
          "name": "stdout"
        }
      ]
    },
    {
      "cell_type": "code",
      "metadata": {
        "id": "5zm9sz1jARob"
      },
      "source": [
        "import pandas as pd\n",
        "import numpy as np\n",
        "import torch\n",
        "import language_tool_python\n",
        "import re\n",
        "import textstat\n",
        "from laserembeddings import Laser\n",
        "from sklearn.metrics.pairwise import cosine_similarity\n",
        "from sentence_transformers import SentenceTransformer\n",
        "from transformers import MarianMTModel, MarianTokenizer\n",
        "from transformers.hf_api import HfApi\n",
        "from googletrans import Translator\n",
        "from tqdm import tqdm_notebook\n",
        "\n",
        "pd.set_option('display.max_rows', None)\n",
        "pd.set_option('display.max_columns', 500)\n",
        "pd.set_option('display.width', 1000)\n",
        "pd.set_option('display.max_colwidth', None)"
      ],
      "execution_count": 2,
      "outputs": []
    },
    {
      "cell_type": "markdown",
      "metadata": {
        "id": "fOlOi27HM-nb"
      },
      "source": [
        "# Data loading..."
      ]
    },
    {
      "cell_type": "code",
      "metadata": {
        "colab": {
          "base_uri": "https://localhost:8080/"
        },
        "id": "HE2spt1q6qQQ",
        "outputId": "32b3b7db-9281-4033-b576-85a88183df24"
      },
      "source": [
        "from google.colab import drive\n",
        "drive.mount('/content/drive')"
      ],
      "execution_count": null,
      "outputs": [
        {
          "output_type": "stream",
          "text": [
            "Mounted at /content/drive\n"
          ],
          "name": "stdout"
        }
      ]
    },
    {
      "cell_type": "code",
      "metadata": {
        "id": "0LkL-r4nxYgD"
      },
      "source": [
        "# ! tar -xf /content/drive/MyDrive/MT_sentence_simpl/data-simplification.tar.bz2\n",
        "! gdown https://drive.google.com/uc?id=0B6-YKFW-MnbOYWxUMTBEZ1FBam8\n",
        "! tar -xf /content/data-simplification.tar.bz2"
      ],
      "execution_count": null,
      "outputs": []
    },
    {
      "cell_type": "code",
      "metadata": {
        "id": "yGKBmzWGBQgR"
      },
      "source": [
        "# train-------------------------------------------------------------\n",
        "with open('/content/data-simplification/wikilarge/wiki.full.aner.ori.train.src') as f:\n",
        " data_train =  f.readlines()\n",
        "data_train = [i.strip('\\n') for i in data_train]\n",
        "\n",
        "with open('/content/data-simplification/wikilarge/wiki.full.aner.ori.train.dst') as f:\n",
        " data_train_dst =  f.readlines()\n",
        "data_train_dst = [i.strip('\\n') for i in data_train_dst]\n",
        "\n",
        "df_train = pd.DataFrame.from_records(zip(data_train, data_train_dst), columns=['src', 'dst'])\n",
        "\n",
        "# valid-------------------------------------------------------------\n",
        "with open('/content/data-simplification/wikilarge/wiki.full.aner.ori.valid.src') as f:\n",
        " data_valid =  f.readlines()\n",
        "data_valid = [i.strip('\\n') for i in data_valid]\n",
        "\n",
        "with open('/content/data-simplification/wikilarge/wiki.full.aner.ori.valid.dst') as f:\n",
        " data_valid_dst =  f.readlines()\n",
        "data_valid_dst = [i.strip('\\n') for i in data_valid_dst]\n",
        "\n",
        "df_val = pd.DataFrame.from_records(zip(data_valid, data_valid_dst), columns=['src', 'dst'])\n",
        "\n",
        "# test-------------------------------------------------------------\n",
        "with open('/content/data-simplification/wikilarge/wiki.full.aner.ori.test.src') as f:\n",
        " data_test =  f.readlines()\n",
        "data_test = [i.strip('\\n') for i in data_test]\n",
        "\n",
        "with open('/content/data-simplification/wikilarge/wiki.full.aner.ori.test.dst') as f:\n",
        " data_test_dst =  f.readlines()\n",
        "data_test_dst = [i.strip('\\n') for i in data_test_dst]\n",
        "\n",
        "df_test = pd.DataFrame.from_records(zip(data_test, data_test_dst), columns=['src', 'dst'])"
      ],
      "execution_count": 5,
      "outputs": []
    },
    {
      "cell_type": "markdown",
      "metadata": {
        "id": "P2wcWK6YBY6s"
      },
      "source": [
        "### First look at the data:"
      ]
    },
    {
      "cell_type": "code",
      "metadata": {
        "colab": {
          "base_uri": "https://localhost:8080/",
          "height": 340
        },
        "id": "p4pGu_huB7ON",
        "outputId": "751bb810-7288-4f0a-9781-3cf5eaa2821a"
      },
      "source": [
        "df_train.sample(5)"
      ],
      "execution_count": null,
      "outputs": [
        {
          "output_type": "execute_result",
          "data": {
            "text/html": [
              "<div>\n",
              "<style scoped>\n",
              "    .dataframe tbody tr th:only-of-type {\n",
              "        vertical-align: middle;\n",
              "    }\n",
              "\n",
              "    .dataframe tbody tr th {\n",
              "        vertical-align: top;\n",
              "    }\n",
              "\n",
              "    .dataframe thead th {\n",
              "        text-align: right;\n",
              "    }\n",
              "</style>\n",
              "<table border=\"1\" class=\"dataframe\">\n",
              "  <thead>\n",
              "    <tr style=\"text-align: right;\">\n",
              "      <th></th>\n",
              "      <th>src</th>\n",
              "      <th>dst</th>\n",
              "    </tr>\n",
              "  </thead>\n",
              "  <tbody>\n",
              "    <tr>\n",
              "      <th>96347</th>\n",
              "      <td>Daintree National Park and Cape Tribulation , about 130 k north of Cairns , are popular areas for experiencing a tropical rainforest .</td>\n",
              "      <td>The Daintree National Park and Cape Tribulation , about 130km north of Cairns , are popular areas for experiencing a tropical rainforest .</td>\n",
              "    </tr>\n",
              "    <tr>\n",
              "      <th>65533</th>\n",
              "      <td>YÅ kai are a class of preternatural creatures in Japanese folklore ranging from the evil oni -LRB- ogre -RRB- to the mischievous kitsune -LRB- fox -RRB- or snow woman Yuki-onna . Some possess part animal and part human features -LRB- e.g. Kappa and Tengu -RRB- .</td>\n",
              "      <td>YÅ kai are a type of creatures appeared in Japanese old stories , such as oni -LRB- the evil -RRB- , kappa , or tengu .</td>\n",
              "    </tr>\n",
              "    <tr>\n",
              "      <th>239</th>\n",
              "      <td>Photography is the process , activity and art of creating still or moving pictures by recording radiation on a radiation-sensitive medium , such as a photographic film , or an electronic sensor .</td>\n",
              "      <td>The picture the lens makes is recorded on photographic film .</td>\n",
              "    </tr>\n",
              "    <tr>\n",
              "      <th>200665</th>\n",
              "      <td>Qalandarabad is major town in Baldheri Union Council and is famous throughout Hazara for its Chapal Kebabs .</td>\n",
              "      <td>Qalandarabad</td>\n",
              "    </tr>\n",
              "    <tr>\n",
              "      <th>232250</th>\n",
              "      <td>Negros Oriental -LRB- Filipino : Silangang Negros -RRB- -LRB- also called Oriental Negros , '' Eastern Negros '' -RRB- is a province of the Philippines located in the Central Visayas region .</td>\n",
              "      <td>Negros Oriental , sometimes called Oriental Negros -LRB- East Negros -RRB- , is a province in the Philippines .</td>\n",
              "    </tr>\n",
              "  </tbody>\n",
              "</table>\n",
              "</div>"
            ],
            "text/plain": [
              "                                                                                                                                                                                                                                                                           src                                                                                                                                         dst\n",
              "96347                                                                                                                                   Daintree National Park and Cape Tribulation , about 130 k north of Cairns , are popular areas for experiencing a tropical rainforest .  The Daintree National Park and Cape Tribulation , about 130km north of Cairns , are popular areas for experiencing a tropical rainforest .\n",
              "65533   YÅ kai are a class of preternatural creatures in Japanese folklore ranging from the evil oni -LRB- ogre -RRB- to the mischievous kitsune -LRB- fox -RRB- or snow woman Yuki-onna . Some possess part animal and part human features -LRB- e.g. Kappa and Tengu -RRB- .                     YÅ kai are a type of creatures appeared in Japanese old stories , such as oni -LRB- the evil -RRB- , kappa , or tengu .\n",
              "239                                                                        Photography is the process , activity and art of creating still or moving pictures by recording radiation on a radiation-sensitive medium , such as a photographic film , or an electronic sensor .                                                                               The picture the lens makes is recorded on photographic film .\n",
              "200665                                                                                                                                                            Qalandarabad is major town in Baldheri Union Council and is famous throughout Hazara for its Chapal Kebabs .                                                                                                                                Qalandarabad\n",
              "232250                                                                         Negros Oriental -LRB- Filipino : Silangang Negros -RRB- -LRB- also called Oriental Negros , '' Eastern Negros '' -RRB- is a province of the Philippines located in the Central Visayas region .                             Negros Oriental , sometimes called Oriental Negros -LRB- East Negros -RRB- , is a province in the Philippines ."
            ]
          },
          "metadata": {
            "tags": []
          },
          "execution_count": 6
        }
      ]
    },
    {
      "cell_type": "code",
      "metadata": {
        "colab": {
          "base_uri": "https://localhost:8080/",
          "height": 374
        },
        "id": "mRZVRT4NB7RM",
        "outputId": "1e57b49e-7e4a-4c4b-9617-42f4e07a2166"
      },
      "source": [
        "df_test.sample(5)"
      ],
      "execution_count": null,
      "outputs": [
        {
          "output_type": "execute_result",
          "data": {
            "text/html": [
              "<div>\n",
              "<style scoped>\n",
              "    .dataframe tbody tr th:only-of-type {\n",
              "        vertical-align: middle;\n",
              "    }\n",
              "\n",
              "    .dataframe tbody tr th {\n",
              "        vertical-align: top;\n",
              "    }\n",
              "\n",
              "    .dataframe thead th {\n",
              "        text-align: right;\n",
              "    }\n",
              "</style>\n",
              "<table border=\"1\" class=\"dataframe\">\n",
              "  <thead>\n",
              "    <tr style=\"text-align: right;\">\n",
              "      <th></th>\n",
              "      <th>src</th>\n",
              "      <th>dst</th>\n",
              "    </tr>\n",
              "  </thead>\n",
              "  <tbody>\n",
              "    <tr>\n",
              "      <th>345</th>\n",
              "      <td>On 15 April 1989 , the ground was the scene of one of the worst sporting tragedies of all time when 94 Liverpool fans -LRB- the final death toll was 96 -RRB- were crushed to death in an FA Cup semi-final in the infamous Hillsborough disaster .</td>\n",
              "      <td>The device can be designed for use in less exact environments .</td>\n",
              "    </tr>\n",
              "    <tr>\n",
              "      <th>192</th>\n",
              "      <td>The park , which receives approximately thirty-five million visitors annually , is the most visited urban park in the United States .</td>\n",
              "      <td>The lawyer Brandon -LRB- Waise Lee -RRB- was his idol as MK Sun grew up to be a lawyer .</td>\n",
              "    </tr>\n",
              "    <tr>\n",
              "      <th>147</th>\n",
              "      <td>It was founded in 1440 by King Henry VI as '' The King 's College of Our Lady of Eton besides Wyndsor '' .</td>\n",
              "      <td>Later , Esperanto speakers started to see the language and culture that had grown up around it as ends in themselves , though Esperanto is never accepted by the United Nations of other international organizations .</td>\n",
              "    </tr>\n",
              "    <tr>\n",
              "      <th>66</th>\n",
              "      <td>Etymology The Portuguese Man O ' War -LRB- named caravela-portuguesa in Portuguese -RRB- is named for its air bladder , which looks similar to the triangular sails of the Portuguese ship -LRB- man-of-war -RRB- Caravela latina -LRB- two - or three-masted lateen-rigged ship caravel -RRB- , of the 15th and 16th centuries .</td>\n",
              "      <td>Rollo swore fealty to Charles , changed to Christianity , and undertook to standby the northern region of France against the incursions of other Viking groups .</td>\n",
              "    </tr>\n",
              "    <tr>\n",
              "      <th>41</th>\n",
              "      <td>Sudan is situated in northern Africa , bordering the Red Sea and it has a coastline of 853 km along the Red Sea .</td>\n",
              "      <td>Working Group I : makes note of climate system and climate change</td>\n",
              "    </tr>\n",
              "  </tbody>\n",
              "</table>\n",
              "</div>"
            ],
            "text/plain": [
              "                                                                                                                                                                                                                                                                                                                                   src                                                                                                                                                                                                                     dst\n",
              "345                                                                                On 15 April 1989 , the ground was the scene of one of the worst sporting tragedies of all time when 94 Liverpool fans -LRB- the final death toll was 96 -RRB- were crushed to death in an FA Cup semi-final in the infamous Hillsborough disaster .                                                                                                                                                         The device can be designed for use in less exact environments .\n",
              "192                                                                                                                                                                                              The park , which receives approximately thirty-five million visitors annually , is the most visited urban park in the United States .                                                                                                                                The lawyer Brandon -LRB- Waise Lee -RRB- was his idol as MK Sun grew up to be a lawyer .\n",
              "147                                                                                                                                                                                                                         It was founded in 1440 by King Henry VI as '' The King 's College of Our Lady of Eton besides Wyndsor '' .  Later , Esperanto speakers started to see the language and culture that had grown up around it as ends in themselves , though Esperanto is never accepted by the United Nations of other international organizations .\n",
              "66   Etymology The Portuguese Man O ' War -LRB- named caravela-portuguesa in Portuguese -RRB- is named for its air bladder , which looks similar to the triangular sails of the Portuguese ship -LRB- man-of-war -RRB- Caravela latina -LRB- two - or three-masted lateen-rigged ship caravel -RRB- , of the 15th and 16th centuries .                                                        Rollo swore fealty to Charles , changed to Christianity , and undertook to standby the northern region of France against the incursions of other Viking groups .\n",
              "41                                                                                                                                                                                                                   Sudan is situated in northern Africa , bordering the Red Sea and it has a coastline of 853 km along the Red Sea .                                                                                                                                                       Working Group I : makes note of climate system and climate change"
            ]
          },
          "metadata": {
            "tags": []
          },
          "execution_count": 7
        }
      ]
    },
    {
      "cell_type": "markdown",
      "metadata": {
        "id": "HqGUs2gJBhg6"
      },
      "source": [
        "Initial sizes are:\n",
        "\n",
        "* train: 296402\n",
        "* dev: 992\n",
        "* test: 359\n",
        "\n",
        " However, some of the sentences are of a very bad quality. So, they will be removed before translation"
      ]
    },
    {
      "cell_type": "code",
      "metadata": {
        "colab": {
          "base_uri": "https://localhost:8080/"
        },
        "id": "T3Y011K6B7Uz",
        "outputId": "d42f625d-b274-4269-96e9-d74099f9c7cf"
      },
      "source": [
        "# dataset sizes\n",
        "\n",
        "df_train.shape[0], df_val.shape[0], df_test.shape[0]"
      ],
      "execution_count": null,
      "outputs": [
        {
          "output_type": "execute_result",
          "data": {
            "text/plain": [
              "(296402, 992, 359)"
            ]
          },
          "metadata": {
            "tags": []
          },
          "execution_count": 6
        }
      ]
    },
    {
      "cell_type": "markdown",
      "metadata": {
        "id": "XV3WHGVKNER6"
      },
      "source": [
        "# Basic cleaning"
      ]
    },
    {
      "cell_type": "code",
      "metadata": {
        "id": "F2RKB28iC_Xq"
      },
      "source": [
        "# preprocessing to clean the texts\n",
        "\n",
        "# train-------------------------------------------------------------\n",
        "for i, obj  in enumerate(data_train):\n",
        "  data_train[i] = data_train[i].replace('-LRB-', '(')\n",
        "  data_train[i] = data_train[i].replace('-RRB-', ')')\n",
        "\n",
        "for i, obj in enumerate(data_train_dst):\n",
        "  data_train_dst[i] = data_train_dst[i].replace('-LRB-', '(')\n",
        "  data_train_dst[i] = data_train_dst[i].replace('-RRB-', ')')\n",
        "\n",
        "# valid-------------------------------------------------------------\n",
        "for i, obj  in enumerate(data_valid):\n",
        "  data_valid[i] = data_valid[i].replace('-LRB-', '(')\n",
        "  data_valid[i] = data_valid[i].replace('-RRB-', ')')\n",
        "\n",
        "for i, obj in enumerate(data_valid_dst):\n",
        "  data_valid_dst[i] = data_valid_dst[i].replace('-LRB-', '(')\n",
        "  data_valid_dst[i] = data_valid_dst[i].replace('-RRB-', ')')\n",
        "\n",
        "# test-------------------------------------------------------------\n",
        "for i, obj  in enumerate(data_test):\n",
        "  data_test[i] = data_test[i].replace('-LRB-', '(')\n",
        "  data_test[i] = data_test[i].replace('-RRB-', ')')\n",
        "\n",
        "for i, obj in enumerate(data_test_dst):\n",
        "  data_test_dst[i] = data_test_dst[i].replace('-LRB-', '(')\n",
        "  data_test_dst[i] = data_test_dst[i].replace('-RRB-', ')')\n"
      ],
      "execution_count": null,
      "outputs": []
    },
    {
      "cell_type": "markdown",
      "metadata": {
        "id": "quzQ03i8EJbd"
      },
      "source": [
        "Extra preprocessing to get rid of the bad punctuation"
      ]
    },
    {
      "cell_type": "code",
      "metadata": {
        "colab": {
          "base_uri": "https://localhost:8080/"
        },
        "id": "QdapCdQdEZJy",
        "outputId": "91c591cb-b8e4-4de2-8624-2aa354a0337d"
      },
      "source": [
        "deleted = []\n",
        "for i, j in enumerate(data_train):\n",
        "  if len(j.split()) == 1 or len(j.strip('.?\"').split()) == 2 or len(j.split()) == 3 or j[-1] not in ('?.\\'') or not re.match(r'[A-ZÉ0-9\"\\']', j[0]) or re.match('[\\W\\w]+ = [\\W\\w]+[\\d]* .', j) or ',.' in j:\n",
        "    deleted.append(j)\n",
        "    data_train.pop(i)\n",
        "    data_train_dst.pop(i)\n",
        "  else:\n",
        "    if '()' in data_train[i]:\n",
        "       data_train[i] = data_train[i].replace('()', '')\n",
        "    \n",
        "    if '( )' in data_train[i]:\n",
        "       data_train[i] = data_train[i].replace('( )', '')\n",
        "    if ',,' in data_train[i]:\n",
        "      data_train[i] = data_train[i].replace(',,', '')\n",
        "    if ';)' in data_train[i]:\n",
        "      data_train[i] = data_train[i].replace(';)', ')')\n",
        "    if ':)' in data_train[i]:\n",
        "      data_train[i] = data_train[i].replace(':)', ')')\n",
        "    if '(:' in data_train[i]:\n",
        "      data_train[i] = data_train[i].replace('(:', '(')\n",
        "    if '(;' in data_train[i]:\n",
        "      data_train[i] = data_train[i].replace('(:', '(')\n",
        "    if \"& ndash ;\" in data_train[i]: \n",
        "      data_train[i] = data_train[i].replace(\"& ndash ;\", '')\n",
        "    if \"& minus ;\" in data_train[i]: \n",
        "      data_train[i] = data_train[i].replace(\"& minus ;\", '')\n",
        "    if \"( , ; ; ; )\" in data_train[i]: \n",
        "      data_train[i] = data_train[i].replace(\"( , ; ; ; )\", '')\n",
        "    if \"( , ; , ; , ; ; )\" in data_train[i]: \n",
        "      data_train[i] = data_train[i].replace(\"( , ; , ; , ; ; )\", '')\n",
        "    if \"( á 1\\/4 Î '' Î Î 1\\/2 Î Ï )\" in data_train[i]: \n",
        "      data_train[i] = data_train[i].replace(\"( á 1\\/4 Î '' Î Î 1\\/2 Î Ï )\", '')\n",
        "\n",
        "len(deleted)"
      ],
      "execution_count": null,
      "outputs": [
        {
          "output_type": "execute_result",
          "data": {
            "text/plain": [
              "19493"
            ]
          },
          "metadata": {
            "tags": []
          },
          "execution_count": 8
        }
      ]
    },
    {
      "cell_type": "code",
      "metadata": {
        "colab": {
          "base_uri": "https://localhost:8080/"
        },
        "id": "Bh1ntCNHRqGK",
        "outputId": "9cdb14d0-8834-49dc-c7b1-9eaafd549042"
      },
      "source": [
        "deleted[:10]"
      ],
      "execution_count": null,
      "outputs": [
        {
          "output_type": "execute_result",
          "data": {
            "text/plain": [
              "[\"Many still refer to 25 , 50 and 75 paise as 4 , 8 and 12 annas respectively , not unlike the usage of '' bit '' in American English for â\",\n",
              " 'Chronic obstructive pulmonary disease ( COPD ) , interstitial lung disease ( ILD )',\n",
              " '1810 & ndash ; Ernst Kummer , German mathematician ( d. 1893 )',\n",
              " 'That same year , Mattel also introduced Fashion Polly !',\n",
              " \"They have appeared on the cover of that company 's free magazine , V !\",\n",
              " \"She won two matches against Sonja Graf for the Women 's World Champion title ; ( +3 -- 1 = 0 ) at Rotterdam 1934 , and ( +9 -- 2 = 5 ) at Semmering 1937 .\",\n",
              " 'Walter Kogler',\n",
              " 'a family of',\n",
              " \"Poanes benito Freeman , 1979 -- Benito 's Skipper\",\n",
              " \", Prutky 's Travels in Ethiopia and other Countries with notes by Richard Pankhurst ( London : Hakluyt Society , 1991 ) In the South Asian subcontinent , food is traditionally always eaten without utensils .\"]"
            ]
          },
          "metadata": {
            "tags": []
          },
          "execution_count": 9
        }
      ]
    },
    {
      "cell_type": "code",
      "metadata": {
        "id": "F9xw4WABEan2"
      },
      "source": [
        "deleted = []\n",
        "for i, j in enumerate(data_train_dst):\n",
        "  if len(j.split()) == 1 or len(j.strip('.?\"').split()) == 2  or j[-1] not in ('?.\\'') or not re.match(r'[A-ZÉ0-9\"\\']', j[0]) or re.match('[\\W\\w]+ = [\\W\\w]+[\\d]* .', j) or ',.' in j:\n",
        "    deleted.append(j)\n",
        "    data_train_dst.pop(i)\n",
        "    data_train.pop(i)\n",
        "  else:\n",
        "    if '()' in data_train_dst[i]:\n",
        "       data_train_dst[i] = data_train_dst[i].replace('()', '')\n",
        "    \n",
        "    if '( )' in data_train_dst[i]:\n",
        "       data_train_dst[i] = data_train_dst[i].replace('( )', '')\n",
        "    if ',,' in data_train_dst[i]:\n",
        "      data_train_dst[i] = data_train_dst[i].replace(',,', '')\n",
        "    if ';)' in data_train_dst[i]:\n",
        "      data_train_dst[i] = data_train_dst[i].replace(';)', ')')\n",
        "    if ':)' in data_train_dst[i]:\n",
        "      data_train_dst[i] = data_train_dst[i].replace(':)', ')')\n",
        "    if '(:' in data_train_dst[i]:\n",
        "      data_train_dst[i] = data_train_dst[i].replace('(:', '(')\n",
        "    if '(;' in data_train_dst[i]:\n",
        "      data_train_dst[i] = data_train_dst[i].replace('(:', '(')\n",
        "    if \"& ndash ;\" in data_train_dst[i]: \n",
        "      data_train_dst[i] = data_train_dst[i].replace(\"& ndash ;\", '')\n",
        "    if \"& minus ;\" in data_train_dst[i]: \n",
        "      data_train_dst[i] = data_train_dst[i].replace(\"& minus ;\", '')\n",
        "    if \"( , ; ; ; )\" in data_train_dst[i]: \n",
        "      data_train_dst[i] = data_train_dst[i].replace(\"( , ; ; ; )\", '')\n",
        "    if \"( , ; , ; , ; ; )\" in data_train_dst[i]: \n",
        "      data_train_dst[i] = data_train_dst[i].replace(\"( , ; , ; , ; ; )\", '')\n",
        "    if \"( á 1\\/4 Î '' Î Î 1\\/2 Î Ï )\" in data_train_dst[i]: \n",
        "      data_train_dst[i] = data_train_dst[i].replace(\"( á 1\\/4 Î '' Î Î 1\\/2 Î Ï )\", '')\n",
        "\n",
        "  len(deleted)"
      ],
      "execution_count": null,
      "outputs": []
    },
    {
      "cell_type": "code",
      "metadata": {
        "colab": {
          "base_uri": "https://localhost:8080/"
        },
        "id": "K-xVVKmIEsU8",
        "outputId": "194fd6b0-001a-4c75-a942-5c1e0225403c"
      },
      "source": [
        "df_train = pd.DataFrame.from_records(list(zip(data_train, data_train_dst)), columns=['src', 'dst'])\n",
        "df_train.shape[0]"
      ],
      "execution_count": null,
      "outputs": [
        {
          "output_type": "execute_result",
          "data": {
            "text/plain": [
              "246993"
            ]
          },
          "metadata": {
            "tags": []
          },
          "execution_count": 11
        }
      ]
    },
    {
      "cell_type": "code",
      "metadata": {
        "colab": {
          "base_uri": "https://localhost:8080/"
        },
        "id": "qOA0S2VXE2Sm",
        "outputId": "bcb7a3fa-7cea-4f2d-d9ab-06db3c95bcc8"
      },
      "source": [
        "deleted = []\n",
        "for i, j in enumerate(data_valid):\n",
        "    if len(j.split()) == 1 or len(j.strip('.?\"').split()) == 2 or len(j.split()) == 3 or j[-1] not in (\n",
        "    '?.\\'') or not re.match(r'[A-ZÉ0-9\"\\']', j[0]) or re.match('[\\W\\w]+ = [\\W\\w]+[\\d]* .', j) or ',.' in j:\n",
        "        deleted.append(j)\n",
        "        data_valid.pop(i)\n",
        "        data_valid_dst.pop(i)\n",
        "    else:\n",
        "        if '()' in data_valid[i]:\n",
        "            data_valid[i] = data_valid[i].replace('()', '')\n",
        "\n",
        "        if '( )' in data_valid[i]:\n",
        "            data_valid[i] = data_valid[i].replace('( )', '')\n",
        "        if ',,' in data_valid[i]:\n",
        "            data_valid[i] = data_valid[i].replace(',,', '')\n",
        "        if ';)' in data_valid[i]:\n",
        "            data_valid[i] = data_valid[i].replace(';)', ')')\n",
        "        if ':)' in data_valid[i]:\n",
        "            data_valid[i] = data_valid[i].replace(':)', ')')\n",
        "        if '(:' in data_valid[i]:\n",
        "            data_valid[i] = data_valid[i].replace('(:', '(')\n",
        "        if '(;' in data_valid[i]:\n",
        "            data_valid[i] = data_valid[i].replace('(:', '(')\n",
        "        if \"& ndash ;\" in data_valid[i]:\n",
        "            data_valid[i] = data_valid[i].replace(\"& ndash ;\", '')\n",
        "        if \"& minus ;\" in data_valid[i]:\n",
        "            data_valid[i] = data_valid[i].replace(\"& minus ;\", '')\n",
        "        if \"( , ; ; ; )\" in data_valid[i]:\n",
        "            data_valid[i] = data_valid[i].replace(\"( , ; ; ; )\", '')\n",
        "        if \"( , ; , ; , ; ; )\" in data_valid[i]:\n",
        "            data_valid[i] = data_valid[i].replace(\"( , ; , ; , ; ; )\", '')\n",
        "        if \"( á 1\\/4 Î '' Î Î 1\\/2 Î Ï )\" in data_valid[i]:\n",
        "            data_valid[i] = data_valid[i].replace(\"( á 1\\/4 Î '' Î Î 1\\/2 Î Ï )\", '')\n",
        "\n",
        "len(deleted)"
      ],
      "execution_count": null,
      "outputs": [
        {
          "output_type": "execute_result",
          "data": {
            "text/plain": [
              "62"
            ]
          },
          "metadata": {
            "tags": []
          },
          "execution_count": 12
        }
      ]
    },
    {
      "cell_type": "code",
      "metadata": {
        "id": "uA1VvktLGYB7"
      },
      "source": [
        "deleted = []\n",
        "for i, j in enumerate(data_valid_dst):\n",
        "    if len(j.split()) == 1 or len(j.strip('.?\"').split()) == 2 or j[-1] not in ('?.\\'') or not re.match(r'[A-ZÉ0-9\"\\']',\n",
        "                                                                                                        j[\n",
        "                                                                                                            0]) or re.match(\n",
        "            '[\\W\\w]+ = [\\W\\w]+[\\d]* .', j) or ',.' in j:\n",
        "        deleted.append(j)\n",
        "        data_valid_dst.pop(i)\n",
        "        data_valid.pop(i)\n",
        "    else:\n",
        "        if '()' in data_valid_dst[i]:\n",
        "            data_valid_dst[i] = data_valid_dst[i].replace('()', '')\n",
        "\n",
        "        if '( )' in data_valid_dst[i]:\n",
        "            data_valid_dst[i] = data_valid_dst[i].replace('( )', '')\n",
        "        if ',,' in data_valid_dst[i]:\n",
        "            data_valid_dst[i] = data_valid_dst[i].replace(',,', '')\n",
        "        if ';)' in data_valid_dst[i]:\n",
        "            data_valid_dst[i] = data_valid_dst[i].replace(';)', ')')\n",
        "        if ':)' in data_valid_dst[i]:\n",
        "            data_valid_dst[i] = data_valid_dst[i].replace(':)', ')')\n",
        "        if '(:' in data_valid_dst[i]:\n",
        "            data_valid_dst[i] = data_valid_dst[i].replace('(:', '(')\n",
        "        if '(;' in data_valid_dst[i]:\n",
        "            data_valid_dst[i] = data_valid_dst[i].replace('(:', '(')\n",
        "        if \"& ndash ;\" in data_valid_dst[i]:\n",
        "            data_valid_dst[i] = data_valid_dst[i].replace(\"& ndash ;\", '')\n",
        "        if \"& minus ;\" in data_valid_dst[i]:\n",
        "            data_valid_dst[i] = data_valid_dst[i].replace(\"& minus ;\", '')\n",
        "        if \"( , ; ; ; )\" in data_valid_dst[i]:\n",
        "            data_valid_dst[i] = data_valid_dst[i].replace(\"( , ; ; ; )\", '')\n",
        "        if \"( , ; , ; , ; ; )\" in data_valid_dst[i]:\n",
        "            data_valid_dst[i] = data_valid_dst[i].replace(\"( , ; , ; , ; ; )\", '')\n",
        "        if \"( á 1\\/4 Î '' Î Î 1\\/2 Î Ï )\" in data_valid_dst[i]:\n",
        "            data_valid_dst[i] = data_valid_dst[i].replace(\"( á 1\\/4 Î '' Î Î 1\\/2 Î Ï )\", '')\n",
        "\n",
        "    len(deleted)"
      ],
      "execution_count": null,
      "outputs": []
    },
    {
      "cell_type": "code",
      "metadata": {
        "colab": {
          "base_uri": "https://localhost:8080/"
        },
        "id": "Uz2FC75dGyaz",
        "outputId": "46d0ebbb-a817-40f9-e6b6-ef61830f9adc"
      },
      "source": [
        "df_val = pd.DataFrame.from_records(list(zip(data_valid, data_valid_dst)), columns=['src', 'dst'])\n",
        "df_val.shape[0]"
      ],
      "execution_count": null,
      "outputs": [
        {
          "output_type": "execute_result",
          "data": {
            "text/plain": [
              "818"
            ]
          },
          "metadata": {
            "tags": []
          },
          "execution_count": 14
        }
      ]
    },
    {
      "cell_type": "code",
      "metadata": {
        "colab": {
          "base_uri": "https://localhost:8080/"
        },
        "id": "acYD9NhuGYbP",
        "outputId": "35fb629c-441b-4bb4-e61a-25d3cc056bba"
      },
      "source": [
        "deleted = []\n",
        "for i, j in enumerate(data_test):\n",
        "    if len(j.split()) == 1 or len(j.strip('.?\"').split()) == 2 or len(j.split()) == 3 or j[-1] not in (\n",
        "    '?.\\'') or not re.match(r'[A-ZÉ0-9\"\\']', j[0]) or re.match('[\\W\\w]+ = [\\W\\w]+[\\d]* .', j) or ',.' in j:\n",
        "        deleted.append(j)\n",
        "        data_test.pop(i)\n",
        "        data_test_dst.pop(i)\n",
        "    else:\n",
        "        if '()' in data_test[i]:\n",
        "            data_test[i] = data_test[i].replace('()', '')\n",
        "\n",
        "        if '( )' in data_test[i]:\n",
        "            data_test[i] = data_test[i].replace('( )', '')\n",
        "        if ',,' in data_test[i]:\n",
        "            data_test[i] = data_test[i].replace(',,', '')\n",
        "        if ';)' in data_test[i]:\n",
        "            data_test[i] = data_test[i].replace(';)', ')')\n",
        "        if ':)' in data_test[i]:\n",
        "            data_test[i] = data_test[i].replace(':)', ')')\n",
        "        if '(:' in data_test[i]:\n",
        "            data_test[i] = data_test[i].replace('(:', '(')\n",
        "        if '(;' in data_test[i]:\n",
        "            data_test[i] = data_test[i].replace('(:', '(')\n",
        "        if \"& ndash ;\" in data_test[i]:\n",
        "            data_test[i] = data_test[i].replace(\"& ndash ;\", '')\n",
        "        if \"& minus ;\" in data_test[i]:\n",
        "            data_test[i] = data_test[i].replace(\"& minus ;\", '')\n",
        "        if \"( , ; ; ; )\" in data_test[i]:\n",
        "            data_test[i] = data_test[i].replace(\"( , ; ; ; )\", '')\n",
        "        if \"( , ; , ; , ; ; )\" in data_test[i]:\n",
        "            data_test[i] = data_test[i].replace(\"( , ; , ; , ; ; )\", '')\n",
        "        if \"( á 1\\/4 Î '' Î Î 1\\/2 Î Ï )\" in data_test[i]:\n",
        "            data_test[i] = data_test[i].replace(\"( á 1\\/4 Î '' Î Î 1\\/2 Î Ï )\", '')\n",
        "\n",
        "len(deleted)"
      ],
      "execution_count": null,
      "outputs": [
        {
          "output_type": "execute_result",
          "data": {
            "text/plain": [
              "0"
            ]
          },
          "metadata": {
            "tags": []
          },
          "execution_count": 15
        }
      ]
    },
    {
      "cell_type": "code",
      "metadata": {
        "id": "h8ZoS4_sGm33"
      },
      "source": [
        "deleted = []\n",
        "for i, j in enumerate(data_test_dst):\n",
        "    if len(j.split()) == 1 or len(j.strip('.?\"').split()) == 2 or j[-1] not in ('?.\\'') or not re.match(r'[A-ZÉ0-9\"\\']',\n",
        "                                                                                                        j[\n",
        "                                                                                                            0]) or re.match(\n",
        "            '[\\W\\w]+ = [\\W\\w]+[\\d]* .', j) or ',.' in j:\n",
        "        deleted.append(j)\n",
        "        data_test_dst.pop(i)\n",
        "        data_test.pop(i)\n",
        "    else:\n",
        "        if '()' in data_test_dst[i]:\n",
        "            data_test_dst[i] = data_test_dst[i].replace('()', '')\n",
        "\n",
        "        if '( )' in data_test_dst[i]:\n",
        "            data_test_dst[i] = data_test_dst[i].replace('( )', '')\n",
        "        if ',,' in data_test_dst[i]:\n",
        "            data_test_dst[i] = data_test_dst[i].replace(',,', '')\n",
        "        if ';)' in data_test_dst[i]:\n",
        "            data_test_dst[i] = data_test_dst[i].replace(';)', ')')\n",
        "        if ':)' in data_test_dst[i]:\n",
        "            data_test_dst[i] = data_test_dst[i].replace(':)', ')')\n",
        "        if '(:' in data_test_dst[i]:\n",
        "            data_test_dst[i] = data_test_dst[i].replace('(:', '(')\n",
        "        if '(;' in data_test_dst[i]:\n",
        "            data_test_dst[i] = data_test_dst[i].replace('(:', '(')\n",
        "        if \"& ndash ;\" in data_test_dst[i]:\n",
        "            data_test_dst[i] = data_test_dst[i].replace(\"& ndash ;\", '')\n",
        "        if \"& minus ;\" in data_test_dst[i]:\n",
        "            data_test_dst[i] = data_test_dst[i].replace(\"& minus ;\", '')\n",
        "        if \"( , ; ; ; )\" in data_test_dst[i]:\n",
        "            data_test_dst[i] = data_test_dst[i].replace(\"( , ; ; ; )\", '')\n",
        "        if \"( , ; , ; , ; ; )\" in data_test_dst[i]:\n",
        "            data_test_dst[i] = data_test_dst[i].replace(\"( , ; , ; , ; ; )\", '')\n",
        "        if \"( á 1\\/4 Î '' Î Î 1\\/2 Î Ï )\" in data_test_dst[i]:\n",
        "            data_test_dst[i] = data_test_dst[i].replace(\"( á 1\\/4 Î '' Î Î 1\\/2 Î Ï )\", '')\n",
        "\n",
        "    len(deleted)"
      ],
      "execution_count": null,
      "outputs": []
    },
    {
      "cell_type": "code",
      "metadata": {
        "colab": {
          "base_uri": "https://localhost:8080/"
        },
        "id": "UUT_dDiTIGUp",
        "outputId": "0fbcb4c3-5fdd-4033-afd6-8391277d39d1"
      },
      "source": [
        "df_test = pd.DataFrame.from_records(list(zip(data_test, data_test_dst)), columns=['src', 'dst'])\n",
        "df_test.shape[0]"
      ],
      "execution_count": null,
      "outputs": [
        {
          "output_type": "execute_result",
          "data": {
            "text/plain": [
              "326"
            ]
          },
          "metadata": {
            "tags": []
          },
          "execution_count": 17
        }
      ]
    },
    {
      "cell_type": "code",
      "metadata": {
        "colab": {
          "base_uri": "https://localhost:8080/"
        },
        "id": "ebh36DR1UCcm",
        "outputId": "1e1990b4-a18e-462a-f7d1-233804a78f9b"
      },
      "source": [
        " sum(df_train.src == df_train.dst)"
      ],
      "execution_count": null,
      "outputs": [
        {
          "output_type": "execute_result",
          "data": {
            "text/plain": [
              "11"
            ]
          },
          "metadata": {
            "tags": []
          },
          "execution_count": 19
        }
      ]
    },
    {
      "cell_type": "code",
      "metadata": {
        "colab": {
          "base_uri": "https://localhost:8080/"
        },
        "id": "HezIWkSCU7U0",
        "outputId": "2269a901-7cba-4557-9230-f42898a6cd79"
      },
      "source": [
        "sum(df_train['src'].apply(lambda x: len(x.split(' ')))<df_train['dst'].apply(lambda x: len(x.split(' '))))"
      ],
      "execution_count": null,
      "outputs": [
        {
          "output_type": "execute_result",
          "data": {
            "text/plain": [
              "70489"
            ]
          },
          "metadata": {
            "tags": []
          },
          "execution_count": 22
        }
      ]
    },
    {
      "cell_type": "code",
      "metadata": {
        "colab": {
          "base_uri": "https://localhost:8080/"
        },
        "id": "FP10hm-_WWNc",
        "outputId": "204dd8b5-50e1-40db-bd55-b7505ec7e194"
      },
      "source": [
        "70489/df_train.shape[0]"
      ],
      "execution_count": null,
      "outputs": [
        {
          "output_type": "execute_result",
          "data": {
            "text/plain": [
              "0.28538865473920316"
            ]
          },
          "metadata": {
            "tags": []
          },
          "execution_count": 25
        }
      ]
    },
    {
      "cell_type": "code",
      "metadata": {
        "colab": {
          "base_uri": "https://localhost:8080/"
        },
        "id": "BEgSSHmVWCMs",
        "outputId": "f1316a30-3129-4617-8736-0c5261747be3"
      },
      "source": [
        "sum(df_val['src'].apply(lambda x: len(x.split(' ')))<df_val['dst'].apply(lambda x: len(x.split(' '))))"
      ],
      "execution_count": null,
      "outputs": [
        {
          "output_type": "execute_result",
          "data": {
            "text/plain": [
              "230"
            ]
          },
          "metadata": {
            "tags": []
          },
          "execution_count": 23
        }
      ]
    },
    {
      "cell_type": "code",
      "metadata": {
        "colab": {
          "base_uri": "https://localhost:8080/"
        },
        "id": "2HbwFK2zWv97",
        "outputId": "9f0e7836-bf42-4f67-d346-9ec10f261662"
      },
      "source": [
        "230/df_val.shape[0]"
      ],
      "execution_count": null,
      "outputs": [
        {
          "output_type": "execute_result",
          "data": {
            "text/plain": [
              "0.28117359413202936"
            ]
          },
          "metadata": {
            "tags": []
          },
          "execution_count": 26
        }
      ]
    },
    {
      "cell_type": "code",
      "metadata": {
        "colab": {
          "base_uri": "https://localhost:8080/"
        },
        "id": "M0YPSMHNWOXW",
        "outputId": "79c79cd2-79c5-46f1-f3f1-a878bcb70c66"
      },
      "source": [
        "sum(df_test['src'].apply(lambda x: len(x.split(' ')))<df_test['dst'].apply(lambda x: len(x.split(' '))))"
      ],
      "execution_count": null,
      "outputs": [
        {
          "output_type": "execute_result",
          "data": {
            "text/plain": [
              "82"
            ]
          },
          "metadata": {
            "tags": []
          },
          "execution_count": 24
        }
      ]
    },
    {
      "cell_type": "code",
      "metadata": {
        "colab": {
          "base_uri": "https://localhost:8080/"
        },
        "id": "scZtj2ZdW2_d",
        "outputId": "8b98d4ba-9fd0-44ac-8df7-4c7ed6f51cab"
      },
      "source": [
        "82/df_test.shape[0]"
      ],
      "execution_count": null,
      "outputs": [
        {
          "output_type": "execute_result",
          "data": {
            "text/plain": [
              "0.25153374233128833"
            ]
          },
          "metadata": {
            "tags": []
          },
          "execution_count": 27
        }
      ]
    },
    {
      "cell_type": "markdown",
      "metadata": {
        "id": "PhRFXbSYCRV8"
      },
      "source": [
        "After cleaning the lengths are:\n",
        "\n",
        "* train: 243466\n",
        "* dev: 930\n",
        "* test: 326\n",
        "\n",
        "So, a significant number of sentences has been removed from the test set"
      ]
    },
    {
      "cell_type": "markdown",
      "metadata": {
        "id": "mvSz2qawIYCq"
      },
      "source": [
        "# Translation\n",
        "There are 2 types of translation:\n",
        "* Machine translation with 'Helsinki-NLP/opus-mt' model from  transformers library\n",
        "* Machine translation with Google API (the data translated with the latter one will be downloaded as the api is for charge, works in google cloud console)\n",
        "\n"
      ]
    },
    {
      "cell_type": "markdown",
      "metadata": {
        "id": "p-gumnfmLutv"
      },
      "source": [
        "/usr/local/lib/python3.7/dist-packages/torch/tensor.py \\\n",
        "https://github.com/simple-ai-pixel/gpt3_ru/blob/main/gpt.ipynb"
      ]
    },
    {
      "cell_type": "code",
      "metadata": {
        "id": "5_rqqvp1Jczc"
      },
      "source": [
        "# helper functions\n",
        "\n",
        "def batch_generator(\n",
        "        list_of_sentences,\n",
        "        size=64\n",
        "):\n",
        "    num_batch = len(list_of_sentences)//size\n",
        "    for index in range(num_batch):\n",
        "        yield list_of_sentences[index*size:(index+1)*size]\n",
        "    yield list_of_sentences[num_batch*size:]\n",
        "\n",
        "\n",
        "def translate_to_russin(model, tok, src, dst):\n",
        "\n",
        "  translations_src = []\n",
        "  for i in tqdm_notebook(batch_generator(src)):\n",
        "    l = tok(i, return_tensors=\"pt\", padding=True).to(device)\n",
        "    translated = model.generate(**l)\n",
        "    translations_src.extend([tok.decode(t, skip_special_tokens=True) for t in translated])\n",
        "\n",
        "  translations_dst = []\n",
        "  for i in tqdm_notebook(batch_generator(dst)):\n",
        "    l = tok(i, return_tensors=\"pt\", padding=True).to(device)\n",
        "    translated = model.generate(**l)\n",
        "    translations_dst.extend([tok.decode(t, skip_special_tokens=True) for t in translated])\n",
        "\n",
        "  return translations_src, translations_dst\n"
      ],
      "execution_count": null,
      "outputs": []
    },
    {
      "cell_type": "code",
      "metadata": {
        "id": "pouZAnK4IM7o"
      },
      "source": [
        "# import en-ru model from transformers\n",
        "model_name = 'Helsinki-NLP/opus-mt-en-ru'\n",
        "tokenizer = MarianTokenizer.from_pretrained(model_name)\n",
        "model = MarianMTModel.from_pretrained(model_name)\n",
        "device = torch.device('cuda' if torch.cuda.is_available() else 'cpu')\n",
        "device\n",
        "model.to(device)"
      ],
      "execution_count": null,
      "outputs": []
    },
    {
      "cell_type": "markdown",
      "metadata": {
        "id": "wzo29pY3DzUL"
      },
      "source": [
        "### Translation by parts because of GPU limitations:("
      ]
    },
    {
      "cell_type": "code",
      "metadata": {
        "id": "9eYjJ619QzVm"
      },
      "source": [
        "# val--------------------------------------------------\n",
        "src, dst = translate_to_russin(model, tokenizer, data_valid, data_valid_dst)\n",
        "\n",
        "for i, obj  in enumerate(src):\n",
        "  src[i] = src[i].replace('&gt;', '')\n",
        "  #src[i] = re.sub(r'[&gt;{1,}]', \" \", src[i])\n",
        "  src[i] = src[i].replace('&lt;', '')\n",
        "  src[i] = src[i].replace('()', '')\n",
        "  src[i] = src[i].replace('&quot;', '')\n",
        "for i, obj in enumerate(dst):\n",
        "  dst[i] = dst[i].replace('&gt;', '')\n",
        "  dst[i] = dst[i].replace('&lt;', '')\n",
        "  dst[i] = dst[i].replace('()', '')\n",
        "  dst[i] = dst[i].replace('&quot;', '')\n",
        "df_val['target_x'] = src\n",
        "df_val['target_y'] = dst\n",
        "df_val.to_csv('/content/drive/MyDrive/MT_sentence_simpl/wiki_val_mtt.csv')"
      ],
      "execution_count": null,
      "outputs": []
    },
    {
      "cell_type": "code",
      "metadata": {
        "id": "A-v8ngVDXHdb"
      },
      "source": [
        "# test--------------------------------------------------\n",
        "src, dst = translate_to_russin(model, tokenizer, data_test, data_test_dst)\n",
        "for i, obj  in enumerate(src):\n",
        "  src[i] = src[i].replace('&gt;', '')\n",
        "  #src[i] = re.sub(r'[&gt;{1,}]', \" \", src[i])\n",
        "  src[i] = src[i].replace('&lt;', '')\n",
        "  src[i] = src[i].replace('()', '')\n",
        "  src[i] = src[i].replace('&quot;', '')\n",
        "for i, obj in enumerate(dst):\n",
        "  dst[i] = dst[i].replace('&gt;', '')\n",
        "  dst[i] = dst[i].replace('&lt;', '')\n",
        "  dst[i] = dst[i].replace('()', '')\n",
        "  dst[i] = dst[i].replace('&quot;', '')\n",
        "df_test['target_x'] = src\n",
        "df_test['target_y'] = dst\n",
        "df_test.to_csv('/content/drive/MyDrive/MT_sentence_simpl/wiki_test_mtt.csv')"
      ],
      "execution_count": null,
      "outputs": []
    },
    {
      "cell_type": "code",
      "metadata": {
        "colab": {
          "base_uri": "https://localhost:8080/",
          "height": 220,
          "referenced_widgets": [
            "946d6e7934774054b04f1f5a49ef08be",
            "d6e38809c6ae400982f8c38c7bfd4d0d",
            "5a06bece6c944b0fb793617f8fc016f9",
            "9238d31c21034f69953344c913f99e00",
            "73389f608cdb4a5abcfd3c2670e6bed1",
            "03257ca2e1d44ee1b23f7b20e09cd991",
            "cbfb2d37ee524918bb5a627499fea3a8",
            "42662e8f7b1c449b9a7be862d3cef813",
            "8b6bcac50beb491681282a4415a0ab22",
            "245e124d587c414b94babcd96540b91a",
            "a242573c969f4672a846b49c88886cf1",
            "dc6878553fcd48f2bd645d1f41098b7c",
            "bc90007f4bdf44dfbb2d718903cfe8c5",
            "49d8a0a0b1d54613afd582325657551a",
            "e0cc9b7abef941daaea0608d55e69fab",
            "a0538d115f1747ab89fdeb9447e2aeaa"
          ]
        },
        "id": "8j9wsXNRXakX",
        "outputId": "c06d2fea-3380-405b-bfae-0c0af773f54b"
      },
      "source": [
        "# train--------------------------------------------------\n",
        "src, dst = translate_to_russin(model, tokenizer, data_train[232000:], data_train_dst[232000:])\n",
        "\n",
        "for i, obj  in enumerate(src):\n",
        "  src[i] = src[i].replace('&gt;', '')\n",
        "  #src[i] = re.sub(r'[&gt;{1,}]', \" \", src[i])\n",
        "  src[i] = src[i].replace('&lt;', '')\n",
        "  src[i] = src[i].replace('()', '')\n",
        "  src[i] = src[i].replace('&quot;', '')\n",
        "for i, obj in enumerate(dst):\n",
        "  dst[i] = dst[i].replace('&gt;', '')\n",
        "  dst[i] = dst[i].replace('&lt;', '')\n",
        "  dst[i] = dst[i].replace('()', '')\n",
        "  dst[i] = dst[i].replace('&quot;', '')\n",
        "df_train_22000 = pd.DataFrame(list(zip(data_train[232000:], data_train_dst[232000:], src, dst)), columns=['src', 'dst', 'target_x', 'target_y'])\n",
        "df_train_22000.to_csv('/content/drive/MyDrive/MT_sentence_simpl/wiki_train_mtt_232-246k.csv')"
      ],
      "execution_count": null,
      "outputs": [
        {
          "output_type": "stream",
          "text": [
            "/usr/local/lib/python3.7/dist-packages/ipykernel_launcher.py:4: TqdmDeprecationWarning: This function will be removed in tqdm==5.0.0\n",
            "Please use `tqdm.notebook.tqdm` instead of `tqdm.tqdm_notebook`\n",
            "  after removing the cwd from sys.path.\n"
          ],
          "name": "stderr"
        },
        {
          "output_type": "display_data",
          "data": {
            "application/vnd.jupyter.widget-view+json": {
              "model_id": "946d6e7934774054b04f1f5a49ef08be",
              "version_major": 2,
              "version_minor": 0
            },
            "text/plain": [
              "HBox(children=(FloatProgress(value=1.0, bar_style='info', max=1.0), HTML(value='')))"
            ]
          },
          "metadata": {
            "tags": []
          }
        },
        {
          "output_type": "stream",
          "text": [
            "\n"
          ],
          "name": "stdout"
        },
        {
          "output_type": "stream",
          "text": [
            "/usr/local/lib/python3.7/dist-packages/ipykernel_launcher.py:18: TqdmDeprecationWarning: This function will be removed in tqdm==5.0.0\n",
            "Please use `tqdm.notebook.tqdm` instead of `tqdm.tqdm_notebook`\n"
          ],
          "name": "stderr"
        },
        {
          "output_type": "display_data",
          "data": {
            "application/vnd.jupyter.widget-view+json": {
              "model_id": "8b6bcac50beb491681282a4415a0ab22",
              "version_major": 2,
              "version_minor": 0
            },
            "text/plain": [
              "HBox(children=(FloatProgress(value=1.0, bar_style='info', max=1.0), HTML(value='')))"
            ]
          },
          "metadata": {
            "tags": []
          }
        },
        {
          "output_type": "stream",
          "text": [
            "\n"
          ],
          "name": "stdout"
        }
      ]
    },
    {
      "cell_type": "markdown",
      "metadata": {
        "id": "FiiwrqzYEDFV"
      },
      "source": [
        "### Normal code for the whole dataset\n",
        "\n",
        "Some cleaning to remove common translation artifacts is applied"
      ]
    },
    {
      "cell_type": "code",
      "metadata": {
        "id": "xzOHVrkcLeVY"
      },
      "source": [
        "# train--------------------------------------------------\n",
        "src, dst = translate_to_russin(model, tokenizer, data_train[:1000], data_train_dst[:1000])\n",
        "\n",
        "for i, obj  in enumerate(src):\n",
        "  src[i] = src[i].replace('&gt;', '')\n",
        "  #src[i] = re.sub(r'[&gt;{1,}]', \" \", src[i])\n",
        "  src[i] = src[i].replace('&lt;', '')\n",
        "  src[i] = src[i].replace('()', '')\n",
        "  src[i] = src[i].replace('&quot;', '')\n",
        "for i, obj in enumerate(dst):\n",
        "  dst[i] = dst[i].replace('&gt;', '')\n",
        "  dst[i] = dst[i].replace('&lt;', '')\n",
        "  dst[i] = dst[i].replace('()', '')\n",
        "  dst[i] = dst[i].replace('&quot;', '')\n",
        "df_train['target_x'] = src\n",
        "df_train['target_y'] = dst\n",
        "\n",
        "# val--------------------------------------------------\n",
        "src, dst = translate_to_russin(model, tokenizer, data_valid, data_valid_dst)\n",
        "\n",
        "for i, obj  in enumerate(src):\n",
        "  src[i] = src[i].replace('&gt;', '')\n",
        "  #src[i] = re.sub(r'[&gt;{1,}]', \" \", src[i])\n",
        "  src[i] = src[i].replace('&lt;', '')\n",
        "  src[i] = src[i].replace('()', '')\n",
        "  src[i] = src[i].replace('&quot;', '')\n",
        "for i, obj in enumerate(dst):\n",
        "  dst[i] = dst[i].replace('&gt;', '')\n",
        "  dst[i] = dst[i].replace('&lt;', '')\n",
        "  dst[i] = dst[i].replace('()', '')\n",
        "  dst[i] = dst[i].replace('&quot;', '')\n",
        "df_val['target_x'] = src\n",
        "df_val['target_y'] = dst\n",
        "\n",
        "# test--------------------------------------------------\n",
        "src, dst = translate_to_russin(model, tokenizer, data_test, data_test_dst)\n",
        "for i, obj  in enumerate(src):\n",
        "  src[i] = src[i].replace('&gt;', '')\n",
        "  #src[i] = re.sub(r'[&gt;{1,}]', \" \", src[i])\n",
        "  src[i] = src[i].replace('&lt;', '')\n",
        "  src[i] = src[i].replace('()', '')\n",
        "  src[i] = src[i].replace('&quot;', '')\n",
        "for i, obj in enumerate(dst):\n",
        "  dst[i] = dst[i].replace('&gt;', '')\n",
        "  dst[i] = dst[i].replace('&lt;', '')\n",
        "  dst[i] = dst[i].replace('()', '')\n",
        "  dst[i] = dst[i].replace('&quot;', '')\n",
        "df_test['target_x'] = src\n",
        "df_test['target_y'] = dst\n",
        "\n",
        "df_train.to_csv('/content/drive/MyDrive/MT_sentence_simpl/wiki_train_mtt.csv')\n",
        "df_val.to_csv('/content/drive/MyDrive/MT_sentence_simpl/wiki_val_mtt.csv')\n",
        "df_test.to_csv('/content/drive/MyDrive/MT_sentence_simpl/wiki_test_mtt.csv')"
      ],
      "execution_count": null,
      "outputs": []
    },
    {
      "cell_type": "markdown",
      "metadata": {
        "id": "PPUUaT9ex7uq"
      },
      "source": [
        "### Making the whole dataset from pieces"
      ]
    },
    {
      "cell_type": "code",
      "metadata": {
        "id": "dRErL1DCatCd"
      },
      "source": [
        "# 1-2\n",
        "! gdown https://drive.google.com/uc?id=1-0oww8dmt7jRiE4uMVVd1GqrU51rpWNm\n",
        "#https://drive.google.com/file/d/1-0oww8dmt7jRiE4uMVVd1GqrU51rpWNm/view?usp=sharing\n",
        "\n",
        "# 2 - 22\n",
        "! gdown https://drive.google.com/uc?id=1-2CTWEuaCaTeOSWVHWVD9hytmnsT-xov\n",
        "# https://drive.google.com/file/d/1-2CTWEuaCaTeOSWVHWVD9hytmnsT-xov/view?usp=sharing\n",
        "\n",
        "# 22-42\n",
        "! gdown https://drive.google.com/uc?id=1-4tocDbuVFdcEfWnGsXJYl6UNUigT2O6\n",
        "# https://drive.google.com/file/d/1-4tocDbuVFdcEfWnGsXJYl6UNUigT2O6/view?usp=sharing\n",
        "\n",
        "# 42-62\n",
        "! gdown https://drive.google.com/uc?id=1-9Yxy9dIQT_jtih9cgkAIyQibeZ1iPAF\n",
        "# https://drive.google.com/file/d/1-9Yxy9dIQT_jtih9cgkAIyQibeZ1iPAF/view?usp=sharing\n",
        "\n",
        "# 62-82\n",
        "! gdown https://drive.google.com/uc?id=15HE_G_1iRvLsfUHKOOa0bvuYYtAJ503P\n",
        "# https://drive.google.com/file/d/15HE_G_1iRvLsfUHKOOa0bvuYYtAJ503P/view?usp=sharing\n",
        "\n",
        "# 82 - 112\n",
        "! gdown https://drive.google.com/uc?id=1-1zRK3DO25xazojKj31he1U9cUmtqovg\n",
        "# https://drive.google.com/file/d/1-1zRK3DO25xazojKj31he1U9cUmtqovg/view?usp=sharing\n",
        "\n",
        "# 112-132\n",
        "! gdown https://drive.google.com/uc?id=1-2o-bgldNJWYvEtY6uN0w5fae6KbajdR\n",
        "# https://drive.google.com/file/d/1-2o-bgldNJWYvEtY6uN0w5fae6KbajdR/view?usp=sharing\n",
        "\n",
        "# 132 -152\n",
        "! gdown https://drive.google.com/uc?id=1e7sPM2AL03EBlJuNzCQgKHL_Zq8Tc5UP\n",
        "#https://drive.google.com/file/d/1e7sPM2AL03EBlJuNzCQgKHL_Zq8Tc5UP/view?usp=sharing\n",
        "\n",
        "# 152 - 182\n",
        "! gdown https://drive.google.com/uc?id=1--lcK4KBaK_hkK4lVBbf-ze7lSdxSt2k\n",
        "# https://drive.google.com/file/d/1--lcK4KBaK_hkK4lVBbf-ze7lSdxSt2k/view?usp=sharing\n",
        "\n",
        "# 182 - 212\n",
        "! gdown https://drive.google.com/uc?id=1-0loBcmLIYdxtMIBWxyyAHQyPCp1mJF9\n",
        "# https://drive.google.com/file/d/1-0loBcmLIYdxtMIBWxyyAHQyPCp1mJF9/view?usp=sharing\n",
        "\n",
        "# 212 - 232\n",
        "! gdown https://drive.google.com/uc?id=1-4qPowP66ximyi7Q6lqsit9BKmqAinzz\n",
        "# https://drive.google.com/file/d/1-4qPowP66ximyi7Q6lqsit9BKmqAinzz/view?usp=sharing\n",
        "\n",
        "# 232 - 246 \n",
        "! gdown https://drive.google.com/uc?id=1-63gYL7NMFB4Tvh0y24CkDd370ZOsbTV\n",
        "# https://drive.google.com/file/d/1-63gYL7NMFB4Tvh0y24CkDd370ZOsbTV/view?usp=sharing"
      ],
      "execution_count": null,
      "outputs": []
    },
    {
      "cell_type": "code",
      "metadata": {
        "id": "xVeDHf2PyePV"
      },
      "source": [
        "# from pathlib import Path\n",
        "# for i in p.glob('./wiki_train_mtt*.csv'):\n",
        "#   print(p.cwd().joinpath(i))"
      ],
      "execution_count": null,
      "outputs": []
    },
    {
      "cell_type": "code",
      "metadata": {
        "id": "iWImOcKhzEUs"
      },
      "source": [
        "paths = ['/content/wiki_train_mtt_1-2k.csv',\n",
        "         '/content/wiki_train_mtt_2-22k.csv',\n",
        "         '/content/wiki_train_mtt_22-42k.csv',\n",
        "         '/content/wiki_train_mtt_42-62k.csv',\n",
        "         '/content/wiki_train_mtt_62-82k.csv',\n",
        "         '/content/wiki_train_mtt_82-112k.csv',\n",
        "         '/content/wiki_train_mtt_112-132k.csv',\n",
        "         '/content/wiki_train_mtt_132-152k.csv',\n",
        "         '/content/wiki_train_mtt_152-182k.csv',\n",
        "         '/content/wiki_train_mtt_182-212k.csv', \n",
        "         '/content/wiki_train_mtt_212-232k.csv',\n",
        "         '/content/wiki_train_mtt_232-246k.csv'\n",
        "         ]\n",
        "train_full = pd.read_csv(paths[0])\n",
        "for i in paths[1:]:\n",
        "    train_full = pd.concat((train_full, pd.read_csv(i)))\n",
        "\n",
        "train_full.to_csv('/content/drive/MyDrive/MT_sentence_simpl/wiki_train_mtt.csv', index=False)"
      ],
      "execution_count": null,
      "outputs": []
    },
    {
      "cell_type": "markdown",
      "metadata": {
        "id": "erGzvb3tjlRL"
      },
      "source": [
        "Upload the transformer translation"
      ]
    },
    {
      "cell_type": "code",
      "metadata": {
        "id": "mGGMVG10i5qu"
      },
      "source": [
        "! gdown https://drive.google.com/uc?id=1--3BHQFq5hKy5RiI4G1nfFG6Erj9iN4s\n",
        "! gdown https://drive.google.com/uc?id=17dwqCJc7hWpG39LrJMFmsqbTMiFt7KtD\n",
        "! gdown https://drive.google.com/uc?id=1URMCB5ocu_Xeco_df3ol4XnfY1k6LpmU\n",
        "\n",
        "df_train_mt = pd.read_csv('/content/wiki_train_mtt.csv')\n",
        "df_val_mt = pd.read_csv('/content/wiki_val_mtt.csv')\n",
        "df_test_mt = pd.read_csv('/content/wiki_test_mtt.csv')"
      ],
      "execution_count": null,
      "outputs": []
    },
    {
      "cell_type": "markdown",
      "metadata": {
        "id": "gXPNUnidZ5yi"
      },
      "source": [
        "A better translation obtained via Google translate API"
      ]
    },
    {
      "cell_type": "code",
      "metadata": {
        "colab": {
          "base_uri": "https://localhost:8080/"
        },
        "id": "jjtjZQenbzC1",
        "outputId": "2fe3d0ae-754f-4870-b70e-e12d057ce49d"
      },
      "source": [
        "! gdown https://drive.google.com/uc?id=1dB3X-Wx8qU_5nDG_pxAmLvo5H_sgnHrE\n",
        "! gdown https://drive.google.com/uc?id=1bJo8TagTGKa0uyppQRqsHrKHyYO5tcZc\n",
        "! gdown https://drive.google.com/uc?id=11lqipq6ggrgCk8bVxQ4-uuPVMCKN5ebU\n",
        "\n",
        "df_val_gl = pd.read_csv('/content/wiki_dev_cleaned_translated_sd.csv')\n",
        "df_test_gl = pd.read_csv('/content/wiki_test_cleaned_translated_sd.csv')\n",
        "df_train_gl = pd.read_csv('/content/wiki_train_cleaned_translated_sd.csv')"
      ],
      "execution_count": 6,
      "outputs": [
        {
          "output_type": "stream",
          "text": [
            "Downloading...\n",
            "From: https://drive.google.com/uc?id=1dB3X-Wx8qU_5nDG_pxAmLvo5H_sgnHrE\n",
            "To: /content/wiki_train_cleaned_translated_sd.csv\n",
            "172MB [00:01, 129MB/s]\n",
            "Downloading...\n",
            "From: https://drive.google.com/uc?id=1bJo8TagTGKa0uyppQRqsHrKHyYO5tcZc\n",
            "To: /content/wiki_dev_cleaned_translated_sd.csv\n",
            "100% 545k/545k [00:00<00:00, 70.9MB/s]\n",
            "Downloading...\n",
            "From: https://drive.google.com/uc?id=11lqipq6ggrgCk8bVxQ4-uuPVMCKN5ebU\n",
            "To: /content/wiki_test_cleaned_translated_sd.csv\n",
            "100% 254k/254k [00:00<00:00, 72.7MB/s]\n"
          ],
          "name": "stdout"
        }
      ]
    },
    {
      "cell_type": "code",
      "metadata": {
        "colab": {
          "base_uri": "https://localhost:8080/",
          "height": 482
        },
        "id": "dvPdxwRmGiOh",
        "outputId": "3c5d2a74-500a-41d9-849e-5a43563e2397"
      },
      "source": [
        "df_dev_google.sample(3)"
      ],
      "execution_count": null,
      "outputs": [
        {
          "output_type": "execute_result",
          "data": {
            "text/html": [
              "<div>\n",
              "<style scoped>\n",
              "    .dataframe tbody tr th:only-of-type {\n",
              "        vertical-align: middle;\n",
              "    }\n",
              "\n",
              "    .dataframe tbody tr th {\n",
              "        vertical-align: top;\n",
              "    }\n",
              "\n",
              "    .dataframe thead th {\n",
              "        text-align: right;\n",
              "    }\n",
              "</style>\n",
              "<table border=\"1\" class=\"dataframe\">\n",
              "  <thead>\n",
              "    <tr style=\"text-align: right;\">\n",
              "      <th></th>\n",
              "      <th>Unnamed: 0</th>\n",
              "      <th>src</th>\n",
              "      <th>dst</th>\n",
              "      <th>target_x</th>\n",
              "      <th>target_y</th>\n",
              "    </tr>\n",
              "  </thead>\n",
              "  <tbody>\n",
              "    <tr>\n",
              "      <th>208</th>\n",
              "      <td>208</td>\n",
              "      <td>Additionally , since this AO system provides an excellent and stable correction ( angular resolution of 0.060 arcsec in K band ) , a 15-km moonlet at 1000 km of Hektor 's primary was detected .</td>\n",
              "      <td>Additionally , since this AO system provides an excellent and stable correction ( angular resolution of 0.060 arcsec in K band ) , a 15-km moon at 1000 km from Hektor was found .</td>\n",
              "      <td>Кроме того, поскольку эта система AO обеспечивает отличную и стабильную коррекцию (угловое разрешение 0,060 угловой секунды в диапазоне K), была обнаружена луна длиной 15 км на 1000 км от главной звезды Гектора.</td>\n",
              "      <td>Кроме того, поскольку эта система AO обеспечивает отличную и стабильную коррекцию (угловое разрешение 0,060 угловой секунды в диапазоне K), была обнаружена 15-километровая луна в 1000 км от Гектора.</td>\n",
              "    </tr>\n",
              "    <tr>\n",
              "      <th>29</th>\n",
              "      <td>29</td>\n",
              "      <td>Class 316 and Class 457 were TOPS classifications assigned to a single electric multiple unit ( EMU ) at different stages of its use as a prototype for the Networker series .</td>\n",
              "      <td>Class 316 and Class 457 were two suggested TOPS classifications . They were given to a single electric multiple unit ( EMU ) at different stages of its use as a prototype for the Networker series .</td>\n",
              "      <td>Классы 316 и 457 были классификациями TOPS, присвоенными одиночному электрическому блоку (EMU) на разных этапах его использования в качестве прототипа для серии Networker.</td>\n",
              "      <td>Класс 316 и класс 457 были двумя предложенными классификациями TOPS. Они были переданы в единый электрический многоканальный блок (EMU) на разных этапах его использования в качестве прототипа для серии Networker.</td>\n",
              "    </tr>\n",
              "    <tr>\n",
              "      <th>51</th>\n",
              "      <td>51</td>\n",
              "      <td>Mount Batur ( Gunung Batur ) is an active volcano located at the center of two concentric calderas north west of Mount Agung , Bali , Indonesia .</td>\n",
              "      <td>Mount Batur or Gunung Batur is a volcano on Bali .</td>\n",
              "      <td>Гора Батур (Гунунг Батур) - действующий вулкан, расположенный в центре двух концентрических кальдер к северо-западу от горы Агунг, Бали, Индонезия.</td>\n",
              "      <td>Гора Батур или Гунунг Батур - вулкан на Бали.</td>\n",
              "    </tr>\n",
              "  </tbody>\n",
              "</table>\n",
              "</div>"
            ],
            "text/plain": [
              "     Unnamed: 0                                                                                                                                                                                                src                                                                                                                                                                                                    dst                                                                                                                                                                                                             target_x                                                                                                                                                                                                              target_y\n",
              "208         208  Additionally , since this AO system provides an excellent and stable correction ( angular resolution of 0.060 arcsec in K band ) , a 15-km moonlet at 1000 km of Hektor 's primary was detected .                     Additionally , since this AO system provides an excellent and stable correction ( angular resolution of 0.060 arcsec in K band ) , a 15-km moon at 1000 km from Hektor was found .  Кроме того, поскольку эта система AO обеспечивает отличную и стабильную коррекцию (угловое разрешение 0,060 угловой секунды в диапазоне K), была обнаружена луна длиной 15 км на 1000 км от главной звезды Гектора.                Кроме того, поскольку эта система AO обеспечивает отличную и стабильную коррекцию (угловое разрешение 0,060 угловой секунды в диапазоне K), была обнаружена 15-километровая луна в 1000 км от Гектора.\n",
              "29           29                     Class 316 and Class 457 were TOPS classifications assigned to a single electric multiple unit ( EMU ) at different stages of its use as a prototype for the Networker series .  Class 316 and Class 457 were two suggested TOPS classifications . They were given to a single electric multiple unit ( EMU ) at different stages of its use as a prototype for the Networker series .                                          Классы 316 и 457 были классификациями TOPS, присвоенными одиночному электрическому блоку (EMU) на разных этапах его использования в качестве прототипа для серии Networker.  Класс 316 и класс 457 были двумя предложенными классификациями TOPS. Они были переданы в единый электрический многоканальный блок (EMU) на разных этапах его использования в качестве прототипа для серии Networker.\n",
              "51           51                                                  Mount Batur ( Gunung Batur ) is an active volcano located at the center of two concentric calderas north west of Mount Agung , Bali , Indonesia .                                                                                                                                                     Mount Batur or Gunung Batur is a volcano on Bali .                                                                  Гора Батур (Гунунг Батур) - действующий вулкан, расположенный в центре двух концентрических кальдер к северо-западу от горы Агунг, Бали, Индонезия.                                                                                                                                                                         Гора Батур или Гунунг Батур - вулкан на Бали."
            ]
          },
          "metadata": {
            "tags": []
          },
          "execution_count": 33
        }
      ]
    },
    {
      "cell_type": "markdown",
      "metadata": {
        "id": "TegTwaJVQWuy"
      },
      "source": [
        "# Evaluation of all the data\n",
        "\n",
        "### WikiLarge\n",
        "\n",
        "* Cosine Similarity between original/simple sentences\n",
        "* Flesch Kincaid Grade Level\n",
        "* Grammar Check\n",
        "\n",
        "### WikiLarge MT Helsinki opus and GOogle Api translations + Original dataset (dev+ test parts) collected via Toloka\n",
        "\n",
        "* Cosine Similarity between original/simple sentences\n",
        "* Cosine Similarity between original sentences and their translation, simple sentences and their translations\n",
        "* Flesch Kincaid Grade Level\n",
        "* Grammar Check\n",
        "\n"
      ]
    },
    {
      "cell_type": "markdown",
      "metadata": {
        "id": "QvmF2KTTvcoz"
      },
      "source": [
        "# Evaluation of WikiLarge"
      ]
    },
    {
      "cell_type": "markdown",
      "metadata": {
        "id": "e9ED8wb5vp_O"
      },
      "source": [
        "### Cosine Similarity between original/simple sentences"
      ]
    },
    {
      "cell_type": "code",
      "metadata": {
        "id": "uuaE7DPFwD-6"
      },
      "source": [
        "from transformers import RobertaTokenizer, RobertaModel, AutoConfig, AutoTokenizer, AutoModelForMaskedLM\n",
        "device = \"cuda\" if torch.cuda.is_available() else \"cpu\"\n",
        "config = AutoConfig.from_pretrained(\"roberta-base\") # \"roberta-base\" 'xlm-mlm-100-1280' 'xlm-roberta-base' 'bert-base-multilingual-cased'\n",
        "config.output_hidden_states = True\n",
        "\n",
        "tok = AutoTokenizer.from_pretrained(\"roberta-base\")\n",
        "model = AutoModelForMaskedLM.from_pretrained(\"roberta-base\", config=config)\n",
        "model.to(device)\n",
        "\n",
        "# from sklearn.metrics.pairwise import cosine_similarity\n",
        "\n",
        "# shape should be [1, something (768, ex)]\n",
        "\n",
        "# import numpy as np\n",
        "# def cs(a, b):\n",
        "#   return (a @ b.T)/(np.linalg.norm(a)*np.linalg.norm(b))\n",
        "\n",
        "def calc_cos_sim(df, model,tok, x, y, column_name):\n",
        "    Cos_sim= []\n",
        "    for index, row in df.iterrows():\n",
        "        \n",
        "        # original\n",
        "          sentence_A = tok.encode(row[x], padding='max_length', max_length=50, truncation=True, return_tensors='pt')\n",
        "          sentence_A = sentence_A.to(device)\n",
        "          output = model(sentence_A)\n",
        "          sent_emb = output[-1][0]\n",
        "          emb_source = sent_emb.mean(axis=1)\n",
        "          emb_source = emb_source.cpu().detach().numpy()\n",
        "\n",
        "          sentence_B = tok.encode(row[y], padding='max_length', max_length=50, truncation=True, return_tensors='pt')\n",
        "          sentence_B = sentence_B.to(device)\n",
        "          output = model(sentence_B)\n",
        "          sent_emb = output[-1][0]\n",
        "          emb_target= sent_emb.mean(axis=1)\n",
        "          emb_target = emb_target.cpu().detach().numpy()\n",
        "\n",
        "          cos_val = cosine_similarity(emb_source.reshape(emb_source.shape[0], -1), emb_target.reshape(emb_target.shape[0], -1))[0][0]\n",
        "          Cos_sim.append(cos_val)\n",
        "    df[column_name] = Cos_sim"
      ],
      "execution_count": null,
      "outputs": []
    },
    {
      "cell_type": "code",
      "metadata": {
        "id": "NzwERcKVwx_H"
      },
      "source": [
        "calc_cos_sim(df_test, model, tok, 'src', 'dst', 'cos_sim_src_dst')\n",
        "calc_cos_sim(df_val, model, tok, 'src', 'dst', 'cos_sim_src_dst')\n",
        "calc_cos_sim(df_train, model, tok, 'src', 'dst', 'cos_sim_src_dst')"
      ],
      "execution_count": null,
      "outputs": []
    },
    {
      "cell_type": "code",
      "metadata": {
        "colab": {
          "base_uri": "https://localhost:8080/"
        },
        "id": "ZX84houNGkgq",
        "outputId": "7e3c611f-b6e4-459f-fa72-5da16643caf4"
      },
      "source": [
        "df_train.cos_sim_src_dst.mean(), df_val.cos_sim_src_dst.mean(), df_test.cos_sim_src_dst.mean()"
      ],
      "execution_count": null,
      "outputs": [
        {
          "output_type": "execute_result",
          "data": {
            "text/plain": [
              "(0.8546753056345266, 0.8547325381886187, 0.9688304633450654)"
            ]
          },
          "metadata": {
            "tags": []
          },
          "execution_count": 37
        }
      ]
    },
    {
      "cell_type": "markdown",
      "metadata": {
        "id": "MeZe6kiC8SzI"
      },
      "source": [
        "### Flesch Kincaid Grade Level En"
      ]
    },
    {
      "cell_type": "code",
      "metadata": {
        "id": "RLSqh4vWOKes"
      },
      "source": [
        "# https://github.com/infoculture/plainrussian\n",
        "#!/usr/bin/env python\n",
        "# -*- coding: utf-8 -*-\n",
        "\n",
        "from math import sqrt\n",
        "import csv\n",
        "\n",
        "\n",
        "from numpy import mean, arange\n",
        "\n",
        "\n",
        "EN_CONSONANTS = [u'b', u'c', u'd', u'f', u'g', u'h', u'j', u'k', u'l', u'm', u'n', u'p', u'r', u's', u't', u'q', u'x', u'w', u'v', u'z']\n",
        "EN_VOWELS = [u'a', u'e', u'i', u'y', u'o', u'u']\n",
        "\n",
        "SENTENCE_SPLITTERS = [u'.', u'?', u'!']\n",
        "EN_LETTERS = EN_CONSONANTS + EN_VOWELS\n",
        "SPACES = [u' ', u'\\t']\n",
        "\n",
        "# List of prepared texts\n",
        "\n",
        "GRADE_TEXT = {\n",
        "    1: u'1 - 3-й класс (возраст примерно: 6-8 лет)',\n",
        "    2: u'1 - 3-й класс (возраст примерно: 6-8 лет)',\n",
        "    3: u'1 - 3-й класс (возраст примерно: 6-8 лет)',\n",
        "    4: u'4 - 6-й класс (возраст примерно: 9-11 лет)',\n",
        "    5: u'4 - 6-й класс (возраст примерно: 9-11 лет)',\n",
        "    6: u'4 - 6-й класс (возраст примерно: 9-11 лет)',\n",
        "    7: u'7 - 9-й класс (возраст примерно: 12-14 лет)',\n",
        "    8: u'7 - 9-й класс (возраст примерно: 12-14 лет)',\n",
        "    9: u'7 - 9-й класс (возраст примерно: 12-14 лет)',\n",
        "    10: u'10 - 11-й класс (возраст примерно: 15-16 лет)',\n",
        "    11: u'10 - 11-й класс (возраст примерно: 15-16 лет)',\n",
        "    12: u'1 - 3 курсы ВУЗа (возраст примерно: 17-19 лет)',\n",
        "    13: u'1 - 3 курсы ВУЗа (возраст примерно: 17-19 лет)',\n",
        "    14: u'1 - 3 курсы ВУЗа (возраст примерно: 17-19 лет)',\n",
        "    15: u'4 - 6 курсы ВУЗа (возраст примерно: 20-22 лет)',\n",
        "    16: u'4 - 6 курсы ВУЗа (возраст примерно: 20-22 лет)',\n",
        "    17: u'4 - 6 курсы ВУЗа (возраст примерно: 20-22 лет)',\n",
        "}\n",
        "\n",
        "POST_GRADE_TEXT_18_24 = u'Аспирантура, второе высшее образование, phD'\n",
        "\n",
        "\n",
        "def calc_SMOG(n_psyl, n_sent):\n",
        "    \"\"\"Метрика SMOG для английского языка\"\"\"\n",
        "    n = 1.0430 * sqrt((float(30.0) / n_sent) * n_psyl) + 3.1291\n",
        "    return n\n",
        "\n",
        "def calc_Gunning_fog(n_psyl, n_words, n_sent):\n",
        "    \"\"\"Метрика Gunning fog для английского языка\"\"\"\n",
        "    n = 0.4 * ((float(n_words)/ n_sent) + 100 * (float(n_psyl) / n_words))\n",
        "    return n\n",
        "\n",
        "def calc_Dale_Chale(n_psyl, n_words, n_sent):\n",
        "    \"\"\"Метрика Dale Chale для английского языка\"\"\"\n",
        "    n = 0.1579 * (100.0 * n_psyl / n_words) + 0.0496 * (float(n_words) / n_sent)\n",
        "    return n\n",
        "\n",
        "def calc_Flesh_Kincaid(n_syllabes, n_words, n_sent):\n",
        "    \"\"\"Метрика Flesh Kincaid для английского языка\"\"\"\n",
        "    n = 206.835 - 1.015 * (float(n_words) / n_sent) - 84.6 * (float(n_syllabes) / n_words)\n",
        "    return n\n",
        "\n",
        "\n",
        "def calc_Flesh_Kincaid_rus(n_syllabes, n_words, n_sent):\n",
        "    \"\"\"Метрика Flesh Kincaid для русского языка\"\"\"\n",
        "    n = 220.755 - 1.315 * (float(n_words) / n_sent) - 50.1 * (float(n_syllabes) / n_words)\n",
        "    return n\n",
        "\n",
        "\n",
        "# The variant of the FC formula for the Russian language is as follows:FK = (0.5 x average sentence length) +\n",
        "# (8.4 x average number of syllables in a word) - 15.59\n",
        "\n",
        "def calc_Flesh_Kincaid_Grade(n_syllabes, n_words, n_sent):\n",
        "    \"\"\"Метрика Flesh Kincaid Grade для русского языка\"\"\"\n",
        "#    n = 0.59 * (float(n_words) / n_sent) + 6.2 * (float(n_syllabes) / n_words) - 16.59\n",
        "    n = 0.39 * (float(n_words) / n_sent) + 11.8 * (float(n_syllabes) / n_words) - 15.59\n",
        "    return n\n",
        "\n",
        "def calc_Flesh_Kincaid_Grade_rus(n_syllabes, n_words, n_sent):\n",
        "    \"\"\"Метрика Flesh Kincaid Grade для русского языка\"\"\"\n",
        "#    n = 0.59 * (float(n_words) / n_sent) + 6.2 * (float(n_syllabes) / n_words) - 16.59\n",
        "    n = 0.5 * (float(n_words) / n_sent) + 8.4 * (float(n_syllabes) / n_words) - 15.59\n",
        "    return n\n",
        "\n",
        "\n",
        "\n",
        "def calc_Flesh_Kincaid_Grade_rus_adapted(n_syllabes, n_words, n_sent, X, Y, Z):\n",
        "    \"\"\"Метрика Flesh Kincaid Grade для русского языка с параметрами\"\"\"\n",
        "#    n = 0.59 * (float(n_words) / n_sent) + 6.2 * (float(n_syllabes) / n_words) - 16.59\n",
        "    if n_words == 0 or n_sent == 0: return 0\n",
        "    n = X * (float(n_words) / n_sent) + Y * (float(n_syllabes) / n_words) - Z\n",
        "    return n\n",
        "\n",
        "\n",
        "#X_GRADE = 0.186\n",
        "#Y_GRADE = 7.21\n",
        "#Z_GRADE = 15.443\n",
        "\n",
        "# Flesh Kinkaid Grade константы. Подробнее http://en.wikipedia.org/wiki/Flesch%E2%80%93Kincaid_readability_tests\n",
        "FLG_X_GRADE = 0.318\n",
        "FLG_Y_GRADE = 14.2\n",
        "FLG_Z_GRADE = 30.5\n",
        "\n",
        "def calc_Flesh_Kincaid_Grade_rus_flex(n_syllabes, n_words, n_sent):\n",
        "    \"\"\"Метрика Flesh Kincaid Grade для русского языка с константными параметрами\"\"\"\n",
        "    if n_words == 0 or n_sent == 0: return 0\n",
        "    n = FLG_X_GRADE * (float(n_words) / n_sent) + FLG_Y_GRADE * (float(n_syllabes) / n_words) - FLG_Z_GRADE\n",
        "    return n\n",
        "\n",
        "\n",
        "# Coleman Liau константы. Подробнее http://en.wikipedia.org/wiki/Coleman%E2%80%93Liau_index\n",
        "\n",
        "CLI_X_GRADE = 0.055\n",
        "CLI_Y_GRADE = 0.35\n",
        "CLI_Z_GRADE = 20.33\n",
        "\n",
        "\n",
        "def calc_Coleman_Liau_index_adapted(n_letters, n_words, n_sent, x, y, z):\n",
        "    \"\"\" Метрика Coleman Liau для русского языка с адаптированными параметрами \"\"\"\n",
        "    if n_words == 0: return 0\n",
        "    n = x * (n_letters * (100.0 / n_words)) - y * (n_sent * (100.0 / n_words)) - z\n",
        "    return n\n",
        "\n",
        "def calc_Coleman_Liau_index(n_letters, n_words, n_sent):\n",
        "    \"\"\" Метрика Coleman Liau для русского языка с константными параметрами \"\"\"\n",
        "    if n_words == 0: return 0\n",
        "    n = CLI_X_GRADE * (n_letters * (100.0 / n_words)) - CLI_Y_GRADE * (n_sent * (100.0 / n_words)) - CLI_Z_GRADE\n",
        "    return n\n",
        "\n",
        "\n",
        "# Константы SMOG Index http://en.wikipedia.org/wiki/SMOG\n",
        "SMOG_X_GRADE = 1.1\n",
        "SMOG_Y_GRADE = 64.6\n",
        "SMOG_Z_GRADE = 0.05\n",
        "\n",
        "def calc_SMOG_index(n_psyl, n_sent):\n",
        "    \"\"\"Метрика SMOG для русского языка с константными параментрами\"\"\"\n",
        "    n = SMOG_X_GRADE * sqrt((float(SMOG_Y_GRADE) / n_sent) * n_psyl) + SMOG_Z_GRADE\n",
        "    return n\n",
        "\n",
        "def calc_SMOG_index_adapted(n_psyl, n_sent, x, y, z):\n",
        "    \"\"\"Метрика SMOG для русского языка адаптированная с коэффициентами\"\"\"\n",
        "    n = x * sqrt((float(y) / n_sent) * n_psyl) + z\n",
        "    return n\n",
        "\n",
        "DC_X_GRADE = 0.552\n",
        "DC_Y_GRADE = 0.273\n",
        "\n",
        "def calc_Dale_Chale_index(n_psyl, n_words, n_sent):\n",
        "    \"\"\"Метрика Dale Chale для русского языка с константным параметрами\"\"\"\n",
        "    n = DC_X_GRADE * (100.0 * n_psyl / n_words) + DC_Y_GRADE * (float(n_words) / n_sent)\n",
        "    return n\n",
        "\n",
        "\n",
        "def calc_Dale_Chale_adapted(n_psyl, n_words, n_sent, x, y):\n",
        "    \"\"\"Метрика Dale Chale для русского языка с адаптированными параметрами\"\"\"\n",
        "    n = x * (100.0 * n_psyl / n_words) + y * (float(n_words) / n_sent)\n",
        "    return n\n",
        "\n",
        "ARI_X_GRADE = 6.26\n",
        "ARI_Y_GRADE = 0.2805\n",
        "ARI_Z_GRADE = 31.04\n",
        "\n",
        "\n",
        "def calc_ARI_index_adapted(n_letters, n_words, n_sent, x, y, z):\n",
        "    \"\"\" Метрика Automated Readability Index (ARI) для русского языка с адаптированными параметрами \"\"\"\n",
        "    if n_words == 0 or n_sent == 0: return 0\n",
        "    n = x * (float(n_letters) / n_words) + y * (float(n_words) / n_sent) - z\n",
        "    return n\n",
        "\n",
        "def calc_ARI_index(n_letters, n_words, n_sent):\n",
        "    \"\"\" Метрика Automated Readability Index (ARI) для русского языка с константными параметрами \"\"\"\n",
        "    if n_words == 0 or n_sent == 0: return 0\n",
        "    n = ARI_X_GRADE * (float(n_letters) / n_words) + ARI_Y_GRADE * (float(n_words) / n_sent) - ARI_Z_GRADE\n",
        "    return n\n",
        "\n",
        "\n",
        "def load_words(filename):\n",
        "    \"\"\"Load words from filename\"\"\"\n",
        "    words = []\n",
        "    f = open(filename, 'r')\n",
        "    for l in f:\n",
        "        words.append(l.strip().decode('utf8'))\n",
        "    f.close()\n",
        "    return words\n",
        "\n",
        "#FAM_WORDS = load_words('1norm50000.txt')\n",
        "\n",
        "bad_chars = '(){}<>\"\\'!?,.:;'\n",
        "\n",
        "\n",
        "def calc_text_metrics(filename, verbose=True):\n",
        "    \"\"\"Расчет метрик\"\"\"\n",
        "    f = open(filename, 'r')\n",
        "    text = f.read().decode('utf8')    \n",
        "    f.close()\n",
        "    return calc_readability_metrics(text, verbose)\n",
        "\n",
        "\n",
        "# Number of syllabes for long words\n",
        "COMPLEX_SYL_FACTOR = 4\n",
        "\n",
        "def calc_readability_metrics(text, verbose=True):\n",
        "    sentences = 0\n",
        "    chars = 0\n",
        "    spaces = 0\n",
        "    letters = 0\n",
        "    syllabes = 0\n",
        "    words = 0\n",
        "    complex_words = 0\n",
        "    simple_words = 0\n",
        "    wsyllabes = {}\n",
        "\n",
        "    wordStart = False\n",
        "    for l in text.splitlines():\n",
        "        chars += len(l)\n",
        "#        l = l.decode('utf8')\n",
        "        for ch in l:\n",
        "            if ch in SENTENCE_SPLITTERS:\n",
        "                sentences += 1\n",
        "            if ch in SPACES:\n",
        "                spaces += 1\n",
        "\n",
        "        for w in l.split():\n",
        "            has_syl = False\n",
        "            wsyl = 0\n",
        "#            if len(w) > 1: words += 1\n",
        "            for ch in w:\n",
        "                if ch in EN_LETTERS:\n",
        "                    letters += 1\n",
        "                if ch in EN_VOWELS:\n",
        "                    syllabes += 1\n",
        "                    has_syl = True\n",
        "                    wsyl += 1\n",
        "            if wsyl > COMPLEX_SYL_FACTOR:\n",
        "                complex_words += 1\n",
        "            elif wsyl < COMPLEX_SYL_FACTOR+1 and wsyl > 0:\n",
        "                simple_words += 1\n",
        "            if has_syl:\n",
        "                words += 1\n",
        "                v = wsyllabes.get(str(wsyl), 0)\n",
        "                wsyllabes[str(wsyl)] = v + 1\n",
        "    metrics = {'c_share': float(complex_words) * 100 / words if words > 0 else 0,\n",
        "               'avg_slen' : float(words) / sentences if sentences > 0 else 0,\n",
        "               'avg_syl' : float(syllabes) / words if words > 0 else 0,\n",
        "               'n_syllabes': syllabes,\n",
        "               'n_words' : words,\n",
        "               'n_sentences': sentences,\n",
        "               'n_complex_words': complex_words,\n",
        "               'n_simple_words' : simple_words,\n",
        "               'chars': chars,\n",
        "               'letters' : letters,\n",
        "               'spaces' : spaces,\n",
        "               'index_fk': calc_Flesh_Kincaid_Grade(syllabes, words, sentences), \n",
        "               'wsyllabes' : wsyllabes\n",
        "    }\n",
        "    del text\n",
        "    return metrics"
      ],
      "execution_count": 7,
      "outputs": []
    },
    {
      "cell_type": "code",
      "metadata": {
        "colab": {
          "base_uri": "https://localhost:8080/"
        },
        "id": "gDVFCjCxORIB",
        "outputId": "9b2b3b21-cd57-4993-8ab7-d5afce8cb8f3"
      },
      "source": [
        "a, b = ' '.join(list(df_train_gl['src'].values)), ' '.join(list(df_train_gl['dst'].values))\n",
        "a_score, b_score = calc_readability_metrics(a), calc_readability_metrics(b)\n",
        "a_score, b_score"
      ],
      "execution_count": 8,
      "outputs": [
        {
          "output_type": "execute_result",
          "data": {
            "text/plain": [
              "({'avg_slen': 18.105696502147804,\n",
              "  'avg_syl': 1.9914821784241528,\n",
              "  'c_share': 3.7507853516709884,\n",
              "  'chars': 34705146,\n",
              "  'index_fk': 14.970711341242648,\n",
              "  'letters': 25050889,\n",
              "  'n_complex_words': 193664,\n",
              "  'n_sentences': 285175,\n",
              "  'n_simple_words': 4969628,\n",
              "  'n_syllabes': 10282604,\n",
              "  'n_words': 5163292,\n",
              "  'spaces': 6412991,\n",
              "  'wsyllabes': {'1': 2380385,\n",
              "   '10': 270,\n",
              "   '11': 59,\n",
              "   '12': 18,\n",
              "   '13': 8,\n",
              "   '14': 5,\n",
              "   '2': 1298292,\n",
              "   '3': 890201,\n",
              "   '4': 400750,\n",
              "   '5': 144997,\n",
              "   '6': 37966,\n",
              "   '7': 7769,\n",
              "   '8': 2019,\n",
              "   '9': 553}},\n",
              " {'avg_slen': 13.946697140991368,\n",
              "  'avg_syl': 1.9181484082739515,\n",
              "  'c_share': 2.878080661760044,\n",
              "  'chars': 26873009,\n",
              "  'index_fk': 12.483363102619261,\n",
              "  'letters': 19125312,\n",
              "  'n_complex_words': 118018,\n",
              "  'n_sentences': 294018,\n",
              "  'n_simple_words': 3982562,\n",
              "  'n_syllabes': 7865521,\n",
              "  'n_words': 4100580,\n",
              "  'spaces': 5114392,\n",
              "  'wsyllabes': {'1': 1945281,\n",
              "   '10': 190,\n",
              "   '11': 39,\n",
              "   '12': 10,\n",
              "   '13': 4,\n",
              "   '14': 3,\n",
              "   '2': 1089537,\n",
              "   '3': 678227,\n",
              "   '4': 269517,\n",
              "   '5': 88626,\n",
              "   '6': 23222,\n",
              "   '7': 4292,\n",
              "   '8': 1320,\n",
              "   '9': 312}})"
            ]
          },
          "metadata": {
            "tags": []
          },
          "execution_count": 8
        }
      ]
    },
    {
      "cell_type": "code",
      "metadata": {
        "colab": {
          "base_uri": "https://localhost:8080/"
        },
        "id": "fk5vhfnXOmHM",
        "outputId": "a8bb5f08-3937-4e31-abe4-d6fd01e3cbc8"
      },
      "source": [
        "a, b = ' '.join(list(df_val_gl['src'].values)), ' '.join(list(df_val_gl['dst'].values))\n",
        "a_score, b_score = calc_readability_metrics(a), calc_readability_metrics(b)\n",
        "a_score, b_score"
      ],
      "execution_count": 9,
      "outputs": [
        {
          "output_type": "execute_result",
          "data": {
            "text/plain": [
              "({'avg_slen': 18.249720044792834,\n",
              "  'avg_syl': 1.9842302264220408,\n",
              "  'c_share': 3.5896177210529547,\n",
              "  'chars': 108469,\n",
              "  'index_fk': 14.941307489249287,\n",
              "  'letters': 78603,\n",
              "  'n_complex_words': 585,\n",
              "  'n_sentences': 893,\n",
              "  'n_simple_words': 15712,\n",
              "  'n_syllabes': 32337,\n",
              "  'n_words': 16297,\n",
              "  'spaces': 20138,\n",
              "  'wsyllabes': {'1': 7497,\n",
              "   '11': 1,\n",
              "   '2': 4157,\n",
              "   '3': 2826,\n",
              "   '4': 1232,\n",
              "   '5': 436,\n",
              "   '6': 114,\n",
              "   '7': 28,\n",
              "   '8': 5,\n",
              "   '9': 1}},\n",
              " {'avg_slen': 14.181720430107527,\n",
              "  'avg_syl': 1.9178102964591706,\n",
              "  'c_share': 3.017666237015695,\n",
              "  'chars': 85861,\n",
              "  'index_fk': 12.571032465960151,\n",
              "  'letters': 61426,\n",
              "  'n_complex_words': 398,\n",
              "  'n_sentences': 930,\n",
              "  'n_simple_words': 12791,\n",
              "  'n_syllabes': 25294,\n",
              "  'n_words': 13189,\n",
              "  'spaces': 16366,\n",
              "  'wsyllabes': {'1': 6263,\n",
              "   '2': 3513,\n",
              "   '3': 2156,\n",
              "   '4': 859,\n",
              "   '5': 309,\n",
              "   '6': 73,\n",
              "   '7': 11,\n",
              "   '8': 4,\n",
              "   '9': 1}})"
            ]
          },
          "metadata": {
            "tags": []
          },
          "execution_count": 9
        }
      ]
    },
    {
      "cell_type": "code",
      "metadata": {
        "colab": {
          "base_uri": "https://localhost:8080/"
        },
        "id": "JcGKTffuOmW0",
        "outputId": "013ecb4d-2af7-4153-dbff-e79a054da40e"
      },
      "source": [
        "a, b = ' '.join(list(df_test_gl['src'].values)), ' '.join(list(df_test_gl['dst'].values))\n",
        "a_score, b_score = calc_readability_metrics(a), calc_readability_metrics(b)\n",
        "a_score, b_score"
      ],
      "execution_count": 10,
      "outputs": [
        {
          "output_type": "execute_result",
          "data": {
            "text/plain": [
              "({'avg_slen': 17.491139240506328,\n",
              "  'avg_syl': 2.0256187581415546,\n",
              "  'c_share': 3.7776812852800696,\n",
              "  'chars': 45995,\n",
              "  'index_fk': 15.133845649867812,\n",
              "  'letters': 34146,\n",
              "  'n_complex_words': 261,\n",
              "  'n_sentences': 395,\n",
              "  'n_simple_words': 6648,\n",
              "  'n_syllabes': 13995,\n",
              "  'n_words': 6909,\n",
              "  'spaces': 8306,\n",
              "  'wsyllabes': {'1': 3081,\n",
              "   '2': 1757,\n",
              "   '3': 1220,\n",
              "   '4': 590,\n",
              "   '5': 200,\n",
              "   '6': 50,\n",
              "   '7': 8,\n",
              "   '8': 3}},\n",
              " {'avg_slen': 16.057142857142857,\n",
              "  'avg_syl': 1.9574436536180309,\n",
              "  'c_share': 2.891459074733096,\n",
              "  'chars': 43580,\n",
              "  'index_fk': 13.77012082697848,\n",
              "  'letters': 32253,\n",
              "  'n_complex_words': 195,\n",
              "  'n_sentences': 420,\n",
              "  'n_simple_words': 6549,\n",
              "  'n_syllabes': 13201,\n",
              "  'n_words': 6744,\n",
              "  'spaces': 8016,\n",
              "  'wsyllabes': {'1': 3101,\n",
              "   '2': 1813,\n",
              "   '3': 1110,\n",
              "   '4': 525,\n",
              "   '5': 144,\n",
              "   '6': 36,\n",
              "   '7': 12,\n",
              "   '8': 3}})"
            ]
          },
          "metadata": {
            "tags": []
          },
          "execution_count": 10
        }
      ]
    },
    {
      "cell_type": "markdown",
      "metadata": {
        "id": "cSp3OBK4OKtB"
      },
      "source": [
        ""
      ]
    },
    {
      "cell_type": "code",
      "metadata": {
        "id": "5vlTbld78YIR"
      },
      "source": [
        "textstat.set_lang('en')"
      ],
      "execution_count": null,
      "outputs": []
    },
    {
      "cell_type": "markdown",
      "metadata": {
        "id": "tsMmG-ASGjep"
      },
      "source": [
        " Путем объединения"
      ]
    },
    {
      "cell_type": "code",
      "metadata": {
        "colab": {
          "base_uri": "https://localhost:8080/"
        },
        "id": "81ZqY9H2_r9j",
        "outputId": "a64f4c72-c435-4176-dd23-126d877d7a3b"
      },
      "source": [
        "a, b = ' '.join(list(df_train['src'].values)), ' '.join(list(df_train['dst'].values))\n",
        "fk_src = textstat.flesch_kincaid_grade(a)\n",
        "fk_dst = textstat.flesch_kincaid_grade(b)\n",
        "asl_src = textstat.syllable_count(a)\n",
        "asl_dst = textstat.syllable_count(b)\n",
        "aws_src = textstat.lexicon_count(a)\n",
        "aws_dst = textstat.lexicon_count(b)\n",
        "ease_src = textstat.flesch_reading_ease(a)\n",
        "ease_dst = textstat.flesch_reading_ease(b)\n",
        "fk_src, fk_dst, asl_src, asl_dst, aws_src, aws_dst, ease_src, ease_dst"
      ],
      "execution_count": null,
      "outputs": [
        {
          "output_type": "execute_result",
          "data": {
            "text/plain": [
              "(7.1, 5.0, 6415755, 5114582, 5546816, 4426502, 106.25, 113.27)"
            ]
          },
          "metadata": {
            "tags": []
          },
          "execution_count": 36
        }
      ]
    },
    {
      "cell_type": "code",
      "metadata": {
        "colab": {
          "base_uri": "https://localhost:8080/"
        },
        "id": "TGAe2w6aE5i1",
        "outputId": "4c6adb8f-e40c-469f-e550-4f9cd2aeba9c"
      },
      "source": [
        "a, b = ' '.join(list(df_val['src'].values)), ' '.join(list(df_val['dst'].values))\n",
        "fk_src = textstat.flesch_kincaid_grade(a)\n",
        "fk_dst = textstat.flesch_kincaid_grade(b)\n",
        "asl_src = textstat.syllable_count(a)\n",
        "asl_dst = textstat.syllable_count(b)\n",
        "aws_src = textstat.lexicon_count(a)\n",
        "aws_dst = textstat.lexicon_count(b)\n",
        "ease_src = textstat.flesch_reading_ease(a)\n",
        "ease_dst = textstat.flesch_reading_ease(b)\n",
        "fk_src, fk_dst, asl_src, asl_dst, aws_src, aws_dst, ease_src, ease_dst"
      ],
      "execution_count": null,
      "outputs": [
        {
          "output_type": "execute_result",
          "data": {
            "text/plain": [
              "(7.3, 5.2, 21474, 17343, 18633, 15033, 105.73, 112.62)"
            ]
          },
          "metadata": {
            "tags": []
          },
          "execution_count": 42
        }
      ]
    },
    {
      "cell_type": "code",
      "metadata": {
        "colab": {
          "base_uri": "https://localhost:8080/"
        },
        "id": "GbCA1ULaGcPW",
        "outputId": "4d2e49f7-28d0-4685-906f-1f12b0fb9178"
      },
      "source": [
        "a, b = ' '.join(list(df_test['src'].values)), ' '.join(list(df_test['dst'].values))\n",
        "fk_src = textstat.flesch_kincaid_grade(a)\n",
        "fk_dst = textstat.flesch_kincaid_grade(b)\n",
        "asl_src = textstat.syllable_count(a)\n",
        "asl_dst = textstat.syllable_count(b)\n",
        "aws_src = textstat.lexicon_count(a)\n",
        "aws_dst = textstat.lexicon_count(b)\n",
        "ease_src = textstat.flesch_reading_ease(a)\n",
        "ease_dst = textstat.flesch_reading_ease(b)\n",
        "fk_src, fk_dst, asl_src, asl_dst, aws_src, aws_dst, ease_src, ease_dst"
      ],
      "execution_count": null,
      "outputs": [
        {
          "output_type": "execute_result",
          "data": {
            "text/plain": [
              "(4.9, 4.3, 7359, 7101, 6465, 6307, 115.64, 117.72)"
            ]
          },
          "metadata": {
            "tags": []
          },
          "execution_count": 43
        }
      ]
    },
    {
      "cell_type": "markdown",
      "metadata": {
        "id": "mEjrS3zXGoe-"
      },
      "source": [
        "Среднее значение по предложениям"
      ]
    },
    {
      "cell_type": "code",
      "metadata": {
        "id": "mk7figXR8YS9"
      },
      "source": [
        "df_train['fkg_src'] = df_train['src'].apply(lambda x: textstat.flesch_kincaid_grade(x))\n",
        "df_train['fkg_dst'] = df_train['dst'].apply(lambda x: textstat.flesch_kincaid_grade(x))\n",
        "\n",
        "df_val['fkg_src'] = df_val['src'].apply(lambda x: textstat.flesch_kincaid_grade(x))\n",
        "df_val['fkg_dst'] = df_val['dst'].apply(lambda x: textstat.flesch_kincaid_grade(x))\n",
        "\n",
        "df_test['fkg_src'] = df_test['src'].apply(lambda x: textstat.flesch_kincaid_grade(x))\n",
        "df_test['fkg_dst'] = df_test['dst'].apply(lambda x: textstat.flesch_kincaid_grade(x))"
      ],
      "execution_count": null,
      "outputs": []
    },
    {
      "cell_type": "code",
      "metadata": {
        "id": "ejAMUpXBrEDP"
      },
      "source": [
        "df_train['asl_src'] = df_train['src'].apply(lambda x: textstat.syllable_count(x))\n",
        "df_train['asl_dst'] = df_train['dst'].apply(lambda x: textstat.syllable_count(x))\n",
        "\n",
        "df_val['asl_src'] = df_val['src'].apply(lambda x: textstat.syllable_count(x))\n",
        "df_val['asl_dst'] = df_val['dst'].apply(lambda x: textstat.syllable_count(x))\n",
        "\n",
        "df_test['asl_src'] = df_test['src'].apply(lambda x: textstat.syllable_count(x))\n",
        "df_test['asl_dst'] = df_test['dst'].apply(lambda x: textstat.syllable_count(x))\n",
        "\n",
        "\n",
        "\n",
        "df_train['aws_src'] = df_train['src'].apply(lambda x: textstat.lexicon_count(x))\n",
        "df_train['aws_dst'] = df_train['dst'].apply(lambda x: textstat.lexicon_count(x))\n",
        "\n",
        "df_val['aws_src'] = df_val['src'].apply(lambda x: textstat.lexicon_count(x))\n",
        "df_val['aws_dst'] = df_val['dst'].apply(lambda x: textstat.lexicon_count(x))\n",
        "\n",
        "df_test['aws_src'] = df_test['src'].apply(lambda x: textstat.lexicon_count(x))\n",
        "df_test['aws_dst'] = df_test['dst'].apply(lambda x: textstat.lexicon_count(x))\n",
        "\n",
        "df_train['ease_src'] = df_train['src'].apply(lambda x: textstat.flesch_reading_ease(x))\n",
        "df_train['ease_dst'] = df_train['dst'].apply(lambda x: textstat.flesch_reading_ease(x))\n",
        "\n",
        "df_val['ease_src'] = df_val['src'].apply(lambda x: textstat.flesch_reading_ease(x))\n",
        "df_val['ease_dst'] = df_val['dst'].apply(lambda x: textstat.flesch_reading_ease(x))\n",
        "\n",
        "df_test['ease_src'] = df_test['src'].apply(lambda x: textstat.flesch_reading_ease(x))\n",
        "df_test['ease_dst'] = df_test['dst'].apply(lambda x: textstat.flesch_reading_ease(x))"
      ],
      "execution_count": null,
      "outputs": []
    },
    {
      "cell_type": "code",
      "metadata": {
        "id": "2WloALN0GwZ2"
      },
      "source": [
        "df_train['ease_src'] = df_train['src'].apply(lambda x: textstat.flesch_reading_ease(x))\n",
        "df_train['ease_dst'] = df_train['dst'].apply(lambda x: textstat.flesch_reading_ease(x))\n",
        "\n",
        "df_val['ease_src'] = df_val['src'].apply(lambda x: textstat.flesch_reading_ease(x))\n",
        "df_val['ease_dst'] = df_val['dst'].apply(lambda x: textstat.flesch_reading_ease(x))\n",
        "\n",
        "df_test['ease_src'] = df_test['src'].apply(lambda x: textstat.flesch_reading_ease(x))\n",
        "df_test['ease_dst'] = df_test['dst'].apply(lambda x: textstat.flesch_reading_ease(x))"
      ],
      "execution_count": null,
      "outputs": []
    },
    {
      "cell_type": "code",
      "metadata": {
        "colab": {
          "base_uri": "https://localhost:8080/"
        },
        "id": "b37Q3x9KHgsG",
        "outputId": "6b86fb55-8baa-4d54-a112-a2d86f32ed23"
      },
      "source": [
        "df_train.fkg_src.mean(), df_train.fkg_dst.mean(), df_train.fkg_src.mean() - df_train.fkg_dst.mean()"
      ],
      "execution_count": null,
      "outputs": [
        {
          "output_type": "execute_result",
          "data": {
            "text/plain": [
              "(11.971624297044338, 9.28312057426604, 2.6885037227782984)"
            ]
          },
          "metadata": {
            "tags": []
          },
          "execution_count": 45
        }
      ]
    },
    {
      "cell_type": "code",
      "metadata": {
        "colab": {
          "base_uri": "https://localhost:8080/"
        },
        "id": "qL7yN-ejIVLm",
        "outputId": "d705e6d8-d6c9-4180-a9a9-60fac036ce25"
      },
      "source": [
        "df_val.fkg_src.mean(), df_val.fkg_dst.mean(), df_val.fkg_src.mean() - df_val.fkg_dst.mean()"
      ],
      "execution_count": null,
      "outputs": [
        {
          "output_type": "execute_result",
          "data": {
            "text/plain": [
              "(12.096454767726172, 9.439119804400974, 2.657334963325198)"
            ]
          },
          "metadata": {
            "tags": []
          },
          "execution_count": 46
        }
      ]
    },
    {
      "cell_type": "code",
      "metadata": {
        "colab": {
          "base_uri": "https://localhost:8080/"
        },
        "id": "p9qSMkVCIePi",
        "outputId": "cd42ef90-0e8f-4094-c1d5-8f299e69fe86"
      },
      "source": [
        "df_test.fkg_src.mean(), df_test.fkg_dst.mean(), df_test.fkg_src.mean() - df_test.fkg_dst.mean()"
      ],
      "execution_count": null,
      "outputs": [
        {
          "output_type": "execute_result",
          "data": {
            "text/plain": [
              "(11.017484662576688, 9.821779141104283, 1.195705521472405)"
            ]
          },
          "metadata": {
            "tags": []
          },
          "execution_count": 47
        }
      ]
    },
    {
      "cell_type": "code",
      "metadata": {
        "id": "tYnXzjGYIi_X"
      },
      "source": [
        "df_train.to_csv('/content/drive/MyDrive/MT_sentence_simpl/WikiLarge_train_CosSImFKG.csv')\n",
        "df_val.to_csv('/content/drive/MyDrive/MT_sentence_simpl/WikiLarge_val_CosSImFKG.csv')\n",
        "df_test.to_csv('/content/drive/MyDrive/MT_sentence_simpl/WikiLarge_test_CosSImFKG.csv')\n",
        "\n",
        "#Alex.waters"
      ],
      "execution_count": null,
      "outputs": []
    },
    {
      "cell_type": "markdown",
      "metadata": {
        "id": "wW21UVGAJY5M"
      },
      "source": [
        "### Grammar Checker"
      ]
    },
    {
      "cell_type": "code",
      "metadata": {
        "colab": {
          "base_uri": "https://localhost:8080/"
        },
        "id": "SswWjdzPJbRu",
        "outputId": "3c547e6e-cf82-4612-cf07-b1afa3a01ca5"
      },
      "source": [
        "tool = language_tool_python.LanguageTool('en')"
      ],
      "execution_count": null,
      "outputs": [
        {
          "output_type": "stream",
          "text": [
            "Downloading LanguageTool: 100%|██████████| 190M/190M [00:15<00:00, 12.0MB/s]\n",
            "Unzipping /tmp/tmpz7h9vuh4.zip to /root/.cache/language_tool_python.\n",
            "Downloaded https://www.languagetool.org/download/LanguageTool-5.2.zip to /root/.cache/language_tool_python.\n"
          ],
          "name": "stderr"
        }
      ]
    },
    {
      "cell_type": "code",
      "metadata": {
        "id": "7tGvnGzTJbW-"
      },
      "source": [
        "def get_mistakes_summary(df_test):\n",
        "    src_test = list(df_test['src'].values)\n",
        "    dst_test =list(df_test['dst'].values)\n",
        "    matches_src = []\n",
        "    for i in src_test:\n",
        "      matches_src.extend(tool.check(i))\n",
        "    matches_src\n",
        "\n",
        "    matches_dst = []\n",
        "    for i in dst_test:\n",
        "      matches_dst.extend(tool.check(i))\n",
        "    matches_dst\n",
        "\n",
        "    categories = set([i.category for i in matches_src+matches_dst])\n",
        "\n",
        "    categories_src = {i:0 for i in categories}\n",
        "    categories_dst = {i:0 for i in categories}\n",
        "\n",
        "    for i in matches_src:\n",
        "      categories_src[i.category]+=1\n",
        "\n",
        "    for i in matches_dst:\n",
        "      categories_dst[i.category]+=1\n",
        "      \n",
        "    return categories_src, categories_dst"
      ],
      "execution_count": null,
      "outputs": []
    },
    {
      "cell_type": "code",
      "metadata": {
        "id": "otcPeH5GRVtk"
      },
      "source": [
        "src_errors, dst_errors = get_mistakes_summary(df_test)"
      ],
      "execution_count": null,
      "outputs": []
    },
    {
      "cell_type": "code",
      "metadata": {
        "colab": {
          "base_uri": "https://localhost:8080/"
        },
        "id": "gTvFfp0lRhaY",
        "outputId": "73990435-074f-4533-c8d0-e878cbdea220"
      },
      "source": [
        "src_errors"
      ],
      "execution_count": null,
      "outputs": [
        {
          "output_type": "execute_result",
          "data": {
            "text/plain": [
              "{'CASING': 3,\n",
              " 'COLLOCATIONS': 1,\n",
              " 'GRAMMAR': 3,\n",
              " 'MISC': 2,\n",
              " 'PUNCTUATION': 13,\n",
              " 'REDUNDANCY': 0,\n",
              " 'TYPOGRAPHY': 826,\n",
              " 'TYPOS': 2}"
            ]
          },
          "metadata": {
            "tags": []
          },
          "execution_count": 65
        }
      ]
    },
    {
      "cell_type": "code",
      "metadata": {
        "colab": {
          "base_uri": "https://localhost:8080/"
        },
        "id": "SS5LT-GqRjPJ",
        "outputId": "45676ce6-ce4f-460e-fc46-d8d6ed5cd70b"
      },
      "source": [
        "dst_errors"
      ],
      "execution_count": null,
      "outputs": [
        {
          "output_type": "execute_result",
          "data": {
            "text/plain": [
              "{'CASING': 4,\n",
              " 'COLLOCATIONS': 0,\n",
              " 'GRAMMAR': 11,\n",
              " 'MISC': 2,\n",
              " 'PUNCTUATION': 14,\n",
              " 'REDUNDANCY': 1,\n",
              " 'TYPOGRAPHY': 744,\n",
              " 'TYPOS': 4}"
            ]
          },
          "metadata": {
            "tags": []
          },
          "execution_count": 66
        }
      ]
    },
    {
      "cell_type": "code",
      "metadata": {
        "id": "3gpfMNpQRmyD"
      },
      "source": [
        "src_errors, dst_errors = get_mistakes_summary(df_val)"
      ],
      "execution_count": null,
      "outputs": []
    },
    {
      "cell_type": "code",
      "metadata": {
        "colab": {
          "base_uri": "https://localhost:8080/"
        },
        "id": "lSuxchixRrmV",
        "outputId": "619c201a-dc3f-435f-ba43-596c2d14dc93"
      },
      "source": [
        "src_errors"
      ],
      "execution_count": null,
      "outputs": [
        {
          "output_type": "execute_result",
          "data": {
            "text/plain": [
              "{'CASING': 1,\n",
              " 'COLLOCATIONS': 3,\n",
              " 'CONFUSED_WORDS': 1,\n",
              " 'GRAMMAR': 12,\n",
              " 'MISC': 7,\n",
              " 'NONSTANDARD_PHRASES': 0,\n",
              " 'PUNCTUATION': 21,\n",
              " 'REDUNDANCY': 2,\n",
              " 'SEMANTICS': 3,\n",
              " 'STYLE': 3,\n",
              " 'TYPOGRAPHY': 2476,\n",
              " 'TYPOS': 6}"
            ]
          },
          "metadata": {
            "tags": []
          },
          "execution_count": 68
        }
      ]
    },
    {
      "cell_type": "code",
      "metadata": {
        "colab": {
          "base_uri": "https://localhost:8080/"
        },
        "id": "W5__OMO6Rswa",
        "outputId": "b3eb0917-1f60-459e-f920-3a32de40bcd7"
      },
      "source": [
        "dst_errors"
      ],
      "execution_count": null,
      "outputs": [
        {
          "output_type": "execute_result",
          "data": {
            "text/plain": [
              "{'CASING': 2,\n",
              " 'COLLOCATIONS': 2,\n",
              " 'CONFUSED_WORDS': 2,\n",
              " 'GRAMMAR': 12,\n",
              " 'MISC': 15,\n",
              " 'NONSTANDARD_PHRASES': 2,\n",
              " 'PUNCTUATION': 43,\n",
              " 'REDUNDANCY': 3,\n",
              " 'SEMANTICS': 1,\n",
              " 'STYLE': 4,\n",
              " 'TYPOGRAPHY': 2019,\n",
              " 'TYPOS': 9}"
            ]
          },
          "metadata": {
            "tags": []
          },
          "execution_count": 69
        }
      ]
    },
    {
      "cell_type": "code",
      "metadata": {
        "id": "wWAEsPA0RzVy"
      },
      "source": [
        "src_errors, dst_errors = get_mistakes_summary(df_train)"
      ],
      "execution_count": null,
      "outputs": []
    },
    {
      "cell_type": "code",
      "metadata": {
        "colab": {
          "base_uri": "https://localhost:8080/"
        },
        "id": "nr9mloC0R2tB",
        "outputId": "26ad4c63-1ad9-4e8b-eeb2-01b7a64f994b"
      },
      "source": [
        "src_errors"
      ],
      "execution_count": null,
      "outputs": [
        {
          "output_type": "execute_result",
          "data": {
            "text/plain": [
              "{'CASING': 1069,\n",
              " 'COLLOCATIONS': 230,\n",
              " 'COMPOUNDING': 20,\n",
              " 'CONFUSED_WORDS': 222,\n",
              " 'GRAMMAR': 3288,\n",
              " 'MISC': 2755,\n",
              " 'NONSTANDARD_PHRASES': 57,\n",
              " 'PUNCTUATION': 9216,\n",
              " 'REDUNDANCY': 1495,\n",
              " 'SEMANTICS': 127,\n",
              " 'STYLE': 539,\n",
              " 'TYPOGRAPHY': 763452,\n",
              " 'TYPOS': 2092}"
            ]
          },
          "metadata": {
            "tags": []
          },
          "execution_count": 71
        }
      ]
    },
    {
      "cell_type": "code",
      "metadata": {
        "colab": {
          "base_uri": "https://localhost:8080/"
        },
        "id": "BtD7F3QCR4et",
        "outputId": "6d05ea5c-781d-4aa5-e7a7-b3887244c4cf"
      },
      "source": [
        "dst_errors"
      ],
      "execution_count": null,
      "outputs": [
        {
          "output_type": "execute_result",
          "data": {
            "text/plain": [
              "{'CASING': 1113,\n",
              " 'COLLOCATIONS': 231,\n",
              " 'COMPOUNDING': 17,\n",
              " 'CONFUSED_WORDS': 238,\n",
              " 'GRAMMAR': 4364,\n",
              " 'MISC': 3319,\n",
              " 'NONSTANDARD_PHRASES': 182,\n",
              " 'PUNCTUATION': 14757,\n",
              " 'REDUNDANCY': 1418,\n",
              " 'SEMANTICS': 98,\n",
              " 'STYLE': 524,\n",
              " 'TYPOGRAPHY': 609128,\n",
              " 'TYPOS': 2513}"
            ]
          },
          "metadata": {
            "tags": []
          },
          "execution_count": 72
        }
      ]
    },
    {
      "cell_type": "markdown",
      "metadata": {
        "id": "S3yVv-uBVhOj"
      },
      "source": [
        "# WikiLarge translated with Mt Helsinki from transformers"
      ]
    },
    {
      "cell_type": "markdown",
      "metadata": {
        "id": "UeyCXGoCVhWg"
      },
      "source": [
        "### Cosine Similarity between original/simple sentences"
      ]
    },
    {
      "cell_type": "code",
      "metadata": {
        "id": "GGoLUyFyVsG4"
      },
      "source": [
        "# device = \"cuda\" if torch.cuda.is_available() else \"cpu\"\n",
        "# config = AutoConfig.from_pretrained(\"DeepPavlov/rubert-base-cased\") # \"roberta-base\" 'xlm-mlm-100-1280' 'xlm-roberta-base' 'bert-base-multilingual-cased'\n",
        "# config.output_hidden_states = True\n",
        "\n",
        "# tok = AutoTokenizer.from_pretrained(\"DeepPavlov/rubert-base-cased\")\n",
        "# model = AutoModelForMaskedLM.from_pretrained(\"DeepPavlov/rubert-base-cased\", config=config)\n",
        "# model.to(device)"
      ],
      "execution_count": null,
      "outputs": []
    },
    {
      "cell_type": "code",
      "metadata": {
        "id": "IwHeg3rbVsK6"
      },
      "source": [
        "calc_cos_sim(df_test_mt, model, tok, 'target_x', 'target_y', 'cos_sim_x_y')\n",
        "calc_cos_sim(df_val_mt, model, tok, 'target_x', 'target_y', 'cos_sim_x_y')\n",
        "calc_cos_sim(df_train_mt, model, tok, 'target_x', 'target_y', 'cos_sim_x_y')\n"
      ],
      "execution_count": null,
      "outputs": []
    },
    {
      "cell_type": "code",
      "metadata": {
        "colab": {
          "base_uri": "https://localhost:8080/"
        },
        "id": "CkD2NptQ_AdH",
        "outputId": "b9556e3f-e0dd-4d9a-a3b9-79083c560b93"
      },
      "source": [
        "df_train_mt.cos_sim_x_y.mean(), df_val_mt.cos_sim_x_y.mean(), df_test_mt.cos_sim_x_y.mean()"
      ],
      "execution_count": null,
      "outputs": [
        {
          "output_type": "stream",
          "text": [
            "0.9468623274033268 0.9478329893174264 0.9841433672085862\n"
          ],
          "name": "stdout"
        }
      ]
    },
    {
      "cell_type": "code",
      "metadata": {
        "id": "JULbZR6QHyq_"
      },
      "source": [
        "device = torch.device('cuda' if torch.cuda.is_available() else 'cpu')\n",
        "model = SentenceTransformer('LaBSE')\n",
        "model.to(device)\n",
        "\n",
        "def calc_cos_sim_(df, model):\n",
        "    LABSE_orig = []\n",
        "    LABSE_simpl = []\n",
        "    for index, row in df.iterrows():\n",
        "\n",
        "        # original\n",
        "          emb_source = model.encode(row['src'])\n",
        "          emb_target = model.encode(row['target_x'])\n",
        "\n",
        "          cos_val = cosine_similarity(emb_source.reshape(-1, emb_source.shape[0]), emb_target.reshape(-1, emb_target.shape[0]))[0][0]\n",
        "          LABSE_orig.append(cos_val)\n",
        "          \n",
        "        # simplified\n",
        "          emb_source = model.encode(row['dst'])\n",
        "          emb_target = model.encode(row['target_y'])\n",
        "\n",
        "          cos_val = cosine_similarity(emb_source.reshape(-1, emb_source.shape[0]), emb_target.reshape(-1, emb_target.shape[0]))[0][0]\n",
        "          LABSE_simpl.append(cos_val)\n",
        "\n",
        "    df['LABSE_orig'] = LABSE_orig\n",
        "    df['LABSE_simpl'] = LABSE_simpl\n",
        "\n",
        "calc_cos_sim_(df_test_mt, model)\n",
        "calc_cos_sim_(df_val_mt, model)\n",
        "calc_cos_sim_(df_train_mt, model)"
      ],
      "execution_count": null,
      "outputs": []
    },
    {
      "cell_type": "code",
      "metadata": {
        "colab": {
          "base_uri": "https://localhost:8080/"
        },
        "id": "ej0aDrUAH7d8",
        "outputId": "c122905c-974f-43f7-92f3-a8191f929d8c"
      },
      "source": [
        "df_train_mt.LABSE_orig.mean(), df_val_mt.LABSE_orig.mean(), df_test_mt.LABSE_orig.mean()"
      ],
      "execution_count": null,
      "outputs": [
        {
          "output_type": "execute_result",
          "data": {
            "text/plain": [
              "(0.8862167089812055, 0.8850720814067169, 0.8860442356829263)"
            ]
          },
          "metadata": {
            "tags": []
          },
          "execution_count": 8
        }
      ]
    },
    {
      "cell_type": "code",
      "metadata": {
        "colab": {
          "base_uri": "https://localhost:8080/"
        },
        "id": "Pb71Aa2WIJwJ",
        "outputId": "9f8c2761-d39f-48ba-aa09-3409ef9f7cd0"
      },
      "source": [
        "df_train_mt.LABSE_simpl.mean(), df_val_mt.LABSE_simpl.mean(), df_test_mt.LABSE_simpl.mean()"
      ],
      "execution_count": null,
      "outputs": [
        {
          "output_type": "execute_result",
          "data": {
            "text/plain": [
              "(0.8818510114127176, 0.8806601700653074, 0.8815181845901934)"
            ]
          },
          "metadata": {
            "tags": []
          },
          "execution_count": 9
        }
      ]
    },
    {
      "cell_type": "markdown",
      "metadata": {
        "id": "8fvk4z7aYeH0"
      },
      "source": [
        "### Flesch Kincaid Grade Level"
      ]
    },
    {
      "cell_type": "code",
      "metadata": {
        "id": "QrRQqoKTAwzv"
      },
      "source": [
        "#plainrussian\n",
        "#!/usr/bin/env python\n",
        "# -*- coding: utf-8 -*-\n",
        "\n",
        "from math import sqrt\n",
        "import csv\n",
        "\n",
        "\n",
        "from numpy import mean, arange\n",
        "\n",
        "\n",
        "# Russian sounds and characters\n",
        "RU_CONSONANTS_LOW = [u'к', u'п', u'с', u'т', u'ф', u'х', u'ц', u'ч', u'ш', u'щ']\n",
        "RU_CONSONANTS_HIGH = [u'б', u'в', u'г', u'д', u'ж', u'з']\n",
        "RU_CONSONANTS_SONOR = [u'л', u'м', u'н', u'р']\n",
        "RU_CONSONANTS_YET = [u'й']\n",
        "\n",
        "RU_CONSONANTS = RU_CONSONANTS_HIGH + RU_CONSONANTS_LOW + RU_CONSONANTS_SONOR + RU_CONSONANTS_YET\n",
        "RU_VOWELS = [u'а', u'е', u'и', u'у', u'о', u'я', u'ё', u'э', u'ю', u'я', u'ы']\n",
        "RU_MARKS = [u'ь', u'ъ']\n",
        "SENTENCE_SPLITTERS = [u'.', u'?', u'!']\n",
        "RU_LETTERS = RU_CONSONANTS + RU_MARKS + RU_VOWELS\n",
        "SPACES = [u' ', u'\\t']\n",
        "\n",
        "# List of prepared texts\n",
        "\n",
        "GRADE_TEXT = {\n",
        "    1: u'1 - 3-й класс (возраст примерно: 6-8 лет)',\n",
        "    2: u'1 - 3-й класс (возраст примерно: 6-8 лет)',\n",
        "    3: u'1 - 3-й класс (возраст примерно: 6-8 лет)',\n",
        "    4: u'4 - 6-й класс (возраст примерно: 9-11 лет)',\n",
        "    5: u'4 - 6-й класс (возраст примерно: 9-11 лет)',\n",
        "    6: u'4 - 6-й класс (возраст примерно: 9-11 лет)',\n",
        "    7: u'7 - 9-й класс (возраст примерно: 12-14 лет)',\n",
        "    8: u'7 - 9-й класс (возраст примерно: 12-14 лет)',\n",
        "    9: u'7 - 9-й класс (возраст примерно: 12-14 лет)',\n",
        "    10: u'10 - 11-й класс (возраст примерно: 15-16 лет)',\n",
        "    11: u'10 - 11-й класс (возраст примерно: 15-16 лет)',\n",
        "    12: u'1 - 3 курсы ВУЗа (возраст примерно: 17-19 лет)',\n",
        "    13: u'1 - 3 курсы ВУЗа (возраст примерно: 17-19 лет)',\n",
        "    14: u'1 - 3 курсы ВУЗа (возраст примерно: 17-19 лет)',\n",
        "    15: u'4 - 6 курсы ВУЗа (возраст примерно: 20-22 лет)',\n",
        "    16: u'4 - 6 курсы ВУЗа (возраст примерно: 20-22 лет)',\n",
        "    17: u'4 - 6 курсы ВУЗа (возраст примерно: 20-22 лет)',\n",
        "}\n",
        "\n",
        "POST_GRADE_TEXT_18_24 = u'Аспирантура, второе высшее образование, phD'\n",
        "\n",
        "\n",
        "def calc_SMOG(n_psyl, n_sent):\n",
        "    \"\"\"Метрика SMOG для английского языка\"\"\"\n",
        "    n = 1.0430 * sqrt((float(30.0) / n_sent) * n_psyl) + 3.1291\n",
        "    return n\n",
        "\n",
        "def calc_Gunning_fog(n_psyl, n_words, n_sent):\n",
        "    \"\"\"Метрика Gunning fog для английского языка\"\"\"\n",
        "    n = 0.4 * ((float(n_words)/ n_sent) + 100 * (float(n_psyl) / n_words))\n",
        "    return n\n",
        "\n",
        "def calc_Dale_Chale(n_psyl, n_words, n_sent):\n",
        "    \"\"\"Метрика Dale Chale для английского языка\"\"\"\n",
        "    n = 0.1579 * (100.0 * n_psyl / n_words) + 0.0496 * (float(n_words) / n_sent)\n",
        "    return n\n",
        "\n",
        "def calc_Flesh_Kincaid(n_syllabes, n_words, n_sent):\n",
        "    \"\"\"Метрика Flesh Kincaid для английского языка\"\"\"\n",
        "    n = 206.835 - 1.015 * (float(n_words) / n_sent) - 84.6 * (float(n_syllabes) / n_words)\n",
        "    return n\n",
        "\n",
        "\n",
        "def calc_Flesh_Kincaid_rus(n_syllabes, n_words, n_sent):\n",
        "    \"\"\"Метрика Flesh Kincaid для русского языка\"\"\"\n",
        "    n = 220.755 - 1.315 * (float(n_words) / n_sent) - 50.1 * (float(n_syllabes) / n_words)\n",
        "    return n\n",
        "\n",
        "def calc_Flesh_Kincaid_Grade_rus(n_syllabes, n_words, n_sent):\n",
        "    \"\"\"Метрика Flesh Kincaid Grade для русского языка\"\"\"\n",
        "#    n = 0.59 * (float(n_words) / n_sent) + 6.2 * (float(n_syllabes) / n_words) - 16.59\n",
        "    n = 0.49 * (float(n_words) / n_sent) + 7.3 * (float(n_syllabes) / n_words) - 16.59\n",
        "    return n\n",
        "\n",
        "\n",
        "\n",
        "def calc_Flesh_Kincaid_Grade_rus_adapted(n_syllabes, n_words, n_sent, X, Y, Z):\n",
        "    \"\"\"Метрика Flesh Kincaid Grade для русского языка с параметрами\"\"\"\n",
        "#    n = 0.59 * (float(n_words) / n_sent) + 6.2 * (float(n_syllabes) / n_words) - 16.59\n",
        "    if n_words == 0 or n_sent == 0: return 0\n",
        "    n = X * (float(n_words) / n_sent) + Y * (float(n_syllabes) / n_words) - Z\n",
        "    return n\n",
        "\n",
        "\n",
        "#X_GRADE = 0.186\n",
        "#Y_GRADE = 7.21\n",
        "#Z_GRADE = 15.443\n",
        "\n",
        "# Flesh Kinkaid Grade константы. Подробнее http://en.wikipedia.org/wiki/Flesch%E2%80%93Kincaid_readability_tests\n",
        "FLG_X_GRADE = 0.318\n",
        "FLG_Y_GRADE = 14.2\n",
        "FLG_Z_GRADE = 30.5\n",
        "\n",
        "def calc_Flesh_Kincaid_Grade_rus_flex(n_syllabes, n_words, n_sent):\n",
        "    \"\"\"Метрика Flesh Kincaid Grade для русского языка с константными параметрами\"\"\"\n",
        "    if n_words == 0 or n_sent == 0: return 0\n",
        "    n = FLG_X_GRADE * (float(n_words) / n_sent) + FLG_Y_GRADE * (float(n_syllabes) / n_words) - FLG_Z_GRADE\n",
        "    return n\n",
        "\n",
        "\n",
        "# Coleman Liau константы. Подробнее http://en.wikipedia.org/wiki/Coleman%E2%80%93Liau_index\n",
        "\n",
        "CLI_X_GRADE = 0.055\n",
        "CLI_Y_GRADE = 0.35\n",
        "CLI_Z_GRADE = 20.33\n",
        "\n",
        "\n",
        "def calc_Coleman_Liau_index_adapted(n_letters, n_words, n_sent, x, y, z):\n",
        "    \"\"\" Метрика Coleman Liau для русского языка с адаптированными параметрами \"\"\"\n",
        "    if n_words == 0: return 0\n",
        "    n = x * (n_letters * (100.0 / n_words)) - y * (n_sent * (100.0 / n_words)) - z\n",
        "    return n\n",
        "\n",
        "def calc_Coleman_Liau_index(n_letters, n_words, n_sent):\n",
        "    \"\"\" Метрика Coleman Liau для русского языка с константными параметрами \"\"\"\n",
        "    if n_words == 0: return 0\n",
        "    n = CLI_X_GRADE * (n_letters * (100.0 / n_words)) - CLI_Y_GRADE * (n_sent * (100.0 / n_words)) - CLI_Z_GRADE\n",
        "    return n\n",
        "\n",
        "\n",
        "# Константы SMOG Index http://en.wikipedia.org/wiki/SMOG\n",
        "SMOG_X_GRADE = 1.1\n",
        "SMOG_Y_GRADE = 64.6\n",
        "SMOG_Z_GRADE = 0.05\n",
        "\n",
        "def calc_SMOG_index(n_psyl, n_sent):\n",
        "    \"\"\"Метрика SMOG для русского языка с константными параментрами\"\"\"\n",
        "    n = SMOG_X_GRADE * sqrt((float(SMOG_Y_GRADE) / n_sent) * n_psyl) + SMOG_Z_GRADE\n",
        "    return n\n",
        "\n",
        "def calc_SMOG_index_adapted(n_psyl, n_sent, x, y, z):\n",
        "    \"\"\"Метрика SMOG для русского языка адаптированная с коэффициентами\"\"\"\n",
        "    n = x * sqrt((float(y) / n_sent) * n_psyl) + z\n",
        "    return n\n",
        "\n",
        "DC_X_GRADE = 0.552\n",
        "DC_Y_GRADE = 0.273\n",
        "\n",
        "def calc_Dale_Chale_index(n_psyl, n_words, n_sent):\n",
        "    \"\"\"Метрика Dale Chale для русского языка с константным параметрами\"\"\"\n",
        "    n = DC_X_GRADE * (100.0 * n_psyl / n_words) + DC_Y_GRADE * (float(n_words) / n_sent)\n",
        "    return n\n",
        "\n",
        "\n",
        "def calc_Dale_Chale_adapted(n_psyl, n_words, n_sent, x, y):\n",
        "    \"\"\"Метрика Dale Chale для русского языка с адаптированными параметрами\"\"\"\n",
        "    n = x * (100.0 * n_psyl / n_words) + y * (float(n_words) / n_sent)\n",
        "    return n\n",
        "\n",
        "ARI_X_GRADE = 6.26\n",
        "ARI_Y_GRADE = 0.2805\n",
        "ARI_Z_GRADE = 31.04\n",
        "\n",
        "\n",
        "def calc_ARI_index_adapted(n_letters, n_words, n_sent, x, y, z):\n",
        "    \"\"\" Метрика Automated Readability Index (ARI) для русского языка с адаптированными параметрами \"\"\"\n",
        "    if n_words == 0 or n_sent == 0: return 0\n",
        "    n = x * (float(n_letters) / n_words) + y * (float(n_words) / n_sent) - z\n",
        "    return n\n",
        "\n",
        "def calc_ARI_index(n_letters, n_words, n_sent):\n",
        "    \"\"\" Метрика Automated Readability Index (ARI) для русского языка с константными параметрами \"\"\"\n",
        "    if n_words == 0 or n_sent == 0: return 0\n",
        "    n = ARI_X_GRADE * (float(n_letters) / n_words) + ARI_Y_GRADE * (float(n_words) / n_sent) - ARI_Z_GRADE\n",
        "    return n\n",
        "\n",
        "\n",
        "def load_words(filename):\n",
        "    \"\"\"Load words from filename\"\"\"\n",
        "    words = []\n",
        "    f = open(filename, 'r')\n",
        "    for l in f:\n",
        "        words.append(l.strip().decode('utf8'))\n",
        "    f.close()\n",
        "    return words\n",
        "\n",
        "#FAM_WORDS = load_words('1norm50000.txt')\n",
        "\n",
        "bad_chars = '(){}<>\"\\'!?,.:;'\n",
        "\n",
        "\n",
        "def calc_text_metrics(filename, verbose=True):\n",
        "    \"\"\"Расчет метрик\"\"\"\n",
        "    f = open(filename, 'r')\n",
        "    text = f.read().decode('utf8')    \n",
        "    f.close()\n",
        "    return calc_readability_metrics(text, verbose)\n",
        "\n",
        "\n",
        "# Number of syllabes for long words\n",
        "COMPLEX_SYL_FACTOR = 4\n",
        "\n",
        "def calc_readability_metrics(text, verbose=True):\n",
        "    sentences = 0\n",
        "    chars = 0\n",
        "    spaces = 0\n",
        "    letters = 0\n",
        "    syllabes = 0\n",
        "    words = 0\n",
        "    complex_words = 0\n",
        "    simple_words = 0\n",
        "    wsyllabes = {}\n",
        "\n",
        "    wordStart = False\n",
        "    for l in text.splitlines():\n",
        "        chars += len(l)\n",
        "#        l = l.decode('utf8')\n",
        "        for ch in l:\n",
        "            if ch in SENTENCE_SPLITTERS:\n",
        "                sentences += 1\n",
        "            if ch in SPACES:\n",
        "                spaces += 1\n",
        "\n",
        "        for w in l.split():\n",
        "            has_syl = False\n",
        "            wsyl = 0\n",
        "#            if len(w) > 1: words += 1\n",
        "            for ch in w:\n",
        "                if ch in RU_LETTERS:\n",
        "                    letters += 1\n",
        "                if ch in RU_VOWELS:\n",
        "                    syllabes += 1\n",
        "                    has_syl = True\n",
        "                    wsyl += 1\n",
        "            if wsyl > COMPLEX_SYL_FACTOR:\n",
        "                complex_words += 1\n",
        "            elif wsyl < COMPLEX_SYL_FACTOR+1 and wsyl > 0:\n",
        "                simple_words += 1\n",
        "            if has_syl:\n",
        "                words += 1\n",
        "                v = wsyllabes.get(str(wsyl), 0)\n",
        "                wsyllabes[str(wsyl)] = v + 1\n",
        "    metrics = {'c_share': float(complex_words) * 100 / words if words > 0 else 0,\n",
        "               'avg_slen' : float(words) / sentences if sentences > 0 else 0,\n",
        "               'avg_syl' : float(syllabes) / words if words > 0 else 0,\n",
        "               'n_syllabes': syllabes,\n",
        "               'n_words' : words,\n",
        "               'n_sentences': sentences,\n",
        "               'n_complex_words': complex_words,\n",
        "               'n_simple_words' : simple_words,\n",
        "               'chars': chars,\n",
        "               'letters' : letters,\n",
        "               'spaces' : spaces,\n",
        "               'index_fk_rus': calc_Flesh_Kincaid_Grade_rus_flex(syllabes, words, sentences),\n",
        "               'index_cl_rus' : calc_Coleman_Liau_index(letters, words, sentences),\n",
        "               'index_dc_rus' : calc_Dale_Chale_index(complex_words, words, sentences),\n",
        "               'index_SMOG_rus' : calc_SMOG_index(complex_words, sentences),\n",
        "               'index_ari_rus' : calc_ARI_index(letters, words, sentences),\n",
        "#               'index_fk_rus': calc_Flesh_Kincaid_Grade_rus(syllabes, words, sentences),\n",
        "               'wsyllabes' : wsyllabes\n",
        "    }\n",
        "    del text\n",
        "    return metrics"
      ],
      "execution_count": null,
      "outputs": []
    },
    {
      "cell_type": "code",
      "metadata": {
        "colab": {
          "base_uri": "https://localhost:8080/"
        },
        "id": "z5VfXG-lNh98",
        "outputId": "8d053bb9-0a36-4905-8b0c-983a1a79b664"
      },
      "source": [
        "a,b = '\\n'.join(list(df_test_mt['target_x'].values)), '\\n'.join(list(df_test_mt['target_y'].values))\n",
        "src, dst = calc_readability_metrics(a), calc_readability_metrics(b)\n",
        "src, dst"
      ],
      "execution_count": null,
      "outputs": [
        {
          "output_type": "execute_result",
          "data": {
            "text/plain": [
              "({'avg_slen': 13.623906705539358,\n",
              "  'avg_syl': 2.789000641985876,\n",
              "  'c_share': 12.261930237534774,\n",
              "  'chars': 39562,\n",
              "  'index_SMOG_rus': 11.47718333406957,\n",
              "  'index_ari_rus': 13.508345120439422,\n",
              "  'index_cl_rus': 12.883353306227264,\n",
              "  'index_dc_rus': 10.487912021731441,\n",
              "  'index_fk_rus': 13.436211448560961,\n",
              "  'letters': 30402,\n",
              "  'n_complex_words': 573,\n",
              "  'n_sentences': 343,\n",
              "  'n_simple_words': 4100,\n",
              "  'n_syllabes': 13033,\n",
              "  'n_words': 4673,\n",
              "  'spaces': 5260,\n",
              "  'wsyllabes': {'1': 973,\n",
              "   '10': 1,\n",
              "   '2': 1230,\n",
              "   '3': 1149,\n",
              "   '4': 748,\n",
              "   '5': 355,\n",
              "   '6': 154,\n",
              "   '7': 52,\n",
              "   '8': 11}},\n",
              " {'avg_slen': 12.621468926553673,\n",
              "  'avg_syl': 2.7309758281110117,\n",
              "  'c_share': 11.078782452999105,\n",
              "  'chars': 37032,\n",
              "  'index_SMOG_rus': 10.50465997793507,\n",
              "  'index_ari_rus': 12.355281747416662,\n",
              "  'index_cl_rus': 11.91328558639212,\n",
              "  'index_dc_rus': 9.56114893100466,\n",
              "  'index_fk_rus': 12.293483877820428,\n",
              "  'letters': 28446,\n",
              "  'n_complex_words': 495,\n",
              "  'n_sentences': 354,\n",
              "  'n_simple_words': 3973,\n",
              "  'n_syllabes': 12202,\n",
              "  'n_words': 4468,\n",
              "  'spaces': 4968,\n",
              "  'wsyllabes': {'1': 954,\n",
              "   '10': 2,\n",
              "   '2': 1232,\n",
              "   '3': 1092,\n",
              "   '4': 695,\n",
              "   '5': 316,\n",
              "   '6': 121,\n",
              "   '7': 47,\n",
              "   '8': 8,\n",
              "   '9': 1}})"
            ]
          },
          "metadata": {
            "tags": []
          },
          "execution_count": 39
        }
      ]
    },
    {
      "cell_type": "code",
      "metadata": {
        "colab": {
          "base_uri": "https://localhost:8080/"
        },
        "id": "_s-8RbYxNxq7",
        "outputId": "11645993-5087-41ce-ed7a-b1d4690538ea"
      },
      "source": [
        "a,b = '\\n'.join(list(df_val_mt['target_x'].values)), '\\n'.join(list(df_val_mt['target_y'].values))\n",
        "src, dst = calc_readability_metrics(a), calc_readability_metrics(b)\n",
        "src, dst"
      ],
      "execution_count": null,
      "outputs": [
        {
          "output_type": "execute_result",
          "data": {
            "text/plain": [
              "({'avg_slen': 14.151111111111112,\n",
              "  'avg_syl': 2.7993875628140703,\n",
              "  'c_share': 12.821922110552764,\n",
              "  'chars': 110547,\n",
              "  'index_SMOG_rus': 11.959150450155732,\n",
              "  'index_ari_rus': 13.796333902847572,\n",
              "  'index_cl_rus': 13.102160804020102,\n",
              "  'index_dc_rus': 10.940954338358459,\n",
              "  'index_fk_rus': 13.751356725293128,\n",
              "  'letters': 83144,\n",
              "  'n_complex_words': 1633,\n",
              "  'n_sentences': 900,\n",
              "  'n_simple_words': 11103,\n",
              "  'n_syllabes': 35653,\n",
              "  'n_words': 12736,\n",
              "  'spaces': 14878,\n",
              "  'wsyllabes': {'1': 2542,\n",
              "   '10': 4,\n",
              "   '11': 2,\n",
              "   '2': 3477,\n",
              "   '3': 3202,\n",
              "   '4': 1882,\n",
              "   '5': 1013,\n",
              "   '6': 460,\n",
              "   '7': 110,\n",
              "   '8': 30,\n",
              "   '9': 14}},\n",
              " {'avg_slen': 10.148261758691207,\n",
              "  'avg_syl': 2.7216120906801007,\n",
              "  'c_share': 10.780856423173804,\n",
              "  'chars': 84154,\n",
              "  'index_SMOG_rus': 9.297650450509348,\n",
              "  'index_ari_rus': 11.335727977469055,\n",
              "  'index_cl_rus': 10.951209068010083,\n",
              "  'index_dc_rus': 8.72150820571464,\n",
              "  'index_fk_rus': 11.37403892692123,\n",
              "  'letters': 62672,\n",
              "  'n_complex_words': 1070,\n",
              "  'n_sentences': 978,\n",
              "  'n_simple_words': 8855,\n",
              "  'n_syllabes': 27012,\n",
              "  'n_words': 9925,\n",
              "  'spaces': 11502,\n",
              "  'wsyllabes': {'1': 2001,\n",
              "   '10': 2,\n",
              "   '11': 1,\n",
              "   '2': 2867,\n",
              "   '3': 2535,\n",
              "   '4': 1452,\n",
              "   '5': 669,\n",
              "   '6': 322,\n",
              "   '7': 56,\n",
              "   '8': 16,\n",
              "   '9': 4}})"
            ]
          },
          "metadata": {
            "tags": []
          },
          "execution_count": 40
        }
      ]
    },
    {
      "cell_type": "code",
      "metadata": {
        "colab": {
          "base_uri": "https://localhost:8080/"
        },
        "id": "vW5XMsZpN0U1",
        "outputId": "d82aa83c-d3d2-4072-98a5-5f3eaef12f8e"
      },
      "source": [
        "a,b = '\\n'.join(list(df_train_mt['target_x'].values)), '\\n'.join(list(df_train_mt['target_y'].values))\n",
        "src, dst = calc_readability_metrics(a), calc_readability_metrics(b)\n",
        "src, dst"
      ],
      "execution_count": null,
      "outputs": [
        {
          "output_type": "execute_result",
          "data": {
            "text/plain": [
              "({'avg_slen': 13.049542555561745,\n",
              "  'avg_syl': 2.7694332731752147,\n",
              "  'c_share': 12.116218548708735,\n",
              "  'chars': 32549775,\n",
              "  'index_SMOG_rus': 11.167064806039756,\n",
              "  'index_ari_rus': 13.080458957824057,\n",
              "  'index_cl_rus': 12.535891680705788,\n",
              "  'index_dc_rus': 10.250677756555579,\n",
              "  'index_fk_rus': 12.975707011756683,\n",
              "  'letters': 24227272,\n",
              "  'n_complex_words': 454171,\n",
              "  'n_sentences': 287248,\n",
              "  'n_simple_words': 3294284,\n",
              "  'n_syllabes': 10381096,\n",
              "  'n_words': 3748455,\n",
              "  'spaces': 4426893,\n",
              "  'wsyllabes': {'1': 761801,\n",
              "   '10': 591,\n",
              "   '11': 170,\n",
              "   '12': 86,\n",
              "   '13': 17,\n",
              "   '14': 11,\n",
              "   '15': 2,\n",
              "   '2': 1025158,\n",
              "   '3': 952200,\n",
              "   '4': 555125,\n",
              "   '43': 1,\n",
              "   '5': 290202,\n",
              "   '6': 121861,\n",
              "   '7': 31819,\n",
              "   '8': 6989,\n",
              "   '9': 2422}},\n",
              " {'avg_slen': 10.103324336138884,\n",
              "  'avg_syl': 2.7021020808595124,\n",
              "  'c_share': 10.662112890697701,\n",
              "  'chars': 24845256,\n",
              "  'index_SMOG_rus': 9.226197025142815,\n",
              "  'index_ari_rus': 11.21290988485832,\n",
              "  'index_cl_rus': 10.839036612660973,\n",
              "  'index_dc_rus': 8.643693859431046,\n",
              "  'index_fk_rus': 11.082706687097243,\n",
              "  'letters': 18337748,\n",
              "  'n_complex_words': 310498,\n",
              "  'n_sentences': 288238,\n",
              "  'n_simple_words': 2601664,\n",
              "  'n_syllabes': 7868959,\n",
              "  'n_words': 2912162,\n",
              "  'spaces': 3402524,\n",
              "  'wsyllabes': {'1': 602545,\n",
              "   '10': 359,\n",
              "   '11': 113,\n",
              "   '12': 52,\n",
              "   '13': 9,\n",
              "   '14': 6,\n",
              "   '15': 5,\n",
              "   '18': 1,\n",
              "   '2': 842260,\n",
              "   '22': 2,\n",
              "   '3': 741520,\n",
              "   '4': 415339,\n",
              "   '5': 202202,\n",
              "   '6': 81952,\n",
              "   '7': 20285,\n",
              "   '8': 4142,\n",
              "   '9': 1370}})"
            ]
          },
          "metadata": {
            "tags": []
          },
          "execution_count": 41
        }
      ]
    },
    {
      "cell_type": "code",
      "metadata": {
        "id": "FnDmty2HYrOE"
      },
      "source": [
        "df_train_mt.to_csv('/content/drive/MyDrive/MT_sentence_simpl/MT_WikiLarge_train_CosSImFKG.csv')\n",
        "df_val_mt.to_csv('/content/drive/MyDrive/MT_sentence_simpl/MT_WikiLarge_val_CosSImFKG.csv')\n",
        "df_test_mt.to_csv('/content/drive/MyDrive/MT_sentence_simpl/T_WikiLarge_test_CosSImFKG.csv')\n"
      ],
      "execution_count": null,
      "outputs": []
    },
    {
      "cell_type": "markdown",
      "metadata": {
        "id": "OqouzP1QY5WU"
      },
      "source": [
        "### Grammar Checker"
      ]
    },
    {
      "cell_type": "code",
      "metadata": {
        "colab": {
          "base_uri": "https://localhost:8080/"
        },
        "id": "sh8oHMrHY5ij",
        "outputId": "fe9a4a7d-9fb6-4208-89de-604e7f12b64d"
      },
      "source": [
        "tool = language_tool_python.LanguageTool('ru')"
      ],
      "execution_count": null,
      "outputs": [
        {
          "output_type": "stream",
          "text": [
            "Downloading LanguageTool: 100%|██████████| 190M/190M [00:29<00:00, 6.41MB/s]\n",
            "Unzipping /tmp/tmp0jh8ozwi.zip to /root/.cache/language_tool_python.\n",
            "Downloaded https://www.languagetool.org/download/LanguageTool-5.2.zip to /root/.cache/language_tool_python.\n"
          ],
          "name": "stderr"
        }
      ]
    },
    {
      "cell_type": "code",
      "metadata": {
        "id": "pWFTD0MVY5sX"
      },
      "source": [
        "def get_mistakes_summary(df_test):\n",
        "    src_test = list(df_test['target_x'].values)\n",
        "    dst_test =list(df_test['target_y'].values)\n",
        "    matches_src = []\n",
        "    for i in src_test:\n",
        "      matches_src.extend(tool.check(i))\n",
        "    matches_src\n",
        "\n",
        "    matches_dst = []\n",
        "    for i in dst_test:\n",
        "      matches_dst.extend(tool.check(i))\n",
        "    matches_dst\n",
        "\n",
        "    categories = set([i.category for i in matches_src+matches_dst])\n",
        "\n",
        "    categories_src = {i:0 for i in categories}\n",
        "    categories_dst = {i:0 for i in categories}\n",
        "\n",
        "    for i in matches_src:\n",
        "      categories_src[i.category]+=1\n",
        "\n",
        "    for i in matches_dst:\n",
        "      categories_dst[i.category]+=1\n",
        "      \n",
        "    return categories_src, categories_dst"
      ],
      "execution_count": null,
      "outputs": []
    },
    {
      "cell_type": "code",
      "metadata": {
        "id": "aNBdX9T6ZH9I"
      },
      "source": [
        "src_errors, dst_errors = get_mistakes_summary(df_test_mt)"
      ],
      "execution_count": null,
      "outputs": []
    },
    {
      "cell_type": "code",
      "metadata": {
        "colab": {
          "base_uri": "https://localhost:8080/"
        },
        "id": "4d9IzUlgZNJV",
        "outputId": "49df2cce-680b-4ed5-8e25-517e2e628f68"
      },
      "source": [
        "src_errors"
      ],
      "execution_count": null,
      "outputs": [
        {
          "output_type": "execute_result",
          "data": {
            "text/plain": [
              "{'CASING': 1,\n",
              " 'GRAMMAR': 2,\n",
              " 'LOGIC': 1,\n",
              " 'PUNCTUATION': 11,\n",
              " 'STYLE': 6,\n",
              " 'TYPOGRAPHY': 62,\n",
              " 'TYPOS': 237}"
            ]
          },
          "metadata": {
            "tags": []
          },
          "execution_count": 14
        }
      ]
    },
    {
      "cell_type": "code",
      "metadata": {
        "colab": {
          "base_uri": "https://localhost:8080/"
        },
        "id": "mvY8oMXgZOSY",
        "outputId": "a0ea3c98-59c6-4145-9387-d2f19a132bdf"
      },
      "source": [
        "dst_errors"
      ],
      "execution_count": null,
      "outputs": [
        {
          "output_type": "execute_result",
          "data": {
            "text/plain": [
              "{'CASING': 1,\n",
              " 'GRAMMAR': 3,\n",
              " 'LOGIC': 0,\n",
              " 'PUNCTUATION': 10,\n",
              " 'STYLE': 6,\n",
              " 'TYPOGRAPHY': 49,\n",
              " 'TYPOS': 242}"
            ]
          },
          "metadata": {
            "tags": []
          },
          "execution_count": 15
        }
      ]
    },
    {
      "cell_type": "code",
      "metadata": {
        "id": "NuJOuFjkZI_t"
      },
      "source": [
        "src_errors, dst_errors = get_mistakes_summary(df_val_mt)"
      ],
      "execution_count": null,
      "outputs": []
    },
    {
      "cell_type": "code",
      "metadata": {
        "colab": {
          "base_uri": "https://localhost:8080/"
        },
        "id": "5sN1tleSZQLm",
        "outputId": "46c7ef8b-c101-4a15-a52e-efe306e04999"
      },
      "source": [
        "src_errors"
      ],
      "execution_count": null,
      "outputs": [
        {
          "output_type": "execute_result",
          "data": {
            "text/plain": [
              "{'CASING': 4,\n",
              " 'GRAMMAR': 28,\n",
              " 'LOGIC': 1,\n",
              " 'MISC': 4,\n",
              " 'PUNCTUATION': 37,\n",
              " 'STYLE': 10,\n",
              " 'TYPOGRAPHY': 141,\n",
              " 'TYPOS': 797}"
            ]
          },
          "metadata": {
            "tags": []
          },
          "execution_count": 17
        }
      ]
    },
    {
      "cell_type": "code",
      "metadata": {
        "colab": {
          "base_uri": "https://localhost:8080/"
        },
        "id": "3aznvpOtZQpW",
        "outputId": "a5889f12-9175-4c7c-beae-fbbfab5e5b93"
      },
      "source": [
        "dst_errors"
      ],
      "execution_count": null,
      "outputs": [
        {
          "output_type": "execute_result",
          "data": {
            "text/plain": [
              "{'CASING': 4,\n",
              " 'GRAMMAR': 17,\n",
              " 'LOGIC': 0,\n",
              " 'MISC': 6,\n",
              " 'PUNCTUATION': 13,\n",
              " 'STYLE': 7,\n",
              " 'TYPOGRAPHY': 120,\n",
              " 'TYPOS': 631}"
            ]
          },
          "metadata": {
            "tags": []
          },
          "execution_count": 18
        }
      ]
    },
    {
      "cell_type": "code",
      "metadata": {
        "id": "diyY2yVsZKdC"
      },
      "source": [
        "src_errors, dst_errors = get_mistakes_summary(df_train_mt)"
      ],
      "execution_count": null,
      "outputs": []
    },
    {
      "cell_type": "code",
      "metadata": {
        "colab": {
          "base_uri": "https://localhost:8080/"
        },
        "id": "4BgttK9_ZRZL",
        "outputId": "cc77ca8e-bfff-48ac-d0e6-453f6c796224"
      },
      "source": [
        "src_errors"
      ],
      "execution_count": null,
      "outputs": [
        {
          "output_type": "execute_result",
          "data": {
            "text/plain": [
              "{'CASING': 1297,\n",
              " 'EXTEND': 62,\n",
              " 'GRAMMAR': 6611,\n",
              " 'LOGIC': 362,\n",
              " 'MISC': 2384,\n",
              " 'PUNCTUATION': 10517,\n",
              " 'STYLE': 3211,\n",
              " 'TYPOGRAPHY': 46870,\n",
              " 'TYPOS': 235762}"
            ]
          },
          "metadata": {
            "tags": []
          },
          "execution_count": 12
        }
      ]
    },
    {
      "cell_type": "code",
      "metadata": {
        "colab": {
          "base_uri": "https://localhost:8080/"
        },
        "id": "ogpKLDOXZTfI",
        "outputId": "1eed0998-703c-43d3-86f4-0953df3f9948"
      },
      "source": [
        "dst_errors"
      ],
      "execution_count": null,
      "outputs": [
        {
          "output_type": "execute_result",
          "data": {
            "text/plain": [
              "{'CASING': 1019,\n",
              " 'EXTEND': 25,\n",
              " 'GRAMMAR': 4987,\n",
              " 'LOGIC': 252,\n",
              " 'MISC': 1779,\n",
              " 'PUNCTUATION': 6954,\n",
              " 'STYLE': 1981,\n",
              " 'TYPOGRAPHY': 38058,\n",
              " 'TYPOS': 184223}"
            ]
          },
          "metadata": {
            "tags": []
          },
          "execution_count": 13
        }
      ]
    },
    {
      "cell_type": "code",
      "metadata": {
        "colab": {
          "base_uri": "https://localhost:8080/"
        },
        "id": "nKbFDV6RR2qd",
        "outputId": "09594f02-46f8-4faa-8e98-8cffcb0b2c53"
      },
      "source": [
        "src_errors = {'CASING': 1297,\n",
        " 'EXTEND': 62,\n",
        " 'GRAMMAR': 6611,\n",
        " 'LOGIC': 362,\n",
        " 'MISC': 2384,\n",
        " 'PUNCTUATION': 10517,\n",
        " 'STYLE': 3211,\n",
        " 'TYPOGRAPHY': 46870,\n",
        " 'TYPOS': 235762}\n",
        "\n",
        "dst_errors = {'CASING': 1019,\n",
        " 'EXTEND': 25,\n",
        " 'GRAMMAR': 4987,\n",
        " 'LOGIC': 252,\n",
        " 'MISC': 1779,\n",
        " 'PUNCTUATION': 6954,\n",
        " 'STYLE': 1981,\n",
        " 'TYPOGRAPHY': 38058,\n",
        " 'TYPOS': 184223}\n",
        "\n",
        "common = {i:src_errors[i]+dst_errors[i] for i in src_errors.keys()}\n",
        "common"
      ],
      "execution_count": null,
      "outputs": [
        {
          "output_type": "execute_result",
          "data": {
            "text/plain": [
              "{'CASING': 2316,\n",
              " 'EXTEND': 87,\n",
              " 'GRAMMAR': 11598,\n",
              " 'LOGIC': 614,\n",
              " 'MISC': 4163,\n",
              " 'PUNCTUATION': 17471,\n",
              " 'STYLE': 5192,\n",
              " 'TYPOGRAPHY': 84928,\n",
              " 'TYPOS': 419985}"
            ]
          },
          "metadata": {
            "tags": []
          },
          "execution_count": 4
        }
      ]
    },
    {
      "cell_type": "markdown",
      "metadata": {
        "id": "w7csTJ1FZ_2d"
      },
      "source": [
        "# WikiLarge translated with Google API\n"
      ]
    },
    {
      "cell_type": "markdown",
      "metadata": {
        "id": "R3yEp2F4dHpd"
      },
      "source": [
        "### Cosine Similarity between original/simple sentences\n"
      ]
    },
    {
      "cell_type": "code",
      "metadata": {
        "id": "7FaTjddNaADk"
      },
      "source": [
        "df_train_gl, df_val_gl, df_test_gl"
      ],
      "execution_count": null,
      "outputs": []
    },
    {
      "cell_type": "code",
      "metadata": {
        "id": "71ucR4z4aAHF"
      },
      "source": [
        "device = \"cuda\" if torch.cuda.is_available() else \"cpu\"\n",
        "config = AutoConfig.from_pretrained(\"DeepPavlov/rubert-base-cased\") # \"roberta-base\" 'xlm-mlm-100-1280' 'xlm-roberta-base' 'bert-base-multilingual-cased'\n",
        "config.output_hidden_states = True\n",
        "\n",
        "tok = AutoTokenizer.from_pretrained(\"DeepPavlov/rubert-base-cased\")\n",
        "model = AutoModelForMaskedLM.from_pretrained(\"DeepPavlov/rubert-base-cased\", config=config)\n",
        "model.to(device)"
      ],
      "execution_count": null,
      "outputs": []
    },
    {
      "cell_type": "code",
      "metadata": {
        "id": "yiKoLlcFaALK"
      },
      "source": [
        "calc_cos_sim(df_test_gl, model, tok, 'target_x', 'target_y', 'cos_sim_x_y')\n",
        "calc_cos_sim(df_val_gl, model, tok, 'target_x', 'target_y', 'cos_sim_x_y')\n",
        "calc_cos_sim(df_train_gl, model, tok, 'target_x', 'target_y', 'cos_sim_x_y')"
      ],
      "execution_count": null,
      "outputs": []
    },
    {
      "cell_type": "code",
      "metadata": {
        "colab": {
          "base_uri": "https://localhost:8080/"
        },
        "id": "Yvs50k_cc_fi",
        "outputId": "4282e513-1994-437c-d608-484001d1d6da"
      },
      "source": [
        "df_train_gl.cos_sim_x_y.mean(), df_val_gl.cos_sim_x_y.mean(), df_test_gl.cos_sim_x_y.mean()"
      ],
      "execution_count": null,
      "outputs": [
        {
          "output_type": "execute_result",
          "data": {
            "text/plain": [
              "(0.8626444426285484, 0.8616611667481872, 0.9632613898956612)"
            ]
          },
          "metadata": {
            "tags": []
          },
          "execution_count": 18
        }
      ]
    },
    {
      "cell_type": "markdown",
      "metadata": {
        "id": "qosN5589GdhH"
      },
      "source": [
        "### Cosine Similarity between English sentences and their translations"
      ]
    },
    {
      "cell_type": "code",
      "metadata": {
        "id": "jffbXXiPGcO3"
      },
      "source": [
        "df_test_gl.src = df_test_gl.src.astype(str)\n",
        "df_test_gl.dst = df_test_gl.dst.astype(str)\n",
        "df_test_gl.target_x = df_test_gl.target_x.astype(str)\n",
        "df_test_gl.target_y = df_test_gl.target_y.astype(str)\n",
        "\n",
        "df_train_gl.src = df_train_gl.src.astype(str)\n",
        "df_train_gl.dst = df_train_gl.dst.astype(str)\n",
        "df_train_gl.target_x = df_train_gl.target_x.astype(str)\n",
        "df_train_gl.target_y = df_train_gl.target_y.astype(str)\n",
        "\n",
        "df_val_gl.src = df_val_gl.src.astype(str)\n",
        "df_val_gl.dst = df_val_gl.dst.astype(str)\n",
        "df_val_gl.target_x = df_val_gl.target_x.astype(str)\n",
        "df_val_gl.target_y = df_val_gl.target_y.astype(str)\n",
        "\n",
        "# device = torch.device('cuda' if torch.cuda.is_available() else 'cpu')\n",
        "# model = SentenceTransformer('LaBSE')\n",
        "# model.to(device)\n",
        "\n",
        "calc_cos_sim_(df_test_gl, model)\n",
        "calc_cos_sim_(df_val_gl, model)\n",
        "calc_cos_sim_(df_train_gl, model)"
      ],
      "execution_count": null,
      "outputs": []
    },
    {
      "cell_type": "code",
      "metadata": {
        "colab": {
          "base_uri": "https://localhost:8080/"
        },
        "id": "RvJa_JOuIVC_",
        "outputId": "7170db34-450b-4b13-aafd-824ed64fb842"
      },
      "source": [
        "df_train_gl.LABSE_orig.mean(), df_val_gl.LABSE_orig.mean(), df_test_gl.LABSE_orig.mean()"
      ],
      "execution_count": null,
      "outputs": [
        {
          "output_type": "execute_result",
          "data": {
            "text/plain": [
              "(0.8977616297411125, 0.8965500514023006, 0.8895553515382009)"
            ]
          },
          "metadata": {
            "tags": []
          },
          "execution_count": 15
        }
      ]
    },
    {
      "cell_type": "code",
      "metadata": {
        "colab": {
          "base_uri": "https://localhost:8080/"
        },
        "id": "GOMpf6-VIZNv",
        "outputId": "a8ad0c23-5fc3-479d-ff41-989dd4d2a96c"
      },
      "source": [
        "df_train_gl.LABSE_simpl.mean(), df_val_gl.LABSE_simpl.mean(), df_test_gl.LABSE_simpl.mean()"
      ],
      "execution_count": null,
      "outputs": [
        {
          "output_type": "execute_result",
          "data": {
            "text/plain": [
              "(0.8960233570680219, 0.8958086021399746, 0.8843331897095458)"
            ]
          },
          "metadata": {
            "tags": []
          },
          "execution_count": 17
        }
      ]
    },
    {
      "cell_type": "markdown",
      "metadata": {
        "id": "NnZ62CRedRVv"
      },
      "source": [
        "### Flesch Kincaid Grade Level\n"
      ]
    },
    {
      "cell_type": "code",
      "metadata": {
        "colab": {
          "base_uri": "https://localhost:8080/"
        },
        "id": "a0i1oTleVBJ0",
        "outputId": "6eae6eb0-06fe-49af-8120-b70e4427767b"
      },
      "source": [
        "a,b = '\\n'.join(list(df_train_gl['target_x'].values)), '\\n'.join(list(df_train_gl['target_y'].values))\n",
        "src, dst = calc_readability_metrics(a), calc_readability_metrics(b)\n",
        "src, dst"
      ],
      "execution_count": null,
      "outputs": [
        {
          "output_type": "execute_result",
          "data": {
            "text/plain": [
              "({'avg_slen': 13.511591525677904,\n",
              "  'avg_syl': 2.784873958058751,\n",
              "  'c_share': 12.364810921322636,\n",
              "  'chars': 34122843,\n",
              "  'index_SMOG_rus': 11.477623874423962,\n",
              "  'index_ari_rus': 13.366235887323278,\n",
              "  'index_cl_rus': 12.76482160401882,\n",
              "  'index_dc_rus': 10.514040115080164,\n",
              "  'index_fk_rus': 13.341896309599832,\n",
              "  'letters': 25721593,\n",
              "  'n_complex_words': 490185,\n",
              "  'n_sentences': 293404,\n",
              "  'n_simple_words': 3474170,\n",
              "  'n_syllabes': 11040229,\n",
              "  'n_words': 3964355,\n",
              "  'spaces': 4587774,\n",
              "  'wsyllabes': {'1': 789445,\n",
              "   '10': 608,\n",
              "   '11': 221,\n",
              "   '12': 65,\n",
              "   '13': 18,\n",
              "   '14': 9,\n",
              "   '15': 5,\n",
              "   '16': 1,\n",
              "   '2': 1084592,\n",
              "   '24': 1,\n",
              "   '26': 2,\n",
              "   '3': 1005366,\n",
              "   '4': 594767,\n",
              "   '5': 314475,\n",
              "   '6': 131371,\n",
              "   '7': 33599,\n",
              "   '8': 7468,\n",
              "   '9': 2342}},\n",
              " {'avg_slen': 10.390097483991022,\n",
              "  'avg_syl': 2.7183118297190982,\n",
              "  'c_share': 10.749788353653758,\n",
              "  'chars': 26185118,\n",
              "  'index_SMOG_rus': 9.393696260156942,\n",
              "  'index_ari_rus': 11.47905559530929,\n",
              "  'index_cl_rus': 11.097810945241413,\n",
              "  'index_dc_rus': 8.770379784346424,\n",
              "  'index_fk_rus': 11.404078981920335,\n",
              "  'letters': 19534688,\n",
              "  'n_complex_words': 331921,\n",
              "  'n_sentences': 297177,\n",
              "  'n_simple_words': 2755777,\n",
              "  'n_syllabes': 8393326,\n",
              "  'n_words': 3087698,\n",
              "  'spaces': 3556999,\n",
              "  'wsyllabes': {'1': 623794,\n",
              "   '10': 385,\n",
              "   '109': 1,\n",
              "   '11': 140,\n",
              "   '12': 50,\n",
              "   '13': 12,\n",
              "   '14': 6,\n",
              "   '17': 1,\n",
              "   '2': 893178,\n",
              "   '22': 2,\n",
              "   '24': 1,\n",
              "   '26': 1,\n",
              "   '3': 782754,\n",
              "   '4': 456051,\n",
              "   '5': 217922,\n",
              "   '6': 86478,\n",
              "   '7': 21006,\n",
              "   '8': 4504,\n",
              "   '9': 1412}})"
            ]
          },
          "metadata": {
            "tags": []
          },
          "execution_count": 42
        }
      ]
    },
    {
      "cell_type": "code",
      "metadata": {
        "colab": {
          "base_uri": "https://localhost:8080/"
        },
        "id": "igiZGHX8VFvQ",
        "outputId": "72eb65b0-fff4-4094-8c42-f3e5ac10318d"
      },
      "source": [
        "a,b = '\\n'.join(list(df_val_gl['target_x'].values)), '\\n'.join(list(df_val_gl['target_y'].values))\n",
        "src, dst = calc_readability_metrics(a), calc_readability_metrics(b)\n",
        "src, dst"
      ],
      "execution_count": null,
      "outputs": [
        {
          "output_type": "execute_result",
          "data": {
            "text/plain": [
              "({'avg_slen': 13.996651785714286,\n",
              "  'avg_syl': 2.811019854876007,\n",
              "  'c_share': 12.965473247747388,\n",
              "  'chars': 107527,\n",
              "  'index_SMOG_rus': 11.960094570513345,\n",
              "  'index_ari_rus': 13.790950388128728,\n",
              "  'index_cl_rus': 13.108202695159882,\n",
              "  'index_dc_rus': 10.97802717025656,\n",
              "  'index_fk_rus': 13.867417207096437,\n",
              "  'letters': 81947,\n",
              "  'n_complex_words': 1626,\n",
              "  'n_sentences': 896,\n",
              "  'n_simple_words': 10915,\n",
              "  'n_syllabes': 35253,\n",
              "  'n_words': 12541,\n",
              "  'spaces': 14359,\n",
              "  'wsyllabes': {'1': 2455,\n",
              "   '11': 2,\n",
              "   '2': 3420,\n",
              "   '3': 3124,\n",
              "   '4': 1916,\n",
              "   '5': 1046,\n",
              "   '6': 423,\n",
              "   '7': 120,\n",
              "   '8': 23,\n",
              "   '9': 12}},\n",
              " {'avg_slen': 10.470899470899472,\n",
              "  'avg_syl': 2.7488630621526022,\n",
              "  'c_share': 11.177362304194038,\n",
              "  'chars': 83869,\n",
              "  'index_SMOG_rus': 9.614683495566927,\n",
              "  'index_ari_rus': 11.798498115129497,\n",
              "  'index_cl_rus': 11.384552804446688,\n",
              "  'index_dc_rus': 9.028459547470664,\n",
              "  'index_fk_rus': 11.863601514312982,\n",
              "  'letters': 63071,\n",
              "  'n_complex_words': 1106,\n",
              "  'n_sentences': 945,\n",
              "  'n_simple_words': 8789,\n",
              "  'n_syllabes': 27200,\n",
              "  'n_words': 9895,\n",
              "  'spaces': 11328,\n",
              "  'wsyllabes': {'1': 1951,\n",
              "   '11': 1,\n",
              "   '2': 2835,\n",
              "   '3': 2493,\n",
              "   '4': 1510,\n",
              "   '5': 698,\n",
              "   '6': 313,\n",
              "   '7': 76,\n",
              "   '8': 13,\n",
              "   '9': 5}})"
            ]
          },
          "metadata": {
            "tags": []
          },
          "execution_count": 43
        }
      ]
    },
    {
      "cell_type": "code",
      "metadata": {
        "colab": {
          "base_uri": "https://localhost:8080/"
        },
        "id": "5vzt9m89VJJ4",
        "outputId": "490ec947-b984-4bd0-b4ba-97b17c7fcde5"
      },
      "source": [
        "a,b = '\\n'.join(list(df_test_gl['target_x'].values)), '\\n'.join(list(df_test_gl['target_y'].values))\n",
        "src, dst = calc_readability_metrics(a), calc_readability_metrics(b)\n",
        "src, dst"
      ],
      "execution_count": null,
      "outputs": [
        {
          "output_type": "execute_result",
          "data": {
            "text/plain": [
              "({'avg_slen': 13.751898734177216,\n",
              "  'avg_syl': 2.809646539027982,\n",
              "  'c_share': 12.794550810014728,\n",
              "  'chars': 45668,\n",
              "  'index_SMOG_rus': 11.777428630287249,\n",
              "  'index_ari_rus': 13.800124826159092,\n",
              "  'index_cl_rus': 13.132076583210605,\n",
              "  'index_dc_rus': 10.816860401558511,\n",
              "  'index_fk_rus': 13.770084651665698,\n",
              "  'letters': 35562,\n",
              "  'n_complex_words': 695,\n",
              "  'n_sentences': 395,\n",
              "  'n_simple_words': 4737,\n",
              "  'n_syllabes': 15262,\n",
              "  'n_words': 5432,\n",
              "  'spaces': 5972,\n",
              "  'wsyllabes': {'1': 1105,\n",
              "   '10': 2,\n",
              "   '11': 2,\n",
              "   '2': 1430,\n",
              "   '3': 1369,\n",
              "   '4': 833,\n",
              "   '5': 430,\n",
              "   '6': 177,\n",
              "   '7': 71,\n",
              "   '8': 10,\n",
              "   '9': 3}},\n",
              " {'avg_slen': 12.649880095923262,\n",
              "  'avg_syl': 2.7438862559241706,\n",
              "  'c_share': 11.639810426540285,\n",
              "  'chars': 43377,\n",
              "  'index_SMOG_rus': 10.77815654833856,\n",
              "  'index_ari_rus': 12.67672359439463,\n",
              "  'index_cl_rus': 12.194928909952608,\n",
              "  'index_dc_rus': 9.878592621637289,\n",
              "  'index_fk_rus': 12.485846704626816,\n",
              "  'letters': 33848,\n",
              "  'n_complex_words': 614,\n",
              "  'n_sentences': 417,\n",
              "  'n_simple_words': 4661,\n",
              "  'n_syllabes': 14474,\n",
              "  'n_words': 5275,\n",
              "  'spaces': 5741,\n",
              "  'wsyllabes': {'1': 1111,\n",
              "   '10': 2,\n",
              "   '11': 2,\n",
              "   '2': 1486,\n",
              "   '3': 1260,\n",
              "   '4': 804,\n",
              "   '5': 388,\n",
              "   '6': 157,\n",
              "   '7': 51,\n",
              "   '8': 12,\n",
              "   '9': 2}})"
            ]
          },
          "metadata": {
            "tags": []
          },
          "execution_count": 44
        }
      ]
    },
    {
      "cell_type": "code",
      "metadata": {
        "id": "RKqag3YveF4I"
      },
      "source": [
        "df_train_gl.to_csv('/content/drive/MyDrive/MT_sentence_simpl/Google_WikiLarge_train_CosSImFKG.csv')\n",
        "df_val_gl.to_csv('/content/drive/MyDrive/MT_sentence_simpl/Google_WikiLarge_val_CosSImFKG.csv')\n",
        "df_test_gl.to_csv('/content/drive/MyDrive/MT_sentence_simpl/Google_WikiLarge_test_CosSImFKG.csv')"
      ],
      "execution_count": null,
      "outputs": []
    },
    {
      "cell_type": "markdown",
      "metadata": {
        "id": "1A9NNm3aeSEG"
      },
      "source": [
        "### Grammar Checker"
      ]
    },
    {
      "cell_type": "code",
      "metadata": {
        "id": "Uvw4CrsHeTqG"
      },
      "source": [
        "tool = language_tool_python.LanguageTool('ru')"
      ],
      "execution_count": null,
      "outputs": []
    },
    {
      "cell_type": "code",
      "metadata": {
        "id": "Yv5jVOkQeTtp"
      },
      "source": [
        "# def get_mistakes_summary(df_test):\n",
        "#     src_test = list(df_test['target_x'].values)\n",
        "#     dst_test =list(df_test['target_y'].values)\n",
        "#     matches_src = []\n",
        "#     for i in src_test:\n",
        "#       matches_src.extend(tool.check(i))\n",
        "#     matches_src\n",
        "\n",
        "#     matches_dst = []\n",
        "#     for i in dst_test:\n",
        "#       matches_dst.extend(tool.check(i))\n",
        "#     matches_dst\n",
        "\n",
        "#     categories = set([i.category for i in matches_src+matches_dst])\n",
        "\n",
        "#     categories_src = {i:0 for i in categories}\n",
        "#     categories_dst = {i:0 for i in categories}\n",
        "\n",
        "#     for i in matches_src:\n",
        "#       categories_src[i.category]+=1\n",
        "\n",
        "#     for i in matches_dst:\n",
        "#       categories_dst[i.category]+=1\n",
        "      \n",
        "#     return categories_src, categories_dst"
      ],
      "execution_count": null,
      "outputs": []
    },
    {
      "cell_type": "code",
      "metadata": {
        "id": "mUhVy0xdeTxh"
      },
      "source": [
        "src_errors, dst_errors = get_mistakes_summary(df_test_gl)\n"
      ],
      "execution_count": null,
      "outputs": []
    },
    {
      "cell_type": "code",
      "metadata": {
        "colab": {
          "base_uri": "https://localhost:8080/"
        },
        "id": "75TmVtFMeT0a",
        "outputId": "f1c7270c-7785-43d8-a7db-dc6a6b9bacd5"
      },
      "source": [
        "src_errors"
      ],
      "execution_count": null,
      "outputs": [
        {
          "output_type": "execute_result",
          "data": {
            "text/plain": [
              "{'CASING': 2,\n",
              " 'GRAMMAR': 2,\n",
              " 'MISC': 1,\n",
              " 'PUNCTUATION': 2,\n",
              " 'STYLE': 6,\n",
              " 'TYPOGRAPHY': 37,\n",
              " 'TYPOS': 227}"
            ]
          },
          "metadata": {
            "tags": []
          },
          "execution_count": 33
        }
      ]
    },
    {
      "cell_type": "code",
      "metadata": {
        "colab": {
          "base_uri": "https://localhost:8080/"
        },
        "id": "wIAQKQXbejT5",
        "outputId": "8c4c5f1c-35c2-4fb1-e48a-3ddde0375bd5"
      },
      "source": [
        "dst_errors"
      ],
      "execution_count": null,
      "outputs": [
        {
          "output_type": "execute_result",
          "data": {
            "text/plain": [
              "{'CASING': 1,\n",
              " 'GRAMMAR': 1,\n",
              " 'MISC': 1,\n",
              " 'PUNCTUATION': 5,\n",
              " 'STYLE': 5,\n",
              " 'TYPOGRAPHY': 44,\n",
              " 'TYPOS': 234}"
            ]
          },
          "metadata": {
            "tags": []
          },
          "execution_count": 34
        }
      ]
    },
    {
      "cell_type": "code",
      "metadata": {
        "id": "x3vED9qdejX5"
      },
      "source": [
        "src_errors, dst_errors = get_mistakes_summary(df_val_gl)\n"
      ],
      "execution_count": null,
      "outputs": []
    },
    {
      "cell_type": "code",
      "metadata": {
        "colab": {
          "base_uri": "https://localhost:8080/"
        },
        "id": "dXVTYRMMelPE",
        "outputId": "8fea46b0-d213-4943-e341-b6aa5fa4b033"
      },
      "source": [
        "src_errors"
      ],
      "execution_count": null,
      "outputs": [
        {
          "output_type": "execute_result",
          "data": {
            "text/plain": [
              "{'CASING': 9,\n",
              " 'EXTEND': 1,\n",
              " 'GRAMMAR': 5,\n",
              " 'LOGIC': 2,\n",
              " 'MISC': 4,\n",
              " 'PUNCTUATION': 18,\n",
              " 'STYLE': 8,\n",
              " 'TYPOGRAPHY': 144,\n",
              " 'TYPOS': 716}"
            ]
          },
          "metadata": {
            "tags": []
          },
          "execution_count": 36
        }
      ]
    },
    {
      "cell_type": "code",
      "metadata": {
        "colab": {
          "base_uri": "https://localhost:8080/"
        },
        "id": "WdgO4Rg4elXg",
        "outputId": "66367c44-839c-4df6-858a-3a32b90d1499"
      },
      "source": [
        "dst_errors"
      ],
      "execution_count": null,
      "outputs": [
        {
          "output_type": "execute_result",
          "data": {
            "text/plain": [
              "{'CASING': 10,\n",
              " 'EXTEND': 0,\n",
              " 'GRAMMAR': 7,\n",
              " 'LOGIC': 0,\n",
              " 'MISC': 8,\n",
              " 'PUNCTUATION': 10,\n",
              " 'STYLE': 10,\n",
              " 'TYPOGRAPHY': 140,\n",
              " 'TYPOS': 568}"
            ]
          },
          "metadata": {
            "tags": []
          },
          "execution_count": 37
        }
      ]
    },
    {
      "cell_type": "code",
      "metadata": {
        "id": "iAtFIW2-elf7"
      },
      "source": [
        "src_errors, dst_errors = get_mistakes_summary(df_train_gl)"
      ],
      "execution_count": null,
      "outputs": []
    },
    {
      "cell_type": "code",
      "metadata": {
        "colab": {
          "base_uri": "https://localhost:8080/"
        },
        "id": "OQ0Ya34eetUn",
        "outputId": "94e8fa34-a699-47aa-99d8-86e83f9540b4"
      },
      "source": [
        "src_errors"
      ],
      "execution_count": null,
      "outputs": [
        {
          "output_type": "execute_result",
          "data": {
            "text/plain": [
              "{'CASING': 3605,\n",
              " 'EXTEND': 33,\n",
              " 'GRAMMAR': 3296,\n",
              " 'LOGIC': 305,\n",
              " 'MISC': 1921,\n",
              " 'PUNCTUATION': 4863,\n",
              " 'STYLE': 3391,\n",
              " 'TYPOGRAPHY': 41504,\n",
              " 'TYPOS': 221050}"
            ]
          },
          "metadata": {
            "tags": []
          },
          "execution_count": 9
        }
      ]
    },
    {
      "cell_type": "code",
      "metadata": {
        "colab": {
          "base_uri": "https://localhost:8080/"
        },
        "id": "r39Rq-7AetYj",
        "outputId": "2838d1b7-f9b8-4f6c-91a8-0aabef915e47"
      },
      "source": [
        "dst_errors"
      ],
      "execution_count": null,
      "outputs": [
        {
          "output_type": "execute_result",
          "data": {
            "text/plain": [
              "{'CASING': 1663,\n",
              " 'EXTEND': 19,\n",
              " 'GRAMMAR': 2328,\n",
              " 'LOGIC': 244,\n",
              " 'MISC': 1711,\n",
              " 'PUNCTUATION': 3447,\n",
              " 'STYLE': 1959,\n",
              " 'TYPOGRAPHY': 38674,\n",
              " 'TYPOS': 173040}"
            ]
          },
          "metadata": {
            "tags": []
          },
          "execution_count": 10
        }
      ]
    },
    {
      "cell_type": "code",
      "metadata": {
        "colab": {
          "base_uri": "https://localhost:8080/"
        },
        "id": "9Hv-SHJQThT5",
        "outputId": "87c673f0-395a-4349-b424-f8acb11b9d9c"
      },
      "source": [
        "src_errors = {'CASING': 3605,\n",
        " 'EXTEND': 33,\n",
        " 'GRAMMAR': 3296,\n",
        " 'LOGIC': 305,\n",
        " 'MISC': 1921,\n",
        " 'PUNCTUATION': 4863,\n",
        " 'STYLE': 3391,\n",
        " 'TYPOGRAPHY': 41504,\n",
        " 'TYPOS': 221050}\n",
        "\n",
        "dst_errors =  {'CASING': 1663,\n",
        " 'EXTEND': 19,\n",
        " 'GRAMMAR': 2328,\n",
        " 'LOGIC': 244,\n",
        " 'MISC': 1711,\n",
        " 'PUNCTUATION': 3447,\n",
        " 'STYLE': 1959,\n",
        " 'TYPOGRAPHY': 38674,\n",
        " 'TYPOS': 173040}\n",
        " \n",
        "common = {i:src_errors[i]+dst_errors[i] for i in src_errors.keys()}\n",
        "common"
      ],
      "execution_count": null,
      "outputs": [
        {
          "output_type": "execute_result",
          "data": {
            "text/plain": [
              "{'CASING': 5268,\n",
              " 'EXTEND': 52,\n",
              " 'GRAMMAR': 5624,\n",
              " 'LOGIC': 549,\n",
              " 'MISC': 3632,\n",
              " 'PUNCTUATION': 8310,\n",
              " 'STYLE': 5350,\n",
              " 'TYPOGRAPHY': 80178,\n",
              " 'TYPOS': 394090}"
            ]
          },
          "metadata": {
            "tags": []
          },
          "execution_count": 31
        }
      ]
    },
    {
      "cell_type": "code",
      "metadata": {
        "id": "bDI_qJE0p5sN"
      },
      "source": [
        "for i in common.keys():\n",
        "  common[i]/=df_train_gl.shape[0]"
      ],
      "execution_count": null,
      "outputs": []
    },
    {
      "cell_type": "code",
      "metadata": {
        "colab": {
          "base_uri": "https://localhost:8080/"
        },
        "id": "qvZ8doHXqdAA",
        "outputId": "7f1f7652-76b3-4a4d-f8b3-1894144abdd2"
      },
      "source": [
        "common"
      ],
      "execution_count": null,
      "outputs": [
        {
          "output_type": "execute_result",
          "data": {
            "text/plain": [
              "{'CASING': 0.02132983504603649,\n",
              " 'EXTEND': 0.00021054506879155229,\n",
              " 'GRAMMAR': 0.0227712589785325,\n",
              " 'LOGIC': 0.0022228700532031195,\n",
              " 'MISC': 0.014705763266363806,\n",
              " 'PUNCTUATION': 0.0336467215703423,\n",
              " 'STYLE': 0.021661848423746244,\n",
              " 'TYPOGRAPHY': 0.32463620241478996,\n",
              " 'TYPOS': 1.595648195385824}"
            ]
          },
          "metadata": {
            "tags": []
          },
          "execution_count": 33
        }
      ]
    },
    {
      "cell_type": "code",
      "metadata": {
        "id": "tyaY55TGIklm"
      },
      "source": [
        "# lexical diversity\n",
        "# https://shravan-kuchkula.github.io/Lexical-Diversity/#normalizing-text-to-understand-vocabulary\n",
        "# https://github.com/facebookresearch/asset\n",
        "# https://github.com/ddhruvkr/Edit-Unsup-TS\n",
        "# https://newtechaudit.ru/trenirovka-nlp-zadachi/\n",
        "# https://github.com/king-menin/mipt-nlp2021/blob/master/seminars/sem10/Summarization.ipynb"
      ],
      "execution_count": null,
      "outputs": []
    },
    {
      "cell_type": "markdown",
      "metadata": {
        "id": "B9dQLG95c9Fq"
      },
      "source": [
        "# Russian data evaluation"
      ]
    },
    {
      "cell_type": "code",
      "metadata": {
        "colab": {
          "base_uri": "https://localhost:8080/"
        },
        "id": "nKjeuGgZfXn9",
        "outputId": "fe6728f4-e38c-479b-f6ee-10890e9cf0f3"
      },
      "source": [
        "! gdown https://drive.google.com/uc?id=1IVz3XC8Rm7hQCyx3xCcABjhaENrKABvF"
      ],
      "execution_count": null,
      "outputs": [
        {
          "output_type": "stream",
          "text": [
            "Downloading...\n",
            "From: https://drive.google.com/uc?id=1IVz3XC8Rm7hQCyx3xCcABjhaENrKABvF\n",
            "To: /content/test_baselines.csv\n",
            "\r0.00B [00:00, ?B/s]\r2.96MB [00:00, 92.9MB/s]\n"
          ],
          "name": "stdout"
        }
      ]
    },
    {
      "cell_type": "code",
      "metadata": {
        "id": "P4cJiFGLdAol"
      },
      "source": [
        "test_data = pd.read_csv('/content/test_baselines.csv', sep='\\t')\n",
        "test_data['INPUT:source'] = test_data['INPUT:source'].apply(lambda x: re.sub(r'[\\t\\n\\r\\f\\v]+', \"\",x))\n",
        "test_data['OUTPUT:output'] = test_data['OUTPUT:output'].apply(lambda x: re.sub(r'[\\t\\n\\r\\f\\v]+', \"\",x))\n",
        "test_data.to_csv('test_data_new.csv', index=False, sep='\\t')"
      ],
      "execution_count": null,
      "outputs": []
    },
    {
      "cell_type": "code",
      "metadata": {
        "colab": {
          "base_uri": "https://localhost:8080/",
          "height": 476
        },
        "id": "S5WoPRPJfdVM",
        "outputId": "24b19d70-65e1-4b71-cebc-3574d11215c7"
      },
      "source": [
        "test_data.head()"
      ],
      "execution_count": null,
      "outputs": [
        {
          "output_type": "execute_result",
          "data": {
            "text/html": [
              "<div>\n",
              "<style scoped>\n",
              "    .dataframe tbody tr th:only-of-type {\n",
              "        vertical-align: middle;\n",
              "    }\n",
              "\n",
              "    .dataframe tbody tr th {\n",
              "        vertical-align: top;\n",
              "    }\n",
              "\n",
              "    .dataframe thead th {\n",
              "        text-align: right;\n",
              "    }\n",
              "</style>\n",
              "<table border=\"1\" class=\"dataframe\">\n",
              "  <thead>\n",
              "    <tr style=\"text-align: right;\">\n",
              "      <th></th>\n",
              "      <th>Unnamed: 0</th>\n",
              "      <th>INPUT:source</th>\n",
              "      <th>OUTPUT:output</th>\n",
              "      <th>trunctuation_bs</th>\n",
              "      <th>gpt_bs</th>\n",
              "      <th>cos_sim_ref</th>\n",
              "      <th>cos_sim_tr_bs</th>\n",
              "      <th>cos_sim_gpt_bs</th>\n",
              "    </tr>\n",
              "  </thead>\n",
              "  <tbody>\n",
              "    <tr>\n",
              "      <th>0</th>\n",
              "      <td>3</td>\n",
              "      <td>14 декабря 1944 года рабочий посёлок Ички был переименован в рабочий посёлок Советский, после чего поселковый совет стал называться Советским.</td>\n",
              "      <td>14 декабря 1944 года рабочий посёлок Ички переименован в Советский.</td>\n",
              "      <td>14 декабря 1944 года рабочий посёлок Ички был переименован в рабочий посёлок.</td>\n",
              "      <td>14 декабря 1944 года рабочий посёлок Ички был переименован в рабочий посёлок Советский, который тогда назывался Рабоче-Крестьянской республикой.</td>\n",
              "      <td>0.924978</td>\n",
              "      <td>0.928283</td>\n",
              "      <td>0.970611</td>\n",
              "    </tr>\n",
              "    <tr>\n",
              "      <th>1</th>\n",
              "      <td>4</td>\n",
              "      <td>1960 году была выпущена модель 172A. Изменения: хвостовое оперение и руль направления с обратной стреловидностью и крепления для поплавкового шасси.</td>\n",
              "      <td>В 1960 году вышла модель 172А. Отличие в хвостовом оперении, в руле направления и в креплении шасси</td>\n",
              "      <td>1960 году была выпущена модель 172A. Изменения: хвостовое оперение и руль направления.</td>\n",
              "      <td>1960 году была выпущена модель 172A. Изменения: хвостовое оперение было изменено на форму головы.</td>\n",
              "      <td>0.962903</td>\n",
              "      <td>0.954120</td>\n",
              "      <td>0.957274</td>\n",
              "    </tr>\n",
              "    <tr>\n",
              "      <th>2</th>\n",
              "      <td>5</td>\n",
              "      <td>1960 году была выпущена модель 172A. Изменения: хвостовое оперение и руль направления с обратной стреловидностью и крепления для поплавкового шасси.</td>\n",
              "      <td>В выпущенной в 1960 году модель имела изменения в хвостовом оперении и руле направления</td>\n",
              "      <td>1960 году была выпущена модель 172A. Изменения: хвостовое оперение и руль направления.</td>\n",
              "      <td>1960 году была выпущена модель 172A. Изменения: хвостовое оперение, крылья и все другие детали сделали его менее приспособленным к жизни.</td>\n",
              "      <td>0.950816</td>\n",
              "      <td>0.954120</td>\n",
              "      <td>0.970414</td>\n",
              "    </tr>\n",
              "    <tr>\n",
              "      <th>3</th>\n",
              "      <td>6</td>\n",
              "      <td>1960 году была выпущена модель 172A. Изменения: хвостовое оперение и руль направления с обратной стреловидностью и крепления для поплавкового шасси.</td>\n",
              "      <td>Изменения: в хвосте и руле направления с обратной стреловидностью и крепления для поплавкового шасси.</td>\n",
              "      <td>1960 году была выпущена модель 172A. Изменения: хвостовое оперение и руль направления.</td>\n",
              "      <td>1960 году была выпущена модель 172A. Изменения: хвостовое оперение было заменено на крылья с помощью нового поколения в 2009–2010 годах.</td>\n",
              "      <td>0.969503</td>\n",
              "      <td>0.954120</td>\n",
              "      <td>0.967813</td>\n",
              "    </tr>\n",
              "    <tr>\n",
              "      <th>4</th>\n",
              "      <td>7</td>\n",
              "      <td>1960 году была выпущена модель 172A. Изменения: хвостовое оперение и руль направления с обратной стреловидностью и крепления для поплавкового шасси.</td>\n",
              "      <td>Модель 172А с другим хвостовым оперением,  креплениями для поплавкового шасси рулём направления с обратной стреловидностью появилась в 1960 году.</td>\n",
              "      <td>1960 году была выпущена модель 172A. Изменения: хвостовое оперение и руль направления.</td>\n",
              "      <td>1960 году была выпущена модель 172A. Изменения: хвостовое оперение и крылья для большей части команды были выполнены с использованием нового оборудования, которое включало в себя шасси T-MAX C</td>\n",
              "      <td>0.984625</td>\n",
              "      <td>0.954120</td>\n",
              "      <td>0.911667</td>\n",
              "    </tr>\n",
              "  </tbody>\n",
              "</table>\n",
              "</div>"
            ],
            "text/plain": [
              "   Unnamed: 0                                                                                                                                           INPUT:source                                                                                                                                      OUTPUT:output                                                                         trunctuation_bs                                                                                                                                                                                            gpt_bs  cos_sim_ref  cos_sim_tr_bs  cos_sim_gpt_bs\n",
              "0           3         14 декабря 1944 года рабочий посёлок Ички был переименован в рабочий посёлок Советский, после чего поселковый совет стал называться Советским.                                                                                14 декабря 1944 года рабочий посёлок Ички переименован в Советский.           14 декабря 1944 года рабочий посёлок Ички был переименован в рабочий посёлок.                                                  14 декабря 1944 года рабочий посёлок Ички был переименован в рабочий посёлок Советский, который тогда назывался Рабоче-Крестьянской республикой.     0.924978       0.928283        0.970611\n",
              "1           4   1960 году была выпущена модель 172A. Изменения: хвостовое оперение и руль направления с обратной стреловидностью и крепления для поплавкового шасси.                                                В 1960 году вышла модель 172А. Отличие в хвостовом оперении, в руле направления и в креплении шасси  1960 году была выпущена модель 172A. Изменения: хвостовое оперение и руль направления.                                                                                                 1960 году была выпущена модель 172A. Изменения: хвостовое оперение было изменено на форму головы.     0.962903       0.954120        0.957274\n",
              "2           5   1960 году была выпущена модель 172A. Изменения: хвостовое оперение и руль направления с обратной стреловидностью и крепления для поплавкового шасси.                                                            В выпущенной в 1960 году модель имела изменения в хвостовом оперении и руле направления  1960 году была выпущена модель 172A. Изменения: хвостовое оперение и руль направления.                                                         1960 году была выпущена модель 172A. Изменения: хвостовое оперение, крылья и все другие детали сделали его менее приспособленным к жизни.     0.950816       0.954120        0.970414\n",
              "3           6   1960 году была выпущена модель 172A. Изменения: хвостовое оперение и руль направления с обратной стреловидностью и крепления для поплавкового шасси.                                              Изменения: в хвосте и руле направления с обратной стреловидностью и крепления для поплавкового шасси.  1960 году была выпущена модель 172A. Изменения: хвостовое оперение и руль направления.                                                          1960 году была выпущена модель 172A. Изменения: хвостовое оперение было заменено на крылья с помощью нового поколения в 2009–2010 годах.     0.969503       0.954120        0.967813\n",
              "4           7   1960 году была выпущена модель 172A. Изменения: хвостовое оперение и руль направления с обратной стреловидностью и крепления для поплавкового шасси.  Модель 172А с другим хвостовым оперением,  креплениями для поплавкового шасси рулём направления с обратной стреловидностью появилась в 1960 году.  1960 году была выпущена модель 172A. Изменения: хвостовое оперение и руль направления.  1960 году была выпущена модель 172A. Изменения: хвостовое оперение и крылья для большей части команды были выполнены с использованием нового оборудования, которое включало в себя шасси T-MAX C     0.984625       0.954120        0.911667"
            ]
          },
          "metadata": {
            "tags": []
          },
          "execution_count": 9
        }
      ]
    },
    {
      "cell_type": "markdown",
      "metadata": {
        "id": "d13EWrVxg8LS"
      },
      "source": [
        "### cosine similarity"
      ]
    },
    {
      "cell_type": "code",
      "metadata": {
        "colab": {
          "background_save": true
        },
        "id": "AtCFlFh5f5-B"
      },
      "source": [
        "calc_cos_sim(test_data, model, tok, 'INPUT:source', 'OUTPUT:output', 'cos_sim_in_out')"
      ],
      "execution_count": null,
      "outputs": []
    },
    {
      "cell_type": "code",
      "metadata": {
        "colab": {
          "base_uri": "https://localhost:8080/"
        },
        "id": "yW_mmMmLhIp-",
        "outputId": "5905b089-ed03-4e63-a9b1-a7c5c96bbdae"
      },
      "source": [
        "test_data.cos_sim_in_out.mean()"
      ],
      "execution_count": null,
      "outputs": [
        {
          "output_type": "execute_result",
          "data": {
            "text/plain": [
              "0.9447571403886719"
            ]
          },
          "metadata": {
            "tags": []
          },
          "execution_count": 13
        }
      ]
    },
    {
      "cell_type": "markdown",
      "metadata": {
        "id": "3Ity7nJtg_H5"
      },
      "source": [
        "### FKLG"
      ]
    },
    {
      "cell_type": "code",
      "metadata": {
        "colab": {
          "base_uri": "https://localhost:8080/"
        },
        "id": "PR9NSUDlgx0E",
        "outputId": "12079008-c1e5-4c68-813b-148583e50129"
      },
      "source": [
        "a,b = '\\n'.join(list(test_data['INPUT:source'].values)), '\\n'.join(list(test_data['OUTPUT:output'].values))\n",
        "src, dst = calc_readability_metrics(a), calc_readability_metrics(b)\n",
        "src, dst"
      ],
      "execution_count": null,
      "outputs": [
        {
          "output_type": "execute_result",
          "data": {
            "text/plain": [
              "({'avg_slen': 15.85661345496009,\n",
              "  'avg_syl': 3.0165752808988766,\n",
              "  'c_share': 16.981573033707864,\n",
              "  'chars': 470025,\n",
              "  'index_SMOG_rus': 14.557852197020122,\n",
              "  'index_ari_rus': 17.71203679321743,\n",
              "  'index_cl_rus': 16.38818426966293,\n",
              "  'index_dc_rus': 13.702683787810848,\n",
              "  'index_fk_rus': 17.377772067441356,\n",
              "  'letters': 393678,\n",
              "  'n_complex_words': 9446,\n",
              "  'n_sentences': 3508,\n",
              "  'n_simple_words': 46179,\n",
              "  'n_syllabes': 167797,\n",
              "  'n_words': 55625,\n",
              "  'spaces': 56887,\n",
              "  'wsyllabes': {'1': 9867,\n",
              "   '10': 35,\n",
              "   '11': 6,\n",
              "   '12': 4,\n",
              "   '2': 12788,\n",
              "   '3': 13723,\n",
              "   '4': 9801,\n",
              "   '5': 6023,\n",
              "   '6': 2491,\n",
              "   '7': 677,\n",
              "   '8': 173,\n",
              "   '9': 37}},\n",
              " {'avg_slen': 12.795306388526727,\n",
              "  'avg_syl': 2.8380374974526186,\n",
              "  'c_share': 12.78275932341553,\n",
              "  'chars': 313759,\n",
              "  'index_SMOG_rus': 11.356979245625993,\n",
              "  'index_ari_rus': 13.911711320522606,\n",
              "  'index_cl_rus': 13.275588954554713,\n",
              "  'index_dc_rus': 10.54920179059317,\n",
              "  'index_fk_rus': 13.869039895378684,\n",
              "  'letters': 259382,\n",
              "  'n_complex_words': 5018,\n",
              "  'n_sentences': 3068,\n",
              "  'n_simple_words': 34238,\n",
              "  'n_syllabes': 111410,\n",
              "  'n_words': 39256,\n",
              "  'spaces': 39970,\n",
              "  'wsyllabes': {'1': 7690,\n",
              "   '10': 11,\n",
              "   '11': 1,\n",
              "   '12': 1,\n",
              "   '14': 1,\n",
              "   '15': 1,\n",
              "   '2': 10187,\n",
              "   '3': 9546,\n",
              "   '4': 6815,\n",
              "   '5': 3294,\n",
              "   '6': 1274,\n",
              "   '7': 336,\n",
              "   '8': 71,\n",
              "   '9': 28}})"
            ]
          },
          "metadata": {
            "tags": []
          },
          "execution_count": 14
        }
      ]
    },
    {
      "cell_type": "markdown",
      "metadata": {
        "id": "QJOm9MLEhPIv"
      },
      "source": [
        "### Grammar"
      ]
    },
    {
      "cell_type": "code",
      "metadata": {
        "id": "V7J2d9achPVe"
      },
      "source": [
        "tool = language_tool_python.LanguageTool('ru')\n",
        "\n",
        "def get_mistakes_summary(df_test):\n",
        "    src_test = list(df_test['INPUT:source'].values)\n",
        "    dst_test =list(df_test['OUTPUT:output'].values)\n",
        "    matches_src = []\n",
        "    for i in src_test:\n",
        "      matches_src.extend(tool.check(i))\n",
        "    matches_src\n",
        "\n",
        "    matches_dst = []\n",
        "    for i in dst_test:\n",
        "      matches_dst.extend(tool.check(i))\n",
        "    matches_dst\n",
        "\n",
        "    categories = set([i.category for i in matches_src+matches_dst])\n",
        "\n",
        "    categories_src = {i:0 for i in categories}\n",
        "    categories_dst = {i:0 for i in categories}\n",
        "\n",
        "    for i in matches_src:\n",
        "      categories_src[i.category]+=1\n",
        "\n",
        "    for i in matches_dst:\n",
        "      categories_dst[i.category]+=1\n",
        "      \n",
        "    return categories_src, categories_dst\n"
      ],
      "execution_count": null,
      "outputs": []
    },
    {
      "cell_type": "code",
      "metadata": {
        "colab": {
          "base_uri": "https://localhost:8080/"
        },
        "id": "L-UgZYpwh2eD",
        "outputId": "2a0d987c-d256-477f-da24-e6d8ca48adc7"
      },
      "source": [
        "src_errors, dst_errors = get_mistakes_summary(test_data)\n",
        "src_errors, dst_errors"
      ],
      "execution_count": null,
      "outputs": [
        {
          "output_type": "execute_result",
          "data": {
            "text/plain": [
              "({'CASING': 10,\n",
              "  'EXTEND': 0,\n",
              "  'GRAMMAR': 22,\n",
              "  'LOGIC': 27,\n",
              "  'MISC': 0,\n",
              "  'PUNCTUATION': 34,\n",
              "  'STYLE': 14,\n",
              "  'TYPOGRAPHY': 33,\n",
              "  'TYPOS': 809},\n",
              " {'CASING': 144,\n",
              "  'EXTEND': 1,\n",
              "  'GRAMMAR': 110,\n",
              "  'LOGIC': 15,\n",
              "  'MISC': 28,\n",
              "  'PUNCTUATION': 106,\n",
              "  'STYLE': 7,\n",
              "  'TYPOGRAPHY': 733,\n",
              "  'TYPOS': 747})"
            ]
          },
          "metadata": {
            "tags": []
          },
          "execution_count": 16
        }
      ]
    },
    {
      "cell_type": "code",
      "metadata": {
        "colab": {
          "base_uri": "https://localhost:8080/"
        },
        "id": "0aKUspv4iBZM",
        "outputId": "766aaaf8-f76d-44b9-966b-e62ef4233032"
      },
      "source": [
        "common = {i:src_errors[i]+dst_errors[i] for i in src_errors.keys()}\n",
        "common"
      ],
      "execution_count": null,
      "outputs": [
        {
          "output_type": "execute_result",
          "data": {
            "text/plain": [
              "{'CASING': 154,\n",
              " 'EXTEND': 1,\n",
              " 'GRAMMAR': 132,\n",
              " 'LOGIC': 42,\n",
              " 'MISC': 28,\n",
              " 'PUNCTUATION': 140,\n",
              " 'STYLE': 21,\n",
              " 'TYPOGRAPHY': 766,\n",
              " 'TYPOS': 1556}"
            ]
          },
          "metadata": {
            "tags": []
          },
          "execution_count": 17
        }
      ]
    },
    {
      "cell_type": "code",
      "metadata": {
        "id": "3XIduQKUmgdp"
      },
      "source": [
        "matches_src = []\n",
        "src_test = list(test_data['INPUT:source'].values)\n",
        "for i in src_test:\n",
        "      matches_src.extend(tool.check(i))"
      ],
      "execution_count": null,
      "outputs": []
    },
    {
      "cell_type": "code",
      "metadata": {
        "colab": {
          "base_uri": "https://localhost:8080/"
        },
        "id": "2zmdiOV2psmk",
        "outputId": "702c7614-edef-4fd2-f849-08060ec4ffd3"
      },
      "source": [
        "matches_src"
      ],
      "execution_count": null,
      "outputs": [
        {
          "output_type": "execute_result",
          "data": {
            "text/plain": [
              "[Match({'ruleId': 'MORFOLOGIK_RULE_RU_RU', 'message': 'Возможно найдена орфографическая ошибка.', 'replacements': ['Очки', 'Ирки'], 'offsetInContext': 37, 'context': '14 декабря 1944 года рабочий посёлок Ички был переименован в рабочий посёлок Сове...', 'offset': 37, 'errorLength': 4, 'category': 'TYPOS', 'ruleIssueType': 'misspelling', 'sentence': '14 декабря 1944 года рабочий посёлок Ички был переименован в рабочий посёлок Советский, после чего поселковый совет стал называться Советским.'}),\n",
              " Match({'ruleId': 'MORFOLOGIK_RULE_RU_RU', 'message': 'Возможно найдена орфографическая ошибка.', 'replacements': ['Бол док'], 'offsetInContext': 21, 'context': '26 августа 2014 года Болдок принял участие в памятном матче Кубка Ф...', 'offset': 21, 'errorLength': 6, 'category': 'TYPOS', 'ruleIssueType': 'misspelling', 'sentence': '26 августа 2014 года Болдок принял участие в памятном матче Кубка Футбольной лиги против «Манчестер Юнайтед», в котором «донс» сенсационно обыграл команду Луи ван Гала со счётом 4:0.'}),\n",
              " Match({'ruleId': 'MORFOLOGIK_RULE_RU_RU', 'message': 'Возможно найдена орфографическая ошибка.', 'replacements': ['донос', 'дон', 'донна', 'джонс', 'дос', 'донёс', 'дона', 'доне', 'донес', 'донг', 'донн', 'донне', 'донно', 'донну', 'донны', 'дону', 'доны', 'монс', 'до нс', 'дон с'], 'offsetInContext': 43, 'context': '... против «Манчестер Юнайтед», в котором «донс» сенсационно обыграл команду Луи ван Га...', 'offset': 121, 'errorLength': 4, 'category': 'TYPOS', 'ruleIssueType': 'misspelling', 'sentence': '26 августа 2014 года Болдок принял участие в памятном матче Кубка Футбольной лиги против «Манчестер Юнайтед», в котором «донс» сенсационно обыграл команду Луи ван Гала со счётом 4:0.'}),\n",
              " Match({'ruleId': 'MORFOLOGIK_RULE_RU_RU', 'message': 'Возможно найдена орфографическая ошибка.', 'replacements': ['Бол док'], 'offsetInContext': 21, 'context': '26 августа 2014 года Болдок принял участие в памятном матче Кубка Ф...', 'offset': 21, 'errorLength': 6, 'category': 'TYPOS', 'ruleIssueType': 'misspelling', 'sentence': '26 августа 2014 года Болдок принял участие в памятном матче Кубка Футбольной лиги против «Манчестер Юнайтед», в котором «донс» сенсационно обыграл команду Луи ван Гала со счётом 4:0.'}),\n",
              " Match({'ruleId': 'MORFOLOGIK_RULE_RU_RU', 'message': 'Возможно найдена орфографическая ошибка.', 'replacements': ['донос', 'дон', 'донна', 'джонс', 'дос', 'донёс', 'дона', 'доне', 'донес', 'донг', 'донн', 'донне', 'донно', 'донну', 'донны', 'дону', 'доны', 'монс', 'до нс', 'дон с'], 'offsetInContext': 43, 'context': '... против «Манчестер Юнайтед», в котором «донс» сенсационно обыграл команду Луи ван Га...', 'offset': 121, 'errorLength': 4, 'category': 'TYPOS', 'ruleIssueType': 'misspelling', 'sentence': '26 августа 2014 года Болдок принял участие в памятном матче Кубка Футбольной лиги против «Манчестер Юнайтед», в котором «донс» сенсационно обыграл команду Луи ван Гала со счётом 4:0.'}),\n",
              " Match({'ruleId': 'MORFOLOGIK_RULE_RU_RU', 'message': 'Возможно найдена орфографическая ошибка.', 'replacements': ['Эритромицин'], 'offsetInContext': 0, 'context': 'Азитромицин входит в российские стандарты медицинск...', 'offset': 0, 'errorLength': 11, 'category': 'TYPOS', 'ruleIssueType': 'misspelling', 'sentence': 'Азитромицин входит в российские стандарты медицинской помощи больным пневмонией и хронической обструктивной болезни лёгких.'}),\n",
              " Match({'ruleId': 'MORFOLOGIK_RULE_RU_RU', 'message': 'Возможно найдена орфографическая ошибка.', 'replacements': ['абструктивной', 'обструктивный'], 'offsetInContext': 43, 'context': '...помощи больным пневмонией и хронической обструктивной болезни лёгких.', 'offset': 94, 'errorLength': 13, 'category': 'TYPOS', 'ruleIssueType': 'misspelling', 'sentence': 'Азитромицин входит в российские стандарты медицинской помощи больным пневмонией и хронической обструктивной болезни лёгких.'}),\n",
              " Match({'ruleId': 'MORFOLOGIK_RULE_RU_RU', 'message': 'Возможно найдена орфографическая ошибка.', 'replacements': ['Эритромицин'], 'offsetInContext': 0, 'context': 'Азитромицин входит в российские стандарты медицинск...', 'offset': 0, 'errorLength': 11, 'category': 'TYPOS', 'ruleIssueType': 'misspelling', 'sentence': 'Азитромицин входит в российские стандарты медицинской помощи больным пневмонией и хронической обструктивной болезни лёгких.'}),\n",
              " Match({'ruleId': 'MORFOLOGIK_RULE_RU_RU', 'message': 'Возможно найдена орфографическая ошибка.', 'replacements': ['абструктивной', 'обструктивный'], 'offsetInContext': 43, 'context': '...помощи больным пневмонией и хронической обструктивной болезни лёгких.', 'offset': 94, 'errorLength': 13, 'category': 'TYPOS', 'ruleIssueType': 'misspelling', 'sentence': 'Азитромицин входит в российские стандарты медицинской помощи больным пневмонией и хронической обструктивной болезни лёгких.'}),\n",
              " Match({'ruleId': 'MORFOLOGIK_RULE_RU_RU', 'message': 'Возможно найдена орфографическая ошибка.', 'replacements': ['Эритромицин'], 'offsetInContext': 0, 'context': 'Азитромицин входит в российские стандарты медицинск...', 'offset': 0, 'errorLength': 11, 'category': 'TYPOS', 'ruleIssueType': 'misspelling', 'sentence': 'Азитромицин входит в российские стандарты медицинской помощи больным пневмонией и хронической обструктивной болезни лёгких.'}),\n",
              " Match({'ruleId': 'MORFOLOGIK_RULE_RU_RU', 'message': 'Возможно найдена орфографическая ошибка.', 'replacements': ['абструктивной', 'обструктивный'], 'offsetInContext': 43, 'context': '...помощи больным пневмонией и хронической обструктивной болезни лёгких.', 'offset': 94, 'errorLength': 13, 'category': 'TYPOS', 'ruleIssueType': 'misspelling', 'sentence': 'Азитромицин входит в российские стандарты медицинской помощи больным пневмонией и хронической обструктивной болезни лёгких.'}),\n",
              " Match({'ruleId': 'MORFOLOGIK_RULE_RU_RU', 'message': 'Возможно найдена орфографическая ошибка.', 'replacements': ['Эритромицин'], 'offsetInContext': 0, 'context': 'Азитромицин входит в российские стандарты медицинск...', 'offset': 0, 'errorLength': 11, 'category': 'TYPOS', 'ruleIssueType': 'misspelling', 'sentence': 'Азитромицин входит в российские стандарты медицинской помощи больным пневмонией и хронической обструктивной болезни лёгких.'}),\n",
              " Match({'ruleId': 'MORFOLOGIK_RULE_RU_RU', 'message': 'Возможно найдена орфографическая ошибка.', 'replacements': ['абструктивной', 'обструктивный'], 'offsetInContext': 43, 'context': '...помощи больным пневмонией и хронической обструктивной болезни лёгких.', 'offset': 94, 'errorLength': 13, 'category': 'TYPOS', 'ruleIssueType': 'misspelling', 'sentence': 'Азитромицин входит в российские стандарты медицинской помощи больным пневмонией и хронической обструктивной болезни лёгких.'}),\n",
              " Match({'ruleId': 'MORFOLOGIK_RULE_RU_RU', 'message': 'Возможно найдена орфографическая ошибка.', 'replacements': ['Эритромицин'], 'offsetInContext': 0, 'context': 'Азитромицин входит в российские стандарты медицинск...', 'offset': 0, 'errorLength': 11, 'category': 'TYPOS', 'ruleIssueType': 'misspelling', 'sentence': 'Азитромицин входит в российские стандарты медицинской помощи больным пневмонией и хронической обструктивной болезни лёгких.'}),\n",
              " Match({'ruleId': 'MORFOLOGIK_RULE_RU_RU', 'message': 'Возможно найдена орфографическая ошибка.', 'replacements': ['абструктивной', 'обструктивный'], 'offsetInContext': 43, 'context': '...помощи больным пневмонией и хронической обструктивной болезни лёгких.', 'offset': 94, 'errorLength': 13, 'category': 'TYPOS', 'ruleIssueType': 'misspelling', 'sentence': 'Азитромицин входит в российские стандарты медицинской помощи больным пневмонией и хронической обструктивной болезни лёгких.'}),\n",
              " Match({'ruleId': 'MORFOLOGIK_RULE_RU_RU', 'message': 'Возможно найдена орфографическая ошибка.', 'replacements': ['Эритромицин'], 'offsetInContext': 0, 'context': 'Азитромицин оказался эффективным при лечении хронич...', 'offset': 0, 'errorLength': 11, 'category': 'TYPOS', 'ruleIssueType': 'misspelling', 'sentence': 'Азитромицин оказался эффективным при лечении хронической обструктивной болезни легких за счет подавления воспалительных процессов.'}),\n",
              " Match({'ruleId': 'MORFOLOGIK_RULE_RU_RU', 'message': 'Возможно найдена орфографическая ошибка.', 'replacements': ['абструктивной', 'обструктивный'], 'offsetInContext': 43, 'context': '...лся эффективным при лечении хронической обструктивной болезни легких за счет подавления воспа...', 'offset': 57, 'errorLength': 13, 'category': 'TYPOS', 'ruleIssueType': 'misspelling', 'sentence': 'Азитромицин оказался эффективным при лечении хронической обструктивной болезни легких за счет подавления воспалительных процессов.'}),\n",
              " Match({'ruleId': 'MORFOLOGIK_RULE_RU_RU', 'message': 'Возможно найдена орфографическая ошибка.', 'replacements': ['Эритромицин'], 'offsetInContext': 0, 'context': 'Азитромицин оказался эффективным при лечении хронич...', 'offset': 0, 'errorLength': 11, 'category': 'TYPOS', 'ruleIssueType': 'misspelling', 'sentence': 'Азитромицин оказался эффективным при лечении хронической обструктивной болезни легких за счет подавления воспалительных процессов.'}),\n",
              " Match({'ruleId': 'MORFOLOGIK_RULE_RU_RU', 'message': 'Возможно найдена орфографическая ошибка.', 'replacements': ['абструктивной', 'обструктивный'], 'offsetInContext': 43, 'context': '...лся эффективным при лечении хронической обструктивной болезни легких за счет подавления воспа...', 'offset': 57, 'errorLength': 13, 'category': 'TYPOS', 'ruleIssueType': 'misspelling', 'sentence': 'Азитромицин оказался эффективным при лечении хронической обструктивной болезни легких за счет подавления воспалительных процессов.'}),\n",
              " Match({'ruleId': 'MORFOLOGIK_RULE_RU_RU', 'message': 'Возможно найдена орфографическая ошибка.', 'replacements': ['Эритромицин'], 'offsetInContext': 0, 'context': 'Азитромицин оказался эффективным при лечении хронич...', 'offset': 0, 'errorLength': 11, 'category': 'TYPOS', 'ruleIssueType': 'misspelling', 'sentence': 'Азитромицин оказался эффективным при лечении хронической обструктивной болезни легких за счет подавления воспалительных процессов.'}),\n",
              " Match({'ruleId': 'MORFOLOGIK_RULE_RU_RU', 'message': 'Возможно найдена орфографическая ошибка.', 'replacements': ['абструктивной', 'обструктивный'], 'offsetInContext': 43, 'context': '...лся эффективным при лечении хронической обструктивной болезни легких за счет подавления воспа...', 'offset': 57, 'errorLength': 13, 'category': 'TYPOS', 'ruleIssueType': 'misspelling', 'sentence': 'Азитромицин оказался эффективным при лечении хронической обструктивной болезни легких за счет подавления воспалительных процессов.'}),\n",
              " Match({'ruleId': 'MORFOLOGIK_RULE_RU_RU', 'message': 'Возможно найдена орфографическая ошибка.', 'replacements': ['Эритромицин'], 'offsetInContext': 0, 'context': 'Азитромицин оказался эффективным при лечении хронич...', 'offset': 0, 'errorLength': 11, 'category': 'TYPOS', 'ruleIssueType': 'misspelling', 'sentence': 'Азитромицин оказался эффективным при лечении хронической обструктивной болезни легких за счет подавления воспалительных процессов.'}),\n",
              " Match({'ruleId': 'MORFOLOGIK_RULE_RU_RU', 'message': 'Возможно найдена орфографическая ошибка.', 'replacements': ['абструктивной', 'обструктивный'], 'offsetInContext': 43, 'context': '...лся эффективным при лечении хронической обструктивной болезни легких за счет подавления воспа...', 'offset': 57, 'errorLength': 13, 'category': 'TYPOS', 'ruleIssueType': 'misspelling', 'sentence': 'Азитромицин оказался эффективным при лечении хронической обструктивной болезни легких за счет подавления воспалительных процессов.'}),\n",
              " Match({'ruleId': 'MORFOLOGIK_RULE_RU_RU', 'message': 'Возможно найдена орфографическая ошибка.', 'replacements': ['Эритромицин'], 'offsetInContext': 0, 'context': 'Азитромицин оказался эффективным при лечении хронич...', 'offset': 0, 'errorLength': 11, 'category': 'TYPOS', 'ruleIssueType': 'misspelling', 'sentence': 'Азитромицин оказался эффективным при лечении хронической обструктивной болезни легких за счет подавления воспалительных процессов.'}),\n",
              " Match({'ruleId': 'MORFOLOGIK_RULE_RU_RU', 'message': 'Возможно найдена орфографическая ошибка.', 'replacements': ['абструктивной', 'обструктивный'], 'offsetInContext': 43, 'context': '...лся эффективным при лечении хронической обструктивной болезни легких за счет подавления воспа...', 'offset': 57, 'errorLength': 13, 'category': 'TYPOS', 'ruleIssueType': 'misspelling', 'sentence': 'Азитромицин оказался эффективным при лечении хронической обструктивной болезни легких за счет подавления воспалительных процессов.'}),\n",
              " Match({'ruleId': 'MORFOLOGIK_RULE_RU_RU', 'message': 'Возможно найдена орфографическая ошибка.', 'replacements': ['иодовыми', 'иродовыми', 'кодовыми', 'содовыми'], 'offsetInContext': 43, 'context': '...ются человеку при укусе инфицированными иксодовыми клещами, принадлежащими к нескольким ви...', 'offset': 55, 'errorLength': 10, 'category': 'TYPOS', 'ruleIssueType': 'misspelling', 'sentence': 'Бактерии передаются человеку при укусе инфицированными иксодовыми клещами, принадлежащими к нескольким видам рода Ixodes, а также оленьими кровососками.'}),\n",
              " Match({'ruleId': 'MORFOLOGIK_RULE_RU_RU', 'message': 'Возможно найдена орфографическая ошибка.', 'replacements': ['пре эклампсии'], 'offsetInContext': 43, 'context': '...менности, могут испытывать меньший риск преэклампсии и положительный иммунный эффект.', 'offset': 119, 'errorLength': 12, 'category': 'TYPOS', 'ruleIssueType': 'misspelling', 'sentence': 'Беременные женщины, принимающие достаточное количество витамина D во время беременности, могут испытывать меньший риск преэклампсии и положительный иммунный эффект.'}),\n",
              " Match({'ruleId': 'MORFOLOGIK_RULE_RU_RU', 'message': 'Возможно найдена орфографическая ошибка.', 'replacements': ['пре эклампсии'], 'offsetInContext': 43, 'context': '...менности, могут испытывать меньший риск преэклампсии и положительный иммунный эффект.', 'offset': 119, 'errorLength': 12, 'category': 'TYPOS', 'ruleIssueType': 'misspelling', 'sentence': 'Беременные женщины, принимающие достаточное количество витамина D во время беременности, могут испытывать меньший риск преэклампсии и положительный иммунный эффект.'}),\n",
              " Match({'ruleId': 'MORFOLOGIK_RULE_RU_RU', 'message': 'Возможно найдена орфографическая ошибка.', 'replacements': ['пре эклампсии'], 'offsetInContext': 43, 'context': '...менности, могут испытывать меньший риск преэклампсии и положительный иммунный эффект.', 'offset': 119, 'errorLength': 12, 'category': 'TYPOS', 'ruleIssueType': 'misspelling', 'sentence': 'Беременные женщины, принимающие достаточное количество витамина D во время беременности, могут испытывать меньший риск преэклампсии и положительный иммунный эффект.'}),\n",
              " Match({'ruleId': 'MORFOLOGIK_RULE_RU_RU', 'message': 'Возможно найдена орфографическая ошибка.', 'replacements': ['пре эклампсии'], 'offsetInContext': 43, 'context': '...менности, могут испытывать меньший риск преэклампсии и положительный иммунный эффект.', 'offset': 119, 'errorLength': 12, 'category': 'TYPOS', 'ruleIssueType': 'misspelling', 'sentence': 'Беременные женщины, принимающие достаточное количество витамина D во время беременности, могут испытывать меньший риск преэклампсии и положительный иммунный эффект.'}),\n",
              " Match({'ruleId': 'MORFOLOGIK_RULE_RU_RU', 'message': 'Возможно найдена орфографическая ошибка.', 'replacements': ['пре эклампсии'], 'offsetInContext': 43, 'context': '...менности, могут испытывать меньший риск преэклампсии и положительный иммунный эффект.', 'offset': 119, 'errorLength': 12, 'category': 'TYPOS', 'ruleIssueType': 'misspelling', 'sentence': 'Беременные женщины, принимающие достаточное количество витамина D во время беременности, могут испытывать меньший риск преэклампсии и положительный иммунный эффект.'}),\n",
              " Match({'ruleId': 'MORFOLOGIK_RULE_RU_RU', 'message': 'Возможно найдена орфографическая ошибка.', 'replacements': ['Конек', 'Сосняк', 'Сорняк', 'Горняк', 'Лозняк', 'Позняк', 'Акбек', 'Акне', 'Аукнем', 'Аукнет', 'Банек', 'Босняк', 'Бошняк', 'Будняк', 'Цокнем', 'Цокнет', 'Дубняк', 'Фукнем', 'Фукнет', 'Гукнем', 'Гукнет', 'Гунек', 'Гузнек', 'Коек', 'Кокнем', 'Кокнет', 'Лукне', 'Макнём', 'Макнёт', 'Макнем', 'Макнет', 'Мокнем', 'Мокнет', 'Паинек', 'Пукнем', 'Пукнет', 'Пушняк', 'Санек', 'Сонек', 'Сукне', 'Сушняк', 'Танек', 'Токиек', 'Тукнем', 'Тукнет', 'Ванек', 'Варнек', 'Возняк', 'Заинек'], 'offsetInContext': 22, 'context': 'Берёт начало из озера Накнек и несёт свои воды в западном направлени...', 'offset': 22, 'errorLength': 6, 'category': 'TYPOS', 'ruleIssueType': 'misspelling', 'sentence': 'Берёт начало из озера Накнек и несёт свои воды в западном направлении, впадая залив Квичак, который является частью Бристольского залива.'}),\n",
              " Match({'ruleId': 'MORFOLOGIK_RULE_RU_RU', 'message': 'Возможно найдена орфографическая ошибка.', 'replacements': ['Свиток', 'Движок', 'Гричук', 'Квиток', 'Свинок', 'Свинчак', 'Свирок', 'Свича', 'Свичу'], 'offsetInContext': 43, 'context': '...ды в западном направлении, впадая залив Квичак, который является частью Бристольского ...', 'offset': 84, 'errorLength': 6, 'category': 'TYPOS', 'ruleIssueType': 'misspelling', 'sentence': 'Берёт начало из озера Накнек и несёт свои воды в западном направлении, впадая залив Квичак, который является частью Бристольского залива.'}),\n",
              " Match({'ruleId': 'MORFOLOGIK_RULE_RU_RU', 'message': 'Возможно найдена орфографическая ошибка.', 'replacements': ['Шлёгель', 'Гросфельд', 'Клофелин', 'Ловель', 'Офелях', 'Офелям', 'Офель', 'Эйсфельд'], 'offsetInContext': 43, 'context': '...вободив пленённого Уайта, и узнаёт, что Блофельд в качестве базы использовал нефтяную пл...', 'offset': 64, 'errorLength': 8, 'category': 'TYPOS', 'ruleIssueType': 'misspelling', 'sentence': 'Бонд сбегает, попутно освободив пленённого Уайта, и узнаёт, что Блофельд в качестве базы использовал нефтяную платформу.'}),\n",
              " Match({'ruleId': 'MORFOLOGIK_RULE_RU_RU', 'message': 'Возможно найдена орфографическая ошибка.', 'replacements': ['Шлёгель', 'Гросфельд', 'Клофелин', 'Ловель', 'Офелях', 'Офелям', 'Офель', 'Эйсфельд'], 'offsetInContext': 43, 'context': '...вободив пленённого Уайта, и узнаёт, что Блофельд в качестве базы использовал нефтяную пл...', 'offset': 64, 'errorLength': 8, 'category': 'TYPOS', 'ruleIssueType': 'misspelling', 'sentence': 'Бонд сбегает, попутно освободив пленённого Уайта, и узнаёт, что Блофельд в качестве базы использовал нефтяную платформу.'}),\n",
              " Match({'ruleId': 'MORFOLOGIK_RULE_RU_RU', 'message': 'Возможно найдена орфографическая ошибка.', 'replacements': ['Шлёгель', 'Гросфельд', 'Клофелин', 'Ловель', 'Офелях', 'Офелям', 'Офель', 'Эйсфельд'], 'offsetInContext': 43, 'context': '...вободив пленённого Уайта, и узнаёт, что Блофельд в качестве базы использовал нефтяную пл...', 'offset': 64, 'errorLength': 8, 'category': 'TYPOS', 'ruleIssueType': 'misspelling', 'sentence': 'Бонд сбегает, попутно освободив пленённого Уайта, и узнаёт, что Блофельд в качестве базы использовал нефтяную платформу.'}),\n",
              " Match({'ruleId': 'MORFOLOGIK_RULE_RU_RU', 'message': 'Возможно найдена орфографическая ошибка.', 'replacements': ['Шлёгель', 'Гросфельд', 'Клофелин', 'Ловель', 'Офелях', 'Офелям', 'Офель', 'Эйсфельд'], 'offsetInContext': 43, 'context': '...вободив пленённого Уайта, и узнаёт, что Блофельд в качестве базы использовал нефтяную пл...', 'offset': 64, 'errorLength': 8, 'category': 'TYPOS', 'ruleIssueType': 'misspelling', 'sentence': 'Бонд сбегает, попутно освободив пленённого Уайта, и узнаёт, что Блофельд в качестве базы использовал нефтяную платформу.'}),\n",
              " Match({'ruleId': 'MORFOLOGIK_RULE_RU_RU', 'message': 'Возможно найдена орфографическая ошибка.', 'replacements': ['Шлёгель', 'Гросфельд', 'Клофелин', 'Ловель', 'Офелях', 'Офелям', 'Офель', 'Эйсфельд'], 'offsetInContext': 43, 'context': '...вободив пленённого Уайта, и узнаёт, что Блофельд в качестве базы использовал нефтяную пл...', 'offset': 64, 'errorLength': 8, 'category': 'TYPOS', 'ruleIssueType': 'misspelling', 'sentence': 'Бонд сбегает, попутно освободив пленённого Уайта, и узнаёт, что Блофельд в качестве базы использовал нефтяную платформу.'}),\n",
              " Match({'ruleId': 'MORFOLOGIK_RULE_RU_RU', 'message': 'Возможно найдена орфографическая ошибка.', 'replacements': ['Юрики', 'Арики', 'Ерики', 'Ирики', 'Крики', 'Ярики', 'Рики', 'Эрики', 'Б рики', 'Брик и'], 'offsetInContext': 0, 'context': 'Брики, далёкие от литературы люди, занимались...', 'offset': 0, 'errorLength': 5, 'category': 'TYPOS', 'ruleIssueType': 'misspelling', 'sentence': 'Брики, далёкие от литературы люди, занимались предпринимательством, унаследовав от родителей небольшой, но доходный коралловый бизнес.'}),\n",
              " Match({'ruleId': 'MORFOLOGIK_RULE_RU_RU', 'message': 'Возможно найдена орфографическая ошибка.', 'replacements': ['Юрики', 'Арики', 'Ерики', 'Ирики', 'Крики', 'Ярики', 'Рики', 'Эрики', 'Б рики', 'Брик и'], 'offsetInContext': 0, 'context': 'Брики, далёкие от литературы люди, занимались...', 'offset': 0, 'errorLength': 5, 'category': 'TYPOS', 'ruleIssueType': 'misspelling', 'sentence': 'Брики, далёкие от литературы люди, занимались предпринимательством, унаследовав от родителей небольшой, но доходный коралловый бизнес.'}),\n",
              " Match({'ruleId': 'MORFOLOGIK_RULE_RU_RU', 'message': 'Возможно найдена орфографическая ошибка.', 'replacements': ['Юрики', 'Арики', 'Ерики', 'Ирики', 'Крики', 'Ярики', 'Рики', 'Эрики', 'Б рики', 'Брик и'], 'offsetInContext': 0, 'context': 'Брики, далёкие от литературы люди, занимались...', 'offset': 0, 'errorLength': 5, 'category': 'TYPOS', 'ruleIssueType': 'misspelling', 'sentence': 'Брики, далёкие от литературы люди, занимались предпринимательством, унаследовав от родителей небольшой, но доходный коралловый бизнес.'}),\n",
              " Match({'ruleId': 'MORFOLOGIK_RULE_RU_RU', 'message': 'Возможно найдена орфографическая ошибка.', 'replacements': ['Бисеровским', 'Гиляровским', 'Вигнеровским'], 'offsetInContext': 39, 'context': 'Броуновское движение, также называемое Винеровским процессом, получается интегрированием с...', 'offset': 39, 'errorLength': 11, 'category': 'TYPOS', 'ruleIssueType': 'misspelling', 'sentence': 'Броуновское движение, также называемое Винеровским процессом, получается интегрированием сигнала белого шума:'}),\n",
              " Match({'ruleId': 'MORFOLOGIK_RULE_RU_RU', 'message': 'Возможно найдена орфографическая ошибка.', 'replacements': ['Бисеровским', 'Гиляровским', 'Вигнеровским'], 'offsetInContext': 39, 'context': 'Броуновское движение, также называемое Винеровским процессом, получается интегрированием с...', 'offset': 39, 'errorLength': 11, 'category': 'TYPOS', 'ruleIssueType': 'misspelling', 'sentence': 'Броуновское движение, также называемое Винеровским процессом, получается интегрированием сигнала белого шума:'}),\n",
              " Match({'ruleId': 'MORFOLOGIK_RULE_RU_RU', 'message': 'Возможно найдена орфографическая ошибка.', 'replacements': ['Бисеровским', 'Гиляровским', 'Вигнеровским'], 'offsetInContext': 39, 'context': 'Броуновское движение, также называемое Винеровским процессом, получается интегрированием с...', 'offset': 39, 'errorLength': 11, 'category': 'TYPOS', 'ruleIssueType': 'misspelling', 'sentence': 'Броуновское движение, также называемое Винеровским процессом, получается интегрированием сигнала белого шума:'}),\n",
              " Match({'ruleId': 'MORFOLOGIK_RULE_RU_RU', 'message': 'Возможно найдена орфографическая ошибка.', 'replacements': ['Бисеровским', 'Гиляровским', 'Вигнеровским'], 'offsetInContext': 39, 'context': 'Броуновское движение, также называемое Винеровским процессом, получается интегрированием с...', 'offset': 39, 'errorLength': 11, 'category': 'TYPOS', 'ruleIssueType': 'misspelling', 'sentence': 'Броуновское движение, также называемое Винеровским процессом, получается интегрированием сигнала белого шума:'}),\n",
              " Match({'ruleId': 'MORFOLOGIK_RULE_RU_RU', 'message': 'Возможно найдена орфографическая ошибка.', 'replacements': ['Бисеровским', 'Гиляровским', 'Вигнеровским'], 'offsetInContext': 39, 'context': 'Броуновское движение, также называемое Винеровским процессом, получается интегрированием с...', 'offset': 39, 'errorLength': 11, 'category': 'TYPOS', 'ruleIssueType': 'misspelling', 'sentence': 'Броуновское движение, также называемое Винеровским процессом, получается интегрированием сигнала белого шума:'}),\n",
              " Match({'ruleId': 'MORFOLOGIK_RULE_RU_RU', 'message': 'Возможно найдена орфографическая ошибка.', 'replacements': ['поляжем', 'полутеням', 'полутяжёлом', 'полутяжёлым', 'полутяжелом', 'полутяжелым'], 'offsetInContext': 43, 'context': '...хороший послужной список, но был бывшим полутяжем и был явным аутсайдером в бою с Виталие...', 'offset': 50, 'errorLength': 9, 'category': 'TYPOS', 'ruleIssueType': 'misspelling', 'sentence': 'Бёрд имел хороший послужной список, но был бывшим полутяжем и был явным аутсайдером в бою с Виталием.'}),\n",
              " Match({'ruleId': 'MORFOLOGIK_RULE_RU_RU', 'message': 'Возможно найдена орфографическая ошибка.', 'replacements': ['поляжем', 'полутеням', 'полутяжёлом', 'полутяжёлым', 'полутяжелом', 'полутяжелым'], 'offsetInContext': 43, 'context': '...хороший послужной список, но был бывшим полутяжем и был явным аутсайдером в бою с Виталие...', 'offset': 50, 'errorLength': 9, 'category': 'TYPOS', 'ruleIssueType': 'misspelling', 'sentence': 'Бёрд имел хороший послужной список, но был бывшим полутяжем и был явным аутсайдером в бою с Виталием.'}),\n",
              " Match({'ruleId': 'MORFOLOGIK_RULE_RU_RU', 'message': 'Возможно найдена орфографическая ошибка.', 'replacements': ['поляжем', 'полутеням', 'полутяжёлом', 'полутяжёлым', 'полутяжелом', 'полутяжелым'], 'offsetInContext': 43, 'context': '...хороший послужной список, но был бывшим полутяжем и был явным аутсайдером в бою с Виталие...', 'offset': 50, 'errorLength': 9, 'category': 'TYPOS', 'ruleIssueType': 'misspelling', 'sentence': 'Бёрд имел хороший послужной список, но был бывшим полутяжем и был явным аутсайдером в бою с Виталием.'}),\n",
              " Match({'ruleId': 'MORFOLOGIK_RULE_RU_RU', 'message': 'Возможно найдена орфографическая ошибка.', 'replacements': ['поляжем', 'полутеням', 'полутяжёлом', 'полутяжёлым', 'полутяжелом', 'полутяжелым'], 'offsetInContext': 43, 'context': '...хороший послужной список, но был бывшим полутяжем и был явным аутсайдером в бою с Виталие...', 'offset': 50, 'errorLength': 9, 'category': 'TYPOS', 'ruleIssueType': 'misspelling', 'sentence': 'Бёрд имел хороший послужной список, но был бывшим полутяжем и был явным аутсайдером в бою с Виталием.'}),\n",
              " Match({'ruleId': 'MORFOLOGIK_RULE_RU_RU', 'message': 'Возможно найдена орфографическая ошибка.', 'replacements': ['поляжем', 'полутеням', 'полутяжёлом', 'полутяжёлым', 'полутяжелом', 'полутяжелым'], 'offsetInContext': 43, 'context': '...хороший послужной список, но был бывшим полутяжем и был явным аутсайдером в бою с Виталие...', 'offset': 50, 'errorLength': 9, 'category': 'TYPOS', 'ruleIssueType': 'misspelling', 'sentence': 'Бёрд имел хороший послужной список, но был бывшим полутяжем и был явным аутсайдером в бою с Виталием.'}),\n",
              " Match({'ruleId': 'MORFOLOGIK_RULE_RU_RU', 'message': 'Возможно найдена орфографическая ошибка.', 'replacements': ['Алиби', 'Завидки', 'Адиби', 'Афимии', 'Афимьи', 'Ахимии', 'Алимбаи', 'Алими', 'Алимжи', 'Амимии', 'Авами', 'Авигеи', 'Авии', 'Авики', 'Авили', 'Авим', 'Авима', 'Авимах', 'Авимам', 'Авимами', 'Авиме', 'Авимом', 'Авимов', 'Авиму', 'Авимы', 'Авиями', 'Азимбаи', 'Бомби', 'Бовами', 'Булимии', 'Давии', 'Давили', 'Давилки', 'Давим', 'Давима', 'Давимая', 'Давимо', 'Давимою', 'Давимое', 'Давимой', 'Давимом', 'Давимся', 'Давимую', 'Давимы', 'Давимые', 'Давимых', 'Давимый', 'Давимым', 'Давимыми', 'Давиями', 'Давивши', 'Давними', 'Давшими', 'Домби', 'Довили', 'Довинти', 'Довивши', 'Дошиби', 'Дувшими', 'Еуфимии', 'Фагими', 'Фаими', 'Фавии', 'Фавили', 'Фавиями', 'Говики', 'Гуавами', 'Гулимбаи', 'Иовами', 'Йовами', 'Какими', 'Калимба', 'Калими', 'Карими', 'Коими', 'Комби', 'Ковами', 'Ковкими', 'Лавами', 'Лавии', 'Лавинии', 'Лавиями', 'Ловами', 'Ловили', 'Ловим', 'Ловима', 'Ловимая', 'Ловимо', 'Ловимою', 'Ловимое', 'Ловимой', 'Ловимом', 'Ловимся', 'Ловимую', 'Ловимы', 'Ловимые', 'Ловимых', 'Ловимый', 'Ловимым', 'Ловимыми', 'Ловивши', 'Ловкими', 'Ловчими', 'Маримб', 'Маримба', 'Маримбе', 'Маримбу', 'Маримбы', 'Мавии', 'Мавиями', 'Моими', 'Надими', 'Нагими', 'Налимьи', 'Навили', 'Навинти', 'Нависли', 'Нависни', 'Нависши', 'Навивки', 'Навивши', 'Навями', 'Навьими', 'Нашими', 'Новики', 'Новинки', 'Новички', 'Новями', 'Новыми', 'Павами', 'Павьими', 'Павшими', 'Побомби', 'Погиби', 'Поимки', 'Повили', 'Повинти', 'Повиси', 'Повисли', 'Повисни', 'Повисши', 'Повивши', 'Повизжи', 'Повымри', 'Пущими', 'Рахимбаи', 'Рахими', 'Ражими', 'Равии', 'Равики', 'Равили', 'Равильи', 'Равим', 'Равима', 'Равимах', 'Равимам', 'Равимами', 'Равиме', 'Равимою', 'Равимой', 'Равиму', 'Равимы', 'Равиоли', 'Равиями', 'Ровики', 'Ровинги', 'Рувили', 'Рувим', 'Рувима', 'Рувимах', 'Рувимам', 'Рувимами', 'Рувиме', 'Рувимом', 'Рувимов', 'Рувиму', 'Рувимы', 'Салимбаи', 'Самими', 'Савики', 'Совами', 'Совики', 'Совкими', 'Совьими', 'Сухими', 'Сущими', 'Такими', 'Товии', 'Товиями', 'Тощими', 'Тугими', 'Тувинки', 'Жавшими', 'Вавилии', 'Вашими', 'Вомни', 'Вомчи', 'Вовами', 'Вовики', 'Заимки', 'Зажимки', 'Завами', 'Завили', 'Завинти', 'Зависли', 'Зависни', 'Зависти', 'Зависши', 'Завитки', 'Завивки', 'Завивши', 'Завизжи', 'Зазимки', 'Зашиби', 'Зомби', 'Зосими', 'Зовами', 'Зуавами', 'Чужими', 'Чувихи', 'Савелии', 'Сашами', 'Севильи', 'Софии', 'Сухуми', 'Сумами'], 'offsetInContext': 43, 'context': '...л установлен контроль над малой родиной Савимби — селением Муньянго, где лидер УНИТА де...', 'offset': 54, 'errorLength': 7, 'category': 'TYPOS', 'ruleIssueType': 'misspelling', 'sentence': 'В 1986 году был установлен контроль над малой родиной Савимби — селением Муньянго, где лидер УНИТА демонстративно провёл пресс-конференцию.'}),\n",
              " Match({'ruleId': 'MORFOLOGIK_RULE_RU_RU', 'message': 'Возможно найдена орфографическая ошибка.', 'replacements': ['Маньяно', 'Бурьянно', 'Бурьянного', 'Куньего'], 'offsetInContext': 43, 'context': '...ль над малой родиной Савимби — селением Муньянго, где лидер УНИТА демонстративно провёл ...', 'offset': 73, 'errorLength': 8, 'category': 'TYPOS', 'ruleIssueType': 'misspelling', 'sentence': 'В 1986 году был установлен контроль над малой родиной Савимби — селением Муньянго, где лидер УНИТА демонстративно провёл пресс-конференцию.'}),\n",
              " Match({'ruleId': 'MORFOLOGIK_RULE_RU_RU', 'message': 'Возможно найдена орфографическая ошибка.', 'replacements': ['Алиби', 'Завидки', 'Адиби', 'Афимии', 'Афимьи', 'Ахимии', 'Алимбаи', 'Алими', 'Алимжи', 'Амимии', 'Авами', 'Авигеи', 'Авии', 'Авики', 'Авили', 'Авим', 'Авима', 'Авимах', 'Авимам', 'Авимами', 'Авиме', 'Авимом', 'Авимов', 'Авиму', 'Авимы', 'Авиями', 'Азимбаи', 'Бомби', 'Бовами', 'Булимии', 'Давии', 'Давили', 'Давилки', 'Давим', 'Давима', 'Давимая', 'Давимо', 'Давимою', 'Давимое', 'Давимой', 'Давимом', 'Давимся', 'Давимую', 'Давимы', 'Давимые', 'Давимых', 'Давимый', 'Давимым', 'Давимыми', 'Давиями', 'Давивши', 'Давними', 'Давшими', 'Домби', 'Довили', 'Довинти', 'Довивши', 'Дошиби', 'Дувшими', 'Еуфимии', 'Фагими', 'Фаими', 'Фавии', 'Фавили', 'Фавиями', 'Говики', 'Гуавами', 'Гулимбаи', 'Иовами', 'Йовами', 'Какими', 'Калимба', 'Калими', 'Карими', 'Коими', 'Комби', 'Ковами', 'Ковкими', 'Лавами', 'Лавии', 'Лавинии', 'Лавиями', 'Ловами', 'Ловили', 'Ловим', 'Ловима', 'Ловимая', 'Ловимо', 'Ловимою', 'Ловимое', 'Ловимой', 'Ловимом', 'Ловимся', 'Ловимую', 'Ловимы', 'Ловимые', 'Ловимых', 'Ловимый', 'Ловимым', 'Ловимыми', 'Ловивши', 'Ловкими', 'Ловчими', 'Маримб', 'Маримба', 'Маримбе', 'Маримбу', 'Маримбы', 'Мавии', 'Мавиями', 'Моими', 'Надими', 'Нагими', 'Налимьи', 'Навили', 'Навинти', 'Нависли', 'Нависни', 'Нависши', 'Навивки', 'Навивши', 'Навями', 'Навьими', 'Нашими', 'Новики', 'Новинки', 'Новички', 'Новями', 'Новыми', 'Павами', 'Павьими', 'Павшими', 'Побомби', 'Погиби', 'Поимки', 'Повили', 'Повинти', 'Повиси', 'Повисли', 'Повисни', 'Повисши', 'Повивши', 'Повизжи', 'Повымри', 'Пущими', 'Рахимбаи', 'Рахими', 'Ражими', 'Равии', 'Равики', 'Равили', 'Равильи', 'Равим', 'Равима', 'Равимах', 'Равимам', 'Равимами', 'Равиме', 'Равимою', 'Равимой', 'Равиму', 'Равимы', 'Равиоли', 'Равиями', 'Ровики', 'Ровинги', 'Рувили', 'Рувим', 'Рувима', 'Рувимах', 'Рувимам', 'Рувимами', 'Рувиме', 'Рувимом', 'Рувимов', 'Рувиму', 'Рувимы', 'Салимбаи', 'Самими', 'Савики', 'Совами', 'Совики', 'Совкими', 'Совьими', 'Сухими', 'Сущими', 'Такими', 'Товии', 'Товиями', 'Тощими', 'Тугими', 'Тувинки', 'Жавшими', 'Вавилии', 'Вашими', 'Вомни', 'Вомчи', 'Вовами', 'Вовики', 'Заимки', 'Зажимки', 'Завами', 'Завили', 'Завинти', 'Зависли', 'Зависни', 'Зависти', 'Зависши', 'Завитки', 'Завивки', 'Завивши', 'Завизжи', 'Зазимки', 'Зашиби', 'Зомби', 'Зосими', 'Зовами', 'Зуавами', 'Чужими', 'Чувихи', 'Савелии', 'Сашами', 'Севильи', 'Софии', 'Сухуми', 'Сумами'], 'offsetInContext': 43, 'context': '...л установлен контроль над малой родиной Савимби — селением Муньянго, где лидер УНИТА де...', 'offset': 54, 'errorLength': 7, 'category': 'TYPOS', 'ruleIssueType': 'misspelling', 'sentence': 'В 1986 году был установлен контроль над малой родиной Савимби — селением Муньянго, где лидер УНИТА демонстративно провёл пресс-конференцию.'}),\n",
              " Match({'ruleId': 'MORFOLOGIK_RULE_RU_RU', 'message': 'Возможно найдена орфографическая ошибка.', 'replacements': ['Маньяно', 'Бурьянно', 'Бурьянного', 'Куньего'], 'offsetInContext': 43, 'context': '...ль над малой родиной Савимби — селением Муньянго, где лидер УНИТА демонстративно провёл ...', 'offset': 73, 'errorLength': 8, 'category': 'TYPOS', 'ruleIssueType': 'misspelling', 'sentence': 'В 1986 году был установлен контроль над малой родиной Савимби — селением Муньянго, где лидер УНИТА демонстративно провёл пресс-конференцию.'}),\n",
              " Match({'ruleId': 'MORFOLOGIK_RULE_RU_RU', 'message': 'Возможно найдена орфографическая ошибка.', 'replacements': [], 'offsetInContext': 43, 'context': '...казском регионе водятся леопард, гиена, енот-полоскун, перевязка, тур, серна и большое количе...', 'offset': 45, 'errorLength': 13, 'category': 'TYPOS', 'ruleIssueType': 'misspelling', 'sentence': 'В Кавказском регионе водятся леопард, гиена, енот-полоскун, перевязка, тур, серна и большое количество рептилий.'}),\n",
              " Match({'ruleId': 'MORFOLOGIK_RULE_RU_RU', 'message': 'Возможно найдена орфографическая ошибка.', 'replacements': [], 'offsetInContext': 43, 'context': '...казском регионе водятся леопард, гиена, енот-полоскун, перевязка, тур, серна и большое количе...', 'offset': 45, 'errorLength': 13, 'category': 'TYPOS', 'ruleIssueType': 'misspelling', 'sentence': 'В Кавказском регионе водятся леопард, гиена, енот-полоскун, перевязка, тур, серна и большое количество рептилий.'}),\n",
              " Match({'ruleId': 'MORFOLOGIK_RULE_RU_RU', 'message': 'Возможно найдена орфографическая ошибка.', 'replacements': [], 'offsetInContext': 43, 'context': '...казском регионе водятся леопард, гиена, енот-полоскун, перевязка, тур, серна и большое количе...', 'offset': 45, 'errorLength': 13, 'category': 'TYPOS', 'ruleIssueType': 'misspelling', 'sentence': 'В Кавказском регионе водятся леопард, гиена, енот-полоскун, перевязка, тур, серна и большое количество рептилий.'}),\n",
              " Match({'ruleId': 'MORFOLOGIK_RULE_RU_RU', 'message': 'Возможно найдена орфографическая ошибка.', 'replacements': [], 'offsetInContext': 43, 'context': '...казском регионе водятся леопард, гиена, енот-полоскун, перевязка, тур, серна и большое количе...', 'offset': 45, 'errorLength': 13, 'category': 'TYPOS', 'ruleIssueType': 'misspelling', 'sentence': 'В Кавказском регионе водятся леопард, гиена, енот-полоскун, перевязка, тур, серна и большое количество рептилий.'}),\n",
              " Match({'ruleId': 'MORFOLOGIK_RULE_RU_RU', 'message': 'Возможно найдена орфографическая ошибка.', 'replacements': [], 'offsetInContext': 43, 'context': '...казском регионе водятся леопард, гиена, енот-полоскун, перевязка, тур, серна и большое количе...', 'offset': 45, 'errorLength': 13, 'category': 'TYPOS', 'ruleIssueType': 'misspelling', 'sentence': 'В Кавказском регионе водятся леопард, гиена, енот-полоскун, перевязка, тур, серна и большое количество рептилий.'}),\n",
              " Match({'ruleId': 'MORFOLOGIK_RULE_RU_RU', 'message': 'Возможно найдена орфографическая ошибка.', 'replacements': ['Гиленко', 'Силенко', 'Милен ко'], 'offsetInContext': 43, 'context': '...шиловградского театра в постановке К.Д. Миленко.', 'offset': 115, 'errorLength': 7, 'category': 'TYPOS', 'ruleIssueType': 'misspelling', 'sentence': 'В Москве на сцене театра им. Маяковского спектакль был показан труппой Ворошиловградского театра в постановке К.Д. Миленко.'}),\n",
              " Match({'ruleId': 'MORFOLOGIK_RULE_RU_RU', 'message': 'Возможно найдена орфографическая ошибка.', 'replacements': [], 'offsetInContext': 43, 'context': '...-восточные русские земли, где было мало бояр-вотчинников.', 'offset': 78, 'errorLength': 16, 'category': 'TYPOS', 'ruleIssueType': 'misspelling', 'sentence': 'В Опричнину попали, в основном, северо-восточные русские земли, где было мало бояр-вотчинников.'}),\n",
              " Match({'ruleId': 'MORFOLOGIK_RULE_RU_RU', 'message': 'Возможно найдена орфографическая ошибка.', 'replacements': [], 'offsetInContext': 43, 'context': '...-восточные русские земли, где было мало бояр-вотчинников.', 'offset': 78, 'errorLength': 16, 'category': 'TYPOS', 'ruleIssueType': 'misspelling', 'sentence': 'В Опричнину попали, в основном, северо-восточные русские земли, где было мало бояр-вотчинников.'}),\n",
              " Match({'ruleId': 'MORFOLOGIK_RULE_RU_RU', 'message': 'Возможно найдена орфографическая ошибка.', 'replacements': [], 'offsetInContext': 43, 'context': '...-восточные русские земли, где было мало бояр-вотчинников.', 'offset': 78, 'errorLength': 16, 'category': 'TYPOS', 'ruleIssueType': 'misspelling', 'sentence': 'В Опричнину попали, в основном, северо-восточные русские земли, где было мало бояр-вотчинников.'}),\n",
              " Match({'ruleId': 'MORFOLOGIK_RULE_RU_RU', 'message': 'Возможно найдена орфографическая ошибка.', 'replacements': [], 'offsetInContext': 43, 'context': '...-восточные русские земли, где было мало бояр-вотчинников.', 'offset': 78, 'errorLength': 16, 'category': 'TYPOS', 'ruleIssueType': 'misspelling', 'sentence': 'В Опричнину попали, в основном, северо-восточные русские земли, где было мало бояр-вотчинников.'}),\n",
              " Match({'ruleId': 'MORFOLOGIK_RULE_RU_RU', 'message': 'Возможно найдена орфографическая ошибка.', 'replacements': [], 'offsetInContext': 43, 'context': '...-восточные русские земли, где было мало бояр-вотчинников.', 'offset': 78, 'errorLength': 16, 'category': 'TYPOS', 'ruleIssueType': 'misspelling', 'sentence': 'В Опричнину попали, в основном, северо-восточные русские земли, где было мало бояр-вотчинников.'}),\n",
              " Match({'ruleId': 'MORFOLOGIK_RULE_RU_RU', 'message': 'Возможно найдена орфографическая ошибка.', 'replacements': ['Грине вич'], 'offsetInContext': 25, 'context': 'В апреле 1863 года Томаш Гриневич организовал и возглавил повстанческий о...', 'offset': 25, 'errorLength': 8, 'category': 'TYPOS', 'ruleIssueType': 'misspelling', 'sentence': 'В апреле 1863 года Томаш Гриневич организовал и возглавил повстанческий отряд в Рогачёвском уезде из жителей шляхетских околиц Антуши, Сеножатки, Тертеж (Чертеж) и Марусеньки.'}),\n",
              " Match({'ruleId': 'MORFOLOGIK_RULE_RU_RU', 'message': 'Возможно найдена орфографическая ошибка.', 'replacements': ['Пугачёвском', 'Рогачевском'], 'offsetInContext': 43, 'context': '...зовал и возглавил повстанческий отряд в Рогачёвском уезде из жителей шляхетских околиц Анту...', 'offset': 80, 'errorLength': 11, 'category': 'TYPOS', 'ruleIssueType': 'misspelling', 'sentence': 'В апреле 1863 года Томаш Гриневич организовал и возглавил повстанческий отряд в Рогачёвском уезде из жителей шляхетских околиц Антуши, Сеножатки, Тертеж (Чертеж) и Марусеньки.'}),\n",
              " Match({'ruleId': 'MORFOLOGIK_RULE_RU_RU', 'message': 'Возможно найдена орфографическая ошибка.', 'replacements': ['Сено жатки'], 'offsetInContext': 43, 'context': '...де из жителей шляхетских околиц Антуши, Сеножатки, Тертеж (Чертеж) и Марусеньки.', 'offset': 135, 'errorLength': 9, 'category': 'TYPOS', 'ruleIssueType': 'misspelling', 'sentence': 'В апреле 1863 года Томаш Гриневич организовал и возглавил повстанческий отряд в Рогачёвском уезде из жителей шляхетских околиц Антуши, Сеножатки, Тертеж (Чертеж) и Марусеньки.'}),\n",
              " Match({'ruleId': 'MORFOLOGIK_RULE_RU_RU', 'message': 'Возможно найдена орфографическая ошибка.', 'replacements': ['Чертеж', 'Чертёж', 'Терт еж'], 'offsetInContext': 43, 'context': '...ей шляхетских околиц Антуши, Сеножатки, Тертеж (Чертеж) и Марусеньки.', 'offset': 146, 'errorLength': 6, 'category': 'TYPOS', 'ruleIssueType': 'misspelling', 'sentence': 'В апреле 1863 года Томаш Гриневич организовал и возглавил повстанческий отряд в Рогачёвском уезде из жителей шляхетских околиц Антуши, Сеножатки, Тертеж (Чертеж) и Марусеньки.'}),\n",
              " Match({'ruleId': 'MORFOLOGIK_RULE_RU_RU', 'message': 'Возможно найдена орфографическая ошибка.', 'replacements': ['Мару сеньки'], 'offsetInContext': 43, 'context': '...иц Антуши, Сеножатки, Тертеж (Чертеж) и Марусеньки.', 'offset': 164, 'errorLength': 10, 'category': 'TYPOS', 'ruleIssueType': 'misspelling', 'sentence': 'В апреле 1863 года Томаш Гриневич организовал и возглавил повстанческий отряд в Рогачёвском уезде из жителей шляхетских околиц Антуши, Сеножатки, Тертеж (Чертеж) и Марусеньки.'}),\n",
              " Match({'ruleId': 'MORFOLOGIK_RULE_RU_RU', 'message': 'Возможно найдена орфографическая ошибка.', 'replacements': ['Грине вич'], 'offsetInContext': 25, 'context': 'В апреле 1863 года Томаш Гриневич организовал и возглавил повстанческий о...', 'offset': 25, 'errorLength': 8, 'category': 'TYPOS', 'ruleIssueType': 'misspelling', 'sentence': 'В апреле 1863 года Томаш Гриневич организовал и возглавил повстанческий отряд в Рогачёвском уезде из жителей шляхетских околиц Антуши, Сеножатки, Тертеж (Чертеж) и Марусеньки.'}),\n",
              " Match({'ruleId': 'MORFOLOGIK_RULE_RU_RU', 'message': 'Возможно найдена орфографическая ошибка.', 'replacements': ['Пугачёвском', 'Рогачевском'], 'offsetInContext': 43, 'context': '...зовал и возглавил повстанческий отряд в Рогачёвском уезде из жителей шляхетских околиц Анту...', 'offset': 80, 'errorLength': 11, 'category': 'TYPOS', 'ruleIssueType': 'misspelling', 'sentence': 'В апреле 1863 года Томаш Гриневич организовал и возглавил повстанческий отряд в Рогачёвском уезде из жителей шляхетских околиц Антуши, Сеножатки, Тертеж (Чертеж) и Марусеньки.'}),\n",
              " Match({'ruleId': 'MORFOLOGIK_RULE_RU_RU', 'message': 'Возможно найдена орфографическая ошибка.', 'replacements': ['Сено жатки'], 'offsetInContext': 43, 'context': '...де из жителей шляхетских околиц Антуши, Сеножатки, Тертеж (Чертеж) и Марусеньки.', 'offset': 135, 'errorLength': 9, 'category': 'TYPOS', 'ruleIssueType': 'misspelling', 'sentence': 'В апреле 1863 года Томаш Гриневич организовал и возглавил повстанческий отряд в Рогачёвском уезде из жителей шляхетских околиц Антуши, Сеножатки, Тертеж (Чертеж) и Марусеньки.'}),\n",
              " Match({'ruleId': 'MORFOLOGIK_RULE_RU_RU', 'message': 'Возможно найдена орфографическая ошибка.', 'replacements': ['Чертеж', 'Чертёж', 'Терт еж'], 'offsetInContext': 43, 'context': '...ей шляхетских околиц Антуши, Сеножатки, Тертеж (Чертеж) и Марусеньки.', 'offset': 146, 'errorLength': 6, 'category': 'TYPOS', 'ruleIssueType': 'misspelling', 'sentence': 'В апреле 1863 года Томаш Гриневич организовал и возглавил повстанческий отряд в Рогачёвском уезде из жителей шляхетских околиц Антуши, Сеножатки, Тертеж (Чертеж) и Марусеньки.'}),\n",
              " Match({'ruleId': 'MORFOLOGIK_RULE_RU_RU', 'message': 'Возможно найдена орфографическая ошибка.', 'replacements': ['Мару сеньки'], 'offsetInContext': 43, 'context': '...иц Антуши, Сеножатки, Тертеж (Чертеж) и Марусеньки.', 'offset': 164, 'errorLength': 10, 'category': 'TYPOS', 'ruleIssueType': 'misspelling', 'sentence': 'В апреле 1863 года Томаш Гриневич организовал и возглавил повстанческий отряд в Рогачёвском уезде из жителей шляхетских околиц Антуши, Сеножатки, Тертеж (Чертеж) и Марусеньки.'}),\n",
              " Match({'ruleId': 'MORFOLOGIK_RULE_RU_RU', 'message': 'Возможно найдена орфографическая ошибка.', 'replacements': [], 'offsetInContext': 2, 'context': 'В вечерне-ночное время могут возникать ощущения нехватки...', 'offset': 2, 'errorLength': 14, 'category': 'TYPOS', 'ruleIssueType': 'misspelling', 'sentence': 'В вечерне-ночное время могут возникать ощущения нехватки воздуха, сердцебиение, потливость, озноб или приливы жара.'}),\n",
              " Match({'ruleId': 'MORFOLOGIK_RULE_RU_RU', 'message': 'Возможно найдена орфографическая ошибка.', 'replacements': [], 'offsetInContext': 2, 'context': 'В вечерне-ночное время могут возникать ощущения нехватки...', 'offset': 2, 'errorLength': 14, 'category': 'TYPOS', 'ruleIssueType': 'misspelling', 'sentence': 'В вечерне-ночное время могут возникать ощущения нехватки воздуха, сердцебиение, потливость, озноб или приливы жара.'}),\n",
              " Match({'ruleId': 'MORFOLOGIK_RULE_RU_RU', 'message': 'Возможно найдена орфографическая ошибка.', 'replacements': [], 'offsetInContext': 2, 'context': 'В вечерне-ночное время могут возникать ощущения нехватки...', 'offset': 2, 'errorLength': 14, 'category': 'TYPOS', 'ruleIssueType': 'misspelling', 'sentence': 'В вечерне-ночное время могут возникать ощущения нехватки воздуха, сердцебиение, потливость, озноб или приливы жара.'}),\n",
              " Match({'ruleId': 'MORFOLOGIK_RULE_RU_RU', 'message': 'Возможно найдена орфографическая ошибка.', 'replacements': [], 'offsetInContext': 2, 'context': 'В вечерне-ночное время могут возникать ощущения нехватки...', 'offset': 2, 'errorLength': 14, 'category': 'TYPOS', 'ruleIssueType': 'misspelling', 'sentence': 'В вечерне-ночное время могут возникать ощущения нехватки воздуха, сердцебиение, потливость, озноб или приливы жара.'}),\n",
              " Match({'ruleId': 'MORFOLOGIK_RULE_RU_RU', 'message': 'Возможно найдена орфографическая ошибка.', 'replacements': [], 'offsetInContext': 2, 'context': 'В вечерне-ночное время могут возникать ощущения нехватки...', 'offset': 2, 'errorLength': 14, 'category': 'TYPOS', 'ruleIssueType': 'misspelling', 'sentence': 'В вечерне-ночное время могут возникать ощущения нехватки воздуха, сердцебиение, потливость, озноб или приливы жара.'}),\n",
              " Match({'ruleId': 'MORFOLOGIK_RULE_RU_RU', 'message': 'Возможно найдена орфографическая ошибка.', 'replacements': ['Теорема', 'Спецтема', 'Алейшему', 'Отёкшему', 'Отёртому', 'Отёршему', 'Отделяема', 'Отекшему', 'Отепляема', 'Отертому', 'Отершему', 'Отменяема', 'Отмеряема', 'Отселяема', 'Оттеняема', 'Рейтера', 'Сейчема', 'Стёкшему', 'Стёртому', 'Стёршему', 'Стеатома', 'Стеатому', 'Стебаема', 'Стебаемо', 'Стегаема', 'Стегаемо', 'Стекшему', 'Стертому', 'Стершему', 'Стесняема', 'Стяжаема', 'Стяжаемо', 'Стреляема', 'Терема', 'Теряема', 'Тертера', 'Тестем', 'Тестера', 'Тестева', 'Тетеха', 'Тойтепа', 'Тотема', 'Утёкшему', 'Утёртому', 'Утёршему', 'Утекшему', 'Утемняема', 'Утепляема', 'Утертому', 'Утершему', 'Утесняема', 'Утешаема', 'Утешаемо', 'Утячьему', 'Втёкшему', 'Втёртому', 'Втёршему', 'Втекшему', 'Втертому', 'Втершему', 'Втесняема', 'Затеняема', 'Злейшему', 'Штейгера', 'Штейгеру', 'Штеттера', 'Штеттеру'], 'offsetInContext': 43, 'context': '...ным образом, со спортсменами, пригласил Стейтема принять участие в рекламной кампании To...', 'offset': 97, 'errorLength': 8, 'category': 'TYPOS', 'ruleIssueType': 'misspelling', 'sentence': 'В конце девяностых один рекламный агент, работающий, главным образом, со спортсменами, пригласил Стейтема принять участие в рекламной кампании Tommy Hilfiger.'}),\n",
              " Match({'ruleId': 'MORFOLOGIK_RULE_RU_RU', 'message': 'Возможно найдена орфографическая ошибка.', 'replacements': ['Теорема', 'Спецтема', 'Алейшему', 'Отёкшему', 'Отёртому', 'Отёршему', 'Отделяема', 'Отекшему', 'Отепляема', 'Отертому', 'Отершему', 'Отменяема', 'Отмеряема', 'Отселяема', 'Оттеняема', 'Рейтера', 'Сейчема', 'Стёкшему', 'Стёртому', 'Стёршему', 'Стеатома', 'Стеатому', 'Стебаема', 'Стебаемо', 'Стегаема', 'Стегаемо', 'Стекшему', 'Стертому', 'Стершему', 'Стесняема', 'Стяжаема', 'Стяжаемо', 'Стреляема', 'Терема', 'Теряема', 'Тертера', 'Тестем', 'Тестера', 'Тестева', 'Тетеха', 'Тойтепа', 'Тотема', 'Утёкшему', 'Утёртому', 'Утёршему', 'Утекшему', 'Утемняема', 'Утепляема', 'Утертому', 'Утершему', 'Утесняема', 'Утешаема', 'Утешаемо', 'Утячьему', 'Втёкшему', 'Втёртому', 'Втёршему', 'Втекшему', 'Втертому', 'Втершему', 'Втесняема', 'Затеняема', 'Злейшему', 'Штейгера', 'Штейгеру', 'Штеттера', 'Штеттеру'], 'offsetInContext': 43, 'context': '...ным образом, со спортсменами, пригласил Стейтема принять участие в рекламной кампании To...', 'offset': 97, 'errorLength': 8, 'category': 'TYPOS', 'ruleIssueType': 'misspelling', 'sentence': 'В конце девяностых один рекламный агент, работающий, главным образом, со спортсменами, пригласил Стейтема принять участие в рекламной кампании Tommy Hilfiger.'}),\n",
              " Match({'ruleId': 'MORFOLOGIK_RULE_RU_RU', 'message': 'Возможно найдена орфографическая ошибка.', 'replacements': ['Теорема', 'Спецтема', 'Алейшему', 'Отёкшему', 'Отёртому', 'Отёршему', 'Отделяема', 'Отекшему', 'Отепляема', 'Отертому', 'Отершему', 'Отменяема', 'Отмеряема', 'Отселяема', 'Оттеняема', 'Рейтера', 'Сейчема', 'Стёкшему', 'Стёртому', 'Стёршему', 'Стеатома', 'Стеатому', 'Стебаема', 'Стебаемо', 'Стегаема', 'Стегаемо', 'Стекшему', 'Стертому', 'Стершему', 'Стесняема', 'Стяжаема', 'Стяжаемо', 'Стреляема', 'Терема', 'Теряема', 'Тертера', 'Тестем', 'Тестера', 'Тестева', 'Тетеха', 'Тойтепа', 'Тотема', 'Утёкшему', 'Утёртому', 'Утёршему', 'Утекшему', 'Утемняема', 'Утепляема', 'Утертому', 'Утершему', 'Утесняема', 'Утешаема', 'Утешаемо', 'Утячьему', 'Втёкшему', 'Втёртому', 'Втёршему', 'Втекшему', 'Втертому', 'Втершему', 'Втесняема', 'Затеняема', 'Злейшему', 'Штейгера', 'Штейгеру', 'Штеттера', 'Штеттеру'], 'offsetInContext': 43, 'context': '...ным образом, со спортсменами, пригласил Стейтема принять участие в рекламной кампании To...', 'offset': 97, 'errorLength': 8, 'category': 'TYPOS', 'ruleIssueType': 'misspelling', 'sentence': 'В конце девяностых один рекламный агент, работающий, главным образом, со спортсменами, пригласил Стейтема принять участие в рекламной кампании Tommy Hilfiger.'}),\n",
              " Match({'ruleId': 'MORFOLOGIK_RULE_RU_RU', 'message': 'Возможно найдена орфографическая ошибка.', 'replacements': ['хара', 'хорда', 'хурма', 'арза', 'борза', 'борзо', 'хамза', 'хамзу', 'харта', 'харту', 'харча', 'харчо', 'харчу', 'хаза', 'хора', 'хорду', 'хорха', 'хорху', 'хорта', 'хорту', 'хурму', 'мурза', 'мурзу', 'х арза', 'хар за'], 'offsetInContext': 43, 'context': '... гималайский медведь, тигр, лесной кот, харза, пятнистый олень, горал.', 'offset': 76, 'errorLength': 5, 'category': 'TYPOS', 'ruleIssueType': 'misspelling', 'sentence': 'В лесах Дальнего Востока встречаются гималайский медведь, тигр, лесной кот, харза, пятнистый олень, горал.'}),\n",
              " Match({'ruleId': 'MORFOLOGIK_RULE_RU_RU', 'message': 'Возможно найдена орфографическая ошибка.', 'replacements': ['хара', 'хорда', 'хурма', 'арза', 'борза', 'борзо', 'хамза', 'хамзу', 'харта', 'харту', 'харча', 'харчо', 'харчу', 'хаза', 'хора', 'хорду', 'хорха', 'хорху', 'хорта', 'хорту', 'хурму', 'мурза', 'мурзу', 'х арза', 'хар за'], 'offsetInContext': 43, 'context': '... гималайский медведь, тигр, лесной кот, харза, пятнистый олень, горал.', 'offset': 76, 'errorLength': 5, 'category': 'TYPOS', 'ruleIssueType': 'misspelling', 'sentence': 'В лесах Дальнего Востока встречаются гималайский медведь, тигр, лесной кот, харза, пятнистый олень, горал.'}),\n",
              " Match({'ruleId': 'MORFOLOGIK_RULE_RU_RU', 'message': 'Возможно найдена орфографическая ошибка.', 'replacements': ['хара', 'хорда', 'хурма', 'арза', 'борза', 'борзо', 'хамза', 'хамзу', 'харта', 'харту', 'харча', 'харчо', 'харчу', 'хаза', 'хора', 'хорду', 'хорха', 'хорху', 'хорта', 'хорту', 'хурму', 'мурза', 'мурзу', 'х арза', 'хар за'], 'offsetInContext': 43, 'context': '... гималайский медведь, тигр, лесной кот, харза, пятнистый олень, горал.', 'offset': 76, 'errorLength': 5, 'category': 'TYPOS', 'ruleIssueType': 'misspelling', 'sentence': 'В лесах Дальнего Востока встречаются гималайский медведь, тигр, лесной кот, харза, пятнистый олень, горал.'}),\n",
              " Match({'ruleId': 'MORFOLOGIK_RULE_RU_RU', 'message': 'Возможно найдена орфографическая ошибка.', 'replacements': ['хара', 'хорда', 'хурма', 'арза', 'борза', 'борзо', 'хамза', 'хамзу', 'харта', 'харту', 'харча', 'харчо', 'харчу', 'хаза', 'хора', 'хорду', 'хорха', 'хорху', 'хорта', 'хорту', 'хурму', 'мурза', 'мурзу', 'х арза', 'хар за'], 'offsetInContext': 43, 'context': '... гималайский медведь, тигр, лесной кот, харза, пятнистый олень, горал.', 'offset': 76, 'errorLength': 5, 'category': 'TYPOS', 'ruleIssueType': 'misspelling', 'sentence': 'В лесах Дальнего Востока встречаются гималайский медведь, тигр, лесной кот, харза, пятнистый олень, горал.'}),\n",
              " Match({'ruleId': 'MORFOLOGIK_RULE_RU_RU', 'message': 'Возможно найдена орфографическая ошибка.', 'replacements': ['хара', 'хорда', 'хурма', 'арза', 'борза', 'борзо', 'хамза', 'хамзу', 'харта', 'харту', 'харча', 'харчо', 'харчу', 'хаза', 'хора', 'хорду', 'хорха', 'хорху', 'хорта', 'хорту', 'хурму', 'мурза', 'мурзу', 'х арза', 'хар за'], 'offsetInContext': 43, 'context': '... гималайский медведь, тигр, лесной кот, харза, пятнистый олень, горал.', 'offset': 76, 'errorLength': 5, 'category': 'TYPOS', 'ruleIssueType': 'misspelling', 'sentence': 'В лесах Дальнего Востока встречаются гималайский медведь, тигр, лесной кот, харза, пятнистый олень, горал.'}),\n",
              " Match({'ruleId': 'MORFOLOGIK_RULE_RU_RU', 'message': 'Возможно найдена орфографическая ошибка.', 'replacements': ['Доналду', 'Рон алду', 'Роналд у'], 'offsetInContext': 18, 'context': 'В матче с Россией Роналду вышел на замену во втором тайме и отдал...', 'offset': 18, 'errorLength': 7, 'category': 'TYPOS', 'ruleIssueType': 'misspelling', 'sentence': 'В матче с Россией Роналду вышел на замену во втором тайме и отдал голевую передачу.'}),\n",
              " Match({'ruleId': 'MORFOLOGIK_RULE_RU_RU', 'message': 'Возможно найдена орфографическая ошибка.', 'replacements': ['детстве', 'кокетстве'], 'offsetInContext': 10, 'context': 'В местном кметстве Ветрен, в состав которого входит Ветрен...', 'offset': 10, 'errorLength': 8, 'category': 'TYPOS', 'ruleIssueType': 'misspelling', 'sentence': 'В местном кметстве Ветрен, в состав которого входит Ветрен, должность кмета (старосты) исполняет Атанас Василев Танев (независимый) по результатам выборов 2007 года правления кметства.'}),\n",
              " Match({'ruleId': 'MORFOLOGIK_RULE_RU_RU', 'message': 'Возможно найдена орфографическая ошибка.', 'replacements': ['смета', 'комета', 'мета', 'амета', 'амету', 'кета', 'клята', 'клято', 'квета', 'квету', 'кьята', 'кьяту', 'омёта', 'омёту', 'омета', 'омету', 'смету', 'смята', 'смято', 'умёта', 'умёту', 'умета', 'умету', 'умята', 'умято', 'вмету', 'вмята', 'вмято', 'к мета'], 'offsetInContext': 43, 'context': '...остав которого входит Ветрен, должность кмета (старосты) исполняет Атанас Василев Тан...', 'offset': 70, 'errorLength': 5, 'category': 'TYPOS', 'ruleIssueType': 'misspelling', 'sentence': 'В местном кметстве Ветрен, в состав которого входит Ветрен, должность кмета (старосты) исполняет Атанас Василев Танев (независимый) по результатам выборов 2007 года правления кметства.'}),\n",
              " Match({'ruleId': 'MORFOLOGIK_RULE_RU_RU', 'message': 'Возможно найдена орфографическая ошибка.', 'replacements': ['Бунев', 'Доняв', 'Гоняв', 'Гуняв', 'Канев', 'Конев', 'Лунев', 'Наняв', 'Понёв', 'Понев', 'Поняв', 'Роняв', 'Воняв', 'Заняв', 'Щуняв', 'Тане', 'Танею', 'Таней', 'Таня', 'Танях', 'Таням', 'Тоне', 'Тонею', 'Тоней', 'Тоня', 'Тан ев', 'Тане в'], 'offsetInContext': 43, 'context': '...ета (старосты) исполняет Атанас Василев Танев (независимый) по результатам выборов 20...', 'offset': 112, 'errorLength': 5, 'category': 'TYPOS', 'ruleIssueType': 'misspelling', 'sentence': 'В местном кметстве Ветрен, в состав которого входит Ветрен, должность кмета (старосты) исполняет Атанас Василев Танев (независимый) по результатам выборов 2007 года правления кметства.'}),\n",
              " Match({'ruleId': 'MORFOLOGIK_RULE_RU_RU', 'message': 'Возможно найдена орфографическая ошибка.', 'replacements': ['детства', 'кокетства'], 'offsetInContext': 43, 'context': '...результатам выборов 2007 года правления кметства.', 'offset': 175, 'errorLength': 8, 'category': 'TYPOS', 'ruleIssueType': 'misspelling', 'sentence': 'В местном кметстве Ветрен, в состав которого входит Ветрен, должность кмета (старосты) исполняет Атанас Василев Танев (независимый) по результатам выборов 2007 года правления кметства.'}),\n",
              " Match({'ruleId': 'MORFOLOGIK_RULE_RU_RU', 'message': 'Возможно найдена орфографическая ошибка.', 'replacements': [], 'offsetInContext': 43, 'context': '...либералами и радикалами Италии во время Рисорджименто именно либералы, а не консерваторы обра...', 'offset': 55, 'errorLength': 13, 'category': 'TYPOS', 'ruleIssueType': 'misspelling', 'sentence': 'В объединённой либералами и радикалами Италии во время Рисорджименто именно либералы, а не консерваторы образовали партию правых.'}),\n",
              " Match({'ruleId': 'MORFOLOGIK_RULE_RU_RU', 'message': 'Возможно найдена орфографическая ошибка.', 'replacements': [], 'offsetInContext': 43, 'context': '...либералами и радикалами Италии во время Рисорджименто именно либералы, а не консерваторы обра...', 'offset': 55, 'errorLength': 13, 'category': 'TYPOS', 'ruleIssueType': 'misspelling', 'sentence': 'В объединённой либералами и радикалами Италии во время Рисорджименто именно либералы, а не консерваторы образовали партию правых.'}),\n",
              " Match({'ruleId': 'MORFOLOGIK_RULE_RU_RU', 'message': 'Возможно найдена орфографическая ошибка.', 'replacements': [], 'offsetInContext': 43, 'context': '...либералами и радикалами Италии во время Рисорджименто именно либералы, а не консерваторы обра...', 'offset': 55, 'errorLength': 13, 'category': 'TYPOS', 'ruleIssueType': 'misspelling', 'sentence': 'В объединённой либералами и радикалами Италии во время Рисорджименто именно либералы, а не консерваторы образовали партию правых.'}),\n",
              " Match({'ruleId': 'MORFOLOGIK_RULE_RU_RU', 'message': 'Возможно найдена орфографическая ошибка.', 'replacements': [], 'offsetInContext': 43, 'context': '...либералами и радикалами Италии во время Рисорджименто именно либералы, а не консерваторы обра...', 'offset': 55, 'errorLength': 13, 'category': 'TYPOS', 'ruleIssueType': 'misspelling', 'sentence': 'В объединённой либералами и радикалами Италии во время Рисорджименто именно либералы, а не консерваторы образовали партию правых.'}),\n",
              " Match({'ruleId': 'MORFOLOGIK_RULE_RU_RU', 'message': 'Возможно найдена орфографическая ошибка.', 'replacements': [], 'offsetInContext': 43, 'context': '...либералами и радикалами Италии во время Рисорджименто именно либералы, а не консерваторы обра...', 'offset': 55, 'errorLength': 13, 'category': 'TYPOS', 'ruleIssueType': 'misspelling', 'sentence': 'В объединённой либералами и радикалами Италии во время Рисорджименто именно либералы, а не консерваторы образовали партию правых.'}),\n",
              " Match({'ruleId': 'MORFOLOGIK_RULE_RU_RU', 'message': 'Возможно найдена орфографическая ошибка.', 'replacements': ['инсулин зависимых'], 'offsetInContext': 43, 'context': '...ушение рецепторов инсулина на мембранах инсулинзависимых клеток.', 'offset': 123, 'errorLength': 16, 'category': 'TYPOS', 'ruleIssueType': 'misspelling', 'sentence': 'В основе заболевания лежит ускорение инактивации инсулина или же специфическое разрушение рецепторов инсулина на мембранах инсулинзависимых клеток.'}),\n",
              " Match({'ruleId': 'MORFOLOGIK_RULE_RU_RU', 'message': 'Возможно найдена орфографическая ошибка.', 'replacements': ['инсулин зависимых'], 'offsetInContext': 43, 'context': '...ушение рецепторов инсулина на мембранах инсулинзависимых клеток.', 'offset': 123, 'errorLength': 16, 'category': 'TYPOS', 'ruleIssueType': 'misspelling', 'sentence': 'В основе заболевания лежит ускорение инактивации инсулина или же специфическое разрушение рецепторов инсулина на мембранах инсулинзависимых клеток.'}),\n",
              " Match({'ruleId': 'MORFOLOGIK_RULE_RU_RU', 'message': 'Возможно найдена орфографическая ошибка.', 'replacements': ['инсулин зависимых'], 'offsetInContext': 43, 'context': '...ушение рецепторов инсулина на мембранах инсулинзависимых клеток.', 'offset': 123, 'errorLength': 16, 'category': 'TYPOS', 'ruleIssueType': 'misspelling', 'sentence': 'В основе заболевания лежит ускорение инактивации инсулина или же специфическое разрушение рецепторов инсулина на мембранах инсулинзависимых клеток.'}),\n",
              " Match({'ruleId': 'MORFOLOGIK_RULE_RU_RU', 'message': 'Возможно найдена орфографическая ошибка.', 'replacements': [], 'offsetInContext': 2, 'context': 'В плацебо-контролируемых испытаниях наблюдалось статистически зн...', 'offset': 2, 'errorLength': 22, 'category': 'TYPOS', 'ruleIssueType': 'misspelling', 'sentence': 'В плацебо-контролируемых испытаниях наблюдалось статистически значимое повышение количества завершённых суицидов на фоне активного лечения нейролептиками.'}),\n",
              " Match({'ruleId': 'MORFOLOGIK_RULE_RU_RU', 'message': 'Возможно найдена орфографическая ошибка.', 'replacements': [], 'offsetInContext': 2, 'context': 'В плацебо-контролируемых испытаниях наблюдалось статистически зн...', 'offset': 2, 'errorLength': 22, 'category': 'TYPOS', 'ruleIssueType': 'misspelling', 'sentence': 'В плацебо-контролируемых испытаниях наблюдалось статистически значимое повышение количества завершённых суицидов на фоне активного лечения нейролептиками.'}),\n",
              " Match({'ruleId': 'MORFOLOGIK_RULE_RU_RU', 'message': 'Возможно найдена орфографическая ошибка.', 'replacements': [], 'offsetInContext': 2, 'context': 'В плацебо-контролируемых испытаниях наблюдалось статистически зн...', 'offset': 2, 'errorLength': 22, 'category': 'TYPOS', 'ruleIssueType': 'misspelling', 'sentence': 'В плацебо-контролируемых испытаниях наблюдалось статистически значимое повышение количества завершённых суицидов на фоне активного лечения нейролептиками.'}),\n",
              " Match({'ruleId': 'MORFOLOGIK_RULE_RU_RU', 'message': 'Возможно найдена орфографическая ошибка.', 'replacements': ['Доналду', 'Рон алду', 'Роналд у'], 'offsetInContext': 43, 'context': '...группового этапа против сборной Венгрии Роналду оформил дубль и отдал голевую передачу....', 'offset': 58, 'errorLength': 7, 'category': 'TYPOS', 'ruleIssueType': 'misspelling', 'sentence': 'В последнем матче группового этапа против сборной Венгрии Роналду оформил дубль и отдал голевую передачу.'}),\n",
              " Match({'ruleId': 'MORFOLOGIK_RULE_RU_RU', 'message': 'Возможно найдена орфографическая ошибка.', 'replacements': ['Доналду', 'Рон алду', 'Роналд у'], 'offsetInContext': 43, 'context': '...группового этапа против сборной Венгрии Роналду оформил дубль и отдал голевую передачу....', 'offset': 58, 'errorLength': 7, 'category': 'TYPOS', 'ruleIssueType': 'misspelling', 'sentence': 'В последнем матче группового этапа против сборной Венгрии Роналду оформил дубль и отдал голевую передачу.'}),\n",
              " Match({'ruleId': 'MORFOLOGIK_RULE_RU_RU', 'message': 'Возможно найдена орфографическая ошибка.', 'replacements': ['Доналду', 'Рон алду', 'Роналд у'], 'offsetInContext': 43, 'context': '...группового этапа против сборной Венгрии Роналду оформил дубль и отдал голевую передачу....', 'offset': 58, 'errorLength': 7, 'category': 'TYPOS', 'ruleIssueType': 'misspelling', 'sentence': 'В последнем матче группового этапа против сборной Венгрии Роналду оформил дубль и отдал голевую передачу.'}),\n",
              " Match({'ruleId': 'MORFOLOGIK_RULE_RU_RU', 'message': 'Возможно найдена орфографическая ошибка.', 'replacements': ['Доналду', 'Рон алду', 'Роналд у'], 'offsetInContext': 43, 'context': '...группового этапа против сборной Венгрии Роналду оформил дубль и отдал голевую передачу....', 'offset': 58, 'errorLength': 7, 'category': 'TYPOS', 'ruleIssueType': 'misspelling', 'sentence': 'В последнем матче группового этапа против сборной Венгрии Роналду оформил дубль и отдал голевую передачу.'}),\n",
              " Match({'ruleId': 'MORFOLOGIK_RULE_RU_RU', 'message': 'Возможно найдена орфографическая ошибка.', 'replacements': ['Доналду', 'Рон алду', 'Роналд у'], 'offsetInContext': 43, 'context': '...группового этапа против сборной Венгрии Роналду оформил дубль и отдал голевую передачу....', 'offset': 58, 'errorLength': 7, 'category': 'TYPOS', 'ruleIssueType': 'misspelling', 'sentence': 'В последнем матче группового этапа против сборной Венгрии Роналду оформил дубль и отдал голевую передачу.'}),\n",
              " Match({'ruleId': 'MORFOLOGIK_RULE_RU_RU', 'message': 'Возможно найдена орфографическая ошибка.', 'replacements': ['Дуло', 'Мулла', 'Тула', 'Аула', 'Аулу', 'Була', 'Булла', 'Буллу', 'Булу', 'Дула', 'Дулу', 'Фула', 'Фулу', 'Гула', 'Гулу', 'Хула', 'Хулу', 'Мула', 'Муллу', 'Мулу', 'Пула', 'Пулу', 'Руло', 'Сула', 'Сулу', 'Тулу', 'Зулу', 'Куба', 'Кубу', 'Кура', 'Куру'], 'offsetInContext': 43, 'context': '...кие тектонические плиты: Тихоокеанская, Кула, Фараллон и Феникс.', 'offset': 122, 'errorLength': 4, 'category': 'TYPOS', 'ruleIssueType': 'misspelling', 'sentence': 'В пределах тихоокеанской впадины в юрский период развились четыре полностью океанские тектонические плиты: Тихоокеанская, Кула, Фараллон и Феникс.'}),\n",
              " Match({'ruleId': 'MORFOLOGIK_RULE_RU_RU', 'message': 'Возможно найдена орфографическая ошибка.', 'replacements': ['Кораллом', 'Кораллов', 'Нуруллин', 'Нуруллою', 'Нуруллой', 'Поролон'], 'offsetInContext': 43, 'context': '...ктонические плиты: Тихоокеанская, Кула, Фараллон и Феникс.', 'offset': 128, 'errorLength': 8, 'category': 'TYPOS', 'ruleIssueType': 'misspelling', 'sentence': 'В пределах тихоокеанской впадины в юрский период развились четыре полностью океанские тектонические плиты: Тихоокеанская, Кула, Фараллон и Феникс.'}),\n",
              " Match({'ruleId': 'MORFOLOGIK_RULE_RU_RU', 'message': 'Возможно найдена орфографическая ошибка.', 'replacements': ['Дуло', 'Мулла', 'Тула', 'Аула', 'Аулу', 'Була', 'Булла', 'Буллу', 'Булу', 'Дула', 'Дулу', 'Фула', 'Фулу', 'Гула', 'Гулу', 'Хула', 'Хулу', 'Мула', 'Муллу', 'Мулу', 'Пула', 'Пулу', 'Руло', 'Сула', 'Сулу', 'Тулу', 'Зулу', 'Куба', 'Кубу', 'Кура', 'Куру'], 'offsetInContext': 43, 'context': '...кие тектонические плиты: Тихоокеанская, Кула, Фараллон и Феникс.', 'offset': 122, 'errorLength': 4, 'category': 'TYPOS', 'ruleIssueType': 'misspelling', 'sentence': 'В пределах тихоокеанской впадины в юрский период развились четыре полностью океанские тектонические плиты: Тихоокеанская, Кула, Фараллон и Феникс.'}),\n",
              " Match({'ruleId': 'MORFOLOGIK_RULE_RU_RU', 'message': 'Возможно найдена орфографическая ошибка.', 'replacements': ['Кораллом', 'Кораллов', 'Нуруллин', 'Нуруллою', 'Нуруллой', 'Поролон'], 'offsetInContext': 43, 'context': '...ктонические плиты: Тихоокеанская, Кула, Фараллон и Феникс.', 'offset': 128, 'errorLength': 8, 'category': 'TYPOS', 'ruleIssueType': 'misspelling', 'sentence': 'В пределах тихоокеанской впадины в юрский период развились четыре полностью океанские тектонические плиты: Тихоокеанская, Кула, Фараллон и Феникс.'}),\n",
              " Match({'ruleId': 'MORFOLOGIK_RULE_RU_RU', 'message': 'Возможно найдена орфографическая ошибка.', 'replacements': ['Дуло', 'Мулла', 'Тула', 'Аула', 'Аулу', 'Була', 'Булла', 'Буллу', 'Булу', 'Дула', 'Дулу', 'Фула', 'Фулу', 'Гула', 'Гулу', 'Хула', 'Хулу', 'Мула', 'Муллу', 'Мулу', 'Пула', 'Пулу', 'Руло', 'Сула', 'Сулу', 'Тулу', 'Зулу', 'Куба', 'Кубу', 'Кура', 'Куру'], 'offsetInContext': 43, 'context': '...кие тектонические плиты: Тихоокеанская, Кула, Фараллон и Феникс.', 'offset': 122, 'errorLength': 4, 'category': 'TYPOS', 'ruleIssueType': 'misspelling', 'sentence': 'В пределах тихоокеанской впадины в юрский период развились четыре полностью океанские тектонические плиты: Тихоокеанская, Кула, Фараллон и Феникс.'}),\n",
              " Match({'ruleId': 'MORFOLOGIK_RULE_RU_RU', 'message': 'Возможно найдена орфографическая ошибка.', 'replacements': ['Кораллом', 'Кораллов', 'Нуруллин', 'Нуруллою', 'Нуруллой', 'Поролон'], 'offsetInContext': 43, 'context': '...ктонические плиты: Тихоокеанская, Кула, Фараллон и Феникс.', 'offset': 128, 'errorLength': 8, 'category': 'TYPOS', 'ruleIssueType': 'misspelling', 'sentence': 'В пределах тихоокеанской впадины в юрский период развились четыре полностью океанские тектонические плиты: Тихоокеанская, Кула, Фараллон и Феникс.'}),\n",
              " Match({'ruleId': 'SENTENCE_WHITESPACE', 'message': 'Добавьте пробел между предложениями', 'replacements': [' ParseInt'], 'offsetInContext': 43, 'context': '...рограммы в целые числа функцией strconv.ParseInt().', 'offset': 109, 'errorLength': 8, 'category': 'TYPOGRAPHY', 'ruleIssueType': 'whitespace', 'sentence': 'ParseInt().'}),\n",
              " Match({'ruleId': 'SENTENCE_WHITESPACE', 'message': 'Добавьте пробел между предложениями', 'replacements': [' ParseInt'], 'offsetInContext': 43, 'context': '...рограммы в целые числа функцией strconv.ParseInt().', 'offset': 109, 'errorLength': 8, 'category': 'TYPOGRAPHY', 'ruleIssueType': 'whitespace', 'sentence': 'ParseInt().'}),\n",
              " Match({'ruleId': 'SENTENCE_WHITESPACE', 'message': 'Добавьте пробел между предложениями', 'replacements': [' ParseInt'], 'offsetInContext': 43, 'context': '...рограммы в целые числа функцией strconv.ParseInt().', 'offset': 109, 'errorLength': 8, 'category': 'TYPOGRAPHY', 'ruleIssueType': 'whitespace', 'sentence': 'ParseInt().'}),\n",
              " Match({'ruleId': 'SENTENCE_WHITESPACE', 'message': 'Добавьте пробел между предложениями', 'replacements': [' ParseInt'], 'offsetInContext': 43, 'context': '...рограммы в целые числа функцией strconv.ParseInt().', 'offset': 109, 'errorLength': 8, 'category': 'TYPOGRAPHY', 'ruleIssueType': 'whitespace', 'sentence': 'ParseInt().'}),\n",
              " Match({'ruleId': 'SENTENCE_WHITESPACE', 'message': 'Добавьте пробел между предложениями', 'replacements': [' ParseInt'], 'offsetInContext': 43, 'context': '...рограммы в целые числа функцией strconv.ParseInt().', 'offset': 109, 'errorLength': 8, 'category': 'TYPOGRAPHY', 'ruleIssueType': 'whitespace', 'sentence': 'ParseInt().'}),\n",
              " Match({'ruleId': 'MORFOLOGIK_RULE_RU_RU', 'message': 'Возможно найдена орфографическая ошибка.', 'replacements': ['имплантатов', 'имплант атам', 'имплантат ам'], 'offsetInContext': 43, 'context': '... будет учитываться урон по определённым имплантатам персонажа, что окажет влияние на игрово...', 'offset': 62, 'errorLength': 11, 'category': 'TYPOS', 'ruleIssueType': 'misspelling', 'sentence': 'В разрабатываемой игре будет учитываться урон по определённым имплантатам персонажа, что окажет влияние на игровой процесс, так как повреждённые модули будут отключаться.'}),\n",
              " Match({'ruleId': 'MORFOLOGIK_RULE_RU_RU', 'message': 'Возможно найдена орфографическая ошибка.', 'replacements': ['имплантатов', 'имплант атам', 'имплантат ам'], 'offsetInContext': 43, 'context': '... будет учитываться урон по определённым имплантатам персонажа, что окажет влияние на игрово...', 'offset': 62, 'errorLength': 11, 'category': 'TYPOS', 'ruleIssueType': 'misspelling', 'sentence': 'В разрабатываемой игре будет учитываться урон по определённым имплантатам персонажа, что окажет влияние на игровой процесс, так как повреждённые модули будут отключаться.'}),\n",
              " Match({'ruleId': 'MORFOLOGIK_RULE_RU_RU', 'message': 'Возможно найдена орфографическая ошибка.', 'replacements': [], 'offsetInContext': 43, 'context': '...урцы, в больших количествах выращивался салат-латук.', 'offset': 102, 'errorLength': 11, 'category': 'TYPOS', 'ruleIssueType': 'misspelling', 'sentence': 'В рационе древних египтян присутствовали горох, бобы и нут, огурцы, в больших количествах выращивался салат-латук.'}),\n",
              " Match({'ruleId': 'MORFOLOGIK_RULE_RU_RU', 'message': 'Возможно найдена орфографическая ошибка.', 'replacements': [], 'offsetInContext': 43, 'context': '...урцы, в больших количествах выращивался салат-латук.', 'offset': 102, 'errorLength': 11, 'category': 'TYPOS', 'ruleIssueType': 'misspelling', 'sentence': 'В рационе древних египтян присутствовали горох, бобы и нут, огурцы, в больших количествах выращивался салат-латук.'}),\n",
              " Match({'ruleId': 'MORFOLOGIK_RULE_RU_RU', 'message': 'Возможно найдена орфографическая ошибка.', 'replacements': [], 'offsetInContext': 43, 'context': '...урцы, в больших количествах выращивался салат-латук.', 'offset': 102, 'errorLength': 11, 'category': 'TYPOS', 'ruleIssueType': 'misspelling', 'sentence': 'В рационе древних египтян присутствовали горох, бобы и нут, огурцы, в больших количествах выращивался салат-латук.'}),\n",
              " Match({'ruleId': 'MORFOLOGIK_RULE_RU_RU', 'message': 'Возможно найдена орфографическая ошибка.', 'replacements': [], 'offsetInContext': 43, 'context': '...урцы, в больших количествах выращивался салат-латук.', 'offset': 102, 'errorLength': 11, 'category': 'TYPOS', 'ruleIssueType': 'misspelling', 'sentence': 'В рационе древних египтян присутствовали горох, бобы и нут, огурцы, в больших количествах выращивался салат-латук.'}),\n",
              " Match({'ruleId': 'MORFOLOGIK_RULE_RU_RU', 'message': 'Возможно найдена орфографическая ошибка.', 'replacements': [], 'offsetInContext': 43, 'context': '...урцы, в больших количествах выращивался салат-латук.', 'offset': 102, 'errorLength': 11, 'category': 'TYPOS', 'ruleIssueType': 'misspelling', 'sentence': 'В рационе древних египтян присутствовали горох, бобы и нут, огурцы, в больших количествах выращивался салат-латук.'}),\n",
              " Match({'ruleId': 'Unify_Adj_NN_case', 'message': 'Прилагательное не согласуется с существительным по падежу.', 'replacements': [], 'offsetInContext': 43, 'context': '...оказалось настолько огромным, что стала необходимой классификация физической формы пород и кодификации.', 'offset': 66, 'errorLength': 25, 'category': 'GRAMMAR', 'ruleIssueType': 'uncategorized', 'sentence': 'В результате разнообразие оказалось настолько огромным, что стала необходимой классификация физической формы пород и кодификации.'}),\n",
              " Match({'ruleId': 'Unify_Adj_NN_case', 'message': 'Прилагательное не согласуется с существительным по падежу.', 'replacements': [], 'offsetInContext': 43, 'context': '...оказалось настолько огромным, что стала необходимой классификация физической формы пород и кодификации.', 'offset': 66, 'errorLength': 25, 'category': 'GRAMMAR', 'ruleIssueType': 'uncategorized', 'sentence': 'В результате разнообразие оказалось настолько огромным, что стала необходимой классификация физической формы пород и кодификации.'}),\n",
              " Match({'ruleId': 'Unify_Adj_NN_case', 'message': 'Прилагательное не согласуется с существительным по падежу.', 'replacements': [], 'offsetInContext': 43, 'context': '...оказалось настолько огромным, что стала необходимой классификация физической формы пород и кодификации.', 'offset': 66, 'errorLength': 25, 'category': 'GRAMMAR', 'ruleIssueType': 'uncategorized', 'sentence': 'В результате разнообразие оказалось настолько огромным, что стала необходимой классификация физической формы пород и кодификации.'}),\n",
              " Match({'ruleId': 'Unify_Adj_NN_case', 'message': 'Прилагательное не согласуется с существительным по падежу.', 'replacements': [], 'offsetInContext': 43, 'context': '...оказалось настолько огромным, что стала необходимой классификация физической формы пород и кодификации.', 'offset': 66, 'errorLength': 25, 'category': 'GRAMMAR', 'ruleIssueType': 'uncategorized', 'sentence': 'В результате разнообразие оказалось настолько огромным, что стала необходимой классификация физической формы пород и кодификации.'}),\n",
              " Match({'ruleId': 'Unify_Adj_NN_case', 'message': 'Прилагательное не согласуется с существительным по падежу.', 'replacements': [], 'offsetInContext': 43, 'context': '...оказалось настолько огромным, что стала необходимой классификация физической формы пород и кодификации.', 'offset': 66, 'errorLength': 25, 'category': 'GRAMMAR', 'ruleIssueType': 'uncategorized', 'sentence': 'В результате разнообразие оказалось настолько огромным, что стала необходимой классификация физической формы пород и кодификации.'}),\n",
              " Match({'ruleId': 'MORFOLOGIK_RULE_RU_RU', 'message': 'Возможно найдена орфографическая ошибка.', 'replacements': ['ортостатическим'], 'offsetInContext': 43, 'context': '...о мелатонин обладает противоопухолевым, онкостатическим действием.', 'offset': 143, 'errorLength': 15, 'category': 'TYPOS', 'ruleIssueType': 'misspelling', 'sentence': 'В ряде исследований на лабораторных животных и в системах культур опухолевых тканей было обнаружено, что мелатонин обладает противоопухолевым, онкостатическим действием.'}),\n",
              " Match({'ruleId': 'MORFOLOGIK_RULE_RU_RU', 'message': 'Возможно найдена орфографическая ошибка.', 'replacements': ['ортостатическим'], 'offsetInContext': 43, 'context': '...о мелатонин обладает противоопухолевым, онкостатическим действием.', 'offset': 143, 'errorLength': 15, 'category': 'TYPOS', 'ruleIssueType': 'misspelling', 'sentence': 'В ряде исследований на лабораторных животных и в системах культур опухолевых тканей было обнаружено, что мелатонин обладает противоопухолевым, онкостатическим действием.'}),\n",
              " Match({'ruleId': 'MORFOLOGIK_RULE_RU_RU', 'message': 'Возможно найдена орфографическая ошибка.', 'replacements': ['Монтене', 'Монтеня', 'Шан тене'], 'offsetInContext': 43, 'context': '...плывавших торговых судов мимо деревушки Шантене, где его отец приобрёл дачу.', 'offset': 162, 'errorLength': 7, 'category': 'TYPOS', 'ruleIssueType': 'misspelling', 'sentence': 'Souvenirs d’enfance et de jeunesse» Жюль Верн описывал детский восторг от набережной Луары, проплывавших торговых судов мимо деревушки Шантене, где его отец приобрёл дачу.'}),\n",
              " Match({'ruleId': 'Cap_Letters_Fam', 'message': 'Фамилия пишется с большой буквы: «Московских»', 'replacements': ['Московских'], 'offsetInContext': 43, 'context': '...направить Михаила Тимофеевича в одну из московских клиник.', 'offset': 125, 'errorLength': 10, 'category': 'CASING', 'ruleIssueType': 'uncategorized', 'sentence': 'В связи с появившейся необходимостью медицинского обследования врачи приняли решение направить Михаила Тимофеевича в одну из московских клиник.'}),\n",
              " Match({'ruleId': 'Cap_Letters_Fam', 'message': 'Фамилия пишется с большой буквы: «Московских»', 'replacements': ['Московских'], 'offsetInContext': 43, 'context': '...направить Михаила Тимофеевича в одну из московских клиник.', 'offset': 125, 'errorLength': 10, 'category': 'CASING', 'ruleIssueType': 'uncategorized', 'sentence': 'В связи с появившейся необходимостью медицинского обследования врачи приняли решение направить Михаила Тимофеевича в одну из московских клиник.'}),\n",
              " Match({'ruleId': 'Cap_Letters_Fam', 'message': 'Фамилия пишется с большой буквы: «Московских»', 'replacements': ['Московских'], 'offsetInContext': 43, 'context': '...направить Михаила Тимофеевича в одну из московских клиник.', 'offset': 125, 'errorLength': 10, 'category': 'CASING', 'ruleIssueType': 'uncategorized', 'sentence': 'В связи с появившейся необходимостью медицинского обследования врачи приняли решение направить Михаила Тимофеевича в одну из московских клиник.'}),\n",
              " Match({'ruleId': 'WHITESPACE_RULE', 'message': 'Повтор пробела', 'replacements': [' '], 'offsetInContext': 43, 'context': '...ских и пр.) переводов могут привлекаться  образованием в соответствующей отрасли ч...', 'offset': 299, 'errorLength': 2, 'category': 'TYPOGRAPHY', 'ruleIssueType': 'whitespace', 'sentence': 'В современную эпоху такой специалист обычно должен иметь профильное высшее образование; это может быть высшее переводческое образование или более широкое филологическое образование, а для выполнения отраслевых (экономических, юридических, технических, медицинских и пр.) переводов могут привлекаться  образованием в соответствующей отрасли человеческой деятельности — экономисты, юристы, инженеры, врачи,машинисты имеющие и достаточную языковую и переводческую подготовку, которая может быть получена в рамках их высшего образования и курсов подготовки переводчиков в сфере профессиональной коммуникации.'}),\n",
              " Match({'ruleId': 'COMMA_PARENTHESIS_WHITESPACE', 'message': 'Поставьте пробел после запятой.', 'replacements': [', машинисты'], 'offsetInContext': 43, 'context': '...ти — экономисты, юристы, инженеры, врачи,машинисты имеющие и достаточную языковую и перево...', 'offset': 403, 'errorLength': 10, 'category': 'TYPOGRAPHY', 'ruleIssueType': 'whitespace', 'sentence': 'В современную эпоху такой специалист обычно должен иметь профильное высшее образование; это может быть высшее переводческое образование или более широкое филологическое образование, а для выполнения отраслевых (экономических, юридических, технических, медицинских и пр.) переводов могут привлекаться  образованием в соответствующей отрасли человеческой деятельности — экономисты, юристы, инженеры, врачи,машинисты имеющие и достаточную языковую и переводческую подготовку, которая может быть получена в рамках их высшего образования и курсов подготовки переводчиков в сфере профессиональной коммуникации.'}),\n",
              " Match({'ruleId': 'COMPLEX_SOUZ_NO_COMMA2', 'message': 'Запятая обычно не ставится, но допустима: «В то время как».', 'replacements': ['В то время как'], 'offsetInContext': 0, 'context': 'В то время, как большевиков после Октябрьского переворо...', 'offset': 0, 'errorLength': 15, 'category': 'PUNCTUATION', 'ruleIssueType': 'uncategorized', 'sentence': 'В то время, как большевиков после Октябрьского переворота будут обвинять в свержении «законного» правительства, само Временное правительство прекрасно сознавало свою незаконность.'}),\n",
              " Match({'ruleId': 'RU_UNPAIRED_BRACKETS', 'message': 'Непарный символ: «)» скорей всего пропущен', 'replacements': [], 'offsetInContext': 43, 'context': '...ерувимом у врат рая был архангел Михаил (Быт.', 'offset': 95, 'errorLength': 1, 'category': 'PUNCTUATION', 'ruleIssueType': 'typographical', 'sentence': 'В христианстве принято считать, что вооруженным мечом херувимом у врат рая был архангел Михаил (Быт.'}),\n",
              " Match({'ruleId': 'RU_UNPAIRED_BRACKETS', 'message': 'Непарный символ: «)» скорей всего пропущен', 'replacements': [], 'offsetInContext': 43, 'context': '...ерувимом у врат рая был архангел Михаил (Быт.', 'offset': 95, 'errorLength': 1, 'category': 'PUNCTUATION', 'ruleIssueType': 'typographical', 'sentence': 'В христианстве принято считать, что вооруженным мечом херувимом у врат рая был архангел Михаил (Быт.'}),\n",
              " Match({'ruleId': 'RU_UNPAIRED_BRACKETS', 'message': 'Непарный символ: «)» скорей всего пропущен', 'replacements': [], 'offsetInContext': 43, 'context': '...ерувимом у врат рая был архангел Михаил (Быт.', 'offset': 95, 'errorLength': 1, 'category': 'PUNCTUATION', 'ruleIssueType': 'typographical', 'sentence': 'В христианстве принято считать, что вооруженным мечом херувимом у врат рая был архангел Михаил (Быт.'}),\n",
              " Match({'ruleId': 'MORFOLOGIK_RULE_RU_RU', 'message': 'Возможно найдена орфографическая ошибка.', 'replacements': ['Джим ми', 'Джимм и'], 'offsetInContext': 31, 'context': 'В частности, как правозащитник Джимми Картер добился освобождения американско...', 'offset': 31, 'errorLength': 6, 'category': 'TYPOS', 'ruleIssueType': 'misspelling', 'sentence': 'В частности, как правозащитник Джимми Картер добился освобождения американского гражданина из тюрьмы Северной Кореи.'}),\n",
              " Match({'ruleId': 'MORFOLOGIK_RULE_RU_RU', 'message': 'Возможно найдена орфографическая ошибка.', 'replacements': ['Джим ми', 'Джимм и'], 'offsetInContext': 31, 'context': 'В частности, как правозащитник Джимми Картер добился освобождения американско...', 'offset': 31, 'errorLength': 6, 'category': 'TYPOS', 'ruleIssueType': 'misspelling', 'sentence': 'В частности, как правозащитник Джимми Картер добился освобождения американского гражданина из тюрьмы Северной Кореи.'}),\n",
              " Match({'ruleId': 'MORFOLOGIK_RULE_RU_RU', 'message': 'Возможно найдена орфографическая ошибка.', 'replacements': ['Джим ми', 'Джимм и'], 'offsetInContext': 31, 'context': 'В частности, как правозащитник Джимми Картер добился освобождения американско...', 'offset': 31, 'errorLength': 6, 'category': 'TYPOS', 'ruleIssueType': 'misspelling', 'sentence': 'В частности, как правозащитник Джимми Картер добился освобождения американского гражданина из тюрьмы Северной Кореи.'}),\n",
              " Match({'ruleId': 'MORFOLOGIK_RULE_RU_RU', 'message': 'Возможно найдена орфографическая ошибка.', 'replacements': ['Джим ми', 'Джимм и'], 'offsetInContext': 31, 'context': 'В частности, как правозащитник Джимми Картер добился освобождения американско...', 'offset': 31, 'errorLength': 6, 'category': 'TYPOS', 'ruleIssueType': 'misspelling', 'sentence': 'В частности, как правозащитник Джимми Картер добился освобождения американского гражданина из тюрьмы Северной Кореи.'}),\n",
              " Match({'ruleId': 'MORFOLOGIK_RULE_RU_RU', 'message': 'Возможно найдена орфографическая ошибка.', 'replacements': ['Джим ми', 'Джимм и'], 'offsetInContext': 31, 'context': 'В частности, как правозащитник Джимми Картер добился освобождения американско...', 'offset': 31, 'errorLength': 6, 'category': 'TYPOS', 'ruleIssueType': 'misspelling', 'sentence': 'В частности, как правозащитник Джимми Картер добился освобождения американского гражданина из тюрьмы Северной Кореи.'}),\n",
              " Match({'ruleId': 'MORFOLOGIK_RULE_RU_RU', 'message': 'Возможно найдена орфографическая ошибка.', 'replacements': ['спонтируют'], 'offsetInContext': 43, 'context': '...ют собственные заводские команды или же спонсируют независимые команды.', 'offset': 120, 'errorLength': 10, 'category': 'TYPOS', 'ruleIssueType': 'misspelling', 'sentence': 'Ведущие мировые производители автомобилей и автомобильных аксессуаров обычно имеют собственные заводские команды или же спонсируют независимые команды.'}),\n",
              " Match({'ruleId': 'MORFOLOGIK_RULE_RU_RU', 'message': 'Возможно найдена орфографическая ошибка.', 'replacements': ['спонтируют'], 'offsetInContext': 43, 'context': '...ют собственные заводские команды или же спонсируют независимые команды.', 'offset': 120, 'errorLength': 10, 'category': 'TYPOS', 'ruleIssueType': 'misspelling', 'sentence': 'Ведущие мировые производители автомобилей и автомобильных аксессуаров обычно имеют собственные заводские команды или же спонсируют независимые команды.'}),\n",
              " Match({'ruleId': 'MORFOLOGIK_RULE_RU_RU', 'message': 'Возможно найдена орфографическая ошибка.', 'replacements': ['спонтируют'], 'offsetInContext': 43, 'context': '...ют собственные заводские команды или же спонсируют независимые команды.', 'offset': 120, 'errorLength': 10, 'category': 'TYPOS', 'ruleIssueType': 'misspelling', 'sentence': 'Ведущие мировые производители автомобилей и автомобильных аксессуаров обычно имеют собственные заводские команды или же спонсируют независимые команды.'}),\n",
              " Match({'ruleId': 'MORFOLOGIK_RULE_RU_RU', 'message': 'Возможно найдена орфографическая ошибка.', 'replacements': ['спонтируют'], 'offsetInContext': 43, 'context': '...ют собственные заводские команды или же спонсируют независимые команды.', 'offset': 120, 'errorLength': 10, 'category': 'TYPOS', 'ruleIssueType': 'misspelling', 'sentence': 'Ведущие мировые производители автомобилей и автомобильных аксессуаров обычно имеют собственные заводские команды или же спонсируют независимые команды.'}),\n",
              " Match({'ruleId': 'MORFOLOGIK_RULE_RU_RU', 'message': 'Возможно найдена орфографическая ошибка.', 'replacements': ['спонтируют'], 'offsetInContext': 43, 'context': '...ют собственные заводские команды или же спонсируют независимые команды.', 'offset': 120, 'errorLength': 10, 'category': 'TYPOS', 'ruleIssueType': 'misspelling', 'sentence': 'Ведущие мировые производители автомобилей и автомобильных аксессуаров обычно имеют собственные заводские команды или же спонсируют независимые команды.'}),\n",
              " Match({'ruleId': 'MORFOLOGIK_RULE_RU_RU', 'message': 'Возможно найдена орфографическая ошибка.', 'replacements': ['Целиев', 'Делиев', 'Гелиев', 'Вялиев', 'Вели ев'], 'offsetInContext': 0, 'context': 'Велиев также заверил, ни одна армянская церков...', 'offset': 0, 'errorLength': 6, 'category': 'TYPOS', 'ruleIssueType': 'misspelling', 'sentence': 'Велиев также заверил, ни одна армянская церковь, находящаяся в Агдамском районе, не будет уничтожена.'}),\n",
              " Match({'ruleId': 'MORFOLOGIK_RULE_RU_RU', 'message': 'Возможно найдена орфографическая ошибка.', 'replacements': ['Аг дамском'], 'offsetInContext': 43, 'context': '...и одна армянская церковь, находящаяся в Агдамском районе, не будет уничтожена.', 'offset': 63, 'errorLength': 9, 'category': 'TYPOS', 'ruleIssueType': 'misspelling', 'sentence': 'Велиев также заверил, ни одна армянская церковь, находящаяся в Агдамском районе, не будет уничтожена.'}),\n",
              " Match({'ruleId': 'MORFOLOGIK_RULE_RU_RU', 'message': 'Возможно найдена орфографическая ошибка.', 'replacements': ['Франц ес', 'Франце с'], 'offsetInContext': 9, 'context': 'Виктория Францес — итальянская художница, широко известн...', 'offset': 9, 'errorLength': 7, 'category': 'TYPOS', 'ruleIssueType': 'misspelling', 'sentence': 'Виктория Францес — итальянская художница, широко известная по многочисленным готическим работам и иллюстрациями к Дневникам вампира.'}),\n",
              " Match({'ruleId': 'MORFOLOGIK_RULE_RU_RU', 'message': 'Возможно найдена орфографическая ошибка.', 'replacements': ['Петросовет', 'Петро совета', 'Петросовет а'], 'offsetInContext': 43, 'context': '... традиционные земства и городские думы, Петросовета — на Советы на местах.', 'offset': 77, 'errorLength': 11, 'category': 'TYPOS', 'ruleIssueType': 'misspelling', 'sentence': 'Власть Госдумы на местах опирается на традиционные земства и городские думы, Петросовета — на Советы на местах.'}),\n",
              " Match({'ruleId': 'MORFOLOGIK_RULE_RU_RU', 'message': 'Возможно найдена орфографическая ошибка.', 'replacements': ['Петросовет', 'Петро совета', 'Петросовет а'], 'offsetInContext': 43, 'context': '... традиционные земства и городские думы, Петросовета — на Советы на местах.', 'offset': 77, 'errorLength': 11, 'category': 'TYPOS', 'ruleIssueType': 'misspelling', 'sentence': 'Власть Госдумы на местах опирается на традиционные земства и городские думы, Петросовета — на Советы на местах.'}),\n",
              " Match({'ruleId': 'MORFOLOGIK_RULE_RU_RU', 'message': 'Возможно найдена орфографическая ошибка.', 'replacements': ['Петросовет', 'Петро совета', 'Петросовет а'], 'offsetInContext': 43, 'context': '... традиционные земства и городские думы, Петросовета — на Советы на местах.', 'offset': 77, 'errorLength': 11, 'category': 'TYPOS', 'ruleIssueType': 'misspelling', 'sentence': 'Власть Госдумы на местах опирается на традиционные земства и городские думы, Петросовета — на Советы на местах.'}),\n",
              " Match({'ruleId': 'MORFOLOGIK_RULE_RU_RU', 'message': 'Возможно найдена орфографическая ошибка.', 'replacements': ['Петросовет', 'Петро совета', 'Петросовет а'], 'offsetInContext': 43, 'context': '... традиционные земства и городские думы, Петросовета — на Советы на местах.', 'offset': 77, 'errorLength': 11, 'category': 'TYPOS', 'ruleIssueType': 'misspelling', 'sentence': 'Власть Госдумы на местах опирается на традиционные земства и городские думы, Петросовета — на Советы на местах.'}),\n",
              " Match({'ruleId': 'MORFOLOGIK_RULE_RU_RU', 'message': 'Возможно найдена орфографическая ошибка.', 'replacements': ['Петросовет', 'Петро совета', 'Петросовет а'], 'offsetInContext': 43, 'context': '... традиционные земства и городские думы, Петросовета — на Советы на местах.', 'offset': 77, 'errorLength': 11, 'category': 'TYPOS', 'ruleIssueType': 'misspelling', 'sentence': 'Власть Госдумы на местах опирается на традиционные земства и городские думы, Петросовета — на Советы на местах.'}),\n",
              " Match({'ruleId': 'MORFOLOGIK_RULE_RU_RU', 'message': 'Возможно найдена орфографическая ошибка.', 'replacements': ['астиков', 'атиков', 'саиков', 'стеков', 'стихов', 'стиком', 'стиксов', 'стивов', 'стишков', 'стоиков', 'стоков', 'стуков', 'стыков', 'тиков', 'с тиков', 'стик ов'], 'offsetInContext': 7, 'context': 'Вместо стиков устройство имеет два трекпада — большие...', 'offset': 7, 'errorLength': 6, 'category': 'TYPOS', 'ruleIssueType': 'misspelling', 'sentence': 'Вместо стиков устройство имеет два трекпада — большие сенсорные области, обладающие мощным эффектом обратного действия за счет резонирования.'}),\n",
              " Match({'ruleId': 'MORFOLOGIK_RULE_RU_RU', 'message': 'Возможно найдена орфографическая ошибка.', 'replacements': ['трёпана', 'трепака', 'трепала', 'трепана', 'трепача'], 'offsetInContext': 35, 'context': 'Вместо стиков устройство имеет два трекпада — большие сенсорные области, обладающие...', 'offset': 35, 'errorLength': 8, 'category': 'TYPOS', 'ruleIssueType': 'misspelling', 'sentence': 'Вместо стиков устройство имеет два трекпада — большие сенсорные области, обладающие мощным эффектом обратного действия за счет резонирования.'}),\n",
              " Match({'ruleId': 'MORFOLOGIK_RULE_RU_RU', 'message': 'Возможно найдена орфографическая ошибка.', 'replacements': ['астиков', 'атиков', 'саиков', 'стеков', 'стихов', 'стиком', 'стиксов', 'стивов', 'стишков', 'стоиков', 'стоков', 'стуков', 'стыков', 'тиков', 'с тиков', 'стик ов'], 'offsetInContext': 7, 'context': 'Вместо стиков устройство имеет два трекпада — большие...', 'offset': 7, 'errorLength': 6, 'category': 'TYPOS', 'ruleIssueType': 'misspelling', 'sentence': 'Вместо стиков устройство имеет два трекпада — большие сенсорные области, обладающие мощным эффектом обратного действия за счет резонирования.'}),\n",
              " Match({'ruleId': 'MORFOLOGIK_RULE_RU_RU', 'message': 'Возможно найдена орфографическая ошибка.', 'replacements': ['трёпана', 'трепака', 'трепала', 'трепана', 'трепача'], 'offsetInContext': 35, 'context': 'Вместо стиков устройство имеет два трекпада — большие сенсорные области, обладающие...', 'offset': 35, 'errorLength': 8, 'category': 'TYPOS', 'ruleIssueType': 'misspelling', 'sentence': 'Вместо стиков устройство имеет два трекпада — большие сенсорные области, обладающие мощным эффектом обратного действия за счет резонирования.'}),\n",
              " Match({'ruleId': 'MORFOLOGIK_RULE_RU_RU', 'message': 'Возможно найдена орфографическая ошибка.', 'replacements': ['астиков', 'атиков', 'саиков', 'стеков', 'стихов', 'стиком', 'стиксов', 'стивов', 'стишков', 'стоиков', 'стоков', 'стуков', 'стыков', 'тиков', 'с тиков', 'стик ов'], 'offsetInContext': 7, 'context': 'Вместо стиков устройство имеет два трекпада — большие...', 'offset': 7, 'errorLength': 6, 'category': 'TYPOS', 'ruleIssueType': 'misspelling', 'sentence': 'Вместо стиков устройство имеет два трекпада — большие сенсорные области, обладающие мощным эффектом обратного действия за счет резонирования.'}),\n",
              " Match({'ruleId': 'MORFOLOGIK_RULE_RU_RU', 'message': 'Возможно найдена орфографическая ошибка.', 'replacements': ['трёпана', 'трепака', 'трепала', 'трепана', 'трепача'], 'offsetInContext': 35, 'context': 'Вместо стиков устройство имеет два трекпада — большие сенсорные области, обладающие...', 'offset': 35, 'errorLength': 8, 'category': 'TYPOS', 'ruleIssueType': 'misspelling', 'sentence': 'Вместо стиков устройство имеет два трекпада — большие сенсорные области, обладающие мощным эффектом обратного действия за счет резонирования.'}),\n",
              " Match({'ruleId': 'MORFOLOGIK_RULE_RU_RU', 'message': 'Возможно найдена орфографическая ошибка.', 'replacements': ['астиков', 'атиков', 'саиков', 'стеков', 'стихов', 'стиком', 'стиксов', 'стивов', 'стишков', 'стоиков', 'стоков', 'стуков', 'стыков', 'тиков', 'с тиков', 'стик ов'], 'offsetInContext': 7, 'context': 'Вместо стиков устройство имеет два трекпада — большие...', 'offset': 7, 'errorLength': 6, 'category': 'TYPOS', 'ruleIssueType': 'misspelling', 'sentence': 'Вместо стиков устройство имеет два трекпада — большие сенсорные области, обладающие мощным эффектом обратного действия за счет резонирования.'}),\n",
              " Match({'ruleId': 'MORFOLOGIK_RULE_RU_RU', 'message': 'Возможно найдена орфографическая ошибка.', 'replacements': ['трёпана', 'трепака', 'трепала', 'трепана', 'трепача'], 'offsetInContext': 35, 'context': 'Вместо стиков устройство имеет два трекпада — большие сенсорные области, обладающие...', 'offset': 35, 'errorLength': 8, 'category': 'TYPOS', 'ruleIssueType': 'misspelling', 'sentence': 'Вместо стиков устройство имеет два трекпада — большие сенсорные области, обладающие мощным эффектом обратного действия за счет резонирования.'}),\n",
              " Match({'ruleId': 'MORFOLOGIK_RULE_RU_RU', 'message': 'Возможно найдена орфографическая ошибка.', 'replacements': ['астиков', 'атиков', 'саиков', 'стеков', 'стихов', 'стиком', 'стиксов', 'стивов', 'стишков', 'стоиков', 'стоков', 'стуков', 'стыков', 'тиков', 'с тиков', 'стик ов'], 'offsetInContext': 7, 'context': 'Вместо стиков устройство имеет два трекпада — большие...', 'offset': 7, 'errorLength': 6, 'category': 'TYPOS', 'ruleIssueType': 'misspelling', 'sentence': 'Вместо стиков устройство имеет два трекпада — большие сенсорные области, обладающие мощным эффектом обратного действия за счет резонирования.'}),\n",
              " Match({'ruleId': 'MORFOLOGIK_RULE_RU_RU', 'message': 'Возможно найдена орфографическая ошибка.', 'replacements': ['трёпана', 'трепака', 'трепала', 'трепана', 'трепача'], 'offsetInContext': 35, 'context': 'Вместо стиков устройство имеет два трекпада — большие сенсорные области, обладающие...', 'offset': 35, 'errorLength': 8, 'category': 'TYPOS', 'ruleIssueType': 'misspelling', 'sentence': 'Вместо стиков устройство имеет два трекпада — большие сенсорные области, обладающие мощным эффектом обратного действия за счет резонирования.'}),\n",
              " Match({'ruleId': 'MORFOLOGIK_RULE_RU_RU', 'message': 'Возможно найдена орфографическая ошибка.', 'replacements': ['Лямзят'], 'offsetInContext': 31, 'context': 'Во время Первой мировой войны «Немзети» будет выступать в разных региональных ...', 'offset': 31, 'errorLength': 7, 'category': 'TYPOS', 'ruleIssueType': 'misspelling', 'sentence': 'Во время Первой мировой войны «Немзети» будет выступать в разных региональных лигах, в частности в 1915 году станет победителем Карпатской лиги.'}),\n",
              " Match({'ruleId': 'MORFOLOGIK_RULE_RU_RU', 'message': 'Возможно найдена орфографическая ошибка.', 'replacements': [], 'offsetInContext': 43, 'context': '... литературе возник литературный архетип интеллигента-врача, врача-гуманиста и подвижника.', 'offset': 86, 'errorLength': 18, 'category': 'TYPOS', 'ruleIssueType': 'misspelling', 'sentence': 'Во многом благодаря Чехову в русской и мировой литературе возник литературный архетип интеллигента-врача, врача-гуманиста и подвижника.'}),\n",
              " Match({'ruleId': 'MORFOLOGIK_RULE_RU_RU', 'message': 'Возможно найдена орфографическая ошибка.', 'replacements': [], 'offsetInContext': 43, 'context': '...итературный архетип интеллигента-врача, врача-гуманиста и подвижника.', 'offset': 106, 'errorLength': 15, 'category': 'TYPOS', 'ruleIssueType': 'misspelling', 'sentence': 'Во многом благодаря Чехову в русской и мировой литературе возник литературный архетип интеллигента-врача, врача-гуманиста и подвижника.'}),\n",
              " Match({'ruleId': 'MORFOLOGIK_RULE_RU_RU', 'message': 'Возможно найдена орфографическая ошибка.', 'replacements': ['Военнотранспортная'], 'offsetInContext': 0, 'context': 'Военно-транспортная авиация — один из видов военной авиации...', 'offset': 0, 'errorLength': 19, 'category': 'TYPOS', 'ruleIssueType': 'misspelling', 'sentence': 'Военно-транспортная авиация — один из видов военной авиации, входящей в состав Вооружённых сил Российской Федерации.'}),\n",
              " Match({'ruleId': 'MORFOLOGIK_RULE_RU_RU', 'message': 'Возможно найдена орфографическая ошибка.', 'replacements': ['Военнотранспортная'], 'offsetInContext': 0, 'context': 'Военно-транспортная авиация — один из видов военной авиации...', 'offset': 0, 'errorLength': 19, 'category': 'TYPOS', 'ruleIssueType': 'misspelling', 'sentence': 'Военно-транспортная авиация — один из видов военной авиации, входящей в состав Вооружённых сил Российской Федерации.'}),\n",
              " Match({'ruleId': 'MORFOLOGIK_RULE_RU_RU', 'message': 'Возможно найдена орфографическая ошибка.', 'replacements': ['Военнотранспортная'], 'offsetInContext': 0, 'context': 'Военно-транспортная авиация — один из видов военной авиации...', 'offset': 0, 'errorLength': 19, 'category': 'TYPOS', 'ruleIssueType': 'misspelling', 'sentence': 'Военно-транспортная авиация — один из видов военной авиации, входящей в состав Вооружённых сил Российской Федерации.'}),\n",
              " Match({'ruleId': 'MORFOLOGIK_RULE_RU_RU', 'message': 'Возможно найдена орфографическая ошибка.', 'replacements': ['Военнотранспортная'], 'offsetInContext': 0, 'context': 'Военно-транспортная авиация — один из видов военной авиации...', 'offset': 0, 'errorLength': 19, 'category': 'TYPOS', 'ruleIssueType': 'misspelling', 'sentence': 'Военно-транспортная авиация — один из видов военной авиации, входящей в состав Вооружённых сил Российской Федерации.'}),\n",
              " Match({'ruleId': 'MORFOLOGIK_RULE_RU_RU', 'message': 'Возможно найдена орфографическая ошибка.', 'replacements': ['Военнотранспортная'], 'offsetInContext': 0, 'context': 'Военно-транспортная авиация — один из видов военной авиации...', 'offset': 0, 'errorLength': 19, 'category': 'TYPOS', 'ruleIssueType': 'misspelling', 'sentence': 'Военно-транспортная авиация — один из видов военной авиации, входящей в состав Вооружённых сил Российской Федерации.'}),\n",
              " Match({'ruleId': 'MORFOLOGIK_RULE_RU_RU', 'message': 'Возможно найдена орфографическая ошибка.', 'replacements': ['Андее', 'Кондее', 'Кондея', 'Ванде', 'В андее', 'Ван дее', 'Ванд ее', 'Ванде е'], 'offsetInContext': 43, 'context': '...юге и возобновления гражданской войны в Вандее.', 'offset': 95, 'errorLength': 6, 'category': 'TYPOS', 'ruleIssueType': 'misspelling', 'sentence': 'Военные неудачи стали поводом роялистских восстаний на юге и возобновления гражданской войны в Вандее.'}),\n",
              " Match({'ruleId': 'MORFOLOGIK_RULE_RU_RU', 'message': 'Возможно найдена орфографическая ошибка.', 'replacements': ['Андее', 'Кондее', 'Кондея', 'Ванде', 'В андее', 'Ван дее', 'Ванд ее', 'Ванде е'], 'offsetInContext': 43, 'context': '...юге и возобновления гражданской войны в Вандее.', 'offset': 95, 'errorLength': 6, 'category': 'TYPOS', 'ruleIssueType': 'misspelling', 'sentence': 'Военные неудачи стали поводом роялистских восстаний на юге и возобновления гражданской войны в Вандее.'}),\n",
              " Match({'ruleId': 'MORFOLOGIK_RULE_RU_RU', 'message': 'Возможно найдена орфографическая ошибка.', 'replacements': ['Андее', 'Кондее', 'Кондея', 'Ванде', 'В андее', 'Ван дее', 'Ванд ее', 'Ванде е'], 'offsetInContext': 43, 'context': '...юге и возобновления гражданской войны в Вандее.', 'offset': 95, 'errorLength': 6, 'category': 'TYPOS', 'ruleIssueType': 'misspelling', 'sentence': 'Военные неудачи стали поводом роялистских восстаний на юге и возобновления гражданской войны в Вандее.'}),\n",
              " Match({'ruleId': 'MORFOLOGIK_RULE_RU_RU', 'message': 'Возможно найдена орфографическая ошибка.', 'replacements': ['плосковская', 'уланковская', 'планков ская'], 'offsetInContext': 14, 'context': 'Возможно, что планковская чёрная дыра является конечным продуктом...', 'offset': 14, 'errorLength': 11, 'category': 'TYPOS', 'ruleIssueType': 'misspelling', 'sentence': 'Возможно, что планковская чёрная дыра является конечным продуктом эволюции обычных чёрных дыр, стабильна и больше не подвержена излучению Хокинга.'}),\n",
              " Match({'ruleId': 'MORFOLOGIK_RULE_RU_RU', 'message': 'Возможно найдена орфографическая ошибка.', 'replacements': ['Хо кинга'], 'offsetInContext': 43, 'context': '...бильна и больше не подвержена излучению Хокинга.', 'offset': 138, 'errorLength': 7, 'category': 'TYPOS', 'ruleIssueType': 'misspelling', 'sentence': 'Возможно, что планковская чёрная дыра является конечным продуктом эволюции обычных чёрных дыр, стабильна и больше не подвержена излучению Хокинга.'}),\n",
              " Match({'ruleId': 'MORFOLOGIK_RULE_RU_RU', 'message': 'Возможно найдена орфографическая ошибка.', 'replacements': ['плосковская', 'уланковская', 'планков ская'], 'offsetInContext': 14, 'context': 'Возможно, что планковская чёрная дыра является конечным продуктом...', 'offset': 14, 'errorLength': 11, 'category': 'TYPOS', 'ruleIssueType': 'misspelling', 'sentence': 'Возможно, что планковская чёрная дыра является конечным продуктом эволюции обычных чёрных дыр, стабильна и больше не подвержена излучению Хокинга.'}),\n",
              " Match({'ruleId': 'MORFOLOGIK_RULE_RU_RU', 'message': 'Возможно найдена орфографическая ошибка.', 'replacements': ['Хо кинга'], 'offsetInContext': 43, 'context': '...бильна и больше не подвержена излучению Хокинга.', 'offset': 138, 'errorLength': 7, 'category': 'TYPOS', 'ruleIssueType': 'misspelling', 'sentence': 'Возможно, что планковская чёрная дыра является конечным продуктом эволюции обычных чёрных дыр, стабильна и больше не подвержена излучению Хокинга.'}),\n",
              " Match({'ruleId': 'MORFOLOGIK_RULE_RU_RU', 'message': 'Возможно найдена орфографическая ошибка.', 'replacements': ['плосковская', 'уланковская', 'планков ская'], 'offsetInContext': 14, 'context': 'Возможно, что планковская чёрная дыра является конечным продуктом...', 'offset': 14, 'errorLength': 11, 'category': 'TYPOS', 'ruleIssueType': 'misspelling', 'sentence': 'Возможно, что планковская чёрная дыра является конечным продуктом эволюции обычных чёрных дыр, стабильна и больше не подвержена излучению Хокинга.'}),\n",
              " Match({'ruleId': 'MORFOLOGIK_RULE_RU_RU', 'message': 'Возможно найдена орфографическая ошибка.', 'replacements': ['Хо кинга'], 'offsetInContext': 43, 'context': '...бильна и больше не подвержена излучению Хокинга.', 'offset': 138, 'errorLength': 7, 'category': 'TYPOS', 'ruleIssueType': 'misspelling', 'sentence': 'Возможно, что планковская чёрная дыра является конечным продуктом эволюции обычных чёрных дыр, стабильна и больше не подвержена излучению Хокинга.'}),\n",
              " Match({'ruleId': 'MORFOLOGIK_RULE_RU_RU', 'message': 'Возможно найдена орфографическая ошибка.', 'replacements': ['плосковская', 'уланковская', 'планков ская'], 'offsetInContext': 14, 'context': 'Возможно, что планковская чёрная дыра является конечным продуктом...', 'offset': 14, 'errorLength': 11, 'category': 'TYPOS', 'ruleIssueType': 'misspelling', 'sentence': 'Возможно, что планковская чёрная дыра является конечным продуктом эволюции обычных чёрных дыр, стабильна и больше не подвержена излучению Хокинга.'}),\n",
              " Match({'ruleId': 'MORFOLOGIK_RULE_RU_RU', 'message': 'Возможно найдена орфографическая ошибка.', 'replacements': ['Хо кинга'], 'offsetInContext': 43, 'context': '...бильна и больше не подвержена излучению Хокинга.', 'offset': 138, 'errorLength': 7, 'category': 'TYPOS', 'ruleIssueType': 'misspelling', 'sentence': 'Возможно, что планковская чёрная дыра является конечным продуктом эволюции обычных чёрных дыр, стабильна и больше не подвержена излучению Хокинга.'}),\n",
              " Match({'ruleId': 'MORFOLOGIK_RULE_RU_RU', 'message': 'Возможно найдена орфографическая ошибка.', 'replacements': ['плосковская', 'уланковская', 'планков ская'], 'offsetInContext': 14, 'context': 'Возможно, что планковская чёрная дыра является конечным продуктом...', 'offset': 14, 'errorLength': 11, 'category': 'TYPOS', 'ruleIssueType': 'misspelling', 'sentence': 'Возможно, что планковская чёрная дыра является конечным продуктом эволюции обычных чёрных дыр, стабильна и больше не подвержена излучению Хокинга.'}),\n",
              " Match({'ruleId': 'MORFOLOGIK_RULE_RU_RU', 'message': 'Возможно найдена орфографическая ошибка.', 'replacements': ['Хо кинга'], 'offsetInContext': 43, 'context': '...бильна и больше не подвержена излучению Хокинга.', 'offset': 138, 'errorLength': 7, 'category': 'TYPOS', 'ruleIssueType': 'misspelling', 'sentence': 'Возможно, что планковская чёрная дыра является конечным продуктом эволюции обычных чёрных дыр, стабильна и больше не подвержена излучению Хокинга.'}),\n",
              " Match({'ruleId': 'MORFOLOGIK_RULE_RU_RU', 'message': 'Возможно найдена орфографическая ошибка.', 'replacements': ['Ермелан', 'Ермелана', 'Ермелане', 'Ермелану', 'Ермеланы', 'Мергелен', 'Мергельна', 'Мергельно', 'Мергельны', 'Перелаян'], 'offsetInContext': 43, 'context': '...ыка в немалой мере способствовал Генрик Вергеланн, боровшийся за культурную независимость...', 'offset': 80, 'errorLength': 9, 'category': 'TYPOS', 'ruleIssueType': 'misspelling', 'sentence': 'Возрождению норвежского литературного языка в немалой мере способствовал Генрик Вергеланн, боровшийся за культурную независимость Норвегии.'}),\n",
              " Match({'ruleId': 'MORFOLOGIK_RULE_RU_RU', 'message': 'Возможно найдена орфографическая ошибка.', 'replacements': ['Ермелан', 'Ермелана', 'Ермелане', 'Ермелану', 'Ермеланы', 'Мергелен', 'Мергельна', 'Мергельно', 'Мергельны', 'Перелаян'], 'offsetInContext': 43, 'context': '...ыка в немалой мере способствовал Генрик Вергеланн, боровшийся за культурную независимость...', 'offset': 80, 'errorLength': 9, 'category': 'TYPOS', 'ruleIssueType': 'misspelling', 'sentence': 'Возрождению норвежского литературного языка в немалой мере способствовал Генрик Вергеланн, боровшийся за культурную независимость Норвегии.'}),\n",
              " Match({'ruleId': 'MORFOLOGIK_RULE_RU_RU', 'message': 'Возможно найдена орфографическая ошибка.', 'replacements': ['пост апокалиптической'], 'offsetInContext': 43, 'context': '...ивела к краху цивилизации, на просторах постапокалиптической пустоши Австралии царствуют безумие и д...', 'offset': 59, 'errorLength': 20, 'category': 'TYPOS', 'ruleIssueType': 'misspelling', 'sentence': 'Война за ресурсы привела к краху цивилизации, на просторах постапокалиптической пустоши Австралии царствуют безумие и дикие банды на самодельном транспорте.'}),\n",
              " Match({'ruleId': 'MORFOLOGIK_RULE_RU_RU', 'message': 'Возможно найдена орфографическая ошибка.', 'replacements': ['пост апокалиптической'], 'offsetInContext': 43, 'context': '...ивела к краху цивилизации, на просторах постапокалиптической пустоши Австралии царствуют безумие и д...', 'offset': 59, 'errorLength': 20, 'category': 'TYPOS', 'ruleIssueType': 'misspelling', 'sentence': 'Война за ресурсы привела к краху цивилизации, на просторах постапокалиптической пустоши Австралии царствуют безумие и дикие банды на самодельном транспорте.'}),\n",
              " Match({'ruleId': 'MORFOLOGIK_RULE_RU_RU', 'message': 'Возможно найдена орфографическая ошибка.', 'replacements': ['пост апокалиптической'], 'offsetInContext': 43, 'context': '...ивела к краху цивилизации, на просторах постапокалиптической пустоши Австралии царствуют безумие и д...', 'offset': 59, 'errorLength': 20, 'category': 'TYPOS', 'ruleIssueType': 'misspelling', 'sentence': 'Война за ресурсы привела к краху цивилизации, на просторах постапокалиптической пустоши Австралии царствуют безумие и дикие банды на самодельном транспорте.'}),\n",
              " Match({'ruleId': 'MORFOLOGIK_RULE_RU_RU', 'message': 'Возможно найдена орфографическая ошибка.', 'replacements': [], 'offsetInContext': 43, 'context': '...астью процедуры создания новых блоков в биткойн-базе.', 'offset': 97, 'errorLength': 12, 'category': 'TYPOS', 'ruleIssueType': 'misspelling', 'sentence': 'Впоследствии подобная система в другой реализации стала частью процедуры создания новых блоков в биткойн-базе.'}),\n",
              " Match({'ruleId': 'MORFOLOGIK_RULE_RU_RU', 'message': 'Возможно найдена орфографическая ошибка.', 'replacements': [], 'offsetInContext': 43, 'context': '...астью процедуры создания новых блоков в биткойн-базе.', 'offset': 97, 'errorLength': 12, 'category': 'TYPOS', 'ruleIssueType': 'misspelling', 'sentence': 'Впоследствии подобная система в другой реализации стала частью процедуры создания новых блоков в биткойн-базе.'}),\n",
              " Match({'ruleId': 'MORFOLOGIK_RULE_RU_RU', 'message': 'Возможно найдена орфографическая ошибка.', 'replacements': [], 'offsetInContext': 43, 'context': '...астью процедуры создания новых блоков в биткойн-базе.', 'offset': 97, 'errorLength': 12, 'category': 'TYPOS', 'ruleIssueType': 'misspelling', 'sentence': 'Впоследствии подобная система в другой реализации стала частью процедуры создания новых блоков в биткойн-базе.'}),\n",
              " Match({'ruleId': 'MORFOLOGIK_RULE_RU_RU', 'message': 'Возможно найдена орфографическая ошибка.', 'replacements': [], 'offsetInContext': 43, 'context': '...астью процедуры создания новых блоков в биткойн-базе.', 'offset': 97, 'errorLength': 12, 'category': 'TYPOS', 'ruleIssueType': 'misspelling', 'sentence': 'Впоследствии подобная система в другой реализации стала частью процедуры создания новых блоков в биткойн-базе.'}),\n",
              " Match({'ruleId': 'MORFOLOGIK_RULE_RU_RU', 'message': 'Возможно найдена орфографическая ошибка.', 'replacements': [], 'offsetInContext': 43, 'context': '...астью процедуры создания новых блоков в биткойн-базе.', 'offset': 97, 'errorLength': 12, 'category': 'TYPOS', 'ruleIssueType': 'misspelling', 'sentence': 'Впоследствии подобная система в другой реализации стала частью процедуры создания новых блоков в биткойн-базе.'}),\n",
              " Match({'ruleId': 'MORFOLOGIK_RULE_RU_RU', 'message': 'Возможно найдена орфографическая ошибка.', 'replacements': ['Бухарин', 'Сахарин', 'Кухаркин', 'Захаровн'], 'offsetInContext': 30, 'context': 'Вызванный из Москвы профессор Захарьин объявил положение серьезным и сказал, ч...', 'offset': 30, 'errorLength': 8, 'category': 'TYPOS', 'ruleIssueType': 'misspelling', 'sentence': 'Вызванный из Москвы профессор Захарьин объявил положение серьезным и сказал, что выздоровление будет долгим.'}),\n",
              " Match({'ruleId': 'MORFOLOGIK_RULE_RU_RU', 'message': 'Возможно найдена орфографическая ошибка.', 'replacements': ['Бухарин', 'Сахарин', 'Кухаркин', 'Захаровн'], 'offsetInContext': 30, 'context': 'Вызванный из Москвы профессор Захарьин объявил положение серьезным и сказал, ч...', 'offset': 30, 'errorLength': 8, 'category': 'TYPOS', 'ruleIssueType': 'misspelling', 'sentence': 'Вызванный из Москвы профессор Захарьин объявил положение серьезным и сказал, что выздоровление будет долгим.'}),\n",
              " Match({'ruleId': 'MORFOLOGIK_RULE_RU_RU', 'message': 'Возможно найдена орфографическая ошибка.', 'replacements': [], 'offsetInContext': 14, 'context': 'Гарантии прав оппозицииИмитационная демократия имеет ряд внешних атрибутов ...', 'offset': 14, 'errorLength': 21, 'category': 'TYPOS', 'ruleIssueType': 'misspelling', 'sentence': 'Гарантии прав оппозицииИмитационная демократия имеет ряд внешних атрибутов народовластия, однако фактически влияние граждан на процесс принятия решений крайне мало.'}),\n",
              " Match({'ruleId': 'MORFOLOGIK_RULE_RU_RU', 'message': 'Возможно найдена орфографическая ошибка.', 'replacements': [], 'offsetInContext': 14, 'context': 'Гарантии прав оппозицииИмитационная демократия имеет ряд внешних атрибутов ...', 'offset': 14, 'errorLength': 21, 'category': 'TYPOS', 'ruleIssueType': 'misspelling', 'sentence': 'Гарантии прав оппозицииИмитационная демократия имеет ряд внешних атрибутов народовластия, однако фактически влияние граждан на процесс принятия решений крайне мало.'}),\n",
              " Match({'ruleId': 'MORFOLOGIK_RULE_RU_RU', 'message': 'Возможно найдена орфографическая ошибка.', 'replacements': [], 'offsetInContext': 14, 'context': 'Гарантии прав оппозицииИмитационная демократия имеет ряд внешних атрибутов ...', 'offset': 14, 'errorLength': 21, 'category': 'TYPOS', 'ruleIssueType': 'misspelling', 'sentence': 'Гарантии прав оппозицииИмитационная демократия имеет ряд внешних атрибутов народовластия, однако фактически влияние граждан на процесс принятия решений крайне мало.'}),\n",
              " Match({'ruleId': 'MORFOLOGIK_RULE_RU_RU', 'message': 'Возможно найдена орфографическая ошибка.', 'replacements': [], 'offsetInContext': 14, 'context': 'Гарантии прав оппозицииИмитационная демократия имеет ряд внешних атрибутов ...', 'offset': 14, 'errorLength': 21, 'category': 'TYPOS', 'ruleIssueType': 'misspelling', 'sentence': 'Гарантии прав оппозицииИмитационная демократия имеет ряд внешних атрибутов народовластия, однако фактически влияние граждан на процесс принятия решений крайне мало.'}),\n",
              " Match({'ruleId': 'MORFOLOGIK_RULE_RU_RU', 'message': 'Возможно найдена орфографическая ошибка.', 'replacements': [], 'offsetInContext': 14, 'context': 'Гарантии прав оппозицииИмитационная демократия имеет ряд внешних атрибутов ...', 'offset': 14, 'errorLength': 21, 'category': 'TYPOS', 'ruleIssueType': 'misspelling', 'sentence': 'Гарантии прав оппозицииИмитационная демократия имеет ряд внешних атрибутов народовластия, однако фактически влияние граждан на процесс принятия решений крайне мало.'}),\n",
              " Match({'ruleId': 'MORFOLOGIK_RULE_RU_RU', 'message': 'Возможно найдена орфографическая ошибка.', 'replacements': ['Семеновский'], 'offsetInContext': 43, 'context': '...акову отвести войска к главным силам за Семёновский овраг.', 'offset': 113, 'errorLength': 11, 'category': 'TYPOS', 'ruleIssueType': 'misspelling', 'sentence': 'Главнокомандующий русской армией Кутузов приказал генерал-лейтенанту Горчакову отвести войска к главным силам за Семёновский овраг.'}),\n",
              " Match({'ruleId': 'MORFOLOGIK_RULE_RU_RU', 'message': 'Возможно найдена орфографическая ошибка.', 'replacements': ['Семеновский'], 'offsetInContext': 43, 'context': '...акову отвести войска к главным силам за Семёновский овраг.', 'offset': 113, 'errorLength': 11, 'category': 'TYPOS', 'ruleIssueType': 'misspelling', 'sentence': 'Главнокомандующий русской армией Кутузов приказал генерал-лейтенанту Горчакову отвести войска к главным силам за Семёновский овраг.'}),\n",
              " Match({'ruleId': 'MORFOLOGIK_RULE_RU_RU', 'message': 'Возможно найдена орфографическая ошибка.', 'replacements': ['Семеновский'], 'offsetInContext': 43, 'context': '...акову отвести войска к главным силам за Семёновский овраг.', 'offset': 113, 'errorLength': 11, 'category': 'TYPOS', 'ruleIssueType': 'misspelling', 'sentence': 'Главнокомандующий русской армией Кутузов приказал генерал-лейтенанту Горчакову отвести войска к главным силам за Семёновский овраг.'}),\n",
              " Match({'ruleId': 'MORFOLOGIK_RULE_RU_RU', 'message': 'Возможно найдена орфографическая ошибка.', 'replacements': ['царство', 'торжество', 'таинство', 'токсово', 'тюркский', 'юродство', 'юристов', 'барство', 'лордство', 'пэрство', 'тюркосов', 'тюрков', 'тюркская', 'тюркски', 'тюркские', 'тюркских', 'тюркским', 'тюркскою', 'тюркское', 'тюркского', 'тюркской', 'тюркском', 'тюркскую', 'текстов', 'тиранство', 'торсово', 'тожество', 'трюково', 'трастов', 'трестов', 'тросово', 'туристов', 'чёрство', 'черство'], 'offsetInContext': 43, 'context': '...цветом тюркских народов и символизирует тюркство, красный — прогресса, зелёный — ислама....', 'offset': 84, 'errorLength': 8, 'category': 'TYPOS', 'ruleIssueType': 'misspelling', 'sentence': 'Голубой цвет на флаге является традиционным цветом тюркских народов и символизирует тюркство, красный — прогресса, зелёный — ислама.'}),\n",
              " Match({'ruleId': 'MORFOLOGIK_RULE_RU_RU', 'message': 'Возможно найдена орфографическая ошибка.', 'replacements': ['царство', 'торжество', 'таинство', 'токсово', 'тюркский', 'юродство', 'юристов', 'барство', 'лордство', 'пэрство', 'тюркосов', 'тюрков', 'тюркская', 'тюркски', 'тюркские', 'тюркских', 'тюркским', 'тюркскою', 'тюркское', 'тюркского', 'тюркской', 'тюркском', 'тюркскую', 'текстов', 'тиранство', 'торсово', 'тожество', 'трюково', 'трастов', 'трестов', 'тросово', 'туристов', 'чёрство', 'черство'], 'offsetInContext': 43, 'context': '...цветом тюркских народов и символизирует тюркство, красный — прогресса, зелёный — ислама....', 'offset': 84, 'errorLength': 8, 'category': 'TYPOS', 'ruleIssueType': 'misspelling', 'sentence': 'Голубой цвет на флаге является традиционным цветом тюркских народов и символизирует тюркство, красный — прогресса, зелёный — ислама.'}),\n",
              " Match({'ruleId': 'MORFOLOGIK_RULE_RU_RU', 'message': 'Возможно найдена орфографическая ошибка.', 'replacements': ['царство', 'торжество', 'таинство', 'токсово', 'тюркский', 'юродство', 'юристов', 'барство', 'лордство', 'пэрство', 'тюркосов', 'тюрков', 'тюркская', 'тюркски', 'тюркские', 'тюркских', 'тюркским', 'тюркскою', 'тюркское', 'тюркского', 'тюркской', 'тюркском', 'тюркскую', 'текстов', 'тиранство', 'торсово', 'тожество', 'трюково', 'трастов', 'трестов', 'тросово', 'туристов', 'чёрство', 'черство'], 'offsetInContext': 43, 'context': '...цветом тюркских народов и символизирует тюркство, красный — прогресса, зелёный — ислама....', 'offset': 84, 'errorLength': 8, 'category': 'TYPOS', 'ruleIssueType': 'misspelling', 'sentence': 'Голубой цвет на флаге является традиционным цветом тюркских народов и символизирует тюркство, красный — прогресса, зелёный — ислама.'}),\n",
              " Match({'ruleId': 'MORFOLOGIK_RULE_RU_RU', 'message': 'Возможно найдена орфографическая ошибка.', 'replacements': ['Сум кино', 'Сумки но'], 'offsetInContext': 43, 'context': '...стного самоуправления вместе с посёлком Сумкино образует муниципальное образование горо...', 'offset': 57, 'errorLength': 7, 'category': 'TYPOS', 'ruleIssueType': 'misspelling', 'sentence': 'Город в рамках местного самоуправления вместе с посёлком Сумкино образует муниципальное образование город Тобольск со статусом городского округа.'}),\n",
              " Match({'ruleId': 'MORFOLOGIK_RULE_RU_RU', 'message': 'Возможно найдена орфографическая ошибка.', 'replacements': ['Сум кино', 'Сумки но'], 'offsetInContext': 43, 'context': '...стного самоуправления вместе с посёлком Сумкино образует муниципальное образование горо...', 'offset': 57, 'errorLength': 7, 'category': 'TYPOS', 'ruleIssueType': 'misspelling', 'sentence': 'Город в рамках местного самоуправления вместе с посёлком Сумкино образует муниципальное образование город Тобольск со статусом городского округа.'}),\n",
              " Match({'ruleId': 'MORFOLOGIK_RULE_RU_RU', 'message': 'Возможно найдена орфографическая ошибка.', 'replacements': ['Сум кино', 'Сумки но'], 'offsetInContext': 43, 'context': '...стного самоуправления вместе с посёлком Сумкино образует муниципальное образование горо...', 'offset': 57, 'errorLength': 7, 'category': 'TYPOS', 'ruleIssueType': 'misspelling', 'sentence': 'Город в рамках местного самоуправления вместе с посёлком Сумкино образует муниципальное образование город Тобольск со статусом городского округа.'}),\n",
              " Match({'ruleId': 'MORFOLOGIK_RULE_RU_RU', 'message': 'Возможно найдена орфографическая ошибка.', 'replacements': ['бурых', 'чалых', 'чарах', 'чары', 'чарыш', 'чорох', 'чары х'], 'offsetInContext': 43, 'context': '...ные башмаки с загнутыми вверх носками — чарых, распространены были сапоги с длинным и...', 'offset': 60, 'errorLength': 5, 'category': 'TYPOS', 'ruleIssueType': 'misspelling', 'sentence': 'Горожане носили кожаные башмаки с загнутыми вверх носками — чарых, распространены были сапоги с длинным и коротким голенищем — маст.'}),\n",
              " Match({'ruleId': 'MORFOLOGIK_RULE_RU_RU', 'message': 'Возможно найдена орфографическая ошибка.', 'replacements': ['мост', 'масть', 'муст', 'часть', 'гость', 'пусть', 'рост', 'кость', 'куст', 'март', 'пост', 'мат', 'пасть', 'тост', 'месть', 'муся', 'гост', 'наст', 'ласт', 'аут', 'дуст', 'хуст', 'мот', 'муса', 'шасть', 'матс', 'аст', 'ауст', 'даст', 'фаст', 'фуст', 'густ', 'хост', 'каст', 'кост', 'мают', 'мает', 'майт', 'маять', 'масс', 'масти', 'мастью', 'мачт', 'мест', 'моют', 'моет', 'моск', 'моста', 'мосте', 'мости', 'мостя', 'мосту', 'мосты', 'муфт', 'мус', 'мусю', 'мусе', 'муси', 'мусс', 'муста', 'мусте', 'мусту', 'мусты', 'мусу', 'мусь', 'мусы', 'насть', 'паст', 'пуст', 'раст', 'руст', 'сост', 'таст', 'вусть', 'шуст', 'част', 'чуст', 'м аст', 'ма ст'], 'offsetInContext': 43, 'context': '...сапоги с длинным и коротким голенищем — маст.', 'offset': 127, 'errorLength': 4, 'category': 'TYPOS', 'ruleIssueType': 'misspelling', 'sentence': 'Горожане носили кожаные башмаки с загнутыми вверх носками — чарых, распространены были сапоги с длинным и коротким голенищем — маст.'}),\n",
              " Match({'ruleId': 'MORFOLOGIK_RULE_RU_RU', 'message': 'Возможно найдена орфографическая ошибка.', 'replacements': ['бурых', 'чалых', 'чарах', 'чары', 'чарыш', 'чорох', 'чары х'], 'offsetInContext': 43, 'context': '...ные башмаки с загнутыми вверх носками — чарых, распространены были сапоги с длинным и...', 'offset': 60, 'errorLength': 5, 'category': 'TYPOS', 'ruleIssueType': 'misspelling', 'sentence': 'Горожане носили кожаные башмаки с загнутыми вверх носками — чарых, распространены были сапоги с длинным и коротким голенищем — маст.'}),\n",
              " Match({'ruleId': 'MORFOLOGIK_RULE_RU_RU', 'message': 'Возможно найдена орфографическая ошибка.', 'replacements': ['мост', 'масть', 'муст', 'часть', 'гость', 'пусть', 'рост', 'кость', 'куст', 'март', 'пост', 'мат', 'пасть', 'тост', 'месть', 'муся', 'гост', 'наст', 'ласт', 'аут', 'дуст', 'хуст', 'мот', 'муса', 'шасть', 'матс', 'аст', 'ауст', 'даст', 'фаст', 'фуст', 'густ', 'хост', 'каст', 'кост', 'мают', 'мает', 'майт', 'маять', 'масс', 'масти', 'мастью', 'мачт', 'мест', 'моют', 'моет', 'моск', 'моста', 'мосте', 'мости', 'мостя', 'мосту', 'мосты', 'муфт', 'мус', 'мусю', 'мусе', 'муси', 'мусс', 'муста', 'мусте', 'мусту', 'мусты', 'мусу', 'мусь', 'мусы', 'насть', 'паст', 'пуст', 'раст', 'руст', 'сост', 'таст', 'вусть', 'шуст', 'част', 'чуст', 'м аст', 'ма ст'], 'offsetInContext': 43, 'context': '...сапоги с длинным и коротким голенищем — маст.', 'offset': 127, 'errorLength': 4, 'category': 'TYPOS', 'ruleIssueType': 'misspelling', 'sentence': 'Горожане носили кожаные башмаки с загнутыми вверх носками — чарых, распространены были сапоги с длинным и коротким голенищем — маст.'}),\n",
              " Match({'ruleId': 'MORFOLOGIK_RULE_RU_RU', 'message': 'Возможно найдена орфографическая ошибка.', 'replacements': ['Хлёбова', 'Лобкова', 'Лобова'], 'offsetInContext': 7, 'context': 'Группа Слобцова с Лозьвы повернула на юг, перевалила не...', 'offset': 7, 'errorLength': 8, 'category': 'TYPOS', 'ruleIssueType': 'misspelling', 'sentence': 'Группа Слобцова с Лозьвы повернула на юг, перевалила невысокий разделительный отрог и вышла через тайгу в верховье Ауспии.'}),\n",
              " Match({'ruleId': 'MORFOLOGIK_RULE_RU_RU', 'message': 'Возможно найдена орфографическая ошибка.', 'replacements': ['Адзьвы', 'Косьвы', 'Козьмы', 'Мольвы', 'Позывы', 'Язьвы', 'Розовы', 'Сосьвы', 'Созывы', 'Зёвы'], 'offsetInContext': 18, 'context': 'Группа Слобцова с Лозьвы повернула на юг, перевалила невысокий р...', 'offset': 18, 'errorLength': 6, 'category': 'TYPOS', 'ruleIssueType': 'misspelling', 'sentence': 'Группа Слобцова с Лозьвы повернула на юг, перевалила невысокий разделительный отрог и вышла через тайгу в верховье Ауспии.'}),\n",
              " Match({'ruleId': 'MORFOLOGIK_RULE_RU_RU', 'message': 'Возможно найдена орфографическая ошибка.', 'replacements': ['Аус пии'], 'offsetInContext': 43, 'context': '...ый отрог и вышла через тайгу в верховье Ауспии.', 'offset': 115, 'errorLength': 6, 'category': 'TYPOS', 'ruleIssueType': 'misspelling', 'sentence': 'Группа Слобцова с Лозьвы повернула на юг, перевалила невысокий разделительный отрог и вышла через тайгу в верховье Ауспии.'}),\n",
              " Match({'ruleId': 'MORFOLOGIK_RULE_RU_RU', 'message': 'Возможно найдена орфографическая ошибка.', 'replacements': ['Хлёбова', 'Лобкова', 'Лобова'], 'offsetInContext': 7, 'context': 'Группа Слобцова с Лозьвы повернула на юг, перевалила не...', 'offset': 7, 'errorLength': 8, 'category': 'TYPOS', 'ruleIssueType': 'misspelling', 'sentence': 'Группа Слобцова с Лозьвы повернула на юг, перевалила невысокий разделительный отрог и вышла через тайгу в верховье Ауспии.'}),\n",
              " Match({'ruleId': 'MORFOLOGIK_RULE_RU_RU', 'message': 'Возможно найдена орфографическая ошибка.', 'replacements': ['Адзьвы', 'Косьвы', 'Козьмы', 'Мольвы', 'Позывы', 'Язьвы', 'Розовы', 'Сосьвы', 'Созывы', 'Зёвы'], 'offsetInContext': 18, 'context': 'Группа Слобцова с Лозьвы повернула на юг, перевалила невысокий р...', 'offset': 18, 'errorLength': 6, 'category': 'TYPOS', 'ruleIssueType': 'misspelling', 'sentence': 'Группа Слобцова с Лозьвы повернула на юг, перевалила невысокий разделительный отрог и вышла через тайгу в верховье Ауспии.'}),\n",
              " Match({'ruleId': 'MORFOLOGIK_RULE_RU_RU', 'message': 'Возможно найдена орфографическая ошибка.', 'replacements': ['Аус пии'], 'offsetInContext': 43, 'context': '...ый отрог и вышла через тайгу в верховье Ауспии.', 'offset': 115, 'errorLength': 6, 'category': 'TYPOS', 'ruleIssueType': 'misspelling', 'sentence': 'Группа Слобцова с Лозьвы повернула на юг, перевалила невысокий разделительный отрог и вышла через тайгу в верховье Ауспии.'}),\n",
              " Match({'ruleId': 'MORFOLOGIK_RULE_RU_RU', 'message': 'Возможно найдена орфографическая ошибка.', 'replacements': ['Хлёбова', 'Лобкова', 'Лобова'], 'offsetInContext': 7, 'context': 'Группа Слобцова с Лозьвы повернула на юг, перевалила не...', 'offset': 7, 'errorLength': 8, 'category': 'TYPOS', 'ruleIssueType': 'misspelling', 'sentence': 'Группа Слобцова с Лозьвы повернула на юг, перевалила невысокий разделительный отрог и вышла через тайгу в верховье Ауспии.'}),\n",
              " Match({'ruleId': 'MORFOLOGIK_RULE_RU_RU', 'message': 'Возможно найдена орфографическая ошибка.', 'replacements': ['Адзьвы', 'Косьвы', 'Козьмы', 'Мольвы', 'Позывы', 'Язьвы', 'Розовы', 'Сосьвы', 'Созывы', 'Зёвы'], 'offsetInContext': 18, 'context': 'Группа Слобцова с Лозьвы повернула на юг, перевалила невысокий р...', 'offset': 18, 'errorLength': 6, 'category': 'TYPOS', 'ruleIssueType': 'misspelling', 'sentence': 'Группа Слобцова с Лозьвы повернула на юг, перевалила невысокий разделительный отрог и вышла через тайгу в верховье Ауспии.'}),\n",
              " Match({'ruleId': 'MORFOLOGIK_RULE_RU_RU', 'message': 'Возможно найдена орфографическая ошибка.', 'replacements': ['Аус пии'], 'offsetInContext': 43, 'context': '...ый отрог и вышла через тайгу в верховье Ауспии.', 'offset': 115, 'errorLength': 6, 'category': 'TYPOS', 'ruleIssueType': 'misspelling', 'sentence': 'Группа Слобцова с Лозьвы повернула на юг, перевалила невысокий разделительный отрог и вышла через тайгу в верховье Ауспии.'}),\n",
              " Match({'ruleId': 'MORFOLOGIK_RULE_RU_RU', 'message': 'Возможно найдена орфографическая ошибка.', 'replacements': ['Хлёбова', 'Лобкова', 'Лобова'], 'offsetInContext': 7, 'context': 'Группа Слобцова с Лозьвы повернула на юг, перевалила не...', 'offset': 7, 'errorLength': 8, 'category': 'TYPOS', 'ruleIssueType': 'misspelling', 'sentence': 'Группа Слобцова с Лозьвы повернула на юг, перевалила невысокий разделительный отрог и вышла через тайгу в верховье Ауспии.'}),\n",
              " Match({'ruleId': 'MORFOLOGIK_RULE_RU_RU', 'message': 'Возможно найдена орфографическая ошибка.', 'replacements': ['Адзьвы', 'Косьвы', 'Козьмы', 'Мольвы', 'Позывы', 'Язьвы', 'Розовы', 'Сосьвы', 'Созывы', 'Зёвы'], 'offsetInContext': 18, 'context': 'Группа Слобцова с Лозьвы повернула на юг, перевалила невысокий р...', 'offset': 18, 'errorLength': 6, 'category': 'TYPOS', 'ruleIssueType': 'misspelling', 'sentence': 'Группа Слобцова с Лозьвы повернула на юг, перевалила невысокий разделительный отрог и вышла через тайгу в верховье Ауспии.'}),\n",
              " Match({'ruleId': 'MORFOLOGIK_RULE_RU_RU', 'message': 'Возможно найдена орфографическая ошибка.', 'replacements': ['Аус пии'], 'offsetInContext': 43, 'context': '...ый отрог и вышла через тайгу в верховье Ауспии.', 'offset': 115, 'errorLength': 6, 'category': 'TYPOS', 'ruleIssueType': 'misspelling', 'sentence': 'Группа Слобцова с Лозьвы повернула на юг, перевалила невысокий разделительный отрог и вышла через тайгу в верховье Ауспии.'}),\n",
              " Match({'ruleId': 'MORFOLOGIK_RULE_RU_RU', 'message': 'Возможно найдена орфографическая ошибка.', 'replacements': ['Хлёбова', 'Лобкова', 'Лобова'], 'offsetInContext': 7, 'context': 'Группа Слобцова с Лозьвы повернула на юг, перевалила не...', 'offset': 7, 'errorLength': 8, 'category': 'TYPOS', 'ruleIssueType': 'misspelling', 'sentence': 'Группа Слобцова с Лозьвы повернула на юг, перевалила невысокий разделительный отрог и вышла через тайгу в верховье Ауспии.'}),\n",
              " Match({'ruleId': 'MORFOLOGIK_RULE_RU_RU', 'message': 'Возможно найдена орфографическая ошибка.', 'replacements': ['Адзьвы', 'Косьвы', 'Козьмы', 'Мольвы', 'Позывы', 'Язьвы', 'Розовы', 'Сосьвы', 'Созывы', 'Зёвы'], 'offsetInContext': 18, 'context': 'Группа Слобцова с Лозьвы повернула на юг, перевалила невысокий р...', 'offset': 18, 'errorLength': 6, 'category': 'TYPOS', 'ruleIssueType': 'misspelling', 'sentence': 'Группа Слобцова с Лозьвы повернула на юг, перевалила невысокий разделительный отрог и вышла через тайгу в верховье Ауспии.'}),\n",
              " Match({'ruleId': 'MORFOLOGIK_RULE_RU_RU', 'message': 'Возможно найдена орфографическая ошибка.', 'replacements': ['Аус пии'], 'offsetInContext': 43, 'context': '...ый отрог и вышла через тайгу в верховье Ауспии.', 'offset': 115, 'errorLength': 6, 'category': 'TYPOS', 'ruleIssueType': 'misspelling', 'sentence': 'Группа Слобцова с Лозьвы повернула на юг, перевалила невысокий разделительный отрог и вышла через тайгу в верховье Ауспии.'}),\n",
              " Match({'ruleId': 'MORFOLOGIK_RULE_RU_RU', 'message': 'Возможно найдена орфографическая ошибка.', 'replacements': ['Банимого', 'Гонимого', 'Манимого', 'Паниного', 'Ранимого', 'Таниного', 'Ваниного'], 'offsetInContext': 43, 'context': '...г с другом, утверждала, что видела трех Манипого, плавающих вместе.', 'offset': 98, 'errorLength': 8, 'category': 'TYPOS', 'ruleIssueType': 'misspelling', 'sentence': 'Группа из семнадцати свидетелей, по слухам, незнакомых друг с другом, утверждала, что видела трех Манипого, плавающих вместе.'}),\n",
              " Match({'ruleId': 'MORFOLOGIK_RULE_RU_RU', 'message': 'Возможно найдена орфографическая ошибка.', 'replacements': ['фотосессия', 'фото сессиях', 'фотосессия х'], 'offsetInContext': 25, 'context': 'Группа приняла участие в фотосессиях для местных изданий, принимала участие ...', 'offset': 25, 'errorLength': 11, 'category': 'TYPOS', 'ruleIssueType': 'misspelling', 'sentence': 'Группа приняла участие в фотосессиях для местных изданий, принимала участие в ток-шоу, а также посетила японский офис Sony Music.'}),\n",
              " Match({'ruleId': 'MORFOLOGIK_RULE_RU_RU', 'message': 'Возможно найдена орфографическая ошибка.', 'replacements': ['фотосессия', 'фото сессиях', 'фотосессия х'], 'offsetInContext': 25, 'context': 'Группа приняла участие в фотосессиях для местных изданий, принимала участие ...', 'offset': 25, 'errorLength': 11, 'category': 'TYPOS', 'ruleIssueType': 'misspelling', 'sentence': 'Группа приняла участие в фотосессиях для местных изданий, принимала участие в ток-шоу, а также посетила японский офис Sony Music.'}),\n",
              " Match({'ruleId': 'MORFOLOGIK_RULE_RU_RU', 'message': 'Возможно найдена орфографическая ошибка.', 'replacements': ['фотосессия', 'фото сессиях', 'фотосессия х'], 'offsetInContext': 25, 'context': 'Группа приняла участие в фотосессиях для местных изданий, принимала участие ...', 'offset': 25, 'errorLength': 11, 'category': 'TYPOS', 'ruleIssueType': 'misspelling', 'sentence': 'Группа приняла участие в фотосессиях для местных изданий, принимала участие в ток-шоу, а также посетила японский офис Sony Music.'}),\n",
              " Match({'ruleId': 'MORFOLOGIK_RULE_RU_RU', 'message': 'Возможно найдена орфографическая ошибка.', 'replacements': ['фотосессия', 'фото сессиях', 'фотосессия х'], 'offsetInContext': 25, 'context': 'Группа приняла участие в фотосессиях для местных изданий, принимала участие ...', 'offset': 25, 'errorLength': 11, 'category': 'TYPOS', 'ruleIssueType': 'misspelling', 'sentence': 'Группа приняла участие в фотосессиях для местных изданий, принимала участие в ток-шоу, а также посетила японский офис Sony Music.'}),\n",
              " Match({'ruleId': 'MORFOLOGIK_RULE_RU_RU', 'message': 'Возможно найдена орфографическая ошибка.', 'replacements': ['Шва бии', 'Шваб ии'], 'offsetInContext': 25, 'context': 'Дальнейшее наступление в Швабии пришлось приостановить, так как внимани...', 'offset': 25, 'errorLength': 6, 'category': 'TYPOS', 'ruleIssueType': 'misspelling', 'sentence': 'Дальнейшее наступление в Швабии пришлось приостановить, так как внимание Ришельё отвлекло вспыхнувшее в Нормандии восстание босоногих.'}),\n",
              " Match({'ruleId': 'MORFOLOGIK_RULE_RU_RU', 'message': 'Возможно найдена орфографическая ошибка.', 'replacements': ['Мишель', 'Ришелье'], 'offsetInContext': 43, 'context': '...ришлось приостановить, так как внимание Ришельё отвлекло вспыхнувшее в Нормандии восста...', 'offset': 73, 'errorLength': 7, 'category': 'TYPOS', 'ruleIssueType': 'misspelling', 'sentence': 'Дальнейшее наступление в Швабии пришлось приостановить, так как внимание Ришельё отвлекло вспыхнувшее в Нормандии восстание босоногих.'}),\n",
              " Match({'ruleId': 'MORFOLOGIK_RULE_RU_RU', 'message': 'Возможно найдена орфографическая ошибка.', 'replacements': ['Шва бии', 'Шваб ии'], 'offsetInContext': 25, 'context': 'Дальнейшее наступление в Швабии пришлось приостановить, так как внимани...', 'offset': 25, 'errorLength': 6, 'category': 'TYPOS', 'ruleIssueType': 'misspelling', 'sentence': 'Дальнейшее наступление в Швабии пришлось приостановить, так как внимание Ришельё отвлекло вспыхнувшее в Нормандии восстание босоногих.'}),\n",
              " Match({'ruleId': 'MORFOLOGIK_RULE_RU_RU', 'message': 'Возможно найдена орфографическая ошибка.', 'replacements': ['Мишель', 'Ришелье'], 'offsetInContext': 43, 'context': '...ришлось приостановить, так как внимание Ришельё отвлекло вспыхнувшее в Нормандии восста...', 'offset': 73, 'errorLength': 7, 'category': 'TYPOS', 'ruleIssueType': 'misspelling', 'sentence': 'Дальнейшее наступление в Швабии пришлось приостановить, так как внимание Ришельё отвлекло вспыхнувшее в Нормандии восстание босоногих.'}),\n",
              " Match({'ruleId': 'MORFOLOGIK_RULE_RU_RU', 'message': 'Возможно найдена орфографическая ошибка.', 'replacements': ['Шва бии', 'Шваб ии'], 'offsetInContext': 25, 'context': 'Дальнейшее наступление в Швабии пришлось приостановить, так как внимани...', 'offset': 25, 'errorLength': 6, 'category': 'TYPOS', 'ruleIssueType': 'misspelling', 'sentence': 'Дальнейшее наступление в Швабии пришлось приостановить, так как внимание Ришельё отвлекло вспыхнувшее в Нормандии восстание босоногих.'}),\n",
              " Match({'ruleId': 'MORFOLOGIK_RULE_RU_RU', 'message': 'Возможно найдена орфографическая ошибка.', 'replacements': ['Мишель', 'Ришелье'], 'offsetInContext': 43, 'context': '...ришлось приостановить, так как внимание Ришельё отвлекло вспыхнувшее в Нормандии восста...', 'offset': 73, 'errorLength': 7, 'category': 'TYPOS', 'ruleIssueType': 'misspelling', 'sentence': 'Дальнейшее наступление в Швабии пришлось приостановить, так как внимание Ришельё отвлекло вспыхнувшее в Нормандии восстание босоногих.'}),\n",
              " Match({'ruleId': 'MORFOLOGIK_RULE_RU_RU', 'message': 'Возможно найдена орфографическая ошибка.', 'replacements': ['Куули', 'Паули', 'Раули', 'Вуали', 'Шаули', 'Саул и'], 'offsetInContext': 22, 'context': 'Действующий президент Саули Нийнистё считает практику о помиловании...', 'offset': 22, 'errorLength': 5, 'category': 'TYPOS', 'ruleIssueType': 'misspelling', 'sentence': 'Действующий президент Саули Нийнистё считает практику о помиловании пережитком прошлого и намерен полностью передать институт помилования судебным органам.'}),\n",
              " Match({'ruleId': 'MORFOLOGIK_RULE_RU_RU', 'message': 'Возможно найдена орфографическая ошибка.', 'replacements': ['Министр', 'Пианист', 'Цианист', 'Цианиста', 'Цианисто', 'Цианисты', 'Инист', 'Иниста', 'Инисто', 'Инисты', 'Пианиста', 'Пианисте', 'Пианисту', 'Пианисты', 'Сионист', 'Сиониста', 'Сионисте', 'Сионисту', 'Сионисты', 'Тинист', 'Тиниста', 'Тинисто', 'Тинисты'], 'offsetInContext': 28, 'context': 'Действующий президент Саули Нийнистё считает практику о помиловании пережитк...', 'offset': 28, 'errorLength': 8, 'category': 'TYPOS', 'ruleIssueType': 'misspelling', 'sentence': 'Действующий президент Саули Нийнистё считает практику о помиловании пережитком прошлого и намерен полностью передать институт помилования судебным органам.'}),\n",
              " Match({'ruleId': 'MORFOLOGIK_RULE_RU_RU', 'message': 'Возможно найдена орфографическая ошибка.', 'replacements': ['Куули', 'Паули', 'Раули', 'Вуали', 'Шаули', 'Саул и'], 'offsetInContext': 22, 'context': 'Действующий президент Саули Нийнистё считает практику о помиловании...', 'offset': 22, 'errorLength': 5, 'category': 'TYPOS', 'ruleIssueType': 'misspelling', 'sentence': 'Действующий президент Саули Нийнистё считает практику о помиловании пережитком прошлого и намерен полностью передать институт помилования судебным органам.'}),\n",
              " Match({'ruleId': 'MORFOLOGIK_RULE_RU_RU', 'message': 'Возможно найдена орфографическая ошибка.', 'replacements': ['Министр', 'Пианист', 'Цианист', 'Цианиста', 'Цианисто', 'Цианисты', 'Инист', 'Иниста', 'Инисто', 'Инисты', 'Пианиста', 'Пианисте', 'Пианисту', 'Пианисты', 'Сионист', 'Сиониста', 'Сионисте', 'Сионисту', 'Сионисты', 'Тинист', 'Тиниста', 'Тинисто', 'Тинисты'], 'offsetInContext': 28, 'context': 'Действующий президент Саули Нийнистё считает практику о помиловании пережитк...', 'offset': 28, 'errorLength': 8, 'category': 'TYPOS', 'ruleIssueType': 'misspelling', 'sentence': 'Действующий президент Саули Нийнистё считает практику о помиловании пережитком прошлого и намерен полностью передать институт помилования судебным органам.'}),\n",
              " Match({'ruleId': 'MORFOLOGIK_RULE_RU_RU', 'message': 'Возможно найдена орфографическая ошибка.', 'replacements': ['Куули', 'Паули', 'Раули', 'Вуали', 'Шаули', 'Саул и'], 'offsetInContext': 22, 'context': 'Действующий президент Саули Нийнистё считает практику о помиловании...', 'offset': 22, 'errorLength': 5, 'category': 'TYPOS', 'ruleIssueType': 'misspelling', 'sentence': 'Действующий президент Саули Нийнистё считает практику о помиловании пережитком прошлого и намерен полностью передать институт помилования судебным органам.'}),\n",
              " Match({'ruleId': 'MORFOLOGIK_RULE_RU_RU', 'message': 'Возможно найдена орфографическая ошибка.', 'replacements': ['Министр', 'Пианист', 'Цианист', 'Цианиста', 'Цианисто', 'Цианисты', 'Инист', 'Иниста', 'Инисто', 'Инисты', 'Пианиста', 'Пианисте', 'Пианисту', 'Пианисты', 'Сионист', 'Сиониста', 'Сионисте', 'Сионисту', 'Сионисты', 'Тинист', 'Тиниста', 'Тинисто', 'Тинисты'], 'offsetInContext': 28, 'context': 'Действующий президент Саули Нийнистё считает практику о помиловании пережитк...', 'offset': 28, 'errorLength': 8, 'category': 'TYPOS', 'ruleIssueType': 'misspelling', 'sentence': 'Действующий президент Саули Нийнистё считает практику о помиловании пережитком прошлого и намерен полностью передать институт помилования судебным органам.'}),\n",
              " Match({'ruleId': 'MORFOLOGIK_RULE_RU_RU', 'message': 'Возможно найдена орфографическая ошибка.', 'replacements': ['Куули', 'Паули', 'Раули', 'Вуали', 'Шаули', 'Саул и'], 'offsetInContext': 22, 'context': 'Действующий президент Саули Нийнистё считает практику о помиловании...', 'offset': 22, 'errorLength': 5, 'category': 'TYPOS', 'ruleIssueType': 'misspelling', 'sentence': 'Действующий президент Саули Нийнистё считает практику о помиловании пережитком прошлого и намерен полностью передать институт помилования судебным органам.'}),\n",
              " Match({'ruleId': 'MORFOLOGIK_RULE_RU_RU', 'message': 'Возможно найдена орфографическая ошибка.', 'replacements': ['Министр', 'Пианист', 'Цианист', 'Цианиста', 'Цианисто', 'Цианисты', 'Инист', 'Иниста', 'Инисто', 'Инисты', 'Пианиста', 'Пианисте', 'Пианисту', 'Пианисты', 'Сионист', 'Сиониста', 'Сионисте', 'Сионисту', 'Сионисты', 'Тинист', 'Тиниста', 'Тинисто', 'Тинисты'], 'offsetInContext': 28, 'context': 'Действующий президент Саули Нийнистё считает практику о помиловании пережитк...', 'offset': 28, 'errorLength': 8, 'category': 'TYPOS', 'ruleIssueType': 'misspelling', 'sentence': 'Действующий президент Саули Нийнистё считает практику о помиловании пережитком прошлого и намерен полностью передать институт помилования судебным органам.'}),\n",
              " Match({'ruleId': 'MORFOLOGIK_RULE_RU_RU', 'message': 'Возможно найдена орфографическая ошибка.', 'replacements': ['Куули', 'Паули', 'Раули', 'Вуали', 'Шаули', 'Саул и'], 'offsetInContext': 22, 'context': 'Действующий президент Саули Нийнистё считает практику о помиловании...', 'offset': 22, 'errorLength': 5, 'category': 'TYPOS', 'ruleIssueType': 'misspelling', 'sentence': 'Действующий президент Саули Нийнистё считает практику о помиловании пережитком прошлого и намерен полностью передать институт помилования судебным органам.'}),\n",
              " Match({'ruleId': 'MORFOLOGIK_RULE_RU_RU', 'message': 'Возможно найдена орфографическая ошибка.', 'replacements': ['Министр', 'Пианист', 'Цианист', 'Цианиста', 'Цианисто', 'Цианисты', 'Инист', 'Иниста', 'Инисто', 'Инисты', 'Пианиста', 'Пианисте', 'Пианисту', 'Пианисты', 'Сионист', 'Сиониста', 'Сионисте', 'Сионисту', 'Сионисты', 'Тинист', 'Тиниста', 'Тинисто', 'Тинисты'], 'offsetInContext': 28, 'context': 'Действующий президент Саули Нийнистё считает практику о помиловании пережитк...', 'offset': 28, 'errorLength': 8, 'category': 'TYPOS', 'ruleIssueType': 'misspelling', 'sentence': 'Действующий президент Саули Нийнистё считает практику о помиловании пережитком прошлого и намерен полностью передать институт помилования судебным органам.'}),\n",
              " Match({'ruleId': 'MORFOLOGIK_RULE_RU_RU', 'message': 'Возможно найдена орфографическая ошибка.', 'replacements': ['Нелли', 'Келли', 'Бели', 'Белли', 'Бэли', 'Цели', 'Дели', 'Гели', 'Лели', 'Мели', 'Нели', 'Нэли', 'Нэлли', 'Пели', 'Рели', 'Сели', 'Уели', 'Вели', 'Шелли', 'Эли', 'Щели', 'Р эли', 'Рэ ли', 'Рэл и'], 'offsetInContext': 35, 'context': 'Делегаты снова собрались в Таверне Рэли, где подтвердили бойкот английского чая...', 'offset': 35, 'errorLength': 4, 'category': 'TYPOS', 'ruleIssueType': 'misspelling', 'sentence': 'Делегаты снова собрались в Таверне Рэли, где подтвердили бойкот английского чая и постановили созвать конгресс для обсуждения мер сопротивления.'}),\n",
              " Match({'ruleId': 'MORFOLOGIK_RULE_RU_RU', 'message': 'Возможно найдена орфографическая ошибка.', 'replacements': ['Нелли', 'Келли', 'Бели', 'Белли', 'Бэли', 'Цели', 'Дели', 'Гели', 'Лели', 'Мели', 'Нели', 'Нэли', 'Нэлли', 'Пели', 'Рели', 'Сели', 'Уели', 'Вели', 'Шелли', 'Эли', 'Щели', 'Р эли', 'Рэ ли', 'Рэл и'], 'offsetInContext': 35, 'context': 'Делегаты снова собрались в Таверне Рэли, где подтвердили бойкот английского чая...', 'offset': 35, 'errorLength': 4, 'category': 'TYPOS', 'ruleIssueType': 'misspelling', 'sentence': 'Делегаты снова собрались в Таверне Рэли, где подтвердили бойкот английского чая и постановили созвать конгресс для обсуждения мер сопротивления.'}),\n",
              " Match({'ruleId': 'MORFOLOGIK_RULE_RU_RU', 'message': 'Возможно найдена орфографическая ошибка.', 'replacements': ['Нелли', 'Келли', 'Бели', 'Белли', 'Бэли', 'Цели', 'Дели', 'Гели', 'Лели', 'Мели', 'Нели', 'Нэли', 'Нэлли', 'Пели', 'Рели', 'Сели', 'Уели', 'Вели', 'Шелли', 'Эли', 'Щели', 'Р эли', 'Рэ ли', 'Рэл и'], 'offsetInContext': 35, 'context': 'Делегаты снова собрались в Таверне Рэли, где подтвердили бойкот английского чая...', 'offset': 35, 'errorLength': 4, 'category': 'TYPOS', 'ruleIssueType': 'misspelling', 'sentence': 'Делегаты снова собрались в Таверне Рэли, где подтвердили бойкот английского чая и постановили созвать конгресс для обсуждения мер сопротивления.'}),\n",
              " Match({'ruleId': 'MORFOLOGIK_RULE_RU_RU', 'message': 'Возможно найдена орфографическая ошибка.', 'replacements': ['Нелли', 'Келли', 'Бели', 'Белли', 'Бэли', 'Цели', 'Дели', 'Гели', 'Лели', 'Мели', 'Нели', 'Нэли', 'Нэлли', 'Пели', 'Рели', 'Сели', 'Уели', 'Вели', 'Шелли', 'Эли', 'Щели', 'Р эли', 'Рэ ли', 'Рэл и'], 'offsetInContext': 35, 'context': 'Делегаты снова собрались в Таверне Рэли, где подтвердили бойкот английского чая...', 'offset': 35, 'errorLength': 4, 'category': 'TYPOS', 'ruleIssueType': 'misspelling', 'sentence': 'Делегаты снова собрались в Таверне Рэли, где подтвердили бойкот английского чая и постановили созвать конгресс для обсуждения мер сопротивления.'}),\n",
              " Match({'ruleId': 'MORFOLOGIK_RULE_RU_RU', 'message': 'Возможно найдена орфографическая ошибка.', 'replacements': ['Нелли', 'Келли', 'Бели', 'Белли', 'Бэли', 'Цели', 'Дели', 'Гели', 'Лели', 'Мели', 'Нели', 'Нэли', 'Нэлли', 'Пели', 'Рели', 'Сели', 'Уели', 'Вели', 'Шелли', 'Эли', 'Щели', 'Р эли', 'Рэ ли', 'Рэл и'], 'offsetInContext': 35, 'context': 'Делегаты снова собрались в Таверне Рэли, где подтвердили бойкот английского чая...', 'offset': 35, 'errorLength': 4, 'category': 'TYPOS', 'ruleIssueType': 'misspelling', 'sentence': 'Делегаты снова собрались в Таверне Рэли, где подтвердили бойкот английского чая и постановили созвать конгресс для обсуждения мер сопротивления.'}),\n",
              " Match({'ruleId': 'MORFOLOGIK_RULE_RU_RU', 'message': 'Возможно найдена орфографическая ошибка.', 'replacements': ['вольно рожденного'], 'offsetInContext': 4, 'context': 'Для вольнорожденного римского мужчины было социально приемле...', 'offset': 4, 'errorLength': 16, 'category': 'TYPOS', 'ruleIssueType': 'misspelling', 'sentence': 'Для вольнорожденного римского мужчины было социально приемлемо желать секса как с женскими, так и с мужскими партнёрами.'}),\n",
              " Match({'ruleId': 'MORFOLOGIK_RULE_RU_RU', 'message': 'Возможно найдена орфографическая ошибка.', 'replacements': ['вольно рожденного'], 'offsetInContext': 4, 'context': 'Для вольнорожденного римского мужчины было социально приемле...', 'offset': 4, 'errorLength': 16, 'category': 'TYPOS', 'ruleIssueType': 'misspelling', 'sentence': 'Для вольнорожденного римского мужчины было социально приемлемо желать секса как с женскими, так и с мужскими партнёрами.'}),\n",
              " Match({'ruleId': 'MORFOLOGIK_RULE_RU_RU', 'message': 'Возможно найдена орфографическая ошибка.', 'replacements': ['вольно рожденного'], 'offsetInContext': 4, 'context': 'Для вольнорожденного римского мужчины было социально приемле...', 'offset': 4, 'errorLength': 16, 'category': 'TYPOS', 'ruleIssueType': 'misspelling', 'sentence': 'Для вольнорожденного римского мужчины было социально приемлемо желать секса как с женскими, так и с мужскими партнёрами.'}),\n",
              " Match({'ruleId': 'MORFOLOGIK_RULE_RU_RU', 'message': 'Возможно найдена орфографическая ошибка.', 'replacements': ['вольно рожденного'], 'offsetInContext': 4, 'context': 'Для вольнорожденного римского мужчины было социально приемле...', 'offset': 4, 'errorLength': 16, 'category': 'TYPOS', 'ruleIssueType': 'misspelling', 'sentence': 'Для вольнорожденного римского мужчины было социально приемлемо желать секса как с женскими, так и с мужскими партнёрами.'}),\n",
              " Match({'ruleId': 'MORFOLOGIK_RULE_RU_RU', 'message': 'Возможно найдена орфографическая ошибка.', 'replacements': ['вольно рожденного'], 'offsetInContext': 4, 'context': 'Для вольнорожденного римского мужчины было социально приемле...', 'offset': 4, 'errorLength': 16, 'category': 'TYPOS', 'ruleIssueType': 'misspelling', 'sentence': 'Для вольнорожденного римского мужчины было социально приемлемо желать секса как с женскими, так и с мужскими партнёрами.'}),\n",
              " Match({'ruleId': 'MORFOLOGIK_RULE_RU_RU', 'message': 'Возможно найдена орфографическая ошибка.', 'replacements': ['остроконфликтные'], 'offsetInContext': 43, 'context': '...я драматических произведений характерны остро-конфликтные ситуации, властно побуждающие персонажа...', 'offset': 42, 'errorLength': 17, 'category': 'TYPOS', 'ruleIssueType': 'misspelling', 'sentence': 'Для драматических произведений характерны остро-конфликтные ситуации, властно побуждающие персонажа к словесно-физическому действию.'}),\n",
              " Match({'ruleId': 'MORFOLOGIK_RULE_RU_RU', 'message': 'Возможно найдена орфографическая ошибка.', 'replacements': [], 'offsetInContext': 43, 'context': '...туации, властно побуждающие персонажа к словесно-физическому действию.', 'offset': 102, 'errorLength': 20, 'category': 'TYPOS', 'ruleIssueType': 'misspelling', 'sentence': 'Для драматических произведений характерны остро-конфликтные ситуации, властно побуждающие персонажа к словесно-физическому действию.'}),\n",
              " Match({'ruleId': 'MORFOLOGIK_RULE_RU_RU', 'message': 'Возможно найдена орфографическая ошибка.', 'replacements': ['остроконфликтные'], 'offsetInContext': 43, 'context': '...я драматических произведений характерны остро-конфликтные ситуации, властно побуждающие персонажа...', 'offset': 42, 'errorLength': 17, 'category': 'TYPOS', 'ruleIssueType': 'misspelling', 'sentence': 'Для драматических произведений характерны остро-конфликтные ситуации, властно побуждающие персонажа к словесно-физическому действию.'}),\n",
              " Match({'ruleId': 'MORFOLOGIK_RULE_RU_RU', 'message': 'Возможно найдена орфографическая ошибка.', 'replacements': [], 'offsetInContext': 43, 'context': '...туации, властно побуждающие персонажа к словесно-физическому действию.', 'offset': 102, 'errorLength': 20, 'category': 'TYPOS', 'ruleIssueType': 'misspelling', 'sentence': 'Для драматических произведений характерны остро-конфликтные ситуации, властно побуждающие персонажа к словесно-физическому действию.'}),\n",
              " Match({'ruleId': 'MORFOLOGIK_RULE_RU_RU', 'message': 'Возможно найдена орфографическая ошибка.', 'replacements': ['кого-либо', 'ком-либо', 'кому-либо', 'скользило'], 'offsetInContext': 32, 'context': 'Документальные источники и даже сколь-либо надёжные письменные свидетельства, гово...', 'offset': 32, 'errorLength': 10, 'category': 'TYPOS', 'ruleIssueType': 'misspelling', 'sentence': 'Документальные источники и даже сколь-либо надёжные письменные свидетельства, говорящие о жизни Хюррем до поступления в гарем, отсутствуют.'}),\n",
              " Match({'ruleId': 'MORFOLOGIK_RULE_RU_RU', 'message': 'Возможно найдена орфографическая ошибка.', 'replacements': ['Мюррей', 'Юрием', 'Кюрием', 'Кюриям', 'Люрием', 'Люриям', 'Мюррею', 'Мюррее', 'Мюрреем', 'Мюрреи', 'Мюррея', 'Мюрреям', 'Нюриям', 'Тюрем'], 'offsetInContext': 43, 'context': '...менные свидетельства, говорящие о жизни Хюррем до поступления в гарем, отсутствуют.', 'offset': 96, 'errorLength': 6, 'category': 'TYPOS', 'ruleIssueType': 'misspelling', 'sentence': 'Документальные источники и даже сколь-либо надёжные письменные свидетельства, говорящие о жизни Хюррем до поступления в гарем, отсутствуют.'}),\n",
              " Match({'ruleId': 'MORFOLOGIK_RULE_RU_RU', 'message': 'Возможно найдена орфографическая ошибка.', 'replacements': ['киргизстане', 'киргизстанов', 'кыргызстанцев'], 'offsetInContext': 43, 'context': '...нежные переводы от трудовых мигрантов и киргизстанцев, получивших гражданство других стран.', 'offset': 104, 'errorLength': 13, 'category': 'TYPOS', 'ruleIssueType': 'misspelling', 'sentence': 'Достаточно ощутимым вливанием в экономику республики являются денежные переводы от трудовых мигрантов и киргизстанцев, получивших гражданство других стран.'}),\n",
              " Match({'ruleId': 'MORFOLOGIK_RULE_RU_RU', 'message': 'Возможно найдена орфографическая ошибка.', 'replacements': ['киргизстане', 'киргизстанов', 'кыргызстанцев'], 'offsetInContext': 43, 'context': '...нежные переводы от трудовых мигрантов и киргизстанцев, получивших гражданство других стран.', 'offset': 104, 'errorLength': 13, 'category': 'TYPOS', 'ruleIssueType': 'misspelling', 'sentence': 'Достаточно ощутимым вливанием в экономику республики являются денежные переводы от трудовых мигрантов и киргизстанцев, получивших гражданство других стран.'}),\n",
              " Match({'ruleId': 'MORFOLOGIK_RULE_RU_RU', 'message': 'Возможно найдена орфографическая ошибка.', 'replacements': ['киргизстане', 'киргизстанов', 'кыргызстанцев'], 'offsetInContext': 43, 'context': '...нежные переводы от трудовых мигрантов и киргизстанцев, получивших гражданство других стран.', 'offset': 104, 'errorLength': 13, 'category': 'TYPOS', 'ruleIssueType': 'misspelling', 'sentence': 'Достаточно ощутимым вливанием в экономику республики являются денежные переводы от трудовых мигрантов и киргизстанцев, получивших гражданство других стран.'}),\n",
              " Match({'ruleId': 'MORFOLOGIK_RULE_RU_RU', 'message': 'Возможно найдена орфографическая ошибка.', 'replacements': ['киргизстане', 'киргизстанов', 'кыргызстанцев'], 'offsetInContext': 43, 'context': '...нежные переводы от трудовых мигрантов и киргизстанцев, получивших гражданство других стран.', 'offset': 104, 'errorLength': 13, 'category': 'TYPOS', 'ruleIssueType': 'misspelling', 'sentence': 'Достаточно ощутимым вливанием в экономику республики являются денежные переводы от трудовых мигрантов и киргизстанцев, получивших гражданство других стран.'}),\n",
              " Match({'ruleId': 'MORFOLOGIK_RULE_RU_RU', 'message': 'Возможно найдена орфографическая ошибка.', 'replacements': ['киргизстане', 'киргизстанов', 'кыргызстанцев'], 'offsetInContext': 43, 'context': '...нежные переводы от трудовых мигрантов и киргизстанцев, получивших гражданство других стран.', 'offset': 104, 'errorLength': 13, 'category': 'TYPOS', 'ruleIssueType': 'misspelling', 'sentence': 'Достаточно ощутимым вливанием в экономику республики являются денежные переводы от трудовых мигрантов и киргизстанцев, получивших гражданство других стран.'}),\n",
              " Match({'ruleId': 'KAK_PRAVILO', 'message': 'Пропущена запятая: «мужчины, как правило, склонны».', 'replacements': ['мужчины, как правило, склонны'], 'offsetInContext': 32, 'context': 'Если сравнивать с женщинами, то мужчины как правило склонны выбирать более летальные способы самоуб...', 'offset': 32, 'errorLength': 27, 'category': 'PUNCTUATION', 'ruleIssueType': 'uncategorized', 'sentence': 'Если сравнивать с женщинами, то мужчины как правило склонны выбирать более летальные способы самоубийства.'}),\n",
              " Match({'ruleId': 'KAK_PRAVILO', 'message': 'Пропущена запятая: «мужчины, как правило, склонны».', 'replacements': ['мужчины, как правило, склонны'], 'offsetInContext': 32, 'context': 'Если сравнивать с женщинами, то мужчины как правило склонны выбирать более летальные способы самоуб...', 'offset': 32, 'errorLength': 27, 'category': 'PUNCTUATION', 'ruleIssueType': 'uncategorized', 'sentence': 'Если сравнивать с женщинами, то мужчины как правило склонны выбирать более летальные способы самоубийства.'}),\n",
              " Match({'ruleId': 'KAK_PRAVILO', 'message': 'Пропущена запятая: «мужчины, как правило, склонны».', 'replacements': ['мужчины, как правило, склонны'], 'offsetInContext': 32, 'context': 'Если сравнивать с женщинами, то мужчины как правило склонны выбирать более летальные способы самоуб...', 'offset': 32, 'errorLength': 27, 'category': 'PUNCTUATION', 'ruleIssueType': 'uncategorized', 'sentence': 'Если сравнивать с женщинами, то мужчины как правило склонны выбирать более летальные способы самоубийства.'}),\n",
              " Match({'ruleId': 'KAK_PRAVILO', 'message': 'Пропущена запятая: «мужчины, как правило, склонны».', 'replacements': ['мужчины, как правило, склонны'], 'offsetInContext': 32, 'context': 'Если сравнивать с женщинами, то мужчины как правило склонны выбирать более летальные способы самоуб...', 'offset': 32, 'errorLength': 27, 'category': 'PUNCTUATION', 'ruleIssueType': 'uncategorized', 'sentence': 'Если сравнивать с женщинами, то мужчины как правило склонны выбирать более летальные способы самоубийства.'}),\n",
              " Match({'ruleId': 'KAK_PRAVILO', 'message': 'Пропущена запятая: «мужчины, как правило, склонны».', 'replacements': ['мужчины, как правило, склонны'], 'offsetInContext': 32, 'context': 'Если сравнивать с женщинами, то мужчины как правило склонны выбирать более летальные способы самоуб...', 'offset': 32, 'errorLength': 27, 'category': 'PUNCTUATION', 'ruleIssueType': 'uncategorized', 'sentence': 'Если сравнивать с женщинами, то мужчины как правило склонны выбирать более летальные способы самоубийства.'}),\n",
              " Match({'ruleId': 'MORFOLOGIK_RULE_RU_RU', 'message': 'Возможно найдена орфографическая ошибка.', 'replacements': ['Познер'], 'offsetInContext': 43, 'context': '...д в развитие советского джаза внёс Эдди Рознер — композитор, музыкант и руководитель о...', 'offset': 53, 'errorLength': 6, 'category': 'TYPOS', 'ruleIssueType': 'misspelling', 'sentence': 'Заметный вклад в развитие советского джаза внёс Эдди Рознер — композитор, музыкант и руководитель оркестров.'}),\n",
              " Match({'ruleId': 'MORFOLOGIK_RULE_RU_RU', 'message': 'Возможно найдена орфографическая ошибка.', 'replacements': ['Познер'], 'offsetInContext': 43, 'context': '...д в развитие советского джаза внёс Эдди Рознер — композитор, музыкант и руководитель о...', 'offset': 53, 'errorLength': 6, 'category': 'TYPOS', 'ruleIssueType': 'misspelling', 'sentence': 'Заметный вклад в развитие советского джаза внёс Эдди Рознер — композитор, музыкант и руководитель оркестров.'}),\n",
              " Match({'ruleId': 'MORFOLOGIK_RULE_RU_RU', 'message': 'Возможно найдена орфографическая ошибка.', 'replacements': ['Познер'], 'offsetInContext': 43, 'context': '...д в развитие советского джаза внёс Эдди Рознер — композитор, музыкант и руководитель о...', 'offset': 53, 'errorLength': 6, 'category': 'TYPOS', 'ruleIssueType': 'misspelling', 'sentence': 'Заметный вклад в развитие советского джаза внёс Эдди Рознер — композитор, музыкант и руководитель оркестров.'}),\n",
              " Match({'ruleId': 'MORFOLOGIK_RULE_RU_RU', 'message': 'Возможно найдена орфографическая ошибка.', 'replacements': ['Познер'], 'offsetInContext': 43, 'context': '...д в развитие советского джаза внёс Эдди Рознер — композитор, музыкант и руководитель о...', 'offset': 53, 'errorLength': 6, 'category': 'TYPOS', 'ruleIssueType': 'misspelling', 'sentence': 'Заметный вклад в развитие советского джаза внёс Эдди Рознер — композитор, музыкант и руководитель оркестров.'}),\n",
              " Match({'ruleId': 'MORFOLOGIK_RULE_RU_RU', 'message': 'Возможно найдена орфографическая ошибка.', 'replacements': ['Познер'], 'offsetInContext': 43, 'context': '...д в развитие советского джаза внёс Эдди Рознер — композитор, музыкант и руководитель о...', 'offset': 53, 'errorLength': 6, 'category': 'TYPOS', 'ruleIssueType': 'misspelling', 'sentence': 'Заметный вклад в развитие советского джаза внёс Эдди Рознер — композитор, музыкант и руководитель оркестров.'}),\n",
              " Match({'ruleId': 'UPPERCASE_SENTENCE_START', 'message': 'Это предложение не начинается с заглавной буквы.', 'replacements': ['Племянник'], 'offsetInContext': 43, 'context': '...накомилась во время службы в Индокитае. племянник — французский политик Андре Сантини.', 'offset': 97, 'errorLength': 9, 'category': 'CASING', 'ruleIssueType': 'typographical', 'sentence': 'племянник — французский политик Андре Сантини.'}),\n",
              " Match({'ruleId': 'UPPERCASE_SENTENCE_START', 'message': 'Это предложение не начинается с заглавной буквы.', 'replacements': ['Племянник'], 'offsetInContext': 43, 'context': '...накомилась во время службы в Индокитае. племянник — французский политик Андре Сантини.', 'offset': 97, 'errorLength': 9, 'category': 'CASING', 'ruleIssueType': 'typographical', 'sentence': 'племянник — французский политик Андре Сантини.'}),\n",
              " Match({'ruleId': 'UPPERCASE_SENTENCE_START', 'message': 'Это предложение не начинается с заглавной буквы.', 'replacements': ['Племянник'], 'offsetInContext': 43, 'context': '...накомилась во время службы в Индокитае. племянник — французский политик Андре Сантини.', 'offset': 97, 'errorLength': 9, 'category': 'CASING', 'ruleIssueType': 'typographical', 'sentence': 'племянник — французский политик Андре Сантини.'}),\n",
              " Match({'ruleId': 'MORFOLOGIK_RULE_RU_RU', 'message': 'Возможно найдена орфографическая ошибка.', 'replacements': ['Ст аховой', 'Стахов ой'], 'offsetInContext': 43, 'context': '...нии любви, образ русской женщины (Елены Стаховой); поражала фигура воинствующего демокра...', 'offset': 96, 'errorLength': 8, 'category': 'TYPOS', 'ruleIssueType': 'misspelling', 'sentence': 'Западного читателя покорили моральная чистота в изображении любви, образ русской женщины (Елены Стаховой); поражала фигура воинствующего демократа Базарова.'}),\n",
              " Match({'ruleId': 'MORFOLOGIK_RULE_RU_RU', 'message': 'Возможно найдена орфографическая ошибка.', 'replacements': ['Ст аховой', 'Стахов ой'], 'offsetInContext': 43, 'context': '...нии любви, образ русской женщины (Елены Стаховой); поражала фигура воинствующего демокра...', 'offset': 96, 'errorLength': 8, 'category': 'TYPOS', 'ruleIssueType': 'misspelling', 'sentence': 'Западного читателя покорили моральная чистота в изображении любви, образ русской женщины (Елены Стаховой); поражала фигура воинствующего демократа Базарова.'}),\n",
              " Match({'ruleId': 'MORFOLOGIK_RULE_RU_RU', 'message': 'Возможно найдена орфографическая ошибка.', 'replacements': ['Ст аховой', 'Стахов ой'], 'offsetInContext': 43, 'context': '...нии любви, образ русской женщины (Елены Стаховой); поражала фигура воинствующего демокра...', 'offset': 96, 'errorLength': 8, 'category': 'TYPOS', 'ruleIssueType': 'misspelling', 'sentence': 'Западного читателя покорили моральная чистота в изображении любви, образ русской женщины (Елены Стаховой); поражала фигура воинствующего демократа Базарова.'}),\n",
              " Match({'ruleId': 'MORFOLOGIK_RULE_RU_RU', 'message': 'Возможно найдена орфографическая ошибка.', 'replacements': ['Ст аховой', 'Стахов ой'], 'offsetInContext': 43, 'context': '...нии любви, образ русской женщины (Елены Стаховой); поражала фигура воинствующего демокра...', 'offset': 96, 'errorLength': 8, 'category': 'TYPOS', 'ruleIssueType': 'misspelling', 'sentence': 'Западного читателя покорили моральная чистота в изображении любви, образ русской женщины (Елены Стаховой); поражала фигура воинствующего демократа Базарова.'}),\n",
              " Match({'ruleId': 'MORFOLOGIK_RULE_RU_RU', 'message': 'Возможно найдена орфографическая ошибка.', 'replacements': ['Ст аховой', 'Стахов ой'], 'offsetInContext': 43, 'context': '...нии любви, образ русской женщины (Елены Стаховой); поражала фигура воинствующего демокра...', 'offset': 96, 'errorLength': 8, 'category': 'TYPOS', 'ruleIssueType': 'misspelling', 'sentence': 'Западного читателя покорили моральная чистота в изображении любви, образ русской женщины (Елены Стаховой); поражала фигура воинствующего демократа Базарова.'}),\n",
              " Match({'ruleId': 'MORFOLOGIK_RULE_RU_RU', 'message': 'Возможно найдена орфографическая ошибка.', 'replacements': ['Нью мена'], 'offsetInContext': 43, 'context': '...вновесное состояние чёрной дыры Керра — Ньюмена.', 'offset': 97, 'errorLength': 7, 'category': 'TYPOS', 'ruleIssueType': 'misspelling', 'sentence': 'Затем горизонт успокаивается, и чёрная дыра приходит в равновесное состояние чёрной дыры Керра — Ньюмена.'}),\n",
              " Match({'ruleId': 'MORFOLOGIK_RULE_RU_RU', 'message': 'Возможно найдена орфографическая ошибка.', 'replacements': ['Нью мена'], 'offsetInContext': 43, 'context': '...вновесное состояние чёрной дыры Керра — Ньюмена.', 'offset': 97, 'errorLength': 7, 'category': 'TYPOS', 'ruleIssueType': 'misspelling', 'sentence': 'Затем горизонт успокаивается, и чёрная дыра приходит в равновесное состояние чёрной дыры Керра — Ньюмена.'}),\n",
              " Match({'ruleId': 'MORFOLOGIK_RULE_RU_RU', 'message': 'Возможно найдена орфографическая ошибка.', 'replacements': ['Нью мена'], 'offsetInContext': 43, 'context': '...вновесное состояние чёрной дыры Керра — Ньюмена.', 'offset': 97, 'errorLength': 7, 'category': 'TYPOS', 'ruleIssueType': 'misspelling', 'sentence': 'Затем горизонт успокаивается, и чёрная дыра приходит в равновесное состояние чёрной дыры Керра — Ньюмена.'}),\n",
              " Match({'ruleId': 'MORFOLOGIK_RULE_RU_RU', 'message': 'Возможно найдена орфографическая ошибка.', 'replacements': ['Нью мена'], 'offsetInContext': 43, 'context': '...вновесное состояние чёрной дыры Керра — Ньюмена.', 'offset': 97, 'errorLength': 7, 'category': 'TYPOS', 'ruleIssueType': 'misspelling', 'sentence': 'Затем горизонт успокаивается, и чёрная дыра приходит в равновесное состояние чёрной дыры Керра — Ньюмена.'}),\n",
              " Match({'ruleId': 'MORFOLOGIK_RULE_RU_RU', 'message': 'Возможно найдена орфографическая ошибка.', 'replacements': ['Нью мена'], 'offsetInContext': 43, 'context': '...вновесное состояние чёрной дыры Керра — Ньюмена.', 'offset': 97, 'errorLength': 7, 'category': 'TYPOS', 'ruleIssueType': 'misspelling', 'sentence': 'Затем горизонт успокаивается, и чёрная дыра приходит в равновесное состояние чёрной дыры Керра — Ньюмена.'}),\n",
              " Match({'ruleId': 'MORFOLOGIK_RULE_RU_RU', 'message': 'Возможно найдена орфографическая ошибка.', 'replacements': ['Кана вине', 'Канав ине'], 'offsetInContext': 43, 'context': '...учился в слободском начальном училище в Канавине, где жил с матерью и отчимом.', 'offset': 59, 'errorLength': 8, 'category': 'TYPOS', 'ruleIssueType': 'misspelling', 'sentence': 'Затем два класса отучился в слободском начальном училище в Канавине, где жил с матерью и отчимом.'}),\n",
              " Match({'ruleId': 'MORFOLOGIK_RULE_RU_RU', 'message': 'Возможно найдена орфографическая ошибка.', 'replacements': ['Будь ко'], 'offsetInContext': 5, 'context': 'Иван Будько займётся бизнесом, спасёт страну от бюр...', 'offset': 5, 'errorLength': 6, 'category': 'TYPOS', 'ruleIssueType': 'misspelling', 'sentence': 'Иван Будько займётся бизнесом, спасёт страну от бюрократии, отправится на заработки, отравится грибами и отметит юбилей.'}),\n",
              " Match({'ruleId': 'MORFOLOGIK_RULE_RU_RU', 'message': 'Возможно найдена орфографическая ошибка.', 'replacements': ['Будь ко'], 'offsetInContext': 5, 'context': 'Иван Будько займётся бизнесом, спасёт страну от бюр...', 'offset': 5, 'errorLength': 6, 'category': 'TYPOS', 'ruleIssueType': 'misspelling', 'sentence': 'Иван Будько займётся бизнесом, спасёт страну от бюрократии, отправится на заработки, отравится грибами и отметит юбилей.'}),\n",
              " Match({'ruleId': 'MORFOLOGIK_RULE_RU_RU', 'message': 'Возможно найдена орфографическая ошибка.', 'replacements': ['Будь ко'], 'offsetInContext': 5, 'context': 'Иван Будько займётся бизнесом, спасёт страну от бюр...', 'offset': 5, 'errorLength': 6, 'category': 'TYPOS', 'ruleIssueType': 'misspelling', 'sentence': 'Иван Будько займётся бизнесом, спасёт страну от бюрократии, отправится на заработки, отравится грибами и отметит юбилей.'}),\n",
              " Match({'ruleId': 'MORFOLOGIK_RULE_RU_RU', 'message': 'Возможно найдена орфографическая ошибка.', 'replacements': ['Гэмбл', 'Бембеи', 'Бемоли', 'Мели', 'Немели', 'Жемили', 'Земели', 'Земли', 'Эмали', 'Эмили', 'Щемили'], 'offsetInContext': 18, 'context': 'Игра проходила на Уэмбли, и когда Марадона получал мяч, на трибу...', 'offset': 18, 'errorLength': 6, 'category': 'TYPOS', 'ruleIssueType': 'misspelling', 'sentence': 'Игра проходила на Уэмбли, и когда Марадона получал мяч, на трибунах проносился недовольный гул.'}),\n",
              " Match({'ruleId': 'MORFOLOGIK_RULE_RU_RU', 'message': 'Возможно найдена орфографическая ошибка.', 'replacements': ['Гэмбл', 'Бембеи', 'Бемоли', 'Мели', 'Немели', 'Жемили', 'Земели', 'Земли', 'Эмали', 'Эмили', 'Щемили'], 'offsetInContext': 18, 'context': 'Игра проходила на Уэмбли, и когда Марадона получал мяч, на трибу...', 'offset': 18, 'errorLength': 6, 'category': 'TYPOS', 'ruleIssueType': 'misspelling', 'sentence': 'Игра проходила на Уэмбли, и когда Марадона получал мяч, на трибунах проносился недовольный гул.'}),\n",
              " Match({'ruleId': 'MORFOLOGIK_RULE_RU_RU', 'message': 'Возможно найдена орфографическая ошибка.', 'replacements': ['Гэмбл', 'Бембеи', 'Бемоли', 'Мели', 'Немели', 'Жемили', 'Земели', 'Земли', 'Эмали', 'Эмили', 'Щемили'], 'offsetInContext': 18, 'context': 'Игра проходила на Уэмбли, и когда Марадона получал мяч, на трибу...', 'offset': 18, 'errorLength': 6, 'category': 'TYPOS', 'ruleIssueType': 'misspelling', 'sentence': 'Игра проходила на Уэмбли, и когда Марадона получал мяч, на трибунах проносился недовольный гул.'}),\n",
              " Match({'ruleId': 'MORFOLOGIK_RULE_RU_RU', 'message': 'Возможно найдена орфографическая ошибка.', 'replacements': ['Гэмбл', 'Бембеи', 'Бемоли', 'Мели', 'Немели', 'Жемили', 'Земели', 'Земли', 'Эмали', 'Эмили', 'Щемили'], 'offsetInContext': 18, 'context': 'Игра проходила на Уэмбли, и когда Марадона получал мяч, на трибу...', 'offset': 18, 'errorLength': 6, 'category': 'TYPOS', 'ruleIssueType': 'misspelling', 'sentence': 'Игра проходила на Уэмбли, и когда Марадона получал мяч, на трибунах проносился недовольный гул.'}),\n",
              " Match({'ruleId': 'MORFOLOGIK_RULE_RU_RU', 'message': 'Возможно найдена орфографическая ошибка.', 'replacements': ['Гэмбл', 'Бембеи', 'Бемоли', 'Мели', 'Немели', 'Жемили', 'Земели', 'Земли', 'Эмали', 'Эмили', 'Щемили'], 'offsetInContext': 18, 'context': 'Игра проходила на Уэмбли, и когда Марадона получал мяч, на трибу...', 'offset': 18, 'errorLength': 6, 'category': 'TYPOS', 'ruleIssueType': 'misspelling', 'sentence': 'Игра проходила на Уэмбли, и когда Марадона получал мяч, на трибунах проносился недовольный гул.'}),\n",
              " Match({'ruleId': 'MORFOLOGIK_RULE_RU_RU', 'message': 'Возможно найдена орфографическая ошибка.', 'replacements': ['индицируй', 'индигиркой', 'индигой', 'индирой'], 'offsetInContext': 43, 'context': '...чшей игрой года, а также восьмой лучшей инди-игрой года.', 'offset': 94, 'errorLength': 10, 'category': 'TYPOS', 'ruleIssueType': 'misspelling', 'sentence': 'Игровое издание Gamasutra назвала Minecraft восьмой лучшей игрой года, а также восьмой лучшей инди-игрой года.'}),\n",
              " Match({'ruleId': 'MORFOLOGIK_RULE_RU_RU', 'message': 'Возможно найдена орфографическая ошибка.', 'replacements': ['индицируй', 'индигиркой', 'индигой', 'индирой'], 'offsetInContext': 43, 'context': '...чшей игрой года, а также восьмой лучшей инди-игрой года.', 'offset': 94, 'errorLength': 10, 'category': 'TYPOS', 'ruleIssueType': 'misspelling', 'sentence': 'Игровое издание Gamasutra назвала Minecraft восьмой лучшей игрой года, а также восьмой лучшей инди-игрой года.'}),\n",
              " Match({'ruleId': 'MORFOLOGIK_RULE_RU_RU', 'message': 'Возможно найдена орфографическая ошибка.', 'replacements': ['индицируй', 'индигиркой', 'индигой', 'индирой'], 'offsetInContext': 43, 'context': '...чшей игрой года, а также восьмой лучшей инди-игрой года.', 'offset': 94, 'errorLength': 10, 'category': 'TYPOS', 'ruleIssueType': 'misspelling', 'sentence': 'Игровое издание Gamasutra назвала Minecraft восьмой лучшей игрой года, а также восьмой лучшей инди-игрой года.'}),\n",
              " Match({'ruleId': 'MORFOLOGIK_RULE_RU_RU', 'message': 'Возможно найдена орфографическая ошибка.', 'replacements': ['индицируй', 'индигиркой', 'индигой', 'индирой'], 'offsetInContext': 43, 'context': '...чшей игрой года, а также восьмой лучшей инди-игрой года.', 'offset': 94, 'errorLength': 10, 'category': 'TYPOS', 'ruleIssueType': 'misspelling', 'sentence': 'Игровое издание Gamasutra назвала Minecraft восьмой лучшей игрой года, а также восьмой лучшей инди-игрой года.'}),\n",
              " Match({'ruleId': 'MORFOLOGIK_RULE_RU_RU', 'message': 'Возможно найдена орфографическая ошибка.', 'replacements': ['индицируй', 'индигиркой', 'индигой', 'индирой'], 'offsetInContext': 43, 'context': '...чшей игрой года, а также восьмой лучшей инди-игрой года.', 'offset': 94, 'errorLength': 10, 'category': 'TYPOS', 'ruleIssueType': 'misspelling', 'sentence': 'Игровое издание Gamasutra назвала Minecraft восьмой лучшей игрой года, а также восьмой лучшей инди-игрой года.'}),\n",
              " Match({'ruleId': 'MORFOLOGIK_RULE_RU_RU', 'message': 'Возможно найдена орфографическая ошибка.', 'replacements': ['акинезии', 'кинез ии'], 'offsetInContext': 43, 'context': '...да у больных определяют «парадоксальные кинезии», когда вследствие эмоциональных пережи...', 'offset': 44, 'errorLength': 7, 'category': 'TYPOS', 'ruleIssueType': 'misspelling', 'sentence': 'Иногда у больных определяют «парадоксальные кинезии», когда вследствие эмоциональных переживаний, после сна либо вследствие других факторов человек начинает свободно передвигаться, пропадают характерные для заболевания симптомы.'}),\n",
              " Match({'ruleId': 'MORFOLOGIK_RULE_RU_RU', 'message': 'Возможно найдена орфографическая ошибка.', 'replacements': ['Авеля', 'Фавеля', 'Ковеля', 'Навеля', 'Навяля', 'Повяля', 'Жавеля', 'Завяля', 'Щавеля', 'Р авеля'], 'offsetInContext': 43, 'context': '...e) — одноактная комическая опера Мориса Равеля на либретто Франк-Ноэна.', 'offset': 75, 'errorLength': 6, 'category': 'TYPOS', 'ruleIssueType': 'misspelling', 'sentence': \"L'Heure espagnole) — одноактная комическая опера Мориса Равеля на либретто Франк-Ноэна.\"}),\n",
              " Match({'ruleId': 'PREP_U_and_Noun', 'message': 'Предлог «от» предполагает употребление существительного в родительном падеже: «от (Миссисипи)» или «Миссисипи»', 'replacements': ['от (Миссисипи)', 'Миссисипи'], 'offsetInContext': 9, 'context': 'К западу от Миссисипи идут территории Великих равнин с более ...', 'offset': 9, 'errorLength': 12, 'category': 'GRAMMAR', 'ruleIssueType': 'uncategorized', 'sentence': 'К западу от Миссисипи идут территории Великих равнин с более скудной растительностью (в силу сухости), чем в прериях предмиссисипья.'}),\n",
              " Match({'ruleId': 'MORFOLOGIK_RULE_RU_RU', 'message': 'Возможно найдена орфографическая ошибка.', 'replacements': [], 'offsetInContext': 43, 'context': '...ьностью (в силу сухости), чем в прериях предмиссисипья.', 'offset': 117, 'errorLength': 14, 'category': 'TYPOS', 'ruleIssueType': 'misspelling', 'sentence': 'К западу от Миссисипи идут территории Великих равнин с более скудной растительностью (в силу сухости), чем в прериях предмиссисипья.'}),\n",
              " Match({'ruleId': 'PREP_U_and_Noun', 'message': 'Предлог «от» предполагает употребление существительного в родительном падеже: «от (Миссисипи)» или «Миссисипи»', 'replacements': ['от (Миссисипи)', 'Миссисипи'], 'offsetInContext': 9, 'context': 'К западу от Миссисипи идут территории Великих равнин с более ...', 'offset': 9, 'errorLength': 12, 'category': 'GRAMMAR', 'ruleIssueType': 'uncategorized', 'sentence': 'К западу от Миссисипи идут территории Великих равнин с более скудной растительностью (в силу сухости), чем в прериях предмиссисипья.'}),\n",
              " Match({'ruleId': 'MORFOLOGIK_RULE_RU_RU', 'message': 'Возможно найдена орфографическая ошибка.', 'replacements': [], 'offsetInContext': 43, 'context': '...ьностью (в силу сухости), чем в прериях предмиссисипья.', 'offset': 117, 'errorLength': 14, 'category': 'TYPOS', 'ruleIssueType': 'misspelling', 'sentence': 'К западу от Миссисипи идут территории Великих равнин с более скудной растительностью (в силу сухости), чем в прериях предмиссисипья.'}),\n",
              " Match({'ruleId': 'OPREDELENIA', 'message': 'Избыточные определения. В правильно составленном предложении не должно быть больше одного придаточного определения.', 'replacements': [], 'offsetInContext': 43, 'context': '...на две культурные зоны: равнины, жители которых говорили на англо-шотландском языке, и горную Шотландию, население которой пользовалось гаэльским.', 'offset': 87, 'errorLength': 82, 'category': 'STYLE', 'ruleIssueType': 'uncategorized', 'sentence': 'К концу Средневековья Шотландия была разделена на две культурные зоны: равнины, жители которых говорили на англо-шотландском языке, и горную Шотландию, население которой пользовалось гаэльским.'}),\n",
              " Match({'ruleId': 'OPREDELENIA', 'message': 'Избыточные определения. В правильно составленном предложении не должно быть больше одного придаточного определения.', 'replacements': [], 'offsetInContext': 43, 'context': '...на две культурные зоны: равнины, жители которых говорили на англо-шотландском языке, и горную Шотландию, население которой пользовалось гаэльским.', 'offset': 87, 'errorLength': 82, 'category': 'STYLE', 'ruleIssueType': 'uncategorized', 'sentence': 'К концу Средневековья Шотландия была разделена на две культурные зоны: равнины, жители которых говорили на англо-шотландском языке, и горную Шотландию, население которой пользовалось гаэльским.'}),\n",
              " Match({'ruleId': 'OPREDELENIA', 'message': 'Избыточные определения. В правильно составленном предложении не должно быть больше одного придаточного определения.', 'replacements': [], 'offsetInContext': 43, 'context': '...на две культурные зоны: равнины, жители которых говорили на англо-шотландском языке, и горную Шотландию, население которой пользовалось гаэльским.', 'offset': 87, 'errorLength': 82, 'category': 'STYLE', 'ruleIssueType': 'uncategorized', 'sentence': 'К концу Средневековья Шотландия была разделена на две культурные зоны: равнины, жители которых говорили на англо-шотландском языке, и горную Шотландию, население которой пользовалось гаэльским.'}),\n",
              " Match({'ruleId': 'OPREDELENIA', 'message': 'Избыточные определения. В правильно составленном предложении не должно быть больше одного придаточного определения.', 'replacements': [], 'offsetInContext': 43, 'context': '...на две культурные зоны: равнины, жители которых говорили на англо-шотландском языке, и горную Шотландию, население которой пользовалось гаэльским.', 'offset': 87, 'errorLength': 82, 'category': 'STYLE', 'ruleIssueType': 'uncategorized', 'sentence': 'К концу Средневековья Шотландия была разделена на две культурные зоны: равнины, жители которых говорили на англо-шотландском языке, и горную Шотландию, население которой пользовалось гаэльским.'}),\n",
              " Match({'ruleId': 'OPREDELENIA', 'message': 'Избыточные определения. В правильно составленном предложении не должно быть больше одного придаточного определения.', 'replacements': [], 'offsetInContext': 43, 'context': '...на две культурные зоны: равнины, жители которых говорили на англо-шотландском языке, и горную Шотландию, население которой пользовалось гаэльским.', 'offset': 87, 'errorLength': 82, 'category': 'STYLE', 'ruleIssueType': 'uncategorized', 'sentence': 'К концу Средневековья Шотландия была разделена на две культурные зоны: равнины, жители которых говорили на англо-шотландском языке, и горную Шотландию, население которой пользовалось гаэльским.'}),\n",
              " Match({'ruleId': 'MORFOLOGIK_RULE_RU_RU', 'message': 'Возможно найдена орфографическая ошибка.', 'replacements': ['Вич-инфекции'], 'offsetInContext': 43, 'context': '...и и методах профилактики, пневмонию при ВИЧ-инфекции и больничную пневмонию.', 'offset': 227, 'errorLength': 12, 'category': 'TYPOS', 'ruleIssueType': 'misspelling', 'sentence': 'К этой группе можно отнести пневмонии, вызванные различными возбудителями, которые имеют различные эпидемиологические, клинические и анатомические проявления, нуждаются в различной терапии и методах профилактики, пневмонию при ВИЧ-инфекции и больничную пневмонию.'}),\n",
              " Match({'ruleId': 'MORFOLOGIK_RULE_RU_RU', 'message': 'Возможно найдена орфографическая ошибка.', 'replacements': ['Вич-инфекции'], 'offsetInContext': 43, 'context': '...и и методах профилактики, пневмонию при ВИЧ-инфекции и больничную пневмонию.', 'offset': 227, 'errorLength': 12, 'category': 'TYPOS', 'ruleIssueType': 'misspelling', 'sentence': 'К этой группе можно отнести пневмонии, вызванные различными возбудителями, которые имеют различные эпидемиологические, клинические и анатомические проявления, нуждаются в различной терапии и методах профилактики, пневмонию при ВИЧ-инфекции и больничную пневмонию.'}),\n",
              " Match({'ruleId': 'MORFOLOGIK_RULE_RU_RU', 'message': 'Возможно найдена орфографическая ошибка.', 'replacements': ['однажды', 'доналде', 'надое', 'надуве', 'обнове', 'одноцвет', 'однодум', 'однодуме', 'одногодке', 'однолюбе', 'однорядке', 'однотёсе', 'однотесе', 'одновр', 'онгудае', 'основе', 'поднадвей'], 'offsetInContext': 13, 'context': 'Как правило, одна-две улицы проходили вдоль рек и пересекалис...', 'offset': 13, 'errorLength': 8, 'category': 'TYPOS', 'ruleIssueType': 'misspelling', 'sentence': 'Как правило, одна-две улицы проходили вдоль рек и пересекались малыми улочками и переулками.'}),\n",
              " Match({'ruleId': 'MORFOLOGIK_RULE_RU_RU', 'message': 'Возможно найдена орфографическая ошибка.', 'replacements': ['однажды', 'доналде', 'надое', 'надуве', 'обнове', 'одноцвет', 'однодум', 'однодуме', 'одногодке', 'однолюбе', 'однорядке', 'однотёсе', 'однотесе', 'одновр', 'онгудае', 'основе', 'поднадвей'], 'offsetInContext': 13, 'context': 'Как правило, одна-две улицы проходили вдоль рек и пересекалис...', 'offset': 13, 'errorLength': 8, 'category': 'TYPOS', 'ruleIssueType': 'misspelling', 'sentence': 'Как правило, одна-две улицы проходили вдоль рек и пересекались малыми улочками и переулками.'}),\n",
              " Match({'ruleId': 'MORFOLOGIK_RULE_RU_RU', 'message': 'Возможно найдена орфографическая ошибка.', 'replacements': ['однажды', 'доналде', 'надое', 'надуве', 'обнове', 'одноцвет', 'однодум', 'однодуме', 'одногодке', 'однолюбе', 'однорядке', 'однотёсе', 'однотесе', 'одновр', 'онгудае', 'основе', 'поднадвей'], 'offsetInContext': 13, 'context': 'Как правило, одна-две улицы проходили вдоль рек и пересекалис...', 'offset': 13, 'errorLength': 8, 'category': 'TYPOS', 'ruleIssueType': 'misspelling', 'sentence': 'Как правило, одна-две улицы проходили вдоль рек и пересекались малыми улочками и переулками.'}),\n",
              " Match({'ruleId': 'MORFOLOGIK_RULE_RU_RU', 'message': 'Возможно найдена орфографическая ошибка.', 'replacements': ['Карах аниды'], 'offsetInContext': 0, 'context': 'Караханиды гораздо больше, чем другие династии тюр...', 'offset': 0, 'errorLength': 10, 'category': 'TYPOS', 'ruleIssueType': 'misspelling', 'sentence': 'Караханиды гораздо больше, чем другие династии тюркского происхождения, имели в надписях на монетах тюркские титулы.'}),\n",
              " Match({'ruleId': 'MORFOLOGIK_RULE_RU_RU', 'message': 'Возможно найдена орфографическая ошибка.', 'replacements': ['Карах аниды'], 'offsetInContext': 0, 'context': 'Караханиды гораздо больше, чем другие династии тюр...', 'offset': 0, 'errorLength': 10, 'category': 'TYPOS', 'ruleIssueType': 'misspelling', 'sentence': 'Караханиды гораздо больше, чем другие династии тюркского происхождения, имели в надписях на монетах тюркские титулы.'}),\n",
              " Match({'ruleId': 'MORFOLOGIK_RULE_RU_RU', 'message': 'Возможно найдена орфографическая ошибка.', 'replacements': ['Карах аниды'], 'offsetInContext': 0, 'context': 'Караханиды гораздо больше, чем другие династии тюр...', 'offset': 0, 'errorLength': 10, 'category': 'TYPOS', 'ruleIssueType': 'misspelling', 'sentence': 'Караханиды гораздо больше, чем другие династии тюркского происхождения, имели в надписях на монетах тюркские титулы.'}),\n",
              " Match({'ruleId': 'MORFOLOGIK_RULE_RU_RU', 'message': 'Возможно найдена орфографическая ошибка.', 'replacements': ['Карах аниды'], 'offsetInContext': 0, 'context': 'Караханиды гораздо больше, чем другие династии тюр...', 'offset': 0, 'errorLength': 10, 'category': 'TYPOS', 'ruleIssueType': 'misspelling', 'sentence': 'Караханиды гораздо больше, чем другие династии тюркского происхождения, имели в надписях на монетах тюркские титулы.'}),\n",
              " Match({'ruleId': 'MORFOLOGIK_RULE_RU_RU', 'message': 'Возможно найдена орфографическая ошибка.', 'replacements': ['Карах аниды'], 'offsetInContext': 0, 'context': 'Караханиды гораздо больше, чем другие династии тюр...', 'offset': 0, 'errorLength': 10, 'category': 'TYPOS', 'ruleIssueType': 'misspelling', 'sentence': 'Караханиды гораздо больше, чем другие династии тюркского происхождения, имели в надписях на монетах тюркские титулы.'}),\n",
              " Match({'ruleId': 'MORFOLOGIK_RULE_RU_RU', 'message': 'Возможно найдена орфографическая ошибка.', 'replacements': ['Дёрни', 'Горни', 'Корни', 'Шорни', 'Хор ни'], 'offsetInContext': 6, 'context': 'Карен Хорни считала, что базовый конфликт невроза —...', 'offset': 6, 'errorLength': 5, 'category': 'TYPOS', 'ruleIssueType': 'misspelling', 'sentence': 'Карен Хорни считала, что базовый конфликт невроза — результат противоречия между несовместимыми защитными тенденциями личности.'}),\n",
              " Match({'ruleId': 'MORFOLOGIK_RULE_RU_RU', 'message': 'Возможно найдена орфографическая ошибка.', 'replacements': ['Дёрни', 'Горни', 'Корни', 'Шорни', 'Хор ни'], 'offsetInContext': 6, 'context': 'Карен Хорни считала, что базовый конфликт невроза —...', 'offset': 6, 'errorLength': 5, 'category': 'TYPOS', 'ruleIssueType': 'misspelling', 'sentence': 'Карен Хорни считала, что базовый конфликт невроза — результат противоречия между несовместимыми защитными тенденциями личности.'}),\n",
              " Match({'ruleId': 'MORFOLOGIK_RULE_RU_RU', 'message': 'Возможно найдена орфографическая ошибка.', 'replacements': ['Дёрни', 'Горни', 'Корни', 'Шорни', 'Хор ни'], 'offsetInContext': 6, 'context': 'Карен Хорни считала, что базовый конфликт невроза —...', 'offset': 6, 'errorLength': 5, 'category': 'TYPOS', 'ruleIssueType': 'misspelling', 'sentence': 'Карен Хорни считала, что базовый конфликт невроза — результат противоречия между несовместимыми защитными тенденциями личности.'}),\n",
              " Match({'ruleId': 'MORFOLOGIK_RULE_RU_RU', 'message': 'Возможно найдена орфографическая ошибка.', 'replacements': ['Карл сен'], 'offsetInContext': 0, 'context': 'Карлсен написал, что в будущем в основе модели ...', 'offset': 0, 'errorLength': 7, 'category': 'TYPOS', 'ruleIssueType': 'misspelling', 'sentence': 'Карлсен написал, что в будущем в основе модели розыгрыша чемпионского титула должна находиться «справедливая борьба между лучшими шахматистами мира» без каких-либо привилегий одному из них.'}),\n",
              " Match({'ruleId': 'MORFOLOGIK_RULE_RU_RU', 'message': 'Возможно найдена орфографическая ошибка.', 'replacements': ['Агенезе', 'Бедекер', 'Бендер', 'Березе', 'Генезе'], 'offsetInContext': 31, 'context': 'Керри озвучил несколько ролей: Эбенезер Скрудж, Призрак прошлого Рождества, При...', 'offset': 31, 'errorLength': 8, 'category': 'TYPOS', 'ruleIssueType': 'misspelling', 'sentence': 'Керри озвучил несколько ролей: Эбенезер Скрудж, Призрак прошлого Рождества, Призрак настоящего Рождества, Призрак грядущего Рождества.'}),\n",
              " Match({'ruleId': 'MORFOLOGIK_RULE_RU_RU', 'message': 'Возможно найдена орфографическая ошибка.', 'replacements': ['Орудж'], 'offsetInContext': 43, 'context': '...Керри озвучил несколько ролей: Эбенезер Скрудж, Призрак прошлого Рождества, Призрак на...', 'offset': 40, 'errorLength': 6, 'category': 'TYPOS', 'ruleIssueType': 'misspelling', 'sentence': 'Керри озвучил несколько ролей: Эбенезер Скрудж, Призрак прошлого Рождества, Призрак настоящего Рождества, Призрак грядущего Рождества.'}),\n",
              " Match({'ruleId': 'MORFOLOGIK_RULE_RU_RU', 'message': 'Возможно найдена орфографическая ошибка.', 'replacements': ['Агенезе', 'Бедекер', 'Бендер', 'Березе', 'Генезе'], 'offsetInContext': 31, 'context': 'Керри озвучил несколько ролей: Эбенезер Скрудж, Призрак прошлого Рождества, При...', 'offset': 31, 'errorLength': 8, 'category': 'TYPOS', 'ruleIssueType': 'misspelling', 'sentence': 'Керри озвучил несколько ролей: Эбенезер Скрудж, Призрак прошлого Рождества, Призрак настоящего Рождества, Призрак грядущего Рождества.'}),\n",
              " Match({'ruleId': 'MORFOLOGIK_RULE_RU_RU', 'message': 'Возможно найдена орфографическая ошибка.', 'replacements': ['Орудж'], 'offsetInContext': 43, 'context': '...Керри озвучил несколько ролей: Эбенезер Скрудж, Призрак прошлого Рождества, Призрак на...', 'offset': 40, 'errorLength': 6, 'category': 'TYPOS', 'ruleIssueType': 'misspelling', 'sentence': 'Керри озвучил несколько ролей: Эбенезер Скрудж, Призрак прошлого Рождества, Призрак настоящего Рождества, Призрак грядущего Рождества.'}),\n",
              " Match({'ruleId': 'MORFOLOGIK_RULE_RU_RU', 'message': 'Возможно найдена орфографическая ошибка.', 'replacements': ['Агенезе', 'Бедекер', 'Бендер', 'Березе', 'Генезе'], 'offsetInContext': 31, 'context': 'Керри озвучил несколько ролей: Эбенезер Скрудж, Призрак прошлого Рождества, При...', 'offset': 31, 'errorLength': 8, 'category': 'TYPOS', 'ruleIssueType': 'misspelling', 'sentence': 'Керри озвучил несколько ролей: Эбенезер Скрудж, Призрак прошлого Рождества, Призрак настоящего Рождества, Призрак грядущего Рождества.'}),\n",
              " Match({'ruleId': 'MORFOLOGIK_RULE_RU_RU', 'message': 'Возможно найдена орфографическая ошибка.', 'replacements': ['Орудж'], 'offsetInContext': 43, 'context': '...Керри озвучил несколько ролей: Эбенезер Скрудж, Призрак прошлого Рождества, Призрак на...', 'offset': 40, 'errorLength': 6, 'category': 'TYPOS', 'ruleIssueType': 'misspelling', 'sentence': 'Керри озвучил несколько ролей: Эбенезер Скрудж, Призрак прошлого Рождества, Призрак настоящего Рождества, Призрак грядущего Рождества.'}),\n",
              " Match({'ruleId': 'MORFOLOGIK_RULE_RU_RU', 'message': 'Возможно найдена орфографическая ошибка.', 'replacements': ['Агенезе', 'Бедекер', 'Бендер', 'Березе', 'Генезе'], 'offsetInContext': 31, 'context': 'Керри озвучил несколько ролей: Эбенезер Скрудж, Призрак прошлого Рождества, При...', 'offset': 31, 'errorLength': 8, 'category': 'TYPOS', 'ruleIssueType': 'misspelling', 'sentence': 'Керри озвучил несколько ролей: Эбенезер Скрудж, Призрак прошлого Рождества, Призрак настоящего Рождества, Призрак грядущего Рождества.'}),\n",
              " Match({'ruleId': 'MORFOLOGIK_RULE_RU_RU', 'message': 'Возможно найдена орфографическая ошибка.', 'replacements': ['Орудж'], 'offsetInContext': 43, 'context': '...Керри озвучил несколько ролей: Эбенезер Скрудж, Призрак прошлого Рождества, Призрак на...', 'offset': 40, 'errorLength': 6, 'category': 'TYPOS', 'ruleIssueType': 'misspelling', 'sentence': 'Керри озвучил несколько ролей: Эбенезер Скрудж, Призрак прошлого Рождества, Призрак настоящего Рождества, Призрак грядущего Рождества.'}),\n",
              " Match({'ruleId': 'MORFOLOGIK_RULE_RU_RU', 'message': 'Возможно найдена орфографическая ошибка.', 'replacements': ['Агенезе', 'Бедекер', 'Бендер', 'Березе', 'Генезе'], 'offsetInContext': 31, 'context': 'Керри озвучил несколько ролей: Эбенезер Скрудж, Призрак прошлого Рождества, При...', 'offset': 31, 'errorLength': 8, 'category': 'TYPOS', 'ruleIssueType': 'misspelling', 'sentence': 'Керри озвучил несколько ролей: Эбенезер Скрудж, Призрак прошлого Рождества, Призрак настоящего Рождества, Призрак грядущего Рождества.'}),\n",
              " Match({'ruleId': 'MORFOLOGIK_RULE_RU_RU', 'message': 'Возможно найдена орфографическая ошибка.', 'replacements': ['Орудж'], 'offsetInContext': 43, 'context': '...Керри озвучил несколько ролей: Эбенезер Скрудж, Призрак прошлого Рождества, Призрак на...', 'offset': 40, 'errorLength': 6, 'category': 'TYPOS', 'ruleIssueType': 'misspelling', 'sentence': 'Керри озвучил несколько ролей: Эбенезер Скрудж, Призрак прошлого Рождества, Призрак настоящего Рождества, Призрак грядущего Рождества.'}),\n",
              " Match({'ruleId': 'MORFOLOGIK_RULE_RU_RU', 'message': 'Возможно найдена орфографическая ошибка.', 'replacements': ['Остину', 'Оп тину'], 'offsetInContext': 24, 'context': 'Когда Толстой приехал в Оптину пустынь, на вопрос о том, почему он не ...', 'offset': 24, 'errorLength': 6, 'category': 'TYPOS', 'ruleIssueType': 'misspelling', 'sentence': 'Когда Толстой приехал в Оптину пустынь, на вопрос о том, почему он не пошёл к старцам, он ответил, что не мог пойти, так как отлучён.'}),\n",
              " Match({'ruleId': 'UPPERCASE_SENTENCE_START', 'message': 'Это предложение не начинается с заглавной буквы.', 'replacements': ['Par'], 'offsetInContext': 43, 'context': '...ьего сословия и ввести поголовное (фр.  par tête) голосование депутатов.', 'offset': 129, 'errorLength': 3, 'category': 'CASING', 'ruleIssueType': 'typographical', 'sentence': 'par tête) голосование депутатов.'}),\n",
              " Match({'ruleId': 'UPPERCASE_SENTENCE_START', 'message': 'Это предложение не начинается с заглавной буквы.', 'replacements': ['Par'], 'offsetInContext': 43, 'context': '...ьего сословия и ввести поголовное (фр.  par tête) голосование депутатов.', 'offset': 129, 'errorLength': 3, 'category': 'CASING', 'ruleIssueType': 'typographical', 'sentence': 'par tête) голосование депутатов.'}),\n",
              " Match({'ruleId': 'UPPERCASE_SENTENCE_START', 'message': 'Это предложение не начинается с заглавной буквы.', 'replacements': ['Par'], 'offsetInContext': 43, 'context': '...ьего сословия и ввести поголовное (фр.  par tête) голосование депутатов.', 'offset': 129, 'errorLength': 3, 'category': 'CASING', 'ruleIssueType': 'typographical', 'sentence': 'par tête) голосование депутатов.'}),\n",
              " Match({'ruleId': 'Defis_to', 'message': 'Слова с частицей «-либо» пишем через дефис. Вы имели в виду «когда-либо» или «когда, либо»?', 'replacements': ['когда-либо', 'когда, либо'], 'offsetInContext': 43, 'context': '...тартовую линейку самой сильной, которая когда либо была у приставок Sony при запуске, и об...', 'offset': 62, 'errorLength': 10, 'category': 'TYPOS', 'ruleIssueType': 'uncategorized', 'sentence': 'Компания считает эту стартовую линейку самой сильной, которая когда либо была у приставок Sony при запуске, и обещает постоянное пополнение каталога игр для новой консоли.'}),\n",
              " Match({'ruleId': 'Defis_to', 'message': 'Слова с частицей «-либо» пишем через дефис. Вы имели в виду «когда-либо» или «когда, либо»?', 'replacements': ['когда-либо', 'когда, либо'], 'offsetInContext': 43, 'context': '...тартовую линейку самой сильной, которая когда либо была у приставок Sony при запуске, и об...', 'offset': 62, 'errorLength': 10, 'category': 'TYPOS', 'ruleIssueType': 'uncategorized', 'sentence': 'Компания считает эту стартовую линейку самой сильной, которая когда либо была у приставок Sony при запуске, и обещает постоянное пополнение каталога игр для новой консоли.'}),\n",
              " Match({'ruleId': 'Punct_and_spaces', 'message': 'Перед знаками препинания не должно быть пробела: «игры:»', 'replacements': ['игры:'], 'offsetInContext': 6, 'context': 'Конец игры : биография Роберта Фишера : удивительный...', 'offset': 6, 'errorLength': 6, 'category': 'PUNCTUATION', 'ruleIssueType': 'uncategorized', 'sentence': 'Конец игры : биография Роберта Фишера : удивительный взлёт и падение Бобби Фишера — путь американского гения, окончившийся у края сумасшествия.'}),\n",
              " Match({'ruleId': 'Punct_and_spaces', 'message': 'Перед знаками препинания не должно быть пробела: «Фишера:»', 'replacements': ['Фишера:'], 'offsetInContext': 31, 'context': 'Конец игры : биография Роберта Фишера : удивительный взлёт и падение Бобби Фише...', 'offset': 31, 'errorLength': 8, 'category': 'PUNCTUATION', 'ruleIssueType': 'uncategorized', 'sentence': 'Конец игры : биография Роберта Фишера : удивительный взлёт и падение Бобби Фишера — путь американского гения, окончившийся у края сумасшествия.'}),\n",
              " Match({'ruleId': 'Punct_and_spaces', 'message': 'Перед знаками препинания не должно быть пробела: «игры:»', 'replacements': ['игры:'], 'offsetInContext': 6, 'context': 'Конец игры : биография Роберта Фишера : удивительный...', 'offset': 6, 'errorLength': 6, 'category': 'PUNCTUATION', 'ruleIssueType': 'uncategorized', 'sentence': 'Конец игры : биография Роберта Фишера : удивительный взлёт и падение Бобби Фишера — путь американского гения, окончившийся у края сумасшествия.'}),\n",
              " Match({'ruleId': 'Punct_and_spaces', 'message': 'Перед знаками препинания не должно быть пробела: «Фишера:»', 'replacements': ['Фишера:'], 'offsetInContext': 31, 'context': 'Конец игры : биография Роберта Фишера : удивительный взлёт и падение Бобби Фише...', 'offset': 31, 'errorLength': 8, 'category': 'PUNCTUATION', 'ruleIssueType': 'uncategorized', 'sentence': 'Конец игры : биография Роберта Фишера : удивительный взлёт и падение Бобби Фишера — путь американского гения, окончившийся у края сумасшествия.'}),\n",
              " Match({'ruleId': 'Punct_and_spaces', 'message': 'Перед знаками препинания не должно быть пробела: «игры:»', 'replacements': ['игры:'], 'offsetInContext': 6, 'context': 'Конец игры : биография Роберта Фишера : удивительный...', 'offset': 6, 'errorLength': 6, 'category': 'PUNCTUATION', 'ruleIssueType': 'uncategorized', 'sentence': 'Конец игры : биография Роберта Фишера : удивительный взлёт и падение Бобби Фишера — путь американского гения, окончившийся у края сумасшествия.'}),\n",
              " Match({'ruleId': 'Punct_and_spaces', 'message': 'Перед знаками препинания не должно быть пробела: «Фишера:»', 'replacements': ['Фишера:'], 'offsetInContext': 31, 'context': 'Конец игры : биография Роберта Фишера : удивительный взлёт и падение Бобби Фише...', 'offset': 31, 'errorLength': 8, 'category': 'PUNCTUATION', 'ruleIssueType': 'uncategorized', 'sentence': 'Конец игры : биография Роберта Фишера : удивительный взлёт и падение Бобби Фишера — путь американского гения, окончившийся у края сумасшествия.'}),\n",
              " Match({'ruleId': 'Punct_and_spaces', 'message': 'Перед знаками препинания не должно быть пробела: «игры:»', 'replacements': ['игры:'], 'offsetInContext': 6, 'context': 'Конец игры : биография Роберта Фишера : удивительный...', 'offset': 6, 'errorLength': 6, 'category': 'PUNCTUATION', 'ruleIssueType': 'uncategorized', 'sentence': 'Конец игры : биография Роберта Фишера : удивительный взлёт и падение Бобби Фишера — путь американского гения, окончившийся у края сумасшествия.'}),\n",
              " Match({'ruleId': 'Punct_and_spaces', 'message': 'Перед знаками препинания не должно быть пробела: «Фишера:»', 'replacements': ['Фишера:'], 'offsetInContext': 31, 'context': 'Конец игры : биография Роберта Фишера : удивительный взлёт и падение Бобби Фише...', 'offset': 31, 'errorLength': 8, 'category': 'PUNCTUATION', 'ruleIssueType': 'uncategorized', 'sentence': 'Конец игры : биография Роберта Фишера : удивительный взлёт и падение Бобби Фишера — путь американского гения, окончившийся у края сумасшествия.'}),\n",
              " Match({'ruleId': 'Punct_and_spaces', 'message': 'Перед знаками препинания не должно быть пробела: «игры:»', 'replacements': ['игры:'], 'offsetInContext': 6, 'context': 'Конец игры : биография Роберта Фишера : удивительный...', 'offset': 6, 'errorLength': 6, 'category': 'PUNCTUATION', 'ruleIssueType': 'uncategorized', 'sentence': 'Конец игры : биография Роберта Фишера : удивительный взлёт и падение Бобби Фишера — путь американского гения, окончившийся у края сумасшествия.'}),\n",
              " Match({'ruleId': 'Punct_and_spaces', 'message': 'Перед знаками препинания не должно быть пробела: «Фишера:»', 'replacements': ['Фишера:'], 'offsetInContext': 31, 'context': 'Конец игры : биография Роберта Фишера : удивительный взлёт и падение Бобби Фише...', 'offset': 31, 'errorLength': 8, 'category': 'PUNCTUATION', 'ruleIssueType': 'uncategorized', 'sentence': 'Конец игры : биография Роберта Фишера : удивительный взлёт и падение Бобби Фишера — путь американского гения, окончившийся у края сумасшествия.'}),\n",
              " Match({'ruleId': 'Many_PNN', 'message': 'Загруженность предложения местоимениями.', 'replacements': [], 'offsetInContext': 9, 'context': 'Конечно, я тогда ещё был совсем молодой человек, но через четыре года я уже был членом Центрального Комитета, и затем в этом Центральном Комитете, не только с Лениным и с другими старыми большевиками, но и с Троцким, со всеми ними мы были в одном Центральном Комитете.', 'offset': 9, 'errorLength': 224, 'category': 'STYLE', 'ruleIssueType': 'uncategorized', 'sentence': 'Конечно, я тогда ещё был совсем молодой человек, но через четыре года я уже был членом Центрального Комитета, и затем в этом Центральном Комитете, не только с Лениным и с другими старыми большевиками, но и с Троцким, со всеми ними мы были в одном Центральном Комитете.'}),\n",
              " Match({'ruleId': 'MORFOLOGIK_RULE_RU_RU', 'message': 'Возможно найдена орфографическая ошибка.', 'replacements': ['Цетлин', 'Этлин', 'Кейтлин', 'К этлин', 'Кэт лин'], 'offsetInContext': 0, 'context': 'Кэтлин продолжила выпивать, а Чарльз стал прог...', 'offset': 0, 'errorLength': 6, 'category': 'TYPOS', 'ruleIssueType': 'misspelling', 'sentence': 'Кэтлин продолжила выпивать, а Чарльз стал прогуливать школу и совершать кражи из домов и магазинов.'}),\n",
              " Match({'ruleId': 'MORFOLOGIK_RULE_RU_RU', 'message': 'Возможно найдена орфографическая ошибка.', 'replacements': ['Цетлин', 'Этлин', 'Кейтлин', 'К этлин', 'Кэт лин'], 'offsetInContext': 0, 'context': 'Кэтлин продолжила выпивать, а Чарльз стал прог...', 'offset': 0, 'errorLength': 6, 'category': 'TYPOS', 'ruleIssueType': 'misspelling', 'sentence': 'Кэтлин продолжила выпивать, а Чарльз стал прогуливать школу и совершать кражи из домов и магазинов.'}),\n",
              " Match({'ruleId': 'MORFOLOGIK_RULE_RU_RU', 'message': 'Возможно найдена орфографическая ошибка.', 'replacements': ['Цетлин', 'Этлин', 'Кейтлин', 'К этлин', 'Кэт лин'], 'offsetInContext': 0, 'context': 'Кэтлин продолжила выпивать, а Чарльз стал прог...', 'offset': 0, 'errorLength': 6, 'category': 'TYPOS', 'ruleIssueType': 'misspelling', 'sentence': 'Кэтлин продолжила выпивать, а Чарльз стал прогуливать школу и совершать кражи из домов и магазинов.'}),\n",
              " Match({'ruleId': 'MORFOLOGIK_RULE_RU_RU', 'message': 'Возможно найдена орфографическая ошибка.', 'replacements': ['Цетлин', 'Этлин', 'Кейтлин', 'К этлин', 'Кэт лин'], 'offsetInContext': 0, 'context': 'Кэтлин продолжила выпивать, а Чарльз стал прог...', 'offset': 0, 'errorLength': 6, 'category': 'TYPOS', 'ruleIssueType': 'misspelling', 'sentence': 'Кэтлин продолжила выпивать, а Чарльз стал прогуливать школу и совершать кражи из домов и магазинов.'}),\n",
              " Match({'ruleId': 'MORFOLOGIK_RULE_RU_RU', 'message': 'Возможно найдена орфографическая ошибка.', 'replacements': ['Цетлин', 'Этлин', 'Кейтлин', 'К этлин', 'Кэт лин'], 'offsetInContext': 0, 'context': 'Кэтлин продолжила выпивать, а Чарльз стал прог...', 'offset': 0, 'errorLength': 6, 'category': 'TYPOS', 'ruleIssueType': 'misspelling', 'sentence': 'Кэтлин продолжила выпивать, а Чарльз стал прогуливать школу и совершать кражи из домов и магазинов.'}),\n",
              " Match({'ruleId': 'MORFOLOGIK_RULE_RU_RU', 'message': 'Возможно найдена орфографическая ошибка.', 'replacements': [], 'offsetInContext': 43, 'context': '...не Тихого океана, но иногда наблюдаются экстремально-высокие температуры вследствие феномена фёна.', 'offset': 67, 'errorLength': 20, 'category': 'TYPOS', 'ruleIssueType': 'misspelling', 'sentence': 'Летом менее тепло, чем в зоне Тихого океана, но иногда наблюдаются экстремально-высокие температуры вследствие феномена фёна.'}),\n",
              " Match({'ruleId': 'MORFOLOGIK_RULE_RU_RU', 'message': 'Возможно найдена орфографическая ошибка.', 'replacements': [], 'offsetInContext': 43, 'context': '...не Тихого океана, но иногда наблюдаются экстремально-высокие температуры вследствие феномена фёна.', 'offset': 67, 'errorLength': 20, 'category': 'TYPOS', 'ruleIssueType': 'misspelling', 'sentence': 'Летом менее тепло, чем в зоне Тихого океана, но иногда наблюдаются экстремально-высокие температуры вследствие феномена фёна.'}),\n",
              " Match({'ruleId': 'MORFOLOGIK_RULE_RU_RU', 'message': 'Возможно найдена орфографическая ошибка.', 'replacements': [], 'offsetInContext': 43, 'context': '...не Тихого океана, но иногда наблюдаются экстремально-высокие температуры вследствие феномена фёна.', 'offset': 67, 'errorLength': 20, 'category': 'TYPOS', 'ruleIssueType': 'misspelling', 'sentence': 'Летом менее тепло, чем в зоне Тихого океана, но иногда наблюдаются экстремально-высокие температуры вследствие феномена фёна.'}),\n",
              " Match({'ruleId': 'MORFOLOGIK_RULE_RU_RU', 'message': 'Возможно найдена орфографическая ошибка.', 'replacements': [], 'offsetInContext': 43, 'context': '...не Тихого океана, но иногда наблюдаются экстремально-высокие температуры вследствие феномена фёна.', 'offset': 67, 'errorLength': 20, 'category': 'TYPOS', 'ruleIssueType': 'misspelling', 'sentence': 'Летом менее тепло, чем в зоне Тихого океана, но иногда наблюдаются экстремально-высокие температуры вследствие феномена фёна.'}),\n",
              " Match({'ruleId': 'WHITESPACE_RULE', 'message': 'Повтор пробела', 'replacements': [' '], 'offsetInContext': 43, 'context': '...йшего друга и советника императора графа  Траутмансдорфа — привёл к прогрессу в пе...', 'offset': 111, 'errorLength': 2, 'category': 'TYPOGRAPHY', 'ruleIssueType': 'whitespace', 'sentence': 'Лишь приезд нового представителя императора — опытного дипломата, ближайшего друга и советника императора графа  Траутмансдорфа — привёл к прогрессу в переговорах.'}),\n",
              " Match({'ruleId': 'MORFOLOGIK_RULE_RU_RU', 'message': 'Возможно найдена орфографическая ошибка.', 'replacements': [], 'offsetInContext': 43, 'context': '...его друга и советника императора графа  Траутмансдорфа — привёл к прогрессу в переговорах.', 'offset': 113, 'errorLength': 14, 'category': 'TYPOS', 'ruleIssueType': 'misspelling', 'sentence': 'Лишь приезд нового представителя императора — опытного дипломата, ближайшего друга и советника императора графа  Траутмансдорфа — привёл к прогрессу в переговорах.'}),\n",
              " Match({'ruleId': 'MORFOLOGIK_RULE_RU_RU', 'message': 'Возможно найдена орфографическая ошибка.', 'replacements': ['Пе поли', 'Пепо ли'], 'offsetInContext': 16, 'context': 'Луиза-Наполеона Пеполи (1853 — 1929), в 1872 году вышла замуж ...', 'offset': 16, 'errorLength': 6, 'category': 'TYPOS', 'ruleIssueType': 'misspelling', 'sentence': 'Луиза-Наполеона Пеполи (1853 — 1929), в 1872 году вышла замуж за графа Доменикино Гварини-Маттеуччи-ди-Кастельфранко (1848 —1905).'}),\n",
              " Match({'ruleId': 'MORFOLOGIK_RULE_RU_RU', 'message': 'Возможно найдена орфографическая ошибка.', 'replacements': ['Маменькино', 'Поченикин', 'Поченикина', 'Поченикине', 'Поченикиной', 'Поченикину', 'Поченикины', 'Доминиканы'], 'offsetInContext': 43, 'context': '...1929), в 1872 году вышла замуж за графа Доменикино Гварини-Маттеуччи-ди-Кастельфранко (184...', 'offset': 71, 'errorLength': 10, 'category': 'TYPOS', 'ruleIssueType': 'misspelling', 'sentence': 'Луиза-Наполеона Пеполи (1853 — 1929), в 1872 году вышла замуж за графа Доменикино Гварини-Маттеуччи-ди-Кастельфранко (1848 —1905).'}),\n",
              " Match({'ruleId': 'MORFOLOGIK_RULE_RU_RU', 'message': 'Возможно найдена орфографическая ошибка.', 'replacements': ['Мак дональд'], 'offsetInContext': 7, 'context': 'Маршал Макдональд подступил к укреплениям Риги, однако, н...', 'offset': 7, 'errorLength': 10, 'category': 'TYPOS', 'ruleIssueType': 'misspelling', 'sentence': 'Маршал Макдональд подступил к укреплениям Риги, однако, не имея осадной артиллерии, остановился на дальних подступах к городу.'}),\n",
              " Match({'ruleId': 'MORFOLOGIK_RULE_RU_RU', 'message': 'Возможно найдена орфографическая ошибка.', 'replacements': [], 'offsetInContext': 43, 'context': '...изовал действия грузинской армии в зоне грузино-югоосетинского конфликта как геноцид и этнические чист...', 'offset': 58, 'errorLength': 22, 'category': 'TYPOS', 'ruleIssueType': 'misspelling', 'sentence': 'Медведев охарактеризовал действия грузинской армии в зоне грузино-югоосетинского конфликта как геноцид и этнические чистки.'}),\n",
              " Match({'ruleId': 'MORFOLOGIK_RULE_RU_RU', 'message': 'Возможно найдена орфографическая ошибка.', 'replacements': [], 'offsetInContext': 43, 'context': '...изовал действия грузинской армии в зоне грузино-югоосетинского конфликта как геноцид и этнические чист...', 'offset': 58, 'errorLength': 22, 'category': 'TYPOS', 'ruleIssueType': 'misspelling', 'sentence': 'Медведев охарактеризовал действия грузинской армии в зоне грузино-югоосетинского конфликта как геноцид и этнические чистки.'}),\n",
              " Match({'ruleId': 'MORFOLOGIK_RULE_RU_RU', 'message': 'Возможно найдена орфографическая ошибка.', 'replacements': [], 'offsetInContext': 43, 'context': '...изовал действия грузинской армии в зоне грузино-югоосетинского конфликта как геноцид и этнические чист...', 'offset': 58, 'errorLength': 22, 'category': 'TYPOS', 'ruleIssueType': 'misspelling', 'sentence': 'Медведев охарактеризовал действия грузинской армии в зоне грузино-югоосетинского конфликта как геноцид и этнические чистки.'}),\n",
              " Match({'ruleId': 'MORFOLOGIK_RULE_RU_RU', 'message': 'Возможно найдена орфографическая ошибка.', 'replacements': [], 'offsetInContext': 43, 'context': '...изовал действия грузинской армии в зоне грузино-югоосетинского конфликта как геноцид и этнические чист...', 'offset': 58, 'errorLength': 22, 'category': 'TYPOS', 'ruleIssueType': 'misspelling', 'sentence': 'Медведев охарактеризовал действия грузинской армии в зоне грузино-югоосетинского конфликта как геноцид и этнические чистки.'}),\n",
              " Match({'ruleId': 'MORFOLOGIK_RULE_RU_RU', 'message': 'Возможно найдена орфографическая ошибка.', 'replacements': [], 'offsetInContext': 43, 'context': '...изовал действия грузинской армии в зоне грузино-югоосетинского конфликта как геноцид и этнические чист...', 'offset': 58, 'errorLength': 22, 'category': 'TYPOS', 'ruleIssueType': 'misspelling', 'sentence': 'Медведев охарактеризовал действия грузинской армии в зоне грузино-югоосетинского конфликта как геноцид и этнические чистки.'}),\n",
              " Match({'ruleId': 'MORFOLOGIK_RULE_RU_RU', 'message': 'Возможно найдена орфографическая ошибка.', 'replacements': ['Принц инг'], 'offsetInContext': 25, 'context': 'Медицинский статистик Ф. Принцинг отмечал, что в Германии во время войны ...', 'offset': 25, 'errorLength': 8, 'category': 'TYPOS', 'ruleIssueType': 'misspelling', 'sentence': 'Медицинский статистик Ф. Принцинг отмечал, что в Германии во время войны от чумы погибло больше людей, чем в сражениях.'}),\n",
              " Match({'ruleId': 'MORFOLOGIK_RULE_RU_RU', 'message': 'Возможно найдена орфографическая ошибка.', 'replacements': ['Принц инг'], 'offsetInContext': 25, 'context': 'Медицинский статистик Ф. Принцинг отмечал, что в Германии во время войны ...', 'offset': 25, 'errorLength': 8, 'category': 'TYPOS', 'ruleIssueType': 'misspelling', 'sentence': 'Медицинский статистик Ф. Принцинг отмечал, что в Германии во время войны от чумы погибло больше людей, чем в сражениях.'}),\n",
              " Match({'ruleId': 'MORFOLOGIK_RULE_RU_RU', 'message': 'Возможно найдена орфографическая ошибка.', 'replacements': ['Принц инг'], 'offsetInContext': 25, 'context': 'Медицинский статистик Ф. Принцинг отмечал, что в Германии во время войны ...', 'offset': 25, 'errorLength': 8, 'category': 'TYPOS', 'ruleIssueType': 'misspelling', 'sentence': 'Медицинский статистик Ф. Принцинг отмечал, что в Германии во время войны от чумы погибло больше людей, чем в сражениях.'}),\n",
              " Match({'ruleId': 'MORFOLOGIK_RULE_RU_RU', 'message': 'Возможно найдена орфографическая ошибка.', 'replacements': ['Принц инг'], 'offsetInContext': 25, 'context': 'Медицинский статистик Ф. Принцинг отмечал, что в Германии во время войны ...', 'offset': 25, 'errorLength': 8, 'category': 'TYPOS', 'ruleIssueType': 'misspelling', 'sentence': 'Медицинский статистик Ф. Принцинг отмечал, что в Германии во время войны от чумы погибло больше людей, чем в сражениях.'}),\n",
              " Match({'ruleId': 'MORFOLOGIK_RULE_RU_RU', 'message': 'Возможно найдена орфографическая ошибка.', 'replacements': ['Принц инг'], 'offsetInContext': 25, 'context': 'Медицинский статистик Ф. Принцинг отмечал, что в Германии во время войны ...', 'offset': 25, 'errorLength': 8, 'category': 'TYPOS', 'ruleIssueType': 'misspelling', 'sentence': 'Медицинский статистик Ф. Принцинг отмечал, что в Германии во время войны от чумы погибло больше людей, чем в сражениях.'}),\n",
              " Match({'ruleId': 'MORFOLOGIK_RULE_RU_RU', 'message': 'Возможно найдена орфографическая ошибка.', 'replacements': ['петтинге', 'сет тинге'], 'offsetInContext': 43, 'context': '...рез месяц в сети появилась информация о сеттинге и герое проекта Comet.', 'offset': 54, 'errorLength': 8, 'category': 'TYPOS', 'ruleIssueType': 'misspelling', 'sentence': 'Меньше, чем через месяц в сети появилась информация о сеттинге и герое проекта Comet.'}),\n",
              " Match({'ruleId': 'MORFOLOGIK_RULE_RU_RU', 'message': 'Возможно найдена орфографическая ошибка.', 'replacements': ['петтинге', 'сет тинге'], 'offsetInContext': 43, 'context': '...рез месяц в сети появилась информация о сеттинге и герое проекта Comet.', 'offset': 54, 'errorLength': 8, 'category': 'TYPOS', 'ruleIssueType': 'misspelling', 'sentence': 'Меньше, чем через месяц в сети появилась информация о сеттинге и герое проекта Comet.'}),\n",
              " Match({'ruleId': 'MORFOLOGIK_RULE_RU_RU', 'message': 'Возможно найдена орфографическая ошибка.', 'replacements': ['петтинге', 'сет тинге'], 'offsetInContext': 43, 'context': '...рез месяц в сети появилась информация о сеттинге и герое проекта Comet.', 'offset': 54, 'errorLength': 8, 'category': 'TYPOS', 'ruleIssueType': 'misspelling', 'sentence': 'Меньше, чем через месяц в сети появилась информация о сеттинге и герое проекта Comet.'}),\n",
              " Match({'ruleId': 'MORFOLOGIK_RULE_RU_RU', 'message': 'Возможно найдена орфографическая ошибка.', 'replacements': ['петтинге', 'сет тинге'], 'offsetInContext': 43, 'context': '...рез месяц в сети появилась информация о сеттинге и герое проекта Comet.', 'offset': 54, 'errorLength': 8, 'category': 'TYPOS', 'ruleIssueType': 'misspelling', 'sentence': 'Меньше, чем через месяц в сети появилась информация о сеттинге и герое проекта Comet.'}),\n",
              " Match({'ruleId': 'MORFOLOGIK_RULE_RU_RU', 'message': 'Возможно найдена орфографическая ошибка.', 'replacements': ['петтинге', 'сет тинге'], 'offsetInContext': 43, 'context': '...рез месяц в сети появилась информация о сеттинге и герое проекта Comet.', 'offset': 54, 'errorLength': 8, 'category': 'TYPOS', 'ruleIssueType': 'misspelling', 'sentence': 'Меньше, чем через месяц в сети появилась информация о сеттинге и герое проекта Comet.'}),\n",
              " Match({'ruleId': 'MORFOLOGIK_RULE_RU_RU', 'message': 'Возможно найдена орфографическая ошибка.', 'replacements': [], 'offsetInContext': 0, 'context': 'Мидсоммар, или праздник летнего солнцестояния при...', 'offset': 0, 'errorLength': 9, 'category': 'TYPOS', 'ruleIssueType': 'misspelling', 'sentence': 'Мидсоммар, или праздник летнего солнцестояния приходится на конец июня и празднуется в ближайшую к дню летнего солнцестояния субботу.'}),\n",
              " Match({'ruleId': 'MORFOLOGIK_RULE_RU_RU', 'message': 'Возможно найдена орфографическая ошибка.', 'replacements': [], 'offsetInContext': 0, 'context': 'Мидсоммар, или праздник летнего солнцестояния при...', 'offset': 0, 'errorLength': 9, 'category': 'TYPOS', 'ruleIssueType': 'misspelling', 'sentence': 'Мидсоммар, или праздник летнего солнцестояния приходится на конец июня и празднуется в ближайшую к дню летнего солнцестояния субботу.'}),\n",
              " Match({'ruleId': 'MORFOLOGIK_RULE_RU_RU', 'message': 'Возможно найдена орфографическая ошибка.', 'replacements': [], 'offsetInContext': 0, 'context': 'Мидсоммар, или праздник летнего солнцестояния при...', 'offset': 0, 'errorLength': 9, 'category': 'TYPOS', 'ruleIssueType': 'misspelling', 'sentence': 'Мидсоммар, или праздник летнего солнцестояния приходится на конец июня и празднуется в ближайшую к дню летнего солнцестояния субботу.'}),\n",
              " Match({'ruleId': 'MORFOLOGIK_RULE_RU_RU', 'message': 'Возможно найдена орфографическая ошибка.', 'replacements': ['милиционеров'], 'offsetInContext': 43, 'context': '...ии завода, но была смята толпой, а трое миллиционеров были избиты.', 'offset': 129, 'errorLength': 13, 'category': 'TYPOS', 'ruleIssueType': 'misspelling', 'sentence': 'Милиция, состоящая из безоружных сотрудников, попыталась оттеснить митингующих с территории завода, но была смята толпой, а трое миллиционеров были избиты.'}),\n",
              " Match({'ruleId': 'MORFOLOGIK_RULE_RU_RU', 'message': 'Возможно найдена орфографическая ошибка.', 'replacements': ['парно поляризационная'], 'offsetInContext': 36, 'context': 'Могут применяться также гемодиализ, парнополяризационная терапия (правосторонняя и левосторонняя...', 'offset': 36, 'errorLength': 20, 'category': 'TYPOS', 'ruleIssueType': 'misspelling', 'sentence': 'Могут применяться также гемодиализ, парнополяризационная терапия (правосторонняя и левосторонняя), терапия переменным магнитным полем низкой частоты, микроволновая резонансная терапия, латеральная терапия.'}),\n",
              " Match({'ruleId': 'MORFOLOGIK_RULE_RU_RU', 'message': 'Возможно найдена орфографическая ошибка.', 'replacements': ['парно поляризационная'], 'offsetInContext': 36, 'context': 'Могут применяться также гемодиализ, парнополяризационная терапия (правосторонняя и левосторонняя...', 'offset': 36, 'errorLength': 20, 'category': 'TYPOS', 'ruleIssueType': 'misspelling', 'sentence': 'Могут применяться также гемодиализ, парнополяризационная терапия (правосторонняя и левосторонняя), терапия переменным магнитным полем низкой частоты, микроволновая резонансная терапия, латеральная терапия.'}),\n",
              " Match({'ruleId': 'MORFOLOGIK_RULE_RU_RU', 'message': 'Возможно найдена орфографическая ошибка.', 'replacements': ['парно поляризационная'], 'offsetInContext': 36, 'context': 'Могут применяться также гемодиализ, парнополяризационная терапия (правосторонняя и левосторонняя...', 'offset': 36, 'errorLength': 20, 'category': 'TYPOS', 'ruleIssueType': 'misspelling', 'sentence': 'Могут применяться также гемодиализ, парнополяризационная терапия (правосторонняя и левосторонняя), терапия переменным магнитным полем низкой частоты, микроволновая резонансная терапия, латеральная терапия.'}),\n",
              " Match({'ruleId': 'MORFOLOGIK_RULE_RU_RU', 'message': 'Возможно найдена орфографическая ошибка.', 'replacements': ['парно поляризационная'], 'offsetInContext': 36, 'context': 'Могут применяться также гемодиализ, парнополяризационная терапия (правосторонняя и левосторонняя...', 'offset': 36, 'errorLength': 20, 'category': 'TYPOS', 'ruleIssueType': 'misspelling', 'sentence': 'Могут применяться также гемодиализ, парнополяризационная терапия (правосторонняя и левосторонняя), терапия переменным магнитным полем низкой частоты, микроволновая резонансная терапия, латеральная терапия.'}),\n",
              " Match({'ruleId': 'MORFOLOGIK_RULE_RU_RU', 'message': 'Возможно найдена орфографическая ошибка.', 'replacements': ['парно поляризационная'], 'offsetInContext': 36, 'context': 'Могут применяться также гемодиализ, парнополяризационная терапия (правосторонняя и левосторонняя...', 'offset': 36, 'errorLength': 20, 'category': 'TYPOS', 'ruleIssueType': 'misspelling', 'sentence': 'Могут применяться также гемодиализ, парнополяризационная терапия (правосторонняя и левосторонняя), терапия переменным магнитным полем низкой частоты, микроволновая резонансная терапия, латеральная терапия.'}),\n",
              " Match({'ruleId': 'MORFOLOGIK_RULE_RU_RU', 'message': 'Возможно найдена орфографическая ошибка.', 'replacements': [], 'offsetInContext': 7, 'context': 'Мозг у детей-аутистов в среднем весит больше обычного и заним...', 'offset': 7, 'errorLength': 14, 'category': 'TYPOS', 'ruleIssueType': 'misspelling', 'sentence': 'Мозг у детей-аутистов в среднем весит больше обычного и занимает больший объём, также повышена длина окружности головы.'}),\n",
              " Match({'ruleId': 'MORFOLOGIK_RULE_RU_RU', 'message': 'Возможно найдена орфографическая ошибка.', 'replacements': [], 'offsetInContext': 7, 'context': 'Мозг у детей-аутистов в среднем весит больше обычного и заним...', 'offset': 7, 'errorLength': 14, 'category': 'TYPOS', 'ruleIssueType': 'misspelling', 'sentence': 'Мозг у детей-аутистов в среднем весит больше обычного и занимает больший объём, также повышена длина окружности головы.'}),\n",
              " Match({'ruleId': 'MORFOLOGIK_RULE_RU_RU', 'message': 'Возможно найдена орфографическая ошибка.', 'replacements': [], 'offsetInContext': 7, 'context': 'Мозг у детей-аутистов в среднем весит больше обычного и заним...', 'offset': 7, 'errorLength': 14, 'category': 'TYPOS', 'ruleIssueType': 'misspelling', 'sentence': 'Мозг у детей-аутистов в среднем весит больше обычного и занимает больший объём, также повышена длина окружности головы.'}),\n",
              " Match({'ruleId': 'MORFOLOGIK_RULE_RU_RU', 'message': 'Возможно найдена орфографическая ошибка.', 'replacements': [], 'offsetInContext': 7, 'context': 'Мозг у детей-аутистов в среднем весит больше обычного и заним...', 'offset': 7, 'errorLength': 14, 'category': 'TYPOS', 'ruleIssueType': 'misspelling', 'sentence': 'Мозг у детей-аутистов в среднем весит больше обычного и занимает больший объём, также повышена длина окружности головы.'}),\n",
              " Match({'ruleId': 'MORFOLOGIK_RULE_RU_RU', 'message': 'Возможно найдена орфографическая ошибка.', 'replacements': ['Соколов', 'Доклад', 'Поселок', 'Океан', 'Поцелуй', 'Котелок', 'Оклад', 'Шоколад', 'Новелла', 'Добела', 'Ловелас', 'Поделом', 'Ток-шоу', 'Акела', 'Акелах', 'Акелам', 'Акелу', 'Аркела', 'Аркелах', 'Аркелам', 'Аркелом', 'Аркелов', 'Аркелу', 'Бокала', 'Бокалах', 'Бокалам', 'Бокалом', 'Бокалов', 'Бокалу', 'Болела', 'Болело', 'Цокала', 'Цокало', 'Доделаю', 'Доделай', 'Доделал', 'Доделан', 'Доделав', 'Доделку', 'Доделок', 'Доела', 'Докера', 'Докерах', 'Докерам', 'Докером', 'Докеров', 'Докеру', 'Докладу', 'Доколол', 'Доколот', 'Доколов', 'Доколочу', 'Домела', 'Домело', 'Домяла', 'Домяло', 'Доняла', 'Доняло', 'Допела', 'Допело', 'Довела', 'Довело', 'Факела', 'Факелах', 'Факелам', 'Факелом', 'Факелов', 'Факелу', 'Гоняла', 'Гоняло', 'Горела', 'Горелая', 'Горелку', 'Горело', 'Горелою', 'Горелое', 'Горелой', 'Горелок', 'Горелом', 'Горелому', 'Горелов', 'Горелову', 'Горелую', 'Говела', 'Говело', 'Хотела', 'Хотелку', 'Хотело', 'Хотелок', 'Келпу', 'Кокала', 'Кокало', 'Кокера', 'Кокером', 'Кокеру', 'Кокета', 'Кокетах', 'Кокетам', 'Кокетку', 'Кокеток', 'Кокетом', 'Кокетов', 'Кокету', 'Кокшетау', 'Корелла', 'Корелов', 'Корелову', 'Котелку', 'Котелов', 'Котелову', 'Кошёлку', 'Кошёлок', 'Кошелку', 'Кошелок', 'Локера', 'Локерах', 'Локерам', 'Локером', 'Локеров', 'Локеру', 'Ловеласу', 'Мокеичу', 'Мокевну', 'Мокла', 'Новела', 'Новеллах', 'Новеллам', 'Новеллку', 'Новеллою', 'Новеллой', 'Новеллок', 'Новеллу', 'Новело', 'Одела', 'Оделлу', 'Одеялу', 'Окала', 'Океану', 'Окладу', 'Окоёму', 'Околку', 'Омела', 'Омелах', 'Омелам', 'Омелу', 'Орела', 'Орелах', 'Орелам', 'Орелу', 'Осела', 'Оселку', 'Отела', 'Отелах', 'Отелам', 'Отелу', 'Побелку', 'Побелок', 'Поцелую', 'Поцелуе', 'Поцелуи', 'Поцелуя', 'Поделаю', 'Поделай', 'Поделал', 'Поделан', 'Поделав', 'Поделку', 'Поделок', 'Поела', 'Покемон', 'Покера', 'Покерах', 'Покерам', 'Покером', 'Покеров', 'Покеру', 'Покета', 'Покетах', 'Покетам', 'Покетом', 'Покетов', 'Покету', 'Поклаж', 'Поклажу', 'Поклепу', 'Поклеву', 'Поколол', 'Поколот', 'Поколов', 'Поколочу', 'Помела', 'Помело', 'Помелом', 'Помелу', 'Помяла', 'Помяло', 'Поняла', 'Поняло', 'Попела', 'Попело', 'Посёлку', 'Посёлок', 'Поселку', 'Потела', 'Потело', 'Пожелаю', 'Пожелай', 'Пожелал', 'Пожелав', 'Пожелчу', 'Повела', 'Повело', 'Повяла', 'Повяло', 'Робела', 'Робело', 'Рокцеллу', 'Рокера', 'Рокерах', 'Рокерам', 'Рокером', 'Рокеров', 'Рокеру', 'Роняла', 'Роняло', 'Сокета', 'Сокетах', 'Сокетам', 'Сокетом', 'Сокетов', 'Сокету', 'Сокола', 'Соколах', 'Соколам', 'Соколку', 'Соколок', 'Соколом', 'Соколову', 'Соколу', 'Сопела', 'Сопелку', 'Сопело', 'Сопелок', 'Совела', 'Совело', 'Такелаж', 'Такелажу', 'Токена', 'Токенов', 'Токолог', 'Токологу', 'Вокала', 'Вокалах', 'Вокалам', 'Вокалом', 'Вокалов', 'Вокалу', 'Вокзалу', 'Воняла', 'Воняло', 'Шоколаду', 'Чокала', 'Чокало', 'Чокера', 'Чокерах', 'Чокерам', 'Чокером', 'Чокеров', 'Чокеру', 'Ашкелон', 'Фёкла', 'Фёклах', 'Фёклам', 'Фёклу', 'Роквеллу', 'Тобола', 'Тоболом', 'Тоболу', 'Толедо', 'Тонечку', 'Уокера', 'Уокеру'], 'offsetInContext': 43, 'context': '...не Новая Зеландия представляет интересы Токелау, но территория также имеет собственные ...', 'offset': 60, 'errorLength': 7, 'category': 'TYPOS', 'ruleIssueType': 'misspelling', 'sentence': 'На международной арене Новая Зеландия представляет интересы Токелау, но территория также имеет собственные представительства в ряде международных организаций.'}),\n",
              " Match({'ruleId': 'MORFOLOGIK_RULE_RU_RU', 'message': 'Возможно найдена орфографическая ошибка.', 'replacements': ['Соколов', 'Доклад', 'Поселок', 'Океан', 'Поцелуй', 'Котелок', 'Оклад', 'Шоколад', 'Новелла', 'Добела', 'Ловелас', 'Поделом', 'Ток-шоу', 'Акела', 'Акелах', 'Акелам', 'Акелу', 'Аркела', 'Аркелах', 'Аркелам', 'Аркелом', 'Аркелов', 'Аркелу', 'Бокала', 'Бокалах', 'Бокалам', 'Бокалом', 'Бокалов', 'Бокалу', 'Болела', 'Болело', 'Цокала', 'Цокало', 'Доделаю', 'Доделай', 'Доделал', 'Доделан', 'Доделав', 'Доделку', 'Доделок', 'Доела', 'Докера', 'Докерах', 'Докерам', 'Докером', 'Докеров', 'Докеру', 'Докладу', 'Доколол', 'Доколот', 'Доколов', 'Доколочу', 'Домела', 'Домело', 'Домяла', 'Домяло', 'Доняла', 'Доняло', 'Допела', 'Допело', 'Довела', 'Довело', 'Факела', 'Факелах', 'Факелам', 'Факелом', 'Факелов', 'Факелу', 'Гоняла', 'Гоняло', 'Горела', 'Горелая', 'Горелку', 'Горело', 'Горелою', 'Горелое', 'Горелой', 'Горелок', 'Горелом', 'Горелому', 'Горелов', 'Горелову', 'Горелую', 'Говела', 'Говело', 'Хотела', 'Хотелку', 'Хотело', 'Хотелок', 'Келпу', 'Кокала', 'Кокало', 'Кокера', 'Кокером', 'Кокеру', 'Кокета', 'Кокетах', 'Кокетам', 'Кокетку', 'Кокеток', 'Кокетом', 'Кокетов', 'Кокету', 'Кокшетау', 'Корелла', 'Корелов', 'Корелову', 'Котелку', 'Котелов', 'Котелову', 'Кошёлку', 'Кошёлок', 'Кошелку', 'Кошелок', 'Локера', 'Локерах', 'Локерам', 'Локером', 'Локеров', 'Локеру', 'Ловеласу', 'Мокеичу', 'Мокевну', 'Мокла', 'Новела', 'Новеллах', 'Новеллам', 'Новеллку', 'Новеллою', 'Новеллой', 'Новеллок', 'Новеллу', 'Новело', 'Одела', 'Оделлу', 'Одеялу', 'Окала', 'Океану', 'Окладу', 'Окоёму', 'Околку', 'Омела', 'Омелах', 'Омелам', 'Омелу', 'Орела', 'Орелах', 'Орелам', 'Орелу', 'Осела', 'Оселку', 'Отела', 'Отелах', 'Отелам', 'Отелу', 'Побелку', 'Побелок', 'Поцелую', 'Поцелуе', 'Поцелуи', 'Поцелуя', 'Поделаю', 'Поделай', 'Поделал', 'Поделан', 'Поделав', 'Поделку', 'Поделок', 'Поела', 'Покемон', 'Покера', 'Покерах', 'Покерам', 'Покером', 'Покеров', 'Покеру', 'Покета', 'Покетах', 'Покетам', 'Покетом', 'Покетов', 'Покету', 'Поклаж', 'Поклажу', 'Поклепу', 'Поклеву', 'Поколол', 'Поколот', 'Поколов', 'Поколочу', 'Помела', 'Помело', 'Помелом', 'Помелу', 'Помяла', 'Помяло', 'Поняла', 'Поняло', 'Попела', 'Попело', 'Посёлку', 'Посёлок', 'Поселку', 'Потела', 'Потело', 'Пожелаю', 'Пожелай', 'Пожелал', 'Пожелав', 'Пожелчу', 'Повела', 'Повело', 'Повяла', 'Повяло', 'Робела', 'Робело', 'Рокцеллу', 'Рокера', 'Рокерах', 'Рокерам', 'Рокером', 'Рокеров', 'Рокеру', 'Роняла', 'Роняло', 'Сокета', 'Сокетах', 'Сокетам', 'Сокетом', 'Сокетов', 'Сокету', 'Сокола', 'Соколах', 'Соколам', 'Соколку', 'Соколок', 'Соколом', 'Соколову', 'Соколу', 'Сопела', 'Сопелку', 'Сопело', 'Сопелок', 'Совела', 'Совело', 'Такелаж', 'Такелажу', 'Токена', 'Токенов', 'Токолог', 'Токологу', 'Вокала', 'Вокалах', 'Вокалам', 'Вокалом', 'Вокалов', 'Вокалу', 'Вокзалу', 'Воняла', 'Воняло', 'Шоколаду', 'Чокала', 'Чокало', 'Чокера', 'Чокерах', 'Чокерам', 'Чокером', 'Чокеров', 'Чокеру', 'Ашкелон', 'Фёкла', 'Фёклах', 'Фёклам', 'Фёклу', 'Роквеллу', 'Тобола', 'Тоболом', 'Тоболу', 'Толедо', 'Тонечку', 'Уокера', 'Уокеру'], 'offsetInContext': 43, 'context': '...не Новая Зеландия представляет интересы Токелау, но территория также имеет собственные ...', 'offset': 60, 'errorLength': 7, 'category': 'TYPOS', 'ruleIssueType': 'misspelling', 'sentence': 'На международной арене Новая Зеландия представляет интересы Токелау, но территория также имеет собственные представительства в ряде международных организаций.'}),\n",
              " Match({'ruleId': 'MORFOLOGIK_RULE_RU_RU', 'message': 'Возможно найдена орфографическая ошибка.', 'replacements': ['Соколов', 'Доклад', 'Поселок', 'Океан', 'Поцелуй', 'Котелок', 'Оклад', 'Шоколад', 'Новелла', 'Добела', 'Ловелас', 'Поделом', 'Ток-шоу', 'Акела', 'Акелах', 'Акелам', 'Акелу', 'Аркела', 'Аркелах', 'Аркелам', 'Аркелом', 'Аркелов', 'Аркелу', 'Бокала', 'Бокалах', 'Бокалам', 'Бокалом', 'Бокалов', 'Бокалу', 'Болела', 'Болело', 'Цокала', 'Цокало', 'Доделаю', 'Доделай', 'Доделал', 'Доделан', 'Доделав', 'Доделку', 'Доделок', 'Доела', 'Докера', 'Докерах', 'Докерам', 'Докером', 'Докеров', 'Докеру', 'Докладу', 'Доколол', 'Доколот', 'Доколов', 'Доколочу', 'Домела', 'Домело', 'Домяла', 'Домяло', 'Доняла', 'Доняло', 'Допела', 'Допело', 'Довела', 'Довело', 'Факела', 'Факелах', 'Факелам', 'Факелом', 'Факелов', 'Факелу', 'Гоняла', 'Гоняло', 'Горела', 'Горелая', 'Горелку', 'Горело', 'Горелою', 'Горелое', 'Горелой', 'Горелок', 'Горелом', 'Горелому', 'Горелов', 'Горелову', 'Горелую', 'Говела', 'Говело', 'Хотела', 'Хотелку', 'Хотело', 'Хотелок', 'Келпу', 'Кокала', 'Кокало', 'Кокера', 'Кокером', 'Кокеру', 'Кокета', 'Кокетах', 'Кокетам', 'Кокетку', 'Кокеток', 'Кокетом', 'Кокетов', 'Кокету', 'Кокшетау', 'Корелла', 'Корелов', 'Корелову', 'Котелку', 'Котелов', 'Котелову', 'Кошёлку', 'Кошёлок', 'Кошелку', 'Кошелок', 'Локера', 'Локерах', 'Локерам', 'Локером', 'Локеров', 'Локеру', 'Ловеласу', 'Мокеичу', 'Мокевну', 'Мокла', 'Новела', 'Новеллах', 'Новеллам', 'Новеллку', 'Новеллою', 'Новеллой', 'Новеллок', 'Новеллу', 'Новело', 'Одела', 'Оделлу', 'Одеялу', 'Окала', 'Океану', 'Окладу', 'Окоёму', 'Околку', 'Омела', 'Омелах', 'Омелам', 'Омелу', 'Орела', 'Орелах', 'Орелам', 'Орелу', 'Осела', 'Оселку', 'Отела', 'Отелах', 'Отелам', 'Отелу', 'Побелку', 'Побелок', 'Поцелую', 'Поцелуе', 'Поцелуи', 'Поцелуя', 'Поделаю', 'Поделай', 'Поделал', 'Поделан', 'Поделав', 'Поделку', 'Поделок', 'Поела', 'Покемон', 'Покера', 'Покерах', 'Покерам', 'Покером', 'Покеров', 'Покеру', 'Покета', 'Покетах', 'Покетам', 'Покетом', 'Покетов', 'Покету', 'Поклаж', 'Поклажу', 'Поклепу', 'Поклеву', 'Поколол', 'Поколот', 'Поколов', 'Поколочу', 'Помела', 'Помело', 'Помелом', 'Помелу', 'Помяла', 'Помяло', 'Поняла', 'Поняло', 'Попела', 'Попело', 'Посёлку', 'Посёлок', 'Поселку', 'Потела', 'Потело', 'Пожелаю', 'Пожелай', 'Пожелал', 'Пожелав', 'Пожелчу', 'Повела', 'Повело', 'Повяла', 'Повяло', 'Робела', 'Робело', 'Рокцеллу', 'Рокера', 'Рокерах', 'Рокерам', 'Рокером', 'Рокеров', 'Рокеру', 'Роняла', 'Роняло', 'Сокета', 'Сокетах', 'Сокетам', 'Сокетом', 'Сокетов', 'Сокету', 'Сокола', 'Соколах', 'Соколам', 'Соколку', 'Соколок', 'Соколом', 'Соколову', 'Соколу', 'Сопела', 'Сопелку', 'Сопело', 'Сопелок', 'Совела', 'Совело', 'Такелаж', 'Такелажу', 'Токена', 'Токенов', 'Токолог', 'Токологу', 'Вокала', 'Вокалах', 'Вокалам', 'Вокалом', 'Вокалов', 'Вокалу', 'Вокзалу', 'Воняла', 'Воняло', 'Шоколаду', 'Чокала', 'Чокало', 'Чокера', 'Чокерах', 'Чокерам', 'Чокером', 'Чокеров', 'Чокеру', 'Ашкелон', 'Фёкла', 'Фёклах', 'Фёклам', 'Фёклу', 'Роквеллу', 'Тобола', 'Тоболом', 'Тоболу', 'Толедо', 'Тонечку', 'Уокера', 'Уокеру'], 'offsetInContext': 43, 'context': '...не Новая Зеландия представляет интересы Токелау, но территория также имеет собственные ...', 'offset': 60, 'errorLength': 7, 'category': 'TYPOS', 'ruleIssueType': 'misspelling', 'sentence': 'На международной арене Новая Зеландия представляет интересы Токелау, но территория также имеет собственные представительства в ряде международных организаций.'}),\n",
              " Match({'ruleId': 'MORFOLOGIK_RULE_RU_RU', 'message': 'Возможно найдена орфографическая ошибка.', 'replacements': ['Соколов', 'Доклад', 'Поселок', 'Океан', 'Поцелуй', 'Котелок', 'Оклад', 'Шоколад', 'Новелла', 'Добела', 'Ловелас', 'Поделом', 'Ток-шоу', 'Акела', 'Акелах', 'Акелам', 'Акелу', 'Аркела', 'Аркелах', 'Аркелам', 'Аркелом', 'Аркелов', 'Аркелу', 'Бокала', 'Бокалах', 'Бокалам', 'Бокалом', 'Бокалов', 'Бокалу', 'Болела', 'Болело', 'Цокала', 'Цокало', 'Доделаю', 'Доделай', 'Доделал', 'Доделан', 'Доделав', 'Доделку', 'Доделок', 'Доела', 'Докера', 'Докерах', 'Докерам', 'Докером', 'Докеров', 'Докеру', 'Докладу', 'Доколол', 'Доколот', 'Доколов', 'Доколочу', 'Домела', 'Домело', 'Домяла', 'Домяло', 'Доняла', 'Доняло', 'Допела', 'Допело', 'Довела', 'Довело', 'Факела', 'Факелах', 'Факелам', 'Факелом', 'Факелов', 'Факелу', 'Гоняла', 'Гоняло', 'Горела', 'Горелая', 'Горелку', 'Горело', 'Горелою', 'Горелое', 'Горелой', 'Горелок', 'Горелом', 'Горелому', 'Горелов', 'Горелову', 'Горелую', 'Говела', 'Говело', 'Хотела', 'Хотелку', 'Хотело', 'Хотелок', 'Келпу', 'Кокала', 'Кокало', 'Кокера', 'Кокером', 'Кокеру', 'Кокета', 'Кокетах', 'Кокетам', 'Кокетку', 'Кокеток', 'Кокетом', 'Кокетов', 'Кокету', 'Кокшетау', 'Корелла', 'Корелов', 'Корелову', 'Котелку', 'Котелов', 'Котелову', 'Кошёлку', 'Кошёлок', 'Кошелку', 'Кошелок', 'Локера', 'Локерах', 'Локерам', 'Локером', 'Локеров', 'Локеру', 'Ловеласу', 'Мокеичу', 'Мокевну', 'Мокла', 'Новела', 'Новеллах', 'Новеллам', 'Новеллку', 'Новеллою', 'Новеллой', 'Новеллок', 'Новеллу', 'Новело', 'Одела', 'Оделлу', 'Одеялу', 'Окала', 'Океану', 'Окладу', 'Окоёму', 'Околку', 'Омела', 'Омелах', 'Омелам', 'Омелу', 'Орела', 'Орелах', 'Орелам', 'Орелу', 'Осела', 'Оселку', 'Отела', 'Отелах', 'Отелам', 'Отелу', 'Побелку', 'Побелок', 'Поцелую', 'Поцелуе', 'Поцелуи', 'Поцелуя', 'Поделаю', 'Поделай', 'Поделал', 'Поделан', 'Поделав', 'Поделку', 'Поделок', 'Поела', 'Покемон', 'Покера', 'Покерах', 'Покерам', 'Покером', 'Покеров', 'Покеру', 'Покета', 'Покетах', 'Покетам', 'Покетом', 'Покетов', 'Покету', 'Поклаж', 'Поклажу', 'Поклепу', 'Поклеву', 'Поколол', 'Поколот', 'Поколов', 'Поколочу', 'Помела', 'Помело', 'Помелом', 'Помелу', 'Помяла', 'Помяло', 'Поняла', 'Поняло', 'Попела', 'Попело', 'Посёлку', 'Посёлок', 'Поселку', 'Потела', 'Потело', 'Пожелаю', 'Пожелай', 'Пожелал', 'Пожелав', 'Пожелчу', 'Повела', 'Повело', 'Повяла', 'Повяло', 'Робела', 'Робело', 'Рокцеллу', 'Рокера', 'Рокерах', 'Рокерам', 'Рокером', 'Рокеров', 'Рокеру', 'Роняла', 'Роняло', 'Сокета', 'Сокетах', 'Сокетам', 'Сокетом', 'Сокетов', 'Сокету', 'Сокола', 'Соколах', 'Соколам', 'Соколку', 'Соколок', 'Соколом', 'Соколову', 'Соколу', 'Сопела', 'Сопелку', 'Сопело', 'Сопелок', 'Совела', 'Совело', 'Такелаж', 'Такелажу', 'Токена', 'Токенов', 'Токолог', 'Токологу', 'Вокала', 'Вокалах', 'Вокалам', 'Вокалом', 'Вокалов', 'Вокалу', 'Вокзалу', 'Воняла', 'Воняло', 'Шоколаду', 'Чокала', 'Чокало', 'Чокера', 'Чокерах', 'Чокерам', 'Чокером', 'Чокеров', 'Чокеру', 'Ашкелон', 'Фёкла', 'Фёклах', 'Фёклам', 'Фёклу', 'Роквеллу', 'Тобола', 'Тоболом', 'Тоболу', 'Толедо', 'Тонечку', 'Уокера', 'Уокеру'], 'offsetInContext': 43, 'context': '...не Новая Зеландия представляет интересы Токелау, но территория также имеет собственные ...', 'offset': 60, 'errorLength': 7, 'category': 'TYPOS', 'ruleIssueType': 'misspelling', 'sentence': 'На международной арене Новая Зеландия представляет интересы Токелау, но территория также имеет собственные представительства в ряде международных организаций.'}),\n",
              " Match({'ruleId': 'MORFOLOGIK_RULE_RU_RU', 'message': 'Возможно найдена орфографическая ошибка.', 'replacements': ['Соколов', 'Доклад', 'Поселок', 'Океан', 'Поцелуй', 'Котелок', 'Оклад', 'Шоколад', 'Новелла', 'Добела', 'Ловелас', 'Поделом', 'Ток-шоу', 'Акела', 'Акелах', 'Акелам', 'Акелу', 'Аркела', 'Аркелах', 'Аркелам', 'Аркелом', 'Аркелов', 'Аркелу', 'Бокала', 'Бокалах', 'Бокалам', 'Бокалом', 'Бокалов', 'Бокалу', 'Болела', 'Болело', 'Цокала', 'Цокало', 'Доделаю', 'Доделай', 'Доделал', 'Доделан', 'Доделав', 'Доделку', 'Доделок', 'Доела', 'Докера', 'Докерах', 'Докерам', 'Докером', 'Докеров', 'Докеру', 'Докладу', 'Доколол', 'Доколот', 'Доколов', 'Доколочу', 'Домела', 'Домело', 'Домяла', 'Домяло', 'Доняла', 'Доняло', 'Допела', 'Допело', 'Довела', 'Довело', 'Факела', 'Факелах', 'Факелам', 'Факелом', 'Факелов', 'Факелу', 'Гоняла', 'Гоняло', 'Горела', 'Горелая', 'Горелку', 'Горело', 'Горелою', 'Горелое', 'Горелой', 'Горелок', 'Горелом', 'Горелому', 'Горелов', 'Горелову', 'Горелую', 'Говела', 'Говело', 'Хотела', 'Хотелку', 'Хотело', 'Хотелок', 'Келпу', 'Кокала', 'Кокало', 'Кокера', 'Кокером', 'Кокеру', 'Кокета', 'Кокетах', 'Кокетам', 'Кокетку', 'Кокеток', 'Кокетом', 'Кокетов', 'Кокету', 'Кокшетау', 'Корелла', 'Корелов', 'Корелову', 'Котелку', 'Котелов', 'Котелову', 'Кошёлку', 'Кошёлок', 'Кошелку', 'Кошелок', 'Локера', 'Локерах', 'Локерам', 'Локером', 'Локеров', 'Локеру', 'Ловеласу', 'Мокеичу', 'Мокевну', 'Мокла', 'Новела', 'Новеллах', 'Новеллам', 'Новеллку', 'Новеллою', 'Новеллой', 'Новеллок', 'Новеллу', 'Новело', 'Одела', 'Оделлу', 'Одеялу', 'Окала', 'Океану', 'Окладу', 'Окоёму', 'Околку', 'Омела', 'Омелах', 'Омелам', 'Омелу', 'Орела', 'Орелах', 'Орелам', 'Орелу', 'Осела', 'Оселку', 'Отела', 'Отелах', 'Отелам', 'Отелу', 'Побелку', 'Побелок', 'Поцелую', 'Поцелуе', 'Поцелуи', 'Поцелуя', 'Поделаю', 'Поделай', 'Поделал', 'Поделан', 'Поделав', 'Поделку', 'Поделок', 'Поела', 'Покемон', 'Покера', 'Покерах', 'Покерам', 'Покером', 'Покеров', 'Покеру', 'Покета', 'Покетах', 'Покетам', 'Покетом', 'Покетов', 'Покету', 'Поклаж', 'Поклажу', 'Поклепу', 'Поклеву', 'Поколол', 'Поколот', 'Поколов', 'Поколочу', 'Помела', 'Помело', 'Помелом', 'Помелу', 'Помяла', 'Помяло', 'Поняла', 'Поняло', 'Попела', 'Попело', 'Посёлку', 'Посёлок', 'Поселку', 'Потела', 'Потело', 'Пожелаю', 'Пожелай', 'Пожелал', 'Пожелав', 'Пожелчу', 'Повела', 'Повело', 'Повяла', 'Повяло', 'Робела', 'Робело', 'Рокцеллу', 'Рокера', 'Рокерах', 'Рокерам', 'Рокером', 'Рокеров', 'Рокеру', 'Роняла', 'Роняло', 'Сокета', 'Сокетах', 'Сокетам', 'Сокетом', 'Сокетов', 'Сокету', 'Сокола', 'Соколах', 'Соколам', 'Соколку', 'Соколок', 'Соколом', 'Соколову', 'Соколу', 'Сопела', 'Сопелку', 'Сопело', 'Сопелок', 'Совела', 'Совело', 'Такелаж', 'Такелажу', 'Токена', 'Токенов', 'Токолог', 'Токологу', 'Вокала', 'Вокалах', 'Вокалам', 'Вокалом', 'Вокалов', 'Вокалу', 'Вокзалу', 'Воняла', 'Воняло', 'Шоколаду', 'Чокала', 'Чокало', 'Чокера', 'Чокерах', 'Чокерам', 'Чокером', 'Чокеров', 'Чокеру', 'Ашкелон', 'Фёкла', 'Фёклах', 'Фёклам', 'Фёклу', 'Роквеллу', 'Тобола', 'Тоболом', 'Тоболу', 'Толедо', 'Тонечку', 'Уокера', 'Уокеру'], 'offsetInContext': 43, 'context': '...не Новая Зеландия представляет интересы Токелау, но территория также имеет собственные ...', 'offset': 60, 'errorLength': 7, 'category': 'TYPOS', 'ruleIssueType': 'misspelling', 'sentence': 'На международной арене Новая Зеландия представляет интересы Токелау, но территория также имеет собственные представительства в ряде международных организаций.'}),\n",
              " Match({'ruleId': 'MORFOLOGIK_RULE_RU_RU', 'message': 'Возможно найдена орфографическая ошибка.', 'replacements': ['Мэн сон'], 'offsetInContext': 30, 'context': 'На одно из судебных заседаний Мэнсон пришёл с наполовину обритой головой и н...', 'offset': 30, 'errorLength': 6, 'category': 'TYPOS', 'ruleIssueType': 'misspelling', 'sentence': 'На одно из судебных заседаний Мэнсон пришёл с наполовину обритой головой и наполовину сбритой бородой.'}),\n",
              " Match({'ruleId': 'MORFOLOGIK_RULE_RU_RU', 'message': 'Возможно найдена орфографическая ошибка.', 'replacements': ['Мэн сон'], 'offsetInContext': 30, 'context': 'На одно из судебных заседаний Мэнсон пришёл с наполовину обритой головой и н...', 'offset': 30, 'errorLength': 6, 'category': 'TYPOS', 'ruleIssueType': 'misspelling', 'sentence': 'На одно из судебных заседаний Мэнсон пришёл с наполовину обритой головой и наполовину сбритой бородой.'}),\n",
              " Match({'ruleId': 'MORFOLOGIK_RULE_RU_RU', 'message': 'Возможно найдена орфографическая ошибка.', 'replacements': ['Ведда', 'Ведду'], 'offsetInContext': 43, 'context': '...ивале были показаны такие картины, как «Гедда» с Глендой Джексон, «Черная Луна» и «Пр...', 'offset': 54, 'errorLength': 5, 'category': 'TYPOS', 'ruleIssueType': 'misspelling', 'sentence': 'На первом фестивале были показаны такие картины, как «Гедда» с Глендой Джексон, «Черная Луна» и «Призрак свободы».'}),\n",
              " Match({'ruleId': 'MORFOLOGIK_RULE_RU_RU', 'message': 'Возможно найдена орфографическая ошибка.', 'replacements': ['Блендой', 'Шлёндой', 'Шлендой'], 'offsetInContext': 43, 'context': '...и показаны такие картины, как «Гедда» с Глендой Джексон, «Черная Луна» и «Призрак свобо...', 'offset': 63, 'errorLength': 7, 'category': 'TYPOS', 'ruleIssueType': 'misspelling', 'sentence': 'На первом фестивале были показаны такие картины, как «Гедда» с Глендой Джексон, «Черная Луна» и «Призрак свободы».'}),\n",
              " Match({'ruleId': 'SENTENCE_WHITESPACE', 'message': 'Добавьте пробел между предложениями', 'replacements': [' Третий'], 'offsetInContext': 43, 'context': '...ксон, «Черная Луна» и «Призрак свободы».Третий фестиваль в 1978 году проводился под ру...', 'offset': 114, 'errorLength': 6, 'category': 'TYPOGRAPHY', 'ruleIssueType': 'whitespace', 'sentence': 'Третий фестиваль в 1978 году проводился под руководством Радживы Гупты.'}),\n",
              " Match({'ruleId': 'MORFOLOGIK_RULE_RU_RU', 'message': 'Возможно найдена орфографическая ошибка.', 'replacements': ['Гуп ты'], 'offsetInContext': 43, 'context': '...оду проводился под руководством Радживы Гупты.', 'offset': 179, 'errorLength': 5, 'category': 'TYPOS', 'ruleIssueType': 'misspelling', 'sentence': 'Третий фестиваль в 1978 году проводился под руководством Радживы Гупты.'}),\n",
              " Match({'ruleId': 'MORFOLOGIK_RULE_RU_RU', 'message': 'Возможно найдена орфографическая ошибка.', 'replacements': ['Ведда', 'Ведду'], 'offsetInContext': 43, 'context': '...ивале были показаны такие картины, как «Гедда» с Глендой Джексон, «Черная Луна» и «Пр...', 'offset': 54, 'errorLength': 5, 'category': 'TYPOS', 'ruleIssueType': 'misspelling', 'sentence': 'На первом фестивале были показаны такие картины, как «Гедда» с Глендой Джексон, «Черная Луна» и «Призрак свободы».'}),\n",
              " Match({'ruleId': 'MORFOLOGIK_RULE_RU_RU', 'message': 'Возможно найдена орфографическая ошибка.', 'replacements': ['Блендой', 'Шлёндой', 'Шлендой'], 'offsetInContext': 43, 'context': '...и показаны такие картины, как «Гедда» с Глендой Джексон, «Черная Луна» и «Призрак свобо...', 'offset': 63, 'errorLength': 7, 'category': 'TYPOS', 'ruleIssueType': 'misspelling', 'sentence': 'На первом фестивале были показаны такие картины, как «Гедда» с Глендой Джексон, «Черная Луна» и «Призрак свободы».'}),\n",
              " Match({'ruleId': 'SENTENCE_WHITESPACE', 'message': 'Добавьте пробел между предложениями', 'replacements': [' Третий'], 'offsetInContext': 43, 'context': '...ксон, «Черная Луна» и «Призрак свободы».Третий фестиваль в 1978 году проводился под ру...', 'offset': 114, 'errorLength': 6, 'category': 'TYPOGRAPHY', 'ruleIssueType': 'whitespace', 'sentence': 'Третий фестиваль в 1978 году проводился под руководством Радживы Гупты.'}),\n",
              " Match({'ruleId': 'MORFOLOGIK_RULE_RU_RU', 'message': 'Возможно найдена орфографическая ошибка.', 'replacements': ['Гуп ты'], 'offsetInContext': 43, 'context': '...оду проводился под руководством Радживы Гупты.', 'offset': 179, 'errorLength': 5, 'category': 'TYPOS', 'ruleIssueType': 'misspelling', 'sentence': 'Третий фестиваль в 1978 году проводился под руководством Радживы Гупты.'}),\n",
              " Match({'ruleId': 'MORFOLOGIK_RULE_RU_RU', 'message': 'Возможно найдена орфографическая ошибка.', 'replacements': ['Ведда', 'Ведду'], 'offsetInContext': 43, 'context': '...ивале были показаны такие картины, как «Гедда» с Глендой Джексон, «Черная Луна» и «Пр...', 'offset': 54, 'errorLength': 5, 'category': 'TYPOS', 'ruleIssueType': 'misspelling', 'sentence': 'На первом фестивале были показаны такие картины, как «Гедда» с Глендой Джексон, «Черная Луна» и «Призрак свободы».'}),\n",
              " Match({'ruleId': 'MORFOLOGIK_RULE_RU_RU', 'message': 'Возможно найдена орфографическая ошибка.', 'replacements': ['Блендой', 'Шлёндой', 'Шлендой'], 'offsetInContext': 43, 'context': '...и показаны такие картины, как «Гедда» с Глендой Джексон, «Черная Луна» и «Призрак свобо...', 'offset': 63, 'errorLength': 7, 'category': 'TYPOS', 'ruleIssueType': 'misspelling', 'sentence': 'На первом фестивале были показаны такие картины, как «Гедда» с Глендой Джексон, «Черная Луна» и «Призрак свободы».'}),\n",
              " Match({'ruleId': 'SENTENCE_WHITESPACE', 'message': 'Добавьте пробел между предложениями', 'replacements': [' Третий'], 'offsetInContext': 43, 'context': '...ксон, «Черная Луна» и «Призрак свободы».Третий фестиваль в 1978 году проводился под ру...', 'offset': 114, 'errorLength': 6, 'category': 'TYPOGRAPHY', 'ruleIssueType': 'whitespace', 'sentence': 'Третий фестиваль в 1978 году проводился под руководством Радживы Гупты.'}),\n",
              " Match({'ruleId': 'MORFOLOGIK_RULE_RU_RU', 'message': 'Возможно найдена орфографическая ошибка.', 'replacements': ['Гуп ты'], 'offsetInContext': 43, 'context': '...оду проводился под руководством Радживы Гупты.', 'offset': 179, 'errorLength': 5, 'category': 'TYPOS', 'ruleIssueType': 'misspelling', 'sentence': 'Третий фестиваль в 1978 году проводился под руководством Радживы Гупты.'}),\n",
              " Match({'ruleId': 'MORFOLOGIK_RULE_RU_RU', 'message': 'Возможно найдена орфографическая ошибка.', 'replacements': ['Купена', 'Купену', 'Шопена', 'Шопену', 'Па пена', 'Папе на'], 'offsetInContext': 43, 'context': '...м, не согласившись с оправданием только Папена и Шахта.', 'offset': 143, 'errorLength': 6, 'category': 'TYPOS', 'ruleIssueType': 'misspelling', 'sentence': 'На пресс-конференции, состоявшейся после оглашения, прокурор Джексон выразил одобрение итоговым решением, не согласившись с оправданием только Папена и Шахта.'}),\n",
              " Match({'ruleId': 'MORFOLOGIK_RULE_RU_RU', 'message': 'Возможно найдена орфографическая ошибка.', 'replacements': ['Купена', 'Купену', 'Шопена', 'Шопену', 'Па пена', 'Папе на'], 'offsetInContext': 43, 'context': '...м, не согласившись с оправданием только Папена и Шахта.', 'offset': 143, 'errorLength': 6, 'category': 'TYPOS', 'ruleIssueType': 'misspelling', 'sentence': 'На пресс-конференции, состоявшейся после оглашения, прокурор Джексон выразил одобрение итоговым решением, не согласившись с оправданием только Папена и Шахта.'}),\n",
              " Match({'ruleId': 'MORFOLOGIK_RULE_RU_RU', 'message': 'Возможно найдена орфографическая ошибка.', 'replacements': ['солидаризация'], 'offsetInContext': 30, 'context': 'На уровне городов происходила олигархизация городских общин и укрепление всевластия...', 'offset': 30, 'errorLength': 13, 'category': 'TYPOS', 'ruleIssueType': 'misspelling', 'sentence': 'На уровне городов происходила олигархизация городских общин и укрепление всевластия патрициата в системе городского управления.'}),\n",
              " Match({'ruleId': 'MORFOLOGIK_RULE_RU_RU', 'message': 'Возможно найдена орфографическая ошибка.', 'replacements': ['солидаризация'], 'offsetInContext': 30, 'context': 'На уровне городов происходила олигархизация городских общин и укрепление всевластия...', 'offset': 30, 'errorLength': 13, 'category': 'TYPOS', 'ruleIssueType': 'misspelling', 'sentence': 'На уровне городов происходила олигархизация городских общин и укрепление всевластия патрициата в системе городского управления.'}),\n",
              " Match({'ruleId': 'MORFOLOGIK_RULE_RU_RU', 'message': 'Возможно найдена орфографическая ошибка.', 'replacements': ['под сокольи'], 'offsetInContext': 43, 'context': '...я подъема птицы в воздух использовались подсокольи собаки.', 'offset': 91, 'errorLength': 10, 'category': 'TYPOS', 'ruleIssueType': 'misspelling', 'sentence': 'Наиболее распространённой была охота с соколами, для подъема птицы в воздух использовались подсокольи собаки.'}),\n",
              " Match({'ruleId': 'MORFOLOGIK_RULE_RU_RU', 'message': 'Возможно найдена орфографическая ошибка.', 'replacements': ['под сокольи'], 'offsetInContext': 43, 'context': '...я подъема птицы в воздух использовались подсокольи собаки.', 'offset': 91, 'errorLength': 10, 'category': 'TYPOS', 'ruleIssueType': 'misspelling', 'sentence': 'Наиболее распространённой была охота с соколами, для подъема птицы в воздух использовались подсокольи собаки.'}),\n",
              " Match({'ruleId': 'MORFOLOGIK_RULE_RU_RU', 'message': 'Возможно найдена орфографическая ошибка.', 'replacements': ['под сокольи'], 'offsetInContext': 43, 'context': '...я подъема птицы в воздух использовались подсокольи собаки.', 'offset': 91, 'errorLength': 10, 'category': 'TYPOS', 'ruleIssueType': 'misspelling', 'sentence': 'Наиболее распространённой была охота с соколами, для подъема птицы в воздух использовались подсокольи собаки.'}),\n",
              " Match({'ruleId': 'MORFOLOGIK_RULE_RU_RU', 'message': 'Возможно найдена орфографическая ошибка.', 'replacements': [], 'offsetInContext': 43, 'context': '...ьства), продолжается движение русских в киргиз-кайсацкие степи.', 'offset': 117, 'errorLength': 16, 'category': 'TYPOS', 'ruleIssueType': 'misspelling', 'sentence': 'Наметились сдвиги в экономике (благодаря поддержке купеческого предпринимательства), продолжается движение русских в киргиз-кайсацкие степи.'}),\n",
              " Match({'ruleId': 'MORFOLOGIK_RULE_RU_RU', 'message': 'Возможно найдена орфографическая ошибка.', 'replacements': [], 'offsetInContext': 43, 'context': '...ьства), продолжается движение русских в киргиз-кайсацкие степи.', 'offset': 117, 'errorLength': 16, 'category': 'TYPOS', 'ruleIssueType': 'misspelling', 'sentence': 'Наметились сдвиги в экономике (благодаря поддержке купеческого предпринимательства), продолжается движение русских в киргиз-кайсацкие степи.'}),\n",
              " Match({'ruleId': 'MORFOLOGIK_RULE_RU_RU', 'message': 'Возможно найдена орфографическая ошибка.', 'replacements': [], 'offsetInContext': 43, 'context': '...ьства), продолжается движение русских в киргиз-кайсацкие степи.', 'offset': 117, 'errorLength': 16, 'category': 'TYPOS', 'ruleIssueType': 'misspelling', 'sentence': 'Наметились сдвиги в экономике (благодаря поддержке купеческого предпринимательства), продолжается движение русских в киргиз-кайсацкие степи.'}),\n",
              " Match({'ruleId': 'MORFOLOGIK_RULE_RU_RU', 'message': 'Возможно найдена орфографическая ошибка.', 'replacements': [], 'offsetInContext': 43, 'context': '...ьства), продолжается движение русских в киргиз-кайсацкие степи.', 'offset': 117, 'errorLength': 16, 'category': 'TYPOS', 'ruleIssueType': 'misspelling', 'sentence': 'Наметились сдвиги в экономике (благодаря поддержке купеческого предпринимательства), продолжается движение русских в киргиз-кайсацкие степи.'}),\n",
              " Match({'ruleId': 'MORFOLOGIK_RULE_RU_RU', 'message': 'Возможно найдена орфографическая ошибка.', 'replacements': [], 'offsetInContext': 43, 'context': '...ьства), продолжается движение русских в киргиз-кайсацкие степи.', 'offset': 117, 'errorLength': 16, 'category': 'TYPOS', 'ruleIssueType': 'misspelling', 'sentence': 'Наметились сдвиги в экономике (благодаря поддержке купеческого предпринимательства), продолжается движение русских в киргиз-кайсацкие степи.'}),\n",
              " Match({'ruleId': 'MORFOLOGIK_RULE_RU_RU', 'message': 'Возможно найдена орфографическая ошибка.', 'replacements': ['Диггер', 'Ниггер', 'Чиггер'], 'offsetInContext': 43, 'context': '...е популярной кличкой для кошки являются Тиггер, Тайгер и Макс.', 'offset': 104, 'errorLength': 6, 'category': 'TYPOS', 'ruleIssueType': 'misspelling', 'sentence': 'Например, в англоязычных странах согласно одному опросу, наиболее популярной кличкой для кошки являются Тиггер, Тайгер и Макс.'}),\n",
              " Match({'ruleId': 'MORFOLOGIK_RULE_RU_RU', 'message': 'Возможно найдена орфографическая ошибка.', 'replacements': ['Зайгер', 'Тай гер', 'Тайге р'], 'offsetInContext': 43, 'context': '...рной кличкой для кошки являются Тиггер, Тайгер и Макс.', 'offset': 112, 'errorLength': 6, 'category': 'TYPOS', 'ruleIssueType': 'misspelling', 'sentence': 'Например, в англоязычных странах согласно одному опросу, наиболее популярной кличкой для кошки являются Тиггер, Тайгер и Макс.'}),\n",
              " Match({'ruleId': 'MORFOLOGIK_RULE_RU_RU', 'message': 'Возможно найдена орфографическая ошибка.', 'replacements': ['Диггер', 'Ниггер', 'Чиггер'], 'offsetInContext': 43, 'context': '...е популярной кличкой для кошки являются Тиггер, Тайгер и Макс.', 'offset': 104, 'errorLength': 6, 'category': 'TYPOS', 'ruleIssueType': 'misspelling', 'sentence': 'Например, в англоязычных странах согласно одному опросу, наиболее популярной кличкой для кошки являются Тиггер, Тайгер и Макс.'}),\n",
              " Match({'ruleId': 'MORFOLOGIK_RULE_RU_RU', 'message': 'Возможно найдена орфографическая ошибка.', 'replacements': ['Зайгер', 'Тай гер', 'Тайге р'], 'offsetInContext': 43, 'context': '...рной кличкой для кошки являются Тиггер, Тайгер и Макс.', 'offset': 112, 'errorLength': 6, 'category': 'TYPOS', 'ruleIssueType': 'misspelling', 'sentence': 'Например, в англоязычных странах согласно одному опросу, наиболее популярной кличкой для кошки являются Тиггер, Тайгер и Макс.'}),\n",
              " Match({'ruleId': 'MORFOLOGIK_RULE_RU_RU', 'message': 'Возможно найдена орфографическая ошибка.', 'replacements': ['Диггер', 'Ниггер', 'Чиггер'], 'offsetInContext': 43, 'context': '...е популярной кличкой для кошки являются Тиггер, Тайгер и Макс.', 'offset': 104, 'errorLength': 6, 'category': 'TYPOS', 'ruleIssueType': 'misspelling', 'sentence': 'Например, в англоязычных странах согласно одному опросу, наиболее популярной кличкой для кошки являются Тиггер, Тайгер и Макс.'}),\n",
              " Match({'ruleId': 'MORFOLOGIK_RULE_RU_RU', 'message': 'Возможно найдена орфографическая ошибка.', 'replacements': ['Зайгер', 'Тай гер', 'Тайге р'], 'offsetInContext': 43, 'context': '...рной кличкой для кошки являются Тиггер, Тайгер и Макс.', 'offset': 112, 'errorLength': 6, 'category': 'TYPOS', 'ruleIssueType': 'misspelling', 'sentence': 'Например, в англоязычных странах согласно одному опросу, наиболее популярной кличкой для кошки являются Тиггер, Тайгер и Макс.'}),\n",
              " Match({'ruleId': 'MORFOLOGIK_RULE_RU_RU', 'message': 'Возможно найдена орфографическая ошибка.', 'replacements': ['Диггер', 'Ниггер', 'Чиггер'], 'offsetInContext': 43, 'context': '...е популярной кличкой для кошки являются Тиггер, Тайгер и Макс.', 'offset': 104, 'errorLength': 6, 'category': 'TYPOS', 'ruleIssueType': 'misspelling', 'sentence': 'Например, в англоязычных странах согласно одному опросу, наиболее популярной кличкой для кошки являются Тиггер, Тайгер и Макс.'}),\n",
              " Match({'ruleId': 'MORFOLOGIK_RULE_RU_RU', 'message': 'Возможно найдена орфографическая ошибка.', 'replacements': ['Зайгер', 'Тай гер', 'Тайге р'], 'offsetInContext': 43, 'context': '...рной кличкой для кошки являются Тиггер, Тайгер и Макс.', 'offset': 112, 'errorLength': 6, 'category': 'TYPOS', 'ruleIssueType': 'misspelling', 'sentence': 'Например, в англоязычных странах согласно одному опросу, наиболее популярной кличкой для кошки являются Тиггер, Тайгер и Макс.'}),\n",
              " Match({'ruleId': 'MORFOLOGIK_RULE_RU_RU', 'message': 'Возможно найдена орфографическая ошибка.', 'replacements': ['Диггер', 'Ниггер', 'Чиггер'], 'offsetInContext': 43, 'context': '...е популярной кличкой для кошки являются Тиггер, Тайгер и Макс.', 'offset': 104, 'errorLength': 6, 'category': 'TYPOS', 'ruleIssueType': 'misspelling', 'sentence': 'Например, в англоязычных странах согласно одному опросу, наиболее популярной кличкой для кошки являются Тиггер, Тайгер и Макс.'}),\n",
              " Match({'ruleId': 'MORFOLOGIK_RULE_RU_RU', 'message': 'Возможно найдена орфографическая ошибка.', 'replacements': ['Зайгер', 'Тай гер', 'Тайге р'], 'offsetInContext': 43, 'context': '...рной кличкой для кошки являются Тиггер, Тайгер и Макс.', 'offset': 112, 'errorLength': 6, 'category': 'TYPOS', 'ruleIssueType': 'misspelling', 'sentence': 'Например, в англоязычных странах согласно одному опросу, наиболее популярной кличкой для кошки являются Тиггер, Тайгер и Макс.'}),\n",
              " Match({'ruleId': 'MORFOLOGIK_RULE_RU_RU', 'message': 'Возможно найдена орфографическая ошибка.', 'replacements': ['Берберка'], 'offsetInContext': 43, 'context': '... на берегу Баренцева моря около поселка Териберка.', 'offset': 126, 'errorLength': 9, 'category': 'TYPOS', 'ruleIssueType': 'misspelling', 'sentence': 'Натурные съемки ленты проходили в Мурманской области, на руднике в городе Заполярный и на берегу Баренцева моря около поселка Териберка.'}),\n",
              " Match({'ruleId': 'MORFOLOGIK_RULE_RU_RU', 'message': 'Возможно найдена орфографическая ошибка.', 'replacements': ['Берберка'], 'offsetInContext': 43, 'context': '... на берегу Баренцева моря около поселка Териберка.', 'offset': 126, 'errorLength': 9, 'category': 'TYPOS', 'ruleIssueType': 'misspelling', 'sentence': 'Натурные съемки ленты проходили в Мурманской области, на руднике в городе Заполярный и на берегу Баренцева моря около поселка Териберка.'}),\n",
              " Match({'ruleId': 'MORFOLOGIK_RULE_RU_RU', 'message': 'Возможно найдена орфографическая ошибка.', 'replacements': ['адриатического', 'агрохимического', 'агрономического', 'ахроматического', 'акробатического', 'анатомического', 'арготического', 'архаического', 'аритмического', 'атрофического', 'авиахимического', 'автаркического', 'автоматического', 'автономического', 'керамического', 'огамического', 'органического', 'уремического', 'увологического'], 'offsetInContext': 43, 'context': '...леживается осознание исходного единства авраамического монотеизма, выраженное в проповедях про...', 'offset': 84, 'errorLength': 14, 'category': 'TYPOS', 'ruleIssueType': 'misspelling', 'sentence': 'Начиная с ранних этапов развития ислама прослеживается осознание исходного единства авраамического монотеизма, выраженное в проповедях пророка Мухаммеда.'}),\n",
              " Match({'ruleId': 'MORFOLOGIK_RULE_RU_RU', 'message': 'Возможно найдена орфографическая ошибка.', 'replacements': ['адриатического', 'агрохимического', 'агрономического', 'ахроматического', 'акробатического', 'анатомического', 'арготического', 'архаического', 'аритмического', 'атрофического', 'авиахимического', 'автаркического', 'автоматического', 'автономического', 'керамического', 'огамического', 'органического', 'уремического', 'увологического'], 'offsetInContext': 43, 'context': '...леживается осознание исходного единства авраамического монотеизма, выраженное в проповедях про...', 'offset': 84, 'errorLength': 14, 'category': 'TYPOS', 'ruleIssueType': 'misspelling', 'sentence': 'Начиная с ранних этапов развития ислама прослеживается осознание исходного единства авраамического монотеизма, выраженное в проповедях пророка Мухаммеда.'}),\n",
              " Match({'ruleId': 'MORFOLOGIK_RULE_RU_RU', 'message': 'Возможно найдена орфографическая ошибка.', 'replacements': ['адриатического', 'агрохимического', 'агрономического', 'ахроматического', 'акробатического', 'анатомического', 'арготического', 'архаического', 'аритмического', 'атрофического', 'авиахимического', 'автаркического', 'автоматического', 'автономического', 'керамического', 'огамического', 'органического', 'уремического', 'увологического'], 'offsetInContext': 43, 'context': '...леживается осознание исходного единства авраамического монотеизма, выраженное в проповедях про...', 'offset': 84, 'errorLength': 14, 'category': 'TYPOS', 'ruleIssueType': 'misspelling', 'sentence': 'Начиная с ранних этапов развития ислама прослеживается осознание исходного единства авраамического монотеизма, выраженное в проповедях пророка Мухаммеда.'}),\n",
              " Match({'ruleId': 'MORFOLOGIK_RULE_RU_RU', 'message': 'Возможно найдена орфографическая ошибка.', 'replacements': ['адриатического', 'агрохимического', 'агрономического', 'ахроматического', 'акробатического', 'анатомического', 'арготического', 'архаического', 'аритмического', 'атрофического', 'авиахимического', 'автаркического', 'автоматического', 'автономического', 'керамического', 'огамического', 'органического', 'уремического', 'увологического'], 'offsetInContext': 43, 'context': '...леживается осознание исходного единства авраамического монотеизма, выраженное в проповедях про...', 'offset': 84, 'errorLength': 14, 'category': 'TYPOS', 'ruleIssueType': 'misspelling', 'sentence': 'Начиная с ранних этапов развития ислама прослеживается осознание исходного единства авраамического монотеизма, выраженное в проповедях пророка Мухаммеда.'}),\n",
              " Match({'ruleId': 'MORFOLOGIK_RULE_RU_RU', 'message': 'Возможно найдена орфографическая ошибка.', 'replacements': ['адриатического', 'агрохимического', 'агрономического', 'ахроматического', 'акробатического', 'анатомического', 'арготического', 'архаического', 'аритмического', 'атрофического', 'авиахимического', 'автаркического', 'автоматического', 'автономического', 'керамического', 'огамического', 'органического', 'уремического', 'увологического'], 'offsetInContext': 43, 'context': '...леживается осознание исходного единства авраамического монотеизма, выраженное в проповедях про...', 'offset': 84, 'errorLength': 14, 'category': 'TYPOS', 'ruleIssueType': 'misspelling', 'sentence': 'Начиная с ранних этапов развития ислама прослеживается осознание исходного единства авраамического монотеизма, выраженное в проповедях пророка Мухаммеда.'}),\n",
              " Match({'ruleId': 'MORFOLOGIK_RULE_RU_RU', 'message': 'Возможно найдена орфографическая ошибка.', 'replacements': ['Го спич'], 'offsetInContext': 43, 'context': '...а наказ отца, Никола вернулся к семье в Госпич, где была эпидемия холеры, и тут же зар...', 'offset': 50, 'errorLength': 6, 'category': 'TYPOS', 'ruleIssueType': 'misspelling', 'sentence': 'Несмотря на наказ отца, Никола вернулся к семье в Госпич, где была эпидемия холеры, и тут же заразился.'}),\n",
              " Match({'ruleId': 'MORFOLOGIK_RULE_RU_RU', 'message': 'Возможно найдена орфографическая ошибка.', 'replacements': ['около уголовное'], 'offsetInContext': 12, 'context': 'Несмотря на околоуголовное название, в альбоме были не только блат...', 'offset': 12, 'errorLength': 14, 'category': 'TYPOS', 'ruleIssueType': 'misspelling', 'sentence': 'Несмотря на околоуголовное название, в альбоме были не только блатные песни, но также лирические и иронические.'}),\n",
              " Match({'ruleId': 'MORFOLOGIK_RULE_RU_RU', 'message': 'Возможно найдена орфографическая ошибка.', 'replacements': ['около уголовное'], 'offsetInContext': 12, 'context': 'Несмотря на околоуголовное название, в альбоме были не только блат...', 'offset': 12, 'errorLength': 14, 'category': 'TYPOS', 'ruleIssueType': 'misspelling', 'sentence': 'Несмотря на околоуголовное название, в альбоме были не только блатные песни, но также лирические и иронические.'}),\n",
              " Match({'ruleId': 'MORFOLOGIK_RULE_RU_RU', 'message': 'Возможно найдена орфографическая ошибка.', 'replacements': ['около уголовное'], 'offsetInContext': 12, 'context': 'Несмотря на околоуголовное название, в альбоме были не только блат...', 'offset': 12, 'errorLength': 14, 'category': 'TYPOS', 'ruleIssueType': 'misspelling', 'sentence': 'Несмотря на околоуголовное название, в альбоме были не только блатные песни, но также лирические и иронические.'}),\n",
              " Match({'ruleId': 'MORFOLOGIK_RULE_RU_RU', 'message': 'Возможно найдена орфографическая ошибка.', 'replacements': ['Жюри', 'Вьери', 'Дьюи', 'Ньюи', 'Юри', 'Бьюти', 'Дьюки', 'Кюри', 'Кьюпи', 'Пьющи', 'Тюри', 'Вьюги', 'Вьюки', 'Вьюрки', 'Фабри', 'Сьюзи'], 'offsetInContext': 43, 'context': '...Но врач дал добро на продолжение боя, и Фьюри, поняв, что близок к катастрофе, принял...', 'offset': 40, 'errorLength': 5, 'category': 'TYPOS', 'ruleIssueType': 'misspelling', 'sentence': 'Но врач дал добро на продолжение боя, и Фьюри, поняв, что близок к катастрофе, принялся атаковать.'}),\n",
              " Match({'ruleId': 'MORFOLOGIK_RULE_RU_RU', 'message': 'Возможно найдена орфографическая ошибка.', 'replacements': ['Жюри', 'Вьери', 'Дьюи', 'Ньюи', 'Юри', 'Бьюти', 'Дьюки', 'Кюри', 'Кьюпи', 'Пьющи', 'Тюри', 'Вьюги', 'Вьюки', 'Вьюрки', 'Фабри', 'Сьюзи'], 'offsetInContext': 43, 'context': '...Но врач дал добро на продолжение боя, и Фьюри, поняв, что близок к катастрофе, принял...', 'offset': 40, 'errorLength': 5, 'category': 'TYPOS', 'ruleIssueType': 'misspelling', 'sentence': 'Но врач дал добро на продолжение боя, и Фьюри, поняв, что близок к катастрофе, принялся атаковать.'}),\n",
              " Match({'ruleId': 'MORFOLOGIK_RULE_RU_RU', 'message': 'Возможно найдена орфографическая ошибка.', 'replacements': ['Жюри', 'Вьери', 'Дьюи', 'Ньюи', 'Юри', 'Бьюти', 'Дьюки', 'Кюри', 'Кьюпи', 'Пьющи', 'Тюри', 'Вьюги', 'Вьюки', 'Вьюрки', 'Фабри', 'Сьюзи'], 'offsetInContext': 43, 'context': '...Но врач дал добро на продолжение боя, и Фьюри, поняв, что близок к катастрофе, принял...', 'offset': 40, 'errorLength': 5, 'category': 'TYPOS', 'ruleIssueType': 'misspelling', 'sentence': 'Но врач дал добро на продолжение боя, и Фьюри, поняв, что близок к катастрофе, принялся атаковать.'}),\n",
              " Match({'ruleId': 'Hyphen_and_spaces', 'message': 'Перед дефисом не должно быть пробела: «форманта-град»', 'replacements': ['форманта-град'], 'offsetInContext': 43, 'context': '...осит искусственный характер — сочетание форманта -град с названием реки не имеет аналогов в ру...', 'offset': 56, 'errorLength': 14, 'category': 'PUNCTUATION', 'ruleIssueType': 'uncategorized', 'sentence': 'Новое название носит искусственный характер — сочетание форманта -град с названием реки не имеет аналогов в русскоязычной топонимии.'}),\n",
              " Match({'ruleId': 'Hyphen_and_spaces', 'message': 'Перед дефисом не должно быть пробела: «форманта-град»', 'replacements': ['форманта-град'], 'offsetInContext': 43, 'context': '...осит искусственный характер — сочетание форманта -град с названием реки не имеет аналогов в ру...', 'offset': 56, 'errorLength': 14, 'category': 'PUNCTUATION', 'ruleIssueType': 'uncategorized', 'sentence': 'Новое название носит искусственный характер — сочетание форманта -град с названием реки не имеет аналогов в русскоязычной топонимии.'}),\n",
              " Match({'ruleId': 'Hyphen_and_spaces', 'message': 'Перед дефисом не должно быть пробела: «форманта-град»', 'replacements': ['форманта-град'], 'offsetInContext': 43, 'context': '...осит искусственный характер — сочетание форманта -град с названием реки не имеет аналогов в ру...', 'offset': 56, 'errorLength': 14, 'category': 'PUNCTUATION', 'ruleIssueType': 'uncategorized', 'sentence': 'Новое название носит искусственный характер — сочетание форманта -град с названием реки не имеет аналогов в русскоязычной топонимии.'}),\n",
              " Match({'ruleId': 'Hyphen_and_spaces', 'message': 'Перед дефисом не должно быть пробела: «форманта-град»', 'replacements': ['форманта-град'], 'offsetInContext': 43, 'context': '...осит искусственный характер — сочетание форманта -град с названием реки не имеет аналогов в ру...', 'offset': 56, 'errorLength': 14, 'category': 'PUNCTUATION', 'ruleIssueType': 'uncategorized', 'sentence': 'Новое название носит искусственный характер — сочетание форманта -град с названием реки не имеет аналогов в русскоязычной топонимии.'}),\n",
              " Match({'ruleId': 'Hyphen_and_spaces', 'message': 'Перед дефисом не должно быть пробела: «форманта-град»', 'replacements': ['форманта-град'], 'offsetInContext': 43, 'context': '...осит искусственный характер — сочетание форманта -град с названием реки не имеет аналогов в ру...', 'offset': 56, 'errorLength': 14, 'category': 'PUNCTUATION', 'ruleIssueType': 'uncategorized', 'sentence': 'Новое название носит искусственный характер — сочетание форманта -град с названием реки не имеет аналогов в русскоязычной топонимии.'}),\n",
              " Match({'ruleId': 'ROST', 'message': 'Рост бывает у одушевлённых слов (человек большого роста), некого числа характеристик (рост показателей, рост качества, количества) и в некоторых устойчивых выражениях (рост экономики, преступности, безработицы).', 'replacements': [], 'offsetInContext': 29, 'context': 'Новым балансом, сдерживающим рост населения мира, будет низкая рождаемость, сохраня...', 'offset': 29, 'errorLength': 14, 'category': 'LOGIC', 'ruleIssueType': 'uncategorized', 'sentence': 'Новым балансом, сдерживающим рост населения мира, будет низкая рождаемость, сохраняющая небольшие изменения в размере населения Земли.'}),\n",
              " Match({'ruleId': 'ROST', 'message': 'Рост бывает у одушевлённых слов (человек большого роста), некого числа характеристик (рост показателей, рост качества, количества) и в некоторых устойчивых выражениях (рост экономики, преступности, безработицы).', 'replacements': [], 'offsetInContext': 29, 'context': 'Новым балансом, сдерживающим рост населения мира, будет низкая рождаемость, сохраня...', 'offset': 29, 'errorLength': 14, 'category': 'LOGIC', 'ruleIssueType': 'uncategorized', 'sentence': 'Новым балансом, сдерживающим рост населения мира, будет низкая рождаемость, сохраняющая небольшие изменения в размере населения Земли.'}),\n",
              " Match({'ruleId': 'WHITESPACE_RULE', 'message': 'Повтор пробела', 'replacements': [' '], 'offsetInContext': 43, 'context': '...количество акционеров ПАО «Уфаоргсинтез»  по состоянию на 31.12.2018 г. составляет...', 'offset': 46, 'errorLength': 2, 'category': 'TYPOGRAPHY', 'ruleIssueType': 'whitespace', 'sentence': 'Общее количество акционеров ПАО «Уфаоргсинтез»  по состоянию на 31.12.2018 г. составляет около 1300 лиц.'}),\n",
              " Match({'ruleId': 'MORFOLOGIK_RULE_RU_RU', 'message': 'Возможно найдена орфографическая ошибка.', 'replacements': ['Ткаченко', 'Карпенко', 'Яковенко', 'Скупенько'], 'offsetInContext': 43, 'context': '...а, и существовала вероятность того, что Шкапенко придется завершить карьеру.', 'offset': 132, 'errorLength': 8, 'category': 'TYPOS', 'ruleIssueType': 'misspelling', 'sentence': 'Одна из них была особенно неприятна — пришлось отрезать часть мышц передней поверхности бедра, и существовала вероятность того, что Шкапенко придется завершить карьеру.'}),\n",
              " Match({'ruleId': 'MORFOLOGIK_RULE_RU_RU', 'message': 'Возможно найдена орфографическая ошибка.', 'replacements': ['Ново', 'Ааво', 'Аво', 'Чаво', 'Буве', 'Б аво', 'Ба во'], 'offsetInContext': 43, 'context': '...ивоположной стороне улицы, в результате Баво не смог осуществить задуманное.', 'offset': 101, 'errorLength': 4, 'category': 'TYPOS', 'ruleIssueType': 'misspelling', 'sentence': 'Однако Гитлер в последний момент изменил план и пошёл по противоположной стороне улицы, в результате Баво не смог осуществить задуманное.'}),\n",
              " Match({'ruleId': 'MORFOLOGIK_RULE_RU_RU', 'message': 'Возможно найдена орфографическая ошибка.', 'replacements': ['Ново', 'Ааво', 'Аво', 'Чаво', 'Буве', 'Б аво', 'Ба во'], 'offsetInContext': 43, 'context': '...ивоположной стороне улицы, в результате Баво не смог осуществить задуманное.', 'offset': 101, 'errorLength': 4, 'category': 'TYPOS', 'ruleIssueType': 'misspelling', 'sentence': 'Однако Гитлер в последний момент изменил план и пошёл по противоположной стороне улицы, в результате Баво не смог осуществить задуманное.'}),\n",
              " Match({'ruleId': 'MORFOLOGIK_RULE_RU_RU', 'message': 'Возможно найдена орфографическая ошибка.', 'replacements': ['Ново', 'Ааво', 'Аво', 'Чаво', 'Буве', 'Б аво', 'Ба во'], 'offsetInContext': 43, 'context': '...ивоположной стороне улицы, в результате Баво не смог осуществить задуманное.', 'offset': 101, 'errorLength': 4, 'category': 'TYPOS', 'ruleIssueType': 'misspelling', 'sentence': 'Однако Гитлер в последний момент изменил план и пошёл по противоположной стороне улицы, в результате Баво не смог осуществить задуманное.'}),\n",
              " Match({'ruleId': 'MORFOLOGIK_RULE_RU_RU', 'message': 'Возможно найдена орфографическая ошибка.', 'replacements': ['Ново', 'Ааво', 'Аво', 'Чаво', 'Буве', 'Б аво', 'Ба во'], 'offsetInContext': 43, 'context': '...ивоположной стороне улицы, в результате Баво не смог осуществить задуманное.', 'offset': 101, 'errorLength': 4, 'category': 'TYPOS', 'ruleIssueType': 'misspelling', 'sentence': 'Однако Гитлер в последний момент изменил план и пошёл по противоположной стороне улицы, в результате Баво не смог осуществить задуманное.'}),\n",
              " Match({'ruleId': 'MORFOLOGIK_RULE_RU_RU', 'message': 'Возможно найдена орфографическая ошибка.', 'replacements': ['Хозяйка', 'Опера', 'Копейка', 'Алгебра', 'Богема', 'Довейко', 'Гера', 'Холера', 'Гомера', 'Мегера', 'Котяра', 'Соляра', 'Виейра', 'Югера', 'Агаяра', 'Агера', 'Алгебру', 'Багера', 'Бейра', 'Блогера', 'Блогеру', 'Богара', 'Богемца', 'Богемцу', 'Богемна', 'Богемно', 'Бугера', 'Цигейка', 'Цигейку', 'Добейко', 'Доггера', 'Доггеру', 'Догмара', 'Догмару', 'Дойра', 'Докера', 'Джейра', 'Двейра', 'Гейма', 'Гейях', 'Гейям', 'Гейран', 'Гейрат', 'Гейса', 'Гейза', 'Гейша', 'Герра', 'Гетра', 'Гофера', 'Гогара', 'Гогена', 'Ходейда', 'Ходейду', 'Хопера', 'Хозяйку', 'Йомера', 'Кагера', 'Кодера', 'Кофейка', 'Кофейку', 'Кофейна', 'Кофейно', 'Когерера', 'Койра', 'Кокера', 'Колера', 'Копейку', 'Копейна', 'Копейно', 'Корейца', 'Корейцу', 'Корейка', 'Корейку', 'Коретра', 'Коретру', 'Кошера', 'Лагера', 'Локера', 'Лорейда', 'Лорейду', 'Магера', 'Мгера', 'Могара', 'Мохера', 'Мойра', 'Моляра', 'Можейко', 'Нигера', 'Ногайца', 'Ногайцу', 'Ногайка', 'Ногайку', 'Номера', 'Одеяла', 'Одера', 'Офера', 'Огайца', 'Огняна', 'Омера', 'Онера', 'Осетра', 'Овеяла', 'Овеяна', 'Озера', 'Ошейка', 'Очера', 'Подера', 'Покера', 'Полякра', 'Полякру', 'Поляра', 'Позёра', 'Позера', 'Рокера', 'Ровера', 'Тонера', 'Вомера', 'Шофёра', 'Шофера', 'Эгера', 'Чокера', 'Бёргера', 'Мадейра', 'Нойса', 'Уокера', 'Жанейро'], 'offsetInContext': 28, 'context': 'Однако в течение боя именно Ногейра доминировал и в итоге одержал победу ед...', 'offset': 28, 'errorLength': 7, 'category': 'TYPOS', 'ruleIssueType': 'misspelling', 'sentence': 'Однако в течение боя именно Ногейра доминировал и в итоге одержал победу единогласным решением, нанеся Сергею первое поражение в карьере.'}),\n",
              " Match({'ruleId': 'MORFOLOGIK_RULE_RU_RU', 'message': 'Возможно найдена орфографическая ошибка.', 'replacements': ['Хозяйка', 'Опера', 'Копейка', 'Алгебра', 'Богема', 'Довейко', 'Гера', 'Холера', 'Гомера', 'Мегера', 'Котяра', 'Соляра', 'Виейра', 'Югера', 'Агаяра', 'Агера', 'Алгебру', 'Багера', 'Бейра', 'Блогера', 'Блогеру', 'Богара', 'Богемца', 'Богемцу', 'Богемна', 'Богемно', 'Бугера', 'Цигейка', 'Цигейку', 'Добейко', 'Доггера', 'Доггеру', 'Догмара', 'Догмару', 'Дойра', 'Докера', 'Джейра', 'Двейра', 'Гейма', 'Гейях', 'Гейям', 'Гейран', 'Гейрат', 'Гейса', 'Гейза', 'Гейша', 'Герра', 'Гетра', 'Гофера', 'Гогара', 'Гогена', 'Ходейда', 'Ходейду', 'Хопера', 'Хозяйку', 'Йомера', 'Кагера', 'Кодера', 'Кофейка', 'Кофейку', 'Кофейна', 'Кофейно', 'Когерера', 'Койра', 'Кокера', 'Колера', 'Копейку', 'Копейна', 'Копейно', 'Корейца', 'Корейцу', 'Корейка', 'Корейку', 'Коретра', 'Коретру', 'Кошера', 'Лагера', 'Локера', 'Лорейда', 'Лорейду', 'Магера', 'Мгера', 'Могара', 'Мохера', 'Мойра', 'Моляра', 'Можейко', 'Нигера', 'Ногайца', 'Ногайцу', 'Ногайка', 'Ногайку', 'Номера', 'Одеяла', 'Одера', 'Офера', 'Огайца', 'Огняна', 'Омера', 'Онера', 'Осетра', 'Овеяла', 'Овеяна', 'Озера', 'Ошейка', 'Очера', 'Подера', 'Покера', 'Полякра', 'Полякру', 'Поляра', 'Позёра', 'Позера', 'Рокера', 'Ровера', 'Тонера', 'Вомера', 'Шофёра', 'Шофера', 'Эгера', 'Чокера', 'Бёргера', 'Мадейра', 'Нойса', 'Уокера', 'Жанейро'], 'offsetInContext': 28, 'context': 'Однако в течение боя именно Ногейра доминировал и в итоге одержал победу ед...', 'offset': 28, 'errorLength': 7, 'category': 'TYPOS', 'ruleIssueType': 'misspelling', 'sentence': 'Однако в течение боя именно Ногейра доминировал и в итоге одержал победу единогласным решением, нанеся Сергею первое поражение в карьере.'}),\n",
              " Match({'ruleId': 'MORFOLOGIK_RULE_RU_RU', 'message': 'Возможно найдена орфографическая ошибка.', 'replacements': ['Гусинский', 'Путинский', 'Дубинский', 'Сочинский', 'Бунинский', 'Кубинский', 'Сушинский', 'Туринский', 'Щукинский', 'Анучинский', 'Арчинский', 'Ачинский', 'Бачинский', 'Буинский', 'Буринский', 'Дудинский', 'Губинский', 'Гущинский', 'Качинский', 'Кулинский', 'Купинский', 'Кусинский', 'Лунинский', 'Лупинский', 'Мученский', 'Пугинский', 'Пущинский', 'Русинский', 'Тужинский', 'Тувинский', 'Тушинский', 'Убинский', 'Удинский', 'Уинский', 'Унинский', 'Усинский', 'Увинский', 'Жуинский', 'Щучанский', 'Ломинский'], 'offsetInContext': 22, 'context': 'Однако во втором туре Лучинский, поддержанный левыми и центристскими си...', 'offset': 22, 'errorLength': 9, 'category': 'TYPOS', 'ruleIssueType': 'misspelling', 'sentence': 'Однако во втором туре Лучинский, поддержанный левыми и центристскими силами, набрал больше голосов, чем Снегур.'}),\n",
              " Match({'ruleId': 'MORFOLOGIK_RULE_RU_RU', 'message': 'Возможно найдена орфографическая ошибка.', 'replacements': ['Гусинский', 'Путинский', 'Дубинский', 'Сочинский', 'Бунинский', 'Кубинский', 'Сушинский', 'Туринский', 'Щукинский', 'Анучинский', 'Арчинский', 'Ачинский', 'Бачинский', 'Буинский', 'Буринский', 'Дудинский', 'Губинский', 'Гущинский', 'Качинский', 'Кулинский', 'Купинский', 'Кусинский', 'Лунинский', 'Лупинский', 'Мученский', 'Пугинский', 'Пущинский', 'Русинский', 'Тужинский', 'Тувинский', 'Тушинский', 'Убинский', 'Удинский', 'Уинский', 'Унинский', 'Усинский', 'Увинский', 'Жуинский', 'Щучанский', 'Ломинский'], 'offsetInContext': 22, 'context': 'Однако во втором туре Лучинский, поддержанный левыми и центристскими си...', 'offset': 22, 'errorLength': 9, 'category': 'TYPOS', 'ruleIssueType': 'misspelling', 'sentence': 'Однако во втором туре Лучинский, поддержанный левыми и центристскими силами, набрал больше голосов, чем Снегур.'}),\n",
              " Match({'ruleId': 'MORFOLOGIK_RULE_RU_RU', 'message': 'Возможно найдена орфографическая ошибка.', 'replacements': ['Гусинский', 'Путинский', 'Дубинский', 'Сочинский', 'Бунинский', 'Кубинский', 'Сушинский', 'Туринский', 'Щукинский', 'Анучинский', 'Арчинский', 'Ачинский', 'Бачинский', 'Буинский', 'Буринский', 'Дудинский', 'Губинский', 'Гущинский', 'Качинский', 'Кулинский', 'Купинский', 'Кусинский', 'Лунинский', 'Лупинский', 'Мученский', 'Пугинский', 'Пущинский', 'Русинский', 'Тужинский', 'Тувинский', 'Тушинский', 'Убинский', 'Удинский', 'Уинский', 'Унинский', 'Усинский', 'Увинский', 'Жуинский', 'Щучанский', 'Ломинский'], 'offsetInContext': 22, 'context': 'Однако во втором туре Лучинский, поддержанный левыми и центристскими си...', 'offset': 22, 'errorLength': 9, 'category': 'TYPOS', 'ruleIssueType': 'misspelling', 'sentence': 'Однако во втором туре Лучинский, поддержанный левыми и центристскими силами, набрал больше голосов, чем Снегур.'}),\n",
              " Match({'ruleId': 'MORFOLOGIK_RULE_RU_RU', 'message': 'Возможно найдена орфографическая ошибка.', 'replacements': ['Гусинский', 'Путинский', 'Дубинский', 'Сочинский', 'Бунинский', 'Кубинский', 'Сушинский', 'Туринский', 'Щукинский', 'Анучинский', 'Арчинский', 'Ачинский', 'Бачинский', 'Буинский', 'Буринский', 'Дудинский', 'Губинский', 'Гущинский', 'Качинский', 'Кулинский', 'Купинский', 'Кусинский', 'Лунинский', 'Лупинский', 'Мученский', 'Пугинский', 'Пущинский', 'Русинский', 'Тужинский', 'Тувинский', 'Тушинский', 'Убинский', 'Удинский', 'Уинский', 'Унинский', 'Усинский', 'Увинский', 'Жуинский', 'Щучанский', 'Ломинский'], 'offsetInContext': 22, 'context': 'Однако во втором туре Лучинский, поддержанный левыми и центристскими си...', 'offset': 22, 'errorLength': 9, 'category': 'TYPOS', 'ruleIssueType': 'misspelling', 'sentence': 'Однако во втором туре Лучинский, поддержанный левыми и центристскими силами, набрал больше голосов, чем Снегур.'}),\n",
              " Match({'ruleId': 'MORFOLOGIK_RULE_RU_RU', 'message': 'Возможно найдена орфографическая ошибка.', 'replacements': ['Гусинский', 'Путинский', 'Дубинский', 'Сочинский', 'Бунинский', 'Кубинский', 'Сушинский', 'Туринский', 'Щукинский', 'Анучинский', 'Арчинский', 'Ачинский', 'Бачинский', 'Буинский', 'Буринский', 'Дудинский', 'Губинский', 'Гущинский', 'Качинский', 'Кулинский', 'Купинский', 'Кусинский', 'Лунинский', 'Лупинский', 'Мученский', 'Пугинский', 'Пущинский', 'Русинский', 'Тужинский', 'Тувинский', 'Тушинский', 'Убинский', 'Удинский', 'Уинский', 'Унинский', 'Усинский', 'Увинский', 'Жуинский', 'Щучанский', 'Ломинский'], 'offsetInContext': 22, 'context': 'Однако во втором туре Лучинский, поддержанный левыми и центристскими си...', 'offset': 22, 'errorLength': 9, 'category': 'TYPOS', 'ruleIssueType': 'misspelling', 'sentence': 'Однако во втором туре Лучинский, поддержанный левыми и центристскими силами, набрал больше голосов, чем Снегур.'}),\n",
              " Match({'ruleId': 'MORFOLOGIK_RULE_RU_RU', 'message': 'Возможно найдена орфографическая ошибка.', 'replacements': ['Ни язова', 'Ниязов а'], 'offsetInContext': 43, 'context': '...а, укоренившиеся в правление президента Ниязова и продолжающиеся на момент составления ...', 'offset': 100, 'errorLength': 7, 'category': 'TYPOS', 'ruleIssueType': 'misspelling', 'sentence': 'Однако подчеркиваются систематические нарушения прав человека, укоренившиеся в правление президента Ниязова и продолжающиеся на момент составления доклада.'}),\n",
              " Match({'ruleId': 'MORFOLOGIK_RULE_RU_RU', 'message': 'Возможно найдена орфографическая ошибка.', 'replacements': ['Ни язова', 'Ниязов а'], 'offsetInContext': 43, 'context': '...а, укоренившиеся в правление президента Ниязова и продолжающиеся на момент составления ...', 'offset': 100, 'errorLength': 7, 'category': 'TYPOS', 'ruleIssueType': 'misspelling', 'sentence': 'Однако подчеркиваются систематические нарушения прав человека, укоренившиеся в правление президента Ниязова и продолжающиеся на момент составления доклада.'}),\n",
              " Match({'ruleId': 'MORFOLOGIK_RULE_RU_RU', 'message': 'Возможно найдена орфографическая ошибка.', 'replacements': ['Ни язова', 'Ниязов а'], 'offsetInContext': 43, 'context': '...а, укоренившиеся в правление президента Ниязова и продолжающиеся на момент составления ...', 'offset': 100, 'errorLength': 7, 'category': 'TYPOS', 'ruleIssueType': 'misspelling', 'sentence': 'Однако подчеркиваются систематические нарушения прав человека, укоренившиеся в правление президента Ниязова и продолжающиеся на момент составления доклада.'}),\n",
              " Match({'ruleId': 'MORFOLOGIK_RULE_RU_RU', 'message': 'Возможно найдена орфографическая ошибка.', 'replacements': ['Ахтамы', 'Фохтам', 'Фохтами', 'Фохтом', 'Куртамыш', 'Моутамы'], 'offsetInContext': 43, 'context': '...сле прихода к власти в Золотой Орде хан Тохтамыш стал проводить враждебную политику по о...', 'offset': 49, 'errorLength': 8, 'category': 'TYPOS', 'ruleIssueType': 'misspelling', 'sentence': 'Однако после прихода к власти в Золотой Орде хан Тохтамыш стал проводить враждебную политику по отношению к Мавераннахру.'}),\n",
              " Match({'ruleId': 'MORFOLOGIK_RULE_RU_RU', 'message': 'Возможно найдена орфографическая ошибка.', 'replacements': [], 'offsetInContext': 43, 'context': '...дить враждебную политику по отношению к Мавераннахру.', 'offset': 108, 'errorLength': 12, 'category': 'TYPOS', 'ruleIssueType': 'misspelling', 'sentence': 'Однако после прихода к власти в Золотой Орде хан Тохтамыш стал проводить враждебную политику по отношению к Мавераннахру.'}),\n",
              " Match({'ruleId': 'MORFOLOGIK_RULE_RU_RU', 'message': 'Возможно найдена орфографическая ошибка.', 'replacements': ['Ахтамы', 'Фохтам', 'Фохтами', 'Фохтом', 'Куртамыш', 'Моутамы'], 'offsetInContext': 43, 'context': '...сле прихода к власти в Золотой Орде хан Тохтамыш стал проводить враждебную политику по о...', 'offset': 49, 'errorLength': 8, 'category': 'TYPOS', 'ruleIssueType': 'misspelling', 'sentence': 'Однако после прихода к власти в Золотой Орде хан Тохтамыш стал проводить враждебную политику по отношению к Мавераннахру.'}),\n",
              " Match({'ruleId': 'MORFOLOGIK_RULE_RU_RU', 'message': 'Возможно найдена орфографическая ошибка.', 'replacements': [], 'offsetInContext': 43, 'context': '...дить враждебную политику по отношению к Мавераннахру.', 'offset': 108, 'errorLength': 12, 'category': 'TYPOS', 'ruleIssueType': 'misspelling', 'sentence': 'Однако после прихода к власти в Золотой Орде хан Тохтамыш стал проводить враждебную политику по отношению к Мавераннахру.'}),\n",
              " Match({'ruleId': 'MORFOLOGIK_RULE_RU_RU', 'message': 'Возможно найдена орфографическая ошибка.', 'replacements': ['Ахтамы', 'Фохтам', 'Фохтами', 'Фохтом', 'Куртамыш', 'Моутамы'], 'offsetInContext': 43, 'context': '...сле прихода к власти в Золотой Орде хан Тохтамыш стал проводить враждебную политику по о...', 'offset': 49, 'errorLength': 8, 'category': 'TYPOS', 'ruleIssueType': 'misspelling', 'sentence': 'Однако после прихода к власти в Золотой Орде хан Тохтамыш стал проводить враждебную политику по отношению к Мавераннахру.'}),\n",
              " Match({'ruleId': 'MORFOLOGIK_RULE_RU_RU', 'message': 'Возможно найдена орфографическая ошибка.', 'replacements': [], 'offsetInContext': 43, 'context': '...дить враждебную политику по отношению к Мавераннахру.', 'offset': 108, 'errorLength': 12, 'category': 'TYPOS', 'ruleIssueType': 'misspelling', 'sentence': 'Однако после прихода к власти в Золотой Орде хан Тохтамыш стал проводить враждебную политику по отношению к Мавераннахру.'}),\n",
              " Match({'ruleId': 'MORFOLOGIK_RULE_RU_RU', 'message': 'Возможно найдена орфографическая ошибка.', 'replacements': ['Ахтамы', 'Фохтам', 'Фохтами', 'Фохтом', 'Куртамыш', 'Моутамы'], 'offsetInContext': 43, 'context': '...сле прихода к власти в Золотой Орде хан Тохтамыш стал проводить враждебную политику по о...', 'offset': 49, 'errorLength': 8, 'category': 'TYPOS', 'ruleIssueType': 'misspelling', 'sentence': 'Однако после прихода к власти в Золотой Орде хан Тохтамыш стал проводить враждебную политику по отношению к Мавераннахру.'}),\n",
              " Match({'ruleId': 'MORFOLOGIK_RULE_RU_RU', 'message': 'Возможно найдена орфографическая ошибка.', 'replacements': [], 'offsetInContext': 43, 'context': '...дить враждебную политику по отношению к Мавераннахру.', 'offset': 108, 'errorLength': 12, 'category': 'TYPOS', 'ruleIssueType': 'misspelling', 'sentence': 'Однако после прихода к власти в Золотой Орде хан Тохтамыш стал проводить враждебную политику по отношению к Мавераннахру.'}),\n",
              " Match({'ruleId': 'MORFOLOGIK_RULE_RU_RU', 'message': 'Возможно найдена орфографическая ошибка.', 'replacements': ['Ахтамы', 'Фохтам', 'Фохтами', 'Фохтом', 'Куртамыш', 'Моутамы'], 'offsetInContext': 43, 'context': '...сле прихода к власти в Золотой Орде хан Тохтамыш стал проводить враждебную политику по о...', 'offset': 49, 'errorLength': 8, 'category': 'TYPOS', 'ruleIssueType': 'misspelling', 'sentence': 'Однако после прихода к власти в Золотой Орде хан Тохтамыш стал проводить враждебную политику по отношению к Мавераннахру.'}),\n",
              " Match({'ruleId': 'MORFOLOGIK_RULE_RU_RU', 'message': 'Возможно найдена орфографическая ошибка.', 'replacements': [], 'offsetInContext': 43, 'context': '...дить враждебную политику по отношению к Мавераннахру.', 'offset': 108, 'errorLength': 12, 'category': 'TYPOS', 'ruleIssueType': 'misspelling', 'sentence': 'Однако после прихода к власти в Золотой Орде хан Тохтамыш стал проводить враждебную политику по отношению к Мавераннахру.'}),\n",
              " Match({'ruleId': 'MORFOLOGIK_RULE_RU_RU', 'message': 'Возможно найдена орфографическая ошибка.', 'replacements': ['Горбачеве'], 'offsetInContext': 43, 'context': '...м из итогов расследования, начатого при Горбачёве, стало создание в Катыни мемориального ...', 'offset': 44, 'errorLength': 9, 'category': 'TYPOS', 'ruleIssueType': 'misspelling', 'sentence': 'Одним из итогов расследования, начатого при Горбачёве, стало создание в Катыни мемориального комплекса памяти жертв трагедии.'}),\n",
              " Match({'ruleId': 'MORFOLOGIK_RULE_RU_RU', 'message': 'Возможно найдена орфографическая ошибка.', 'replacements': ['Хатыни', 'Латыни', 'Каты ни'], 'offsetInContext': 43, 'context': '...ачатого при Горбачёве, стало создание в Катыни мемориального комплекса памяти жертв тр...', 'offset': 72, 'errorLength': 6, 'category': 'TYPOS', 'ruleIssueType': 'misspelling', 'sentence': 'Одним из итогов расследования, начатого при Горбачёве, стало создание в Катыни мемориального комплекса памяти жертв трагедии.'}),\n",
              " Match({'ruleId': 'MORFOLOGIK_RULE_RU_RU', 'message': 'Возможно найдена орфографическая ошибка.', 'replacements': ['Горбачеве'], 'offsetInContext': 43, 'context': '...м из итогов расследования, начатого при Горбачёве, стало создание в Катыни мемориального ...', 'offset': 44, 'errorLength': 9, 'category': 'TYPOS', 'ruleIssueType': 'misspelling', 'sentence': 'Одним из итогов расследования, начатого при Горбачёве, стало создание в Катыни мемориального комплекса памяти жертв трагедии.'}),\n",
              " Match({'ruleId': 'MORFOLOGIK_RULE_RU_RU', 'message': 'Возможно найдена орфографическая ошибка.', 'replacements': ['Хатыни', 'Латыни', 'Каты ни'], 'offsetInContext': 43, 'context': '...ачатого при Горбачёве, стало создание в Катыни мемориального комплекса памяти жертв тр...', 'offset': 72, 'errorLength': 6, 'category': 'TYPOS', 'ruleIssueType': 'misspelling', 'sentence': 'Одним из итогов расследования, начатого при Горбачёве, стало создание в Катыни мемориального комплекса памяти жертв трагедии.'}),\n",
              " Match({'ruleId': 'MORFOLOGIK_RULE_RU_RU', 'message': 'Возможно найдена орфографическая ошибка.', 'replacements': ['Горбачеве'], 'offsetInContext': 43, 'context': '...м из итогов расследования, начатого при Горбачёве, стало создание в Катыни мемориального ...', 'offset': 44, 'errorLength': 9, 'category': 'TYPOS', 'ruleIssueType': 'misspelling', 'sentence': 'Одним из итогов расследования, начатого при Горбачёве, стало создание в Катыни мемориального комплекса памяти жертв трагедии.'}),\n",
              " Match({'ruleId': 'MORFOLOGIK_RULE_RU_RU', 'message': 'Возможно найдена орфографическая ошибка.', 'replacements': ['Хатыни', 'Латыни', 'Каты ни'], 'offsetInContext': 43, 'context': '...ачатого при Горбачёве, стало создание в Катыни мемориального комплекса памяти жертв тр...', 'offset': 72, 'errorLength': 6, 'category': 'TYPOS', 'ruleIssueType': 'misspelling', 'sentence': 'Одним из итогов расследования, начатого при Горбачёве, стало создание в Катыни мемориального комплекса памяти жертв трагедии.'}),\n",
              " Match({'ruleId': 'MORFOLOGIK_RULE_RU_RU', 'message': 'Возможно найдена орфографическая ошибка.', 'replacements': ['Горбачеве'], 'offsetInContext': 43, 'context': '...м из итогов расследования, начатого при Горбачёве, стало создание в Катыни мемориального ...', 'offset': 44, 'errorLength': 9, 'category': 'TYPOS', 'ruleIssueType': 'misspelling', 'sentence': 'Одним из итогов расследования, начатого при Горбачёве, стало создание в Катыни мемориального комплекса памяти жертв трагедии.'}),\n",
              " Match({'ruleId': 'MORFOLOGIK_RULE_RU_RU', 'message': 'Возможно найдена орфографическая ошибка.', 'replacements': ['Хатыни', 'Латыни', 'Каты ни'], 'offsetInContext': 43, 'context': '...ачатого при Горбачёве, стало создание в Катыни мемориального комплекса памяти жертв тр...', 'offset': 72, 'errorLength': 6, 'category': 'TYPOS', 'ruleIssueType': 'misspelling', 'sentence': 'Одним из итогов расследования, начатого при Горбачёве, стало создание в Катыни мемориального комплекса памяти жертв трагедии.'}),\n",
              " Match({'ruleId': 'MORFOLOGIK_RULE_RU_RU', 'message': 'Возможно найдена орфографическая ошибка.', 'replacements': ['Горбачеве'], 'offsetInContext': 43, 'context': '...м из итогов расследования, начатого при Горбачёве, стало создание в Катыни мемориального ...', 'offset': 44, 'errorLength': 9, 'category': 'TYPOS', 'ruleIssueType': 'misspelling', 'sentence': 'Одним из итогов расследования, начатого при Горбачёве, стало создание в Катыни мемориального комплекса памяти жертв трагедии.'}),\n",
              " Match({'ruleId': 'MORFOLOGIK_RULE_RU_RU', 'message': 'Возможно найдена орфографическая ошибка.', 'replacements': ['Хатыни', 'Латыни', 'Каты ни'], 'offsetInContext': 43, 'context': '...ачатого при Горбачёве, стало создание в Катыни мемориального комплекса памяти жертв тр...', 'offset': 72, 'errorLength': 6, 'category': 'TYPOS', 'ruleIssueType': 'misspelling', 'sentence': 'Одним из итогов расследования, начатого при Горбачёве, стало создание в Катыни мемориального комплекса памяти жертв трагедии.'}),\n",
              " Match({'ruleId': 'MORFOLOGIK_RULE_RU_RU', 'message': 'Возможно найдена орфографическая ошибка.', 'replacements': ['Малфоя'], 'offsetInContext': 43, 'context': '...еменно Волан-де-Морт превратил поместье Малфоев в штаб-квартиру и задумал уничтожить Га...', 'offset': 46, 'errorLength': 7, 'category': 'TYPOS', 'ruleIssueType': 'misspelling', 'sentence': 'Одновременно Волан-де-Морт превратил поместье Малфоев в штаб-квартиру и задумал уничтожить Гарри и захватить Министерство магии.'}),\n",
              " Match({'ruleId': 'MORFOLOGIK_RULE_RU_RU', 'message': 'Возможно найдена орфографическая ошибка.', 'replacements': ['Норбертом', 'Сорбентом'], 'offsetInContext': 17, 'context': 'Описанные Джимом Корбеттом, известным охотником на тигров, подобны...', 'offset': 17, 'errorLength': 9, 'category': 'TYPOS', 'ruleIssueType': 'misspelling', 'sentence': 'Описанные Джимом Корбеттом, известным охотником на тигров, подобные случаи показывают, насколько драматичными и кровопролитными могут быть столкновения тигра с людьми.'}),\n",
              " Match({'ruleId': 'MORFOLOGIK_RULE_RU_RU', 'message': 'Возможно найдена орфографическая ошибка.', 'replacements': ['белорусы', 'бело руссы'], 'offsetInContext': 43, 'context': '...ял из 32 хозяйств, основное население — белоруссы.', 'offset': 99, 'errorLength': 9, 'category': 'TYPOS', 'ruleIssueType': 'misspelling', 'sentence': 'Основана в 1900 г. В 1926 году хутор Верх-Куендатский состоял из 32 хозяйств, основное население — белоруссы.'}),\n",
              " Match({'ruleId': 'MORFOLOGIK_RULE_RU_RU', 'message': 'Возможно найдена орфографическая ошибка.', 'replacements': ['Гринвича'], 'offsetInContext': 36, 'context': 'Основные силы повстанческого отряда Гриневича пошли на выручку товарищей, но натолкну...', 'offset': 36, 'errorLength': 9, 'category': 'TYPOS', 'ruleIssueType': 'misspelling', 'sentence': 'Основные силы повстанческого отряда Гриневича пошли на выручку товарищей, но натолкнулись на роту Смоленского запасного полка.'}),\n",
              " Match({'ruleId': 'MORFOLOGIK_RULE_RU_RU', 'message': 'Возможно найдена орфографическая ошибка.', 'replacements': ['Гринвича'], 'offsetInContext': 36, 'context': 'Основные силы повстанческого отряда Гриневича пошли на выручку товарищей, но натолкну...', 'offset': 36, 'errorLength': 9, 'category': 'TYPOS', 'ruleIssueType': 'misspelling', 'sentence': 'Основные силы повстанческого отряда Гриневича пошли на выручку товарищей, но натолкнулись на роту Смоленского запасного полка.'}),\n",
              " Match({'ruleId': 'MORFOLOGIK_RULE_RU_RU', 'message': 'Возможно найдена орфографическая ошибка.', 'replacements': ['координация'], 'offsetInContext': 43, 'context': '...азвития могут быть несколько замедлены, дискоординация является частым (но не обязательным) ди...', 'offset': 70, 'errorLength': 14, 'category': 'TYPOS', 'ruleIssueType': 'misspelling', 'sentence': 'Основные этапы двигательного развития могут быть несколько замедлены, дискоординация является частым (но не обязательным) диагностическим признаком.'}),\n",
              " Match({'ruleId': 'MORFOLOGIK_RULE_RU_RU', 'message': 'Возможно найдена орфографическая ошибка.', 'replacements': [], 'offsetInContext': 43, 'context': '...ивной собственности сельской общины, за крестьянами-собственниками.', 'offset': 124, 'errorLength': 26, 'category': 'TYPOS', 'ruleIssueType': 'misspelling', 'sentence': 'Основным направлением реформы было закрепление земель, прежде находившихся в коллективной собственности сельской общины, за крестьянами-собственниками.'}),\n",
              " Match({'ruleId': 'MORFOLOGIK_RULE_RU_RU', 'message': 'Возможно найдена орфографическая ошибка.', 'replacements': [], 'offsetInContext': 43, 'context': '...ивной собственности сельской общины, за крестьянами-собственниками.', 'offset': 124, 'errorLength': 26, 'category': 'TYPOS', 'ruleIssueType': 'misspelling', 'sentence': 'Основным направлением реформы было закрепление земель, прежде находившихся в коллективной собственности сельской общины, за крестьянами-собственниками.'}),\n",
              " Match({'ruleId': 'MORFOLOGIK_RULE_RU_RU', 'message': 'Возможно найдена орфографическая ошибка.', 'replacements': [], 'offsetInContext': 43, 'context': '...ивной собственности сельской общины, за крестьянами-собственниками.', 'offset': 124, 'errorLength': 26, 'category': 'TYPOS', 'ruleIssueType': 'misspelling', 'sentence': 'Основным направлением реформы было закрепление земель, прежде находившихся в коллективной собственности сельской общины, за крестьянами-собственниками.'}),\n",
              " Match({'ruleId': 'MORFOLOGIK_RULE_RU_RU', 'message': 'Возможно найдена орфографическая ошибка.', 'replacements': ['Шута', 'Ю шута'], 'offsetInContext': 43, 'context': '...вых ролевых игр, для которых на берегах Юшута ниже Мочалищ построен ролевой полигон «...', 'offset': 82, 'errorLength': 5, 'category': 'TYPOS', 'ruleIssueType': 'misspelling', 'sentence': 'Особой категорией являются поклонники полевых ролевых игр, для которых на берегах Юшута ниже Мочалищ построен ролевой полигон «Шелангер».'}),\n",
              " Match({'ruleId': 'MORFOLOGIK_RULE_RU_RU', 'message': 'Возможно найдена орфографическая ошибка.', 'replacements': ['Мозолищ', 'Мочалил', 'Мочалим', 'Мочалит', 'Мочалив', 'Почали', 'Молчалин'], 'offsetInContext': 43, 'context': '... игр, для которых на берегах Юшута ниже Мочалищ построен ролевой полигон «Шелангер».', 'offset': 93, 'errorLength': 7, 'category': 'TYPOS', 'ruleIssueType': 'misspelling', 'sentence': 'Особой категорией являются поклонники полевых ролевых игр, для которых на берегах Юшута ниже Мочалищ построен ролевой полигон «Шелангер».'}),\n",
              " Match({'ruleId': 'MORFOLOGIK_RULE_RU_RU', 'message': 'Возможно найдена орфографическая ошибка.', 'replacements': ['Фалангер', 'Меланжер'], 'offsetInContext': 43, 'context': '... ниже Мочалищ построен ролевой полигон «Шелангер».', 'offset': 127, 'errorLength': 8, 'category': 'TYPOS', 'ruleIssueType': 'misspelling', 'sentence': 'Особой категорией являются поклонники полевых ролевых игр, для которых на берегах Юшута ниже Мочалищ построен ролевой полигон «Шелангер».'}),\n",
              " Match({'ruleId': 'MORFOLOGIK_RULE_RU_RU', 'message': 'Возможно найдена орфографическая ошибка.', 'replacements': ['Шута', 'Ю шута'], 'offsetInContext': 43, 'context': '...вых ролевых игр, для которых на берегах Юшута ниже Мочалищ построен ролевой полигон «...', 'offset': 82, 'errorLength': 5, 'category': 'TYPOS', 'ruleIssueType': 'misspelling', 'sentence': 'Особой категорией являются поклонники полевых ролевых игр, для которых на берегах Юшута ниже Мочалищ построен ролевой полигон «Шелангер».'}),\n",
              " Match({'ruleId': 'MORFOLOGIK_RULE_RU_RU', 'message': 'Возможно найдена орфографическая ошибка.', 'replacements': ['Мозолищ', 'Мочалил', 'Мочалим', 'Мочалит', 'Мочалив', 'Почали', 'Молчалин'], 'offsetInContext': 43, 'context': '... игр, для которых на берегах Юшута ниже Мочалищ построен ролевой полигон «Шелангер».', 'offset': 93, 'errorLength': 7, 'category': 'TYPOS', 'ruleIssueType': 'misspelling', 'sentence': 'Особой категорией являются поклонники полевых ролевых игр, для которых на берегах Юшута ниже Мочалищ построен ролевой полигон «Шелангер».'}),\n",
              " Match({'ruleId': 'MORFOLOGIK_RULE_RU_RU', 'message': 'Возможно найдена орфографическая ошибка.', 'replacements': ['Фалангер', 'Меланжер'], 'offsetInContext': 43, 'context': '... ниже Мочалищ построен ролевой полигон «Шелангер».', 'offset': 127, 'errorLength': 8, 'category': 'TYPOS', 'ruleIssueType': 'misspelling', 'sentence': 'Особой категорией являются поклонники полевых ролевых игр, для которых на берегах Юшута ниже Мочалищ построен ролевой полигон «Шелангер».'}),\n",
              " Match({'ruleId': 'MORFOLOGIK_RULE_RU_RU', 'message': 'Возможно найдена орфографическая ошибка.', 'replacements': ['Гинзбурге', 'Индуре', 'Интерне', 'Лимбурге', 'Линуре', 'Сибуре', 'Танбуре', 'Тилбурге', 'Винберге', 'Винокурне', 'Зиннуре', 'Эдинбурге', 'Канберре', 'Кунгуре'], 'offsetInContext': 14, 'context': 'Оставленный в Кинбурне гарнизон не успел до холодов восстанови...', 'offset': 14, 'errorLength': 8, 'category': 'TYPOS', 'ruleIssueType': 'misspelling', 'sentence': 'Оставленный в Кинбурне гарнизон не успел до холодов восстановить сгоревшие в результате бомбардировки казармы, поэтому жил в землянках.'}),\n",
              " Match({'ruleId': 'MORFOLOGIK_RULE_RU_RU', 'message': 'Возможно найдена орфографическая ошибка.', 'replacements': ['Гинзбурге', 'Индуре', 'Интерне', 'Лимбурге', 'Линуре', 'Сибуре', 'Танбуре', 'Тилбурге', 'Винберге', 'Винокурне', 'Зиннуре', 'Эдинбурге', 'Канберре', 'Кунгуре'], 'offsetInContext': 14, 'context': 'Оставленный в Кинбурне гарнизон не успел до холодов восстанови...', 'offset': 14, 'errorLength': 8, 'category': 'TYPOS', 'ruleIssueType': 'misspelling', 'sentence': 'Оставленный в Кинбурне гарнизон не успел до холодов восстановить сгоревшие в результате бомбардировки казармы, поэтому жил в землянках.'}),\n",
              " Match({'ruleId': 'MORFOLOGIK_RULE_RU_RU', 'message': 'Возможно найдена орфографическая ошибка.', 'replacements': ['Гинзбурге', 'Индуре', 'Интерне', 'Лимбурге', 'Линуре', 'Сибуре', 'Танбуре', 'Тилбурге', 'Винберге', 'Винокурне', 'Зиннуре', 'Эдинбурге', 'Канберре', 'Кунгуре'], 'offsetInContext': 14, 'context': 'Оставленный в Кинбурне гарнизон не успел до холодов восстанови...', 'offset': 14, 'errorLength': 8, 'category': 'TYPOS', 'ruleIssueType': 'misspelling', 'sentence': 'Оставленный в Кинбурне гарнизон не успел до холодов восстановить сгоревшие в результате бомбардировки казармы, поэтому жил в землянках.'}),\n",
              " Match({'ruleId': 'MORFOLOGIK_RULE_RU_RU', 'message': 'Возможно найдена орфографическая ошибка.', 'replacements': ['Гинзбурге', 'Индуре', 'Интерне', 'Лимбурге', 'Линуре', 'Сибуре', 'Танбуре', 'Тилбурге', 'Винберге', 'Винокурне', 'Зиннуре', 'Эдинбурге', 'Канберре', 'Кунгуре'], 'offsetInContext': 14, 'context': 'Оставленный в Кинбурне гарнизон не успел до холодов восстанови...', 'offset': 14, 'errorLength': 8, 'category': 'TYPOS', 'ruleIssueType': 'misspelling', 'sentence': 'Оставленный в Кинбурне гарнизон не успел до холодов восстановить сгоревшие в результате бомбардировки казармы, поэтому жил в землянках.'}),\n",
              " Match({'ruleId': 'MORFOLOGIK_RULE_RU_RU', 'message': 'Возможно найдена орфографическая ошибка.', 'replacements': ['Гинзбурге', 'Индуре', 'Интерне', 'Лимбурге', 'Линуре', 'Сибуре', 'Танбуре', 'Тилбурге', 'Винберге', 'Винокурне', 'Зиннуре', 'Эдинбурге', 'Канберре', 'Кунгуре'], 'offsetInContext': 14, 'context': 'Оставленный в Кинбурне гарнизон не успел до холодов восстанови...', 'offset': 14, 'errorLength': 8, 'category': 'TYPOS', 'ruleIssueType': 'misspelling', 'sentence': 'Оставленный в Кинбурне гарнизон не успел до холодов восстановить сгоревшие в результате бомбардировки казармы, поэтому жил в землянках.'}),\n",
              " Match({'ruleId': 'MORFOLOGIK_RULE_RU_RU', 'message': 'Возможно найдена орфографическая ошибка.', 'replacements': ['Кикабидзе', 'Аскариде', 'Аскаридозе', 'Искариоте', 'Кариозе'], 'offsetInContext': 31, 'context': 'Отвечая на вопрос журналистов, Цискаридзе пояснил, что не женат и не спешит с бра...', 'offset': 31, 'errorLength': 10, 'category': 'TYPOS', 'ruleIssueType': 'misspelling', 'sentence': 'Отвечая на вопрос журналистов, Цискаридзе пояснил, что не женат и не спешит с браком.'}),\n",
              " Match({'ruleId': 'MORFOLOGIK_RULE_RU_RU', 'message': 'Возможно найдена орфографическая ошибка.', 'replacements': ['Кикабидзе', 'Аскариде', 'Аскаридозе', 'Искариоте', 'Кариозе'], 'offsetInContext': 31, 'context': 'Отвечая на вопрос журналистов, Цискаридзе пояснил, что не женат и не спешит с бра...', 'offset': 31, 'errorLength': 10, 'category': 'TYPOS', 'ruleIssueType': 'misspelling', 'sentence': 'Отвечая на вопрос журналистов, Цискаридзе пояснил, что не женат и не спешит с браком.'}),\n",
              " Match({'ruleId': 'MORFOLOGIK_RULE_RU_RU', 'message': 'Возможно найдена орфографическая ошибка.', 'replacements': ['Кикабидзе', 'Аскариде', 'Аскаридозе', 'Искариоте', 'Кариозе'], 'offsetInContext': 31, 'context': 'Отвечая на вопрос журналистов, Цискаридзе пояснил, что не женат и не спешит с бра...', 'offset': 31, 'errorLength': 10, 'category': 'TYPOS', 'ruleIssueType': 'misspelling', 'sentence': 'Отвечая на вопрос журналистов, Цискаридзе пояснил, что не женат и не спешит с браком.'}),\n",
              " Match({'ruleId': 'MORFOLOGIK_RULE_RU_RU', 'message': 'Возможно найдена орфографическая ошибка.', 'replacements': ['Кикабидзе', 'Аскариде', 'Аскаридозе', 'Искариоте', 'Кариозе'], 'offsetInContext': 31, 'context': 'Отвечая на вопрос журналистов, Цискаридзе пояснил, что не женат и не спешит с бра...', 'offset': 31, 'errorLength': 10, 'category': 'TYPOS', 'ruleIssueType': 'misspelling', 'sentence': 'Отвечая на вопрос журналистов, Цискаридзе пояснил, что не женат и не спешит с браком.'}),\n",
              " Match({'ruleId': 'MORFOLOGIK_RULE_RU_RU', 'message': 'Возможно найдена орфографическая ошибка.', 'replacements': ['Кикабидзе', 'Аскариде', 'Аскаридозе', 'Искариоте', 'Кариозе'], 'offsetInContext': 31, 'context': 'Отвечая на вопрос журналистов, Цискаридзе пояснил, что не женат и не спешит с бра...', 'offset': 31, 'errorLength': 10, 'category': 'TYPOS', 'ruleIssueType': 'misspelling', 'sentence': 'Отвечая на вопрос журналистов, Цискаридзе пояснил, что не женат и не спешит с браком.'}),\n",
              " Match({'ruleId': 'SENTENCE_WHITESPACE', 'message': 'Добавьте пробел между предложениями', 'replacements': [' Перечисление'], 'offsetInContext': 43, 'context': '...ечательности восточного берега Стамбула.Перечисление достопримечательностей, разбитое по вид...', 'offset': 64, 'errorLength': 12, 'category': 'TYPOGRAPHY', 'ruleIssueType': 'whitespace', 'sentence': 'Перечисление достопримечательностей, разбитое по видам сооружений и историческим периодам, приведено ниже.'}),\n",
              " Match({'ruleId': 'SENTENCE_WHITESPACE', 'message': 'Добавьте пробел между предложениями', 'replacements': [' Перечисление'], 'offsetInContext': 43, 'context': '...ечательности восточного берега Стамбула.Перечисление достопримечательностей, разбитое по вид...', 'offset': 64, 'errorLength': 12, 'category': 'TYPOGRAPHY', 'ruleIssueType': 'whitespace', 'sentence': 'Перечисление достопримечательностей, разбитое по видам сооружений и историческим периодам, приведено ниже.'}),\n",
              " Match({'ruleId': 'SENTENCE_WHITESPACE', 'message': 'Добавьте пробел между предложениями', 'replacements': [' Перечисление'], 'offsetInContext': 43, 'context': '...ечательности восточного берега Стамбула.Перечисление достопримечательностей, разбитое по вид...', 'offset': 64, 'errorLength': 12, 'category': 'TYPOGRAPHY', 'ruleIssueType': 'whitespace', 'sentence': 'Перечисление достопримечательностей, разбитое по видам сооружений и историческим периодам, приведено ниже.'}),\n",
              " Match({'ruleId': 'SENTENCE_WHITESPACE', 'message': 'Добавьте пробел между предложениями', 'replacements': [' Перечисление'], 'offsetInContext': 43, 'context': '...ечательности восточного берега Стамбула.Перечисление достопримечательностей, разбитое по вид...', 'offset': 64, 'errorLength': 12, 'category': 'TYPOGRAPHY', 'ruleIssueType': 'whitespace', 'sentence': 'Перечисление достопримечательностей, разбитое по видам сооружений и историческим периодам, приведено ниже.'}),\n",
              " Match({'ruleId': 'SENTENCE_WHITESPACE', 'message': 'Добавьте пробел между предложениями', 'replacements': [' Перечисление'], 'offsetInContext': 43, 'context': '...ечательности восточного берега Стамбула.Перечисление достопримечательностей, разбитое по вид...', 'offset': 64, 'errorLength': 12, 'category': 'TYPOGRAPHY', 'ruleIssueType': 'whitespace', 'sentence': 'Перечисление достопримечательностей, разбитое по видам сооружений и историческим периодам, приведено ниже.'}),\n",
              " Match({'ruleId': 'MORFOLOGIK_RULE_RU_RU', 'message': 'Возможно найдена орфографическая ошибка.', 'replacements': ['Гудзона', 'Гудзоне', 'Гудзону', 'Гуд зон'], 'offsetInContext': 43, 'context': '...аследственным имением Хайд-Парк на реке Гудзон и солидными пакетами акций в ряде уголь...', 'offset': 63, 'errorLength': 6, 'category': 'TYPOS', 'ruleIssueType': 'misspelling', 'sentence': 'Отец Рузвельта владел наследственным имением Хайд-Парк на реке Гудзон и солидными пакетами акций в ряде угольных и транспортных компаний.'}),\n",
              " Match({'ruleId': 'MORFOLOGIK_RULE_RU_RU', 'message': 'Возможно найдена орфографическая ошибка.', 'replacements': ['Гудзона', 'Гудзоне', 'Гудзону', 'Гуд зон'], 'offsetInContext': 43, 'context': '...аследственным имением Хайд-Парк на реке Гудзон и солидными пакетами акций в ряде уголь...', 'offset': 63, 'errorLength': 6, 'category': 'TYPOS', 'ruleIssueType': 'misspelling', 'sentence': 'Отец Рузвельта владел наследственным имением Хайд-Парк на реке Гудзон и солидными пакетами акций в ряде угольных и транспортных компаний.'}),\n",
              " Match({'ruleId': 'RU_UNPAIRED_BRACKETS', 'message': 'Непарный символ: «)» скорей всего пропущен', 'replacements': [], 'offsetInContext': 43, 'context': '...мать — поваром; старшая сестра — Рената (род.', 'offset': 101, 'errorLength': 1, 'category': 'PUNCTUATION', 'ruleIssueType': 'typographical', 'sentence': 'Отец работал барменом (умер, когда Агата была ещё ребёнком), мать — поваром; старшая сестра — Рената (род.'}),\n",
              " Match({'ruleId': 'RU_UNPAIRED_BRACKETS', 'message': 'Непарный символ: «)» скорей всего пропущен', 'replacements': [], 'offsetInContext': 43, 'context': '...мать — поваром; старшая сестра — Рената (род.', 'offset': 101, 'errorLength': 1, 'category': 'PUNCTUATION', 'ruleIssueType': 'typographical', 'sentence': 'Отец работал барменом (умер, когда Агата была ещё ребёнком), мать — поваром; старшая сестра — Рената (род.'}),\n",
              " Match({'ruleId': 'RU_UNPAIRED_BRACKETS', 'message': 'Непарный символ: «)» скорей всего пропущен', 'replacements': [], 'offsetInContext': 43, 'context': '...мать — поваром; старшая сестра — Рената (род.', 'offset': 101, 'errorLength': 1, 'category': 'PUNCTUATION', 'ruleIssueType': 'typographical', 'sentence': 'Отец работал барменом (умер, когда Агата была ещё ребёнком), мать — поваром; старшая сестра — Рената (род.'}),\n",
              " Match({'ruleId': 'RU_UNPAIRED_BRACKETS', 'message': 'Непарный символ: «)» скорей всего пропущен', 'replacements': [], 'offsetInContext': 43, 'context': '...мать — поваром; старшая сестра — Рената (род.', 'offset': 101, 'errorLength': 1, 'category': 'PUNCTUATION', 'ruleIssueType': 'typographical', 'sentence': 'Отец работал барменом (умер, когда Агата была ещё ребёнком), мать — поваром; старшая сестра — Рената (род.'}),\n",
              " Match({'ruleId': 'RU_UNPAIRED_BRACKETS', 'message': 'Непарный символ: «)» скорей всего пропущен', 'replacements': [], 'offsetInContext': 43, 'context': '...мать — поваром; старшая сестра — Рената (род.', 'offset': 101, 'errorLength': 1, 'category': 'PUNCTUATION', 'ruleIssueType': 'typographical', 'sentence': 'Отец работал барменом (умер, когда Агата была ещё ребёнком), мать — поваром; старшая сестра — Рената (род.'}),\n",
              " Match({'ruleId': 'MORFOLOGIK_RULE_RU_RU', 'message': 'Возможно найдена орфографическая ошибка.', 'replacements': ['ново присоединённых'], 'offsetInContext': 43, 'context': '...олее глубокий характер, нежели в прочих новоприсоединённых землях.', 'offset': 130, 'errorLength': 18, 'category': 'TYPOS', 'ruleIssueType': 'misspelling', 'sentence': 'Отличия общественного строя Новгородского государства от московских порядков носили куда более глубокий характер, нежели в прочих новоприсоединённых землях.'}),\n",
              " Match({'ruleId': 'MORFOLOGIK_RULE_RU_RU', 'message': 'Возможно найдена орфографическая ошибка.', 'replacements': ['ди вехи'], 'offsetInContext': 19, 'context': 'Официальный язык — дивехи, индоарийский язык, близкий к сингальск...', 'offset': 19, 'errorLength': 6, 'category': 'TYPOS', 'ruleIssueType': 'misspelling', 'sentence': 'Официальный язык — дивехи, индоарийский язык, близкий к сингальскому, с заимствованиями из арабского и английского языков.'}),\n",
              " Match({'ruleId': 'MORFOLOGIK_RULE_RU_RU', 'message': 'Возможно найдена орфографическая ошибка.', 'replacements': ['Кассореала', 'Кассореалу'], 'offsetInContext': 0, 'context': 'Пассарелла уехал из стана национальной команды, хо...', 'offset': 0, 'errorLength': 10, 'category': 'TYPOS', 'ruleIssueType': 'misspelling', 'sentence': 'Пассарелла уехал из стана национальной команды, хотя и остался в заявке сборной на первенстве мира.'}),\n",
              " Match({'ruleId': 'MORFOLOGIK_RULE_RU_RU', 'message': 'Возможно найдена орфографическая ошибка.', 'replacements': ['Кассореала', 'Кассореалу'], 'offsetInContext': 0, 'context': 'Пассарелла уехал из стана национальной команды, хо...', 'offset': 0, 'errorLength': 10, 'category': 'TYPOS', 'ruleIssueType': 'misspelling', 'sentence': 'Пассарелла уехал из стана национальной команды, хотя и остался в заявке сборной на первенстве мира.'}),\n",
              " Match({'ruleId': 'MORFOLOGIK_RULE_RU_RU', 'message': 'Возможно найдена орфографическая ошибка.', 'replacements': ['Пашин ян'], 'offsetInContext': 0, 'context': 'Пашинян заявлял, что отношения с Ираном будут н...', 'offset': 0, 'errorLength': 7, 'category': 'TYPOS', 'ruleIssueType': 'misspelling', 'sentence': 'Пашинян заявлял, что отношения с Ираном будут не просто сохранены, но и улучшены, несмотря на международные санкции против Ирана.'}),\n",
              " Match({'ruleId': 'MORFOLOGIK_RULE_RU_RU', 'message': 'Возможно найдена орфографическая ошибка.', 'replacements': [], 'offsetInContext': 43, 'context': '...спела речитативом и начала использовать ритм-компьютер в музыкальной аранжировке песен.', 'offset': 80, 'errorLength': 14, 'category': 'TYPOS', 'ruleIssueType': 'misspelling', 'sentence': 'Первая из эстрадных исполнителей России спела речитативом и начала использовать ритм-компьютер в музыкальной аранжировке песен.'}),\n",
              " Match({'ruleId': 'MORFOLOGIK_RULE_RU_RU', 'message': 'Возможно найдена орфографическая ошибка.', 'replacements': [], 'offsetInContext': 43, 'context': '...спела речитативом и начала использовать ритм-компьютер в музыкальной аранжировке песен.', 'offset': 80, 'errorLength': 14, 'category': 'TYPOS', 'ruleIssueType': 'misspelling', 'sentence': 'Первая из эстрадных исполнителей России спела речитативом и начала использовать ритм-компьютер в музыкальной аранжировке песен.'}),\n",
              " Match({'ruleId': 'MORFOLOGIK_RULE_RU_RU', 'message': 'Возможно найдена орфографическая ошибка.', 'replacements': [], 'offsetInContext': 43, 'context': '...спела речитативом и начала использовать ритм-компьютер в музыкальной аранжировке песен.', 'offset': 80, 'errorLength': 14, 'category': 'TYPOS', 'ruleIssueType': 'misspelling', 'sentence': 'Первая из эстрадных исполнителей России спела речитативом и начала использовать ритм-компьютер в музыкальной аранжировке песен.'}),\n",
              " Match({'ruleId': 'MORFOLOGIK_RULE_RU_RU', 'message': 'Возможно найдена орфографическая ошибка.', 'replacements': ['Голицынском'], 'offsetInContext': 43, 'context': '...е посадки картофеля, горчицы и табака в Царицынском регионе произошли в колонии Сарепта-на-...', 'offset': 76, 'errorLength': 11, 'category': 'TYPOS', 'ruleIssueType': 'misspelling', 'sentence': 'Первая школа, аптека, кофейня, первые посадки картофеля, горчицы и табака в Царицынском регионе произошли в колонии Сарепта-на-Волге.'}),\n",
              " Match({'ruleId': 'MORFOLOGIK_RULE_RU_RU', 'message': 'Возможно найдена орфографическая ошибка.', 'replacements': ['Лиа кат'], 'offsetInContext': 43, 'context': '...инна, первым премьер-министром страны — Лиакат Али Хан.', 'offset': 136, 'errorLength': 6, 'category': 'TYPOS', 'ruleIssueType': 'misspelling', 'sentence': 'Первым генерал-губернатором Пакистана в качестве самостоятельной административной единицы был Джинна, первым премьер-министром страны — Лиакат Али Хан.'}),\n",
              " Match({'ruleId': 'MORFOLOGIK_RULE_RU_RU', 'message': 'Возможно найдена орфографическая ошибка.', 'replacements': ['Лиа кат'], 'offsetInContext': 43, 'context': '...инна, первым премьер-министром страны — Лиакат Али Хан.', 'offset': 136, 'errorLength': 6, 'category': 'TYPOS', 'ruleIssueType': 'misspelling', 'sentence': 'Первым генерал-губернатором Пакистана в качестве самостоятельной административной единицы был Джинна, первым премьер-министром страны — Лиакат Али Хан.'}),\n",
              " Match({'ruleId': 'MORFOLOGIK_RULE_RU_RU', 'message': 'Возможно найдена орфографическая ошибка.', 'replacements': ['Лиа кат'], 'offsetInContext': 43, 'context': '...инна, первым премьер-министром страны — Лиакат Али Хан.', 'offset': 136, 'errorLength': 6, 'category': 'TYPOS', 'ruleIssueType': 'misspelling', 'sentence': 'Первым генерал-губернатором Пакистана в качестве самостоятельной административной единицы был Джинна, первым премьер-министром страны — Лиакат Али Хан.'}),\n",
              " Match({'ruleId': 'MORFOLOGIK_RULE_RU_RU', 'message': 'Возможно найдена орфографическая ошибка.', 'replacements': ['Лиа кат'], 'offsetInContext': 43, 'context': '...инна, первым премьер-министром страны — Лиакат Али Хан.', 'offset': 136, 'errorLength': 6, 'category': 'TYPOS', 'ruleIssueType': 'misspelling', 'sentence': 'Первым генерал-губернатором Пакистана в качестве самостоятельной административной единицы был Джинна, первым премьер-министром страны — Лиакат Али Хан.'}),\n",
              " Match({'ruleId': 'MORFOLOGIK_RULE_RU_RU', 'message': 'Возможно найдена орфографическая ошибка.', 'replacements': ['Лиа кат'], 'offsetInContext': 43, 'context': '...инна, первым премьер-министром страны — Лиакат Али Хан.', 'offset': 136, 'errorLength': 6, 'category': 'TYPOS', 'ruleIssueType': 'misspelling', 'sentence': 'Первым генерал-губернатором Пакистана в качестве самостоятельной административной единицы был Джинна, первым премьер-министром страны — Лиакат Али Хан.'}),\n",
              " Match({'ruleId': 'MORFOLOGIK_RULE_RU_RU', 'message': 'Возможно найдена орфографическая ошибка.', 'replacements': ['Юнионистская', 'Феминистская', 'Колонистская', 'Маринистская', 'Менонитская', 'Методистская', 'Нерасистская', 'Нероялистская', 'Нерусистская', 'Сионистская', 'Террористская', 'Уклонистская', 'Жирондистская'], 'offsetInContext': 0, 'context': 'Перонистская партия, возглавляемая Менемом, также од...', 'offset': 0, 'errorLength': 12, 'category': 'TYPOS', 'ruleIssueType': 'misspelling', 'sentence': 'Перонистская партия, возглавляемая Менемом, также одержала победу на выборах в конгресс и получила большинство в Палате депутатов.'}),\n",
              " Match({'ruleId': 'MORFOLOGIK_RULE_RU_RU', 'message': 'Возможно найдена орфографическая ошибка.', 'replacements': ['Менем ом'], 'offsetInContext': 35, 'context': 'Перонистская партия, возглавляемая Менемом, также одержала победу на выборах в кон...', 'offset': 35, 'errorLength': 7, 'category': 'TYPOS', 'ruleIssueType': 'misspelling', 'sentence': 'Перонистская партия, возглавляемая Менемом, также одержала победу на выборах в конгресс и получила большинство в Палате депутатов.'}),\n",
              " Match({'ruleId': 'MORFOLOGIK_RULE_RU_RU', 'message': 'Возможно найдена орфографическая ошибка.', 'replacements': ['Авет яна'], 'offsetInContext': 10, 'context': 'По словам Аветяна, азербайджанцы без стрельбы или нападен...', 'offset': 10, 'errorLength': 7, 'category': 'TYPOS', 'ruleIssueType': 'misspelling', 'sentence': 'По словам Аветяна, азербайджанцы без стрельбы или нападения расположились и потребовали освободить территорию, начались переговоры.'}),\n",
              " Match({'ruleId': 'MORFOLOGIK_RULE_RU_RU', 'message': 'Возможно найдена орфографическая ошибка.', 'replacements': ['Авет яна'], 'offsetInContext': 10, 'context': 'По словам Аветяна, азербайджанцы без стрельбы или нападен...', 'offset': 10, 'errorLength': 7, 'category': 'TYPOS', 'ruleIssueType': 'misspelling', 'sentence': 'По словам Аветяна, азербайджанцы без стрельбы или нападения расположились и потребовали освободить территорию, начались переговоры.'}),\n",
              " Match({'ruleId': 'MORFOLOGIK_RULE_RU_RU', 'message': 'Возможно найдена орфографическая ошибка.', 'replacements': ['Авет яна'], 'offsetInContext': 10, 'context': 'По словам Аветяна, азербайджанцы без стрельбы или нападен...', 'offset': 10, 'errorLength': 7, 'category': 'TYPOS', 'ruleIssueType': 'misspelling', 'sentence': 'По словам Аветяна, азербайджанцы без стрельбы или нападения расположились и потребовали освободить территорию, начались переговоры.'}),\n",
              " Match({'ruleId': 'MORFOLOGIK_RULE_RU_RU', 'message': 'Возможно найдена орфографическая ошибка.', 'replacements': ['Авет яна'], 'offsetInContext': 10, 'context': 'По словам Аветяна, азербайджанцы без стрельбы или нападен...', 'offset': 10, 'errorLength': 7, 'category': 'TYPOS', 'ruleIssueType': 'misspelling', 'sentence': 'По словам Аветяна, азербайджанцы без стрельбы или нападения расположились и потребовали освободить территорию, начались переговоры.'}),\n",
              " Match({'ruleId': 'MORFOLOGIK_RULE_RU_RU', 'message': 'Возможно найдена орфографическая ошибка.', 'replacements': ['Авет яна'], 'offsetInContext': 10, 'context': 'По словам Аветяна, азербайджанцы без стрельбы или нападен...', 'offset': 10, 'errorLength': 7, 'category': 'TYPOS', 'ruleIssueType': 'misspelling', 'sentence': 'По словам Аветяна, азербайджанцы без стрельбы или нападения расположились и потребовали освободить территорию, начались переговоры.'}),\n",
              " Match({'ruleId': 'MORFOLOGIK_RULE_RU_RU', 'message': 'Возможно найдена орфографическая ошибка.', 'replacements': [], 'offsetInContext': 12, 'context': 'Поднимается сине-жёлтый национальный флаг, и дети в национальны...', 'offset': 12, 'errorLength': 11, 'category': 'TYPOS', 'ruleIssueType': 'misspelling', 'sentence': 'Поднимается сине-жёлтый национальный флаг, и дети в национальных костюмах дарят королю и королеве букеты цветов.'}),\n",
              " Match({'ruleId': 'MORFOLOGIK_RULE_RU_RU', 'message': 'Возможно найдена орфографическая ошибка.', 'replacements': [], 'offsetInContext': 12, 'context': 'Поднимается сине-жёлтый национальный флаг, и дети в национальны...', 'offset': 12, 'errorLength': 11, 'category': 'TYPOS', 'ruleIssueType': 'misspelling', 'sentence': 'Поднимается сине-жёлтый национальный флаг, и дети в национальных костюмах дарят королю и королеве букеты цветов.'}),\n",
              " Match({'ruleId': 'MORFOLOGIK_RULE_RU_RU', 'message': 'Возможно найдена орфографическая ошибка.', 'replacements': [], 'offsetInContext': 12, 'context': 'Поднимается сине-жёлтый национальный флаг, и дети в национальны...', 'offset': 12, 'errorLength': 11, 'category': 'TYPOS', 'ruleIssueType': 'misspelling', 'sentence': 'Поднимается сине-жёлтый национальный флаг, и дети в национальных костюмах дарят королю и королеве букеты цветов.'}),\n",
              " Match({'ruleId': 'MORFOLOGIK_RULE_RU_RU', 'message': 'Возможно найдена орфографическая ошибка.', 'replacements': [], 'offsetInContext': 12, 'context': 'Поднимается сине-жёлтый национальный флаг, и дети в национальны...', 'offset': 12, 'errorLength': 11, 'category': 'TYPOS', 'ruleIssueType': 'misspelling', 'sentence': 'Поднимается сине-жёлтый национальный флаг, и дети в национальных костюмах дарят королю и королеве букеты цветов.'}),\n",
              " Match({'ruleId': 'MORFOLOGIK_RULE_RU_RU', 'message': 'Возможно найдена орфографическая ошибка.', 'replacements': [], 'offsetInContext': 12, 'context': 'Поднимается сине-жёлтый национальный флаг, и дети в национальны...', 'offset': 12, 'errorLength': 11, 'category': 'TYPOS', 'ruleIssueType': 'misspelling', 'sentence': 'Поднимается сине-жёлтый национальный флаг, и дети в национальных костюмах дарят королю и королеве букеты цветов.'}),\n",
              " Match({'ruleId': 'MORFOLOGIK_RULE_RU_RU', 'message': 'Возможно найдена орфографическая ошибка.', 'replacements': ['канауса', 'канториса', 'канторису'], 'offsetInContext': 43, 'context': '... спиртного, табакокурение, употребление каннабиса, малоподвижный образ жизни.', 'offset': 105, 'errorLength': 9, 'category': 'TYPOS', 'ruleIssueType': 'misspelling', 'sentence': 'Показано также, что потере объёма мозга способствуют употребление спиртного, табакокурение, употребление каннабиса, малоподвижный образ жизни.'}),\n",
              " Match({'ruleId': 'MORFOLOGIK_RULE_RU_RU', 'message': 'Возможно найдена орфографическая ошибка.', 'replacements': ['канауса', 'канториса', 'канторису'], 'offsetInContext': 43, 'context': '... спиртного, табакокурение, употребление каннабиса, малоподвижный образ жизни.', 'offset': 105, 'errorLength': 9, 'category': 'TYPOS', 'ruleIssueType': 'misspelling', 'sentence': 'Показано также, что потере объёма мозга способствуют употребление спиртного, табакокурение, употребление каннабиса, малоподвижный образ жизни.'}),\n",
              " Match({'ruleId': 'MORFOLOGIK_RULE_RU_RU', 'message': 'Возможно найдена орфографическая ошибка.', 'replacements': ['канауса', 'канториса', 'канторису'], 'offsetInContext': 43, 'context': '... спиртного, табакокурение, употребление каннабиса, малоподвижный образ жизни.', 'offset': 105, 'errorLength': 9, 'category': 'TYPOS', 'ruleIssueType': 'misspelling', 'sentence': 'Показано также, что потере объёма мозга способствуют употребление спиртного, табакокурение, употребление каннабиса, малоподвижный образ жизни.'}),\n",
              " Match({'ruleId': 'MORFOLOGIK_RULE_RU_RU', 'message': 'Возможно найдена орфографическая ошибка.', 'replacements': ['канауса', 'канториса', 'канторису'], 'offsetInContext': 43, 'context': '... спиртного, табакокурение, употребление каннабиса, малоподвижный образ жизни.', 'offset': 105, 'errorLength': 9, 'category': 'TYPOS', 'ruleIssueType': 'misspelling', 'sentence': 'Показано также, что потере объёма мозга способствуют употребление спиртного, табакокурение, употребление каннабиса, малоподвижный образ жизни.'}),\n",
              " Match({'ruleId': 'MORFOLOGIK_RULE_RU_RU', 'message': 'Возможно найдена орфографическая ошибка.', 'replacements': ['канауса', 'канториса', 'канторису'], 'offsetInContext': 43, 'context': '... спиртного, табакокурение, употребление каннабиса, малоподвижный образ жизни.', 'offset': 105, 'errorLength': 9, 'category': 'TYPOS', 'ruleIssueType': 'misspelling', 'sentence': 'Показано также, что потере объёма мозга способствуют употребление спиртного, табакокурение, употребление каннабиса, малоподвижный образ жизни.'}),\n",
              " Match({'ruleId': 'ROST', 'message': 'Рост бывает у одушевлённых слов (человек большого роста), некого числа характеристик (рост показателей, рост качества, количества) и в некоторых устойчивых выражениях (рост экономики, преступности, безработицы).', 'replacements': [], 'offsetInContext': 14, 'context': 'Полагают, что рост дипломатического влияния России мог стать следствием вакуума, об...', 'offset': 14, 'errorLength': 29, 'category': 'LOGIC', 'ruleIssueType': 'uncategorized', 'sentence': 'Полагают, что рост дипломатического влияния России мог стать следствием вакуума, образовавшегося из-за отсутствия у стран Запада чёткой политики.'}),\n",
              " Match({'ruleId': 'ROST', 'message': 'Рост бывает у одушевлённых слов (человек большого роста), некого числа характеристик (рост показателей, рост качества, количества) и в некоторых устойчивых выражениях (рост экономики, преступности, безработицы).', 'replacements': [], 'offsetInContext': 14, 'context': 'Полагают, что рост дипломатического влияния России мог стать следствием вакуума, об...', 'offset': 14, 'errorLength': 29, 'category': 'LOGIC', 'ruleIssueType': 'uncategorized', 'sentence': 'Полагают, что рост дипломатического влияния России мог стать следствием вакуума, образовавшегося из-за отсутствия у стран Запада чёткой политики.'}),\n",
              " Match({'ruleId': 'ROST', 'message': 'Рост бывает у одушевлённых слов (человек большого роста), некого числа характеристик (рост показателей, рост качества, количества) и в некоторых устойчивых выражениях (рост экономики, преступности, безработицы).', 'replacements': [], 'offsetInContext': 14, 'context': 'Полагают, что рост дипломатического влияния России мог стать следствием вакуума, об...', 'offset': 14, 'errorLength': 29, 'category': 'LOGIC', 'ruleIssueType': 'uncategorized', 'sentence': 'Полагают, что рост дипломатического влияния России мог стать следствием вакуума, образовавшегося из-за отсутствия у стран Запада чёткой политики.'}),\n",
              " Match({'ruleId': 'ROST', 'message': 'Рост бывает у одушевлённых слов (человек большого роста), некого числа характеристик (рост показателей, рост качества, количества) и в некоторых устойчивых выражениях (рост экономики, преступности, безработицы).', 'replacements': [], 'offsetInContext': 14, 'context': 'Полагают, что рост дипломатического влияния России мог стать следствием вакуума, об...', 'offset': 14, 'errorLength': 29, 'category': 'LOGIC', 'ruleIssueType': 'uncategorized', 'sentence': 'Полагают, что рост дипломатического влияния России мог стать следствием вакуума, образовавшегося из-за отсутствия у стран Запада чёткой политики.'}),\n",
              " Match({'ruleId': 'ROST', 'message': 'Рост бывает у одушевлённых слов (человек большого роста), некого числа характеристик (рост показателей, рост качества, количества) и в некоторых устойчивых выражениях (рост экономики, преступности, безработицы).', 'replacements': [], 'offsetInContext': 14, 'context': 'Полагают, что рост дипломатического влияния России мог стать следствием вакуума, об...', 'offset': 14, 'errorLength': 29, 'category': 'LOGIC', 'ruleIssueType': 'uncategorized', 'sentence': 'Полагают, что рост дипломатического влияния России мог стать следствием вакуума, образовавшегося из-за отсутствия у стран Запада чёткой политики.'}),\n",
              " Match({'ruleId': 'MORFOLOGIK_RULE_RU_RU', 'message': 'Возможно найдена орфографическая ошибка.', 'replacements': ['Болотбеков', 'Болотнов', 'Болштейнов', 'Голоценов', 'Молебнов', 'Полотёрно', 'Полотёрною', 'Полотёрное', 'Полотёрной', 'Полотёрном', 'Полотёров', 'Полотенною', 'Полотенное', 'Полотенной', 'Полотенном', 'Полотерно', 'Полотерною', 'Полотерное', 'Полотерной', 'Полотерном', 'Полотеров'], 'offsetInContext': 0, 'context': 'Полотебнов, выяснив лечебное действие плесени на г...', 'offset': 0, 'errorLength': 10, 'category': 'TYPOS', 'ruleIssueType': 'misspelling', 'sentence': 'Полотебнов, выяснив лечебное действие плесени на гнойные раны и язвы, рекомендовал использовать плесень для лечения кожных заболеваний.'}),\n",
              " Match({'ruleId': 'MORFOLOGIK_RULE_RU_RU', 'message': 'Возможно найдена орфографическая ошибка.', 'replacements': ['Болотбеков', 'Болотнов', 'Болштейнов', 'Голоценов', 'Молебнов', 'Полотёрно', 'Полотёрною', 'Полотёрное', 'Полотёрной', 'Полотёрном', 'Полотёров', 'Полотенною', 'Полотенное', 'Полотенной', 'Полотенном', 'Полотерно', 'Полотерною', 'Полотерное', 'Полотерной', 'Полотерном', 'Полотеров'], 'offsetInContext': 0, 'context': 'Полотебнов, выяснив лечебное действие плесени на г...', 'offset': 0, 'errorLength': 10, 'category': 'TYPOS', 'ruleIssueType': 'misspelling', 'sentence': 'Полотебнов, выяснив лечебное действие плесени на гнойные раны и язвы, рекомендовал использовать плесень для лечения кожных заболеваний.'}),\n",
              " Match({'ruleId': 'MORFOLOGIK_RULE_RU_RU', 'message': 'Возможно найдена орфографическая ошибка.', 'replacements': ['Болотбеков', 'Болотнов', 'Болштейнов', 'Голоценов', 'Молебнов', 'Полотёрно', 'Полотёрною', 'Полотёрное', 'Полотёрной', 'Полотёрном', 'Полотёров', 'Полотенною', 'Полотенное', 'Полотенной', 'Полотенном', 'Полотерно', 'Полотерною', 'Полотерное', 'Полотерной', 'Полотерном', 'Полотеров'], 'offsetInContext': 0, 'context': 'Полотебнов, выяснив лечебное действие плесени на г...', 'offset': 0, 'errorLength': 10, 'category': 'TYPOS', 'ruleIssueType': 'misspelling', 'sentence': 'Полотебнов, выяснив лечебное действие плесени на гнойные раны и язвы, рекомендовал использовать плесень для лечения кожных заболеваний.'}),\n",
              " Match({'ruleId': 'MORFOLOGIK_RULE_RU_RU', 'message': 'Возможно найдена орфографическая ошибка.', 'replacements': ['Болотбеков', 'Болотнов', 'Болштейнов', 'Голоценов', 'Молебнов', 'Полотёрно', 'Полотёрною', 'Полотёрное', 'Полотёрной', 'Полотёрном', 'Полотёров', 'Полотенною', 'Полотенное', 'Полотенной', 'Полотенном', 'Полотерно', 'Полотерною', 'Полотерное', 'Полотерной', 'Полотерном', 'Полотеров'], 'offsetInContext': 0, 'context': 'Полотебнов, выяснив лечебное действие плесени на г...', 'offset': 0, 'errorLength': 10, 'category': 'TYPOS', 'ruleIssueType': 'misspelling', 'sentence': 'Полотебнов, выяснив лечебное действие плесени на гнойные раны и язвы, рекомендовал использовать плесень для лечения кожных заболеваний.'}),\n",
              " Match({'ruleId': 'MORFOLOGIK_RULE_RU_RU', 'message': 'Возможно найдена орфографическая ошибка.', 'replacements': ['Болотбеков', 'Болотнов', 'Болштейнов', 'Голоценов', 'Молебнов', 'Полотёрно', 'Полотёрною', 'Полотёрное', 'Полотёрной', 'Полотёрном', 'Полотёров', 'Полотенною', 'Полотенное', 'Полотенной', 'Полотенном', 'Полотерно', 'Полотерною', 'Полотерное', 'Полотерной', 'Полотерном', 'Полотеров'], 'offsetInContext': 0, 'context': 'Полотебнов, выяснив лечебное действие плесени на г...', 'offset': 0, 'errorLength': 10, 'category': 'TYPOS', 'ruleIssueType': 'misspelling', 'sentence': 'Полотебнов, выяснив лечебное действие плесени на гнойные раны и язвы, рекомендовал использовать плесень для лечения кожных заболеваний.'}),\n",
              " Match({'ruleId': 'PREP_U_and_Noun', 'message': 'Предлог «для» предполагает употребление существительного в родительном падеже: «для авиатехников» или «авиатехники»', 'replacements': ['для авиатехников', 'авиатехники'], 'offsetInContext': 43, 'context': '...ок средства позволяли закупать запчасти для авиатехники, улучшать подготовку летного состава, с...', 'offset': 74, 'errorLength': 15, 'category': 'GRAMMAR', 'ruleIssueType': 'uncategorized', 'sentence': 'Получаемые от коммерческих перевозок средства позволяли закупать запчасти для авиатехники, улучшать подготовку летного состава, строить жилье и решать другие проблемы.'}),\n",
              " Match({'ruleId': 'PREP_U_and_Noun', 'message': 'Предлог «для» предполагает употребление существительного в родительном падеже: «для авиатехников» или «авиатехники»', 'replacements': ['для авиатехников', 'авиатехники'], 'offsetInContext': 43, 'context': '...ок средства позволяли закупать запчасти для авиатехники, улучшать подготовку летного состава, с...', 'offset': 74, 'errorLength': 15, 'category': 'GRAMMAR', 'ruleIssueType': 'uncategorized', 'sentence': 'Получаемые от коммерческих перевозок средства позволяли закупать запчасти для авиатехники, улучшать подготовку летного состава, строить жилье и решать другие проблемы.'}),\n",
              " Match({'ruleId': 'PREP_U_and_Noun', 'message': 'Предлог «для» предполагает употребление существительного в родительном падеже: «для авиатехников» или «авиатехники»', 'replacements': ['для авиатехников', 'авиатехники'], 'offsetInContext': 43, 'context': '...ок средства позволяли закупать запчасти для авиатехники, улучшать подготовку летного состава, с...', 'offset': 74, 'errorLength': 15, 'category': 'GRAMMAR', 'ruleIssueType': 'uncategorized', 'sentence': 'Получаемые от коммерческих перевозок средства позволяли закупать запчасти для авиатехники, улучшать подготовку летного состава, строить жилье и решать другие проблемы.'}),\n",
              " Match({'ruleId': 'PREP_U_and_Noun', 'message': 'Предлог «для» предполагает употребление существительного в родительном падеже: «для авиатехников» или «авиатехники»', 'replacements': ['для авиатехников', 'авиатехники'], 'offsetInContext': 43, 'context': '...ок средства позволяли закупать запчасти для авиатехники, улучшать подготовку летного состава, с...', 'offset': 74, 'errorLength': 15, 'category': 'GRAMMAR', 'ruleIssueType': 'uncategorized', 'sentence': 'Получаемые от коммерческих перевозок средства позволяли закупать запчасти для авиатехники, улучшать подготовку летного состава, строить жилье и решать другие проблемы.'}),\n",
              " Match({'ruleId': 'PREP_U_and_Noun', 'message': 'Предлог «для» предполагает употребление существительного в родительном падеже: «для авиатехников» или «авиатехники»', 'replacements': ['для авиатехников', 'авиатехники'], 'offsetInContext': 43, 'context': '...ок средства позволяли закупать запчасти для авиатехники, улучшать подготовку летного состава, с...', 'offset': 74, 'errorLength': 15, 'category': 'GRAMMAR', 'ruleIssueType': 'uncategorized', 'sentence': 'Получаемые от коммерческих перевозок средства позволяли закупать запчасти для авиатехники, улучшать подготовку летного состава, строить жилье и решать другие проблемы.'}),\n",
              " Match({'ruleId': 'MORFOLOGIK_RULE_RU_RU', 'message': 'Возможно найдена орфографическая ошибка.', 'replacements': [], 'offsetInContext': 43, 'context': '...нов известен и случай политизированного антицезарианского выступления мима в театре; вероятно, вы...', 'offset': 76, 'errorLength': 17, 'category': 'TYPOS', 'ruleIssueType': 'misspelling', 'sentence': 'Помимо фрондирования отдельных трибунов известен и случай политизированного антицезарианского выступления мима в театре; вероятно, выпускались и политические памфлеты.'}),\n",
              " Match({'ruleId': 'MORFOLOGIK_RULE_RU_RU', 'message': 'Возможно найдена орфографическая ошибка.', 'replacements': [], 'offsetInContext': 43, 'context': '...нов известен и случай политизированного антицезарианского выступления мима в театре; вероятно, вы...', 'offset': 76, 'errorLength': 17, 'category': 'TYPOS', 'ruleIssueType': 'misspelling', 'sentence': 'Помимо фрондирования отдельных трибунов известен и случай политизированного антицезарианского выступления мима в театре; вероятно, выпускались и политические памфлеты.'}),\n",
              " Match({'ruleId': 'MORFOLOGIK_RULE_RU_RU', 'message': 'Возможно найдена орфографическая ошибка.', 'replacements': [], 'offsetInContext': 43, 'context': '...нов известен и случай политизированного антицезарианского выступления мима в театре; вероятно, вы...', 'offset': 76, 'errorLength': 17, 'category': 'TYPOS', 'ruleIssueType': 'misspelling', 'sentence': 'Помимо фрондирования отдельных трибунов известен и случай политизированного антицезарианского выступления мима в театре; вероятно, выпускались и политические памфлеты.'}),\n",
              " Match({'ruleId': 'MORFOLOGIK_RULE_RU_RU', 'message': 'Возможно найдена орфографическая ошибка.', 'replacements': [], 'offsetInContext': 43, 'context': '...нов известен и случай политизированного антицезарианского выступления мима в театре; вероятно, вы...', 'offset': 76, 'errorLength': 17, 'category': 'TYPOS', 'ruleIssueType': 'misspelling', 'sentence': 'Помимо фрондирования отдельных трибунов известен и случай политизированного антицезарианского выступления мима в театре; вероятно, выпускались и политические памфлеты.'}),\n",
              " Match({'ruleId': 'MORFOLOGIK_RULE_RU_RU', 'message': 'Возможно найдена орфографическая ошибка.', 'replacements': [], 'offsetInContext': 43, 'context': '...нов известен и случай политизированного антицезарианского выступления мима в театре; вероятно, вы...', 'offset': 76, 'errorLength': 17, 'category': 'TYPOS', 'ruleIssueType': 'misspelling', 'sentence': 'Помимо фрондирования отдельных трибунов известен и случай политизированного антицезарианского выступления мима в театре; вероятно, выпускались и политические памфлеты.'}),\n",
              " Match({'ruleId': 'MORFOLOGIK_RULE_RU_RU', 'message': 'Возможно найдена орфографическая ошибка.', 'replacements': ['Лёсс', 'Лесс', 'Месс', 'Гесс', 'Хе сс'], 'offsetInContext': 12, 'context': 'После войны Хесс возобновила концертную деятельность, в ...', 'offset': 12, 'errorLength': 4, 'category': 'TYPOS', 'ruleIssueType': 'misspelling', 'sentence': 'После войны Хесс возобновила концертную деятельность, в частности, в США, где в Карнеги-холле с 1946 по 1954 годы сыграла четырнадцать сольных концертов.'}),\n",
              " Match({'ruleId': 'MORFOLOGIK_RULE_RU_RU', 'message': 'Возможно найдена орфографическая ошибка.', 'replacements': ['Карнеги-холл е'], 'offsetInContext': 43, 'context': '...деятельность, в частности, в США, где в Карнеги-холле с 1946 по 1954 годы сыграла четырнадцат...', 'offset': 80, 'errorLength': 13, 'category': 'TYPOS', 'ruleIssueType': 'misspelling', 'sentence': 'После войны Хесс возобновила концертную деятельность, в частности, в США, где в Карнеги-холле с 1946 по 1954 годы сыграла четырнадцать сольных концертов.'}),\n",
              " Match({'ruleId': 'MORFOLOGIK_RULE_RU_RU', 'message': 'Возможно найдена орфографическая ошибка.', 'replacements': ['Лёсс', 'Лесс', 'Месс', 'Гесс', 'Хе сс'], 'offsetInContext': 12, 'context': 'После войны Хесс возобновила концертную деятельность, в ...', 'offset': 12, 'errorLength': 4, 'category': 'TYPOS', 'ruleIssueType': 'misspelling', 'sentence': 'После войны Хесс возобновила концертную деятельность, в частности, в США, где в Карнеги-холле с 1946 по 1954 годы сыграла четырнадцать сольных концертов.'}),\n",
              " Match({'ruleId': 'MORFOLOGIK_RULE_RU_RU', 'message': 'Возможно найдена орфографическая ошибка.', 'replacements': ['Карнеги-холл е'], 'offsetInContext': 43, 'context': '...деятельность, в частности, в США, где в Карнеги-холле с 1946 по 1954 годы сыграла четырнадцат...', 'offset': 80, 'errorLength': 13, 'category': 'TYPOS', 'ruleIssueType': 'misspelling', 'sentence': 'После войны Хесс возобновила концертную деятельность, в частности, в США, где в Карнеги-холле с 1946 по 1954 годы сыграла четырнадцать сольных концертов.'}),\n",
              " Match({'ruleId': 'MORFOLOGIK_RULE_RU_RU', 'message': 'Возможно найдена орфографическая ошибка.', 'replacements': ['Рив з'], 'offsetInContext': 33, 'context': 'После нескольких маленьких ролей Ривз получил более заметную роль в драме 198...', 'offset': 33, 'errorLength': 4, 'category': 'TYPOS', 'ruleIssueType': 'misspelling', 'sentence': 'После нескольких маленьких ролей Ривз получил более заметную роль в драме 1986 года «На берегу реки», основанной на реальных событиях и повествующей о душевных страданиях и муках совести в группе подростков, причиной которых стало убийство их подруги одним из них.'}),\n",
              " Match({'ruleId': 'MORFOLOGIK_RULE_RU_RU', 'message': 'Возможно найдена орфографическая ошибка.', 'replacements': ['Ремонта'], 'offsetInContext': 43, 'context': '...о долине, затем атаковал и разбил отряд Фримонта.', 'offset': 98, 'errorLength': 8, 'category': 'TYPOS', 'ruleIssueType': 'misspelling', 'sentence': 'После первого неудачного сражения Джексон отступил на юг по долине, затем атаковал и разбил отряд Фримонта.'}),\n",
              " Match({'ruleId': 'MORFOLOGIK_RULE_RU_RU', 'message': 'Возможно найдена орфографическая ошибка.', 'replacements': ['Ремонта'], 'offsetInContext': 43, 'context': '...о долине, затем атаковал и разбил отряд Фримонта.', 'offset': 98, 'errorLength': 8, 'category': 'TYPOS', 'ruleIssueType': 'misspelling', 'sentence': 'После первого неудачного сражения Джексон отступил на юг по долине, затем атаковал и разбил отряд Фримонта.'}),\n",
              " Match({'ruleId': 'MORFOLOGIK_RULE_RU_RU', 'message': 'Возможно найдена орфографическая ошибка.', 'replacements': ['рунов', 'трусов', 'урусов', 'усов', 'аусов', 'гусов', 'крусов', 'кусов', 'лусов', 'мусов', 'нусов', 'прусов', 'ярусов', 'расов', 'рисов', 'рудов', 'рухов', 'руров', 'русев', 'руслов', 'русо', 'русою', 'русое', 'русой', 'русом', 'руссов', 'рустов', 'рутов', 'урсов', 'р усов', 'рус ов', 'русо в'], 'offsetInContext': 20, 'context': 'После того как дело русов погибло, потревожили мусульмане могилы ...', 'offset': 20, 'errorLength': 5, 'category': 'TYPOS', 'ruleIssueType': 'misspelling', 'sentence': 'После того как дело русов погибло, потревожили мусульмане могилы их и извлекли оттуда мечи их, которые имеют большой спрос и в наши дни, по причине своей остроты и своего превосходства».'}),\n",
              " Match({'ruleId': 'MORFOLOGIK_RULE_RU_RU', 'message': 'Возможно найдена орфографическая ошибка.', 'replacements': ['Вьентьянцу', 'Вьентьянку', 'Вьентьяну'], 'offsetInContext': 43, 'context': '...тае стало тяжёлое поражение в битве при Дьенбьенфу.', 'offset': 98, 'errorLength': 10, 'category': 'TYPOS', 'ruleIssueType': 'misspelling', 'sentence': 'Последним ударом для колониальных амбиций Франции в Индокитае стало тяжёлое поражение в битве при Дьенбьенфу.'}),\n",
              " Match({'ruleId': 'MORFOLOGIK_RULE_RU_RU', 'message': 'Возможно найдена орфографическая ошибка.', 'replacements': ['Вьентьянцу', 'Вьентьянку', 'Вьентьяну'], 'offsetInContext': 43, 'context': '...тае стало тяжёлое поражение в битве при Дьенбьенфу.', 'offset': 98, 'errorLength': 10, 'category': 'TYPOS', 'ruleIssueType': 'misspelling', 'sentence': 'Последним ударом для колониальных амбиций Франции в Индокитае стало тяжёлое поражение в битве при Дьенбьенфу.'}),\n",
              " Match({'ruleId': 'MORFOLOGIK_RULE_RU_RU', 'message': 'Возможно найдена орфографическая ошибка.', 'replacements': ['Вьентьянцу', 'Вьентьянку', 'Вьентьяну'], 'offsetInContext': 43, 'context': '...тае стало тяжёлое поражение в битве при Дьенбьенфу.', 'offset': 98, 'errorLength': 10, 'category': 'TYPOS', 'ruleIssueType': 'misspelling', 'sentence': 'Последним ударом для колониальных амбиций Франции в Индокитае стало тяжёлое поражение в битве при Дьенбьенфу.'}),\n",
              " Match({'ruleId': 'MORFOLOGIK_RULE_RU_RU', 'message': 'Возможно найдена орфографическая ошибка.', 'replacements': ['Вьентьянцу', 'Вьентьянку', 'Вьентьяну'], 'offsetInContext': 43, 'context': '...тае стало тяжёлое поражение в битве при Дьенбьенфу.', 'offset': 98, 'errorLength': 10, 'category': 'TYPOS', 'ruleIssueType': 'misspelling', 'sentence': 'Последним ударом для колониальных амбиций Франции в Индокитае стало тяжёлое поражение в битве при Дьенбьенфу.'}),\n",
              " Match({'ruleId': 'MORFOLOGIK_RULE_RU_RU', 'message': 'Возможно найдена орфографическая ошибка.', 'replacements': ['Вьентьянцу', 'Вьентьянку', 'Вьентьяну'], 'offsetInContext': 43, 'context': '...тае стало тяжёлое поражение в битве при Дьенбьенфу.', 'offset': 98, 'errorLength': 10, 'category': 'TYPOS', 'ruleIssueType': 'misspelling', 'sentence': 'Последним ударом для колониальных амбиций Франции в Индокитае стало тяжёлое поражение в битве при Дьенбьенфу.'}),\n",
              " Match({'ruleId': 'MORFOLOGIK_RULE_RU_RU', 'message': 'Возможно найдена орфографическая ошибка.', 'replacements': [], 'offsetInContext': 43, 'context': '...хся по основным противникам императора: чешско-пфальцский, датский, шведский и франко-шведский.', 'offset': 114, 'errorLength': 17, 'category': 'TYPOS', 'ruleIssueType': 'misspelling', 'sentence': 'Последовавшие боевые действия делятся на четыре крупных периода, называющихся по основным противникам императора: чешско-пфальцский, датский, шведский и франко-шведский.'}),\n",
              " Match({'ruleId': 'MORFOLOGIK_RULE_RU_RU', 'message': 'Возможно найдена орфографическая ошибка.', 'replacements': [], 'offsetInContext': 43, 'context': '... чешско-пфальцский, датский, шведский и франко-шведский.', 'offset': 153, 'errorLength': 15, 'category': 'TYPOS', 'ruleIssueType': 'misspelling', 'sentence': 'Последовавшие боевые действия делятся на четыре крупных периода, называющихся по основным противникам императора: чешско-пфальцский, датский, шведский и франко-шведский.'}),\n",
              " Match({'ruleId': 'MORFOLOGIK_RULE_RU_RU', 'message': 'Возможно найдена орфографическая ошибка.', 'replacements': [], 'offsetInContext': 43, 'context': '...хся по основным противникам императора: чешско-пфальцский, датский, шведский и франко-шведский.', 'offset': 114, 'errorLength': 17, 'category': 'TYPOS', 'ruleIssueType': 'misspelling', 'sentence': 'Последовавшие боевые действия делятся на четыре крупных периода, называющихся по основным противникам императора: чешско-пфальцский, датский, шведский и франко-шведский.'}),\n",
              " Match({'ruleId': 'MORFOLOGIK_RULE_RU_RU', 'message': 'Возможно найдена орфографическая ошибка.', 'replacements': [], 'offsetInContext': 43, 'context': '... чешско-пфальцский, датский, шведский и франко-шведский.', 'offset': 153, 'errorLength': 15, 'category': 'TYPOS', 'ruleIssueType': 'misspelling', 'sentence': 'Последовавшие боевые действия делятся на четыре крупных периода, называющихся по основным противникам императора: чешско-пфальцский, датский, шведский и франко-шведский.'}),\n",
              " Match({'ruleId': 'MORFOLOGIK_RULE_RU_RU', 'message': 'Возможно найдена орфографическая ошибка.', 'replacements': [], 'offsetInContext': 43, 'context': '...хся по основным противникам императора: чешско-пфальцский, датский, шведский и франко-шведский.', 'offset': 114, 'errorLength': 17, 'category': 'TYPOS', 'ruleIssueType': 'misspelling', 'sentence': 'Последовавшие боевые действия делятся на четыре крупных периода, называющихся по основным противникам императора: чешско-пфальцский, датский, шведский и франко-шведский.'}),\n",
              " Match({'ruleId': 'MORFOLOGIK_RULE_RU_RU', 'message': 'Возможно найдена орфографическая ошибка.', 'replacements': [], 'offsetInContext': 43, 'context': '... чешско-пфальцский, датский, шведский и франко-шведский.', 'offset': 153, 'errorLength': 15, 'category': 'TYPOS', 'ruleIssueType': 'misspelling', 'sentence': 'Последовавшие боевые действия делятся на четыре крупных периода, называющихся по основным противникам императора: чешско-пфальцский, датский, шведский и франко-шведский.'}),\n",
              " Match({'ruleId': 'MORFOLOGIK_RULE_RU_RU', 'message': 'Возможно найдена орфографическая ошибка.', 'replacements': [], 'offsetInContext': 43, 'context': '...хся по основным противникам императора: чешско-пфальцский, датский, шведский и франко-шведский.', 'offset': 114, 'errorLength': 17, 'category': 'TYPOS', 'ruleIssueType': 'misspelling', 'sentence': 'Последовавшие боевые действия делятся на четыре крупных периода, называющихся по основным противникам императора: чешско-пфальцский, датский, шведский и франко-шведский.'}),\n",
              " Match({'ruleId': 'MORFOLOGIK_RULE_RU_RU', 'message': 'Возможно найдена орфографическая ошибка.', 'replacements': [], 'offsetInContext': 43, 'context': '... чешско-пфальцский, датский, шведский и франко-шведский.', 'offset': 153, 'errorLength': 15, 'category': 'TYPOS', 'ruleIssueType': 'misspelling', 'sentence': 'Последовавшие боевые действия делятся на четыре крупных периода, называющихся по основным противникам императора: чешско-пфальцский, датский, шведский и франко-шведский.'}),\n",
              " Match({'ruleId': 'MORFOLOGIK_RULE_RU_RU', 'message': 'Возможно найдена орфографическая ошибка.', 'replacements': [], 'offsetInContext': 43, 'context': '...хся по основным противникам императора: чешско-пфальцский, датский, шведский и франко-шведский.', 'offset': 114, 'errorLength': 17, 'category': 'TYPOS', 'ruleIssueType': 'misspelling', 'sentence': 'Последовавшие боевые действия делятся на четыре крупных периода, называющихся по основным противникам императора: чешско-пфальцский, датский, шведский и франко-шведский.'}),\n",
              " Match({'ruleId': 'MORFOLOGIK_RULE_RU_RU', 'message': 'Возможно найдена орфографическая ошибка.', 'replacements': [], 'offsetInContext': 43, 'context': '... чешско-пфальцский, датский, шведский и франко-шведский.', 'offset': 153, 'errorLength': 15, 'category': 'TYPOS', 'ruleIssueType': 'misspelling', 'sentence': 'Последовавшие боевые действия делятся на четыре крупных периода, называющихся по основным противникам императора: чешско-пфальцский, датский, шведский и франко-шведский.'}),\n",
              " Match({'ruleId': 'Pravopisanie_slitno1', 'message': 'Слово пишется слитно: «вглубь».', 'replacements': ['вглубь'], 'offsetInContext': 43, 'context': '...и ледника, ледовые участки продвигаются в глубь долины.', 'offset': 87, 'errorLength': 7, 'category': 'GRAMMAR', 'ruleIssueType': 'uncategorized', 'sentence': 'Постепенно, по мере стекания воды по поверхности ледника, ледовые участки продвигаются в глубь долины.'}),\n",
              " Match({'ruleId': 'Pravopisanie_slitno1', 'message': 'Слово пишется слитно: «вглубь».', 'replacements': ['вглубь'], 'offsetInContext': 43, 'context': '...и ледника, ледовые участки продвигаются в глубь долины.', 'offset': 87, 'errorLength': 7, 'category': 'GRAMMAR', 'ruleIssueType': 'uncategorized', 'sentence': 'Постепенно, по мере стекания воды по поверхности ледника, ледовые участки продвигаются в глубь долины.'}),\n",
              " Match({'ruleId': 'Pravopisanie_slitno1', 'message': 'Слово пишется слитно: «вглубь».', 'replacements': ['вглубь'], 'offsetInContext': 43, 'context': '...и ледника, ледовые участки продвигаются в глубь долины.', 'offset': 87, 'errorLength': 7, 'category': 'GRAMMAR', 'ruleIssueType': 'uncategorized', 'sentence': 'Постепенно, по мере стекания воды по поверхности ледника, ледовые участки продвигаются в глубь долины.'}),\n",
              " Match({'ruleId': 'Many_PNN', 'message': 'Загруженность предложения местоимениями.', 'replacements': [], 'offsetInContext': 16, 'context': 'Правду сказать, я говорила самой себе, что с этим человеком я непременно буду очень несчастной, если и поддамся чувству любви к нему, за которое так плохо платили, и что будет с чего умереть от ревности безо в...', 'offset': 16, 'errorLength': 153, 'category': 'STYLE', 'ruleIssueType': 'uncategorized', 'sentence': 'Правду сказать, я говорила самой себе, что с этим человеком я непременно буду очень несчастной, если и поддамся чувству любви к нему, за которое так плохо платили, и что будет с чего умереть от ревности безо всякой для кого бы то ни было пользы.'}),\n",
              " Match({'ruleId': 'Many_PNN', 'message': 'Загруженность предложения местоимениями.', 'replacements': [], 'offsetInContext': 16, 'context': 'Правду сказать, я говорила самой себе, что с этим человеком я непременно буду очень несчастной, если и поддамся чувству любви к нему, за которое так плохо платили, и что будет с чего умереть от ревности безо в...', 'offset': 16, 'errorLength': 153, 'category': 'STYLE', 'ruleIssueType': 'uncategorized', 'sentence': 'Правду сказать, я говорила самой себе, что с этим человеком я непременно буду очень несчастной, если и поддамся чувству любви к нему, за которое так плохо платили, и что будет с чего умереть от ревности безо всякой для кого бы то ни было пользы.'}),\n",
              " Match({'ruleId': 'Many_PNN', 'message': 'Загруженность предложения местоимениями.', 'replacements': [], 'offsetInContext': 16, 'context': 'Правду сказать, я говорила самой себе, что с этим человеком я непременно буду очень несчастной, если и поддамся чувству любви к нему, за которое так плохо платили, и что будет с чего умереть от ревности безо в...', 'offset': 16, 'errorLength': 153, 'category': 'STYLE', 'ruleIssueType': 'uncategorized', 'sentence': 'Правду сказать, я говорила самой себе, что с этим человеком я непременно буду очень несчастной, если и поддамся чувству любви к нему, за которое так плохо платили, и что будет с чего умереть от ревности безо всякой для кого бы то ни было пользы.'}),\n",
              " Match({'ruleId': 'SENTENCE_WHITESPACE', 'message': 'Добавьте пробел между предложениями', 'replacements': [' Билль'], 'offsetInContext': 29, 'context': 'Право на хорошее образование.Билль не был принят Конгрессом, а через год Ф...', 'offset': 29, 'errorLength': 5, 'category': 'TYPOGRAPHY', 'ruleIssueType': 'whitespace', 'sentence': 'Билль не был принят Конгрессом, а через год Франклин Рузвельт умер.'}),\n",
              " Match({'ruleId': 'SENTENCE_WHITESPACE', 'message': 'Добавьте пробел между предложениями', 'replacements': [' Билль'], 'offsetInContext': 29, 'context': 'Право на хорошее образование.Билль не был принят Конгрессом, а через год Ф...', 'offset': 29, 'errorLength': 5, 'category': 'TYPOGRAPHY', 'ruleIssueType': 'whitespace', 'sentence': 'Билль не был принят Конгрессом, а через год Франклин Рузвельт умер.'}),\n",
              " Match({'ruleId': 'SENTENCE_WHITESPACE', 'message': 'Добавьте пробел между предложениями', 'replacements': [' Билль'], 'offsetInContext': 29, 'context': 'Право на хорошее образование.Билль не был принят Конгрессом, а через год Ф...', 'offset': 29, 'errorLength': 5, 'category': 'TYPOGRAPHY', 'ruleIssueType': 'whitespace', 'sentence': 'Билль не был принят Конгрессом, а через год Франклин Рузвельт умер.'}),\n",
              " Match({'ruleId': 'SENTENCE_WHITESPACE', 'message': 'Добавьте пробел между предложениями', 'replacements': [' Билль'], 'offsetInContext': 29, 'context': 'Право на хорошее образование.Билль не был принят Конгрессом, а через год Ф...', 'offset': 29, 'errorLength': 5, 'category': 'TYPOGRAPHY', 'ruleIssueType': 'whitespace', 'sentence': 'Билль не был принят Конгрессом, а через год Франклин Рузвельт умер.'}),\n",
              " Match({'ruleId': 'SENTENCE_WHITESPACE', 'message': 'Добавьте пробел между предложениями', 'replacements': [' Билль'], 'offsetInContext': 29, 'context': 'Право на хорошее образование.Билль не был принят Конгрессом, а через год Ф...', 'offset': 29, 'errorLength': 5, 'category': 'TYPOGRAPHY', 'ruleIssueType': 'whitespace', 'sentence': 'Билль не был принят Конгрессом, а через год Франклин Рузвельт умер.'}),\n",
              " Match({'ruleId': 'MORFOLOGIK_RULE_RU_RU', 'message': 'Возможно найдена орфографическая ошибка.', 'replacements': [], 'offsetInContext': 34, 'context': 'Предание подтверждают шесть могил князей-военачальников у мавзолея, по неизвестным причинам пог...', 'offset': 34, 'errorLength': 21, 'category': 'TYPOS', 'ruleIssueType': 'misspelling', 'sentence': 'Предание подтверждают шесть могил князей-военачальников у мавзолея, по неизвестным причинам погибших вместе с частью войска во время зимней стоянки.'}),\n",
              " Match({'ruleId': 'MORFOLOGIK_RULE_RU_RU', 'message': 'Возможно найдена орфографическая ошибка.', 'replacements': [], 'offsetInContext': 34, 'context': 'Предание подтверждают шесть могил князей-военачальников у мавзолея, по неизвестным причинам пог...', 'offset': 34, 'errorLength': 21, 'category': 'TYPOS', 'ruleIssueType': 'misspelling', 'sentence': 'Предание подтверждают шесть могил князей-военачальников у мавзолея, по неизвестным причинам погибших вместе с частью войска во время зимней стоянки.'}),\n",
              " Match({'ruleId': 'MORFOLOGIK_RULE_RU_RU', 'message': 'Возможно найдена орфографическая ошибка.', 'replacements': [], 'offsetInContext': 34, 'context': 'Предание подтверждают шесть могил князей-военачальников у мавзолея, по неизвестным причинам пог...', 'offset': 34, 'errorLength': 21, 'category': 'TYPOS', 'ruleIssueType': 'misspelling', 'sentence': 'Предание подтверждают шесть могил князей-военачальников у мавзолея, по неизвестным причинам погибших вместе с частью войска во время зимней стоянки.'}),\n",
              " Match({'ruleId': 'MORFOLOGIK_RULE_RU_RU', 'message': 'Возможно найдена орфографическая ошибка.', 'replacements': [], 'offsetInContext': 34, 'context': 'Предание подтверждают шесть могил князей-военачальников у мавзолея, по неизвестным причинам пог...', 'offset': 34, 'errorLength': 21, 'category': 'TYPOS', 'ruleIssueType': 'misspelling', 'sentence': 'Предание подтверждают шесть могил князей-военачальников у мавзолея, по неизвестным причинам погибших вместе с частью войска во время зимней стоянки.'}),\n",
              " Match({'ruleId': 'MORFOLOGIK_RULE_RU_RU', 'message': 'Возможно найдена орфографическая ошибка.', 'replacements': [], 'offsetInContext': 34, 'context': 'Предание подтверждают шесть могил князей-военачальников у мавзолея, по неизвестным причинам пог...', 'offset': 34, 'errorLength': 21, 'category': 'TYPOS', 'ruleIssueType': 'misspelling', 'sentence': 'Предание подтверждают шесть могил князей-военачальников у мавзолея, по неизвестным причинам погибших вместе с частью войска во время зимней стоянки.'}),\n",
              " Match({'ruleId': 'MORFOLOGIK_RULE_RU_RU', 'message': 'Возможно найдена орфографическая ошибка.', 'replacements': ['лимфоидная', 'лимфоидный', 'литоидную', 'тифоидную'], 'offsetInContext': 43, 'context': '...имфоцитов из костного мозга мигрируют в лимфоидную ткань, расположенную в тимусе, селезёнк...', 'offset': 57, 'errorLength': 10, 'category': 'TYPOS', 'ruleIssueType': 'misspelling', 'sentence': 'Предшественники лимфоцитов из костного мозга мигрируют в лимфоидную ткань, расположенную в тимусе, селезёнке, лимфатических узлах.'}),\n",
              " Match({'ruleId': 'MORFOLOGIK_RULE_RU_RU', 'message': 'Возможно найдена орфографическая ошибка.', 'replacements': ['лимфоидная', 'лимфоидный', 'литоидную', 'тифоидную'], 'offsetInContext': 43, 'context': '...имфоцитов из костного мозга мигрируют в лимфоидную ткань, расположенную в тимусе, селезёнк...', 'offset': 57, 'errorLength': 10, 'category': 'TYPOS', 'ruleIssueType': 'misspelling', 'sentence': 'Предшественники лимфоцитов из костного мозга мигрируют в лимфоидную ткань, расположенную в тимусе, селезёнке, лимфатических узлах.'}),\n",
              " Match({'ruleId': 'MORFOLOGIK_RULE_RU_RU', 'message': 'Возможно найдена орфографическая ошибка.', 'replacements': ['лимфоидная', 'лимфоидный', 'литоидную', 'тифоидную'], 'offsetInContext': 43, 'context': '...имфоцитов из костного мозга мигрируют в лимфоидную ткань, расположенную в тимусе, селезёнк...', 'offset': 57, 'errorLength': 10, 'category': 'TYPOS', 'ruleIssueType': 'misspelling', 'sentence': 'Предшественники лимфоцитов из костного мозга мигрируют в лимфоидную ткань, расположенную в тимусе, селезёнке, лимфатических узлах.'}),\n",
              " Match({'ruleId': 'MORFOLOGIK_RULE_RU_RU', 'message': 'Возможно найдена орфографическая ошибка.', 'replacements': ['лимфоидная', 'лимфоидный', 'литоидную', 'тифоидную'], 'offsetInContext': 43, 'context': '...имфоцитов из костного мозга мигрируют в лимфоидную ткань, расположенную в тимусе, селезёнк...', 'offset': 57, 'errorLength': 10, 'category': 'TYPOS', 'ruleIssueType': 'misspelling', 'sentence': 'Предшественники лимфоцитов из костного мозга мигрируют в лимфоидную ткань, расположенную в тимусе, селезёнке, лимфатических узлах.'}),\n",
              " Match({'ruleId': 'MORFOLOGIK_RULE_RU_RU', 'message': 'Возможно найдена орфографическая ошибка.', 'replacements': ['лимфоидная', 'лимфоидный', 'литоидную', 'тифоидную'], 'offsetInContext': 43, 'context': '...имфоцитов из костного мозга мигрируют в лимфоидную ткань, расположенную в тимусе, селезёнк...', 'offset': 57, 'errorLength': 10, 'category': 'TYPOS', 'ruleIssueType': 'misspelling', 'sentence': 'Предшественники лимфоцитов из костного мозга мигрируют в лимфоидную ткань, расположенную в тимусе, селезёнке, лимфатических узлах.'}),\n",
              " Match({'ruleId': 'MORFOLOGIK_RULE_RU_RU', 'message': 'Возможно найдена орфографическая ошибка.', 'replacements': ['Арраса', 'Грауса', 'Прайса'], 'offsetInContext': 43, 'context': '...ра между государствами также, по мнению Яррайса, не было известной практикой для междун...', 'offset': 83, 'errorLength': 7, 'category': 'TYPOS', 'ruleIssueType': 'misspelling', 'sentence': 'Преследование отдельных лиц за нарушение мира между государствами также, по мнению Яррайса, не было известной практикой для международного права.'}),\n",
              " Match({'ruleId': 'MORFOLOGIK_RULE_RU_RU', 'message': 'Возможно найдена орфографическая ошибка.', 'replacements': ['Арраса', 'Грауса', 'Прайса'], 'offsetInContext': 43, 'context': '...ра между государствами также, по мнению Яррайса, не было известной практикой для междун...', 'offset': 83, 'errorLength': 7, 'category': 'TYPOS', 'ruleIssueType': 'misspelling', 'sentence': 'Преследование отдельных лиц за нарушение мира между государствами также, по мнению Яррайса, не было известной практикой для международного права.'}),\n",
              " Match({'ruleId': 'MORFOLOGIK_RULE_RU_RU', 'message': 'Возможно найдена орфографическая ошибка.', 'replacements': ['Арраса', 'Грауса', 'Прайса'], 'offsetInContext': 43, 'context': '...ра между государствами также, по мнению Яррайса, не было известной практикой для междун...', 'offset': 83, 'errorLength': 7, 'category': 'TYPOS', 'ruleIssueType': 'misspelling', 'sentence': 'Преследование отдельных лиц за нарушение мира между государствами также, по мнению Яррайса, не было известной практикой для международного права.'}),\n",
              " Match({'ruleId': 'MORFOLOGIK_RULE_RU_RU', 'message': 'Возможно найдена орфографическая ошибка.', 'replacements': ['Арраса', 'Грауса', 'Прайса'], 'offsetInContext': 43, 'context': '...ра между государствами также, по мнению Яррайса, не было известной практикой для междун...', 'offset': 83, 'errorLength': 7, 'category': 'TYPOS', 'ruleIssueType': 'misspelling', 'sentence': 'Преследование отдельных лиц за нарушение мира между государствами также, по мнению Яррайса, не было известной практикой для международного права.'}),\n",
              " Match({'ruleId': 'MORFOLOGIK_RULE_RU_RU', 'message': 'Возможно найдена орфографическая ошибка.', 'replacements': ['Арраса', 'Грауса', 'Прайса'], 'offsetInContext': 43, 'context': '...ра между государствами также, по мнению Яррайса, не было известной практикой для междун...', 'offset': 83, 'errorLength': 7, 'category': 'TYPOS', 'ruleIssueType': 'misspelling', 'sentence': 'Преследование отдельных лиц за нарушение мира между государствами также, по мнению Яррайса, не было известной практикой для международного права.'}),\n",
              " Match({'ruleId': 'MORFOLOGIK_RULE_RU_RU', 'message': 'Возможно найдена орфографическая ошибка.', 'replacements': [], 'offsetInContext': 43, 'context': '...юбых пошлин в торговых отношениях между государствами-членами и формирование общего таможенного тариф...', 'offset': 97, 'errorLength': 21, 'category': 'TYPOS', 'ruleIssueType': 'misspelling', 'sentence': 'При этом, если таможенный союз подразумевает запрещение любых пошлин в торговых отношениях между государствами-членами и формирование общего таможенного тарифа по отношению к третьим странам, то общий рынок распространяет эти принципы и на другие препятствия конкуренции и взаимодействия экономик стран союза, гарантируя так называемые четыре свободы: свободу движения товаров, свободу движения лиц, свободу движения услуг и свободу движения капитала.'}),\n",
              " Match({'ruleId': 'MORFOLOGIK_RULE_RU_RU', 'message': 'Возможно найдена орфографическая ошибка.', 'replacements': [], 'offsetInContext': 43, 'context': '...юбых пошлин в торговых отношениях между государствами-членами и формирование общего таможенного тариф...', 'offset': 97, 'errorLength': 21, 'category': 'TYPOS', 'ruleIssueType': 'misspelling', 'sentence': 'При этом, если таможенный союз подразумевает запрещение любых пошлин в торговых отношениях между государствами-членами и формирование общего таможенного тарифа по отношению к третьим странам, то общий рынок распространяет эти принципы и на другие препятствия конкуренции и взаимодействия экономик стран союза, гарантируя так называемые четыре свободы: свободу движения товаров, свободу движения лиц, свободу движения услуг и свободу движения капитала.'}),\n",
              " Match({'ruleId': 'MORFOLOGIK_RULE_RU_RU', 'message': 'Возможно найдена орфографическая ошибка.', 'replacements': [], 'offsetInContext': 43, 'context': '...юбых пошлин в торговых отношениях между государствами-членами и формирование общего таможенного тариф...', 'offset': 97, 'errorLength': 21, 'category': 'TYPOS', 'ruleIssueType': 'misspelling', 'sentence': 'При этом, если таможенный союз подразумевает запрещение любых пошлин в торговых отношениях между государствами-членами и формирование общего таможенного тарифа по отношению к третьим странам, то общий рынок распространяет эти принципы и на другие препятствия конкуренции и взаимодействия экономик стран союза, гарантируя так называемые четыре свободы: свободу движения товаров, свободу движения лиц, свободу движения услуг и свободу движения капитала.'}),\n",
              " Match({'ruleId': 'MORFOLOGIK_RULE_RU_RU', 'message': 'Возможно найдена орфографическая ошибка.', 'replacements': [], 'offsetInContext': 43, 'context': '...юбых пошлин в торговых отношениях между государствами-членами и формирование общего таможенного тариф...', 'offset': 97, 'errorLength': 21, 'category': 'TYPOS', 'ruleIssueType': 'misspelling', 'sentence': 'При этом, если таможенный союз подразумевает запрещение любых пошлин в торговых отношениях между государствами-членами и формирование общего таможенного тарифа по отношению к третьим странам, то общий рынок распространяет эти принципы и на другие препятствия конкуренции и взаимодействия экономик стран союза, гарантируя так называемые четыре свободы: свободу движения товаров, свободу движения лиц, свободу движения услуг и свободу движения капитала.'}),\n",
              " Match({'ruleId': 'MORFOLOGIK_RULE_RU_RU', 'message': 'Возможно найдена орфографическая ошибка.', 'replacements': [], 'offsetInContext': 43, 'context': '...юбых пошлин в торговых отношениях между государствами-членами и формирование общего таможенного тариф...', 'offset': 97, 'errorLength': 21, 'category': 'TYPOS', 'ruleIssueType': 'misspelling', 'sentence': 'При этом, если таможенный союз подразумевает запрещение любых пошлин в торговых отношениях между государствами-членами и формирование общего таможенного тарифа по отношению к третьим странам, то общий рынок распространяет эти принципы и на другие препятствия конкуренции и взаимодействия экономик стран союза, гарантируя так называемые четыре свободы: свободу движения товаров, свободу движения лиц, свободу движения услуг и свободу движения капитала.'}),\n",
              " Match({'ruleId': 'MORFOLOGIK_RULE_RU_RU', 'message': 'Возможно найдена орфографическая ошибка.', 'replacements': ['конкретизированные'], 'offsetInContext': 43, 'context': '...ии встречаются как в чистом виде, так и синкретизированные с местными традиционными религиями.', 'offset': 73, 'errorLength': 18, 'category': 'TYPOS', 'ruleIssueType': 'misspelling', 'sentence': 'Привнесённые в Африку извне религии встречаются как в чистом виде, так и синкретизированные с местными традиционными религиями.'}),\n",
              " Match({'ruleId': 'MORFOLOGIK_RULE_RU_RU', 'message': 'Возможно найдена орфографическая ошибка.', 'replacements': ['конкретизированные'], 'offsetInContext': 43, 'context': '...ии встречаются как в чистом виде, так и синкретизированные с местными традиционными религиями.', 'offset': 73, 'errorLength': 18, 'category': 'TYPOS', 'ruleIssueType': 'misspelling', 'sentence': 'Привнесённые в Африку извне религии встречаются как в чистом виде, так и синкретизированные с местными традиционными религиями.'}),\n",
              " Match({'ruleId': 'MORFOLOGIK_RULE_RU_RU', 'message': 'Возможно найдена орфографическая ошибка.', 'replacements': ['конкретизированные'], 'offsetInContext': 43, 'context': '...ии встречаются как в чистом виде, так и синкретизированные с местными традиционными религиями.', 'offset': 73, 'errorLength': 18, 'category': 'TYPOS', 'ruleIssueType': 'misspelling', 'sentence': 'Привнесённые в Африку извне религии встречаются как в чистом виде, так и синкретизированные с местными традиционными религиями.'}),\n",
              " Match({'ruleId': 'MORFOLOGIK_RULE_RU_RU', 'message': 'Возможно найдена орфографическая ошибка.', 'replacements': ['конкретизированные'], 'offsetInContext': 43, 'context': '...ии встречаются как в чистом виде, так и синкретизированные с местными традиционными религиями.', 'offset': 73, 'errorLength': 18, 'category': 'TYPOS', 'ruleIssueType': 'misspelling', 'sentence': 'Привнесённые в Африку извне религии встречаются как в чистом виде, так и синкретизированные с местными традиционными религиями.'}),\n",
              " Match({'ruleId': 'MORFOLOGIK_RULE_RU_RU', 'message': 'Возможно найдена орфографическая ошибка.', 'replacements': ['конкретизированные'], 'offsetInContext': 43, 'context': '...ии встречаются как в чистом виде, так и синкретизированные с местными традиционными религиями.', 'offset': 73, 'errorLength': 18, 'category': 'TYPOS', 'ruleIssueType': 'misspelling', 'sentence': 'Привнесённые в Африку извне религии встречаются как в чистом виде, так и синкретизированные с местными традиционными религиями.'}),\n",
              " Match({'ruleId': 'MORFOLOGIK_RULE_RU_RU', 'message': 'Возможно найдена орфографическая ошибка.', 'replacements': ['полу природных'], 'offsetInContext': 43, 'context': '...ные ландшафты очень слабо отличаются от полуприродных.', 'offset': 174, 'errorLength': 13, 'category': 'TYPOS', 'ruleIssueType': 'misspelling', 'sentence': 'Природные экосистемы предгорий Альп в течение долгого времени подвергались непрерывному антропогенному воздействию, поэтому антропогенные ландшафты очень слабо отличаются от полуприродных.'}),\n",
              " Match({'ruleId': 'MORFOLOGIK_RULE_RU_RU', 'message': 'Возможно найдена орфографическая ошибка.', 'replacements': ['полу природных'], 'offsetInContext': 43, 'context': '...ные ландшафты очень слабо отличаются от полуприродных.', 'offset': 174, 'errorLength': 13, 'category': 'TYPOS', 'ruleIssueType': 'misspelling', 'sentence': 'Природные экосистемы предгорий Альп в течение долгого времени подвергались непрерывному антропогенному воздействию, поэтому антропогенные ландшафты очень слабо отличаются от полуприродных.'}),\n",
              " Match({'ruleId': 'MORFOLOGIK_RULE_RU_RU', 'message': 'Возможно найдена орфографическая ошибка.', 'replacements': ['полу природных'], 'offsetInContext': 43, 'context': '...ные ландшафты очень слабо отличаются от полуприродных.', 'offset': 174, 'errorLength': 13, 'category': 'TYPOS', 'ruleIssueType': 'misspelling', 'sentence': 'Природные экосистемы предгорий Альп в течение долгого времени подвергались непрерывному антропогенному воздействию, поэтому антропогенные ландшафты очень слабо отличаются от полуприродных.'}),\n",
              " Match({'ruleId': 'MORFOLOGIK_RULE_RU_RU', 'message': 'Возможно найдена орфографическая ошибка.', 'replacements': ['полу природных'], 'offsetInContext': 43, 'context': '...ные ландшафты очень слабо отличаются от полуприродных.', 'offset': 174, 'errorLength': 13, 'category': 'TYPOS', 'ruleIssueType': 'misspelling', 'sentence': 'Природные экосистемы предгорий Альп в течение долгого времени подвергались непрерывному антропогенному воздействию, поэтому антропогенные ландшафты очень слабо отличаются от полуприродных.'}),\n",
              " Match({'ruleId': 'MORFOLOGIK_RULE_RU_RU', 'message': 'Возможно найдена орфографическая ошибка.', 'replacements': ['Андее', 'Кондее', 'Кондея', 'Ванде', 'В андее', 'Ван дее', 'Ванд ее', 'Ванде е'], 'offsetInContext': 43, 'context': '...льствами: федералистский мятеж, война в Вандее, военные неудачи, ухудшение экономическ...', 'offset': 107, 'errorLength': 6, 'category': 'TYPOS', 'ruleIssueType': 'misspelling', 'sentence': 'Пришедшие к власти монтаньяры столкнулись с драматическими обстоятельствами: федералистский мятеж, война в Вандее, военные неудачи, ухудшение экономической ситуации.'}),\n",
              " Match({'ruleId': 'MORFOLOGIK_RULE_RU_RU', 'message': 'Возможно найдена орфографическая ошибка.', 'replacements': ['Андее', 'Кондее', 'Кондея', 'Ванде', 'В андее', 'Ван дее', 'Ванд ее', 'Ванде е'], 'offsetInContext': 43, 'context': '...льствами: федералистский мятеж, война в Вандее, военные неудачи, ухудшение экономическ...', 'offset': 107, 'errorLength': 6, 'category': 'TYPOS', 'ruleIssueType': 'misspelling', 'sentence': 'Пришедшие к власти монтаньяры столкнулись с драматическими обстоятельствами: федералистский мятеж, война в Вандее, военные неудачи, ухудшение экономической ситуации.'}),\n",
              " Match({'ruleId': 'MORFOLOGIK_RULE_RU_RU', 'message': 'Возможно найдена орфографическая ошибка.', 'replacements': ['Андее', 'Кондее', 'Кондея', 'Ванде', 'В андее', 'Ван дее', 'Ванд ее', 'Ванде е'], 'offsetInContext': 43, 'context': '...льствами: федералистский мятеж, война в Вандее, военные неудачи, ухудшение экономическ...', 'offset': 107, 'errorLength': 6, 'category': 'TYPOS', 'ruleIssueType': 'misspelling', 'sentence': 'Пришедшие к власти монтаньяры столкнулись с драматическими обстоятельствами: федералистский мятеж, война в Вандее, военные неудачи, ухудшение экономической ситуации.'}),\n",
              " Match({'ruleId': 'MORFOLOGIK_RULE_RU_RU', 'message': 'Возможно найдена орфографическая ошибка.', 'replacements': ['Андее', 'Кондее', 'Кондея', 'Ванде', 'В андее', 'Ван дее', 'Ванд ее', 'Ванде е'], 'offsetInContext': 43, 'context': '...льствами: федералистский мятеж, война в Вандее, военные неудачи, ухудшение экономическ...', 'offset': 107, 'errorLength': 6, 'category': 'TYPOS', 'ruleIssueType': 'misspelling', 'sentence': 'Пришедшие к власти монтаньяры столкнулись с драматическими обстоятельствами: федералистский мятеж, война в Вандее, военные неудачи, ухудшение экономической ситуации.'}),\n",
              " Match({'ruleId': 'MORFOLOGIK_RULE_RU_RU', 'message': 'Возможно найдена орфографическая ошибка.', 'replacements': ['Андее', 'Кондее', 'Кондея', 'Ванде', 'В андее', 'Ван дее', 'Ванд ее', 'Ванде е'], 'offsetInContext': 43, 'context': '...льствами: федералистский мятеж, война в Вандее, военные неудачи, ухудшение экономическ...', 'offset': 107, 'errorLength': 6, 'category': 'TYPOS', 'ruleIssueType': 'misspelling', 'sentence': 'Пришедшие к власти монтаньяры столкнулись с драматическими обстоятельствами: федералистский мятеж, война в Вандее, военные неудачи, ухудшение экономической ситуации.'}),\n",
              " Match({'ruleId': 'MORFOLOGIK_RULE_RU_RU', 'message': 'Возможно найдена орфографическая ошибка.', 'replacements': ['Булаху', 'Молоху', 'Салаху', 'Валаху', 'Валуху', 'Волоху', 'Гала ху', 'Галах у'], 'offsetInContext': 43, 'context': '...современности и принципиально отвергает Галаху.', 'offset': 122, 'errorLength': 6, 'category': 'TYPOS', 'ruleIssueType': 'misspelling', 'sentence': 'Прогрессивный иудаизм стремится к обновлению и реформе религиозных обрядов в духе современности и принципиально отвергает Галаху.'}),\n",
              " Match({'ruleId': 'MORFOLOGIK_RULE_RU_RU', 'message': 'Возможно найдена орфографическая ошибка.', 'replacements': ['Булаху', 'Молоху', 'Салаху', 'Валаху', 'Валуху', 'Волоху', 'Гала ху', 'Галах у'], 'offsetInContext': 43, 'context': '...современности и принципиально отвергает Галаху.', 'offset': 122, 'errorLength': 6, 'category': 'TYPOS', 'ruleIssueType': 'misspelling', 'sentence': 'Прогрессивный иудаизм стремится к обновлению и реформе религиозных обрядов в духе современности и принципиально отвергает Галаху.'}),\n",
              " Match({'ruleId': 'MORFOLOGIK_RULE_RU_RU', 'message': 'Возможно найдена орфографическая ошибка.', 'replacements': ['Булаху', 'Молоху', 'Салаху', 'Валаху', 'Валуху', 'Волоху', 'Гала ху', 'Галах у'], 'offsetInContext': 43, 'context': '...современности и принципиально отвергает Галаху.', 'offset': 122, 'errorLength': 6, 'category': 'TYPOS', 'ruleIssueType': 'misspelling', 'sentence': 'Прогрессивный иудаизм стремится к обновлению и реформе религиозных обрядов в духе современности и принципиально отвергает Галаху.'}),\n",
              " Match({'ruleId': 'MORFOLOGIK_RULE_RU_RU', 'message': 'Возможно найдена орфографическая ошибка.', 'replacements': [], 'offsetInContext': 43, 'context': '...рмян из Азербайджана и азербайджанцев с курдами-мусульманами из Армении.', 'offset': 97, 'errorLength': 20, 'category': 'TYPOS', 'ruleIssueType': 'misspelling', 'sentence': 'Происходят взаимные этнические чистки, начинается исход армян из Азербайджана и азербайджанцев с курдами-мусульманами из Армении.'}),\n",
              " Match({'ruleId': 'MORFOLOGIK_RULE_RU_RU', 'message': 'Возможно найдена орфографическая ошибка.', 'replacements': [], 'offsetInContext': 43, 'context': '...рмян из Азербайджана и азербайджанцев с курдами-мусульманами из Армении.', 'offset': 97, 'errorLength': 20, 'category': 'TYPOS', 'ruleIssueType': 'misspelling', 'sentence': 'Происходят взаимные этнические чистки, начинается исход армян из Азербайджана и азербайджанцев с курдами-мусульманами из Армении.'}),\n",
              " Match({'ruleId': 'MORFOLOGIK_RULE_RU_RU', 'message': 'Возможно найдена орфографическая ошибка.', 'replacements': [], 'offsetInContext': 43, 'context': '...рмян из Азербайджана и азербайджанцев с курдами-мусульманами из Армении.', 'offset': 97, 'errorLength': 20, 'category': 'TYPOS', 'ruleIssueType': 'misspelling', 'sentence': 'Происходят взаимные этнические чистки, начинается исход армян из Азербайджана и азербайджанцев с курдами-мусульманами из Армении.'}),\n",
              " Match({'ruleId': 'MORFOLOGIK_RULE_RU_RU', 'message': 'Возможно найдена орфографическая ошибка.', 'replacements': ['бета-версии', 'демоверсии', 'обверсии', 'перверсии', 'реверсии'], 'offsetInContext': 7, 'context': 'Работа веб-версии осуществляется совместно с телефоном и ...', 'offset': 7, 'errorLength': 10, 'category': 'TYPOS', 'ruleIssueType': 'misspelling', 'sentence': 'Работа веб-версии осуществляется совместно с телефоном и возможна, только если телефон подключён к сети Интернет.'}),\n",
              " Match({'ruleId': 'MORFOLOGIK_RULE_RU_RU', 'message': 'Возможно найдена орфографическая ошибка.', 'replacements': ['бета-версии', 'демоверсии', 'обверсии', 'перверсии', 'реверсии'], 'offsetInContext': 7, 'context': 'Работа веб-версии осуществляется совместно с телефоном и ...', 'offset': 7, 'errorLength': 10, 'category': 'TYPOS', 'ruleIssueType': 'misspelling', 'sentence': 'Работа веб-версии осуществляется совместно с телефоном и возможна, только если телефон подключён к сети Интернет.'}),\n",
              " Match({'ruleId': 'MORFOLOGIK_RULE_RU_RU', 'message': 'Возможно найдена орфографическая ошибка.', 'replacements': ['бета-версии', 'демоверсии', 'обверсии', 'перверсии', 'реверсии'], 'offsetInContext': 7, 'context': 'Работа веб-версии осуществляется совместно с телефоном и ...', 'offset': 7, 'errorLength': 10, 'category': 'TYPOS', 'ruleIssueType': 'misspelling', 'sentence': 'Работа веб-версии осуществляется совместно с телефоном и возможна, только если телефон подключён к сети Интернет.'}),\n",
              " Match({'ruleId': 'MORFOLOGIK_RULE_RU_RU', 'message': 'Возможно найдена орфографическая ошибка.', 'replacements': ['Беречина', 'Герметична', 'Герметично', 'Неметчина', 'Туретчина', 'Черничина'], 'offsetInContext': 43, 'context': '...е существовало два села: Токари и Малая Чернетчина (Монастырёк), впоследствии объединённые...', 'offset': 44, 'errorLength': 10, 'category': 'TYPOS', 'ruleIssueType': 'misspelling', 'sentence': 'Ранее существовало два села: Токари и Малая Чернетчина (Монастырёк), впоследствии объединённые в одно — Токари.'}),\n",
              " Match({'ruleId': 'MORFOLOGIK_RULE_RU_RU', 'message': 'Возможно найдена орфографическая ошибка.', 'replacements': ['Монастырём'], 'offsetInContext': 43, 'context': '...ло два села: Токари и Малая Чернетчина (Монастырёк), впоследствии объединённые в одно — То...', 'offset': 56, 'errorLength': 10, 'category': 'TYPOS', 'ruleIssueType': 'misspelling', 'sentence': 'Ранее существовало два села: Токари и Малая Чернетчина (Монастырёк), впоследствии объединённые в одно — Токари.'}),\n",
              " Match({'ruleId': 'MORFOLOGIK_RULE_RU_RU', 'message': 'Возможно найдена орфографическая ошибка.', 'replacements': ['Хлеб', 'Глеб', 'Улеб', 'Плебс', 'Хлябь', 'Блямб', 'Глеба', 'Глебе', 'Глебу', 'Глебы', 'Хлеба', 'Хлебе', 'Хлебу', 'Хлебы', 'Хляби', 'Лейб', 'Леях', 'Леям', 'Сляб', 'Сляба', 'Слябе', 'Слябу', 'Слябы'], 'offsetInContext': 5, 'context': 'Роза Клебб, переодевшись в служащую отеля, пытаетс...', 'offset': 5, 'errorLength': 5, 'category': 'TYPOS', 'ruleIssueType': 'misspelling', 'sentence': 'Роза Клебб, переодевшись в служащую отеля, пытается украсть устройство и убить Бонда, однако погибает от пули Романовой.'}),\n",
              " Match({'ruleId': 'MORFOLOGIK_RULE_RU_RU', 'message': 'Возможно найдена орфографическая ошибка.', 'replacements': ['Хонда', 'Рондо', 'Фонда', 'Фонду', 'Хонду', 'Конда', 'Конду', 'Лонда', 'Лонду', 'Монда', 'Монду', 'Зонда', 'Зонду', 'Бонна', 'Бонну', 'Бон да', 'Бонд а'], 'offsetInContext': 43, 'context': '...ля, пытается украсть устройство и убить Бонда, однако погибает от пули Романовой.', 'offset': 79, 'errorLength': 5, 'category': 'TYPOS', 'ruleIssueType': 'misspelling', 'sentence': 'Роза Клебб, переодевшись в служащую отеля, пытается украсть устройство и убить Бонда, однако погибает от пули Романовой.'}),\n",
              " Match({'ruleId': 'MORFOLOGIK_RULE_RU_RU', 'message': 'Возможно найдена орфографическая ошибка.', 'replacements': ['Хлеб', 'Глеб', 'Улеб', 'Плебс', 'Хлябь', 'Блямб', 'Глеба', 'Глебе', 'Глебу', 'Глебы', 'Хлеба', 'Хлебе', 'Хлебу', 'Хлебы', 'Хляби', 'Лейб', 'Леях', 'Леям', 'Сляб', 'Сляба', 'Слябе', 'Слябу', 'Слябы'], 'offsetInContext': 5, 'context': 'Роза Клебб, переодевшись в служащую отеля, пытаетс...', 'offset': 5, 'errorLength': 5, 'category': 'TYPOS', 'ruleIssueType': 'misspelling', 'sentence': 'Роза Клебб, переодевшись в служащую отеля, пытается украсть устройство и убить Бонда, однако погибает от пули Романовой.'}),\n",
              " Match({'ruleId': 'MORFOLOGIK_RULE_RU_RU', 'message': 'Возможно найдена орфографическая ошибка.', 'replacements': ['Хонда', 'Рондо', 'Фонда', 'Фонду', 'Хонду', 'Конда', 'Конду', 'Лонда', 'Лонду', 'Монда', 'Монду', 'Зонда', 'Зонду', 'Бонна', 'Бонну', 'Бон да', 'Бонд а'], 'offsetInContext': 43, 'context': '...ля, пытается украсть устройство и убить Бонда, однако погибает от пули Романовой.', 'offset': 79, 'errorLength': 5, 'category': 'TYPOS', 'ruleIssueType': 'misspelling', 'sentence': 'Роза Клебб, переодевшись в служащую отеля, пытается украсть устройство и убить Бонда, однако погибает от пули Романовой.'}),\n",
              " Match({'ruleId': 'MORFOLOGIK_RULE_RU_RU', 'message': 'Возможно найдена орфографическая ошибка.', 'replacements': ['Хлеб', 'Глеб', 'Улеб', 'Плебс', 'Хлябь', 'Блямб', 'Глеба', 'Глебе', 'Глебу', 'Глебы', 'Хлеба', 'Хлебе', 'Хлебу', 'Хлебы', 'Хляби', 'Лейб', 'Леях', 'Леям', 'Сляб', 'Сляба', 'Слябе', 'Слябу', 'Слябы'], 'offsetInContext': 5, 'context': 'Роза Клебб, переодевшись в служащую отеля, пытаетс...', 'offset': 5, 'errorLength': 5, 'category': 'TYPOS', 'ruleIssueType': 'misspelling', 'sentence': 'Роза Клебб, переодевшись в служащую отеля, пытается украсть устройство и убить Бонда, однако погибает от пули Романовой.'}),\n",
              " Match({'ruleId': 'MORFOLOGIK_RULE_RU_RU', 'message': 'Возможно найдена орфографическая ошибка.', 'replacements': ['Хонда', 'Рондо', 'Фонда', 'Фонду', 'Хонду', 'Конда', 'Конду', 'Лонда', 'Лонду', 'Монда', 'Монду', 'Зонда', 'Зонду', 'Бонна', 'Бонну', 'Бон да', 'Бонд а'], 'offsetInContext': 43, 'context': '...ля, пытается украсть устройство и убить Бонда, однако погибает от пули Романовой.', 'offset': 79, 'errorLength': 5, 'category': 'TYPOS', 'ruleIssueType': 'misspelling', 'sentence': 'Роза Клебб, переодевшись в служащую отеля, пытается украсть устройство и убить Бонда, однако погибает от пули Романовой.'}),\n",
              " Match({'ruleId': 'MORFOLOGIK_RULE_RU_RU', 'message': 'Возможно найдена орфографическая ошибка.', 'replacements': ['Тома шполе', 'Томаш поле'], 'offsetInContext': 6, 'context': 'Рос в Томашполе, где отец работал хирургом и главврачом...', 'offset': 6, 'errorLength': 9, 'category': 'TYPOS', 'ruleIssueType': 'misspelling', 'sentence': 'Рос в Томашполе, где отец работал хирургом и главврачом районной больницы, а мать — стоматологом.'}),\n",
              " Match({'ruleId': 'MORFOLOGIK_RULE_RU_RU', 'message': 'Возможно найдена орфографическая ошибка.', 'replacements': ['Тома шполе', 'Томаш поле'], 'offsetInContext': 6, 'context': 'Рос в Томашполе, где отец работал хирургом и главврачом...', 'offset': 6, 'errorLength': 9, 'category': 'TYPOS', 'ruleIssueType': 'misspelling', 'sentence': 'Рос в Томашполе, где отец работал хирургом и главврачом районной больницы, а мать — стоматологом.'}),\n",
              " Match({'ruleId': 'MORFOLOGIK_RULE_RU_RU', 'message': 'Возможно найдена орфографическая ошибка.', 'replacements': ['Тома шполе', 'Томаш поле'], 'offsetInContext': 6, 'context': 'Рос в Томашполе, где отец работал хирургом и главврачом...', 'offset': 6, 'errorLength': 9, 'category': 'TYPOS', 'ruleIssueType': 'misspelling', 'sentence': 'Рос в Томашполе, где отец работал хирургом и главврачом районной больницы, а мать — стоматологом.'}),\n",
              " Match({'ruleId': 'ROST', 'message': 'Рост бывает у одушевлённых слов (человек большого роста), некого числа характеристик (рост показателей, рост качества, количества) и в некоторых устойчивых выражениях (рост экономики, преступности, безработицы).', 'replacements': [], 'offsetInContext': 0, 'context': 'Рост населения в Европе медленный по сравнению с други...', 'offset': 0, 'errorLength': 14, 'category': 'LOGIC', 'ruleIssueType': 'uncategorized', 'sentence': 'Рост населения в Европе медленный по сравнению с другими частями света из-за, среди прочего, низкого уровня рождаемости.'}),\n",
              " Match({'ruleId': 'ROST', 'message': 'Рост бывает у одушевлённых слов (человек большого роста), некого числа характеристик (рост показателей, рост качества, количества) и в некоторых устойчивых выражениях (рост экономики, преступности, безработицы).', 'replacements': [], 'offsetInContext': 0, 'context': 'Рост населения в Европе медленный по сравнению с други...', 'offset': 0, 'errorLength': 14, 'category': 'LOGIC', 'ruleIssueType': 'uncategorized', 'sentence': 'Рост населения в Европе медленный по сравнению с другими частями света из-за, среди прочего, низкого уровня рождаемости.'}),\n",
              " Match({'ruleId': 'ROST', 'message': 'Рост бывает у одушевлённых слов (человек большого роста), некого числа характеристик (рост показателей, рост качества, количества) и в некоторых устойчивых выражениях (рост экономики, преступности, безработицы).', 'replacements': [], 'offsetInContext': 0, 'context': 'Рост населения в Европе медленный по сравнению с други...', 'offset': 0, 'errorLength': 14, 'category': 'LOGIC', 'ruleIssueType': 'uncategorized', 'sentence': 'Рост населения в Европе медленный по сравнению с другими частями света из-за, среди прочего, низкого уровня рождаемости.'}),\n",
              " Match({'ruleId': 'ROST', 'message': 'Рост бывает у одушевлённых слов (человек большого роста), некого числа характеристик (рост показателей, рост качества, количества) и в некоторых устойчивых выражениях (рост экономики, преступности, безработицы).', 'replacements': [], 'offsetInContext': 0, 'context': 'Рост населения в Европе медленный по сравнению с други...', 'offset': 0, 'errorLength': 14, 'category': 'LOGIC', 'ruleIssueType': 'uncategorized', 'sentence': 'Рост населения в Европе медленный по сравнению с другими частями света из-за, среди прочего, низкого уровня рождаемости.'}),\n",
              " Match({'ruleId': 'ROST', 'message': 'Рост бывает у одушевлённых слов (человек большого роста), некого числа характеристик (рост показателей, рост качества, количества) и в некоторых устойчивых выражениях (рост экономики, преступности, безработицы).', 'replacements': [], 'offsetInContext': 0, 'context': 'Рост населения в Европе медленный по сравнению с други...', 'offset': 0, 'errorLength': 14, 'category': 'LOGIC', 'ruleIssueType': 'uncategorized', 'sentence': 'Рост населения в Европе медленный по сравнению с другими частями света из-за, среди прочего, низкого уровня рождаемости.'}),\n",
              " Match({'ruleId': 'ROST', 'message': 'Рост бывает у одушевлённых слов (человек большого роста), некого числа характеристик (рост показателей, рост качества, количества) и в некоторых устойчивых выражениях (рост экономики, преступности, безработицы).', 'replacements': [], 'offsetInContext': 0, 'context': 'Рост сферы услуг по предоставлению помощи рекордно...', 'offset': 0, 'errorLength': 10, 'category': 'LOGIC', 'ruleIssueType': 'uncategorized', 'sentence': 'Рост сферы услуг по предоставлению помощи рекордному числу беженцев во время Европейского миграционного кризиса способствовал снижению уровня безработицы внутри страны.'}),\n",
              " Match({'ruleId': 'ROST', 'message': 'Рост бывает у одушевлённых слов (человек большого роста), некого числа характеристик (рост показателей, рост качества, количества) и в некоторых устойчивых выражениях (рост экономики, преступности, безработицы).', 'replacements': [], 'offsetInContext': 0, 'context': 'Рост сферы услуг по предоставлению помощи рекордно...', 'offset': 0, 'errorLength': 10, 'category': 'LOGIC', 'ruleIssueType': 'uncategorized', 'sentence': 'Рост сферы услуг по предоставлению помощи рекордному числу беженцев во время Европейского миграционного кризиса способствовал снижению уровня безработицы внутри страны.'}),\n",
              " Match({'ruleId': 'ROST', 'message': 'Рост бывает у одушевлённых слов (человек большого роста), некого числа характеристик (рост показателей, рост качества, количества) и в некоторых устойчивых выражениях (рост экономики, преступности, безработицы).', 'replacements': [], 'offsetInContext': 0, 'context': 'Рост сферы услуг по предоставлению помощи рекордно...', 'offset': 0, 'errorLength': 10, 'category': 'LOGIC', 'ruleIssueType': 'uncategorized', 'sentence': 'Рост сферы услуг по предоставлению помощи рекордному числу беженцев во время Европейского миграционного кризиса способствовал снижению уровня безработицы внутри страны.'}),\n",
              " Match({'ruleId': 'ROST', 'message': 'Рост бывает у одушевлённых слов (человек большого роста), некого числа характеристик (рост показателей, рост качества, количества) и в некоторых устойчивых выражениях (рост экономики, преступности, безработицы).', 'replacements': [], 'offsetInContext': 0, 'context': 'Рост сферы услуг по предоставлению помощи рекордно...', 'offset': 0, 'errorLength': 10, 'category': 'LOGIC', 'ruleIssueType': 'uncategorized', 'sentence': 'Рост сферы услуг по предоставлению помощи рекордному числу беженцев во время Европейского миграционного кризиса способствовал снижению уровня безработицы внутри страны.'}),\n",
              " Match({'ruleId': 'ROST', 'message': 'Рост бывает у одушевлённых слов (человек большого роста), некого числа характеристик (рост показателей, рост качества, количества) и в некоторых устойчивых выражениях (рост экономики, преступности, безработицы).', 'replacements': [], 'offsetInContext': 0, 'context': 'Рост сферы услуг по предоставлению помощи рекордно...', 'offset': 0, 'errorLength': 10, 'category': 'LOGIC', 'ruleIssueType': 'uncategorized', 'sentence': 'Рост сферы услуг по предоставлению помощи рекордному числу беженцев во время Европейского миграционного кризиса способствовал снижению уровня безработицы внутри страны.'}),\n",
              " Match({'ruleId': 'ROST', 'message': 'Рост бывает у одушевлённых слов (человек большого роста), некого числа характеристик (рост показателей, рост качества, количества) и в некоторых устойчивых выражениях (рост экономики, преступности, безработицы).', 'replacements': [], 'offsetInContext': 0, 'context': 'Росту города способствует и удачное географическое п...', 'offset': 0, 'errorLength': 12, 'category': 'LOGIC', 'ruleIssueType': 'uncategorized', 'sentence': 'Росту города способствует и удачное географическое положение на пересечении крупных торговых путей, соединяющих Восток и Запад.'}),\n",
              " Match({'ruleId': 'ROST', 'message': 'Рост бывает у одушевлённых слов (человек большого роста), некого числа характеристик (рост показателей, рост качества, количества) и в некоторых устойчивых выражениях (рост экономики, преступности, безработицы).', 'replacements': [], 'offsetInContext': 0, 'context': 'Росту города способствует и удачное географическое п...', 'offset': 0, 'errorLength': 12, 'category': 'LOGIC', 'ruleIssueType': 'uncategorized', 'sentence': 'Росту города способствует и удачное географическое положение на пересечении крупных торговых путей, соединяющих Восток и Запад.'}),\n",
              " Match({'ruleId': 'ROST', 'message': 'Рост бывает у одушевлённых слов (человек большого роста), некого числа характеристик (рост показателей, рост качества, количества) и в некоторых устойчивых выражениях (рост экономики, преступности, безработицы).', 'replacements': [], 'offsetInContext': 0, 'context': 'Росту города способствует и удачное географическое п...', 'offset': 0, 'errorLength': 12, 'category': 'LOGIC', 'ruleIssueType': 'uncategorized', 'sentence': 'Росту города способствует и удачное географическое положение на пересечении крупных торговых путей, соединяющих Восток и Запад.'}),\n",
              " Match({'ruleId': 'ROST', 'message': 'Рост бывает у одушевлённых слов (человек большого роста), некого числа характеристик (рост показателей, рост качества, количества) и в некоторых устойчивых выражениях (рост экономики, преступности, безработицы).', 'replacements': [], 'offsetInContext': 0, 'context': 'Росту города способствует и удачное географическое п...', 'offset': 0, 'errorLength': 12, 'category': 'LOGIC', 'ruleIssueType': 'uncategorized', 'sentence': 'Росту города способствует и удачное географическое положение на пересечении крупных торговых путей, соединяющих Восток и Запад.'}),\n",
              " Match({'ruleId': 'ROST', 'message': 'Рост бывает у одушевлённых слов (человек большого роста), некого числа характеристик (рост показателей, рост качества, количества) и в некоторых устойчивых выражениях (рост экономики, преступности, безработицы).', 'replacements': [], 'offsetInContext': 0, 'context': 'Росту города способствует и удачное географическое п...', 'offset': 0, 'errorLength': 12, 'category': 'LOGIC', 'ruleIssueType': 'uncategorized', 'sentence': 'Росту города способствует и удачное географическое положение на пересечении крупных торговых путей, соединяющих Восток и Запад.'}),\n",
              " Match({'ruleId': 'MORFOLOGIK_RULE_RU_RU', 'message': 'Возможно найдена орфографическая ошибка.', 'replacements': [], 'offsetInContext': 43, 'context': '...ским и духовным авторитетам, поклонялся царю-батюшке и христианскому Богу, пришёл к чёрством...', 'offset': 71, 'errorLength': 12, 'category': 'TYPOS', 'ruleIssueType': 'misspelling', 'sentence': 'Русский писатель подчинился мирским и духовным авторитетам, поклонялся царю-батюшке и христианскому Богу, пришёл к чёрствому русскому национализму.'}),\n",
              " Match({'ruleId': 'MORFOLOGIK_RULE_RU_RU', 'message': 'Возможно найдена орфографическая ошибка.', 'replacements': [], 'offsetInContext': 43, 'context': '...ским и духовным авторитетам, поклонялся царю-батюшке и христианскому Богу, пришёл к чёрством...', 'offset': 71, 'errorLength': 12, 'category': 'TYPOS', 'ruleIssueType': 'misspelling', 'sentence': 'Русский писатель подчинился мирским и духовным авторитетам, поклонялся царю-батюшке и христианскому Богу, пришёл к чёрствому русскому национализму.'}),\n",
              " Match({'ruleId': 'MORFOLOGIK_RULE_RU_RU', 'message': 'Возможно найдена орфографическая ошибка.', 'replacements': [], 'offsetInContext': 43, 'context': '...ским и духовным авторитетам, поклонялся царю-батюшке и христианскому Богу, пришёл к чёрством...', 'offset': 71, 'errorLength': 12, 'category': 'TYPOS', 'ruleIssueType': 'misspelling', 'sentence': 'Русский писатель подчинился мирским и духовным авторитетам, поклонялся царю-батюшке и христианскому Богу, пришёл к чёрствому русскому национализму.'}),\n",
              " Match({'ruleId': 'MORFOLOGIK_RULE_RU_RU', 'message': 'Возможно найдена орфографическая ошибка.', 'replacements': [], 'offsetInContext': 43, 'context': '...ским и духовным авторитетам, поклонялся царю-батюшке и христианскому Богу, пришёл к чёрством...', 'offset': 71, 'errorLength': 12, 'category': 'TYPOS', 'ruleIssueType': 'misspelling', 'sentence': 'Русский писатель подчинился мирским и духовным авторитетам, поклонялся царю-батюшке и христианскому Богу, пришёл к чёрствому русскому национализму.'}),\n",
              " Match({'ruleId': 'MORFOLOGIK_RULE_RU_RU', 'message': 'Возможно найдена орфографическая ошибка.', 'replacements': ['Дерена', 'Дерену', 'Херена', 'Херено', 'Мерена', 'Мерено', 'Серена', 'Серено', 'Терена', 'Терену', 'Теряна', 'Теряно', 'Щерена', 'Щерено', 'Йемена', 'Йемену'], 'offsetInContext': 43, 'context': '...силой несутся на незащищённое побережье Йэрена (Jæren).', 'offset': 90, 'errorLength': 6, 'category': 'TYPOS', 'ruleIssueType': 'misspelling', 'sentence': 'Ряд островов прерывается и морские волны с полной силой несутся на незащищённое побережье Йэрена (Jæren).'}),\n",
              " Match({'ruleId': 'MORFOLOGIK_RULE_RU_RU', 'message': 'Возможно найдена орфографическая ошибка.', 'replacements': ['Дерена', 'Дерену', 'Херена', 'Херено', 'Мерена', 'Мерено', 'Серена', 'Серено', 'Терена', 'Терену', 'Теряна', 'Теряно', 'Щерена', 'Щерено', 'Йемена', 'Йемену'], 'offsetInContext': 43, 'context': '...силой несутся на незащищённое побережье Йэрена (Jæren).', 'offset': 90, 'errorLength': 6, 'category': 'TYPOS', 'ruleIssueType': 'misspelling', 'sentence': 'Ряд островов прерывается и морские волны с полной силой несутся на незащищённое побережье Йэрена (Jæren).'}),\n",
              " Match({'ruleId': 'MORFOLOGIK_RULE_RU_RU', 'message': 'Возможно найдена орфографическая ошибка.', 'replacements': ['Дерена', 'Дерену', 'Херена', 'Херено', 'Мерена', 'Мерено', 'Серена', 'Серено', 'Терена', 'Терену', 'Теряна', 'Теряно', 'Щерена', 'Щерено', 'Йемена', 'Йемену'], 'offsetInContext': 43, 'context': '...силой несутся на незащищённое побережье Йэрена (Jæren).', 'offset': 90, 'errorLength': 6, 'category': 'TYPOS', 'ruleIssueType': 'misspelling', 'sentence': 'Ряд островов прерывается и морские волны с полной силой несутся на незащищённое побережье Йэрена (Jæren).'}),\n",
              " Match({'ruleId': 'MORFOLOGIK_RULE_RU_RU', 'message': 'Возможно найдена орфографическая ошибка.', 'replacements': ['Дерена', 'Дерену', 'Херена', 'Херено', 'Мерена', 'Мерено', 'Серена', 'Серено', 'Терена', 'Терену', 'Теряна', 'Теряно', 'Щерена', 'Щерено', 'Йемена', 'Йемену'], 'offsetInContext': 43, 'context': '...силой несутся на незащищённое побережье Йэрена (Jæren).', 'offset': 90, 'errorLength': 6, 'category': 'TYPOS', 'ruleIssueType': 'misspelling', 'sentence': 'Ряд островов прерывается и морские волны с полной силой несутся на незащищённое побережье Йэрена (Jæren).'}),\n",
              " Match({'ruleId': 'MORFOLOGIK_RULE_RU_RU', 'message': 'Возможно найдена орфографическая ошибка.', 'replacements': ['Дерена', 'Дерену', 'Херена', 'Херено', 'Мерена', 'Мерено', 'Серена', 'Серено', 'Терена', 'Терену', 'Теряна', 'Теряно', 'Щерена', 'Щерено', 'Йемена', 'Йемену'], 'offsetInContext': 43, 'context': '...силой несутся на незащищённое побережье Йэрена (Jæren).', 'offset': 90, 'errorLength': 6, 'category': 'TYPOS', 'ruleIssueType': 'misspelling', 'sentence': 'Ряд островов прерывается и морские волны с полной силой несутся на незащищённое побережье Йэрена (Jæren).'}),\n",
              " Match({'ruleId': 'WHITESPACE_RULE', 'message': 'Повтор пробела', 'replacements': [' '], 'offsetInContext': 20, 'context': 'С 1 января 2020 года  стоимость проезда в «социальных» автобус...', 'offset': 20, 'errorLength': 2, 'category': 'TYPOGRAPHY', 'ruleIssueType': 'whitespace', 'sentence': 'С 1 января 2020 года  стоимость проезда в «социальных» автобусах составляет 11,5 рублей для граждан, имеющих право на льготный проезд, и 28 рублей для всех остальных.'}),\n",
              " Match({'ruleId': 'Num_plus_Noun', 'message': 'Существительное с дробным числительным должно употребляться в единственном числе (например 35,5 процента), а не во множественном (35,5 процентов): «11,5 рубля»', 'replacements': ['11,5 рубля'], 'offsetInContext': 43, 'context': '...зда в «социальных» автобусах составляет 11,5 рублей для граждан, имеющих право на льготный ...', 'offset': 76, 'errorLength': 11, 'category': 'STYLE', 'ruleIssueType': 'uncategorized', 'sentence': 'С 1 января 2020 года  стоимость проезда в «социальных» автобусах составляет 11,5 рублей для граждан, имеющих право на льготный проезд, и 28 рублей для всех остальных.'}),\n",
              " Match({'ruleId': 'MORFOLOGIK_RULE_RU_RU', 'message': 'Возможно найдена орфографическая ошибка.', 'replacements': ['Кенийский'], 'offsetInContext': 43, 'context': '...зависимости Украины, Котловина входит в Ренийский район Одесской области Украины.', 'offset': 91, 'errorLength': 9, 'category': 'TYPOS', 'ruleIssueType': 'misspelling', 'sentence': 'С 1991 года, после развала СССР и провозглашения независимости Украины, Котловина входит в Ренийский район Одесской области Украины.'}),\n",
              " Match({'ruleId': 'MORFOLOGIK_RULE_RU_RU', 'message': 'Возможно найдена орфографическая ошибка.', 'replacements': [], 'offsetInContext': 43, 'context': '...рослями кедрового стланика и березняка, травянисто-кустарниковыми формациями и кустарниковыми пустошами.', 'offset': 78, 'errorLength': 25, 'category': 'TYPOS', 'ruleIssueType': 'misspelling', 'sentence': 'С высотой лес постепенно заменяется зарослями кедрового стланика и березняка, травянисто-кустарниковыми формациями и кустарниковыми пустошами.'}),\n",
              " Match({'ruleId': 'MORFOLOGIK_RULE_RU_RU', 'message': 'Возможно найдена орфографическая ошибка.', 'replacements': [], 'offsetInContext': 43, 'context': '...рослями кедрового стланика и березняка, травянисто-кустарниковыми формациями и кустарниковыми пустошами.', 'offset': 78, 'errorLength': 25, 'category': 'TYPOS', 'ruleIssueType': 'misspelling', 'sentence': 'С высотой лес постепенно заменяется зарослями кедрового стланика и березняка, травянисто-кустарниковыми формациями и кустарниковыми пустошами.'}),\n",
              " Match({'ruleId': 'MORFOLOGIK_RULE_RU_RU', 'message': 'Возможно найдена орфографическая ошибка.', 'replacements': [], 'offsetInContext': 43, 'context': '...рослями кедрового стланика и березняка, травянисто-кустарниковыми формациями и кустарниковыми пустошами.', 'offset': 78, 'errorLength': 25, 'category': 'TYPOS', 'ruleIssueType': 'misspelling', 'sentence': 'С высотой лес постепенно заменяется зарослями кедрового стланика и березняка, травянисто-кустарниковыми формациями и кустарниковыми пустошами.'}),\n",
              " Match({'ruleId': 'MORFOLOGIK_RULE_RU_RU', 'message': 'Возможно найдена орфографическая ошибка.', 'replacements': [], 'offsetInContext': 43, 'context': '...рослями кедрового стланика и березняка, травянисто-кустарниковыми формациями и кустарниковыми пустошами.', 'offset': 78, 'errorLength': 25, 'category': 'TYPOS', 'ruleIssueType': 'misspelling', 'sentence': 'С высотой лес постепенно заменяется зарослями кедрового стланика и березняка, травянисто-кустарниковыми формациями и кустарниковыми пустошами.'}),\n",
              " Match({'ruleId': 'MORFOLOGIK_RULE_RU_RU', 'message': 'Возможно найдена орфографическая ошибка.', 'replacements': [], 'offsetInContext': 43, 'context': '...рослями кедрового стланика и березняка, травянисто-кустарниковыми формациями и кустарниковыми пустошами.', 'offset': 78, 'errorLength': 25, 'category': 'TYPOS', 'ruleIssueType': 'misspelling', 'sentence': 'С высотой лес постепенно заменяется зарослями кедрового стланика и березняка, травянисто-кустарниковыми формациями и кустарниковыми пустошами.'}),\n",
              " Match({'ruleId': 'MORFOLOGIK_RULE_RU_RU', 'message': 'Возможно найдена орфографическая ошибка.', 'replacements': ['Лёсс', 'Лесс', 'Месс', 'Гесс', 'Хе сс'], 'offsetInContext': 43, 'context': '...концертные залы в Лондоне были закрыты, Хесс начала выступать со знаменитыми «Обеден...', 'offset': 82, 'errorLength': 4, 'category': 'TYPOS', 'ruleIssueType': 'misspelling', 'sentence': 'С началом Второй мировой войны, когда все концертные залы в Лондоне были закрыты, Хесс начала выступать со знаменитыми «Обеденными концертами» в Национальной галерее.'}),\n",
              " Match({'ruleId': 'MORFOLOGIK_RULE_RU_RU', 'message': 'Возможно найдена орфографическая ошибка.', 'replacements': ['Лёсс', 'Лесс', 'Месс', 'Гесс', 'Хе сс'], 'offsetInContext': 43, 'context': '...концертные залы в Лондоне были закрыты, Хесс начала выступать со знаменитыми «Обеден...', 'offset': 82, 'errorLength': 4, 'category': 'TYPOS', 'ruleIssueType': 'misspelling', 'sentence': 'С началом Второй мировой войны, когда все концертные залы в Лондоне были закрыты, Хесс начала выступать со знаменитыми «Обеденными концертами» в Национальной галерее.'}),\n",
              " Match({'ruleId': 'MORFOLOGIK_RULE_RU_RU', 'message': 'Возможно найдена орфографическая ошибка.', 'replacements': ['Лёсс', 'Лесс', 'Месс', 'Гесс', 'Хе сс'], 'offsetInContext': 43, 'context': '...концертные залы в Лондоне были закрыты, Хесс начала выступать со знаменитыми «Обеден...', 'offset': 82, 'errorLength': 4, 'category': 'TYPOS', 'ruleIssueType': 'misspelling', 'sentence': 'С началом Второй мировой войны, когда все концертные залы в Лондоне были закрыты, Хесс начала выступать со знаменитыми «Обеденными концертами» в Национальной галерее.'}),\n",
              " Match({'ruleId': 'MORFOLOGIK_RULE_RU_RU', 'message': 'Возможно найдена орфографическая ошибка.', 'replacements': ['Гудаута', 'Гудауту', 'Гад рута'], 'offsetInContext': 10, 'context': 'С падения Гадрута ситуация изменилась — азербайджанские в...', 'offset': 10, 'errorLength': 7, 'category': 'TYPOS', 'ruleIssueType': 'misspelling', 'sentence': 'С падения Гадрута ситуация изменилась — азербайджанские войска стали продвигаться более интенсивно, а армяне — отступать.'}),\n",
              " Match({'ruleId': 'MORFOLOGIK_RULE_RU_RU', 'message': 'Возможно найдена орфографическая ошибка.', 'replacements': ['Гудаута', 'Гудауту', 'Гад рута'], 'offsetInContext': 10, 'context': 'С падения Гадрута ситуация изменилась — азербайджанские в...', 'offset': 10, 'errorLength': 7, 'category': 'TYPOS', 'ruleIssueType': 'misspelling', 'sentence': 'С падения Гадрута ситуация изменилась — азербайджанские войска стали продвигаться более интенсивно, а армяне — отступать.'}),\n",
              " Match({'ruleId': 'MORFOLOGIK_RULE_RU_RU', 'message': 'Возможно найдена орфографическая ошибка.', 'replacements': ['Линд ланд'], 'offsetInContext': 16, 'context': 'С первого удара Линдланд нанес Емельяненко рассечение над правым...', 'offset': 16, 'errorLength': 8, 'category': 'TYPOS', 'ruleIssueType': 'misspelling', 'sentence': 'С первого удара Линдланд нанес Емельяненко рассечение над правым глазом и вошёл в клинч в попытке перевести бой в партер.'}),\n",
              " Match({'ruleId': 'MORFOLOGIK_RULE_RU_RU', 'message': 'Возможно найдена орфографическая ошибка.', 'replacements': ['Линд ланд'], 'offsetInContext': 16, 'context': 'С первого удара Линдланд нанес Емельяненко рассечение над правым...', 'offset': 16, 'errorLength': 8, 'category': 'TYPOS', 'ruleIssueType': 'misspelling', 'sentence': 'С первого удара Линдланд нанес Емельяненко рассечение над правым глазом и вошёл в клинч в попытке перевести бой в партер.'}),\n",
              " Match({'ruleId': 'MORFOLOGIK_RULE_RU_RU', 'message': 'Возможно найдена орфографическая ошибка.', 'replacements': ['Линд ланд'], 'offsetInContext': 16, 'context': 'С первого удара Линдланд нанес Емельяненко рассечение над правым...', 'offset': 16, 'errorLength': 8, 'category': 'TYPOS', 'ruleIssueType': 'misspelling', 'sentence': 'С первого удара Линдланд нанес Емельяненко рассечение над правым глазом и вошёл в клинч в попытке перевести бой в партер.'}),\n",
              " Match({'ruleId': 'MORFOLOGIK_RULE_RU_RU', 'message': 'Возможно найдена орфографическая ошибка.', 'replacements': ['Линд ланд'], 'offsetInContext': 16, 'context': 'С первого удара Линдланд нанес Емельяненко рассечение над правым...', 'offset': 16, 'errorLength': 8, 'category': 'TYPOS', 'ruleIssueType': 'misspelling', 'sentence': 'С первого удара Линдланд нанес Емельяненко рассечение над правым глазом и вошёл в клинч в попытке перевести бой в партер.'}),\n",
              " Match({'ruleId': 'MORFOLOGIK_RULE_RU_RU', 'message': 'Возможно найдена орфографическая ошибка.', 'replacements': ['Линд ланд'], 'offsetInContext': 16, 'context': 'С первого удара Линдланд нанес Емельяненко рассечение над правым...', 'offset': 16, 'errorLength': 8, 'category': 'TYPOS', 'ruleIssueType': 'misspelling', 'sentence': 'С первого удара Линдланд нанес Емельяненко рассечение над правым глазом и вошёл в клинч в попытке перевести бой в партер.'}),\n",
              " Match({'ruleId': 'MORFOLOGIK_RULE_RU_RU', 'message': 'Возможно найдена орфографическая ошибка.', 'replacements': ['Страус трупа'], 'offsetInContext': 15, 'context': 'С точки зрения Страуструпа, предпочтительнее внесение в ядро неско...', 'offset': 15, 'errorLength': 11, 'category': 'TYPOS', 'ruleIssueType': 'misspelling', 'sentence': 'С точки зрения Страуструпа, предпочтительнее внесение в ядро нескольких серьёзных больших изменений, чем множества мелких правок.'}),\n",
              " Match({'ruleId': 'MORFOLOGIK_RULE_RU_RU', 'message': 'Возможно найдена орфографическая ошибка.', 'replacements': ['Страус трупа'], 'offsetInContext': 15, 'context': 'С точки зрения Страуструпа, предпочтительнее внесение в ядро неско...', 'offset': 15, 'errorLength': 11, 'category': 'TYPOS', 'ruleIssueType': 'misspelling', 'sentence': 'С точки зрения Страуструпа, предпочтительнее внесение в ядро нескольких серьёзных больших изменений, чем множества мелких правок.'}),\n",
              " Match({'ruleId': 'MORFOLOGIK_RULE_RU_RU', 'message': 'Возможно найдена орфографическая ошибка.', 'replacements': ['Страус трупа'], 'offsetInContext': 15, 'context': 'С точки зрения Страуструпа, предпочтительнее внесение в ядро неско...', 'offset': 15, 'errorLength': 11, 'category': 'TYPOS', 'ruleIssueType': 'misspelling', 'sentence': 'С точки зрения Страуструпа, предпочтительнее внесение в ядро нескольких серьёзных больших изменений, чем множества мелких правок.'}),\n",
              " Match({'ruleId': 'MORFOLOGIK_RULE_RU_RU', 'message': 'Возможно найдена орфографическая ошибка.', 'replacements': [], 'offsetInContext': 20, 'context': 'Самарский областной историко-краеведческий музей — самый крупный музей Самарской о...', 'offset': 20, 'errorLength': 22, 'category': 'TYPOS', 'ruleIssueType': 'misspelling', 'sentence': 'Самарский областной историко-краеведческий музей — самый крупный музей Самарской области — в настоящее время располагается в нескольких зданиях.'}),\n",
              " Match({'ruleId': 'MORFOLOGIK_RULE_RU_RU', 'message': 'Возможно найдена орфографическая ошибка.', 'replacements': [], 'offsetInContext': 20, 'context': 'Самарский областной историко-краеведческий музей — самый крупный музей Самарской о...', 'offset': 20, 'errorLength': 22, 'category': 'TYPOS', 'ruleIssueType': 'misspelling', 'sentence': 'Самарский областной историко-краеведческий музей — самый крупный музей Самарской области — в настоящее время располагается в нескольких зданиях.'}),\n",
              " Match({'ruleId': 'MORFOLOGIK_RULE_RU_RU', 'message': 'Возможно найдена орфографическая ошибка.', 'replacements': [], 'offsetInContext': 20, 'context': 'Самарский областной историко-краеведческий музей — самый крупный музей Самарской о...', 'offset': 20, 'errorLength': 22, 'category': 'TYPOS', 'ruleIssueType': 'misspelling', 'sentence': 'Самарский областной историко-краеведческий музей — самый крупный музей Самарской области — в настоящее время располагается в нескольких зданиях.'}),\n",
              " Match({'ruleId': 'MORFOLOGIK_RULE_RU_RU', 'message': 'Возможно найдена орфографическая ошибка.', 'replacements': [], 'offsetInContext': 20, 'context': 'Самарский областной историко-краеведческий музей — самый крупный музей Самарской о...', 'offset': 20, 'errorLength': 22, 'category': 'TYPOS', 'ruleIssueType': 'misspelling', 'sentence': 'Самарский областной историко-краеведческий музей — самый крупный музей Самарской области — в настоящее время располагается в нескольких зданиях.'}),\n",
              " Match({'ruleId': 'MORFOLOGIK_RULE_RU_RU', 'message': 'Возможно найдена орфографическая ошибка.', 'replacements': ['превентивной'], 'offsetInContext': 30, 'context': 'Самой распространённой формой превентативной активности являются образовательные общ...', 'offset': 30, 'errorLength': 14, 'category': 'TYPOS', 'ruleIssueType': 'misspelling', 'sentence': 'Самой распространённой формой превентативной активности являются образовательные общественные кампании, предоставляющие информацию о факторах риска шизофрении, ранней диагностике и возможностях терапии.'}),\n",
              " Match({'ruleId': 'MORFOLOGIK_RULE_RU_RU', 'message': 'Возможно найдена орфографическая ошибка.', 'replacements': ['превентивной'], 'offsetInContext': 30, 'context': 'Самой распространённой формой превентативной активности являются образовательные общ...', 'offset': 30, 'errorLength': 14, 'category': 'TYPOS', 'ruleIssueType': 'misspelling', 'sentence': 'Самой распространённой формой превентативной активности являются образовательные общественные кампании, предоставляющие информацию о факторах риска шизофрении, ранней диагностике и возможностях терапии.'}),\n",
              " Match({'ruleId': 'MORFOLOGIK_RULE_RU_RU', 'message': 'Возможно найдена орфографическая ошибка.', 'replacements': ['превентивной'], 'offsetInContext': 30, 'context': 'Самой распространённой формой превентативной активности являются образовательные общ...', 'offset': 30, 'errorLength': 14, 'category': 'TYPOS', 'ruleIssueType': 'misspelling', 'sentence': 'Самой распространённой формой превентативной активности являются образовательные общественные кампании, предоставляющие информацию о факторах риска шизофрении, ранней диагностике и возможностях терапии.'}),\n",
              " Match({'ruleId': 'MORFOLOGIK_RULE_RU_RU', 'message': 'Возможно найдена орфографическая ошибка.', 'replacements': ['само собирающихся', 'самос обирающихся'], 'offsetInContext': 43, 'context': '...тезы, что жизнь могла зародиться в виде самособирающихся органических молекул.', 'offset': 114, 'errorLength': 16, 'category': 'TYPOS', 'ruleIssueType': 'misspelling', 'sentence': 'Самосборка вирусных частиц в клетке даёт дополнительное подтверждение гипотезы, что жизнь могла зародиться в виде самособирающихся органических молекул.'}),\n",
              " Match({'ruleId': 'MORFOLOGIK_RULE_RU_RU', 'message': 'Возможно найдена орфографическая ошибка.', 'replacements': ['само собирающихся', 'самос обирающихся'], 'offsetInContext': 43, 'context': '...тезы, что жизнь могла зародиться в виде самособирающихся органических молекул.', 'offset': 114, 'errorLength': 16, 'category': 'TYPOS', 'ruleIssueType': 'misspelling', 'sentence': 'Самосборка вирусных частиц в клетке даёт дополнительное подтверждение гипотезы, что жизнь могла зародиться в виде самособирающихся органических молекул.'}),\n",
              " Match({'ruleId': 'MORFOLOGIK_RULE_RU_RU', 'message': 'Возможно найдена орфографическая ошибка.', 'replacements': ['само собирающихся', 'самос обирающихся'], 'offsetInContext': 43, 'context': '...тезы, что жизнь могла зародиться в виде самособирающихся органических молекул.', 'offset': 114, 'errorLength': 16, 'category': 'TYPOS', 'ruleIssueType': 'misspelling', 'sentence': 'Самосборка вирусных частиц в клетке даёт дополнительное подтверждение гипотезы, что жизнь могла зародиться в виде самособирающихся органических молекул.'}),\n",
              " Match({'ruleId': 'MORFOLOGIK_RULE_RU_RU', 'message': 'Возможно найдена орфографическая ошибка.', 'replacements': ['само собирающихся', 'самос обирающихся'], 'offsetInContext': 43, 'context': '...тезы, что жизнь могла зародиться в виде самособирающихся органических молекул.', 'offset': 114, 'errorLength': 16, 'category': 'TYPOS', 'ruleIssueType': 'misspelling', 'sentence': 'Самосборка вирусных частиц в клетке даёт дополнительное подтверждение гипотезы, что жизнь могла зародиться в виде самособирающихся органических молекул.'}),\n",
              " Match({'ruleId': 'MORFOLOGIK_RULE_RU_RU', 'message': 'Возможно найдена орфографическая ошибка.', 'replacements': ['само собирающихся', 'самос обирающихся'], 'offsetInContext': 43, 'context': '...тезы, что жизнь могла зародиться в виде самособирающихся органических молекул.', 'offset': 114, 'errorLength': 16, 'category': 'TYPOS', 'ruleIssueType': 'misspelling', 'sentence': 'Самосборка вирусных частиц в клетке даёт дополнительное подтверждение гипотезы, что жизнь могла зародиться в виде самособирающихся органических молекул.'}),\n",
              " Match({'ruleId': 'MORFOLOGIK_RULE_RU_RU', 'message': 'Возможно найдена орфографическая ошибка.', 'replacements': [], 'offsetInContext': 32, 'context': 'Симптомами бронхолёгочной формы муковисцидоза являются вялость, бледность кожных покр...', 'offset': 32, 'errorLength': 13, 'category': 'TYPOS', 'ruleIssueType': 'misspelling', 'sentence': 'Симптомами бронхолёгочной формы муковисцидоза являются вялость, бледность кожных покровов, недостаточная прибавка массы тела при удовлетворительном аппетите.'}),\n",
              " Match({'ruleId': 'MORFOLOGIK_RULE_RU_RU', 'message': 'Возможно найдена орфографическая ошибка.', 'replacements': [], 'offsetInContext': 32, 'context': 'Симптомами бронхолёгочной формы муковисцидоза являются вялость, бледность кожных покр...', 'offset': 32, 'errorLength': 13, 'category': 'TYPOS', 'ruleIssueType': 'misspelling', 'sentence': 'Симптомами бронхолёгочной формы муковисцидоза являются вялость, бледность кожных покровов, недостаточная прибавка массы тела при удовлетворительном аппетите.'}),\n",
              " Match({'ruleId': 'MORFOLOGIK_RULE_RU_RU', 'message': 'Возможно найдена орфографическая ошибка.', 'replacements': [], 'offsetInContext': 32, 'context': 'Симптомами бронхолёгочной формы муковисцидоза являются вялость, бледность кожных покр...', 'offset': 32, 'errorLength': 13, 'category': 'TYPOS', 'ruleIssueType': 'misspelling', 'sentence': 'Симптомами бронхолёгочной формы муковисцидоза являются вялость, бледность кожных покровов, недостаточная прибавка массы тела при удовлетворительном аппетите.'}),\n",
              " Match({'ruleId': 'MORFOLOGIK_RULE_RU_RU', 'message': 'Возможно найдена орфографическая ошибка.', 'replacements': [], 'offsetInContext': 32, 'context': 'Симптомами бронхолёгочной формы муковисцидоза являются вялость, бледность кожных покр...', 'offset': 32, 'errorLength': 13, 'category': 'TYPOS', 'ruleIssueType': 'misspelling', 'sentence': 'Симптомами бронхолёгочной формы муковисцидоза являются вялость, бледность кожных покровов, недостаточная прибавка массы тела при удовлетворительном аппетите.'}),\n",
              " Match({'ruleId': 'MORFOLOGIK_RULE_RU_RU', 'message': 'Возможно найдена орфографическая ошибка.', 'replacements': [], 'offsetInContext': 32, 'context': 'Симптомами бронхолёгочной формы муковисцидоза являются вялость, бледность кожных покр...', 'offset': 32, 'errorLength': 13, 'category': 'TYPOS', 'ruleIssueType': 'misspelling', 'sentence': 'Симптомами бронхолёгочной формы муковисцидоза являются вялость, бледность кожных покровов, недостаточная прибавка массы тела при удовлетворительном аппетите.'}),\n",
              " Match({'ruleId': 'MORFOLOGIK_RULE_RU_RU', 'message': 'Возможно найдена орфографическая ошибка.', 'replacements': ['мехико'], 'offsetInContext': 43, 'context': '... задний придел), разделённые преградой (мехица).', 'offset': 164, 'errorLength': 6, 'category': 'TYPOS', 'ruleIssueType': 'misspelling', 'sentence': 'Синагога обычно имеет прямоугольную форму; для мужчин и женщин есть раздельные помещения (это может быть балкон, боковой или задний придел), разделённые преградой (мехица).'}),\n",
              " Match({'ruleId': 'MORFOLOGIK_RULE_RU_RU', 'message': 'Возможно найдена орфографическая ошибка.', 'replacements': ['исмайлов', 'саулов', 'смолов', 'стойлов', 'смай лов', 'смайл ов'], 'offsetInContext': 43, 'context': '...стоты изменения шрифтов и использования смайлов.', 'offset': 110, 'errorLength': 7, 'category': 'TYPOS', 'ruleIssueType': 'misspelling', 'sentence': 'Система распознавания эмоций основанная на анализе скорости печати, частоты изменения шрифтов и использования смайлов.'}),\n",
              " Match({'ruleId': 'MORFOLOGIK_RULE_RU_RU', 'message': 'Возможно найдена орфографическая ошибка.', 'replacements': ['исмайлов', 'саулов', 'смолов', 'стойлов', 'смай лов', 'смайл ов'], 'offsetInContext': 43, 'context': '...стоты изменения шрифтов и использования смайлов.', 'offset': 110, 'errorLength': 7, 'category': 'TYPOS', 'ruleIssueType': 'misspelling', 'sentence': 'Система распознавания эмоций основанная на анализе скорости печати, частоты изменения шрифтов и использования смайлов.'}),\n",
              " Match({'ruleId': 'MORFOLOGIK_RULE_RU_RU', 'message': 'Возможно найдена орфографическая ошибка.', 'replacements': ['исмайлов', 'саулов', 'смолов', 'стойлов', 'смай лов', 'смайл ов'], 'offsetInContext': 43, 'context': '...стоты изменения шрифтов и использования смайлов.', 'offset': 110, 'errorLength': 7, 'category': 'TYPOS', 'ruleIssueType': 'misspelling', 'sentence': 'Система распознавания эмоций основанная на анализе скорости печати, частоты изменения шрифтов и использования смайлов.'}),\n",
              " Match({'ruleId': 'MORFOLOGIK_RULE_RU_RU', 'message': 'Возможно найдена орфографическая ошибка.', 'replacements': ['исмайлов', 'саулов', 'смолов', 'стойлов', 'смай лов', 'смайл ов'], 'offsetInContext': 43, 'context': '...стоты изменения шрифтов и использования смайлов.', 'offset': 110, 'errorLength': 7, 'category': 'TYPOS', 'ruleIssueType': 'misspelling', 'sentence': 'Система распознавания эмоций основанная на анализе скорости печати, частоты изменения шрифтов и использования смайлов.'}),\n",
              " Match({'ruleId': 'MORFOLOGIK_RULE_RU_RU', 'message': 'Возможно найдена орфографическая ошибка.', 'replacements': ['исмайлов', 'саулов', 'смолов', 'стойлов', 'смай лов', 'смайл ов'], 'offsetInContext': 43, 'context': '...стоты изменения шрифтов и использования смайлов.', 'offset': 110, 'errorLength': 7, 'category': 'TYPOS', 'ruleIssueType': 'misspelling', 'sentence': 'Система распознавания эмоций основанная на анализе скорости печати, частоты изменения шрифтов и использования смайлов.'}),\n",
              " Match({'ruleId': 'MORFOLOGIK_RULE_RU_RU', 'message': 'Возможно найдена орфографическая ошибка.', 'replacements': ['менять', 'тянуть', 'минуть', 'сенат', 'метать', 'мешать', 'мент', 'мякоть', 'вянуть', 'мекать', 'менуэт', 'мена', 'аменат', 'денут', 'манат', 'менад', 'менах', 'менам', 'меною', 'меной', 'менор', 'мента', 'мену', 'метут', 'мечут', 'минут', 'ренат', 'тянут', 'женат', 'вянут', 'мен ат', 'мена т'], 'offsetInContext': 43, 'context': '...ремушку музыкальный инструмент, а также менат использовались женщинами в религиозных ...', 'offset': 62, 'errorLength': 5, 'category': 'TYPOS', 'ruleIssueType': 'misspelling', 'sentence': 'Систр — похожий на погремушку музыкальный инструмент, а также менат использовались женщинами в религиозных церемониях.'}),\n",
              " Match({'ruleId': 'MORFOLOGIK_RULE_RU_RU', 'message': 'Возможно найдена орфографическая ошибка.', 'replacements': ['менять', 'тянуть', 'минуть', 'сенат', 'метать', 'мешать', 'мент', 'мякоть', 'вянуть', 'мекать', 'менуэт', 'мена', 'аменат', 'денут', 'манат', 'менад', 'менах', 'менам', 'меною', 'меной', 'менор', 'мента', 'мену', 'метут', 'мечут', 'минут', 'ренат', 'тянут', 'женат', 'вянут', 'мен ат', 'мена т'], 'offsetInContext': 43, 'context': '...ремушку музыкальный инструмент, а также менат использовались женщинами в религиозных ...', 'offset': 62, 'errorLength': 5, 'category': 'TYPOS', 'ruleIssueType': 'misspelling', 'sentence': 'Систр — похожий на погремушку музыкальный инструмент, а также менат использовались женщинами в религиозных церемониях.'}),\n",
              " Match({'ruleId': 'MORFOLOGIK_RULE_RU_RU', 'message': 'Возможно найдена орфографическая ошибка.', 'replacements': ['менять', 'тянуть', 'минуть', 'сенат', 'метать', 'мешать', 'мент', 'мякоть', 'вянуть', 'мекать', 'менуэт', 'мена', 'аменат', 'денут', 'манат', 'менад', 'менах', 'менам', 'меною', 'меной', 'менор', 'мента', 'мену', 'метут', 'мечут', 'минут', 'ренат', 'тянут', 'женат', 'вянут', 'мен ат', 'мена т'], 'offsetInContext': 43, 'context': '...ремушку музыкальный инструмент, а также менат использовались женщинами в религиозных ...', 'offset': 62, 'errorLength': 5, 'category': 'TYPOS', 'ruleIssueType': 'misspelling', 'sentence': 'Систр — похожий на погремушку музыкальный инструмент, а также менат использовались женщинами в религиозных церемониях.'}),\n",
              " Match({'ruleId': 'MORFOLOGIK_RULE_RU_RU', 'message': 'Возможно найдена орфографическая ошибка.', 'replacements': ['менять', 'тянуть', 'минуть', 'сенат', 'метать', 'мешать', 'мент', 'мякоть', 'вянуть', 'мекать', 'менуэт', 'мена', 'аменат', 'денут', 'манат', 'менад', 'менах', 'менам', 'меною', 'меной', 'менор', 'мента', 'мену', 'метут', 'мечут', 'минут', 'ренат', 'тянут', 'женат', 'вянут', 'мен ат', 'мена т'], 'offsetInContext': 43, 'context': '...ремушку музыкальный инструмент, а также менат использовались женщинами в религиозных ...', 'offset': 62, 'errorLength': 5, 'category': 'TYPOS', 'ruleIssueType': 'misspelling', 'sentence': 'Систр — похожий на погремушку музыкальный инструмент, а также менат использовались женщинами в религиозных церемониях.'}),\n",
              " Match({'ruleId': 'MORFOLOGIK_RULE_RU_RU', 'message': 'Возможно найдена орфографическая ошибка.', 'replacements': ['менять', 'тянуть', 'минуть', 'сенат', 'метать', 'мешать', 'мент', 'мякоть', 'вянуть', 'мекать', 'менуэт', 'мена', 'аменат', 'денут', 'манат', 'менад', 'менах', 'менам', 'меною', 'меной', 'менор', 'мента', 'мену', 'метут', 'мечут', 'минут', 'ренат', 'тянут', 'женат', 'вянут', 'мен ат', 'мена т'], 'offsetInContext': 43, 'context': '...ремушку музыкальный инструмент, а также менат использовались женщинами в религиозных ...', 'offset': 62, 'errorLength': 5, 'category': 'TYPOS', 'ruleIssueType': 'misspelling', 'sentence': 'Систр — похожий на погремушку музыкальный инструмент, а также менат использовались женщинами в религиозных церемониях.'}),\n",
              " Match({'ruleId': 'MORFOLOGIK_RULE_RU_RU', 'message': 'Возможно найдена орфографическая ошибка.', 'replacements': ['матирования'], 'offsetInContext': 9, 'context': 'Скорость мутирования значительно различается не только у бак...', 'offset': 9, 'errorLength': 11, 'category': 'TYPOS', 'ruleIssueType': 'misspelling', 'sentence': 'Скорость мутирования значительно различается не только у бактерий разных видов, но даже и у разных клонов, относящихся к одному виду.'}),\n",
              " Match({'ruleId': 'MORFOLOGIK_RULE_RU_RU', 'message': 'Возможно найдена орфографическая ошибка.', 'replacements': ['матирования'], 'offsetInContext': 9, 'context': 'Скорость мутирования значительно различается не только у бак...', 'offset': 9, 'errorLength': 11, 'category': 'TYPOS', 'ruleIssueType': 'misspelling', 'sentence': 'Скорость мутирования значительно различается не только у бактерий разных видов, но даже и у разных клонов, относящихся к одному виду.'}),\n",
              " Match({'ruleId': 'MORFOLOGIK_RULE_RU_RU', 'message': 'Возможно найдена орфографическая ошибка.', 'replacements': ['матирования'], 'offsetInContext': 9, 'context': 'Скорость мутирования значительно различается не только у бак...', 'offset': 9, 'errorLength': 11, 'category': 'TYPOS', 'ruleIssueType': 'misspelling', 'sentence': 'Скорость мутирования значительно различается не только у бактерий разных видов, но даже и у разных клонов, относящихся к одному виду.'}),\n",
              " Match({'ruleId': 'MORFOLOGIK_RULE_RU_RU', 'message': 'Возможно найдена орфографическая ошибка.', 'replacements': ['матирования'], 'offsetInContext': 9, 'context': 'Скорость мутирования значительно различается не только у бак...', 'offset': 9, 'errorLength': 11, 'category': 'TYPOS', 'ruleIssueType': 'misspelling', 'sentence': 'Скорость мутирования значительно различается не только у бактерий разных видов, но даже и у разных клонов, относящихся к одному виду.'}),\n",
              " Match({'ruleId': 'MORFOLOGIK_RULE_RU_RU', 'message': 'Возможно найдена орфографическая ошибка.', 'replacements': ['матирования'], 'offsetInContext': 9, 'context': 'Скорость мутирования значительно различается не только у бак...', 'offset': 9, 'errorLength': 11, 'category': 'TYPOS', 'ruleIssueType': 'misspelling', 'sentence': 'Скорость мутирования значительно различается не только у бактерий разных видов, но даже и у разных клонов, относящихся к одному виду.'}),\n",
              " Match({'ruleId': 'MORFOLOGIK_RULE_RU_RU', 'message': 'Возможно найдена орфографическая ошибка.', 'replacements': ['Хин кли'], 'offsetInContext': 31, 'context': 'Следствие установило, что Джон Хинкли лечился от психического расстройства и ...', 'offset': 31, 'errorLength': 6, 'category': 'TYPOS', 'ruleIssueType': 'misspelling', 'sentence': 'Следствие установило, что Джон Хинкли лечился от психического расстройства и ранее преследовал президента Джимми Картера.'}),\n",
              " Match({'ruleId': 'MORFOLOGIK_RULE_RU_RU', 'message': 'Возможно найдена орфографическая ошибка.', 'replacements': ['Джим ми', 'Джимм и'], 'offsetInContext': 43, 'context': '...тройства и ранее преследовал президента Джимми Картера.', 'offset': 106, 'errorLength': 6, 'category': 'TYPOS', 'ruleIssueType': 'misspelling', 'sentence': 'Следствие установило, что Джон Хинкли лечился от психического расстройства и ранее преследовал президента Джимми Картера.'}),\n",
              " Match({'ruleId': 'MORFOLOGIK_RULE_RU_RU', 'message': 'Возможно найдена орфографическая ошибка.', 'replacements': ['Хин кли'], 'offsetInContext': 31, 'context': 'Следствие установило, что Джон Хинкли лечился от психического расстройства и ...', 'offset': 31, 'errorLength': 6, 'category': 'TYPOS', 'ruleIssueType': 'misspelling', 'sentence': 'Следствие установило, что Джон Хинкли лечился от психического расстройства и ранее преследовал президента Джимми Картера.'}),\n",
              " Match({'ruleId': 'MORFOLOGIK_RULE_RU_RU', 'message': 'Возможно найдена орфографическая ошибка.', 'replacements': ['Джим ми', 'Джимм и'], 'offsetInContext': 43, 'context': '...тройства и ранее преследовал президента Джимми Картера.', 'offset': 106, 'errorLength': 6, 'category': 'TYPOS', 'ruleIssueType': 'misspelling', 'sentence': 'Следствие установило, что Джон Хинкли лечился от психического расстройства и ранее преследовал президента Джимми Картера.'}),\n",
              " Match({'ruleId': 'MORFOLOGIK_RULE_RU_RU', 'message': 'Возможно найдена орфографическая ошибка.', 'replacements': ['Хин кли'], 'offsetInContext': 31, 'context': 'Следствие установило, что Джон Хинкли лечился от психического расстройства и ...', 'offset': 31, 'errorLength': 6, 'category': 'TYPOS', 'ruleIssueType': 'misspelling', 'sentence': 'Следствие установило, что Джон Хинкли лечился от психического расстройства и ранее преследовал президента Джимми Картера.'}),\n",
              " Match({'ruleId': 'MORFOLOGIK_RULE_RU_RU', 'message': 'Возможно найдена орфографическая ошибка.', 'replacements': ['Джим ми', 'Джимм и'], 'offsetInContext': 43, 'context': '...тройства и ранее преследовал президента Джимми Картера.', 'offset': 106, 'errorLength': 6, 'category': 'TYPOS', 'ruleIssueType': 'misspelling', 'sentence': 'Следствие установило, что Джон Хинкли лечился от психического расстройства и ранее преследовал президента Джимми Картера.'}),\n",
              " Match({'ruleId': 'MORFOLOGIK_RULE_RU_RU', 'message': 'Возможно найдена орфографическая ошибка.', 'replacements': ['Хин кли'], 'offsetInContext': 31, 'context': 'Следствие установило, что Джон Хинкли лечился от психического расстройства и ...', 'offset': 31, 'errorLength': 6, 'category': 'TYPOS', 'ruleIssueType': 'misspelling', 'sentence': 'Следствие установило, что Джон Хинкли лечился от психического расстройства и ранее преследовал президента Джимми Картера.'}),\n",
              " Match({'ruleId': 'MORFOLOGIK_RULE_RU_RU', 'message': 'Возможно найдена орфографическая ошибка.', 'replacements': ['Джим ми', 'Джимм и'], 'offsetInContext': 43, 'context': '...тройства и ранее преследовал президента Джимми Картера.', 'offset': 106, 'errorLength': 6, 'category': 'TYPOS', 'ruleIssueType': 'misspelling', 'sentence': 'Следствие установило, что Джон Хинкли лечился от психического расстройства и ранее преследовал президента Джимми Картера.'}),\n",
              " Match({'ruleId': 'MORFOLOGIK_RULE_RU_RU', 'message': 'Возможно найдена орфографическая ошибка.', 'replacements': ['Хин кли'], 'offsetInContext': 31, 'context': 'Следствие установило, что Джон Хинкли лечился от психического расстройства и ...', 'offset': 31, 'errorLength': 6, 'category': 'TYPOS', 'ruleIssueType': 'misspelling', 'sentence': 'Следствие установило, что Джон Хинкли лечился от психического расстройства и ранее преследовал президента Джимми Картера.'}),\n",
              " Match({'ruleId': 'MORFOLOGIK_RULE_RU_RU', 'message': 'Возможно найдена орфографическая ошибка.', 'replacements': ['Джим ми', 'Джимм и'], 'offsetInContext': 43, 'context': '...тройства и ранее преследовал президента Джимми Картера.', 'offset': 106, 'errorLength': 6, 'category': 'TYPOS', 'ruleIssueType': 'misspelling', 'sentence': 'Следствие установило, что Джон Хинкли лечился от психического расстройства и ранее преследовал президента Джимми Картера.'}),\n",
              " Match({'ruleId': 'MORFOLOGIK_RULE_RU_RU', 'message': 'Возможно найдена орфографическая ошибка.', 'replacements': [], 'offsetInContext': 43, 'context': '...авами Четверного союза не вошла в число держав-победительниц.', 'offset': 115, 'errorLength': 20, 'category': 'TYPOS', 'ruleIssueType': 'misspelling', 'sentence': 'Советская Россия после выхода из войны и заключения сепаратного мира с державами Четверного союза не вошла в число держав-победительниц.'}),\n",
              " Match({'ruleId': 'MORFOLOGIK_RULE_RU_RU', 'message': 'Возможно найдена орфографическая ошибка.', 'replacements': [], 'offsetInContext': 43, 'context': '...авами Четверного союза не вошла в число держав-победительниц.', 'offset': 115, 'errorLength': 20, 'category': 'TYPOS', 'ruleIssueType': 'misspelling', 'sentence': 'Советская Россия после выхода из войны и заключения сепаратного мира с державами Четверного союза не вошла в число держав-победительниц.'}),\n",
              " Match({'ruleId': 'MORFOLOGIK_RULE_RU_RU', 'message': 'Возможно найдена орфографическая ошибка.', 'replacements': [], 'offsetInContext': 43, 'context': '...авами Четверного союза не вошла в число держав-победительниц.', 'offset': 115, 'errorLength': 20, 'category': 'TYPOS', 'ruleIssueType': 'misspelling', 'sentence': 'Советская Россия после выхода из войны и заключения сепаратного мира с державами Четверного союза не вошла в число держав-победительниц.'}),\n",
              " Match({'ruleId': 'MORFOLOGIK_RULE_RU_RU', 'message': 'Возможно найдена орфографическая ошибка.', 'replacements': [], 'offsetInContext': 43, 'context': '...авами Четверного союза не вошла в число держав-победительниц.', 'offset': 115, 'errorLength': 20, 'category': 'TYPOS', 'ruleIssueType': 'misspelling', 'sentence': 'Советская Россия после выхода из войны и заключения сепаратного мира с державами Четверного союза не вошла в число держав-победительниц.'}),\n",
              " Match({'ruleId': 'MORFOLOGIK_RULE_RU_RU', 'message': 'Возможно найдена орфографическая ошибка.', 'replacements': [], 'offsetInContext': 43, 'context': '...авами Четверного союза не вошла в число держав-победительниц.', 'offset': 115, 'errorLength': 20, 'category': 'TYPOS', 'ruleIssueType': 'misspelling', 'sentence': 'Советская Россия после выхода из войны и заключения сепаратного мира с державами Четверного союза не вошла в число держав-победительниц.'}),\n",
              " Match({'ruleId': 'MORFOLOGIK_RULE_RU_RU', 'message': 'Возможно найдена орфографическая ошибка.', 'replacements': ['полицентризма', 'полицентризму'], 'offsetInContext': 43, 'context': '...рация в определённой мере уже сложена и полицентрична (имеет четыре центра притяжения).', 'offset': 80, 'errorLength': 13, 'category': 'TYPOS', 'ruleIssueType': 'misspelling', 'sentence': 'Согласно исследованиям, Сочинская агломерация в определённой мере уже сложена и полицентрична (имеет четыре центра притяжения).'}),\n",
              " Match({'ruleId': 'MORFOLOGIK_RULE_RU_RU', 'message': 'Возможно найдена орфографическая ошибка.', 'replacements': ['полицентризма', 'полицентризму'], 'offsetInContext': 43, 'context': '...рация в определённой мере уже сложена и полицентрична (имеет четыре центра притяжения).', 'offset': 80, 'errorLength': 13, 'category': 'TYPOS', 'ruleIssueType': 'misspelling', 'sentence': 'Согласно исследованиям, Сочинская агломерация в определённой мере уже сложена и полицентрична (имеет четыре центра притяжения).'}),\n",
              " Match({'ruleId': 'MORFOLOGIK_RULE_RU_RU', 'message': 'Возможно найдена орфографическая ошибка.', 'replacements': ['полицентризма', 'полицентризму'], 'offsetInContext': 43, 'context': '...рация в определённой мере уже сложена и полицентрична (имеет четыре центра притяжения).', 'offset': 80, 'errorLength': 13, 'category': 'TYPOS', 'ruleIssueType': 'misspelling', 'sentence': 'Согласно исследованиям, Сочинская агломерация в определённой мере уже сложена и полицентрична (имеет четыре центра притяжения).'}),\n",
              " Match({'ruleId': 'MORFOLOGIK_RULE_RU_RU', 'message': 'Возможно найдена орфографическая ошибка.', 'replacements': ['полицентризма', 'полицентризму'], 'offsetInContext': 43, 'context': '...рация в определённой мере уже сложена и полицентрична (имеет четыре центра притяжения).', 'offset': 80, 'errorLength': 13, 'category': 'TYPOS', 'ruleIssueType': 'misspelling', 'sentence': 'Согласно исследованиям, Сочинская агломерация в определённой мере уже сложена и полицентрична (имеет четыре центра притяжения).'}),\n",
              " Match({'ruleId': 'MORFOLOGIK_RULE_RU_RU', 'message': 'Возможно найдена орфографическая ошибка.', 'replacements': ['полицентризма', 'полицентризму'], 'offsetInContext': 43, 'context': '...рация в определённой мере уже сложена и полицентрична (имеет четыре центра притяжения).', 'offset': 80, 'errorLength': 13, 'category': 'TYPOS', 'ruleIssueType': 'misspelling', 'sentence': 'Согласно исследованиям, Сочинская агломерация в определённой мере уже сложена и полицентрична (имеет четыре центра притяжения).'}),\n",
              " Match({'ruleId': 'MORFOLOGIK_RULE_RU_RU', 'message': 'Возможно найдена орфографическая ошибка.', 'replacements': [], 'offsetInContext': 43, 'context': '...неинфекционные, а также хирургические и акушерско-гинекологические болезни кошек.', 'offset': 96, 'errorLength': 26, 'category': 'TYPOS', 'ruleIssueType': 'misspelling', 'sentence': 'Среди болезней кошек выделяют инфекционные и внутренние неинфекционные, а также хирургические и акушерско-гинекологические болезни кошек.'}),\n",
              " Match({'ruleId': 'MORFOLOGIK_RULE_RU_RU', 'message': 'Возможно найдена орфографическая ошибка.', 'replacements': [], 'offsetInContext': 43, 'context': '...неинфекционные, а также хирургические и акушерско-гинекологические болезни кошек.', 'offset': 96, 'errorLength': 26, 'category': 'TYPOS', 'ruleIssueType': 'misspelling', 'sentence': 'Среди болезней кошек выделяют инфекционные и внутренние неинфекционные, а также хирургические и акушерско-гинекологические болезни кошек.'}),\n",
              " Match({'ruleId': 'MORFOLOGIK_RULE_RU_RU', 'message': 'Возможно найдена орфографическая ошибка.', 'replacements': [], 'offsetInContext': 43, 'context': '...неинфекционные, а также хирургические и акушерско-гинекологические болезни кошек.', 'offset': 96, 'errorLength': 26, 'category': 'TYPOS', 'ruleIssueType': 'misspelling', 'sentence': 'Среди болезней кошек выделяют инфекционные и внутренние неинфекционные, а также хирургические и акушерско-гинекологические болезни кошек.'}),\n",
              " Match({'ruleId': 'Ne_narech2', 'message': 'Обычно пишется слитно с «не», отсутствует противопоставление: «необязательно».', 'replacements': ['необязательно'], 'offsetInContext': 43, 'context': '...о также по причине того, что шизофрения не обязательно приводит к деградации личности, а дегра...', 'offset': 69, 'errorLength': 14, 'category': 'GRAMMAR', 'ruleIssueType': 'uncategorized', 'sentence': 'Старое название было отброшено также по причине того, что шизофрения не обязательно приводит к деградации личности, а деградация в то же время не является слабоумием или деменцией.'}),\n",
              " Match({'ruleId': 'MORFOLOGIK_RULE_RU_RU', 'message': 'Возможно найдена орфографическая ошибка.', 'replacements': ['Лжедмитрий'], 'offsetInContext': 43, 'context': '...етить, что собственные грамоты и письма Лжедмитрия сохранились, в частности, в архивах Ват...', 'offset': 58, 'errorLength': 10, 'category': 'TYPOS', 'ruleIssueType': 'misspelling', 'sentence': 'Стоит, однако, заметить, что собственные грамоты и письма Лжедмитрия сохранились, в частности, в архивах Ватикана.'}),\n",
              " Match({'ruleId': 'MORFOLOGIK_RULE_RU_RU', 'message': 'Возможно найдена орфографическая ошибка.', 'replacements': [], 'offsetInContext': 43, 'context': '...одолжили взаимные обвинения в нанесении ракетно-артиллерийских ударов по гражданским объектам и жилым ...', 'offset': 50, 'errorLength': 22, 'category': 'TYPOS', 'ruleIssueType': 'misspelling', 'sentence': 'Стороны продолжили взаимные обвинения в нанесении ракетно-артиллерийских ударов по гражданским объектам и жилым районам.'}),\n",
              " Match({'ruleId': 'MORFOLOGIK_RULE_RU_RU', 'message': 'Возможно найдена орфографическая ошибка.', 'replacements': [], 'offsetInContext': 43, 'context': '...одолжили взаимные обвинения в нанесении ракетно-артиллерийских ударов по гражданским объектам и жилым ...', 'offset': 50, 'errorLength': 22, 'category': 'TYPOS', 'ruleIssueType': 'misspelling', 'sentence': 'Стороны продолжили взаимные обвинения в нанесении ракетно-артиллерийских ударов по гражданским объектам и жилым районам.'}),\n",
              " Match({'ruleId': 'MORFOLOGIK_RULE_RU_RU', 'message': 'Возможно найдена орфографическая ошибка.', 'replacements': [], 'offsetInContext': 43, 'context': '...одолжили взаимные обвинения в нанесении ракетно-артиллерийских ударов по гражданским объектам и жилым ...', 'offset': 50, 'errorLength': 22, 'category': 'TYPOS', 'ruleIssueType': 'misspelling', 'sentence': 'Стороны продолжили взаимные обвинения в нанесении ракетно-артиллерийских ударов по гражданским объектам и жилым районам.'}),\n",
              " Match({'ruleId': 'MORFOLOGIK_RULE_RU_RU', 'message': 'Возможно найдена орфографическая ошибка.', 'replacements': [], 'offsetInContext': 43, 'context': '...одолжили взаимные обвинения в нанесении ракетно-артиллерийских ударов по гражданским объектам и жилым ...', 'offset': 50, 'errorLength': 22, 'category': 'TYPOS', 'ruleIssueType': 'misspelling', 'sentence': 'Стороны продолжили взаимные обвинения в нанесении ракетно-артиллерийских ударов по гражданским объектам и жилым районам.'}),\n",
              " Match({'ruleId': 'MORFOLOGIK_RULE_RU_RU', 'message': 'Возможно найдена орфографическая ошибка.', 'replacements': ['Виннипегосис'], 'offsetInContext': 23, 'context': 'Существует также Озеро Виннипегозис, прославившееся морским чудовищем под н...', 'offset': 23, 'errorLength': 12, 'category': 'TYPOS', 'ruleIssueType': 'misspelling', 'sentence': 'Существует также Озеро Виннипегозис, прославившееся морским чудовищем под названием Виннепого, которое, возможно, является тем же существом, что и Манипого.'}),\n",
              " Match({'ruleId': 'MORFOLOGIK_RULE_RU_RU', 'message': 'Возможно найдена орфографическая ошибка.', 'replacements': ['Хинного', 'Линевого', 'Линуемого', 'Ливневого', 'Минного', 'Минуемого', 'Очиняемого', 'Пинаемого', 'Синенного', 'Синеного', 'Тинного', 'Тиснёного', 'Тисненого', 'Учиняемого', 'Винного', 'Виннового', 'Вишнёвого', 'Вишневого', 'Вчиняемого', 'Шинного', 'Чиненного', 'Чиненого', 'Чинного', 'Чиншевого'], 'offsetInContext': 43, 'context': '...ившееся морским чудовищем под названием Виннепого, которое, возможно, является тем же сущ...', 'offset': 84, 'errorLength': 9, 'category': 'TYPOS', 'ruleIssueType': 'misspelling', 'sentence': 'Существует также Озеро Виннипегозис, прославившееся морским чудовищем под названием Виннепого, которое, возможно, является тем же существом, что и Манипого.'}),\n",
              " Match({'ruleId': 'MORFOLOGIK_RULE_RU_RU', 'message': 'Возможно найдена орфографическая ошибка.', 'replacements': ['Банимого', 'Гонимого', 'Манимого', 'Паниного', 'Ранимого', 'Таниного', 'Ваниного'], 'offsetInContext': 43, 'context': '...можно, является тем же существом, что и Манипого. по утверждениям, его видят с 1800-х го...', 'offset': 147, 'errorLength': 8, 'category': 'TYPOS', 'ruleIssueType': 'misspelling', 'sentence': 'Существует также Озеро Виннипегозис, прославившееся морским чудовищем под названием Виннепого, которое, возможно, является тем же существом, что и Манипого.'}),\n",
              " Match({'ruleId': 'UPPERCASE_SENTENCE_START', 'message': 'Это предложение не начинается с заглавной буквы.', 'replacements': ['По'], 'offsetInContext': 43, 'context': '...яется тем же существом, что и Манипого. по утверждениям, его видят с 1800-х годов....', 'offset': 157, 'errorLength': 2, 'category': 'CASING', 'ruleIssueType': 'typographical', 'sentence': 'по утверждениям, его видят с 1800-х годов.'}),\n",
              " Match({'ruleId': 'MORFOLOGIK_RULE_RU_RU', 'message': 'Возможно найдена орфографическая ошибка.', 'replacements': [], 'offsetInContext': 43, 'context': '...чные аспекты дхармы, например, учение о Татхагатагарбхе.', 'offset': 132, 'errorLength': 15, 'category': 'TYPOS', 'ruleIssueType': 'misspelling', 'sentence': 'Существует также критический буддизм — направление в буддийской философии, критикующее различные аспекты дхармы, например, учение о Татхагатагарбхе.'}),\n",
              " Match({'ruleId': 'MORFOLOGIK_RULE_RU_RU', 'message': 'Возможно найдена орфографическая ошибка.', 'replacements': [], 'offsetInContext': 43, 'context': '...чные аспекты дхармы, например, учение о Татхагатагарбхе.', 'offset': 132, 'errorLength': 15, 'category': 'TYPOS', 'ruleIssueType': 'misspelling', 'sentence': 'Существует также критический буддизм — направление в буддийской философии, критикующее различные аспекты дхармы, например, учение о Татхагатагарбхе.'}),\n",
              " Match({'ruleId': 'MORFOLOGIK_RULE_RU_RU', 'message': 'Возможно найдена орфографическая ошибка.', 'replacements': [], 'offsetInContext': 43, 'context': '...чные аспекты дхармы, например, учение о Татхагатагарбхе.', 'offset': 132, 'errorLength': 15, 'category': 'TYPOS', 'ruleIssueType': 'misspelling', 'sentence': 'Существует также критический буддизм — направление в буддийской философии, критикующее различные аспекты дхармы, например, учение о Татхагатагарбхе.'}),\n",
              " Match({'ruleId': 'MORFOLOGIK_RULE_RU_RU', 'message': 'Возможно найдена орфографическая ошибка.', 'replacements': [], 'offsetInContext': 43, 'context': '...чные аспекты дхармы, например, учение о Татхагатагарбхе.', 'offset': 132, 'errorLength': 15, 'category': 'TYPOS', 'ruleIssueType': 'misspelling', 'sentence': 'Существует также критический буддизм — направление в буддийской философии, критикующее различные аспекты дхармы, например, учение о Татхагатагарбхе.'}),\n",
              " Match({'ruleId': 'MORFOLOGIK_RULE_RU_RU', 'message': 'Возможно найдена орфографическая ошибка.', 'replacements': [], 'offsetInContext': 43, 'context': '...чные аспекты дхармы, например, учение о Татхагатагарбхе.', 'offset': 132, 'errorLength': 15, 'category': 'TYPOS', 'ruleIssueType': 'misspelling', 'sentence': 'Существует также критический буддизм — направление в буддийской философии, критикующее различные аспекты дхармы, например, учение о Татхагатагарбхе.'}),\n",
              " Match({'ruleId': 'MORFOLOGIK_RULE_RU_RU', 'message': 'Возможно найдена орфографическая ошибка.', 'replacements': ['трёх'], 'offsetInContext': 43, 'context': '...уют шахматы для более чем двух игроков: трёх- и четырёхсторонние шахматы, в которых з...', 'offset': 47, 'errorLength': 5, 'category': 'TYPOS', 'ruleIssueType': 'misspelling', 'sentence': 'Существуют шахматы для более чем двух игроков: трёх- и четырёхсторонние шахматы, в которых за одной доской играют три или четыре игрока (пара на пару или каждый за себя), управляющие каждый своим комплектом фигур, а также «командные» варианты шахмат, где игра ведётся команда на команду на одной или нескольких досках, причём на ход партии за одной доской влияют действия более чем одного игрока из каждой команды (например, шведские шахматы).'}),\n",
              " Match({'ruleId': 'MORFOLOGIK_RULE_RU_RU', 'message': 'Возможно найдена орфографическая ошибка.', 'replacements': ['трёх'], 'offsetInContext': 43, 'context': '...уют шахматы для более чем двух игроков: трёх- и четырёхсторонние шахматы, в которых з...', 'offset': 47, 'errorLength': 5, 'category': 'TYPOS', 'ruleIssueType': 'misspelling', 'sentence': 'Существуют шахматы для более чем двух игроков: трёх- и четырёхсторонние шахматы, в которых за одной доской играют три или четыре игрока (пара на пару или каждый за себя), управляющие каждый своим комплектом фигур, а также «командные» варианты шахмат, где игра ведётся команда на команду на одной или нескольких досках, причём на ход партии за одной доской влияют действия более чем одного игрока из каждой команды (например, шведские шахматы).'}),\n",
              " Match({'ruleId': 'MORFOLOGIK_RULE_RU_RU', 'message': 'Возможно найдена орфографическая ошибка.', 'replacements': ['трёх'], 'offsetInContext': 43, 'context': '...уют шахматы для более чем двух игроков: трёх- и четырёхсторонние шахматы, в которых з...', 'offset': 47, 'errorLength': 5, 'category': 'TYPOS', 'ruleIssueType': 'misspelling', 'sentence': 'Существуют шахматы для более чем двух игроков: трёх- и четырёхсторонние шахматы, в которых за одной доской играют три или четыре игрока (пара на пару или каждый за себя), управляющие каждый своим комплектом фигур, а также «командные» варианты шахмат, где игра ведётся команда на команду на одной или нескольких досках, причём на ход партии за одной доской влияют действия более чем одного игрока из каждой команды (например, шведские шахматы).'}),\n",
              " Match({'ruleId': 'MORFOLOGIK_RULE_RU_RU', 'message': 'Возможно найдена орфографическая ошибка.', 'replacements': [], 'offsetInContext': 43, 'context': '...же на территории стадиона располагается лыже-роллерная трасса, малое футбольное поле, площадка...', 'offset': 44, 'errorLength': 14, 'category': 'TYPOS', 'ruleIssueType': 'misspelling', 'sentence': 'Так же на территории стадиона располагается лыже-роллерная трасса, малое футбольное поле, площадка для стритбола, теннисный корт.'}),\n",
              " Match({'ruleId': 'MORFOLOGIK_RULE_RU_RU', 'message': 'Возможно найдена орфографическая ошибка.', 'replacements': ['стрит бола'], 'offsetInContext': 43, 'context': '...са, малое футбольное поле, площадка для стритбола, теннисный корт.', 'offset': 103, 'errorLength': 9, 'category': 'TYPOS', 'ruleIssueType': 'misspelling', 'sentence': 'Так же на территории стадиона располагается лыже-роллерная трасса, малое футбольное поле, площадка для стритбола, теннисный корт.'}),\n",
              " Match({'ruleId': 'MORFOLOGIK_RULE_RU_RU', 'message': 'Возможно найдена орфографическая ошибка.', 'replacements': [], 'offsetInContext': 43, 'context': '...же на территории стадиона располагается лыже-роллерная трасса, малое футбольное поле, площадка...', 'offset': 44, 'errorLength': 14, 'category': 'TYPOS', 'ruleIssueType': 'misspelling', 'sentence': 'Так же на территории стадиона располагается лыже-роллерная трасса, малое футбольное поле, площадка для стритбола, теннисный корт.'}),\n",
              " Match({'ruleId': 'MORFOLOGIK_RULE_RU_RU', 'message': 'Возможно найдена орфографическая ошибка.', 'replacements': ['стрит бола'], 'offsetInContext': 43, 'context': '...са, малое футбольное поле, площадка для стритбола, теннисный корт.', 'offset': 103, 'errorLength': 9, 'category': 'TYPOS', 'ruleIssueType': 'misspelling', 'sentence': 'Так же на территории стадиона располагается лыже-роллерная трасса, малое футбольное поле, площадка для стритбола, теннисный корт.'}),\n",
              " Match({'ruleId': 'MORFOLOGIK_RULE_RU_RU', 'message': 'Возможно найдена орфографическая ошибка.', 'replacements': ['перепёрты', 'перепост', 'пере посты', 'перепост ы'], 'offsetInContext': 43, 'context': '...головных дел за публикации в интернете (перепосты).', 'offset': 104, 'errorLength': 9, 'category': 'TYPOS', 'ruleIssueType': 'misspelling', 'sentence': 'Также Рогозов отметил, что нововведение связано с ростом числа уголовных дел за публикации в интернете (перепосты).'}),\n",
              " Match({'ruleId': 'MORFOLOGIK_RULE_RU_RU', 'message': 'Возможно найдена орфографическая ошибка.', 'replacements': ['перепёрты', 'перепост', 'пере посты', 'перепост ы'], 'offsetInContext': 43, 'context': '...головных дел за публикации в интернете (перепосты).', 'offset': 104, 'errorLength': 9, 'category': 'TYPOS', 'ruleIssueType': 'misspelling', 'sentence': 'Также Рогозов отметил, что нововведение связано с ростом числа уголовных дел за публикации в интернете (перепосты).'}),\n",
              " Match({'ruleId': 'MORFOLOGIK_RULE_RU_RU', 'message': 'Возможно найдена орфографическая ошибка.', 'replacements': ['перепёрты', 'перепост', 'пере посты', 'перепост ы'], 'offsetInContext': 43, 'context': '...головных дел за публикации в интернете (перепосты).', 'offset': 104, 'errorLength': 9, 'category': 'TYPOS', 'ruleIssueType': 'misspelling', 'sentence': 'Также Рогозов отметил, что нововведение связано с ростом числа уголовных дел за публикации в интернете (перепосты).'}),\n",
              " Match({'ruleId': 'MORFOLOGIK_RULE_RU_RU', 'message': 'Возможно найдена орфографическая ошибка.', 'replacements': ['Карл сен'], 'offsetInContext': 23, 'context': 'Также в июне 2019 года Карлсен заявил на странице в Facebook, что, вер...', 'offset': 23, 'errorLength': 7, 'category': 'TYPOS', 'ruleIssueType': 'misspelling', 'sentence': 'Также в июне 2019 года Карлсен заявил на странице в Facebook, что, вероятно, откажется защищать свой чемпионский титул в 2020 году, если в качестве места проведения матча будет выбран Ставангер.'}),\n",
              " Match({'ruleId': 'MORFOLOGIK_RULE_RU_RU', 'message': 'Возможно найдена орфографическая ошибка.', 'replacements': ['эпителиальным'], 'offsetInContext': 43, 'context': '...вших может причинять прямые повреждения эндотелиальным клеткам.', 'offset': 134, 'errorLength': 14, 'category': 'TYPOS', 'ruleIssueType': 'misspelling', 'sentence': 'Также исследования в лабораторных условиях (in vitro) продемонстрировали, что плазма выздоровевших может причинять прямые повреждения эндотелиальным клеткам.'}),\n",
              " Match({'ruleId': 'MORFOLOGIK_RULE_RU_RU', 'message': 'Возможно найдена орфографическая ошибка.', 'replacements': ['эпителиальным'], 'offsetInContext': 43, 'context': '...вших может причинять прямые повреждения эндотелиальным клеткам.', 'offset': 134, 'errorLength': 14, 'category': 'TYPOS', 'ruleIssueType': 'misspelling', 'sentence': 'Также исследования в лабораторных условиях (in vitro) продемонстрировали, что плазма выздоровевших может причинять прямые повреждения эндотелиальным клеткам.'}),\n",
              " Match({'ruleId': 'MORFOLOGIK_RULE_RU_RU', 'message': 'Возможно найдена орфографическая ошибка.', 'replacements': ['эпителиальным'], 'offsetInContext': 43, 'context': '...вших может причинять прямые повреждения эндотелиальным клеткам.', 'offset': 134, 'errorLength': 14, 'category': 'TYPOS', 'ruleIssueType': 'misspelling', 'sentence': 'Также исследования в лабораторных условиях (in vitro) продемонстрировали, что плазма выздоровевших может причинять прямые повреждения эндотелиальным клеткам.'}),\n",
              " Match({'ruleId': 'SENTENCE_WHITESPACE', 'message': 'Добавьте пробел между предложениями', 'replacements': [' Ходы'], 'offsetInContext': 43, 'context': '...онталь немедленно оказывается под шахом.Ходы всех фигур показаны на диаграмме ниже.', 'offset': 186, 'errorLength': 4, 'category': 'TYPOGRAPHY', 'ruleIssueType': 'whitespace', 'sentence': 'Ходы всех фигур показаны на диаграмме ниже.'}),\n",
              " Match({'ruleId': 'SENTENCE_WHITESPACE', 'message': 'Добавьте пробел между предложениями', 'replacements': [' Ходы'], 'offsetInContext': 43, 'context': '...онталь немедленно оказывается под шахом.Ходы всех фигур показаны на диаграмме ниже.', 'offset': 186, 'errorLength': 4, 'category': 'TYPOGRAPHY', 'ruleIssueType': 'whitespace', 'sentence': 'Ходы всех фигур показаны на диаграмме ниже.'}),\n",
              " Match({'ruleId': 'SENTENCE_WHITESPACE', 'message': 'Добавьте пробел между предложениями', 'replacements': [' Ходы'], 'offsetInContext': 43, 'context': '...онталь немедленно оказывается под шахом.Ходы всех фигур показаны на диаграмме ниже.', 'offset': 186, 'errorLength': 4, 'category': 'TYPOGRAPHY', 'ruleIssueType': 'whitespace', 'sentence': 'Ходы всех фигур показаны на диаграмме ниже.'}),\n",
              " Match({'ruleId': 'Many_PNN', 'message': 'Загруженность предложения местоимениями.', 'replacements': [], 'offsetInContext': 4, 'context': 'Те, кто посещает это мероприятие, не знают заранее, что они увидят, после этого они должны подписать клятву, что никому не ...', 'offset': 4, 'errorLength': 79, 'category': 'STYLE', 'ruleIssueType': 'uncategorized', 'sentence': 'Те, кто посещает это мероприятие, не знают заранее, что они увидят, после этого они должны подписать клятву, что никому не расскажут о том, что смотрели.'}),\n",
              " Match({'ruleId': 'Many_PNN', 'message': 'Загруженность предложения местоимениями.', 'replacements': [], 'offsetInContext': 4, 'context': 'Те, кто посещает это мероприятие, не знают заранее, что они увидят, после этого они должны подписать клятву, что никому не ...', 'offset': 4, 'errorLength': 79, 'category': 'STYLE', 'ruleIssueType': 'uncategorized', 'sentence': 'Те, кто посещает это мероприятие, не знают заранее, что они увидят, после этого они должны подписать клятву, что никому не расскажут о том, что смотрели.'}),\n",
              " Match({'ruleId': 'Many_PNN', 'message': 'Загруженность предложения местоимениями.', 'replacements': [], 'offsetInContext': 4, 'context': 'Те, кто посещает это мероприятие, не знают заранее, что они увидят, после этого они должны подписать клятву, что никому не ...', 'offset': 4, 'errorLength': 79, 'category': 'STYLE', 'ruleIssueType': 'uncategorized', 'sentence': 'Те, кто посещает это мероприятие, не знают заранее, что они увидят, после этого они должны подписать клятву, что никому не расскажут о том, что смотрели.'}),\n",
              " Match({'ruleId': 'MORFOLOGIK_RULE_RU_RU', 'message': 'Возможно найдена орфографическая ошибка.', 'replacements': ['Содерберг', 'Цукерберг'], 'offsetInContext': 43, 'context': '...рады расположен в Доме искусств на горе Хаберберг.Музыкальная жизнь города отличается нас...', 'offset': 49, 'errorLength': 9, 'category': 'TYPOS', 'ruleIssueType': 'misspelling', 'sentence': 'Театр эстрады расположен в Доме искусств на горе Хаберберг.'}),\n",
              " Match({'ruleId': 'SENTENCE_WHITESPACE', 'message': 'Добавьте пробел между предложениями', 'replacements': [' Музыкальная'], 'offsetInContext': 43, 'context': '...ложен в Доме искусств на горе Хаберберг.Музыкальная жизнь города отличается насыщенностью и...', 'offset': 59, 'errorLength': 11, 'category': 'TYPOGRAPHY', 'ruleIssueType': 'whitespace', 'sentence': 'Музыкальная жизнь города отличается насыщенностью и многообразием.'}),\n",
              " Match({'ruleId': 'MORFOLOGIK_RULE_RU_RU', 'message': 'Возможно найдена орфографическая ошибка.', 'replacements': ['Содерберг', 'Цукерберг'], 'offsetInContext': 43, 'context': '...рады расположен в Доме искусств на горе Хаберберг.Музыкальная жизнь города отличается нас...', 'offset': 49, 'errorLength': 9, 'category': 'TYPOS', 'ruleIssueType': 'misspelling', 'sentence': 'Театр эстрады расположен в Доме искусств на горе Хаберберг.'}),\n",
              " Match({'ruleId': 'SENTENCE_WHITESPACE', 'message': 'Добавьте пробел между предложениями', 'replacements': [' Музыкальная'], 'offsetInContext': 43, 'context': '...ложен в Доме искусств на горе Хаберберг.Музыкальная жизнь города отличается насыщенностью и...', 'offset': 59, 'errorLength': 11, 'category': 'TYPOGRAPHY', 'ruleIssueType': 'whitespace', 'sentence': 'Музыкальная жизнь города отличается насыщенностью и многообразием.'}),\n",
              " Match({'ruleId': 'MORFOLOGIK_RULE_RU_RU', 'message': 'Возможно найдена орфографическая ошибка.', 'replacements': ['шахид', 'шахидка', 'ахида', 'рахида', 'рахиду', 'вахида', 'вахиду', 'захида', 'захиду', 'шахина', 'шахину', 'шаида', 'шохина', 'шохину', 'шах ида', 'шахи да', 'шахид а'], 'offsetInContext': 43, 'context': '...ы не соответствовали типичному портрету шахида, поскольку были среднего возраста, хоро...', 'offset': 49, 'errorLength': 6, 'category': 'TYPOS', 'ruleIssueType': 'misspelling', 'sentence': 'Террористы не соответствовали типичному портрету шахида, поскольку были среднего возраста, хорошо образованными и со сложившейся жизненной позицией.'}),\n",
              " Match({'ruleId': 'MORFOLOGIK_RULE_RU_RU', 'message': 'Возможно найдена орфографическая ошибка.', 'replacements': ['шахид', 'шахидка', 'ахида', 'рахида', 'рахиду', 'вахида', 'вахиду', 'захида', 'захиду', 'шахина', 'шахину', 'шаида', 'шохина', 'шохину', 'шах ида', 'шахи да', 'шахид а'], 'offsetInContext': 43, 'context': '...ы не соответствовали типичному портрету шахида, поскольку были среднего возраста, хоро...', 'offset': 49, 'errorLength': 6, 'category': 'TYPOS', 'ruleIssueType': 'misspelling', 'sentence': 'Террористы не соответствовали типичному портрету шахида, поскольку были среднего возраста, хорошо образованными и со сложившейся жизненной позицией.'}),\n",
              " Match({'ruleId': 'MORFOLOGIK_RULE_RU_RU', 'message': 'Возможно найдена орфографическая ошибка.', 'replacements': ['шахид', 'шахидка', 'ахида', 'рахида', 'рахиду', 'вахида', 'вахиду', 'захида', 'захиду', 'шахина', 'шахину', 'шаида', 'шохина', 'шохину', 'шах ида', 'шахи да', 'шахид а'], 'offsetInContext': 43, 'context': '...ы не соответствовали типичному портрету шахида, поскольку были среднего возраста, хоро...', 'offset': 49, 'errorLength': 6, 'category': 'TYPOS', 'ruleIssueType': 'misspelling', 'sentence': 'Террористы не соответствовали типичному портрету шахида, поскольку были среднего возраста, хорошо образованными и со сложившейся жизненной позицией.'}),\n",
              " Match({'ruleId': 'MORFOLOGIK_RULE_RU_RU', 'message': 'Возможно найдена орфографическая ошибка.', 'replacements': ['шахид', 'шахидка', 'ахида', 'рахида', 'рахиду', 'вахида', 'вахиду', 'захида', 'захиду', 'шахина', 'шахину', 'шаида', 'шохина', 'шохину', 'шах ида', 'шахи да', 'шахид а'], 'offsetInContext': 43, 'context': '...ы не соответствовали типичному портрету шахида, поскольку были среднего возраста, хоро...', 'offset': 49, 'errorLength': 6, 'category': 'TYPOS', 'ruleIssueType': 'misspelling', 'sentence': 'Террористы не соответствовали типичному портрету шахида, поскольку были среднего возраста, хорошо образованными и со сложившейся жизненной позицией.'}),\n",
              " Match({'ruleId': 'MORFOLOGIK_RULE_RU_RU', 'message': 'Возможно найдена орфографическая ошибка.', 'replacements': ['шахид', 'шахидка', 'ахида', 'рахида', 'рахиду', 'вахида', 'вахиду', 'захида', 'захиду', 'шахина', 'шахину', 'шаида', 'шохина', 'шохину', 'шах ида', 'шахи да', 'шахид а'], 'offsetInContext': 43, 'context': '...ы не соответствовали типичному портрету шахида, поскольку были среднего возраста, хоро...', 'offset': 49, 'errorLength': 6, 'category': 'TYPOS', 'ruleIssueType': 'misspelling', 'sentence': 'Террористы не соответствовали типичному портрету шахида, поскольку были среднего возраста, хорошо образованными и со сложившейся жизненной позицией.'}),\n",
              " Match({'ruleId': 'MORFOLOGIK_RULE_RU_RU', 'message': 'Возможно найдена орфографическая ошибка.', 'replacements': ['Тис со'], 'offsetInContext': 0, 'context': 'Тиссо явился пионером медицинских исследовани...', 'offset': 0, 'errorLength': 5, 'category': 'TYPOS', 'ruleIssueType': 'misspelling', 'sentence': 'Тиссо явился пионером медицинских исследований мастурбации, обосновав, исходя из господствовавших тогда в медицинской науке представлений, вред мастурбации.'}),\n",
              " Match({'ruleId': 'MORFOLOGIK_RULE_RU_RU', 'message': 'Возможно найдена орфографическая ошибка.', 'replacements': ['Тис со'], 'offsetInContext': 0, 'context': 'Тиссо явился пионером медицинских исследовани...', 'offset': 0, 'errorLength': 5, 'category': 'TYPOS', 'ruleIssueType': 'misspelling', 'sentence': 'Тиссо явился пионером медицинских исследований мастурбации, обосновав, исходя из господствовавших тогда в медицинской науке представлений, вред мастурбации.'}),\n",
              " Match({'ruleId': 'MORFOLOGIK_RULE_RU_RU', 'message': 'Возможно найдена орфографическая ошибка.', 'replacements': ['Тис со'], 'offsetInContext': 0, 'context': 'Тиссо явился пионером медицинских исследовани...', 'offset': 0, 'errorLength': 5, 'category': 'TYPOS', 'ruleIssueType': 'misspelling', 'sentence': 'Тиссо явился пионером медицинских исследований мастурбации, обосновав, исходя из господствовавших тогда в медицинской науке представлений, вред мастурбации.'}),\n",
              " Match({'ruleId': 'MORFOLOGIK_RULE_RU_RU', 'message': 'Возможно найдена орфографическая ошибка.', 'replacements': ['Тис со'], 'offsetInContext': 0, 'context': 'Тиссо явился пионером медицинских исследовани...', 'offset': 0, 'errorLength': 5, 'category': 'TYPOS', 'ruleIssueType': 'misspelling', 'sentence': 'Тиссо явился пионером медицинских исследований мастурбации, обосновав, исходя из господствовавших тогда в медицинской науке представлений, вред мастурбации.'}),\n",
              " Match({'ruleId': 'MORFOLOGIK_RULE_RU_RU', 'message': 'Возможно найдена орфографическая ошибка.', 'replacements': ['Тис со'], 'offsetInContext': 0, 'context': 'Тиссо явился пионером медицинских исследовани...', 'offset': 0, 'errorLength': 5, 'category': 'TYPOS', 'ruleIssueType': 'misspelling', 'sentence': 'Тиссо явился пионером медицинских исследований мастурбации, обосновав, исходя из господствовавших тогда в медицинской науке представлений, вред мастурбации.'}),\n",
              " Match({'ruleId': 'Pnn_compose_error', 'message': 'Правильная форма – «их».', 'replacements': ['их'], 'offsetInContext': 33, 'context': 'Товарищи, обычно дореволюционные ихние собрания и съезды кончались призывом „с...', 'offset': 33, 'errorLength': 5, 'category': 'GRAMMAR', 'ruleIssueType': 'uncategorized', 'sentence': 'Товарищи, обычно дореволюционные ихние собрания и съезды кончались призывом „с богом“,- сегодня съезд кончится словами „на бога“.'}),\n",
              " Match({'ruleId': 'MORFOLOGIK_RULE_RU_RU', 'message': 'Возможно найдена орфографическая ошибка.', 'replacements': ['Кревской'], 'offsetInContext': 43, 'context': '...ны Национальной Гвардии, собравшиеся на Гревской площади, просто разбежались в поисках у...', 'offset': 62, 'errorLength': 8, 'category': 'TYPOS', 'ruleIssueType': 'misspelling', 'sentence': 'Толпы санкюлотов и воины Национальной Гвардии, собравшиеся на Гревской площади, просто разбежались в поисках укрытия.'}),\n",
              " Match({'ruleId': 'MORFOLOGIK_RULE_RU_RU', 'message': 'Возможно найдена орфографическая ошибка.', 'replacements': ['Кревской'], 'offsetInContext': 43, 'context': '...ны Национальной Гвардии, собравшиеся на Гревской площади, просто разбежались в поисках у...', 'offset': 62, 'errorLength': 8, 'category': 'TYPOS', 'ruleIssueType': 'misspelling', 'sentence': 'Толпы санкюлотов и воины Национальной Гвардии, собравшиеся на Гревской площади, просто разбежались в поисках укрытия.'}),\n",
              " Match({'ruleId': 'MORFOLOGIK_RULE_RU_RU', 'message': 'Возможно найдена орфографическая ошибка.', 'replacements': ['Кревской'], 'offsetInContext': 43, 'context': '...ны Национальной Гвардии, собравшиеся на Гревской площади, просто разбежались в поисках у...', 'offset': 62, 'errorLength': 8, 'category': 'TYPOS', 'ruleIssueType': 'misspelling', 'sentence': 'Толпы санкюлотов и воины Национальной Гвардии, собравшиеся на Гревской площади, просто разбежались в поисках укрытия.'}),\n",
              " Match({'ruleId': 'MORFOLOGIK_RULE_RU_RU', 'message': 'Возможно найдена орфографическая ошибка.', 'replacements': ['Кревской'], 'offsetInContext': 43, 'context': '...ны Национальной Гвардии, собравшиеся на Гревской площади, просто разбежались в поисках у...', 'offset': 62, 'errorLength': 8, 'category': 'TYPOS', 'ruleIssueType': 'misspelling', 'sentence': 'Толпы санкюлотов и воины Национальной Гвардии, собравшиеся на Гревской площади, просто разбежались в поисках укрытия.'}),\n",
              " Match({'ruleId': 'MORFOLOGIK_RULE_RU_RU', 'message': 'Возможно найдена орфографическая ошибка.', 'replacements': ['Кревской'], 'offsetInContext': 43, 'context': '...ны Национальной Гвардии, собравшиеся на Гревской площади, просто разбежались в поисках у...', 'offset': 62, 'errorLength': 8, 'category': 'TYPOS', 'ruleIssueType': 'misspelling', 'sentence': 'Толпы санкюлотов и воины Национальной Гвардии, собравшиеся на Гревской площади, просто разбежались в поисках укрытия.'}),\n",
              " Match({'ruleId': 'MORFOLOGIK_RULE_RU_RU', 'message': 'Возможно найдена орфографическая ошибка.', 'replacements': ['геосферы', 'гомосферы', 'хемосферы'], 'offsetInContext': 43, 'context': '... тяжести ушибом височных отделов правой гемисферы.', 'offset': 128, 'errorLength': 9, 'category': 'TYPOS', 'ruleIssueType': 'misspelling', 'sentence': 'Тоскливая депрессия типична для промежуточных и отдалённых периодов с лёгким или средней тяжести ушибом височных отделов правой гемисферы.'}),\n",
              " Match({'ruleId': 'MORFOLOGIK_RULE_RU_RU', 'message': 'Возможно найдена орфографическая ошибка.', 'replacements': ['геосферы', 'гомосферы', 'хемосферы'], 'offsetInContext': 43, 'context': '... тяжести ушибом височных отделов правой гемисферы.', 'offset': 128, 'errorLength': 9, 'category': 'TYPOS', 'ruleIssueType': 'misspelling', 'sentence': 'Тоскливая депрессия типична для промежуточных и отдалённых периодов с лёгким или средней тяжести ушибом височных отделов правой гемисферы.'}),\n",
              " Match({'ruleId': 'Prep_i', 'message': 'Пропущена запятая: «Традиция мариновать водящуюся в изобилии в Северном, и Балтийском морях морях сельдь существует»', 'replacements': ['Традиция мариновать водящуюся в изобилии в Северном, и Балтийском морях морях сельдь существует'], 'offsetInContext': 0, 'context': 'Традиция мариновать водящуюся в изобилии в Северном и Балтийском морях морях сельдь существует ещё со времён Средневековья.', 'offset': 0, 'errorLength': 94, 'category': 'PUNCTUATION', 'ruleIssueType': 'uncategorized', 'sentence': 'Традиция мариновать водящуюся в изобилии в Северном и Балтийском морях морях сельдь существует ещё со времён Средневековья.'}),\n",
              " Match({'ruleId': 'Prep_i', 'message': 'Пропущена запятая: «Традиция мариновать водящуюся в изобилии в Северном, и Балтийском морях морях сельдь существует»', 'replacements': ['Традиция мариновать водящуюся в изобилии в Северном, и Балтийском морях морях сельдь существует'], 'offsetInContext': 0, 'context': 'Традиция мариновать водящуюся в изобилии в Северном и Балтийском морях морях сельдь существует ещё со времён Средневековья.', 'offset': 0, 'errorLength': 94, 'category': 'PUNCTUATION', 'ruleIssueType': 'uncategorized', 'sentence': 'Традиция мариновать водящуюся в изобилии в Северном и Балтийском морях морях сельдь существует ещё со времён Средневековья.'}),\n",
              " Match({'ruleId': 'Prep_i', 'message': 'Пропущена запятая: «Традиция мариновать водящуюся в изобилии в Северном, и Балтийском морях морях сельдь существует»', 'replacements': ['Традиция мариновать водящуюся в изобилии в Северном, и Балтийском морях морях сельдь существует'], 'offsetInContext': 0, 'context': 'Традиция мариновать водящуюся в изобилии в Северном и Балтийском морях морях сельдь существует ещё со времён Средневековья.', 'offset': 0, 'errorLength': 94, 'category': 'PUNCTUATION', 'ruleIssueType': 'uncategorized', 'sentence': 'Традиция мариновать водящуюся в изобилии в Северном и Балтийском морях морях сельдь существует ещё со времён Средневековья.'}),\n",
              " Match({'ruleId': 'MORFOLOGIK_RULE_RU_RU', 'message': 'Возможно найдена орфографическая ошибка.', 'replacements': ['подкатегория', 'под категорией', 'подкате горией'], 'offsetInContext': 43, 'context': '...портом (общественный транспорт является подкатегорией транспорта общего пользования).', 'offset': 107, 'errorLength': 13, 'category': 'TYPOS', 'ruleIssueType': 'misspelling', 'sentence': 'Транспорт общего пользования не следует путать с общественным транспортом (общественный транспорт является подкатегорией транспорта общего пользования).'}),\n",
              " Match({'ruleId': 'MORFOLOGIK_RULE_RU_RU', 'message': 'Возможно найдена орфографическая ошибка.', 'replacements': ['подкатегория', 'под категорией', 'подкате горией'], 'offsetInContext': 43, 'context': '...портом (общественный транспорт является подкатегорией транспорта общего пользования).', 'offset': 107, 'errorLength': 13, 'category': 'TYPOS', 'ruleIssueType': 'misspelling', 'sentence': 'Транспорт общего пользования не следует путать с общественным транспортом (общественный транспорт является подкатегорией транспорта общего пользования).'}),\n",
              " Match({'ruleId': 'MORFOLOGIK_RULE_RU_RU', 'message': 'Возможно найдена орфографическая ошибка.', 'replacements': [], 'offsetInContext': 43, 'context': '... Ирана серьёзно пострадала в результате ирано-иракской войны, однако в настоящее время возрожд...', 'offset': 63, 'errorLength': 14, 'category': 'TYPOS', 'ruleIssueType': 'misspelling', 'sentence': 'Туристическая индустрия Ирана серьёзно пострадала в результате ирано-иракской войны, однако в настоящее время возрождается.'}),\n",
              " Match({'ruleId': 'MORFOLOGIK_RULE_RU_RU', 'message': 'Возможно найдена орфографическая ошибка.', 'replacements': [], 'offsetInContext': 43, 'context': '... Ирана серьёзно пострадала в результате ирано-иракской войны, однако в настоящее время возрожд...', 'offset': 63, 'errorLength': 14, 'category': 'TYPOS', 'ruleIssueType': 'misspelling', 'sentence': 'Туристическая индустрия Ирана серьёзно пострадала в результате ирано-иракской войны, однако в настоящее время возрождается.'}),\n",
              " Match({'ruleId': 'MORFOLOGIK_RULE_RU_RU', 'message': 'Возможно найдена орфографическая ошибка.', 'replacements': [], 'offsetInContext': 43, 'context': '... Ирана серьёзно пострадала в результате ирано-иракской войны, однако в настоящее время возрожд...', 'offset': 63, 'errorLength': 14, 'category': 'TYPOS', 'ruleIssueType': 'misspelling', 'sentence': 'Туристическая индустрия Ирана серьёзно пострадала в результате ирано-иракской войны, однако в настоящее время возрождается.'}),\n",
              " Match({'ruleId': 'MORFOLOGIK_RULE_RU_RU', 'message': 'Возможно найдена орфографическая ошибка.', 'replacements': ['гузкой', 'лузской', 'огинской', 'оглаской', 'огузком', 'огузков', 'ормузской', 'яузской', 'рузской'], 'offsetInContext': 43, 'context': '...новной народ Турции, говорящий на языке огузской группы тюркской ветви алтайской языково...', 'offset': 50, 'errorLength': 8, 'category': 'TYPOS', 'ruleIssueType': 'misspelling', 'sentence': 'Турки — основной народ Турции, говорящий на языке огузской группы тюркской ветви алтайской языковой семьи, исповедующий ислам.'}),\n",
              " Match({'ruleId': 'MORFOLOGIK_RULE_RU_RU', 'message': 'Возможно найдена орфографическая ошибка.', 'replacements': ['гузкой', 'лузской', 'огинской', 'оглаской', 'огузком', 'огузков', 'ормузской', 'яузской', 'рузской'], 'offsetInContext': 43, 'context': '...новной народ Турции, говорящий на языке огузской группы тюркской ветви алтайской языково...', 'offset': 50, 'errorLength': 8, 'category': 'TYPOS', 'ruleIssueType': 'misspelling', 'sentence': 'Турки — основной народ Турции, говорящий на языке огузской группы тюркской ветви алтайской языковой семьи, исповедующий ислам.'}),\n",
              " Match({'ruleId': 'MORFOLOGIK_RULE_RU_RU', 'message': 'Возможно найдена орфографическая ошибка.', 'replacements': ['гузкой', 'лузской', 'огинской', 'оглаской', 'огузком', 'огузков', 'ормузской', 'яузской', 'рузской'], 'offsetInContext': 43, 'context': '...новной народ Турции, говорящий на языке огузской группы тюркской ветви алтайской языково...', 'offset': 50, 'errorLength': 8, 'category': 'TYPOS', 'ruleIssueType': 'misspelling', 'sentence': 'Турки — основной народ Турции, говорящий на языке огузской группы тюркской ветви алтайской языковой семьи, исповедующий ислам.'}),\n",
              " Match({'ruleId': 'MORFOLOGIK_RULE_RU_RU', 'message': 'Возможно найдена орфографическая ошибка.', 'replacements': [], 'offsetInContext': 43, 'context': '...очная стенка, состоящая из многих слоёв пептидогликана и тейхоевых кислот.', 'offset': 89, 'errorLength': 14, 'category': 'TYPOS', 'ruleIssueType': 'misspelling', 'sentence': 'У грамположительных бактерий имеется толстая клеточная стенка, состоящая из многих слоёв пептидогликана и тейхоевых кислот.'}),\n",
              " Match({'ruleId': 'MORFOLOGIK_RULE_RU_RU', 'message': 'Возможно найдена орфографическая ошибка.', 'replacements': ['чехоевых'], 'offsetInContext': 43, 'context': '...тоящая из многих слоёв пептидогликана и тейхоевых кислот.', 'offset': 106, 'errorLength': 9, 'category': 'TYPOS', 'ruleIssueType': 'misspelling', 'sentence': 'У грамположительных бактерий имеется толстая клеточная стенка, состоящая из многих слоёв пептидогликана и тейхоевых кислот.'}),\n",
              " Match({'ruleId': 'MORFOLOGIK_RULE_RU_RU', 'message': 'Возможно найдена орфографическая ошибка.', 'replacements': [], 'offsetInContext': 43, 'context': '...очная стенка, состоящая из многих слоёв пептидогликана и тейхоевых кислот.', 'offset': 89, 'errorLength': 14, 'category': 'TYPOS', 'ruleIssueType': 'misspelling', 'sentence': 'У грамположительных бактерий имеется толстая клеточная стенка, состоящая из многих слоёв пептидогликана и тейхоевых кислот.'}),\n",
              " Match({'ruleId': 'MORFOLOGIK_RULE_RU_RU', 'message': 'Возможно найдена орфографическая ошибка.', 'replacements': ['чехоевых'], 'offsetInContext': 43, 'context': '...тоящая из многих слоёв пептидогликана и тейхоевых кислот.', 'offset': 106, 'errorLength': 9, 'category': 'TYPOS', 'ruleIssueType': 'misspelling', 'sentence': 'У грамположительных бактерий имеется толстая клеточная стенка, состоящая из многих слоёв пептидогликана и тейхоевых кислот.'}),\n",
              " Match({'ruleId': 'MORFOLOGIK_RULE_RU_RU', 'message': 'Возможно найдена орфографическая ошибка.', 'replacements': [], 'offsetInContext': 43, 'context': '...очная стенка, состоящая из многих слоёв пептидогликана и тейхоевых кислот.', 'offset': 89, 'errorLength': 14, 'category': 'TYPOS', 'ruleIssueType': 'misspelling', 'sentence': 'У грамположительных бактерий имеется толстая клеточная стенка, состоящая из многих слоёв пептидогликана и тейхоевых кислот.'}),\n",
              " Match({'ruleId': 'MORFOLOGIK_RULE_RU_RU', 'message': 'Возможно найдена орфографическая ошибка.', 'replacements': ['чехоевых'], 'offsetInContext': 43, 'context': '...тоящая из многих слоёв пептидогликана и тейхоевых кислот.', 'offset': 106, 'errorLength': 9, 'category': 'TYPOS', 'ruleIssueType': 'misspelling', 'sentence': 'У грамположительных бактерий имеется толстая клеточная стенка, состоящая из многих слоёв пептидогликана и тейхоевых кислот.'}),\n",
              " Match({'ruleId': 'MORFOLOGIK_RULE_RU_RU', 'message': 'Возможно найдена орфографическая ошибка.', 'replacements': [], 'offsetInContext': 43, 'context': '...очная стенка, состоящая из многих слоёв пептидогликана и тейхоевых кислот.', 'offset': 89, 'errorLength': 14, 'category': 'TYPOS', 'ruleIssueType': 'misspelling', 'sentence': 'У грамположительных бактерий имеется толстая клеточная стенка, состоящая из многих слоёв пептидогликана и тейхоевых кислот.'}),\n",
              " Match({'ruleId': 'MORFOLOGIK_RULE_RU_RU', 'message': 'Возможно найдена орфографическая ошибка.', 'replacements': ['чехоевых'], 'offsetInContext': 43, 'context': '...тоящая из многих слоёв пептидогликана и тейхоевых кислот.', 'offset': 106, 'errorLength': 9, 'category': 'TYPOS', 'ruleIssueType': 'misspelling', 'sentence': 'У грамположительных бактерий имеется толстая клеточная стенка, состоящая из многих слоёв пептидогликана и тейхоевых кислот.'}),\n",
              " Match({'ruleId': 'MORFOLOGIK_RULE_RU_RU', 'message': 'Возможно найдена орфографическая ошибка.', 'replacements': [], 'offsetInContext': 43, 'context': '...очная стенка, состоящая из многих слоёв пептидогликана и тейхоевых кислот.', 'offset': 89, 'errorLength': 14, 'category': 'TYPOS', 'ruleIssueType': 'misspelling', 'sentence': 'У грамположительных бактерий имеется толстая клеточная стенка, состоящая из многих слоёв пептидогликана и тейхоевых кислот.'}),\n",
              " Match({'ruleId': 'MORFOLOGIK_RULE_RU_RU', 'message': 'Возможно найдена орфографическая ошибка.', 'replacements': ['чехоевых'], 'offsetInContext': 43, 'context': '...тоящая из многих слоёв пептидогликана и тейхоевых кислот.', 'offset': 106, 'errorLength': 9, 'category': 'TYPOS', 'ruleIssueType': 'misspelling', 'sentence': 'У грамположительных бактерий имеется толстая клеточная стенка, состоящая из многих слоёв пептидогликана и тейхоевых кислот.'}),\n",
              " Match({'ruleId': 'Prep_i', 'message': 'Пропущена запятая: «район был упразднён, и сельский совет включили»', 'replacements': ['район был упразднён, и сельский совет включили'], 'offsetInContext': 43, 'context': '...сти», от 30 декабря 1962 года Советский район был упразднён и сельский совет включили в Нижнегорский.', 'offset': 126, 'errorLength': 45, 'category': 'PUNCTUATION', 'ruleIssueType': 'uncategorized', 'sentence': 'Указом Президиума Верховного Совета УССР «Об укрупнении сельских районов Крымской области», от 30 декабря 1962 года Советский район был упразднён и сельский совет включили в Нижнегорский.'}),\n",
              " Match({'ruleId': 'MORFOLOGIK_RULE_RU_RU', 'message': 'Возможно найдена орфографическая ошибка.', 'replacements': ['Нижне горский'], 'offsetInContext': 43, 'context': '...л упразднён и сельский совет включили в Нижнегорский.', 'offset': 174, 'errorLength': 12, 'category': 'TYPOS', 'ruleIssueType': 'misspelling', 'sentence': 'Указом Президиума Верховного Совета УССР «Об укрупнении сельских районов Крымской области», от 30 декабря 1962 года Советский район был упразднён и сельский совет включили в Нижнегорский.'}),\n",
              " Match({'ruleId': 'Prep_i', 'message': 'Пропущена запятая: «район был упразднён, и сельский совет включили»', 'replacements': ['район был упразднён, и сельский совет включили'], 'offsetInContext': 43, 'context': '...сти», от 30 декабря 1962 года Советский район был упразднён и сельский совет включили в Нижнегорский.', 'offset': 126, 'errorLength': 45, 'category': 'PUNCTUATION', 'ruleIssueType': 'uncategorized', 'sentence': 'Указом Президиума Верховного Совета УССР «Об укрупнении сельских районов Крымской области», от 30 декабря 1962 года Советский район был упразднён и сельский совет включили в Нижнегорский.'}),\n",
              " Match({'ruleId': 'MORFOLOGIK_RULE_RU_RU', 'message': 'Возможно найдена орфографическая ошибка.', 'replacements': ['Нижне горский'], 'offsetInContext': 43, 'context': '...л упразднён и сельский совет включили в Нижнегорский.', 'offset': 174, 'errorLength': 12, 'category': 'TYPOS', 'ruleIssueType': 'misspelling', 'sentence': 'Указом Президиума Верховного Совета УССР «Об укрупнении сельских районов Крымской области», от 30 декабря 1962 года Советский район был упразднён и сельский совет включили в Нижнегорский.'}),\n",
              " Match({'ruleId': 'ROST', 'message': 'Рост бывает у одушевлённых слов (человек большого роста), некого числа характеристик (рост показателей, рост качества, количества), в некоторых устойчивых выражениях (рост экономики, преступности, безработицы).', 'replacements': [], 'offsetInContext': 43, 'context': '...м воздухе горных курортов, способствует торможению роста и размножения микобактерий.', 'offset': 121, 'errorLength': 16, 'category': 'LOGIC', 'ruleIssueType': 'uncategorized', 'sentence': 'Улучшение оксигенации лёгких, наблюдаемое при интенсификации дыхания в разрежённом воздухе горных курортов, способствует торможению роста и размножения микобактерий.'}),\n",
              " Match({'ruleId': 'ROST', 'message': 'Рост бывает у одушевлённых слов (человек большого роста), некого числа характеристик (рост показателей, рост качества, количества), в некоторых устойчивых выражениях (рост экономики, преступности, безработицы).', 'replacements': [], 'offsetInContext': 43, 'context': '...м воздухе горных курортов, способствует торможению роста и размножения микобактерий.', 'offset': 121, 'errorLength': 16, 'category': 'LOGIC', 'ruleIssueType': 'uncategorized', 'sentence': 'Улучшение оксигенации лёгких, наблюдаемое при интенсификации дыхания в разрежённом воздухе горных курортов, способствует торможению роста и размножения микобактерий.'}),\n",
              " Match({'ruleId': 'ROST', 'message': 'Рост бывает у одушевлённых слов (человек большого роста), некого числа характеристик (рост показателей, рост качества, количества), в некоторых устойчивых выражениях (рост экономики, преступности, безработицы).', 'replacements': [], 'offsetInContext': 43, 'context': '...м воздухе горных курортов, способствует торможению роста и размножения микобактерий.', 'offset': 121, 'errorLength': 16, 'category': 'LOGIC', 'ruleIssueType': 'uncategorized', 'sentence': 'Улучшение оксигенации лёгких, наблюдаемое при интенсификации дыхания в разрежённом воздухе горных курортов, способствует торможению роста и размножения микобактерий.'}),\n",
              " Match({'ruleId': 'ROST', 'message': 'Рост бывает у одушевлённых слов (человек большого роста), некого числа характеристик (рост показателей, рост качества, количества), в некоторых устойчивых выражениях (рост экономики, преступности, безработицы).', 'replacements': [], 'offsetInContext': 43, 'context': '...м воздухе горных курортов, способствует торможению роста и размножения микобактерий.', 'offset': 121, 'errorLength': 16, 'category': 'LOGIC', 'ruleIssueType': 'uncategorized', 'sentence': 'Улучшение оксигенации лёгких, наблюдаемое при интенсификации дыхания в разрежённом воздухе горных курортов, способствует торможению роста и размножения микобактерий.'}),\n",
              " Match({'ruleId': 'ROST', 'message': 'Рост бывает у одушевлённых слов (человек большого роста), некого числа характеристик (рост показателей, рост качества, количества), в некоторых устойчивых выражениях (рост экономики, преступности, безработицы).', 'replacements': [], 'offsetInContext': 43, 'context': '...м воздухе горных курортов, способствует торможению роста и размножения микобактерий.', 'offset': 121, 'errorLength': 16, 'category': 'LOGIC', 'ruleIssueType': 'uncategorized', 'sentence': 'Улучшение оксигенации лёгких, наблюдаемое при интенсификации дыхания в разрежённом воздухе горных курортов, способствует торможению роста и размножения микобактерий.'}),\n",
              " Match({'ruleId': 'MORFOLOGIK_RULE_RU_RU', 'message': 'Возможно найдена орфографическая ошибка.', 'replacements': ['Вуду'], 'offsetInContext': 43, 'context': '...тва Лихтенштейн, расположенный в городе Вадуц.', 'offset': 150, 'errorLength': 5, 'category': 'TYPOS', 'ruleIssueType': 'misspelling', 'sentence': 'Университет Лихтенштейна (нем. Universität Liechtenstein) — один из четырёх центров высшего образования Княжества Лихтенштейн, расположенный в городе Вадуц.'}),\n",
              " Match({'ruleId': 'MORFOLOGIK_RULE_RU_RU', 'message': 'Возможно найдена орфографическая ошибка.', 'replacements': ['Гавро', 'Тавро'], 'offsetInContext': 0, 'context': 'Фавро планирует снять одну из серий второго с...', 'offset': 0, 'errorLength': 5, 'category': 'TYPOS', 'ruleIssueType': 'misspelling', 'sentence': 'Фавро планирует снять одну из серий второго сезона в качестве режиссёра; он также заявил, что был слишком занят производством «Короля Льва», чтобы снять какой-либо из эпизодов первого сезона сериала.'}),\n",
              " Match({'ruleId': 'MORFOLOGIK_RULE_RU_RU', 'message': 'Возможно найдена орфографическая ошибка.', 'replacements': ['Гавро', 'Тавро'], 'offsetInContext': 0, 'context': 'Фавро планирует снять одну из серий второго с...', 'offset': 0, 'errorLength': 5, 'category': 'TYPOS', 'ruleIssueType': 'misspelling', 'sentence': 'Фавро планирует снять одну из серий второго сезона в качестве режиссёра; он также заявил, что был слишком занят производством «Короля Льва», чтобы снять какой-либо из эпизодов первого сезона сериала.'}),\n",
              " Match({'ruleId': 'MORFOLOGIK_RULE_RU_RU', 'message': 'Возможно найдена орфографическая ошибка.', 'replacements': ['Алайбеки', 'Аланбеки', 'Алешки', 'Али-беки', 'Алимбеки', 'Алымбеки', 'Бляшечки', 'Бляшки', 'Флешки', 'Глебки', 'Хлебки', 'Хлябки', 'Лешаки', 'Лешеки', 'Лешики', 'Олешки', 'Олешники', 'Олешняки', 'Плешинки', 'Плешки', 'Улугбеки', 'Улукбеки', 'Улусбеки', 'Умербеки', 'Алёшки'], 'offsetInContext': 0, 'context': 'Флешбэки могут проявляться в форме зрительных об...', 'offset': 0, 'errorLength': 8, 'category': 'TYPOS', 'ruleIssueType': 'misspelling', 'sentence': 'Флешбэки могут проявляться в форме зрительных образов, звуков, запахов, тактильных и вкусовых ощущений, имевших место в момент травмы.'}),\n",
              " Match({'ruleId': 'MORFOLOGIK_RULE_RU_RU', 'message': 'Возможно найдена орфографическая ошибка.', 'replacements': ['Кене сары'], 'offsetInContext': 43, 'context': '... где сейчас расположен стадион на улице Кенесары.', 'offset': 84, 'errorLength': 8, 'category': 'TYPOS', 'ruleIssueType': 'misspelling', 'sentence': 'Форпост был построен на правом берегу Ишима, где сейчас расположен стадион на улице Кенесары.'}),\n",
              " Match({'ruleId': 'MORFOLOGIK_RULE_RU_RU', 'message': 'Возможно найдена орфографическая ошибка.', 'replacements': ['Кене сары'], 'offsetInContext': 43, 'context': '... где сейчас расположен стадион на улице Кенесары.', 'offset': 84, 'errorLength': 8, 'category': 'TYPOS', 'ruleIssueType': 'misspelling', 'sentence': 'Форпост был построен на правом берегу Ишима, где сейчас расположен стадион на улице Кенесары.'}),\n",
              " Match({'ruleId': 'MORFOLOGIK_RULE_RU_RU', 'message': 'Возможно найдена орфографическая ошибка.', 'replacements': ['Кене сары'], 'offsetInContext': 43, 'context': '... где сейчас расположен стадион на улице Кенесары.', 'offset': 84, 'errorLength': 8, 'category': 'TYPOS', 'ruleIssueType': 'misspelling', 'sentence': 'Форпост был построен на правом берегу Ишима, где сейчас расположен стадион на улице Кенесары.'}),\n",
              " Match({'ruleId': 'MORFOLOGIK_RULE_RU_RU', 'message': 'Возможно найдена орфографическая ошибка.', 'replacements': ['Кене сары'], 'offsetInContext': 43, 'context': '... где сейчас расположен стадион на улице Кенесары.', 'offset': 84, 'errorLength': 8, 'category': 'TYPOS', 'ruleIssueType': 'misspelling', 'sentence': 'Форпост был построен на правом берегу Ишима, где сейчас расположен стадион на улице Кенесары.'}),\n",
              " Match({'ruleId': 'MORFOLOGIK_RULE_RU_RU', 'message': 'Возможно найдена орфографическая ошибка.', 'replacements': ['Кене сары'], 'offsetInContext': 43, 'context': '... где сейчас расположен стадион на улице Кенесары.', 'offset': 84, 'errorLength': 8, 'category': 'TYPOS', 'ruleIssueType': 'misspelling', 'sentence': 'Форпост был построен на правом берегу Ишима, где сейчас расположен стадион на улице Кенесары.'}),\n",
              " Match({'ruleId': 'MORFOLOGIK_RULE_RU_RU', 'message': 'Возможно найдена орфографическая ошибка.', 'replacements': ['Абруцци'], 'offsetInContext': 43, 'context': '...коммуна в Италии, расположена в регионе Абруццо, подчиняется административному центру К...', 'offset': 62, 'errorLength': 7, 'category': 'TYPOS', 'ruleIssueType': 'misspelling', 'sentence': 'Frisa) — коммуна в Италии, расположена в регионе Абруццо, подчиняется административному центру Кьети.'}),\n",
              " Match({'ruleId': 'MORFOLOGIK_RULE_RU_RU', 'message': 'Возможно найдена орфографическая ошибка.', 'replacements': ['Вьери', 'Бети', 'Бьёт', 'Бьёте', 'Бьюти', 'Бьет', 'Бьете', 'Цвети', 'Дети', 'Дьяки', 'Гнети', 'Илети', 'Исети', 'Кети', 'Клети', 'Кьянти', 'Кьят', 'Кьята', 'Кьяте', 'Кьяту', 'Кьяты', 'Лети', 'Льёт', 'Льёте', 'Льет', 'Льете', 'Льсти', 'Мети', 'Нети', 'Пети', 'Плети', 'Прети', 'Пьёт', 'Пьёте', 'Пьет', 'Пьете', 'Пьяни', 'Сети', 'Слети', 'Смети', 'Снятьи', 'Свети', 'Святи', 'Тети', 'Трети', 'Третьи', 'Улети', 'Умети', 'Унятьи', 'Влети', 'Вмети', 'Вьёт', 'Вьёте', 'Вьет', 'Вьете', 'Взятьи', 'Шьёт', 'Шьёте', 'Шьет', 'Шьете', 'Чети', 'Кати', 'Кити', 'Китти', 'Кости'], 'offsetInContext': 43, 'context': '...о, подчиняется административному центру Кьети.', 'offset': 108, 'errorLength': 5, 'category': 'TYPOS', 'ruleIssueType': 'misspelling', 'sentence': 'Frisa) — коммуна в Италии, расположена в регионе Абруццо, подчиняется административному центру Кьети.'}),\n",
              " Match({'ruleId': 'MORFOLOGIK_RULE_RU_RU', 'message': 'Возможно найдена орфографическая ошибка.', 'replacements': ['Абруцци'], 'offsetInContext': 43, 'context': '...коммуна в Италии, расположена в регионе Абруццо, подчиняется административному центру К...', 'offset': 62, 'errorLength': 7, 'category': 'TYPOS', 'ruleIssueType': 'misspelling', 'sentence': 'Frisa) — коммуна в Италии, расположена в регионе Абруццо, подчиняется административному центру Кьети.'}),\n",
              " Match({'ruleId': 'MORFOLOGIK_RULE_RU_RU', 'message': 'Возможно найдена орфографическая ошибка.', 'replacements': ['Вьери', 'Бети', 'Бьёт', 'Бьёте', 'Бьюти', 'Бьет', 'Бьете', 'Цвети', 'Дети', 'Дьяки', 'Гнети', 'Илети', 'Исети', 'Кети', 'Клети', 'Кьянти', 'Кьят', 'Кьята', 'Кьяте', 'Кьяту', 'Кьяты', 'Лети', 'Льёт', 'Льёте', 'Льет', 'Льете', 'Льсти', 'Мети', 'Нети', 'Пети', 'Плети', 'Прети', 'Пьёт', 'Пьёте', 'Пьет', 'Пьете', 'Пьяни', 'Сети', 'Слети', 'Смети', 'Снятьи', 'Свети', 'Святи', 'Тети', 'Трети', 'Третьи', 'Улети', 'Умети', 'Унятьи', 'Влети', 'Вмети', 'Вьёт', 'Вьёте', 'Вьет', 'Вьете', 'Взятьи', 'Шьёт', 'Шьёте', 'Шьет', 'Шьете', 'Чети', 'Кати', 'Кити', 'Китти', 'Кости'], 'offsetInContext': 43, 'context': '...о, подчиняется административному центру Кьети.', 'offset': 108, 'errorLength': 5, 'category': 'TYPOS', 'ruleIssueType': 'misspelling', 'sentence': 'Frisa) — коммуна в Италии, расположена в регионе Абруццо, подчиняется административному центру Кьети.'}),\n",
              " Match({'ruleId': 'MORFOLOGIK_RULE_RU_RU', 'message': 'Возможно найдена орфографическая ошибка.', 'replacements': [], 'offsetInContext': 43, 'context': '...тут, медицинское и музыкальное училище, историко-краеведческий музей, драматический театр.', 'offset': 107, 'errorLength': 22, 'category': 'TYPOS', 'ruleIssueType': 'misspelling', 'sentence': 'Функционировали сельскохозяйственный техникум, педагогический институт, медицинское и музыкальное училище, историко-краеведческий музей, драматический театр.'}),\n",
              " Match({'ruleId': 'MORFOLOGIK_RULE_RU_RU', 'message': 'Возможно найдена орфографическая ошибка.', 'replacements': [], 'offsetInContext': 43, 'context': '...тут, медицинское и музыкальное училище, историко-краеведческий музей, драматический театр.', 'offset': 107, 'errorLength': 22, 'category': 'TYPOS', 'ruleIssueType': 'misspelling', 'sentence': 'Функционировали сельскохозяйственный техникум, педагогический институт, медицинское и музыкальное училище, историко-краеведческий музей, драматический театр.'}),\n",
              " Match({'ruleId': 'MORFOLOGIK_RULE_RU_RU', 'message': 'Возможно найдена орфографическая ошибка.', 'replacements': [], 'offsetInContext': 43, 'context': '...тут, медицинское и музыкальное училище, историко-краеведческий музей, драматический театр.', 'offset': 107, 'errorLength': 22, 'category': 'TYPOS', 'ruleIssueType': 'misspelling', 'sentence': 'Функционировали сельскохозяйственный техникум, педагогический институт, медицинское и музыкальное училище, историко-краеведческий музей, драматический театр.'}),\n",
              " Match({'ruleId': 'MORFOLOGIK_RULE_RU_RU', 'message': 'Возможно найдена орфографическая ошибка.', 'replacements': [], 'offsetInContext': 43, 'context': '...тут, медицинское и музыкальное училище, историко-краеведческий музей, драматический театр.', 'offset': 107, 'errorLength': 22, 'category': 'TYPOS', 'ruleIssueType': 'misspelling', 'sentence': 'Функционировали сельскохозяйственный техникум, педагогический институт, медицинское и музыкальное училище, историко-краеведческий музей, драматический театр.'}),\n",
              " Match({'ruleId': 'MORFOLOGIK_RULE_RU_RU', 'message': 'Возможно найдена орфографическая ошибка.', 'replacements': [], 'offsetInContext': 43, 'context': '...тут, медицинское и музыкальное училище, историко-краеведческий музей, драматический театр.', 'offset': 107, 'errorLength': 22, 'category': 'TYPOS', 'ruleIssueType': 'misspelling', 'sentence': 'Функционировали сельскохозяйственный техникум, педагогический институт, медицинское и музыкальное училище, историко-краеведческий музей, драматический театр.'}),\n",
              " Match({'ruleId': 'MORFOLOGIK_RULE_RU_RU', 'message': 'Возможно найдена орфографическая ошибка.', 'replacements': ['Гарц', 'Ха рц'], 'offsetInContext': 0, 'context': 'Харц объяснял консерватизм в Квебеке и Латин...', 'offset': 0, 'errorLength': 4, 'category': 'TYPOS', 'ruleIssueType': 'misspelling', 'sentence': 'Харц объяснял консерватизм в Квебеке и Латинской Америке как результат первых поселений в виде феодальных общин.'}),\n",
              " Match({'ruleId': 'MORFOLOGIK_RULE_RU_RU', 'message': 'Возможно найдена орфографическая ошибка.', 'replacements': ['Гарц', 'Ха рц'], 'offsetInContext': 0, 'context': 'Харц объяснял консерватизм в Квебеке и Латин...', 'offset': 0, 'errorLength': 4, 'category': 'TYPOS', 'ruleIssueType': 'misspelling', 'sentence': 'Харц объяснял консерватизм в Квебеке и Латинской Америке как результат первых поселений в виде феодальных общин.'}),\n",
              " Match({'ruleId': 'MORFOLOGIK_RULE_RU_RU', 'message': 'Возможно найдена орфографическая ошибка.', 'replacements': ['Гарц', 'Ха рц'], 'offsetInContext': 0, 'context': 'Харц объяснял консерватизм в Квебеке и Латин...', 'offset': 0, 'errorLength': 4, 'category': 'TYPOS', 'ruleIssueType': 'misspelling', 'sentence': 'Харц объяснял консерватизм в Квебеке и Латинской Америке как результат первых поселений в виде феодальных общин.'}),\n",
              " Match({'ruleId': 'MORFOLOGIK_RULE_RU_RU', 'message': 'Возможно найдена орфографическая ошибка.', 'replacements': ['Гарц', 'Ха рц'], 'offsetInContext': 0, 'context': 'Харц объяснял консерватизм в Квебеке и Латин...', 'offset': 0, 'errorLength': 4, 'category': 'TYPOS', 'ruleIssueType': 'misspelling', 'sentence': 'Харц объяснял консерватизм в Квебеке и Латинской Америке как результат первых поселений в виде феодальных общин.'}),\n",
              " Match({'ruleId': 'MORFOLOGIK_RULE_RU_RU', 'message': 'Возможно найдена орфографическая ошибка.', 'replacements': ['Гарц', 'Ха рц'], 'offsetInContext': 0, 'context': 'Харц объяснял консерватизм в Квебеке и Латин...', 'offset': 0, 'errorLength': 4, 'category': 'TYPOS', 'ruleIssueType': 'misspelling', 'sentence': 'Харц объяснял консерватизм в Квебеке и Латинской Америке как результат первых поселений в виде феодальных общин.'}),\n",
              " Match({'ruleId': 'MORFOLOGIK_RULE_RU_RU', 'message': 'Возможно найдена орфографическая ошибка.', 'replacements': [], 'offsetInContext': 43, 'context': '...ует известной генетической этиологии, и нейровизуализация не идентифицирует ясной общей патологии...', 'offset': 112, 'errorLength': 17, 'category': 'TYPOS', 'ruleIssueType': 'misspelling', 'sentence': 'Хотя исследования предполагают возможность генетической базы, не существует известной генетической этиологии, и нейровизуализация не идентифицирует ясной общей патологии.'}),\n",
              " Match({'ruleId': 'MORFOLOGIK_RULE_RU_RU', 'message': 'Возможно найдена орфографическая ошибка.', 'replacements': [], 'offsetInContext': 43, 'context': '...ует известной генетической этиологии, и нейровизуализация не идентифицирует ясной общей патологии...', 'offset': 112, 'errorLength': 17, 'category': 'TYPOS', 'ruleIssueType': 'misspelling', 'sentence': 'Хотя исследования предполагают возможность генетической базы, не существует известной генетической этиологии, и нейровизуализация не идентифицирует ясной общей патологии.'}),\n",
              " Match({'ruleId': 'MORFOLOGIK_RULE_RU_RU', 'message': 'Возможно найдена орфографическая ошибка.', 'replacements': [], 'offsetInContext': 43, 'context': '...ует известной генетической этиологии, и нейровизуализация не идентифицирует ясной общей патологии...', 'offset': 112, 'errorLength': 17, 'category': 'TYPOS', 'ruleIssueType': 'misspelling', 'sentence': 'Хотя исследования предполагают возможность генетической базы, не существует известной генетической этиологии, и нейровизуализация не идентифицирует ясной общей патологии.'}),\n",
              " Match({'ruleId': 'MORFOLOGIK_RULE_RU_RU', 'message': 'Возможно найдена орфографическая ошибка.', 'replacements': [], 'offsetInContext': 43, 'context': '...ует известной генетической этиологии, и нейровизуализация не идентифицирует ясной общей патологии...', 'offset': 112, 'errorLength': 17, 'category': 'TYPOS', 'ruleIssueType': 'misspelling', 'sentence': 'Хотя исследования предполагают возможность генетической базы, не существует известной генетической этиологии, и нейровизуализация не идентифицирует ясной общей патологии.'}),\n",
              " Match({'ruleId': 'MORFOLOGIK_RULE_RU_RU', 'message': 'Возможно найдена орфографическая ошибка.', 'replacements': [], 'offsetInContext': 43, 'context': '...ует известной генетической этиологии, и нейровизуализация не идентифицирует ясной общей патологии...', 'offset': 112, 'errorLength': 17, 'category': 'TYPOS', 'ruleIssueType': 'misspelling', 'sentence': 'Хотя исследования предполагают возможность генетической базы, не существует известной генетической этиологии, и нейровизуализация не идентифицирует ясной общей патологии.'}),\n",
              " Match({'ruleId': 'MORFOLOGIK_RULE_RU_RU', 'message': 'Возможно найдена орфографическая ошибка.', 'replacements': [], 'offsetInContext': 5, 'context': 'Хотя эйсид-джаз не вполне правомочно относить к джазовы...', 'offset': 5, 'errorLength': 10, 'category': 'TYPOS', 'ruleIssueType': 'misspelling', 'sentence': 'Хотя эйсид-джаз не вполне правомочно относить к джазовым стилям, которые развивались от общего древа джазовых традиций, но его нельзя и совершенно игнорировать при разборе жанрового многообразия джазовой музыки.'}),\n",
              " Match({'ruleId': 'MORFOLOGIK_RULE_RU_RU', 'message': 'Возможно найдена орфографическая ошибка.', 'replacements': [], 'offsetInContext': 5, 'context': 'Хотя эйсид-джаз не вполне правомочно относить к джазовы...', 'offset': 5, 'errorLength': 10, 'category': 'TYPOS', 'ruleIssueType': 'misspelling', 'sentence': 'Хотя эйсид-джаз не вполне правомочно относить к джазовым стилям, которые развивались от общего древа джазовых традиций, но его нельзя и совершенно игнорировать при разборе жанрового многообразия джазовой музыки.'}),\n",
              " Match({'ruleId': 'MORFOLOGIK_RULE_RU_RU', 'message': 'Возможно найдена орфографическая ошибка.', 'replacements': ['кызылкумской'], 'offsetInContext': 43, 'context': '...рства возобновилась с приходом к власти кызылбашской династии Сефевидов, положивших конец пр...', 'offset': 70, 'errorLength': 12, 'category': 'TYPOS', 'ruleIssueType': 'misspelling', 'sentence': 'Централизация Иранского государства возобновилась с приходом к власти кызылбашской династии Сефевидов, положивших конец правлению потомков монгольских завоевателей.'}),\n",
              " Match({'ruleId': 'MORFOLOGIK_RULE_RU_RU', 'message': 'Возможно найдена орфографическая ошибка.', 'replacements': ['Цефеидою', 'Цефеидой', 'Дейвидов', 'Девидов', 'Межевиков', 'Нефедов', 'Нефелинов', 'Перевидав', 'Перевидев', 'Перевивов', 'Переводов', 'Яфетидов', 'Селенидов', 'Сетевиков', 'Сечевиков', 'Черевиков', 'Нефёдов'], 'offsetInContext': 43, 'context': '...приходом к власти кызылбашской династии Сефевидов, положивших конец правлению потомков мо...', 'offset': 92, 'errorLength': 9, 'category': 'TYPOS', 'ruleIssueType': 'misspelling', 'sentence': 'Централизация Иранского государства возобновилась с приходом к власти кызылбашской династии Сефевидов, положивших конец правлению потомков монгольских завоевателей.'}),\n",
              " Match({'ruleId': 'MORFOLOGIK_RULE_RU_RU', 'message': 'Возможно найдена орфографическая ошибка.', 'replacements': ['кызылкумской'], 'offsetInContext': 43, 'context': '...рства возобновилась с приходом к власти кызылбашской династии Сефевидов, положивших конец пр...', 'offset': 70, 'errorLength': 12, 'category': 'TYPOS', 'ruleIssueType': 'misspelling', 'sentence': 'Централизация Иранского государства возобновилась с приходом к власти кызылбашской династии Сефевидов, положивших конец правлению потомков монгольских завоевателей.'}),\n",
              " Match({'ruleId': 'MORFOLOGIK_RULE_RU_RU', 'message': 'Возможно найдена орфографическая ошибка.', 'replacements': ['Цефеидою', 'Цефеидой', 'Дейвидов', 'Девидов', 'Межевиков', 'Нефедов', 'Нефелинов', 'Перевидав', 'Перевидев', 'Перевивов', 'Переводов', 'Яфетидов', 'Селенидов', 'Сетевиков', 'Сечевиков', 'Черевиков', 'Нефёдов'], 'offsetInContext': 43, 'context': '...приходом к власти кызылбашской династии Сефевидов, положивших конец правлению потомков мо...', 'offset': 92, 'errorLength': 9, 'category': 'TYPOS', 'ruleIssueType': 'misspelling', 'sentence': 'Централизация Иранского государства возобновилась с приходом к власти кызылбашской династии Сефевидов, положивших конец правлению потомков монгольских завоевателей.'}),\n",
              " Match({'ruleId': 'MORFOLOGIK_RULE_RU_RU', 'message': 'Возможно найдена орфографическая ошибка.', 'replacements': ['кызылкумской'], 'offsetInContext': 43, 'context': '...рства возобновилась с приходом к власти кызылбашской династии Сефевидов, положивших конец пр...', 'offset': 70, 'errorLength': 12, 'category': 'TYPOS', 'ruleIssueType': 'misspelling', 'sentence': 'Централизация Иранского государства возобновилась с приходом к власти кызылбашской династии Сефевидов, положивших конец правлению потомков монгольских завоевателей.'}),\n",
              " Match({'ruleId': 'MORFOLOGIK_RULE_RU_RU', 'message': 'Возможно найдена орфографическая ошибка.', 'replacements': ['Цефеидою', 'Цефеидой', 'Дейвидов', 'Девидов', 'Межевиков', 'Нефедов', 'Нефелинов', 'Перевидав', 'Перевидев', 'Перевивов', 'Переводов', 'Яфетидов', 'Селенидов', 'Сетевиков', 'Сечевиков', 'Черевиков', 'Нефёдов'], 'offsetInContext': 43, 'context': '...приходом к власти кызылбашской династии Сефевидов, положивших конец правлению потомков мо...', 'offset': 92, 'errorLength': 9, 'category': 'TYPOS', 'ruleIssueType': 'misspelling', 'sentence': 'Централизация Иранского государства возобновилась с приходом к власти кызылбашской династии Сефевидов, положивших конец правлению потомков монгольских завоевателей.'}),\n",
              " Match({'ruleId': 'MORFOLOGIK_RULE_RU_RU', 'message': 'Возможно найдена орфографическая ошибка.', 'replacements': ['Диоксиновый', 'Фитиновый', 'Хитиновый', 'Никотиновый', 'Витаминовый'], 'offsetInContext': 0, 'context': 'Цитокиновый шторм может оказаться сложно различить ...', 'offset': 0, 'errorLength': 11, 'category': 'TYPOS', 'ruleIssueType': 'misspelling', 'sentence': 'Цитокиновый шторм может оказаться сложно различить на фоне исходного заболевания из-за схожести протекаемых процессов.'}),\n",
              " Match({'ruleId': 'MORFOLOGIK_RULE_RU_RU', 'message': 'Возможно найдена орфографическая ошибка.', 'replacements': ['пропекаемых', 'прорекаемых', 'просекаемых', 'протыкаемых'], 'offsetInContext': 43, 'context': '...не исходного заболевания из-за схожести протекаемых процессов.', 'offset': 96, 'errorLength': 11, 'category': 'TYPOS', 'ruleIssueType': 'misspelling', 'sentence': 'Цитокиновый шторм может оказаться сложно различить на фоне исходного заболевания из-за схожести протекаемых процессов.'}),\n",
              " Match({'ruleId': 'MORFOLOGIK_RULE_RU_RU', 'message': 'Возможно найдена орфографическая ошибка.', 'replacements': ['Сати', 'Коти', 'Бати', 'Бути', 'Гати', 'Хоти', 'Кати', 'Кути', 'Кутьи', 'Моти', 'Мути', 'Пати', 'Поти', 'Пути', 'Рати', 'Сути', 'Тати', 'Жути', 'Шути', 'Чуи', 'Чат и'], 'offsetInContext': 0, 'context': 'Чати, жрецы и фараон носили особые одежды, с...', 'offset': 0, 'errorLength': 4, 'category': 'TYPOS', 'ruleIssueType': 'misspelling', 'sentence': 'Чати, жрецы и фараон носили особые одежды, состоявшие из платья, шкур пантер и набедренных повязок, сшитых золотыми нитями.'}),\n",
              " Match({'ruleId': 'MORFOLOGIK_RULE_RU_RU', 'message': 'Возможно найдена орфографическая ошибка.', 'replacements': ['Сати', 'Коти', 'Бати', 'Бути', 'Гати', 'Хоти', 'Кати', 'Кути', 'Кутьи', 'Моти', 'Мути', 'Пати', 'Поти', 'Пути', 'Рати', 'Сути', 'Тати', 'Жути', 'Шути', 'Чуи', 'Чат и'], 'offsetInContext': 0, 'context': 'Чати, жрецы и фараон носили особые одежды, с...', 'offset': 0, 'errorLength': 4, 'category': 'TYPOS', 'ruleIssueType': 'misspelling', 'sentence': 'Чати, жрецы и фараон носили особые одежды, состоявшие из платья, шкур пантер и набедренных повязок, сшитых золотыми нитями.'}),\n",
              " Match({'ruleId': 'MORFOLOGIK_RULE_RU_RU', 'message': 'Возможно найдена орфографическая ошибка.', 'replacements': ['Сати', 'Коти', 'Бати', 'Бути', 'Гати', 'Хоти', 'Кати', 'Кути', 'Кутьи', 'Моти', 'Мути', 'Пати', 'Поти', 'Пути', 'Рати', 'Сути', 'Тати', 'Жути', 'Шути', 'Чуи', 'Чат и'], 'offsetInContext': 0, 'context': 'Чати, жрецы и фараон носили особые одежды, с...', 'offset': 0, 'errorLength': 4, 'category': 'TYPOS', 'ruleIssueType': 'misspelling', 'sentence': 'Чати, жрецы и фараон носили особые одежды, состоявшие из платья, шкур пантер и набедренных повязок, сшитых золотыми нитями.'}),\n",
              " Match({'ruleId': 'MORFOLOGIK_RULE_RU_RU', 'message': 'Возможно найдена орфографическая ошибка.', 'replacements': ['Сати', 'Коти', 'Бати', 'Бути', 'Гати', 'Хоти', 'Кати', 'Кути', 'Кутьи', 'Моти', 'Мути', 'Пати', 'Поти', 'Пути', 'Рати', 'Сути', 'Тати', 'Жути', 'Шути', 'Чуи', 'Чат и'], 'offsetInContext': 0, 'context': 'Чати, жрецы и фараон носили особые одежды, с...', 'offset': 0, 'errorLength': 4, 'category': 'TYPOS', 'ruleIssueType': 'misspelling', 'sentence': 'Чати, жрецы и фараон носили особые одежды, состоявшие из платья, шкур пантер и набедренных повязок, сшитых золотыми нитями.'}),\n",
              " Match({'ruleId': 'MORFOLOGIK_RULE_RU_RU', 'message': 'Возможно найдена орфографическая ошибка.', 'replacements': ['Сати', 'Коти', 'Бати', 'Бути', 'Гати', 'Хоти', 'Кати', 'Кути', 'Кутьи', 'Моти', 'Мути', 'Пати', 'Поти', 'Пути', 'Рати', 'Сути', 'Тати', 'Жути', 'Шути', 'Чуи', 'Чат и'], 'offsetInContext': 0, 'context': 'Чати, жрецы и фараон носили особые одежды, с...', 'offset': 0, 'errorLength': 4, 'category': 'TYPOS', 'ruleIssueType': 'misspelling', 'sentence': 'Чати, жрецы и фараон носили особые одежды, состоявшие из платья, шкур пантер и набедренных повязок, сшитых золотыми нитями.'}),\n",
              " Match({'ruleId': 'MORFOLOGIK_RULE_RU_RU', 'message': 'Возможно найдена орфографическая ошибка.', 'replacements': ['Блоковский', 'Белоновский', 'Блоховский', 'Кулоновский', 'Обломовский', 'Яблонский'], 'offsetInContext': 43, 'context': '... реку наведено три моста (Тургеневский, Яблоновский, железнодорожный), в качестве автодорож...', 'offset': 45, 'errorLength': 11, 'category': 'TYPOS', 'ruleIssueType': 'misspelling', 'sentence': 'Через реку наведено три моста (Тургеневский, Яблоновский, железнодорожный), в качестве автодорожного перехода используется также плотина Краснодарского водохранилища.'}),\n",
              " Match({'ruleId': 'MORFOLOGIK_RULE_RU_RU', 'message': 'Возможно найдена орфографическая ошибка.', 'replacements': ['Блоковский', 'Белоновский', 'Блоховский', 'Кулоновский', 'Обломовский', 'Яблонский'], 'offsetInContext': 43, 'context': '... реку наведено три моста (Тургеневский, Яблоновский, железнодорожный), в качестве автодорож...', 'offset': 45, 'errorLength': 11, 'category': 'TYPOS', 'ruleIssueType': 'misspelling', 'sentence': 'Через реку наведено три моста (Тургеневский, Яблоновский, железнодорожный), в качестве автодорожного перехода используется также плотина Краснодарского водохранилища.'}),\n",
              " Match({'ruleId': 'Verb_number', 'message': 'Глагол при однородных членах предложения должен быть во множественном числе.', 'replacements': [], 'offsetInContext': 14, 'context': 'Экономический кризис и голод привёл к появлению в сельской местности множес...', 'offset': 14, 'errorLength': 21, 'category': 'GRAMMAR', 'ruleIssueType': 'uncategorized', 'sentence': 'Экономический кризис и голод привёл к появлению в сельской местности множества бродяг, бездомных и мародёрствующих банд.'}),\n",
              " Match({'ruleId': 'Verb_number', 'message': 'Глагол при однородных членах предложения должен быть во множественном числе.', 'replacements': [], 'offsetInContext': 14, 'context': 'Экономический кризис и голод привёл к появлению в сельской местности множес...', 'offset': 14, 'errorLength': 21, 'category': 'GRAMMAR', 'ruleIssueType': 'uncategorized', 'sentence': 'Экономический кризис и голод привёл к появлению в сельской местности множества бродяг, бездомных и мародёрствующих банд.'}),\n",
              " Match({'ruleId': 'Verb_number', 'message': 'Глагол при однородных членах предложения должен быть во множественном числе.', 'replacements': [], 'offsetInContext': 14, 'context': 'Экономический кризис и голод привёл к появлению в сельской местности множес...', 'offset': 14, 'errorLength': 21, 'category': 'GRAMMAR', 'ruleIssueType': 'uncategorized', 'sentence': 'Экономический кризис и голод привёл к появлению в сельской местности множества бродяг, бездомных и мародёрствующих банд.'}),\n",
              " Match({'ruleId': 'Verb_number', 'message': 'Глагол при однородных членах предложения должен быть во множественном числе.', 'replacements': [], 'offsetInContext': 14, 'context': 'Экономический кризис и голод привёл к появлению в сельской местности множес...', 'offset': 14, 'errorLength': 21, 'category': 'GRAMMAR', 'ruleIssueType': 'uncategorized', 'sentence': 'Экономический кризис и голод привёл к появлению в сельской местности множества бродяг, бездомных и мародёрствующих банд.'}),\n",
              " Match({'ruleId': 'Verb_number', 'message': 'Глагол при однородных членах предложения должен быть во множественном числе.', 'replacements': [], 'offsetInContext': 14, 'context': 'Экономический кризис и голод привёл к появлению в сельской местности множес...', 'offset': 14, 'errorLength': 21, 'category': 'GRAMMAR', 'ruleIssueType': 'uncategorized', 'sentence': 'Экономический кризис и голод привёл к появлению в сельской местности множества бродяг, бездомных и мародёрствующих банд.'}),\n",
              " Match({'ruleId': 'MORFOLOGIK_RULE_RU_RU', 'message': 'Возможно найдена орфографическая ошибка.', 'replacements': ['пережатие', 'пережатия', 'пережат ии'], 'offsetInContext': 43, 'context': '... удушение — сексуальное возбуждение при пережатии сонной артерии на горле и кратковременн...', 'offset': 51, 'errorLength': 9, 'category': 'TYPOS', 'ruleIssueType': 'misspelling', 'sentence': 'Эротическое удушение — сексуальное возбуждение при пережатии сонной артерии на горле и кратковременной потери сознания.'}),\n",
              " Match({'ruleId': 'MORFOLOGIK_RULE_RU_RU', 'message': 'Возможно найдена орфографическая ошибка.', 'replacements': ['пережатие', 'пережатия', 'пережат ии'], 'offsetInContext': 43, 'context': '... удушение — сексуальное возбуждение при пережатии сонной артерии на горле и кратковременн...', 'offset': 51, 'errorLength': 9, 'category': 'TYPOS', 'ruleIssueType': 'misspelling', 'sentence': 'Эротическое удушение — сексуальное возбуждение при пережатии сонной артерии на горле и кратковременной потери сознания.'}),\n",
              " Match({'ruleId': 'MORFOLOGIK_RULE_RU_RU', 'message': 'Возможно найдена орфографическая ошибка.', 'replacements': ['пережатие', 'пережатия', 'пережат ии'], 'offsetInContext': 43, 'context': '... удушение — сексуальное возбуждение при пережатии сонной артерии на горле и кратковременн...', 'offset': 51, 'errorLength': 9, 'category': 'TYPOS', 'ruleIssueType': 'misspelling', 'sentence': 'Эротическое удушение — сексуальное возбуждение при пережатии сонной артерии на горле и кратковременной потери сознания.'}),\n",
              " Match({'ruleId': 'MORFOLOGIK_RULE_RU_RU', 'message': 'Возможно найдена орфографическая ошибка.', 'replacements': ['пережатие', 'пережатия', 'пережат ии'], 'offsetInContext': 43, 'context': '... удушение — сексуальное возбуждение при пережатии сонной артерии на горле и кратковременн...', 'offset': 51, 'errorLength': 9, 'category': 'TYPOS', 'ruleIssueType': 'misspelling', 'sentence': 'Эротическое удушение — сексуальное возбуждение при пережатии сонной артерии на горле и кратковременной потери сознания.'}),\n",
              " Match({'ruleId': 'MORFOLOGIK_RULE_RU_RU', 'message': 'Возможно найдена орфографическая ошибка.', 'replacements': ['пережатие', 'пережатия', 'пережат ии'], 'offsetInContext': 43, 'context': '... удушение — сексуальное возбуждение при пережатии сонной артерии на горле и кратковременн...', 'offset': 51, 'errorLength': 9, 'category': 'TYPOS', 'ruleIssueType': 'misspelling', 'sentence': 'Эротическое удушение — сексуальное возбуждение при пережатии сонной артерии на горле и кратковременной потери сознания.'}),\n",
              " Match({'ruleId': 'chto_li', 'message': 'Лишний союз «что»: «,»', 'replacements': [','], 'offsetInContext': 34, 'context': 'Это выразилось, в частности, в том, что чуть ли не для каждой национальности пр...', 'offset': 34, 'errorLength': 5, 'category': 'STYLE', 'ruleIssueType': 'uncategorized', 'sentence': 'Это выразилось, в частности, в том, что чуть ли не для каждой национальности правительство было вынуждено вводить особый экономический, налоговый и административный режим, Так, немецкие колонисты были совсем освобождены от уплаты налогов государству и от иных повинностей; для евреев была введена черта оседлости; с украинского и белорусского населения на территории бывшей Речи Посполитой подушный налог сначала совсем не взимался, а затем взимался в половинном размере.'}),\n",
              " Match({'ruleId': 'MORFOLOGIK_RULE_RU_RU', 'message': 'Возможно найдена орфографическая ошибка.', 'replacements': ['эритромицина', 'эритромицину'], 'offsetInContext': 14, 'context': 'Эффективность азитромицина при лечении инфекционных заболеваний ды...', 'offset': 14, 'errorLength': 12, 'category': 'TYPOS', 'ruleIssueType': 'misspelling', 'sentence': 'Эффективность азитромицина при лечении инфекционных заболеваний дыхательных путей взрослых и детей выше многих других антибиотиков.'}),\n",
              " Match({'ruleId': 'MORFOLOGIK_RULE_RU_RU', 'message': 'Возможно найдена орфографическая ошибка.', 'replacements': ['эритромицина', 'эритромицину'], 'offsetInContext': 14, 'context': 'Эффективность азитромицина при лечении инфекционных заболеваний ды...', 'offset': 14, 'errorLength': 12, 'category': 'TYPOS', 'ruleIssueType': 'misspelling', 'sentence': 'Эффективность азитромицина при лечении инфекционных заболеваний дыхательных путей взрослых и детей выше многих других антибиотиков.'}),\n",
              " Match({'ruleId': 'MORFOLOGIK_RULE_RU_RU', 'message': 'Возможно найдена орфографическая ошибка.', 'replacements': ['эритромицина', 'эритромицину'], 'offsetInContext': 14, 'context': 'Эффективность азитромицина при лечении инфекционных заболеваний ды...', 'offset': 14, 'errorLength': 12, 'category': 'TYPOS', 'ruleIssueType': 'misspelling', 'sentence': 'Эффективность азитромицина при лечении инфекционных заболеваний дыхательных путей взрослых и детей выше многих других антибиотиков.'}),\n",
              " Match({'ruleId': 'MORFOLOGIK_RULE_RU_RU', 'message': 'Возможно найдена орфографическая ошибка.', 'replacements': ['эритромицина', 'эритромицину'], 'offsetInContext': 14, 'context': 'Эффективность азитромицина при лечении инфекционных заболеваний ды...', 'offset': 14, 'errorLength': 12, 'category': 'TYPOS', 'ruleIssueType': 'misspelling', 'sentence': 'Эффективность азитромицина при лечении инфекционных заболеваний дыхательных путей взрослых и детей выше многих других антибиотиков.'}),\n",
              " Match({'ruleId': 'MORFOLOGIK_RULE_RU_RU', 'message': 'Возможно найдена орфографическая ошибка.', 'replacements': ['эритромицина', 'эритромицину'], 'offsetInContext': 14, 'context': 'Эффективность азитромицина при лечении инфекционных заболеваний ды...', 'offset': 14, 'errorLength': 12, 'category': 'TYPOS', 'ruleIssueType': 'misspelling', 'sentence': 'Эффективность азитромицина при лечении инфекционных заболеваний дыхательных путей взрослых и детей выше многих других антибиотиков.'}),\n",
              " Match({'ruleId': 'MORFOLOGIK_RULE_RU_RU', 'message': 'Возможно найдена орфографическая ошибка.', 'replacements': ['Лусакский', 'Пудожский', 'Рудавский', 'Суданский', 'Чудовский'], 'offsetInContext': 43, 'context': '...го-Восточное побережье — Феодосийский и Судакский регионы.Крымские горы и лесные угодья н...', 'offset': 41, 'errorLength': 9, 'category': 'TYPOS', 'ruleIssueType': 'misspelling', 'sentence': 'Юго-Восточное побережье — Феодосийский и Судакский регионы.'}),\n",
              " Match({'ruleId': 'SENTENCE_WHITESPACE', 'message': 'Добавьте пробел между предложениями', 'replacements': [' Крымские'], 'offsetInContext': 43, 'context': '...ежье — Феодосийский и Судакский регионы.Крымские горы и лесные угодья находятся под охра...', 'offset': 59, 'errorLength': 8, 'category': 'TYPOGRAPHY', 'ruleIssueType': 'whitespace', 'sentence': 'Крымские горы и лесные угодья находятся под охраной государства.'}),\n",
              " Match({'ruleId': 'MORFOLOGIK_RULE_RU_RU', 'message': 'Возможно найдена орфографическая ошибка.', 'replacements': ['Лусакский', 'Пудожский', 'Рудавский', 'Суданский', 'Чудовский'], 'offsetInContext': 43, 'context': '...го-Восточное побережье — Феодосийский и Судакский регионы.Крымские горы и лесные угодья н...', 'offset': 41, 'errorLength': 9, 'category': 'TYPOS', 'ruleIssueType': 'misspelling', 'sentence': 'Юго-Восточное побережье — Феодосийский и Судакский регионы.'}),\n",
              " Match({'ruleId': 'SENTENCE_WHITESPACE', 'message': 'Добавьте пробел между предложениями', 'replacements': [' Крымские'], 'offsetInContext': 43, 'context': '...ежье — Феодосийский и Судакский регионы.Крымские горы и лесные угодья находятся под охра...', 'offset': 59, 'errorLength': 8, 'category': 'TYPOGRAPHY', 'ruleIssueType': 'whitespace', 'sentence': 'Крымские горы и лесные угодья находятся под охраной государства.'}),\n",
              " Match({'ruleId': 'MORFOLOGIK_RULE_RU_RU', 'message': 'Возможно найдена орфографическая ошибка.', 'replacements': ['Лусакский', 'Пудожский', 'Рудавский', 'Суданский', 'Чудовский'], 'offsetInContext': 43, 'context': '...го-Восточное побережье — Феодосийский и Судакский регионы.Крымские горы и лесные угодья н...', 'offset': 41, 'errorLength': 9, 'category': 'TYPOS', 'ruleIssueType': 'misspelling', 'sentence': 'Юго-Восточное побережье — Феодосийский и Судакский регионы.'}),\n",
              " Match({'ruleId': 'SENTENCE_WHITESPACE', 'message': 'Добавьте пробел между предложениями', 'replacements': [' Крымские'], 'offsetInContext': 43, 'context': '...ежье — Феодосийский и Судакский регионы.Крымские горы и лесные угодья находятся под охра...', 'offset': 59, 'errorLength': 8, 'category': 'TYPOGRAPHY', 'ruleIssueType': 'whitespace', 'sentence': 'Крымские горы и лесные угодья находятся под охраной государства.'}),\n",
              " Match({'ruleId': 'MORFOLOGIK_RULE_RU_RU', 'message': 'Возможно найдена орфографическая ошибка.', 'replacements': ['Лусакский', 'Пудожский', 'Рудавский', 'Суданский', 'Чудовский'], 'offsetInContext': 43, 'context': '...го-Восточное побережье — Феодосийский и Судакский регионы.Крымские горы и лесные угодья н...', 'offset': 41, 'errorLength': 9, 'category': 'TYPOS', 'ruleIssueType': 'misspelling', 'sentence': 'Юго-Восточное побережье — Феодосийский и Судакский регионы.'}),\n",
              " Match({'ruleId': 'SENTENCE_WHITESPACE', 'message': 'Добавьте пробел между предложениями', 'replacements': [' Крымские'], 'offsetInContext': 43, 'context': '...ежье — Феодосийский и Судакский регионы.Крымские горы и лесные угодья находятся под охра...', 'offset': 59, 'errorLength': 8, 'category': 'TYPOGRAPHY', 'ruleIssueType': 'whitespace', 'sentence': 'Крымские горы и лесные угодья находятся под охраной государства.'}),\n",
              " Match({'ruleId': 'MORFOLOGIK_RULE_RU_RU', 'message': 'Возможно найдена орфографическая ошибка.', 'replacements': ['Лусакский', 'Пудожский', 'Рудавский', 'Суданский', 'Чудовский'], 'offsetInContext': 43, 'context': '...го-Восточное побережье — Феодосийский и Судакский регионы.Крымские горы и лесные угодья н...', 'offset': 41, 'errorLength': 9, 'category': 'TYPOS', 'ruleIssueType': 'misspelling', 'sentence': 'Юго-Восточное побережье — Феодосийский и Судакский регионы.'}),\n",
              " Match({'ruleId': 'SENTENCE_WHITESPACE', 'message': 'Добавьте пробел между предложениями', 'replacements': [' Крымские'], 'offsetInContext': 43, 'context': '...ежье — Феодосийский и Судакский регионы.Крымские горы и лесные угодья находятся под охра...', 'offset': 59, 'errorLength': 8, 'category': 'TYPOGRAPHY', 'ruleIssueType': 'whitespace', 'sentence': 'Крымские горы и лесные угодья находятся под охраной государства.'}),\n",
              " Match({'ruleId': 'MORFOLOGIK_RULE_RU_RU', 'message': 'Возможно найдена орфографическая ошибка.', 'replacements': ['Яз гулям'], 'offsetInContext': 43, 'context': '...транённый главным образом в долине реки Язгулям (западный Памир).', 'offset': 125, 'errorLength': 7, 'category': 'TYPOS', 'ruleIssueType': 'misspelling', 'sentence': 'Язгуля́мский язы́к (самоназвание — Yuzdami zevég) — один из памирских языков, распространённый главным образом в долине реки Язгулям (западный Памир).'}),\n",
              " Match({'ruleId': 'MORFOLOGIK_RULE_RU_RU', 'message': 'Возможно найдена орфографическая ошибка.', 'replacements': ['Яз гулям'], 'offsetInContext': 43, 'context': '...транённый главным образом в долине реки Язгулям (западный Памир).', 'offset': 125, 'errorLength': 7, 'category': 'TYPOS', 'ruleIssueType': 'misspelling', 'sentence': 'Язгуля́мский язы́к (самоназвание — Yuzdami zevég) — один из памирских языков, распространённый главным образом в долине реки Язгулям (западный Памир).'}),\n",
              " Match({'ruleId': 'MORFOLOGIK_RULE_RU_RU', 'message': 'Возможно найдена орфографическая ошибка.', 'replacements': ['Барбуса', 'Барбусу', 'Котбуса', 'Котбусу', 'Тубуса'], 'offsetInContext': 29, 'context': 'Японский космический аппарат Хаябуса успешно доставил на Землю капсулу, возм...', 'offset': 29, 'errorLength': 7, 'category': 'TYPOS', 'ruleIssueType': 'misspelling', 'sentence': 'Японский космический аппарат Хаябуса успешно доставил на Землю капсулу, возможно, с пробой грунта астероида Итокава.'}),\n",
              " Match({'ruleId': 'MORFOLOGIK_RULE_RU_RU', 'message': 'Возможно найдена орфографическая ошибка.', 'replacements': ['Стокова', 'Стоково'], 'offsetInContext': 43, 'context': '...лу, возможно, с пробой грунта астероида Итокава.', 'offset': 108, 'errorLength': 7, 'category': 'TYPOS', 'ruleIssueType': 'misspelling', 'sentence': 'Японский космический аппарат Хаябуса успешно доставил на Землю капсулу, возможно, с пробой грунта астероида Итокава.'})]"
            ]
          },
          "metadata": {
            "tags": []
          },
          "execution_count": 28
        }
      ]
    },
    {
      "cell_type": "code",
      "metadata": {
        "id": "u5kUQ8YSjZGp"
      },
      "source": [
        "logic_sent = [i for i in matches_src if i.category=='LOGIC']"
      ],
      "execution_count": null,
      "outputs": []
    },
    {
      "cell_type": "code",
      "metadata": {
        "colab": {
          "base_uri": "https://localhost:8080/"
        },
        "id": "s2_gA7KzmV--",
        "outputId": "5cd9bee8-7960-4e34-d414-cf93aa9ec7ed"
      },
      "source": [
        "logic_sent[0]"
      ],
      "execution_count": null,
      "outputs": [
        {
          "output_type": "execute_result",
          "data": {
            "text/plain": [
              "Match({'ruleId': 'ROST', 'message': 'Рост бывает у одушевлённых слов (человек большого роста), некого числа характеристик (рост показателей, рост качества, количества) и в некоторых устойчивых выражениях (рост экономики, преступности, безработицы).', 'replacements': [], 'offsetInContext': 29, 'context': 'Новым балансом, сдерживающим рост населения мира, будет низкая рождаемость, сохраня...', 'offset': 29, 'errorLength': 14, 'category': 'LOGIC', 'ruleIssueType': 'uncategorized', 'sentence': 'Новым балансом, сдерживающим рост населения мира, будет низкая рождаемость, сохраняющая небольшие изменения в размере населения Земли.'})"
            ]
          },
          "metadata": {
            "tags": []
          },
          "execution_count": 21
        }
      ]
    },
    {
      "cell_type": "code",
      "metadata": {
        "id": "H49gMWp6nsiC"
      },
      "source": [
        "for i in common.keys():\n",
        "  common[i]/=test_data.shape[0]"
      ],
      "execution_count": null,
      "outputs": []
    },
    {
      "cell_type": "code",
      "metadata": {
        "colab": {
          "base_uri": "https://localhost:8080/"
        },
        "id": "NOkVKzbtoK_T",
        "outputId": "8cf9d369-9b05-4ddf-fa36-8075131b78a1"
      },
      "source": [
        "common"
      ],
      "execution_count": null,
      "outputs": [
        {
          "output_type": "execute_result",
          "data": {
            "text/plain": [
              "{'CASING': 0.04521432765707575,\n",
              " 'EXTEND': 0.0002935995302407516,\n",
              " 'GRAMMAR': 0.038755137991779216,\n",
              " 'LOGIC': 0.012331180270111567,\n",
              " 'MISC': 0.008220786846741044,\n",
              " 'PUNCTUATION': 0.041103934233705224,\n",
              " 'STYLE': 0.006165590135055784,\n",
              " 'TYPOGRAPHY': 0.22489724016441573,\n",
              " 'TYPOS': 0.4568408690546095}"
            ]
          },
          "metadata": {
            "tags": []
          },
          "execution_count": 27
        }
      ]
    }
  ]
}