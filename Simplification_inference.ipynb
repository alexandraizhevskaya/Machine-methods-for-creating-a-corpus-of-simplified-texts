{
  "nbformat": 4,
  "nbformat_minor": 0,
  "metadata": {
    "colab": {
      "name": "Simplification_inference.ipynb",
      "provenance": [],
      "collapsed_sections": [],
      "machine_shape": "hm",
      "mount_file_id": "1Qm1zO3nii1ZZT0MZGnX6S3jWdyO2x7uE",
      "authorship_tag": "ABX9TyP0iq878caUumA9nFWnhLKC"
    },
    "kernelspec": {
      "name": "python3",
      "display_name": "Python 3"
    },
    "language_info": {
      "name": "python"
    },
    "accelerator": "GPU",
    "widgets": {
      "application/vnd.jupyter.widget-state+json": {
        "6b88515be17c4370b38e003d035372c8": {
          "model_module": "@jupyter-widgets/controls",
          "model_name": "HBoxModel",
          "state": {
            "_view_name": "HBoxView",
            "_dom_classes": [],
            "_model_name": "HBoxModel",
            "_view_module": "@jupyter-widgets/controls",
            "_model_module_version": "1.5.0",
            "_view_count": null,
            "_view_module_version": "1.5.0",
            "box_style": "",
            "layout": "IPY_MODEL_ad7b9ed0976b4fe1a949465ee52dd978",
            "_model_module": "@jupyter-widgets/controls",
            "children": [
              "IPY_MODEL_d87072addc6e405ba4afd38206b64fa6",
              "IPY_MODEL_334e439e88534227b2c76db93faaa006"
            ]
          }
        },
        "ad7b9ed0976b4fe1a949465ee52dd978": {
          "model_module": "@jupyter-widgets/base",
          "model_name": "LayoutModel",
          "state": {
            "_view_name": "LayoutView",
            "grid_template_rows": null,
            "right": null,
            "justify_content": null,
            "_view_module": "@jupyter-widgets/base",
            "overflow": null,
            "_model_module_version": "1.2.0",
            "_view_count": null,
            "flex_flow": null,
            "width": null,
            "min_width": null,
            "border": null,
            "align_items": null,
            "bottom": null,
            "_model_module": "@jupyter-widgets/base",
            "top": null,
            "grid_column": null,
            "overflow_y": null,
            "overflow_x": null,
            "grid_auto_flow": null,
            "grid_area": null,
            "grid_template_columns": null,
            "flex": null,
            "_model_name": "LayoutModel",
            "justify_items": null,
            "grid_row": null,
            "max_height": null,
            "align_content": null,
            "visibility": null,
            "align_self": null,
            "height": null,
            "min_height": null,
            "padding": null,
            "grid_auto_rows": null,
            "grid_gap": null,
            "max_width": null,
            "order": null,
            "_view_module_version": "1.2.0",
            "grid_template_areas": null,
            "object_position": null,
            "object_fit": null,
            "grid_auto_columns": null,
            "margin": null,
            "display": null,
            "left": null
          }
        },
        "d87072addc6e405ba4afd38206b64fa6": {
          "model_module": "@jupyter-widgets/controls",
          "model_name": "FloatProgressModel",
          "state": {
            "_view_name": "ProgressView",
            "style": "IPY_MODEL_9481d5b461684e649be857cf31e9c224",
            "_dom_classes": [],
            "description": "",
            "_model_name": "FloatProgressModel",
            "bar_style": "success",
            "max": 1,
            "_view_module": "@jupyter-widgets/controls",
            "_model_module_version": "1.5.0",
            "value": 1,
            "_view_count": null,
            "_view_module_version": "1.5.0",
            "orientation": "horizontal",
            "min": 0,
            "description_tooltip": null,
            "_model_module": "@jupyter-widgets/controls",
            "layout": "IPY_MODEL_440c89ada709494ca048adcc8a12fd39"
          }
        },
        "334e439e88534227b2c76db93faaa006": {
          "model_module": "@jupyter-widgets/controls",
          "model_name": "HTMLModel",
          "state": {
            "_view_name": "HTMLView",
            "style": "IPY_MODEL_9b38606752be44c5999aa38eeb825d01",
            "_dom_classes": [],
            "description": "",
            "_model_name": "HTMLModel",
            "placeholder": "​",
            "_view_module": "@jupyter-widgets/controls",
            "_model_module_version": "1.5.0",
            "value": " 54/? [02:30&lt;00:00,  2.78s/it]",
            "_view_count": null,
            "_view_module_version": "1.5.0",
            "description_tooltip": null,
            "_model_module": "@jupyter-widgets/controls",
            "layout": "IPY_MODEL_d052b8dad03b436ab03ece97dabe4fac"
          }
        },
        "9481d5b461684e649be857cf31e9c224": {
          "model_module": "@jupyter-widgets/controls",
          "model_name": "ProgressStyleModel",
          "state": {
            "_view_name": "StyleView",
            "_model_name": "ProgressStyleModel",
            "description_width": "initial",
            "_view_module": "@jupyter-widgets/base",
            "_model_module_version": "1.5.0",
            "_view_count": null,
            "_view_module_version": "1.2.0",
            "bar_color": null,
            "_model_module": "@jupyter-widgets/controls"
          }
        },
        "440c89ada709494ca048adcc8a12fd39": {
          "model_module": "@jupyter-widgets/base",
          "model_name": "LayoutModel",
          "state": {
            "_view_name": "LayoutView",
            "grid_template_rows": null,
            "right": null,
            "justify_content": null,
            "_view_module": "@jupyter-widgets/base",
            "overflow": null,
            "_model_module_version": "1.2.0",
            "_view_count": null,
            "flex_flow": null,
            "width": null,
            "min_width": null,
            "border": null,
            "align_items": null,
            "bottom": null,
            "_model_module": "@jupyter-widgets/base",
            "top": null,
            "grid_column": null,
            "overflow_y": null,
            "overflow_x": null,
            "grid_auto_flow": null,
            "grid_area": null,
            "grid_template_columns": null,
            "flex": null,
            "_model_name": "LayoutModel",
            "justify_items": null,
            "grid_row": null,
            "max_height": null,
            "align_content": null,
            "visibility": null,
            "align_self": null,
            "height": null,
            "min_height": null,
            "padding": null,
            "grid_auto_rows": null,
            "grid_gap": null,
            "max_width": null,
            "order": null,
            "_view_module_version": "1.2.0",
            "grid_template_areas": null,
            "object_position": null,
            "object_fit": null,
            "grid_auto_columns": null,
            "margin": null,
            "display": null,
            "left": null
          }
        },
        "9b38606752be44c5999aa38eeb825d01": {
          "model_module": "@jupyter-widgets/controls",
          "model_name": "DescriptionStyleModel",
          "state": {
            "_view_name": "StyleView",
            "_model_name": "DescriptionStyleModel",
            "description_width": "",
            "_view_module": "@jupyter-widgets/base",
            "_model_module_version": "1.5.0",
            "_view_count": null,
            "_view_module_version": "1.2.0",
            "_model_module": "@jupyter-widgets/controls"
          }
        },
        "d052b8dad03b436ab03ece97dabe4fac": {
          "model_module": "@jupyter-widgets/base",
          "model_name": "LayoutModel",
          "state": {
            "_view_name": "LayoutView",
            "grid_template_rows": null,
            "right": null,
            "justify_content": null,
            "_view_module": "@jupyter-widgets/base",
            "overflow": null,
            "_model_module_version": "1.2.0",
            "_view_count": null,
            "flex_flow": null,
            "width": null,
            "min_width": null,
            "border": null,
            "align_items": null,
            "bottom": null,
            "_model_module": "@jupyter-widgets/base",
            "top": null,
            "grid_column": null,
            "overflow_y": null,
            "overflow_x": null,
            "grid_auto_flow": null,
            "grid_area": null,
            "grid_template_columns": null,
            "flex": null,
            "_model_name": "LayoutModel",
            "justify_items": null,
            "grid_row": null,
            "max_height": null,
            "align_content": null,
            "visibility": null,
            "align_self": null,
            "height": null,
            "min_height": null,
            "padding": null,
            "grid_auto_rows": null,
            "grid_gap": null,
            "max_width": null,
            "order": null,
            "_view_module_version": "1.2.0",
            "grid_template_areas": null,
            "object_position": null,
            "object_fit": null,
            "grid_auto_columns": null,
            "margin": null,
            "display": null,
            "left": null
          }
        },
        "dec9d1a3e7264c9f9131efd9884c2c9e": {
          "model_module": "@jupyter-widgets/controls",
          "model_name": "HBoxModel",
          "state": {
            "_view_name": "HBoxView",
            "_dom_classes": [],
            "_model_name": "HBoxModel",
            "_view_module": "@jupyter-widgets/controls",
            "_model_module_version": "1.5.0",
            "_view_count": null,
            "_view_module_version": "1.5.0",
            "box_style": "",
            "layout": "IPY_MODEL_38e9b9d8537f49c287f173ec3b9670cf",
            "_model_module": "@jupyter-widgets/controls",
            "children": [
              "IPY_MODEL_ae9123d5ada241f6bff5d733a6b178b3",
              "IPY_MODEL_013c3b68844b49ab9ae7e23793f86f22"
            ]
          }
        },
        "38e9b9d8537f49c287f173ec3b9670cf": {
          "model_module": "@jupyter-widgets/base",
          "model_name": "LayoutModel",
          "state": {
            "_view_name": "LayoutView",
            "grid_template_rows": null,
            "right": null,
            "justify_content": null,
            "_view_module": "@jupyter-widgets/base",
            "overflow": null,
            "_model_module_version": "1.2.0",
            "_view_count": null,
            "flex_flow": null,
            "width": null,
            "min_width": null,
            "border": null,
            "align_items": null,
            "bottom": null,
            "_model_module": "@jupyter-widgets/base",
            "top": null,
            "grid_column": null,
            "overflow_y": null,
            "overflow_x": null,
            "grid_auto_flow": null,
            "grid_area": null,
            "grid_template_columns": null,
            "flex": null,
            "_model_name": "LayoutModel",
            "justify_items": null,
            "grid_row": null,
            "max_height": null,
            "align_content": null,
            "visibility": null,
            "align_self": null,
            "height": null,
            "min_height": null,
            "padding": null,
            "grid_auto_rows": null,
            "grid_gap": null,
            "max_width": null,
            "order": null,
            "_view_module_version": "1.2.0",
            "grid_template_areas": null,
            "object_position": null,
            "object_fit": null,
            "grid_auto_columns": null,
            "margin": null,
            "display": null,
            "left": null
          }
        },
        "ae9123d5ada241f6bff5d733a6b178b3": {
          "model_module": "@jupyter-widgets/controls",
          "model_name": "FloatProgressModel",
          "state": {
            "_view_name": "ProgressView",
            "style": "IPY_MODEL_778f31bfb97c45f28a32827c91780040",
            "_dom_classes": [],
            "description": "",
            "_model_name": "FloatProgressModel",
            "bar_style": "success",
            "max": 1,
            "_view_module": "@jupyter-widgets/controls",
            "_model_module_version": "1.5.0",
            "value": 1,
            "_view_count": null,
            "_view_module_version": "1.5.0",
            "orientation": "horizontal",
            "min": 0,
            "description_tooltip": null,
            "_model_module": "@jupyter-widgets/controls",
            "layout": "IPY_MODEL_4bc8349c248a4bbea675271b321927d1"
          }
        },
        "013c3b68844b49ab9ae7e23793f86f22": {
          "model_module": "@jupyter-widgets/controls",
          "model_name": "HTMLModel",
          "state": {
            "_view_name": "HTMLView",
            "style": "IPY_MODEL_26b09ee459244008a2044adc86c44d84",
            "_dom_classes": [],
            "description": "",
            "_model_name": "HTMLModel",
            "placeholder": "​",
            "_view_module": "@jupyter-widgets/controls",
            "_model_module_version": "1.5.0",
            "value": " 54/? [47:10&lt;00:00, 52.41s/it]",
            "_view_count": null,
            "_view_module_version": "1.5.0",
            "description_tooltip": null,
            "_model_module": "@jupyter-widgets/controls",
            "layout": "IPY_MODEL_16e75c0a2757494a94c2487876eb26c8"
          }
        },
        "778f31bfb97c45f28a32827c91780040": {
          "model_module": "@jupyter-widgets/controls",
          "model_name": "ProgressStyleModel",
          "state": {
            "_view_name": "StyleView",
            "_model_name": "ProgressStyleModel",
            "description_width": "initial",
            "_view_module": "@jupyter-widgets/base",
            "_model_module_version": "1.5.0",
            "_view_count": null,
            "_view_module_version": "1.2.0",
            "bar_color": null,
            "_model_module": "@jupyter-widgets/controls"
          }
        },
        "4bc8349c248a4bbea675271b321927d1": {
          "model_module": "@jupyter-widgets/base",
          "model_name": "LayoutModel",
          "state": {
            "_view_name": "LayoutView",
            "grid_template_rows": null,
            "right": null,
            "justify_content": null,
            "_view_module": "@jupyter-widgets/base",
            "overflow": null,
            "_model_module_version": "1.2.0",
            "_view_count": null,
            "flex_flow": null,
            "width": null,
            "min_width": null,
            "border": null,
            "align_items": null,
            "bottom": null,
            "_model_module": "@jupyter-widgets/base",
            "top": null,
            "grid_column": null,
            "overflow_y": null,
            "overflow_x": null,
            "grid_auto_flow": null,
            "grid_area": null,
            "grid_template_columns": null,
            "flex": null,
            "_model_name": "LayoutModel",
            "justify_items": null,
            "grid_row": null,
            "max_height": null,
            "align_content": null,
            "visibility": null,
            "align_self": null,
            "height": null,
            "min_height": null,
            "padding": null,
            "grid_auto_rows": null,
            "grid_gap": null,
            "max_width": null,
            "order": null,
            "_view_module_version": "1.2.0",
            "grid_template_areas": null,
            "object_position": null,
            "object_fit": null,
            "grid_auto_columns": null,
            "margin": null,
            "display": null,
            "left": null
          }
        },
        "26b09ee459244008a2044adc86c44d84": {
          "model_module": "@jupyter-widgets/controls",
          "model_name": "DescriptionStyleModel",
          "state": {
            "_view_name": "StyleView",
            "_model_name": "DescriptionStyleModel",
            "description_width": "",
            "_view_module": "@jupyter-widgets/base",
            "_model_module_version": "1.5.0",
            "_view_count": null,
            "_view_module_version": "1.2.0",
            "_model_module": "@jupyter-widgets/controls"
          }
        },
        "16e75c0a2757494a94c2487876eb26c8": {
          "model_module": "@jupyter-widgets/base",
          "model_name": "LayoutModel",
          "state": {
            "_view_name": "LayoutView",
            "grid_template_rows": null,
            "right": null,
            "justify_content": null,
            "_view_module": "@jupyter-widgets/base",
            "overflow": null,
            "_model_module_version": "1.2.0",
            "_view_count": null,
            "flex_flow": null,
            "width": null,
            "min_width": null,
            "border": null,
            "align_items": null,
            "bottom": null,
            "_model_module": "@jupyter-widgets/base",
            "top": null,
            "grid_column": null,
            "overflow_y": null,
            "overflow_x": null,
            "grid_auto_flow": null,
            "grid_area": null,
            "grid_template_columns": null,
            "flex": null,
            "_model_name": "LayoutModel",
            "justify_items": null,
            "grid_row": null,
            "max_height": null,
            "align_content": null,
            "visibility": null,
            "align_self": null,
            "height": null,
            "min_height": null,
            "padding": null,
            "grid_auto_rows": null,
            "grid_gap": null,
            "max_width": null,
            "order": null,
            "_view_module_version": "1.2.0",
            "grid_template_areas": null,
            "object_position": null,
            "object_fit": null,
            "grid_auto_columns": null,
            "margin": null,
            "display": null,
            "left": null
          }
        },
        "1424d943ef0046728294d4cbba4e9ee7": {
          "model_module": "@jupyter-widgets/controls",
          "model_name": "HBoxModel",
          "state": {
            "_view_name": "HBoxView",
            "_dom_classes": [],
            "_model_name": "HBoxModel",
            "_view_module": "@jupyter-widgets/controls",
            "_model_module_version": "1.5.0",
            "_view_count": null,
            "_view_module_version": "1.5.0",
            "box_style": "",
            "layout": "IPY_MODEL_8c304ec30dbc4ce79bc7c584625847a9",
            "_model_module": "@jupyter-widgets/controls",
            "children": [
              "IPY_MODEL_322728cf6cf545a6a53bacee5b20b211",
              "IPY_MODEL_fb30a0c343ae4884b155ecd852c5a15a"
            ]
          }
        },
        "8c304ec30dbc4ce79bc7c584625847a9": {
          "model_module": "@jupyter-widgets/base",
          "model_name": "LayoutModel",
          "state": {
            "_view_name": "LayoutView",
            "grid_template_rows": null,
            "right": null,
            "justify_content": null,
            "_view_module": "@jupyter-widgets/base",
            "overflow": null,
            "_model_module_version": "1.2.0",
            "_view_count": null,
            "flex_flow": null,
            "width": null,
            "min_width": null,
            "border": null,
            "align_items": null,
            "bottom": null,
            "_model_module": "@jupyter-widgets/base",
            "top": null,
            "grid_column": null,
            "overflow_y": null,
            "overflow_x": null,
            "grid_auto_flow": null,
            "grid_area": null,
            "grid_template_columns": null,
            "flex": null,
            "_model_name": "LayoutModel",
            "justify_items": null,
            "grid_row": null,
            "max_height": null,
            "align_content": null,
            "visibility": null,
            "align_self": null,
            "height": null,
            "min_height": null,
            "padding": null,
            "grid_auto_rows": null,
            "grid_gap": null,
            "max_width": null,
            "order": null,
            "_view_module_version": "1.2.0",
            "grid_template_areas": null,
            "object_position": null,
            "object_fit": null,
            "grid_auto_columns": null,
            "margin": null,
            "display": null,
            "left": null
          }
        },
        "322728cf6cf545a6a53bacee5b20b211": {
          "model_module": "@jupyter-widgets/controls",
          "model_name": "FloatProgressModel",
          "state": {
            "_view_name": "ProgressView",
            "style": "IPY_MODEL_5bf11681f3e441f6a2b3fa0115879cad",
            "_dom_classes": [],
            "description": "Downloading: 100%",
            "_model_name": "FloatProgressModel",
            "bar_style": "success",
            "max": 481,
            "_view_module": "@jupyter-widgets/controls",
            "_model_module_version": "1.5.0",
            "value": 481,
            "_view_count": null,
            "_view_module_version": "1.5.0",
            "orientation": "horizontal",
            "min": 0,
            "description_tooltip": null,
            "_model_module": "@jupyter-widgets/controls",
            "layout": "IPY_MODEL_b0fb6d9a04a94825a0dc922d3129c849"
          }
        },
        "fb30a0c343ae4884b155ecd852c5a15a": {
          "model_module": "@jupyter-widgets/controls",
          "model_name": "HTMLModel",
          "state": {
            "_view_name": "HTMLView",
            "style": "IPY_MODEL_56696a436ba24cd3a84bb554a6099a46",
            "_dom_classes": [],
            "description": "",
            "_model_name": "HTMLModel",
            "placeholder": "​",
            "_view_module": "@jupyter-widgets/controls",
            "_model_module_version": "1.5.0",
            "value": " 481/481 [00:00&lt;00:00, 14.4kB/s]",
            "_view_count": null,
            "_view_module_version": "1.5.0",
            "description_tooltip": null,
            "_model_module": "@jupyter-widgets/controls",
            "layout": "IPY_MODEL_9327eb7ec2e244708b0f60c4d55ed594"
          }
        },
        "5bf11681f3e441f6a2b3fa0115879cad": {
          "model_module": "@jupyter-widgets/controls",
          "model_name": "ProgressStyleModel",
          "state": {
            "_view_name": "StyleView",
            "_model_name": "ProgressStyleModel",
            "description_width": "initial",
            "_view_module": "@jupyter-widgets/base",
            "_model_module_version": "1.5.0",
            "_view_count": null,
            "_view_module_version": "1.2.0",
            "bar_color": null,
            "_model_module": "@jupyter-widgets/controls"
          }
        },
        "b0fb6d9a04a94825a0dc922d3129c849": {
          "model_module": "@jupyter-widgets/base",
          "model_name": "LayoutModel",
          "state": {
            "_view_name": "LayoutView",
            "grid_template_rows": null,
            "right": null,
            "justify_content": null,
            "_view_module": "@jupyter-widgets/base",
            "overflow": null,
            "_model_module_version": "1.2.0",
            "_view_count": null,
            "flex_flow": null,
            "width": null,
            "min_width": null,
            "border": null,
            "align_items": null,
            "bottom": null,
            "_model_module": "@jupyter-widgets/base",
            "top": null,
            "grid_column": null,
            "overflow_y": null,
            "overflow_x": null,
            "grid_auto_flow": null,
            "grid_area": null,
            "grid_template_columns": null,
            "flex": null,
            "_model_name": "LayoutModel",
            "justify_items": null,
            "grid_row": null,
            "max_height": null,
            "align_content": null,
            "visibility": null,
            "align_self": null,
            "height": null,
            "min_height": null,
            "padding": null,
            "grid_auto_rows": null,
            "grid_gap": null,
            "max_width": null,
            "order": null,
            "_view_module_version": "1.2.0",
            "grid_template_areas": null,
            "object_position": null,
            "object_fit": null,
            "grid_auto_columns": null,
            "margin": null,
            "display": null,
            "left": null
          }
        },
        "56696a436ba24cd3a84bb554a6099a46": {
          "model_module": "@jupyter-widgets/controls",
          "model_name": "DescriptionStyleModel",
          "state": {
            "_view_name": "StyleView",
            "_model_name": "DescriptionStyleModel",
            "description_width": "",
            "_view_module": "@jupyter-widgets/base",
            "_model_module_version": "1.5.0",
            "_view_count": null,
            "_view_module_version": "1.2.0",
            "_model_module": "@jupyter-widgets/controls"
          }
        },
        "9327eb7ec2e244708b0f60c4d55ed594": {
          "model_module": "@jupyter-widgets/base",
          "model_name": "LayoutModel",
          "state": {
            "_view_name": "LayoutView",
            "grid_template_rows": null,
            "right": null,
            "justify_content": null,
            "_view_module": "@jupyter-widgets/base",
            "overflow": null,
            "_model_module_version": "1.2.0",
            "_view_count": null,
            "flex_flow": null,
            "width": null,
            "min_width": null,
            "border": null,
            "align_items": null,
            "bottom": null,
            "_model_module": "@jupyter-widgets/base",
            "top": null,
            "grid_column": null,
            "overflow_y": null,
            "overflow_x": null,
            "grid_auto_flow": null,
            "grid_area": null,
            "grid_template_columns": null,
            "flex": null,
            "_model_name": "LayoutModel",
            "justify_items": null,
            "grid_row": null,
            "max_height": null,
            "align_content": null,
            "visibility": null,
            "align_self": null,
            "height": null,
            "min_height": null,
            "padding": null,
            "grid_auto_rows": null,
            "grid_gap": null,
            "max_width": null,
            "order": null,
            "_view_module_version": "1.2.0",
            "grid_template_areas": null,
            "object_position": null,
            "object_fit": null,
            "grid_auto_columns": null,
            "margin": null,
            "display": null,
            "left": null
          }
        },
        "fc72ee5f58a24958a91e69a4af47775b": {
          "model_module": "@jupyter-widgets/controls",
          "model_name": "HBoxModel",
          "state": {
            "_view_name": "HBoxView",
            "_dom_classes": [],
            "_model_name": "HBoxModel",
            "_view_module": "@jupyter-widgets/controls",
            "_model_module_version": "1.5.0",
            "_view_count": null,
            "_view_module_version": "1.5.0",
            "box_style": "",
            "layout": "IPY_MODEL_1b93099138d54f02af48bcfbf76ab157",
            "_model_module": "@jupyter-widgets/controls",
            "children": [
              "IPY_MODEL_724a31425e2b4d25be6f93601399b3b6",
              "IPY_MODEL_08176c2992e446c1bb70c8d8a5a32799"
            ]
          }
        },
        "1b93099138d54f02af48bcfbf76ab157": {
          "model_module": "@jupyter-widgets/base",
          "model_name": "LayoutModel",
          "state": {
            "_view_name": "LayoutView",
            "grid_template_rows": null,
            "right": null,
            "justify_content": null,
            "_view_module": "@jupyter-widgets/base",
            "overflow": null,
            "_model_module_version": "1.2.0",
            "_view_count": null,
            "flex_flow": null,
            "width": null,
            "min_width": null,
            "border": null,
            "align_items": null,
            "bottom": null,
            "_model_module": "@jupyter-widgets/base",
            "top": null,
            "grid_column": null,
            "overflow_y": null,
            "overflow_x": null,
            "grid_auto_flow": null,
            "grid_area": null,
            "grid_template_columns": null,
            "flex": null,
            "_model_name": "LayoutModel",
            "justify_items": null,
            "grid_row": null,
            "max_height": null,
            "align_content": null,
            "visibility": null,
            "align_self": null,
            "height": null,
            "min_height": null,
            "padding": null,
            "grid_auto_rows": null,
            "grid_gap": null,
            "max_width": null,
            "order": null,
            "_view_module_version": "1.2.0",
            "grid_template_areas": null,
            "object_position": null,
            "object_fit": null,
            "grid_auto_columns": null,
            "margin": null,
            "display": null,
            "left": null
          }
        },
        "724a31425e2b4d25be6f93601399b3b6": {
          "model_module": "@jupyter-widgets/controls",
          "model_name": "FloatProgressModel",
          "state": {
            "_view_name": "ProgressView",
            "style": "IPY_MODEL_1350a73c05bc4c328025f7a1c9bce317",
            "_dom_classes": [],
            "description": "Downloading: 100%",
            "_model_name": "FloatProgressModel",
            "bar_style": "success",
            "max": 898823,
            "_view_module": "@jupyter-widgets/controls",
            "_model_module_version": "1.5.0",
            "value": 898823,
            "_view_count": null,
            "_view_module_version": "1.5.0",
            "orientation": "horizontal",
            "min": 0,
            "description_tooltip": null,
            "_model_module": "@jupyter-widgets/controls",
            "layout": "IPY_MODEL_33272e3479ea44da80d96c7848268da5"
          }
        },
        "08176c2992e446c1bb70c8d8a5a32799": {
          "model_module": "@jupyter-widgets/controls",
          "model_name": "HTMLModel",
          "state": {
            "_view_name": "HTMLView",
            "style": "IPY_MODEL_707b0e0d65944b8399c7c24a8b670ed7",
            "_dom_classes": [],
            "description": "",
            "_model_name": "HTMLModel",
            "placeholder": "​",
            "_view_module": "@jupyter-widgets/controls",
            "_model_module_version": "1.5.0",
            "value": " 899k/899k [00:02&lt;00:00, 410kB/s]",
            "_view_count": null,
            "_view_module_version": "1.5.0",
            "description_tooltip": null,
            "_model_module": "@jupyter-widgets/controls",
            "layout": "IPY_MODEL_aff75d4d2b5f4a3c85d49414d7c97ba5"
          }
        },
        "1350a73c05bc4c328025f7a1c9bce317": {
          "model_module": "@jupyter-widgets/controls",
          "model_name": "ProgressStyleModel",
          "state": {
            "_view_name": "StyleView",
            "_model_name": "ProgressStyleModel",
            "description_width": "initial",
            "_view_module": "@jupyter-widgets/base",
            "_model_module_version": "1.5.0",
            "_view_count": null,
            "_view_module_version": "1.2.0",
            "bar_color": null,
            "_model_module": "@jupyter-widgets/controls"
          }
        },
        "33272e3479ea44da80d96c7848268da5": {
          "model_module": "@jupyter-widgets/base",
          "model_name": "LayoutModel",
          "state": {
            "_view_name": "LayoutView",
            "grid_template_rows": null,
            "right": null,
            "justify_content": null,
            "_view_module": "@jupyter-widgets/base",
            "overflow": null,
            "_model_module_version": "1.2.0",
            "_view_count": null,
            "flex_flow": null,
            "width": null,
            "min_width": null,
            "border": null,
            "align_items": null,
            "bottom": null,
            "_model_module": "@jupyter-widgets/base",
            "top": null,
            "grid_column": null,
            "overflow_y": null,
            "overflow_x": null,
            "grid_auto_flow": null,
            "grid_area": null,
            "grid_template_columns": null,
            "flex": null,
            "_model_name": "LayoutModel",
            "justify_items": null,
            "grid_row": null,
            "max_height": null,
            "align_content": null,
            "visibility": null,
            "align_self": null,
            "height": null,
            "min_height": null,
            "padding": null,
            "grid_auto_rows": null,
            "grid_gap": null,
            "max_width": null,
            "order": null,
            "_view_module_version": "1.2.0",
            "grid_template_areas": null,
            "object_position": null,
            "object_fit": null,
            "grid_auto_columns": null,
            "margin": null,
            "display": null,
            "left": null
          }
        },
        "707b0e0d65944b8399c7c24a8b670ed7": {
          "model_module": "@jupyter-widgets/controls",
          "model_name": "DescriptionStyleModel",
          "state": {
            "_view_name": "StyleView",
            "_model_name": "DescriptionStyleModel",
            "description_width": "",
            "_view_module": "@jupyter-widgets/base",
            "_model_module_version": "1.5.0",
            "_view_count": null,
            "_view_module_version": "1.2.0",
            "_model_module": "@jupyter-widgets/controls"
          }
        },
        "aff75d4d2b5f4a3c85d49414d7c97ba5": {
          "model_module": "@jupyter-widgets/base",
          "model_name": "LayoutModel",
          "state": {
            "_view_name": "LayoutView",
            "grid_template_rows": null,
            "right": null,
            "justify_content": null,
            "_view_module": "@jupyter-widgets/base",
            "overflow": null,
            "_model_module_version": "1.2.0",
            "_view_count": null,
            "flex_flow": null,
            "width": null,
            "min_width": null,
            "border": null,
            "align_items": null,
            "bottom": null,
            "_model_module": "@jupyter-widgets/base",
            "top": null,
            "grid_column": null,
            "overflow_y": null,
            "overflow_x": null,
            "grid_auto_flow": null,
            "grid_area": null,
            "grid_template_columns": null,
            "flex": null,
            "_model_name": "LayoutModel",
            "justify_items": null,
            "grid_row": null,
            "max_height": null,
            "align_content": null,
            "visibility": null,
            "align_self": null,
            "height": null,
            "min_height": null,
            "padding": null,
            "grid_auto_rows": null,
            "grid_gap": null,
            "max_width": null,
            "order": null,
            "_view_module_version": "1.2.0",
            "grid_template_areas": null,
            "object_position": null,
            "object_fit": null,
            "grid_auto_columns": null,
            "margin": null,
            "display": null,
            "left": null
          }
        },
        "670d96224e9f4a96bb048135eec649b0": {
          "model_module": "@jupyter-widgets/controls",
          "model_name": "HBoxModel",
          "state": {
            "_view_name": "HBoxView",
            "_dom_classes": [],
            "_model_name": "HBoxModel",
            "_view_module": "@jupyter-widgets/controls",
            "_model_module_version": "1.5.0",
            "_view_count": null,
            "_view_module_version": "1.5.0",
            "box_style": "",
            "layout": "IPY_MODEL_a81f0d67be364d46a825b9206ee50f22",
            "_model_module": "@jupyter-widgets/controls",
            "children": [
              "IPY_MODEL_88f2f12ffb6e427f8d0349e14d7f33f1",
              "IPY_MODEL_06ef486d6c954d809a7d563d8bde5ec6"
            ]
          }
        },
        "a81f0d67be364d46a825b9206ee50f22": {
          "model_module": "@jupyter-widgets/base",
          "model_name": "LayoutModel",
          "state": {
            "_view_name": "LayoutView",
            "grid_template_rows": null,
            "right": null,
            "justify_content": null,
            "_view_module": "@jupyter-widgets/base",
            "overflow": null,
            "_model_module_version": "1.2.0",
            "_view_count": null,
            "flex_flow": null,
            "width": null,
            "min_width": null,
            "border": null,
            "align_items": null,
            "bottom": null,
            "_model_module": "@jupyter-widgets/base",
            "top": null,
            "grid_column": null,
            "overflow_y": null,
            "overflow_x": null,
            "grid_auto_flow": null,
            "grid_area": null,
            "grid_template_columns": null,
            "flex": null,
            "_model_name": "LayoutModel",
            "justify_items": null,
            "grid_row": null,
            "max_height": null,
            "align_content": null,
            "visibility": null,
            "align_self": null,
            "height": null,
            "min_height": null,
            "padding": null,
            "grid_auto_rows": null,
            "grid_gap": null,
            "max_width": null,
            "order": null,
            "_view_module_version": "1.2.0",
            "grid_template_areas": null,
            "object_position": null,
            "object_fit": null,
            "grid_auto_columns": null,
            "margin": null,
            "display": null,
            "left": null
          }
        },
        "88f2f12ffb6e427f8d0349e14d7f33f1": {
          "model_module": "@jupyter-widgets/controls",
          "model_name": "FloatProgressModel",
          "state": {
            "_view_name": "ProgressView",
            "style": "IPY_MODEL_0ce5ca6b9ce24589ab4e6bf0dcc0b1ed",
            "_dom_classes": [],
            "description": "Downloading: 100%",
            "_model_name": "FloatProgressModel",
            "bar_style": "success",
            "max": 456318,
            "_view_module": "@jupyter-widgets/controls",
            "_model_module_version": "1.5.0",
            "value": 456318,
            "_view_count": null,
            "_view_module_version": "1.5.0",
            "orientation": "horizontal",
            "min": 0,
            "description_tooltip": null,
            "_model_module": "@jupyter-widgets/controls",
            "layout": "IPY_MODEL_59d4f433a82246769bf057b4d0a2a04d"
          }
        },
        "06ef486d6c954d809a7d563d8bde5ec6": {
          "model_module": "@jupyter-widgets/controls",
          "model_name": "HTMLModel",
          "state": {
            "_view_name": "HTMLView",
            "style": "IPY_MODEL_42ea93c12e324b7daa3cbe22134ce9ff",
            "_dom_classes": [],
            "description": "",
            "_model_name": "HTMLModel",
            "placeholder": "​",
            "_view_module": "@jupyter-widgets/controls",
            "_model_module_version": "1.5.0",
            "value": " 456k/456k [00:14&lt;00:00, 31.1kB/s]",
            "_view_count": null,
            "_view_module_version": "1.5.0",
            "description_tooltip": null,
            "_model_module": "@jupyter-widgets/controls",
            "layout": "IPY_MODEL_5699b61db7204306b6174dff5851f817"
          }
        },
        "0ce5ca6b9ce24589ab4e6bf0dcc0b1ed": {
          "model_module": "@jupyter-widgets/controls",
          "model_name": "ProgressStyleModel",
          "state": {
            "_view_name": "StyleView",
            "_model_name": "ProgressStyleModel",
            "description_width": "initial",
            "_view_module": "@jupyter-widgets/base",
            "_model_module_version": "1.5.0",
            "_view_count": null,
            "_view_module_version": "1.2.0",
            "bar_color": null,
            "_model_module": "@jupyter-widgets/controls"
          }
        },
        "59d4f433a82246769bf057b4d0a2a04d": {
          "model_module": "@jupyter-widgets/base",
          "model_name": "LayoutModel",
          "state": {
            "_view_name": "LayoutView",
            "grid_template_rows": null,
            "right": null,
            "justify_content": null,
            "_view_module": "@jupyter-widgets/base",
            "overflow": null,
            "_model_module_version": "1.2.0",
            "_view_count": null,
            "flex_flow": null,
            "width": null,
            "min_width": null,
            "border": null,
            "align_items": null,
            "bottom": null,
            "_model_module": "@jupyter-widgets/base",
            "top": null,
            "grid_column": null,
            "overflow_y": null,
            "overflow_x": null,
            "grid_auto_flow": null,
            "grid_area": null,
            "grid_template_columns": null,
            "flex": null,
            "_model_name": "LayoutModel",
            "justify_items": null,
            "grid_row": null,
            "max_height": null,
            "align_content": null,
            "visibility": null,
            "align_self": null,
            "height": null,
            "min_height": null,
            "padding": null,
            "grid_auto_rows": null,
            "grid_gap": null,
            "max_width": null,
            "order": null,
            "_view_module_version": "1.2.0",
            "grid_template_areas": null,
            "object_position": null,
            "object_fit": null,
            "grid_auto_columns": null,
            "margin": null,
            "display": null,
            "left": null
          }
        },
        "42ea93c12e324b7daa3cbe22134ce9ff": {
          "model_module": "@jupyter-widgets/controls",
          "model_name": "DescriptionStyleModel",
          "state": {
            "_view_name": "StyleView",
            "_model_name": "DescriptionStyleModel",
            "description_width": "",
            "_view_module": "@jupyter-widgets/base",
            "_model_module_version": "1.5.0",
            "_view_count": null,
            "_view_module_version": "1.2.0",
            "_model_module": "@jupyter-widgets/controls"
          }
        },
        "5699b61db7204306b6174dff5851f817": {
          "model_module": "@jupyter-widgets/base",
          "model_name": "LayoutModel",
          "state": {
            "_view_name": "LayoutView",
            "grid_template_rows": null,
            "right": null,
            "justify_content": null,
            "_view_module": "@jupyter-widgets/base",
            "overflow": null,
            "_model_module_version": "1.2.0",
            "_view_count": null,
            "flex_flow": null,
            "width": null,
            "min_width": null,
            "border": null,
            "align_items": null,
            "bottom": null,
            "_model_module": "@jupyter-widgets/base",
            "top": null,
            "grid_column": null,
            "overflow_y": null,
            "overflow_x": null,
            "grid_auto_flow": null,
            "grid_area": null,
            "grid_template_columns": null,
            "flex": null,
            "_model_name": "LayoutModel",
            "justify_items": null,
            "grid_row": null,
            "max_height": null,
            "align_content": null,
            "visibility": null,
            "align_self": null,
            "height": null,
            "min_height": null,
            "padding": null,
            "grid_auto_rows": null,
            "grid_gap": null,
            "max_width": null,
            "order": null,
            "_view_module_version": "1.2.0",
            "grid_template_areas": null,
            "object_position": null,
            "object_fit": null,
            "grid_auto_columns": null,
            "margin": null,
            "display": null,
            "left": null
          }
        },
        "0cc41421f42148978048d3abb36078d4": {
          "model_module": "@jupyter-widgets/controls",
          "model_name": "HBoxModel",
          "state": {
            "_view_name": "HBoxView",
            "_dom_classes": [],
            "_model_name": "HBoxModel",
            "_view_module": "@jupyter-widgets/controls",
            "_model_module_version": "1.5.0",
            "_view_count": null,
            "_view_module_version": "1.5.0",
            "box_style": "",
            "layout": "IPY_MODEL_603f8f55582a489aa0c0e62402b87225",
            "_model_module": "@jupyter-widgets/controls",
            "children": [
              "IPY_MODEL_5d585df50e874f509be11b5d4dc0adbb",
              "IPY_MODEL_f8f0bc496ad54746bd151a55e59acffc"
            ]
          }
        },
        "603f8f55582a489aa0c0e62402b87225": {
          "model_module": "@jupyter-widgets/base",
          "model_name": "LayoutModel",
          "state": {
            "_view_name": "LayoutView",
            "grid_template_rows": null,
            "right": null,
            "justify_content": null,
            "_view_module": "@jupyter-widgets/base",
            "overflow": null,
            "_model_module_version": "1.2.0",
            "_view_count": null,
            "flex_flow": null,
            "width": null,
            "min_width": null,
            "border": null,
            "align_items": null,
            "bottom": null,
            "_model_module": "@jupyter-widgets/base",
            "top": null,
            "grid_column": null,
            "overflow_y": null,
            "overflow_x": null,
            "grid_auto_flow": null,
            "grid_area": null,
            "grid_template_columns": null,
            "flex": null,
            "_model_name": "LayoutModel",
            "justify_items": null,
            "grid_row": null,
            "max_height": null,
            "align_content": null,
            "visibility": null,
            "align_self": null,
            "height": null,
            "min_height": null,
            "padding": null,
            "grid_auto_rows": null,
            "grid_gap": null,
            "max_width": null,
            "order": null,
            "_view_module_version": "1.2.0",
            "grid_template_areas": null,
            "object_position": null,
            "object_fit": null,
            "grid_auto_columns": null,
            "margin": null,
            "display": null,
            "left": null
          }
        },
        "5d585df50e874f509be11b5d4dc0adbb": {
          "model_module": "@jupyter-widgets/controls",
          "model_name": "FloatProgressModel",
          "state": {
            "_view_name": "ProgressView",
            "style": "IPY_MODEL_00380e56020042f3aa5f63c1e55b409e",
            "_dom_classes": [],
            "description": "Downloading: 100%",
            "_model_name": "FloatProgressModel",
            "bar_style": "success",
            "max": 1355863,
            "_view_module": "@jupyter-widgets/controls",
            "_model_module_version": "1.5.0",
            "value": 1355863,
            "_view_count": null,
            "_view_module_version": "1.5.0",
            "orientation": "horizontal",
            "min": 0,
            "description_tooltip": null,
            "_model_module": "@jupyter-widgets/controls",
            "layout": "IPY_MODEL_6d2f8a15b7814cb4be0123aba33c79f2"
          }
        },
        "f8f0bc496ad54746bd151a55e59acffc": {
          "model_module": "@jupyter-widgets/controls",
          "model_name": "HTMLModel",
          "state": {
            "_view_name": "HTMLView",
            "style": "IPY_MODEL_834cb9103d8a4ddd96e3aab6a79b353c",
            "_dom_classes": [],
            "description": "",
            "_model_name": "HTMLModel",
            "placeholder": "​",
            "_view_module": "@jupyter-widgets/controls",
            "_model_module_version": "1.5.0",
            "value": " 1.36M/1.36M [00:03&lt;00:00, 360kB/s]",
            "_view_count": null,
            "_view_module_version": "1.5.0",
            "description_tooltip": null,
            "_model_module": "@jupyter-widgets/controls",
            "layout": "IPY_MODEL_bb416e1e648944abbb472920fe68bf16"
          }
        },
        "00380e56020042f3aa5f63c1e55b409e": {
          "model_module": "@jupyter-widgets/controls",
          "model_name": "ProgressStyleModel",
          "state": {
            "_view_name": "StyleView",
            "_model_name": "ProgressStyleModel",
            "description_width": "initial",
            "_view_module": "@jupyter-widgets/base",
            "_model_module_version": "1.5.0",
            "_view_count": null,
            "_view_module_version": "1.2.0",
            "bar_color": null,
            "_model_module": "@jupyter-widgets/controls"
          }
        },
        "6d2f8a15b7814cb4be0123aba33c79f2": {
          "model_module": "@jupyter-widgets/base",
          "model_name": "LayoutModel",
          "state": {
            "_view_name": "LayoutView",
            "grid_template_rows": null,
            "right": null,
            "justify_content": null,
            "_view_module": "@jupyter-widgets/base",
            "overflow": null,
            "_model_module_version": "1.2.0",
            "_view_count": null,
            "flex_flow": null,
            "width": null,
            "min_width": null,
            "border": null,
            "align_items": null,
            "bottom": null,
            "_model_module": "@jupyter-widgets/base",
            "top": null,
            "grid_column": null,
            "overflow_y": null,
            "overflow_x": null,
            "grid_auto_flow": null,
            "grid_area": null,
            "grid_template_columns": null,
            "flex": null,
            "_model_name": "LayoutModel",
            "justify_items": null,
            "grid_row": null,
            "max_height": null,
            "align_content": null,
            "visibility": null,
            "align_self": null,
            "height": null,
            "min_height": null,
            "padding": null,
            "grid_auto_rows": null,
            "grid_gap": null,
            "max_width": null,
            "order": null,
            "_view_module_version": "1.2.0",
            "grid_template_areas": null,
            "object_position": null,
            "object_fit": null,
            "grid_auto_columns": null,
            "margin": null,
            "display": null,
            "left": null
          }
        },
        "834cb9103d8a4ddd96e3aab6a79b353c": {
          "model_module": "@jupyter-widgets/controls",
          "model_name": "DescriptionStyleModel",
          "state": {
            "_view_name": "StyleView",
            "_model_name": "DescriptionStyleModel",
            "description_width": "",
            "_view_module": "@jupyter-widgets/base",
            "_model_module_version": "1.5.0",
            "_view_count": null,
            "_view_module_version": "1.2.0",
            "_model_module": "@jupyter-widgets/controls"
          }
        },
        "bb416e1e648944abbb472920fe68bf16": {
          "model_module": "@jupyter-widgets/base",
          "model_name": "LayoutModel",
          "state": {
            "_view_name": "LayoutView",
            "grid_template_rows": null,
            "right": null,
            "justify_content": null,
            "_view_module": "@jupyter-widgets/base",
            "overflow": null,
            "_model_module_version": "1.2.0",
            "_view_count": null,
            "flex_flow": null,
            "width": null,
            "min_width": null,
            "border": null,
            "align_items": null,
            "bottom": null,
            "_model_module": "@jupyter-widgets/base",
            "top": null,
            "grid_column": null,
            "overflow_y": null,
            "overflow_x": null,
            "grid_auto_flow": null,
            "grid_area": null,
            "grid_template_columns": null,
            "flex": null,
            "_model_name": "LayoutModel",
            "justify_items": null,
            "grid_row": null,
            "max_height": null,
            "align_content": null,
            "visibility": null,
            "align_self": null,
            "height": null,
            "min_height": null,
            "padding": null,
            "grid_auto_rows": null,
            "grid_gap": null,
            "max_width": null,
            "order": null,
            "_view_module_version": "1.2.0",
            "grid_template_areas": null,
            "object_position": null,
            "object_fit": null,
            "grid_auto_columns": null,
            "margin": null,
            "display": null,
            "left": null
          }
        },
        "4672c0026d094243bd8c0d6e735b73b8": {
          "model_module": "@jupyter-widgets/controls",
          "model_name": "HBoxModel",
          "state": {
            "_view_name": "HBoxView",
            "_dom_classes": [],
            "_model_name": "HBoxModel",
            "_view_module": "@jupyter-widgets/controls",
            "_model_module_version": "1.5.0",
            "_view_count": null,
            "_view_module_version": "1.5.0",
            "box_style": "",
            "layout": "IPY_MODEL_ccadedf67ff041fa8336e604ed24be75",
            "_model_module": "@jupyter-widgets/controls",
            "children": [
              "IPY_MODEL_4617d745296f49a1b8cedf02201ab2dc",
              "IPY_MODEL_4400d20e7d6b449ea626ee47085a19d2"
            ]
          }
        },
        "ccadedf67ff041fa8336e604ed24be75": {
          "model_module": "@jupyter-widgets/base",
          "model_name": "LayoutModel",
          "state": {
            "_view_name": "LayoutView",
            "grid_template_rows": null,
            "right": null,
            "justify_content": null,
            "_view_module": "@jupyter-widgets/base",
            "overflow": null,
            "_model_module_version": "1.2.0",
            "_view_count": null,
            "flex_flow": null,
            "width": null,
            "min_width": null,
            "border": null,
            "align_items": null,
            "bottom": null,
            "_model_module": "@jupyter-widgets/base",
            "top": null,
            "grid_column": null,
            "overflow_y": null,
            "overflow_x": null,
            "grid_auto_flow": null,
            "grid_area": null,
            "grid_template_columns": null,
            "flex": null,
            "_model_name": "LayoutModel",
            "justify_items": null,
            "grid_row": null,
            "max_height": null,
            "align_content": null,
            "visibility": null,
            "align_self": null,
            "height": null,
            "min_height": null,
            "padding": null,
            "grid_auto_rows": null,
            "grid_gap": null,
            "max_width": null,
            "order": null,
            "_view_module_version": "1.2.0",
            "grid_template_areas": null,
            "object_position": null,
            "object_fit": null,
            "grid_auto_columns": null,
            "margin": null,
            "display": null,
            "left": null
          }
        },
        "4617d745296f49a1b8cedf02201ab2dc": {
          "model_module": "@jupyter-widgets/controls",
          "model_name": "FloatProgressModel",
          "state": {
            "_view_name": "ProgressView",
            "style": "IPY_MODEL_574e330640704207896499000301fad6",
            "_dom_classes": [],
            "description": "Downloading: 100%",
            "_model_name": "FloatProgressModel",
            "bar_style": "success",
            "max": 501200538,
            "_view_module": "@jupyter-widgets/controls",
            "_model_module_version": "1.5.0",
            "value": 501200538,
            "_view_count": null,
            "_view_module_version": "1.5.0",
            "orientation": "horizontal",
            "min": 0,
            "description_tooltip": null,
            "_model_module": "@jupyter-widgets/controls",
            "layout": "IPY_MODEL_ac153a9012724cc6a40de15fdad2d9a2"
          }
        },
        "4400d20e7d6b449ea626ee47085a19d2": {
          "model_module": "@jupyter-widgets/controls",
          "model_name": "HTMLModel",
          "state": {
            "_view_name": "HTMLView",
            "style": "IPY_MODEL_a3bef84022c64be28855f9a49236f8f6",
            "_dom_classes": [],
            "description": "",
            "_model_name": "HTMLModel",
            "placeholder": "​",
            "_view_module": "@jupyter-widgets/controls",
            "_model_module_version": "1.5.0",
            "value": " 501M/501M [00:08&lt;00:00, 58.1MB/s]",
            "_view_count": null,
            "_view_module_version": "1.5.0",
            "description_tooltip": null,
            "_model_module": "@jupyter-widgets/controls",
            "layout": "IPY_MODEL_7594024651ba49889d9eaa3f2d00f983"
          }
        },
        "574e330640704207896499000301fad6": {
          "model_module": "@jupyter-widgets/controls",
          "model_name": "ProgressStyleModel",
          "state": {
            "_view_name": "StyleView",
            "_model_name": "ProgressStyleModel",
            "description_width": "initial",
            "_view_module": "@jupyter-widgets/base",
            "_model_module_version": "1.5.0",
            "_view_count": null,
            "_view_module_version": "1.2.0",
            "bar_color": null,
            "_model_module": "@jupyter-widgets/controls"
          }
        },
        "ac153a9012724cc6a40de15fdad2d9a2": {
          "model_module": "@jupyter-widgets/base",
          "model_name": "LayoutModel",
          "state": {
            "_view_name": "LayoutView",
            "grid_template_rows": null,
            "right": null,
            "justify_content": null,
            "_view_module": "@jupyter-widgets/base",
            "overflow": null,
            "_model_module_version": "1.2.0",
            "_view_count": null,
            "flex_flow": null,
            "width": null,
            "min_width": null,
            "border": null,
            "align_items": null,
            "bottom": null,
            "_model_module": "@jupyter-widgets/base",
            "top": null,
            "grid_column": null,
            "overflow_y": null,
            "overflow_x": null,
            "grid_auto_flow": null,
            "grid_area": null,
            "grid_template_columns": null,
            "flex": null,
            "_model_name": "LayoutModel",
            "justify_items": null,
            "grid_row": null,
            "max_height": null,
            "align_content": null,
            "visibility": null,
            "align_self": null,
            "height": null,
            "min_height": null,
            "padding": null,
            "grid_auto_rows": null,
            "grid_gap": null,
            "max_width": null,
            "order": null,
            "_view_module_version": "1.2.0",
            "grid_template_areas": null,
            "object_position": null,
            "object_fit": null,
            "grid_auto_columns": null,
            "margin": null,
            "display": null,
            "left": null
          }
        },
        "a3bef84022c64be28855f9a49236f8f6": {
          "model_module": "@jupyter-widgets/controls",
          "model_name": "DescriptionStyleModel",
          "state": {
            "_view_name": "StyleView",
            "_model_name": "DescriptionStyleModel",
            "description_width": "",
            "_view_module": "@jupyter-widgets/base",
            "_model_module_version": "1.5.0",
            "_view_count": null,
            "_view_module_version": "1.2.0",
            "_model_module": "@jupyter-widgets/controls"
          }
        },
        "7594024651ba49889d9eaa3f2d00f983": {
          "model_module": "@jupyter-widgets/base",
          "model_name": "LayoutModel",
          "state": {
            "_view_name": "LayoutView",
            "grid_template_rows": null,
            "right": null,
            "justify_content": null,
            "_view_module": "@jupyter-widgets/base",
            "overflow": null,
            "_model_module_version": "1.2.0",
            "_view_count": null,
            "flex_flow": null,
            "width": null,
            "min_width": null,
            "border": null,
            "align_items": null,
            "bottom": null,
            "_model_module": "@jupyter-widgets/base",
            "top": null,
            "grid_column": null,
            "overflow_y": null,
            "overflow_x": null,
            "grid_auto_flow": null,
            "grid_area": null,
            "grid_template_columns": null,
            "flex": null,
            "_model_name": "LayoutModel",
            "justify_items": null,
            "grid_row": null,
            "max_height": null,
            "align_content": null,
            "visibility": null,
            "align_self": null,
            "height": null,
            "min_height": null,
            "padding": null,
            "grid_auto_rows": null,
            "grid_gap": null,
            "max_width": null,
            "order": null,
            "_view_module_version": "1.2.0",
            "grid_template_areas": null,
            "object_position": null,
            "object_fit": null,
            "grid_auto_columns": null,
            "margin": null,
            "display": null,
            "left": null
          }
        }
      }
    }
  },
  "cells": [
    {
      "cell_type": "markdown",
      "metadata": {
        "id": "uONdd9thwOB1"
      },
      "source": [
        "In this notebook several previously created models will be tested, namely:\n",
        "\n",
        "* Model trained on original WikiLarge data to perform task for English\n",
        "* Model trained on pairs: original english - simplified russian sentence. So, it learns both translate and simplify at the same time.\n",
        "* Model trained only on the translated to Russian data.\n",
        "* Model trained firstly on the original data and then on the translated corpus\n",
        "\n",
        "All the models will be tested on the dev part of the dataset presented in RuSimpleSentEval competition. For the two of the models the russian dataset firstly will be translated into English."
      ]
    },
    {
      "cell_type": "markdown",
      "metadata": {
        "id": "QG3kpGvGxscz"
      },
      "source": [
        "## Necessary libraries"
      ]
    },
    {
      "cell_type": "code",
      "metadata": {
        "id": "SZR3gnFVzwQ6"
      },
      "source": [
        "! pip install googletrans\n",
        "! pip install transformers\n",
        "! pip install laserembeddings\n",
        "! pip install sentence_transformers\n",
        "! pip install language_tool_python\n",
        "! pip install textstat"
      ],
      "execution_count": null,
      "outputs": []
    },
    {
      "cell_type": "code",
      "metadata": {
        "colab": {
          "base_uri": "https://localhost:8080/"
        },
        "id": "Q7Qa2dtcz179",
        "outputId": "9b2e6514-6e9a-4f70-be1e-780dc4159df9"
      },
      "source": [
        "! python -m laserembeddings download-models"
      ],
      "execution_count": null,
      "outputs": [
        {
          "output_type": "stream",
          "text": [
            "Downloading models into /usr/local/lib/python3.7/dist-packages/laserembeddings/data\n",
            "\n",
            "✅   Downloaded https://dl.fbaipublicfiles.com/laser/models/93langs.fcodes    \n",
            "✅   Downloaded https://dl.fbaipublicfiles.com/laser/models/93langs.fvocab    \n",
            "✅   Downloaded https://dl.fbaipublicfiles.com/laser/models/bilstm.93langs.2018-12-26.pt    \n",
            "\n",
            "✨ You're all set!\n"
          ],
          "name": "stdout"
        }
      ]
    },
    {
      "cell_type": "code",
      "metadata": {
        "colab": {
          "base_uri": "https://localhost:8080/"
        },
        "id": "L8VrlW1-wINE",
        "outputId": "ea779f4b-f800-4522-fca1-b669f42fa053"
      },
      "source": [
        "import nltk\n",
        "nltk.download('punkt')\n",
        "import pandas as pd\n",
        "import numpy as np\n",
        "import torch\n",
        "import language_tool_python\n",
        "import re\n",
        "import textstat\n",
        "from laserembeddings import Laser\n",
        "from sklearn.metrics.pairwise import cosine_similarity\n",
        "from sentence_transformers import SentenceTransformer\n",
        "from transformers import MarianMTModel, MarianTokenizer\n",
        "from transformers.hf_api import HfApi\n",
        "from googletrans import Translator\n",
        "from tqdm import tqdm_notebook\n",
        "\n",
        "pd.set_option('display.max_rows', None)\n",
        "pd.set_option('display.max_columns', 500)\n",
        "pd.set_option('display.width', 1000)\n",
        "pd.set_option('display.max_colwidth', None)"
      ],
      "execution_count": null,
      "outputs": [
        {
          "output_type": "stream",
          "text": [
            "[nltk_data] Downloading package punkt to /root/nltk_data...\n",
            "[nltk_data]   Unzipping tokenizers/punkt.zip.\n"
          ],
          "name": "stdout"
        }
      ]
    },
    {
      "cell_type": "markdown",
      "metadata": {
        "id": "0r8X0lwExxZP"
      },
      "source": [
        "## Loading data..."
      ]
    },
    {
      "cell_type": "code",
      "metadata": {
        "id": "SvkRWELkzW1V"
      },
      "source": [
        "! mkdir data\n",
        "! gdown https://drive.google.com/uc?id=1bJo8TagTGKa0uyppQRqsHrKHyYO5tcZc\n",
        "! gdown https://drive.google.com/uc?id=11lqipq6ggrgCk8bVxQ4-uuPVMCKN5ebU\n",
        "! gdown https://drive.google.com/uc?id=1dB3X-Wx8qU_5nDG_pxAmLvo5H_sgnHrE\n",
        "! gdown https://drive.google.com/uc?id=1IVz3XC8Rm7hQCyx3xCcABjhaENrKABvF"
      ],
      "execution_count": null,
      "outputs": []
    },
    {
      "cell_type": "code",
      "metadata": {
        "id": "L_3pR82Dx1tZ"
      },
      "source": [
        "test_data = pd.read_csv('/content/test_baselines.csv', sep='\\t')\n",
        "test_data['INPUT:source'] = test_data['INPUT:source'].apply(lambda x: re.sub(r'[\\t\\n\\r\\f\\v]+', \"\",x))\n",
        "test_data['OUTPUT:output'] = test_data['OUTPUT:output'].apply(lambda x: re.sub(r'[\\t\\n\\r\\f\\v]+', \"\",x))\n",
        "test_data.to_csv('test_data_new.csv', index=False, sep='\\t')\n",
        "# test_data = pd.read_csv('/content/test_data_new.csv', sep='\\t')"
      ],
      "execution_count": null,
      "outputs": []
    },
    {
      "cell_type": "code",
      "metadata": {
        "id": "-MCcM-YPzbKQ"
      },
      "source": [
        "data_train = pd.read_csv('/content/wiki_train_cleaned_translated_sd.csv')\n",
        "data_dev = pd.read_csv('/content/wiki_dev_cleaned_translated_sd.csv')\n",
        "data_test  = pd.read_csv('/content/test_data_new.csv',  sep='\\t')"
      ],
      "execution_count": null,
      "outputs": []
    },
    {
      "cell_type": "code",
      "metadata": {
        "colab": {
          "base_uri": "https://localhost:8080/",
          "height": 972
        },
        "id": "uDntkxXYyhul",
        "outputId": "2fe73f6a-24d6-48cc-b39c-7b6a0db95942"
      },
      "source": [
        "test_data.sample(5)"
      ],
      "execution_count": null,
      "outputs": [
        {
          "output_type": "execute_result",
          "data": {
            "text/html": [
              "<div>\n",
              "<style scoped>\n",
              "    .dataframe tbody tr th:only-of-type {\n",
              "        vertical-align: middle;\n",
              "    }\n",
              "\n",
              "    .dataframe tbody tr th {\n",
              "        vertical-align: top;\n",
              "    }\n",
              "\n",
              "    .dataframe thead th {\n",
              "        text-align: right;\n",
              "    }\n",
              "</style>\n",
              "<table border=\"1\" class=\"dataframe\">\n",
              "  <thead>\n",
              "    <tr style=\"text-align: right;\">\n",
              "      <th></th>\n",
              "      <th>Unnamed: 0</th>\n",
              "      <th>INPUT:source</th>\n",
              "      <th>OUTPUT:output</th>\n",
              "      <th>trunctuation_bs</th>\n",
              "      <th>gpt_bs</th>\n",
              "      <th>cos_sim_ref</th>\n",
              "      <th>cos_sim_tr_bs</th>\n",
              "      <th>cos_sim_gpt_bs</th>\n",
              "    </tr>\n",
              "  </thead>\n",
              "  <tbody>\n",
              "    <tr>\n",
              "      <th>3331</th>\n",
              "      <td>9742</td>\n",
              "      <td>Чтобы иметь возможность показать картину возможно большей зрительской аудитории, создатели фильма значительно смягчили на экране любовный контекст книги.</td>\n",
              "      <td>создатели фильма значительно смягчили на экране любовный контекст книги, чтобы показать картину возможно большей зрительской аудитории</td>\n",
              "      <td>Чтобы иметь возможность показать картину возможно большей зрительской аудитории, создатели.</td>\n",
              "      <td>Чтобы иметь возможность показать картину возможно большей зрительской аудитории, создатели фильма значительно смягчают и стимулируют интересующую аудиторию.</td>\n",
              "      <td>0.994697</td>\n",
              "      <td>0.966543</td>\n",
              "      <td>0.984472</td>\n",
              "    </tr>\n",
              "    <tr>\n",
              "      <th>464</th>\n",
              "      <td>1515</td>\n",
              "      <td>В северных областях на замену дирхемам пришли западноевропейские денарии германской, английской и скандинавской чеканки.</td>\n",
              "      <td>В северных поселениях дирхемы поменяли на западноевропейские денарии германского, английского и скандинавского выпуска.</td>\n",
              "      <td>В северных областях на замену дирхемам пришли западноевропейские.</td>\n",
              "      <td>В северных областях на замену дирхемам пришли западноевропейские денарии, такие как Польша (сокращенно - Варшава), Германия и Чехия.</td>\n",
              "      <td>0.953056</td>\n",
              "      <td>0.904038</td>\n",
              "      <td>0.936735</td>\n",
              "    </tr>\n",
              "    <tr>\n",
              "      <th>1812</th>\n",
              "      <td>5384</td>\n",
              "      <td>Обозреватель издания назвал сценарий виртуозным и непредсказуемым, способным удержать на одном плане сразу две дюжины героев.</td>\n",
              "      <td>Журналист похвалил фильм.</td>\n",
              "      <td>Обозреватель издания назвал сценарий виртуозным и непредсказуемым, способным удержать.</td>\n",
              "      <td>Обозреватель издания назвал сценарий виртуозным и непредсказуемым, способным удержать на протяжении нескольких поколений читателей.</td>\n",
              "      <td>0.964119</td>\n",
              "      <td>0.985414</td>\n",
              "      <td>0.988780</td>\n",
              "    </tr>\n",
              "    <tr>\n",
              "      <th>1214</th>\n",
              "      <td>3587</td>\n",
              "      <td>Имеются данные о взаимосвязи между группами крови и частотой других инфекционных заболеваний (туберкулёз, грипп и др.).</td>\n",
              "      <td>Люди с различными группами крови по разному подвержены инфекционным заболеваниям.</td>\n",
              "      <td>Имеются данные о взаимосвязи между группами крови и частотой.</td>\n",
              "      <td>Имеются данные о взаимосвязи между группами крови и частотой других инфекционных заболеваний, включая туберкулез.</td>\n",
              "      <td>0.951548</td>\n",
              "      <td>0.961848</td>\n",
              "      <td>0.986331</td>\n",
              "    </tr>\n",
              "    <tr>\n",
              "      <th>1751</th>\n",
              "      <td>5197</td>\n",
              "      <td>Несмотря на богатую и славную историю, австрийская литература может похвастаться только одним нобелевским лауреатом.</td>\n",
              "      <td>Австрийская литература может похвастаться только одним нобелевским лауреатом, несмотря на богатую историю.</td>\n",
              "      <td>Несмотря на богатую и славную историю, австрийская литература.</td>\n",
              "      <td>Несмотря на богатую и славную историю, австрийская литература может похвастаться только одним важным историческим периодом.</td>\n",
              "      <td>0.996435</td>\n",
              "      <td>0.985989</td>\n",
              "      <td>0.994274</td>\n",
              "    </tr>\n",
              "  </tbody>\n",
              "</table>\n",
              "</div>"
            ],
            "text/plain": [
              "      Unnamed: 0                                                                                                                                               INPUT:source                                                                                                                           OUTPUT:output                                                                              trunctuation_bs                                                                                                                                                        gpt_bs  cos_sim_ref  cos_sim_tr_bs  cos_sim_gpt_bs\n",
              "3331        9742  Чтобы иметь возможность показать картину возможно большей зрительской аудитории, создатели фильма значительно смягчили на экране любовный контекст книги.  создатели фильма значительно смягчили на экране любовный контекст книги, чтобы показать картину возможно большей зрительской аудитории  Чтобы иметь возможность показать картину возможно большей зрительской аудитории, создатели.  Чтобы иметь возможность показать картину возможно большей зрительской аудитории, создатели фильма значительно смягчают и стимулируют интересующую аудиторию.     0.994697       0.966543        0.984472\n",
              "464         1515                                   В северных областях на замену дирхемам пришли западноевропейские денарии германской, английской и скандинавской чеканки.                 В северных поселениях дирхемы поменяли на западноевропейские денарии германского, английского и скандинавского выпуска.                            В северных областях на замену дирхемам пришли западноевропейские.                          В северных областях на замену дирхемам пришли западноевропейские денарии, такие как Польша (сокращенно - Варшава), Германия и Чехия.     0.953056       0.904038        0.936735\n",
              "1812        5384                              Обозреватель издания назвал сценарий виртуозным и непредсказуемым, способным удержать на одном плане сразу две дюжины героев.                                                                                                               Журналист похвалил фильм.       Обозреватель издания назвал сценарий виртуозным и непредсказуемым, способным удержать.                           Обозреватель издания назвал сценарий виртуозным и непредсказуемым, способным удержать на протяжении нескольких поколений читателей.     0.964119       0.985414        0.988780\n",
              "1214        3587                                    Имеются данные о взаимосвязи между группами крови и частотой других инфекционных заболеваний (туберкулёз, грипп и др.).                                                      Люди с различными группами крови по разному подвержены инфекционным заболеваниям.                                 Имеются данные о взаимосвязи между группами крови и частотой.                                             Имеются данные о взаимосвязи между группами крови и частотой других инфекционных заболеваний, включая туберкулез.     0.951548       0.961848        0.986331\n",
              "1751        5197                                       Несмотря на богатую и славную историю, австрийская литература может похвастаться только одним нобелевским лауреатом.                              Австрийская литература может похвастаться только одним нобелевским лауреатом, несмотря на богатую историю.                               Несмотря на богатую и славную историю, австрийская литература.                                   Несмотря на богатую и славную историю, австрийская литература может похвастаться только одним важным историческим периодом.     0.996435       0.985989        0.994274"
            ]
          },
          "metadata": {
            "tags": []
          },
          "execution_count": 5
        }
      ]
    },
    {
      "cell_type": "markdown",
      "metadata": {
        "id": "VlV-3-PSyxa2"
      },
      "source": [
        "## Setting the environment for Fairseq mBart"
      ]
    },
    {
      "cell_type": "code",
      "metadata": {
        "id": "admoi-VuyjY9"
      },
      "source": [
        "! wget https://dl.fbaipublicfiles.com/fairseq/models/mbart/mbart.cc25.v2.tar.gz\n",
        "! tar -xzvf /content/mbart.cc25.v2.tar.gz\n",
        "! apt-get install cmake build-essential pkg-config libgoogle-perftools-dev"
      ],
      "execution_count": null,
      "outputs": []
    },
    {
      "cell_type": "code",
      "metadata": {
        "id": "tm4GIOztzAJS"
      },
      "source": [
        "! git clone https://github.com/google/sentencepiece.git \n",
        "%cd sentencepiece\n",
        "! mkdir build"
      ],
      "execution_count": null,
      "outputs": []
    },
    {
      "cell_type": "code",
      "metadata": {
        "id": "Z0bg05O8zC0U"
      },
      "source": [
        "%cd build\n",
        "!cmake ..\n",
        "!make\n",
        "!make install\n",
        "!ldconfig -v"
      ],
      "execution_count": null,
      "outputs": []
    },
    {
      "cell_type": "code",
      "metadata": {
        "colab": {
          "base_uri": "https://localhost:8080/"
        },
        "id": "_wqRvwxJzFD6",
        "outputId": "c7d2ad04-128a-4df2-da21-947c126aa218"
      },
      "source": [
        "%cd /content"
      ],
      "execution_count": null,
      "outputs": [
        {
          "output_type": "stream",
          "text": [
            "/content\n"
          ],
          "name": "stdout"
        }
      ]
    },
    {
      "cell_type": "code",
      "metadata": {
        "id": "ZXmuP3Y0zG_q"
      },
      "source": [
        "! git clone https://github.com/pytorch/fairseq\n",
        "%cd /content/fairseq/\n",
        "! python -m pip install --editable .\n",
        "%cd /content\n",
        "\n",
        "! echo $PYTHONPATH\n",
        "\n",
        "import os\n",
        "os.environ['PYTHONPATH'] += \":/content/fairseq/\"\n",
        "\n",
        "! echo $PYTHONPATH\n"
      ],
      "execution_count": null,
      "outputs": []
    },
    {
      "cell_type": "code",
      "metadata": {
        "id": "TCKRb044zKpI"
      },
      "source": [
        "! git clone https://github.com/feralvam/easse\n",
        "! git clone https://github.com/Andoree/sent_simplification.git\n",
        "%cp /content/sent_simplification/sari.py /content/easse/easse\n",
        "\n",
        "%cd easse\n",
        "! pip install ."
      ],
      "execution_count": null,
      "outputs": []
    },
    {
      "cell_type": "code",
      "metadata": {
        "id": "E7OXT30d-g3n"
      },
      "source": [
        "%cd /content"
      ],
      "execution_count": null,
      "outputs": []
    },
    {
      "cell_type": "code",
      "metadata": {
        "id": "YVwjOTtC3Aln"
      },
      "source": [
        "! mkdir prepared_data\n",
        "! mkdir preds"
      ],
      "execution_count": null,
      "outputs": []
    },
    {
      "cell_type": "markdown",
      "metadata": {
        "id": "tZ1OI1Ow04tT"
      },
      "source": [
        "## Translation to English"
      ]
    },
    {
      "cell_type": "code",
      "metadata": {
        "id": "bGZFmK464Xxe"
      },
      "source": [
        "data_test = data_test[['Unnamed: 0', 'INPUT:source','OUTPUT:output', 'trunctuation_bs', 'gpt_bs']]"
      ],
      "execution_count": null,
      "outputs": []
    },
    {
      "cell_type": "code",
      "metadata": {
        "id": "gmrJP7jg0sqS"
      },
      "source": [
        "# helper functions\n",
        "\n",
        "def batch_generator(\n",
        "        list_of_sentences,\n",
        "        size=64\n",
        "):\n",
        "    num_batch = len(list_of_sentences)//size\n",
        "    for index in range(num_batch):\n",
        "        yield list_of_sentences[index*size:(index+1)*size]\n",
        "    yield list_of_sentences[num_batch*size:]\n",
        "\n",
        "\n",
        "def translate_to_eng(model, tok, src, dst):\n",
        "\n",
        "  translations_src = []\n",
        "  for i in tqdm_notebook(batch_generator(src)):\n",
        "    l = tok(i, return_tensors=\"pt\", padding=True).to(device)\n",
        "    translated = model.generate(**l)\n",
        "    translations_src.extend([tok.decode(t, skip_special_tokens=True) for t in translated])\n",
        "\n",
        "  translations_dst = []\n",
        "  for i in tqdm_notebook(batch_generator(dst)):\n",
        "    l = tok(i, return_tensors=\"pt\", padding=True).to(device)\n",
        "    translated = model.generate(**l)\n",
        "    translations_dst.extend([tok.decode(t, skip_special_tokens=True) for t in translated])\n",
        "\n",
        "  return translations_src, translations_dst\n"
      ],
      "execution_count": null,
      "outputs": []
    },
    {
      "cell_type": "code",
      "metadata": {
        "id": "XZQxcOcV35HW"
      },
      "source": [
        "# import en-ru model from transformers\n",
        "model_name = 'Helsinki-NLP/opus-mt-ru-en'\n",
        "tokenizer = MarianTokenizer.from_pretrained(model_name)\n",
        "model = MarianMTModel.from_pretrained(model_name)\n",
        "device = torch.device('cuda' if torch.cuda.is_available() else 'cpu')\n",
        "device\n",
        "model.to(device)"
      ],
      "execution_count": null,
      "outputs": []
    },
    {
      "cell_type": "code",
      "metadata": {
        "id": "2uD6fv3u_eV5"
      },
      "source": [
        "data_test['INPUT:source'] = data_test['INPUT:source'].astype(str)\n",
        "data_test['OUTPUT:output'] = data_test['OUTPUT:output'].astype(str)"
      ],
      "execution_count": null,
      "outputs": []
    },
    {
      "cell_type": "code",
      "metadata": {
        "colab": {
          "base_uri": "https://localhost:8080/",
          "height": 220,
          "referenced_widgets": [
            "6b88515be17c4370b38e003d035372c8",
            "ad7b9ed0976b4fe1a949465ee52dd978",
            "d87072addc6e405ba4afd38206b64fa6",
            "334e439e88534227b2c76db93faaa006",
            "9481d5b461684e649be857cf31e9c224",
            "440c89ada709494ca048adcc8a12fd39",
            "9b38606752be44c5999aa38eeb825d01",
            "d052b8dad03b436ab03ece97dabe4fac",
            "dec9d1a3e7264c9f9131efd9884c2c9e",
            "38e9b9d8537f49c287f173ec3b9670cf",
            "ae9123d5ada241f6bff5d733a6b178b3",
            "013c3b68844b49ab9ae7e23793f86f22",
            "778f31bfb97c45f28a32827c91780040",
            "4bc8349c248a4bbea675271b321927d1",
            "26b09ee459244008a2044adc86c44d84",
            "16e75c0a2757494a94c2487876eb26c8"
          ]
        },
        "id": "obKkY83-391P",
        "outputId": "8dac9d2a-433f-4ad7-d8fe-1a5d78ffe945"
      },
      "source": [
        "# test--------------------------------------------------\n",
        "src, dst = translate_to_eng(model, tokenizer, list(data_test['INPUT:source'].values), list(data_test['OUTPUT:output'].values))\n",
        "for i, obj  in enumerate(src):\n",
        "  src[i] = src[i].replace('&gt;', '')\n",
        "  #src[i] = re.sub(r'[&gt;{1,}]', \" \", src[i])\n",
        "  src[i] = src[i].replace('&lt;', '')\n",
        "  src[i] = src[i].replace('()', '')\n",
        "  src[i] = src[i].replace('&quot;', '')\n",
        "for i, obj in enumerate(dst):\n",
        "  dst[i] = dst[i].replace('&gt;', '')\n",
        "  dst[i] = dst[i].replace('&lt;', '')\n",
        "  dst[i] = dst[i].replace('()', '')\n",
        "  dst[i] = dst[i].replace('&quot;', '')\n",
        "data_test['src'] = src\n",
        "data_test['dst'] = dst\n",
        "data_test.to_csv('/content/drive/MyDrive/MT_sentence_simpl/wiki_test_dev_eng.csv', sep='\\t')"
      ],
      "execution_count": null,
      "outputs": [
        {
          "output_type": "stream",
          "text": [
            "/usr/local/lib/python3.7/dist-packages/ipykernel_launcher.py:16: TqdmDeprecationWarning: This function will be removed in tqdm==5.0.0\n",
            "Please use `tqdm.notebook.tqdm` instead of `tqdm.tqdm_notebook`\n",
            "  app.launch_new_instance()\n"
          ],
          "name": "stderr"
        },
        {
          "output_type": "display_data",
          "data": {
            "application/vnd.jupyter.widget-view+json": {
              "model_id": "6b88515be17c4370b38e003d035372c8",
              "version_minor": 0,
              "version_major": 2
            },
            "text/plain": [
              "HBox(children=(FloatProgress(value=1.0, bar_style='info', max=1.0), HTML(value='')))"
            ]
          },
          "metadata": {
            "tags": []
          }
        },
        {
          "output_type": "stream",
          "text": [
            "\n"
          ],
          "name": "stdout"
        },
        {
          "output_type": "stream",
          "text": [
            "/usr/local/lib/python3.7/dist-packages/ipykernel_launcher.py:22: TqdmDeprecationWarning: This function will be removed in tqdm==5.0.0\n",
            "Please use `tqdm.notebook.tqdm` instead of `tqdm.tqdm_notebook`\n"
          ],
          "name": "stderr"
        },
        {
          "output_type": "display_data",
          "data": {
            "application/vnd.jupyter.widget-view+json": {
              "model_id": "dec9d1a3e7264c9f9131efd9884c2c9e",
              "version_minor": 0,
              "version_major": 2
            },
            "text/plain": [
              "HBox(children=(FloatProgress(value=1.0, bar_style='info', max=1.0), HTML(value='')))"
            ]
          },
          "metadata": {
            "tags": []
          }
        },
        {
          "output_type": "stream",
          "text": [
            "\n"
          ],
          "name": "stdout"
        }
      ]
    },
    {
      "cell_type": "code",
      "metadata": {
        "colab": {
          "base_uri": "https://localhost:8080/",
          "height": 867
        },
        "id": "1WCvpIfVKGOW",
        "outputId": "6f4c2f00-e49e-4afd-ebe8-f71623ac41ae"
      },
      "source": [
        "data_test.sample(5)"
      ],
      "execution_count": null,
      "outputs": [
        {
          "output_type": "execute_result",
          "data": {
            "text/html": [
              "<div>\n",
              "<style scoped>\n",
              "    .dataframe tbody tr th:only-of-type {\n",
              "        vertical-align: middle;\n",
              "    }\n",
              "\n",
              "    .dataframe tbody tr th {\n",
              "        vertical-align: top;\n",
              "    }\n",
              "\n",
              "    .dataframe thead th {\n",
              "        text-align: right;\n",
              "    }\n",
              "</style>\n",
              "<table border=\"1\" class=\"dataframe\">\n",
              "  <thead>\n",
              "    <tr style=\"text-align: right;\">\n",
              "      <th></th>\n",
              "      <th>Unnamed: 0</th>\n",
              "      <th>INPUT:source</th>\n",
              "      <th>OUTPUT:output</th>\n",
              "      <th>trunctuation_bs</th>\n",
              "      <th>gpt_bs</th>\n",
              "      <th>src</th>\n",
              "      <th>dst</th>\n",
              "    </tr>\n",
              "  </thead>\n",
              "  <tbody>\n",
              "    <tr>\n",
              "      <th>302</th>\n",
              "      <td>1072</td>\n",
              "      <td>В настоящее время Австралия ведёт активную работу по установлению режима свободной торговли с Китаем — вторым после Японии внешнеторговым партнёром страны.</td>\n",
              "      <td>Австралия ведёт работу по установлению правил свободной торговли с Китаем. Это второй после Японии внешнеторговый партнёр страны.</td>\n",
              "      <td>В настоящее время Австралия ведёт активную работу по установлению режима свободной торговли.</td>\n",
              "      <td>В настоящее время Австралия ведёт активную работу по установлению режима свободной торговли с Китаем, а также в качестве государственного департамента Австралии.</td>\n",
              "      <td>Australia is currently working actively to establish a free trade regime with China, the country's second foreign trading partner after Japan.</td>\n",
              "      <td>Australia is working to establish free trade rules with China, the country's second foreign trade partner after Japan.</td>\n",
              "    </tr>\n",
              "    <tr>\n",
              "      <th>547</th>\n",
              "      <td>1746</td>\n",
              "      <td>В холодное время года даже вне полярных шапок на поверхности может образовываться светлый иней.</td>\n",
              "      <td>Во прохладный период года в том числе и за пределами противоположных шапок в плоскости способен формироваться яркий изморозь.</td>\n",
              "      <td>В холодное время года даже вне полярных шапок.</td>\n",
              "      <td>В холодное время года даже вне полярных шапок на поверхности может образовываться светлый или темный мех.</td>\n",
              "      <td>In the cold of the year, even outside the polar caps on the surface may form a light lumber.</td>\n",
              "      <td>In a cool period of the year, including beyond the opposite hats, a bright frost can form in a plane.</td>\n",
              "    </tr>\n",
              "    <tr>\n",
              "      <th>3061</th>\n",
              "      <td>8983</td>\n",
              "      <td>Там нет крупных ледников и озёр, живописных долин и зубчатых гребней гор, характерных для Альп.</td>\n",
              "      <td>Там нет ледников, озер, красивых долин и зубчатых гор как в Альпах.</td>\n",
              "      <td>Там нет крупных ледников и озёр, живописных долин и.</td>\n",
              "      <td>Там нет крупных ледников и озёр, живописных долин и зубчатых берегов.</td>\n",
              "      <td>There are no major glaciers and lakes, arty valleys, and sculpted mountain crests that characterize the Alps.</td>\n",
              "      <td>There are no glaciers, no lakes, no beautiful valleys, and no mountains like the Alps.</td>\n",
              "    </tr>\n",
              "    <tr>\n",
              "      <th>377</th>\n",
              "      <td>1272</td>\n",
              "      <td>В период правления Хрущёва произошёл значительный поворот экономики в сторону интересов самых широких масс народа.</td>\n",
              "      <td>При Хрущеве-поворот экономики</td>\n",
              "      <td>В период правления Хрущёва произошёл значительный поворот экономики в.</td>\n",
              "      <td>В период правления Хрущёва произошёл значительный поворот экономики в сторону интересов самых широких масс населения.</td>\n",
              "      <td>During the period of Khrushchev's reign, there was a significant shift in the economy towards the interests of the vast majority of the people.</td>\n",
              "      <td>At the Chrushchev turn of the economy</td>\n",
              "    </tr>\n",
              "    <tr>\n",
              "      <th>2149</th>\n",
              "      <td>6343</td>\n",
              "      <td>Платными остались парковки на вокзалах, в аэропортах и в нескольких специально выделенных зонах городского центра.</td>\n",
              "      <td>Парковки на вокзалах, в аэропортах и в нескольких  зонах города остались платными.</td>\n",
              "      <td>Платными остались парковки на вокзалах, в аэропортах и в.</td>\n",
              "      <td>Платными остались парковки на вокзалах, в аэропортах и в нескольких специальностях.</td>\n",
              "      <td>Parkings at train stations, airports and several designated areas of the city centre remained to be paid.</td>\n",
              "      <td>Parkings at train stations, airports and several areas of the city remained free of charge.</td>\n",
              "    </tr>\n",
              "  </tbody>\n",
              "</table>\n",
              "</div>"
            ],
            "text/plain": [
              "      Unnamed: 0                                                                                                                                                 INPUT:source                                                                                                                      OUTPUT:output                                                                               trunctuation_bs                                                                                                                                                             gpt_bs                                                                                                                                              src                                                                                                                     dst\n",
              "302         1072  В настоящее время Австралия ведёт активную работу по установлению режима свободной торговли с Китаем — вторым после Японии внешнеторговым партнёром страны.  Австралия ведёт работу по установлению правил свободной торговли с Китаем. Это второй после Японии внешнеторговый партнёр страны.  В настоящее время Австралия ведёт активную работу по установлению режима свободной торговли.  В настоящее время Австралия ведёт активную работу по установлению режима свободной торговли с Китаем, а также в качестве государственного департамента Австралии.   Australia is currently working actively to establish a free trade regime with China, the country's second foreign trading partner after Japan.  Australia is working to establish free trade rules with China, the country's second foreign trade partner after Japan.\n",
              "547         1746                                                              В холодное время года даже вне полярных шапок на поверхности может образовываться светлый иней.      Во прохладный период года в том числе и за пределами противоположных шапок в плоскости способен формироваться яркий изморозь.                                                В холодное время года даже вне полярных шапок.                                                          В холодное время года даже вне полярных шапок на поверхности может образовываться светлый или темный мех.                                                     In the cold of the year, even outside the polar caps on the surface may form a light lumber.                   In a cool period of the year, including beyond the opposite hats, a bright frost can form in a plane.\n",
              "3061        8983                                                              Там нет крупных ледников и озёр, живописных долин и зубчатых гребней гор, характерных для Альп.                                                                Там нет ледников, озер, красивых долин и зубчатых гор как в Альпах.                                          Там нет крупных ледников и озёр, живописных долин и.                                                                                              Там нет крупных ледников и озёр, живописных долин и зубчатых берегов.                                    There are no major glaciers and lakes, arty valleys, and sculpted mountain crests that characterize the Alps.                                  There are no glaciers, no lakes, no beautiful valleys, and no mountains like the Alps.\n",
              "377         1272                                           В период правления Хрущёва произошёл значительный поворот экономики в сторону интересов самых широких масс народа.                                                                                                      При Хрущеве-поворот экономики                        В период правления Хрущёва произошёл значительный поворот экономики в.                                              В период правления Хрущёва произошёл значительный поворот экономики в сторону интересов самых широких масс населения.  During the period of Khrushchev's reign, there was a significant shift in the economy towards the interests of the vast majority of the people.                                                                                   At the Chrushchev turn of the economy\n",
              "2149        6343                                           Платными остались парковки на вокзалах, в аэропортах и в нескольких специально выделенных зонах городского центра.                                                 Парковки на вокзалах, в аэропортах и в нескольких  зонах города остались платными.                                     Платными остались парковки на вокзалах, в аэропортах и в.                                                                                Платными остались парковки на вокзалах, в аэропортах и в нескольких специальностях.                                        Parkings at train stations, airports and several designated areas of the city centre remained to be paid.                             Parkings at train stations, airports and several areas of the city remained free of charge."
            ]
          },
          "metadata": {
            "tags": []
          },
          "execution_count": 12
        }
      ]
    },
    {
      "cell_type": "code",
      "metadata": {
        "id": "vazdukLCXQx7"
      },
      "source": [
        "#data_test = pd.read_csv('/content/drive/MyDrive/MT_sentence_simpl/wiki_test_dev_eng.csv', sep='\\t')"
      ],
      "execution_count": null,
      "outputs": []
    },
    {
      "cell_type": "markdown",
      "metadata": {
        "id": "vZNO35qn5AzB"
      },
      "source": [
        "## Inference stage"
      ]
    },
    {
      "cell_type": "markdown",
      "metadata": {
        "id": "4hbzdRKp5MId"
      },
      "source": [
        "There are 4 models with the following paths:\n",
        "* /content/drive/MyDrive/checkpoints_en_en/checkpoint_best.pt model for English\n",
        "* /content/drive/MyDrive/checkpoints_en-ru/checkpoint_best.pt model translated with eng source and ru destination\n",
        "* /content/drive/MyDrive/checkpoints_ru_ru/checkpoint_best.pt model trained only on the Russian data\n",
        "* /content/drive/MyDrive/checkpoints_en_ru_ru/checkpoint_best.pt model tuned firstly on english data and then on the russian one"
      ]
    },
    {
      "cell_type": "markdown",
      "metadata": {
        "id": "LRoNsu9Y6gFa"
      },
      "source": [
        "All the models will be evaluated according to the following aspects:\n",
        "\n",
        "* SARI\n",
        "* BLEU\n",
        "* FKGL\n",
        "* AWS and ASL\n",
        "* Grammar aspect"
      ]
    },
    {
      "cell_type": "markdown",
      "metadata": {
        "id": "RcB7PddZ8bV-"
      },
      "source": [
        "Also, it is necessary to make the following change in /content/fairseq/fairseq/tasks/translation_from_pretrained_bart.py:\n",
        "\n",
        "```\n",
        "def __init__(self, args, src_dict, tgt_dict):\n",
        "        super().__init__(args, src_dict, tgt_dict)\n",
        "        self.args = args                  # add this line !!!!!\n",
        "        self.langs = args.langs.split(\",\")\n",
        "        for d in [src_dict, tgt_dict]:\n",
        "            for l in self.langs:\n",
        "```\n"
      ]
    },
    {
      "cell_type": "markdown",
      "metadata": {
        "id": "ONXtgxCHB98i"
      },
      "source": [
        "### EN-EN model"
      ]
    },
    {
      "cell_type": "code",
      "metadata": {
        "id": "VvmE2MQLCyrg"
      },
      "source": [
        "! mkdir /content/fairseq/data"
      ],
      "execution_count": null,
      "outputs": []
    },
    {
      "cell_type": "code",
      "metadata": {
        "id": "En37K8pN6fnA"
      },
      "source": [
        "\n",
        "with open('/content/fairseq/data/train.src', \"a\") as f:\n",
        "  for i, row in data_train.iterrows():\n",
        "    f.write(row['src']+'\\n')\n",
        "\n",
        "with open('/content/fairseq/data/train.dst', \"a\") as f:\n",
        "  for i, row in data_train.iterrows():\n",
        "    f.write(row['dst']+'\\n')\n",
        "\n",
        "with open('/content/fairseq/data/dev.src', \"a\") as f:\n",
        "  for i, row in data_dev.iterrows():\n",
        "    f.write(row['src']+'\\n')\n",
        "\n",
        "with open('/content/fairseq/data/dev.dst', \"a\") as f:\n",
        "  for i, row in data_dev.iterrows():\n",
        "    f.write(row['dst']+'\\n')\n",
        "\n",
        "\n",
        "with open('/content/fairseq/data/test.src', \"a\") as f:\n",
        "  for i, row in data_test.iterrows():\n",
        "    f.write(row['src']+'\\n')\n",
        "\n",
        "with open('/content/fairseq/data/test.dst', \"a\") as f:\n",
        "  for i, row in data_test.iterrows():\n",
        "    f.write(row['dst']+'\\n')"
      ],
      "execution_count": null,
      "outputs": []
    },
    {
      "cell_type": "code",
      "metadata": {
        "id": "ysV9WsDl8HKg"
      },
      "source": [
        "SPM=\"/content/sentencepiece/build/src/spm_encode\"\n",
        "BPE_MODEL=\"/content/mbart.cc25.v2/sentence.bpe.model\"\n",
        "DATA_DIR=\"/content/fairseq/data\"\n",
        "SRC=\"src\"\n",
        "TGT=\"dst\"\n",
        "\n",
        "!$SPM --model=$BPE_MODEL < $DATA_DIR/train.$SRC > $DATA_DIR/train.spm.$SRC &\n",
        "!$SPM --model=$BPE_MODEL < $DATA_DIR/train.$TGT > $DATA_DIR/train.spm.$TGT &\n",
        "!$SPM --model=$BPE_MODEL < $DATA_DIR/dev.$SRC > $DATA_DIR/dev.spm.$SRC &\n",
        "!$SPM --model=$BPE_MODEL < $DATA_DIR/dev.$TGT > $DATA_DIR/dev.spm.$TGT &\n",
        "!$SPM --model=$BPE_MODEL < $DATA_DIR/test.$SRC > $DATA_DIR/test.spm.$SRC &\n",
        "!$SPM --model=$BPE_MODEL < $DATA_DIR/test.$TGT > $DATA_DIR/test.spm.$TGT &"
      ],
      "execution_count": null,
      "outputs": []
    },
    {
      "cell_type": "code",
      "metadata": {
        "colab": {
          "base_uri": "https://localhost:8080/"
        },
        "id": "VVuCZ5Oj8HOH",
        "outputId": "b4ae45c8-c049-42c6-de0c-84d46b526cdd"
      },
      "source": [
        "\n",
        "PREPROCESSED_DATA_DIR=\"/content/fairseq/data\"\n",
        "DICT=\"/content/mbart.cc25.v2/dict.txt\"\n",
        "!fairseq-preprocess \\\n",
        "  --source-lang src \\\n",
        "  --target-lang dst \\\n",
        "  --trainpref /content/fairseq/data/train.spm \\\n",
        "  --validpref /content/fairseq/data/dev.spm \\\n",
        "  --testpref /content/fairseq/data/test.spm \\\n",
        "  --destdir /content/fairseq/data \\\n",
        "  --thresholdtgt 0 \\\n",
        "  --thresholdsrc 0 \\\n",
        "  --srcdict /content/mbart.cc25.v2/dict.txt \\\n",
        "  --tgtdict /content/mbart.cc25.v2/dict.txt \\\n",
        "  --workers 70"
      ],
      "execution_count": null,
      "outputs": [
        {
          "output_type": "stream",
          "text": [
            "2021-04-23 00:40:48 | INFO | fairseq_cli.preprocess | Namespace(align_suffix=None, alignfile=None, all_gather_list_size=16384, azureml_logging=False, bf16=False, bpe=None, cpu=False, criterion='cross_entropy', dataset_impl='mmap', destdir='/content/fairseq/data', empty_cache_freq=0, fp16=False, fp16_init_scale=128, fp16_no_flatten_grads=False, fp16_scale_tolerance=0.0, fp16_scale_window=None, joined_dictionary=False, log_file=None, log_format=None, log_interval=100, lr_scheduler='fixed', memory_efficient_bf16=False, memory_efficient_fp16=False, min_loss_scale=0.0001, model_parallel_size=1, no_progress_bar=False, nwordssrc=-1, nwordstgt=-1, only_source=False, optimizer=None, padding_factor=8, plasma_path='/tmp/plasma', profile=False, quantization_config_path=None, reset_logging=False, scoring='bleu', seed=1, source_lang='src', srcdict='/content/mbart.cc25.v2/dict.txt', suppress_crashes=False, target_lang='dst', task='translation', tensorboard_logdir=None, testpref='/content/fairseq/data/test.spm', tgtdict='/content/mbart.cc25.v2/dict.txt', threshold_loss_scale=None, thresholdsrc=0, thresholdtgt=0, tokenizer=None, tpu=False, trainpref='/content/fairseq/data/train.spm', use_plasma_view=False, user_dir=None, validpref='/content/fairseq/data/dev.spm', wandb_project=None, workers=70)\n",
            "2021-04-23 00:40:49 | INFO | fairseq_cli.preprocess | [src] Dictionary: 250001 types\n",
            "2021-04-23 00:41:16 | INFO | fairseq_cli.preprocess | [src] /content/fairseq/data/train.spm.src: 246978 sents, 9182085 tokens, 0.0% replaced by <unk>\n",
            "2021-04-23 00:41:16 | INFO | fairseq_cli.preprocess | [src] Dictionary: 250001 types\n",
            "2021-04-23 00:41:24 | INFO | fairseq_cli.preprocess | [src] /content/fairseq/data/dev.spm.src: 768 sents, 28467 tokens, 0.0% replaced by <unk>\n",
            "2021-04-23 00:41:24 | INFO | fairseq_cli.preprocess | [src] Dictionary: 250001 types\n",
            "2021-04-23 00:41:33 | INFO | fairseq_cli.preprocess | [src] /content/fairseq/data/test.spm.src: 3406 sents, 110797 tokens, 0.0% replaced by <unk>\n",
            "2021-04-23 00:41:33 | INFO | fairseq_cli.preprocess | [dst] Dictionary: 250001 types\n",
            "2021-04-23 00:41:56 | INFO | fairseq_cli.preprocess | [dst] /content/fairseq/data/train.spm.dst: 246978 sents, 7232028 tokens, 0.0% replaced by <unk>\n",
            "2021-04-23 00:41:56 | INFO | fairseq_cli.preprocess | [dst] Dictionary: 250001 types\n",
            "2021-04-23 00:42:05 | INFO | fairseq_cli.preprocess | [dst] /content/fairseq/data/dev.spm.dst: 768 sents, 22875 tokens, 0.0% replaced by <unk>\n",
            "2021-04-23 00:42:05 | INFO | fairseq_cli.preprocess | [dst] Dictionary: 250001 types\n",
            "2021-04-23 00:42:13 | INFO | fairseq_cli.preprocess | [dst] /content/fairseq/data/test.spm.dst: 3406 sents, 78829 tokens, 0.0% replaced by <unk>\n",
            "2021-04-23 00:42:13 | INFO | fairseq_cli.preprocess | Wrote preprocessed data to /content/fairseq/data\n"
          ],
          "name": "stdout"
        }
      ]
    },
    {
      "cell_type": "code",
      "metadata": {
        "colab": {
          "base_uri": "https://localhost:8080/"
        },
        "id": "jCQnRyrp8HRq",
        "outputId": "83081360-5ae6-4d75-bf20-b0fa3c239c7d"
      },
      "source": [
        "! pip install sentencepiece"
      ],
      "execution_count": null,
      "outputs": [
        {
          "output_type": "stream",
          "text": [
            "Requirement already satisfied: sentencepiece in /usr/local/lib/python3.7/dist-packages (0.1.95)\n"
          ],
          "name": "stdout"
        }
      ]
    },
    {
      "cell_type": "code",
      "metadata": {
        "id": "nKRYm1ZiLcVu"
      },
      "source": [
        "! mkdir /content/drive/MyDrive/MT_sentence_simpl/predictions"
      ],
      "execution_count": null,
      "outputs": []
    },
    {
      "cell_type": "code",
      "metadata": {
        "colab": {
          "base_uri": "https://localhost:8080/"
        },
        "id": "HeQ0bR-p8i0R",
        "outputId": "e5df8473-69de-49db-fcee-dfc1b4b4ad46"
      },
      "source": [
        "!fairseq-generate /content/fairseq/data \\\n",
        "  --path  /content/drive/MyDrive/checkpoints_en_en/checkpoint_best.pt \\\n",
        "  --task translation_from_pretrained_bart \\\n",
        "  --gen-subset test \\\n",
        "  --source-lang src --target-lang dst \\\n",
        "  --bpe 'sentencepiece' --sentencepiece-model /content/mbart.cc25.v2/sentence.bpe.model \\\n",
        "  --sacrebleu --remove-bpe 'sentencepiece' \\\n",
        "  --batch-size 16 --langs ar_AR,cs_CZ,de_DE,en_XX,es_XX,et_EE,fi_FI,fr_XX,gu_IN,hi_IN,it_IT,ja_XX,kk_KZ,ko_KR,lt_LT,lv_LV,my_MM,ne_NP,nl_XX,ro_RO,ru_RU,si_LK,tr_TR,vi_VN,zh_CN > model_prediction.txt & \n",
        "!cat model_prediction.txt | grep -P \"^H\" |sort -V |cut -f 3- > model_prediction_en_en.hyp\n"
      ],
      "execution_count": null,
      "outputs": [
        {
          "output_type": "stream",
          "text": [
            ""
          ],
          "name": "stdout"
        }
      ]
    },
    {
      "cell_type": "code",
      "metadata": {
        "id": "TrADv6-4LotM"
      },
      "source": [
        "! cp /content/model_prediction_en_en.hyp /content/drive/MyDrive/MT_sentence_simpl/predictions/model_prediction_en_en.hyp"
      ],
      "execution_count": null,
      "outputs": []
    },
    {
      "cell_type": "markdown",
      "metadata": {
        "id": "GJTb3XzNGm9r"
      },
      "source": [
        "### EN-RU model"
      ]
    },
    {
      "cell_type": "code",
      "metadata": {
        "id": "wXVlEj7TG3sl"
      },
      "source": [
        "with open('/content/fairseq/data/train.en', \"a\") as f:\n",
        "  for i, row in data_train.iterrows():\n",
        "    f.write(row['src']+'\\n')\n",
        "\n",
        "with open('/content/fairseq/data/train.ru', \"a\") as f:\n",
        "  for i, row in data_train.iterrows():\n",
        "    f.write(row['target_y']+'\\n')\n",
        "\n",
        "with open('/content/fairseq/data/dev.en', \"a\") as f:\n",
        "  for i, row in data_dev.iterrows():\n",
        "    f.write(row['src']+'\\n')\n",
        "\n",
        "with open('/content/fairseq/data/dev.ru', \"a\") as f:\n",
        "  for i, row in data_dev.iterrows():\n",
        "    f.write(row['target_y']+'\\n')\n",
        "\n",
        "\n",
        "with open('/content/fairseq/data/test.en', \"a\") as f:\n",
        "  for i, row in data_test.iterrows():\n",
        "    f.write(row['src']+'\\n')\n",
        "\n",
        "with open('/content/fairseq/data/test.ru', \"a\") as f:\n",
        "  for i, row in data_test.iterrows():\n",
        "    f.write(row['OUTPUT:output']+'\\n')"
      ],
      "execution_count": null,
      "outputs": []
    },
    {
      "cell_type": "code",
      "metadata": {
        "id": "z54m-55T8ocS"
      },
      "source": [
        "SPM=\"/content/sentencepiece/build/src/spm_encode\"\n",
        "BPE_MODEL=\"/content/mbart.cc25.v2/sentence.bpe.model\"\n",
        "DATA_DIR=\"/content/fairseq/data\"\n",
        "SRC=\"en\"\n",
        "TGT=\"ru\"\n",
        "\n",
        "!$SPM --model=$BPE_MODEL < $DATA_DIR/train.$SRC > $DATA_DIR/train.spm.$SRC &\n",
        "!$SPM --model=$BPE_MODEL < $DATA_DIR/train.$TGT > $DATA_DIR/train.spm.$TGT &\n",
        "!$SPM --model=$BPE_MODEL < $DATA_DIR/dev.$SRC > $DATA_DIR/dev.spm.$SRC &\n",
        "!$SPM --model=$BPE_MODEL < $DATA_DIR/dev.$TGT > $DATA_DIR/dev.spm.$TGT &\n",
        "!$SPM --model=$BPE_MODEL < $DATA_DIR/test.$SRC > $DATA_DIR/test.spm.$SRC &\n",
        "!$SPM --model=$BPE_MODEL < $DATA_DIR/test.$TGT > $DATA_DIR/test.spm.$TGT &\n"
      ],
      "execution_count": null,
      "outputs": []
    },
    {
      "cell_type": "code",
      "metadata": {
        "colab": {
          "base_uri": "https://localhost:8080/"
        },
        "id": "uzWTisAy8o5r",
        "outputId": "e446882d-235e-46ac-c652-1c19710a6b81"
      },
      "source": [
        "PREPROCESSED_DATA_DIR=\"/content/fairseq/data\"\n",
        "DICT=\"/content/mbart.cc25.v2/dict.txt\"\n",
        "!fairseq-preprocess \\\n",
        "  --source-lang en \\\n",
        "  --target-lang ru \\\n",
        "  --trainpref /content/fairseq/data/train.spm \\\n",
        "  --validpref /content/fairseq/data/dev.spm \\\n",
        "  --testpref /content/fairseq/data/test.spm \\\n",
        "  --destdir /content/fairseq/data \\\n",
        "  --thresholdtgt 0 \\\n",
        "  --thresholdsrc 0 \\\n",
        "  --srcdict /content/mbart.cc25.v2/dict.txt \\\n",
        "  --tgtdict /content/mbart.cc25.v2/dict.txt \\\n",
        "  --workers 70\n"
      ],
      "execution_count": null,
      "outputs": [
        {
          "output_type": "stream",
          "text": [
            "2021-04-23 01:03:55 | INFO | fairseq_cli.preprocess | Namespace(align_suffix=None, alignfile=None, all_gather_list_size=16384, azureml_logging=False, bf16=False, bpe=None, cpu=False, criterion='cross_entropy', dataset_impl='mmap', destdir='/content/fairseq/data', empty_cache_freq=0, fp16=False, fp16_init_scale=128, fp16_no_flatten_grads=False, fp16_scale_tolerance=0.0, fp16_scale_window=None, joined_dictionary=False, log_file=None, log_format=None, log_interval=100, lr_scheduler='fixed', memory_efficient_bf16=False, memory_efficient_fp16=False, min_loss_scale=0.0001, model_parallel_size=1, no_progress_bar=False, nwordssrc=-1, nwordstgt=-1, only_source=False, optimizer=None, padding_factor=8, plasma_path='/tmp/plasma', profile=False, quantization_config_path=None, reset_logging=False, scoring='bleu', seed=1, source_lang='en', srcdict='/content/mbart.cc25.v2/dict.txt', suppress_crashes=False, target_lang='ru', task='translation', tensorboard_logdir=None, testpref='/content/fairseq/data/test.spm', tgtdict='/content/mbart.cc25.v2/dict.txt', threshold_loss_scale=None, thresholdsrc=0, thresholdtgt=0, tokenizer=None, tpu=False, trainpref='/content/fairseq/data/train.spm', use_plasma_view=False, user_dir=None, validpref='/content/fairseq/data/dev.spm', wandb_project=None, workers=70)\n",
            "2021-04-23 01:03:57 | INFO | fairseq_cli.preprocess | [en] Dictionary: 250001 types\n",
            "2021-04-23 01:04:24 | INFO | fairseq_cli.preprocess | [en] /content/fairseq/data/train.spm.en: 246978 sents, 9182085 tokens, 0.0% replaced by <unk>\n",
            "2021-04-23 01:04:24 | INFO | fairseq_cli.preprocess | [en] Dictionary: 250001 types\n",
            "2021-04-23 01:04:33 | INFO | fairseq_cli.preprocess | [en] /content/fairseq/data/dev.spm.en: 768 sents, 28467 tokens, 0.0% replaced by <unk>\n",
            "2021-04-23 01:04:33 | INFO | fairseq_cli.preprocess | [en] Dictionary: 250001 types\n",
            "2021-04-23 01:04:42 | INFO | fairseq_cli.preprocess | [en] /content/fairseq/data/test.spm.en: 3406 sents, 110797 tokens, 0.0% replaced by <unk>\n",
            "2021-04-23 01:04:42 | INFO | fairseq_cli.preprocess | [ru] Dictionary: 250001 types\n",
            "2021-04-23 01:05:09 | INFO | fairseq_cli.preprocess | [ru] /content/fairseq/data/train.spm.ru: 246978 sents, 7464137 tokens, 0.0% replaced by <unk>\n",
            "2021-04-23 01:05:09 | INFO | fairseq_cli.preprocess | [ru] Dictionary: 250001 types\n",
            "2021-04-23 01:05:18 | INFO | fairseq_cli.preprocess | [ru] /content/fairseq/data/dev.spm.ru: 768 sents, 23598 tokens, 0.0% replaced by <unk>\n",
            "2021-04-23 01:05:18 | INFO | fairseq_cli.preprocess | [ru] Dictionary: 250001 types\n",
            "2021-04-23 01:05:27 | INFO | fairseq_cli.preprocess | [ru] /content/fairseq/data/test.spm.ru: 3406 sents, 82186 tokens, 0.0% replaced by <unk>\n",
            "2021-04-23 01:05:27 | INFO | fairseq_cli.preprocess | Wrote preprocessed data to /content/fairseq/data\n"
          ],
          "name": "stdout"
        }
      ]
    },
    {
      "cell_type": "code",
      "metadata": {
        "colab": {
          "base_uri": "https://localhost:8080/"
        },
        "id": "vG0B4ejYHUZz",
        "outputId": "72ed2791-37d1-4d8c-e2cf-6ac2184bef3b"
      },
      "source": [
        "!fairseq-generate /content/fairseq/data \\\n",
        "  --path  /content/drive/MyDrive/checkpoints_en-ru/checkpoint_best.pt \\\n",
        "  --task translation_from_pretrained_bart \\\n",
        "  --gen-subset test \\\n",
        "  --source-lang en --target-lang ru \\\n",
        "  --bpe 'sentencepiece' --sentencepiece-model /content/mbart.cc25.v2/sentence.bpe.model \\\n",
        "  --sacrebleu --remove-bpe 'sentencepiece' \\\n",
        "  --batch-size 16 --langs ar_AR,cs_CZ,de_DE,en_XX,es_XX,et_EE,fi_FI,fr_XX,gu_IN,hi_IN,it_IT,ja_XX,kk_KZ,ko_KR,lt_LT,lv_LV,my_MM,ne_NP,nl_XX,ro_RO,ru_RU,si_LK,tr_TR,vi_VN,zh_CN > model_prediction.txt & \n",
        "!cat model_prediction.txt | grep -P \"^H\" |sort -V |cut -f 3- > model_prediction_en_ru.hyp\n"
      ],
      "execution_count": null,
      "outputs": [
        {
          "output_type": "stream",
          "text": [
            ""
          ],
          "name": "stdout"
        }
      ]
    },
    {
      "cell_type": "code",
      "metadata": {
        "id": "bYKyQrMaQWu8"
      },
      "source": [
        "! cp /content/model_prediction_en_ru.hyp /content/drive/MyDrive/MT_sentence_simpl/predictions/model_prediction_en_ru.hyp"
      ],
      "execution_count": null,
      "outputs": []
    },
    {
      "cell_type": "code",
      "metadata": {
        "id": "2jQ7e-BQeI9w"
      },
      "source": [
        "! rm -r /content/fairseq/data"
      ],
      "execution_count": null,
      "outputs": []
    },
    {
      "cell_type": "code",
      "metadata": {
        "id": "5EckN9_PeUeh"
      },
      "source": [
        "! mkdir /content/fairseq/data"
      ],
      "execution_count": null,
      "outputs": []
    },
    {
      "cell_type": "markdown",
      "metadata": {
        "id": "SrwPK7aSHZoX"
      },
      "source": [
        "### RU-RU model"
      ]
    },
    {
      "cell_type": "code",
      "metadata": {
        "id": "k6N0ufOfHiki"
      },
      "source": [
        "with open('/content/fairseq/data/train.src', \"a\") as f:\n",
        "  for i, row in data_train.iterrows():\n",
        "    f.write(row['target_x']+'\\n')\n",
        "\n",
        "with open('/content/fairseq/data/train.dst', \"a\") as f:\n",
        "  for i, row in data_train.iterrows():\n",
        "    f.write(row['target_y']+'\\n')\n",
        "\n",
        "with open('/content/fairseq/data/dev.src', \"a\") as f:\n",
        "  for i, row in data_dev.iterrows():\n",
        "    f.write(row['target_x']+'\\n')\n",
        "\n",
        "with open('/content/fairseq/data/dev.dst', \"a\") as f:\n",
        "  for i, row in data_dev.iterrows():\n",
        "    f.write(row['target_y']+'\\n')\n",
        "\n",
        "\n",
        "with open('/content/fairseq/data/test.src', \"a\") as f:\n",
        "  for i, row in data_test.iterrows():\n",
        "    f.write(row['INPUT:source']+'\\n')\n",
        "\n",
        "with open('/content/fairseq/data/test.dst', \"a\") as f:\n",
        "  for i, row in data_test.iterrows():\n",
        "    f.write(row['OUTPUT:output']+'\\n')"
      ],
      "execution_count": null,
      "outputs": []
    },
    {
      "cell_type": "code",
      "metadata": {
        "id": "S_uf6MLFXFuv"
      },
      "source": [
        "data_test.head()"
      ],
      "execution_count": null,
      "outputs": []
    },
    {
      "cell_type": "code",
      "metadata": {
        "id": "43O4IDVBH2MY"
      },
      "source": [
        "SPM=\"/content/sentencepiece/build/src/spm_encode\"\n",
        "BPE_MODEL=\"/content/mbart.cc25.v2/sentence.bpe.model\"\n",
        "DATA_DIR=\"/content/fairseq/data\"\n",
        "SRC=\"src\"\n",
        "TGT=\"dst\"\n",
        "\n",
        "!$SPM --model=$BPE_MODEL < $DATA_DIR/train.$SRC > $DATA_DIR/train.spm.$SRC &\n",
        "!$SPM --model=$BPE_MODEL < $DATA_DIR/train.$TGT > $DATA_DIR/train.spm.$TGT &\n",
        "!$SPM --model=$BPE_MODEL < $DATA_DIR/dev.$SRC > $DATA_DIR/dev.spm.$SRC &\n",
        "!$SPM --model=$BPE_MODEL < $DATA_DIR/dev.$TGT > $DATA_DIR/dev.spm.$TGT &\n",
        "!$SPM --model=$BPE_MODEL < $DATA_DIR/test.$SRC > $DATA_DIR/test.spm.$SRC &\n",
        "!$SPM --model=$BPE_MODEL < $DATA_DIR/test.$TGT > $DATA_DIR/test.spm.$TGT &\n"
      ],
      "execution_count": null,
      "outputs": []
    },
    {
      "cell_type": "code",
      "metadata": {
        "colab": {
          "base_uri": "https://localhost:8080/"
        },
        "id": "GeU1zKgxf7Tp",
        "outputId": "135cf520-aa69-4963-80f1-744ca98f07d6"
      },
      "source": [
        "PREPROCESSED_DATA_DIR=\"/content/fairseq/data\"\n",
        "DICT=\"/content/mbart.cc25.v2/dict.txt\"\n",
        "!fairseq-preprocess \\\n",
        "  --source-lang src \\\n",
        "  --target-lang dst \\\n",
        "  --trainpref /content/fairseq/data/train.spm \\\n",
        "  --validpref /content/fairseq/data/dev.spm \\\n",
        "  --testpref /content/fairseq/data/test.spm \\\n",
        "  --destdir /content/fairseq/data \\\n",
        "  --thresholdtgt 0 \\\n",
        "  --thresholdsrc 0 \\\n",
        "  --srcdict /content/mbart.cc25.v2/dict.txt \\\n",
        "  --tgtdict /content/mbart.cc25.v2/dict.txt \\\n",
        "  --workers 70\n"
      ],
      "execution_count": null,
      "outputs": [
        {
          "output_type": "stream",
          "text": [
            "2021-04-23 02:12:23 | INFO | fairseq_cli.preprocess | Namespace(align_suffix=None, alignfile=None, all_gather_list_size=16384, azureml_logging=False, bf16=False, bpe=None, cpu=False, criterion='cross_entropy', dataset_impl='mmap', destdir='/content/fairseq/data', empty_cache_freq=0, fp16=False, fp16_init_scale=128, fp16_no_flatten_grads=False, fp16_scale_tolerance=0.0, fp16_scale_window=None, joined_dictionary=False, log_file=None, log_format=None, log_interval=100, lr_scheduler='fixed', memory_efficient_bf16=False, memory_efficient_fp16=False, min_loss_scale=0.0001, model_parallel_size=1, no_progress_bar=False, nwordssrc=-1, nwordstgt=-1, only_source=False, optimizer=None, padding_factor=8, plasma_path='/tmp/plasma', profile=False, quantization_config_path=None, reset_logging=False, scoring='bleu', seed=1, source_lang='src', srcdict='/content/mbart.cc25.v2/dict.txt', suppress_crashes=False, target_lang='dst', task='translation', tensorboard_logdir=None, testpref='/content/fairseq/data/test.spm', tgtdict='/content/mbart.cc25.v2/dict.txt', threshold_loss_scale=None, thresholdsrc=0, thresholdtgt=0, tokenizer=None, tpu=False, trainpref='/content/fairseq/data/train.spm', use_plasma_view=False, user_dir=None, validpref='/content/fairseq/data/dev.spm', wandb_project=None, workers=70)\n",
            "2021-04-23 02:12:24 | INFO | fairseq_cli.preprocess | [src] Dictionary: 250001 types\n",
            "2021-04-23 02:12:55 | INFO | fairseq_cli.preprocess | [src] /content/fairseq/data/train.spm.src: 246978 sents, 9546901 tokens, 0.0% replaced by <unk>\n",
            "2021-04-23 02:12:55 | INFO | fairseq_cli.preprocess | [src] Dictionary: 250001 types\n",
            "2021-04-23 02:13:04 | INFO | fairseq_cli.preprocess | [src] /content/fairseq/data/dev.spm.src: 768 sents, 29739 tokens, 0.0% replaced by <unk>\n",
            "2021-04-23 02:13:04 | INFO | fairseq_cli.preprocess | [src] Dictionary: 250001 types\n",
            "2021-04-23 02:13:13 | INFO | fairseq_cli.preprocess | [src] /content/fairseq/data/test.spm.src: 3406 sents, 118537 tokens, 0.0% replaced by <unk>\n",
            "2021-04-23 02:13:13 | INFO | fairseq_cli.preprocess | [dst] Dictionary: 250001 types\n",
            "2021-04-23 02:13:41 | INFO | fairseq_cli.preprocess | [dst] /content/fairseq/data/train.spm.dst: 246978 sents, 7464137 tokens, 0.0% replaced by <unk>\n",
            "2021-04-23 02:13:41 | INFO | fairseq_cli.preprocess | [dst] Dictionary: 250001 types\n",
            "2021-04-23 02:13:50 | INFO | fairseq_cli.preprocess | [dst] /content/fairseq/data/dev.spm.dst: 768 sents, 23598 tokens, 0.0% replaced by <unk>\n",
            "2021-04-23 02:13:50 | INFO | fairseq_cli.preprocess | [dst] Dictionary: 250001 types\n",
            "2021-04-23 02:13:59 | INFO | fairseq_cli.preprocess | [dst] /content/fairseq/data/test.spm.dst: 3406 sents, 82186 tokens, 0.0% replaced by <unk>\n",
            "2021-04-23 02:13:59 | INFO | fairseq_cli.preprocess | Wrote preprocessed data to /content/fairseq/data\n"
          ],
          "name": "stdout"
        }
      ]
    },
    {
      "cell_type": "code",
      "metadata": {
        "colab": {
          "base_uri": "https://localhost:8080/"
        },
        "id": "0mycAVVtH6S9",
        "outputId": "84bd4ac9-00f5-4225-f24d-e906d4840d79"
      },
      "source": [
        "!fairseq-generate /content/fairseq/data \\\n",
        "  --path  /content/drive/MyDrive/checkpoints_ru_ru/checkpoint_best.pt \\\n",
        "  --task translation_from_pretrained_bart \\\n",
        "  --gen-subset test \\\n",
        "  --source-lang src --target-lang dst \\\n",
        "  --bpe 'sentencepiece' --sentencepiece-model /content/mbart.cc25.v2/sentence.bpe.model \\\n",
        "  --sacrebleu --remove-bpe 'sentencepiece' \\\n",
        "  --batch-size 16 --langs ar_AR,cs_CZ,de_DE,en_XX,es_XX,et_EE,fi_FI,fr_XX,gu_IN,hi_IN,it_IT,ja_XX,kk_KZ,ko_KR,lt_LT,lv_LV,my_MM,ne_NP,nl_XX,ro_RO,ru_RU,si_LK,tr_TR,vi_VN,zh_CN > model_prediction.txt & \n",
        "!cat model_prediction.txt | grep -P \"^H\" |sort -V |cut -f 3- > model_prediction_ru_ru.hyp\n"
      ],
      "execution_count": null,
      "outputs": [
        {
          "output_type": "stream",
          "text": [
            ""
          ],
          "name": "stdout"
        }
      ]
    },
    {
      "cell_type": "code",
      "metadata": {
        "id": "dfiYY_d9T0jj"
      },
      "source": [
        "! cp /content/model_prediction_ru_ru.hyp /content/drive/MyDrive/MT_sentence_simpl/predictions/model_prediction_ru_ru.hyp"
      ],
      "execution_count": null,
      "outputs": []
    },
    {
      "cell_type": "code",
      "metadata": {
        "id": "L7kdTJPub-e2"
      },
      "source": [
        "! cp /content/model_prediction_ru_ru_very_strange.hyp /content/drive/MyDrive/MT_sentence_simpl/predictions/model_prediction_ru_ru_very_strange.hyp"
      ],
      "execution_count": null,
      "outputs": []
    },
    {
      "cell_type": "markdown",
      "metadata": {
        "id": "O3KCUIM7H-8s"
      },
      "source": [
        "### EN-EN + RU-RU"
      ]
    },
    {
      "cell_type": "code",
      "metadata": {
        "colab": {
          "base_uri": "https://localhost:8080/"
        },
        "id": "5OemmpHvIFN1",
        "outputId": "446046ba-0778-4389-c052-704679fbf4ef"
      },
      "source": [
        "!fairseq-generate /content/fairseq/data \\\n",
        "  --path  /content/drive/MyDrive/checkpoints_en_ru_ru/checkpoint_best.pt \\\n",
        "  --task translation_from_pretrained_bart \\\n",
        "  --gen-subset test \\\n",
        "  --source-lang src --target-lang dst \\\n",
        "  --bpe 'sentencepiece' --sentencepiece-model /content/mbart.cc25.v2/sentence.bpe.model \\\n",
        "  --sacrebleu --remove-bpe 'sentencepiece' \\\n",
        "  --batch-size 16 --langs ar_AR,cs_CZ,de_DE,en_XX,es_XX,et_EE,fi_FI,fr_XX,gu_IN,hi_IN,it_IT,ja_XX,kk_KZ,ko_KR,lt_LT,lv_LV,my_MM,ne_NP,nl_XX,ro_RO,ru_RU,si_LK,tr_TR,vi_VN,zh_CN > model_prediction.txt & \n",
        "!cat model_prediction.txt | grep -P \"^H\" |sort -V |cut -f 3- > model_prediction_en_ru_ru.hyp\n"
      ],
      "execution_count": null,
      "outputs": [
        {
          "output_type": "stream",
          "text": [
            ""
          ],
          "name": "stdout"
        }
      ]
    },
    {
      "cell_type": "code",
      "metadata": {
        "id": "ElE9bIQZi9kk"
      },
      "source": [
        "! cp /content/model_prediction_en_ru_ru.hyp /content/drive/MyDrive/MT_sentence_simpl/predictions/model_prediction_en_ru_ru.hyp"
      ],
      "execution_count": null,
      "outputs": []
    },
    {
      "cell_type": "markdown",
      "metadata": {
        "id": "4xASXgc4lwE7"
      },
      "source": [
        "# Evaluation"
      ]
    },
    {
      "cell_type": "markdown",
      "metadata": {
        "id": "reCssOhVmE-V"
      },
      "source": [
        "## SARI"
      ]
    },
    {
      "cell_type": "markdown",
      "metadata": {
        "id": "GMTg-GIdmDUf"
      },
      "source": [
        "EN-EN"
      ]
    },
    {
      "cell_type": "code",
      "metadata": {
        "colab": {
          "base_uri": "https://localhost:8080/"
        },
        "id": "rPuclJ_1l2t-",
        "outputId": "18f6e0b6-468e-42eb-ad14-cc9350c234f5"
      },
      "source": [
        "! python /content/sent_simplification/refs_to_easse_format.py \\\n",
        "--input_path /content/drive/MyDrive/MT_sentence_simpl/wiki_test_dev_eng.csv \\\n",
        "--output_dataset_name test_ref_data \\\n",
        "--src_column \"src\" \\\n",
        "--trg_column \"dst\" \\\n",
        "--output_dir /content/prepared_data"
      ],
      "execution_count": null,
      "outputs": [
        {
          "output_type": "stream",
          "text": [
            "1000\n",
            "3406\n",
            "3401\n",
            "Overall number of references: 3401\n"
          ],
          "name": "stdout"
        }
      ]
    },
    {
      "cell_type": "code",
      "metadata": {
        "colab": {
          "base_uri": "https://localhost:8080/"
        },
        "id": "24Sd947jl2xU",
        "outputId": "376c36ef-f269-4b1b-e83a-b0bf654fee42"
      },
      "source": [
        "! easse evaluate \\\n",
        "--test_set custom \\\n",
        "--metrics sari \\\n",
        "--refs_sents_paths /content/prepared_data/test_ref_data.ref.0,/content/prepared_data/test_ref_data.ref.1,/content/prepared_data/test_ref_data.ref.2,/content/prepared_data/test_ref_data.ref.3,/content/prepared_data/test_ref_data.ref.4 \\\n",
        "--orig_sents_path /content/prepared_data/test_ref_data.src \\\n",
        "--sys_sents_path /content/model_prediction_en_en.hyp -q"
      ],
      "execution_count": null,
      "outputs": [
        {
          "output_type": "stream",
          "text": [
            "{'sari': 32.809, 'quality_estimation': {'Compression ratio': 0.98, 'Sentence splits': 1.038, 'Levenshtein similarity': 0.417, 'Exact copies': 0.0, 'Additions proportion': 0.669, 'Deletions proportion': 0.74, 'Lexical complexity score': 8.352}}\n"
          ],
          "name": "stdout"
        }
      ]
    },
    {
      "cell_type": "markdown",
      "metadata": {
        "id": "E9sKt3bimi0w"
      },
      "source": [
        "EN-RU"
      ]
    },
    {
      "cell_type": "code",
      "metadata": {
        "id": "kP5FAh1pmrUL"
      },
      "source": [
        "! rm -r /content/prepared_data\n",
        "! mkdir /content/prepared_data"
      ],
      "execution_count": null,
      "outputs": []
    },
    {
      "cell_type": "code",
      "metadata": {
        "colab": {
          "base_uri": "https://localhost:8080/"
        },
        "id": "QOlQ2ii2l2zq",
        "outputId": "429b9da4-4424-4894-9928-4b6dc0247022"
      },
      "source": [
        "! python /content/sent_simplification/refs_to_easse_format.py \\\n",
        "--input_path /content/drive/MyDrive/MT_sentence_simpl/wiki_test_dev_eng.csv \\\n",
        "--output_dataset_name test_ref_data \\\n",
        "--src_column \"src\" \\\n",
        "--trg_column \"OUTPUT:output\" \\\n",
        "--output_dir /content/prepared_data"
      ],
      "execution_count": null,
      "outputs": [
        {
          "output_type": "stream",
          "text": [
            "1000\n",
            "3406\n",
            "3406\n",
            "Overall number of references: 3406\n"
          ],
          "name": "stdout"
        }
      ]
    },
    {
      "cell_type": "code",
      "metadata": {
        "colab": {
          "base_uri": "https://localhost:8080/"
        },
        "id": "aOix7UU2l23V",
        "outputId": "6fb21889-9201-476b-8130-b5aad811671b"
      },
      "source": [
        "! easse evaluate \\\n",
        "--test_set custom \\\n",
        "--metrics sari \\\n",
        "--refs_sents_paths /content/prepared_data/test_ref_data.ref.0,/content/prepared_data/test_ref_data.ref.1,/content/prepared_data/test_ref_data.ref.2,/content/prepared_data/test_ref_data.ref.3,/content/prepared_data/test_ref_data.ref.4 \\\n",
        "--orig_sents_path /content/prepared_data/test_ref_data.src \\\n",
        "--sys_sents_path /content/model_prediction_en_ru.hyp -q"
      ],
      "execution_count": null,
      "outputs": [
        {
          "output_type": "stream",
          "text": [
            "{'sari': 39.846, 'quality_estimation': {'Compression ratio': 0.942, 'Sentence splits': 1.005, 'Levenshtein similarity': 0.15, 'Exact copies': 0.0, 'Additions proportion': 0.652, 'Deletions proportion': 0.898, 'Lexical complexity score': 10.476}}\n"
          ],
          "name": "stdout"
        }
      ]
    },
    {
      "cell_type": "markdown",
      "metadata": {
        "id": "xGKrRsSJnMVY"
      },
      "source": [
        "RU-RU"
      ]
    },
    {
      "cell_type": "code",
      "metadata": {
        "id": "t4hqe13gnK7x"
      },
      "source": [
        "! rm -r /content/prepared_data\n",
        "! mkdir /content/prepared_data"
      ],
      "execution_count": null,
      "outputs": []
    },
    {
      "cell_type": "code",
      "metadata": {
        "colab": {
          "base_uri": "https://localhost:8080/"
        },
        "id": "22Ekp2NjnUJY",
        "outputId": "b8082155-ab34-48b5-c767-8408782d4583"
      },
      "source": [
        "! python /content/sent_simplification/refs_to_easse_format.py \\\n",
        "--input_path /content/drive/MyDrive/MT_sentence_simpl/wiki_test_dev_eng.csv \\\n",
        "--output_dataset_name test_ref_data \\\n",
        "--src_column \"INPUT:source\" \\\n",
        "--trg_column \"OUTPUT:output\" \\\n",
        "--output_dir /content/prepared_data"
      ],
      "execution_count": null,
      "outputs": [
        {
          "output_type": "stream",
          "text": [
            "1000\n",
            "3406\n",
            "3406\n",
            "Overall number of references: 3406\n"
          ],
          "name": "stdout"
        }
      ]
    },
    {
      "cell_type": "code",
      "metadata": {
        "colab": {
          "base_uri": "https://localhost:8080/"
        },
        "id": "NtW8mnKSndsn",
        "outputId": "4729883f-cae9-4dd9-e866-8d17cadb87f4"
      },
      "source": [
        "! easse evaluate \\\n",
        "--test_set custom \\\n",
        "--metrics sari \\\n",
        "--refs_sents_paths /content/prepared_data/test_ref_data.ref.0,/content/prepared_data/test_ref_data.ref.1,/content/prepared_data/test_ref_data.ref.2,/content/prepared_data/test_ref_data.ref.3,/content/prepared_data/test_ref_data.ref.4 \\\n",
        "--orig_sents_path /content/prepared_data/test_ref_data.src \\\n",
        "--sys_sents_path /content/model_prediction_ru_ru.hyp -q"
      ],
      "execution_count": null,
      "outputs": [
        {
          "output_type": "stream",
          "text": [
            "{'sari': 32.486, 'quality_estimation': {'Compression ratio': 1.0, 'Sentence splits': 1.01, 'Levenshtein similarity': 0.373, 'Exact copies': 0.002, 'Additions proportion': 0.754, 'Deletions proportion': 0.805, 'Lexical complexity score': 10.658}}\n"
          ],
          "name": "stdout"
        }
      ]
    },
    {
      "cell_type": "markdown",
      "metadata": {
        "id": "u4_yG0DWnkR0"
      },
      "source": [
        "En-Ru-Ru"
      ]
    },
    {
      "cell_type": "code",
      "metadata": {
        "colab": {
          "base_uri": "https://localhost:8080/"
        },
        "id": "umx76qypnghl",
        "outputId": "62753b98-9e13-4b6a-89ff-ab6c52483e75"
      },
      "source": [
        "! easse evaluate \\\n",
        "--test_set custom \\\n",
        "--metrics sari \\\n",
        "--refs_sents_paths /content/prepared_data/test_ref_data.ref.0,/content/prepared_data/test_ref_data.ref.1,/content/prepared_data/test_ref_data.ref.2,/content/prepared_data/test_ref_data.ref.3,/content/prepared_data/test_ref_data.ref.4 \\\n",
        "--orig_sents_path /content/prepared_data/test_ref_data.src \\\n",
        "--sys_sents_path /content/model_prediction_en_ru_ru.hyp -q"
      ],
      "execution_count": null,
      "outputs": [
        {
          "output_type": "stream",
          "text": [
            "{'sari': 32.495, 'quality_estimation': {'Compression ratio': 0.999, 'Sentence splits': 1.01, 'Levenshtein similarity': 0.373, 'Exact copies': 0.002, 'Additions proportion': 0.753, 'Deletions proportion': 0.806, 'Lexical complexity score': 10.657}}\n"
          ],
          "name": "stdout"
        }
      ]
    },
    {
      "cell_type": "markdown",
      "metadata": {
        "id": "jp3ag0Dpn7zR"
      },
      "source": [
        "## BLEU"
      ]
    },
    {
      "cell_type": "code",
      "metadata": {
        "id": "iq-OgcVdnsLn"
      },
      "source": [
        "with open(\"/content/model_prediction_en_en.hyp\", 'r') as f:\n",
        "  lines = [i.strip() for i in f.readlines()]\n",
        "\n",
        "data_test['en_en'] = lines\n",
        "\n",
        "with open(\"/content/model_prediction_en_ru.hyp\", 'r') as f:\n",
        "  lines = [i.strip() for i in f.readlines()]\n",
        "\n",
        "data_test['en_ru'] = lines\n",
        "\n",
        "with open(\"/content/model_prediction_ru_ru.hyp\", 'r') as f:\n",
        "  lines = [i.strip() for i in f.readlines()]\n",
        "\n",
        "data_test['ru_ru'] = lines\n",
        "\n",
        "with open(\"/content/model_prediction_en_ru_ru.hyp\", 'r') as f:\n",
        "  lines = [i.strip() for i in f.readlines()]\n",
        "\n",
        "data_test['en_ru_ru'] = lines"
      ],
      "execution_count": null,
      "outputs": []
    },
    {
      "cell_type": "code",
      "metadata": {
        "id": "OSmWk3-Sohu7"
      },
      "source": [
        "# function from easse\n",
        "import numpy as np\n",
        "from typing import List\n",
        "import sacrebleu\n",
        "import easse.utils.preprocessing as utils_prep\n",
        "from collections import OrderedDict\n",
        "\n",
        "\n",
        "def corpus_bleu(\n",
        "    sys_sents: List[str],\n",
        "    refs_sents: List[List[str]],\n",
        "    smooth_method: str = 'exp',\n",
        "    smooth_value: float = None,\n",
        "    force: bool = True,\n",
        "    lowercase: bool = False,\n",
        "    tokenizer: str = '13a',\n",
        "    use_effective_order: bool = False,\n",
        "):\n",
        "\n",
        "    sys_sents = [utils_prep.normalize(sent, lowercase, tokenizer) for sent in sys_sents]\n",
        "    refs_sents = [[utils_prep.normalize(sent, lowercase, tokenizer) for sent in ref_sents] for ref_sents in refs_sents]\n",
        "\n",
        "    return sacrebleu.corpus_bleu(\n",
        "        sys_sents,\n",
        "        refs_sents,\n",
        "        smooth_method,\n",
        "        smooth_value,\n",
        "        force,\n",
        "        lowercase=False,\n",
        "        tokenize='none',\n",
        "        use_effective_order=use_effective_order,\n",
        "    ).score\n",
        "\n",
        "\n",
        "def sentence_bleu(\n",
        "    sys_sent: str,\n",
        "    ref_sents: List[str],\n",
        "    smooth_method: str = 'floor',\n",
        "    smooth_value: float = None,\n",
        "    lowercase: bool = False,\n",
        "    tokenizer: str = '13a',\n",
        "    use_effective_order: bool = True,\n",
        "):\n",
        "\n",
        "    return corpus_bleu(\n",
        "        [sys_sent],\n",
        "        [[ref] for ref in ref_sents],\n",
        "        smooth_method,\n",
        "        smooth_value,\n",
        "        force=True,\n",
        "        lowercase=lowercase,\n",
        "        tokenizer=tokenizer,\n",
        "        use_effective_order=use_effective_order,\n",
        "    )\n",
        "\n",
        "\n",
        "def corpus_averaged_sentence_bleu(\n",
        "    sys_sents: List[str],\n",
        "    refs_sents: List[List[str]],\n",
        "    smooth_method: str = 'floor',\n",
        "    smooth_value: float = None,\n",
        "    lowercase: bool = False,\n",
        "    tokenizer: str = '13a',\n",
        "    use_effective_order: bool = True,\n",
        "):\n",
        "\n",
        "    scores = []\n",
        "    for sys_sent, *ref_sents in zip(sys_sents, *refs_sents):\n",
        "        scores.append(\n",
        "            sentence_bleu(\n",
        "                sys_sent,\n",
        "                ref_sents,\n",
        "                smooth_method,\n",
        "                smooth_value,\n",
        "                lowercase=lowercase,\n",
        "                tokenizer=tokenizer,\n",
        "                use_effective_order=use_effective_order,\n",
        "            )\n",
        "        )\n",
        "    return np.mean(scores)\n"
      ],
      "execution_count": null,
      "outputs": []
    },
    {
      "cell_type": "code",
      "metadata": {
        "colab": {
          "base_uri": "https://localhost:8080/"
        },
        "id": "JL7j9cFXoi9I",
        "outputId": "3ebe4995-180d-4baf-f515-3f9b0cc6a3c0"
      },
      "source": [
        "# make lists of src, dst\n",
        "output_source_path, output_references_path = 'src_bleu.txt', 'dst_bleu.txt'\n",
        "src_column, trg_column = \"en_en\", \"dst\"\n",
        "data_dict = OrderedDict()\n",
        "for ind, row in data_test.iterrows():\n",
        "        source_sentence = row[src_column]\n",
        "        reference_sentence = row[trg_column]\n",
        "        if data_dict.get(source_sentence) is None:\n",
        "            data_dict[source_sentence] = []\n",
        "        data_dict[source_sentence].append(reference_sentence)\n",
        "max_num_reference_sentences = max([len(x) for x in data_dict.values()])\n",
        "src, dst = [i for i in data_dict.keys()], [i for i in data_dict.values()]\n",
        "corpus_averaged_sentence_bleu(src, dst)"
      ],
      "execution_count": null,
      "outputs": [
        {
          "output_type": "execute_result",
          "data": {
            "text/plain": [
              "35.616937541849055"
            ]
          },
          "metadata": {
            "tags": []
          },
          "execution_count": 62
        }
      ]
    },
    {
      "cell_type": "code",
      "metadata": {
        "colab": {
          "base_uri": "https://localhost:8080/"
        },
        "id": "FJ5ELDLyqU9A",
        "outputId": "c69841b4-1aed-49f7-9620-a153984fc9a3"
      },
      "source": [
        "# make lists of src, dst\n",
        "output_source_path, output_references_path = 'src_bleu.txt', 'dst_bleu.txt'\n",
        "src_column, trg_column = \"en_ru\", \"OUTPUT:output\"\n",
        "data_dict = OrderedDict()\n",
        "for ind, row in test_data.iterrows():\n",
        "        source_sentence = row[src_column]\n",
        "        reference_sentence = row[trg_column]\n",
        "        if data_dict.get(source_sentence) is None:\n",
        "            data_dict[source_sentence] = []\n",
        "        data_dict[source_sentence].append(reference_sentence)\n",
        "max_num_reference_sentences = max([len(x) for x in data_dict.values()])\n",
        "src, dst = [i for i in data_dict.keys()], [i for i in data_dict.values()]\n",
        "corpus_averaged_sentence_bleu(src, dst)"
      ],
      "execution_count": null,
      "outputs": [
        {
          "output_type": "execute_result",
          "data": {
            "text/plain": [
              "24.761650580786526"
            ]
          },
          "metadata": {
            "tags": []
          },
          "execution_count": 64
        }
      ]
    },
    {
      "cell_type": "code",
      "metadata": {
        "colab": {
          "base_uri": "https://localhost:8080/"
        },
        "id": "SlU4W2Khr_TI",
        "outputId": "bc2f613b-b469-4976-fe6b-a0458e79d4dc"
      },
      "source": [
        "# make lists of src, dst\n",
        "output_source_path, output_references_path = 'src_bleu.txt', 'dst_bleu.txt'\n",
        "src_column, trg_column = \"ru_ru\", \"OUTPUT:output\"\n",
        "data_dict = OrderedDict()\n",
        "for ind, row in test_data.iterrows():\n",
        "        source_sentence = row[src_column]\n",
        "        reference_sentence = row[trg_column]\n",
        "        if data_dict.get(source_sentence) is None:\n",
        "            data_dict[source_sentence] = []\n",
        "        data_dict[source_sentence].append(reference_sentence)\n",
        "max_num_reference_sentences = max([len(x) for x in data_dict.values()])\n",
        "src, dst = [i for i in data_dict.keys()], [i for i in data_dict.values()]\n",
        "corpus_averaged_sentence_bleu(src, dst)"
      ],
      "execution_count": null,
      "outputs": [
        {
          "output_type": "execute_result",
          "data": {
            "text/plain": [
              "34.749903130866464"
            ]
          },
          "metadata": {
            "tags": []
          },
          "execution_count": 65
        }
      ]
    },
    {
      "cell_type": "code",
      "metadata": {
        "colab": {
          "base_uri": "https://localhost:8080/"
        },
        "id": "D5Iy7N7qr7nD",
        "outputId": "b1144455-dedf-453d-bb75-311e6558eeb0"
      },
      "source": [
        "# make lists of src, dst\n",
        "output_source_path, output_references_path = 'src_bleu.txt', 'dst_bleu.txt'\n",
        "src_column, trg_column = \"en_ru_ru\", \"OUTPUT:output\"\n",
        "data_dict = OrderedDict()\n",
        "for ind, row in test_data.iterrows():\n",
        "        source_sentence = row[src_column]\n",
        "        reference_sentence = row[trg_column]\n",
        "        if data_dict.get(source_sentence) is None:\n",
        "            data_dict[source_sentence] = []\n",
        "        data_dict[source_sentence].append(reference_sentence)\n",
        "max_num_reference_sentences = max([len(x) for x in data_dict.values()])\n",
        "src, dst = [i for i in data_dict.keys()], [i for i in data_dict.values()]\n",
        "corpus_averaged_sentence_bleu(src, dst)"
      ],
      "execution_count": null,
      "outputs": [
        {
          "output_type": "execute_result",
          "data": {
            "text/plain": [
              "34.749903130866464"
            ]
          },
          "metadata": {
            "tags": []
          },
          "execution_count": 66
        }
      ]
    },
    {
      "cell_type": "markdown",
      "metadata": {
        "id": "QAFWByBlvWOy"
      },
      "source": [
        "## Cos Sim"
      ]
    },
    {
      "cell_type": "markdown",
      "metadata": {
        "id": "UfyKUQpbv6lx"
      },
      "source": [
        "En-En"
      ]
    },
    {
      "cell_type": "code",
      "metadata": {
        "colab": {
          "base_uri": "https://localhost:8080/",
          "height": 1000,
          "referenced_widgets": [
            "1424d943ef0046728294d4cbba4e9ee7",
            "8c304ec30dbc4ce79bc7c584625847a9",
            "322728cf6cf545a6a53bacee5b20b211",
            "fb30a0c343ae4884b155ecd852c5a15a",
            "5bf11681f3e441f6a2b3fa0115879cad",
            "b0fb6d9a04a94825a0dc922d3129c849",
            "56696a436ba24cd3a84bb554a6099a46",
            "9327eb7ec2e244708b0f60c4d55ed594",
            "fc72ee5f58a24958a91e69a4af47775b",
            "1b93099138d54f02af48bcfbf76ab157",
            "724a31425e2b4d25be6f93601399b3b6",
            "08176c2992e446c1bb70c8d8a5a32799",
            "1350a73c05bc4c328025f7a1c9bce317",
            "33272e3479ea44da80d96c7848268da5",
            "707b0e0d65944b8399c7c24a8b670ed7",
            "aff75d4d2b5f4a3c85d49414d7c97ba5",
            "670d96224e9f4a96bb048135eec649b0",
            "a81f0d67be364d46a825b9206ee50f22",
            "88f2f12ffb6e427f8d0349e14d7f33f1",
            "06ef486d6c954d809a7d563d8bde5ec6",
            "0ce5ca6b9ce24589ab4e6bf0dcc0b1ed",
            "59d4f433a82246769bf057b4d0a2a04d",
            "42ea93c12e324b7daa3cbe22134ce9ff",
            "5699b61db7204306b6174dff5851f817",
            "0cc41421f42148978048d3abb36078d4",
            "603f8f55582a489aa0c0e62402b87225",
            "5d585df50e874f509be11b5d4dc0adbb",
            "f8f0bc496ad54746bd151a55e59acffc",
            "00380e56020042f3aa5f63c1e55b409e",
            "6d2f8a15b7814cb4be0123aba33c79f2",
            "834cb9103d8a4ddd96e3aab6a79b353c",
            "bb416e1e648944abbb472920fe68bf16",
            "4672c0026d094243bd8c0d6e735b73b8",
            "ccadedf67ff041fa8336e604ed24be75",
            "4617d745296f49a1b8cedf02201ab2dc",
            "4400d20e7d6b449ea626ee47085a19d2",
            "574e330640704207896499000301fad6",
            "ac153a9012724cc6a40de15fdad2d9a2",
            "a3bef84022c64be28855f9a49236f8f6",
            "7594024651ba49889d9eaa3f2d00f983"
          ]
        },
        "id": "JBx5_ksusC8a",
        "outputId": "bb884bce-2a8b-41ae-c8e9-06a6b682a0ed"
      },
      "source": [
        "from transformers import RobertaTokenizer, RobertaModel, AutoConfig, AutoTokenizer, AutoModelForMaskedLM\n",
        "device = \"cuda\" if torch.cuda.is_available() else \"cpu\"\n",
        "config = AutoConfig.from_pretrained(\"roberta-base\") # \"roberta-base\" 'xlm-mlm-100-1280' 'xlm-roberta-base' 'bert-base-multilingual-cased'\n",
        "config.output_hidden_states = True\n",
        "\n",
        "tok = AutoTokenizer.from_pretrained(\"roberta-base\")\n",
        "model = AutoModelForMaskedLM.from_pretrained(\"roberta-base\", config=config)\n",
        "model.to(device)"
      ],
      "execution_count": null,
      "outputs": [
        {
          "output_type": "display_data",
          "data": {
            "application/vnd.jupyter.widget-view+json": {
              "model_id": "1424d943ef0046728294d4cbba4e9ee7",
              "version_minor": 0,
              "version_major": 2
            },
            "text/plain": [
              "HBox(children=(FloatProgress(value=0.0, description='Downloading', max=481.0, style=ProgressStyle(description_…"
            ]
          },
          "metadata": {
            "tags": []
          }
        },
        {
          "output_type": "stream",
          "text": [
            "\n"
          ],
          "name": "stdout"
        },
        {
          "output_type": "display_data",
          "data": {
            "application/vnd.jupyter.widget-view+json": {
              "model_id": "fc72ee5f58a24958a91e69a4af47775b",
              "version_minor": 0,
              "version_major": 2
            },
            "text/plain": [
              "HBox(children=(FloatProgress(value=0.0, description='Downloading', max=898823.0, style=ProgressStyle(descripti…"
            ]
          },
          "metadata": {
            "tags": []
          }
        },
        {
          "output_type": "stream",
          "text": [
            "\n"
          ],
          "name": "stdout"
        },
        {
          "output_type": "display_data",
          "data": {
            "application/vnd.jupyter.widget-view+json": {
              "model_id": "670d96224e9f4a96bb048135eec649b0",
              "version_minor": 0,
              "version_major": 2
            },
            "text/plain": [
              "HBox(children=(FloatProgress(value=0.0, description='Downloading', max=456318.0, style=ProgressStyle(descripti…"
            ]
          },
          "metadata": {
            "tags": []
          }
        },
        {
          "output_type": "stream",
          "text": [
            "\n"
          ],
          "name": "stdout"
        },
        {
          "output_type": "display_data",
          "data": {
            "application/vnd.jupyter.widget-view+json": {
              "model_id": "0cc41421f42148978048d3abb36078d4",
              "version_minor": 0,
              "version_major": 2
            },
            "text/plain": [
              "HBox(children=(FloatProgress(value=0.0, description='Downloading', max=1355863.0, style=ProgressStyle(descript…"
            ]
          },
          "metadata": {
            "tags": []
          }
        },
        {
          "output_type": "stream",
          "text": [
            "\n"
          ],
          "name": "stdout"
        },
        {
          "output_type": "display_data",
          "data": {
            "application/vnd.jupyter.widget-view+json": {
              "model_id": "4672c0026d094243bd8c0d6e735b73b8",
              "version_minor": 0,
              "version_major": 2
            },
            "text/plain": [
              "HBox(children=(FloatProgress(value=0.0, description='Downloading', max=501200538.0, style=ProgressStyle(descri…"
            ]
          },
          "metadata": {
            "tags": []
          }
        },
        {
          "output_type": "stream",
          "text": [
            "\n"
          ],
          "name": "stdout"
        },
        {
          "output_type": "execute_result",
          "data": {
            "text/plain": [
              "RobertaForMaskedLM(\n",
              "  (roberta): RobertaModel(\n",
              "    (embeddings): RobertaEmbeddings(\n",
              "      (word_embeddings): Embedding(50265, 768, padding_idx=1)\n",
              "      (position_embeddings): Embedding(514, 768, padding_idx=1)\n",
              "      (token_type_embeddings): Embedding(1, 768)\n",
              "      (LayerNorm): LayerNorm((768,), eps=1e-05, elementwise_affine=True)\n",
              "      (dropout): Dropout(p=0.1, inplace=False)\n",
              "    )\n",
              "    (encoder): RobertaEncoder(\n",
              "      (layer): ModuleList(\n",
              "        (0): RobertaLayer(\n",
              "          (attention): RobertaAttention(\n",
              "            (self): RobertaSelfAttention(\n",
              "              (query): Linear(in_features=768, out_features=768, bias=True)\n",
              "              (key): Linear(in_features=768, out_features=768, bias=True)\n",
              "              (value): Linear(in_features=768, out_features=768, bias=True)\n",
              "              (dropout): Dropout(p=0.1, inplace=False)\n",
              "            )\n",
              "            (output): RobertaSelfOutput(\n",
              "              (dense): Linear(in_features=768, out_features=768, bias=True)\n",
              "              (LayerNorm): LayerNorm((768,), eps=1e-05, elementwise_affine=True)\n",
              "              (dropout): Dropout(p=0.1, inplace=False)\n",
              "            )\n",
              "          )\n",
              "          (intermediate): RobertaIntermediate(\n",
              "            (dense): Linear(in_features=768, out_features=3072, bias=True)\n",
              "          )\n",
              "          (output): RobertaOutput(\n",
              "            (dense): Linear(in_features=3072, out_features=768, bias=True)\n",
              "            (LayerNorm): LayerNorm((768,), eps=1e-05, elementwise_affine=True)\n",
              "            (dropout): Dropout(p=0.1, inplace=False)\n",
              "          )\n",
              "        )\n",
              "        (1): RobertaLayer(\n",
              "          (attention): RobertaAttention(\n",
              "            (self): RobertaSelfAttention(\n",
              "              (query): Linear(in_features=768, out_features=768, bias=True)\n",
              "              (key): Linear(in_features=768, out_features=768, bias=True)\n",
              "              (value): Linear(in_features=768, out_features=768, bias=True)\n",
              "              (dropout): Dropout(p=0.1, inplace=False)\n",
              "            )\n",
              "            (output): RobertaSelfOutput(\n",
              "              (dense): Linear(in_features=768, out_features=768, bias=True)\n",
              "              (LayerNorm): LayerNorm((768,), eps=1e-05, elementwise_affine=True)\n",
              "              (dropout): Dropout(p=0.1, inplace=False)\n",
              "            )\n",
              "          )\n",
              "          (intermediate): RobertaIntermediate(\n",
              "            (dense): Linear(in_features=768, out_features=3072, bias=True)\n",
              "          )\n",
              "          (output): RobertaOutput(\n",
              "            (dense): Linear(in_features=3072, out_features=768, bias=True)\n",
              "            (LayerNorm): LayerNorm((768,), eps=1e-05, elementwise_affine=True)\n",
              "            (dropout): Dropout(p=0.1, inplace=False)\n",
              "          )\n",
              "        )\n",
              "        (2): RobertaLayer(\n",
              "          (attention): RobertaAttention(\n",
              "            (self): RobertaSelfAttention(\n",
              "              (query): Linear(in_features=768, out_features=768, bias=True)\n",
              "              (key): Linear(in_features=768, out_features=768, bias=True)\n",
              "              (value): Linear(in_features=768, out_features=768, bias=True)\n",
              "              (dropout): Dropout(p=0.1, inplace=False)\n",
              "            )\n",
              "            (output): RobertaSelfOutput(\n",
              "              (dense): Linear(in_features=768, out_features=768, bias=True)\n",
              "              (LayerNorm): LayerNorm((768,), eps=1e-05, elementwise_affine=True)\n",
              "              (dropout): Dropout(p=0.1, inplace=False)\n",
              "            )\n",
              "          )\n",
              "          (intermediate): RobertaIntermediate(\n",
              "            (dense): Linear(in_features=768, out_features=3072, bias=True)\n",
              "          )\n",
              "          (output): RobertaOutput(\n",
              "            (dense): Linear(in_features=3072, out_features=768, bias=True)\n",
              "            (LayerNorm): LayerNorm((768,), eps=1e-05, elementwise_affine=True)\n",
              "            (dropout): Dropout(p=0.1, inplace=False)\n",
              "          )\n",
              "        )\n",
              "        (3): RobertaLayer(\n",
              "          (attention): RobertaAttention(\n",
              "            (self): RobertaSelfAttention(\n",
              "              (query): Linear(in_features=768, out_features=768, bias=True)\n",
              "              (key): Linear(in_features=768, out_features=768, bias=True)\n",
              "              (value): Linear(in_features=768, out_features=768, bias=True)\n",
              "              (dropout): Dropout(p=0.1, inplace=False)\n",
              "            )\n",
              "            (output): RobertaSelfOutput(\n",
              "              (dense): Linear(in_features=768, out_features=768, bias=True)\n",
              "              (LayerNorm): LayerNorm((768,), eps=1e-05, elementwise_affine=True)\n",
              "              (dropout): Dropout(p=0.1, inplace=False)\n",
              "            )\n",
              "          )\n",
              "          (intermediate): RobertaIntermediate(\n",
              "            (dense): Linear(in_features=768, out_features=3072, bias=True)\n",
              "          )\n",
              "          (output): RobertaOutput(\n",
              "            (dense): Linear(in_features=3072, out_features=768, bias=True)\n",
              "            (LayerNorm): LayerNorm((768,), eps=1e-05, elementwise_affine=True)\n",
              "            (dropout): Dropout(p=0.1, inplace=False)\n",
              "          )\n",
              "        )\n",
              "        (4): RobertaLayer(\n",
              "          (attention): RobertaAttention(\n",
              "            (self): RobertaSelfAttention(\n",
              "              (query): Linear(in_features=768, out_features=768, bias=True)\n",
              "              (key): Linear(in_features=768, out_features=768, bias=True)\n",
              "              (value): Linear(in_features=768, out_features=768, bias=True)\n",
              "              (dropout): Dropout(p=0.1, inplace=False)\n",
              "            )\n",
              "            (output): RobertaSelfOutput(\n",
              "              (dense): Linear(in_features=768, out_features=768, bias=True)\n",
              "              (LayerNorm): LayerNorm((768,), eps=1e-05, elementwise_affine=True)\n",
              "              (dropout): Dropout(p=0.1, inplace=False)\n",
              "            )\n",
              "          )\n",
              "          (intermediate): RobertaIntermediate(\n",
              "            (dense): Linear(in_features=768, out_features=3072, bias=True)\n",
              "          )\n",
              "          (output): RobertaOutput(\n",
              "            (dense): Linear(in_features=3072, out_features=768, bias=True)\n",
              "            (LayerNorm): LayerNorm((768,), eps=1e-05, elementwise_affine=True)\n",
              "            (dropout): Dropout(p=0.1, inplace=False)\n",
              "          )\n",
              "        )\n",
              "        (5): RobertaLayer(\n",
              "          (attention): RobertaAttention(\n",
              "            (self): RobertaSelfAttention(\n",
              "              (query): Linear(in_features=768, out_features=768, bias=True)\n",
              "              (key): Linear(in_features=768, out_features=768, bias=True)\n",
              "              (value): Linear(in_features=768, out_features=768, bias=True)\n",
              "              (dropout): Dropout(p=0.1, inplace=False)\n",
              "            )\n",
              "            (output): RobertaSelfOutput(\n",
              "              (dense): Linear(in_features=768, out_features=768, bias=True)\n",
              "              (LayerNorm): LayerNorm((768,), eps=1e-05, elementwise_affine=True)\n",
              "              (dropout): Dropout(p=0.1, inplace=False)\n",
              "            )\n",
              "          )\n",
              "          (intermediate): RobertaIntermediate(\n",
              "            (dense): Linear(in_features=768, out_features=3072, bias=True)\n",
              "          )\n",
              "          (output): RobertaOutput(\n",
              "            (dense): Linear(in_features=3072, out_features=768, bias=True)\n",
              "            (LayerNorm): LayerNorm((768,), eps=1e-05, elementwise_affine=True)\n",
              "            (dropout): Dropout(p=0.1, inplace=False)\n",
              "          )\n",
              "        )\n",
              "        (6): RobertaLayer(\n",
              "          (attention): RobertaAttention(\n",
              "            (self): RobertaSelfAttention(\n",
              "              (query): Linear(in_features=768, out_features=768, bias=True)\n",
              "              (key): Linear(in_features=768, out_features=768, bias=True)\n",
              "              (value): Linear(in_features=768, out_features=768, bias=True)\n",
              "              (dropout): Dropout(p=0.1, inplace=False)\n",
              "            )\n",
              "            (output): RobertaSelfOutput(\n",
              "              (dense): Linear(in_features=768, out_features=768, bias=True)\n",
              "              (LayerNorm): LayerNorm((768,), eps=1e-05, elementwise_affine=True)\n",
              "              (dropout): Dropout(p=0.1, inplace=False)\n",
              "            )\n",
              "          )\n",
              "          (intermediate): RobertaIntermediate(\n",
              "            (dense): Linear(in_features=768, out_features=3072, bias=True)\n",
              "          )\n",
              "          (output): RobertaOutput(\n",
              "            (dense): Linear(in_features=3072, out_features=768, bias=True)\n",
              "            (LayerNorm): LayerNorm((768,), eps=1e-05, elementwise_affine=True)\n",
              "            (dropout): Dropout(p=0.1, inplace=False)\n",
              "          )\n",
              "        )\n",
              "        (7): RobertaLayer(\n",
              "          (attention): RobertaAttention(\n",
              "            (self): RobertaSelfAttention(\n",
              "              (query): Linear(in_features=768, out_features=768, bias=True)\n",
              "              (key): Linear(in_features=768, out_features=768, bias=True)\n",
              "              (value): Linear(in_features=768, out_features=768, bias=True)\n",
              "              (dropout): Dropout(p=0.1, inplace=False)\n",
              "            )\n",
              "            (output): RobertaSelfOutput(\n",
              "              (dense): Linear(in_features=768, out_features=768, bias=True)\n",
              "              (LayerNorm): LayerNorm((768,), eps=1e-05, elementwise_affine=True)\n",
              "              (dropout): Dropout(p=0.1, inplace=False)\n",
              "            )\n",
              "          )\n",
              "          (intermediate): RobertaIntermediate(\n",
              "            (dense): Linear(in_features=768, out_features=3072, bias=True)\n",
              "          )\n",
              "          (output): RobertaOutput(\n",
              "            (dense): Linear(in_features=3072, out_features=768, bias=True)\n",
              "            (LayerNorm): LayerNorm((768,), eps=1e-05, elementwise_affine=True)\n",
              "            (dropout): Dropout(p=0.1, inplace=False)\n",
              "          )\n",
              "        )\n",
              "        (8): RobertaLayer(\n",
              "          (attention): RobertaAttention(\n",
              "            (self): RobertaSelfAttention(\n",
              "              (query): Linear(in_features=768, out_features=768, bias=True)\n",
              "              (key): Linear(in_features=768, out_features=768, bias=True)\n",
              "              (value): Linear(in_features=768, out_features=768, bias=True)\n",
              "              (dropout): Dropout(p=0.1, inplace=False)\n",
              "            )\n",
              "            (output): RobertaSelfOutput(\n",
              "              (dense): Linear(in_features=768, out_features=768, bias=True)\n",
              "              (LayerNorm): LayerNorm((768,), eps=1e-05, elementwise_affine=True)\n",
              "              (dropout): Dropout(p=0.1, inplace=False)\n",
              "            )\n",
              "          )\n",
              "          (intermediate): RobertaIntermediate(\n",
              "            (dense): Linear(in_features=768, out_features=3072, bias=True)\n",
              "          )\n",
              "          (output): RobertaOutput(\n",
              "            (dense): Linear(in_features=3072, out_features=768, bias=True)\n",
              "            (LayerNorm): LayerNorm((768,), eps=1e-05, elementwise_affine=True)\n",
              "            (dropout): Dropout(p=0.1, inplace=False)\n",
              "          )\n",
              "        )\n",
              "        (9): RobertaLayer(\n",
              "          (attention): RobertaAttention(\n",
              "            (self): RobertaSelfAttention(\n",
              "              (query): Linear(in_features=768, out_features=768, bias=True)\n",
              "              (key): Linear(in_features=768, out_features=768, bias=True)\n",
              "              (value): Linear(in_features=768, out_features=768, bias=True)\n",
              "              (dropout): Dropout(p=0.1, inplace=False)\n",
              "            )\n",
              "            (output): RobertaSelfOutput(\n",
              "              (dense): Linear(in_features=768, out_features=768, bias=True)\n",
              "              (LayerNorm): LayerNorm((768,), eps=1e-05, elementwise_affine=True)\n",
              "              (dropout): Dropout(p=0.1, inplace=False)\n",
              "            )\n",
              "          )\n",
              "          (intermediate): RobertaIntermediate(\n",
              "            (dense): Linear(in_features=768, out_features=3072, bias=True)\n",
              "          )\n",
              "          (output): RobertaOutput(\n",
              "            (dense): Linear(in_features=3072, out_features=768, bias=True)\n",
              "            (LayerNorm): LayerNorm((768,), eps=1e-05, elementwise_affine=True)\n",
              "            (dropout): Dropout(p=0.1, inplace=False)\n",
              "          )\n",
              "        )\n",
              "        (10): RobertaLayer(\n",
              "          (attention): RobertaAttention(\n",
              "            (self): RobertaSelfAttention(\n",
              "              (query): Linear(in_features=768, out_features=768, bias=True)\n",
              "              (key): Linear(in_features=768, out_features=768, bias=True)\n",
              "              (value): Linear(in_features=768, out_features=768, bias=True)\n",
              "              (dropout): Dropout(p=0.1, inplace=False)\n",
              "            )\n",
              "            (output): RobertaSelfOutput(\n",
              "              (dense): Linear(in_features=768, out_features=768, bias=True)\n",
              "              (LayerNorm): LayerNorm((768,), eps=1e-05, elementwise_affine=True)\n",
              "              (dropout): Dropout(p=0.1, inplace=False)\n",
              "            )\n",
              "          )\n",
              "          (intermediate): RobertaIntermediate(\n",
              "            (dense): Linear(in_features=768, out_features=3072, bias=True)\n",
              "          )\n",
              "          (output): RobertaOutput(\n",
              "            (dense): Linear(in_features=3072, out_features=768, bias=True)\n",
              "            (LayerNorm): LayerNorm((768,), eps=1e-05, elementwise_affine=True)\n",
              "            (dropout): Dropout(p=0.1, inplace=False)\n",
              "          )\n",
              "        )\n",
              "        (11): RobertaLayer(\n",
              "          (attention): RobertaAttention(\n",
              "            (self): RobertaSelfAttention(\n",
              "              (query): Linear(in_features=768, out_features=768, bias=True)\n",
              "              (key): Linear(in_features=768, out_features=768, bias=True)\n",
              "              (value): Linear(in_features=768, out_features=768, bias=True)\n",
              "              (dropout): Dropout(p=0.1, inplace=False)\n",
              "            )\n",
              "            (output): RobertaSelfOutput(\n",
              "              (dense): Linear(in_features=768, out_features=768, bias=True)\n",
              "              (LayerNorm): LayerNorm((768,), eps=1e-05, elementwise_affine=True)\n",
              "              (dropout): Dropout(p=0.1, inplace=False)\n",
              "            )\n",
              "          )\n",
              "          (intermediate): RobertaIntermediate(\n",
              "            (dense): Linear(in_features=768, out_features=3072, bias=True)\n",
              "          )\n",
              "          (output): RobertaOutput(\n",
              "            (dense): Linear(in_features=3072, out_features=768, bias=True)\n",
              "            (LayerNorm): LayerNorm((768,), eps=1e-05, elementwise_affine=True)\n",
              "            (dropout): Dropout(p=0.1, inplace=False)\n",
              "          )\n",
              "        )\n",
              "      )\n",
              "    )\n",
              "  )\n",
              "  (lm_head): RobertaLMHead(\n",
              "    (dense): Linear(in_features=768, out_features=768, bias=True)\n",
              "    (layer_norm): LayerNorm((768,), eps=1e-05, elementwise_affine=True)\n",
              "    (decoder): Linear(in_features=768, out_features=50265, bias=True)\n",
              "  )\n",
              ")"
            ]
          },
          "metadata": {
            "tags": []
          },
          "execution_count": 67
        }
      ]
    },
    {
      "cell_type": "code",
      "metadata": {
        "id": "iWsPVhQtwHO2"
      },
      "source": [
        "from sklearn.metrics.pairwise import cosine_similarity\n",
        "\n",
        "# shape should be [1, something (768, ex)]\n",
        "\n",
        "# import numpy as np\n",
        "# def cs(a, b):\n",
        "#   return (a @ b.T)/(np.linalg.norm(a)*np.linalg.norm(b))\n",
        "\n",
        "def calc_cos_sim(df, model,tok, x, y, column_name):\n",
        "    Cos_sim= []\n",
        "    for index, row in df.iterrows():\n",
        "        \n",
        "        # original\n",
        "          sentence_A = tok.encode(row[x], padding='max_length', max_length=50, truncation=True, return_tensors='pt')\n",
        "          sentence_A = sentence_A.to(device)\n",
        "          output = model(sentence_A)\n",
        "          sent_emb = output[-1][0]\n",
        "          emb_source = sent_emb.mean(axis=1)\n",
        "          emb_source = emb_source.cpu().detach().numpy()\n",
        "\n",
        "          sentence_B = tok.encode(row[y], padding='max_length', max_length=50, truncation=True, return_tensors='pt')\n",
        "          sentence_B = sentence_B.to(device)\n",
        "          output = model(sentence_B)\n",
        "          sent_emb = output[-1][0]\n",
        "          emb_target= sent_emb.mean(axis=1)\n",
        "          emb_target = emb_target.cpu().detach().numpy()\n",
        "\n",
        "          cos_val = cosine_similarity(emb_source.reshape(emb_source.shape[0], -1), emb_target.reshape(emb_target.shape[0], -1))[0][0]\n",
        "          Cos_sim.append(cos_val)\n",
        "    df[column_name] = Cos_sim"
      ],
      "execution_count": null,
      "outputs": []
    },
    {
      "cell_type": "code",
      "metadata": {
        "id": "tWAVXp7XwNkQ"
      },
      "source": [
        "calc_cos_sim(data_test, model, tok, 'src', 'en_en', 'cos_sim_en_en')"
      ],
      "execution_count": null,
      "outputs": []
    },
    {
      "cell_type": "code",
      "metadata": {
        "colab": {
          "base_uri": "https://localhost:8080/"
        },
        "id": "eCzgKh9Vwa7V",
        "outputId": "9f5f1f50-989c-4ff7-b5c8-7c59362ae261"
      },
      "source": [
        "data_test.cos_sim_en_en.mean()"
      ],
      "execution_count": null,
      "outputs": [
        {
          "output_type": "execute_result",
          "data": {
            "text/plain": [
              "0.9784409027356333"
            ]
          },
          "metadata": {
            "tags": []
          },
          "execution_count": 72
        }
      ]
    },
    {
      "cell_type": "markdown",
      "metadata": {
        "id": "SgntBc9mxMFA"
      },
      "source": [
        "En-ru"
      ]
    },
    {
      "cell_type": "code",
      "metadata": {
        "id": "JdhqO7JMxCqk"
      },
      "source": [
        "from transformers import RobertaTokenizer, RobertaModel, AutoConfig, AutoTokenizer, AutoModelForMaskedLM\n",
        "device = \"cuda\" if torch.cuda.is_available() else \"cpu\"\n",
        "config = AutoConfig.from_pretrained(\"DeepPavlov/rubert-base-cased\") # \"roberta-base\" 'xlm-mlm-100-1280' 'xlm-roberta-base' 'bert-base-multilingual-cased'\n",
        "config.output_hidden_states = True\n",
        "\n",
        "tok = AutoTokenizer.from_pretrained(\"DeepPavlov/rubert-base-cased\")\n",
        "model = AutoModelForMaskedLM.from_pretrained(\"DeepPavlov/rubert-base-cased\", config=config)\n",
        "model.to(device)"
      ],
      "execution_count": null,
      "outputs": []
    },
    {
      "cell_type": "code",
      "metadata": {
        "id": "zuJBxaGIxU2S"
      },
      "source": [
        "calc_cos_sim(data_test, model, tok, 'INPUT:source', 'en_ru', 'cos_sim_en_ru')\n",
        "calc_cos_sim(data_test, model, tok, 'INPUT:source', 'ru_ru', 'cos_sim_ru_ru')\n",
        "calc_cos_sim(data_test, model, tok, 'INPUT:source', 'en_ru_ru', 'cos_sim_en_ru_ru')"
      ],
      "execution_count": null,
      "outputs": []
    },
    {
      "cell_type": "code",
      "metadata": {
        "colab": {
          "base_uri": "https://localhost:8080/"
        },
        "id": "eTbfjzgVxppt",
        "outputId": "930ebe61-1f7d-4ed7-9e84-9c8c5eb583a8"
      },
      "source": [
        "data_test.cos_sim_en_ru.mean(), data_test.cos_sim_ru_ru.mean(), data_test.cos_sim_en_ru_ru.mean()"
      ],
      "execution_count": null,
      "outputs": [
        {
          "output_type": "execute_result",
          "data": {
            "text/plain": [
              "(0.9557205252021254, 0.9955931419634637, 0.9944967627875327)"
            ]
          },
          "metadata": {
            "tags": []
          },
          "execution_count": 75
        }
      ]
    },
    {
      "cell_type": "markdown",
      "metadata": {
        "id": "mD1D_JKsyCh2"
      },
      "source": [
        "### Flesch Kincaid Grade Level"
      ]
    },
    {
      "cell_type": "markdown",
      "metadata": {
        "id": "dVQHQyEtyKuY"
      },
      "source": [
        "En-en"
      ]
    },
    {
      "cell_type": "code",
      "metadata": {
        "id": "2qy67-IRyJcQ"
      },
      "source": [
        "textstat.set_lang('en')"
      ],
      "execution_count": null,
      "outputs": []
    },
    {
      "cell_type": "code",
      "metadata": {
        "colab": {
          "base_uri": "https://localhost:8080/"
        },
        "id": "asLeTiCuyXYQ",
        "outputId": "a43b3d24-060a-4ec2-d5b9-90d1cdabf869"
      },
      "source": [
        "a = data_test['en_en'].values\n",
        "en_en = sum(textstat.flesch_kincaid_grade(i) for i in a)/len(a)\n",
        "en_en"
      ],
      "execution_count": null,
      "outputs": [
        {
          "output_type": "execute_result",
          "data": {
            "text/plain": [
              "11.808367586611897"
            ]
          },
          "metadata": {
            "tags": []
          },
          "execution_count": 7
        }
      ]
    },
    {
      "cell_type": "code",
      "metadata": {
        "colab": {
          "base_uri": "https://localhost:8080/"
        },
        "id": "94Rj9VQBgbg6",
        "outputId": "47b29b48-039a-488e-a1e0-439cb7d20843"
      },
      "source": [
        "# a = ' '.join(data_test['en_en'].values)\n",
        "# en_en = textstat.flesch_kincaid_grade(a)\n",
        "# en_en"
      ],
      "execution_count": null,
      "outputs": [
        {
          "output_type": "execute_result",
          "data": {
            "text/plain": [
              "11.1"
            ]
          },
          "metadata": {
            "tags": []
          },
          "execution_count": 10
        }
      ]
    },
    {
      "cell_type": "code",
      "metadata": {
        "colab": {
          "base_uri": "https://localhost:8080/"
        },
        "id": "u0lsAuzuzeKD",
        "outputId": "e9c14c4b-1cb9-4346-da85-e431f974dc99"
      },
      "source": [
        "a = data_test['en_en'].values\n",
        "en_en = sum(textstat.syllable_count(i) for i in a)/len(a)\n",
        "en_en"
      ],
      "execution_count": null,
      "outputs": [
        {
          "output_type": "execute_result",
          "data": {
            "text/plain": [
              "34.025836758661185"
            ]
          },
          "metadata": {
            "tags": []
          },
          "execution_count": 8
        }
      ]
    },
    {
      "cell_type": "code",
      "metadata": {
        "colab": {
          "base_uri": "https://localhost:8080/"
        },
        "id": "l-WQ-eaJzvyL",
        "outputId": "6afa800e-0cbe-44b8-eb45-d5f21453f636"
      },
      "source": [
        "a = data_test['en_en'].values\n",
        "en_en = sum(textstat.lexicon_count(i) for i in a)/len(a)\n",
        "en_en"
      ],
      "execution_count": null,
      "outputs": [
        {
          "output_type": "execute_result",
          "data": {
            "text/plain": [
              "20.862008220786848"
            ]
          },
          "metadata": {
            "tags": []
          },
          "execution_count": 9
        }
      ]
    },
    {
      "cell_type": "markdown",
      "metadata": {
        "id": "f2-VxVHVyMtS"
      },
      "source": [
        "En-ru, ru-ru, en-ru-ru"
      ]
    },
    {
      "cell_type": "code",
      "metadata": {
        "id": "igelqirnxzVy"
      },
      "source": [
        "textstat.set_lang('ru')"
      ],
      "execution_count": null,
      "outputs": []
    },
    {
      "cell_type": "code",
      "metadata": {
        "colab": {
          "base_uri": "https://localhost:8080/"
        },
        "id": "HRZBX4lHyiFC",
        "outputId": "c7c4adec-2564-4dd4-f90c-bb23bc279383"
      },
      "source": [
        "a = data_test['en_ru'].values\n",
        "b = data_test['ru_ru'].values\n",
        "c = data_test['en_ru_ru'].values\n",
        "en_ru = sum(textstat.flesch_kincaid_grade(i) for i in a)/len(a)\n",
        "ru_ru = sum(textstat.flesch_kincaid_grade(i) for i in b)/len(b)\n",
        "en_ru_ru = sum(textstat.flesch_kincaid_grade(i) for i in c)/len(c)\n",
        "en_ru, ru_ru, en_ru_ru"
      ],
      "execution_count": null,
      "outputs": [
        {
          "output_type": "execute_result",
          "data": {
            "text/plain": [
              "(20.034380504991258, 22.588167938931395, 22.552055196711766)"
            ]
          },
          "metadata": {
            "tags": []
          },
          "execution_count": 79
        }
      ]
    },
    {
      "cell_type": "code",
      "metadata": {
        "colab": {
          "base_uri": "https://localhost:8080/"
        },
        "id": "_r1F5QLQgqa3",
        "outputId": "9eb708fd-6979-4689-ed70-6ab3b83e26e9"
      },
      "source": [
        "# a = ' '.join(data_test['en_ru'].values)\n",
        "# b = ' '.join(data_test['ru_ru'].values)\n",
        "# c = ' '.join(data_test['en_ru_ru'].values)\n",
        "# en_ru = textstat.flesch_kincaid_grade(a)\n",
        "# ru_ru = textstat.flesch_kincaid_grade(b) \n",
        "# en_ru_ru = textstat.flesch_kincaid_grade(c)\n",
        "# en_ru, ru_ru, en_ru_ru\n"
      ],
      "execution_count": null,
      "outputs": [
        {
          "output_type": "execute_result",
          "data": {
            "text/plain": [
              "(172.4, 1146.1, 1421.4)"
            ]
          },
          "metadata": {
            "tags": []
          },
          "execution_count": 15
        }
      ]
    },
    {
      "cell_type": "code",
      "metadata": {
        "colab": {
          "base_uri": "https://localhost:8080/"
        },
        "id": "tMHd00VczmpY",
        "outputId": "ffab31ed-e891-42a2-f5c6-79401171d586"
      },
      "source": [
        "a = data_test['en_ru'].values\n",
        "b = data_test['ru_ru'].values\n",
        "c = data_test['en_ru_ru'].values\n",
        "en_ru = sum(textstat.syllable_count(i) for i in a)/len(a)\n",
        "ru_ru = sum(textstat.syllable_count(i) for i in b)/len(b)\n",
        "en_ru_ru = sum(textstat.syllable_count(i) for i in c)/len(c)\n",
        "en_ru, ru_ru, en_ru_ru"
      ],
      "execution_count": null,
      "outputs": [
        {
          "output_type": "execute_result",
          "data": {
            "text/plain": [
              "(39.49412800939518, 45.09806224310041, 44.913094539048735)"
            ]
          },
          "metadata": {
            "tags": []
          },
          "execution_count": 81
        }
      ]
    },
    {
      "cell_type": "code",
      "metadata": {
        "colab": {
          "base_uri": "https://localhost:8080/"
        },
        "id": "S9Zbxk_Azxj-",
        "outputId": "71c99cfa-e0f4-4894-9dd7-8edee41c59b8"
      },
      "source": [
        "a = data_test['en_ru'].values\n",
        "b = data_test['ru_ru'].values\n",
        "c = data_test['en_ru_ru'].values\n",
        "en_ru = sum(textstat.lexicon_count(i) for i in a)/len(a)\n",
        "ru_ru = sum(textstat.lexicon_count(i) for i in b)/len(b)\n",
        "en_ru_ru = sum(textstat.lexicon_count(i) for i in c)/len(c)\n",
        "en_ru, ru_ru, en_ru_ru"
      ],
      "execution_count": null,
      "outputs": [
        {
          "output_type": "execute_result",
          "data": {
            "text/plain": [
              "(15.870522607163828, 17.010569583088667, 16.92542571931885)"
            ]
          },
          "metadata": {
            "tags": []
          },
          "execution_count": 83
        }
      ]
    },
    {
      "cell_type": "code",
      "metadata": {
        "colab": {
          "base_uri": "https://localhost:8080/"
        },
        "id": "NN1NI6F4lMoQ",
        "outputId": "943b7a6c-6a65-4bcd-98d7-7d0b3924bff2"
      },
      "source": [
        "import requests\n",
        "text = ' '.join(data_test['INPUT:source'].values)\n",
        "response = requests.post(\"http://api.plainrussian.ru/api/1.0/ru/measure/\", data={\"text\":text})\n",
        "response.json()"
      ],
      "execution_count": null,
      "outputs": [
        {
          "output_type": "execute_result",
          "data": {
            "text/plain": [
              "{'debug': '0',\n",
              " 'indexes': {'grade_SMOG': '4 - 6 курсы ВУЗа (возраст примерно: 20-22 лет)',\n",
              "  'grade_ari': 'Аспирантура, второе высшее образование, phD',\n",
              "  'grade_cl': '4 - 6 курсы ВУЗа (возраст примерно: 20-22 лет)',\n",
              "  'grade_dc': '1 - 3 курсы ВУЗа (возраст примерно: 17-19 лет)',\n",
              "  'grade_fk': '4 - 6 курсы ВУЗа (возраст примерно: 20-22 лет)',\n",
              "  'index_SMOG': 14.557852197020122,\n",
              "  'index_ari': 17.71203679321743,\n",
              "  'index_cl': 16.38818426966293,\n",
              "  'index_dc': 13.702683787810848,\n",
              "  'index_fk': 17.377772067441356},\n",
              " 'lang': 'ru',\n",
              " 'metrics': {'avg_slen': 15.85661345496009,\n",
              "  'avg_syl': 3.0165752808988766,\n",
              "  'c_share': 16.981573033707864,\n",
              "  'chars': 473430,\n",
              "  'letters': 393678,\n",
              "  'n_complex_words': 9446,\n",
              "  'n_sentences': 3508,\n",
              "  'n_simple_words': 46179,\n",
              "  'n_syllabes': 167797,\n",
              "  'n_words': 55625,\n",
              "  'spaces': 60292,\n",
              "  'wsyllabes': {'1': 9867,\n",
              "   '10': 35,\n",
              "   '11': 6,\n",
              "   '12': 4,\n",
              "   '2': 12788,\n",
              "   '3': 13723,\n",
              "   '4': 9801,\n",
              "   '5': 6023,\n",
              "   '6': 2491,\n",
              "   '7': 677,\n",
              "   '8': 173,\n",
              "   '9': 37}},\n",
              " 'status': 0}"
            ]
          },
          "metadata": {
            "tags": []
          },
          "execution_count": 24
        }
      ]
    },
    {
      "cell_type": "code",
      "metadata": {
        "colab": {
          "base_uri": "https://localhost:8080/"
        },
        "id": "Cr1D0alxlE5a",
        "outputId": "6c9111ba-c9d9-4939-8abc-208e9e5e6b5e"
      },
      "source": [
        "import requests\n",
        "text = ' '.join(data_test['OUTPUT:output'].values)\n",
        "response = requests.post(\"http://api.plainrussian.ru/api/1.0/ru/measure/\", data={\"text\":text})\n",
        "response.json()"
      ],
      "execution_count": null,
      "outputs": [
        {
          "output_type": "execute_result",
          "data": {
            "text/plain": [
              "{'debug': '0',\n",
              " 'indexes': {'grade_SMOG': '10 - 11-й класс (возраст примерно: 15-16 лет)',\n",
              "  'grade_ari': '1 - 3 курсы ВУЗа (возраст примерно: 17-19 лет)',\n",
              "  'grade_cl': '1 - 3 курсы ВУЗа (возраст примерно: 17-19 лет)',\n",
              "  'grade_dc': '10 - 11-й класс (возраст примерно: 15-16 лет)',\n",
              "  'grade_fk': '1 - 3 курсы ВУЗа (возраст примерно: 17-19 лет)',\n",
              "  'index_SMOG': 11.356979245625993,\n",
              "  'index_ari': 13.911711320522606,\n",
              "  'index_cl': 13.275588954554713,\n",
              "  'index_dc': 10.54920179059317,\n",
              "  'index_fk': 13.869039895378684},\n",
              " 'lang': 'ru',\n",
              " 'metrics': {'avg_slen': 12.795306388526727,\n",
              "  'avg_syl': 2.8380374974526186,\n",
              "  'c_share': 12.78275932341553,\n",
              "  'chars': 317164,\n",
              "  'letters': 259382,\n",
              "  'n_complex_words': 5018,\n",
              "  'n_sentences': 3068,\n",
              "  'n_simple_words': 34238,\n",
              "  'n_syllabes': 111410,\n",
              "  'n_words': 39256,\n",
              "  'spaces': 43375,\n",
              "  'wsyllabes': {'1': 7690,\n",
              "   '10': 11,\n",
              "   '11': 1,\n",
              "   '12': 1,\n",
              "   '14': 1,\n",
              "   '15': 1,\n",
              "   '2': 10187,\n",
              "   '3': 9546,\n",
              "   '4': 6815,\n",
              "   '5': 3294,\n",
              "   '6': 1274,\n",
              "   '7': 336,\n",
              "   '8': 71,\n",
              "   '9': 28}},\n",
              " 'status': 0}"
            ]
          },
          "metadata": {
            "tags": []
          },
          "execution_count": 23
        }
      ]
    },
    {
      "cell_type": "code",
      "metadata": {
        "colab": {
          "base_uri": "https://localhost:8080/"
        },
        "id": "ZwOUKwK4k2iC",
        "outputId": "cbb7e3d3-e1bd-477e-fc8b-e880d2fc5e83"
      },
      "source": [
        "import requests\n",
        "text = ' '.join(data_test['en_ru'].values)\n",
        "response = requests.post(\"http://api.plainrussian.ru/api/1.0/ru/measure/\", data={\"text\":text})\n",
        "response.json()"
      ],
      "execution_count": null,
      "outputs": [
        {
          "output_type": "execute_result",
          "data": {
            "text/plain": [
              "{'debug': '0',\n",
              " 'indexes': {'grade_SMOG': '1 - 3 курсы ВУЗа (возраст примерно: 17-19 лет)',\n",
              "  'grade_ari': '4 - 6 курсы ВУЗа (возраст примерно: 20-22 лет)',\n",
              "  'grade_cl': '1 - 3 курсы ВУЗа (возраст примерно: 17-19 лет)',\n",
              "  'grade_dc': '1 - 3 курсы ВУЗа (возраст примерно: 17-19 лет)',\n",
              "  'grade_fk': '4 - 6 курсы ВУЗа (возраст примерно: 20-22 лет)',\n",
              "  'index_SMOG': 12.406806113663269,\n",
              "  'index_ari': 15.059364916077413,\n",
              "  'index_cl': 14.23091354870612,\n",
              "  'index_dc': 11.560336482490253,\n",
              "  'index_fk': 15.027498677881688},\n",
              " 'lang': 'ru',\n",
              " 'metrics': {'avg_slen': 13.871391826236067,\n",
              "  'avg_syl': 2.8955208505027197,\n",
              "  'c_share': 14.082330641173561,\n",
              "  'chars': 411959,\n",
              "  'letters': 327257,\n",
              "  'n_complex_words': 6835,\n",
              "  'n_sentences': 3499,\n",
              "  'n_simple_words': 41701,\n",
              "  'n_syllabes': 140537,\n",
              "  'n_words': 48536,\n",
              "  'spaces': 54374,\n",
              "  'wsyllabes': {'1': 8966,\n",
              "   '10': 4,\n",
              "   '2': 12415,\n",
              "   '3': 11739,\n",
              "   '4': 8581,\n",
              "   '5': 4441,\n",
              "   '6': 1876,\n",
              "   '7': 428,\n",
              "   '8': 71,\n",
              "   '9': 15}},\n",
              " 'status': 0}"
            ]
          },
          "metadata": {
            "tags": []
          },
          "execution_count": 20
        }
      ]
    },
    {
      "cell_type": "code",
      "metadata": {
        "colab": {
          "base_uri": "https://localhost:8080/"
        },
        "id": "seq1DfgQk5Oa",
        "outputId": "862585d6-fba0-47e0-c29a-3d74ec56919d"
      },
      "source": [
        "import requests\n",
        "text = ' '.join(data_test['en_ru_ru'].values)\n",
        "response = requests.post(\"http://api.plainrussian.ru/api/1.0/ru/measure/\", data={\"text\":text})\n",
        "response.json()"
      ],
      "execution_count": null,
      "outputs": [
        {
          "output_type": "execute_result",
          "data": {
            "text/plain": [
              "{'debug': '0',\n",
              " 'indexes': {'grade_SMOG': '1 - 3 курсы ВУЗа (возраст примерно: 17-19 лет)',\n",
              "  'grade_ari': 'Аспирантура, второе высшее образование, phD',\n",
              "  'grade_cl': '4 - 6 курсы ВУЗа (возраст примерно: 20-22 лет)',\n",
              "  'grade_dc': '1 - 3 курсы ВУЗа (возраст примерно: 17-19 лет)',\n",
              "  'grade_fk': '4 - 6 курсы ВУЗа (возраст примерно: 20-22 лет)',\n",
              "  'index_SMOG': 14.281984238205567,\n",
              "  'index_ari': 17.53083943300245,\n",
              "  'index_cl': 16.283248101831177,\n",
              "  'index_dc': 13.516749541078948,\n",
              "  'index_fk': 17.17821311474296},\n",
              " 'lang': 'ru',\n",
              " 'metrics': {'avg_slen': 15.32686822589846,\n",
              "  'avg_syl': 3.014385142176567,\n",
              "  'c_share': 16.906729194580915,\n",
              "  'chars': 456511,\n",
              "  'letters': 380029,\n",
              "  'n_complex_words': 9085,\n",
              "  'n_sentences': 3506,\n",
              "  'n_simple_words': 44651,\n",
              "  'n_syllabes': 161981,\n",
              "  'n_words': 53736,\n",
              "  'spaces': 58090,\n",
              "  'wsyllabes': {'1': 9523,\n",
              "   '10': 35,\n",
              "   '11': 6,\n",
              "   '12': 4,\n",
              "   '2': 12377,\n",
              "   '3': 13254,\n",
              "   '4': 9497,\n",
              "   '5': 5829,\n",
              "   '6': 2373,\n",
              "   '7': 636,\n",
              "   '8': 163,\n",
              "   '9': 39}},\n",
              " 'status': 0}"
            ]
          },
          "metadata": {
            "tags": []
          },
          "execution_count": 21
        }
      ]
    },
    {
      "cell_type": "code",
      "metadata": {
        "colab": {
          "base_uri": "https://localhost:8080/"
        },
        "id": "rZQsq0kPk7nO",
        "outputId": "53c48019-d759-4b46-89d3-41ff18b01ad9"
      },
      "source": [
        "import requests\n",
        "text = ' '.join(data_test['ru_ru'].values)\n",
        "response = requests.post(\"http://api.plainrussian.ru/api/1.0/ru/measure/\", data={\"text\":text})\n",
        "response.json()"
      ],
      "execution_count": null,
      "outputs": [
        {
          "output_type": "execute_result",
          "data": {
            "text/plain": [
              "{'debug': '0',\n",
              " 'indexes': {'grade_SMOG': '1 - 3 курсы ВУЗа (возраст примерно: 17-19 лет)',\n",
              "  'grade_ari': 'Аспирантура, второе высшее образование, phD',\n",
              "  'grade_cl': '4 - 6 курсы ВУЗа (возраст примерно: 20-22 лет)',\n",
              "  'grade_dc': '1 - 3 курсы ВУЗа (возраст примерно: 17-19 лет)',\n",
              "  'grade_fk': '4 - 6 курсы ВУЗа (возраст примерно: 20-22 лет)',\n",
              "  'index_SMOG': 14.294811353101062,\n",
              "  'index_ari': 17.531640673671966,\n",
              "  'index_cl': 16.275580568061812,\n",
              "  'index_dc': 13.505160777911009,\n",
              "  'index_fk': 17.200720714980243},\n",
              " 'lang': 'ru',\n",
              " 'metrics': {'avg_slen': 15.412050256996002,\n",
              "  'avg_syl': 3.01406258684898,\n",
              "  'c_share': 16.843606988679525,\n",
              "  'chars': 458434,\n",
              "  'letters': 381506,\n",
              "  'n_complex_words': 9091,\n",
              "  'n_sentences': 3502,\n",
              "  'n_simple_words': 44882,\n",
              "  'n_syllabes': 162678,\n",
              "  'n_words': 53973,\n",
              "  'spaces': 58381,\n",
              "  'wsyllabes': {'1': 9581,\n",
              "   '10': 35,\n",
              "   '11': 6,\n",
              "   '12': 4,\n",
              "   '2': 12369,\n",
              "   '3': 13339,\n",
              "   '4': 9593,\n",
              "   '5': 5826,\n",
              "   '6': 2384,\n",
              "   '7': 648,\n",
              "   '8': 156,\n",
              "   '9': 32}},\n",
              " 'status': 0}"
            ]
          },
          "metadata": {
            "tags": []
          },
          "execution_count": 22
        }
      ]
    },
    {
      "cell_type": "markdown",
      "metadata": {
        "id": "ALl4hiPtzURC"
      },
      "source": [
        "### Grammar check"
      ]
    },
    {
      "cell_type": "code",
      "metadata": {
        "colab": {
          "base_uri": "https://localhost:8080/"
        },
        "id": "v_sEq_1AyVu3",
        "outputId": "b4ee5b4b-dc19-41df-e01b-f439b0d6799c"
      },
      "source": [
        "tool = language_tool_python.LanguageTool('en')"
      ],
      "execution_count": null,
      "outputs": [
        {
          "output_type": "stream",
          "text": [
            "Downloading LanguageTool: 100%|██████████| 190M/190M [00:26<00:00, 7.08MB/s]\n",
            "Unzipping /tmp/tmpzx1ghdaj.zip to /root/.cache/language_tool_python.\n",
            "Downloaded https://www.languagetool.org/download/LanguageTool-5.2.zip to /root/.cache/language_tool_python.\n"
          ],
          "name": "stderr"
        }
      ]
    },
    {
      "cell_type": "code",
      "metadata": {
        "id": "8UNTmnJpz-4M"
      },
      "source": [
        "def get_mistakes_summary(df_test, x):\n",
        "    test = list(df_test[x].values)\n",
        "    matches = []\n",
        "    for i in test:\n",
        "      matches.extend(tool.check(i))\n",
        "\n",
        "    categories = set([i.category for i in matches])\n",
        "\n",
        "    categories = {i:0 for i in categories}\n",
        "\n",
        "    for i in matches:\n",
        "      categories[i.category]+=1\n",
        "\n",
        "    return categories"
      ],
      "execution_count": null,
      "outputs": []
    },
    {
      "cell_type": "code",
      "metadata": {
        "id": "t2X86mYwz_UZ"
      },
      "source": [
        "errors = get_mistakes_summary(test_data, 'en_en')"
      ],
      "execution_count": null,
      "outputs": []
    },
    {
      "cell_type": "code",
      "metadata": {
        "colab": {
          "base_uri": "https://localhost:8080/"
        },
        "id": "LANBFQEbz_be",
        "outputId": "e5e4929f-0c31-4ad0-cb7e-8b46e01a79b3"
      },
      "source": [
        "errors"
      ],
      "execution_count": null,
      "outputs": [
        {
          "output_type": "execute_result",
          "data": {
            "text/plain": [
              "{'CASING': 38,\n",
              " 'COLLOCATIONS': 2,\n",
              " 'GRAMMAR': 23,\n",
              " 'MISC': 1,\n",
              " 'PUNCTUATION': 183,\n",
              " 'REDUNDANCY': 28,\n",
              " 'STYLE': 3,\n",
              " 'TYPOGRAPHY': 8081,\n",
              " 'TYPOS': 10}"
            ]
          },
          "metadata": {
            "tags": []
          },
          "execution_count": 91
        }
      ]
    },
    {
      "cell_type": "code",
      "metadata": {
        "id": "WRf1RYMU0iUL"
      },
      "source": [
        "tool = language_tool_python.LanguageTool('ru')"
      ],
      "execution_count": null,
      "outputs": []
    },
    {
      "cell_type": "code",
      "metadata": {
        "id": "pP-sxgdN0nUo"
      },
      "source": [
        "errors = get_mistakes_summary(test_data, 'en_ru')"
      ],
      "execution_count": null,
      "outputs": []
    },
    {
      "cell_type": "code",
      "metadata": {
        "colab": {
          "base_uri": "https://localhost:8080/"
        },
        "id": "rw8xvLZx0sXQ",
        "outputId": "9ad24a67-ebca-4933-d921-c6ae47d1bed8"
      },
      "source": [
        "errors"
      ],
      "execution_count": null,
      "outputs": [
        {
          "output_type": "execute_result",
          "data": {
            "text/plain": [
              "{'CASING': 57,\n",
              " 'GRAMMAR': 163,\n",
              " 'LOGIC': 12,\n",
              " 'MISC': 131,\n",
              " 'PUNCTUATION': 48,\n",
              " 'STYLE': 27,\n",
              " 'TYPOGRAPHY': 230,\n",
              " 'TYPOS': 1073}"
            ]
          },
          "metadata": {
            "tags": []
          },
          "execution_count": 94
        }
      ]
    },
    {
      "cell_type": "code",
      "metadata": {
        "id": "BspeytAd0oyy"
      },
      "source": [
        "errors = get_mistakes_summary(test_data, 'ru_ru')"
      ],
      "execution_count": null,
      "outputs": []
    },
    {
      "cell_type": "code",
      "metadata": {
        "colab": {
          "base_uri": "https://localhost:8080/"
        },
        "id": "2joE48Wo0vGe",
        "outputId": "369a8f00-4de1-4fe9-9e63-b84c908fa84a"
      },
      "source": [
        "errors"
      ],
      "execution_count": null,
      "outputs": [
        {
          "output_type": "execute_result",
          "data": {
            "text/plain": [
              "{'CASING': 8,\n",
              " 'GRAMMAR': 22,\n",
              " 'LOGIC': 27,\n",
              " 'PUNCTUATION': 20,\n",
              " 'STYLE': 14,\n",
              " 'TYPOGRAPHY': 393,\n",
              " 'TYPOS': 800}"
            ]
          },
          "metadata": {
            "tags": []
          },
          "execution_count": 96
        }
      ]
    },
    {
      "cell_type": "code",
      "metadata": {
        "id": "CMM0wwW_0uA2"
      },
      "source": [
        "errors = get_mistakes_summary(test_data, 'en_ru_ru')"
      ],
      "execution_count": null,
      "outputs": []
    },
    {
      "cell_type": "code",
      "metadata": {
        "colab": {
          "base_uri": "https://localhost:8080/"
        },
        "id": "Y14Kawp70ysX",
        "outputId": "d018f843-6423-4f3e-e5a2-f3198bfcf722"
      },
      "source": [
        "errors"
      ],
      "execution_count": null,
      "outputs": [
        {
          "output_type": "execute_result",
          "data": {
            "text/plain": [
              "{'CASING': 17,\n",
              " 'GRAMMAR': 20,\n",
              " 'LOGIC': 27,\n",
              " 'PUNCTUATION': 21,\n",
              " 'STYLE': 14,\n",
              " 'TYPOGRAPHY': 398,\n",
              " 'TYPOS': 800}"
            ]
          },
          "metadata": {
            "tags": []
          },
          "execution_count": 98
        }
      ]
    },
    {
      "cell_type": "code",
      "metadata": {
        "id": "9sDrbpwY05Q7"
      },
      "source": [
        "# data_test.to_csv('/content/drive/MyDrive/MT_sentence_simpl/predictions/all_models_pred.csv', index='False', sep='\\t')\n",
        "# data_test = pd.read_csv('/content/drive/MyDrive/MT_sentence_simpl/predictions/all_models_pred.csv',  sep='\\t')"
      ],
      "execution_count": null,
      "outputs": []
    },
    {
      "cell_type": "code",
      "metadata": {
        "colab": {
          "base_uri": "https://localhost:8080/",
          "height": 405
        },
        "id": "NAQ0g25nktME",
        "outputId": "fbe87434-1c86-4e0b-c959-9a20f7680479"
      },
      "source": [
        "data_test[['INPUT:source', 'en_ru']].sample(6)"
      ],
      "execution_count": null,
      "outputs": [
        {
          "output_type": "execute_result",
          "data": {
            "text/html": [
              "<div>\n",
              "<style scoped>\n",
              "    .dataframe tbody tr th:only-of-type {\n",
              "        vertical-align: middle;\n",
              "    }\n",
              "\n",
              "    .dataframe tbody tr th {\n",
              "        vertical-align: top;\n",
              "    }\n",
              "\n",
              "    .dataframe thead th {\n",
              "        text-align: right;\n",
              "    }\n",
              "</style>\n",
              "<table border=\"1\" class=\"dataframe\">\n",
              "  <thead>\n",
              "    <tr style=\"text-align: right;\">\n",
              "      <th></th>\n",
              "      <th>INPUT:source</th>\n",
              "      <th>en_ru</th>\n",
              "    </tr>\n",
              "  </thead>\n",
              "  <tbody>\n",
              "    <tr>\n",
              "      <th>2115</th>\n",
              "      <td>Перевод туризма в систему профсоюзов первоначально сопровождался отменой зачёта достижений туристов в виде спортивных разрядов и званий.</td>\n",
              "      <td>Передача туризма в систему профсоюзов вначале сопровождалась отменением туристических достижения в виде видов спорта и титулов.</td>\n",
              "    </tr>\n",
              "    <tr>\n",
              "      <th>1560</th>\n",
              "      <td>На Марсе имеется множество геологических образований, напоминающих водную эрозию, в частности, высохшие русла рек.</td>\n",
              "      <td>Есть много геологических объектов на Марсе, похожих на эрозию воды, таких как сухие реки.</td>\n",
              "    </tr>\n",
              "    <tr>\n",
              "      <th>3171</th>\n",
              "      <td>Украина богата туристическими возможностями: Карпаты, исторические памятники старинных украинских городов, сельский (зелёный) туризм и природные заповедники.</td>\n",
              "      <td>В Украине много туристических возможностей: Карпатины, исторические памятники древних украинских городов, сельский (зеленый) туризм и естественные заповедники.</td>\n",
              "    </tr>\n",
              "    <tr>\n",
              "      <th>1085</th>\n",
              "      <td>Зависимость численности, распределения, плодовитости и миграций белки, кедровки и прочих от урожая кедровых орехов и других хвойных пород.</td>\n",
              "      <td>Это зависит от размера, распределения, плодородности и миграции белков, герцогства и других факторов на производство pine nuts и других деревьев.</td>\n",
              "    </tr>\n",
              "    <tr>\n",
              "      <th>712</th>\n",
              "      <td>Военное командование противоборствующих сторон в годы Гражданской войны сумело успешно решить вопросы использования крупных масс кавалерии для выполнения оперативных задач.</td>\n",
              "      <td>Военное командование вооруженных сил во время Гражданской войны успешно устранило проблему использования больших массов армии для выполнения операций.</td>\n",
              "    </tr>\n",
              "    <tr>\n",
              "      <th>3025</th>\n",
              "      <td>Также во многих играх серии присутствуют предметы коллекционирования и случайные события в открытом мире.</td>\n",
              "      <td>Многие игры серии также содержат коллекционные предметы и случайные события в открытом мире.</td>\n",
              "    </tr>\n",
              "  </tbody>\n",
              "</table>\n",
              "</div>"
            ],
            "text/plain": [
              "                                                                                                                                                                      INPUT:source                                                                                                                                                            en_ru\n",
              "2115                                      Перевод туризма в систему профсоюзов первоначально сопровождался отменой зачёта достижений туристов в виде спортивных разрядов и званий.                                  Передача туризма в систему профсоюзов вначале сопровождалась отменением туристических достижения в виде видов спорта и титулов.\n",
              "1560                                                            На Марсе имеется множество геологических образований, напоминающих водную эрозию, в частности, высохшие русла рек.                                                                        Есть много геологических объектов на Марсе, похожих на эрозию воды, таких как сухие реки.\n",
              "3171                 Украина богата туристическими возможностями: Карпаты, исторические памятники старинных украинских городов, сельский (зелёный) туризм и природные заповедники.  В Украине много туристических возможностей: Карпатины, исторические памятники древних украинских городов, сельский (зеленый) туризм и естественные заповедники.\n",
              "1085                                    Зависимость численности, распределения, плодовитости и миграций белки, кедровки и прочих от урожая кедровых орехов и других хвойных пород.                Это зависит от размера, распределения, плодородности и миграции белков, герцогства и других факторов на производство pine nuts и других деревьев.\n",
              "712   Военное командование противоборствующих сторон в годы Гражданской войны сумело успешно решить вопросы использования крупных масс кавалерии для выполнения оперативных задач.           Военное командование вооруженных сил во время Гражданской войны успешно устранило проблему использования больших массов армии для выполнения операций.\n",
              "3025                                                                     Также во многих играх серии присутствуют предметы коллекционирования и случайные события в открытом мире.                                                                     Многие игры серии также содержат коллекционные предметы и случайные события в открытом мире."
            ]
          },
          "metadata": {
            "tags": []
          },
          "execution_count": 26
        }
      ]
    },
    {
      "cell_type": "code",
      "metadata": {
        "colab": {
          "base_uri": "https://localhost:8080/",
          "height": 374
        },
        "id": "H-ASXoO8l6jJ",
        "outputId": "df65da4e-fecf-4a61-d027-0ffdfd78599b"
      },
      "source": [
        "data_test[['INPUT:source', 'ru_ru']].head(5)"
      ],
      "execution_count": null,
      "outputs": [
        {
          "output_type": "execute_result",
          "data": {
            "text/html": [
              "<div>\n",
              "<style scoped>\n",
              "    .dataframe tbody tr th:only-of-type {\n",
              "        vertical-align: middle;\n",
              "    }\n",
              "\n",
              "    .dataframe tbody tr th {\n",
              "        vertical-align: top;\n",
              "    }\n",
              "\n",
              "    .dataframe thead th {\n",
              "        text-align: right;\n",
              "    }\n",
              "</style>\n",
              "<table border=\"1\" class=\"dataframe\">\n",
              "  <thead>\n",
              "    <tr style=\"text-align: right;\">\n",
              "      <th></th>\n",
              "      <th>INPUT:source</th>\n",
              "      <th>ru_ru</th>\n",
              "    </tr>\n",
              "  </thead>\n",
              "  <tbody>\n",
              "    <tr>\n",
              "      <th>0</th>\n",
              "      <td>14 декабря 1944 года рабочий посёлок Ички был переименован в рабочий посёлок Советский, после чего поселковый совет стал называться Советским.</td>\n",
              "      <td>14 декабря 1944 года рабочий посёлок Ички был переименован в рабочий посёлок Советский, после чего поселковый совет стал называться Советским.</td>\n",
              "    </tr>\n",
              "    <tr>\n",
              "      <th>1</th>\n",
              "      <td>1960 году была выпущена модель 172A. Изменения: хвостовое оперение и руль направления с обратной стреловидностью и крепления для поплавкового шасси.</td>\n",
              "      <td>1960 году была выпущена модель 172A. Изменения: хвостовое оперение и руль направления с обратной стреловидностью и крепления для поплавкового шасси.</td>\n",
              "    </tr>\n",
              "    <tr>\n",
              "      <th>2</th>\n",
              "      <td>1960 году была выпущена модель 172A. Изменения: хвостовое оперение и руль направления с обратной стреловидностью и крепления для поплавкового шасси.</td>\n",
              "      <td>1960 году была выпущена модель 172A. Изменения: хвостовое оперение и руль направления с обратной стреловидностью и крепления для поплавкового шасси.</td>\n",
              "    </tr>\n",
              "    <tr>\n",
              "      <th>3</th>\n",
              "      <td>1960 году была выпущена модель 172A. Изменения: хвостовое оперение и руль направления с обратной стреловидностью и крепления для поплавкового шасси.</td>\n",
              "      <td>1960 году была выпущена модель 172A. Изменения: хвостовое оперение и руль направления с обратной стреловидностью и крепления для поплавкового шасси.</td>\n",
              "    </tr>\n",
              "    <tr>\n",
              "      <th>4</th>\n",
              "      <td>1960 году была выпущена модель 172A. Изменения: хвостовое оперение и руль направления с обратной стреловидностью и крепления для поплавкового шасси.</td>\n",
              "      <td>1960 году была выпущена модель 172A. Изменения: хвостовое оперение и руль направления с обратной стреловидностью и крепления для поплавкового шасси.</td>\n",
              "    </tr>\n",
              "  </tbody>\n",
              "</table>\n",
              "</div>"
            ],
            "text/plain": [
              "                                                                                                                                            INPUT:source                                                                                                                                                 ru_ru\n",
              "0         14 декабря 1944 года рабочий посёлок Ички был переименован в рабочий посёлок Советский, после чего поселковый совет стал называться Советским.        14 декабря 1944 года рабочий посёлок Ички был переименован в рабочий посёлок Советский, после чего поселковый совет стал называться Советским.\n",
              "1   1960 году была выпущена модель 172A. Изменения: хвостовое оперение и руль направления с обратной стреловидностью и крепления для поплавкового шасси.  1960 году была выпущена модель 172A. Изменения: хвостовое оперение и руль направления с обратной стреловидностью и крепления для поплавкового шасси.\n",
              "2   1960 году была выпущена модель 172A. Изменения: хвостовое оперение и руль направления с обратной стреловидностью и крепления для поплавкового шасси.  1960 году была выпущена модель 172A. Изменения: хвостовое оперение и руль направления с обратной стреловидностью и крепления для поплавкового шасси.\n",
              "3   1960 году была выпущена модель 172A. Изменения: хвостовое оперение и руль направления с обратной стреловидностью и крепления для поплавкового шасси.  1960 году была выпущена модель 172A. Изменения: хвостовое оперение и руль направления с обратной стреловидностью и крепления для поплавкового шасси.\n",
              "4   1960 году была выпущена модель 172A. Изменения: хвостовое оперение и руль направления с обратной стреловидностью и крепления для поплавкового шасси.  1960 году была выпущена модель 172A. Изменения: хвостовое оперение и руль направления с обратной стреловидностью и крепления для поплавкового шасси."
            ]
          },
          "metadata": {
            "tags": []
          },
          "execution_count": 32
        }
      ]
    },
    {
      "cell_type": "code",
      "metadata": {
        "id": "TodMWprUlntj"
      },
      "source": [
        ""
      ],
      "execution_count": null,
      "outputs": []
    }
  ]
}