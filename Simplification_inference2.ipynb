{
  "nbformat": 4,
  "nbformat_minor": 0,
  "metadata": {
    "colab": {
      "name": "Simplification_inference2.ipynb",
      "provenance": [],
      "collapsed_sections": [],
      "machine_shape": "hm",
      "mount_file_id": "1kt2gIUsSi7kYymcHBpsR3X5IxDafzK06",
      "authorship_tag": "ABX9TyNpWQ7wc2f8NeVLMzGq41Mm"
    },
    "kernelspec": {
      "name": "python3",
      "display_name": "Python 3"
    },
    "language_info": {
      "name": "python"
    },
    "accelerator": "GPU"
  },
  "cells": [
    {
      "cell_type": "markdown",
      "metadata": {
        "id": "4jNyS_uykvZR"
      },
      "source": [
        "# In this notebook several previously created models will be tested, namely:\n",
        "\n",
        "#### Firstly, some models were trained on data without additional filtration\n",
        "\n",
        "* Model trained on original WikiLarge data to perform task for English\n",
        "* Model trained only on the translated to Russian data.\n",
        "* Model trained firstly on the original data and then on the translated corpus\n",
        "* Bonus Model trained on pairs: original english - simplified russian sentence. So, it learns both translate and simplify at the same time.\n",
        "\n",
        "### Then, as the results were not satisfying, an addsitional filtration and data was added\n",
        "\n",
        "* Model trained on filtered original WikiLarge data to perform task for English\n",
        "* Model trained only on the filtere translated to Russian data.\n",
        "* Model trained firstly on the filtered original data and then on the filtered translated corpus\n",
        "* Model trained on russian corpus Paraphraser and the filtered translated corpus\n",
        "* Model trained only on russian corpus Paraphraser\n",
        "\n",
        "All the models will be tested on the dev part of the dataset presented in RuSimpleSentEval competition. For the two of the models the russian dataset firstly will be translated into English."
      ]
    },
    {
      "cell_type": "markdown",
      "metadata": {
        "id": "xty1N5e9k0MJ"
      },
      "source": [
        "## Necessary libraries"
      ]
    },
    {
      "cell_type": "code",
      "metadata": {
        "id": "z00ZCqLlkg_0"
      },
      "source": [
        "! pip install googletrans\n",
        "! pip install transformers\n",
        "! pip install laserembeddings\n",
        "! pip install sentence_transformers\n",
        "! pip install language_tool_python\n",
        "! pip install textstat"
      ],
      "execution_count": null,
      "outputs": []
    },
    {
      "cell_type": "code",
      "metadata": {
        "colab": {
          "base_uri": "https://localhost:8080/"
        },
        "id": "TaYaJ5CGkykd",
        "outputId": "a74312e0-e213-4cb6-e82b-6cc377cd9de6"
      },
      "source": [
        "! python -m laserembeddings download-models"
      ],
      "execution_count": 2,
      "outputs": [
        {
          "output_type": "stream",
          "text": [
            "Downloading models into /usr/local/lib/python3.7/dist-packages/laserembeddings/data\n",
            "\n",
            "✅   Downloaded https://dl.fbaipublicfiles.com/laser/models/93langs.fcodes    \n",
            "✅   Downloaded https://dl.fbaipublicfiles.com/laser/models/93langs.fvocab    \n",
            "✅   Downloaded https://dl.fbaipublicfiles.com/laser/models/bilstm.93langs.2018-12-26.pt    \n",
            "\n",
            "✨ You're all set!\n"
          ],
          "name": "stdout"
        }
      ]
    },
    {
      "cell_type": "code",
      "metadata": {
        "id": "rpHBBzLNk5a2"
      },
      "source": [
        "import nltk\n",
        "nltk.download('punkt')\n",
        "import pandas as pd\n",
        "import numpy as np\n",
        "import torch\n",
        "import language_tool_python\n",
        "import re\n",
        "import textstat\n",
        "from laserembeddings import Laser\n",
        "from sklearn.metrics.pairwise import cosine_similarity\n",
        "from sentence_transformers import SentenceTransformer\n",
        "from transformers import MarianMTModel, MarianTokenizer\n",
        "from transformers.hf_api import HfApi\n",
        "from googletrans import Translator\n",
        "from tqdm import tqdm_notebook\n",
        "\n",
        "pd.set_option('display.max_rows', None)\n",
        "pd.set_option('display.max_columns', 500)\n",
        "pd.set_option('display.width', 1000)\n",
        "pd.set_option('display.max_colwidth', None)"
      ],
      "execution_count": null,
      "outputs": []
    },
    {
      "cell_type": "markdown",
      "metadata": {
        "id": "NEds3NK5lBEL"
      },
      "source": [
        "## Loading data..."
      ]
    },
    {
      "cell_type": "code",
      "metadata": {
        "id": "ABUPxwWMk8Qi"
      },
      "source": [
        "! mkdir data\n",
        "! gdown https://drive.google.com/uc?id=1bJo8TagTGKa0uyppQRqsHrKHyYO5tcZc\n",
        "! gdown https://drive.google.com/uc?id=11lqipq6ggrgCk8bVxQ4-uuPVMCKN5ebU\n",
        "! gdown https://drive.google.com/uc?id=1dB3X-Wx8qU_5nDG_pxAmLvo5H_sgnHrE\n",
        "! gdown https://drive.google.com/uc?id=1IVz3XC8Rm7hQCyx3xCcABjhaENrKABvF"
      ],
      "execution_count": null,
      "outputs": []
    },
    {
      "cell_type": "code",
      "metadata": {
        "id": "xcd2NtsplC-y"
      },
      "source": [
        "test_data = pd.read_csv('/content/test_baselines.csv', sep='\\t')\n",
        "test_data['INPUT:source'] = test_data['INPUT:source'].apply(lambda x: re.sub(r'[\\t\\n\\r\\f\\v]+', \"\",x))\n",
        "test_data['OUTPUT:output'] = test_data['OUTPUT:output'].apply(lambda x: re.sub(r'[\\t\\n\\r\\f\\v]+', \"\",x))\n",
        "test_data.to_csv('test_data_new.csv', index=False, sep='\\t')"
      ],
      "execution_count": 5,
      "outputs": []
    },
    {
      "cell_type": "code",
      "metadata": {
        "id": "2XIYiYh8lF-0"
      },
      "source": [
        "data_train = pd.read_csv('/content/wiki_train_cleaned_translated_sd.csv')\n",
        "data_dev = pd.read_csv('/content/wiki_dev_cleaned_translated_sd.csv')\n",
        "data_test  = pd.read_csv('/content/test_data_new.csv',  sep='\\t')"
      ],
      "execution_count": 6,
      "outputs": []
    },
    {
      "cell_type": "code",
      "metadata": {
        "colab": {
          "base_uri": "https://localhost:8080/",
          "height": 1000
        },
        "id": "_izH-gellHmS",
        "outputId": "37b4d498-fe39-49f1-e4f3-3da3f6d210cb"
      },
      "source": [
        "data_test.sample(5)"
      ],
      "execution_count": 7,
      "outputs": [
        {
          "output_type": "execute_result",
          "data": {
            "text/html": [
              "<div>\n",
              "<style scoped>\n",
              "    .dataframe tbody tr th:only-of-type {\n",
              "        vertical-align: middle;\n",
              "    }\n",
              "\n",
              "    .dataframe tbody tr th {\n",
              "        vertical-align: top;\n",
              "    }\n",
              "\n",
              "    .dataframe thead th {\n",
              "        text-align: right;\n",
              "    }\n",
              "</style>\n",
              "<table border=\"1\" class=\"dataframe\">\n",
              "  <thead>\n",
              "    <tr style=\"text-align: right;\">\n",
              "      <th></th>\n",
              "      <th>Unnamed: 0</th>\n",
              "      <th>INPUT:source</th>\n",
              "      <th>OUTPUT:output</th>\n",
              "      <th>trunctuation_bs</th>\n",
              "      <th>gpt_bs</th>\n",
              "      <th>cos_sim_ref</th>\n",
              "      <th>cos_sim_tr_bs</th>\n",
              "      <th>cos_sim_gpt_bs</th>\n",
              "    </tr>\n",
              "  </thead>\n",
              "  <tbody>\n",
              "    <tr>\n",
              "      <th>1141</th>\n",
              "      <td>3356</td>\n",
              "      <td>Здесь он пишет «Письмо Онегина», тем самым окончательно завершая работу над романом в стихах, который был его «спутником верным» на протяжении восьми лет жизни.</td>\n",
              "      <td>Здесь он написал \"Письмо Онегина\" и этим закончил поэму, которую писал 8 лет.</td>\n",
              "      <td>Здесь он пишет «Письмо Онегина», тем самым окончательно завершая работу над романом в стихах,.</td>\n",
              "      <td>Здесь он пишет «Письмо Онегина», тем самым окончательно завершая работу о романе в 1843 году.</td>\n",
              "      <td>0.790754</td>\n",
              "      <td>0.844982</td>\n",
              "      <td>0.838458</td>\n",
              "    </tr>\n",
              "    <tr>\n",
              "      <th>314</th>\n",
              "      <td>1105</td>\n",
              "      <td>В настоящее время не существует лекарств, способных обратить или хотя бы замедлить развитие болезни Альцгеймера.</td>\n",
              "      <td>Сейчас нет лекарств, которые могли хотя бы затормозить  развитие болезни Альцгеймера.</td>\n",
              "      <td>В настоящее время не существует лекарств, способных обратить или.</td>\n",
              "      <td>В настоящее время не существует лекарств, способных обратить или хотя бы замедлить развитие болезни.</td>\n",
              "      <td>0.988584</td>\n",
              "      <td>0.985970</td>\n",
              "      <td>0.994800</td>\n",
              "    </tr>\n",
              "    <tr>\n",
              "      <th>1227</th>\n",
              "      <td>3610</td>\n",
              "      <td>Имперский камерный суд состоял теперь в равной пропорции из католиков и протестантов и должен был стать основным инструментом мирного урегулирования.</td>\n",
              "      <td>Имперский камерный суд теперь составляют католики и протестанты.</td>\n",
              "      <td>Имперский камерный суд состоял теперь в равной пропорции из католиков и протестантов.</td>\n",
              "      <td>Имперский камерный суд состоял теперь в равной пропорции из католиков и протестантов, которые были равны между собой как по численности населения (апрель 1797 года), так даже для их веры.</td>\n",
              "      <td>0.951733</td>\n",
              "      <td>0.977822</td>\n",
              "      <td>0.750965</td>\n",
              "    </tr>\n",
              "    <tr>\n",
              "      <th>351</th>\n",
              "      <td>1181</td>\n",
              "      <td>В основе заболевания лежит ускорение инактивации инсулина или же специфическое разрушение рецепторов инсулина на мембранах инсулинзависимых клеток.</td>\n",
              "      <td>Причина заболевания - снижение инсулина или разрешение рецептеров инсулина на клетки;</td>\n",
              "      <td>В основе заболевания лежит ускорение инактивации инсулина или же специфическое.</td>\n",
              "      <td>В основе заболевания лежит ускорение инактивации инсулина или же специфическое повышение иммунитета в крови.</td>\n",
              "      <td>0.957886</td>\n",
              "      <td>0.966153</td>\n",
              "      <td>0.975032</td>\n",
              "    </tr>\n",
              "    <tr>\n",
              "      <th>914</th>\n",
              "      <td>2698</td>\n",
              "      <td>Далее, азербайджанские войска начали наступление по нескольким направлениям с целью подчинить над армянскими сёлами Нагорного Карабаха.</td>\n",
              "      <td>войска азербайджана начали наступление с целью захвата Нагорного Карабаха</td>\n",
              "      <td>Далее, азербайджанские войска начали наступление по нескольким направлениям с.</td>\n",
              "      <td>Далее, азербайджанские войска начали наступление по нескольким направлениям с целью подчинить над армянской армией Азербайджан и его армию в конечном итоге.</td>\n",
              "      <td>0.978669</td>\n",
              "      <td>0.981258</td>\n",
              "      <td>0.928678</td>\n",
              "    </tr>\n",
              "  </tbody>\n",
              "</table>\n",
              "</div>"
            ],
            "text/plain": [
              "      Unnamed: 0                                                                                                                                                      INPUT:source                                                                          OUTPUT:output                                                                                 trunctuation_bs                                                                                                                                                                                       gpt_bs  cos_sim_ref  cos_sim_tr_bs  cos_sim_gpt_bs\n",
              "1141        3356  Здесь он пишет «Письмо Онегина», тем самым окончательно завершая работу над романом в стихах, который был его «спутником верным» на протяжении восьми лет жизни.          Здесь он написал \"Письмо Онегина\" и этим закончил поэму, которую писал 8 лет.  Здесь он пишет «Письмо Онегина», тем самым окончательно завершая работу над романом в стихах,.                                                                                                Здесь он пишет «Письмо Онегина», тем самым окончательно завершая работу о романе в 1843 году.     0.790754       0.844982        0.838458\n",
              "314         1105                                                  В настоящее время не существует лекарств, способных обратить или хотя бы замедлить развитие болезни Альцгеймера.  Сейчас нет лекарств, которые могли хотя бы затормозить  развитие болезни Альцгеймера.                               В настоящее время не существует лекарств, способных обратить или.                                                                                         В настоящее время не существует лекарств, способных обратить или хотя бы замедлить развитие болезни.     0.988584       0.985970        0.994800\n",
              "1227        3610             Имперский камерный суд состоял теперь в равной пропорции из католиков и протестантов и должен был стать основным инструментом мирного урегулирования.                       Имперский камерный суд теперь составляют католики и протестанты.           Имперский камерный суд состоял теперь в равной пропорции из католиков и протестантов.  Имперский камерный суд состоял теперь в равной пропорции из католиков и протестантов, которые были равны между собой как по численности населения (апрель 1797 года), так даже для их веры.     0.951733       0.977822        0.750965\n",
              "351         1181               В основе заболевания лежит ускорение инактивации инсулина или же специфическое разрушение рецепторов инсулина на мембранах инсулинзависимых клеток.  Причина заболевания - снижение инсулина или разрешение рецептеров инсулина на клетки;                 В основе заболевания лежит ускорение инактивации инсулина или же специфическое.                                                                                 В основе заболевания лежит ускорение инактивации инсулина или же специфическое повышение иммунитета в крови.     0.957886       0.966153        0.975032\n",
              "914         2698                           Далее, азербайджанские войска начали наступление по нескольким направлениям с целью подчинить над армянскими сёлами Нагорного Карабаха.              войска азербайджана начали наступление с целью захвата Нагорного Карабаха                  Далее, азербайджанские войска начали наступление по нескольким направлениям с.                                 Далее, азербайджанские войска начали наступление по нескольким направлениям с целью подчинить над армянской армией Азербайджан и его армию в конечном итоге.     0.978669       0.981258        0.928678"
            ]
          },
          "metadata": {
            "tags": []
          },
          "execution_count": 7
        }
      ]
    },
    {
      "cell_type": "markdown",
      "metadata": {
        "id": "FdoUHAPilX72"
      },
      "source": [
        "## Setting the environment for Fairseq mBart"
      ]
    },
    {
      "cell_type": "code",
      "metadata": {
        "id": "2qPsIYtGlNp1"
      },
      "source": [
        "! wget https://dl.fbaipublicfiles.com/fairseq/models/mbart/mbart.cc25.v2.tar.gz\n",
        "! tar -xzvf /content/mbart.cc25.v2.tar.gz\n",
        "! apt-get install cmake build-essential pkg-config libgoogle-perftools-dev"
      ],
      "execution_count": null,
      "outputs": []
    },
    {
      "cell_type": "code",
      "metadata": {
        "colab": {
          "base_uri": "https://localhost:8080/"
        },
        "id": "QHwitXq_lZq6",
        "outputId": "44e57499-ddc0-4c34-9206-b97ec7dc079b"
      },
      "source": [
        "! git clone https://github.com/google/sentencepiece.git \n",
        "%cd sentencepiece\n",
        "! mkdir build"
      ],
      "execution_count": 8,
      "outputs": [
        {
          "output_type": "stream",
          "text": [
            "Cloning into 'sentencepiece'...\n",
            "remote: Enumerating objects: 3690, done.\u001b[K\n",
            "remote: Counting objects: 100% (10/10), done.\u001b[K\n",
            "remote: Compressing objects: 100% (10/10), done.\u001b[K\n",
            "remote: Total 3690 (delta 2), reused 1 (delta 0), pack-reused 3680\u001b[K\n",
            "Receiving objects: 100% (3690/3690), 28.58 MiB | 24.21 MiB/s, done.\n",
            "Resolving deltas: 100% (2585/2585), done.\n",
            "/content/sentencepiece\n"
          ],
          "name": "stdout"
        }
      ]
    },
    {
      "cell_type": "code",
      "metadata": {
        "id": "63yx9ddSlbQG"
      },
      "source": [
        "%cd build\n",
        "!cmake ..\n",
        "!make\n",
        "!make install\n",
        "!ldconfig -v"
      ],
      "execution_count": null,
      "outputs": []
    },
    {
      "cell_type": "code",
      "metadata": {
        "colab": {
          "base_uri": "https://localhost:8080/"
        },
        "id": "puKoRAY9lc9f",
        "outputId": "7c760d14-348a-40b0-a120-49ae4bd7e632"
      },
      "source": [
        "%cd /content"
      ],
      "execution_count": 10,
      "outputs": [
        {
          "output_type": "stream",
          "text": [
            "/content\n"
          ],
          "name": "stdout"
        }
      ]
    },
    {
      "cell_type": "code",
      "metadata": {
        "id": "x_ElKQ6Ilekg"
      },
      "source": [
        "! git clone https://github.com/pytorch/fairseq\n",
        "%cd /content/fairseq/\n",
        "! python -m pip install --editable .\n",
        "%cd /content\n",
        "\n",
        "! echo $PYTHONPATH\n",
        "\n",
        "import os\n",
        "os.environ['PYTHONPATH'] += \":/content/fairseq/\"\n",
        "\n",
        "! echo $PYTHONPATH\n"
      ],
      "execution_count": null,
      "outputs": []
    },
    {
      "cell_type": "code",
      "metadata": {
        "id": "SXB59jarlgQ1"
      },
      "source": [
        "! git clone https://github.com/feralvam/easse\n",
        "! git clone https://github.com/Andoree/sent_simplification.git\n",
        "%cp /content/sent_simplification/sari.py /content/easse/easse\n",
        "\n",
        "%cd easse\n",
        "! pip install ."
      ],
      "execution_count": null,
      "outputs": []
    },
    {
      "cell_type": "code",
      "metadata": {
        "colab": {
          "base_uri": "https://localhost:8080/"
        },
        "id": "90eGBTlHliCK",
        "outputId": "4239248f-0184-4a55-b1fa-73e1b0b5c55a"
      },
      "source": [
        "%cd /content"
      ],
      "execution_count": 13,
      "outputs": [
        {
          "output_type": "stream",
          "text": [
            "/content\n"
          ],
          "name": "stdout"
        }
      ]
    },
    {
      "cell_type": "code",
      "metadata": {
        "colab": {
          "base_uri": "https://localhost:8080/"
        },
        "id": "vS5tojM1ljjc",
        "outputId": "83c1094d-aa01-461a-bce0-c9cd9f418c0e"
      },
      "source": [
        "! mkdir prepared_data\n",
        "! mkdir preds"
      ],
      "execution_count": 1,
      "outputs": [
        {
          "output_type": "stream",
          "text": [
            "mkdir: cannot create directory ‘prepared_data’: File exists\n",
            "mkdir: cannot create directory ‘preds’: File exists\n"
          ],
          "name": "stdout"
        }
      ]
    },
    {
      "cell_type": "markdown",
      "metadata": {
        "id": "uHCPFmPDl7oF"
      },
      "source": [
        "## Translation to English\n",
        "\n",
        "We have to translate data to English to test the english models and also the model trained on english source and russian target sentences"
      ]
    },
    {
      "cell_type": "code",
      "metadata": {
        "id": "qt5w19wZllFz"
      },
      "source": [
        "data_test = data_test[['Unnamed: 0', 'INPUT:source','OUTPUT:output', 'trunctuation_bs', 'gpt_bs']]"
      ],
      "execution_count": 7,
      "outputs": []
    },
    {
      "cell_type": "code",
      "metadata": {
        "id": "68VEX4ACmBin"
      },
      "source": [
        "# helper functions\n",
        "\n",
        "def batch_generator(\n",
        "        list_of_sentences,\n",
        "        size=64\n",
        "):\n",
        "    num_batch = len(list_of_sentences)//size\n",
        "    for index in range(num_batch):\n",
        "        yield list_of_sentences[index*size:(index+1)*size]\n",
        "    yield list_of_sentences[num_batch*size:]\n",
        "\n",
        "\n",
        "def translate_to_eng(model, tok, src, dst):\n",
        "\n",
        "  translations_src = []\n",
        "  for i in tqdm_notebook(batch_generator(src)):\n",
        "    l = tok(i, return_tensors=\"pt\", padding=True).to(device)\n",
        "    translated = model.generate(**l)\n",
        "    translations_src.extend([tok.decode(t, skip_special_tokens=True) for t in translated])\n",
        "\n",
        "  translations_dst = []\n",
        "  for i in tqdm_notebook(batch_generator(dst)):\n",
        "    l = tok(i, return_tensors=\"pt\", padding=True).to(device)\n",
        "    translated = model.generate(**l)\n",
        "    translations_dst.extend([tok.decode(t, skip_special_tokens=True) for t in translated])\n",
        "\n",
        "  return translations_src, translations_dst"
      ],
      "execution_count": 8,
      "outputs": []
    },
    {
      "cell_type": "code",
      "metadata": {
        "id": "aRc0m1mKmB6q"
      },
      "source": [
        "# import en-ru model from transformers\n",
        "model_name = 'Helsinki-NLP/opus-mt-ru-en'\n",
        "tokenizer = MarianTokenizer.from_pretrained(model_name)\n",
        "model = MarianMTModel.from_pretrained(model_name)\n",
        "device = torch.device('cuda' if torch.cuda.is_available() else 'cpu')\n",
        "device\n",
        "model.to(device)\n",
        "\n",
        "data_test['INPUT:source'] = data_test['INPUT:source'].astype(str)\n",
        "data_test['OUTPUT:output'] = data_test['OUTPUT:output'].astype(str)"
      ],
      "execution_count": null,
      "outputs": []
    },
    {
      "cell_type": "code",
      "metadata": {
        "id": "f9o1MfThmOvd"
      },
      "source": [
        "# test--------------------------------------------------\n",
        "src, dst = translate_to_eng(model, tokenizer, list(data_test['INPUT:source'].values), list(data_test['OUTPUT:output'].values))\n",
        "for i, obj  in enumerate(src):\n",
        "  src[i] = src[i].replace('&gt;', '')\n",
        "  #src[i] = re.sub(r'[&gt;{1,}]', \" \", src[i])\n",
        "  src[i] = src[i].replace('&lt;', '')\n",
        "  src[i] = src[i].replace('()', '')\n",
        "  src[i] = src[i].replace('&quot;', '') \n",
        "  src[i] = src[i].replace('&apos;', '')\n",
        "for i, obj in enumerate(dst):\n",
        "  dst[i] = dst[i].replace('&gt;', '')\n",
        "  dst[i] = dst[i].replace('&lt;', '')\n",
        "  dst[i] = dst[i].replace('()', '')\n",
        "  dst[i] = dst[i].replace('&quot;', '')\n",
        "  dst[i] = dst[i].replace('&apos;', '')\n",
        "data_test['src'] = src\n",
        "data_test['dst'] = dst\n",
        "data_test.to_csv('/content/drive/MyDrive/MT_sentence_simpl/wiki_test_dev_eng.csv', sep='\\t')"
      ],
      "execution_count": null,
      "outputs": []
    },
    {
      "cell_type": "code",
      "metadata": {
        "colab": {
          "base_uri": "https://localhost:8080/",
          "height": 1000
        },
        "id": "NnAzBUK-wmS8",
        "outputId": "6ef2a182-56dc-45a7-b657-3461075e8659"
      },
      "source": [
        "data_test.sample(5)"
      ],
      "execution_count": 13,
      "outputs": [
        {
          "output_type": "execute_result",
          "data": {
            "text/html": [
              "<div>\n",
              "<style scoped>\n",
              "    .dataframe tbody tr th:only-of-type {\n",
              "        vertical-align: middle;\n",
              "    }\n",
              "\n",
              "    .dataframe tbody tr th {\n",
              "        vertical-align: top;\n",
              "    }\n",
              "\n",
              "    .dataframe thead th {\n",
              "        text-align: right;\n",
              "    }\n",
              "</style>\n",
              "<table border=\"1\" class=\"dataframe\">\n",
              "  <thead>\n",
              "    <tr style=\"text-align: right;\">\n",
              "      <th></th>\n",
              "      <th>Unnamed: 0</th>\n",
              "      <th>INPUT:source</th>\n",
              "      <th>OUTPUT:output</th>\n",
              "      <th>trunctuation_bs</th>\n",
              "      <th>gpt_bs</th>\n",
              "      <th>src</th>\n",
              "      <th>dst</th>\n",
              "    </tr>\n",
              "  </thead>\n",
              "  <tbody>\n",
              "    <tr>\n",
              "      <th>1021</th>\n",
              "      <td>3120</td>\n",
              "      <td>Если нельзя установить, какая фигура была тронута первой, считается, что это фигура игрока, за которым очередь хода, а не его партнёра.</td>\n",
              "      <td>Если неизвестно, какая фигура была тронута первой, считается, что это фигура того игрока, которой должен ходить.</td>\n",
              "      <td>Если нельзя установить, какая фигура была тронута первой, считается, что это фигура.</td>\n",
              "      <td>Если нельзя установить, какая фигура была тронута первой, считается, что это фигура «неправильная».</td>\n",
              "      <td>If it is not possible to determine which figure was touched by the first one, it is believed to be the figure of the player behind whom the turn of the move is not his partner.</td>\n",
              "      <td>If it is not known which figure was touched by the first one, it is believed to be the figure of the player that should walk.</td>\n",
              "    </tr>\n",
              "    <tr>\n",
              "      <th>2001</th>\n",
              "      <td>5984</td>\n",
              "      <td>Оставленный в Кинбурне гарнизон не успел до холодов восстановить сгоревшие в результате бомбардировки казармы, поэтому жил в землянках.</td>\n",
              "      <td>Гарнизон Кинбурга не смог до наступления зимы отстроить сгоревшие после бомбардировки казармы. Поэтому солдатам пришлось разместится в вырытых землянках.</td>\n",
              "      <td>Оставленный в Кинбурне гарнизон не успел до холодов восстановить сгоревшие.</td>\n",
              "      <td>Оставленный в Кинбурне гарнизон не успел до холодов восстановить сгоревшие постройки и деревни, а также несколько других деревень.</td>\n",
              "      <td>The garrison left in Kinbourne was not able to recover the burning of the barracks, so it lived in the ground.</td>\n",
              "      <td>The Kinburg Garnizon was unable until winter to rebuild the burning barracks after the bombing, so the soldiers had to sit in dug-out strawberries.</td>\n",
              "    </tr>\n",
              "    <tr>\n",
              "      <th>602</th>\n",
              "      <td>1873</td>\n",
              "      <td>Вариант интерпретатора с синхронизацией доступа к отдельным объектам вместо глобальной блокировки из-за частых захватов/освобождений блокировок оказался слишком медленным.</td>\n",
              "      <td>Вариант доступа к отдельным объектам оказался слишком медленным</td>\n",
              "      <td>Вариант интерпретатора с синхронизацией доступа к отдельным объектам вместо глобальной.</td>\n",
              "      <td>Вариант интерпретатора с синхронизацией доступа к отдельным объектам вместо глобальной блокировки в сети позволяет получить доступ только из одной области, например.</td>\n",
              "      <td>The interpretation option of synchronizing access to individual objects instead of global blockage due to frequent captures/releases of blocks has been too slow.</td>\n",
              "      <td>The option of access to individual facilities proved to be too slow</td>\n",
              "    </tr>\n",
              "    <tr>\n",
              "      <th>19</th>\n",
              "      <td>71</td>\n",
              "      <td>А по размаху политических репрессий против инакомыслящих хрущёвский режим стоит несоизмеримо ближе к Сталину, чем брежневский.</td>\n",
              "      <td>Политический режим Хрущёва больше похож на  режим Сталина, чем режим Брежнева.</td>\n",
              "      <td>А по размаху политических репрессий против инакомыслящих хрущёвский режим.</td>\n",
              "      <td>А по размаху политических репрессий против инакомыслящих хрущёвский СССР был третьим советским государством, состоявшим из пяти округов.</td>\n",
              "      <td>And by the scale of the political repression against the dissenting Kraushkov regime is disproportionately closer to Stalin than the Brezhnevian regime.</td>\n",
              "      <td>Chrushchev's political regime is more like Stalin's regime than Brezhnev's.</td>\n",
              "    </tr>\n",
              "    <tr>\n",
              "      <th>2581</th>\n",
              "      <td>7658</td>\n",
              "      <td>Различные же теории заговоров создают атмосферу страха, слухи и предрассудки, подобные теории осуждаются научным сообществом.</td>\n",
              "      <td>Найчное сообщества и рассуждения о теориях и их влияния на разум .</td>\n",
              "      <td>Различные же теории заговоров создают атмосферу страха, слухи и.</td>\n",
              "      <td>Различные же теории заговоров создают атмосферу страха, слухи и предрассудки, подобные тому что говорят.</td>\n",
              "      <td>Various conspiracy theories, however, create an atmosphere of fear, rumours and prejudice, such theories being condemned by the scientific community.</td>\n",
              "      <td>Scientific communities and discourse about theories and their influence on the mind.</td>\n",
              "    </tr>\n",
              "  </tbody>\n",
              "</table>\n",
              "</div>"
            ],
            "text/plain": [
              "      Unnamed: 0                                                                                                                                                                 INPUT:source                                                                                                                                              OUTPUT:output                                                                          trunctuation_bs                                                                                                                                                                 gpt_bs                                                                                                                                                                               src                                                                                                                                                  dst\n",
              "1021        3120                                      Если нельзя установить, какая фигура была тронута первой, считается, что это фигура игрока, за которым очередь хода, а не его партнёра.                                           Если неизвестно, какая фигура была тронута первой, считается, что это фигура того игрока, которой должен ходить.     Если нельзя установить, какая фигура была тронута первой, считается, что это фигура.                                                                    Если нельзя установить, какая фигура была тронута первой, считается, что это фигура «неправильная».  If it is not possible to determine which figure was touched by the first one, it is believed to be the figure of the player behind whom the turn of the move is not his partner.                        If it is not known which figure was touched by the first one, it is believed to be the figure of the player that should walk.\n",
              "2001        5984                                      Оставленный в Кинбурне гарнизон не успел до холодов восстановить сгоревшие в результате бомбардировки казармы, поэтому жил в землянках.  Гарнизон Кинбурга не смог до наступления зимы отстроить сгоревшие после бомбардировки казармы. Поэтому солдатам пришлось разместится в вырытых землянках.              Оставленный в Кинбурне гарнизон не успел до холодов восстановить сгоревшие.                                     Оставленный в Кинбурне гарнизон не успел до холодов восстановить сгоревшие постройки и деревни, а также несколько других деревень.                                                                    The garrison left in Kinbourne was not able to recover the burning of the barracks, so it lived in the ground.  The Kinburg Garnizon was unable until winter to rebuild the burning barracks after the bombing, so the soldiers had to sit in dug-out strawberries.\n",
              "602         1873  Вариант интерпретатора с синхронизацией доступа к отдельным объектам вместо глобальной блокировки из-за частых захватов/освобождений блокировок оказался слишком медленным.                                                                                            Вариант доступа к отдельным объектам оказался слишком медленным  Вариант интерпретатора с синхронизацией доступа к отдельным объектам вместо глобальной.  Вариант интерпретатора с синхронизацией доступа к отдельным объектам вместо глобальной блокировки в сети позволяет получить доступ только из одной области, например.                 The interpretation option of synchronizing access to individual objects instead of global blockage due to frequent captures/releases of blocks has been too slow.                                                                                  The option of access to individual facilities proved to be too slow\n",
              "19            71                                               А по размаху политических репрессий против инакомыслящих хрущёвский режим стоит несоизмеримо ближе к Сталину, чем брежневский.                                                                             Политический режим Хрущёва больше похож на  режим Сталина, чем режим Брежнева.               А по размаху политических репрессий против инакомыслящих хрущёвский режим.                               А по размаху политических репрессий против инакомыслящих хрущёвский СССР был третьим советским государством, состоявшим из пяти округов.                          And by the scale of the political repression against the dissenting Kraushkov regime is disproportionately closer to Stalin than the Brezhnevian regime.                                                                          Chrushchev's political regime is more like Stalin's regime than Brezhnev's.\n",
              "2581        7658                                                Различные же теории заговоров создают атмосферу страха, слухи и предрассудки, подобные теории осуждаются научным сообществом.                                                                                         Найчное сообщества и рассуждения о теориях и их влияния на разум .                         Различные же теории заговоров создают атмосферу страха, слухи и.                                                               Различные же теории заговоров создают атмосферу страха, слухи и предрассудки, подобные тому что говорят.                             Various conspiracy theories, however, create an atmosphere of fear, rumours and prejudice, such theories being condemned by the scientific community.                                                                 Scientific communities and discourse about theories and their influence on the mind."
            ]
          },
          "metadata": {
            "tags": []
          },
          "execution_count": 13
        }
      ]
    },
    {
      "cell_type": "code",
      "metadata": {
        "id": "LplwzjD2wmmo"
      },
      "source": [
        "#data_test = pd.read_csv('/content/drive/MyDrive/MT_sentence_simpl/wiki_test_dev_eng.csv', sep='\\t')"
      ],
      "execution_count": null,
      "outputs": []
    },
    {
      "cell_type": "markdown",
      "metadata": {
        "id": "VF-f6CALwpye"
      },
      "source": [
        "## Inference stage"
      ]
    },
    {
      "cell_type": "markdown",
      "metadata": {
        "id": "LGyKAOR7xScY"
      },
      "source": [
        "All the models will be evaluated according to the following aspects:\n",
        "\n",
        "* SARI\n",
        "* BLEU\n",
        "* FKGL\n",
        "* Grammar aspect"
      ]
    },
    {
      "cell_type": "markdown",
      "metadata": {
        "id": "qokPFlIHxY6m"
      },
      "source": [
        "All the predictions were saved in advance. If there is a need to make a new prediction, mBART model can be loaded but it requires much RAM:(\n",
        "   Also, it is necessary to make the following change in /content/fairseq/fairseq/tasks/translation_from_pretrained_bart.py:\n",
        "\n",
        "```\n",
        "def __init__(self, args, src_dict, tgt_dict):\n",
        "        super().__init__(args, src_dict, tgt_dict)\n",
        "        self.args = args                  # add this line !!!!!\n",
        "        self.langs = args.langs.split(\",\")\n",
        "        for d in [src_dict, tgt_dict]:\n",
        "            for l in self.langs:\n",
        "```\n"
      ]
    },
    {
      "cell_type": "markdown",
      "metadata": {
        "id": "JKBI2Hav1ODY"
      },
      "source": [
        "## Evaluation functions"
      ]
    },
    {
      "cell_type": "markdown",
      "metadata": {
        "id": "6TmIswqB2DGA"
      },
      "source": [
        "BLEU"
      ]
    },
    {
      "cell_type": "code",
      "metadata": {
        "id": "svhSqXFk1eel"
      },
      "source": [
        "# function retrieved from easse code\n",
        "import numpy as np\n",
        "from typing import List\n",
        "import sacrebleu\n",
        "import easse.utils.preprocessing as utils_prep\n",
        "from collections import OrderedDict\n",
        "\n",
        "\n",
        "def corpus_bleu(\n",
        "    sys_sents: List[str],\n",
        "    refs_sents: List[List[str]],\n",
        "    smooth_method: str = 'exp',\n",
        "    smooth_value: float = None,\n",
        "    force: bool = True,\n",
        "    lowercase: bool = False,\n",
        "    tokenizer: str = '13a',\n",
        "    use_effective_order: bool = False,\n",
        "):\n",
        "\n",
        "    sys_sents = [utils_prep.normalize(sent, lowercase, tokenizer) for sent in sys_sents]\n",
        "    refs_sents = [[utils_prep.normalize(sent, lowercase, tokenizer) for sent in ref_sents] for ref_sents in refs_sents]\n",
        "\n",
        "    return sacrebleu.corpus_bleu(\n",
        "        sys_sents,\n",
        "        refs_sents,\n",
        "        smooth_method,\n",
        "        smooth_value,\n",
        "        force,\n",
        "        lowercase=False,\n",
        "        tokenize='none',\n",
        "        use_effective_order=use_effective_order,\n",
        "    ).score\n",
        "\n",
        "\n",
        "def sentence_bleu(\n",
        "    sys_sent: str,\n",
        "    ref_sents: List[str],\n",
        "    smooth_method: str = 'floor',\n",
        "    smooth_value: float = None,\n",
        "    lowercase: bool = False,\n",
        "    tokenizer: str = '13a',\n",
        "    use_effective_order: bool = True,\n",
        "):\n",
        "\n",
        "    return corpus_bleu(\n",
        "        [sys_sent],\n",
        "        [[ref] for ref in ref_sents],\n",
        "        smooth_method,\n",
        "        smooth_value,\n",
        "        force=True,\n",
        "        lowercase=lowercase,\n",
        "        tokenizer=tokenizer,\n",
        "        use_effective_order=use_effective_order,\n",
        "    )\n",
        "\n",
        "\n",
        "def corpus_averaged_sentence_bleu(\n",
        "    sys_sents: List[str],\n",
        "    refs_sents: List[List[str]],\n",
        "    smooth_method: str = 'floor',\n",
        "    smooth_value: float = None,\n",
        "    lowercase: bool = False,\n",
        "    tokenizer: str = '13a',\n",
        "    use_effective_order: bool = True,\n",
        "):\n",
        "\n",
        "    scores = []\n",
        "    for sys_sent, *ref_sents in zip(sys_sents, *refs_sents):\n",
        "        scores.append(\n",
        "            sentence_bleu(\n",
        "                sys_sent,\n",
        "                ref_sents,\n",
        "                smooth_method,\n",
        "                smooth_value,\n",
        "                lowercase=lowercase,\n",
        "                tokenizer=tokenizer,\n",
        "                use_effective_order=use_effective_order,\n",
        "            )\n",
        "        )\n",
        "    return np.mean(scores)\n"
      ],
      "execution_count": 31,
      "outputs": []
    },
    {
      "cell_type": "markdown",
      "metadata": {
        "id": "FRvuOeLF4b6Z"
      },
      "source": [
        "### Flesch Kincaid Grade Level"
      ]
    },
    {
      "cell_type": "code",
      "metadata": {
        "id": "XKBEUJId4cVY"
      },
      "source": [
        "# https://github.com/infoculture/plainrussian\n",
        "#!/usr/bin/env python\n",
        "# -*- coding: utf-8 -*-\n",
        "\n",
        "from math import sqrt\n",
        "import csv\n",
        "\n",
        "\n",
        "from numpy import mean, arange\n",
        "\n",
        "\n",
        "# Russian sounds and characters\n",
        "RU_CONSONANTS_LOW = [u'к', u'п', u'с', u'т', u'ф', u'х', u'ц', u'ч', u'ш', u'щ']\n",
        "RU_CONSONANTS_HIGH = [u'б', u'в', u'г', u'д', u'ж', u'з']\n",
        "RU_CONSONANTS_SONOR = [u'л', u'м', u'н', u'р']\n",
        "RU_CONSONANTS_YET = [u'й']\n",
        "\n",
        "RU_CONSONANTS = RU_CONSONANTS_HIGH + RU_CONSONANTS_LOW + RU_CONSONANTS_SONOR + RU_CONSONANTS_YET\n",
        "RU_VOWELS = [u'а', u'е', u'и', u'у', u'о', u'я', u'ё', u'э', u'ю', u'я', u'ы']\n",
        "RU_MARKS = [u'ь', u'ъ']\n",
        "SENTENCE_SPLITTERS = [u'.', u'?', u'!']\n",
        "RU_LETTERS = RU_CONSONANTS + RU_MARKS + RU_VOWELS\n",
        "SPACES = [u' ', u'\\t']\n",
        "\n",
        "# List of prepared texts\n",
        "\n",
        "GRADE_TEXT = {\n",
        "    1: u'1 - 3-й класс (возраст примерно: 6-8 лет)',\n",
        "    2: u'1 - 3-й класс (возраст примерно: 6-8 лет)',\n",
        "    3: u'1 - 3-й класс (возраст примерно: 6-8 лет)',\n",
        "    4: u'4 - 6-й класс (возраст примерно: 9-11 лет)',\n",
        "    5: u'4 - 6-й класс (возраст примерно: 9-11 лет)',\n",
        "    6: u'4 - 6-й класс (возраст примерно: 9-11 лет)',\n",
        "    7: u'7 - 9-й класс (возраст примерно: 12-14 лет)',\n",
        "    8: u'7 - 9-й класс (возраст примерно: 12-14 лет)',\n",
        "    9: u'7 - 9-й класс (возраст примерно: 12-14 лет)',\n",
        "    10: u'10 - 11-й класс (возраст примерно: 15-16 лет)',\n",
        "    11: u'10 - 11-й класс (возраст примерно: 15-16 лет)',\n",
        "    12: u'1 - 3 курсы ВУЗа (возраст примерно: 17-19 лет)',\n",
        "    13: u'1 - 3 курсы ВУЗа (возраст примерно: 17-19 лет)',\n",
        "    14: u'1 - 3 курсы ВУЗа (возраст примерно: 17-19 лет)',\n",
        "    15: u'4 - 6 курсы ВУЗа (возраст примерно: 20-22 лет)',\n",
        "    16: u'4 - 6 курсы ВУЗа (возраст примерно: 20-22 лет)',\n",
        "    17: u'4 - 6 курсы ВУЗа (возраст примерно: 20-22 лет)',\n",
        "}\n",
        "\n",
        "POST_GRADE_TEXT_18_24 = u'Аспирантура, второе высшее образование, phD'\n",
        "\n",
        "\n",
        "def calc_SMOG(n_psyl, n_sent):\n",
        "    \"\"\"Метрика SMOG для английского языка\"\"\"\n",
        "    n = 1.0430 * sqrt((float(30.0) / n_sent) * n_psyl) + 3.1291\n",
        "    return n\n",
        "\n",
        "def calc_Gunning_fog(n_psyl, n_words, n_sent):\n",
        "    \"\"\"Метрика Gunning fog для английского языка\"\"\"\n",
        "    n = 0.4 * ((float(n_words)/ n_sent) + 100 * (float(n_psyl) / n_words))\n",
        "    return n\n",
        "\n",
        "def calc_Dale_Chale(n_psyl, n_words, n_sent):\n",
        "    \"\"\"Метрика Dale Chale для английского языка\"\"\"\n",
        "    n = 0.1579 * (100.0 * n_psyl / n_words) + 0.0496 * (float(n_words) / n_sent)\n",
        "    return n\n",
        "\n",
        "def calc_Flesh_Kincaid(n_syllabes, n_words, n_sent):\n",
        "    \"\"\"Метрика Flesh Kincaid для английского языка\"\"\"\n",
        "    n = 206.835 - 1.015 * (float(n_words) / n_sent) - 84.6 * (float(n_syllabes) / n_words)\n",
        "    return n\n",
        "\n",
        "\n",
        "def calc_Flesh_Kincaid_rus(n_syllabes, n_words, n_sent):\n",
        "    \"\"\"Метрика Flesh Kincaid для русского языка\"\"\"\n",
        "    n = 220.755 - 1.315 * (float(n_words) / n_sent) - 50.1 * (float(n_syllabes) / n_words)\n",
        "    return n\n",
        "\n",
        "def calc_Flesh_Kincaid_Grade_rus(n_syllabes, n_words, n_sent):\n",
        "    \"\"\"Метрика Flesh Kincaid Grade для русского языка\"\"\"\n",
        "#    n = 0.59 * (float(n_words) / n_sent) + 6.2 * (float(n_syllabes) / n_words) - 16.59\n",
        "    n = 0.49 * (float(n_words) / n_sent) + 7.3 * (float(n_syllabes) / n_words) - 16.59\n",
        "    return n\n",
        "\n",
        "\n",
        "\n",
        "def calc_Flesh_Kincaid_Grade_rus_adapted(n_syllabes, n_words, n_sent, X, Y, Z):\n",
        "    \"\"\"Метрика Flesh Kincaid Grade для русского языка с параметрами\"\"\"\n",
        "#    n = 0.59 * (float(n_words) / n_sent) + 6.2 * (float(n_syllabes) / n_words) - 16.59\n",
        "    if n_words == 0 or n_sent == 0: return 0\n",
        "    n = X * (float(n_words) / n_sent) + Y * (float(n_syllabes) / n_words) - Z\n",
        "    return n\n",
        "\n",
        "\n",
        "#X_GRADE = 0.186\n",
        "#Y_GRADE = 7.21\n",
        "#Z_GRADE = 15.443\n",
        "\n",
        "# Flesh Kinkaid Grade константы. Подробнее http://en.wikipedia.org/wiki/Flesch%E2%80%93Kincaid_readability_tests\n",
        "FLG_X_GRADE = 0.318\n",
        "FLG_Y_GRADE = 14.2\n",
        "FLG_Z_GRADE = 30.5\n",
        "\n",
        "def calc_Flesh_Kincaid_Grade_rus_flex(n_syllabes, n_words, n_sent):\n",
        "    \"\"\"Метрика Flesh Kincaid Grade для русского языка с константными параметрами\"\"\"\n",
        "    if n_words == 0 or n_sent == 0: return 0\n",
        "    n = FLG_X_GRADE * (float(n_words) / n_sent) + FLG_Y_GRADE * (float(n_syllabes) / n_words) - FLG_Z_GRADE\n",
        "    return n\n",
        "\n",
        "\n",
        "# Coleman Liau константы. Подробнее http://en.wikipedia.org/wiki/Coleman%E2%80%93Liau_index\n",
        "\n",
        "CLI_X_GRADE = 0.055\n",
        "CLI_Y_GRADE = 0.35\n",
        "CLI_Z_GRADE = 20.33\n",
        "\n",
        "\n",
        "def calc_Coleman_Liau_index_adapted(n_letters, n_words, n_sent, x, y, z):\n",
        "    \"\"\" Метрика Coleman Liau для русского языка с адаптированными параметрами \"\"\"\n",
        "    if n_words == 0: return 0\n",
        "    n = x * (n_letters * (100.0 / n_words)) - y * (n_sent * (100.0 / n_words)) - z\n",
        "    return n\n",
        "\n",
        "def calc_Coleman_Liau_index(n_letters, n_words, n_sent):\n",
        "    \"\"\" Метрика Coleman Liau для русского языка с константными параметрами \"\"\"\n",
        "    if n_words == 0: return 0\n",
        "    n = CLI_X_GRADE * (n_letters * (100.0 / n_words)) - CLI_Y_GRADE * (n_sent * (100.0 / n_words)) - CLI_Z_GRADE\n",
        "    return n\n",
        "\n",
        "\n",
        "# Константы SMOG Index http://en.wikipedia.org/wiki/SMOG\n",
        "SMOG_X_GRADE = 1.1\n",
        "SMOG_Y_GRADE = 64.6\n",
        "SMOG_Z_GRADE = 0.05\n",
        "\n",
        "def calc_SMOG_index(n_psyl, n_sent):\n",
        "    \"\"\"Метрика SMOG для русского языка с константными параментрами\"\"\"\n",
        "    n = SMOG_X_GRADE * sqrt((float(SMOG_Y_GRADE) / n_sent) * n_psyl) + SMOG_Z_GRADE\n",
        "    return n\n",
        "\n",
        "def calc_SMOG_index_adapted(n_psyl, n_sent, x, y, z):\n",
        "    \"\"\"Метрика SMOG для русского языка адаптированная с коэффициентами\"\"\"\n",
        "    n = x * sqrt((float(y) / n_sent) * n_psyl) + z\n",
        "    return n\n",
        "\n",
        "DC_X_GRADE = 0.552\n",
        "DC_Y_GRADE = 0.273\n",
        "\n",
        "def calc_Dale_Chale_index(n_psyl, n_words, n_sent):\n",
        "    \"\"\"Метрика Dale Chale для русского языка с константным параметрами\"\"\"\n",
        "    n = DC_X_GRADE * (100.0 * n_psyl / n_words) + DC_Y_GRADE * (float(n_words) / n_sent)\n",
        "    return n\n",
        "\n",
        "\n",
        "def calc_Dale_Chale_adapted(n_psyl, n_words, n_sent, x, y):\n",
        "    \"\"\"Метрика Dale Chale для русского языка с адаптированными параметрами\"\"\"\n",
        "    n = x * (100.0 * n_psyl / n_words) + y * (float(n_words) / n_sent)\n",
        "    return n\n",
        "\n",
        "ARI_X_GRADE = 6.26\n",
        "ARI_Y_GRADE = 0.2805\n",
        "ARI_Z_GRADE = 31.04\n",
        "\n",
        "\n",
        "def calc_ARI_index_adapted(n_letters, n_words, n_sent, x, y, z):\n",
        "    \"\"\" Метрика Automated Readability Index (ARI) для русского языка с адаптированными параметрами \"\"\"\n",
        "    if n_words == 0 or n_sent == 0: return 0\n",
        "    n = x * (float(n_letters) / n_words) + y * (float(n_words) / n_sent) - z\n",
        "    return n\n",
        "\n",
        "def calc_ARI_index(n_letters, n_words, n_sent):\n",
        "    \"\"\" Метрика Automated Readability Index (ARI) для русского языка с константными параметрами \"\"\"\n",
        "    if n_words == 0 or n_sent == 0: return 0\n",
        "    n = ARI_X_GRADE * (float(n_letters) / n_words) + ARI_Y_GRADE * (float(n_words) / n_sent) - ARI_Z_GRADE\n",
        "    return n\n",
        "\n",
        "\n",
        "def load_words(filename):\n",
        "    \"\"\"Load words from filename\"\"\"\n",
        "    words = []\n",
        "    f = open(filename, 'r')\n",
        "    for l in f:\n",
        "        words.append(l.strip().decode('utf8'))\n",
        "    f.close()\n",
        "    return words\n",
        "\n",
        "#FAM_WORDS = load_words('1norm50000.txt')\n",
        "\n",
        "bad_chars = '(){}<>\"\\'!?,.:;'\n",
        "\n",
        "\n",
        "def calc_text_metrics(filename, verbose=True):\n",
        "    \"\"\"Расчет метрик\"\"\"\n",
        "    f = open(filename, 'r')\n",
        "    text = f.read().decode('utf8')    \n",
        "    f.close()\n",
        "    return calc_readability_metrics(text, verbose)\n",
        "\n",
        "\n",
        "# Number of syllabes for long words\n",
        "COMPLEX_SYL_FACTOR = 4\n",
        "\n",
        "def calc_readability_metrics(text, verbose=True):\n",
        "    sentences = 0\n",
        "    chars = 0\n",
        "    spaces = 0\n",
        "    letters = 0\n",
        "    syllabes = 0\n",
        "    words = 0\n",
        "    complex_words = 0\n",
        "    simple_words = 0\n",
        "    wsyllabes = {}\n",
        "\n",
        "    wordStart = False\n",
        "    for l in text.splitlines():\n",
        "        chars += len(l)\n",
        "#        l = l.decode('utf8')\n",
        "        for ch in l:\n",
        "            if ch in SENTENCE_SPLITTERS:\n",
        "                sentences += 1\n",
        "            if ch in SPACES:\n",
        "                spaces += 1\n",
        "\n",
        "        for w in l.split():\n",
        "            has_syl = False\n",
        "            wsyl = 0\n",
        "#            if len(w) > 1: words += 1\n",
        "            for ch in w:\n",
        "                if ch in RU_LETTERS:\n",
        "                    letters += 1\n",
        "                if ch in RU_VOWELS:\n",
        "                    syllabes += 1\n",
        "                    has_syl = True\n",
        "                    wsyl += 1\n",
        "            if wsyl > COMPLEX_SYL_FACTOR:\n",
        "                complex_words += 1\n",
        "            elif wsyl < COMPLEX_SYL_FACTOR+1 and wsyl > 0:\n",
        "                simple_words += 1\n",
        "            if has_syl:\n",
        "                words += 1\n",
        "                v = wsyllabes.get(str(wsyl), 0)\n",
        "                wsyllabes[str(wsyl)] = v + 1\n",
        "    metrics = {'c_share': float(complex_words) * 100 / words if words > 0 else 0,\n",
        "               'avg_slen' : float(words) / sentences if sentences > 0 else 0,\n",
        "               'avg_syl' : float(syllabes) / words if words > 0 else 0,\n",
        "               'n_syllabes': syllabes,\n",
        "               'n_words' : words,\n",
        "               'n_sentences': sentences,\n",
        "               'n_complex_words': complex_words,\n",
        "               'n_simple_words' : simple_words,\n",
        "               'chars': chars,\n",
        "               'letters' : letters,\n",
        "               'spaces' : spaces,\n",
        "               'index_fk_rus': calc_Flesh_Kincaid_Grade_rus_flex(syllabes, words, sentences),\n",
        "               'index_cl_rus' : calc_Coleman_Liau_index(letters, words, sentences),\n",
        "               'index_dc_rus' : calc_Dale_Chale_index(complex_words, words, sentences),\n",
        "               'index_SMOG_rus' : calc_SMOG_index(complex_words, sentences),\n",
        "               'index_ari_rus' : calc_ARI_index(letters, words, sentences),\n",
        "#               'index_fk_rus': calc_Flesh_Kincaid_Grade_rus(syllabes, words, sentences),\n",
        "               'wsyllabes' : wsyllabes\n",
        "    }\n",
        "    del text\n",
        "    return metrics"
      ],
      "execution_count": 51,
      "outputs": []
    },
    {
      "cell_type": "markdown",
      "metadata": {
        "id": "q6IOatRe5zt9"
      },
      "source": [
        "#### COSINE SIMILARITY"
      ]
    },
    {
      "cell_type": "code",
      "metadata": {
        "id": "BHh5Mvdt56Na"
      },
      "source": [
        "from sklearn.metrics.pairwise import cosine_similarity\n",
        "\n",
        "# shape should be [1, something (768, ex)]\n",
        "\n",
        "# import numpy as np\n",
        "# def cs(a, b):\n",
        "#   return (a @ b.T)/(np.linalg.norm(a)*np.linalg.norm(b))\n",
        "\n",
        "def calc_cos_sim(df, model,tok, x, y, column_name):\n",
        "    Cos_sim= []\n",
        "    for index, row in df.iterrows():\n",
        "        \n",
        "        # original\n",
        "          sentence_A = tok.encode(row[x], padding='max_length', max_length=50, truncation=True, return_tensors='pt')\n",
        "          sentence_A = sentence_A.to(device)\n",
        "          output = model(sentence_A)\n",
        "          sent_emb = output[-1][0]\n",
        "          emb_source = sent_emb.mean(axis=1)\n",
        "          emb_source = emb_source.cpu().detach().numpy()\n",
        "\n",
        "          sentence_B = tok.encode(row[y], padding='max_length', max_length=50, truncation=True, return_tensors='pt')\n",
        "          sentence_B = sentence_B.to(device)\n",
        "          output = model(sentence_B)\n",
        "          sent_emb = output[-1][0]\n",
        "          emb_target= sent_emb.mean(axis=1)\n",
        "          emb_target = emb_target.cpu().detach().numpy()\n",
        "\n",
        "          cos_val = cosine_similarity(emb_source.reshape(emb_source.shape[0], -1), emb_target.reshape(emb_target.shape[0], -1))[0][0]\n",
        "          Cos_sim.append(cos_val)\n",
        "    df[column_name] = Cos_sim"
      ],
      "execution_count": 39,
      "outputs": []
    },
    {
      "cell_type": "markdown",
      "metadata": {
        "id": "yO3Jacw-CWIQ"
      },
      "source": [
        "GRAMMAR"
      ]
    },
    {
      "cell_type": "code",
      "metadata": {
        "id": "Cn3O0LoE5-fm"
      },
      "source": [
        "def get_mistakes_summary(df_test, x):\n",
        "    test = list(df_test[x].values)\n",
        "    matches = []\n",
        "    for i in test:\n",
        "      matches.extend(tool.check(i))\n",
        "\n",
        "    categories = set([i.category for i in matches])\n",
        "\n",
        "    categories = {i:0 for i in categories}\n",
        "\n",
        "    for i in matches:\n",
        "      categories[i.category]+=1\n",
        "\n",
        "    return categories"
      ],
      "execution_count": 60,
      "outputs": []
    },
    {
      "cell_type": "markdown",
      "metadata": {
        "id": "VpwmTvYf-1rQ"
      },
      "source": [
        "Add necessary predictions to the dataframe"
      ]
    },
    {
      "cell_type": "code",
      "metadata": {
        "id": "i3S3DbW8-1GZ"
      },
      "source": [
        "with open(\"/content/drive/MyDrive/MT_sentence_simpl/predictions/model_prediction_en_en.hyp\", 'r') as f:\n",
        "  lines = [i.strip() for i in f.readlines()]\n",
        "data_test['en_en'] = lines\n",
        "\n",
        "with open(\"/content/drive/MyDrive/MT_sentence_simpl/predictions/model_prediction_en_ru.hyp\", 'r') as f:\n",
        "  lines = [i.strip() for i in f.readlines()]\n",
        "data_test['en_ru'] = lines\n",
        "\n",
        "with open(\"/content/drive/MyDrive/MT_sentence_simpl/predictions/model_prediction_ru_ru.hyp\", 'r') as f:\n",
        "  lines = [i.strip() for i in f.readlines()]\n",
        "data_test['ru_ru'] = lines\n",
        "\n",
        "with open(\"/content/drive/MyDrive/MT_sentence_simpl/predictions/model_prediction_en_ru_ru.hyp\", 'r') as f:\n",
        "  lines = [i.strip() for i in f.readlines()]\n",
        "data_test['en_ru_ru'] = lines\n",
        "\n",
        "\n",
        "# filtered data---------------------------\n",
        "with open(\"/content/drive/MyDrive/MT_sentence_simpl/predictions/model_prediction_en_en_filtered.hyp\", 'r') as f:\n",
        "  lines = [i.strip() for i in f.readlines()]\n",
        "data_test['en_en_filtered'] = lines\n",
        "\n",
        "with open(\"/content/drive/MyDrive/MT_sentence_simpl/predictions/model_prediction_ru_ru_filtered.hyp\", 'r') as f:\n",
        "  lines = [i.strip() for i in f.readlines()]\n",
        "data_test['ru_ru_filtered'] = lines\n",
        "\n",
        "with open(\"/content/drive/MyDrive/MT_sentence_simpl/predictions/model_prediction_en_ru_ru_filtered.hyp\", 'r') as f:\n",
        "  lines = [i.strip() for i in f.readlines()]\n",
        "data_test['en_ru_ru_filtered'] = lines\n",
        "\n",
        "with open(\"/content/drive/MyDrive/MT_sentence_simpl/predictions/model_prediction_paraphraser2.hyp\", 'r') as f:\n",
        "  lines = [i.strip()+'.' for i in f.readlines()]\n",
        "data_test['paraphraser'] = lines\n",
        "\n",
        "with open(\"/content/drive/MyDrive/MT_sentence_simpl/predictions/model_prediction_paraphraser_ru2_12epochs.hyp\", 'r') as f:\n",
        "  lines = [i.strip() for i in f.readlines()]\n",
        "data_test['paraphraser_ru'] = lines\n"
      ],
      "execution_count": 30,
      "outputs": []
    },
    {
      "cell_type": "code",
      "metadata": {
        "colab": {
          "base_uri": "https://localhost:8080/",
          "height": 1000
        },
        "id": "H-1vqWWOBibK",
        "outputId": "59f00bc4-abe3-447d-80f1-df32dfb484dd"
      },
      "source": [
        "data_test.head()"
      ],
      "execution_count": 6,
      "outputs": [
        {
          "output_type": "execute_result",
          "data": {
            "text/html": [
              "<div>\n",
              "<style scoped>\n",
              "    .dataframe tbody tr th:only-of-type {\n",
              "        vertical-align: middle;\n",
              "    }\n",
              "\n",
              "    .dataframe tbody tr th {\n",
              "        vertical-align: top;\n",
              "    }\n",
              "\n",
              "    .dataframe thead th {\n",
              "        text-align: right;\n",
              "    }\n",
              "</style>\n",
              "<table border=\"1\" class=\"dataframe\">\n",
              "  <thead>\n",
              "    <tr style=\"text-align: right;\">\n",
              "      <th></th>\n",
              "      <th>Unnamed: 0</th>\n",
              "      <th>INPUT:source</th>\n",
              "      <th>OUTPUT:output</th>\n",
              "      <th>trunctuation_bs</th>\n",
              "      <th>gpt_bs</th>\n",
              "      <th>en_en</th>\n",
              "      <th>en_ru</th>\n",
              "      <th>ru_ru</th>\n",
              "      <th>en_ru_ru</th>\n",
              "      <th>ru_ru_filtered</th>\n",
              "      <th>en_ru_ru_filtered</th>\n",
              "      <th>paraphraser</th>\n",
              "      <th>paraphraser_ru</th>\n",
              "    </tr>\n",
              "  </thead>\n",
              "  <tbody>\n",
              "    <tr>\n",
              "      <th>0</th>\n",
              "      <td>3</td>\n",
              "      <td>14 декабря 1944 года рабочий посёлок Ички был переименован в рабочий посёлок Советский, после чего поселковый совет стал называться Советским.</td>\n",
              "      <td>14 декабря 1944 года рабочий посёлок Ички переименован в Советский.</td>\n",
              "      <td>14 декабря 1944 года рабочий посёлок Ички был переименован в рабочий посёлок.</td>\n",
              "      <td>14 декабря 1944 года рабочий посёлок Ички был переименован в рабочий посёлок Советский, который тогда назывался Рабоче-Крестьянской республикой.</td>\n",
              "      <td>On December 14 , 1944 , Ichka was renamed the Soviet worktown , after which the village council became the Soviet town .</td>\n",
              "      <td>14 декабря 1944 года рабочий город Ика был переименован в советский рабочий город, после чего деревня стала советским городом.</td>\n",
              "      <td>14 декабря 1944 года рабочий посёлок Ички был переименован в рабочий посёлок Советский, после чего поселковый совет стал называться Советским.</td>\n",
              "      <td>14 декабря 1944 года рабочий посёлок Ички был переименован в рабочий посёлок Советский, после чего поселковый совет стал называться Советским.</td>\n",
              "      <td>14 декабря 1944 года рабочий посёлок Ички был переименован в рабочий посёлок Советский.</td>\n",
              "      <td>14 декабря 1944 года рабочий посёлок Ички был переименован в рабочий посёлок Советский.</td>\n",
              "      <td>В Ичке рабочий посёлок переименован в рабочий посёлок Советский.</td>\n",
              "      <td>14 декабря 1944 года рабочий посёлок Ички был переименован в рабочий посёлок Советский.</td>\n",
              "    </tr>\n",
              "    <tr>\n",
              "      <th>1</th>\n",
              "      <td>4</td>\n",
              "      <td>1960 году была выпущена модель 172A. Изменения: хвостовое оперение и руль направления с обратной стреловидностью и крепления для поплавкового шасси.</td>\n",
              "      <td>В 1960 году вышла модель 172А. Отличие в хвостовом оперении, в руле направления и в креплении шасси</td>\n",
              "      <td>1960 году была выпущена модель 172A. Изменения: хвостовое оперение и руль направления.</td>\n",
              "      <td>1960 году была выпущена модель 172A. Изменения: хвостовое оперение было изменено на форму головы.</td>\n",
              "      <td>Model 172A was released in 1960 .</td>\n",
              "      <td>Модель 172A была выпущена в 1960 году.</td>\n",
              "      <td>1960 году была выпущена модель 172A. Изменения: хвостовое оперение и руль направления с обратной стреловидностью и крепления для поплавкового шасси.</td>\n",
              "      <td>1960 году была выпущена модель 172A. Изменения: хвостовое оперение и руль направления с обратной стреловидностью и крепления для поплавкового шасси.</td>\n",
              "      <td>Изменения: хвостовое оперение и руль направления с обратной стреловидностью.</td>\n",
              "      <td>Изменения: хвостовое оперение и руль направления с обратной стреловидностью.</td>\n",
              "      <td>Модель 172A была выпущена в 1960 году.</td>\n",
              "      <td>В 1960 году была выпущена модель 172A.</td>\n",
              "    </tr>\n",
              "    <tr>\n",
              "      <th>2</th>\n",
              "      <td>5</td>\n",
              "      <td>1960 году была выпущена модель 172A. Изменения: хвостовое оперение и руль направления с обратной стреловидностью и крепления для поплавкового шасси.</td>\n",
              "      <td>В выпущенной в 1960 году модель имела изменения в хвостовом оперении и руле направления</td>\n",
              "      <td>1960 году была выпущена модель 172A. Изменения: хвостовое оперение и руль направления.</td>\n",
              "      <td>1960 году была выпущена модель 172A. Изменения: хвостовое оперение, крылья и все другие детали сделали его менее приспособленным к жизни.</td>\n",
              "      <td>Model 172A was released in 1960 .</td>\n",
              "      <td>Модель 172A была выпущена в 1960 году.</td>\n",
              "      <td>1960 году была выпущена модель 172A. Изменения: хвостовое оперение и руль направления с обратной стреловидностью и крепления для поплавкового шасси.</td>\n",
              "      <td>1960 году была выпущена модель 172A. Изменения: хвостовое оперение и руль направления с обратной стреловидностью и крепления для поплавкового шасси.</td>\n",
              "      <td>Изменения: хвостовое оперение и руль направления с обратной стреловидностью.</td>\n",
              "      <td>Изменения: хвостовое оперение и руль направления с обратной стреловидностью.</td>\n",
              "      <td>Модель 172A была выпущена в 1960 году.</td>\n",
              "      <td>В 1960 году была выпущена модель 172A.</td>\n",
              "    </tr>\n",
              "    <tr>\n",
              "      <th>3</th>\n",
              "      <td>6</td>\n",
              "      <td>1960 году была выпущена модель 172A. Изменения: хвостовое оперение и руль направления с обратной стреловидностью и крепления для поплавкового шасси.</td>\n",
              "      <td>Изменения: в хвосте и руле направления с обратной стреловидностью и крепления для поплавкового шасси.</td>\n",
              "      <td>1960 году была выпущена модель 172A. Изменения: хвостовое оперение и руль направления.</td>\n",
              "      <td>1960 году была выпущена модель 172A. Изменения: хвостовое оперение было заменено на крылья с помощью нового поколения в 2009–2010 годах.</td>\n",
              "      <td>Model 172A was released in 1960 .</td>\n",
              "      <td>Модель 172A была выпущена в 1960 году.</td>\n",
              "      <td>1960 году была выпущена модель 172A. Изменения: хвостовое оперение и руль направления с обратной стреловидностью и крепления для поплавкового шасси.</td>\n",
              "      <td>1960 году была выпущена модель 172A. Изменения: хвостовое оперение и руль направления с обратной стреловидностью и крепления для поплавкового шасси.</td>\n",
              "      <td>Изменения: хвостовое оперение и руль направления с обратной стреловидностью.</td>\n",
              "      <td>Изменения: хвостовое оперение и руль направления с обратной стреловидностью.</td>\n",
              "      <td>Модель 172A была выпущена в 1960 году.</td>\n",
              "      <td>В 1960 году была выпущена модель 172A.</td>\n",
              "    </tr>\n",
              "    <tr>\n",
              "      <th>4</th>\n",
              "      <td>7</td>\n",
              "      <td>1960 году была выпущена модель 172A. Изменения: хвостовое оперение и руль направления с обратной стреловидностью и крепления для поплавкового шасси.</td>\n",
              "      <td>Модель 172А с другим хвостовым оперением,  креплениями для поплавкового шасси рулём направления с обратной стреловидностью появилась в 1960 году.</td>\n",
              "      <td>1960 году была выпущена модель 172A. Изменения: хвостовое оперение и руль направления.</td>\n",
              "      <td>1960 году была выпущена модель 172A. Изменения: хвостовое оперение и крылья для большей части команды были выполнены с использованием нового оборудования, которое включало в себя шасси T-MAX C</td>\n",
              "      <td>Model 172A was released in 1960 .</td>\n",
              "      <td>Модель 172A была выпущена в 1960 году.</td>\n",
              "      <td>1960 году была выпущена модель 172A. Изменения: хвостовое оперение и руль направления с обратной стреловидностью и крепления для поплавкового шасси.</td>\n",
              "      <td>1960 году была выпущена модель 172A. Изменения: хвостовое оперение и руль направления с обратной стреловидностью и крепления для поплавкового шасси.</td>\n",
              "      <td>Изменения: хвостовое оперение и руль направления с обратной стреловидностью.</td>\n",
              "      <td>Изменения: хвостовое оперение и руль направления с обратной стреловидностью.</td>\n",
              "      <td>Модель 172A была выпущена в 1960 году.</td>\n",
              "      <td>В 1960 году была выпущена модель 172A.</td>\n",
              "    </tr>\n",
              "  </tbody>\n",
              "</table>\n",
              "</div>"
            ],
            "text/plain": [
              "   Unnamed: 0                                                                                                                                           INPUT:source                                                                                                                                      OUTPUT:output                                                                         trunctuation_bs                                                                                                                                                                                            gpt_bs                                                                                                                     en_en                                                                                                                           en_ru                                                                                                                                                 ru_ru  \\\n",
              "0           3         14 декабря 1944 года рабочий посёлок Ички был переименован в рабочий посёлок Советский, после чего поселковый совет стал называться Советским.                                                                                14 декабря 1944 года рабочий посёлок Ички переименован в Советский.           14 декабря 1944 года рабочий посёлок Ички был переименован в рабочий посёлок.                                                  14 декабря 1944 года рабочий посёлок Ички был переименован в рабочий посёлок Советский, который тогда назывался Рабоче-Крестьянской республикой.  On December 14 , 1944 , Ichka was renamed the Soviet worktown , after which the village council became the Soviet town .  14 декабря 1944 года рабочий город Ика был переименован в советский рабочий город, после чего деревня стала советским городом.        14 декабря 1944 года рабочий посёлок Ички был переименован в рабочий посёлок Советский, после чего поселковый совет стал называться Советским.   \n",
              "1           4   1960 году была выпущена модель 172A. Изменения: хвостовое оперение и руль направления с обратной стреловидностью и крепления для поплавкового шасси.                                                В 1960 году вышла модель 172А. Отличие в хвостовом оперении, в руле направления и в креплении шасси  1960 году была выпущена модель 172A. Изменения: хвостовое оперение и руль направления.                                                                                                 1960 году была выпущена модель 172A. Изменения: хвостовое оперение было изменено на форму головы.                                                                                         Model 172A was released in 1960 .                                                                                          Модель 172A была выпущена в 1960 году.  1960 году была выпущена модель 172A. Изменения: хвостовое оперение и руль направления с обратной стреловидностью и крепления для поплавкового шасси.   \n",
              "2           5   1960 году была выпущена модель 172A. Изменения: хвостовое оперение и руль направления с обратной стреловидностью и крепления для поплавкового шасси.                                                            В выпущенной в 1960 году модель имела изменения в хвостовом оперении и руле направления  1960 году была выпущена модель 172A. Изменения: хвостовое оперение и руль направления.                                                         1960 году была выпущена модель 172A. Изменения: хвостовое оперение, крылья и все другие детали сделали его менее приспособленным к жизни.                                                                                         Model 172A was released in 1960 .                                                                                          Модель 172A была выпущена в 1960 году.  1960 году была выпущена модель 172A. Изменения: хвостовое оперение и руль направления с обратной стреловидностью и крепления для поплавкового шасси.   \n",
              "3           6   1960 году была выпущена модель 172A. Изменения: хвостовое оперение и руль направления с обратной стреловидностью и крепления для поплавкового шасси.                                              Изменения: в хвосте и руле направления с обратной стреловидностью и крепления для поплавкового шасси.  1960 году была выпущена модель 172A. Изменения: хвостовое оперение и руль направления.                                                          1960 году была выпущена модель 172A. Изменения: хвостовое оперение было заменено на крылья с помощью нового поколения в 2009–2010 годах.                                                                                         Model 172A was released in 1960 .                                                                                          Модель 172A была выпущена в 1960 году.  1960 году была выпущена модель 172A. Изменения: хвостовое оперение и руль направления с обратной стреловидностью и крепления для поплавкового шасси.   \n",
              "4           7   1960 году была выпущена модель 172A. Изменения: хвостовое оперение и руль направления с обратной стреловидностью и крепления для поплавкового шасси.  Модель 172А с другим хвостовым оперением,  креплениями для поплавкового шасси рулём направления с обратной стреловидностью появилась в 1960 году.  1960 году была выпущена модель 172A. Изменения: хвостовое оперение и руль направления.  1960 году была выпущена модель 172A. Изменения: хвостовое оперение и крылья для большей части команды были выполнены с использованием нового оборудования, которое включало в себя шасси T-MAX C                                                                                         Model 172A was released in 1960 .                                                                                          Модель 172A была выпущена в 1960 году.  1960 году была выпущена модель 172A. Изменения: хвостовое оперение и руль направления с обратной стреловидностью и крепления для поплавкового шасси.   \n",
              "\n",
              "                                                                                                                                               en_ru_ru                                                                           ru_ru_filtered                                                                        en_ru_ru_filtered                                                       paraphraser                                                                           paraphraser_ru  \n",
              "0        14 декабря 1944 года рабочий посёлок Ички был переименован в рабочий посёлок Советский, после чего поселковый совет стал называться Советским.  14 декабря 1944 года рабочий посёлок Ички был переименован в рабочий посёлок Советский.  14 декабря 1944 года рабочий посёлок Ички был переименован в рабочий посёлок Советский.  В Ичке рабочий посёлок переименован в рабочий посёлок Советский.  14 декабря 1944 года рабочий посёлок Ички был переименован в рабочий посёлок Советский.  \n",
              "1  1960 году была выпущена модель 172A. Изменения: хвостовое оперение и руль направления с обратной стреловидностью и крепления для поплавкового шасси.             Изменения: хвостовое оперение и руль направления с обратной стреловидностью.             Изменения: хвостовое оперение и руль направления с обратной стреловидностью.                            Модель 172A была выпущена в 1960 году.                                                   В 1960 году была выпущена модель 172A.  \n",
              "2  1960 году была выпущена модель 172A. Изменения: хвостовое оперение и руль направления с обратной стреловидностью и крепления для поплавкового шасси.             Изменения: хвостовое оперение и руль направления с обратной стреловидностью.             Изменения: хвостовое оперение и руль направления с обратной стреловидностью.                            Модель 172A была выпущена в 1960 году.                                                   В 1960 году была выпущена модель 172A.  \n",
              "3  1960 году была выпущена модель 172A. Изменения: хвостовое оперение и руль направления с обратной стреловидностью и крепления для поплавкового шасси.             Изменения: хвостовое оперение и руль направления с обратной стреловидностью.             Изменения: хвостовое оперение и руль направления с обратной стреловидностью.                            Модель 172A была выпущена в 1960 году.                                                   В 1960 году была выпущена модель 172A.  \n",
              "4  1960 году была выпущена модель 172A. Изменения: хвостовое оперение и руль направления с обратной стреловидностью и крепления для поплавкового шасси.             Изменения: хвостовое оперение и руль направления с обратной стреловидностью.             Изменения: хвостовое оперение и руль направления с обратной стреловидностью.                            Модель 172A была выпущена в 1960 году.                                                   В 1960 году была выпущена модель 172A.  "
            ]
          },
          "metadata": {
            "tags": []
          },
          "execution_count": 6
        }
      ]
    },
    {
      "cell_type": "markdown",
      "metadata": {
        "id": "FDQ2MXnC566j"
      },
      "source": [
        "## Evaluation of English model trained on data without filtering"
      ]
    },
    {
      "cell_type": "markdown",
      "metadata": {
        "id": "w8E-gmMO9ug-"
      },
      "source": [
        "### SARI"
      ]
    },
    {
      "cell_type": "code",
      "metadata": {
        "colab": {
          "base_uri": "https://localhost:8080/"
        },
        "id": "E4OyreeK9yPO",
        "outputId": "2d87d823-9825-4812-cb26-619e94ded273"
      },
      "source": [
        "! python /content/sent_simplification/refs_to_easse_format.py \\\n",
        "--input_path /content/drive/MyDrive/MT_sentence_simpl/wiki_test_dev_eng.csv \\\n",
        "--output_dataset_name test_ref_data \\\n",
        "--src_column \"src\" \\\n",
        "--trg_column \"dst\" \\\n",
        "--output_dir /content/prepared_data"
      ],
      "execution_count": 22,
      "outputs": [
        {
          "output_type": "stream",
          "text": [
            "1000\n",
            "3406\n",
            "3401\n",
            "Overall number of references: 3401\n"
          ],
          "name": "stdout"
        }
      ]
    },
    {
      "cell_type": "code",
      "metadata": {
        "id": "QXA4rPCss785"
      },
      "source": [
        "with open('/content/drive/MyDrive/MT_sentence_simpl/predictions/model_prediction_en_en.hyp', 'r') as f:\n",
        "  sentences = [i.strip() for i in f.readlines()]\n",
        "\n",
        "lt = list()\n",
        "st = set()\n",
        "for i in sentences:\n",
        "  if i not in st:\n",
        "    lt.append(i)\n",
        "    st.add(i)\n",
        "\n",
        "with open('/content/model_prediction_en_en.hyp', 'w') as f:\n",
        "  for i in lt:\n",
        "    f.write(i+'\\n')"
      ],
      "execution_count": 23,
      "outputs": []
    },
    {
      "cell_type": "code",
      "metadata": {
        "colab": {
          "base_uri": "https://localhost:8080/"
        },
        "id": "p4SFjMhrtLGL",
        "outputId": "fe99eaf9-7485-488f-a5ed-f1fcd7459a91"
      },
      "source": [
        "! easse evaluate \\\n",
        "--test_set custom \\\n",
        "--metrics sari \\\n",
        "--refs_sents_paths /content/prepared_data/test_ref_data.ref.0,/content/prepared_data/test_ref_data.ref.1,/content/prepared_data/test_ref_data.ref.2,/content/prepared_data/test_ref_data.ref.3,/content/prepared_data/test_ref_data.ref.4 \\\n",
        "--orig_sents_path /content/prepared_data/test_ref_data.src \\\n",
        "--sys_sents_path /content/model_prediction_en_en.hyp -q"
      ],
      "execution_count": 24,
      "outputs": [
        {
          "output_type": "stream",
          "text": [
            "[nltk_data] Downloading package perluniprops to /root/nltk_data...\n",
            "[nltk_data]   Unzipping misc/perluniprops.zip.\n",
            "[nltk_data] Downloading package stopwords to /root/nltk_data...\n",
            "[nltk_data]   Unzipping corpora/stopwords.zip.\n",
            "{'sari': 21.231, 'quality_estimation': {'Compression ratio': 0.935, 'Sentence splits': 1.034, 'Levenshtein similarity': 0.957, 'Exact copies': 0.419, 'Additions proportion': 0.019, 'Deletions proportion': 0.084, 'Lexical complexity score': 8.294}}\n"
          ],
          "name": "stdout"
        }
      ]
    },
    {
      "cell_type": "markdown",
      "metadata": {
        "id": "vV_JauK0-RzI"
      },
      "source": [
        "### BLEU"
      ]
    },
    {
      "cell_type": "code",
      "metadata": {
        "colab": {
          "base_uri": "https://localhost:8080/"
        },
        "id": "3ZXq9FsrtYjO",
        "outputId": "8a8f442c-c9e7-401b-8c50-36731a0ae4eb"
      },
      "source": [
        "# make lists of src, dst\n",
        "src_column, trg_column = \"en_en\", \"dst\"\n",
        "data_dict = OrderedDict()\n",
        "for ind, row in data_test.iterrows():\n",
        "        source_sentence = row[src_column]\n",
        "        reference_sentence = row[trg_column]\n",
        "        if data_dict.get(source_sentence) is None:\n",
        "            data_dict[source_sentence] = []\n",
        "        data_dict[source_sentence].append(reference_sentence)\n",
        "max_num_reference_sentences = max([len(x) for x in data_dict.values()])\n",
        "\n",
        "src, dst = [i for i in data_dict.keys()], [i for i in data_dict.values()]\n",
        "for i, j in enumerate(src):\n",
        "   if len(dst[i]) < max_num_reference_sentences:\n",
        "    dst[i] = dst[i] + [dst[i][0]]*(max_num_reference_sentences - len(dst[i]))\n",
        "\n",
        "refs = []\n",
        "for j in range(len(dst[1])):\n",
        "  ref = []\n",
        "  for i in dst:\n",
        "    ref.append(i[j])\n",
        "  refs.append(ref)\n",
        "  \n",
        "corpus_bleu(src, refs)"
      ],
      "execution_count": 32,
      "outputs": [
        {
          "output_type": "execute_result",
          "data": {
            "text/plain": [
              "41.05267985962619"
            ]
          },
          "metadata": {
            "tags": []
          },
          "execution_count": 32
        }
      ]
    },
    {
      "cell_type": "markdown",
      "metadata": {
        "id": "1y0BRcRoCRen"
      },
      "source": [
        "### Flesh-Kincaid Grade level"
      ]
    },
    {
      "cell_type": "code",
      "metadata": {
        "id": "B9QZ9wh7-VJd"
      },
      "source": [
        "textstat.set_lang('en')"
      ],
      "execution_count": 36,
      "outputs": []
    },
    {
      "cell_type": "markdown",
      "metadata": {
        "id": "kReflW91CqWT"
      },
      "source": [
        "MEAN"
      ]
    },
    {
      "cell_type": "code",
      "metadata": {
        "colab": {
          "base_uri": "https://localhost:8080/"
        },
        "id": "UzI3n8miCoWL",
        "outputId": "47c2ddf2-9ef9-4d5f-b348-df0381262fff"
      },
      "source": [
        "a = data_test['src'].values\n",
        "en_en = sum(textstat.flesch_kincaid_grade(i) for i in a)/len(a)\n",
        "en_en"
      ],
      "execution_count": 30,
      "outputs": [
        {
          "output_type": "execute_result",
          "data": {
            "text/plain": [
              "11.071814445096855"
            ]
          },
          "metadata": {
            "tags": []
          },
          "execution_count": 30
        }
      ]
    },
    {
      "cell_type": "code",
      "metadata": {
        "colab": {
          "base_uri": "https://localhost:8080/"
        },
        "id": "SNLdQjMnClkq",
        "outputId": "fba8682c-932e-4fb7-cecc-ea659cdbc1b4"
      },
      "source": [
        "a = data_test['en_en'].values\n",
        "en_en = sum(textstat.flesch_kincaid_grade(i) for i in a)/len(a)\n",
        "en_en"
      ],
      "execution_count": 31,
      "outputs": [
        {
          "output_type": "execute_result",
          "data": {
            "text/plain": [
              "11.808367586611897"
            ]
          },
          "metadata": {
            "tags": []
          },
          "execution_count": 31
        }
      ]
    },
    {
      "cell_type": "markdown",
      "metadata": {
        "id": "4Qd1xcbzCwMM"
      },
      "source": [
        "WHOLE TEXT"
      ]
    },
    {
      "cell_type": "code",
      "metadata": {
        "colab": {
          "base_uri": "https://localhost:8080/"
        },
        "id": "LsS4kp6OCy2b",
        "outputId": "e5232f13-1bc3-4ea4-840c-116c01c3b9f0"
      },
      "source": [
        "a = ' '.join(list(data_test['src'].values))\n",
        "en_en = textstat.flesch_kincaid_grade(a)\n",
        "en_en"
      ],
      "execution_count": 33,
      "outputs": [
        {
          "output_type": "execute_result",
          "data": {
            "text/plain": [
              "10.7"
            ]
          },
          "metadata": {
            "tags": []
          },
          "execution_count": 33
        }
      ]
    },
    {
      "cell_type": "code",
      "metadata": {
        "colab": {
          "base_uri": "https://localhost:8080/"
        },
        "id": "HNG1hIvnCy-G",
        "outputId": "1afb4c13-16df-4c22-9c05-656a2f905ac3"
      },
      "source": [
        "a = ' '.join(list(data_test['en_en'].values))\n",
        "en_en = textstat.flesch_kincaid_grade(a)\n",
        "en_en"
      ],
      "execution_count": 34,
      "outputs": [
        {
          "output_type": "execute_result",
          "data": {
            "text/plain": [
              "11.1"
            ]
          },
          "metadata": {
            "tags": []
          },
          "execution_count": 34
        }
      ]
    },
    {
      "cell_type": "markdown",
      "metadata": {
        "id": "d70jLwxZC_RN"
      },
      "source": [
        "### Cosine Similarity"
      ]
    },
    {
      "cell_type": "code",
      "metadata": {
        "id": "1Eal9pCa43VX"
      },
      "source": [
        "from transformers import RobertaTokenizer, RobertaModel, AutoConfig, AutoTokenizer, AutoModelForMaskedLM\n",
        "device = \"cuda\" if torch.cuda.is_available() else \"cpu\"\n",
        "config = AutoConfig.from_pretrained(\"roberta-base\") # \"roberta-base\" 'xlm-mlm-100-1280' 'xlm-roberta-base' 'bert-base-multilingual-cased'\n",
        "config.output_hidden_states = True\n",
        "\n",
        "tok = AutoTokenizer.from_pretrained(\"roberta-base\")\n",
        "model = AutoModelForMaskedLM.from_pretrained(\"roberta-base\", config=config)\n",
        "model.to(device)"
      ],
      "execution_count": null,
      "outputs": []
    },
    {
      "cell_type": "code",
      "metadata": {
        "colab": {
          "base_uri": "https://localhost:8080/"
        },
        "id": "vlMtKJYZD41w",
        "outputId": "976b95b1-2861-4e4c-b259-a0d2690c1491"
      },
      "source": [
        "calc_cos_sim(data_test, model, tok, 'src', 'en_en', 'cos_sim_en_en')\n",
        "data_test.cos_sim_en_en.mean()"
      ],
      "execution_count": 39,
      "outputs": [
        {
          "output_type": "execute_result",
          "data": {
            "text/plain": [
              "0.9784409024862598"
            ]
          },
          "metadata": {
            "tags": []
          },
          "execution_count": 39
        }
      ]
    },
    {
      "cell_type": "markdown",
      "metadata": {
        "id": "FGk2b9Ku6imw"
      },
      "source": [
        "### Grammar"
      ]
    },
    {
      "cell_type": "code",
      "metadata": {
        "id": "vXDpiXYz6ixT"
      },
      "source": [
        "tool = language_tool_python.LanguageTool('en')"
      ],
      "execution_count": null,
      "outputs": []
    },
    {
      "cell_type": "code",
      "metadata": {
        "colab": {
          "base_uri": "https://localhost:8080/"
        },
        "id": "So6xrLM562Fs",
        "outputId": "2505a19e-b53f-45b5-e419-3bbb8c40ba53"
      },
      "source": [
        "errors = get_mistakes_summary(data_test, 'en_en')\n",
        "errors"
      ],
      "execution_count": 64,
      "outputs": [
        {
          "output_type": "execute_result",
          "data": {
            "text/plain": [
              "{'CASING': 38,\n",
              " 'COLLOCATIONS': 2,\n",
              " 'GRAMMAR': 23,\n",
              " 'MISC': 1,\n",
              " 'PUNCTUATION': 183,\n",
              " 'REDUNDANCY': 28,\n",
              " 'STYLE': 3,\n",
              " 'TYPOGRAPHY': 8081,\n",
              " 'TYPOS': 10}"
            ]
          },
          "metadata": {
            "tags": []
          },
          "execution_count": 64
        }
      ]
    },
    {
      "cell_type": "markdown",
      "metadata": {
        "id": "VqVZVh1G9dqn"
      },
      "source": [
        " ## Evaluation of English model with filtering"
      ]
    },
    {
      "cell_type": "markdown",
      "metadata": {
        "id": "IsZJpaJhuZTi"
      },
      "source": [
        "### SARI"
      ]
    },
    {
      "cell_type": "code",
      "metadata": {
        "id": "grLdyC5P9ePc"
      },
      "source": [
        "with open('/content/drive/MyDrive/MT_sentence_simpl/predictions/model_prediction_en_en_filtered.hyp', 'r') as f:\n",
        "  sentences = [i.strip() for i in f.readlines()]\n",
        "\n",
        "lt = list()\n",
        "st = set()\n",
        "for i in sentences:\n",
        "  if i not in st:\n",
        "    lt.append(i)\n",
        "    st.add(i)\n",
        "\n",
        "with open('/content/model_prediction_en_en_filtered.hyp', 'w') as f:\n",
        "  for i in lt:\n",
        "    f.write(i+'\\n')"
      ],
      "execution_count": 33,
      "outputs": []
    },
    {
      "cell_type": "code",
      "metadata": {
        "colab": {
          "base_uri": "https://localhost:8080/"
        },
        "id": "RPmkvsX6ucwm",
        "outputId": "659d45bf-d96a-4563-a3fe-53401b25ab62"
      },
      "source": [
        "! easse evaluate \\\n",
        "--test_set custom \\\n",
        "--metrics sari \\\n",
        "--refs_sents_paths /content/prepared_data/test_ref_data.ref.0,/content/prepared_data/test_ref_data.ref.1,/content/prepared_data/test_ref_data.ref.2,/content/prepared_data/test_ref_data.ref.3,/content/prepared_data/test_ref_data.ref.4 \\\n",
        "--orig_sents_path /content/prepared_data/test_ref_data.src \\\n",
        "--sys_sents_path /content/model_prediction_en_en_filtered.hyp -q"
      ],
      "execution_count": 34,
      "outputs": [
        {
          "output_type": "stream",
          "text": [
            "{'sari': 34.596, 'quality_estimation': {'Compression ratio': 0.597, 'Sentence splits': 0.987, 'Levenshtein similarity': 0.727, 'Exact copies': 0.015, 'Additions proportion': 0.009, 'Deletions proportion': 0.414, 'Lexical complexity score': 8.217}}\n"
          ],
          "name": "stdout"
        }
      ]
    },
    {
      "cell_type": "markdown",
      "metadata": {
        "id": "63qni0jfu1n0"
      },
      "source": [
        "### BLEU"
      ]
    },
    {
      "cell_type": "code",
      "metadata": {
        "colab": {
          "base_uri": "https://localhost:8080/"
        },
        "id": "pke1vZ9Pu3jQ",
        "outputId": "e085e7b9-6471-4dbb-a6f3-6d0b206b9e21"
      },
      "source": [
        "# make lists of src, dst\n",
        "src_column, trg_column = \"en_en_filtered\", \"dst\"\n",
        "data_dict = OrderedDict()\n",
        "for ind, row in data_test.iterrows():\n",
        "        source_sentence = row[src_column]\n",
        "        reference_sentence = row[trg_column]\n",
        "        if data_dict.get(source_sentence) is None:\n",
        "            data_dict[source_sentence] = []\n",
        "        data_dict[source_sentence].append(reference_sentence)\n",
        "max_num_reference_sentences = max([len(x) for x in data_dict.values()])\n",
        "\n",
        "src, dst = [i for i in data_dict.keys()], [i for i in data_dict.values()]\n",
        "for i, j in enumerate(src):\n",
        "   if len(dst[i]) < max_num_reference_sentences:\n",
        "    dst[i] = dst[i] + [dst[i][0]]*(max_num_reference_sentences - len(dst[i]))\n",
        "\n",
        "refs = []\n",
        "for j in range(len(dst[1])):\n",
        "  ref = []\n",
        "  for i in dst:\n",
        "    ref.append(i[j])\n",
        "  refs.append(ref)\n",
        "  \n",
        "corpus_bleu(src, refs)"
      ],
      "execution_count": 35,
      "outputs": [
        {
          "output_type": "execute_result",
          "data": {
            "text/plain": [
              "40.97846360104546"
            ]
          },
          "metadata": {
            "tags": []
          },
          "execution_count": 35
        }
      ]
    },
    {
      "cell_type": "markdown",
      "metadata": {
        "id": "8w9kPK-8u9o4"
      },
      "source": [
        "### FKLG"
      ]
    },
    {
      "cell_type": "markdown",
      "metadata": {
        "id": "38JLZmYbvWAI"
      },
      "source": [
        "MEAN"
      ]
    },
    {
      "cell_type": "code",
      "metadata": {
        "colab": {
          "base_uri": "https://localhost:8080/"
        },
        "id": "ZUyW6PxTu_cr",
        "outputId": "02a1ed54-64ba-4e45-f93c-97f5f86c617b"
      },
      "source": [
        "a = data_test['en_en_filtered'].values\n",
        "en_en = sum(textstat.flesch_kincaid_grade(i) for i in a)/len(a)\n",
        "en_en\n"
      ],
      "execution_count": 37,
      "outputs": [
        {
          "output_type": "execute_result",
          "data": {
            "text/plain": [
              "9.058573106283028"
            ]
          },
          "metadata": {
            "tags": []
          },
          "execution_count": 37
        }
      ]
    },
    {
      "cell_type": "markdown",
      "metadata": {
        "id": "MnFHw7m-vXUW"
      },
      "source": [
        "WHOLE DATA"
      ]
    },
    {
      "cell_type": "code",
      "metadata": {
        "colab": {
          "base_uri": "https://localhost:8080/"
        },
        "id": "iGULE4EmvSKU",
        "outputId": "56bae38c-83db-4d9a-c989-44ce0330c2ee"
      },
      "source": [
        "a = ' '.join(list(data_test['en_en_filtered'].values))\n",
        "en_en = textstat.flesch_kincaid_grade(a)\n",
        "en_en"
      ],
      "execution_count": 38,
      "outputs": [
        {
          "output_type": "execute_result",
          "data": {
            "text/plain": [
              "8.4"
            ]
          },
          "metadata": {
            "tags": []
          },
          "execution_count": 38
        }
      ]
    },
    {
      "cell_type": "markdown",
      "metadata": {
        "id": "Wg-dfnIUvziV"
      },
      "source": [
        "COSINE SIMILARITY"
      ]
    },
    {
      "cell_type": "code",
      "metadata": {
        "id": "0Jgo8OcZv1aK"
      },
      "source": [
        "from transformers import RobertaTokenizer, RobertaModel, AutoConfig, AutoTokenizer, AutoModelForMaskedLM\n",
        "device = \"cuda\" if torch.cuda.is_available() else \"cpu\"\n",
        "config = AutoConfig.from_pretrained(\"roberta-base\") # \"roberta-base\" 'xlm-mlm-100-1280' 'xlm-roberta-base' 'bert-base-multilingual-cased'\n",
        "config.output_hidden_states = True\n",
        "\n",
        "tok = AutoTokenizer.from_pretrained(\"roberta-base\")\n",
        "model = AutoModelForMaskedLM.from_pretrained(\"roberta-base\", config=config)\n",
        "model.to(device)"
      ],
      "execution_count": null,
      "outputs": []
    },
    {
      "cell_type": "code",
      "metadata": {
        "colab": {
          "base_uri": "https://localhost:8080/"
        },
        "id": "F8xF8oLDycfl",
        "outputId": "c46eecbf-946d-4722-ca0f-5481cd217799"
      },
      "source": [
        "calc_cos_sim(data_test, model, tok, 'src', 'en_en_filtered', 'cos_sim_en_en_filtered')\n",
        "data_test.cos_sim_en_en_filtered.mean()"
      ],
      "execution_count": 45,
      "outputs": [
        {
          "output_type": "execute_result",
          "data": {
            "text/plain": [
              "0.9042795725763981"
            ]
          },
          "metadata": {
            "tags": []
          },
          "execution_count": 45
        }
      ]
    },
    {
      "cell_type": "markdown",
      "metadata": {
        "id": "Cov50duZ7N6Z"
      },
      "source": [
        "### Grammar"
      ]
    },
    {
      "cell_type": "code",
      "metadata": {
        "colab": {
          "base_uri": "https://localhost:8080/"
        },
        "id": "c_gISRxp7OCY",
        "outputId": "0f53c803-d5b7-47f4-d41d-460bc58371ec"
      },
      "source": [
        "errors = get_mistakes_summary(data_test, 'en_en_filtered')\n",
        "errors"
      ],
      "execution_count": 65,
      "outputs": [
        {
          "output_type": "execute_result",
          "data": {
            "text/plain": [
              "{'CASING': 14,\n",
              " 'GRAMMAR': 43,\n",
              " 'PUNCTUATION': 29,\n",
              " 'REDUNDANCY': 10,\n",
              " 'TYPOGRAPHY': 5028,\n",
              " 'TYPOS': 15}"
            ]
          },
          "metadata": {
            "tags": []
          },
          "execution_count": 65
        }
      ]
    },
    {
      "cell_type": "markdown",
      "metadata": {
        "id": "WMOeA_vY6FUR"
      },
      "source": [
        "## Evaluation of Russian model trained on data without filtering "
      ]
    },
    {
      "cell_type": "markdown",
      "metadata": {
        "id": "6gPF7gQYDeIN"
      },
      "source": [
        "### SARI"
      ]
    },
    {
      "cell_type": "code",
      "metadata": {
        "id": "WTrpie6M6KJZ"
      },
      "source": [
        "! rm -r /content/prepared_data\n",
        "! mkdir /content/prepared_data"
      ],
      "execution_count": 14,
      "outputs": []
    },
    {
      "cell_type": "code",
      "metadata": {
        "colab": {
          "base_uri": "https://localhost:8080/"
        },
        "id": "N7vrjZV-DjY4",
        "outputId": "4f7db2e4-0859-431c-8443-bb732be05b02"
      },
      "source": [
        "! python /content/sent_simplification/refs_to_easse_format.py \\\n",
        "--input_path /content/drive/MyDrive/MT_sentence_simpl/wiki_test_dev_eng.csv \\\n",
        "--output_dataset_name test_ref_data \\\n",
        "--src_column \"INPUT:source\" \\\n",
        "--trg_column \"OUTPUT:output\" \\\n",
        "--output_dir /content/prepared_data"
      ],
      "execution_count": 15,
      "outputs": [
        {
          "output_type": "stream",
          "text": [
            "1000\n",
            "3406\n",
            "3406\n",
            "Overall number of references: 3406\n"
          ],
          "name": "stdout"
        }
      ]
    },
    {
      "cell_type": "code",
      "metadata": {
        "id": "M7TjBIlfbjHH"
      },
      "source": [
        "with open('/content/drive/MyDrive/MT_sentence_simpl/predictions/model_prediction_ru_ru.hyp', 'r') as f:\n",
        "  sentences = [i.strip() for i in f.readlines()]\n",
        "\n",
        "lt = list()\n",
        "st = set()\n",
        "for i in sentences:\n",
        "  if i not in st:\n",
        "    lt.append(i)\n",
        "    st.add(i)\n",
        "\n",
        "with open('/content/model_prediction__ru_ru.hyp', 'w') as f:\n",
        "  for i in lt:\n",
        "    f.write(i+'\\n')"
      ],
      "execution_count": 23,
      "outputs": []
    },
    {
      "cell_type": "code",
      "metadata": {
        "colab": {
          "base_uri": "https://localhost:8080/"
        },
        "id": "t73Uai_BbtGA",
        "outputId": "1ba6dded-8e03-4106-a298-969865534717"
      },
      "source": [
        "! easse evaluate \\\n",
        "--test_set custom \\\n",
        "--metrics sari \\\n",
        "--refs_sents_paths /content/prepared_data/test_ref_data.ref.0,/content/prepared_data/test_ref_data.ref.1,/content/prepared_data/test_ref_data.ref.2,/content/prepared_data/test_ref_data.ref.3,/content/prepared_data/test_ref_data.ref.4 \\\n",
        "--orig_sents_path /content/prepared_data/test_ref_data.src \\\n",
        "--sys_sents_path /content/model_prediction__ru_ru.hyp -q"
      ],
      "execution_count": 24,
      "outputs": [
        {
          "output_type": "stream",
          "text": [
            "{'sari': 16.499, 'quality_estimation': {'Compression ratio': 0.968, 'Sentence splits': 1.003, 'Levenshtein similarity': 0.979, 'Exact copies': 0.68, 'Additions proportion': 0.011, 'Deletions proportion': 0.045, 'Lexical complexity score': 10.675}}\n"
          ],
          "name": "stdout"
        }
      ]
    },
    {
      "cell_type": "markdown",
      "metadata": {
        "id": "oTTmUnirEVxn"
      },
      "source": [
        "### BLEU"
      ]
    },
    {
      "cell_type": "code",
      "metadata": {
        "colab": {
          "base_uri": "https://localhost:8080/"
        },
        "id": "u75v2_zRC_8T",
        "outputId": "3914d60f-5331-4206-94c9-2905355664aa"
      },
      "source": [
        "# make lists of src, dst\n",
        "src_column, trg_column = \"ru_ru\", \"OUTPUT:output\"\n",
        "data_dict = OrderedDict()\n",
        "for ind, row in data_test.iterrows():\n",
        "        source_sentence = row[src_column]\n",
        "        reference_sentence = row[trg_column]\n",
        "        if data_dict.get(source_sentence) is None:\n",
        "            data_dict[source_sentence] = []\n",
        "        data_dict[source_sentence].append(reference_sentence)\n",
        "max_num_reference_sentences = max([len(x) for x in data_dict.values()])\n",
        "\n",
        "src, dst = [i for i in data_dict.keys()], [i for i in data_dict.values()]\n",
        "for i, j in enumerate(src):\n",
        "   if len(dst[i]) < max_num_reference_sentences:\n",
        "    dst[i] = dst[i] + [dst[i][0]]*(max_num_reference_sentences - len(dst[i]))\n",
        "\n",
        "refs = []\n",
        "for j in range(len(dst[1])):\n",
        "  ref = []\n",
        "  for i in dst:\n",
        "    ref.append(i[j])\n",
        "  refs.append(ref)\n",
        "  \n",
        "corpus_bleu(src, refs)"
      ],
      "execution_count": 79,
      "outputs": [
        {
          "output_type": "execute_result",
          "data": {
            "text/plain": [
              "36.70629761889349"
            ]
          },
          "metadata": {
            "tags": []
          },
          "execution_count": 79
        }
      ]
    },
    {
      "cell_type": "markdown",
      "metadata": {
        "id": "S2BdaL87FlWw"
      },
      "source": [
        "### Flesh-Kincaid Grade level"
      ]
    },
    {
      "cell_type": "code",
      "metadata": {
        "colab": {
          "base_uri": "https://localhost:8080/"
        },
        "id": "IHzX1vZoGD72",
        "outputId": "bf2df3e8-3c35-48d0-e4d7-5d53ebde592c"
      },
      "source": [
        "calc_readability_metrics(' '.join(list(data_test['INPUT:source'].values)))"
      ],
      "execution_count": 56,
      "outputs": [
        {
          "output_type": "execute_result",
          "data": {
            "text/plain": [
              "{'avg_slen': 15.85661345496009,\n",
              " 'avg_syl': 3.0165752808988766,\n",
              " 'c_share': 16.981573033707864,\n",
              " 'chars': 473430,\n",
              " 'index_SMOG_rus': 14.557852197020122,\n",
              " 'index_ari_rus': 17.71203679321743,\n",
              " 'index_cl_rus': 16.38818426966293,\n",
              " 'index_dc_rus': 13.702683787810848,\n",
              " 'index_fk_rus': 17.377772067441356,\n",
              " 'letters': 393678,\n",
              " 'n_complex_words': 9446,\n",
              " 'n_sentences': 3508,\n",
              " 'n_simple_words': 46179,\n",
              " 'n_syllabes': 167797,\n",
              " 'n_words': 55625,\n",
              " 'spaces': 60292,\n",
              " 'wsyllabes': {'1': 9867,\n",
              "  '10': 35,\n",
              "  '11': 6,\n",
              "  '12': 4,\n",
              "  '2': 12788,\n",
              "  '3': 13723,\n",
              "  '4': 9801,\n",
              "  '5': 6023,\n",
              "  '6': 2491,\n",
              "  '7': 677,\n",
              "  '8': 173,\n",
              "  '9': 37}}"
            ]
          },
          "metadata": {
            "tags": []
          },
          "execution_count": 56
        }
      ]
    },
    {
      "cell_type": "code",
      "metadata": {
        "colab": {
          "base_uri": "https://localhost:8080/"
        },
        "id": "tdsf2BKMF9hk",
        "outputId": "21e01d6e-6e30-4774-d46b-a80e9f8c67cb"
      },
      "source": [
        "calc_readability_metrics(' '.join(list(data_test['OUTPUT:output'].values)))"
      ],
      "execution_count": 53,
      "outputs": [
        {
          "output_type": "execute_result",
          "data": {
            "text/plain": [
              "{'avg_slen': 12.795306388526727,\n",
              " 'avg_syl': 2.8380374974526186,\n",
              " 'c_share': 12.78275932341553,\n",
              " 'chars': 317164,\n",
              " 'index_SMOG_rus': 11.356979245625993,\n",
              " 'index_ari_rus': 13.911711320522606,\n",
              " 'index_cl_rus': 13.275588954554713,\n",
              " 'index_dc_rus': 10.54920179059317,\n",
              " 'index_fk_rus': 13.869039895378684,\n",
              " 'letters': 259382,\n",
              " 'n_complex_words': 5018,\n",
              " 'n_sentences': 3068,\n",
              " 'n_simple_words': 34238,\n",
              " 'n_syllabes': 111410,\n",
              " 'n_words': 39256,\n",
              " 'spaces': 43375,\n",
              " 'wsyllabes': {'1': 7690,\n",
              "  '10': 11,\n",
              "  '11': 1,\n",
              "  '12': 1,\n",
              "  '14': 1,\n",
              "  '15': 1,\n",
              "  '2': 10187,\n",
              "  '3': 9546,\n",
              "  '4': 6815,\n",
              "  '5': 3294,\n",
              "  '6': 1274,\n",
              "  '7': 336,\n",
              "  '8': 71,\n",
              "  '9': 28}}"
            ]
          },
          "metadata": {
            "tags": []
          },
          "execution_count": 53
        }
      ]
    },
    {
      "cell_type": "code",
      "metadata": {
        "colab": {
          "base_uri": "https://localhost:8080/"
        },
        "id": "ywimTOFMFoxB",
        "outputId": "390775d5-51c6-443c-db4a-97d280d6d984"
      },
      "source": [
        "calc_readability_metrics(' '.join(list(data_test.ru_ru.values)))"
      ],
      "execution_count": 52,
      "outputs": [
        {
          "output_type": "execute_result",
          "data": {
            "text/plain": [
              "{'avg_slen': 15.412050256996002,\n",
              " 'avg_syl': 3.01406258684898,\n",
              " 'c_share': 16.843606988679525,\n",
              " 'chars': 458434,\n",
              " 'index_SMOG_rus': 14.294811353101062,\n",
              " 'index_ari_rus': 17.531640673671966,\n",
              " 'index_cl_rus': 16.275580568061812,\n",
              " 'index_dc_rus': 13.505160777911009,\n",
              " 'index_fk_rus': 17.200720714980243,\n",
              " 'letters': 381506,\n",
              " 'n_complex_words': 9091,\n",
              " 'n_sentences': 3502,\n",
              " 'n_simple_words': 44882,\n",
              " 'n_syllabes': 162678,\n",
              " 'n_words': 53973,\n",
              " 'spaces': 58381,\n",
              " 'wsyllabes': {'1': 9581,\n",
              "  '10': 35,\n",
              "  '11': 6,\n",
              "  '12': 4,\n",
              "  '2': 12369,\n",
              "  '3': 13339,\n",
              "  '4': 9593,\n",
              "  '5': 5826,\n",
              "  '6': 2384,\n",
              "  '7': 648,\n",
              "  '8': 156,\n",
              "  '9': 32}}"
            ]
          },
          "metadata": {
            "tags": []
          },
          "execution_count": 52
        }
      ]
    },
    {
      "cell_type": "markdown",
      "metadata": {
        "id": "g0rK0fMWG-QC"
      },
      "source": [
        "COSINE SIMILARITY"
      ]
    },
    {
      "cell_type": "code",
      "metadata": {
        "id": "1N7OYb5kHAkg"
      },
      "source": [
        "from transformers import RobertaTokenizer, RobertaModel, AutoConfig, AutoTokenizer, AutoModelForMaskedLM\n",
        "device = \"cuda\" if torch.cuda.is_available() else \"cpu\"\n",
        "config = AutoConfig.from_pretrained(\"DeepPavlov/rubert-base-cased\") # \"roberta-base\" 'xlm-mlm-100-1280' 'xlm-roberta-base' 'bert-base-multilingual-cased'\n",
        "config.output_hidden_states = True\n",
        "\n",
        "tok = AutoTokenizer.from_pretrained(\"DeepPavlov/rubert-base-cased\")\n",
        "model = AutoModelForMaskedLM.from_pretrained(\"DeepPavlov/rubert-base-cased\", config=config)\n",
        "model.to(device)"
      ],
      "execution_count": null,
      "outputs": []
    },
    {
      "cell_type": "code",
      "metadata": {
        "colab": {
          "base_uri": "https://localhost:8080/"
        },
        "id": "aRZbWiraIK6X",
        "outputId": "31e32d15-c9a8-4bb1-f5db-ff99f30438e1"
      },
      "source": [
        "calc_cos_sim(data_test, model, tok, 'INPUT:source', 'ru_ru', 'cos_sim_ru_ru')\n",
        "data_test.cos_sim_ru_ru.mean()"
      ],
      "execution_count": 63,
      "outputs": [
        {
          "output_type": "execute_result",
          "data": {
            "text/plain": [
              "0.9955931413422174"
            ]
          },
          "metadata": {
            "tags": []
          },
          "execution_count": 63
        }
      ]
    },
    {
      "cell_type": "markdown",
      "metadata": {
        "id": "cigemiOr7bHx"
      },
      "source": [
        "### Grammar"
      ]
    },
    {
      "cell_type": "code",
      "metadata": {
        "id": "u9d-pzVg7bWE"
      },
      "source": [
        "tool = language_tool_python.LanguageTool('ru')"
      ],
      "execution_count": 66,
      "outputs": []
    },
    {
      "cell_type": "code",
      "metadata": {
        "colab": {
          "base_uri": "https://localhost:8080/"
        },
        "id": "V7KDPYvT7lWM",
        "outputId": "b1248b19-8e5f-42e6-d5b6-cb19bc5752df"
      },
      "source": [
        "errors = get_mistakes_summary(data_test, 'ru_ru')\n",
        "errors"
      ],
      "execution_count": 67,
      "outputs": [
        {
          "output_type": "execute_result",
          "data": {
            "text/plain": [
              "{'CASING': 8,\n",
              " 'GRAMMAR': 22,\n",
              " 'LOGIC': 27,\n",
              " 'PUNCTUATION': 20,\n",
              " 'STYLE': 14,\n",
              " 'TYPOGRAPHY': 393,\n",
              " 'TYPOS': 800}"
            ]
          },
          "metadata": {
            "tags": []
          },
          "execution_count": 67
        }
      ]
    },
    {
      "cell_type": "markdown",
      "metadata": {
        "id": "uSnkqJDR6LMa"
      },
      "source": [
        "## Evaluation of Russian model without filtering pretrained on English data"
      ]
    },
    {
      "cell_type": "markdown",
      "metadata": {
        "id": "9ePmbqtwHeW-"
      },
      "source": [
        "### SARI"
      ]
    },
    {
      "cell_type": "code",
      "metadata": {
        "id": "emPJvW807f-w"
      },
      "source": [
        "# ! rm -r /content/prepared_data\n",
        "# ! mkdir /content/prepared_data"
      ],
      "execution_count": 59,
      "outputs": []
    },
    {
      "cell_type": "code",
      "metadata": {
        "colab": {
          "base_uri": "https://localhost:8080/"
        },
        "id": "qB10OLWjHm7e",
        "outputId": "c893b8fb-b644-4507-80e8-030004d11b16"
      },
      "source": [
        "# ! python /content/sent_simplification/refs_to_easse_format.py \\\n",
        "# --input_path /content/drive/MyDrive/MT_sentence_simpl/wiki_test_dev_eng.csv \\\n",
        "# --output_dataset_name test_ref_data \\\n",
        "# --src_column \"INPUT:source\" \\\n",
        "# --trg_column \"OUTPUT:output\" \\\n",
        "# --output_dir /content/prepared_data"
      ],
      "execution_count": 60,
      "outputs": [
        {
          "output_type": "stream",
          "text": [
            "1000\n",
            "3406\n",
            "3406\n",
            "Overall number of references: 3406\n"
          ],
          "name": "stdout"
        }
      ]
    },
    {
      "cell_type": "code",
      "metadata": {
        "id": "USZPW_qJcrb7"
      },
      "source": [
        "with open('/content/drive/MyDrive/MT_sentence_simpl/predictions/model_prediction_en_ru_ru.hyp', 'r') as f:\n",
        "  sentences = [i.strip() for i in f.readlines()]\n",
        "\n",
        "lt = list()\n",
        "st = set()\n",
        "for i in sentences:\n",
        "  if i not in st:\n",
        "    lt.append(i)\n",
        "    st.add(i)\n",
        "\n",
        "with open('/content/model_prediction_en_ru_ru.hyp', 'w') as f:\n",
        "  for i in lt:\n",
        "    f.write(i+'\\n')"
      ],
      "execution_count": 25,
      "outputs": []
    },
    {
      "cell_type": "code",
      "metadata": {
        "colab": {
          "base_uri": "https://localhost:8080/"
        },
        "id": "jHymr7-XcxhD",
        "outputId": "9307680e-a541-4ffe-9944-b1a5dc69e258"
      },
      "source": [
        "! easse evaluate \\\n",
        "--test_set custom \\\n",
        "--metrics sari \\\n",
        "--refs_sents_paths /content/prepared_data/test_ref_data.ref.0,/content/prepared_data/test_ref_data.ref.1,/content/prepared_data/test_ref_data.ref.2,/content/prepared_data/test_ref_data.ref.3,/content/prepared_data/test_ref_data.ref.4 \\\n",
        "--orig_sents_path /content/prepared_data/test_ref_data.src \\\n",
        "--sys_sents_path /content/model_prediction_en_ru_ru.hyp -q"
      ],
      "execution_count": 26,
      "outputs": [
        {
          "output_type": "stream",
          "text": [
            "{'sari': 16.939, 'quality_estimation': {'Compression ratio': 0.963, 'Sentence splits': 1.002, 'Levenshtein similarity': 0.975, 'Exact copies': 0.652, 'Additions proportion': 0.013, 'Deletions proportion': 0.051, 'Lexical complexity score': 10.682}}\n"
          ],
          "name": "stdout"
        }
      ]
    },
    {
      "cell_type": "markdown",
      "metadata": {
        "id": "5BVpaoymHvv1"
      },
      "source": [
        "### BLEU"
      ]
    },
    {
      "cell_type": "code",
      "metadata": {
        "colab": {
          "base_uri": "https://localhost:8080/"
        },
        "id": "vwmdgAqrHxJa",
        "outputId": "92db841c-e584-4d4f-d82c-5d79cf95db90"
      },
      "source": [
        "# make lists of src, dst\n",
        "# src_column, trg_column = \"en_ru_ru\", \"OUTPUT:output\"\n",
        "# data_dict = OrderedDict()\n",
        "# for ind, row in data_test.iterrows():\n",
        "#         source_sentence = row[src_column]\n",
        "#         reference_sentence = row[trg_column]\n",
        "#         if data_dict.get(source_sentence) is None:\n",
        "#             data_dict[source_sentence] = []\n",
        "#         data_dict[source_sentence].append(reference_sentence)\n",
        "# max_num_reference_sentences = max([len(x) for x in data_dict.values()])\n",
        "# src, dst = [i for i in data_dict.keys()], [i for i in data_dict.values()]\n",
        "# corpus_averaged_sentence_bleu(src, dst)"
      ],
      "execution_count": 64,
      "outputs": [
        {
          "output_type": "execute_result",
          "data": {
            "text/plain": [
              "34.749903130866464"
            ]
          },
          "metadata": {
            "tags": []
          },
          "execution_count": 64
        }
      ]
    },
    {
      "cell_type": "code",
      "metadata": {
        "colab": {
          "base_uri": "https://localhost:8080/"
        },
        "id": "0RwXXSImODcq",
        "outputId": "4ed29f1c-f3e5-41a5-e959-73eb5388068a"
      },
      "source": [
        "# make lists of src, dst\n",
        "src_column, trg_column = \"en_ru_ru\", \"OUTPUT:output\"\n",
        "data_dict = OrderedDict()\n",
        "for ind, row in data_test.iterrows():\n",
        "        source_sentence = row[src_column]\n",
        "        reference_sentence = row[trg_column]\n",
        "        if data_dict.get(source_sentence) is None:\n",
        "            data_dict[source_sentence] = []\n",
        "        data_dict[source_sentence].append(reference_sentence)\n",
        "max_num_reference_sentences = max([len(x) for x in data_dict.values()])\n",
        "\n",
        "src, dst = [i for i in data_dict.keys()], [i for i in data_dict.values()]\n",
        "for i, j in enumerate(src):\n",
        "   if len(dst[i]) < max_num_reference_sentences:\n",
        "    dst[i] = dst[i] + [dst[i][0]]*(max_num_reference_sentences - len(dst[i]))\n",
        "\n",
        "refs = []\n",
        "for j in range(len(dst[1])):\n",
        "  ref = []\n",
        "  for i in dst:\n",
        "    ref.append(i[j])\n",
        "  refs.append(ref)\n",
        "  \n",
        "corpus_bleu(src, refs)"
      ],
      "execution_count": 80,
      "outputs": [
        {
          "output_type": "execute_result",
          "data": {
            "text/plain": [
              "36.94343271922458"
            ]
          },
          "metadata": {
            "tags": []
          },
          "execution_count": 80
        }
      ]
    },
    {
      "cell_type": "markdown",
      "metadata": {
        "id": "1jETQx4FIcrn"
      },
      "source": [
        "FKGL"
      ]
    },
    {
      "cell_type": "code",
      "metadata": {
        "colab": {
          "base_uri": "https://localhost:8080/"
        },
        "id": "OC18qNl_IeaH",
        "outputId": "1dda6837-af44-44c8-d16f-62b29cfe6e02"
      },
      "source": [
        "calc_readability_metrics(' '.join(list(data_test.en_ru_ru.values)))"
      ],
      "execution_count": 65,
      "outputs": [
        {
          "output_type": "execute_result",
          "data": {
            "text/plain": [
              "{'avg_slen': 15.32686822589846,\n",
              " 'avg_syl': 3.014385142176567,\n",
              " 'c_share': 16.906729194580915,\n",
              " 'chars': 456511,\n",
              " 'index_SMOG_rus': 14.281984238205567,\n",
              " 'index_ari_rus': 17.53083943300245,\n",
              " 'index_cl_rus': 16.283248101831177,\n",
              " 'index_dc_rus': 13.516749541078948,\n",
              " 'index_fk_rus': 17.17821311474296,\n",
              " 'letters': 380029,\n",
              " 'n_complex_words': 9085,\n",
              " 'n_sentences': 3506,\n",
              " 'n_simple_words': 44651,\n",
              " 'n_syllabes': 161981,\n",
              " 'n_words': 53736,\n",
              " 'spaces': 58090,\n",
              " 'wsyllabes': {'1': 9523,\n",
              "  '10': 35,\n",
              "  '11': 6,\n",
              "  '12': 4,\n",
              "  '2': 12377,\n",
              "  '3': 13254,\n",
              "  '4': 9497,\n",
              "  '5': 5829,\n",
              "  '6': 2373,\n",
              "  '7': 636,\n",
              "  '8': 163,\n",
              "  '9': 39}}"
            ]
          },
          "metadata": {
            "tags": []
          },
          "execution_count": 65
        }
      ]
    },
    {
      "cell_type": "markdown",
      "metadata": {
        "id": "fFjgoeh7IpYJ"
      },
      "source": [
        "COSINE SIMILARITY"
      ]
    },
    {
      "cell_type": "code",
      "metadata": {
        "colab": {
          "base_uri": "https://localhost:8080/"
        },
        "id": "1fY2gh4-IhzO",
        "outputId": "ddb33af2-1677-48f4-fc1b-1c8e453440f3"
      },
      "source": [
        "calc_cos_sim(data_test, model, tok, 'INPUT:source', 'ru_ru', 'cos_sim_en_ru_ru')\n",
        "data_test.cos_sim_en_ru_ru.mean()"
      ],
      "execution_count": 66,
      "outputs": [
        {
          "output_type": "execute_result",
          "data": {
            "text/plain": [
              "0.9955931413422174"
            ]
          },
          "metadata": {
            "tags": []
          },
          "execution_count": 66
        }
      ]
    },
    {
      "cell_type": "markdown",
      "metadata": {
        "id": "pdM583By8ih3"
      },
      "source": [
        "### Grammar"
      ]
    },
    {
      "cell_type": "code",
      "metadata": {
        "colab": {
          "base_uri": "https://localhost:8080/"
        },
        "id": "Q4VXncwK8iuh",
        "outputId": "ca405d8b-1eff-4558-b043-1a745152eba0"
      },
      "source": [
        "errors = get_mistakes_summary(data_test, 'en_ru_ru')\n",
        "errors"
      ],
      "execution_count": 71,
      "outputs": [
        {
          "output_type": "execute_result",
          "data": {
            "text/plain": [
              "{'CASING': 17,\n",
              " 'GRAMMAR': 20,\n",
              " 'LOGIC': 27,\n",
              " 'PUNCTUATION': 21,\n",
              " 'STYLE': 14,\n",
              " 'TYPOGRAPHY': 398,\n",
              " 'TYPOS': 800}"
            ]
          },
          "metadata": {
            "tags": []
          },
          "execution_count": 71
        }
      ]
    },
    {
      "cell_type": "markdown",
      "metadata": {
        "id": "LwNBRMRu7kEs"
      },
      "source": [
        "# Evaluation of Russian model trained on filtered data"
      ]
    },
    {
      "cell_type": "markdown",
      "metadata": {
        "id": "TMCemJhJIwGc"
      },
      "source": [
        "### SARI"
      ]
    },
    {
      "cell_type": "code",
      "metadata": {
        "colab": {
          "base_uri": "https://localhost:8080/"
        },
        "id": "NvTZcJHpPMH_",
        "outputId": "9b4b24f1-e752-4282-fc72-fbd8a23929ed"
      },
      "source": [
        "# ! rm -r /content/prepared_data\n",
        "# ! mkdir /content/prepared_data\n",
        "\n",
        "# ! python /content/sent_simplification/refs_to_easse_format.py \\\n",
        "# --input_path /content/drive/MyDrive/MT_sentence_simpl/wiki_test_dev_eng.csv \\\n",
        "# --output_dataset_name test_ref_data \\\n",
        "# --src_column \"INPUT:source\" \\\n",
        "# --trg_column \"OUTPUT:output\" \\\n",
        "# --output_dir /content/prepared_data"
      ],
      "execution_count": 42,
      "outputs": [
        {
          "output_type": "stream",
          "text": [
            "1000\n",
            "3406\n",
            "3406\n",
            "Overall number of references: 3406\n"
          ],
          "name": "stdout"
        }
      ]
    },
    {
      "cell_type": "code",
      "metadata": {
        "id": "sAV5J5oIc-A3"
      },
      "source": [
        "with open('/content/drive/MyDrive/MT_sentence_simpl/predictions/model_prediction_ru_ru_filtered.hyp', 'r') as f:\n",
        "  sentences = [i.strip() for i in f.readlines()]\n",
        "\n",
        "lt = list()\n",
        "st = set()\n",
        "for i in sentences:\n",
        "  if i not in st:\n",
        "    lt.append(i)\n",
        "    st.add(i)\n",
        "\n",
        "with open('/content/model_prediction_ru_ru_filtered.hyp', 'w') as f:\n",
        "  for i in lt:\n",
        "    f.write(i+'\\n')"
      ],
      "execution_count": 27,
      "outputs": []
    },
    {
      "cell_type": "code",
      "metadata": {
        "colab": {
          "base_uri": "https://localhost:8080/"
        },
        "id": "jpUdzUATdGfR",
        "outputId": "2dcc04ee-09e5-4ed8-c804-df661152a26b"
      },
      "source": [
        "! easse evaluate \\\n",
        "--test_set custom \\\n",
        "--metrics sari \\\n",
        "--refs_sents_paths /content/prepared_data/test_ref_data.ref.0,/content/prepared_data/test_ref_data.ref.1,/content/prepared_data/test_ref_data.ref.2,/content/prepared_data/test_ref_data.ref.3,/content/prepared_data/test_ref_data.ref.4 \\\n",
        "--orig_sents_path /content/prepared_data/test_ref_data.src \\\n",
        "--sys_sents_path /content/model_prediction_ru_ru_filtered.hyp -q"
      ],
      "execution_count": 28,
      "outputs": [
        {
          "output_type": "stream",
          "text": [
            "{'sari': 32.31, 'quality_estimation': {'Compression ratio': 0.661, 'Sentence splits': 0.988, 'Levenshtein similarity': 0.778, 'Exact copies': 0.014, 'Additions proportion': 0.014, 'Deletions proportion': 0.361, 'Lexical complexity score': 10.721}}\n"
          ],
          "name": "stdout"
        }
      ]
    },
    {
      "cell_type": "markdown",
      "metadata": {
        "id": "1dGsKlQxI4Kd"
      },
      "source": [
        "### BLEU"
      ]
    },
    {
      "cell_type": "code",
      "metadata": {
        "colab": {
          "base_uri": "https://localhost:8080/"
        },
        "id": "VZUXGHGqI6gq",
        "outputId": "0a79bc99-ca21-4154-e40b-2daaf137f21f"
      },
      "source": [
        "# make lists of src, dst\n",
        "# src_column, trg_column = \"ru_ru_filtered\", \"OUTPUT:output\"\n",
        "# data_dict = OrderedDict()\n",
        "# for ind, row in data_test.iterrows():\n",
        "#         source_sentence = row[src_column]\n",
        "#         reference_sentence = row[trg_column]\n",
        "#         if data_dict.get(source_sentence) is None:\n",
        "#             data_dict[source_sentence] = []\n",
        "#         data_dict[source_sentence].append(reference_sentence)\n",
        "# max_num_reference_sentences = max([len(x) for x in data_dict.values()])\n",
        "# src, dst = [i for i in data_dict.keys()], [i for i in data_dict.values()]\n",
        "# corpus_averaged_sentence_bleu(src, dst)"
      ],
      "execution_count": 68,
      "outputs": [
        {
          "output_type": "execute_result",
          "data": {
            "text/plain": [
              "53.16967153331756"
            ]
          },
          "metadata": {
            "tags": []
          },
          "execution_count": 68
        }
      ]
    },
    {
      "cell_type": "code",
      "metadata": {
        "colab": {
          "base_uri": "https://localhost:8080/"
        },
        "id": "vHJVr6xsOIhK",
        "outputId": "a6e33db0-1608-4b12-a123-fc30f0c4d203"
      },
      "source": [
        "# make lists of src, dst\n",
        "src_column, trg_column = \"ru_ru_filtered\", \"OUTPUT:output\"\n",
        "data_dict = OrderedDict()\n",
        "for ind, row in data_test.iterrows():\n",
        "        source_sentence = row[src_column]\n",
        "        reference_sentence = row[trg_column]\n",
        "        if data_dict.get(source_sentence) is None:\n",
        "            data_dict[source_sentence] = []\n",
        "        data_dict[source_sentence].append(reference_sentence)\n",
        "max_num_reference_sentences = max([len(x) for x in data_dict.values()])\n",
        "\n",
        "src, dst = [i for i in data_dict.keys()], [i for i in data_dict.values()]\n",
        "for i, j in enumerate(src):\n",
        "   if len(dst[i]) < max_num_reference_sentences:\n",
        "    dst[i] = dst[i] + [dst[i][0]]*(max_num_reference_sentences - len(dst[i]))\n",
        "\n",
        "refs = []\n",
        "for j in range(len(dst[1])):\n",
        "  ref = []\n",
        "  for i in dst:\n",
        "    ref.append(i[j])\n",
        "  refs.append(ref)\n",
        "  \n",
        "corpus_bleu(src, refs)"
      ],
      "execution_count": 82,
      "outputs": [
        {
          "output_type": "execute_result",
          "data": {
            "text/plain": [
              "37.2531944122807"
            ]
          },
          "metadata": {
            "tags": []
          },
          "execution_count": 82
        }
      ]
    },
    {
      "cell_type": "markdown",
      "metadata": {
        "id": "DGiWU1_aJDLT"
      },
      "source": [
        "### FKLG"
      ]
    },
    {
      "cell_type": "code",
      "metadata": {
        "colab": {
          "base_uri": "https://localhost:8080/"
        },
        "id": "XxWMdzEzI_y9",
        "outputId": "ba80ebf8-7322-4d19-d032-9f5bb9412228"
      },
      "source": [
        "calc_readability_metrics(' '.join(list(data_test.ru_ru_filtered.values)))"
      ],
      "execution_count": 69,
      "outputs": [
        {
          "output_type": "execute_result",
          "data": {
            "text/plain": [
              "{'avg_slen': 10.573348918760958,\n",
              " 'avg_syl': 3.032502349234426,\n",
              " 'c_share': 16.726549112818528,\n",
              " 'chars': 310421,\n",
              " 'index_SMOG_rus': 11.807592421245358,\n",
              " 'index_ari_rus': 16.532692980412904,\n",
              " 'index_cl_rus': 15.551128738046543,\n",
              " 'index_dc_rus': 12.11957936509757,\n",
              " 'index_fk_rus': 15.92385831529483,\n",
              " 'letters': 257822,\n",
              " 'n_complex_words': 6052,\n",
              " 'n_sentences': 3422,\n",
              " 'n_simple_words': 30130,\n",
              " 'n_syllabes': 109722,\n",
              " 'n_words': 36182,\n",
              " 'spaces': 38974,\n",
              " 'wsyllabes': {'1': 5850,\n",
              "  '10': 18,\n",
              "  '11': 6,\n",
              "  '12': 1,\n",
              "  '2': 8631,\n",
              "  '3': 9238,\n",
              "  '4': 6411,\n",
              "  '5': 3882,\n",
              "  '6': 1585,\n",
              "  '7': 428,\n",
              "  '8': 110,\n",
              "  '9': 22}}"
            ]
          },
          "metadata": {
            "tags": []
          },
          "execution_count": 69
        }
      ]
    },
    {
      "cell_type": "markdown",
      "metadata": {
        "id": "m4_X7x7BJd99"
      },
      "source": [
        "COSINE SIMILARITY"
      ]
    },
    {
      "cell_type": "code",
      "metadata": {
        "colab": {
          "base_uri": "https://localhost:8080/"
        },
        "id": "Zjs-ktIBJFC2",
        "outputId": "8a17c9e5-9ad2-412a-c74e-7d1e7adc6dc5"
      },
      "source": [
        "calc_cos_sim(data_test, model, tok, 'INPUT:source', 'ru_ru_filtered', 'cos_sim_ru_ru_filtered')\n",
        "data_test.cos_sim_ru_ru_filtered.mean()"
      ],
      "execution_count": 70,
      "outputs": [
        {
          "output_type": "execute_result",
          "data": {
            "text/plain": [
              "0.9557879034449476"
            ]
          },
          "metadata": {
            "tags": []
          },
          "execution_count": 70
        }
      ]
    },
    {
      "cell_type": "markdown",
      "metadata": {
        "id": "wBo9gVRN7wH-"
      },
      "source": [
        "### Grammar"
      ]
    },
    {
      "cell_type": "code",
      "metadata": {
        "colab": {
          "base_uri": "https://localhost:8080/"
        },
        "id": "Fzol-U3Q7wVC",
        "outputId": "62c0ad4e-1237-4dfd-b1ef-839885e9e875"
      },
      "source": [
        "errors = get_mistakes_summary(data_test, 'ru_ru_filtered')\n",
        "errors"
      ],
      "execution_count": 72,
      "outputs": [
        {
          "output_type": "execute_result",
          "data": {
            "text/plain": [
              "{'CASING': 32,\n",
              " 'GRAMMAR': 31,\n",
              " 'LOGIC': 27,\n",
              " 'PUNCTUATION': 22,\n",
              " 'STYLE': 2,\n",
              " 'TYPOGRAPHY': 197,\n",
              " 'TYPOS': 571}"
            ]
          },
          "metadata": {
            "tags": []
          },
          "execution_count": 72
        }
      ]
    },
    {
      "cell_type": "markdown",
      "metadata": {
        "id": "SQfGnycP7qSc"
      },
      "source": [
        "# Evaluation of Russian model trained on filtered data and pretrained on english data"
      ]
    },
    {
      "cell_type": "markdown",
      "metadata": {
        "id": "KSVt7W5wJvs9"
      },
      "source": [
        "### SARI"
      ]
    },
    {
      "cell_type": "code",
      "metadata": {
        "id": "yGi3UxT8dUz7"
      },
      "source": [
        "with open('/content/drive/MyDrive/MT_sentence_simpl/predictions/model_prediction_en_ru_ru_filtered.hyp', 'r') as f:\n",
        "  sentences = [i.strip() for i in f.readlines()]\n",
        "\n",
        "lt = list()\n",
        "st = set()\n",
        "for i in sentences:\n",
        "  if i not in st:\n",
        "    lt.append(i)\n",
        "    st.add(i)\n",
        "\n",
        "with open('/content/model_prediction_en_ru_ru_filtered.hyp', 'w') as f:\n",
        "  for i in lt:\n",
        "    f.write(i+'\\n')"
      ],
      "execution_count": 29,
      "outputs": []
    },
    {
      "cell_type": "code",
      "metadata": {
        "colab": {
          "base_uri": "https://localhost:8080/"
        },
        "id": "I2_eTgS8dZot",
        "outputId": "9515851b-5aa5-45b7-dd47-96a320a04262"
      },
      "source": [
        "! easse evaluate \\\n",
        "--test_set custom \\\n",
        "--metrics sari \\\n",
        "--refs_sents_paths /content/prepared_data/test_ref_data.ref.0,/content/prepared_data/test_ref_data.ref.1,/content/prepared_data/test_ref_data.ref.2,/content/prepared_data/test_ref_data.ref.3,/content/prepared_data/test_ref_data.ref.4 \\\n",
        "--orig_sents_path /content/prepared_data/test_ref_data.src \\\n",
        "--sys_sents_path /content/model_prediction_en_ru_ru_filtered.hyp -q"
      ],
      "execution_count": 30,
      "outputs": [
        {
          "output_type": "stream",
          "text": [
            "{'sari': 32.234, 'quality_estimation': {'Compression ratio': 0.658, 'Sentence splits': 0.988, 'Levenshtein similarity': 0.775, 'Exact copies': 0.018, 'Additions proportion': 0.017, 'Deletions proportion': 0.367, 'Lexical complexity score': 10.727}}\n"
          ],
          "name": "stdout"
        }
      ]
    },
    {
      "cell_type": "markdown",
      "metadata": {
        "id": "l560Tmw0J45J"
      },
      "source": [
        "### BLEU"
      ]
    },
    {
      "cell_type": "code",
      "metadata": {
        "colab": {
          "base_uri": "https://localhost:8080/"
        },
        "id": "qkiou3_wJ8Rx",
        "outputId": "38abfff6-b61d-4b2e-9c49-244226ac3ef2"
      },
      "source": [
        "# make lists of src, dst\n",
        "# src_column, trg_column = \"en_ru_ru_filtered\", \"OUTPUT:output\"\n",
        "# data_dict = OrderedDict()\n",
        "# for ind, row in data_test.iterrows():\n",
        "#         source_sentence = row[src_column]\n",
        "#         reference_sentence = row[trg_column]\n",
        "#         if data_dict.get(source_sentence) is None:\n",
        "#             data_dict[source_sentence] = []\n",
        "#         data_dict[source_sentence].append(reference_sentence)\n",
        "# max_num_reference_sentences = max([len(x) for x in data_dict.values()])\n",
        "# src, dst = [i for i in data_dict.keys()], [i for i in data_dict.values()]\n",
        "# corpus_averaged_sentence_bleu(src, dst)"
      ],
      "execution_count": 72,
      "outputs": [
        {
          "output_type": "execute_result",
          "data": {
            "text/plain": [
              "53.16967153331756"
            ]
          },
          "metadata": {
            "tags": []
          },
          "execution_count": 72
        }
      ]
    },
    {
      "cell_type": "code",
      "metadata": {
        "colab": {
          "base_uri": "https://localhost:8080/"
        },
        "id": "2IgqvZUQOXUk",
        "outputId": "6ba7cd4d-6501-4d27-dc33-616549cd6c0b"
      },
      "source": [
        "# make lists of src, dst\n",
        "src_column, trg_column = \"en_ru_ru_filtered\", \"OUTPUT:output\"\n",
        "data_dict = OrderedDict()\n",
        "for ind, row in data_test.iterrows():\n",
        "        source_sentence = row[src_column]\n",
        "        reference_sentence = row[trg_column]\n",
        "        if data_dict.get(source_sentence) is None:\n",
        "            data_dict[source_sentence] = []\n",
        "        data_dict[source_sentence].append(reference_sentence)\n",
        "max_num_reference_sentences = max([len(x) for x in data_dict.values()])\n",
        "\n",
        "src, dst = [i for i in data_dict.keys()], [i for i in data_dict.values()]\n",
        "for i, j in enumerate(src):\n",
        "   if len(dst[i]) < max_num_reference_sentences:\n",
        "    dst[i] = dst[i] + [dst[i][0]]*(max_num_reference_sentences - len(dst[i]))\n",
        "\n",
        "refs = []\n",
        "for j in range(len(dst[1])):\n",
        "  ref = []\n",
        "  for i in dst:\n",
        "    ref.append(i[j])\n",
        "  refs.append(ref)\n",
        "  \n",
        "corpus_bleu(src, refs)"
      ],
      "execution_count": 83,
      "outputs": [
        {
          "output_type": "execute_result",
          "data": {
            "text/plain": [
              "36.79295860256343"
            ]
          },
          "metadata": {
            "tags": []
          },
          "execution_count": 83
        }
      ]
    },
    {
      "cell_type": "markdown",
      "metadata": {
        "id": "Ffsz9WUQKA5s"
      },
      "source": [
        "### FKLG"
      ]
    },
    {
      "cell_type": "code",
      "metadata": {
        "colab": {
          "base_uri": "https://localhost:8080/"
        },
        "id": "D6wqh8zXKFFx",
        "outputId": "45a71d2d-d807-47d7-a200-408695ee1bd9"
      },
      "source": [
        "calc_readability_metrics(' '.join(list(data_test.en_ru_ru_filtered.values)))"
      ],
      "execution_count": 73,
      "outputs": [
        {
          "output_type": "execute_result",
          "data": {
            "text/plain": [
              "{'avg_slen': 10.63018096906013,\n",
              " 'avg_syl': 3.0381394327136935,\n",
              " 'c_share': 16.853840028556522,\n",
              " 'chars': 312398,\n",
              " 'index_SMOG_rus': 11.883922121789904,\n",
              " 'index_ari_rus': 16.546607739909724,\n",
              " 'index_cl_rus': 15.56704549822895,\n",
              " 'index_dc_rus': 12.205359100316617,\n",
              " 'index_fk_rus': 16.021977492695562,\n",
              " 'letters': 259499,\n",
              " 'n_complex_words': 6138,\n",
              " 'n_sentences': 3426,\n",
              " 'n_simple_words': 30281,\n",
              " 'n_syllabes': 110646,\n",
              " 'n_words': 36419,\n",
              " 'spaces': 39266,\n",
              " 'wsyllabes': {'1': 5932,\n",
              "  '10': 25,\n",
              "  '11': 6,\n",
              "  '12': 1,\n",
              "  '2': 8604,\n",
              "  '3': 9235,\n",
              "  '4': 6510,\n",
              "  '5': 3952,\n",
              "  '6': 1564,\n",
              "  '7': 450,\n",
              "  '8': 121,\n",
              "  '9': 19}}"
            ]
          },
          "metadata": {
            "tags": []
          },
          "execution_count": 73
        }
      ]
    },
    {
      "cell_type": "markdown",
      "metadata": {
        "id": "qQ37yfUWKPDu"
      },
      "source": [
        ""
      ]
    },
    {
      "cell_type": "code",
      "metadata": {
        "colab": {
          "base_uri": "https://localhost:8080/"
        },
        "id": "5aJEICiXKPYX",
        "outputId": "89f1d08a-552e-4ef8-a435-449f3e009c3e"
      },
      "source": [
        "calc_cos_sim(data_test, model, tok, 'INPUT:source', 'en_ru_ru_filtered', 'cos_sim_en_ru_ru_filtered')\n",
        "data_test.cos_sim_en_ru_ru_filtered.mean()"
      ],
      "execution_count": 74,
      "outputs": [
        {
          "output_type": "execute_result",
          "data": {
            "text/plain": [
              "0.9578453072041045"
            ]
          },
          "metadata": {
            "tags": []
          },
          "execution_count": 74
        }
      ]
    },
    {
      "cell_type": "markdown",
      "metadata": {
        "id": "_GlFJxnq77UQ"
      },
      "source": [
        "### Grammar"
      ]
    },
    {
      "cell_type": "code",
      "metadata": {
        "colab": {
          "base_uri": "https://localhost:8080/"
        },
        "id": "IXgC3B1674uA",
        "outputId": "cf24f5ba-0ee5-413a-cee3-c992d60cbcd4"
      },
      "source": [
        "errors = get_mistakes_summary(data_test, 'en_ru_ru_filtered')\n",
        "errors"
      ],
      "execution_count": 69,
      "outputs": [
        {
          "output_type": "execute_result",
          "data": {
            "text/plain": [
              "{'CASING': 35,\n",
              " 'GRAMMAR': 33,\n",
              " 'LOGIC': 27,\n",
              " 'PUNCTUATION': 11,\n",
              " 'STYLE': 1,\n",
              " 'TYPOGRAPHY': 218,\n",
              " 'TYPOS': 578}"
            ]
          },
          "metadata": {
            "tags": []
          },
          "execution_count": 69
        }
      ]
    },
    {
      "cell_type": "markdown",
      "metadata": {
        "id": "1mZ6VVDA7yGD"
      },
      "source": [
        "# Evaluation of Russian model trained on filtered data and pretrained on paraphraser"
      ]
    },
    {
      "cell_type": "markdown",
      "metadata": {
        "id": "F6_0nllzKYx3"
      },
      "source": [
        "### SARI"
      ]
    },
    {
      "cell_type": "code",
      "metadata": {
        "id": "CeATsusHdzVb"
      },
      "source": [
        "with open('/content/drive/MyDrive/MT_sentence_simpl/predictions/model_prediction_paraphraser_ru2_12epochs.hyp', 'r') as f:\n",
        "  sentences = [i.strip() for i in f.readlines()]\n",
        "\n",
        "lt = list()\n",
        "st = set()\n",
        "for i in sentences:\n",
        "  if i not in st:\n",
        "    lt.append(i)\n",
        "    st.add(i)\n",
        "\n",
        "with open('/content/model_prediction_paraphraser_ru2_12epochs.hyp', 'w') as f:\n",
        "  for i in lt:\n",
        "    f.write(i+'\\n')"
      ],
      "execution_count": 31,
      "outputs": []
    },
    {
      "cell_type": "code",
      "metadata": {
        "colab": {
          "base_uri": "https://localhost:8080/"
        },
        "id": "eurZwyoed5cg",
        "outputId": "9b5057a0-66b5-47ac-8ef2-4c022bcf3e80"
      },
      "source": [
        "! easse evaluate \\\n",
        "--test_set custom \\\n",
        "--metrics sari \\\n",
        "--refs_sents_paths /content/prepared_data/test_ref_data.ref.0,/content/prepared_data/test_ref_data.ref.1,/content/prepared_data/test_ref_data.ref.2,/content/prepared_data/test_ref_data.ref.3,/content/prepared_data/test_ref_data.ref.4 \\\n",
        "--orig_sents_path /content/prepared_data/test_ref_data.src \\\n",
        "--sys_sents_path /content/model_prediction_paraphraser_ru2_12epochs.hyp -q"
      ],
      "execution_count": 33,
      "outputs": [
        {
          "output_type": "stream",
          "text": [
            "{'sari': 31.812, 'quality_estimation': {'Compression ratio': 0.694, 'Sentence splits': 0.987, 'Levenshtein similarity': 0.798, 'Exact copies': 0.051, 'Additions proportion': 0.014, 'Deletions proportion': 0.332, 'Lexical complexity score': 10.707}}\n"
          ],
          "name": "stdout"
        }
      ]
    },
    {
      "cell_type": "markdown",
      "metadata": {
        "id": "H1QI8WECKh0t"
      },
      "source": [
        "### BLEU"
      ]
    },
    {
      "cell_type": "code",
      "metadata": {
        "colab": {
          "base_uri": "https://localhost:8080/"
        },
        "id": "H5IdeuUPKjQO",
        "outputId": "b4b7f61b-55e3-4e19-92fa-5c3e17dfeb38"
      },
      "source": [
        "# make lists of src, dst\n",
        "# src_column, trg_column = \"paraphraser_ru\", \"OUTPUT:output\"\n",
        "# data_dict = OrderedDict()\n",
        "# for ind, row in data_test.iterrows():\n",
        "#         source_sentence = row[src_column]\n",
        "#         reference_sentence = row[trg_column]\n",
        "#         if data_dict.get(source_sentence) is None:\n",
        "#             data_dict[source_sentence] = []\n",
        "#         data_dict[source_sentence].append(reference_sentence)\n",
        "# max_num_reference_sentences = max([len(x) for x in data_dict.values()])\n",
        "# src, dst = [i for i in data_dict.keys()], [i for i in data_dict.values()]\n",
        "# corpus_averaged_sentence_bleu(src, dst)"
      ],
      "execution_count": 77,
      "outputs": [
        {
          "output_type": "execute_result",
          "data": {
            "text/plain": [
              "53.16967153331756"
            ]
          },
          "metadata": {
            "tags": []
          },
          "execution_count": 77
        }
      ]
    },
    {
      "cell_type": "code",
      "metadata": {
        "colab": {
          "base_uri": "https://localhost:8080/"
        },
        "id": "ytrrJQBDOb3K",
        "outputId": "39462818-a89f-4ad6-af79-dad8153234ea"
      },
      "source": [
        "# make lists of src, dst\n",
        "src_column, trg_column = \"paraphraser_ru\", \"OUTPUT:output\"\n",
        "data_dict = OrderedDict()\n",
        "for ind, row in data_test.iterrows():\n",
        "        source_sentence = row[src_column]\n",
        "        reference_sentence = row[trg_column]\n",
        "        if data_dict.get(source_sentence) is None:\n",
        "            data_dict[source_sentence] = []\n",
        "        data_dict[source_sentence].append(reference_sentence)\n",
        "max_num_reference_sentences = max([len(x) for x in data_dict.values()])\n",
        "\n",
        "src, dst = [i for i in data_dict.keys()], [i for i in data_dict.values()]\n",
        "for i, j in enumerate(src):\n",
        "   if len(dst[i]) < max_num_reference_sentences:\n",
        "    dst[i] = dst[i] + [dst[i][0]]*(max_num_reference_sentences - len(dst[i]))\n",
        "\n",
        "refs = []\n",
        "for j in range(len(dst[1])):\n",
        "  ref = []\n",
        "  for i in dst:\n",
        "    ref.append(i[j])\n",
        "  refs.append(ref)\n",
        "  \n",
        "corpus_bleu(src, refs)"
      ],
      "execution_count": 84,
      "outputs": [
        {
          "output_type": "execute_result",
          "data": {
            "text/plain": [
              "37.98414836939204"
            ]
          },
          "metadata": {
            "tags": []
          },
          "execution_count": 84
        }
      ]
    },
    {
      "cell_type": "markdown",
      "metadata": {
        "id": "ahwL08h7Kp3J"
      },
      "source": [
        "### FKLG"
      ]
    },
    {
      "cell_type": "code",
      "metadata": {
        "colab": {
          "base_uri": "https://localhost:8080/"
        },
        "id": "kVcYFJFSKqrf",
        "outputId": "de7dc46e-e0d8-4969-ea90-ec5e55ab5753"
      },
      "source": [
        "calc_readability_metrics(' '.join(list(data_test.paraphraser_ru.values)))"
      ],
      "execution_count": 76,
      "outputs": [
        {
          "output_type": "execute_result",
          "data": {
            "text/plain": [
              "{'avg_slen': 11.104956268221574,\n",
              " 'avg_syl': 3.0341822000525074,\n",
              " 'c_share': 16.789183512733,\n",
              " 'chars': 325728,\n",
              " 'index_SMOG_rus': 12.122081494236964,\n",
              " 'index_ari_rus': 16.62973834297624,\n",
              " 'index_cl_rus': 15.66384352848516,\n",
              " 'index_dc_rus': 12.299282360253105,\n",
              " 'index_fk_rus': 16.116763334040066,\n",
              " 'letters': 271101,\n",
              " 'n_complex_words': 6395,\n",
              " 'n_sentences': 3430,\n",
              " 'n_simple_words': 31695,\n",
              " 'n_syllabes': 115572,\n",
              " 'n_words': 38090,\n",
              " 'spaces': 41033,\n",
              " 'wsyllabes': {'1': 6297,\n",
              "  '10': 23,\n",
              "  '11': 6,\n",
              "  '12': 1,\n",
              "  '2': 8982,\n",
              "  '3': 9561,\n",
              "  '4': 6855,\n",
              "  '5': 4047,\n",
              "  '6': 1717,\n",
              "  '7': 464,\n",
              "  '8': 118,\n",
              "  '9': 19}}"
            ]
          },
          "metadata": {
            "tags": []
          },
          "execution_count": 76
        }
      ]
    },
    {
      "cell_type": "code",
      "metadata": {
        "colab": {
          "base_uri": "https://localhost:8080/"
        },
        "id": "AgvGxMoHKtUw",
        "outputId": "d09e002d-8646-4979-bce8-df93a943a4cd"
      },
      "source": [
        "calc_cos_sim(data_test, model, tok, 'INPUT:source', 'paraphraser_ru', 'cos_sim_paraphraser_ru')\n",
        "data_test.cos_sim_paraphraser_ru.mean()"
      ],
      "execution_count": 79,
      "outputs": [
        {
          "output_type": "execute_result",
          "data": {
            "text/plain": [
              "0.9564811277410527"
            ]
          },
          "metadata": {
            "tags": []
          },
          "execution_count": 79
        }
      ]
    },
    {
      "cell_type": "markdown",
      "metadata": {
        "id": "gbPvq8GM71Ti"
      },
      "source": [
        "### Grammar"
      ]
    },
    {
      "cell_type": "code",
      "metadata": {
        "colab": {
          "base_uri": "https://localhost:8080/"
        },
        "id": "PGZIQQ-471gb",
        "outputId": "51efb6d2-c808-44b6-cfbf-8c6cd8276442"
      },
      "source": [
        "errors = get_mistakes_summary(data_test, 'paraphraser_ru')\n",
        "errors"
      ],
      "execution_count": 73,
      "outputs": [
        {
          "output_type": "execute_result",
          "data": {
            "text/plain": [
              "{'CASING': 22,\n",
              " 'GRAMMAR': 39,\n",
              " 'LOGIC': 27,\n",
              " 'PUNCTUATION': 29,\n",
              " 'TYPOGRAPHY': 183,\n",
              " 'TYPOS': 605}"
            ]
          },
          "metadata": {
            "tags": []
          },
          "execution_count": 73
        }
      ]
    },
    {
      "cell_type": "markdown",
      "metadata": {
        "id": "8n3fa0m6778J"
      },
      "source": [
        "# Evaluation of Russian model trained on Paraphraser"
      ]
    },
    {
      "cell_type": "markdown",
      "metadata": {
        "id": "HaFAYMYHLLN6"
      },
      "source": [
        "### SARI"
      ]
    },
    {
      "cell_type": "code",
      "metadata": {
        "id": "0iwHBOCJe9Zl"
      },
      "source": [
        "with open('/content/drive/MyDrive/MT_sentence_simpl/predictions/model_prediction_paraphraser.hyp', 'r') as f:\n",
        "  sentences = [i.strip()+'.' for i in f.readlines()]\n",
        "\n",
        "lt = list()\n",
        "st = set()\n",
        "for i in sentences:\n",
        "  if i not in st:\n",
        "    lt.append(i)\n",
        "    st.add(i)\n",
        "\n",
        "with open('/content/model_prediction_paraphraser.hyp', 'w') as f:\n",
        "  for i in lt:\n",
        "    f.write(i+'\\n')"
      ],
      "execution_count": 34,
      "outputs": []
    },
    {
      "cell_type": "code",
      "metadata": {
        "colab": {
          "base_uri": "https://localhost:8080/"
        },
        "id": "pKE_HHlsfAZL",
        "outputId": "4ba929de-d60c-4f98-fe46-95ffd6786e63"
      },
      "source": [
        "! easse evaluate \\\n",
        "--test_set custom \\\n",
        "--metrics sari \\\n",
        "--refs_sents_paths /content/prepared_data/test_ref_data.ref.0,/content/prepared_data/test_ref_data.ref.1,/content/prepared_data/test_ref_data.ref.2,/content/prepared_data/test_ref_data.ref.3,/content/prepared_data/test_ref_data.ref.4 \\\n",
        "--orig_sents_path /content/prepared_data/test_ref_data.src \\\n",
        "--sys_sents_path /content/model_prediction_paraphraser.hyp -q"
      ],
      "execution_count": 35,
      "outputs": [
        {
          "output_type": "stream",
          "text": [
            "{'sari': 35.149, 'quality_estimation': {'Compression ratio': 0.624, 'Sentence splits': 0.985, 'Levenshtein similarity': 0.711, 'Exact copies': 0.026, 'Additions proportion': 0.053, 'Deletions proportion': 0.441, 'Lexical complexity score': 10.732}}\n"
          ],
          "name": "stdout"
        }
      ]
    },
    {
      "cell_type": "markdown",
      "metadata": {
        "id": "sVA0bzv7MJPQ"
      },
      "source": [
        "### BLEU"
      ]
    },
    {
      "cell_type": "code",
      "metadata": {
        "id": "FT4jGH0qL_Vm"
      },
      "source": [
        "# make lists of src, dst\n",
        "# src_column, trg_column = \"paraphraser\", \"OUTPUT:output\"\n",
        "# data_dict = OrderedDict()\n",
        "# for ind, row in data_test.iterrows():\n",
        "#         source_sentence = row[src_column]\n",
        "#         reference_sentence = row[trg_column]\n",
        "#         if data_dict.get(source_sentence) is None:\n",
        "#             data_dict[source_sentence] = []\n",
        "#         data_dict[source_sentence].append(reference_sentence)\n",
        "# max_num_reference_sentences = max([len(x) for x in data_dict.values()])\n",
        "# src, dst = [i for i in data_dict.keys()], [i for i in data_dict.values()]\n",
        "# corpus_averaged_sentence_bleu(src, dst)"
      ],
      "execution_count": null,
      "outputs": []
    },
    {
      "cell_type": "code",
      "metadata": {
        "colab": {
          "base_uri": "https://localhost:8080/"
        },
        "id": "4VOetPfZOpzd",
        "outputId": "a883368a-18dc-4c59-c5bc-a3b9d22fac51"
      },
      "source": [
        "# make lists of src, dst\n",
        "src_column, trg_column = \"paraphraser\", \"OUTPUT:output\"\n",
        "data_dict = OrderedDict()\n",
        "for ind, row in data_test.iterrows():\n",
        "        source_sentence = row[src_column]\n",
        "        reference_sentence = row[trg_column]\n",
        "        if data_dict.get(source_sentence) is None:\n",
        "            data_dict[source_sentence] = []\n",
        "        data_dict[source_sentence].append(reference_sentence)\n",
        "max_num_reference_sentences = max([len(x) for x in data_dict.values()])\n",
        "\n",
        "src, dst = [i for i in data_dict.keys()], [i for i in data_dict.values()]\n",
        "for i, j in enumerate(src):\n",
        "   if len(dst[i]) < max_num_reference_sentences:\n",
        "    dst[i] = dst[i] + [dst[i][0]]*(max_num_reference_sentences - len(dst[i]))\n",
        "\n",
        "refs = []\n",
        "for j in range(len(dst[1])):\n",
        "  ref = []\n",
        "  for i in dst:\n",
        "    ref.append(i[j])\n",
        "  refs.append(ref)\n",
        "  \n",
        "corpus_bleu(src, refs)"
      ],
      "execution_count": 85,
      "outputs": [
        {
          "output_type": "execute_result",
          "data": {
            "text/plain": [
              "30.314500674726755"
            ]
          },
          "metadata": {
            "tags": []
          },
          "execution_count": 85
        }
      ]
    },
    {
      "cell_type": "markdown",
      "metadata": {
        "id": "eI0WgJHAMsWY"
      },
      "source": [
        "### FKLG"
      ]
    },
    {
      "cell_type": "code",
      "metadata": {
        "colab": {
          "base_uri": "https://localhost:8080/"
        },
        "id": "xRvK4CNkMeEu",
        "outputId": "0f639191-eb93-479e-c4e2-82a02120ae2a"
      },
      "source": [
        "calc_readability_metrics(' '.join(list(data_test.paraphraser.values)))"
      ],
      "execution_count": 89,
      "outputs": [
        {
          "output_type": "execute_result",
          "data": {
            "text/plain": [
              "{'avg_slen': 9.505404615834063,\n",
              " 'avg_syl': 3.06082306297446,\n",
              " 'c_share': 16.977594738297938,\n",
              " 'chars': 281270,\n",
              " 'index_SMOG_rus': 11.28135952373477,\n",
              " 'index_ari_rus': 16.624886027319754,\n",
              " 'index_cl_rus': 15.523413037465048,\n",
              " 'index_dc_rus': 11.966607755663162,\n",
              " 'index_fk_rus': 15.986406162072562,\n",
              " 'letters': 233885,\n",
              " 'n_complex_words': 5524,\n",
              " 'n_sentences': 3423,\n",
              " 'n_simple_words': 27013,\n",
              " 'n_syllabes': 99590,\n",
              " 'n_words': 32537,\n",
              " 'spaces': 35374,\n",
              " 'wsyllabes': {'1': 5184,\n",
              "  '10': 18,\n",
              "  '11': 1,\n",
              "  '12': 5,\n",
              "  '2': 7437,\n",
              "  '3': 8443,\n",
              "  '4': 5949,\n",
              "  '5': 3489,\n",
              "  '6': 1503,\n",
              "  '7': 387,\n",
              "  '8': 105,\n",
              "  '9': 16}}"
            ]
          },
          "metadata": {
            "tags": []
          },
          "execution_count": 89
        }
      ]
    },
    {
      "cell_type": "markdown",
      "metadata": {
        "id": "1VEqoZMfM-20"
      },
      "source": [
        "COSINE SIMILARITY"
      ]
    },
    {
      "cell_type": "code",
      "metadata": {
        "colab": {
          "base_uri": "https://localhost:8080/"
        },
        "id": "hTtofJmlM-_r",
        "outputId": "5617be8a-4dcd-4efc-e47a-19e4abf10777"
      },
      "source": [
        "calc_cos_sim(data_test, model, tok, 'INPUT:source', 'paraphraser', 'cos_sim_paraphraser')\n",
        "data_test.cos_sim_paraphraser.mean()"
      ],
      "execution_count": 90,
      "outputs": [
        {
          "output_type": "execute_result",
          "data": {
            "text/plain": [
              "0.9374921821709667"
            ]
          },
          "metadata": {
            "tags": []
          },
          "execution_count": 90
        }
      ]
    },
    {
      "cell_type": "markdown",
      "metadata": {
        "id": "Yj0fWxY_95DP"
      },
      "source": [
        "### Grammar"
      ]
    },
    {
      "cell_type": "code",
      "metadata": {
        "colab": {
          "base_uri": "https://localhost:8080/"
        },
        "id": "c3AFthxK95Mv",
        "outputId": "9e1c600e-0f54-413f-ba08-f5aad23465d5"
      },
      "source": [
        "errors = get_mistakes_summary(data_test, 'paraphraser')\n",
        "errors"
      ],
      "execution_count": 74,
      "outputs": [
        {
          "output_type": "execute_result",
          "data": {
            "text/plain": [
              "{'CASING': 29,\n",
              " 'GRAMMAR': 29,\n",
              " 'LOGIC': 27,\n",
              " 'MISC': 9,\n",
              " 'PUNCTUATION': 30,\n",
              " 'STYLE': 1,\n",
              " 'TYPOGRAPHY': 158,\n",
              " 'TYPOS': 692}"
            ]
          },
          "metadata": {
            "tags": []
          },
          "execution_count": 74
        }
      ]
    },
    {
      "cell_type": "markdown",
      "metadata": {
        "id": "7aaGUn15wNp9"
      },
      "source": [
        "# BONUS EN-RU MODEL"
      ]
    },
    {
      "cell_type": "markdown",
      "metadata": {
        "id": "0FbfNDcbwYlN"
      },
      "source": [
        "### SARI"
      ]
    },
    {
      "cell_type": "code",
      "metadata": {
        "id": "OBBzaVuDOafD"
      },
      "source": [
        "with open('/content/drive/MyDrive/MT_sentence_simpl/predictions/model_prediction_en_ru.hyp', 'r') as f:\n",
        "  sentences = [i.strip() for i in f.readlines()]\n",
        "\n",
        "lt = list()\n",
        "st = set()\n",
        "for i in sentences:\n",
        "  if i not in st:\n",
        "    lt.append(i)\n",
        "    st.add(i)\n",
        "\n",
        "with open('/content/model_prediction_en_ru.hyp', 'w') as f:\n",
        "  for i in lt:\n",
        "    f.write(i+'\\n')"
      ],
      "execution_count": 43,
      "outputs": []
    },
    {
      "cell_type": "code",
      "metadata": {
        "colab": {
          "base_uri": "https://localhost:8080/"
        },
        "id": "O26kwFbmwX4B",
        "outputId": "0b04a132-1be0-49ea-c9e6-337839397b33"
      },
      "source": [
        "! easse evaluate \\\n",
        "--test_set custom \\\n",
        "--metrics sari \\\n",
        "--refs_sents_paths /content/prepared_data/test_ref_data.ref.0,/content/prepared_data/test_ref_data.ref.1,/content/prepared_data/test_ref_data.ref.2,/content/prepared_data/test_ref_data.ref.3,/content/prepared_data/test_ref_data.ref.4 \\\n",
        "--orig_sents_path /content/prepared_data/test_ref_data.src \\\n",
        "--sys_sents_path /content/model_prediction_en_ru.hyp -q"
      ],
      "execution_count": 44,
      "outputs": [
        {
          "output_type": "stream",
          "text": [
            "{'sari': 37.865, 'quality_estimation': {'Compression ratio': 0.875, 'Sentence splits': 1.002, 'Levenshtein similarity': 0.665, 'Exact copies': 0.0, 'Additions proportion': 0.4, 'Deletions proportion': 0.497, 'Lexical complexity score': 10.398}}\n"
          ],
          "name": "stdout"
        }
      ]
    },
    {
      "cell_type": "markdown",
      "metadata": {
        "id": "NgPJsDhCxyHu"
      },
      "source": [
        "### BLEU"
      ]
    },
    {
      "cell_type": "code",
      "metadata": {
        "colab": {
          "base_uri": "https://localhost:8080/"
        },
        "id": "3r4Li0wwyLdN",
        "outputId": "904870d8-9722-4b92-abca-fa51318141c8"
      },
      "source": [
        "# make lists of src, dst\n",
        "src_column, trg_column = \"en_ru\", \"OUTPUT:output\"\n",
        "data_dict = OrderedDict()\n",
        "for ind, row in data_test.iterrows():\n",
        "        source_sentence = row[src_column]\n",
        "        reference_sentence = row[trg_column]\n",
        "        if data_dict.get(source_sentence) is None:\n",
        "            data_dict[source_sentence] = []\n",
        "        data_dict[source_sentence].append(reference_sentence)\n",
        "max_num_reference_sentences = max([len(x) for x in data_dict.values()])\n",
        "\n",
        "src, dst = [i for i in data_dict.keys()], [i for i in data_dict.values()]\n",
        "for i, j in enumerate(src):\n",
        "   if len(dst[i]) < max_num_reference_sentences:\n",
        "    dst[i] = dst[i] + [dst[i][0]]*(max_num_reference_sentences - len(dst[i]))\n",
        "\n",
        "refs = []\n",
        "for j in range(len(dst[1])):\n",
        "  ref = []\n",
        "  for i in dst:\n",
        "    ref.append(i[j])\n",
        "  refs.append(ref)\n",
        "  \n",
        "corpus_bleu(src, refs) ###???"
      ],
      "execution_count": 59,
      "outputs": [
        {
          "output_type": "execute_result",
          "data": {
            "text/plain": [
              "13.214882473186714"
            ]
          },
          "metadata": {
            "tags": []
          },
          "execution_count": 59
        }
      ]
    },
    {
      "cell_type": "markdown",
      "metadata": {
        "id": "T3KvQCWbzg9j"
      },
      "source": [
        "FKLG"
      ]
    },
    {
      "cell_type": "code",
      "metadata": {
        "id": "ItP0krY4y9Gy"
      },
      "source": [
        "data_test.head()"
      ],
      "execution_count": null,
      "outputs": []
    },
    {
      "cell_type": "code",
      "metadata": {
        "colab": {
          "base_uri": "https://localhost:8080/"
        },
        "id": "j3uTk_AQzvQs",
        "outputId": "266b94fa-a3fe-44c3-fcc0-51b159eae6ce"
      },
      "source": [
        "calc_readability_metrics(' '.join(list(data_test['INPUT:source'].values)))"
      ],
      "execution_count": 53,
      "outputs": [
        {
          "output_type": "execute_result",
          "data": {
            "text/plain": [
              "{'avg_slen': 15.85661345496009,\n",
              " 'avg_syl': 3.0165752808988766,\n",
              " 'c_share': 16.981573033707864,\n",
              " 'chars': 473430,\n",
              " 'index_SMOG_rus': 14.557852197020122,\n",
              " 'index_ari_rus': 17.71203679321743,\n",
              " 'index_cl_rus': 16.38818426966293,\n",
              " 'index_dc_rus': 13.702683787810848,\n",
              " 'index_fk_rus': 17.377772067441356,\n",
              " 'letters': 393678,\n",
              " 'n_complex_words': 9446,\n",
              " 'n_sentences': 3508,\n",
              " 'n_simple_words': 46179,\n",
              " 'n_syllabes': 167797,\n",
              " 'n_words': 55625,\n",
              " 'spaces': 60292,\n",
              " 'wsyllabes': {'1': 9867,\n",
              "  '10': 35,\n",
              "  '11': 6,\n",
              "  '12': 4,\n",
              "  '2': 12788,\n",
              "  '3': 13723,\n",
              "  '4': 9801,\n",
              "  '5': 6023,\n",
              "  '6': 2491,\n",
              "  '7': 677,\n",
              "  '8': 173,\n",
              "  '9': 37}}"
            ]
          },
          "metadata": {
            "tags": []
          },
          "execution_count": 53
        }
      ]
    },
    {
      "cell_type": "code",
      "metadata": {
        "colab": {
          "base_uri": "https://localhost:8080/"
        },
        "id": "WD52CDuIz0HM",
        "outputId": "8eb9c691-d177-46d4-de6f-1acb257ad345"
      },
      "source": [
        "calc_readability_metrics(' '.join(list(data_test['OUTPUT:output'].values)))"
      ],
      "execution_count": 54,
      "outputs": [
        {
          "output_type": "execute_result",
          "data": {
            "text/plain": [
              "{'avg_slen': 12.795306388526727,\n",
              " 'avg_syl': 2.8380374974526186,\n",
              " 'c_share': 12.78275932341553,\n",
              " 'chars': 317164,\n",
              " 'index_SMOG_rus': 11.356979245625993,\n",
              " 'index_ari_rus': 13.911711320522606,\n",
              " 'index_cl_rus': 13.275588954554713,\n",
              " 'index_dc_rus': 10.54920179059317,\n",
              " 'index_fk_rus': 13.869039895378684,\n",
              " 'letters': 259382,\n",
              " 'n_complex_words': 5018,\n",
              " 'n_sentences': 3068,\n",
              " 'n_simple_words': 34238,\n",
              " 'n_syllabes': 111410,\n",
              " 'n_words': 39256,\n",
              " 'spaces': 43375,\n",
              " 'wsyllabes': {'1': 7690,\n",
              "  '10': 11,\n",
              "  '11': 1,\n",
              "  '12': 1,\n",
              "  '14': 1,\n",
              "  '15': 1,\n",
              "  '2': 10187,\n",
              "  '3': 9546,\n",
              "  '4': 6815,\n",
              "  '5': 3294,\n",
              "  '6': 1274,\n",
              "  '7': 336,\n",
              "  '8': 71,\n",
              "  '9': 28}}"
            ]
          },
          "metadata": {
            "tags": []
          },
          "execution_count": 54
        }
      ]
    },
    {
      "cell_type": "code",
      "metadata": {
        "colab": {
          "base_uri": "https://localhost:8080/"
        },
        "id": "uLGWCjsSzLpR",
        "outputId": "4e852cf0-e1ee-45d0-97ab-0b4746db578e"
      },
      "source": [
        "calc_readability_metrics(' '.join(list(data_test.en_ru.values)))"
      ],
      "execution_count": 52,
      "outputs": [
        {
          "output_type": "execute_result",
          "data": {
            "text/plain": [
              "{'avg_slen': 13.871391826236067,\n",
              " 'avg_syl': 2.8955208505027197,\n",
              " 'c_share': 14.082330641173561,\n",
              " 'chars': 411959,\n",
              " 'index_SMOG_rus': 12.406806113663269,\n",
              " 'index_ari_rus': 15.059364916077413,\n",
              " 'index_cl_rus': 14.23091354870612,\n",
              " 'index_dc_rus': 11.560336482490253,\n",
              " 'index_fk_rus': 15.027498677881688,\n",
              " 'letters': 327257,\n",
              " 'n_complex_words': 6835,\n",
              " 'n_sentences': 3499,\n",
              " 'n_simple_words': 41701,\n",
              " 'n_syllabes': 140537,\n",
              " 'n_words': 48536,\n",
              " 'spaces': 54374,\n",
              " 'wsyllabes': {'1': 8966,\n",
              "  '10': 4,\n",
              "  '2': 12415,\n",
              "  '3': 11739,\n",
              "  '4': 8581,\n",
              "  '5': 4441,\n",
              "  '6': 1876,\n",
              "  '7': 428,\n",
              "  '8': 71,\n",
              "  '9': 15}}"
            ]
          },
          "metadata": {
            "tags": []
          },
          "execution_count": 52
        }
      ]
    },
    {
      "cell_type": "markdown",
      "metadata": {
        "id": "yfzXkAlfz4zm"
      },
      "source": [
        "COSINE SIMILARITY"
      ]
    },
    {
      "cell_type": "code",
      "metadata": {
        "colab": {
          "base_uri": "https://localhost:8080/"
        },
        "id": "Rb_H5GgCzl4K",
        "outputId": "fb3df369-befa-439e-bf2f-95325301fa68"
      },
      "source": [
        "calc_cos_sim(data_test, model, tok, 'INPUT:source', 'en_ru', 'cos_sim_en_ru')\n",
        "data_test.cos_sim_en_ru.mean()"
      ],
      "execution_count": 56,
      "outputs": [
        {
          "output_type": "execute_result",
          "data": {
            "text/plain": [
              "0.9811948919324265"
            ]
          },
          "metadata": {
            "tags": []
          },
          "execution_count": 56
        }
      ]
    },
    {
      "cell_type": "markdown",
      "metadata": {
        "id": "b_9kKBSj-BuP"
      },
      "source": [
        "### Grammar"
      ]
    },
    {
      "cell_type": "code",
      "metadata": {
        "colab": {
          "base_uri": "https://localhost:8080/"
        },
        "id": "h0gLozY6-B3E",
        "outputId": "2e7a2fb5-2084-4528-a3ac-42de1ae55cff"
      },
      "source": [
        "errors = get_mistakes_summary(data_test, 'en_ru')\n",
        "errors"
      ],
      "execution_count": 75,
      "outputs": [
        {
          "output_type": "execute_result",
          "data": {
            "text/plain": [
              "{'CASING': 57,\n",
              " 'GRAMMAR': 163,\n",
              " 'LOGIC': 12,\n",
              " 'MISC': 131,\n",
              " 'PUNCTUATION': 48,\n",
              " 'STYLE': 27,\n",
              " 'TYPOGRAPHY': 230,\n",
              " 'TYPOS': 1073}"
            ]
          },
          "metadata": {
            "tags": []
          },
          "execution_count": 75
        }
      ]
    }
  ]
}