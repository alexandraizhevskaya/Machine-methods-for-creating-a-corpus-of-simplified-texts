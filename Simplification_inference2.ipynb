{
  "nbformat": 4,
  "nbformat_minor": 0,
  "metadata": {
    "colab": {
      "name": "Simplification_inference2.ipynb",
      "provenance": [],
      "collapsed_sections": [],
      "toc_visible": true,
      "machine_shape": "hm",
      "mount_file_id": "1kt2gIUsSi7kYymcHBpsR3X5IxDafzK06",
      "authorship_tag": "ABX9TyNhE98O3fRVt6ciMP+trJy3"
    },
    "kernelspec": {
      "name": "python3",
      "display_name": "Python 3"
    },
    "language_info": {
      "name": "python"
    },
    "accelerator": "GPU",
    "widgets": {
      "application/vnd.jupyter.widget-state+json": {
        "51089a7d86804b21b144556759214ebc": {
          "model_module": "@jupyter-widgets/controls",
          "model_name": "HBoxModel",
          "state": {
            "_view_name": "HBoxView",
            "_dom_classes": [],
            "_model_name": "HBoxModel",
            "_view_module": "@jupyter-widgets/controls",
            "_model_module_version": "1.5.0",
            "_view_count": null,
            "_view_module_version": "1.5.0",
            "box_style": "",
            "layout": "IPY_MODEL_0583bb2061d64a77bf3f85667e0afdfb",
            "_model_module": "@jupyter-widgets/controls",
            "children": [
              "IPY_MODEL_85a9c818e6aa4e319eaa741062ac03ce",
              "IPY_MODEL_ba80324e066241248c425c2bf4e3bed8"
            ]
          }
        },
        "0583bb2061d64a77bf3f85667e0afdfb": {
          "model_module": "@jupyter-widgets/base",
          "model_name": "LayoutModel",
          "state": {
            "_view_name": "LayoutView",
            "grid_template_rows": null,
            "right": null,
            "justify_content": null,
            "_view_module": "@jupyter-widgets/base",
            "overflow": null,
            "_model_module_version": "1.2.0",
            "_view_count": null,
            "flex_flow": null,
            "width": null,
            "min_width": null,
            "border": null,
            "align_items": null,
            "bottom": null,
            "_model_module": "@jupyter-widgets/base",
            "top": null,
            "grid_column": null,
            "overflow_y": null,
            "overflow_x": null,
            "grid_auto_flow": null,
            "grid_area": null,
            "grid_template_columns": null,
            "flex": null,
            "_model_name": "LayoutModel",
            "justify_items": null,
            "grid_row": null,
            "max_height": null,
            "align_content": null,
            "visibility": null,
            "align_self": null,
            "height": null,
            "min_height": null,
            "padding": null,
            "grid_auto_rows": null,
            "grid_gap": null,
            "max_width": null,
            "order": null,
            "_view_module_version": "1.2.0",
            "grid_template_areas": null,
            "object_position": null,
            "object_fit": null,
            "grid_auto_columns": null,
            "margin": null,
            "display": null,
            "left": null
          }
        },
        "85a9c818e6aa4e319eaa741062ac03ce": {
          "model_module": "@jupyter-widgets/controls",
          "model_name": "FloatProgressModel",
          "state": {
            "_view_name": "ProgressView",
            "style": "IPY_MODEL_783c529b4ef648e19c58b0ef488bef55",
            "_dom_classes": [],
            "description": "Downloading: 100%",
            "_model_name": "FloatProgressModel",
            "bar_style": "success",
            "max": 642,
            "_view_module": "@jupyter-widgets/controls",
            "_model_module_version": "1.5.0",
            "value": 642,
            "_view_count": null,
            "_view_module_version": "1.5.0",
            "orientation": "horizontal",
            "min": 0,
            "description_tooltip": null,
            "_model_module": "@jupyter-widgets/controls",
            "layout": "IPY_MODEL_a7217fee910e4618ab3d0c80713a17b2"
          }
        },
        "ba80324e066241248c425c2bf4e3bed8": {
          "model_module": "@jupyter-widgets/controls",
          "model_name": "HTMLModel",
          "state": {
            "_view_name": "HTMLView",
            "style": "IPY_MODEL_826d4c4d3e8742eeb95e68d766c94c0e",
            "_dom_classes": [],
            "description": "",
            "_model_name": "HTMLModel",
            "placeholder": "​",
            "_view_module": "@jupyter-widgets/controls",
            "_model_module_version": "1.5.0",
            "value": " 642/642 [00:00&lt;00:00, 752B/s]",
            "_view_count": null,
            "_view_module_version": "1.5.0",
            "description_tooltip": null,
            "_model_module": "@jupyter-widgets/controls",
            "layout": "IPY_MODEL_0415a6f49471458699a19ec2de61eecc"
          }
        },
        "783c529b4ef648e19c58b0ef488bef55": {
          "model_module": "@jupyter-widgets/controls",
          "model_name": "ProgressStyleModel",
          "state": {
            "_view_name": "StyleView",
            "_model_name": "ProgressStyleModel",
            "description_width": "initial",
            "_view_module": "@jupyter-widgets/base",
            "_model_module_version": "1.5.0",
            "_view_count": null,
            "_view_module_version": "1.2.0",
            "bar_color": null,
            "_model_module": "@jupyter-widgets/controls"
          }
        },
        "a7217fee910e4618ab3d0c80713a17b2": {
          "model_module": "@jupyter-widgets/base",
          "model_name": "LayoutModel",
          "state": {
            "_view_name": "LayoutView",
            "grid_template_rows": null,
            "right": null,
            "justify_content": null,
            "_view_module": "@jupyter-widgets/base",
            "overflow": null,
            "_model_module_version": "1.2.0",
            "_view_count": null,
            "flex_flow": null,
            "width": null,
            "min_width": null,
            "border": null,
            "align_items": null,
            "bottom": null,
            "_model_module": "@jupyter-widgets/base",
            "top": null,
            "grid_column": null,
            "overflow_y": null,
            "overflow_x": null,
            "grid_auto_flow": null,
            "grid_area": null,
            "grid_template_columns": null,
            "flex": null,
            "_model_name": "LayoutModel",
            "justify_items": null,
            "grid_row": null,
            "max_height": null,
            "align_content": null,
            "visibility": null,
            "align_self": null,
            "height": null,
            "min_height": null,
            "padding": null,
            "grid_auto_rows": null,
            "grid_gap": null,
            "max_width": null,
            "order": null,
            "_view_module_version": "1.2.0",
            "grid_template_areas": null,
            "object_position": null,
            "object_fit": null,
            "grid_auto_columns": null,
            "margin": null,
            "display": null,
            "left": null
          }
        },
        "826d4c4d3e8742eeb95e68d766c94c0e": {
          "model_module": "@jupyter-widgets/controls",
          "model_name": "DescriptionStyleModel",
          "state": {
            "_view_name": "StyleView",
            "_model_name": "DescriptionStyleModel",
            "description_width": "",
            "_view_module": "@jupyter-widgets/base",
            "_model_module_version": "1.5.0",
            "_view_count": null,
            "_view_module_version": "1.2.0",
            "_model_module": "@jupyter-widgets/controls"
          }
        },
        "0415a6f49471458699a19ec2de61eecc": {
          "model_module": "@jupyter-widgets/base",
          "model_name": "LayoutModel",
          "state": {
            "_view_name": "LayoutView",
            "grid_template_rows": null,
            "right": null,
            "justify_content": null,
            "_view_module": "@jupyter-widgets/base",
            "overflow": null,
            "_model_module_version": "1.2.0",
            "_view_count": null,
            "flex_flow": null,
            "width": null,
            "min_width": null,
            "border": null,
            "align_items": null,
            "bottom": null,
            "_model_module": "@jupyter-widgets/base",
            "top": null,
            "grid_column": null,
            "overflow_y": null,
            "overflow_x": null,
            "grid_auto_flow": null,
            "grid_area": null,
            "grid_template_columns": null,
            "flex": null,
            "_model_name": "LayoutModel",
            "justify_items": null,
            "grid_row": null,
            "max_height": null,
            "align_content": null,
            "visibility": null,
            "align_self": null,
            "height": null,
            "min_height": null,
            "padding": null,
            "grid_auto_rows": null,
            "grid_gap": null,
            "max_width": null,
            "order": null,
            "_view_module_version": "1.2.0",
            "grid_template_areas": null,
            "object_position": null,
            "object_fit": null,
            "grid_auto_columns": null,
            "margin": null,
            "display": null,
            "left": null
          }
        },
        "3f0b707597a944b1934e0e43e7bad848": {
          "model_module": "@jupyter-widgets/controls",
          "model_name": "HBoxModel",
          "state": {
            "_view_name": "HBoxView",
            "_dom_classes": [],
            "_model_name": "HBoxModel",
            "_view_module": "@jupyter-widgets/controls",
            "_model_module_version": "1.5.0",
            "_view_count": null,
            "_view_module_version": "1.5.0",
            "box_style": "",
            "layout": "IPY_MODEL_62dea645079c4ad1a39daf30a53c72af",
            "_model_module": "@jupyter-widgets/controls",
            "children": [
              "IPY_MODEL_94a3ba5790ac4180ae85ba8ab994e582",
              "IPY_MODEL_8462dd87d14548b29005141e26de8866"
            ]
          }
        },
        "62dea645079c4ad1a39daf30a53c72af": {
          "model_module": "@jupyter-widgets/base",
          "model_name": "LayoutModel",
          "state": {
            "_view_name": "LayoutView",
            "grid_template_rows": null,
            "right": null,
            "justify_content": null,
            "_view_module": "@jupyter-widgets/base",
            "overflow": null,
            "_model_module_version": "1.2.0",
            "_view_count": null,
            "flex_flow": null,
            "width": null,
            "min_width": null,
            "border": null,
            "align_items": null,
            "bottom": null,
            "_model_module": "@jupyter-widgets/base",
            "top": null,
            "grid_column": null,
            "overflow_y": null,
            "overflow_x": null,
            "grid_auto_flow": null,
            "grid_area": null,
            "grid_template_columns": null,
            "flex": null,
            "_model_name": "LayoutModel",
            "justify_items": null,
            "grid_row": null,
            "max_height": null,
            "align_content": null,
            "visibility": null,
            "align_self": null,
            "height": null,
            "min_height": null,
            "padding": null,
            "grid_auto_rows": null,
            "grid_gap": null,
            "max_width": null,
            "order": null,
            "_view_module_version": "1.2.0",
            "grid_template_areas": null,
            "object_position": null,
            "object_fit": null,
            "grid_auto_columns": null,
            "margin": null,
            "display": null,
            "left": null
          }
        },
        "94a3ba5790ac4180ae85ba8ab994e582": {
          "model_module": "@jupyter-widgets/controls",
          "model_name": "FloatProgressModel",
          "state": {
            "_view_name": "ProgressView",
            "style": "IPY_MODEL_8cfa0a48acd145bd80b001bd5de5e165",
            "_dom_classes": [],
            "description": "Downloading: 100%",
            "_model_name": "FloatProgressModel",
            "bar_style": "success",
            "max": 1649718,
            "_view_module": "@jupyter-widgets/controls",
            "_model_module_version": "1.5.0",
            "value": 1649718,
            "_view_count": null,
            "_view_module_version": "1.5.0",
            "orientation": "horizontal",
            "min": 0,
            "description_tooltip": null,
            "_model_module": "@jupyter-widgets/controls",
            "layout": "IPY_MODEL_1e15191ac7894d148983ddaf65b851a9"
          }
        },
        "8462dd87d14548b29005141e26de8866": {
          "model_module": "@jupyter-widgets/controls",
          "model_name": "HTMLModel",
          "state": {
            "_view_name": "HTMLView",
            "style": "IPY_MODEL_6a2db37f06924b8db10c86a632448679",
            "_dom_classes": [],
            "description": "",
            "_model_name": "HTMLModel",
            "placeholder": "​",
            "_view_module": "@jupyter-widgets/controls",
            "_model_module_version": "1.5.0",
            "value": " 1.65M/1.65M [00:02&lt;00:00, 714kB/s]",
            "_view_count": null,
            "_view_module_version": "1.5.0",
            "description_tooltip": null,
            "_model_module": "@jupyter-widgets/controls",
            "layout": "IPY_MODEL_f585eba474c948698e201f0233438939"
          }
        },
        "8cfa0a48acd145bd80b001bd5de5e165": {
          "model_module": "@jupyter-widgets/controls",
          "model_name": "ProgressStyleModel",
          "state": {
            "_view_name": "StyleView",
            "_model_name": "ProgressStyleModel",
            "description_width": "initial",
            "_view_module": "@jupyter-widgets/base",
            "_model_module_version": "1.5.0",
            "_view_count": null,
            "_view_module_version": "1.2.0",
            "bar_color": null,
            "_model_module": "@jupyter-widgets/controls"
          }
        },
        "1e15191ac7894d148983ddaf65b851a9": {
          "model_module": "@jupyter-widgets/base",
          "model_name": "LayoutModel",
          "state": {
            "_view_name": "LayoutView",
            "grid_template_rows": null,
            "right": null,
            "justify_content": null,
            "_view_module": "@jupyter-widgets/base",
            "overflow": null,
            "_model_module_version": "1.2.0",
            "_view_count": null,
            "flex_flow": null,
            "width": null,
            "min_width": null,
            "border": null,
            "align_items": null,
            "bottom": null,
            "_model_module": "@jupyter-widgets/base",
            "top": null,
            "grid_column": null,
            "overflow_y": null,
            "overflow_x": null,
            "grid_auto_flow": null,
            "grid_area": null,
            "grid_template_columns": null,
            "flex": null,
            "_model_name": "LayoutModel",
            "justify_items": null,
            "grid_row": null,
            "max_height": null,
            "align_content": null,
            "visibility": null,
            "align_self": null,
            "height": null,
            "min_height": null,
            "padding": null,
            "grid_auto_rows": null,
            "grid_gap": null,
            "max_width": null,
            "order": null,
            "_view_module_version": "1.2.0",
            "grid_template_areas": null,
            "object_position": null,
            "object_fit": null,
            "grid_auto_columns": null,
            "margin": null,
            "display": null,
            "left": null
          }
        },
        "6a2db37f06924b8db10c86a632448679": {
          "model_module": "@jupyter-widgets/controls",
          "model_name": "DescriptionStyleModel",
          "state": {
            "_view_name": "StyleView",
            "_model_name": "DescriptionStyleModel",
            "description_width": "",
            "_view_module": "@jupyter-widgets/base",
            "_model_module_version": "1.5.0",
            "_view_count": null,
            "_view_module_version": "1.2.0",
            "_model_module": "@jupyter-widgets/controls"
          }
        },
        "f585eba474c948698e201f0233438939": {
          "model_module": "@jupyter-widgets/base",
          "model_name": "LayoutModel",
          "state": {
            "_view_name": "LayoutView",
            "grid_template_rows": null,
            "right": null,
            "justify_content": null,
            "_view_module": "@jupyter-widgets/base",
            "overflow": null,
            "_model_module_version": "1.2.0",
            "_view_count": null,
            "flex_flow": null,
            "width": null,
            "min_width": null,
            "border": null,
            "align_items": null,
            "bottom": null,
            "_model_module": "@jupyter-widgets/base",
            "top": null,
            "grid_column": null,
            "overflow_y": null,
            "overflow_x": null,
            "grid_auto_flow": null,
            "grid_area": null,
            "grid_template_columns": null,
            "flex": null,
            "_model_name": "LayoutModel",
            "justify_items": null,
            "grid_row": null,
            "max_height": null,
            "align_content": null,
            "visibility": null,
            "align_self": null,
            "height": null,
            "min_height": null,
            "padding": null,
            "grid_auto_rows": null,
            "grid_gap": null,
            "max_width": null,
            "order": null,
            "_view_module_version": "1.2.0",
            "grid_template_areas": null,
            "object_position": null,
            "object_fit": null,
            "grid_auto_columns": null,
            "margin": null,
            "display": null,
            "left": null
          }
        },
        "4cdcbe4c7baa46f19a0f036bc4e8acff": {
          "model_module": "@jupyter-widgets/controls",
          "model_name": "HBoxModel",
          "state": {
            "_view_name": "HBoxView",
            "_dom_classes": [],
            "_model_name": "HBoxModel",
            "_view_module": "@jupyter-widgets/controls",
            "_model_module_version": "1.5.0",
            "_view_count": null,
            "_view_module_version": "1.5.0",
            "box_style": "",
            "layout": "IPY_MODEL_f39ff20d45454671b9d417f56592ea10",
            "_model_module": "@jupyter-widgets/controls",
            "children": [
              "IPY_MODEL_52bbb440f2144fc9889ee9115461c29d",
              "IPY_MODEL_1b6c126e8ca44a7c8c3fc04304417ef1"
            ]
          }
        },
        "f39ff20d45454671b9d417f56592ea10": {
          "model_module": "@jupyter-widgets/base",
          "model_name": "LayoutModel",
          "state": {
            "_view_name": "LayoutView",
            "grid_template_rows": null,
            "right": null,
            "justify_content": null,
            "_view_module": "@jupyter-widgets/base",
            "overflow": null,
            "_model_module_version": "1.2.0",
            "_view_count": null,
            "flex_flow": null,
            "width": null,
            "min_width": null,
            "border": null,
            "align_items": null,
            "bottom": null,
            "_model_module": "@jupyter-widgets/base",
            "top": null,
            "grid_column": null,
            "overflow_y": null,
            "overflow_x": null,
            "grid_auto_flow": null,
            "grid_area": null,
            "grid_template_columns": null,
            "flex": null,
            "_model_name": "LayoutModel",
            "justify_items": null,
            "grid_row": null,
            "max_height": null,
            "align_content": null,
            "visibility": null,
            "align_self": null,
            "height": null,
            "min_height": null,
            "padding": null,
            "grid_auto_rows": null,
            "grid_gap": null,
            "max_width": null,
            "order": null,
            "_view_module_version": "1.2.0",
            "grid_template_areas": null,
            "object_position": null,
            "object_fit": null,
            "grid_auto_columns": null,
            "margin": null,
            "display": null,
            "left": null
          }
        },
        "52bbb440f2144fc9889ee9115461c29d": {
          "model_module": "@jupyter-widgets/controls",
          "model_name": "FloatProgressModel",
          "state": {
            "_view_name": "ProgressView",
            "style": "IPY_MODEL_62e173546cc84fae8e6ce51ebf13a1d7",
            "_dom_classes": [],
            "description": "Downloading: 100%",
            "_model_name": "FloatProgressModel",
            "bar_style": "success",
            "max": 112,
            "_view_module": "@jupyter-widgets/controls",
            "_model_module_version": "1.5.0",
            "value": 112,
            "_view_count": null,
            "_view_module_version": "1.5.0",
            "orientation": "horizontal",
            "min": 0,
            "description_tooltip": null,
            "_model_module": "@jupyter-widgets/controls",
            "layout": "IPY_MODEL_16fa859ff6b14115ad22db7c76534828"
          }
        },
        "1b6c126e8ca44a7c8c3fc04304417ef1": {
          "model_module": "@jupyter-widgets/controls",
          "model_name": "HTMLModel",
          "state": {
            "_view_name": "HTMLView",
            "style": "IPY_MODEL_b59b0e97efc44e5eb7bafa4daf30559a",
            "_dom_classes": [],
            "description": "",
            "_model_name": "HTMLModel",
            "placeholder": "​",
            "_view_module": "@jupyter-widgets/controls",
            "_model_module_version": "1.5.0",
            "value": " 112/112 [00:00&lt;00:00, 161B/s]",
            "_view_count": null,
            "_view_module_version": "1.5.0",
            "description_tooltip": null,
            "_model_module": "@jupyter-widgets/controls",
            "layout": "IPY_MODEL_7bb46f121f84460d9bfa6a6419afc5a8"
          }
        },
        "62e173546cc84fae8e6ce51ebf13a1d7": {
          "model_module": "@jupyter-widgets/controls",
          "model_name": "ProgressStyleModel",
          "state": {
            "_view_name": "StyleView",
            "_model_name": "ProgressStyleModel",
            "description_width": "initial",
            "_view_module": "@jupyter-widgets/base",
            "_model_module_version": "1.5.0",
            "_view_count": null,
            "_view_module_version": "1.2.0",
            "bar_color": null,
            "_model_module": "@jupyter-widgets/controls"
          }
        },
        "16fa859ff6b14115ad22db7c76534828": {
          "model_module": "@jupyter-widgets/base",
          "model_name": "LayoutModel",
          "state": {
            "_view_name": "LayoutView",
            "grid_template_rows": null,
            "right": null,
            "justify_content": null,
            "_view_module": "@jupyter-widgets/base",
            "overflow": null,
            "_model_module_version": "1.2.0",
            "_view_count": null,
            "flex_flow": null,
            "width": null,
            "min_width": null,
            "border": null,
            "align_items": null,
            "bottom": null,
            "_model_module": "@jupyter-widgets/base",
            "top": null,
            "grid_column": null,
            "overflow_y": null,
            "overflow_x": null,
            "grid_auto_flow": null,
            "grid_area": null,
            "grid_template_columns": null,
            "flex": null,
            "_model_name": "LayoutModel",
            "justify_items": null,
            "grid_row": null,
            "max_height": null,
            "align_content": null,
            "visibility": null,
            "align_self": null,
            "height": null,
            "min_height": null,
            "padding": null,
            "grid_auto_rows": null,
            "grid_gap": null,
            "max_width": null,
            "order": null,
            "_view_module_version": "1.2.0",
            "grid_template_areas": null,
            "object_position": null,
            "object_fit": null,
            "grid_auto_columns": null,
            "margin": null,
            "display": null,
            "left": null
          }
        },
        "b59b0e97efc44e5eb7bafa4daf30559a": {
          "model_module": "@jupyter-widgets/controls",
          "model_name": "DescriptionStyleModel",
          "state": {
            "_view_name": "StyleView",
            "_model_name": "DescriptionStyleModel",
            "description_width": "",
            "_view_module": "@jupyter-widgets/base",
            "_model_module_version": "1.5.0",
            "_view_count": null,
            "_view_module_version": "1.2.0",
            "_model_module": "@jupyter-widgets/controls"
          }
        },
        "7bb46f121f84460d9bfa6a6419afc5a8": {
          "model_module": "@jupyter-widgets/base",
          "model_name": "LayoutModel",
          "state": {
            "_view_name": "LayoutView",
            "grid_template_rows": null,
            "right": null,
            "justify_content": null,
            "_view_module": "@jupyter-widgets/base",
            "overflow": null,
            "_model_module_version": "1.2.0",
            "_view_count": null,
            "flex_flow": null,
            "width": null,
            "min_width": null,
            "border": null,
            "align_items": null,
            "bottom": null,
            "_model_module": "@jupyter-widgets/base",
            "top": null,
            "grid_column": null,
            "overflow_y": null,
            "overflow_x": null,
            "grid_auto_flow": null,
            "grid_area": null,
            "grid_template_columns": null,
            "flex": null,
            "_model_name": "LayoutModel",
            "justify_items": null,
            "grid_row": null,
            "max_height": null,
            "align_content": null,
            "visibility": null,
            "align_self": null,
            "height": null,
            "min_height": null,
            "padding": null,
            "grid_auto_rows": null,
            "grid_gap": null,
            "max_width": null,
            "order": null,
            "_view_module_version": "1.2.0",
            "grid_template_areas": null,
            "object_position": null,
            "object_fit": null,
            "grid_auto_columns": null,
            "margin": null,
            "display": null,
            "left": null
          }
        },
        "e517d3b071f04e2d95a8f69fcaefcd28": {
          "model_module": "@jupyter-widgets/controls",
          "model_name": "HBoxModel",
          "state": {
            "_view_name": "HBoxView",
            "_dom_classes": [],
            "_model_name": "HBoxModel",
            "_view_module": "@jupyter-widgets/controls",
            "_model_module_version": "1.5.0",
            "_view_count": null,
            "_view_module_version": "1.5.0",
            "box_style": "",
            "layout": "IPY_MODEL_5fe899bdfb5740548100a904cbba650d",
            "_model_module": "@jupyter-widgets/controls",
            "children": [
              "IPY_MODEL_d8815778f35b4be8bf943148865cadd8",
              "IPY_MODEL_bd2da74ba40440aeaefa100332fcd550"
            ]
          }
        },
        "5fe899bdfb5740548100a904cbba650d": {
          "model_module": "@jupyter-widgets/base",
          "model_name": "LayoutModel",
          "state": {
            "_view_name": "LayoutView",
            "grid_template_rows": null,
            "right": null,
            "justify_content": null,
            "_view_module": "@jupyter-widgets/base",
            "overflow": null,
            "_model_module_version": "1.2.0",
            "_view_count": null,
            "flex_flow": null,
            "width": null,
            "min_width": null,
            "border": null,
            "align_items": null,
            "bottom": null,
            "_model_module": "@jupyter-widgets/base",
            "top": null,
            "grid_column": null,
            "overflow_y": null,
            "overflow_x": null,
            "grid_auto_flow": null,
            "grid_area": null,
            "grid_template_columns": null,
            "flex": null,
            "_model_name": "LayoutModel",
            "justify_items": null,
            "grid_row": null,
            "max_height": null,
            "align_content": null,
            "visibility": null,
            "align_self": null,
            "height": null,
            "min_height": null,
            "padding": null,
            "grid_auto_rows": null,
            "grid_gap": null,
            "max_width": null,
            "order": null,
            "_view_module_version": "1.2.0",
            "grid_template_areas": null,
            "object_position": null,
            "object_fit": null,
            "grid_auto_columns": null,
            "margin": null,
            "display": null,
            "left": null
          }
        },
        "d8815778f35b4be8bf943148865cadd8": {
          "model_module": "@jupyter-widgets/controls",
          "model_name": "FloatProgressModel",
          "state": {
            "_view_name": "ProgressView",
            "style": "IPY_MODEL_aec85143d8b44510b5539446e7d3663b",
            "_dom_classes": [],
            "description": "Downloading: 100%",
            "_model_name": "FloatProgressModel",
            "bar_style": "success",
            "max": 2,
            "_view_module": "@jupyter-widgets/controls",
            "_model_module_version": "1.5.0",
            "value": 2,
            "_view_count": null,
            "_view_module_version": "1.5.0",
            "orientation": "horizontal",
            "min": 0,
            "description_tooltip": null,
            "_model_module": "@jupyter-widgets/controls",
            "layout": "IPY_MODEL_b9e9524a8d3741d9a84fdd626419e0c7"
          }
        },
        "bd2da74ba40440aeaefa100332fcd550": {
          "model_module": "@jupyter-widgets/controls",
          "model_name": "HTMLModel",
          "state": {
            "_view_name": "HTMLView",
            "style": "IPY_MODEL_0b2c5d9285bb4ce0a00a88c34b42fe36",
            "_dom_classes": [],
            "description": "",
            "_model_name": "HTMLModel",
            "placeholder": "​",
            "_view_module": "@jupyter-widgets/controls",
            "_model_module_version": "1.5.0",
            "value": " 2.00/2.00 [00:00&lt;00:00, 17.5B/s]",
            "_view_count": null,
            "_view_module_version": "1.5.0",
            "description_tooltip": null,
            "_model_module": "@jupyter-widgets/controls",
            "layout": "IPY_MODEL_883767752dec418cbfefc7a57cad1920"
          }
        },
        "aec85143d8b44510b5539446e7d3663b": {
          "model_module": "@jupyter-widgets/controls",
          "model_name": "ProgressStyleModel",
          "state": {
            "_view_name": "StyleView",
            "_model_name": "ProgressStyleModel",
            "description_width": "initial",
            "_view_module": "@jupyter-widgets/base",
            "_model_module_version": "1.5.0",
            "_view_count": null,
            "_view_module_version": "1.2.0",
            "bar_color": null,
            "_model_module": "@jupyter-widgets/controls"
          }
        },
        "b9e9524a8d3741d9a84fdd626419e0c7": {
          "model_module": "@jupyter-widgets/base",
          "model_name": "LayoutModel",
          "state": {
            "_view_name": "LayoutView",
            "grid_template_rows": null,
            "right": null,
            "justify_content": null,
            "_view_module": "@jupyter-widgets/base",
            "overflow": null,
            "_model_module_version": "1.2.0",
            "_view_count": null,
            "flex_flow": null,
            "width": null,
            "min_width": null,
            "border": null,
            "align_items": null,
            "bottom": null,
            "_model_module": "@jupyter-widgets/base",
            "top": null,
            "grid_column": null,
            "overflow_y": null,
            "overflow_x": null,
            "grid_auto_flow": null,
            "grid_area": null,
            "grid_template_columns": null,
            "flex": null,
            "_model_name": "LayoutModel",
            "justify_items": null,
            "grid_row": null,
            "max_height": null,
            "align_content": null,
            "visibility": null,
            "align_self": null,
            "height": null,
            "min_height": null,
            "padding": null,
            "grid_auto_rows": null,
            "grid_gap": null,
            "max_width": null,
            "order": null,
            "_view_module_version": "1.2.0",
            "grid_template_areas": null,
            "object_position": null,
            "object_fit": null,
            "grid_auto_columns": null,
            "margin": null,
            "display": null,
            "left": null
          }
        },
        "0b2c5d9285bb4ce0a00a88c34b42fe36": {
          "model_module": "@jupyter-widgets/controls",
          "model_name": "DescriptionStyleModel",
          "state": {
            "_view_name": "StyleView",
            "_model_name": "DescriptionStyleModel",
            "description_width": "",
            "_view_module": "@jupyter-widgets/base",
            "_model_module_version": "1.5.0",
            "_view_count": null,
            "_view_module_version": "1.2.0",
            "_model_module": "@jupyter-widgets/controls"
          }
        },
        "883767752dec418cbfefc7a57cad1920": {
          "model_module": "@jupyter-widgets/base",
          "model_name": "LayoutModel",
          "state": {
            "_view_name": "LayoutView",
            "grid_template_rows": null,
            "right": null,
            "justify_content": null,
            "_view_module": "@jupyter-widgets/base",
            "overflow": null,
            "_model_module_version": "1.2.0",
            "_view_count": null,
            "flex_flow": null,
            "width": null,
            "min_width": null,
            "border": null,
            "align_items": null,
            "bottom": null,
            "_model_module": "@jupyter-widgets/base",
            "top": null,
            "grid_column": null,
            "overflow_y": null,
            "overflow_x": null,
            "grid_auto_flow": null,
            "grid_area": null,
            "grid_template_columns": null,
            "flex": null,
            "_model_name": "LayoutModel",
            "justify_items": null,
            "grid_row": null,
            "max_height": null,
            "align_content": null,
            "visibility": null,
            "align_self": null,
            "height": null,
            "min_height": null,
            "padding": null,
            "grid_auto_rows": null,
            "grid_gap": null,
            "max_width": null,
            "order": null,
            "_view_module_version": "1.2.0",
            "grid_template_areas": null,
            "object_position": null,
            "object_fit": null,
            "grid_auto_columns": null,
            "margin": null,
            "display": null,
            "left": null
          }
        },
        "b4ae98a103ff4255af7d9b18f2bb79cd": {
          "model_module": "@jupyter-widgets/controls",
          "model_name": "HBoxModel",
          "state": {
            "_view_name": "HBoxView",
            "_dom_classes": [],
            "_model_name": "HBoxModel",
            "_view_module": "@jupyter-widgets/controls",
            "_model_module_version": "1.5.0",
            "_view_count": null,
            "_view_module_version": "1.5.0",
            "box_style": "",
            "layout": "IPY_MODEL_23914951767b4244a77f74f32796e3ac",
            "_model_module": "@jupyter-widgets/controls",
            "children": [
              "IPY_MODEL_51c74c393657472c877fceade8648233",
              "IPY_MODEL_dd595b2ee2e448b09b1b50f0f71bee7d"
            ]
          }
        },
        "23914951767b4244a77f74f32796e3ac": {
          "model_module": "@jupyter-widgets/base",
          "model_name": "LayoutModel",
          "state": {
            "_view_name": "LayoutView",
            "grid_template_rows": null,
            "right": null,
            "justify_content": null,
            "_view_module": "@jupyter-widgets/base",
            "overflow": null,
            "_model_module_version": "1.2.0",
            "_view_count": null,
            "flex_flow": null,
            "width": null,
            "min_width": null,
            "border": null,
            "align_items": null,
            "bottom": null,
            "_model_module": "@jupyter-widgets/base",
            "top": null,
            "grid_column": null,
            "overflow_y": null,
            "overflow_x": null,
            "grid_auto_flow": null,
            "grid_area": null,
            "grid_template_columns": null,
            "flex": null,
            "_model_name": "LayoutModel",
            "justify_items": null,
            "grid_row": null,
            "max_height": null,
            "align_content": null,
            "visibility": null,
            "align_self": null,
            "height": null,
            "min_height": null,
            "padding": null,
            "grid_auto_rows": null,
            "grid_gap": null,
            "max_width": null,
            "order": null,
            "_view_module_version": "1.2.0",
            "grid_template_areas": null,
            "object_position": null,
            "object_fit": null,
            "grid_auto_columns": null,
            "margin": null,
            "display": null,
            "left": null
          }
        },
        "51c74c393657472c877fceade8648233": {
          "model_module": "@jupyter-widgets/controls",
          "model_name": "FloatProgressModel",
          "state": {
            "_view_name": "ProgressView",
            "style": "IPY_MODEL_9e50aac963324611979a93b89448fd62",
            "_dom_classes": [],
            "description": "Downloading: 100%",
            "_model_name": "FloatProgressModel",
            "bar_style": "success",
            "max": 711456796,
            "_view_module": "@jupyter-widgets/controls",
            "_model_module_version": "1.5.0",
            "value": 711456796,
            "_view_count": null,
            "_view_module_version": "1.5.0",
            "orientation": "horizontal",
            "min": 0,
            "description_tooltip": null,
            "_model_module": "@jupyter-widgets/controls",
            "layout": "IPY_MODEL_0f30a7d66e2e40f884a287afb86bf31f"
          }
        },
        "dd595b2ee2e448b09b1b50f0f71bee7d": {
          "model_module": "@jupyter-widgets/controls",
          "model_name": "HTMLModel",
          "state": {
            "_view_name": "HTMLView",
            "style": "IPY_MODEL_edd69f5bcd5c495f86c0e51d459af3c0",
            "_dom_classes": [],
            "description": "",
            "_model_name": "HTMLModel",
            "placeholder": "​",
            "_view_module": "@jupyter-widgets/controls",
            "_model_module_version": "1.5.0",
            "value": " 711M/711M [00:13&lt;00:00, 53.2MB/s]",
            "_view_count": null,
            "_view_module_version": "1.5.0",
            "description_tooltip": null,
            "_model_module": "@jupyter-widgets/controls",
            "layout": "IPY_MODEL_4170a13b686f48a1b82d070409cdda3e"
          }
        },
        "9e50aac963324611979a93b89448fd62": {
          "model_module": "@jupyter-widgets/controls",
          "model_name": "ProgressStyleModel",
          "state": {
            "_view_name": "StyleView",
            "_model_name": "ProgressStyleModel",
            "description_width": "initial",
            "_view_module": "@jupyter-widgets/base",
            "_model_module_version": "1.5.0",
            "_view_count": null,
            "_view_module_version": "1.2.0",
            "bar_color": null,
            "_model_module": "@jupyter-widgets/controls"
          }
        },
        "0f30a7d66e2e40f884a287afb86bf31f": {
          "model_module": "@jupyter-widgets/base",
          "model_name": "LayoutModel",
          "state": {
            "_view_name": "LayoutView",
            "grid_template_rows": null,
            "right": null,
            "justify_content": null,
            "_view_module": "@jupyter-widgets/base",
            "overflow": null,
            "_model_module_version": "1.2.0",
            "_view_count": null,
            "flex_flow": null,
            "width": null,
            "min_width": null,
            "border": null,
            "align_items": null,
            "bottom": null,
            "_model_module": "@jupyter-widgets/base",
            "top": null,
            "grid_column": null,
            "overflow_y": null,
            "overflow_x": null,
            "grid_auto_flow": null,
            "grid_area": null,
            "grid_template_columns": null,
            "flex": null,
            "_model_name": "LayoutModel",
            "justify_items": null,
            "grid_row": null,
            "max_height": null,
            "align_content": null,
            "visibility": null,
            "align_self": null,
            "height": null,
            "min_height": null,
            "padding": null,
            "grid_auto_rows": null,
            "grid_gap": null,
            "max_width": null,
            "order": null,
            "_view_module_version": "1.2.0",
            "grid_template_areas": null,
            "object_position": null,
            "object_fit": null,
            "grid_auto_columns": null,
            "margin": null,
            "display": null,
            "left": null
          }
        },
        "edd69f5bcd5c495f86c0e51d459af3c0": {
          "model_module": "@jupyter-widgets/controls",
          "model_name": "DescriptionStyleModel",
          "state": {
            "_view_name": "StyleView",
            "_model_name": "DescriptionStyleModel",
            "description_width": "",
            "_view_module": "@jupyter-widgets/base",
            "_model_module_version": "1.5.0",
            "_view_count": null,
            "_view_module_version": "1.2.0",
            "_model_module": "@jupyter-widgets/controls"
          }
        },
        "4170a13b686f48a1b82d070409cdda3e": {
          "model_module": "@jupyter-widgets/base",
          "model_name": "LayoutModel",
          "state": {
            "_view_name": "LayoutView",
            "grid_template_rows": null,
            "right": null,
            "justify_content": null,
            "_view_module": "@jupyter-widgets/base",
            "overflow": null,
            "_model_module_version": "1.2.0",
            "_view_count": null,
            "flex_flow": null,
            "width": null,
            "min_width": null,
            "border": null,
            "align_items": null,
            "bottom": null,
            "_model_module": "@jupyter-widgets/base",
            "top": null,
            "grid_column": null,
            "overflow_y": null,
            "overflow_x": null,
            "grid_auto_flow": null,
            "grid_area": null,
            "grid_template_columns": null,
            "flex": null,
            "_model_name": "LayoutModel",
            "justify_items": null,
            "grid_row": null,
            "max_height": null,
            "align_content": null,
            "visibility": null,
            "align_self": null,
            "height": null,
            "min_height": null,
            "padding": null,
            "grid_auto_rows": null,
            "grid_gap": null,
            "max_width": null,
            "order": null,
            "_view_module_version": "1.2.0",
            "grid_template_areas": null,
            "object_position": null,
            "object_fit": null,
            "grid_auto_columns": null,
            "margin": null,
            "display": null,
            "left": null
          }
        }
      }
    }
  },
  "cells": [
    {
      "cell_type": "markdown",
      "metadata": {
        "id": "4jNyS_uykvZR"
      },
      "source": [
        "# In this notebook several previously created models will be tested, namely:\n",
        "\n",
        "#### Firstly, some models were trained on data without additional filtration\n",
        "\n",
        "* Model trained on pairs: original english - simplified russian sentence. So, it learns both translate and simplify at the same time.\n",
        "* Model trained only on the translated to Russian data.\n",
        "* Model trained firstly on the original data and then on the translated corpus\n",
        "\n",
        "### Then, as the results were not satisfying, an addsitional filtration and data was added\n",
        "\n",
        "* Model trained on filtered translated data\n",
        "* Model trained on filtered translated data and then on Paraphraser\n",
        "* Model trained on Paraphraser\n",
        "* Model trained on Paraphraser + filtered translated data\n",
        "* Model trained on Paraphraser + filtered translated data with control tokens\n",
        "\n",
        "All the models will be tested on the dev part of the dataset presented in RuSimpleSentEval competition. For the two of the models the russian dataset firstly will be translated into English."
      ]
    },
    {
      "cell_type": "markdown",
      "metadata": {
        "id": "xty1N5e9k0MJ"
      },
      "source": [
        "## Necessary libraries"
      ]
    },
    {
      "cell_type": "code",
      "metadata": {
        "id": "z00ZCqLlkg_0"
      },
      "source": [
        "! pip install googletrans\n",
        "! pip install transformers\n",
        "! pip install laserembeddings\n",
        "! pip install sentence_transformers\n",
        "! pip install language_tool_python\n",
        "! pip install textstat"
      ],
      "execution_count": null,
      "outputs": []
    },
    {
      "cell_type": "code",
      "metadata": {
        "id": "TaYaJ5CGkykd",
        "colab": {
          "base_uri": "https://localhost:8080/"
        },
        "outputId": "78fcf033-1de4-4530-98ca-677d912fb40e"
      },
      "source": [
        "! python -m laserembeddings download-models"
      ],
      "execution_count": null,
      "outputs": [
        {
          "output_type": "stream",
          "text": [
            "Downloading models into /usr/local/lib/python3.7/dist-packages/laserembeddings/data\n",
            "\n",
            "✅   Downloaded https://dl.fbaipublicfiles.com/laser/models/93langs.fcodes    \n",
            "✅   Downloaded https://dl.fbaipublicfiles.com/laser/models/93langs.fvocab    \n",
            "✅   Downloaded https://dl.fbaipublicfiles.com/laser/models/bilstm.93langs.2018-12-26.pt    \n",
            "\n",
            "✨ You're all set!\n"
          ],
          "name": "stdout"
        }
      ]
    },
    {
      "cell_type": "code",
      "metadata": {
        "id": "rpHBBzLNk5a2",
        "colab": {
          "base_uri": "https://localhost:8080/"
        },
        "outputId": "8a28154d-60dd-4289-cef8-99bf3a24e141"
      },
      "source": [
        "import pandas as pd\n",
        "import numpy as np\n",
        "import torch\n",
        "import language_tool_python\n",
        "import re\n",
        "import textstat\n",
        "from laserembeddings import Laser\n",
        "from sklearn.metrics.pairwise import cosine_similarity\n",
        "from sentence_transformers import SentenceTransformer\n",
        "from transformers import MarianMTModel, MarianTokenizer\n",
        "from transformers.hf_api import HfApi\n",
        "from googletrans import Translator\n",
        "from tqdm import tqdm_notebook\n",
        "import nltk\n",
        "nltk.download('punkt')\n",
        "\n",
        "pd.set_option('display.max_rows', None)\n",
        "pd.set_option('display.max_columns', 500)\n",
        "pd.set_option('display.width', 1000)\n",
        "pd.set_option('display.max_colwidth', None)"
      ],
      "execution_count": null,
      "outputs": [
        {
          "output_type": "stream",
          "text": [
            "[nltk_data] Downloading package punkt to /root/nltk_data...\n",
            "[nltk_data]   Unzipping tokenizers/punkt.zip.\n"
          ],
          "name": "stdout"
        }
      ]
    },
    {
      "cell_type": "markdown",
      "metadata": {
        "id": "NEds3NK5lBEL"
      },
      "source": [
        "## Loading data..."
      ]
    },
    {
      "cell_type": "code",
      "metadata": {
        "id": "ABUPxwWMk8Qi"
      },
      "source": [
        "! mkdir data\n",
        "! gdown https://drive.google.com/uc?id=1bJo8TagTGKa0uyppQRqsHrKHyYO5tcZc\n",
        "! gdown https://drive.google.com/uc?id=11lqipq6ggrgCk8bVxQ4-uuPVMCKN5ebU\n",
        "! gdown https://drive.google.com/uc?id=1dB3X-Wx8qU_5nDG_pxAmLvo5H_sgnHrE\n",
        "! gdown https://drive.google.com/uc?id=1IVz3XC8Rm7hQCyx3xCcABjhaENrKABvF"
      ],
      "execution_count": null,
      "outputs": []
    },
    {
      "cell_type": "code",
      "metadata": {
        "id": "xcd2NtsplC-y"
      },
      "source": [
        "test_data = pd.read_csv('/content/test_baselines.csv', sep='\\t')\n",
        "test_data['INPUT:source'] = test_data['INPUT:source'].apply(lambda x: re.sub(r'[\\t\\n\\r\\f\\v]+', \"\",x))\n",
        "test_data['OUTPUT:output'] = test_data['OUTPUT:output'].apply(lambda x: re.sub(r'[\\t\\n\\r\\f\\v]+', \"\",x))\n",
        "test_data.to_csv('test_data_new.csv', index=False, sep='\\t')"
      ],
      "execution_count": null,
      "outputs": []
    },
    {
      "cell_type": "code",
      "metadata": {
        "id": "2XIYiYh8lF-0"
      },
      "source": [
        "data_train = pd.read_csv('/content/wiki_train_cleaned_translated_sd.csv')\n",
        "data_dev = pd.read_csv('/content/wiki_dev_cleaned_translated_sd.csv')\n",
        "data_test  = pd.read_csv('/content/test_data_new.csv',  sep='\\t')"
      ],
      "execution_count": null,
      "outputs": []
    },
    {
      "cell_type": "code",
      "metadata": {
        "colab": {
          "base_uri": "https://localhost:8080/",
          "height": 1000
        },
        "id": "_izH-gellHmS",
        "outputId": "37b4d498-fe39-49f1-e4f3-3da3f6d210cb"
      },
      "source": [
        "data_test.sample(5)"
      ],
      "execution_count": null,
      "outputs": [
        {
          "output_type": "execute_result",
          "data": {
            "text/html": [
              "<div>\n",
              "<style scoped>\n",
              "    .dataframe tbody tr th:only-of-type {\n",
              "        vertical-align: middle;\n",
              "    }\n",
              "\n",
              "    .dataframe tbody tr th {\n",
              "        vertical-align: top;\n",
              "    }\n",
              "\n",
              "    .dataframe thead th {\n",
              "        text-align: right;\n",
              "    }\n",
              "</style>\n",
              "<table border=\"1\" class=\"dataframe\">\n",
              "  <thead>\n",
              "    <tr style=\"text-align: right;\">\n",
              "      <th></th>\n",
              "      <th>Unnamed: 0</th>\n",
              "      <th>INPUT:source</th>\n",
              "      <th>OUTPUT:output</th>\n",
              "      <th>trunctuation_bs</th>\n",
              "      <th>gpt_bs</th>\n",
              "      <th>cos_sim_ref</th>\n",
              "      <th>cos_sim_tr_bs</th>\n",
              "      <th>cos_sim_gpt_bs</th>\n",
              "    </tr>\n",
              "  </thead>\n",
              "  <tbody>\n",
              "    <tr>\n",
              "      <th>1141</th>\n",
              "      <td>3356</td>\n",
              "      <td>Здесь он пишет «Письмо Онегина», тем самым окончательно завершая работу над романом в стихах, который был его «спутником верным» на протяжении восьми лет жизни.</td>\n",
              "      <td>Здесь он написал \"Письмо Онегина\" и этим закончил поэму, которую писал 8 лет.</td>\n",
              "      <td>Здесь он пишет «Письмо Онегина», тем самым окончательно завершая работу над романом в стихах,.</td>\n",
              "      <td>Здесь он пишет «Письмо Онегина», тем самым окончательно завершая работу о романе в 1843 году.</td>\n",
              "      <td>0.790754</td>\n",
              "      <td>0.844982</td>\n",
              "      <td>0.838458</td>\n",
              "    </tr>\n",
              "    <tr>\n",
              "      <th>314</th>\n",
              "      <td>1105</td>\n",
              "      <td>В настоящее время не существует лекарств, способных обратить или хотя бы замедлить развитие болезни Альцгеймера.</td>\n",
              "      <td>Сейчас нет лекарств, которые могли хотя бы затормозить  развитие болезни Альцгеймера.</td>\n",
              "      <td>В настоящее время не существует лекарств, способных обратить или.</td>\n",
              "      <td>В настоящее время не существует лекарств, способных обратить или хотя бы замедлить развитие болезни.</td>\n",
              "      <td>0.988584</td>\n",
              "      <td>0.985970</td>\n",
              "      <td>0.994800</td>\n",
              "    </tr>\n",
              "    <tr>\n",
              "      <th>1227</th>\n",
              "      <td>3610</td>\n",
              "      <td>Имперский камерный суд состоял теперь в равной пропорции из католиков и протестантов и должен был стать основным инструментом мирного урегулирования.</td>\n",
              "      <td>Имперский камерный суд теперь составляют католики и протестанты.</td>\n",
              "      <td>Имперский камерный суд состоял теперь в равной пропорции из католиков и протестантов.</td>\n",
              "      <td>Имперский камерный суд состоял теперь в равной пропорции из католиков и протестантов, которые были равны между собой как по численности населения (апрель 1797 года), так даже для их веры.</td>\n",
              "      <td>0.951733</td>\n",
              "      <td>0.977822</td>\n",
              "      <td>0.750965</td>\n",
              "    </tr>\n",
              "    <tr>\n",
              "      <th>351</th>\n",
              "      <td>1181</td>\n",
              "      <td>В основе заболевания лежит ускорение инактивации инсулина или же специфическое разрушение рецепторов инсулина на мембранах инсулинзависимых клеток.</td>\n",
              "      <td>Причина заболевания - снижение инсулина или разрешение рецептеров инсулина на клетки;</td>\n",
              "      <td>В основе заболевания лежит ускорение инактивации инсулина или же специфическое.</td>\n",
              "      <td>В основе заболевания лежит ускорение инактивации инсулина или же специфическое повышение иммунитета в крови.</td>\n",
              "      <td>0.957886</td>\n",
              "      <td>0.966153</td>\n",
              "      <td>0.975032</td>\n",
              "    </tr>\n",
              "    <tr>\n",
              "      <th>914</th>\n",
              "      <td>2698</td>\n",
              "      <td>Далее, азербайджанские войска начали наступление по нескольким направлениям с целью подчинить над армянскими сёлами Нагорного Карабаха.</td>\n",
              "      <td>войска азербайджана начали наступление с целью захвата Нагорного Карабаха</td>\n",
              "      <td>Далее, азербайджанские войска начали наступление по нескольким направлениям с.</td>\n",
              "      <td>Далее, азербайджанские войска начали наступление по нескольким направлениям с целью подчинить над армянской армией Азербайджан и его армию в конечном итоге.</td>\n",
              "      <td>0.978669</td>\n",
              "      <td>0.981258</td>\n",
              "      <td>0.928678</td>\n",
              "    </tr>\n",
              "  </tbody>\n",
              "</table>\n",
              "</div>"
            ],
            "text/plain": [
              "      Unnamed: 0                                                                                                                                                      INPUT:source                                                                          OUTPUT:output                                                                                 trunctuation_bs                                                                                                                                                                                       gpt_bs  cos_sim_ref  cos_sim_tr_bs  cos_sim_gpt_bs\n",
              "1141        3356  Здесь он пишет «Письмо Онегина», тем самым окончательно завершая работу над романом в стихах, который был его «спутником верным» на протяжении восьми лет жизни.          Здесь он написал \"Письмо Онегина\" и этим закончил поэму, которую писал 8 лет.  Здесь он пишет «Письмо Онегина», тем самым окончательно завершая работу над романом в стихах,.                                                                                                Здесь он пишет «Письмо Онегина», тем самым окончательно завершая работу о романе в 1843 году.     0.790754       0.844982        0.838458\n",
              "314         1105                                                  В настоящее время не существует лекарств, способных обратить или хотя бы замедлить развитие болезни Альцгеймера.  Сейчас нет лекарств, которые могли хотя бы затормозить  развитие болезни Альцгеймера.                               В настоящее время не существует лекарств, способных обратить или.                                                                                         В настоящее время не существует лекарств, способных обратить или хотя бы замедлить развитие болезни.     0.988584       0.985970        0.994800\n",
              "1227        3610             Имперский камерный суд состоял теперь в равной пропорции из католиков и протестантов и должен был стать основным инструментом мирного урегулирования.                       Имперский камерный суд теперь составляют католики и протестанты.           Имперский камерный суд состоял теперь в равной пропорции из католиков и протестантов.  Имперский камерный суд состоял теперь в равной пропорции из католиков и протестантов, которые были равны между собой как по численности населения (апрель 1797 года), так даже для их веры.     0.951733       0.977822        0.750965\n",
              "351         1181               В основе заболевания лежит ускорение инактивации инсулина или же специфическое разрушение рецепторов инсулина на мембранах инсулинзависимых клеток.  Причина заболевания - снижение инсулина или разрешение рецептеров инсулина на клетки;                 В основе заболевания лежит ускорение инактивации инсулина или же специфическое.                                                                                 В основе заболевания лежит ускорение инактивации инсулина или же специфическое повышение иммунитета в крови.     0.957886       0.966153        0.975032\n",
              "914         2698                           Далее, азербайджанские войска начали наступление по нескольким направлениям с целью подчинить над армянскими сёлами Нагорного Карабаха.              войска азербайджана начали наступление с целью захвата Нагорного Карабаха                  Далее, азербайджанские войска начали наступление по нескольким направлениям с.                                 Далее, азербайджанские войска начали наступление по нескольким направлениям с целью подчинить над армянской армией Азербайджан и его армию в конечном итоге.     0.978669       0.981258        0.928678"
            ]
          },
          "metadata": {
            "tags": []
          },
          "execution_count": 7
        }
      ]
    },
    {
      "cell_type": "markdown",
      "metadata": {
        "id": "FdoUHAPilX72"
      },
      "source": [
        "## Setting the environment for Fairseq mBart"
      ]
    },
    {
      "cell_type": "code",
      "metadata": {
        "id": "2qPsIYtGlNp1"
      },
      "source": [
        "! wget https://dl.fbaipublicfiles.com/fairseq/models/mbart/mbart.cc25.v2.tar.gz\n",
        "! tar -xzvf /content/mbart.cc25.v2.tar.gz\n",
        "! apt-get install cmake build-essential pkg-config libgoogle-perftools-dev"
      ],
      "execution_count": null,
      "outputs": []
    },
    {
      "cell_type": "code",
      "metadata": {
        "id": "QHwitXq_lZq6"
      },
      "source": [
        "! git clone https://github.com/google/sentencepiece.git \n",
        "%cd sentencepiece\n",
        "! mkdir build"
      ],
      "execution_count": null,
      "outputs": []
    },
    {
      "cell_type": "code",
      "metadata": {
        "id": "63yx9ddSlbQG"
      },
      "source": [
        "%cd build\n",
        "!cmake ..\n",
        "!make\n",
        "!make install\n",
        "!ldconfig -v"
      ],
      "execution_count": null,
      "outputs": []
    },
    {
      "cell_type": "code",
      "metadata": {
        "colab": {
          "base_uri": "https://localhost:8080/"
        },
        "id": "puKoRAY9lc9f",
        "outputId": "7208150e-d12a-4b83-cb91-d9378342032d"
      },
      "source": [
        "%cd /content"
      ],
      "execution_count": null,
      "outputs": [
        {
          "output_type": "stream",
          "text": [
            "/content\n"
          ],
          "name": "stdout"
        }
      ]
    },
    {
      "cell_type": "code",
      "metadata": {
        "id": "x_ElKQ6Ilekg"
      },
      "source": [
        "! git clone https://github.com/pytorch/fairseq\n",
        "%cd /content/fairseq/\n",
        "! python -m pip install --editable .\n",
        "%cd /content\n",
        "\n",
        "! echo $PYTHONPATH\n",
        "\n",
        "import os\n",
        "os.environ['PYTHONPATH'] += \":/content/fairseq/\"\n",
        "\n",
        "! echo $PYTHONPATH\n"
      ],
      "execution_count": null,
      "outputs": []
    },
    {
      "cell_type": "code",
      "metadata": {
        "id": "SXB59jarlgQ1",
        "colab": {
          "base_uri": "https://localhost:8080/",
          "height": 1000
        },
        "outputId": "487302d2-76eb-46c7-98e8-87b232f88701"
      },
      "source": [
        "! git clone https://github.com/feralvam/easse\n",
        "! git clone https://github.com/Andoree/sent_simplification.git\n",
        "%cp /content/sent_simplification/sari.py /content/easse/easse\n",
        "\n",
        "%cd easse\n",
        "! pip install ."
      ],
      "execution_count": null,
      "outputs": [
        {
          "output_type": "stream",
          "text": [
            "remote: Enumerating objects: 1888, done.\u001b[K\n",
            "remote: Counting objects:   0% (1/455)\u001b[K\rremote: Counting objects:   1% (5/455)\u001b[K\rremote: Counting objects:   2% (10/455)\u001b[K\rremote: Counting objects:   3% (14/455)\u001b[K\rremote: Counting objects:   4% (19/455)\u001b[K\rremote: Counting objects:   5% (23/455)\u001b[K\rremote: Counting objects:   6% (28/455)\u001b[K\rremote: Counting objects:   7% (32/455)\u001b[K\rremote: Counting objects:   8% (37/455)\u001b[K\rremote: Counting objects:   9% (41/455)\u001b[K\rremote: Counting objects:  10% (46/455)\u001b[K\rremote: Counting objects:  11% (51/455)\u001b[K\rremote: Counting objects:  12% (55/455)\u001b[K\rremote: Counting objects:  13% (60/455)\u001b[K\rremote: Counting objects:  14% (64/455)\u001b[K\rremote: Counting objects:  15% (69/455)\u001b[K\rremote: Counting objects:  16% (73/455)\u001b[K\rremote: Counting objects:  17% (78/455)\u001b[K\rremote: Counting objects:  18% (82/455)\u001b[K\rremote: Counting objects:  19% (87/455)\u001b[K\rremote: Counting objects:  20% (91/455)\u001b[K\rremote: Counting objects:  21% (96/455)\u001b[K\rremote: Counting objects:  22% (101/455)\u001b[K\rremote: Counting objects:  23% (105/455)\u001b[K\rremote: Counting objects:  24% (110/455)\u001b[K\rremote: Counting objects:  25% (114/455)\u001b[K\rremote: Counting objects:  26% (119/455)\u001b[K\rremote: Counting objects:  27% (123/455)\u001b[K\rremote: Counting objects:  28% (128/455)\u001b[K\rremote: Counting objects:  29% (132/455)\u001b[K\rremote: Counting objects:  30% (137/455)\u001b[K\rremote: Counting objects:  31% (142/455)\u001b[K\rremote: Counting objects:  32% (146/455)\u001b[K\rremote: Counting objects:  33% (151/455)\u001b[K\rremote: Counting objects:  34% (155/455)\u001b[K\rremote: Counting objects:  35% (160/455)\u001b[K\rremote: Counting objects:  36% (164/455)\u001b[K\rremote: Counting objects:  37% (169/455)\u001b[K\rremote: Counting objects:  38% (173/455)\u001b[K\rremote: Counting objects:  39% (178/455)\u001b[K\rremote: Counting objects:  40% (182/455)\u001b[K\rremote: Counting objects:  41% (187/455)\u001b[K\rremote: Counting objects:  42% (192/455)\u001b[K\rremote: Counting objects:  43% (196/455)\u001b[K\rremote: Counting objects:  44% (201/455)\u001b[K\rremote: Counting objects:  45% (205/455)\u001b[K\rremote: Counting objects:  46% (210/455)\u001b[K\rremote: Counting objects:  47% (214/455)\u001b[K\rremote: Counting objects:  48% (219/455)\u001b[K\rremote: Counting objects:  49% (223/455)\u001b[K\rremote: Counting objects:  50% (228/455)\u001b[K\rremote: Counting objects:  51% (233/455)\u001b[K\rremote: Counting objects:  52% (237/455)\u001b[K\rremote: Counting objects:  53% (242/455)\u001b[K\rremote: Counting objects:  54% (246/455)\u001b[K\rremote: Counting objects:  55% (251/455)\u001b[K\rremote: Counting objects:  56% (255/455)\u001b[K\rremote: Counting objects:  57% (260/455)\u001b[K\rremote: Counting objects:  58% (264/455)\u001b[K\rremote: Counting objects:  59% (269/455)\u001b[K\rremote: Counting objects:  60% (273/455)\u001b[K\rremote: Counting objects:  61% (278/455)\u001b[K\rremote: Counting objects:  62% (283/455)\u001b[K\rremote: Counting objects:  63% (287/455)\u001b[K\rremote: Counting objects:  64% (292/455)\u001b[K\rremote: Counting objects:  65% (296/455)\u001b[K\rremote: Counting objects:  66% (301/455)\u001b[K\rremote: Counting objects:  67% (305/455)\u001b[K\rremote: Counting objects:  68% (310/455)\u001b[K\rremote: Counting objects:  69% (314/455)\u001b[K\rremote: Counting objects:  70% (319/455)\u001b[K\rremote: Counting objects:  71% (324/455)\u001b[K\rremote: Counting objects:  72% (328/455)\u001b[K\rremote: Counting objects:  73% (333/455)\u001b[K\rremote: Counting objects:  74% (337/455)\u001b[K\rremote: Counting objects:  75% (342/455)\u001b[K\rremote: Counting objects:  76% (346/455)\u001b[K\rremote: Counting objects:  77% (351/455)\u001b[K\rremote: Counting objects:  78% (355/455)\u001b[K\rremote: Counting objects:  79% (360/455)\u001b[K\rremote: Counting objects:  80% (364/455)\u001b[K\rremote: Counting objects:  81% (369/455)\u001b[K\rremote: Counting objects:  82% (374/455)\u001b[K\rremote: Counting objects:  83% (378/455)\u001b[K\rremote: Counting objects:  84% (383/455)\u001b[K\rremote: Counting objects:  85% (387/455)\u001b[K\rremote: Counting objects:  86% (392/455)\u001b[K\rremote: Counting objects:  87% (396/455)\u001b[K\rremote: Counting objects:  88% (401/455)\u001b[K\rremote: Counting objects:  89% (405/455)\u001b[K\rremote: Counting objects:  90% (410/455)\u001b[K\rremote: Counting objects:  91% (415/455)\u001b[K\rremote: Counting objects:  92% (419/455)\u001b[K\rremote: Counting objects:  93% (424/455)\u001b[K\rremote: Counting objects:  94% (428/455)\u001b[K\rremote: Counting objects:  95% (433/455)\u001b[K\rremote: Counting objects:  96% (437/455)\u001b[K\rremote: Counting objects:  97% (442/455)\u001b[K\rremote: Counting objects:  98% (446/455)\u001b[K\rremote: Counting objects:  99% (451/455)\u001b[K\rremote: Counting objects: 100% (455/455)\u001b[K\rremote: Counting objects: 100% (455/455), done.\u001b[K\n",
            "remote: Compressing objects: 100% (282/282), done.\u001b[K\n",
            "remote: Total 1888 (delta 260), reused 312 (delta 167), pack-reused 1433\u001b[K\n",
            "Receiving objects: 100% (1888/1888), 33.78 MiB | 3.55 MiB/s, done.\n",
            "Resolving deltas: 100% (1133/1133), done.\n",
            "Cloning into 'sent_simplification'...\n",
            "remote: Enumerating objects: 37, done.\u001b[K\n",
            "remote: Counting objects: 100% (37/37), done.\u001b[K\n",
            "remote: Compressing objects: 100% (34/34), done.\u001b[K\n",
            "remote: Total 37 (delta 18), reused 8 (delta 2), pack-reused 0\u001b[K\n",
            "Unpacking objects: 100% (37/37), done.\n",
            "/content/easse\n",
            "Processing /content/easse\n",
            "Requirement already satisfied: click in /usr/local/lib/python3.7/dist-packages (from easse==0.2.4) (8.0.0)\n",
            "Requirement already satisfied: matplotlib in /usr/local/lib/python3.7/dist-packages (from easse==0.2.4) (3.2.2)\n",
            "Collecting nltk==3.4.3\n",
            "\u001b[?25l  Downloading https://files.pythonhosted.org/packages/8d/5d/825889810b85c303c8559a3fd74d451d80cf3585a851f2103e69576bf583/nltk-3.4.3.zip (1.4MB)\n",
            "\u001b[K     |████████████████████████████████| 1.5MB 14.0MB/s \n",
            "\u001b[?25hRequirement already satisfied: numpy in /usr/local/lib/python3.7/dist-packages (from easse==0.2.4) (1.19.5)\n",
            "Requirement already satisfied: pandas in /usr/local/lib/python3.7/dist-packages (from easse==0.2.4) (1.1.5)\n",
            "Requirement already satisfied: requests>=2.21.0 in /usr/local/lib/python3.7/dist-packages (from easse==0.2.4) (2.23.0)\n",
            "Collecting sacrebleu>=1.4.13\n",
            "\u001b[?25l  Downloading https://files.pythonhosted.org/packages/7e/57/0c7ca4e31a126189dab99c19951910bd081dea5bbd25f24b77107750eae7/sacrebleu-1.5.1-py3-none-any.whl (54kB)\n",
            "\u001b[K     |████████████████████████████████| 61kB 8.6MB/s \n",
            "\u001b[?25hRequirement already satisfied: sacremoses in /usr/local/lib/python3.7/dist-packages (from easse==0.2.4) (0.0.35)\n",
            "Requirement already satisfied: seaborn in /usr/local/lib/python3.7/dist-packages (from easse==0.2.4) (0.11.1)\n",
            "Requirement already satisfied: sklearn in /usr/local/lib/python3.7/dist-packages (from easse==0.2.4) (0.0)\n",
            "Collecting stanfordnlp\n",
            "\u001b[?25l  Downloading https://files.pythonhosted.org/packages/41/bf/5d2898febb6e993fcccd90484cba3c46353658511a41430012e901824e94/stanfordnlp-0.2.0-py3-none-any.whl (158kB)\n",
            "\u001b[K     |████████████████████████████████| 163kB 63.4MB/s \n",
            "\u001b[?25hRequirement already satisfied: tqdm>=4.32.2 in /usr/local/lib/python3.7/dist-packages (from easse==0.2.4) (4.41.1)\n",
            "Collecting yattag\n",
            "  Downloading https://files.pythonhosted.org/packages/a2/dc/53ce10a508df291c973293535536961fdc014de088cf0c9534165af880d5/yattag-1.14.0.tar.gz\n",
            "Requirement already satisfied: plotly>=4.0.0 in /usr/local/lib/python3.7/dist-packages (from easse==0.2.4) (4.4.1)\n",
            "Collecting bert_score\n",
            "\u001b[?25l  Downloading https://files.pythonhosted.org/packages/38/fb/e63e7e231a79db0489dbf7e7d0ebfb279ccb3d8216aa0d133572f784f3fa/bert_score-0.3.9-py3-none-any.whl (59kB)\n",
            "\u001b[K     |████████████████████████████████| 61kB 8.5MB/s \n",
            "\u001b[?25hCollecting tseval@ git+https://github.com/facebookresearch/text-simplification-evaluation.git\n",
            "  Cloning https://github.com/facebookresearch/text-simplification-evaluation.git to /tmp/pip-install-i8onzbas/tseval\n",
            "  Running command git clone -q https://github.com/facebookresearch/text-simplification-evaluation.git /tmp/pip-install-i8onzbas/tseval\n",
            "Collecting simalign@ git+https://github.com/cisnlp/simalign.git\n",
            "  Cloning https://github.com/cisnlp/simalign.git to /tmp/pip-install-i8onzbas/simalign\n",
            "  Running command git clone -q https://github.com/cisnlp/simalign.git /tmp/pip-install-i8onzbas/simalign\n",
            "Requirement already satisfied: pyparsing!=2.0.4,!=2.1.2,!=2.1.6,>=2.0.1 in /usr/local/lib/python3.7/dist-packages (from matplotlib->easse==0.2.4) (2.4.7)\n",
            "Requirement already satisfied: cycler>=0.10 in /usr/local/lib/python3.7/dist-packages (from matplotlib->easse==0.2.4) (0.10.0)\n",
            "Requirement already satisfied: python-dateutil>=2.1 in /usr/local/lib/python3.7/dist-packages (from matplotlib->easse==0.2.4) (2.8.1)\n",
            "Requirement already satisfied: kiwisolver>=1.0.1 in /usr/local/lib/python3.7/dist-packages (from matplotlib->easse==0.2.4) (1.3.1)\n",
            "Requirement already satisfied: six in /usr/local/lib/python3.7/dist-packages (from nltk==3.4.3->easse==0.2.4) (1.15.0)\n",
            "Requirement already satisfied: pytz>=2017.2 in /usr/local/lib/python3.7/dist-packages (from pandas->easse==0.2.4) (2018.9)\n",
            "Requirement already satisfied: chardet<4,>=3.0.2 in /usr/local/lib/python3.7/dist-packages (from requests>=2.21.0->easse==0.2.4) (3.0.4)\n",
            "Requirement already satisfied: idna<3,>=2.5 in /usr/local/lib/python3.7/dist-packages (from requests>=2.21.0->easse==0.2.4) (2.10)\n",
            "Requirement already satisfied: certifi>=2017.4.17 in /usr/local/lib/python3.7/dist-packages (from requests>=2.21.0->easse==0.2.4) (2020.12.5)\n",
            "Requirement already satisfied: urllib3!=1.25.0,!=1.25.1,<1.26,>=1.21.1 in /usr/local/lib/python3.7/dist-packages (from requests>=2.21.0->easse==0.2.4) (1.24.3)\n",
            "Collecting portalocker==2.0.0\n",
            "  Downloading https://files.pythonhosted.org/packages/89/a6/3814b7107e0788040870e8825eebf214d72166adf656ba7d4bf14759a06a/portalocker-2.0.0-py2.py3-none-any.whl\n",
            "Requirement already satisfied: joblib in /usr/local/lib/python3.7/dist-packages (from sacremoses->easse==0.2.4) (1.0.1)\n",
            "Requirement already satisfied: scipy>=1.0 in /usr/local/lib/python3.7/dist-packages (from seaborn->easse==0.2.4) (1.4.1)\n",
            "Requirement already satisfied: scikit-learn in /usr/local/lib/python3.7/dist-packages (from sklearn->easse==0.2.4) (0.22.2.post1)\n",
            "Requirement already satisfied: protobuf in /usr/local/lib/python3.7/dist-packages (from stanfordnlp->easse==0.2.4) (3.12.4)\n",
            "Requirement already satisfied: torch>=1.0.0 in /usr/local/lib/python3.7/dist-packages (from stanfordnlp->easse==0.2.4) (1.8.1+cu101)\n",
            "Requirement already satisfied: retrying>=1.3.3 in /usr/local/lib/python3.7/dist-packages (from plotly>=4.0.0->easse==0.2.4) (1.3.3)\n",
            "Requirement already satisfied: transformers>=3.0.0 in /usr/local/lib/python3.7/dist-packages (from bert_score->easse==0.2.4) (4.6.0)\n",
            "Collecting python-Levenshtein\n",
            "\u001b[?25l  Downloading https://files.pythonhosted.org/packages/2a/dc/97f2b63ef0fa1fd78dcb7195aca577804f6b2b51e712516cc0e902a9a201/python-Levenshtein-0.12.2.tar.gz (50kB)\n",
            "\u001b[K     |████████████████████████████████| 51kB 8.0MB/s \n",
            "\u001b[?25hCollecting gitpython\n",
            "\u001b[?25l  Downloading https://files.pythonhosted.org/packages/27/da/6f6224fdfc47dab57881fe20c0d1bc3122be290198ba0bf26a953a045d92/GitPython-3.1.17-py3-none-any.whl (166kB)\n",
            "\u001b[K     |████████████████████████████████| 174kB 60.9MB/s \n",
            "\u001b[?25hRequirement already satisfied: regex in /usr/local/lib/python3.7/dist-packages (from simalign@ git+https://github.com/cisnlp/simalign.git->easse==0.2.4) (2019.12.20)\n",
            "Collecting networkx==2.4\n",
            "\u001b[?25l  Downloading https://files.pythonhosted.org/packages/41/8f/dd6a8e85946def36e4f2c69c84219af0fa5e832b018c970e92f2ad337e45/networkx-2.4-py3-none-any.whl (1.6MB)\n",
            "\u001b[K     |████████████████████████████████| 1.6MB 62.9MB/s \n",
            "\u001b[?25hRequirement already satisfied: setuptools in /usr/local/lib/python3.7/dist-packages (from protobuf->stanfordnlp->easse==0.2.4) (56.1.0)\n",
            "Requirement already satisfied: typing-extensions in /usr/local/lib/python3.7/dist-packages (from torch>=1.0.0->stanfordnlp->easse==0.2.4) (3.7.4.3)\n",
            "Requirement already satisfied: filelock in /usr/local/lib/python3.7/dist-packages (from transformers>=3.0.0->bert_score->easse==0.2.4) (3.0.12)\n",
            "Requirement already satisfied: tokenizers<0.11,>=0.10.1 in /usr/local/lib/python3.7/dist-packages (from transformers>=3.0.0->bert_score->easse==0.2.4) (0.10.2)\n",
            "Requirement already satisfied: importlib-metadata; python_version < \"3.8\" in /usr/local/lib/python3.7/dist-packages (from transformers>=3.0.0->bert_score->easse==0.2.4) (4.0.1)\n",
            "Requirement already satisfied: huggingface-hub==0.0.8 in /usr/local/lib/python3.7/dist-packages (from transformers>=3.0.0->bert_score->easse==0.2.4) (0.0.8)\n",
            "Requirement already satisfied: packaging in /usr/local/lib/python3.7/dist-packages (from transformers>=3.0.0->bert_score->easse==0.2.4) (20.9)\n",
            "Collecting gitdb<5,>=4.0.1\n",
            "\u001b[?25l  Downloading https://files.pythonhosted.org/packages/ea/e8/f414d1a4f0bbc668ed441f74f44c116d9816833a48bf81d22b697090dba8/gitdb-4.0.7-py3-none-any.whl (63kB)\n",
            "\u001b[K     |████████████████████████████████| 71kB 10.2MB/s \n",
            "\u001b[?25hRequirement already satisfied: decorator>=4.3.0 in /usr/local/lib/python3.7/dist-packages (from networkx==2.4->simalign@ git+https://github.com/cisnlp/simalign.git->easse==0.2.4) (4.4.2)\n",
            "Requirement already satisfied: zipp>=0.5 in /usr/local/lib/python3.7/dist-packages (from importlib-metadata; python_version < \"3.8\"->transformers>=3.0.0->bert_score->easse==0.2.4) (3.4.1)\n",
            "Collecting smmap<5,>=3.0.1\n",
            "  Downloading https://files.pythonhosted.org/packages/68/ee/d540eb5e5996eb81c26ceffac6ee49041d473bc5125f2aa995cf51ec1cf1/smmap-4.0.0-py2.py3-none-any.whl\n",
            "Building wheels for collected packages: easse, nltk, yattag, tseval, simalign, python-Levenshtein\n",
            "  Building wheel for easse (setup.py) ... \u001b[?25l\u001b[?25hdone\n",
            "  Created wheel for easse: filename=easse-0.2.4-cp37-none-any.whl size=17948984 sha256=9a3b59eedec4d9a5655d9a77171fdf8650c1ed397be55ebc27020dd71797d3e4\n",
            "  Stored in directory: /tmp/pip-ephem-wheel-cache-zp_fuftg/wheels/ca/07/fd/1757c0f0715621bb12ff9c6eb50591025c4be06a9ec1c5c445\n",
            "  Building wheel for nltk (setup.py) ... \u001b[?25l\u001b[?25hdone\n",
            "  Created wheel for nltk: filename=nltk-3.4.3-cp37-none-any.whl size=1448589 sha256=e5cf1540132b8a17a726557fa31580f3bb83745304ecb9f47c4e0437241da89a\n",
            "  Stored in directory: /root/.cache/pip/wheels/54/40/b7/c56ad418e6cd4d9e1e594b5e138d1ca6eec11a6ee3d464e5bb\n",
            "  Building wheel for yattag (setup.py) ... \u001b[?25l\u001b[?25hdone\n",
            "  Created wheel for yattag: filename=yattag-1.14.0-cp37-none-any.whl size=15659 sha256=1dc96a6b59e9adb154fc63ec5e751de0bbc8d28ccb6d6d8cc064ed3d1aa3b6ba\n",
            "  Stored in directory: /root/.cache/pip/wheels/f9/f7/03/c04356ec5f399b897afb5242246a54faa292d9d190cad31430\n",
            "  Building wheel for tseval (setup.py) ... \u001b[?25l\u001b[?25hdone\n",
            "  Created wheel for tseval: filename=tseval-1.0-cp37-none-any.whl size=8536644 sha256=72bfe3b8862e3372045a3e6792f6425b82baf0915ad62d5ba726866dadfac2fd\n",
            "  Stored in directory: /tmp/pip-ephem-wheel-cache-zp_fuftg/wheels/66/ce/57/ba6e236f6c0a0500a633c945517fddd8594ef9f1244a215889\n",
            "  Building wheel for simalign (setup.py) ... \u001b[?25l\u001b[?25hdone\n",
            "  Created wheel for simalign: filename=simalign-0.2-cp37-none-any.whl size=5567 sha256=9d23625dfe1671aa0e6aaaa5846fd959619642415738e56aa80431318fa170ce\n",
            "  Stored in directory: /tmp/pip-ephem-wheel-cache-zp_fuftg/wheels/03/82/85/ea8257c402ccd3f3ffc8887438f151f94402300db79f044f4d\n",
            "  Building wheel for python-Levenshtein (setup.py) ... \u001b[?25l\u001b[?25hdone\n",
            "  Created wheel for python-Levenshtein: filename=python_Levenshtein-0.12.2-cp37-cp37m-linux_x86_64.whl size=149807 sha256=b3eef0a737a36222eafd67ab9a74d7f060ef4c9d3084c1606cb2cf51ade32828\n",
            "  Stored in directory: /root/.cache/pip/wheels/b3/26/73/4b48503bac73f01cf18e52cd250947049a7f339e940c5df8fc\n",
            "Successfully built easse nltk yattag tseval simalign python-Levenshtein\n",
            "\u001b[31mERROR: albumentations 0.1.12 has requirement imgaug<0.2.7,>=0.2.5, but you'll have imgaug 0.2.9 which is incompatible.\u001b[0m\n",
            "Installing collected packages: nltk, portalocker, sacrebleu, stanfordnlp, yattag, bert-score, python-Levenshtein, smmap, gitdb, gitpython, tseval, networkx, simalign, easse\n",
            "  Found existing installation: nltk 3.2.5\n",
            "    Uninstalling nltk-3.2.5:\n",
            "      Successfully uninstalled nltk-3.2.5\n",
            "  Found existing installation: networkx 2.5.1\n",
            "    Uninstalling networkx-2.5.1:\n",
            "      Successfully uninstalled networkx-2.5.1\n",
            "Successfully installed bert-score-0.3.9 easse-0.2.4 gitdb-4.0.7 gitpython-3.1.17 networkx-2.4 nltk-3.4.3 portalocker-2.0.0 python-Levenshtein-0.12.2 sacrebleu-1.5.1 simalign-0.2 smmap-4.0.0 stanfordnlp-0.2.0 tseval-1.0 yattag-1.14.0\n"
          ],
          "name": "stdout"
        },
        {
          "output_type": "display_data",
          "data": {
            "application/vnd.colab-display-data+json": {
              "pip_warning": {
                "packages": [
                  "nltk"
                ]
              }
            }
          },
          "metadata": {
            "tags": []
          }
        }
      ]
    },
    {
      "cell_type": "code",
      "metadata": {
        "colab": {
          "base_uri": "https://localhost:8080/"
        },
        "id": "90eGBTlHliCK",
        "outputId": "5338898f-6f74-4c82-a357-1292e9238ca7"
      },
      "source": [
        "%cd /content"
      ],
      "execution_count": null,
      "outputs": [
        {
          "output_type": "stream",
          "text": [
            "/content\n"
          ],
          "name": "stdout"
        }
      ]
    },
    {
      "cell_type": "code",
      "metadata": {
        "id": "vS5tojM1ljjc"
      },
      "source": [
        "! mkdir prepared_data\n",
        "! mkdir preds"
      ],
      "execution_count": null,
      "outputs": []
    },
    {
      "cell_type": "markdown",
      "metadata": {
        "id": "uHCPFmPDl7oF"
      },
      "source": [
        "## Translation to English\n",
        "\n",
        "We have to translate data to English to test the english models and also the model trained on english source and russian target sentences"
      ]
    },
    {
      "cell_type": "code",
      "metadata": {
        "id": "qt5w19wZllFz"
      },
      "source": [
        "data_test = data_test[['Unnamed: 0', 'INPUT:source','OUTPUT:output', 'trunctuation_bs', 'gpt_bs']]"
      ],
      "execution_count": null,
      "outputs": []
    },
    {
      "cell_type": "code",
      "metadata": {
        "id": "68VEX4ACmBin"
      },
      "source": [
        "# helper functions\n",
        "\n",
        "def batch_generator(\n",
        "        list_of_sentences,\n",
        "        size=64\n",
        "):\n",
        "    num_batch = len(list_of_sentences)//size\n",
        "    for index in range(num_batch):\n",
        "        yield list_of_sentences[index*size:(index+1)*size]\n",
        "    yield list_of_sentences[num_batch*size:]\n",
        "\n",
        "\n",
        "def translate_to_eng(model, tok, src, dst):\n",
        "\n",
        "  translations_src = []\n",
        "  for i in tqdm_notebook(batch_generator(src)):\n",
        "    l = tok(i, return_tensors=\"pt\", padding=True).to(device)\n",
        "    translated = model.generate(**l)\n",
        "    translations_src.extend([tok.decode(t, skip_special_tokens=True) for t in translated])\n",
        "\n",
        "  translations_dst = []\n",
        "  for i in tqdm_notebook(batch_generator(dst)):\n",
        "    l = tok(i, return_tensors=\"pt\", padding=True).to(device)\n",
        "    translated = model.generate(**l)\n",
        "    translations_dst.extend([tok.decode(t, skip_special_tokens=True) for t in translated])\n",
        "\n",
        "  return translations_src, translations_dst"
      ],
      "execution_count": null,
      "outputs": []
    },
    {
      "cell_type": "code",
      "metadata": {
        "id": "aRc0m1mKmB6q"
      },
      "source": [
        "# import en-ru model from transformers\n",
        "model_name = 'Helsinki-NLP/opus-mt-ru-en'\n",
        "tokenizer = MarianTokenizer.from_pretrained(model_name)\n",
        "model = MarianMTModel.from_pretrained(model_name)\n",
        "device = torch.device('cuda' if torch.cuda.is_available() else 'cpu')\n",
        "device\n",
        "model.to(device)\n",
        "\n",
        "data_test['INPUT:source'] = data_test['INPUT:source'].astype(str)\n",
        "data_test['OUTPUT:output'] = data_test['OUTPUT:output'].astype(str)"
      ],
      "execution_count": null,
      "outputs": []
    },
    {
      "cell_type": "code",
      "metadata": {
        "id": "f9o1MfThmOvd"
      },
      "source": [
        "# test--------------------------------------------------\n",
        "src, dst = translate_to_eng(model, tokenizer, list(data_test['INPUT:source'].values), list(data_test['OUTPUT:output'].values))\n",
        "for i, obj  in enumerate(src):\n",
        "  src[i] = src[i].replace('&gt;', '')\n",
        "  #src[i] = re.sub(r'[&gt;{1,}]', \" \", src[i])\n",
        "  src[i] = src[i].replace('&lt;', '')\n",
        "  src[i] = src[i].replace('()', '')\n",
        "  src[i] = src[i].replace('&quot;', '') \n",
        "  src[i] = src[i].replace('&apos;', '')\n",
        "for i, obj in enumerate(dst):\n",
        "  dst[i] = dst[i].replace('&gt;', '')\n",
        "  dst[i] = dst[i].replace('&lt;', '')\n",
        "  dst[i] = dst[i].replace('()', '')\n",
        "  dst[i] = dst[i].replace('&quot;', '')\n",
        "  dst[i] = dst[i].replace('&apos;', '')\n",
        "data_test['src'] = src\n",
        "data_test['dst'] = dst\n",
        "data_test.to_csv('/content/drive/MyDrive/MT_sentence_simpl/wiki_test_dev_eng.csv', sep='\\t')"
      ],
      "execution_count": null,
      "outputs": []
    },
    {
      "cell_type": "code",
      "metadata": {
        "colab": {
          "base_uri": "https://localhost:8080/",
          "height": 1000
        },
        "id": "NnAzBUK-wmS8",
        "outputId": "6ef2a182-56dc-45a7-b657-3461075e8659"
      },
      "source": [
        "data_test.sample(5)"
      ],
      "execution_count": null,
      "outputs": [
        {
          "output_type": "execute_result",
          "data": {
            "text/html": [
              "<div>\n",
              "<style scoped>\n",
              "    .dataframe tbody tr th:only-of-type {\n",
              "        vertical-align: middle;\n",
              "    }\n",
              "\n",
              "    .dataframe tbody tr th {\n",
              "        vertical-align: top;\n",
              "    }\n",
              "\n",
              "    .dataframe thead th {\n",
              "        text-align: right;\n",
              "    }\n",
              "</style>\n",
              "<table border=\"1\" class=\"dataframe\">\n",
              "  <thead>\n",
              "    <tr style=\"text-align: right;\">\n",
              "      <th></th>\n",
              "      <th>Unnamed: 0</th>\n",
              "      <th>INPUT:source</th>\n",
              "      <th>OUTPUT:output</th>\n",
              "      <th>trunctuation_bs</th>\n",
              "      <th>gpt_bs</th>\n",
              "      <th>src</th>\n",
              "      <th>dst</th>\n",
              "    </tr>\n",
              "  </thead>\n",
              "  <tbody>\n",
              "    <tr>\n",
              "      <th>1021</th>\n",
              "      <td>3120</td>\n",
              "      <td>Если нельзя установить, какая фигура была тронута первой, считается, что это фигура игрока, за которым очередь хода, а не его партнёра.</td>\n",
              "      <td>Если неизвестно, какая фигура была тронута первой, считается, что это фигура того игрока, которой должен ходить.</td>\n",
              "      <td>Если нельзя установить, какая фигура была тронута первой, считается, что это фигура.</td>\n",
              "      <td>Если нельзя установить, какая фигура была тронута первой, считается, что это фигура «неправильная».</td>\n",
              "      <td>If it is not possible to determine which figure was touched by the first one, it is believed to be the figure of the player behind whom the turn of the move is not his partner.</td>\n",
              "      <td>If it is not known which figure was touched by the first one, it is believed to be the figure of the player that should walk.</td>\n",
              "    </tr>\n",
              "    <tr>\n",
              "      <th>2001</th>\n",
              "      <td>5984</td>\n",
              "      <td>Оставленный в Кинбурне гарнизон не успел до холодов восстановить сгоревшие в результате бомбардировки казармы, поэтому жил в землянках.</td>\n",
              "      <td>Гарнизон Кинбурга не смог до наступления зимы отстроить сгоревшие после бомбардировки казармы. Поэтому солдатам пришлось разместится в вырытых землянках.</td>\n",
              "      <td>Оставленный в Кинбурне гарнизон не успел до холодов восстановить сгоревшие.</td>\n",
              "      <td>Оставленный в Кинбурне гарнизон не успел до холодов восстановить сгоревшие постройки и деревни, а также несколько других деревень.</td>\n",
              "      <td>The garrison left in Kinbourne was not able to recover the burning of the barracks, so it lived in the ground.</td>\n",
              "      <td>The Kinburg Garnizon was unable until winter to rebuild the burning barracks after the bombing, so the soldiers had to sit in dug-out strawberries.</td>\n",
              "    </tr>\n",
              "    <tr>\n",
              "      <th>602</th>\n",
              "      <td>1873</td>\n",
              "      <td>Вариант интерпретатора с синхронизацией доступа к отдельным объектам вместо глобальной блокировки из-за частых захватов/освобождений блокировок оказался слишком медленным.</td>\n",
              "      <td>Вариант доступа к отдельным объектам оказался слишком медленным</td>\n",
              "      <td>Вариант интерпретатора с синхронизацией доступа к отдельным объектам вместо глобальной.</td>\n",
              "      <td>Вариант интерпретатора с синхронизацией доступа к отдельным объектам вместо глобальной блокировки в сети позволяет получить доступ только из одной области, например.</td>\n",
              "      <td>The interpretation option of synchronizing access to individual objects instead of global blockage due to frequent captures/releases of blocks has been too slow.</td>\n",
              "      <td>The option of access to individual facilities proved to be too slow</td>\n",
              "    </tr>\n",
              "    <tr>\n",
              "      <th>19</th>\n",
              "      <td>71</td>\n",
              "      <td>А по размаху политических репрессий против инакомыслящих хрущёвский режим стоит несоизмеримо ближе к Сталину, чем брежневский.</td>\n",
              "      <td>Политический режим Хрущёва больше похож на  режим Сталина, чем режим Брежнева.</td>\n",
              "      <td>А по размаху политических репрессий против инакомыслящих хрущёвский режим.</td>\n",
              "      <td>А по размаху политических репрессий против инакомыслящих хрущёвский СССР был третьим советским государством, состоявшим из пяти округов.</td>\n",
              "      <td>And by the scale of the political repression against the dissenting Kraushkov regime is disproportionately closer to Stalin than the Brezhnevian regime.</td>\n",
              "      <td>Chrushchev's political regime is more like Stalin's regime than Brezhnev's.</td>\n",
              "    </tr>\n",
              "    <tr>\n",
              "      <th>2581</th>\n",
              "      <td>7658</td>\n",
              "      <td>Различные же теории заговоров создают атмосферу страха, слухи и предрассудки, подобные теории осуждаются научным сообществом.</td>\n",
              "      <td>Найчное сообщества и рассуждения о теориях и их влияния на разум .</td>\n",
              "      <td>Различные же теории заговоров создают атмосферу страха, слухи и.</td>\n",
              "      <td>Различные же теории заговоров создают атмосферу страха, слухи и предрассудки, подобные тому что говорят.</td>\n",
              "      <td>Various conspiracy theories, however, create an atmosphere of fear, rumours and prejudice, such theories being condemned by the scientific community.</td>\n",
              "      <td>Scientific communities and discourse about theories and their influence on the mind.</td>\n",
              "    </tr>\n",
              "  </tbody>\n",
              "</table>\n",
              "</div>"
            ],
            "text/plain": [
              "      Unnamed: 0                                                                                                                                                                 INPUT:source                                                                                                                                              OUTPUT:output                                                                          trunctuation_bs                                                                                                                                                                 gpt_bs                                                                                                                                                                               src                                                                                                                                                  dst\n",
              "1021        3120                                      Если нельзя установить, какая фигура была тронута первой, считается, что это фигура игрока, за которым очередь хода, а не его партнёра.                                           Если неизвестно, какая фигура была тронута первой, считается, что это фигура того игрока, которой должен ходить.     Если нельзя установить, какая фигура была тронута первой, считается, что это фигура.                                                                    Если нельзя установить, какая фигура была тронута первой, считается, что это фигура «неправильная».  If it is not possible to determine which figure was touched by the first one, it is believed to be the figure of the player behind whom the turn of the move is not his partner.                        If it is not known which figure was touched by the first one, it is believed to be the figure of the player that should walk.\n",
              "2001        5984                                      Оставленный в Кинбурне гарнизон не успел до холодов восстановить сгоревшие в результате бомбардировки казармы, поэтому жил в землянках.  Гарнизон Кинбурга не смог до наступления зимы отстроить сгоревшие после бомбардировки казармы. Поэтому солдатам пришлось разместится в вырытых землянках.              Оставленный в Кинбурне гарнизон не успел до холодов восстановить сгоревшие.                                     Оставленный в Кинбурне гарнизон не успел до холодов восстановить сгоревшие постройки и деревни, а также несколько других деревень.                                                                    The garrison left in Kinbourne was not able to recover the burning of the barracks, so it lived in the ground.  The Kinburg Garnizon was unable until winter to rebuild the burning barracks after the bombing, so the soldiers had to sit in dug-out strawberries.\n",
              "602         1873  Вариант интерпретатора с синхронизацией доступа к отдельным объектам вместо глобальной блокировки из-за частых захватов/освобождений блокировок оказался слишком медленным.                                                                                            Вариант доступа к отдельным объектам оказался слишком медленным  Вариант интерпретатора с синхронизацией доступа к отдельным объектам вместо глобальной.  Вариант интерпретатора с синхронизацией доступа к отдельным объектам вместо глобальной блокировки в сети позволяет получить доступ только из одной области, например.                 The interpretation option of synchronizing access to individual objects instead of global blockage due to frequent captures/releases of blocks has been too slow.                                                                                  The option of access to individual facilities proved to be too slow\n",
              "19            71                                               А по размаху политических репрессий против инакомыслящих хрущёвский режим стоит несоизмеримо ближе к Сталину, чем брежневский.                                                                             Политический режим Хрущёва больше похож на  режим Сталина, чем режим Брежнева.               А по размаху политических репрессий против инакомыслящих хрущёвский режим.                               А по размаху политических репрессий против инакомыслящих хрущёвский СССР был третьим советским государством, состоявшим из пяти округов.                          And by the scale of the political repression against the dissenting Kraushkov regime is disproportionately closer to Stalin than the Brezhnevian regime.                                                                          Chrushchev's political regime is more like Stalin's regime than Brezhnev's.\n",
              "2581        7658                                                Различные же теории заговоров создают атмосферу страха, слухи и предрассудки, подобные теории осуждаются научным сообществом.                                                                                         Найчное сообщества и рассуждения о теориях и их влияния на разум .                         Различные же теории заговоров создают атмосферу страха, слухи и.                                                               Различные же теории заговоров создают атмосферу страха, слухи и предрассудки, подобные тому что говорят.                             Various conspiracy theories, however, create an atmosphere of fear, rumours and prejudice, such theories being condemned by the scientific community.                                                                 Scientific communities and discourse about theories and their influence on the mind."
            ]
          },
          "metadata": {
            "tags": []
          },
          "execution_count": 13
        }
      ]
    },
    {
      "cell_type": "code",
      "metadata": {
        "id": "LplwzjD2wmmo"
      },
      "source": [
        "# data_test = pd.read_csv('/content/drive/MyDrive/MT_sentence_simpl/wiki_test_dev_eng.csv', sep='\\t')"
      ],
      "execution_count": null,
      "outputs": []
    },
    {
      "cell_type": "markdown",
      "metadata": {
        "id": "VF-f6CALwpye"
      },
      "source": [
        "## Inference stage"
      ]
    },
    {
      "cell_type": "markdown",
      "metadata": {
        "id": "LGyKAOR7xScY"
      },
      "source": [
        "All the models will be evaluated according to the following aspects:\n",
        "\n",
        "* SARI\n",
        "* BLEU\n",
        "* FKGL\n",
        "* Grammar aspect"
      ]
    },
    {
      "cell_type": "markdown",
      "metadata": {
        "id": "qokPFlIHxY6m"
      },
      "source": [
        "All the predictions were saved in advance. If there is a need to make a new prediction, mBART model can be loaded but it requires much RAM:(\n",
        "   Also, it is necessary to make the following change in /content/fairseq/fairseq/tasks/translation_from_pretrained_bart.py:\n",
        "\n",
        "```\n",
        "def __init__(self, args, src_dict, tgt_dict):\n",
        "        super().__init__(args, src_dict, tgt_dict)\n",
        "        self.args = args                  # add this line !!!!!\n",
        "        self.langs = args.langs.split(\",\")\n",
        "        for d in [src_dict, tgt_dict]:\n",
        "            for l in self.langs:\n",
        "```\n"
      ]
    },
    {
      "cell_type": "code",
      "metadata": {
        "id": "sCwlPD3Yo5BP"
      },
      "source": [
        "! mkdir /content/fairseq/data"
      ],
      "execution_count": null,
      "outputs": []
    },
    {
      "cell_type": "code",
      "metadata": {
        "id": "EJe0CkGuoyTR"
      },
      "source": [
        "### process WikiLarge but with Russian test\n",
        "with open('/content/fairseq/data/test.src', \"a\") as f:\n",
        "  for i, row in data_test.iterrows():\n",
        "    f.write(row['INPUT:source']+'\\n')\n",
        "\n",
        "with open('/content/fairseq/data/train.src', \"a\") as f:\n",
        "  for i, row in data_train.iterrows():\n",
        "    f.write(row['src']+'\\n')\n",
        "\n",
        "with open('/content/fairseq/data/dev.src', \"a\") as f:\n",
        "  for i, row in data_dev.iterrows():\n",
        "    f.write(row['src']+'\\n')\n",
        "\n",
        "with open('/content/fairseq/data/test.dst', \"a\") as f:\n",
        "  for i, row in data_test.iterrows():\n",
        "    f.write(row['OUTPUT:output']+'\\n')\n",
        "\n",
        "with open('/content/fairseq/data/train.dst', \"a\") as f:\n",
        "  for i, row in data_train.iterrows():\n",
        "    f.write(row['dst']+'\\n')\n",
        "\n",
        "with open('/content/fairseq/data/dev.dst', \"a\") as f:\n",
        "  for i, row in data_dev.iterrows():\n",
        "    f.write(row['dst']+'\\n')\n"
      ],
      "execution_count": null,
      "outputs": []
    },
    {
      "cell_type": "code",
      "metadata": {
        "id": "sTyID7JKa3d9"
      },
      "source": [
        "#### process translated WikiLarge + russian dev set as test\n",
        "with open('/content/fairseq/data/test.src', \"a\") as f:\n",
        "  for i, row in data_test.iterrows():\n",
        "    f.write(row['INPUT:source']+'\\n')\n",
        "\n",
        "with open('/content/fairseq/data/train.src', \"a\") as f:\n",
        "  for i, row in data_train.iterrows():\n",
        "    f.write(row['target_x']+'\\n')\n",
        "\n",
        "with open('/content/fairseq/data/dev.src', \"a\") as f:\n",
        "  for i, row in data_dev.iterrows():\n",
        "    f.write(row['target_x']+'\\n')\n",
        "\n",
        "with open('/content/fairseq/data/test.dst', \"a\") as f:\n",
        "  for i, row in data_test.iterrows():\n",
        "    f.write(row['OUTPUT:output']+'\\n')\n",
        "\n",
        "with open('/content/fairseq/data/train.dst', \"a\") as f:\n",
        "  for i, row in data_train.iterrows():\n",
        "    f.write(row['target_y']+'\\n')\n",
        "\n",
        "with open('/content/fairseq/data/dev.dst', \"a\") as f:\n",
        "  for i, row in data_dev.iterrows():\n",
        "    f.write(row['target_y']+'\\n')"
      ],
      "execution_count": null,
      "outputs": []
    },
    {
      "cell_type": "code",
      "metadata": {
        "id": "0ymERo9Loyec"
      },
      "source": [
        "SPM=\"/content/sentencepiece/build/src/spm_encode\"\n",
        "BPE_MODEL=\"/content/mbart.cc25.v2/sentence.bpe.model\"\n",
        "DATA_DIR=\"/content/fairseq/data\"\n",
        "SRC=\"src\"\n",
        "TGT=\"dst\" #en\n",
        "\n",
        "!$SPM --model=$BPE_MODEL < $DATA_DIR/train.$SRC > $DATA_DIR/train.spm.$SRC &\n",
        "!$SPM --model=$BPE_MODEL < $DATA_DIR/train.$TGT > $DATA_DIR/train.spm.$TGT &\n",
        "!$SPM --model=$BPE_MODEL < $DATA_DIR/dev.$SRC > $DATA_DIR/dev.spm.$SRC &\n",
        "!$SPM --model=$BPE_MODEL < $DATA_DIR/dev.$TGT > $DATA_DIR/dev.spm.$TGT &\n",
        "!$SPM --model=$BPE_MODEL < $DATA_DIR/test.$SRC > $DATA_DIR/test.spm.$SRC &\n",
        "!$SPM --model=$BPE_MODEL < $DATA_DIR/test.$TGT > $DATA_DIR/test.spm.$TGT &"
      ],
      "execution_count": null,
      "outputs": []
    },
    {
      "cell_type": "code",
      "metadata": {
        "colab": {
          "base_uri": "https://localhost:8080/"
        },
        "id": "PLQOSMnto-nA",
        "outputId": "f0349b20-2938-45b5-e293-1eac890a876e"
      },
      "source": [
        "\n",
        "PREPROCESSED_DATA_DIR=\"/content/fairseq/data\"\n",
        "DICT=\"/content/mbart.cc25.v2/dict.txt\"\n",
        "!fairseq-preprocess \\\n",
        "  --source-lang src \\\n",
        "  --target-lang dst \\\n",
        "  --trainpref /content/fairseq/data/train.spm \\\n",
        "  --validpref /content/fairseq/data/dev.spm \\\n",
        "  --testpref /content/fairseq/data/test.spm \\\n",
        "  --destdir /content/fairseq/data \\\n",
        "  --thresholdtgt 0 \\\n",
        "  --thresholdsrc 0 \\\n",
        "  --srcdict /content/mbart.cc25.v2/dict.txt \\\n",
        "  --tgtdict /content/mbart.cc25.v2/dict.txt \\\n",
        "  --workers 70"
      ],
      "execution_count": null,
      "outputs": [
        {
          "output_type": "stream",
          "text": [
            "2021-05-01 00:55:26 | INFO | fairseq_cli.preprocess | Namespace(align_suffix=None, alignfile=None, all_gather_list_size=16384, azureml_logging=False, bf16=False, bpe=None, cpu=False, criterion='cross_entropy', dataset_impl='mmap', destdir='/content/fairseq/data', empty_cache_freq=0, fp16=False, fp16_init_scale=128, fp16_no_flatten_grads=False, fp16_scale_tolerance=0.0, fp16_scale_window=None, joined_dictionary=False, log_file=None, log_format=None, log_interval=100, lr_scheduler='fixed', memory_efficient_bf16=False, memory_efficient_fp16=False, min_loss_scale=0.0001, model_parallel_size=1, no_progress_bar=False, nwordssrc=-1, nwordstgt=-1, only_source=False, optimizer=None, padding_factor=8, plasma_path='/tmp/plasma', profile=False, quantization_config_path=None, reset_logging=False, scoring='bleu', seed=1, source_lang='src', srcdict='/content/mbart.cc25.v2/dict.txt', suppress_crashes=False, target_lang='dst', task='translation', tensorboard_logdir=None, testpref='/content/fairseq/data/test.spm', tgtdict='/content/mbart.cc25.v2/dict.txt', threshold_loss_scale=None, thresholdsrc=0, thresholdtgt=0, tokenizer=None, tpu=False, trainpref='/content/fairseq/data/train.spm', use_plasma_view=False, user_dir=None, validpref='/content/fairseq/data/dev.spm', wandb_project=None, workers=70)\n",
            "2021-05-01 00:55:28 | INFO | fairseq_cli.preprocess | [src] Dictionary: 250001 types\n",
            "2021-05-01 00:55:59 | INFO | fairseq_cli.preprocess | [src] /content/fairseq/data/train.spm.src: 246978 sents, 9546901 tokens, 0.0% replaced by <unk>\n",
            "2021-05-01 00:55:59 | INFO | fairseq_cli.preprocess | [src] Dictionary: 250001 types\n",
            "2021-05-01 00:56:08 | INFO | fairseq_cli.preprocess | [src] /content/fairseq/data/dev.spm.src: 768 sents, 29739 tokens, 0.0% replaced by <unk>\n",
            "2021-05-01 00:56:08 | INFO | fairseq_cli.preprocess | [src] Dictionary: 250001 types\n",
            "2021-05-01 00:56:17 | INFO | fairseq_cli.preprocess | [src] /content/fairseq/data/test.spm.src: 3406 sents, 118537 tokens, 0.0% replaced by <unk>\n",
            "2021-05-01 00:56:17 | INFO | fairseq_cli.preprocess | [dst] Dictionary: 250001 types\n",
            "2021-05-01 00:56:44 | INFO | fairseq_cli.preprocess | [dst] /content/fairseq/data/train.spm.dst: 246978 sents, 7464137 tokens, 0.0% replaced by <unk>\n",
            "2021-05-01 00:56:44 | INFO | fairseq_cli.preprocess | [dst] Dictionary: 250001 types\n",
            "2021-05-01 00:56:53 | INFO | fairseq_cli.preprocess | [dst] /content/fairseq/data/dev.spm.dst: 768 sents, 23598 tokens, 0.0% replaced by <unk>\n",
            "2021-05-01 00:56:53 | INFO | fairseq_cli.preprocess | [dst] Dictionary: 250001 types\n",
            "2021-05-01 00:57:02 | INFO | fairseq_cli.preprocess | [dst] /content/fairseq/data/test.spm.dst: 3406 sents, 82186 tokens, 0.0% replaced by <unk>\n",
            "2021-05-01 00:57:02 | INFO | fairseq_cli.preprocess | Wrote preprocessed data to /content/fairseq/data\n"
          ],
          "name": "stdout"
        }
      ]
    },
    {
      "cell_type": "code",
      "metadata": {
        "id": "t7YFqNRqpLYe"
      },
      "source": [
        "! pip install sentencepiece"
      ],
      "execution_count": null,
      "outputs": []
    },
    {
      "cell_type": "code",
      "metadata": {
        "colab": {
          "base_uri": "https://localhost:8080/"
        },
        "id": "HvilCEropV-N",
        "outputId": "bb159788-bb20-4045-cb45-5c0cac32f9cb"
      },
      "source": [
        "!fairseq-generate /content/fairseq/data \\\n",
        "  --path  /content/drive/MyDrive/checkpoints_ru_ru_par22/checkpoint_best.pt \\\n",
        "  --task translation_from_pretrained_bart \\\n",
        "  --gen-subset test \\\n",
        "  --source-lang src --target-lang dst \\\n",
        "  --bpe 'sentencepiece' --sentencepiece-model /content/mbart.cc25.v2/sentence.bpe.model \\\n",
        "  --sacrebleu --remove-bpe 'sentencepiece' \\\n",
        "  --batch-size 32 --langs ar_AR,cs_CZ,de_DE,en_XX,es_XX,et_EE,fi_FI,fr_XX,gu_IN,hi_IN,it_IT,ja_XX,kk_KZ,ko_KR,lt_LT,lv_LV,my_MM,ne_NP,nl_XX,ro_RO,ru_RU,si_LK,tr_TR,vi_VN,zh_CN > model_prediction.txt & \n",
        "!cat model_prediction.txt | grep -P \"^H\" |sort -V |cut -f 3- > model_prediction_ru_par22_filtered15.hyp\n"
      ],
      "execution_count": null,
      "outputs": [
        {
          "output_type": "stream",
          "text": [
            ""
          ],
          "name": "stdout"
        }
      ]
    },
    {
      "cell_type": "code",
      "metadata": {
        "id": "7oKXepjKbMW0"
      },
      "source": [
        "! cp /content/model_prediction_ru_par22_filtered15.hyp /content/drive/MyDrive/MT_sentence_simpl/predictions/model_prediction_ru22_par_filtered15.hyp"
      ],
      "execution_count": null,
      "outputs": []
    },
    {
      "cell_type": "code",
      "metadata": {
        "colab": {
          "base_uri": "https://localhost:8080/"
        },
        "id": "2TvcV7z_pna4",
        "outputId": "87e9fb00-6f61-4b7c-e88f-703251433f40"
      },
      "source": [
        "! python /content/sent_simplification/refs_to_easse_format.py \\\n",
        "--input_path /content/drive/MyDrive/MT_sentence_simpl/wiki_test_dev_eng.csv \\\n",
        "--output_dataset_name test_ref_data \\\n",
        "--src_column \"INPUT:source\" \\\n",
        "--trg_column \"OUTPUT:output\" \\\n",
        "--output_dir /content/prepared_data\n",
        "\n"
      ],
      "execution_count": null,
      "outputs": [
        {
          "output_type": "stream",
          "text": [
            "1000\n",
            "3406\n",
            "3406\n",
            "Overall number of references: 3406\n"
          ],
          "name": "stdout"
        }
      ]
    },
    {
      "cell_type": "code",
      "metadata": {
        "id": "9OZQwWJCps6W"
      },
      "source": [
        "with open('/content/drive/MyDrive/MT_sentence_simpl/predictions/model_prediction_ru22_par_filtered15.hyp', 'r') as f:\n",
        "  sentences = [i.strip() for i in f.readlines()]\n",
        "\n",
        "lt = list()\n",
        "st = set()\n",
        "for i in sentences:\n",
        "  if i not in st:\n",
        "    lt.append(i)\n",
        "    st.add(i)\n",
        "\n",
        "with open('/content/model_prediction_ru22_par_filtered15_test.hyp', 'w') as f:\n",
        "  for i in lt:\n",
        "    f.write(i+'.\\n')\n"
      ],
      "execution_count": null,
      "outputs": []
    },
    {
      "cell_type": "code",
      "metadata": {
        "colab": {
          "base_uri": "https://localhost:8080/"
        },
        "id": "MGvgksUQptRd",
        "outputId": "de20adc6-744e-4d5f-b7f1-33b2cee3f65d"
      },
      "source": [
        "! easse evaluate \\\n",
        "--test_set custom \\\n",
        "--metrics sari \\\n",
        "--refs_sents_paths /content/prepared_data/test_ref_data.ref.0,/content/prepared_data/test_ref_data.ref.1,/content/prepared_data/test_ref_data.ref.2,/content/prepared_data/test_ref_data.ref.3,/content/prepared_data/test_ref_data.ref.4 \\\n",
        "--orig_sents_path /content/prepared_data/test_ref_data.src \\\n",
        "--sys_sents_path /content/model_prediction_ru22_par_filtered15_test.hyp -q"
      ],
      "execution_count": null,
      "outputs": [
        {
          "output_type": "stream",
          "text": [
            "[nltk_data] Downloading package perluniprops to /root/nltk_data...\n",
            "[nltk_data]   Unzipping misc/perluniprops.zip.\n",
            "[nltk_data] Downloading package stopwords to /root/nltk_data...\n",
            "[nltk_data]   Unzipping corpora/stopwords.zip.\n",
            "{'sari': 34.738, 'quality_estimation': {'Compression ratio': 0.632, 'Sentence splits': 0.986, 'Levenshtein similarity': 0.721, 'Exact copies': 0.039, 'Additions proportion': 0.045, 'Deletions proportion': 0.418, 'Lexical complexity score': 10.734}}\n"
          ],
          "name": "stdout"
        }
      ]
    },
    {
      "cell_type": "markdown",
      "metadata": {
        "id": "JKBI2Hav1ODY"
      },
      "source": [
        "## Evaluation functions"
      ]
    },
    {
      "cell_type": "markdown",
      "metadata": {
        "id": "6TmIswqB2DGA"
      },
      "source": [
        "BLEU"
      ]
    },
    {
      "cell_type": "code",
      "metadata": {
        "id": "ajCGCNSs9atp"
      },
      "source": [
        "! pip install sacrebleu"
      ],
      "execution_count": null,
      "outputs": []
    },
    {
      "cell_type": "code",
      "metadata": {
        "id": "svhSqXFk1eel"
      },
      "source": [
        "# function retrieved from easse code\n",
        "import numpy as np\n",
        "from typing import List\n",
        "import sacrebleu\n",
        "import easse.utils.preprocessing as utils_prep\n",
        "from collections import OrderedDict\n",
        "\n",
        "\n",
        "def corpus_bleu(\n",
        "    sys_sents: List[str],\n",
        "    refs_sents: List[List[str]],\n",
        "    smooth_method: str = 'exp',\n",
        "    smooth_value: float = None,\n",
        "    force: bool = True,\n",
        "    lowercase: bool = False,\n",
        "    tokenizer: str = '13a',\n",
        "    use_effective_order: bool = False,\n",
        "):\n",
        "\n",
        "    sys_sents = [utils_prep.normalize(sent, lowercase, tokenizer) for sent in sys_sents]\n",
        "    refs_sents = [[utils_prep.normalize(sent, lowercase, tokenizer) for sent in ref_sents] for ref_sents in refs_sents]\n",
        "\n",
        "    return sacrebleu.corpus_bleu(\n",
        "        sys_sents,\n",
        "        refs_sents,\n",
        "        smooth_method,\n",
        "        smooth_value,\n",
        "        force,\n",
        "        lowercase=False,\n",
        "        tokenize='none',\n",
        "        use_effective_order=use_effective_order,\n",
        "    ).score\n",
        "\n",
        "\n",
        "def sentence_bleu(\n",
        "    sys_sent: str,\n",
        "    ref_sents: List[str],\n",
        "    smooth_method: str = 'floor',\n",
        "    smooth_value: float = None,\n",
        "    lowercase: bool = False,\n",
        "    tokenizer: str = '13a',\n",
        "    use_effective_order: bool = True,\n",
        "):\n",
        "\n",
        "    return corpus_bleu(\n",
        "        [sys_sent],\n",
        "        [[ref] for ref in ref_sents],\n",
        "        smooth_method,\n",
        "        smooth_value,\n",
        "        force=True,\n",
        "        lowercase=lowercase,\n",
        "        tokenizer=tokenizer,\n",
        "        use_effective_order=use_effective_order,\n",
        "    )\n",
        "\n",
        "\n",
        "def corpus_averaged_sentence_bleu(\n",
        "    sys_sents: List[str],\n",
        "    refs_sents: List[List[str]],\n",
        "    smooth_method: str = 'floor',\n",
        "    smooth_value: float = None,\n",
        "    lowercase: bool = False,\n",
        "    tokenizer: str = '13a',\n",
        "    use_effective_order: bool = True,\n",
        "):\n",
        "\n",
        "    scores = []\n",
        "    for sys_sent, *ref_sents in zip(sys_sents, *refs_sents):\n",
        "        scores.append(\n",
        "            sentence_bleu(\n",
        "                sys_sent,\n",
        "                ref_sents,\n",
        "                smooth_method,\n",
        "                smooth_value,\n",
        "                lowercase=lowercase,\n",
        "                tokenizer=tokenizer,\n",
        "                use_effective_order=use_effective_order,\n",
        "            )\n",
        "        )\n",
        "    return np.mean(scores)\n"
      ],
      "execution_count": null,
      "outputs": []
    },
    {
      "cell_type": "markdown",
      "metadata": {
        "id": "FRvuOeLF4b6Z"
      },
      "source": [
        "### Flesch Kincaid Grade Level"
      ]
    },
    {
      "cell_type": "code",
      "metadata": {
        "id": "XKBEUJId4cVY"
      },
      "source": [
        "# https://github.com/infoculture/plainrussian\n",
        "#!/usr/bin/env python\n",
        "# -*- coding: utf-8 -*-\n",
        "\n",
        "from math import sqrt\n",
        "import csv\n",
        "\n",
        "\n",
        "from numpy import mean, arange\n",
        "\n",
        "\n",
        "# Russian sounds and characters\n",
        "RU_CONSONANTS_LOW = [u'к', u'п', u'с', u'т', u'ф', u'х', u'ц', u'ч', u'ш', u'щ']\n",
        "RU_CONSONANTS_HIGH = [u'б', u'в', u'г', u'д', u'ж', u'з']\n",
        "RU_CONSONANTS_SONOR = [u'л', u'м', u'н', u'р']\n",
        "RU_CONSONANTS_YET = [u'й']\n",
        "\n",
        "RU_CONSONANTS = RU_CONSONANTS_HIGH + RU_CONSONANTS_LOW + RU_CONSONANTS_SONOR + RU_CONSONANTS_YET\n",
        "RU_VOWELS = [u'а', u'е', u'и', u'у', u'о', u'я', u'ё', u'э', u'ю', u'я', u'ы']\n",
        "RU_MARKS = [u'ь', u'ъ']\n",
        "SENTENCE_SPLITTERS = [u'.', u'?', u'!']\n",
        "RU_LETTERS = RU_CONSONANTS + RU_MARKS + RU_VOWELS\n",
        "SPACES = [u' ', u'\\t']\n",
        "\n",
        "# List of prepared texts\n",
        "\n",
        "GRADE_TEXT = {\n",
        "    1: u'1 - 3-й класс (возраст примерно: 6-8 лет)',\n",
        "    2: u'1 - 3-й класс (возраст примерно: 6-8 лет)',\n",
        "    3: u'1 - 3-й класс (возраст примерно: 6-8 лет)',\n",
        "    4: u'4 - 6-й класс (возраст примерно: 9-11 лет)',\n",
        "    5: u'4 - 6-й класс (возраст примерно: 9-11 лет)',\n",
        "    6: u'4 - 6-й класс (возраст примерно: 9-11 лет)',\n",
        "    7: u'7 - 9-й класс (возраст примерно: 12-14 лет)',\n",
        "    8: u'7 - 9-й класс (возраст примерно: 12-14 лет)',\n",
        "    9: u'7 - 9-й класс (возраст примерно: 12-14 лет)',\n",
        "    10: u'10 - 11-й класс (возраст примерно: 15-16 лет)',\n",
        "    11: u'10 - 11-й класс (возраст примерно: 15-16 лет)',\n",
        "    12: u'1 - 3 курсы ВУЗа (возраст примерно: 17-19 лет)',\n",
        "    13: u'1 - 3 курсы ВУЗа (возраст примерно: 17-19 лет)',\n",
        "    14: u'1 - 3 курсы ВУЗа (возраст примерно: 17-19 лет)',\n",
        "    15: u'4 - 6 курсы ВУЗа (возраст примерно: 20-22 лет)',\n",
        "    16: u'4 - 6 курсы ВУЗа (возраст примерно: 20-22 лет)',\n",
        "    17: u'4 - 6 курсы ВУЗа (возраст примерно: 20-22 лет)',\n",
        "}\n",
        "\n",
        "POST_GRADE_TEXT_18_24 = u'Аспирантура, второе высшее образование, phD'\n",
        "\n",
        "\n",
        "def calc_SMOG(n_psyl, n_sent):\n",
        "    \"\"\"Метрика SMOG для английского языка\"\"\"\n",
        "    n = 1.0430 * sqrt((float(30.0) / n_sent) * n_psyl) + 3.1291\n",
        "    return n\n",
        "\n",
        "def calc_Gunning_fog(n_psyl, n_words, n_sent):\n",
        "    \"\"\"Метрика Gunning fog для английского языка\"\"\"\n",
        "    n = 0.4 * ((float(n_words)/ n_sent) + 100 * (float(n_psyl) / n_words))\n",
        "    return n\n",
        "\n",
        "def calc_Dale_Chale(n_psyl, n_words, n_sent):\n",
        "    \"\"\"Метрика Dale Chale для английского языка\"\"\"\n",
        "    n = 0.1579 * (100.0 * n_psyl / n_words) + 0.0496 * (float(n_words) / n_sent)\n",
        "    return n\n",
        "\n",
        "def calc_Flesh_Kincaid(n_syllabes, n_words, n_sent):\n",
        "    \"\"\"Метрика Flesh Kincaid для английского языка\"\"\"\n",
        "    n = 206.835 - 1.015 * (float(n_words) / n_sent) - 84.6 * (float(n_syllabes) / n_words)\n",
        "    return n\n",
        "\n",
        "\n",
        "def calc_Flesh_Kincaid_rus(n_syllabes, n_words, n_sent):\n",
        "    \"\"\"Метрика Flesh Kincaid для русского языка\"\"\"\n",
        "    n = 220.755 - 1.315 * (float(n_words) / n_sent) - 50.1 * (float(n_syllabes) / n_words)\n",
        "    return n\n",
        "\n",
        "\n",
        "# The variant of the FC formula for the Russian language is as follows:FK = (0.5 x average sentence length) +\n",
        "# (8.4 x average number of syllables in a word) - 15.59\n",
        "\n",
        "# def calc_Flesh_Kincaid_Grade_rus(n_syllabes, n_words, n_sent):\n",
        "#     \"\"\"Метрика Flesh Kincaid Grade для русского языка\"\"\"\n",
        "# #    n = 0.59 * (float(n_words) / n_sent) + 6.2 * (float(n_syllabes) / n_words) - 16.59\n",
        "#     n = 0.49 * (float(n_words) / n_sent) + 7.3 * (float(n_syllabes) / n_words) - 16.59\n",
        "#     return n\n",
        "\n",
        "def calc_Flesh_Kincaid_Grade_rus(n_syllabes, n_words, n_sent):\n",
        "    \"\"\"Метрика Flesh Kincaid Grade для русского языка\"\"\"\n",
        "#    n = 0.59 * (float(n_words) / n_sent) + 6.2 * (float(n_syllabes) / n_words) - 16.59\n",
        "    n = 0.5 * (float(n_words) / n_sent) + 8.4 * (float(n_syllabes) / n_words) - 15.59\n",
        "    return n\n",
        "\n",
        "\n",
        "\n",
        "def calc_Flesh_Kincaid_Grade_rus_adapted(n_syllabes, n_words, n_sent, X, Y, Z):\n",
        "    \"\"\"Метрика Flesh Kincaid Grade для русского языка с параметрами\"\"\"\n",
        "#    n = 0.59 * (float(n_words) / n_sent) + 6.2 * (float(n_syllabes) / n_words) - 16.59\n",
        "    if n_words == 0 or n_sent == 0: return 0\n",
        "    n = X * (float(n_words) / n_sent) + Y * (float(n_syllabes) / n_words) - Z\n",
        "    return n\n",
        "\n",
        "\n",
        "#X_GRADE = 0.186\n",
        "#Y_GRADE = 7.21\n",
        "#Z_GRADE = 15.443\n",
        "\n",
        "# Flesh Kinkaid Grade константы. Подробнее http://en.wikipedia.org/wiki/Flesch%E2%80%93Kincaid_readability_tests\n",
        "FLG_X_GRADE = 0.318\n",
        "FLG_Y_GRADE = 14.2\n",
        "FLG_Z_GRADE = 30.5\n",
        "\n",
        "def calc_Flesh_Kincaid_Grade_rus_flex(n_syllabes, n_words, n_sent):\n",
        "    \"\"\"Метрика Flesh Kincaid Grade для русского языка с константными параметрами\"\"\"\n",
        "    if n_words == 0 or n_sent == 0: return 0\n",
        "    n = FLG_X_GRADE * (float(n_words) / n_sent) + FLG_Y_GRADE * (float(n_syllabes) / n_words) - FLG_Z_GRADE\n",
        "    return n\n",
        "\n",
        "\n",
        "# Coleman Liau константы. Подробнее http://en.wikipedia.org/wiki/Coleman%E2%80%93Liau_index\n",
        "\n",
        "CLI_X_GRADE = 0.055\n",
        "CLI_Y_GRADE = 0.35\n",
        "CLI_Z_GRADE = 20.33\n",
        "\n",
        "\n",
        "def calc_Coleman_Liau_index_adapted(n_letters, n_words, n_sent, x, y, z):\n",
        "    \"\"\" Метрика Coleman Liau для русского языка с адаптированными параметрами \"\"\"\n",
        "    if n_words == 0: return 0\n",
        "    n = x * (n_letters * (100.0 / n_words)) - y * (n_sent * (100.0 / n_words)) - z\n",
        "    return n\n",
        "\n",
        "def calc_Coleman_Liau_index(n_letters, n_words, n_sent):\n",
        "    \"\"\" Метрика Coleman Liau для русского языка с константными параметрами \"\"\"\n",
        "    if n_words == 0: return 0\n",
        "    n = CLI_X_GRADE * (n_letters * (100.0 / n_words)) - CLI_Y_GRADE * (n_sent * (100.0 / n_words)) - CLI_Z_GRADE\n",
        "    return n\n",
        "\n",
        "\n",
        "# Константы SMOG Index http://en.wikipedia.org/wiki/SMOG\n",
        "SMOG_X_GRADE = 1.1\n",
        "SMOG_Y_GRADE = 64.6\n",
        "SMOG_Z_GRADE = 0.05\n",
        "\n",
        "def calc_SMOG_index(n_psyl, n_sent):\n",
        "    \"\"\"Метрика SMOG для русского языка с константными параментрами\"\"\"\n",
        "    n = SMOG_X_GRADE * sqrt((float(SMOG_Y_GRADE) / n_sent) * n_psyl) + SMOG_Z_GRADE\n",
        "    return n\n",
        "\n",
        "def calc_SMOG_index_adapted(n_psyl, n_sent, x, y, z):\n",
        "    \"\"\"Метрика SMOG для русского языка адаптированная с коэффициентами\"\"\"\n",
        "    n = x * sqrt((float(y) / n_sent) * n_psyl) + z\n",
        "    return n\n",
        "\n",
        "DC_X_GRADE = 0.552\n",
        "DC_Y_GRADE = 0.273\n",
        "\n",
        "def calc_Dale_Chale_index(n_psyl, n_words, n_sent):\n",
        "    \"\"\"Метрика Dale Chale для русского языка с константным параметрами\"\"\"\n",
        "    n = DC_X_GRADE * (100.0 * n_psyl / n_words) + DC_Y_GRADE * (float(n_words) / n_sent)\n",
        "    return n\n",
        "\n",
        "\n",
        "def calc_Dale_Chale_adapted(n_psyl, n_words, n_sent, x, y):\n",
        "    \"\"\"Метрика Dale Chale для русского языка с адаптированными параметрами\"\"\"\n",
        "    n = x * (100.0 * n_psyl / n_words) + y * (float(n_words) / n_sent)\n",
        "    return n\n",
        "\n",
        "ARI_X_GRADE = 6.26\n",
        "ARI_Y_GRADE = 0.2805\n",
        "ARI_Z_GRADE = 31.04\n",
        "\n",
        "\n",
        "def calc_ARI_index_adapted(n_letters, n_words, n_sent, x, y, z):\n",
        "    \"\"\" Метрика Automated Readability Index (ARI) для русского языка с адаптированными параметрами \"\"\"\n",
        "    if n_words == 0 or n_sent == 0: return 0\n",
        "    n = x * (float(n_letters) / n_words) + y * (float(n_words) / n_sent) - z\n",
        "    return n\n",
        "\n",
        "def calc_ARI_index(n_letters, n_words, n_sent):\n",
        "    \"\"\" Метрика Automated Readability Index (ARI) для русского языка с константными параметрами \"\"\"\n",
        "    if n_words == 0 or n_sent == 0: return 0\n",
        "    n = ARI_X_GRADE * (float(n_letters) / n_words) + ARI_Y_GRADE * (float(n_words) / n_sent) - ARI_Z_GRADE\n",
        "    return n\n",
        "\n",
        "\n",
        "def load_words(filename):\n",
        "    \"\"\"Load words from filename\"\"\"\n",
        "    words = []\n",
        "    f = open(filename, 'r')\n",
        "    for l in f:\n",
        "        words.append(l.strip().decode('utf8'))\n",
        "    f.close()\n",
        "    return words\n",
        "\n",
        "#FAM_WORDS = load_words('1norm50000.txt')\n",
        "\n",
        "bad_chars = '(){}<>\"\\'!?,.:;'\n",
        "\n",
        "\n",
        "def calc_text_metrics(filename, verbose=True):\n",
        "    \"\"\"Расчет метрик\"\"\"\n",
        "    f = open(filename, 'r')\n",
        "    text = f.read().decode('utf8')    \n",
        "    f.close()\n",
        "    return calc_readability_metrics(text, verbose)\n",
        "\n",
        "\n",
        "# Number of syllabes for long words\n",
        "COMPLEX_SYL_FACTOR = 4\n",
        "\n",
        "def calc_readability_metrics(text, verbose=True):\n",
        "    sentences = 0\n",
        "    chars = 0\n",
        "    spaces = 0\n",
        "    letters = 0\n",
        "    syllabes = 0\n",
        "    words = 0\n",
        "    complex_words = 0\n",
        "    simple_words = 0\n",
        "    wsyllabes = {}\n",
        "\n",
        "    wordStart = False\n",
        "    for l in text.splitlines():\n",
        "        chars += len(l)\n",
        "#        l = l.decode('utf8')\n",
        "        for ch in l:\n",
        "            if ch in SENTENCE_SPLITTERS:\n",
        "                sentences += 1\n",
        "            if ch in SPACES:\n",
        "                spaces += 1\n",
        "\n",
        "        for w in l.split():\n",
        "            has_syl = False\n",
        "            has_letter = False #ADDED\n",
        "            wsyl = 0\n",
        "#            if len(w) > 1: words += 1\n",
        "            for ch in w:\n",
        "                if ch in RU_LETTERS:\n",
        "                    letters += 1\n",
        "                    has_letter = True #ADDED\n",
        "                if ch in RU_VOWELS:\n",
        "                    syllabes += 1\n",
        "                    has_syl = True\n",
        "                    wsyl += 1\n",
        "            if wsyl > COMPLEX_SYL_FACTOR:\n",
        "                complex_words += 1\n",
        "            elif wsyl < COMPLEX_SYL_FACTOR+1 and wsyl > 0:\n",
        "                simple_words += 1\n",
        "            if has_syl or has_letter: #ADDED\n",
        "                words += 1\n",
        "            if has_syl:\n",
        "                # words += 1 #CHANGED\n",
        "                v = wsyllabes.get(str(wsyl), 0)\n",
        "                wsyllabes[str(wsyl)] = v + 1\n",
        "    metrics = {'c_share': float(complex_words) * 100 / words if words > 0 else 0,\n",
        "               'avg_slen' : float(words) / sentences if sentences > 0 else 0,\n",
        "               'avg_syl' : float(syllabes) / words if words > 0 else 0,\n",
        "               'n_syllabes': syllabes,\n",
        "               'n_words' : words,\n",
        "               'n_sentences': sentences,\n",
        "               'n_complex_words': complex_words,\n",
        "               'n_simple_words' : simple_words,\n",
        "               'chars': chars,\n",
        "               'letters' : letters,\n",
        "               'spaces' : spaces,\n",
        "               'index_fk_rus': calc_Flesh_Kincaid_Grade_rus_flex(syllabes, words, sentences),  #calc_Flesh_Kincaid_Grade_rus_flex\n",
        "               'index_cl_rus' : calc_Coleman_Liau_index(letters, words, sentences),\n",
        "               'index_dc_rus' : calc_Dale_Chale_index(complex_words, words, sentences),\n",
        "               'index_SMOG_rus' : calc_SMOG_index(complex_words, sentences),\n",
        "               'index_ari_rus' : calc_ARI_index(letters, words, sentences),\n",
        "#               'index_fk_rus': calc_Flesh_Kincaid_Grade_rus(syllabes, words, sentences),\n",
        "               'wsyllabes' : wsyllabes\n",
        "    }\n",
        "    del text\n",
        "    return metrics"
      ],
      "execution_count": null,
      "outputs": []
    },
    {
      "cell_type": "markdown",
      "metadata": {
        "id": "q6IOatRe5zt9"
      },
      "source": [
        "#### COSINE SIMILARITY"
      ]
    },
    {
      "cell_type": "code",
      "metadata": {
        "id": "BHh5Mvdt56Na"
      },
      "source": [
        "from sklearn.metrics.pairwise import cosine_similarity\n",
        "\n",
        "# shape should be [1, something (768, ex)]\n",
        "\n",
        "# import numpy as np\n",
        "# def cs(a, b):\n",
        "#   return (a @ b.T)/(np.linalg.norm(a)*np.linalg.norm(b))\n",
        "\n",
        "def calc_cos_sim(df, model,tok, x, y, column_name):\n",
        "    Cos_sim= []\n",
        "    for index, row in df.iterrows():\n",
        "        \n",
        "        # original\n",
        "          sentence_A = tok.encode(row[x], padding='max_length', max_length=50, truncation=True, return_tensors='pt')\n",
        "          sentence_A = sentence_A.to(device)\n",
        "          output = model(sentence_A)\n",
        "          sent_emb = output[-1][0]\n",
        "          emb_source = sent_emb.mean(axis=1)\n",
        "          emb_source = emb_source.cpu().detach().numpy()\n",
        "\n",
        "          sentence_B = tok.encode(row[y], padding='max_length', max_length=50, truncation=True, return_tensors='pt')\n",
        "          sentence_B = sentence_B.to(device)\n",
        "          output = model(sentence_B)\n",
        "          sent_emb = output[-1][0]\n",
        "          emb_target= sent_emb.mean(axis=1)\n",
        "          emb_target = emb_target.cpu().detach().numpy()\n",
        "\n",
        "          cos_val = cosine_similarity(emb_source.reshape(emb_source.shape[0], -1), emb_target.reshape(emb_target.shape[0], -1))[0][0]\n",
        "          Cos_sim.append(cos_val)\n",
        "    df[column_name] = Cos_sim"
      ],
      "execution_count": null,
      "outputs": []
    },
    {
      "cell_type": "markdown",
      "metadata": {
        "id": "yO3Jacw-CWIQ"
      },
      "source": [
        "GRAMMAR"
      ]
    },
    {
      "cell_type": "code",
      "metadata": {
        "id": "Cn3O0LoE5-fm"
      },
      "source": [
        "def get_mistakes_summary(df_test, x):\n",
        "    test = list(df_test[x].values)\n",
        "    matches = []\n",
        "    for i in test:\n",
        "      matches.extend(tool.check(i))\n",
        "\n",
        "    categories = set([i.category for i in matches])\n",
        "\n",
        "    categories = {i:0 for i in categories}\n",
        "\n",
        "    for i in matches:\n",
        "      categories[i.category]+=1\n",
        "\n",
        "    return categories"
      ],
      "execution_count": null,
      "outputs": []
    },
    {
      "cell_type": "markdown",
      "metadata": {
        "id": "VpwmTvYf-1rQ"
      },
      "source": [
        "Add necessary predictions to the dataframe"
      ]
    },
    {
      "cell_type": "code",
      "metadata": {
        "id": "i3S3DbW8-1GZ"
      },
      "source": [
        "with open(\"/content/drive/MyDrive/MT_sentence_simpl/predictions/model_prediction_en_en.hyp\", 'r') as f:\n",
        "  lines = [i.strip() for i in f.readlines()]\n",
        "data_test['en_en'] = lines\n",
        "\n",
        "with open(\"/content/drive/MyDrive/MT_sentence_simpl/predictions/model_prediction_en_ru.hyp\", 'r') as f:\n",
        "  lines = [i.strip() for i in f.readlines()]\n",
        "data_test['en_ru'] = lines\n",
        "\n",
        "with open(\"/content/drive/MyDrive/MT_sentence_simpl/predictions/model_prediction_ru_ru.hyp\", 'r') as f:\n",
        "  lines = [i.strip() for i in f.readlines()]\n",
        "data_test['ru_ru'] = lines\n",
        "\n",
        "with open(\"/content/drive/MyDrive/MT_sentence_simpl/predictions/model_prediction_en_ru_ru.hyp\", 'r') as f:\n",
        "  lines = [i.strip() for i in f.readlines()]\n",
        "data_test['en_ru_ru'] = lines\n",
        "\n",
        "\n",
        "# filtered data---------------------------\n",
        "with open(\"/content/drive/MyDrive/MT_sentence_simpl/predictions/model_prediction_en_en_filtered.hyp\", 'r') as f:\n",
        "  lines = [i.strip() for i in f.readlines()]\n",
        "data_test['en_en_filtered'] = lines\n",
        "\n",
        "with open(\"/content/drive/MyDrive/MT_sentence_simpl/predictions/model_prediction_ru_ru_filtered.hyp\", 'r') as f:\n",
        "  lines = [i.strip() for i in f.readlines()]\n",
        "data_test['ru_ru_filtered'] = lines\n",
        "\n",
        "with open(\"/content/drive/MyDrive/MT_sentence_simpl/predictions/model_prediction_en_ru_ru_filtered.hyp\", 'r') as f:\n",
        "  lines = [i.strip() for i in f.readlines()]\n",
        "data_test['en_ru_ru_filtered'] = lines\n",
        "\n",
        "with open(\"/content/drive/MyDrive/MT_sentence_simpl/predictions/model_prediction_paraphraser2.hyp\", 'r') as f:\n",
        "  lines = [i.strip()+'.' for i in f.readlines()]\n",
        "data_test['paraphraser'] = lines\n",
        "\n",
        "with open(\"/content/drive/MyDrive/MT_sentence_simpl/predictions/model_prediction_paraphraser_ru2_12epochs.hyp\", 'r') as f:\n",
        "  lines = [i.strip() for i in f.readlines()]\n",
        "data_test['paraphraser_ru'] = lines\n",
        "\n",
        "\n",
        "with open(\"/content/drive/MyDrive/MT_sentence_simpl/predictions/model_prediction_ru22_par_filtered15.hyp\", 'r') as f:\n",
        "  lines = [i.strip()+'.' for i in f.readlines()]\n",
        "data_test['ru_paraphraser'] = lines\n",
        "\n",
        "with open(\"/content/drive/MyDrive/MT_sentence_simpl/predictions/model_prediction__ru_ru_filtered15.hyp\", 'r') as f:\n",
        "  lines = [i.strip() for i in f.readlines()]\n",
        "data_test['ru_15'] = lines\n",
        "\n",
        "with open(\"/content/drive/MyDrive/MT_sentence_simpl/predictions/model_prediction_wiki_15_filtered_epochs.hyp\", 'r') as f:\n",
        "  lines = [i.strip() for i in f.readlines()]\n",
        "data_test['ru_+_paraphraser'] = lines\n",
        "\n",
        "with open(\"/content/drive/MyDrive/MT_sentence_simpl/predictions/model_prediction_con_tok_38sari.hyp\", 'r') as f:\n",
        "  lines = [i.strip() for i in f.readlines()]\n",
        "data_test['con_tok'] = lines"
      ],
      "execution_count": null,
      "outputs": []
    },
    {
      "cell_type": "code",
      "metadata": {
        "colab": {
          "base_uri": "https://localhost:8080/",
          "height": 1000
        },
        "id": "H-1vqWWOBibK",
        "outputId": "59f00bc4-abe3-447d-80f1-df32dfb484dd"
      },
      "source": [
        "data_test.head()"
      ],
      "execution_count": null,
      "outputs": [
        {
          "output_type": "execute_result",
          "data": {
            "text/html": [
              "<div>\n",
              "<style scoped>\n",
              "    .dataframe tbody tr th:only-of-type {\n",
              "        vertical-align: middle;\n",
              "    }\n",
              "\n",
              "    .dataframe tbody tr th {\n",
              "        vertical-align: top;\n",
              "    }\n",
              "\n",
              "    .dataframe thead th {\n",
              "        text-align: right;\n",
              "    }\n",
              "</style>\n",
              "<table border=\"1\" class=\"dataframe\">\n",
              "  <thead>\n",
              "    <tr style=\"text-align: right;\">\n",
              "      <th></th>\n",
              "      <th>Unnamed: 0</th>\n",
              "      <th>INPUT:source</th>\n",
              "      <th>OUTPUT:output</th>\n",
              "      <th>trunctuation_bs</th>\n",
              "      <th>gpt_bs</th>\n",
              "      <th>en_en</th>\n",
              "      <th>en_ru</th>\n",
              "      <th>ru_ru</th>\n",
              "      <th>en_ru_ru</th>\n",
              "      <th>ru_ru_filtered</th>\n",
              "      <th>en_ru_ru_filtered</th>\n",
              "      <th>paraphraser</th>\n",
              "      <th>paraphraser_ru</th>\n",
              "    </tr>\n",
              "  </thead>\n",
              "  <tbody>\n",
              "    <tr>\n",
              "      <th>0</th>\n",
              "      <td>3</td>\n",
              "      <td>14 декабря 1944 года рабочий посёлок Ички был переименован в рабочий посёлок Советский, после чего поселковый совет стал называться Советским.</td>\n",
              "      <td>14 декабря 1944 года рабочий посёлок Ички переименован в Советский.</td>\n",
              "      <td>14 декабря 1944 года рабочий посёлок Ички был переименован в рабочий посёлок.</td>\n",
              "      <td>14 декабря 1944 года рабочий посёлок Ички был переименован в рабочий посёлок Советский, который тогда назывался Рабоче-Крестьянской республикой.</td>\n",
              "      <td>On December 14 , 1944 , Ichka was renamed the Soviet worktown , after which the village council became the Soviet town .</td>\n",
              "      <td>14 декабря 1944 года рабочий город Ика был переименован в советский рабочий город, после чего деревня стала советским городом.</td>\n",
              "      <td>14 декабря 1944 года рабочий посёлок Ички был переименован в рабочий посёлок Советский, после чего поселковый совет стал называться Советским.</td>\n",
              "      <td>14 декабря 1944 года рабочий посёлок Ички был переименован в рабочий посёлок Советский, после чего поселковый совет стал называться Советским.</td>\n",
              "      <td>14 декабря 1944 года рабочий посёлок Ички был переименован в рабочий посёлок Советский.</td>\n",
              "      <td>14 декабря 1944 года рабочий посёлок Ички был переименован в рабочий посёлок Советский.</td>\n",
              "      <td>В Ичке рабочий посёлок переименован в рабочий посёлок Советский.</td>\n",
              "      <td>14 декабря 1944 года рабочий посёлок Ички был переименован в рабочий посёлок Советский.</td>\n",
              "    </tr>\n",
              "    <tr>\n",
              "      <th>1</th>\n",
              "      <td>4</td>\n",
              "      <td>1960 году была выпущена модель 172A. Изменения: хвостовое оперение и руль направления с обратной стреловидностью и крепления для поплавкового шасси.</td>\n",
              "      <td>В 1960 году вышла модель 172А. Отличие в хвостовом оперении, в руле направления и в креплении шасси</td>\n",
              "      <td>1960 году была выпущена модель 172A. Изменения: хвостовое оперение и руль направления.</td>\n",
              "      <td>1960 году была выпущена модель 172A. Изменения: хвостовое оперение было изменено на форму головы.</td>\n",
              "      <td>Model 172A was released in 1960 .</td>\n",
              "      <td>Модель 172A была выпущена в 1960 году.</td>\n",
              "      <td>1960 году была выпущена модель 172A. Изменения: хвостовое оперение и руль направления с обратной стреловидностью и крепления для поплавкового шасси.</td>\n",
              "      <td>1960 году была выпущена модель 172A. Изменения: хвостовое оперение и руль направления с обратной стреловидностью и крепления для поплавкового шасси.</td>\n",
              "      <td>Изменения: хвостовое оперение и руль направления с обратной стреловидностью.</td>\n",
              "      <td>Изменения: хвостовое оперение и руль направления с обратной стреловидностью.</td>\n",
              "      <td>Модель 172A была выпущена в 1960 году.</td>\n",
              "      <td>В 1960 году была выпущена модель 172A.</td>\n",
              "    </tr>\n",
              "    <tr>\n",
              "      <th>2</th>\n",
              "      <td>5</td>\n",
              "      <td>1960 году была выпущена модель 172A. Изменения: хвостовое оперение и руль направления с обратной стреловидностью и крепления для поплавкового шасси.</td>\n",
              "      <td>В выпущенной в 1960 году модель имела изменения в хвостовом оперении и руле направления</td>\n",
              "      <td>1960 году была выпущена модель 172A. Изменения: хвостовое оперение и руль направления.</td>\n",
              "      <td>1960 году была выпущена модель 172A. Изменения: хвостовое оперение, крылья и все другие детали сделали его менее приспособленным к жизни.</td>\n",
              "      <td>Model 172A was released in 1960 .</td>\n",
              "      <td>Модель 172A была выпущена в 1960 году.</td>\n",
              "      <td>1960 году была выпущена модель 172A. Изменения: хвостовое оперение и руль направления с обратной стреловидностью и крепления для поплавкового шасси.</td>\n",
              "      <td>1960 году была выпущена модель 172A. Изменения: хвостовое оперение и руль направления с обратной стреловидностью и крепления для поплавкового шасси.</td>\n",
              "      <td>Изменения: хвостовое оперение и руль направления с обратной стреловидностью.</td>\n",
              "      <td>Изменения: хвостовое оперение и руль направления с обратной стреловидностью.</td>\n",
              "      <td>Модель 172A была выпущена в 1960 году.</td>\n",
              "      <td>В 1960 году была выпущена модель 172A.</td>\n",
              "    </tr>\n",
              "    <tr>\n",
              "      <th>3</th>\n",
              "      <td>6</td>\n",
              "      <td>1960 году была выпущена модель 172A. Изменения: хвостовое оперение и руль направления с обратной стреловидностью и крепления для поплавкового шасси.</td>\n",
              "      <td>Изменения: в хвосте и руле направления с обратной стреловидностью и крепления для поплавкового шасси.</td>\n",
              "      <td>1960 году была выпущена модель 172A. Изменения: хвостовое оперение и руль направления.</td>\n",
              "      <td>1960 году была выпущена модель 172A. Изменения: хвостовое оперение было заменено на крылья с помощью нового поколения в 2009–2010 годах.</td>\n",
              "      <td>Model 172A was released in 1960 .</td>\n",
              "      <td>Модель 172A была выпущена в 1960 году.</td>\n",
              "      <td>1960 году была выпущена модель 172A. Изменения: хвостовое оперение и руль направления с обратной стреловидностью и крепления для поплавкового шасси.</td>\n",
              "      <td>1960 году была выпущена модель 172A. Изменения: хвостовое оперение и руль направления с обратной стреловидностью и крепления для поплавкового шасси.</td>\n",
              "      <td>Изменения: хвостовое оперение и руль направления с обратной стреловидностью.</td>\n",
              "      <td>Изменения: хвостовое оперение и руль направления с обратной стреловидностью.</td>\n",
              "      <td>Модель 172A была выпущена в 1960 году.</td>\n",
              "      <td>В 1960 году была выпущена модель 172A.</td>\n",
              "    </tr>\n",
              "    <tr>\n",
              "      <th>4</th>\n",
              "      <td>7</td>\n",
              "      <td>1960 году была выпущена модель 172A. Изменения: хвостовое оперение и руль направления с обратной стреловидностью и крепления для поплавкового шасси.</td>\n",
              "      <td>Модель 172А с другим хвостовым оперением,  креплениями для поплавкового шасси рулём направления с обратной стреловидностью появилась в 1960 году.</td>\n",
              "      <td>1960 году была выпущена модель 172A. Изменения: хвостовое оперение и руль направления.</td>\n",
              "      <td>1960 году была выпущена модель 172A. Изменения: хвостовое оперение и крылья для большей части команды были выполнены с использованием нового оборудования, которое включало в себя шасси T-MAX C</td>\n",
              "      <td>Model 172A was released in 1960 .</td>\n",
              "      <td>Модель 172A была выпущена в 1960 году.</td>\n",
              "      <td>1960 году была выпущена модель 172A. Изменения: хвостовое оперение и руль направления с обратной стреловидностью и крепления для поплавкового шасси.</td>\n",
              "      <td>1960 году была выпущена модель 172A. Изменения: хвостовое оперение и руль направления с обратной стреловидностью и крепления для поплавкового шасси.</td>\n",
              "      <td>Изменения: хвостовое оперение и руль направления с обратной стреловидностью.</td>\n",
              "      <td>Изменения: хвостовое оперение и руль направления с обратной стреловидностью.</td>\n",
              "      <td>Модель 172A была выпущена в 1960 году.</td>\n",
              "      <td>В 1960 году была выпущена модель 172A.</td>\n",
              "    </tr>\n",
              "  </tbody>\n",
              "</table>\n",
              "</div>"
            ],
            "text/plain": [
              "   Unnamed: 0                                                                                                                                           INPUT:source                                                                                                                                      OUTPUT:output                                                                         trunctuation_bs                                                                                                                                                                                            gpt_bs                                                                                                                     en_en                                                                                                                           en_ru                                                                                                                                                 ru_ru  \\\n",
              "0           3         14 декабря 1944 года рабочий посёлок Ички был переименован в рабочий посёлок Советский, после чего поселковый совет стал называться Советским.                                                                                14 декабря 1944 года рабочий посёлок Ички переименован в Советский.           14 декабря 1944 года рабочий посёлок Ички был переименован в рабочий посёлок.                                                  14 декабря 1944 года рабочий посёлок Ички был переименован в рабочий посёлок Советский, который тогда назывался Рабоче-Крестьянской республикой.  On December 14 , 1944 , Ichka was renamed the Soviet worktown , after which the village council became the Soviet town .  14 декабря 1944 года рабочий город Ика был переименован в советский рабочий город, после чего деревня стала советским городом.        14 декабря 1944 года рабочий посёлок Ички был переименован в рабочий посёлок Советский, после чего поселковый совет стал называться Советским.   \n",
              "1           4   1960 году была выпущена модель 172A. Изменения: хвостовое оперение и руль направления с обратной стреловидностью и крепления для поплавкового шасси.                                                В 1960 году вышла модель 172А. Отличие в хвостовом оперении, в руле направления и в креплении шасси  1960 году была выпущена модель 172A. Изменения: хвостовое оперение и руль направления.                                                                                                 1960 году была выпущена модель 172A. Изменения: хвостовое оперение было изменено на форму головы.                                                                                         Model 172A was released in 1960 .                                                                                          Модель 172A была выпущена в 1960 году.  1960 году была выпущена модель 172A. Изменения: хвостовое оперение и руль направления с обратной стреловидностью и крепления для поплавкового шасси.   \n",
              "2           5   1960 году была выпущена модель 172A. Изменения: хвостовое оперение и руль направления с обратной стреловидностью и крепления для поплавкового шасси.                                                            В выпущенной в 1960 году модель имела изменения в хвостовом оперении и руле направления  1960 году была выпущена модель 172A. Изменения: хвостовое оперение и руль направления.                                                         1960 году была выпущена модель 172A. Изменения: хвостовое оперение, крылья и все другие детали сделали его менее приспособленным к жизни.                                                                                         Model 172A was released in 1960 .                                                                                          Модель 172A была выпущена в 1960 году.  1960 году была выпущена модель 172A. Изменения: хвостовое оперение и руль направления с обратной стреловидностью и крепления для поплавкового шасси.   \n",
              "3           6   1960 году была выпущена модель 172A. Изменения: хвостовое оперение и руль направления с обратной стреловидностью и крепления для поплавкового шасси.                                              Изменения: в хвосте и руле направления с обратной стреловидностью и крепления для поплавкового шасси.  1960 году была выпущена модель 172A. Изменения: хвостовое оперение и руль направления.                                                          1960 году была выпущена модель 172A. Изменения: хвостовое оперение было заменено на крылья с помощью нового поколения в 2009–2010 годах.                                                                                         Model 172A was released in 1960 .                                                                                          Модель 172A была выпущена в 1960 году.  1960 году была выпущена модель 172A. Изменения: хвостовое оперение и руль направления с обратной стреловидностью и крепления для поплавкового шасси.   \n",
              "4           7   1960 году была выпущена модель 172A. Изменения: хвостовое оперение и руль направления с обратной стреловидностью и крепления для поплавкового шасси.  Модель 172А с другим хвостовым оперением,  креплениями для поплавкового шасси рулём направления с обратной стреловидностью появилась в 1960 году.  1960 году была выпущена модель 172A. Изменения: хвостовое оперение и руль направления.  1960 году была выпущена модель 172A. Изменения: хвостовое оперение и крылья для большей части команды были выполнены с использованием нового оборудования, которое включало в себя шасси T-MAX C                                                                                         Model 172A was released in 1960 .                                                                                          Модель 172A была выпущена в 1960 году.  1960 году была выпущена модель 172A. Изменения: хвостовое оперение и руль направления с обратной стреловидностью и крепления для поплавкового шасси.   \n",
              "\n",
              "                                                                                                                                               en_ru_ru                                                                           ru_ru_filtered                                                                        en_ru_ru_filtered                                                       paraphraser                                                                           paraphraser_ru  \n",
              "0        14 декабря 1944 года рабочий посёлок Ички был переименован в рабочий посёлок Советский, после чего поселковый совет стал называться Советским.  14 декабря 1944 года рабочий посёлок Ички был переименован в рабочий посёлок Советский.  14 декабря 1944 года рабочий посёлок Ички был переименован в рабочий посёлок Советский.  В Ичке рабочий посёлок переименован в рабочий посёлок Советский.  14 декабря 1944 года рабочий посёлок Ички был переименован в рабочий посёлок Советский.  \n",
              "1  1960 году была выпущена модель 172A. Изменения: хвостовое оперение и руль направления с обратной стреловидностью и крепления для поплавкового шасси.             Изменения: хвостовое оперение и руль направления с обратной стреловидностью.             Изменения: хвостовое оперение и руль направления с обратной стреловидностью.                            Модель 172A была выпущена в 1960 году.                                                   В 1960 году была выпущена модель 172A.  \n",
              "2  1960 году была выпущена модель 172A. Изменения: хвостовое оперение и руль направления с обратной стреловидностью и крепления для поплавкового шасси.             Изменения: хвостовое оперение и руль направления с обратной стреловидностью.             Изменения: хвостовое оперение и руль направления с обратной стреловидностью.                            Модель 172A была выпущена в 1960 году.                                                   В 1960 году была выпущена модель 172A.  \n",
              "3  1960 году была выпущена модель 172A. Изменения: хвостовое оперение и руль направления с обратной стреловидностью и крепления для поплавкового шасси.             Изменения: хвостовое оперение и руль направления с обратной стреловидностью.             Изменения: хвостовое оперение и руль направления с обратной стреловидностью.                            Модель 172A была выпущена в 1960 году.                                                   В 1960 году была выпущена модель 172A.  \n",
              "4  1960 году была выпущена модель 172A. Изменения: хвостовое оперение и руль направления с обратной стреловидностью и крепления для поплавкового шасси.             Изменения: хвостовое оперение и руль направления с обратной стреловидностью.             Изменения: хвостовое оперение и руль направления с обратной стреловидностью.                            Модель 172A была выпущена в 1960 году.                                                   В 1960 году была выпущена модель 172A.  "
            ]
          },
          "metadata": {
            "tags": []
          },
          "execution_count": 6
        }
      ]
    },
    {
      "cell_type": "markdown",
      "metadata": {
        "id": "FDQ2MXnC566j"
      },
      "source": [
        "## Evaluation of English model trained on data without filtering"
      ]
    },
    {
      "cell_type": "markdown",
      "metadata": {
        "id": "w8E-gmMO9ug-"
      },
      "source": [
        "### SARI"
      ]
    },
    {
      "cell_type": "code",
      "metadata": {
        "colab": {
          "base_uri": "https://localhost:8080/"
        },
        "id": "E4OyreeK9yPO",
        "outputId": "2d87d823-9825-4812-cb26-619e94ded273"
      },
      "source": [
        "! python /content/sent_simplification/refs_to_easse_format.py \\\n",
        "--input_path /content/drive/MyDrive/MT_sentence_simpl/wiki_test_dev_eng.csv \\\n",
        "--output_dataset_name test_ref_data \\\n",
        "--src_column \"src\" \\\n",
        "--trg_column \"dst\" \\\n",
        "--output_dir /content/prepared_data"
      ],
      "execution_count": null,
      "outputs": [
        {
          "output_type": "stream",
          "text": [
            "1000\n",
            "3406\n",
            "3401\n",
            "Overall number of references: 3401\n"
          ],
          "name": "stdout"
        }
      ]
    },
    {
      "cell_type": "code",
      "metadata": {
        "id": "QXA4rPCss785"
      },
      "source": [
        "with open('/content/drive/MyDrive/MT_sentence_simpl/predictions/model_prediction_en_en.hyp', 'r') as f:\n",
        "  sentences = [i.strip() for i in f.readlines()]\n",
        "\n",
        "lt = list()\n",
        "st = set()\n",
        "for i in sentences:\n",
        "  if i not in st:\n",
        "    lt.append(i)\n",
        "    st.add(i)\n",
        "\n",
        "with open('/content/model_prediction_en_en.hyp', 'w') as f:\n",
        "  for i in lt:\n",
        "    f.write(i+'\\n')"
      ],
      "execution_count": null,
      "outputs": []
    },
    {
      "cell_type": "code",
      "metadata": {
        "colab": {
          "base_uri": "https://localhost:8080/"
        },
        "id": "p4SFjMhrtLGL",
        "outputId": "fe99eaf9-7485-488f-a5ed-f1fcd7459a91"
      },
      "source": [
        "! easse evaluate \\\n",
        "--test_set custom \\\n",
        "--metrics sari \\\n",
        "--refs_sents_paths /content/prepared_data/test_ref_data.ref.0,/content/prepared_data/test_ref_data.ref.1,/content/prepared_data/test_ref_data.ref.2,/content/prepared_data/test_ref_data.ref.3,/content/prepared_data/test_ref_data.ref.4 \\\n",
        "--orig_sents_path /content/prepared_data/test_ref_data.src \\\n",
        "--sys_sents_path /content/model_prediction_en_en.hyp -q"
      ],
      "execution_count": null,
      "outputs": [
        {
          "output_type": "stream",
          "text": [
            "[nltk_data] Downloading package perluniprops to /root/nltk_data...\n",
            "[nltk_data]   Unzipping misc/perluniprops.zip.\n",
            "[nltk_data] Downloading package stopwords to /root/nltk_data...\n",
            "[nltk_data]   Unzipping corpora/stopwords.zip.\n",
            "{'sari': 21.231, 'quality_estimation': {'Compression ratio': 0.935, 'Sentence splits': 1.034, 'Levenshtein similarity': 0.957, 'Exact copies': 0.419, 'Additions proportion': 0.019, 'Deletions proportion': 0.084, 'Lexical complexity score': 8.294}}\n"
          ],
          "name": "stdout"
        }
      ]
    },
    {
      "cell_type": "markdown",
      "metadata": {
        "id": "vV_JauK0-RzI"
      },
      "source": [
        "### BLEU"
      ]
    },
    {
      "cell_type": "code",
      "metadata": {
        "colab": {
          "base_uri": "https://localhost:8080/"
        },
        "id": "3ZXq9FsrtYjO",
        "outputId": "8a8f442c-c9e7-401b-8c50-36731a0ae4eb"
      },
      "source": [
        "# make lists of src, dst\n",
        "src_column, trg_column = \"en_en\", \"dst\"\n",
        "data_dict = OrderedDict()\n",
        "for ind, row in data_test.iterrows():\n",
        "        source_sentence = row[src_column]\n",
        "        reference_sentence = row[trg_column]\n",
        "        if data_dict.get(source_sentence) is None:\n",
        "            data_dict[source_sentence] = []\n",
        "        data_dict[source_sentence].append(reference_sentence)\n",
        "max_num_reference_sentences = max([len(x) for x in data_dict.values()])\n",
        "\n",
        "src, dst = [i for i in data_dict.keys()], [i for i in data_dict.values()]\n",
        "for i, j in enumerate(src):\n",
        "   if len(dst[i]) < max_num_reference_sentences:\n",
        "    dst[i] = dst[i] + [dst[i][0]]*(max_num_reference_sentences - len(dst[i]))\n",
        "\n",
        "refs = []\n",
        "for j in range(len(dst[1])):\n",
        "  ref = []\n",
        "  for i in dst:\n",
        "    ref.append(i[j])\n",
        "  refs.append(ref)\n",
        "  \n",
        "corpus_bleu(src, refs)"
      ],
      "execution_count": null,
      "outputs": [
        {
          "output_type": "execute_result",
          "data": {
            "text/plain": [
              "41.05267985962619"
            ]
          },
          "metadata": {
            "tags": []
          },
          "execution_count": 32
        }
      ]
    },
    {
      "cell_type": "markdown",
      "metadata": {
        "id": "1y0BRcRoCRen"
      },
      "source": [
        "### Flesh-Kincaid Grade level"
      ]
    },
    {
      "cell_type": "code",
      "metadata": {
        "id": "B9QZ9wh7-VJd"
      },
      "source": [
        "textstat.set_lang('en')"
      ],
      "execution_count": null,
      "outputs": []
    },
    {
      "cell_type": "markdown",
      "metadata": {
        "id": "kReflW91CqWT"
      },
      "source": [
        "MEAN"
      ]
    },
    {
      "cell_type": "code",
      "metadata": {
        "colab": {
          "base_uri": "https://localhost:8080/"
        },
        "id": "UzI3n8miCoWL",
        "outputId": "47c2ddf2-9ef9-4d5f-b348-df0381262fff"
      },
      "source": [
        "a = data_test['src'].values\n",
        "en_en = sum(textstat.flesch_kincaid_grade(i) for i in a)/len(a)\n",
        "en_en"
      ],
      "execution_count": null,
      "outputs": [
        {
          "output_type": "execute_result",
          "data": {
            "text/plain": [
              "11.071814445096855"
            ]
          },
          "metadata": {
            "tags": []
          },
          "execution_count": 30
        }
      ]
    },
    {
      "cell_type": "code",
      "metadata": {
        "colab": {
          "base_uri": "https://localhost:8080/"
        },
        "id": "SNLdQjMnClkq",
        "outputId": "fba8682c-932e-4fb7-cecc-ea659cdbc1b4"
      },
      "source": [
        "a = data_test['en_en'].values\n",
        "en_en = sum(textstat.flesch_kincaid_grade(i) for i in a)/len(a)\n",
        "en_en"
      ],
      "execution_count": null,
      "outputs": [
        {
          "output_type": "execute_result",
          "data": {
            "text/plain": [
              "11.808367586611897"
            ]
          },
          "metadata": {
            "tags": []
          },
          "execution_count": 31
        }
      ]
    },
    {
      "cell_type": "markdown",
      "metadata": {
        "id": "4Qd1xcbzCwMM"
      },
      "source": [
        "WHOLE TEXT"
      ]
    },
    {
      "cell_type": "code",
      "metadata": {
        "colab": {
          "base_uri": "https://localhost:8080/"
        },
        "id": "LsS4kp6OCy2b",
        "outputId": "e5232f13-1bc3-4ea4-840c-116c01c3b9f0"
      },
      "source": [
        "a = ' '.join(list(data_test['src'].values))\n",
        "en_en = textstat.flesch_kincaid_grade(a)\n",
        "en_en"
      ],
      "execution_count": null,
      "outputs": [
        {
          "output_type": "execute_result",
          "data": {
            "text/plain": [
              "10.7"
            ]
          },
          "metadata": {
            "tags": []
          },
          "execution_count": 33
        }
      ]
    },
    {
      "cell_type": "code",
      "metadata": {
        "colab": {
          "base_uri": "https://localhost:8080/"
        },
        "id": "HNG1hIvnCy-G",
        "outputId": "1afb4c13-16df-4c22-9c05-656a2f905ac3"
      },
      "source": [
        "a = ' '.join(list(data_test['en_en'].values))\n",
        "en_en = textstat.flesch_kincaid_grade(a)\n",
        "en_en"
      ],
      "execution_count": null,
      "outputs": [
        {
          "output_type": "execute_result",
          "data": {
            "text/plain": [
              "11.1"
            ]
          },
          "metadata": {
            "tags": []
          },
          "execution_count": 34
        }
      ]
    },
    {
      "cell_type": "code",
      "metadata": {
        "colab": {
          "base_uri": "https://localhost:8080/"
        },
        "id": "0Npxx9aJQdw4",
        "outputId": "ab6c048c-9b3a-42ac-9524-7d6caa5649a6"
      },
      "source": [
        "a = ' '.join(list(data_test['en_en'].values))\n",
        "en_en = textstat.avg_sentence_length(a)\n",
        "en_en"
      ],
      "execution_count": null,
      "outputs": [
        {
          "output_type": "execute_result",
          "data": {
            "text/plain": [
              "20.0"
            ]
          },
          "metadata": {
            "tags": []
          },
          "execution_count": 9
        }
      ]
    },
    {
      "cell_type": "code",
      "metadata": {
        "colab": {
          "base_uri": "https://localhost:8080/"
        },
        "id": "C8DUl6JFQkiN",
        "outputId": "3ffd2639-8696-449a-e345-08c3ed9d3914"
      },
      "source": [
        "a = ' '.join(list(data_test['en_en'].values))\n",
        "en_en = textstat.avg_syllables_per_word(a)\n",
        "en_en"
      ],
      "execution_count": null,
      "outputs": [
        {
          "output_type": "execute_result",
          "data": {
            "text/plain": [
              "1.6"
            ]
          },
          "metadata": {
            "tags": []
          },
          "execution_count": 10
        }
      ]
    },
    {
      "cell_type": "code",
      "metadata": {
        "id": "KKlitKU-tSq7"
      },
      "source": [
        "with open('/content/drive/MyDrive/MT_sentence_simpl/predictions/model_prediction_en_en.hyp', 'r') as f:\n",
        "  sentences = [i.strip() for i in f.readlines()]\n",
        "\n",
        "lt = list()\n",
        "st = set()\n",
        "for i in sentences:\n",
        "  if i not in st:\n",
        "    lt.append(i)\n",
        "    st.add(i)\n",
        "\n",
        "with open('/content/model_prediction_en_en.hyp', 'w') as f:\n",
        "  for i in lt:\n",
        "    f.write(i+'\\n')"
      ],
      "execution_count": null,
      "outputs": []
    },
    {
      "cell_type": "code",
      "metadata": {
        "colab": {
          "base_uri": "https://localhost:8080/"
        },
        "id": "YGWfRUputS6C",
        "outputId": "bf33db7d-e785-4847-92f1-5299c6025c00"
      },
      "source": [
        "! easse evaluate \\\n",
        "--test_set custom \\\n",
        "--metrics fkgl \\\n",
        "--refs_sents_paths /content/prepared_data/test_ref_data.ref.0,/content/prepared_data/test_ref_data.ref.1,/content/prepared_data/test_ref_data.ref.2,/content/prepared_data/test_ref_data.ref.3,/content/prepared_data/test_ref_data.ref.4 \\\n",
        "--orig_sents_path /content/prepared_data/test_ref_data.src \\\n",
        "--sys_sents_path /content/model_prediction_en_en.hyp -q\n"
      ],
      "execution_count": null,
      "outputs": [
        {
          "output_type": "stream",
          "text": [
            "{'fkgl': 11.159, 'quality_estimation': {'Compression ratio': 0.929, 'Sentence splits': 1.042, 'Levenshtein similarity': 0.156, 'Exact copies': 0.0, 'Additions proportion': 0.869, 'Deletions proportion': 0.771, 'Lexical complexity score': 8.294}}\n"
          ],
          "name": "stdout"
        }
      ]
    },
    {
      "cell_type": "markdown",
      "metadata": {
        "id": "d70jLwxZC_RN"
      },
      "source": [
        "### Cosine Similarity"
      ]
    },
    {
      "cell_type": "code",
      "metadata": {
        "id": "1Eal9pCa43VX"
      },
      "source": [
        "from transformers import RobertaTokenizer, RobertaModel, AutoConfig, AutoTokenizer, AutoModelForMaskedLM\n",
        "device = \"cuda\" if torch.cuda.is_available() else \"cpu\"\n",
        "config = AutoConfig.from_pretrained(\"roberta-base\") # \"roberta-base\" 'xlm-mlm-100-1280' 'xlm-roberta-base' 'bert-base-multilingual-cased'\n",
        "config.output_hidden_states = True\n",
        "\n",
        "tok = AutoTokenizer.from_pretrained(\"roberta-base\")\n",
        "model = AutoModelForMaskedLM.from_pretrained(\"roberta-base\", config=config)\n",
        "model.to(device)"
      ],
      "execution_count": null,
      "outputs": []
    },
    {
      "cell_type": "code",
      "metadata": {
        "colab": {
          "base_uri": "https://localhost:8080/"
        },
        "id": "vlMtKJYZD41w",
        "outputId": "976b95b1-2861-4e4c-b259-a0d2690c1491"
      },
      "source": [
        "calc_cos_sim(data_test, model, tok, 'src', 'en_en', 'cos_sim_en_en')\n",
        "data_test.cos_sim_en_en.mean()"
      ],
      "execution_count": null,
      "outputs": [
        {
          "output_type": "execute_result",
          "data": {
            "text/plain": [
              "0.9784409024862598"
            ]
          },
          "metadata": {
            "tags": []
          },
          "execution_count": 39
        }
      ]
    },
    {
      "cell_type": "markdown",
      "metadata": {
        "id": "FGk2b9Ku6imw"
      },
      "source": [
        "### Grammar"
      ]
    },
    {
      "cell_type": "code",
      "metadata": {
        "id": "vXDpiXYz6ixT"
      },
      "source": [
        "tool = language_tool_python.LanguageTool('en')"
      ],
      "execution_count": null,
      "outputs": []
    },
    {
      "cell_type": "code",
      "metadata": {
        "colab": {
          "base_uri": "https://localhost:8080/"
        },
        "id": "So6xrLM562Fs",
        "outputId": "2505a19e-b53f-45b5-e419-3bbb8c40ba53"
      },
      "source": [
        "errors = get_mistakes_summary(data_test, 'en_en')\n",
        "errors"
      ],
      "execution_count": null,
      "outputs": [
        {
          "output_type": "execute_result",
          "data": {
            "text/plain": [
              "{'CASING': 38,\n",
              " 'COLLOCATIONS': 2,\n",
              " 'GRAMMAR': 23,\n",
              " 'MISC': 1,\n",
              " 'PUNCTUATION': 183,\n",
              " 'REDUNDANCY': 28,\n",
              " 'STYLE': 3,\n",
              " 'TYPOGRAPHY': 8081,\n",
              " 'TYPOS': 10}"
            ]
          },
          "metadata": {
            "tags": []
          },
          "execution_count": 64
        }
      ]
    },
    {
      "cell_type": "markdown",
      "metadata": {
        "id": "VqVZVh1G9dqn"
      },
      "source": [
        " ## Evaluation of English model with filtering"
      ]
    },
    {
      "cell_type": "markdown",
      "metadata": {
        "id": "IsZJpaJhuZTi"
      },
      "source": [
        "### SARI"
      ]
    },
    {
      "cell_type": "code",
      "metadata": {
        "id": "grLdyC5P9ePc"
      },
      "source": [
        "with open('/content/drive/MyDrive/MT_sentence_simpl/predictions/model_prediction_en_en_filtered.hyp', 'r') as f:\n",
        "  sentences = [i.strip() for i in f.readlines()]\n",
        "\n",
        "lt = list()\n",
        "st = set()\n",
        "for i in sentences:\n",
        "  if i not in st:\n",
        "    lt.append(i)\n",
        "    st.add(i)\n",
        "\n",
        "with open('/content/model_prediction_en_en_filtered.hyp', 'w') as f:\n",
        "  for i in lt:\n",
        "    f.write(i+'\\n')"
      ],
      "execution_count": null,
      "outputs": []
    },
    {
      "cell_type": "code",
      "metadata": {
        "colab": {
          "base_uri": "https://localhost:8080/"
        },
        "id": "RPmkvsX6ucwm",
        "outputId": "659d45bf-d96a-4563-a3fe-53401b25ab62"
      },
      "source": [
        "! easse evaluate \\\n",
        "--test_set custom \\\n",
        "--metrics sari \\\n",
        "--refs_sents_paths /content/prepared_data/test_ref_data.ref.0,/content/prepared_data/test_ref_data.ref.1,/content/prepared_data/test_ref_data.ref.2,/content/prepared_data/test_ref_data.ref.3,/content/prepared_data/test_ref_data.ref.4 \\\n",
        "--orig_sents_path /content/prepared_data/test_ref_data.src \\\n",
        "--sys_sents_path /content/model_prediction_en_en_filtered.hyp -q"
      ],
      "execution_count": null,
      "outputs": [
        {
          "output_type": "stream",
          "text": [
            "{'sari': 34.596, 'quality_estimation': {'Compression ratio': 0.597, 'Sentence splits': 0.987, 'Levenshtein similarity': 0.727, 'Exact copies': 0.015, 'Additions proportion': 0.009, 'Deletions proportion': 0.414, 'Lexical complexity score': 8.217}}\n"
          ],
          "name": "stdout"
        }
      ]
    },
    {
      "cell_type": "markdown",
      "metadata": {
        "id": "63qni0jfu1n0"
      },
      "source": [
        "### BLEU"
      ]
    },
    {
      "cell_type": "code",
      "metadata": {
        "colab": {
          "base_uri": "https://localhost:8080/"
        },
        "id": "WRpqGvYe9TlL",
        "outputId": "068b4975-f176-471f-c7ae-c1aa24df4b35"
      },
      "source": [
        "# make lists of src, dst\n",
        "src_column, trg_column = \"en_en_filtered\", \"dst\"\n",
        "data_dict = OrderedDict()\n",
        "for ind, row in data_test.iterrows():\n",
        "        source_sentence = row[src_column]\n",
        "        reference_sentence = row[trg_column]\n",
        "        if data_dict.get(source_sentence) is None:\n",
        "            data_dict[source_sentence] = []\n",
        "        data_dict[source_sentence].append(reference_sentence)\n",
        "max_num_reference_sentences = max([len(x) for x in data_dict.values()])\n",
        "\n",
        "src, dst = [i for i in data_dict.keys()], [i for i in data_dict.values()]\n",
        "for i, j in enumerate(src):\n",
        "   if len(dst[i]) < max_num_reference_sentences:\n",
        "    dst[i] = dst[i] + [dst[i][0]]*(max_num_reference_sentences - len(dst[i]))\n",
        "\n",
        "refs = []\n",
        "for j in range(len(dst[1])):\n",
        "  ref = []\n",
        "  for i in dst:\n",
        "    ref.append(i[j])\n",
        "  refs.append(ref)\n",
        "  \n",
        "corpus_bleu(src, refs)"
      ],
      "execution_count": null,
      "outputs": [
        {
          "output_type": "stream",
          "text": [
            "40.97846360104546\n"
          ],
          "name": "stdout"
        }
      ]
    },
    {
      "cell_type": "markdown",
      "metadata": {
        "id": "8w9kPK-8u9o4"
      },
      "source": [
        "### FKLG"
      ]
    },
    {
      "cell_type": "markdown",
      "metadata": {
        "id": "38JLZmYbvWAI"
      },
      "source": [
        "MEAN"
      ]
    },
    {
      "cell_type": "code",
      "metadata": {
        "colab": {
          "base_uri": "https://localhost:8080/"
        },
        "id": "ZUyW6PxTu_cr",
        "outputId": "02a1ed54-64ba-4e45-f93c-97f5f86c617b"
      },
      "source": [
        "a = data_test['en_en_filtered'].values\n",
        "en_en = sum(textstat.flesch_kincaid_grade(i) for i in a)/len(a)\n",
        "en_en\n"
      ],
      "execution_count": null,
      "outputs": [
        {
          "output_type": "execute_result",
          "data": {
            "text/plain": [
              "9.058573106283028"
            ]
          },
          "metadata": {
            "tags": []
          },
          "execution_count": 37
        }
      ]
    },
    {
      "cell_type": "markdown",
      "metadata": {
        "id": "MnFHw7m-vXUW"
      },
      "source": [
        "WHOLE DATA"
      ]
    },
    {
      "cell_type": "code",
      "metadata": {
        "colab": {
          "base_uri": "https://localhost:8080/"
        },
        "id": "Iew5SApbQ40h",
        "outputId": "7fa7ceb0-f32d-4cdd-f385-844df8c894c5"
      },
      "source": [
        "a = ' '.join(list(data_test['src'].values))\n",
        "en_en = textstat.flesch_kincaid_grade(a)\n",
        "en_en"
      ],
      "execution_count": null,
      "outputs": [
        {
          "output_type": "execute_result",
          "data": {
            "text/plain": [
              "10.7"
            ]
          },
          "metadata": {
            "tags": []
          },
          "execution_count": 13
        }
      ]
    },
    {
      "cell_type": "code",
      "metadata": {
        "colab": {
          "base_uri": "https://localhost:8080/"
        },
        "id": "jhItGMhtQ4-W",
        "outputId": "f0b41fce-f0c5-40d2-fc68-779dcb8c03d0"
      },
      "source": [
        "a = ' '.join(list(data_test['src'].values))\n",
        "en_en = textstat.avg_sentence_length(a)\n",
        "en_en"
      ],
      "execution_count": null,
      "outputs": [
        {
          "output_type": "execute_result",
          "data": {
            "text/plain": [
              "22.1"
            ]
          },
          "metadata": {
            "tags": []
          },
          "execution_count": 15
        }
      ]
    },
    {
      "cell_type": "code",
      "metadata": {
        "colab": {
          "base_uri": "https://localhost:8080/"
        },
        "id": "a71SLvyXQ5J2",
        "outputId": "aedf1b6d-6dfd-4592-8c69-6bf3810b4eff"
      },
      "source": [
        "a = ' '.join(list(data_test['src'].values))\n",
        "en_en = textstat.avg_syllables_per_word(a)\n",
        "en_en"
      ],
      "execution_count": null,
      "outputs": [
        {
          "output_type": "execute_result",
          "data": {
            "text/plain": [
              "1.5"
            ]
          },
          "metadata": {
            "tags": []
          },
          "execution_count": 16
        }
      ]
    },
    {
      "cell_type": "code",
      "metadata": {
        "colab": {
          "base_uri": "https://localhost:8080/"
        },
        "id": "yOR7SM8NRJ3O",
        "outputId": "9738a72d-24a0-47d7-a4f0-2555189a1582"
      },
      "source": [
        "a = ' '.join(list(data_test['dst'].values))\n",
        "en_en = textstat.flesch_kincaid_grade(a)\n",
        "en_en"
      ],
      "execution_count": null,
      "outputs": [
        {
          "output_type": "execute_result",
          "data": {
            "text/plain": [
              "8.6"
            ]
          },
          "metadata": {
            "tags": []
          },
          "execution_count": 17
        }
      ]
    },
    {
      "cell_type": "code",
      "metadata": {
        "colab": {
          "base_uri": "https://localhost:8080/"
        },
        "id": "4Uzw1B7dRJ_U",
        "outputId": "0cadf905-cb19-4635-cc38-424d3de03e70"
      },
      "source": [
        "a = ' '.join(list(data_test['dst'].values))\n",
        "en_en = textstat.avg_sentence_length(a)\n",
        "en_en"
      ],
      "execution_count": null,
      "outputs": [
        {
          "output_type": "execute_result",
          "data": {
            "text/plain": [
              "16.6"
            ]
          },
          "metadata": {
            "tags": []
          },
          "execution_count": 18
        }
      ]
    },
    {
      "cell_type": "code",
      "metadata": {
        "colab": {
          "base_uri": "https://localhost:8080/"
        },
        "id": "KspFRZZLRKKM",
        "outputId": "acc1e413-a3bc-4eed-f686-a01236c4bd3b"
      },
      "source": [
        "a = ' '.join(list(data_test['dst'].values))\n",
        "en_en = textstat.avg_syllables_per_word(a)\n",
        "en_en"
      ],
      "execution_count": null,
      "outputs": [
        {
          "output_type": "execute_result",
          "data": {
            "text/plain": [
              "1.5"
            ]
          },
          "metadata": {
            "tags": []
          },
          "execution_count": 19
        }
      ]
    },
    {
      "cell_type": "code",
      "metadata": {
        "colab": {
          "base_uri": "https://localhost:8080/"
        },
        "id": "iGULE4EmvSKU",
        "outputId": "56bae38c-83db-4d9a-c989-44ce0330c2ee"
      },
      "source": [
        "a = ' '.join(list(data_test['en_en_filtered'].values))\n",
        "en_en = textstat.flesch_kincaid_grade(a)\n",
        "en_en"
      ],
      "execution_count": null,
      "outputs": [
        {
          "output_type": "execute_result",
          "data": {
            "text/plain": [
              "8.4"
            ]
          },
          "metadata": {
            "tags": []
          },
          "execution_count": 38
        }
      ]
    },
    {
      "cell_type": "code",
      "metadata": {
        "colab": {
          "base_uri": "https://localhost:8080/"
        },
        "id": "wunJkcm0EtcF",
        "outputId": "704aa9c5-5dd1-4738-fcb8-ac17064548da"
      },
      "source": [
        "a = ' '.join(list(data_test['en_en_filtered'].values))\n",
        "en_en = textstat.avg_sentence_length(a)\n",
        "en_en"
      ],
      "execution_count": null,
      "outputs": [
        {
          "output_type": "execute_result",
          "data": {
            "text/plain": [
              "13.2"
            ]
          },
          "metadata": {
            "tags": []
          },
          "execution_count": 11
        }
      ]
    },
    {
      "cell_type": "code",
      "metadata": {
        "colab": {
          "base_uri": "https://localhost:8080/"
        },
        "id": "Jnrydh9IQyEu",
        "outputId": "04d92ed1-f7a2-48b6-a9f4-d1ae5b8d5cbd"
      },
      "source": [
        "a = ' '.join(list(data_test['en_en_filtered'].values))\n",
        "en_en = textstat.avg_syllables_per_word(a)\n",
        "en_en"
      ],
      "execution_count": null,
      "outputs": [
        {
          "output_type": "execute_result",
          "data": {
            "text/plain": [
              "1.6"
            ]
          },
          "metadata": {
            "tags": []
          },
          "execution_count": 12
        }
      ]
    },
    {
      "cell_type": "code",
      "metadata": {
        "id": "kLlHVr5Xtqpu"
      },
      "source": [
        "with open('/content/drive/MyDrive/MT_sentence_simpl/predictions/model_prediction_en_en_filtered.hyp', 'r') as f:\n",
        "  sentences = [i.strip() for i in f.readlines()]\n",
        "\n",
        "lt = list()\n",
        "st = set()\n",
        "for i in sentences:\n",
        "  if i not in st:\n",
        "    lt.append(i)\n",
        "    st.add(i)\n",
        "\n",
        "with open('/content/model_prediction_en_en_filtered.hyp', 'w') as f:\n",
        "  for i in lt:\n",
        "    f.write(i+'\\n')\n"
      ],
      "execution_count": null,
      "outputs": []
    },
    {
      "cell_type": "code",
      "metadata": {
        "colab": {
          "base_uri": "https://localhost:8080/"
        },
        "id": "NxnxAQ8Ttqz6",
        "outputId": "d9c25b89-e7e8-48f7-e8f3-476cbf68bb36"
      },
      "source": [
        "! easse evaluate \\\n",
        "--test_set custom \\\n",
        "--metrics fkgl \\\n",
        "--refs_sents_paths /content/prepared_data/test_ref_data.ref.0,/content/prepared_data/test_ref_data.ref.1,/content/prepared_data/test_ref_data.ref.2,/content/prepared_data/test_ref_data.ref.3,/content/prepared_data/test_ref_data.ref.4 \\\n",
        "--orig_sents_path /content/prepared_data/test_ref_data.src \\\n",
        "--sys_sents_path /content/model_prediction_en_en_filtered.hyp -q\n"
      ],
      "execution_count": null,
      "outputs": [
        {
          "output_type": "stream",
          "text": [
            "{'fkgl': 8.521, 'quality_estimation': {'Compression ratio': 0.591, 'Sentence splits': 0.99, 'Levenshtein similarity': 0.133, 'Exact copies': 0.0, 'Additions proportion': 0.635, 'Deletions proportion': 0.911, 'Lexical complexity score': 8.217}}\n"
          ],
          "name": "stdout"
        }
      ]
    },
    {
      "cell_type": "markdown",
      "metadata": {
        "id": "Wg-dfnIUvziV"
      },
      "source": [
        "COSINE SIMILARITY"
      ]
    },
    {
      "cell_type": "code",
      "metadata": {
        "id": "0Jgo8OcZv1aK"
      },
      "source": [
        "from transformers import RobertaTokenizer, RobertaModel, AutoConfig, AutoTokenizer, AutoModelForMaskedLM\n",
        "device = \"cuda\" if torch.cuda.is_available() else \"cpu\"\n",
        "config = AutoConfig.from_pretrained(\"roberta-base\") # \"roberta-base\" 'xlm-mlm-100-1280' 'xlm-roberta-base' 'bert-base-multilingual-cased'\n",
        "config.output_hidden_states = True\n",
        "\n",
        "tok = AutoTokenizer.from_pretrained(\"roberta-base\")\n",
        "model = AutoModelForMaskedLM.from_pretrained(\"roberta-base\", config=config)\n",
        "model.to(device)"
      ],
      "execution_count": null,
      "outputs": []
    },
    {
      "cell_type": "code",
      "metadata": {
        "colab": {
          "base_uri": "https://localhost:8080/"
        },
        "id": "F8xF8oLDycfl",
        "outputId": "c46eecbf-946d-4722-ca0f-5481cd217799"
      },
      "source": [
        "calc_cos_sim(data_test, model, tok, 'src', 'en_en_filtered', 'cos_sim_en_en_filtered')\n",
        "data_test.cos_sim_en_en_filtered.mean()"
      ],
      "execution_count": null,
      "outputs": [
        {
          "output_type": "execute_result",
          "data": {
            "text/plain": [
              "0.9042795725763981"
            ]
          },
          "metadata": {
            "tags": []
          },
          "execution_count": 45
        }
      ]
    },
    {
      "cell_type": "markdown",
      "metadata": {
        "id": "Cov50duZ7N6Z"
      },
      "source": [
        "### Grammar"
      ]
    },
    {
      "cell_type": "code",
      "metadata": {
        "colab": {
          "base_uri": "https://localhost:8080/"
        },
        "id": "c_gISRxp7OCY",
        "outputId": "0f53c803-d5b7-47f4-d41d-460bc58371ec"
      },
      "source": [
        "errors = get_mistakes_summary(data_test, 'en_en_filtered')\n",
        "errors"
      ],
      "execution_count": null,
      "outputs": [
        {
          "output_type": "execute_result",
          "data": {
            "text/plain": [
              "{'CASING': 14,\n",
              " 'GRAMMAR': 43,\n",
              " 'PUNCTUATION': 29,\n",
              " 'REDUNDANCY': 10,\n",
              " 'TYPOGRAPHY': 5028,\n",
              " 'TYPOS': 15}"
            ]
          },
          "metadata": {
            "tags": []
          },
          "execution_count": 65
        }
      ]
    },
    {
      "cell_type": "markdown",
      "metadata": {
        "id": "WMOeA_vY6FUR"
      },
      "source": [
        "## Evaluation of Russian model trained on data without filtering "
      ]
    },
    {
      "cell_type": "markdown",
      "metadata": {
        "id": "6gPF7gQYDeIN"
      },
      "source": [
        "### SARI"
      ]
    },
    {
      "cell_type": "code",
      "metadata": {
        "id": "WTrpie6M6KJZ"
      },
      "source": [
        "! rm -r /content/prepared_data\n",
        "! mkdir /content/prepared_data"
      ],
      "execution_count": null,
      "outputs": []
    },
    {
      "cell_type": "code",
      "metadata": {
        "colab": {
          "base_uri": "https://localhost:8080/"
        },
        "id": "N7vrjZV-DjY4",
        "outputId": "4f7db2e4-0859-431c-8443-bb732be05b02"
      },
      "source": [
        "! python /content/sent_simplification/refs_to_easse_format.py \\\n",
        "--input_path /content/drive/MyDrive/MT_sentence_simpl/wiki_test_dev_eng.csv \\\n",
        "--output_dataset_name test_ref_data \\\n",
        "--src_column \"INPUT:source\" \\\n",
        "--trg_column \"OUTPUT:output\" \\\n",
        "--output_dir /content/prepared_data"
      ],
      "execution_count": null,
      "outputs": [
        {
          "output_type": "stream",
          "text": [
            "1000\n",
            "3406\n",
            "3406\n",
            "Overall number of references: 3406\n"
          ],
          "name": "stdout"
        }
      ]
    },
    {
      "cell_type": "code",
      "metadata": {
        "id": "M7TjBIlfbjHH"
      },
      "source": [
        "with open('/content/drive/MyDrive/MT_sentence_simpl/predictions/model_prediction_ru_ru.hyp', 'r') as f:\n",
        "  sentences = [i.strip() for i in f.readlines()]\n",
        "\n",
        "lt = list()\n",
        "st = set()\n",
        "for i in sentences:\n",
        "  if i not in st:\n",
        "    lt.append(i)\n",
        "    st.add(i)\n",
        "\n",
        "with open('/content/model_prediction__ru_ru.hyp', 'w') as f:\n",
        "  for i in lt:\n",
        "    f.write(i+'\\n')"
      ],
      "execution_count": null,
      "outputs": []
    },
    {
      "cell_type": "code",
      "metadata": {
        "colab": {
          "base_uri": "https://localhost:8080/"
        },
        "id": "t73Uai_BbtGA",
        "outputId": "1ba6dded-8e03-4106-a298-969865534717"
      },
      "source": [
        "! easse evaluate \\\n",
        "--test_set custom \\\n",
        "--metrics sari \\\n",
        "--refs_sents_paths /content/prepared_data/test_ref_data.ref.0,/content/prepared_data/test_ref_data.ref.1,/content/prepared_data/test_ref_data.ref.2,/content/prepared_data/test_ref_data.ref.3,/content/prepared_data/test_ref_data.ref.4 \\\n",
        "--orig_sents_path /content/prepared_data/test_ref_data.src \\\n",
        "--sys_sents_path /content/model_prediction__ru_ru.hyp -q"
      ],
      "execution_count": null,
      "outputs": [
        {
          "output_type": "stream",
          "text": [
            "{'sari': 16.499, 'quality_estimation': {'Compression ratio': 0.968, 'Sentence splits': 1.003, 'Levenshtein similarity': 0.979, 'Exact copies': 0.68, 'Additions proportion': 0.011, 'Deletions proportion': 0.045, 'Lexical complexity score': 10.675}}\n"
          ],
          "name": "stdout"
        }
      ]
    },
    {
      "cell_type": "markdown",
      "metadata": {
        "id": "oTTmUnirEVxn"
      },
      "source": [
        "### BLEU"
      ]
    },
    {
      "cell_type": "code",
      "metadata": {
        "colab": {
          "base_uri": "https://localhost:8080/"
        },
        "id": "u75v2_zRC_8T",
        "outputId": "d436fed9-c397-40a8-e2dc-e07d36bd45ee"
      },
      "source": [
        "# make lists of src, dst\n",
        "src_column, trg_column = \"ru_ru\", \"OUTPUT:output\"\n",
        "data_dict = OrderedDict()\n",
        "for ind, row in data_test.iterrows():\n",
        "        source_sentence = row[src_column]\n",
        "        reference_sentence = row[trg_column]\n",
        "        if data_dict.get(source_sentence) is None:\n",
        "            data_dict[source_sentence] = []\n",
        "        data_dict[source_sentence].append(reference_sentence)\n",
        "max_num_reference_sentences = max([len(x) for x in data_dict.values()])\n",
        "\n",
        "src, dst = [i for i in data_dict.keys()], [i for i in data_dict.values()]\n",
        "for i, j in enumerate(src):\n",
        "   if len(dst[i]) < max_num_reference_sentences:\n",
        "    dst[i] = dst[i] + [dst[i][0]]*(max_num_reference_sentences - len(dst[i]))\n",
        "\n",
        "refs = []\n",
        "for j in range(len(dst[1])):\n",
        "  ref = []\n",
        "  for i in dst:\n",
        "    ref.append(i[j])\n",
        "  refs.append(ref)\n",
        "  \n",
        "corpus_bleu(src, refs)"
      ],
      "execution_count": null,
      "outputs": [
        {
          "output_type": "execute_result",
          "data": {
            "text/plain": [
              "36.70629761889349"
            ]
          },
          "metadata": {
            "tags": []
          },
          "execution_count": 94
        }
      ]
    },
    {
      "cell_type": "code",
      "metadata": {
        "colab": {
          "base_uri": "https://localhost:8080/"
        },
        "id": "RPBdkuhO8-xx",
        "outputId": "ff41ffe8-55c7-4e6d-ba39-321fdb14b43d"
      },
      "source": [
        "refs = []\n",
        "for i, j in data_dict.items():\n",
        "  refs.append(j)\n",
        "\n",
        "nltk.translate.bleu_score.corpus_bleu(refs, src)"
      ],
      "execution_count": null,
      "outputs": [
        {
          "output_type": "execute_result",
          "data": {
            "text/plain": [
              "0.7189872220505059"
            ]
          },
          "metadata": {
            "tags": []
          },
          "execution_count": 95
        }
      ]
    },
    {
      "cell_type": "markdown",
      "metadata": {
        "id": "S2BdaL87FlWw"
      },
      "source": [
        "### Flesh-Kincaid Grade level"
      ]
    },
    {
      "cell_type": "code",
      "metadata": {
        "colab": {
          "base_uri": "https://localhost:8080/"
        },
        "id": "IHzX1vZoGD72",
        "outputId": "c51a4112-83fa-4af7-8ef4-2445feb6e749"
      },
      "source": [
        "calc_readability_metrics(' '.join(list(data_test['INPUT:source'].values)))"
      ],
      "execution_count": null,
      "outputs": [
        {
          "output_type": "execute_result",
          "data": {
            "text/plain": [
              "{'avg_slen': 16.790763968072977,\n",
              " 'avg_syl': 2.8487487691419644,\n",
              " 'c_share': 16.036806899595938,\n",
              " 'chars': 473430,\n",
              " 'index_SMOG_rus': 14.557852197020122,\n",
              " 'index_ari_rus': 15.509208294776158,\n",
              " 'index_cl_rus': 14.345376048351504,\n",
              " 'index_dc_rus': 13.436195971860881,\n",
              " 'index_fk_rus': 15.291695463663103,\n",
              " 'letters': 393678,\n",
              " 'n_complex_words': 9446,\n",
              " 'n_sentences': 3508,\n",
              " 'n_simple_words': 46179,\n",
              " 'n_syllabes': 167797,\n",
              " 'n_words': 58902,\n",
              " 'spaces': 60292,\n",
              " 'wsyllabes': {'1': 9867,\n",
              "  '10': 35,\n",
              "  '11': 6,\n",
              "  '12': 4,\n",
              "  '2': 12788,\n",
              "  '3': 13723,\n",
              "  '4': 9801,\n",
              "  '5': 6023,\n",
              "  '6': 2491,\n",
              "  '7': 677,\n",
              "  '8': 173,\n",
              "  '9': 37}}"
            ]
          },
          "metadata": {
            "tags": []
          },
          "execution_count": 22
        }
      ]
    },
    {
      "cell_type": "code",
      "metadata": {
        "colab": {
          "base_uri": "https://localhost:8080/"
        },
        "id": "tdsf2BKMF9hk",
        "outputId": "e0eca7ec-d054-4c7b-ceab-2af40be5db78"
      },
      "source": [
        "calc_readability_metrics(' '.join(list(data_test['OUTPUT:output'].values)))"
      ],
      "execution_count": null,
      "outputs": [
        {
          "output_type": "execute_result",
          "data": {
            "text/plain": [
              "{'avg_slen': 13.503585397653195,\n",
              " 'avg_syl': 2.6891790774578195,\n",
              " 'c_share': 12.112288493567307,\n",
              " 'chars': 317164,\n",
              " 'index_SMOG_rus': 11.356979245625993,\n",
              " 'index_ari_rus': 11.940864878774391,\n",
              " 'index_cl_rus': 11.512936107557508,\n",
              " 'index_dc_rus': 10.372462062008477,\n",
              " 'index_fk_rus': 11.98048305635475,\n",
              " 'letters': 259382,\n",
              " 'n_complex_words': 5018,\n",
              " 'n_sentences': 3068,\n",
              " 'n_simple_words': 34238,\n",
              " 'n_syllabes': 111410,\n",
              " 'n_words': 41429,\n",
              " 'spaces': 43375,\n",
              " 'wsyllabes': {'1': 7690,\n",
              "  '10': 11,\n",
              "  '11': 1,\n",
              "  '12': 1,\n",
              "  '14': 1,\n",
              "  '15': 1,\n",
              "  '2': 10187,\n",
              "  '3': 9546,\n",
              "  '4': 6815,\n",
              "  '5': 3294,\n",
              "  '6': 1274,\n",
              "  '7': 336,\n",
              "  '8': 71,\n",
              "  '9': 28}}"
            ]
          },
          "metadata": {
            "tags": []
          },
          "execution_count": 23
        }
      ]
    },
    {
      "cell_type": "code",
      "metadata": {
        "colab": {
          "base_uri": "https://localhost:8080/"
        },
        "id": "ywimTOFMFoxB",
        "outputId": "c7ea6b20-19ad-4805-9dc9-ab8fb5316c24"
      },
      "source": [
        "calc_readability_metrics(' '.join(list(data_test.ru_ru.values)))"
      ],
      "execution_count": null,
      "outputs": [
        {
          "output_type": "execute_result",
          "data": {
            "text/plain": [
              "{'avg_slen': 16.305825242718445,\n",
              " 'avg_syl': 2.8488520743218393,\n",
              " 'c_share': 15.920354447226941,\n",
              " 'chars': 458434,\n",
              " 'index_SMOG_rus': 14.294811353101062,\n",
              " 'index_ari_rus': 15.356937930462564,\n",
              " 'index_cl_rus': 14.269110379489696,\n",
              " 'index_dc_rus': 13.239525946131408,\n",
              " 'index_fk_rus': 15.13895188255458,\n",
              " 'letters': 381506,\n",
              " 'n_complex_words': 9091,\n",
              " 'n_sentences': 3502,\n",
              " 'n_simple_words': 44882,\n",
              " 'n_syllabes': 162678,\n",
              " 'n_words': 57103,\n",
              " 'spaces': 58381,\n",
              " 'wsyllabes': {'1': 9581,\n",
              "  '10': 35,\n",
              "  '11': 6,\n",
              "  '12': 4,\n",
              "  '2': 12369,\n",
              "  '3': 13339,\n",
              "  '4': 9593,\n",
              "  '5': 5826,\n",
              "  '6': 2384,\n",
              "  '7': 648,\n",
              "  '8': 156,\n",
              "  '9': 32}}"
            ]
          },
          "metadata": {
            "tags": []
          },
          "execution_count": 24
        }
      ]
    },
    {
      "cell_type": "markdown",
      "metadata": {
        "id": "g0rK0fMWG-QC"
      },
      "source": [
        "COSINE SIMILARITY"
      ]
    },
    {
      "cell_type": "code",
      "metadata": {
        "id": "1N7OYb5kHAkg",
        "colab": {
          "base_uri": "https://localhost:8080/",
          "height": 1000,
          "referenced_widgets": [
            "51089a7d86804b21b144556759214ebc",
            "0583bb2061d64a77bf3f85667e0afdfb",
            "85a9c818e6aa4e319eaa741062ac03ce",
            "ba80324e066241248c425c2bf4e3bed8",
            "783c529b4ef648e19c58b0ef488bef55",
            "a7217fee910e4618ab3d0c80713a17b2",
            "826d4c4d3e8742eeb95e68d766c94c0e",
            "0415a6f49471458699a19ec2de61eecc",
            "3f0b707597a944b1934e0e43e7bad848",
            "62dea645079c4ad1a39daf30a53c72af",
            "94a3ba5790ac4180ae85ba8ab994e582",
            "8462dd87d14548b29005141e26de8866",
            "8cfa0a48acd145bd80b001bd5de5e165",
            "1e15191ac7894d148983ddaf65b851a9",
            "6a2db37f06924b8db10c86a632448679",
            "f585eba474c948698e201f0233438939",
            "4cdcbe4c7baa46f19a0f036bc4e8acff",
            "f39ff20d45454671b9d417f56592ea10",
            "52bbb440f2144fc9889ee9115461c29d",
            "1b6c126e8ca44a7c8c3fc04304417ef1",
            "62e173546cc84fae8e6ce51ebf13a1d7",
            "16fa859ff6b14115ad22db7c76534828",
            "b59b0e97efc44e5eb7bafa4daf30559a",
            "7bb46f121f84460d9bfa6a6419afc5a8",
            "e517d3b071f04e2d95a8f69fcaefcd28",
            "5fe899bdfb5740548100a904cbba650d",
            "d8815778f35b4be8bf943148865cadd8",
            "bd2da74ba40440aeaefa100332fcd550",
            "aec85143d8b44510b5539446e7d3663b",
            "b9e9524a8d3741d9a84fdd626419e0c7",
            "0b2c5d9285bb4ce0a00a88c34b42fe36",
            "883767752dec418cbfefc7a57cad1920",
            "b4ae98a103ff4255af7d9b18f2bb79cd",
            "23914951767b4244a77f74f32796e3ac",
            "51c74c393657472c877fceade8648233",
            "dd595b2ee2e448b09b1b50f0f71bee7d",
            "9e50aac963324611979a93b89448fd62",
            "0f30a7d66e2e40f884a287afb86bf31f",
            "edd69f5bcd5c495f86c0e51d459af3c0",
            "4170a13b686f48a1b82d070409cdda3e"
          ]
        },
        "outputId": "488ce8fc-6ae3-4685-a924-908824375eac"
      },
      "source": [
        "from transformers import RobertaTokenizer, RobertaModel, AutoConfig, AutoTokenizer, AutoModelForMaskedLM\n",
        "device = \"cuda\" if torch.cuda.is_available() else \"cpu\"\n",
        "config = AutoConfig.from_pretrained(\"DeepPavlov/rubert-base-cased\") # \"roberta-base\" 'xlm-mlm-100-1280' 'xlm-roberta-base' 'bert-base-multilingual-cased'\n",
        "config.output_hidden_states = True\n",
        "\n",
        "tok = AutoTokenizer.from_pretrained(\"DeepPavlov/rubert-base-cased\")\n",
        "model = AutoModelForMaskedLM.from_pretrained(\"DeepPavlov/rubert-base-cased\", config=config)\n",
        "model.to(device)"
      ],
      "execution_count": null,
      "outputs": [
        {
          "output_type": "display_data",
          "data": {
            "application/vnd.jupyter.widget-view+json": {
              "model_id": "51089a7d86804b21b144556759214ebc",
              "version_minor": 0,
              "version_major": 2
            },
            "text/plain": [
              "HBox(children=(FloatProgress(value=0.0, description='Downloading', max=642.0, style=ProgressStyle(description_…"
            ]
          },
          "metadata": {
            "tags": []
          }
        },
        {
          "output_type": "stream",
          "text": [
            "\n"
          ],
          "name": "stdout"
        },
        {
          "output_type": "display_data",
          "data": {
            "application/vnd.jupyter.widget-view+json": {
              "model_id": "3f0b707597a944b1934e0e43e7bad848",
              "version_minor": 0,
              "version_major": 2
            },
            "text/plain": [
              "HBox(children=(FloatProgress(value=0.0, description='Downloading', max=1649718.0, style=ProgressStyle(descript…"
            ]
          },
          "metadata": {
            "tags": []
          }
        },
        {
          "output_type": "stream",
          "text": [
            "\n"
          ],
          "name": "stdout"
        },
        {
          "output_type": "display_data",
          "data": {
            "application/vnd.jupyter.widget-view+json": {
              "model_id": "4cdcbe4c7baa46f19a0f036bc4e8acff",
              "version_minor": 0,
              "version_major": 2
            },
            "text/plain": [
              "HBox(children=(FloatProgress(value=0.0, description='Downloading', max=112.0, style=ProgressStyle(description_…"
            ]
          },
          "metadata": {
            "tags": []
          }
        },
        {
          "output_type": "stream",
          "text": [
            "\n"
          ],
          "name": "stdout"
        },
        {
          "output_type": "display_data",
          "data": {
            "application/vnd.jupyter.widget-view+json": {
              "model_id": "e517d3b071f04e2d95a8f69fcaefcd28",
              "version_minor": 0,
              "version_major": 2
            },
            "text/plain": [
              "HBox(children=(FloatProgress(value=0.0, description='Downloading', max=2.0, style=ProgressStyle(description_wi…"
            ]
          },
          "metadata": {
            "tags": []
          }
        },
        {
          "output_type": "stream",
          "text": [
            "\n"
          ],
          "name": "stdout"
        },
        {
          "output_type": "display_data",
          "data": {
            "application/vnd.jupyter.widget-view+json": {
              "model_id": "b4ae98a103ff4255af7d9b18f2bb79cd",
              "version_minor": 0,
              "version_major": 2
            },
            "text/plain": [
              "HBox(children=(FloatProgress(value=0.0, description='Downloading', max=711456796.0, style=ProgressStyle(descri…"
            ]
          },
          "metadata": {
            "tags": []
          }
        },
        {
          "output_type": "stream",
          "text": [
            "\n"
          ],
          "name": "stdout"
        },
        {
          "output_type": "stream",
          "text": [
            "Some weights of BertForMaskedLM were not initialized from the model checkpoint at DeepPavlov/rubert-base-cased and are newly initialized: ['cls.predictions.decoder.weight', 'cls.predictions.transform.LayerNorm.weight', 'cls.predictions.bias', 'cls.predictions.transform.dense.weight', 'cls.predictions.transform.dense.bias', 'cls.predictions.transform.LayerNorm.bias']\n",
            "You should probably TRAIN this model on a down-stream task to be able to use it for predictions and inference.\n"
          ],
          "name": "stderr"
        },
        {
          "output_type": "execute_result",
          "data": {
            "text/plain": [
              "BertForMaskedLM(\n",
              "  (bert): BertModel(\n",
              "    (embeddings): BertEmbeddings(\n",
              "      (word_embeddings): Embedding(119547, 768, padding_idx=0)\n",
              "      (position_embeddings): Embedding(512, 768)\n",
              "      (token_type_embeddings): Embedding(2, 768)\n",
              "      (LayerNorm): LayerNorm((768,), eps=1e-12, elementwise_affine=True)\n",
              "      (dropout): Dropout(p=0.1, inplace=False)\n",
              "    )\n",
              "    (encoder): BertEncoder(\n",
              "      (layer): ModuleList(\n",
              "        (0): BertLayer(\n",
              "          (attention): BertAttention(\n",
              "            (self): BertSelfAttention(\n",
              "              (query): Linear(in_features=768, out_features=768, bias=True)\n",
              "              (key): Linear(in_features=768, out_features=768, bias=True)\n",
              "              (value): Linear(in_features=768, out_features=768, bias=True)\n",
              "              (dropout): Dropout(p=0.1, inplace=False)\n",
              "            )\n",
              "            (output): BertSelfOutput(\n",
              "              (dense): Linear(in_features=768, out_features=768, bias=True)\n",
              "              (LayerNorm): LayerNorm((768,), eps=1e-12, elementwise_affine=True)\n",
              "              (dropout): Dropout(p=0.1, inplace=False)\n",
              "            )\n",
              "          )\n",
              "          (intermediate): BertIntermediate(\n",
              "            (dense): Linear(in_features=768, out_features=3072, bias=True)\n",
              "          )\n",
              "          (output): BertOutput(\n",
              "            (dense): Linear(in_features=3072, out_features=768, bias=True)\n",
              "            (LayerNorm): LayerNorm((768,), eps=1e-12, elementwise_affine=True)\n",
              "            (dropout): Dropout(p=0.1, inplace=False)\n",
              "          )\n",
              "        )\n",
              "        (1): BertLayer(\n",
              "          (attention): BertAttention(\n",
              "            (self): BertSelfAttention(\n",
              "              (query): Linear(in_features=768, out_features=768, bias=True)\n",
              "              (key): Linear(in_features=768, out_features=768, bias=True)\n",
              "              (value): Linear(in_features=768, out_features=768, bias=True)\n",
              "              (dropout): Dropout(p=0.1, inplace=False)\n",
              "            )\n",
              "            (output): BertSelfOutput(\n",
              "              (dense): Linear(in_features=768, out_features=768, bias=True)\n",
              "              (LayerNorm): LayerNorm((768,), eps=1e-12, elementwise_affine=True)\n",
              "              (dropout): Dropout(p=0.1, inplace=False)\n",
              "            )\n",
              "          )\n",
              "          (intermediate): BertIntermediate(\n",
              "            (dense): Linear(in_features=768, out_features=3072, bias=True)\n",
              "          )\n",
              "          (output): BertOutput(\n",
              "            (dense): Linear(in_features=3072, out_features=768, bias=True)\n",
              "            (LayerNorm): LayerNorm((768,), eps=1e-12, elementwise_affine=True)\n",
              "            (dropout): Dropout(p=0.1, inplace=False)\n",
              "          )\n",
              "        )\n",
              "        (2): BertLayer(\n",
              "          (attention): BertAttention(\n",
              "            (self): BertSelfAttention(\n",
              "              (query): Linear(in_features=768, out_features=768, bias=True)\n",
              "              (key): Linear(in_features=768, out_features=768, bias=True)\n",
              "              (value): Linear(in_features=768, out_features=768, bias=True)\n",
              "              (dropout): Dropout(p=0.1, inplace=False)\n",
              "            )\n",
              "            (output): BertSelfOutput(\n",
              "              (dense): Linear(in_features=768, out_features=768, bias=True)\n",
              "              (LayerNorm): LayerNorm((768,), eps=1e-12, elementwise_affine=True)\n",
              "              (dropout): Dropout(p=0.1, inplace=False)\n",
              "            )\n",
              "          )\n",
              "          (intermediate): BertIntermediate(\n",
              "            (dense): Linear(in_features=768, out_features=3072, bias=True)\n",
              "          )\n",
              "          (output): BertOutput(\n",
              "            (dense): Linear(in_features=3072, out_features=768, bias=True)\n",
              "            (LayerNorm): LayerNorm((768,), eps=1e-12, elementwise_affine=True)\n",
              "            (dropout): Dropout(p=0.1, inplace=False)\n",
              "          )\n",
              "        )\n",
              "        (3): BertLayer(\n",
              "          (attention): BertAttention(\n",
              "            (self): BertSelfAttention(\n",
              "              (query): Linear(in_features=768, out_features=768, bias=True)\n",
              "              (key): Linear(in_features=768, out_features=768, bias=True)\n",
              "              (value): Linear(in_features=768, out_features=768, bias=True)\n",
              "              (dropout): Dropout(p=0.1, inplace=False)\n",
              "            )\n",
              "            (output): BertSelfOutput(\n",
              "              (dense): Linear(in_features=768, out_features=768, bias=True)\n",
              "              (LayerNorm): LayerNorm((768,), eps=1e-12, elementwise_affine=True)\n",
              "              (dropout): Dropout(p=0.1, inplace=False)\n",
              "            )\n",
              "          )\n",
              "          (intermediate): BertIntermediate(\n",
              "            (dense): Linear(in_features=768, out_features=3072, bias=True)\n",
              "          )\n",
              "          (output): BertOutput(\n",
              "            (dense): Linear(in_features=3072, out_features=768, bias=True)\n",
              "            (LayerNorm): LayerNorm((768,), eps=1e-12, elementwise_affine=True)\n",
              "            (dropout): Dropout(p=0.1, inplace=False)\n",
              "          )\n",
              "        )\n",
              "        (4): BertLayer(\n",
              "          (attention): BertAttention(\n",
              "            (self): BertSelfAttention(\n",
              "              (query): Linear(in_features=768, out_features=768, bias=True)\n",
              "              (key): Linear(in_features=768, out_features=768, bias=True)\n",
              "              (value): Linear(in_features=768, out_features=768, bias=True)\n",
              "              (dropout): Dropout(p=0.1, inplace=False)\n",
              "            )\n",
              "            (output): BertSelfOutput(\n",
              "              (dense): Linear(in_features=768, out_features=768, bias=True)\n",
              "              (LayerNorm): LayerNorm((768,), eps=1e-12, elementwise_affine=True)\n",
              "              (dropout): Dropout(p=0.1, inplace=False)\n",
              "            )\n",
              "          )\n",
              "          (intermediate): BertIntermediate(\n",
              "            (dense): Linear(in_features=768, out_features=3072, bias=True)\n",
              "          )\n",
              "          (output): BertOutput(\n",
              "            (dense): Linear(in_features=3072, out_features=768, bias=True)\n",
              "            (LayerNorm): LayerNorm((768,), eps=1e-12, elementwise_affine=True)\n",
              "            (dropout): Dropout(p=0.1, inplace=False)\n",
              "          )\n",
              "        )\n",
              "        (5): BertLayer(\n",
              "          (attention): BertAttention(\n",
              "            (self): BertSelfAttention(\n",
              "              (query): Linear(in_features=768, out_features=768, bias=True)\n",
              "              (key): Linear(in_features=768, out_features=768, bias=True)\n",
              "              (value): Linear(in_features=768, out_features=768, bias=True)\n",
              "              (dropout): Dropout(p=0.1, inplace=False)\n",
              "            )\n",
              "            (output): BertSelfOutput(\n",
              "              (dense): Linear(in_features=768, out_features=768, bias=True)\n",
              "              (LayerNorm): LayerNorm((768,), eps=1e-12, elementwise_affine=True)\n",
              "              (dropout): Dropout(p=0.1, inplace=False)\n",
              "            )\n",
              "          )\n",
              "          (intermediate): BertIntermediate(\n",
              "            (dense): Linear(in_features=768, out_features=3072, bias=True)\n",
              "          )\n",
              "          (output): BertOutput(\n",
              "            (dense): Linear(in_features=3072, out_features=768, bias=True)\n",
              "            (LayerNorm): LayerNorm((768,), eps=1e-12, elementwise_affine=True)\n",
              "            (dropout): Dropout(p=0.1, inplace=False)\n",
              "          )\n",
              "        )\n",
              "        (6): BertLayer(\n",
              "          (attention): BertAttention(\n",
              "            (self): BertSelfAttention(\n",
              "              (query): Linear(in_features=768, out_features=768, bias=True)\n",
              "              (key): Linear(in_features=768, out_features=768, bias=True)\n",
              "              (value): Linear(in_features=768, out_features=768, bias=True)\n",
              "              (dropout): Dropout(p=0.1, inplace=False)\n",
              "            )\n",
              "            (output): BertSelfOutput(\n",
              "              (dense): Linear(in_features=768, out_features=768, bias=True)\n",
              "              (LayerNorm): LayerNorm((768,), eps=1e-12, elementwise_affine=True)\n",
              "              (dropout): Dropout(p=0.1, inplace=False)\n",
              "            )\n",
              "          )\n",
              "          (intermediate): BertIntermediate(\n",
              "            (dense): Linear(in_features=768, out_features=3072, bias=True)\n",
              "          )\n",
              "          (output): BertOutput(\n",
              "            (dense): Linear(in_features=3072, out_features=768, bias=True)\n",
              "            (LayerNorm): LayerNorm((768,), eps=1e-12, elementwise_affine=True)\n",
              "            (dropout): Dropout(p=0.1, inplace=False)\n",
              "          )\n",
              "        )\n",
              "        (7): BertLayer(\n",
              "          (attention): BertAttention(\n",
              "            (self): BertSelfAttention(\n",
              "              (query): Linear(in_features=768, out_features=768, bias=True)\n",
              "              (key): Linear(in_features=768, out_features=768, bias=True)\n",
              "              (value): Linear(in_features=768, out_features=768, bias=True)\n",
              "              (dropout): Dropout(p=0.1, inplace=False)\n",
              "            )\n",
              "            (output): BertSelfOutput(\n",
              "              (dense): Linear(in_features=768, out_features=768, bias=True)\n",
              "              (LayerNorm): LayerNorm((768,), eps=1e-12, elementwise_affine=True)\n",
              "              (dropout): Dropout(p=0.1, inplace=False)\n",
              "            )\n",
              "          )\n",
              "          (intermediate): BertIntermediate(\n",
              "            (dense): Linear(in_features=768, out_features=3072, bias=True)\n",
              "          )\n",
              "          (output): BertOutput(\n",
              "            (dense): Linear(in_features=3072, out_features=768, bias=True)\n",
              "            (LayerNorm): LayerNorm((768,), eps=1e-12, elementwise_affine=True)\n",
              "            (dropout): Dropout(p=0.1, inplace=False)\n",
              "          )\n",
              "        )\n",
              "        (8): BertLayer(\n",
              "          (attention): BertAttention(\n",
              "            (self): BertSelfAttention(\n",
              "              (query): Linear(in_features=768, out_features=768, bias=True)\n",
              "              (key): Linear(in_features=768, out_features=768, bias=True)\n",
              "              (value): Linear(in_features=768, out_features=768, bias=True)\n",
              "              (dropout): Dropout(p=0.1, inplace=False)\n",
              "            )\n",
              "            (output): BertSelfOutput(\n",
              "              (dense): Linear(in_features=768, out_features=768, bias=True)\n",
              "              (LayerNorm): LayerNorm((768,), eps=1e-12, elementwise_affine=True)\n",
              "              (dropout): Dropout(p=0.1, inplace=False)\n",
              "            )\n",
              "          )\n",
              "          (intermediate): BertIntermediate(\n",
              "            (dense): Linear(in_features=768, out_features=3072, bias=True)\n",
              "          )\n",
              "          (output): BertOutput(\n",
              "            (dense): Linear(in_features=3072, out_features=768, bias=True)\n",
              "            (LayerNorm): LayerNorm((768,), eps=1e-12, elementwise_affine=True)\n",
              "            (dropout): Dropout(p=0.1, inplace=False)\n",
              "          )\n",
              "        )\n",
              "        (9): BertLayer(\n",
              "          (attention): BertAttention(\n",
              "            (self): BertSelfAttention(\n",
              "              (query): Linear(in_features=768, out_features=768, bias=True)\n",
              "              (key): Linear(in_features=768, out_features=768, bias=True)\n",
              "              (value): Linear(in_features=768, out_features=768, bias=True)\n",
              "              (dropout): Dropout(p=0.1, inplace=False)\n",
              "            )\n",
              "            (output): BertSelfOutput(\n",
              "              (dense): Linear(in_features=768, out_features=768, bias=True)\n",
              "              (LayerNorm): LayerNorm((768,), eps=1e-12, elementwise_affine=True)\n",
              "              (dropout): Dropout(p=0.1, inplace=False)\n",
              "            )\n",
              "          )\n",
              "          (intermediate): BertIntermediate(\n",
              "            (dense): Linear(in_features=768, out_features=3072, bias=True)\n",
              "          )\n",
              "          (output): BertOutput(\n",
              "            (dense): Linear(in_features=3072, out_features=768, bias=True)\n",
              "            (LayerNorm): LayerNorm((768,), eps=1e-12, elementwise_affine=True)\n",
              "            (dropout): Dropout(p=0.1, inplace=False)\n",
              "          )\n",
              "        )\n",
              "        (10): BertLayer(\n",
              "          (attention): BertAttention(\n",
              "            (self): BertSelfAttention(\n",
              "              (query): Linear(in_features=768, out_features=768, bias=True)\n",
              "              (key): Linear(in_features=768, out_features=768, bias=True)\n",
              "              (value): Linear(in_features=768, out_features=768, bias=True)\n",
              "              (dropout): Dropout(p=0.1, inplace=False)\n",
              "            )\n",
              "            (output): BertSelfOutput(\n",
              "              (dense): Linear(in_features=768, out_features=768, bias=True)\n",
              "              (LayerNorm): LayerNorm((768,), eps=1e-12, elementwise_affine=True)\n",
              "              (dropout): Dropout(p=0.1, inplace=False)\n",
              "            )\n",
              "          )\n",
              "          (intermediate): BertIntermediate(\n",
              "            (dense): Linear(in_features=768, out_features=3072, bias=True)\n",
              "          )\n",
              "          (output): BertOutput(\n",
              "            (dense): Linear(in_features=3072, out_features=768, bias=True)\n",
              "            (LayerNorm): LayerNorm((768,), eps=1e-12, elementwise_affine=True)\n",
              "            (dropout): Dropout(p=0.1, inplace=False)\n",
              "          )\n",
              "        )\n",
              "        (11): BertLayer(\n",
              "          (attention): BertAttention(\n",
              "            (self): BertSelfAttention(\n",
              "              (query): Linear(in_features=768, out_features=768, bias=True)\n",
              "              (key): Linear(in_features=768, out_features=768, bias=True)\n",
              "              (value): Linear(in_features=768, out_features=768, bias=True)\n",
              "              (dropout): Dropout(p=0.1, inplace=False)\n",
              "            )\n",
              "            (output): BertSelfOutput(\n",
              "              (dense): Linear(in_features=768, out_features=768, bias=True)\n",
              "              (LayerNorm): LayerNorm((768,), eps=1e-12, elementwise_affine=True)\n",
              "              (dropout): Dropout(p=0.1, inplace=False)\n",
              "            )\n",
              "          )\n",
              "          (intermediate): BertIntermediate(\n",
              "            (dense): Linear(in_features=768, out_features=3072, bias=True)\n",
              "          )\n",
              "          (output): BertOutput(\n",
              "            (dense): Linear(in_features=3072, out_features=768, bias=True)\n",
              "            (LayerNorm): LayerNorm((768,), eps=1e-12, elementwise_affine=True)\n",
              "            (dropout): Dropout(p=0.1, inplace=False)\n",
              "          )\n",
              "        )\n",
              "      )\n",
              "    )\n",
              "  )\n",
              "  (cls): BertOnlyMLMHead(\n",
              "    (predictions): BertLMPredictionHead(\n",
              "      (transform): BertPredictionHeadTransform(\n",
              "        (dense): Linear(in_features=768, out_features=768, bias=True)\n",
              "        (LayerNorm): LayerNorm((768,), eps=1e-12, elementwise_affine=True)\n",
              "      )\n",
              "      (decoder): Linear(in_features=768, out_features=119547, bias=True)\n",
              "    )\n",
              "  )\n",
              ")"
            ]
          },
          "metadata": {
            "tags": []
          },
          "execution_count": 26
        }
      ]
    },
    {
      "cell_type": "code",
      "metadata": {
        "colab": {
          "base_uri": "https://localhost:8080/"
        },
        "id": "aRZbWiraIK6X",
        "outputId": "31e32d15-c9a8-4bb1-f5db-ff99f30438e1"
      },
      "source": [
        "calc_cos_sim(data_test, model, tok, 'INPUT:source', 'ru_ru', 'cos_sim_ru_ru')\n",
        "data_test.cos_sim_ru_ru.mean()"
      ],
      "execution_count": null,
      "outputs": [
        {
          "output_type": "execute_result",
          "data": {
            "text/plain": [
              "0.9955931413422174"
            ]
          },
          "metadata": {
            "tags": []
          },
          "execution_count": 63
        }
      ]
    },
    {
      "cell_type": "markdown",
      "metadata": {
        "id": "cigemiOr7bHx"
      },
      "source": [
        "### Grammar"
      ]
    },
    {
      "cell_type": "code",
      "metadata": {
        "id": "u9d-pzVg7bWE",
        "colab": {
          "base_uri": "https://localhost:8080/"
        },
        "outputId": "2ae6ce08-b6de-4b88-85f8-c145c776eb55"
      },
      "source": [
        "tool = language_tool_python.LanguageTool('ru')"
      ],
      "execution_count": null,
      "outputs": [
        {
          "output_type": "stream",
          "text": [
            "Downloading LanguageTool: 100%|██████████| 190M/190M [00:03<00:00, 60.3MB/s]\n",
            "Unzipping /tmp/tmpjs52uptj.zip to /root/.cache/language_tool_python.\n",
            "Downloaded https://www.languagetool.org/download/LanguageTool-5.2.zip to /root/.cache/language_tool_python.\n"
          ],
          "name": "stderr"
        }
      ]
    },
    {
      "cell_type": "code",
      "metadata": {
        "colab": {
          "base_uri": "https://localhost:8080/"
        },
        "id": "V7KDPYvT7lWM",
        "outputId": "b1248b19-8e5f-42e6-d5b6-cb19bc5752df"
      },
      "source": [
        "errors = get_mistakes_summary(data_test, 'ru_ru')\n",
        "errors"
      ],
      "execution_count": null,
      "outputs": [
        {
          "output_type": "execute_result",
          "data": {
            "text/plain": [
              "{'CASING': 8,\n",
              " 'GRAMMAR': 22,\n",
              " 'LOGIC': 27,\n",
              " 'PUNCTUATION': 20,\n",
              " 'STYLE': 14,\n",
              " 'TYPOGRAPHY': 393,\n",
              " 'TYPOS': 800}"
            ]
          },
          "metadata": {
            "tags": []
          },
          "execution_count": 67
        }
      ]
    },
    {
      "cell_type": "markdown",
      "metadata": {
        "id": "uSnkqJDR6LMa"
      },
      "source": [
        "## Evaluation of Russian model without filtering pretrained on English data"
      ]
    },
    {
      "cell_type": "markdown",
      "metadata": {
        "id": "9ePmbqtwHeW-"
      },
      "source": [
        "### SARI"
      ]
    },
    {
      "cell_type": "code",
      "metadata": {
        "id": "emPJvW807f-w"
      },
      "source": [
        "# ! rm -r /content/prepared_data\n",
        "# ! mkdir /content/prepared_data"
      ],
      "execution_count": null,
      "outputs": []
    },
    {
      "cell_type": "code",
      "metadata": {
        "colab": {
          "base_uri": "https://localhost:8080/"
        },
        "id": "qB10OLWjHm7e",
        "outputId": "c893b8fb-b644-4507-80e8-030004d11b16"
      },
      "source": [
        "# ! python /content/sent_simplification/refs_to_easse_format.py \\\n",
        "# --input_path /content/drive/MyDrive/MT_sentence_simpl/wiki_test_dev_eng.csv \\\n",
        "# --output_dataset_name test_ref_data \\\n",
        "# --src_column \"INPUT:source\" \\\n",
        "# --trg_column \"OUTPUT:output\" \\\n",
        "# --output_dir /content/prepared_data"
      ],
      "execution_count": null,
      "outputs": [
        {
          "output_type": "stream",
          "text": [
            "1000\n",
            "3406\n",
            "3406\n",
            "Overall number of references: 3406\n"
          ],
          "name": "stdout"
        }
      ]
    },
    {
      "cell_type": "code",
      "metadata": {
        "id": "USZPW_qJcrb7"
      },
      "source": [
        "with open('/content/drive/MyDrive/MT_sentence_simpl/predictions/model_prediction_en_ru_ru.hyp', 'r') as f:\n",
        "  sentences = [i.strip() for i in f.readlines()]\n",
        "\n",
        "lt = list()\n",
        "st = set()\n",
        "for i in sentences:\n",
        "  if i not in st:\n",
        "    lt.append(i)\n",
        "    st.add(i)\n",
        "\n",
        "with open('/content/model_prediction_en_ru_ru.hyp', 'w') as f:\n",
        "  for i in lt:\n",
        "    f.write(i+'\\n')"
      ],
      "execution_count": null,
      "outputs": []
    },
    {
      "cell_type": "code",
      "metadata": {
        "colab": {
          "base_uri": "https://localhost:8080/"
        },
        "id": "jHymr7-XcxhD",
        "outputId": "9307680e-a541-4ffe-9944-b1a5dc69e258"
      },
      "source": [
        "! easse evaluate \\\n",
        "--test_set custom \\\n",
        "--metrics sari \\\n",
        "--refs_sents_paths /content/prepared_data/test_ref_data.ref.0,/content/prepared_data/test_ref_data.ref.1,/content/prepared_data/test_ref_data.ref.2,/content/prepared_data/test_ref_data.ref.3,/content/prepared_data/test_ref_data.ref.4 \\\n",
        "--orig_sents_path /content/prepared_data/test_ref_data.src \\\n",
        "--sys_sents_path /content/model_prediction_en_ru_ru.hyp -q"
      ],
      "execution_count": null,
      "outputs": [
        {
          "output_type": "stream",
          "text": [
            "{'sari': 16.939, 'quality_estimation': {'Compression ratio': 0.963, 'Sentence splits': 1.002, 'Levenshtein similarity': 0.975, 'Exact copies': 0.652, 'Additions proportion': 0.013, 'Deletions proportion': 0.051, 'Lexical complexity score': 10.682}}\n"
          ],
          "name": "stdout"
        }
      ]
    },
    {
      "cell_type": "markdown",
      "metadata": {
        "id": "5BVpaoymHvv1"
      },
      "source": [
        "### BLEU"
      ]
    },
    {
      "cell_type": "code",
      "metadata": {
        "colab": {
          "base_uri": "https://localhost:8080/"
        },
        "id": "vwmdgAqrHxJa",
        "outputId": "92db841c-e584-4d4f-d82c-5d79cf95db90"
      },
      "source": [
        "# make lists of src, dst\n",
        "# src_column, trg_column = \"en_ru_ru\", \"OUTPUT:output\"\n",
        "# data_dict = OrderedDict()\n",
        "# for ind, row in data_test.iterrows():\n",
        "#         source_sentence = row[src_column]\n",
        "#         reference_sentence = row[trg_column]\n",
        "#         if data_dict.get(source_sentence) is None:\n",
        "#             data_dict[source_sentence] = []\n",
        "#         data_dict[source_sentence].append(reference_sentence)\n",
        "# max_num_reference_sentences = max([len(x) for x in data_dict.values()])\n",
        "# src, dst = [i for i in data_dict.keys()], [i for i in data_dict.values()]\n",
        "# corpus_averaged_sentence_bleu(src, dst)"
      ],
      "execution_count": null,
      "outputs": [
        {
          "output_type": "execute_result",
          "data": {
            "text/plain": [
              "34.749903130866464"
            ]
          },
          "metadata": {
            "tags": []
          },
          "execution_count": 64
        }
      ]
    },
    {
      "cell_type": "code",
      "metadata": {
        "colab": {
          "base_uri": "https://localhost:8080/"
        },
        "id": "0RwXXSImODcq",
        "outputId": "41881c7a-6bb9-4319-a316-42ee673cc942"
      },
      "source": [
        "# make lists of src, dst\n",
        "src_column, trg_column = \"en_ru_ru\", \"OUTPUT:output\"\n",
        "data_dict = OrderedDict()\n",
        "for ind, row in data_test.iterrows():\n",
        "        source_sentence = row[src_column]\n",
        "        reference_sentence = row[trg_column]\n",
        "        if data_dict.get(source_sentence) is None:\n",
        "            data_dict[source_sentence] = []\n",
        "        data_dict[source_sentence].append(reference_sentence)\n",
        "max_num_reference_sentences = max([len(x) for x in data_dict.values()])\n",
        "\n",
        "src, dst = [i for i in data_dict.keys()], [i for i in data_dict.values()]\n",
        "for i, j in enumerate(src):\n",
        "   if len(dst[i]) < max_num_reference_sentences:\n",
        "    dst[i] = dst[i] + [dst[i][0]]*(max_num_reference_sentences - len(dst[i]))\n",
        "\n",
        "refs = []\n",
        "for j in range(len(dst[1])):\n",
        "  ref = []\n",
        "  for i in dst:\n",
        "    ref.append(i[j])\n",
        "  refs.append(ref)\n",
        "  \n",
        "corpus_bleu(src, refs)"
      ],
      "execution_count": null,
      "outputs": [
        {
          "output_type": "execute_result",
          "data": {
            "text/plain": [
              "36.94343271922458"
            ]
          },
          "metadata": {
            "tags": []
          },
          "execution_count": 96
        }
      ]
    },
    {
      "cell_type": "code",
      "metadata": {
        "colab": {
          "base_uri": "https://localhost:8080/"
        },
        "id": "n8fhVj8V85j_",
        "outputId": "e52a47a2-cd87-400f-af52-7daaaad360e5"
      },
      "source": [
        "refs = []\n",
        "for i, j in data_dict.items():\n",
        "  refs.append(j)\n",
        "\n",
        "nltk.translate.bleu_score.corpus_bleu(refs, src)"
      ],
      "execution_count": null,
      "outputs": [
        {
          "output_type": "execute_result",
          "data": {
            "text/plain": [
              "0.7200647332702366"
            ]
          },
          "metadata": {
            "tags": []
          },
          "execution_count": 97
        }
      ]
    },
    {
      "cell_type": "markdown",
      "metadata": {
        "id": "1jETQx4FIcrn"
      },
      "source": [
        "FKGL"
      ]
    },
    {
      "cell_type": "code",
      "metadata": {
        "colab": {
          "base_uri": "https://localhost:8080/"
        },
        "id": "OC18qNl_IeaH",
        "outputId": "a58df6ae-aedd-4ea3-e6ec-1ccd4df365e3"
      },
      "source": [
        "calc_readability_metrics(' '.join(list(data_test.en_ru_ru.values)))"
      ],
      "execution_count": null,
      "outputs": [
        {
          "output_type": "execute_result",
          "data": {
            "text/plain": [
              "{'avg_slen': 16.21505989731888,\n",
              " 'avg_syl': 2.8492700087950746,\n",
              " 'c_share': 15.980650835532103,\n",
              " 'chars': 456511,\n",
              " 'index_SMOG_rus': 14.281984238205567,\n",
              " 'index_ari_rus': 15.354965286246319,\n",
              " 'index_cl_rus': 14.277730870712404,\n",
              " 'index_dc_rus': 13.248030613181776,\n",
              " 'index_fk_rus': 15.116023172237462,\n",
              " 'letters': 380029,\n",
              " 'n_complex_words': 9085,\n",
              " 'n_sentences': 3506,\n",
              " 'n_simple_words': 44651,\n",
              " 'n_syllabes': 161981,\n",
              " 'n_words': 56850,\n",
              " 'spaces': 58090,\n",
              " 'wsyllabes': {'1': 9523,\n",
              "  '10': 35,\n",
              "  '11': 6,\n",
              "  '12': 4,\n",
              "  '2': 12377,\n",
              "  '3': 13254,\n",
              "  '4': 9497,\n",
              "  '5': 5829,\n",
              "  '6': 2373,\n",
              "  '7': 636,\n",
              "  '8': 163,\n",
              "  '9': 39}}"
            ]
          },
          "metadata": {
            "tags": []
          },
          "execution_count": 25
        }
      ]
    },
    {
      "cell_type": "markdown",
      "metadata": {
        "id": "fFjgoeh7IpYJ"
      },
      "source": [
        "COSINE SIMILARITY"
      ]
    },
    {
      "cell_type": "code",
      "metadata": {
        "colab": {
          "base_uri": "https://localhost:8080/"
        },
        "id": "1fY2gh4-IhzO",
        "outputId": "ddb33af2-1677-48f4-fc1b-1c8e453440f3"
      },
      "source": [
        "calc_cos_sim(data_test, model, tok, 'INPUT:source', 'ru_ru', 'cos_sim_en_ru_ru')\n",
        "data_test.cos_sim_en_ru_ru.mean()"
      ],
      "execution_count": null,
      "outputs": [
        {
          "output_type": "execute_result",
          "data": {
            "text/plain": [
              "0.9955931413422174"
            ]
          },
          "metadata": {
            "tags": []
          },
          "execution_count": 66
        }
      ]
    },
    {
      "cell_type": "markdown",
      "metadata": {
        "id": "pdM583By8ih3"
      },
      "source": [
        "### Grammar"
      ]
    },
    {
      "cell_type": "code",
      "metadata": {
        "colab": {
          "base_uri": "https://localhost:8080/"
        },
        "id": "Q4VXncwK8iuh",
        "outputId": "ca405d8b-1eff-4558-b043-1a745152eba0"
      },
      "source": [
        "errors = get_mistakes_summary(data_test, 'en_ru_ru')\n",
        "errors"
      ],
      "execution_count": null,
      "outputs": [
        {
          "output_type": "execute_result",
          "data": {
            "text/plain": [
              "{'CASING': 17,\n",
              " 'GRAMMAR': 20,\n",
              " 'LOGIC': 27,\n",
              " 'PUNCTUATION': 21,\n",
              " 'STYLE': 14,\n",
              " 'TYPOGRAPHY': 398,\n",
              " 'TYPOS': 800}"
            ]
          },
          "metadata": {
            "tags": []
          },
          "execution_count": 71
        }
      ]
    },
    {
      "cell_type": "markdown",
      "metadata": {
        "id": "LwNBRMRu7kEs"
      },
      "source": [
        "# Evaluation of Russian model trained on filtered data"
      ]
    },
    {
      "cell_type": "markdown",
      "metadata": {
        "id": "TMCemJhJIwGc"
      },
      "source": [
        "### SARI"
      ]
    },
    {
      "cell_type": "code",
      "metadata": {
        "colab": {
          "base_uri": "https://localhost:8080/"
        },
        "id": "NvTZcJHpPMH_",
        "outputId": "53339b27-84c8-463d-fac9-1b7f40f1ec3b"
      },
      "source": [
        "# ! rm -r /content/prepared_data\n",
        "# ! mkdir /content/prepared_data\n",
        "\n",
        "! python /content/sent_simplification/refs_to_easse_format.py \\\n",
        "--input_path /content/drive/MyDrive/MT_sentence_simpl/wiki_test_dev_eng.csv \\\n",
        "--output_dataset_name test_ref_data \\\n",
        "--src_column \"INPUT:source\" \\\n",
        "--trg_column \"OUTPUT:output\" \\\n",
        "--output_dir /content/prepared_data"
      ],
      "execution_count": null,
      "outputs": [
        {
          "output_type": "stream",
          "text": [
            "1000\n",
            "3406\n",
            "3406\n",
            "Overall number of references: 3406\n"
          ],
          "name": "stdout"
        }
      ]
    },
    {
      "cell_type": "code",
      "metadata": {
        "id": "sAV5J5oIc-A3"
      },
      "source": [
        "with open('/content/drive/MyDrive/MT_sentence_simpl/predictions/model_prediction_ru_ru_filtered.hyp', 'r') as f:\n",
        "  sentences = [i.strip() for i in f.readlines()]\n",
        "\n",
        "lt = list()\n",
        "st = set()\n",
        "for i in sentences:\n",
        "  if i not in st:\n",
        "    lt.append(i)\n",
        "    st.add(i)\n",
        "\n",
        "with open('/content/model_prediction_ru_ru_filtered.hyp', 'w') as f:\n",
        "  for i in lt:\n",
        "    f.write(i+'\\n')"
      ],
      "execution_count": null,
      "outputs": []
    },
    {
      "cell_type": "code",
      "metadata": {
        "colab": {
          "base_uri": "https://localhost:8080/"
        },
        "id": "jpUdzUATdGfR",
        "outputId": "2dcc04ee-09e5-4ed8-c804-df661152a26b"
      },
      "source": [
        "! easse evaluate \\\n",
        "--test_set custom \\\n",
        "--metrics sari \\\n",
        "--refs_sents_paths /content/prepared_data/test_ref_data.ref.0,/content/prepared_data/test_ref_data.ref.1,/content/prepared_data/test_ref_data.ref.2,/content/prepared_data/test_ref_data.ref.3,/content/prepared_data/test_ref_data.ref.4 \\\n",
        "--orig_sents_path /content/prepared_data/test_ref_data.src \\\n",
        "--sys_sents_path /content/model_prediction_ru_ru_filtered.hyp -q"
      ],
      "execution_count": null,
      "outputs": [
        {
          "output_type": "stream",
          "text": [
            "{'sari': 32.31, 'quality_estimation': {'Compression ratio': 0.661, 'Sentence splits': 0.988, 'Levenshtein similarity': 0.778, 'Exact copies': 0.014, 'Additions proportion': 0.014, 'Deletions proportion': 0.361, 'Lexical complexity score': 10.721}}\n"
          ],
          "name": "stdout"
        }
      ]
    },
    {
      "cell_type": "markdown",
      "metadata": {
        "id": "1dGsKlQxI4Kd"
      },
      "source": [
        "### BLEU"
      ]
    },
    {
      "cell_type": "code",
      "metadata": {
        "colab": {
          "base_uri": "https://localhost:8080/"
        },
        "id": "VZUXGHGqI6gq",
        "outputId": "0a79bc99-ca21-4154-e40b-2daaf137f21f"
      },
      "source": [
        "# make lists of src, dst\n",
        "# src_column, trg_column = \"ru_ru_filtered\", \"OUTPUT:output\"\n",
        "# data_dict = OrderedDict()\n",
        "# for ind, row in data_test.iterrows():\n",
        "#         source_sentence = row[src_column]\n",
        "#         reference_sentence = row[trg_column]\n",
        "#         if data_dict.get(source_sentence) is None:\n",
        "#             data_dict[source_sentence] = []\n",
        "#         data_dict[source_sentence].append(reference_sentence)\n",
        "# max_num_reference_sentences = max([len(x) for x in data_dict.values()])\n",
        "# src, dst = [i for i in data_dict.keys()], [i for i in data_dict.values()]\n",
        "# corpus_averaged_sentence_bleu(src, dst)"
      ],
      "execution_count": null,
      "outputs": [
        {
          "output_type": "execute_result",
          "data": {
            "text/plain": [
              "53.16967153331756"
            ]
          },
          "metadata": {
            "tags": []
          },
          "execution_count": 68
        }
      ]
    },
    {
      "cell_type": "code",
      "metadata": {
        "colab": {
          "base_uri": "https://localhost:8080/"
        },
        "id": "vHJVr6xsOIhK",
        "outputId": "5e05cda1-d88a-4a90-fb6b-e3ef17916de7"
      },
      "source": [
        "# make lists of src, dst\n",
        "src_column, trg_column = \"ru_ru_filtered\", \"OUTPUT:output\"\n",
        "data_dict = OrderedDict()\n",
        "for ind, row in data_test.iterrows():\n",
        "        source_sentence = row[src_column]\n",
        "        reference_sentence = row[trg_column]\n",
        "        if data_dict.get(source_sentence) is None:\n",
        "            data_dict[source_sentence] = []\n",
        "        data_dict[source_sentence].append(reference_sentence)\n",
        "max_num_reference_sentences = max([len(x) for x in data_dict.values()])\n",
        "\n",
        "src, dst = [i for i in data_dict.keys()], [i for i in data_dict.values()]\n",
        "for i, j in enumerate(src):\n",
        "   if len(dst[i]) < max_num_reference_sentences:\n",
        "    dst[i] = dst[i] + [dst[i][0]]*(max_num_reference_sentences - len(dst[i]))\n",
        "\n",
        "refs = []\n",
        "for j in range(len(dst[1])):\n",
        "  ref = []\n",
        "  for i in dst:\n",
        "    ref.append(i[j])\n",
        "  refs.append(ref)\n",
        "  \n",
        "corpus_bleu(src, refs)"
      ],
      "execution_count": null,
      "outputs": [
        {
          "output_type": "execute_result",
          "data": {
            "text/plain": [
              "37.2531944122807"
            ]
          },
          "metadata": {
            "tags": []
          },
          "execution_count": 98
        }
      ]
    },
    {
      "cell_type": "code",
      "metadata": {
        "colab": {
          "base_uri": "https://localhost:8080/"
        },
        "id": "F0mGOm2D81tP",
        "outputId": "c1323f71-6bd1-4cff-f720-12b23847cd2e"
      },
      "source": [
        "refs = []\n",
        "for i, j in data_dict.items():\n",
        "  refs.append(j)\n",
        "\n",
        "nltk.translate.bleu_score.corpus_bleu(refs, src)"
      ],
      "execution_count": null,
      "outputs": [
        {
          "output_type": "execute_result",
          "data": {
            "text/plain": [
              "0.7725918655216105"
            ]
          },
          "metadata": {
            "tags": []
          },
          "execution_count": 99
        }
      ]
    },
    {
      "cell_type": "markdown",
      "metadata": {
        "id": "DGiWU1_aJDLT"
      },
      "source": [
        "### FKLG"
      ]
    },
    {
      "cell_type": "code",
      "metadata": {
        "colab": {
          "base_uri": "https://localhost:8080/"
        },
        "id": "XxWMdzEzI_y9",
        "outputId": "fb5508db-8bb7-4492-c667-8bd0bf0c071a"
      },
      "source": [
        "calc_readability_metrics(' '.join(list(data_test.ru_ru_filtered.values)))"
      ],
      "execution_count": null,
      "outputs": [
        {
          "output_type": "execute_result",
          "data": {
            "text/plain": [
              "{'avg_slen': 11.11542957334892,\n",
              " 'avg_syl': 2.8846123511317927,\n",
              " 'c_share': 15.910823671688092,\n",
              " 'chars': 310421,\n",
              " 'index_SMOG_rus': 11.807592421245358,\n",
              " 'index_ari_rus': 14.509345250891315,\n",
              " 'index_cl_rus': 13.801266924310546,\n",
              " 'index_dc_rus': 11.817286940296082,\n",
              " 'index_fk_rus': 13.996201990396415,\n",
              " 'letters': 257822,\n",
              " 'n_complex_words': 6052,\n",
              " 'n_sentences': 3422,\n",
              " 'n_simple_words': 30130,\n",
              " 'n_syllabes': 109722,\n",
              " 'n_words': 38037,\n",
              " 'spaces': 38974,\n",
              " 'wsyllabes': {'1': 5850,\n",
              "  '10': 18,\n",
              "  '11': 6,\n",
              "  '12': 1,\n",
              "  '2': 8631,\n",
              "  '3': 9238,\n",
              "  '4': 6411,\n",
              "  '5': 3882,\n",
              "  '6': 1585,\n",
              "  '7': 428,\n",
              "  '8': 110,\n",
              "  '9': 22}}"
            ]
          },
          "metadata": {
            "tags": []
          },
          "execution_count": 26
        }
      ]
    },
    {
      "cell_type": "markdown",
      "metadata": {
        "id": "m4_X7x7BJd99"
      },
      "source": [
        "COSINE SIMILARITY"
      ]
    },
    {
      "cell_type": "code",
      "metadata": {
        "colab": {
          "base_uri": "https://localhost:8080/"
        },
        "id": "Zjs-ktIBJFC2",
        "outputId": "8a17c9e5-9ad2-412a-c74e-7d1e7adc6dc5"
      },
      "source": [
        "calc_cos_sim(data_test, model, tok, 'INPUT:source', 'ru_ru_filtered', 'cos_sim_ru_ru_filtered')\n",
        "data_test.cos_sim_ru_ru_filtered.mean()"
      ],
      "execution_count": null,
      "outputs": [
        {
          "output_type": "execute_result",
          "data": {
            "text/plain": [
              "0.9557879034449476"
            ]
          },
          "metadata": {
            "tags": []
          },
          "execution_count": 70
        }
      ]
    },
    {
      "cell_type": "markdown",
      "metadata": {
        "id": "wBo9gVRN7wH-"
      },
      "source": [
        "### Grammar"
      ]
    },
    {
      "cell_type": "code",
      "metadata": {
        "colab": {
          "base_uri": "https://localhost:8080/"
        },
        "id": "Fzol-U3Q7wVC",
        "outputId": "62c0ad4e-1237-4dfd-b1ef-839885e9e875"
      },
      "source": [
        "errors = get_mistakes_summary(data_test, 'ru_ru_filtered')\n",
        "errors"
      ],
      "execution_count": null,
      "outputs": [
        {
          "output_type": "execute_result",
          "data": {
            "text/plain": [
              "{'CASING': 32,\n",
              " 'GRAMMAR': 31,\n",
              " 'LOGIC': 27,\n",
              " 'PUNCTUATION': 22,\n",
              " 'STYLE': 2,\n",
              " 'TYPOGRAPHY': 197,\n",
              " 'TYPOS': 571}"
            ]
          },
          "metadata": {
            "tags": []
          },
          "execution_count": 72
        }
      ]
    },
    {
      "cell_type": "markdown",
      "metadata": {
        "id": "SQfGnycP7qSc"
      },
      "source": [
        "# Evaluation of Russian model trained on filtered data and pretrained on english data"
      ]
    },
    {
      "cell_type": "markdown",
      "metadata": {
        "id": "KSVt7W5wJvs9"
      },
      "source": [
        "### SARI"
      ]
    },
    {
      "cell_type": "code",
      "metadata": {
        "id": "yGi3UxT8dUz7"
      },
      "source": [
        "with open('/content/drive/MyDrive/MT_sentence_simpl/predictions/model_prediction_en_ru_ru_filtered.hyp', 'r') as f:\n",
        "  sentences = [i.strip() for i in f.readlines()]\n",
        "\n",
        "lt = list()\n",
        "st = set()\n",
        "for i in sentences:\n",
        "  if i not in st:\n",
        "    lt.append(i)\n",
        "    st.add(i)\n",
        "\n",
        "with open('/content/model_prediction_en_ru_ru_filtered.hyp', 'w') as f:\n",
        "  for i in lt:\n",
        "    f.write(i+'\\n')"
      ],
      "execution_count": null,
      "outputs": []
    },
    {
      "cell_type": "code",
      "metadata": {
        "colab": {
          "base_uri": "https://localhost:8080/"
        },
        "id": "I2_eTgS8dZot",
        "outputId": "9515851b-5aa5-45b7-dd47-96a320a04262"
      },
      "source": [
        "! easse evaluate \\\n",
        "--test_set custom \\\n",
        "--metrics sari \\\n",
        "--refs_sents_paths /content/prepared_data/test_ref_data.ref.0,/content/prepared_data/test_ref_data.ref.1,/content/prepared_data/test_ref_data.ref.2,/content/prepared_data/test_ref_data.ref.3,/content/prepared_data/test_ref_data.ref.4 \\\n",
        "--orig_sents_path /content/prepared_data/test_ref_data.src \\\n",
        "--sys_sents_path /content/model_prediction_en_ru_ru_filtered.hyp -q"
      ],
      "execution_count": null,
      "outputs": [
        {
          "output_type": "stream",
          "text": [
            "{'sari': 32.234, 'quality_estimation': {'Compression ratio': 0.658, 'Sentence splits': 0.988, 'Levenshtein similarity': 0.775, 'Exact copies': 0.018, 'Additions proportion': 0.017, 'Deletions proportion': 0.367, 'Lexical complexity score': 10.727}}\n"
          ],
          "name": "stdout"
        }
      ]
    },
    {
      "cell_type": "markdown",
      "metadata": {
        "id": "l560Tmw0J45J"
      },
      "source": [
        "### BLEU"
      ]
    },
    {
      "cell_type": "code",
      "metadata": {
        "colab": {
          "base_uri": "https://localhost:8080/"
        },
        "id": "qkiou3_wJ8Rx",
        "outputId": "38abfff6-b61d-4b2e-9c49-244226ac3ef2"
      },
      "source": [
        "# make lists of src, dst\n",
        "# src_column, trg_column = \"en_ru_ru_filtered\", \"OUTPUT:output\"\n",
        "# data_dict = OrderedDict()\n",
        "# for ind, row in data_test.iterrows():\n",
        "#         source_sentence = row[src_column]\n",
        "#         reference_sentence = row[trg_column]\n",
        "#         if data_dict.get(source_sentence) is None:\n",
        "#             data_dict[source_sentence] = []\n",
        "#         data_dict[source_sentence].append(reference_sentence)\n",
        "# max_num_reference_sentences = max([len(x) for x in data_dict.values()])\n",
        "# src, dst = [i for i in data_dict.keys()], [i for i in data_dict.values()]\n",
        "# corpus_averaged_sentence_bleu(src, dst)"
      ],
      "execution_count": null,
      "outputs": [
        {
          "output_type": "execute_result",
          "data": {
            "text/plain": [
              "53.16967153331756"
            ]
          },
          "metadata": {
            "tags": []
          },
          "execution_count": 72
        }
      ]
    },
    {
      "cell_type": "code",
      "metadata": {
        "colab": {
          "base_uri": "https://localhost:8080/"
        },
        "id": "2IgqvZUQOXUk",
        "outputId": "ca186a95-4567-4fab-c6b5-162215ca91ea"
      },
      "source": [
        "# make lists of src, dst\n",
        "src_column, trg_column = \"en_ru_ru_filtered\", \"OUTPUT:output\"\n",
        "data_dict = OrderedDict()\n",
        "for ind, row in data_test.iterrows():\n",
        "        source_sentence = row[src_column]\n",
        "        reference_sentence = row[trg_column]\n",
        "        if data_dict.get(source_sentence) is None:\n",
        "            data_dict[source_sentence] = []\n",
        "        data_dict[source_sentence].append(reference_sentence)\n",
        "max_num_reference_sentences = max([len(x) for x in data_dict.values()])\n",
        "\n",
        "src, dst = [i for i in data_dict.keys()], [i for i in data_dict.values()]\n",
        "for i, j in enumerate(src):\n",
        "   if len(dst[i]) < max_num_reference_sentences:\n",
        "    dst[i] = dst[i] + [dst[i][0]]*(max_num_reference_sentences - len(dst[i]))\n",
        "\n",
        "refs = []\n",
        "for j in range(len(dst[1])):\n",
        "  ref = []\n",
        "  for i in dst:\n",
        "    ref.append(i[j])\n",
        "  refs.append(ref)\n",
        "  \n",
        "corpus_bleu(src, refs)"
      ],
      "execution_count": null,
      "outputs": [
        {
          "output_type": "execute_result",
          "data": {
            "text/plain": [
              "36.79295860256343"
            ]
          },
          "metadata": {
            "tags": []
          },
          "execution_count": 100
        }
      ]
    },
    {
      "cell_type": "code",
      "metadata": {
        "colab": {
          "base_uri": "https://localhost:8080/"
        },
        "id": "2IyfZOWY8xro",
        "outputId": "60077908-19e3-4463-b60f-8dc52b50415b"
      },
      "source": [
        "refs = []\n",
        "for i, j in data_dict.items():\n",
        "  refs.append(j)\n",
        "\n",
        "nltk.translate.bleu_score.corpus_bleu(refs, src)"
      ],
      "execution_count": null,
      "outputs": [
        {
          "output_type": "execute_result",
          "data": {
            "text/plain": [
              "0.7746458621440553"
            ]
          },
          "metadata": {
            "tags": []
          },
          "execution_count": 101
        }
      ]
    },
    {
      "cell_type": "markdown",
      "metadata": {
        "id": "Ffsz9WUQKA5s"
      },
      "source": [
        "### FKLG"
      ]
    },
    {
      "cell_type": "code",
      "metadata": {
        "colab": {
          "base_uri": "https://localhost:8080/"
        },
        "id": "D6wqh8zXKFFx",
        "outputId": "09847427-1982-4b16-d1d8-103be63e9e5e"
      },
      "source": [
        "calc_readability_metrics(' '.join(list(data_test.en_ru_ru_filtered.values)))"
      ],
      "execution_count": null,
      "outputs": [
        {
          "output_type": "execute_result",
          "data": {
            "text/plain": [
              "{'avg_slen': 11.183596030356101,\n",
              " 'avg_syl': 2.887798512331985,\n",
              " 'c_share': 16.01983557353517,\n",
              " 'chars': 312398,\n",
              " 'index_SMOG_rus': 11.883922121789904,\n",
              " 'index_ari_rus': 14.494590752285468,\n",
              " 'index_cl_rus': 13.790696855017622,\n",
              " 'index_dc_rus': 11.89607095287863,\n",
              " 'index_fk_rus': 14.06312241276742,\n",
              " 'letters': 259499,\n",
              " 'n_complex_words': 6138,\n",
              " 'n_sentences': 3426,\n",
              " 'n_simple_words': 30281,\n",
              " 'n_syllabes': 110646,\n",
              " 'n_words': 38315,\n",
              " 'spaces': 39266,\n",
              " 'wsyllabes': {'1': 5932,\n",
              "  '10': 25,\n",
              "  '11': 6,\n",
              "  '12': 1,\n",
              "  '2': 8604,\n",
              "  '3': 9235,\n",
              "  '4': 6510,\n",
              "  '5': 3952,\n",
              "  '6': 1564,\n",
              "  '7': 450,\n",
              "  '8': 121,\n",
              "  '9': 19}}"
            ]
          },
          "metadata": {
            "tags": []
          },
          "execution_count": 27
        }
      ]
    },
    {
      "cell_type": "markdown",
      "metadata": {
        "id": "qQ37yfUWKPDu"
      },
      "source": [
        ""
      ]
    },
    {
      "cell_type": "code",
      "metadata": {
        "colab": {
          "base_uri": "https://localhost:8080/"
        },
        "id": "5aJEICiXKPYX",
        "outputId": "89f1d08a-552e-4ef8-a435-449f3e009c3e"
      },
      "source": [
        "calc_cos_sim(data_test, model, tok, 'INPUT:source', 'en_ru_ru_filtered', 'cos_sim_en_ru_ru_filtered')\n",
        "data_test.cos_sim_en_ru_ru_filtered.mean()"
      ],
      "execution_count": null,
      "outputs": [
        {
          "output_type": "execute_result",
          "data": {
            "text/plain": [
              "0.9578453072041045"
            ]
          },
          "metadata": {
            "tags": []
          },
          "execution_count": 74
        }
      ]
    },
    {
      "cell_type": "markdown",
      "metadata": {
        "id": "_GlFJxnq77UQ"
      },
      "source": [
        "### Grammar"
      ]
    },
    {
      "cell_type": "code",
      "metadata": {
        "colab": {
          "base_uri": "https://localhost:8080/"
        },
        "id": "IXgC3B1674uA",
        "outputId": "cf24f5ba-0ee5-413a-cee3-c992d60cbcd4"
      },
      "source": [
        "errors = get_mistakes_summary(data_test, 'en_ru_ru_filtered')\n",
        "errors"
      ],
      "execution_count": null,
      "outputs": [
        {
          "output_type": "execute_result",
          "data": {
            "text/plain": [
              "{'CASING': 35,\n",
              " 'GRAMMAR': 33,\n",
              " 'LOGIC': 27,\n",
              " 'PUNCTUATION': 11,\n",
              " 'STYLE': 1,\n",
              " 'TYPOGRAPHY': 218,\n",
              " 'TYPOS': 578}"
            ]
          },
          "metadata": {
            "tags": []
          },
          "execution_count": 69
        }
      ]
    },
    {
      "cell_type": "markdown",
      "metadata": {
        "id": "1mZ6VVDA7yGD"
      },
      "source": [
        "# Evaluation of Russian model trained on filtered data and pretrained on paraphraser"
      ]
    },
    {
      "cell_type": "markdown",
      "metadata": {
        "id": "F6_0nllzKYx3"
      },
      "source": [
        "### SARI"
      ]
    },
    {
      "cell_type": "code",
      "metadata": {
        "id": "CeATsusHdzVb"
      },
      "source": [
        "with open('/content/drive/MyDrive/MT_sentence_simpl/predictions/model_prediction_paraphraser_ru2_12epochs.hyp', 'r') as f:\n",
        "  sentences = [i.strip() for i in f.readlines()]\n",
        "\n",
        "lt = list()\n",
        "st = set()\n",
        "for i in sentences:\n",
        "  if i not in st:\n",
        "    lt.append(i)\n",
        "    st.add(i)\n",
        "\n",
        "with open('/content/model_prediction_paraphraser_ru2_12epochs.hyp', 'w') as f:\n",
        "  for i in lt:\n",
        "    f.write(i+'\\n')"
      ],
      "execution_count": null,
      "outputs": []
    },
    {
      "cell_type": "code",
      "metadata": {
        "colab": {
          "base_uri": "https://localhost:8080/"
        },
        "id": "eurZwyoed5cg",
        "outputId": "9b5057a0-66b5-47ac-8ef2-4c022bcf3e80"
      },
      "source": [
        "! easse evaluate \\\n",
        "--test_set custom \\\n",
        "--metrics sari \\\n",
        "--refs_sents_paths /content/prepared_data/test_ref_data.ref.0,/content/prepared_data/test_ref_data.ref.1,/content/prepared_data/test_ref_data.ref.2,/content/prepared_data/test_ref_data.ref.3,/content/prepared_data/test_ref_data.ref.4 \\\n",
        "--orig_sents_path /content/prepared_data/test_ref_data.src \\\n",
        "--sys_sents_path /content/model_prediction_paraphraser_ru2_12epochs.hyp -q"
      ],
      "execution_count": null,
      "outputs": [
        {
          "output_type": "stream",
          "text": [
            "{'sari': 31.812, 'quality_estimation': {'Compression ratio': 0.694, 'Sentence splits': 0.987, 'Levenshtein similarity': 0.798, 'Exact copies': 0.051, 'Additions proportion': 0.014, 'Deletions proportion': 0.332, 'Lexical complexity score': 10.707}}\n"
          ],
          "name": "stdout"
        }
      ]
    },
    {
      "cell_type": "markdown",
      "metadata": {
        "id": "H1QI8WECKh0t"
      },
      "source": [
        "### BLEU"
      ]
    },
    {
      "cell_type": "code",
      "metadata": {
        "colab": {
          "base_uri": "https://localhost:8080/"
        },
        "id": "H5IdeuUPKjQO",
        "outputId": "b4b7f61b-55e3-4e19-92fa-5c3e17dfeb38"
      },
      "source": [
        "# make lists of src, dst\n",
        "# src_column, trg_column = \"paraphraser_ru\", \"OUTPUT:output\"\n",
        "# data_dict = OrderedDict()\n",
        "# for ind, row in data_test.iterrows():\n",
        "#         source_sentence = row[src_column]\n",
        "#         reference_sentence = row[trg_column]\n",
        "#         if data_dict.get(source_sentence) is None:\n",
        "#             data_dict[source_sentence] = []\n",
        "#         data_dict[source_sentence].append(reference_sentence)\n",
        "# max_num_reference_sentences = max([len(x) for x in data_dict.values()])\n",
        "# src, dst = [i for i in data_dict.keys()], [i for i in data_dict.values()]\n",
        "# corpus_averaged_sentence_bleu(src, dst)"
      ],
      "execution_count": null,
      "outputs": [
        {
          "output_type": "execute_result",
          "data": {
            "text/plain": [
              "53.16967153331756"
            ]
          },
          "metadata": {
            "tags": []
          },
          "execution_count": 77
        }
      ]
    },
    {
      "cell_type": "code",
      "metadata": {
        "colab": {
          "base_uri": "https://localhost:8080/"
        },
        "id": "ytrrJQBDOb3K",
        "outputId": "44a8d870-1589-48da-deff-b7826bf19de8"
      },
      "source": [
        "# make lists of src, dst\n",
        "src_column, trg_column = \"paraphraser_ru\", \"OUTPUT:output\"\n",
        "data_dict = OrderedDict()\n",
        "for ind, row in data_test.iterrows():\n",
        "        source_sentence = row[src_column]\n",
        "        reference_sentence = row[trg_column]\n",
        "        if data_dict.get(source_sentence) is None:\n",
        "            data_dict[source_sentence] = []\n",
        "        data_dict[source_sentence].append(reference_sentence)\n",
        "max_num_reference_sentences = max([len(x) for x in data_dict.values()])\n",
        "\n",
        "src, dst = [i for i in data_dict.keys()], [i for i in data_dict.values()]\n",
        "for i, j in enumerate(src):\n",
        "   if len(dst[i]) < max_num_reference_sentences:\n",
        "    dst[i] = dst[i] + [dst[i][0]]*(max_num_reference_sentences - len(dst[i]))\n",
        "\n",
        "refs = []\n",
        "for j in range(len(dst[1])):\n",
        "  ref = []\n",
        "  for i in dst:\n",
        "    ref.append(i[j])\n",
        "  refs.append(ref)\n",
        "  \n",
        "corpus_bleu(src, refs)"
      ],
      "execution_count": null,
      "outputs": [
        {
          "output_type": "execute_result",
          "data": {
            "text/plain": [
              "37.98414836939204"
            ]
          },
          "metadata": {
            "tags": []
          },
          "execution_count": 102
        }
      ]
    },
    {
      "cell_type": "code",
      "metadata": {
        "colab": {
          "base_uri": "https://localhost:8080/"
        },
        "id": "XRQiwID58ub7",
        "outputId": "d950b056-fe41-48d9-da6c-a703172929aa"
      },
      "source": [
        "refs = []\n",
        "for i, j in data_dict.items():\n",
        "  refs.append(j)\n",
        "\n",
        "nltk.translate.bleu_score.corpus_bleu(refs, src)"
      ],
      "execution_count": null,
      "outputs": [
        {
          "output_type": "execute_result",
          "data": {
            "text/plain": [
              "0.7706207829780775"
            ]
          },
          "metadata": {
            "tags": []
          },
          "execution_count": 103
        }
      ]
    },
    {
      "cell_type": "markdown",
      "metadata": {
        "id": "ahwL08h7Kp3J"
      },
      "source": [
        "### FKLG"
      ]
    },
    {
      "cell_type": "code",
      "metadata": {
        "colab": {
          "base_uri": "https://localhost:8080/"
        },
        "id": "kVcYFJFSKqrf",
        "outputId": "db73b0cb-27ec-4398-b6c5-be5fbb3712d3"
      },
      "source": [
        "calc_readability_metrics(' '.join(list(data_test.paraphraser_ru.values)))"
      ],
      "execution_count": null,
      "outputs": [
        {
          "output_type": "execute_result",
          "data": {
            "text/plain": [
              "{'avg_slen': 11.698250728862973,\n",
              " 'avg_syl': 2.880299065420561,\n",
              " 'c_share': 15.937694704049845,\n",
              " 'chars': 325728,\n",
              " 'index_SMOG_rus': 12.122081494236964,\n",
              " 'index_ari_rus': 14.536493535053538,\n",
              " 'index_cl_rus': 13.83836137071652,\n",
              " 'index_dc_rus': 11.991229925615107,\n",
              " 'index_fk_rus': 14.12029046075039,\n",
              " 'letters': 271101,\n",
              " 'n_complex_words': 6395,\n",
              " 'n_sentences': 3430,\n",
              " 'n_simple_words': 31695,\n",
              " 'n_syllabes': 115572,\n",
              " 'n_words': 40125,\n",
              " 'spaces': 41033,\n",
              " 'wsyllabes': {'1': 6297,\n",
              "  '10': 23,\n",
              "  '11': 6,\n",
              "  '12': 1,\n",
              "  '2': 8982,\n",
              "  '3': 9561,\n",
              "  '4': 6855,\n",
              "  '5': 4047,\n",
              "  '6': 1717,\n",
              "  '7': 464,\n",
              "  '8': 118,\n",
              "  '9': 19}}"
            ]
          },
          "metadata": {
            "tags": []
          },
          "execution_count": 28
        }
      ]
    },
    {
      "cell_type": "code",
      "metadata": {
        "colab": {
          "base_uri": "https://localhost:8080/"
        },
        "id": "AgvGxMoHKtUw",
        "outputId": "d09e002d-8646-4979-bce8-df93a943a4cd"
      },
      "source": [
        "calc_cos_sim(data_test, model, tok, 'INPUT:source', 'paraphraser_ru', 'cos_sim_paraphraser_ru')\n",
        "data_test.cos_sim_paraphraser_ru.mean()"
      ],
      "execution_count": null,
      "outputs": [
        {
          "output_type": "execute_result",
          "data": {
            "text/plain": [
              "0.9564811277410527"
            ]
          },
          "metadata": {
            "tags": []
          },
          "execution_count": 79
        }
      ]
    },
    {
      "cell_type": "markdown",
      "metadata": {
        "id": "gbPvq8GM71Ti"
      },
      "source": [
        "### Grammar"
      ]
    },
    {
      "cell_type": "code",
      "metadata": {
        "colab": {
          "base_uri": "https://localhost:8080/"
        },
        "id": "PGZIQQ-471gb",
        "outputId": "51efb6d2-c808-44b6-cfbf-8c6cd8276442"
      },
      "source": [
        "errors = get_mistakes_summary(data_test, 'paraphraser_ru')\n",
        "errors"
      ],
      "execution_count": null,
      "outputs": [
        {
          "output_type": "execute_result",
          "data": {
            "text/plain": [
              "{'CASING': 22,\n",
              " 'GRAMMAR': 39,\n",
              " 'LOGIC': 27,\n",
              " 'PUNCTUATION': 29,\n",
              " 'TYPOGRAPHY': 183,\n",
              " 'TYPOS': 605}"
            ]
          },
          "metadata": {
            "tags": []
          },
          "execution_count": 73
        }
      ]
    },
    {
      "cell_type": "markdown",
      "metadata": {
        "id": "8n3fa0m6778J"
      },
      "source": [
        "# Evaluation of Russian model trained on Paraphraser"
      ]
    },
    {
      "cell_type": "markdown",
      "metadata": {
        "id": "HaFAYMYHLLN6"
      },
      "source": [
        "### SARI"
      ]
    },
    {
      "cell_type": "code",
      "metadata": {
        "id": "0iwHBOCJe9Zl"
      },
      "source": [
        "with open('/content/drive/MyDrive/MT_sentence_simpl/predictions/model_prediction_paraphraser.hyp', 'r') as f:\n",
        "  sentences = [i.strip()+'.' for i in f.readlines()]\n",
        "\n",
        "lt = list()\n",
        "st = set()\n",
        "for i in sentences:\n",
        "  if i not in st:\n",
        "    lt.append(i)\n",
        "    st.add(i)\n",
        "\n",
        "with open('/content/model_prediction_paraphraser.hyp', 'w') as f:\n",
        "  for i in lt:\n",
        "    f.write(i+'\\n')"
      ],
      "execution_count": null,
      "outputs": []
    },
    {
      "cell_type": "code",
      "metadata": {
        "colab": {
          "base_uri": "https://localhost:8080/"
        },
        "id": "pKE_HHlsfAZL",
        "outputId": "4ba929de-d60c-4f98-fe46-95ffd6786e63"
      },
      "source": [
        "! easse evaluate \\\n",
        "--test_set custom \\\n",
        "--metrics sari \\\n",
        "--refs_sents_paths /content/prepared_data/test_ref_data.ref.0,/content/prepared_data/test_ref_data.ref.1,/content/prepared_data/test_ref_data.ref.2,/content/prepared_data/test_ref_data.ref.3,/content/prepared_data/test_ref_data.ref.4 \\\n",
        "--orig_sents_path /content/prepared_data/test_ref_data.src \\\n",
        "--sys_sents_path /content/model_prediction_paraphraser.hyp -q"
      ],
      "execution_count": null,
      "outputs": [
        {
          "output_type": "stream",
          "text": [
            "{'sari': 35.149, 'quality_estimation': {'Compression ratio': 0.624, 'Sentence splits': 0.985, 'Levenshtein similarity': 0.711, 'Exact copies': 0.026, 'Additions proportion': 0.053, 'Deletions proportion': 0.441, 'Lexical complexity score': 10.732}}\n"
          ],
          "name": "stdout"
        }
      ]
    },
    {
      "cell_type": "markdown",
      "metadata": {
        "id": "sVA0bzv7MJPQ"
      },
      "source": [
        "### BLEU"
      ]
    },
    {
      "cell_type": "code",
      "metadata": {
        "id": "FT4jGH0qL_Vm"
      },
      "source": [
        "# make lists of src, dst\n",
        "# src_column, trg_column = \"paraphraser\", \"OUTPUT:output\"\n",
        "# data_dict = OrderedDict()\n",
        "# for ind, row in data_test.iterrows():\n",
        "#         source_sentence = row[src_column]\n",
        "#         reference_sentence = row[trg_column]\n",
        "#         if data_dict.get(source_sentence) is None:\n",
        "#             data_dict[source_sentence] = []\n",
        "#         data_dict[source_sentence].append(reference_sentence)\n",
        "# max_num_reference_sentences = max([len(x) for x in data_dict.values()])\n",
        "# src, dst = [i for i in data_dict.keys()], [i for i in data_dict.values()]\n",
        "# corpus_averaged_sentence_bleu(src, dst)"
      ],
      "execution_count": null,
      "outputs": []
    },
    {
      "cell_type": "code",
      "metadata": {
        "colab": {
          "base_uri": "https://localhost:8080/"
        },
        "id": "4VOetPfZOpzd",
        "outputId": "968995ca-d23c-47c8-9fb5-9bbbfd53c3ab"
      },
      "source": [
        "# make lists of src, dst\n",
        "src_column, trg_column = \"paraphraser\", \"OUTPUT:output\"\n",
        "data_dict = OrderedDict()\n",
        "for ind, row in data_test.iterrows():\n",
        "        source_sentence = row[src_column]\n",
        "        reference_sentence = row[trg_column]\n",
        "        if data_dict.get(source_sentence) is None:\n",
        "            data_dict[source_sentence] = []\n",
        "        data_dict[source_sentence].append(reference_sentence)\n",
        "max_num_reference_sentences = max([len(x) for x in data_dict.values()])\n",
        "\n",
        "src, dst = [i for i in data_dict.keys()], [i for i in data_dict.values()]\n",
        "for i, j in enumerate(src):\n",
        "   if len(dst[i]) < max_num_reference_sentences:\n",
        "    dst[i] = dst[i] + [dst[i][0]]*(max_num_reference_sentences - len(dst[i]))\n",
        "\n",
        "refs = []\n",
        "for j in range(len(dst[1])):\n",
        "  ref = []\n",
        "  for i in dst:\n",
        "    ref.append(i[j])\n",
        "  refs.append(ref)\n",
        "  \n",
        "corpus_bleu(src, refs)"
      ],
      "execution_count": null,
      "outputs": [
        {
          "output_type": "execute_result",
          "data": {
            "text/plain": [
              "30.314500674726755"
            ]
          },
          "metadata": {
            "tags": []
          },
          "execution_count": 104
        }
      ]
    },
    {
      "cell_type": "code",
      "metadata": {
        "colab": {
          "base_uri": "https://localhost:8080/"
        },
        "id": "wsYdc4Qu8aA9",
        "outputId": "15d443ed-a173-4a0a-88f2-94400e991c40"
      },
      "source": [
        "refs = []\n",
        "for i, j in data_dict.items():\n",
        "  refs.append(j)\n",
        "\n",
        "nltk.translate.bleu_score.corpus_bleu(refs, src)"
      ],
      "execution_count": null,
      "outputs": [
        {
          "output_type": "execute_result",
          "data": {
            "text/plain": [
              "0.7206319953649845"
            ]
          },
          "metadata": {
            "tags": []
          },
          "execution_count": 105
        }
      ]
    },
    {
      "cell_type": "markdown",
      "metadata": {
        "id": "eI0WgJHAMsWY"
      },
      "source": [
        "### FKLG"
      ]
    },
    {
      "cell_type": "code",
      "metadata": {
        "colab": {
          "base_uri": "https://localhost:8080/"
        },
        "id": "xRvK4CNkMeEu",
        "outputId": "40b5911c-5ba4-4dd6-80de-c6f8ae9f16a4"
      },
      "source": [
        "calc_readability_metrics(' '.join(list(data_test.paraphraser.values)))"
      ],
      "execution_count": null,
      "outputs": [
        {
          "output_type": "execute_result",
          "data": {
            "text/plain": [
              "{'avg_slen': 10.044113350861817,\n",
              " 'avg_syl': 2.8966580378697535,\n",
              " 'c_share': 16.067013757598673,\n",
              " 'chars': 281270,\n",
              " 'index_SMOG_rus': 11.28135952373477,\n",
              " 'index_ari_rus': 14.362525477532138,\n",
              " 'index_cl_rus': 13.600441232075852,\n",
              " 'index_dc_rus': 11.611034538979744,\n",
              " 'index_fk_rus': 13.826572183324558,\n",
              " 'letters': 233885,\n",
              " 'n_complex_words': 5524,\n",
              " 'n_sentences': 3423,\n",
              " 'n_simple_words': 27013,\n",
              " 'n_syllabes': 99590,\n",
              " 'n_words': 34381,\n",
              " 'spaces': 35374,\n",
              " 'wsyllabes': {'1': 5184,\n",
              "  '10': 18,\n",
              "  '11': 1,\n",
              "  '12': 5,\n",
              "  '2': 7437,\n",
              "  '3': 8443,\n",
              "  '4': 5949,\n",
              "  '5': 3489,\n",
              "  '6': 1503,\n",
              "  '7': 387,\n",
              "  '8': 105,\n",
              "  '9': 16}}"
            ]
          },
          "metadata": {
            "tags": []
          },
          "execution_count": 29
        }
      ]
    },
    {
      "cell_type": "markdown",
      "metadata": {
        "id": "1VEqoZMfM-20"
      },
      "source": [
        "COSINE SIMILARITY"
      ]
    },
    {
      "cell_type": "code",
      "metadata": {
        "colab": {
          "base_uri": "https://localhost:8080/"
        },
        "id": "hTtofJmlM-_r",
        "outputId": "5617be8a-4dcd-4efc-e47a-19e4abf10777"
      },
      "source": [
        "calc_cos_sim(data_test, model, tok, 'INPUT:source', 'paraphraser', 'cos_sim_paraphraser')\n",
        "data_test.cos_sim_paraphraser.mean()"
      ],
      "execution_count": null,
      "outputs": [
        {
          "output_type": "execute_result",
          "data": {
            "text/plain": [
              "0.9374921821709667"
            ]
          },
          "metadata": {
            "tags": []
          },
          "execution_count": 90
        }
      ]
    },
    {
      "cell_type": "markdown",
      "metadata": {
        "id": "Yj0fWxY_95DP"
      },
      "source": [
        "### Grammar"
      ]
    },
    {
      "cell_type": "code",
      "metadata": {
        "colab": {
          "base_uri": "https://localhost:8080/"
        },
        "id": "c3AFthxK95Mv",
        "outputId": "9e1c600e-0f54-413f-ba08-f5aad23465d5"
      },
      "source": [
        "errors = get_mistakes_summary(data_test, 'paraphraser')\n",
        "errors"
      ],
      "execution_count": null,
      "outputs": [
        {
          "output_type": "execute_result",
          "data": {
            "text/plain": [
              "{'CASING': 29,\n",
              " 'GRAMMAR': 29,\n",
              " 'LOGIC': 27,\n",
              " 'MISC': 9,\n",
              " 'PUNCTUATION': 30,\n",
              " 'STYLE': 1,\n",
              " 'TYPOGRAPHY': 158,\n",
              " 'TYPOS': 692}"
            ]
          },
          "metadata": {
            "tags": []
          },
          "execution_count": 74
        }
      ]
    },
    {
      "cell_type": "markdown",
      "metadata": {
        "id": "7aaGUn15wNp9"
      },
      "source": [
        "# BONUS EN-RU MODEL"
      ]
    },
    {
      "cell_type": "markdown",
      "metadata": {
        "id": "0FbfNDcbwYlN"
      },
      "source": [
        "### SARI"
      ]
    },
    {
      "cell_type": "code",
      "metadata": {
        "id": "OBBzaVuDOafD"
      },
      "source": [
        "with open('/content/drive/MyDrive/MT_sentence_simpl/predictions/model_prediction_en_ru.hyp', 'r') as f:\n",
        "  sentences = [i.strip() for i in f.readlines()]\n",
        "\n",
        "lt = list()\n",
        "st = set()\n",
        "for i in sentences:\n",
        "  if i not in st:\n",
        "    lt.append(i)\n",
        "    st.add(i)\n",
        "\n",
        "with open('/content/model_prediction_en_ru.hyp', 'w') as f:\n",
        "  for i in lt:\n",
        "    f.write(i+'\\n')"
      ],
      "execution_count": null,
      "outputs": []
    },
    {
      "cell_type": "code",
      "metadata": {
        "colab": {
          "base_uri": "https://localhost:8080/"
        },
        "id": "O26kwFbmwX4B",
        "outputId": "0b04a132-1be0-49ea-c9e6-337839397b33"
      },
      "source": [
        "! easse evaluate \\\n",
        "--test_set custom \\\n",
        "--metrics sari \\\n",
        "--refs_sents_paths /content/prepared_data/test_ref_data.ref.0,/content/prepared_data/test_ref_data.ref.1,/content/prepared_data/test_ref_data.ref.2,/content/prepared_data/test_ref_data.ref.3,/content/prepared_data/test_ref_data.ref.4 \\\n",
        "--orig_sents_path /content/prepared_data/test_ref_data.src \\\n",
        "--sys_sents_path /content/model_prediction_en_ru.hyp -q"
      ],
      "execution_count": null,
      "outputs": [
        {
          "output_type": "stream",
          "text": [
            "{'sari': 37.865, 'quality_estimation': {'Compression ratio': 0.875, 'Sentence splits': 1.002, 'Levenshtein similarity': 0.665, 'Exact copies': 0.0, 'Additions proportion': 0.4, 'Deletions proportion': 0.497, 'Lexical complexity score': 10.398}}\n"
          ],
          "name": "stdout"
        }
      ]
    },
    {
      "cell_type": "markdown",
      "metadata": {
        "id": "NgPJsDhCxyHu"
      },
      "source": [
        "### BLEU"
      ]
    },
    {
      "cell_type": "code",
      "metadata": {
        "colab": {
          "base_uri": "https://localhost:8080/"
        },
        "id": "3r4Li0wwyLdN",
        "outputId": "29692d7e-762f-4f8f-f958-985428aa02b9"
      },
      "source": [
        "# make lists of src, dst\n",
        "src_column, trg_column = \"en_ru\", \"OUTPUT:output\"\n",
        "data_dict = OrderedDict()\n",
        "for ind, row in data_test.iterrows():\n",
        "        source_sentence = row[src_column]\n",
        "        reference_sentence = row[trg_column]\n",
        "        if data_dict.get(source_sentence) is None:\n",
        "            data_dict[source_sentence] = []\n",
        "        data_dict[source_sentence].append(reference_sentence)\n",
        "max_num_reference_sentences = max([len(x) for x in data_dict.values()])\n",
        "\n",
        "src, dst = [i for i in data_dict.keys()], [i for i in data_dict.values()]\n",
        "for i, j in enumerate(src):\n",
        "   if len(dst[i]) < max_num_reference_sentences:\n",
        "    dst[i] = dst[i] + [dst[i][0]]*(max_num_reference_sentences - len(dst[i]))\n",
        "\n",
        "refs = []\n",
        "for j in range(len(dst[1])):\n",
        "  ref = []\n",
        "  for i in dst:\n",
        "    ref.append(i[j])\n",
        "  refs.append(ref)\n",
        "  \n",
        "corpus_bleu(src, refs) ###???"
      ],
      "execution_count": null,
      "outputs": [
        {
          "output_type": "execute_result",
          "data": {
            "text/plain": [
              "13.214882473186714"
            ]
          },
          "metadata": {
            "tags": []
          },
          "execution_count": 106
        }
      ]
    },
    {
      "cell_type": "code",
      "metadata": {
        "colab": {
          "base_uri": "https://localhost:8080/"
        },
        "id": "ZaCZ0LEr8Px0",
        "outputId": "f21dbed5-a33e-4b8a-ee25-6ed17b7c2279"
      },
      "source": [
        "refs = []\n",
        "for i, j in data_dict.items():\n",
        "  refs.append(j)\n",
        "\n",
        "nltk.translate.bleu_score.corpus_bleu(refs, src)"
      ],
      "execution_count": null,
      "outputs": [
        {
          "output_type": "execute_result",
          "data": {
            "text/plain": [
              "0.5688826735511077"
            ]
          },
          "metadata": {
            "tags": []
          },
          "execution_count": 107
        }
      ]
    },
    {
      "cell_type": "markdown",
      "metadata": {
        "id": "T3KvQCWbzg9j"
      },
      "source": [
        "FKLG"
      ]
    },
    {
      "cell_type": "code",
      "metadata": {
        "id": "ItP0krY4y9Gy"
      },
      "source": [
        "data_test.head()"
      ],
      "execution_count": null,
      "outputs": []
    },
    {
      "cell_type": "code",
      "metadata": {
        "colab": {
          "base_uri": "https://localhost:8080/"
        },
        "id": "j3uTk_AQzvQs",
        "outputId": "e61fa469-21bf-4077-b976-ca9934a314af"
      },
      "source": [
        "calc_readability_metrics(' '.join(list(data_test['INPUT:source'].values)))"
      ],
      "execution_count": null,
      "outputs": [
        {
          "output_type": "execute_result",
          "data": {
            "text/plain": [
              "{'avg_slen': 16.790763968072977,\n",
              " 'avg_syl': 2.8487487691419644,\n",
              " 'c_share': 16.036806899595938,\n",
              " 'chars': 473430,\n",
              " 'index_SMOG_rus': 14.557852197020122,\n",
              " 'index_ari_rus': 15.509208294776158,\n",
              " 'index_cl_rus': 14.345376048351504,\n",
              " 'index_dc_rus': 13.436195971860881,\n",
              " 'index_fk_rus': 15.291695463663103,\n",
              " 'letters': 393678,\n",
              " 'n_complex_words': 9446,\n",
              " 'n_sentences': 3508,\n",
              " 'n_simple_words': 46179,\n",
              " 'n_syllabes': 167797,\n",
              " 'n_words': 58902,\n",
              " 'spaces': 60292,\n",
              " 'wsyllabes': {'1': 9867,\n",
              "  '10': 35,\n",
              "  '11': 6,\n",
              "  '12': 4,\n",
              "  '2': 12788,\n",
              "  '3': 13723,\n",
              "  '4': 9801,\n",
              "  '5': 6023,\n",
              "  '6': 2491,\n",
              "  '7': 677,\n",
              "  '8': 173,\n",
              "  '9': 37}}"
            ]
          },
          "metadata": {
            "tags": []
          },
          "execution_count": 30
        }
      ]
    },
    {
      "cell_type": "code",
      "metadata": {
        "colab": {
          "base_uri": "https://localhost:8080/"
        },
        "id": "WD52CDuIz0HM",
        "outputId": "21d6a0a8-774c-400a-a0a4-2210cac92ebf"
      },
      "source": [
        "calc_readability_metrics(' '.join(list(data_test['OUTPUT:output'].values)))"
      ],
      "execution_count": null,
      "outputs": [
        {
          "output_type": "execute_result",
          "data": {
            "text/plain": [
              "{'avg_slen': 13.503585397653195,\n",
              " 'avg_syl': 2.6891790774578195,\n",
              " 'c_share': 12.112288493567307,\n",
              " 'chars': 317164,\n",
              " 'index_SMOG_rus': 11.356979245625993,\n",
              " 'index_ari_rus': 11.940864878774391,\n",
              " 'index_cl_rus': 11.512936107557508,\n",
              " 'index_dc_rus': 10.372462062008477,\n",
              " 'index_fk_rus': 11.98048305635475,\n",
              " 'letters': 259382,\n",
              " 'n_complex_words': 5018,\n",
              " 'n_sentences': 3068,\n",
              " 'n_simple_words': 34238,\n",
              " 'n_syllabes': 111410,\n",
              " 'n_words': 41429,\n",
              " 'spaces': 43375,\n",
              " 'wsyllabes': {'1': 7690,\n",
              "  '10': 11,\n",
              "  '11': 1,\n",
              "  '12': 1,\n",
              "  '14': 1,\n",
              "  '15': 1,\n",
              "  '2': 10187,\n",
              "  '3': 9546,\n",
              "  '4': 6815,\n",
              "  '5': 3294,\n",
              "  '6': 1274,\n",
              "  '7': 336,\n",
              "  '8': 71,\n",
              "  '9': 28}}"
            ]
          },
          "metadata": {
            "tags": []
          },
          "execution_count": 31
        }
      ]
    },
    {
      "cell_type": "code",
      "metadata": {
        "colab": {
          "base_uri": "https://localhost:8080/"
        },
        "id": "uLGWCjsSzLpR",
        "outputId": "67217c85-471f-4496-8f6a-6cac20325b24"
      },
      "source": [
        "calc_readability_metrics(' '.join(list(data_test.en_ru.values)))"
      ],
      "execution_count": null,
      "outputs": [
        {
          "output_type": "execute_result",
          "data": {
            "text/plain": [
              "{'avg_slen': 14.71934838525293,\n",
              " 'avg_syl': 2.7287148321457004,\n",
              " 'c_share': 13.271071588062831,\n",
              " 'chars': 411959,\n",
              " 'index_SMOG_rus': 12.406806113663269,\n",
              " 'index_ari_rus': 12.86566051041558,\n",
              " 'index_cl_rus': 12.239918257188904,\n",
              " 'index_dc_rus': 11.344013625784733,\n",
              " 'index_fk_rus': 12.928503402979374,\n",
              " 'letters': 327257,\n",
              " 'n_complex_words': 6835,\n",
              " 'n_sentences': 3499,\n",
              " 'n_simple_words': 41701,\n",
              " 'n_syllabes': 140537,\n",
              " 'n_words': 51503,\n",
              " 'spaces': 54374,\n",
              " 'wsyllabes': {'1': 8966,\n",
              "  '10': 4,\n",
              "  '2': 12415,\n",
              "  '3': 11739,\n",
              "  '4': 8581,\n",
              "  '5': 4441,\n",
              "  '6': 1876,\n",
              "  '7': 428,\n",
              "  '8': 71,\n",
              "  '9': 15}}"
            ]
          },
          "metadata": {
            "tags": []
          },
          "execution_count": 32
        }
      ]
    },
    {
      "cell_type": "markdown",
      "metadata": {
        "id": "yfzXkAlfz4zm"
      },
      "source": [
        "COSINE SIMILARITY"
      ]
    },
    {
      "cell_type": "code",
      "metadata": {
        "colab": {
          "base_uri": "https://localhost:8080/"
        },
        "id": "Rb_H5GgCzl4K",
        "outputId": "fb3df369-befa-439e-bf2f-95325301fa68"
      },
      "source": [
        "calc_cos_sim(data_test, model, tok, 'INPUT:source', 'en_ru', 'cos_sim_en_ru')\n",
        "data_test.cos_sim_en_ru.mean()"
      ],
      "execution_count": null,
      "outputs": [
        {
          "output_type": "execute_result",
          "data": {
            "text/plain": [
              "0.9811948919324265"
            ]
          },
          "metadata": {
            "tags": []
          },
          "execution_count": 56
        }
      ]
    },
    {
      "cell_type": "markdown",
      "metadata": {
        "id": "b_9kKBSj-BuP"
      },
      "source": [
        "### Grammar"
      ]
    },
    {
      "cell_type": "code",
      "metadata": {
        "colab": {
          "base_uri": "https://localhost:8080/"
        },
        "id": "h0gLozY6-B3E",
        "outputId": "2e7a2fb5-2084-4528-a3ac-42de1ae55cff"
      },
      "source": [
        "errors = get_mistakes_summary(data_test, 'en_ru')\n",
        "errors"
      ],
      "execution_count": null,
      "outputs": [
        {
          "output_type": "execute_result",
          "data": {
            "text/plain": [
              "{'CASING': 57,\n",
              " 'GRAMMAR': 163,\n",
              " 'LOGIC': 12,\n",
              " 'MISC': 131,\n",
              " 'PUNCTUATION': 48,\n",
              " 'STYLE': 27,\n",
              " 'TYPOGRAPHY': 230,\n",
              " 'TYPOS': 1073}"
            ]
          },
          "metadata": {
            "tags": []
          },
          "execution_count": 75
        }
      ]
    },
    {
      "cell_type": "markdown",
      "metadata": {
        "id": "hkFHlEqJejyq"
      },
      "source": [
        "# Model trained 15 epochs on russian data"
      ]
    },
    {
      "cell_type": "markdown",
      "metadata": {
        "id": "tbTxsN2xfHDg"
      },
      "source": [
        "### SARI"
      ]
    },
    {
      "cell_type": "code",
      "metadata": {
        "id": "BRIP4mZyepbA"
      },
      "source": [
        "with open('/content/drive/MyDrive/MT_sentence_simpl/predictions/model_prediction__ru_ru_filtered15.hyp', 'r') as f:\n",
        "  sentences = [i.strip() for i in f.readlines()]\n",
        "\n",
        "lt = list()\n",
        "st = set()\n",
        "for i in sentences:\n",
        "  if i not in st:\n",
        "    lt.append(i)\n",
        "    st.add(i)\n",
        "\n",
        "with open('/content/model_prediction__ru_ru_filtered15.hyp', 'w') as f:\n",
        "  for i in lt:\n",
        "    f.write(i+'\\n')\n"
      ],
      "execution_count": null,
      "outputs": []
    },
    {
      "cell_type": "code",
      "metadata": {
        "colab": {
          "base_uri": "https://localhost:8080/"
        },
        "id": "TeX6Rhn1f2W8",
        "outputId": "fe6c77cb-b900-43d1-a9eb-d3f176aae4eb"
      },
      "source": [
        "! easse evaluate \\\n",
        "--test_set custom \\\n",
        "--metrics sari \\\n",
        "--refs_sents_paths /content/prepared_data/test_ref_data.ref.0,/content/prepared_data/test_ref_data.ref.1,/content/prepared_data/test_ref_data.ref.2,/content/prepared_data/test_ref_data.ref.3,/content/prepared_data/test_ref_data.ref.4 \\\n",
        "--orig_sents_path /content/prepared_data/test_ref_data.src \\\n",
        "--sys_sents_path /content/model_prediction__ru_ru_filtered15.hyp -q\n"
      ],
      "execution_count": null,
      "outputs": [
        {
          "output_type": "stream",
          "text": [
            "{'sari': 32.957, 'quality_estimation': {'Compression ratio': 0.635, 'Sentence splits': 0.987, 'Levenshtein similarity': 0.757, 'Exact copies': 0.008, 'Additions proportion': 0.019, 'Deletions proportion': 0.392, 'Lexical complexity score': 10.724}}\n"
          ],
          "name": "stdout"
        }
      ]
    },
    {
      "cell_type": "markdown",
      "metadata": {
        "id": "Nndv6Z3QfLUb"
      },
      "source": [
        "#### BLEU"
      ]
    },
    {
      "cell_type": "code",
      "metadata": {
        "colab": {
          "base_uri": "https://localhost:8080/"
        },
        "id": "AHHG7DyqfPgN",
        "outputId": "dc58755e-4377-44ea-9f17-42dfefdb9541"
      },
      "source": [
        "# make lists of src, dst\n",
        "src_column, trg_column = \"ru_15\", \"OUTPUT:output\"\n",
        "data_dict = OrderedDict()\n",
        "for ind, row in data_test.iterrows():\n",
        "        source_sentence = row[src_column]\n",
        "        reference_sentence = row[trg_column]\n",
        "        if data_dict.get(source_sentence) is None:\n",
        "            data_dict[source_sentence] = []\n",
        "        data_dict[source_sentence].append(reference_sentence)\n",
        "max_num_reference_sentences = max([len(x) for x in data_dict.values()])\n",
        "\n",
        "src, dst = [i for i in data_dict.keys()], [i for i in data_dict.values()]\n",
        "for i, j in enumerate(src):\n",
        "   if len(dst[i]) < max_num_reference_sentences:\n",
        "    dst[i] = dst[i] + [dst[i][0]]*(max_num_reference_sentences - len(dst[i]))\n",
        "\n",
        "refs = []\n",
        "for j in range(len(dst[1])):\n",
        "  ref = []\n",
        "  for i in dst:\n",
        "    ref.append(i[j])\n",
        "  refs.append(ref)\n",
        "  \n",
        "corpus_bleu(src, refs)"
      ],
      "execution_count": null,
      "outputs": [
        {
          "output_type": "execute_result",
          "data": {
            "text/plain": [
              "35.99960438432429"
            ]
          },
          "metadata": {
            "tags": []
          },
          "execution_count": 108
        }
      ]
    },
    {
      "cell_type": "code",
      "metadata": {
        "colab": {
          "base_uri": "https://localhost:8080/"
        },
        "id": "YnNLE4H78L5C",
        "outputId": "997d8df1-13ce-4dcd-8167-c7c787e6ebb4"
      },
      "source": [
        "refs = []\n",
        "for i, j in data_dict.items():\n",
        "  refs.append(j)\n",
        "\n",
        "nltk.translate.bleu_score.corpus_bleu(refs, src)"
      ],
      "execution_count": null,
      "outputs": [
        {
          "output_type": "execute_result",
          "data": {
            "text/plain": [
              "0.7713335235629974"
            ]
          },
          "metadata": {
            "tags": []
          },
          "execution_count": 109
        }
      ]
    },
    {
      "cell_type": "markdown",
      "metadata": {
        "id": "jWZBtBCcfRSQ"
      },
      "source": [
        "#### FKGL"
      ]
    },
    {
      "cell_type": "code",
      "metadata": {
        "colab": {
          "base_uri": "https://localhost:8080/"
        },
        "id": "wUIuHq5IfW41",
        "outputId": "529c76a2-1107-4cf4-f872-9917fd650ed3"
      },
      "source": [
        "calc_readability_metrics(' '.join(list(data_test.ru_15.values)))\n"
      ],
      "execution_count": null,
      "outputs": [
        {
          "output_type": "execute_result",
          "data": {
            "text/plain": [
              "{'avg_slen': 10.689252336448599,\n",
              " 'avg_syl': 2.88672131147541,\n",
              " 'c_share': 15.986338797814208,\n",
              " 'chars': 298930,\n",
              " 'index_SMOG_rus': 11.607319387523807,\n",
              " 'index_ari_rus': 14.351192110974921,\n",
              " 'index_cl_rus': 13.641803278688528,\n",
              " 'index_dc_rus': 11.742624904243911,\n",
              " 'index_fk_rus': 13.890624865941476,\n",
              " 'letters': 247856,\n",
              " 'n_complex_words': 5851,\n",
              " 'n_sentences': 3424,\n",
              " 'n_simple_words': 28980,\n",
              " 'n_syllabes': 105654,\n",
              " 'n_words': 36600,\n",
              " 'spaces': 37553,\n",
              " 'wsyllabes': {'1': 5650,\n",
              "  '10': 20,\n",
              "  '11': 6,\n",
              "  '12': 1,\n",
              "  '2': 8311,\n",
              "  '3': 8884,\n",
              "  '4': 6135,\n",
              "  '5': 3733,\n",
              "  '6': 1543,\n",
              "  '7': 419,\n",
              "  '8': 105,\n",
              "  '9': 24}}"
            ]
          },
          "metadata": {
            "tags": []
          },
          "execution_count": 33
        }
      ]
    },
    {
      "cell_type": "markdown",
      "metadata": {
        "id": "nqN3zCc9fXGR"
      },
      "source": [
        "#### Cosine similarity"
      ]
    },
    {
      "cell_type": "code",
      "metadata": {
        "colab": {
          "base_uri": "https://localhost:8080/"
        },
        "id": "UWxwRfj5feXF",
        "outputId": "04fb9f8e-8f27-42fc-c967-6f37add8e01b"
      },
      "source": [
        "calc_cos_sim(data_test, model, tok, 'INPUT:source', 'ru_15', 'cos_sim_ru_15')\n",
        "data_test.cos_sim_ru_15.mean()"
      ],
      "execution_count": null,
      "outputs": [
        {
          "output_type": "execute_result",
          "data": {
            "text/plain": [
              "0.9548124609995224"
            ]
          },
          "metadata": {
            "tags": []
          },
          "execution_count": 34
        }
      ]
    },
    {
      "cell_type": "markdown",
      "metadata": {
        "id": "b-BN3GmkfehG"
      },
      "source": [
        "##### Grammar"
      ]
    },
    {
      "cell_type": "code",
      "metadata": {
        "colab": {
          "base_uri": "https://localhost:8080/"
        },
        "id": "kVKVwVbxfeqJ",
        "outputId": "38fbd91b-3f06-4ca4-b6a4-b50929da2659"
      },
      "source": [
        "errors = get_mistakes_summary(data_test, 'ru_15')\n",
        "errors"
      ],
      "execution_count": null,
      "outputs": [
        {
          "output_type": "execute_result",
          "data": {
            "text/plain": [
              "{'CASING': 35,\n",
              " 'GRAMMAR': 21,\n",
              " 'LOGIC': 22,\n",
              " 'PUNCTUATION': 18,\n",
              " 'STYLE': 2,\n",
              " 'TYPOGRAPHY': 210,\n",
              " 'TYPOS': 554}"
            ]
          },
          "metadata": {
            "tags": []
          },
          "execution_count": 35
        }
      ]
    },
    {
      "cell_type": "markdown",
      "metadata": {
        "id": "7oVdbPISepkk"
      },
      "source": [
        "# Model trained 10 epochs on russian data and 10 on ParaPhraserPlus"
      ]
    },
    {
      "cell_type": "markdown",
      "metadata": {
        "id": "wl4G7IFlfKNZ"
      },
      "source": [
        "### SARI"
      ]
    },
    {
      "cell_type": "code",
      "metadata": {
        "id": "RrQLLAfIewKj"
      },
      "source": [
        "with open('/content/drive/MyDrive/MT_sentence_simpl/predictions/model_prediction_ru22_par_filtered15.hyp', 'r') as f:\n",
        "  sentences = [i.strip()+'.' for i in f.readlines()]\n",
        "\n",
        "lt = list()\n",
        "st = set()\n",
        "for i in sentences:\n",
        "  if i not in st:\n",
        "    lt.append(i)\n",
        "    st.add(i)\n",
        "\n",
        "with open('/content/model_prediction_ru22_par_filtered15.hyp', 'w') as f:\n",
        "  for i in lt:\n",
        "    f.write(i+'\\n')"
      ],
      "execution_count": null,
      "outputs": []
    },
    {
      "cell_type": "code",
      "metadata": {
        "colab": {
          "base_uri": "https://localhost:8080/"
        },
        "id": "fAlLywZbfr6Q",
        "outputId": "0aa573af-67b4-40a5-e7ed-bb5ca69f340d"
      },
      "source": [
        "! easse evaluate \\\n",
        "--test_set custom \\\n",
        "--metrics sari \\\n",
        "--refs_sents_paths /content/prepared_data/test_ref_data.ref.0,/content/prepared_data/test_ref_data.ref.1,/content/prepared_data/test_ref_data.ref.2,/content/prepared_data/test_ref_data.ref.3,/content/prepared_data/test_ref_data.ref.4 \\\n",
        "--orig_sents_path /content/prepared_data/test_ref_data.src \\\n",
        "--sys_sents_path /content/model_prediction_ru22_par_filtered15.hyp -q\n"
      ],
      "execution_count": null,
      "outputs": [
        {
          "output_type": "stream",
          "text": [
            "{'sari': 34.738, 'quality_estimation': {'Compression ratio': 0.632, 'Sentence splits': 0.986, 'Levenshtein similarity': 0.721, 'Exact copies': 0.039, 'Additions proportion': 0.045, 'Deletions proportion': 0.418, 'Lexical complexity score': 10.734}}\n"
          ],
          "name": "stdout"
        }
      ]
    },
    {
      "cell_type": "markdown",
      "metadata": {
        "id": "qXZKVigHfQGk"
      },
      "source": [
        "#### BLEU"
      ]
    },
    {
      "cell_type": "code",
      "metadata": {
        "colab": {
          "base_uri": "https://localhost:8080/"
        },
        "id": "_1upY1IZevnR",
        "outputId": "540f9a57-7eee-4e7d-8450-2c9d896a3577"
      },
      "source": [
        "# make lists of src, dst\n",
        "src_column, trg_column = \"ru_paraphraser\", \"OUTPUT:output\"\n",
        "data_dict = OrderedDict()\n",
        "for ind, row in data_test.iterrows():\n",
        "        source_sentence = row[src_column]\n",
        "        reference_sentence = row[trg_column]\n",
        "        if data_dict.get(source_sentence) is None:\n",
        "            data_dict[source_sentence] = []\n",
        "        data_dict[source_sentence].append(reference_sentence)\n",
        "max_num_reference_sentences = max([len(x) for x in data_dict.values()])\n",
        "\n",
        "src, dst = [i for i in data_dict.keys()], [i for i in data_dict.values()]\n",
        "for i, j in enumerate(src):\n",
        "   if len(dst[i]) < max_num_reference_sentences:\n",
        "    dst[i] = dst[i] + [dst[i][0]]*(max_num_reference_sentences - len(dst[i]))\n",
        "\n",
        "refs = []\n",
        "for j in range(len(dst[1])):\n",
        "  ref = []\n",
        "  for i in dst:\n",
        "    ref.append(i[j])\n",
        "  refs.append(ref)\n",
        "  \n",
        "corpus_bleu(src, refs)"
      ],
      "execution_count": null,
      "outputs": [
        {
          "output_type": "execute_result",
          "data": {
            "text/plain": [
              "33.980377072614985"
            ]
          },
          "metadata": {
            "tags": []
          },
          "execution_count": 110
        }
      ]
    },
    {
      "cell_type": "code",
      "metadata": {
        "colab": {
          "base_uri": "https://localhost:8080/"
        },
        "id": "aZwCGsbU8G4w",
        "outputId": "b39de8fd-2382-4e55-bcac-f1c8f0ec8234"
      },
      "source": [
        "refs = []\n",
        "for i, j in data_dict.items():\n",
        "  refs.append(j)\n",
        "\n",
        "nltk.translate.bleu_score.corpus_bleu(refs, src)"
      ],
      "execution_count": null,
      "outputs": [
        {
          "output_type": "execute_result",
          "data": {
            "text/plain": [
              "0.7433356957738314"
            ]
          },
          "metadata": {
            "tags": []
          },
          "execution_count": 111
        }
      ]
    },
    {
      "cell_type": "markdown",
      "metadata": {
        "id": "KbO_lIbtfYQz"
      },
      "source": [
        "#### FKGL"
      ]
    },
    {
      "cell_type": "code",
      "metadata": {
        "colab": {
          "base_uri": "https://localhost:8080/"
        },
        "id": "u-ugLMOYfYv3",
        "outputId": "9b390d1a-931e-4ef2-8da8-f02ace8b0def"
      },
      "source": [
        "calc_readability_metrics(' '.join(list(data_test.ru_paraphraser.values)))\n"
      ],
      "execution_count": null,
      "outputs": [
        {
          "output_type": "execute_result",
          "data": {
            "text/plain": [
              "{'avg_slen': 10.58732476635514,\n",
              " 'avg_syl': 2.8722517999503463,\n",
              " 'c_share': 15.588535488676175,\n",
              " 'chars': 294631,\n",
              " 'index_SMOG_rus': 11.408074678271678,\n",
              " 'index_ari_rus': 14.150164447449505,\n",
              " 'index_cl_rus': 13.458778240600267,\n",
              " 'index_dc_rus': 11.495211250964203,\n",
              " 'index_fk_rus': 13.65274483499585,\n",
              " 'letters': 244494,\n",
              " 'n_complex_words': 5651,\n",
              " 'n_sentences': 3424,\n",
              " 'n_simple_words': 28691,\n",
              " 'n_syllabes': 104122,\n",
              " 'n_words': 36251,\n",
              " 'spaces': 37192,\n",
              " 'wsyllabes': {'1': 5673,\n",
              "  '10': 18,\n",
              "  '11': 1,\n",
              "  '12': 1,\n",
              "  '2': 7876,\n",
              "  '3': 8893,\n",
              "  '4': 6249,\n",
              "  '5': 3637,\n",
              "  '6': 1491,\n",
              "  '7': 361,\n",
              "  '8': 117,\n",
              "  '9': 25}}"
            ]
          },
          "metadata": {
            "tags": []
          },
          "execution_count": 34
        }
      ]
    },
    {
      "cell_type": "markdown",
      "metadata": {
        "id": "9xG3yhQxfY5i"
      },
      "source": [
        "#### Cosine similarity"
      ]
    },
    {
      "cell_type": "code",
      "metadata": {
        "colab": {
          "base_uri": "https://localhost:8080/"
        },
        "id": "meprSRlfkbfo",
        "outputId": "4cb70760-6d88-437a-9b0d-88566f13c7e3"
      },
      "source": [
        "calc_cos_sim(data_test, model, tok, 'INPUT:source', 'ru_paraphraser', 'cos_sim_ru_paraphraser')\n",
        "data_test.cos_sim_ru_paraphraser.mean()"
      ],
      "execution_count": null,
      "outputs": [
        {
          "output_type": "execute_result",
          "data": {
            "text/plain": [
              "0.9436661657985"
            ]
          },
          "metadata": {
            "tags": []
          },
          "execution_count": 44
        }
      ]
    },
    {
      "cell_type": "markdown",
      "metadata": {
        "id": "nZhCOGbufhGW"
      },
      "source": [
        "#### Grammar"
      ]
    },
    {
      "cell_type": "code",
      "metadata": {
        "colab": {
          "base_uri": "https://localhost:8080/"
        },
        "id": "ckp35JCyfhO7",
        "outputId": "53b82b0d-ec85-430a-9235-8ff2a7c58eb1"
      },
      "source": [
        "errors = get_mistakes_summary(data_test, 'ru_paraphraser')\n",
        "errors"
      ],
      "execution_count": null,
      "outputs": [
        {
          "output_type": "execute_result",
          "data": {
            "text/plain": [
              "{'CASING': 26,\n",
              " 'GRAMMAR': 32,\n",
              " 'LOGIC': 27,\n",
              " 'PUNCTUATION': 14,\n",
              " 'STYLE': 4,\n",
              " 'TYPOGRAPHY': 141,\n",
              " 'TYPOS': 598}"
            ]
          },
          "metadata": {
            "tags": []
          },
          "execution_count": 45
        }
      ]
    },
    {
      "cell_type": "markdown",
      "metadata": {
        "id": "kx5opkxMFyiH"
      },
      "source": [
        "### NEW english data FKGL"
      ]
    },
    {
      "cell_type": "code",
      "metadata": {
        "id": "M1EhYZgZFyxi"
      },
      "source": [
        "# https://github.com/infoculture/plainrussian\n",
        "#!/usr/bin/env python\n",
        "# -*- coding: utf-8 -*-\n",
        "\n",
        "from math import sqrt\n",
        "import csv\n",
        "\n",
        "\n",
        "from numpy import mean, arange\n",
        "\n",
        "\n",
        "# Russian sounds and characters\n",
        "# RU_CONSONANTS_LOW = [u'к', u'п', u'с', u'т', u'ф', u'х', u'ц', u'ч', u'ш', u'щ']\n",
        "# RU_CONSONANTS_HIGH = [u'б', u'в', u'г', u'д', u'ж', u'з']\n",
        "# RU_CONSONANTS_SONOR = [u'л', u'м', u'н', u'р']\n",
        "# RU_CONSONANTS_YET = [u'й']\n",
        "\n",
        "EN_CONSONANTS = [u'b', u'c', u'd', u'f', u'g', u'h', u'j', u'k', u'l', u'm', u'n', u'p', u'r', u's', u't', u'q', u'x', u'w', u'v', u'z']\n",
        "EN_VOWELS = [u'a', u'e', u'i', u'y', u'o', u'u']\n",
        "\n",
        "SENTENCE_SPLITTERS = [u'.', u'?', u'!']\n",
        "EN_LETTERS = EN_CONSONANTS + EN_VOWELS\n",
        "SPACES = [u' ', u'\\t']\n",
        "\n",
        "# List of prepared texts\n",
        "\n",
        "GRADE_TEXT = {\n",
        "    1: u'1 - 3-й класс (возраст примерно: 6-8 лет)',\n",
        "    2: u'1 - 3-й класс (возраст примерно: 6-8 лет)',\n",
        "    3: u'1 - 3-й класс (возраст примерно: 6-8 лет)',\n",
        "    4: u'4 - 6-й класс (возраст примерно: 9-11 лет)',\n",
        "    5: u'4 - 6-й класс (возраст примерно: 9-11 лет)',\n",
        "    6: u'4 - 6-й класс (возраст примерно: 9-11 лет)',\n",
        "    7: u'7 - 9-й класс (возраст примерно: 12-14 лет)',\n",
        "    8: u'7 - 9-й класс (возраст примерно: 12-14 лет)',\n",
        "    9: u'7 - 9-й класс (возраст примерно: 12-14 лет)',\n",
        "    10: u'10 - 11-й класс (возраст примерно: 15-16 лет)',\n",
        "    11: u'10 - 11-й класс (возраст примерно: 15-16 лет)',\n",
        "    12: u'1 - 3 курсы ВУЗа (возраст примерно: 17-19 лет)',\n",
        "    13: u'1 - 3 курсы ВУЗа (возраст примерно: 17-19 лет)',\n",
        "    14: u'1 - 3 курсы ВУЗа (возраст примерно: 17-19 лет)',\n",
        "    15: u'4 - 6 курсы ВУЗа (возраст примерно: 20-22 лет)',\n",
        "    16: u'4 - 6 курсы ВУЗа (возраст примерно: 20-22 лет)',\n",
        "    17: u'4 - 6 курсы ВУЗа (возраст примерно: 20-22 лет)',\n",
        "}\n",
        "\n",
        "POST_GRADE_TEXT_18_24 = u'Аспирантура, второе высшее образование, phD'\n",
        "\n",
        "\n",
        "def calc_SMOG(n_psyl, n_sent):\n",
        "    \"\"\"Метрика SMOG для английского языка\"\"\"\n",
        "    n = 1.0430 * sqrt((float(30.0) / n_sent) * n_psyl) + 3.1291\n",
        "    return n\n",
        "\n",
        "def calc_Gunning_fog(n_psyl, n_words, n_sent):\n",
        "    \"\"\"Метрика Gunning fog для английского языка\"\"\"\n",
        "    n = 0.4 * ((float(n_words)/ n_sent) + 100 * (float(n_psyl) / n_words))\n",
        "    return n\n",
        "\n",
        "def calc_Dale_Chale(n_psyl, n_words, n_sent):\n",
        "    \"\"\"Метрика Dale Chale для английского языка\"\"\"\n",
        "    n = 0.1579 * (100.0 * n_psyl / n_words) + 0.0496 * (float(n_words) / n_sent)\n",
        "    return n\n",
        "\n",
        "def calc_Flesh_Kincaid(n_syllabes, n_words, n_sent):\n",
        "    \"\"\"Метрика Flesh Kincaid для английского языка\"\"\"\n",
        "    n = 206.835 - 1.015 * (float(n_words) / n_sent) - 84.6 * (float(n_syllabes) / n_words)\n",
        "    return n\n",
        "\n",
        "\n",
        "def calc_Flesh_Kincaid_rus(n_syllabes, n_words, n_sent):\n",
        "    \"\"\"Метрика Flesh Kincaid для русского языка\"\"\"\n",
        "    n = 220.755 - 1.315 * (float(n_words) / n_sent) - 50.1 * (float(n_syllabes) / n_words)\n",
        "    return n\n",
        "\n",
        "\n",
        "# The variant of the FC formula for the Russian language is as follows:FK = (0.5 x average sentence length) +\n",
        "# (8.4 x average number of syllables in a word) - 15.59\n",
        "\n",
        "def calc_Flesh_Kincaid_Grade(n_syllabes, n_words, n_sent):\n",
        "    \"\"\"Метрика Flesh Kincaid Grade для русского языка\"\"\"\n",
        "#    n = 0.59 * (float(n_words) / n_sent) + 6.2 * (float(n_syllabes) / n_words) - 16.59\n",
        "    n = 0.39 * (float(n_words) / n_sent) + 11.8 * (float(n_syllabes) / n_words) - 15.59\n",
        "    return n\n",
        "\n",
        "def calc_Flesh_Kincaid_Grade_rus(n_syllabes, n_words, n_sent):\n",
        "    \"\"\"Метрика Flesh Kincaid Grade для русского языка\"\"\"\n",
        "#    n = 0.59 * (float(n_words) / n_sent) + 6.2 * (float(n_syllabes) / n_words) - 16.59\n",
        "    n = 0.5 * (float(n_words) / n_sent) + 8.4 * (float(n_syllabes) / n_words) - 15.59\n",
        "    return n\n",
        "\n",
        "\n",
        "\n",
        "def calc_Flesh_Kincaid_Grade_rus_adapted(n_syllabes, n_words, n_sent, X, Y, Z):\n",
        "    \"\"\"Метрика Flesh Kincaid Grade для русского языка с параметрами\"\"\"\n",
        "#    n = 0.59 * (float(n_words) / n_sent) + 6.2 * (float(n_syllabes) / n_words) - 16.59\n",
        "    if n_words == 0 or n_sent == 0: return 0\n",
        "    n = X * (float(n_words) / n_sent) + Y * (float(n_syllabes) / n_words) - Z\n",
        "    return n\n",
        "\n",
        "\n",
        "#X_GRADE = 0.186\n",
        "#Y_GRADE = 7.21\n",
        "#Z_GRADE = 15.443\n",
        "\n",
        "# Flesh Kinkaid Grade константы. Подробнее http://en.wikipedia.org/wiki/Flesch%E2%80%93Kincaid_readability_tests\n",
        "FLG_X_GRADE = 0.318\n",
        "FLG_Y_GRADE = 14.2\n",
        "FLG_Z_GRADE = 30.5\n",
        "\n",
        "def calc_Flesh_Kincaid_Grade_rus_flex(n_syllabes, n_words, n_sent):\n",
        "    \"\"\"Метрика Flesh Kincaid Grade для русского языка с константными параметрами\"\"\"\n",
        "    if n_words == 0 or n_sent == 0: return 0\n",
        "    n = FLG_X_GRADE * (float(n_words) / n_sent) + FLG_Y_GRADE * (float(n_syllabes) / n_words) - FLG_Z_GRADE\n",
        "    return n\n",
        "\n",
        "\n",
        "# Coleman Liau константы. Подробнее http://en.wikipedia.org/wiki/Coleman%E2%80%93Liau_index\n",
        "\n",
        "CLI_X_GRADE = 0.055\n",
        "CLI_Y_GRADE = 0.35\n",
        "CLI_Z_GRADE = 20.33\n",
        "\n",
        "\n",
        "def calc_Coleman_Liau_index_adapted(n_letters, n_words, n_sent, x, y, z):\n",
        "    \"\"\" Метрика Coleman Liau для русского языка с адаптированными параметрами \"\"\"\n",
        "    if n_words == 0: return 0\n",
        "    n = x * (n_letters * (100.0 / n_words)) - y * (n_sent * (100.0 / n_words)) - z\n",
        "    return n\n",
        "\n",
        "def calc_Coleman_Liau_index(n_letters, n_words, n_sent):\n",
        "    \"\"\" Метрика Coleman Liau для русского языка с константными параметрами \"\"\"\n",
        "    if n_words == 0: return 0\n",
        "    n = CLI_X_GRADE * (n_letters * (100.0 / n_words)) - CLI_Y_GRADE * (n_sent * (100.0 / n_words)) - CLI_Z_GRADE\n",
        "    return n\n",
        "\n",
        "\n",
        "# Константы SMOG Index http://en.wikipedia.org/wiki/SMOG\n",
        "SMOG_X_GRADE = 1.1\n",
        "SMOG_Y_GRADE = 64.6\n",
        "SMOG_Z_GRADE = 0.05\n",
        "\n",
        "def calc_SMOG_index(n_psyl, n_sent):\n",
        "    \"\"\"Метрика SMOG для русского языка с константными параментрами\"\"\"\n",
        "    n = SMOG_X_GRADE * sqrt((float(SMOG_Y_GRADE) / n_sent) * n_psyl) + SMOG_Z_GRADE\n",
        "    return n\n",
        "\n",
        "def calc_SMOG_index_adapted(n_psyl, n_sent, x, y, z):\n",
        "    \"\"\"Метрика SMOG для русского языка адаптированная с коэффициентами\"\"\"\n",
        "    n = x * sqrt((float(y) / n_sent) * n_psyl) + z\n",
        "    return n\n",
        "\n",
        "DC_X_GRADE = 0.552\n",
        "DC_Y_GRADE = 0.273\n",
        "\n",
        "def calc_Dale_Chale_index(n_psyl, n_words, n_sent):\n",
        "    \"\"\"Метрика Dale Chale для русского языка с константным параметрами\"\"\"\n",
        "    n = DC_X_GRADE * (100.0 * n_psyl / n_words) + DC_Y_GRADE * (float(n_words) / n_sent)\n",
        "    return n\n",
        "\n",
        "\n",
        "def calc_Dale_Chale_adapted(n_psyl, n_words, n_sent, x, y):\n",
        "    \"\"\"Метрика Dale Chale для русского языка с адаптированными параметрами\"\"\"\n",
        "    n = x * (100.0 * n_psyl / n_words) + y * (float(n_words) / n_sent)\n",
        "    return n\n",
        "\n",
        "ARI_X_GRADE = 6.26\n",
        "ARI_Y_GRADE = 0.2805\n",
        "ARI_Z_GRADE = 31.04\n",
        "\n",
        "\n",
        "def calc_ARI_index_adapted(n_letters, n_words, n_sent, x, y, z):\n",
        "    \"\"\" Метрика Automated Readability Index (ARI) для русского языка с адаптированными параметрами \"\"\"\n",
        "    if n_words == 0 or n_sent == 0: return 0\n",
        "    n = x * (float(n_letters) / n_words) + y * (float(n_words) / n_sent) - z\n",
        "    return n\n",
        "\n",
        "def calc_ARI_index(n_letters, n_words, n_sent):\n",
        "    \"\"\" Метрика Automated Readability Index (ARI) для русского языка с константными параметрами \"\"\"\n",
        "    if n_words == 0 or n_sent == 0: return 0\n",
        "    n = ARI_X_GRADE * (float(n_letters) / n_words) + ARI_Y_GRADE * (float(n_words) / n_sent) - ARI_Z_GRADE\n",
        "    return n\n",
        "\n",
        "\n",
        "def load_words(filename):\n",
        "    \"\"\"Load words from filename\"\"\"\n",
        "    words = []\n",
        "    f = open(filename, 'r')\n",
        "    for l in f:\n",
        "        words.append(l.strip().decode('utf8'))\n",
        "    f.close()\n",
        "    return words\n",
        "\n",
        "#FAM_WORDS = load_words('1norm50000.txt')\n",
        "\n",
        "bad_chars = '(){}<>\"\\'!?,.:;'\n",
        "\n",
        "\n",
        "def calc_text_metrics(filename, verbose=True):\n",
        "    \"\"\"Расчет метрик\"\"\"\n",
        "    f = open(filename, 'r')\n",
        "    text = f.read().decode('utf8')    \n",
        "    f.close()\n",
        "    return calc_readability_metrics(text, verbose)\n",
        "\n",
        "\n",
        "# Number of syllabes for long words\n",
        "COMPLEX_SYL_FACTOR = 4\n",
        "\n",
        "def calc_readability_metrics(text, verbose=True):\n",
        "    sentences = 0\n",
        "    chars = 0\n",
        "    spaces = 0\n",
        "    letters = 0\n",
        "    syllabes = 0\n",
        "    words = 0\n",
        "    complex_words = 0\n",
        "    simple_words = 0\n",
        "    wsyllabes = {}\n",
        "\n",
        "    wordStart = False\n",
        "    for l in text.splitlines():\n",
        "        chars += len(l)\n",
        "#        l = l.decode('utf8')\n",
        "        for ch in l:\n",
        "            if ch in SENTENCE_SPLITTERS:\n",
        "                sentences += 1\n",
        "            if ch in SPACES:\n",
        "                spaces += 1\n",
        "\n",
        "        for w in l.split():\n",
        "            has_syl = False\n",
        "            wsyl = 0\n",
        "#            if len(w) > 1: words += 1\n",
        "            for ch in w:\n",
        "                if ch in EN_LETTERS:\n",
        "                    letters += 1\n",
        "                if ch in EN_VOWELS:\n",
        "                    syllabes += 1\n",
        "                    has_syl = True\n",
        "                    wsyl += 1\n",
        "            if wsyl > COMPLEX_SYL_FACTOR:\n",
        "                complex_words += 1\n",
        "            elif wsyl < COMPLEX_SYL_FACTOR+1 and wsyl > 0:\n",
        "                simple_words += 1\n",
        "            if has_syl:\n",
        "                words += 1\n",
        "                v = wsyllabes.get(str(wsyl), 0)\n",
        "                wsyllabes[str(wsyl)] = v + 1\n",
        "    metrics = {'c_share': float(complex_words) * 100 / words if words > 0 else 0,\n",
        "               'avg_slen' : float(words) / sentences if sentences > 0 else 0,\n",
        "               'avg_syl' : float(syllabes) / words if words > 0 else 0,\n",
        "               'n_syllabes': syllabes,\n",
        "               'n_words' : words,\n",
        "               'n_sentences': sentences,\n",
        "               'n_complex_words': complex_words,\n",
        "               'n_simple_words' : simple_words,\n",
        "               'chars': chars,\n",
        "               'letters' : letters,\n",
        "               'spaces' : spaces,\n",
        "               'index_fk': calc_Flesh_Kincaid_Grade(syllabes, words, sentences),  #calc_Flesh_Kincaid_Grade_rus_flex\n",
        "               'wsyllabes' : wsyllabes\n",
        "    }\n",
        "    del text\n",
        "    return metrics"
      ],
      "execution_count": null,
      "outputs": []
    },
    {
      "cell_type": "code",
      "metadata": {
        "colab": {
          "base_uri": "https://localhost:8080/"
        },
        "id": "tMbe-DreIuVI",
        "outputId": "e2eddeac-c219-46c2-9f94-78c2ffd994fb"
      },
      "source": [
        "calc_readability_metrics(' '.join(list(data_test.en_en.values)))"
      ],
      "execution_count": null,
      "outputs": [
        {
          "output_type": "execute_result",
          "data": {
            "text/plain": [
              "{'avg_slen': 19.29485049833887,\n",
              " 'avg_syl': 2.0208629274102132,\n",
              " 'c_share': 4.674787998794714,\n",
              " 'chars': 445593,\n",
              " 'index_fk': 15.781174237792676,\n",
              " 'letters': 347098,\n",
              " 'n_complex_words': 3258,\n",
              " 'n_sentences': 3612,\n",
              " 'n_simple_words': 66435,\n",
              " 'n_syllabes': 140840,\n",
              " 'n_words': 69693,\n",
              " 'spaces': 79167,\n",
              " 'wsyllabes': {'1': 32475,\n",
              "  '10': 6,\n",
              "  '2': 16848,\n",
              "  '3': 11056,\n",
              "  '4': 6056,\n",
              "  '5': 2448,\n",
              "  '6': 694,\n",
              "  '7': 72,\n",
              "  '8': 33,\n",
              "  '9': 5}}"
            ]
          },
          "metadata": {
            "tags": []
          },
          "execution_count": 25
        }
      ]
    },
    {
      "cell_type": "code",
      "metadata": {
        "colab": {
          "base_uri": "https://localhost:8080/"
        },
        "id": "uerm7BqBI2de",
        "outputId": "ca28c71e-7b34-465a-a303-3cae463c5a9a"
      },
      "source": [
        "calc_readability_metrics(' '.join(list(data_test.en_en_filtered.values)))"
      ],
      "execution_count": null,
      "outputs": [
        {
          "output_type": "execute_result",
          "data": {
            "text/plain": [
              "{'avg_slen': 12.83673469387755,\n",
              " 'avg_syl': 2.034862593686123,\n",
              " 'c_share': 4.649102884397002,\n",
              " 'chars': 282865,\n",
              " 'index_fk': 13.427705136108496,\n",
              " 'letters': 219784,\n",
              " 'n_complex_words': 2047,\n",
              " 'n_sentences': 3430,\n",
              " 'n_simple_words': 41983,\n",
              " 'n_syllabes': 89595,\n",
              " 'n_words': 44030,\n",
              " 'spaces': 49875,\n",
              " 'wsyllabes': {'1': 20009,\n",
              "  '2': 10913,\n",
              "  '3': 7270,\n",
              "  '4': 3791,\n",
              "  '5': 1569,\n",
              "  '6': 423,\n",
              "  '7': 37,\n",
              "  '8': 18}}"
            ]
          },
          "metadata": {
            "tags": []
          },
          "execution_count": 26
        }
      ]
    },
    {
      "cell_type": "markdown",
      "metadata": {
        "id": "PenCKmI5fY4z"
      },
      "source": [
        ""
      ]
    },
    {
      "cell_type": "code",
      "metadata": {
        "id": "LaRw8xXjfZEq"
      },
      "source": [
        "with open('/content/drive/MyDrive/MT_sentence_simpl/predictions/model_prediction_en_en_filtered.hyp', 'r') as f:\n",
        "  sentences = [i.strip() for i in f.readlines()]\n",
        "\n",
        "lt = list()\n",
        "st = set()\n",
        "for i in sentences:\n",
        "  if i not in st:\n",
        "    lt.append(i)\n",
        "    st.add(i)\n",
        "\n",
        "with open('/content/model_prediction_en_en_filtered.hyp', 'w') as f:\n",
        "  for i in lt:\n",
        "    f.write(i+'\\n')"
      ],
      "execution_count": null,
      "outputs": []
    },
    {
      "cell_type": "code",
      "metadata": {
        "colab": {
          "base_uri": "https://localhost:8080/"
        },
        "id": "lKC5BQ3rfjEd",
        "outputId": "5180805c-fe4f-4b45-c5cd-765d4adbc9fc"
      },
      "source": [
        "! easse evaluate \\\n",
        "--test_set custom \\\n",
        "--metrics fkgl \\\n",
        "--refs_sents_paths /content/prepared_data/test_ref_data.ref.0,/content/prepared_data/test_ref_data.ref.1,/content/prepared_data/test_ref_data.ref.2,/content/prepared_data/test_ref_data.ref.3,/content/prepared_data/test_ref_data.ref.4 \\\n",
        "--orig_sents_path /content/prepared_data/test_ref_data.src \\\n",
        "--sys_sents_path /content/model_prediction_en_en_filtered.hyp -q"
      ],
      "execution_count": null,
      "outputs": [
        {
          "output_type": "stream",
          "text": [
            "{'fkgl': 8.521, 'quality_estimation': {'Compression ratio': 0.591, 'Sentence splits': 0.99, 'Levenshtein similarity': 0.133, 'Exact copies': 0.0, 'Additions proportion': 0.635, 'Deletions proportion': 0.911, 'Lexical complexity score': 8.217}}\n"
          ],
          "name": "stdout"
        }
      ]
    },
    {
      "cell_type": "code",
      "metadata": {
        "id": "0XCl-YhffwIZ"
      },
      "source": [
        "with open('/content/drive/MyDrive/MT_sentence_simpl/predictions/model_prediction_en_en.hyp', 'r') as f:\n",
        "  sentences = [i.strip() for i in f.readlines()]\n",
        "\n",
        "lt = list()\n",
        "st = set()\n",
        "for i in sentences:\n",
        "  if i not in st:\n",
        "    lt.append(i)\n",
        "    st.add(i)\n",
        "\n",
        "with open('/content/model_prediction_en_en.hyp', 'w') as f:\n",
        "  for i in lt:\n",
        "    f.write(i+'\\n')"
      ],
      "execution_count": null,
      "outputs": []
    },
    {
      "cell_type": "code",
      "metadata": {
        "colab": {
          "base_uri": "https://localhost:8080/"
        },
        "id": "nBOMSeh4fmIz",
        "outputId": "4faf9b44-c232-4067-8f17-ec322172db44"
      },
      "source": [
        "! easse evaluate \\\n",
        "--test_set custom \\\n",
        "--metrics fkgl \\\n",
        "--refs_sents_paths /content/prepared_data/test_ref_data.ref.0,/content/prepared_data/test_ref_data.ref.1,/content/prepared_data/test_ref_data.ref.2,/content/prepared_data/test_ref_data.ref.3,/content/prepared_data/test_ref_data.ref.4 \\\n",
        "--orig_sents_path /content/prepared_data/test_ref_data.src \\\n",
        "--sys_sents_path /content/model_prediction_en_en.hyp -q"
      ],
      "execution_count": null,
      "outputs": [
        {
          "output_type": "stream",
          "text": [
            "{'fkgl': 11.159, 'quality_estimation': {'Compression ratio': 0.929, 'Sentence splits': 1.042, 'Levenshtein similarity': 0.156, 'Exact copies': 0.0, 'Additions proportion': 0.869, 'Deletions proportion': 0.771, 'Lexical complexity score': 8.294}}\n"
          ],
          "name": "stdout"
        }
      ]
    },
    {
      "cell_type": "code",
      "metadata": {
        "id": "6LTGiJE88-jY",
        "colab": {
          "base_uri": "https://localhost:8080/"
        },
        "outputId": "669a5077-a38e-43e0-b9d8-3a5048ddbbf2"
      },
      "source": [
        "import os\n",
        "os.path.isdir('/content/drive/MyDrive/checkpoints_ru_ru_add')"
      ],
      "execution_count": null,
      "outputs": [
        {
          "output_type": "execute_result",
          "data": {
            "text/plain": [
              "False"
            ]
          },
          "metadata": {
            "tags": []
          },
          "execution_count": 5
        }
      ]
    },
    {
      "cell_type": "markdown",
      "metadata": {
        "id": "eKrBRIW8imLE"
      },
      "source": [
        "## Evaluation of amosel trained on mix of ru and ParaPhraser"
      ]
    },
    {
      "cell_type": "markdown",
      "metadata": {
        "id": "bxsnouQflky_"
      },
      "source": [
        "### SARI"
      ]
    },
    {
      "cell_type": "code",
      "metadata": {
        "id": "LL9GZaqmi64R"
      },
      "source": [
        "with open('/content/drive/MyDrive/MT_sentence_simpl/predictions/model_prediction_wiki_15_filtered_epochs.hyp', 'r') as f:\n",
        "  sentences = [i.strip() for i in f.readlines()]\n",
        "\n",
        "lt = list()\n",
        "st = set()\n",
        "for i in sentences:\n",
        "  if i not in st:\n",
        "    lt.append(i)\n",
        "    st.add(i)\n",
        "\n",
        "with open('/content/model_prediction_wiki_15_filtered_epochs.test.hyp', 'w') as f:\n",
        "  for i in lt:\n",
        "    f.write(i+'\\n')"
      ],
      "execution_count": null,
      "outputs": []
    },
    {
      "cell_type": "code",
      "metadata": {
        "colab": {
          "base_uri": "https://localhost:8080/"
        },
        "id": "ocmpKxpqi6-M",
        "outputId": "ef15c432-777e-40d0-eac8-de8f038780af"
      },
      "source": [
        "! easse evaluate \\\n",
        "--test_set custom \\\n",
        "--metrics sari \\\n",
        "--refs_sents_paths /content/prepared_data/test_ref_data.ref.0,/content/prepared_data/test_ref_data.ref.1,/content/prepared_data/test_ref_data.ref.2,/content/prepared_data/test_ref_data.ref.3,/content/prepared_data/test_ref_data.ref.4 \\\n",
        "--orig_sents_path /content/prepared_data/test_ref_data.src \\\n",
        "--sys_sents_path /content/model_prediction_wiki_15_filtered_epochs.test.hyp -q"
      ],
      "execution_count": null,
      "outputs": [
        {
          "output_type": "stream",
          "text": [
            "[nltk_data] Downloading package perluniprops to /root/nltk_data...\n",
            "[nltk_data]   Unzipping misc/perluniprops.zip.\n",
            "[nltk_data] Downloading package stopwords to /root/nltk_data...\n",
            "[nltk_data]   Unzipping corpora/stopwords.zip.\n",
            "{'sari': 34.312, 'quality_estimation': {'Compression ratio': 0.683, 'Sentence splits': 0.997, 'Levenshtein similarity': 0.629, 'Exact copies': 0.007, 'Additions proportion': 0.216, 'Deletions proportion': 0.546, 'Lexical complexity score': 10.732}}\n"
          ],
          "name": "stdout"
        }
      ]
    },
    {
      "cell_type": "markdown",
      "metadata": {
        "id": "wYN_BF0YniAY"
      },
      "source": [
        "### BLEU"
      ]
    },
    {
      "cell_type": "code",
      "metadata": {
        "colab": {
          "base_uri": "https://localhost:8080/"
        },
        "id": "IVwR0vjwnk5G",
        "outputId": "a1ee0a19-2237-413f-f2be-15ac471baae2"
      },
      "source": [
        "# make lists of src, dst\n",
        "src_column, trg_column = \"ru_+_paraphraser\", \"OUTPUT:output\"\n",
        "data_dict = OrderedDict()\n",
        "for ind, row in data_test.iterrows():\n",
        "        source_sentence = row[src_column]\n",
        "        reference_sentence = row[trg_column]\n",
        "        if data_dict.get(source_sentence) is None:\n",
        "            data_dict[source_sentence] = []\n",
        "        data_dict[source_sentence].append(reference_sentence)\n",
        "max_num_reference_sentences = max([len(x) for x in data_dict.values()])\n",
        "\n",
        "src, dst = [i for i in data_dict.keys()], [i for i in data_dict.values()]\n",
        "for i, j in enumerate(src):\n",
        "   if len(dst[i]) < max_num_reference_sentences:\n",
        "    dst[i] = dst[i] + [dst[i][0]]*(max_num_reference_sentences - len(dst[i]))\n",
        "\n",
        "refs = []\n",
        "for j in range(len(dst[1])):\n",
        "  ref = []\n",
        "  for i in dst:\n",
        "    ref.append(i[j])\n",
        "  refs.append(ref)\n",
        "  \n",
        "corpus_bleu(src, refs)\n"
      ],
      "execution_count": null,
      "outputs": [
        {
          "output_type": "execute_result",
          "data": {
            "text/plain": [
              "36.640087511601344"
            ]
          },
          "metadata": {
            "tags": []
          },
          "execution_count": 112
        }
      ]
    },
    {
      "cell_type": "code",
      "metadata": {
        "colab": {
          "base_uri": "https://localhost:8080/"
        },
        "id": "OFb9uzyq7smo",
        "outputId": "91c429dc-5050-489f-e56a-7c180cc257fc"
      },
      "source": [
        "refs = []\n",
        "for i, j in data_dict.items():\n",
        "  refs.append(j)\n",
        "\n",
        "nltk.translate.bleu_score.corpus_bleu(refs, src)"
      ],
      "execution_count": null,
      "outputs": [
        {
          "output_type": "execute_result",
          "data": {
            "text/plain": [
              "0.7649725573817129"
            ]
          },
          "metadata": {
            "tags": []
          },
          "execution_count": 113
        }
      ]
    },
    {
      "cell_type": "markdown",
      "metadata": {
        "id": "GI0BajEmoPan"
      },
      "source": [
        "## FKLG"
      ]
    },
    {
      "cell_type": "code",
      "metadata": {
        "colab": {
          "base_uri": "https://localhost:8080/"
        },
        "id": "OrWKKd9loPjt",
        "outputId": "0c6b3b60-8d9a-437d-8fcb-70c63d3f0a14"
      },
      "source": [
        "calc_readability_metrics(' '.join(list(data_test['ru_+_paraphraser'])))"
      ],
      "execution_count": null,
      "outputs": [
        {
          "output_type": "execute_result",
          "data": {
            "text/plain": [
              "{'avg_slen': 11.279015918958033,\n",
              " 'avg_syl': 2.870127537273217,\n",
              " 'c_share': 15.66373271061613,\n",
              " 'chars': 316048,\n",
              " 'index_SMOG_rus': 11.801469582022179,\n",
              " 'index_ari_rus': 14.284347506030898,\n",
              " 'index_cl_rus': 13.608938643537165,\n",
              " 'index_dc_rus': 11.725551802135648,\n",
              " 'index_fk_rus': 13.842538091508338,\n",
              " 'letters': 262453,\n",
              " 'n_complex_words': 6104,\n",
              " 'n_sentences': 3455,\n",
              " 'n_simple_words': 30856,\n",
              " 'n_syllabes': 111846,\n",
              " 'n_words': 38969,\n",
              " 'spaces': 39879,\n",
              " 'wsyllabes': {'1': 6047,\n",
              "  '10': 30,\n",
              "  '11': 6,\n",
              "  '12': 1,\n",
              "  '2': 8778,\n",
              "  '3': 9453,\n",
              "  '4': 6578,\n",
              "  '5': 3917,\n",
              "  '6': 1586,\n",
              "  '7': 441,\n",
              "  '8': 101,\n",
              "  '9': 22}}"
            ]
          },
          "metadata": {
            "tags": []
          },
          "execution_count": 24
        }
      ]
    },
    {
      "cell_type": "markdown",
      "metadata": {
        "id": "kxzq31VJosKU"
      },
      "source": [
        "## Cosine similarity"
      ]
    },
    {
      "cell_type": "code",
      "metadata": {
        "colab": {
          "base_uri": "https://localhost:8080/"
        },
        "id": "LrmTlyMPosWV",
        "outputId": "e0492a1c-b839-41dd-f1da-6b6856427169"
      },
      "source": [
        "calc_cos_sim(data_test, model, tok, 'INPUT:source', 'ru_+_paraphraser', 'cos_sim_ru_p')\n",
        "data_test.cos_sim_ru_p.mean()\n"
      ],
      "execution_count": null,
      "outputs": [
        {
          "output_type": "execute_result",
          "data": {
            "text/plain": [
              "0.9596704395637747"
            ]
          },
          "metadata": {
            "tags": []
          },
          "execution_count": 27
        }
      ]
    },
    {
      "cell_type": "markdown",
      "metadata": {
        "id": "7uN_3gZcosi-"
      },
      "source": [
        "## Grammar"
      ]
    },
    {
      "cell_type": "code",
      "metadata": {
        "colab": {
          "base_uri": "https://localhost:8080/"
        },
        "id": "J6ETSRkBosw0",
        "outputId": "c12bfa58-ba37-4a02-e00f-7817a2792e17"
      },
      "source": [
        "errors = get_mistakes_summary(data_test, 'ru_+_paraphraser')\n",
        "errors"
      ],
      "execution_count": null,
      "outputs": [
        {
          "output_type": "execute_result",
          "data": {
            "text/plain": [
              "{'CASING': 24,\n",
              " 'GRAMMAR': 20,\n",
              " 'LOGIC': 27,\n",
              " 'PUNCTUATION': 18,\n",
              " 'STYLE': 6,\n",
              " 'TYPOGRAPHY': 194,\n",
              " 'TYPOS': 581}"
            ]
          },
          "metadata": {
            "tags": []
          },
          "execution_count": 30
        }
      ]
    },
    {
      "cell_type": "markdown",
      "metadata": {
        "id": "IRkB4cJHisDg"
      },
      "source": [
        "## Evaluation of amosel trained with control tokens\n"
      ]
    },
    {
      "cell_type": "markdown",
      "metadata": {
        "id": "y_RF8YaRqrCx"
      },
      "source": [
        "### SARI"
      ]
    },
    {
      "cell_type": "code",
      "metadata": {
        "id": "RJUiuRTaiyUJ"
      },
      "source": [
        "with open('/content/drive/MyDrive/MT_sentence_simpl/predictions/model_prediction_con_tok_38sari.hyp', 'r') as f:\n",
        "  sentences = [i.strip() for i in f.readlines()]\n",
        "\n",
        "lt = list()\n",
        "st = set()\n",
        "for i in sentences:\n",
        "  if i not in st:\n",
        "    lt.append(i)\n",
        "    st.add(i)\n",
        "\n",
        "with open('/content/model_prediction_con_tok_38sari.test.hyp', 'w') as f:\n",
        "  for i in lt:\n",
        "    f.write(i+'\\n')\n"
      ],
      "execution_count": null,
      "outputs": []
    },
    {
      "cell_type": "code",
      "metadata": {
        "colab": {
          "base_uri": "https://localhost:8080/"
        },
        "id": "yBQJ4YZvqwls",
        "outputId": "18a1fdf0-c41d-4658-f6a0-422138fb5506"
      },
      "source": [
        "! easse evaluate \\\n",
        "--test_set custom \\\n",
        "--metrics sari \\\n",
        "--refs_sents_paths /content/prepared_data/test_ref_data.ref.0,/content/prepared_data/test_ref_data.ref.1,/content/prepared_data/test_ref_data.ref.2,/content/prepared_data/test_ref_data.ref.3,/content/prepared_data/test_ref_data.ref.4 \\\n",
        "--orig_sents_path /content/prepared_data/test_ref_data.src \\\n",
        "--sys_sents_path /content/model_prediction_con_tok_38sari.test.hyp -q\n"
      ],
      "execution_count": null,
      "outputs": [
        {
          "output_type": "stream",
          "text": [
            "{'sari': 38.823, 'quality_estimation': {'Compression ratio': 0.932, 'Sentence splits': 1.372, 'Levenshtein similarity': 0.464, 'Exact copies': 0.0, 'Additions proportion': 0.593, 'Deletions proportion': 0.585, 'Lexical complexity score': 10.489}}\n"
          ],
          "name": "stdout"
        }
      ]
    },
    {
      "cell_type": "markdown",
      "metadata": {
        "id": "494Ux00jraYo"
      },
      "source": [
        "### BLEU"
      ]
    },
    {
      "cell_type": "code",
      "metadata": {
        "colab": {
          "base_uri": "https://localhost:8080/"
        },
        "id": "KIrqqPLJrdF2",
        "outputId": "0baa60a2-e8d4-46b0-af27-24ed037edf96"
      },
      "source": [
        "# make lists of src, dst\n",
        "src_column, trg_column = \"con_tok\", \"OUTPUT:output\"\n",
        "data_dict = OrderedDict()\n",
        "for ind, row in data_test.iterrows():\n",
        "        source_sentence = row[src_column]\n",
        "        reference_sentence = row[trg_column]\n",
        "        if data_dict.get(source_sentence) is None:\n",
        "            data_dict[source_sentence] = []\n",
        "        data_dict[source_sentence].append(reference_sentence)\n",
        "max_num_reference_sentences = max([len(x) for x in data_dict.values()])\n",
        "\n",
        "src, dst = [i for i in data_dict.keys()], [i for i in data_dict.values()]\n",
        "for i, j in enumerate(src):\n",
        "   if len(dst[i]) < max_num_reference_sentences:\n",
        "    dst[i] = dst[i] + [dst[i][0]]*(max_num_reference_sentences - len(dst[i]))\n",
        "\n",
        "refs = []\n",
        "for j in range(len(dst[1])):\n",
        "  ref = []\n",
        "  for i in dst:\n",
        "    ref.append(i[j])\n",
        "  refs.append(ref)\n",
        "  \n",
        "corpus_bleu(src, refs)"
      ],
      "execution_count": null,
      "outputs": [
        {
          "output_type": "execute_result",
          "data": {
            "text/plain": [
              "8.697924628913844"
            ]
          },
          "metadata": {
            "tags": []
          },
          "execution_count": 114
        }
      ]
    },
    {
      "cell_type": "code",
      "metadata": {
        "colab": {
          "base_uri": "https://localhost:8080/"
        },
        "id": "KzKZDf1--XHc",
        "outputId": "b3f3e784-71bc-4d9e-f121-0638b43dc132"
      },
      "source": [
        "sacrebleu.corpus_bleu(src, refs)"
      ],
      "execution_count": null,
      "outputs": [
        {
          "output_type": "execute_result",
          "data": {
            "text/plain": [
              "BLEU = 8.70 33.5/11.8/5.6/2.6 (BP = 1.000 ratio = 1.254 hyp_len = 21478 ref_len = 17125)"
            ]
          },
          "metadata": {
            "tags": []
          },
          "execution_count": 115
        }
      ]
    },
    {
      "cell_type": "code",
      "metadata": {
        "colab": {
          "base_uri": "https://localhost:8080/"
        },
        "id": "1KU2VmhZ7pxz",
        "outputId": "4b385a4d-5fd6-4d47-bb6a-6d53767fb311"
      },
      "source": [
        "refs = []\n",
        "for i, j in data_dict.items():\n",
        "  refs.append(j)\n",
        "\n",
        "nltk.translate.bleu_score.corpus_bleu(refs, src)"
      ],
      "execution_count": null,
      "outputs": [
        {
          "output_type": "execute_result",
          "data": {
            "text/plain": [
              "0.46781873246085204"
            ]
          },
          "metadata": {
            "tags": []
          },
          "execution_count": 116
        }
      ]
    },
    {
      "cell_type": "markdown",
      "metadata": {
        "id": "3FqIEaCmsY7k"
      },
      "source": [
        "## FKLG"
      ]
    },
    {
      "cell_type": "code",
      "metadata": {
        "colab": {
          "base_uri": "https://localhost:8080/"
        },
        "id": "kxWCJ-_Brhzj",
        "outputId": "6a97d805-5875-4c2f-c22b-1c614d065762"
      },
      "source": [
        "calc_readability_metrics(' '.join(list(data_test.con_tok)))\n"
      ],
      "execution_count": null,
      "outputs": [
        {
          "output_type": "execute_result",
          "data": {
            "text/plain": [
              "{'avg_slen': 12.230621805792163,\n",
              " 'avg_syl': 2.653991468616697,\n",
              " 'c_share': 12.27474536432489,\n",
              " 'chars': 439010,\n",
              " 'index_SMOG_rus': 10.88276840793238,\n",
              " 'index_ari_rus': 10.655763674381411,\n",
              " 'index_cl_rus': 10.427804474623489,\n",
              " 'index_dc_rus': 10.1146191940886,\n",
              " 'index_fk_rus': 11.076016588599003,\n",
              " 'letters': 351079,\n",
              " 'n_complex_words': 7050,\n",
              " 'n_sentences': 4696,\n",
              " 'n_simple_words': 47192,\n",
              " 'n_syllabes': 152432,\n",
              " 'n_words': 57435,\n",
              " 'spaces': 60392,\n",
              " 'wsyllabes': {'1': 10632,\n",
              "  '10': 26,\n",
              "  '11': 3,\n",
              "  '12': 1,\n",
              "  '2': 15318,\n",
              "  '3': 12747,\n",
              "  '4': 8495,\n",
              "  '5': 4329,\n",
              "  '6': 2069,\n",
              "  '7': 452,\n",
              "  '8': 115,\n",
              "  '9': 55}}"
            ]
          },
          "metadata": {
            "tags": []
          },
          "execution_count": 37
        }
      ]
    },
    {
      "cell_type": "markdown",
      "metadata": {
        "id": "OUWhRo2esl8v"
      },
      "source": [
        "## Cosine similarity"
      ]
    },
    {
      "cell_type": "code",
      "metadata": {
        "colab": {
          "base_uri": "https://localhost:8080/"
        },
        "id": "ZLx40NZmsiNe",
        "outputId": "09e223d6-47fd-4c0c-b0ad-1c0b3cf948b3"
      },
      "source": [
        "calc_cos_sim(data_test, model, tok, 'INPUT:source', 'con_tok', 'cos_sim_con_tok')\n",
        "data_test.cos_sim_con_tok.mean()"
      ],
      "execution_count": null,
      "outputs": [
        {
          "output_type": "execute_result",
          "data": {
            "text/plain": [
              "0.9382814637314763"
            ]
          },
          "metadata": {
            "tags": []
          },
          "execution_count": 38
        }
      ]
    },
    {
      "cell_type": "markdown",
      "metadata": {
        "id": "cNR5_L1-swgX"
      },
      "source": [
        "### Grammar"
      ]
    },
    {
      "cell_type": "code",
      "metadata": {
        "colab": {
          "base_uri": "https://localhost:8080/"
        },
        "id": "-R-lBZtjsu3z",
        "outputId": "7daf0caf-c798-43e8-f4d0-0b999d3091d2"
      },
      "source": [
        "errors = get_mistakes_summary(data_test, 'con_tok')\n",
        "errors"
      ],
      "execution_count": null,
      "outputs": [
        {
          "output_type": "execute_result",
          "data": {
            "text/plain": [
              "{'CASING': 21,\n",
              " 'GRAMMAR': 41,\n",
              " 'LOGIC': 6,\n",
              " 'MISC': 12,\n",
              " 'PUNCTUATION': 40,\n",
              " 'STYLE': 46,\n",
              " 'TYPOGRAPHY': 837,\n",
              " 'TYPOS': 1058}"
            ]
          },
          "metadata": {
            "tags": []
          },
          "execution_count": 39
        }
      ]
    }
  ]
}